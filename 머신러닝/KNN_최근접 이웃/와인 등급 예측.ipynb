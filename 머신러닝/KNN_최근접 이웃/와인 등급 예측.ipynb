{
 "cells": [
  {
   "cell_type": "code",
   "execution_count": 59,
   "metadata": {
    "collapsed": true,
    "pycharm": {
     "name": "#%%\n"
    }
   },
   "outputs": [],
   "source": [
    "import itertools\n",
    "import platform\n",
    "import matplotlib\n",
    "import pandas as pd\n",
    "import matplotlib.pyplot as plt\n",
    "from matplotlib import font_manager, rc\n",
    "import seaborn as sns\n",
    "%precision 3\n",
    "from matplotlib import pyplot as plt\n",
    "%matplotlib inline\n",
    "#그래프를 주피터 놋북에 그리기 위해\n",
    "import numpy as np\n",
    "import copy\n",
    "from matplotlib import ticker\n",
    "from scipy.stats import probplot\n",
    "from scipy import stats\n",
    "import collections\n",
    "import itertools\n",
    "import math\n",
    "#from varname import nameof\n",
    "import sys\n",
    "from scipy import stats\n",
    "from scipy.stats import bernoulli\n",
    "import scipy\n",
    "from collections import deque\n",
    "from sympy import Symbol, solve\n",
    "import matplotlib.patches as patches\n",
    "\n",
    "\n",
    "##################머신러닝 모듈 ################\n",
    "\n",
    "from sklearn.model_selection import train_test_split #사이킷런 import\n",
    "from sklearn.linear_model import LinearRegression\n",
    "\n",
    "#히스토그램 그리기\n",
    "# Window\n",
    "if platform.system() == 'Windows':\n",
    "    matplotlib.rc('font', family='Malgun Gothic')\n",
    "elif platform.system() == 'Darwin': # Mac\n",
    "    matplotlib.rc('font', family='AppleGothic')\n",
    "else: #linux\n",
    "    matplotlib.rc('font', family='NanumGothic')\n",
    "\n",
    "# 그래프에 마이너스 표시가 되도록 변경\n",
    "matplotlib.rcParams['axes.unicode_minus'] = False\n",
    "\n",
    "# 한글 폰트 설정\n",
    "font_location = 'C:/Windows/Fonts/MALGUNSL.TTF' #맑은고딕\n",
    "font_name = font_manager.FontProperties(fname=font_location).get_name()\n",
    "rc('font',family=font_name)\n"
   ]
  },
  {
   "cell_type": "code",
   "execution_count": 60,
   "outputs": [
    {
     "data": {
      "text/plain": "   alcohol  malic_acid   ash  alcalinity_of_ash  magnesium  total_phenols  \\\n0    14.23        1.71  2.43               15.6        127           2.80   \n1      NaN        1.78  2.14               11.2        100           2.65   \n2    13.16        2.36  2.67               18.6        101           2.80   \n3    14.37        1.95  2.50               16.8        113           3.85   \n4    13.24        2.59  2.87               21.0        118           2.80   \n\n   flavanoids  nonflavanoid_phenols  proanthocyanins  color_intensity   hue  \\\n0        3.06                  0.28             2.29             5.64  1.04   \n1        2.76                  0.26             1.28             4.38  1.05   \n2        3.24                  0.30             2.81             5.68  1.03   \n3        3.49                  0.24             2.18             7.80  0.86   \n4        2.69                  0.39             1.82             4.32  1.04   \n\n   od280/od315_of_diluted_wines  proline  class  \n0                          3.92     1065      0  \n1                          3.40     1050      0  \n2                          3.17     1185      0  \n3                          3.45     1480      0  \n4                          2.93      735      0  ",
      "text/html": "<div>\n<style scoped>\n    .dataframe tbody tr th:only-of-type {\n        vertical-align: middle;\n    }\n\n    .dataframe tbody tr th {\n        vertical-align: top;\n    }\n\n    .dataframe thead th {\n        text-align: right;\n    }\n</style>\n<table border=\"1\" class=\"dataframe\">\n  <thead>\n    <tr style=\"text-align: right;\">\n      <th></th>\n      <th>alcohol</th>\n      <th>malic_acid</th>\n      <th>ash</th>\n      <th>alcalinity_of_ash</th>\n      <th>magnesium</th>\n      <th>total_phenols</th>\n      <th>flavanoids</th>\n      <th>nonflavanoid_phenols</th>\n      <th>proanthocyanins</th>\n      <th>color_intensity</th>\n      <th>hue</th>\n      <th>od280/od315_of_diluted_wines</th>\n      <th>proline</th>\n      <th>class</th>\n    </tr>\n  </thead>\n  <tbody>\n    <tr>\n      <th>0</th>\n      <td>14.23</td>\n      <td>1.71</td>\n      <td>2.43</td>\n      <td>15.6</td>\n      <td>127</td>\n      <td>2.80</td>\n      <td>3.06</td>\n      <td>0.28</td>\n      <td>2.29</td>\n      <td>5.64</td>\n      <td>1.04</td>\n      <td>3.92</td>\n      <td>1065</td>\n      <td>0</td>\n    </tr>\n    <tr>\n      <th>1</th>\n      <td>NaN</td>\n      <td>1.78</td>\n      <td>2.14</td>\n      <td>11.2</td>\n      <td>100</td>\n      <td>2.65</td>\n      <td>2.76</td>\n      <td>0.26</td>\n      <td>1.28</td>\n      <td>4.38</td>\n      <td>1.05</td>\n      <td>3.40</td>\n      <td>1050</td>\n      <td>0</td>\n    </tr>\n    <tr>\n      <th>2</th>\n      <td>13.16</td>\n      <td>2.36</td>\n      <td>2.67</td>\n      <td>18.6</td>\n      <td>101</td>\n      <td>2.80</td>\n      <td>3.24</td>\n      <td>0.30</td>\n      <td>2.81</td>\n      <td>5.68</td>\n      <td>1.03</td>\n      <td>3.17</td>\n      <td>1185</td>\n      <td>0</td>\n    </tr>\n    <tr>\n      <th>3</th>\n      <td>14.37</td>\n      <td>1.95</td>\n      <td>2.50</td>\n      <td>16.8</td>\n      <td>113</td>\n      <td>3.85</td>\n      <td>3.49</td>\n      <td>0.24</td>\n      <td>2.18</td>\n      <td>7.80</td>\n      <td>0.86</td>\n      <td>3.45</td>\n      <td>1480</td>\n      <td>0</td>\n    </tr>\n    <tr>\n      <th>4</th>\n      <td>13.24</td>\n      <td>2.59</td>\n      <td>2.87</td>\n      <td>21.0</td>\n      <td>118</td>\n      <td>2.80</td>\n      <td>2.69</td>\n      <td>0.39</td>\n      <td>1.82</td>\n      <td>4.32</td>\n      <td>1.04</td>\n      <td>2.93</td>\n      <td>735</td>\n      <td>0</td>\n    </tr>\n  </tbody>\n</table>\n</div>"
     },
     "execution_count": 60,
     "metadata": {},
     "output_type": "execute_result"
    }
   ],
   "source": [
    "#와인 등급 예측하기\n",
    "\n",
    "file_url = \"https://media.githubusercontent.com/media/musthave-ML10/data_source/main/wine.csv\"\n",
    "\n",
    "data = pd.read_csv(file_url)\n",
    "\n",
    "data.head()"
   ],
   "metadata": {
    "collapsed": false,
    "pycharm": {
     "name": "#%%\n"
    }
   }
  },
  {
   "cell_type": "code",
   "execution_count": 61,
   "outputs": [
    {
     "name": "stdout",
     "output_type": "stream",
     "text": [
      "<class 'pandas.core.frame.DataFrame'>\n",
      "RangeIndex: 178 entries, 0 to 177\n",
      "Data columns (total 14 columns):\n",
      " #   Column                        Non-Null Count  Dtype  \n",
      "---  ------                        --------------  -----  \n",
      " 0   alcohol                       176 non-null    float64\n",
      " 1   malic_acid                    178 non-null    float64\n",
      " 2   ash                           178 non-null    float64\n",
      " 3   alcalinity_of_ash             178 non-null    float64\n",
      " 4   magnesium                     178 non-null    int64  \n",
      " 5   total_phenols                 178 non-null    float64\n",
      " 6   flavanoids                    178 non-null    float64\n",
      " 7   nonflavanoid_phenols          173 non-null    float64\n",
      " 8   proanthocyanins               178 non-null    float64\n",
      " 9   color_intensity               178 non-null    float64\n",
      " 10  hue                           178 non-null    float64\n",
      " 11  od280/od315_of_diluted_wines  178 non-null    float64\n",
      " 12  proline                       178 non-null    int64  \n",
      " 13  class                         178 non-null    int64  \n",
      "dtypes: float64(11), int64(3)\n",
      "memory usage: 19.6 KB\n"
     ]
    }
   ],
   "source": [
    "data.info()"
   ],
   "metadata": {
    "collapsed": false,
    "pycharm": {
     "name": "#%%\n"
    }
   }
  },
  {
   "cell_type": "code",
   "execution_count": 62,
   "outputs": [
    {
     "data": {
      "text/plain": "          alcohol  malic_acid         ash  alcalinity_of_ash   magnesium  \\\ncount  176.000000  178.000000  178.000000         178.000000  178.000000   \nmean    12.989091    2.336348    2.366517          19.494944   99.741573   \nstd      0.804431    1.117146    0.274344           3.339564   14.282484   \nmin     11.030000    0.740000    1.360000          10.600000   70.000000   \n25%     12.355000    1.602500    2.210000          17.200000   88.000000   \n50%     13.050000    1.865000    2.360000          19.500000   98.000000   \n75%     13.672500    3.082500    2.557500          21.500000  107.000000   \nmax     14.750000    5.800000    3.230000          30.000000  162.000000   \n\n       total_phenols  flavanoids  nonflavanoid_phenols  proanthocyanins  \\\ncount     178.000000  178.000000            173.000000       178.000000   \nmean        2.295112    2.029270              0.362370         1.590899   \nstd         0.625851    0.998859              0.126153         0.572359   \nmin         0.980000    0.340000              0.130000         0.410000   \n25%         1.742500    1.205000              0.260000         1.250000   \n50%         2.355000    2.135000              0.340000         1.555000   \n75%         2.800000    2.875000              0.450000         1.950000   \nmax         3.880000    5.080000              0.660000         3.580000   \n\n       color_intensity         hue  od280/od315_of_diluted_wines      proline  \\\ncount       178.000000  178.000000                    178.000000   178.000000   \nmean          5.058090    0.957449                      2.611685   746.893258   \nstd           2.318286    0.228572                      0.709990   314.907474   \nmin           1.280000    0.480000                      1.270000   278.000000   \n25%           3.220000    0.782500                      1.937500   500.500000   \n50%           4.690000    0.965000                      2.780000   673.500000   \n75%           6.200000    1.120000                      3.170000   985.000000   \nmax          13.000000    1.710000                      4.000000  1680.000000   \n\n            class  \ncount  178.000000  \nmean     0.938202  \nstd      0.775035  \nmin      0.000000  \n25%      0.000000  \n50%      1.000000  \n75%      2.000000  \nmax      2.000000  ",
      "text/html": "<div>\n<style scoped>\n    .dataframe tbody tr th:only-of-type {\n        vertical-align: middle;\n    }\n\n    .dataframe tbody tr th {\n        vertical-align: top;\n    }\n\n    .dataframe thead th {\n        text-align: right;\n    }\n</style>\n<table border=\"1\" class=\"dataframe\">\n  <thead>\n    <tr style=\"text-align: right;\">\n      <th></th>\n      <th>alcohol</th>\n      <th>malic_acid</th>\n      <th>ash</th>\n      <th>alcalinity_of_ash</th>\n      <th>magnesium</th>\n      <th>total_phenols</th>\n      <th>flavanoids</th>\n      <th>nonflavanoid_phenols</th>\n      <th>proanthocyanins</th>\n      <th>color_intensity</th>\n      <th>hue</th>\n      <th>od280/od315_of_diluted_wines</th>\n      <th>proline</th>\n      <th>class</th>\n    </tr>\n  </thead>\n  <tbody>\n    <tr>\n      <th>count</th>\n      <td>176.000000</td>\n      <td>178.000000</td>\n      <td>178.000000</td>\n      <td>178.000000</td>\n      <td>178.000000</td>\n      <td>178.000000</td>\n      <td>178.000000</td>\n      <td>173.000000</td>\n      <td>178.000000</td>\n      <td>178.000000</td>\n      <td>178.000000</td>\n      <td>178.000000</td>\n      <td>178.000000</td>\n      <td>178.000000</td>\n    </tr>\n    <tr>\n      <th>mean</th>\n      <td>12.989091</td>\n      <td>2.336348</td>\n      <td>2.366517</td>\n      <td>19.494944</td>\n      <td>99.741573</td>\n      <td>2.295112</td>\n      <td>2.029270</td>\n      <td>0.362370</td>\n      <td>1.590899</td>\n      <td>5.058090</td>\n      <td>0.957449</td>\n      <td>2.611685</td>\n      <td>746.893258</td>\n      <td>0.938202</td>\n    </tr>\n    <tr>\n      <th>std</th>\n      <td>0.804431</td>\n      <td>1.117146</td>\n      <td>0.274344</td>\n      <td>3.339564</td>\n      <td>14.282484</td>\n      <td>0.625851</td>\n      <td>0.998859</td>\n      <td>0.126153</td>\n      <td>0.572359</td>\n      <td>2.318286</td>\n      <td>0.228572</td>\n      <td>0.709990</td>\n      <td>314.907474</td>\n      <td>0.775035</td>\n    </tr>\n    <tr>\n      <th>min</th>\n      <td>11.030000</td>\n      <td>0.740000</td>\n      <td>1.360000</td>\n      <td>10.600000</td>\n      <td>70.000000</td>\n      <td>0.980000</td>\n      <td>0.340000</td>\n      <td>0.130000</td>\n      <td>0.410000</td>\n      <td>1.280000</td>\n      <td>0.480000</td>\n      <td>1.270000</td>\n      <td>278.000000</td>\n      <td>0.000000</td>\n    </tr>\n    <tr>\n      <th>25%</th>\n      <td>12.355000</td>\n      <td>1.602500</td>\n      <td>2.210000</td>\n      <td>17.200000</td>\n      <td>88.000000</td>\n      <td>1.742500</td>\n      <td>1.205000</td>\n      <td>0.260000</td>\n      <td>1.250000</td>\n      <td>3.220000</td>\n      <td>0.782500</td>\n      <td>1.937500</td>\n      <td>500.500000</td>\n      <td>0.000000</td>\n    </tr>\n    <tr>\n      <th>50%</th>\n      <td>13.050000</td>\n      <td>1.865000</td>\n      <td>2.360000</td>\n      <td>19.500000</td>\n      <td>98.000000</td>\n      <td>2.355000</td>\n      <td>2.135000</td>\n      <td>0.340000</td>\n      <td>1.555000</td>\n      <td>4.690000</td>\n      <td>0.965000</td>\n      <td>2.780000</td>\n      <td>673.500000</td>\n      <td>1.000000</td>\n    </tr>\n    <tr>\n      <th>75%</th>\n      <td>13.672500</td>\n      <td>3.082500</td>\n      <td>2.557500</td>\n      <td>21.500000</td>\n      <td>107.000000</td>\n      <td>2.800000</td>\n      <td>2.875000</td>\n      <td>0.450000</td>\n      <td>1.950000</td>\n      <td>6.200000</td>\n      <td>1.120000</td>\n      <td>3.170000</td>\n      <td>985.000000</td>\n      <td>2.000000</td>\n    </tr>\n    <tr>\n      <th>max</th>\n      <td>14.750000</td>\n      <td>5.800000</td>\n      <td>3.230000</td>\n      <td>30.000000</td>\n      <td>162.000000</td>\n      <td>3.880000</td>\n      <td>5.080000</td>\n      <td>0.660000</td>\n      <td>3.580000</td>\n      <td>13.000000</td>\n      <td>1.710000</td>\n      <td>4.000000</td>\n      <td>1680.000000</td>\n      <td>2.000000</td>\n    </tr>\n  </tbody>\n</table>\n</div>"
     },
     "execution_count": 62,
     "metadata": {},
     "output_type": "execute_result"
    }
   ],
   "source": [
    "#KNN은 거리기반 알고리즘\n",
    "\n",
    "data.describe()\n",
    "\n",
    "#nonflavanoid_phenols 변수에 결측치 존재함을 알 수 있다. ==> count 부분이 178이 아닌 173\n",
    "\n",
    "#nonflavanoid_phenols 변수의 최소값 0.13 최대값 0.66\n",
    "\n",
    "#proline은 최솟값이 278이고 최대값이 1680이다. ==> 변수의 스케일이 다르다. ==> 스케일링을 통한 해결\n",
    "\n",
    "\n",
    "\n",
    "#아웃라이어(이상값) ==> color_intensity는 min부터 75%까지는 고른 패턴으로 증가하다가 75%와 max를 비교해보면 6.2에서 13으로 급격하게 증가한다."
   ],
   "metadata": {
    "collapsed": false,
    "pycharm": {
     "name": "#%%\n"
    }
   }
  },
  {
   "cell_type": "code",
   "execution_count": 63,
   "outputs": [
    {
     "data": {
      "text/plain": "array([0, 1, 2], dtype=int64)"
     },
     "execution_count": 63,
     "metadata": {},
     "output_type": "execute_result"
    }
   ],
   "source": [
    "data['class'].unique() #목표 변수의 고윳값 출력 ==> 0과 1로 이루어진 이진변수가 아닌 3개이상으로 이루어진 범주형 변수"
   ],
   "metadata": {
    "collapsed": false,
    "pycharm": {
     "name": "#%%\n"
    }
   }
  },
  {
   "cell_type": "code",
   "execution_count": 64,
   "outputs": [
    {
     "data": {
      "text/plain": "3"
     },
     "execution_count": 64,
     "metadata": {},
     "output_type": "execute_result"
    }
   ],
   "source": [
    "data['class'].nunique()  #고윳값의 갯수 ==> 와인을 3개의 등급으로 나눈다."
   ],
   "metadata": {
    "collapsed": false,
    "pycharm": {
     "name": "#%%\n"
    }
   }
  },
  {
   "cell_type": "code",
   "execution_count": 65,
   "outputs": [
    {
     "data": {
      "text/plain": "1    71\n0    59\n2    48\nName: class, dtype: int64"
     },
     "execution_count": 65,
     "metadata": {},
     "output_type": "execute_result"
    }
   ],
   "source": [
    "data['class'].value_counts() #각 고윳값에 해당하는 개수 출력"
   ],
   "metadata": {
    "collapsed": false,
    "pycharm": {
     "name": "#%%\n"
    }
   }
  },
  {
   "cell_type": "code",
   "execution_count": 66,
   "outputs": [
    {
     "data": {
      "text/plain": "<Figure size 1080x576 with 1 Axes>",
      "image/png": "[encoded data removed]"
     },
     "metadata": {
      "needs_background": "light"
     },
     "output_type": "display_data"
    }
   ],
   "source": [
    "fig = plt.figure(figsize = (15,8))\n",
    "\n",
    "ax = sns.barplot(x = data['class'].value_counts().index , y=data['class'].value_counts())"
   ],
   "metadata": {
    "collapsed": false,
    "pycharm": {
     "name": "#%%\n"
    }
   }
  },
  {
   "cell_type": "code",
   "execution_count": 67,
   "outputs": [
    {
     "name": "stderr",
     "output_type": "stream",
     "text": [
      "C:\\Users\\andyp\\anaconda3\\lib\\site-packages\\seaborn\\_decorators.py:36: FutureWarning: Pass the following variable as a keyword arg: x. From version 0.12, the only valid positional argument will be `data`, and passing other arguments without an explicit keyword will result in an error or misinterpretation.\n",
      "  warnings.warn(\n"
     ]
    },
    {
     "data": {
      "text/plain": "<Figure size 1080x576 with 1 Axes>",
      "image/png": "[encoded data removed]"
     },
     "metadata": {
      "needs_background": "light"
     },
     "output_type": "display_data"
    }
   ],
   "source": [
    "fig = plt.figure(figsize = (15,8))\n",
    "\n",
    "ax = sns.countplot(data['class'])"
   ],
   "metadata": {
    "collapsed": false,
    "pycharm": {
     "name": "#%%\n"
    }
   }
  },
  {
   "cell_type": "code",
   "execution_count": 68,
   "outputs": [
    {
     "data": {
      "text/plain": "     alcohol  malic_acid    ash  alcalinity_of_ash  magnesium  total_phenols  \\\n0      False       False  False              False      False          False   \n1       True       False  False              False      False          False   \n2      False       False  False              False      False          False   \n3      False       False  False              False      False          False   \n4      False       False  False              False      False          False   \n..       ...         ...    ...                ...        ...            ...   \n173    False       False  False              False      False          False   \n174    False       False  False              False      False          False   \n175    False       False  False              False      False          False   \n176    False       False  False              False      False          False   \n177    False       False  False              False      False          False   \n\n     flavanoids  nonflavanoid_phenols  proanthocyanins  color_intensity  \\\n0         False                 False            False            False   \n1         False                 False            False            False   \n2         False                 False            False            False   \n3         False                 False            False            False   \n4         False                 False            False            False   \n..          ...                   ...              ...              ...   \n173       False                 False            False            False   \n174       False                 False            False            False   \n175       False                 False            False            False   \n176       False                 False            False            False   \n177       False                 False            False            False   \n\n       hue  od280/od315_of_diluted_wines  proline  class  \n0    False                         False    False  False  \n1    False                         False    False  False  \n2    False                         False    False  False  \n3    False                         False    False  False  \n4    False                         False    False  False  \n..     ...                           ...      ...    ...  \n173  False                         False    False  False  \n174  False                         False    False  False  \n175  False                         False    False  False  \n176  False                         False    False  False  \n177  False                         False    False  False  \n\n[178 rows x 14 columns]",
      "text/html": "<div>\n<style scoped>\n    .dataframe tbody tr th:only-of-type {\n        vertical-align: middle;\n    }\n\n    .dataframe tbody tr th {\n        vertical-align: top;\n    }\n\n    .dataframe thead th {\n        text-align: right;\n    }\n</style>\n<table border=\"1\" class=\"dataframe\">\n  <thead>\n    <tr style=\"text-align: right;\">\n      <th></th>\n      <th>alcohol</th>\n      <th>malic_acid</th>\n      <th>ash</th>\n      <th>alcalinity_of_ash</th>\n      <th>magnesium</th>\n      <th>total_phenols</th>\n      <th>flavanoids</th>\n      <th>nonflavanoid_phenols</th>\n      <th>proanthocyanins</th>\n      <th>color_intensity</th>\n      <th>hue</th>\n      <th>od280/od315_of_diluted_wines</th>\n      <th>proline</th>\n      <th>class</th>\n    </tr>\n  </thead>\n  <tbody>\n    <tr>\n      <th>0</th>\n      <td>False</td>\n      <td>False</td>\n      <td>False</td>\n      <td>False</td>\n      <td>False</td>\n      <td>False</td>\n      <td>False</td>\n      <td>False</td>\n      <td>False</td>\n      <td>False</td>\n      <td>False</td>\n      <td>False</td>\n      <td>False</td>\n      <td>False</td>\n    </tr>\n    <tr>\n      <th>1</th>\n      <td>True</td>\n      <td>False</td>\n      <td>False</td>\n      <td>False</td>\n      <td>False</td>\n      <td>False</td>\n      <td>False</td>\n      <td>False</td>\n      <td>False</td>\n      <td>False</td>\n      <td>False</td>\n      <td>False</td>\n      <td>False</td>\n      <td>False</td>\n    </tr>\n    <tr>\n      <th>2</th>\n      <td>False</td>\n      <td>False</td>\n      <td>False</td>\n      <td>False</td>\n      <td>False</td>\n      <td>False</td>\n      <td>False</td>\n      <td>False</td>\n      <td>False</td>\n      <td>False</td>\n      <td>False</td>\n      <td>False</td>\n      <td>False</td>\n      <td>False</td>\n    </tr>\n    <tr>\n      <th>3</th>\n      <td>False</td>\n      <td>False</td>\n      <td>False</td>\n      <td>False</td>\n      <td>False</td>\n      <td>False</td>\n      <td>False</td>\n      <td>False</td>\n      <td>False</td>\n      <td>False</td>\n      <td>False</td>\n      <td>False</td>\n      <td>False</td>\n      <td>False</td>\n    </tr>\n    <tr>\n      <th>4</th>\n      <td>False</td>\n      <td>False</td>\n      <td>False</td>\n      <td>False</td>\n      <td>False</td>\n      <td>False</td>\n      <td>False</td>\n      <td>False</td>\n      <td>False</td>\n      <td>False</td>\n      <td>False</td>\n      <td>False</td>\n      <td>False</td>\n      <td>False</td>\n    </tr>\n    <tr>\n      <th>...</th>\n      <td>...</td>\n      <td>...</td>\n      <td>...</td>\n      <td>...</td>\n      <td>...</td>\n      <td>...</td>\n      <td>...</td>\n      <td>...</td>\n      <td>...</td>\n      <td>...</td>\n      <td>...</td>\n      <td>...</td>\n      <td>...</td>\n      <td>...</td>\n    </tr>\n    <tr>\n      <th>173</th>\n      <td>False</td>\n      <td>False</td>\n      <td>False</td>\n      <td>False</td>\n      <td>False</td>\n      <td>False</td>\n      <td>False</td>\n      <td>False</td>\n      <td>False</td>\n      <td>False</td>\n      <td>False</td>\n      <td>False</td>\n      <td>False</td>\n      <td>False</td>\n    </tr>\n    <tr>\n      <th>174</th>\n      <td>False</td>\n      <td>False</td>\n      <td>False</td>\n      <td>False</td>\n      <td>False</td>\n      <td>False</td>\n      <td>False</td>\n      <td>False</td>\n      <td>False</td>\n      <td>False</td>\n      <td>False</td>\n      <td>False</td>\n      <td>False</td>\n      <td>False</td>\n    </tr>\n    <tr>\n      <th>175</th>\n      <td>False</td>\n      <td>False</td>\n      <td>False</td>\n      <td>False</td>\n      <td>False</td>\n      <td>False</td>\n      <td>False</td>\n      <td>False</td>\n      <td>False</td>\n      <td>False</td>\n      <td>False</td>\n      <td>False</td>\n      <td>False</td>\n      <td>False</td>\n    </tr>\n    <tr>\n      <th>176</th>\n      <td>False</td>\n      <td>False</td>\n      <td>False</td>\n      <td>False</td>\n      <td>False</td>\n      <td>False</td>\n      <td>False</td>\n      <td>False</td>\n      <td>False</td>\n      <td>False</td>\n      <td>False</td>\n      <td>False</td>\n      <td>False</td>\n      <td>False</td>\n    </tr>\n    <tr>\n      <th>177</th>\n      <td>False</td>\n      <td>False</td>\n      <td>False</td>\n      <td>False</td>\n      <td>False</td>\n      <td>False</td>\n      <td>False</td>\n      <td>False</td>\n      <td>False</td>\n      <td>False</td>\n      <td>False</td>\n      <td>False</td>\n      <td>False</td>\n      <td>False</td>\n    </tr>\n  </tbody>\n</table>\n<p>178 rows × 14 columns</p>\n</div>"
     },
     "execution_count": 68,
     "metadata": {},
     "output_type": "execute_result"
    }
   ],
   "source": [
    "data.isna() # 값을 결측치 여부에 따라 True/False로 변환"
   ],
   "metadata": {
    "collapsed": false,
    "pycharm": {
     "name": "#%%\n"
    }
   }
  },
  {
   "cell_type": "code",
   "execution_count": 69,
   "outputs": [
    {
     "data": {
      "text/plain": "alcohol                           2286.080000\nmalic_acid                         415.870000\nash                                421.240000\nalcalinity_of_ash                 3470.100000\nmagnesium                        17754.000000\ntotal_phenols                      408.530000\nflavanoids                         361.210000\nnonflavanoid_phenols                62.690000\nproanthocyanins                    283.180000\ncolor_intensity                    900.339999\nhue                                170.426000\nod280/od315_of_diluted_wines       464.880000\nproline                         132947.000000\nclass                              167.000000\ndtype: float64"
     },
     "execution_count": 69,
     "metadata": {},
     "output_type": "execute_result"
    }
   ],
   "source": [
    "data.sum()"
   ],
   "metadata": {
    "collapsed": false,
    "pycharm": {
     "name": "#%%\n"
    }
   }
  },
  {
   "cell_type": "code",
   "execution_count": 70,
   "outputs": [
    {
     "data": {
      "text/plain": "alcohol                         2\nmalic_acid                      0\nash                             0\nalcalinity_of_ash               0\nmagnesium                       0\ntotal_phenols                   0\nflavanoids                      0\nnonflavanoid_phenols            5\nproanthocyanins                 0\ncolor_intensity                 0\nhue                             0\nod280/od315_of_diluted_wines    0\nproline                         0\nclass                           0\ndtype: int64"
     },
     "execution_count": 70,
     "metadata": {},
     "output_type": "execute_result"
    }
   ],
   "source": [
    "data.isna().sum() #결측치에 대한 합"
   ],
   "metadata": {
    "collapsed": false,
    "pycharm": {
     "name": "#%%\n"
    }
   }
  },
  {
   "cell_type": "code",
   "execution_count": 71,
   "outputs": [
    {
     "data": {
      "text/plain": "     alcohol  malic_acid   ash  alcalinity_of_ash  magnesium  total_phenols  \\\n0      14.23        1.71  2.43               15.6        127           2.80   \n2      13.16        2.36  2.67               18.6        101           2.80   \n3      14.37        1.95  2.50               16.8        113           3.85   \n4      13.24        2.59  2.87               21.0        118           2.80   \n5      14.20        1.76  2.45               15.2        112           3.27   \n..       ...         ...   ...                ...        ...            ...   \n173    13.71        5.65  2.45               20.5         95           1.68   \n174    13.40        3.91  2.48               23.0        102           1.80   \n175    13.27        4.28  2.26               20.0        120           1.59   \n176    13.17        2.59  2.37               20.0        120           1.65   \n177    14.13        4.10  2.74               24.5         96           2.05   \n\n     flavanoids  nonflavanoid_phenols  proanthocyanins  color_intensity   hue  \\\n0          3.06                  0.28             2.29             5.64  1.04   \n2          3.24                  0.30             2.81             5.68  1.03   \n3          3.49                  0.24             2.18             7.80  0.86   \n4          2.69                  0.39             1.82             4.32  1.04   \n5          3.39                  0.34             1.97             6.75  1.05   \n..          ...                   ...              ...              ...   ...   \n173        0.61                  0.52             1.06             7.70  0.64   \n174        0.75                  0.43             1.41             7.30  0.70   \n175        0.69                  0.43             1.35            10.20  0.59   \n176        0.68                  0.53             1.46             9.30  0.60   \n177        0.76                  0.56             1.35             9.20  0.61   \n\n     od280/od315_of_diluted_wines  proline  class  \n0                            3.92     1065      0  \n2                            3.17     1185      0  \n3                            3.45     1480      0  \n4                            2.93      735      0  \n5                            2.85     1450      0  \n..                            ...      ...    ...  \n173                          1.74      740      2  \n174                          1.56      750      2  \n175                          1.56      835      2  \n176                          1.62      840      2  \n177                          1.60      560      2  \n\n[176 rows x 14 columns]",
      "text/html": "<div>\n<style scoped>\n    .dataframe tbody tr th:only-of-type {\n        vertical-align: middle;\n    }\n\n    .dataframe tbody tr th {\n        vertical-align: top;\n    }\n\n    .dataframe thead th {\n        text-align: right;\n    }\n</style>\n<table border=\"1\" class=\"dataframe\">\n  <thead>\n    <tr style=\"text-align: right;\">\n      <th></th>\n      <th>alcohol</th>\n      <th>malic_acid</th>\n      <th>ash</th>\n      <th>alcalinity_of_ash</th>\n      <th>magnesium</th>\n      <th>total_phenols</th>\n      <th>flavanoids</th>\n      <th>nonflavanoid_phenols</th>\n      <th>proanthocyanins</th>\n      <th>color_intensity</th>\n      <th>hue</th>\n      <th>od280/od315_of_diluted_wines</th>\n      <th>proline</th>\n      <th>class</th>\n    </tr>\n  </thead>\n  <tbody>\n    <tr>\n      <th>0</th>\n      <td>14.23</td>\n      <td>1.71</td>\n      <td>2.43</td>\n      <td>15.6</td>\n      <td>127</td>\n      <td>2.80</td>\n      <td>3.06</td>\n      <td>0.28</td>\n      <td>2.29</td>\n      <td>5.64</td>\n      <td>1.04</td>\n      <td>3.92</td>\n      <td>1065</td>\n      <td>0</td>\n    </tr>\n    <tr>\n      <th>2</th>\n      <td>13.16</td>\n      <td>2.36</td>\n      <td>2.67</td>\n      <td>18.6</td>\n      <td>101</td>\n      <td>2.80</td>\n      <td>3.24</td>\n      <td>0.30</td>\n      <td>2.81</td>\n      <td>5.68</td>\n      <td>1.03</td>\n      <td>3.17</td>\n      <td>1185</td>\n      <td>0</td>\n    </tr>\n    <tr>\n      <th>3</th>\n      <td>14.37</td>\n      <td>1.95</td>\n      <td>2.50</td>\n      <td>16.8</td>\n      <td>113</td>\n      <td>3.85</td>\n      <td>3.49</td>\n      <td>0.24</td>\n      <td>2.18</td>\n      <td>7.80</td>\n      <td>0.86</td>\n      <td>3.45</td>\n      <td>1480</td>\n      <td>0</td>\n    </tr>\n    <tr>\n      <th>4</th>\n      <td>13.24</td>\n      <td>2.59</td>\n      <td>2.87</td>\n      <td>21.0</td>\n      <td>118</td>\n      <td>2.80</td>\n      <td>2.69</td>\n      <td>0.39</td>\n      <td>1.82</td>\n      <td>4.32</td>\n      <td>1.04</td>\n      <td>2.93</td>\n      <td>735</td>\n      <td>0</td>\n    </tr>\n    <tr>\n      <th>5</th>\n      <td>14.20</td>\n      <td>1.76</td>\n      <td>2.45</td>\n      <td>15.2</td>\n      <td>112</td>\n      <td>3.27</td>\n      <td>3.39</td>\n      <td>0.34</td>\n      <td>1.97</td>\n      <td>6.75</td>\n      <td>1.05</td>\n      <td>2.85</td>\n      <td>1450</td>\n      <td>0</td>\n    </tr>\n    <tr>\n      <th>...</th>\n      <td>...</td>\n      <td>...</td>\n      <td>...</td>\n      <td>...</td>\n      <td>...</td>\n      <td>...</td>\n      <td>...</td>\n      <td>...</td>\n      <td>...</td>\n      <td>...</td>\n      <td>...</td>\n      <td>...</td>\n      <td>...</td>\n      <td>...</td>\n    </tr>\n    <tr>\n      <th>173</th>\n      <td>13.71</td>\n      <td>5.65</td>\n      <td>2.45</td>\n      <td>20.5</td>\n      <td>95</td>\n      <td>1.68</td>\n      <td>0.61</td>\n      <td>0.52</td>\n      <td>1.06</td>\n      <td>7.70</td>\n      <td>0.64</td>\n      <td>1.74</td>\n      <td>740</td>\n      <td>2</td>\n    </tr>\n    <tr>\n      <th>174</th>\n      <td>13.40</td>\n      <td>3.91</td>\n      <td>2.48</td>\n      <td>23.0</td>\n      <td>102</td>\n      <td>1.80</td>\n      <td>0.75</td>\n      <td>0.43</td>\n      <td>1.41</td>\n      <td>7.30</td>\n      <td>0.70</td>\n      <td>1.56</td>\n      <td>750</td>\n      <td>2</td>\n    </tr>\n    <tr>\n      <th>175</th>\n      <td>13.27</td>\n      <td>4.28</td>\n      <td>2.26</td>\n      <td>20.0</td>\n      <td>120</td>\n      <td>1.59</td>\n      <td>0.69</td>\n      <td>0.43</td>\n      <td>1.35</td>\n      <td>10.20</td>\n      <td>0.59</td>\n      <td>1.56</td>\n      <td>835</td>\n      <td>2</td>\n    </tr>\n    <tr>\n      <th>176</th>\n      <td>13.17</td>\n      <td>2.59</td>\n      <td>2.37</td>\n      <td>20.0</td>\n      <td>120</td>\n      <td>1.65</td>\n      <td>0.68</td>\n      <td>0.53</td>\n      <td>1.46</td>\n      <td>9.30</td>\n      <td>0.60</td>\n      <td>1.62</td>\n      <td>840</td>\n      <td>2</td>\n    </tr>\n    <tr>\n      <th>177</th>\n      <td>14.13</td>\n      <td>4.10</td>\n      <td>2.74</td>\n      <td>24.5</td>\n      <td>96</td>\n      <td>2.05</td>\n      <td>0.76</td>\n      <td>0.56</td>\n      <td>1.35</td>\n      <td>9.20</td>\n      <td>0.61</td>\n      <td>1.60</td>\n      <td>560</td>\n      <td>2</td>\n    </tr>\n  </tbody>\n</table>\n<p>176 rows × 14 columns</p>\n</div>"
     },
     "execution_count": 71,
     "metadata": {},
     "output_type": "execute_result"
    }
   ],
   "source": [
    "data.dropna(subset = ['alcohol']) #지정된 변수의 결측치 행만 제거하기 ==> alcohol의 열의 결측치 존재하는 행 제거"
   ],
   "metadata": {
    "collapsed": false,
    "pycharm": {
     "name": "#%%\n"
    }
   }
  },
  {
   "cell_type": "code",
   "execution_count": 72,
   "outputs": [
    {
     "data": {
      "text/plain": "     malic_acid   ash  alcalinity_of_ash  magnesium  total_phenols  \\\n0          1.71  2.43               15.6        127           2.80   \n1          1.78  2.14               11.2        100           2.65   \n2          2.36  2.67               18.6        101           2.80   \n3          1.95  2.50               16.8        113           3.85   \n4          2.59  2.87               21.0        118           2.80   \n..          ...   ...                ...        ...            ...   \n173        5.65  2.45               20.5         95           1.68   \n174        3.91  2.48               23.0        102           1.80   \n175        4.28  2.26               20.0        120           1.59   \n176        2.59  2.37               20.0        120           1.65   \n177        4.10  2.74               24.5         96           2.05   \n\n     flavanoids  proanthocyanins  color_intensity   hue  \\\n0          3.06             2.29             5.64  1.04   \n1          2.76             1.28             4.38  1.05   \n2          3.24             2.81             5.68  1.03   \n3          3.49             2.18             7.80  0.86   \n4          2.69             1.82             4.32  1.04   \n..          ...              ...              ...   ...   \n173        0.61             1.06             7.70  0.64   \n174        0.75             1.41             7.30  0.70   \n175        0.69             1.35            10.20  0.59   \n176        0.68             1.46             9.30  0.60   \n177        0.76             1.35             9.20  0.61   \n\n     od280/od315_of_diluted_wines  proline  class  \n0                            3.92     1065      0  \n1                            3.40     1050      0  \n2                            3.17     1185      0  \n3                            3.45     1480      0  \n4                            2.93      735      0  \n..                            ...      ...    ...  \n173                          1.74      740      2  \n174                          1.56      750      2  \n175                          1.56      835      2  \n176                          1.62      840      2  \n177                          1.60      560      2  \n\n[178 rows x 12 columns]",
      "text/html": "<div>\n<style scoped>\n    .dataframe tbody tr th:only-of-type {\n        vertical-align: middle;\n    }\n\n    .dataframe tbody tr th {\n        vertical-align: top;\n    }\n\n    .dataframe thead th {\n        text-align: right;\n    }\n</style>\n<table border=\"1\" class=\"dataframe\">\n  <thead>\n    <tr style=\"text-align: right;\">\n      <th></th>\n      <th>malic_acid</th>\n      <th>ash</th>\n      <th>alcalinity_of_ash</th>\n      <th>magnesium</th>\n      <th>total_phenols</th>\n      <th>flavanoids</th>\n      <th>proanthocyanins</th>\n      <th>color_intensity</th>\n      <th>hue</th>\n      <th>od280/od315_of_diluted_wines</th>\n      <th>proline</th>\n      <th>class</th>\n    </tr>\n  </thead>\n  <tbody>\n    <tr>\n      <th>0</th>\n      <td>1.71</td>\n      <td>2.43</td>\n      <td>15.6</td>\n      <td>127</td>\n      <td>2.80</td>\n      <td>3.06</td>\n      <td>2.29</td>\n      <td>5.64</td>\n      <td>1.04</td>\n      <td>3.92</td>\n      <td>1065</td>\n      <td>0</td>\n    </tr>\n    <tr>\n      <th>1</th>\n      <td>1.78</td>\n      <td>2.14</td>\n      <td>11.2</td>\n      <td>100</td>\n      <td>2.65</td>\n      <td>2.76</td>\n      <td>1.28</td>\n      <td>4.38</td>\n      <td>1.05</td>\n      <td>3.40</td>\n      <td>1050</td>\n      <td>0</td>\n    </tr>\n    <tr>\n      <th>2</th>\n      <td>2.36</td>\n      <td>2.67</td>\n      <td>18.6</td>\n      <td>101</td>\n      <td>2.80</td>\n      <td>3.24</td>\n      <td>2.81</td>\n      <td>5.68</td>\n      <td>1.03</td>\n      <td>3.17</td>\n      <td>1185</td>\n      <td>0</td>\n    </tr>\n    <tr>\n      <th>3</th>\n      <td>1.95</td>\n      <td>2.50</td>\n      <td>16.8</td>\n      <td>113</td>\n      <td>3.85</td>\n      <td>3.49</td>\n      <td>2.18</td>\n      <td>7.80</td>\n      <td>0.86</td>\n      <td>3.45</td>\n      <td>1480</td>\n      <td>0</td>\n    </tr>\n    <tr>\n      <th>4</th>\n      <td>2.59</td>\n      <td>2.87</td>\n      <td>21.0</td>\n      <td>118</td>\n      <td>2.80</td>\n      <td>2.69</td>\n      <td>1.82</td>\n      <td>4.32</td>\n      <td>1.04</td>\n      <td>2.93</td>\n      <td>735</td>\n      <td>0</td>\n    </tr>\n    <tr>\n      <th>...</th>\n      <td>...</td>\n      <td>...</td>\n      <td>...</td>\n      <td>...</td>\n      <td>...</td>\n      <td>...</td>\n      <td>...</td>\n      <td>...</td>\n      <td>...</td>\n      <td>...</td>\n      <td>...</td>\n      <td>...</td>\n    </tr>\n    <tr>\n      <th>173</th>\n      <td>5.65</td>\n      <td>2.45</td>\n      <td>20.5</td>\n      <td>95</td>\n      <td>1.68</td>\n      <td>0.61</td>\n      <td>1.06</td>\n      <td>7.70</td>\n      <td>0.64</td>\n      <td>1.74</td>\n      <td>740</td>\n      <td>2</td>\n    </tr>\n    <tr>\n      <th>174</th>\n      <td>3.91</td>\n      <td>2.48</td>\n      <td>23.0</td>\n      <td>102</td>\n      <td>1.80</td>\n      <td>0.75</td>\n      <td>1.41</td>\n      <td>7.30</td>\n      <td>0.70</td>\n      <td>1.56</td>\n      <td>750</td>\n      <td>2</td>\n    </tr>\n    <tr>\n      <th>175</th>\n      <td>4.28</td>\n      <td>2.26</td>\n      <td>20.0</td>\n      <td>120</td>\n      <td>1.59</td>\n      <td>0.69</td>\n      <td>1.35</td>\n      <td>10.20</td>\n      <td>0.59</td>\n      <td>1.56</td>\n      <td>835</td>\n      <td>2</td>\n    </tr>\n    <tr>\n      <th>176</th>\n      <td>2.59</td>\n      <td>2.37</td>\n      <td>20.0</td>\n      <td>120</td>\n      <td>1.65</td>\n      <td>0.68</td>\n      <td>1.46</td>\n      <td>9.30</td>\n      <td>0.60</td>\n      <td>1.62</td>\n      <td>840</td>\n      <td>2</td>\n    </tr>\n    <tr>\n      <th>177</th>\n      <td>4.10</td>\n      <td>2.74</td>\n      <td>24.5</td>\n      <td>96</td>\n      <td>2.05</td>\n      <td>0.76</td>\n      <td>1.35</td>\n      <td>9.20</td>\n      <td>0.61</td>\n      <td>1.60</td>\n      <td>560</td>\n      <td>2</td>\n    </tr>\n  </tbody>\n</table>\n<p>178 rows × 12 columns</p>\n</div>"
     },
     "execution_count": 72,
     "metadata": {},
     "output_type": "execute_result"
    }
   ],
   "source": [
    "data.drop(['alcohol' , 'nonflavanoid_phenols'] , axis = 1) #변수를 제거하기"
   ],
   "metadata": {
    "collapsed": false,
    "pycharm": {
     "name": "#%%\n"
    }
   }
  },
  {
   "cell_type": "code",
   "execution_count": 73,
   "outputs": [
    {
     "data": {
      "text/plain": "     alcohol  malic_acid   ash  alcalinity_of_ash  magnesium  total_phenols  \\\n0      14.23        1.71  2.43               15.6        127           2.80   \n1        NaN        1.78  2.14               11.2        100           2.65   \n2      13.16        2.36  2.67               18.6        101           2.80   \n3      14.37        1.95  2.50               16.8        113           3.85   \n4      13.24        2.59  2.87               21.0        118           2.80   \n..       ...         ...   ...                ...        ...            ...   \n173    13.71        5.65  2.45               20.5         95           1.68   \n174    13.40        3.91  2.48               23.0        102           1.80   \n175    13.27        4.28  2.26               20.0        120           1.59   \n176    13.17        2.59  2.37               20.0        120           1.65   \n177    14.13        4.10  2.74               24.5         96           2.05   \n\n     flavanoids  nonflavanoid_phenols  proanthocyanins  color_intensity   hue  \\\n0          3.06                  0.28             2.29             5.64  1.04   \n1          2.76                  0.26             1.28             4.38  1.05   \n2          3.24                  0.30             2.81             5.68  1.03   \n3          3.49                  0.24             2.18             7.80  0.86   \n4          2.69                  0.39             1.82             4.32  1.04   \n..          ...                   ...              ...              ...   ...   \n173        0.61                  0.52             1.06             7.70  0.64   \n174        0.75                  0.43             1.41             7.30  0.70   \n175        0.69                  0.43             1.35            10.20  0.59   \n176        0.68                  0.53             1.46             9.30  0.60   \n177        0.76                  0.56             1.35             9.20  0.61   \n\n     od280/od315_of_diluted_wines  proline  class  \n0                            3.92     1065      0  \n1                            3.40     1050      0  \n2                            3.17     1185      0  \n3                            3.45     1480      0  \n4                            2.93      735      0  \n..                            ...      ...    ...  \n173                          1.74      740      2  \n174                          1.56      750      2  \n175                          1.56      835      2  \n176                          1.62      840      2  \n177                          1.60      560      2  \n\n[178 rows x 14 columns]",
      "text/html": "<div>\n<style scoped>\n    .dataframe tbody tr th:only-of-type {\n        vertical-align: middle;\n    }\n\n    .dataframe tbody tr th {\n        vertical-align: top;\n    }\n\n    .dataframe thead th {\n        text-align: right;\n    }\n</style>\n<table border=\"1\" class=\"dataframe\">\n  <thead>\n    <tr style=\"text-align: right;\">\n      <th></th>\n      <th>alcohol</th>\n      <th>malic_acid</th>\n      <th>ash</th>\n      <th>alcalinity_of_ash</th>\n      <th>magnesium</th>\n      <th>total_phenols</th>\n      <th>flavanoids</th>\n      <th>nonflavanoid_phenols</th>\n      <th>proanthocyanins</th>\n      <th>color_intensity</th>\n      <th>hue</th>\n      <th>od280/od315_of_diluted_wines</th>\n      <th>proline</th>\n      <th>class</th>\n    </tr>\n  </thead>\n  <tbody>\n    <tr>\n      <th>0</th>\n      <td>14.23</td>\n      <td>1.71</td>\n      <td>2.43</td>\n      <td>15.6</td>\n      <td>127</td>\n      <td>2.80</td>\n      <td>3.06</td>\n      <td>0.28</td>\n      <td>2.29</td>\n      <td>5.64</td>\n      <td>1.04</td>\n      <td>3.92</td>\n      <td>1065</td>\n      <td>0</td>\n    </tr>\n    <tr>\n      <th>1</th>\n      <td>NaN</td>\n      <td>1.78</td>\n      <td>2.14</td>\n      <td>11.2</td>\n      <td>100</td>\n      <td>2.65</td>\n      <td>2.76</td>\n      <td>0.26</td>\n      <td>1.28</td>\n      <td>4.38</td>\n      <td>1.05</td>\n      <td>3.40</td>\n      <td>1050</td>\n      <td>0</td>\n    </tr>\n    <tr>\n      <th>2</th>\n      <td>13.16</td>\n      <td>2.36</td>\n      <td>2.67</td>\n      <td>18.6</td>\n      <td>101</td>\n      <td>2.80</td>\n      <td>3.24</td>\n      <td>0.30</td>\n      <td>2.81</td>\n      <td>5.68</td>\n      <td>1.03</td>\n      <td>3.17</td>\n      <td>1185</td>\n      <td>0</td>\n    </tr>\n    <tr>\n      <th>3</th>\n      <td>14.37</td>\n      <td>1.95</td>\n      <td>2.50</td>\n      <td>16.8</td>\n      <td>113</td>\n      <td>3.85</td>\n      <td>3.49</td>\n      <td>0.24</td>\n      <td>2.18</td>\n      <td>7.80</td>\n      <td>0.86</td>\n      <td>3.45</td>\n      <td>1480</td>\n      <td>0</td>\n    </tr>\n    <tr>\n      <th>4</th>\n      <td>13.24</td>\n      <td>2.59</td>\n      <td>2.87</td>\n      <td>21.0</td>\n      <td>118</td>\n      <td>2.80</td>\n      <td>2.69</td>\n      <td>0.39</td>\n      <td>1.82</td>\n      <td>4.32</td>\n      <td>1.04</td>\n      <td>2.93</td>\n      <td>735</td>\n      <td>0</td>\n    </tr>\n    <tr>\n      <th>...</th>\n      <td>...</td>\n      <td>...</td>\n      <td>...</td>\n      <td>...</td>\n      <td>...</td>\n      <td>...</td>\n      <td>...</td>\n      <td>...</td>\n      <td>...</td>\n      <td>...</td>\n      <td>...</td>\n      <td>...</td>\n      <td>...</td>\n      <td>...</td>\n    </tr>\n    <tr>\n      <th>173</th>\n      <td>13.71</td>\n      <td>5.65</td>\n      <td>2.45</td>\n      <td>20.5</td>\n      <td>95</td>\n      <td>1.68</td>\n      <td>0.61</td>\n      <td>0.52</td>\n      <td>1.06</td>\n      <td>7.70</td>\n      <td>0.64</td>\n      <td>1.74</td>\n      <td>740</td>\n      <td>2</td>\n    </tr>\n    <tr>\n      <th>174</th>\n      <td>13.40</td>\n      <td>3.91</td>\n      <td>2.48</td>\n      <td>23.0</td>\n      <td>102</td>\n      <td>1.80</td>\n      <td>0.75</td>\n      <td>0.43</td>\n      <td>1.41</td>\n      <td>7.30</td>\n      <td>0.70</td>\n      <td>1.56</td>\n      <td>750</td>\n      <td>2</td>\n    </tr>\n    <tr>\n      <th>175</th>\n      <td>13.27</td>\n      <td>4.28</td>\n      <td>2.26</td>\n      <td>20.0</td>\n      <td>120</td>\n      <td>1.59</td>\n      <td>0.69</td>\n      <td>0.43</td>\n      <td>1.35</td>\n      <td>10.20</td>\n      <td>0.59</td>\n      <td>1.56</td>\n      <td>835</td>\n      <td>2</td>\n    </tr>\n    <tr>\n      <th>176</th>\n      <td>13.17</td>\n      <td>2.59</td>\n      <td>2.37</td>\n      <td>20.0</td>\n      <td>120</td>\n      <td>1.65</td>\n      <td>0.68</td>\n      <td>0.53</td>\n      <td>1.46</td>\n      <td>9.30</td>\n      <td>0.60</td>\n      <td>1.62</td>\n      <td>840</td>\n      <td>2</td>\n    </tr>\n    <tr>\n      <th>177</th>\n      <td>14.13</td>\n      <td>4.10</td>\n      <td>2.74</td>\n      <td>24.5</td>\n      <td>96</td>\n      <td>2.05</td>\n      <td>0.76</td>\n      <td>0.56</td>\n      <td>1.35</td>\n      <td>9.20</td>\n      <td>0.61</td>\n      <td>1.60</td>\n      <td>560</td>\n      <td>2</td>\n    </tr>\n  </tbody>\n</table>\n<p>178 rows × 14 columns</p>\n</div>"
     },
     "execution_count": 73,
     "metadata": {},
     "output_type": "execute_result"
    }
   ],
   "source": [
    "data"
   ],
   "metadata": {
    "collapsed": false,
    "pycharm": {
     "name": "#%%\n"
    }
   }
  },
  {
   "cell_type": "code",
   "execution_count": 74,
   "outputs": [
    {
     "data": {
      "text/plain": "     alcohol  malic_acid   ash  alcalinity_of_ash  magnesium  total_phenols  \\\n0      14.23        1.71  2.43               15.6        127           2.80   \n1     -99.00        1.78  2.14               11.2        100           2.65   \n2      13.16        2.36  2.67               18.6        101           2.80   \n3      14.37        1.95  2.50               16.8        113           3.85   \n4      13.24        2.59  2.87               21.0        118           2.80   \n..       ...         ...   ...                ...        ...            ...   \n173    13.71        5.65  2.45               20.5         95           1.68   \n174    13.40        3.91  2.48               23.0        102           1.80   \n175    13.27        4.28  2.26               20.0        120           1.59   \n176    13.17        2.59  2.37               20.0        120           1.65   \n177    14.13        4.10  2.74               24.5         96           2.05   \n\n     flavanoids  nonflavanoid_phenols  proanthocyanins  color_intensity   hue  \\\n0          3.06                  0.28             2.29             5.64  1.04   \n1          2.76                  0.26             1.28             4.38  1.05   \n2          3.24                  0.30             2.81             5.68  1.03   \n3          3.49                  0.24             2.18             7.80  0.86   \n4          2.69                  0.39             1.82             4.32  1.04   \n..          ...                   ...              ...              ...   ...   \n173        0.61                  0.52             1.06             7.70  0.64   \n174        0.75                  0.43             1.41             7.30  0.70   \n175        0.69                  0.43             1.35            10.20  0.59   \n176        0.68                  0.53             1.46             9.30  0.60   \n177        0.76                  0.56             1.35             9.20  0.61   \n\n     od280/od315_of_diluted_wines  proline  class  \n0                            3.92     1065      0  \n1                            3.40     1050      0  \n2                            3.17     1185      0  \n3                            3.45     1480      0  \n4                            2.93      735      0  \n..                            ...      ...    ...  \n173                          1.74      740      2  \n174                          1.56      750      2  \n175                          1.56      835      2  \n176                          1.62      840      2  \n177                          1.60      560      2  \n\n[178 rows x 14 columns]",
      "text/html": "<div>\n<style scoped>\n    .dataframe tbody tr th:only-of-type {\n        vertical-align: middle;\n    }\n\n    .dataframe tbody tr th {\n        vertical-align: top;\n    }\n\n    .dataframe thead th {\n        text-align: right;\n    }\n</style>\n<table border=\"1\" class=\"dataframe\">\n  <thead>\n    <tr style=\"text-align: right;\">\n      <th></th>\n      <th>alcohol</th>\n      <th>malic_acid</th>\n      <th>ash</th>\n      <th>alcalinity_of_ash</th>\n      <th>magnesium</th>\n      <th>total_phenols</th>\n      <th>flavanoids</th>\n      <th>nonflavanoid_phenols</th>\n      <th>proanthocyanins</th>\n      <th>color_intensity</th>\n      <th>hue</th>\n      <th>od280/od315_of_diluted_wines</th>\n      <th>proline</th>\n      <th>class</th>\n    </tr>\n  </thead>\n  <tbody>\n    <tr>\n      <th>0</th>\n      <td>14.23</td>\n      <td>1.71</td>\n      <td>2.43</td>\n      <td>15.6</td>\n      <td>127</td>\n      <td>2.80</td>\n      <td>3.06</td>\n      <td>0.28</td>\n      <td>2.29</td>\n      <td>5.64</td>\n      <td>1.04</td>\n      <td>3.92</td>\n      <td>1065</td>\n      <td>0</td>\n    </tr>\n    <tr>\n      <th>1</th>\n      <td>-99.00</td>\n      <td>1.78</td>\n      <td>2.14</td>\n      <td>11.2</td>\n      <td>100</td>\n      <td>2.65</td>\n      <td>2.76</td>\n      <td>0.26</td>\n      <td>1.28</td>\n      <td>4.38</td>\n      <td>1.05</td>\n      <td>3.40</td>\n      <td>1050</td>\n      <td>0</td>\n    </tr>\n    <tr>\n      <th>2</th>\n      <td>13.16</td>\n      <td>2.36</td>\n      <td>2.67</td>\n      <td>18.6</td>\n      <td>101</td>\n      <td>2.80</td>\n      <td>3.24</td>\n      <td>0.30</td>\n      <td>2.81</td>\n      <td>5.68</td>\n      <td>1.03</td>\n      <td>3.17</td>\n      <td>1185</td>\n      <td>0</td>\n    </tr>\n    <tr>\n      <th>3</th>\n      <td>14.37</td>\n      <td>1.95</td>\n      <td>2.50</td>\n      <td>16.8</td>\n      <td>113</td>\n      <td>3.85</td>\n      <td>3.49</td>\n      <td>0.24</td>\n      <td>2.18</td>\n      <td>7.80</td>\n      <td>0.86</td>\n      <td>3.45</td>\n      <td>1480</td>\n      <td>0</td>\n    </tr>\n    <tr>\n      <th>4</th>\n      <td>13.24</td>\n      <td>2.59</td>\n      <td>2.87</td>\n      <td>21.0</td>\n      <td>118</td>\n      <td>2.80</td>\n      <td>2.69</td>\n      <td>0.39</td>\n      <td>1.82</td>\n      <td>4.32</td>\n      <td>1.04</td>\n      <td>2.93</td>\n      <td>735</td>\n      <td>0</td>\n    </tr>\n    <tr>\n      <th>...</th>\n      <td>...</td>\n      <td>...</td>\n      <td>...</td>\n      <td>...</td>\n      <td>...</td>\n      <td>...</td>\n      <td>...</td>\n      <td>...</td>\n      <td>...</td>\n      <td>...</td>\n      <td>...</td>\n      <td>...</td>\n      <td>...</td>\n      <td>...</td>\n    </tr>\n    <tr>\n      <th>173</th>\n      <td>13.71</td>\n      <td>5.65</td>\n      <td>2.45</td>\n      <td>20.5</td>\n      <td>95</td>\n      <td>1.68</td>\n      <td>0.61</td>\n      <td>0.52</td>\n      <td>1.06</td>\n      <td>7.70</td>\n      <td>0.64</td>\n      <td>1.74</td>\n      <td>740</td>\n      <td>2</td>\n    </tr>\n    <tr>\n      <th>174</th>\n      <td>13.40</td>\n      <td>3.91</td>\n      <td>2.48</td>\n      <td>23.0</td>\n      <td>102</td>\n      <td>1.80</td>\n      <td>0.75</td>\n      <td>0.43</td>\n      <td>1.41</td>\n      <td>7.30</td>\n      <td>0.70</td>\n      <td>1.56</td>\n      <td>750</td>\n      <td>2</td>\n    </tr>\n    <tr>\n      <th>175</th>\n      <td>13.27</td>\n      <td>4.28</td>\n      <td>2.26</td>\n      <td>20.0</td>\n      <td>120</td>\n      <td>1.59</td>\n      <td>0.69</td>\n      <td>0.43</td>\n      <td>1.35</td>\n      <td>10.20</td>\n      <td>0.59</td>\n      <td>1.56</td>\n      <td>835</td>\n      <td>2</td>\n    </tr>\n    <tr>\n      <th>176</th>\n      <td>13.17</td>\n      <td>2.59</td>\n      <td>2.37</td>\n      <td>20.0</td>\n      <td>120</td>\n      <td>1.65</td>\n      <td>0.68</td>\n      <td>0.53</td>\n      <td>1.46</td>\n      <td>9.30</td>\n      <td>0.60</td>\n      <td>1.62</td>\n      <td>840</td>\n      <td>2</td>\n    </tr>\n    <tr>\n      <th>177</th>\n      <td>14.13</td>\n      <td>4.10</td>\n      <td>2.74</td>\n      <td>24.5</td>\n      <td>96</td>\n      <td>2.05</td>\n      <td>0.76</td>\n      <td>0.56</td>\n      <td>1.35</td>\n      <td>9.20</td>\n      <td>0.61</td>\n      <td>1.60</td>\n      <td>560</td>\n      <td>2</td>\n    </tr>\n  </tbody>\n</table>\n<p>178 rows × 14 columns</p>\n</div>"
     },
     "execution_count": 74,
     "metadata": {},
     "output_type": "execute_result"
    }
   ],
   "source": [
    "data.fillna(-99) #일반적으로 결측치에 값을 채워넣는 방법은 평균값이나 중위값을 이용한다."
   ],
   "metadata": {
    "collapsed": false,
    "pycharm": {
     "name": "#%%\n"
    }
   }
  },
  {
   "cell_type": "code",
   "execution_count": 75,
   "outputs": [
    {
     "data": {
      "text/plain": "       alcohol  malic_acid   ash  alcalinity_of_ash  magnesium  total_phenols  \\\n0    14.230000        1.71  2.43               15.6        127           2.80   \n1    12.989091        1.78  2.14               11.2        100           2.65   \n2    13.160000        2.36  2.67               18.6        101           2.80   \n3    14.370000        1.95  2.50               16.8        113           3.85   \n4    13.240000        2.59  2.87               21.0        118           2.80   \n..         ...         ...   ...                ...        ...            ...   \n173  13.710000        5.65  2.45               20.5         95           1.68   \n174  13.400000        3.91  2.48               23.0        102           1.80   \n175  13.270000        4.28  2.26               20.0        120           1.59   \n176  13.170000        2.59  2.37               20.0        120           1.65   \n177  14.130000        4.10  2.74               24.5         96           2.05   \n\n     flavanoids  nonflavanoid_phenols  proanthocyanins  color_intensity   hue  \\\n0          3.06                  0.28             2.29             5.64  1.04   \n1          2.76                  0.26             1.28             4.38  1.05   \n2          3.24                  0.30             2.81             5.68  1.03   \n3          3.49                  0.24             2.18             7.80  0.86   \n4          2.69                  0.39             1.82             4.32  1.04   \n..          ...                   ...              ...              ...   ...   \n173        0.61                  0.52             1.06             7.70  0.64   \n174        0.75                  0.43             1.41             7.30  0.70   \n175        0.69                  0.43             1.35            10.20  0.59   \n176        0.68                  0.53             1.46             9.30  0.60   \n177        0.76                  0.56             1.35             9.20  0.61   \n\n     od280/od315_of_diluted_wines  proline  class  \n0                            3.92     1065      0  \n1                            3.40     1050      0  \n2                            3.17     1185      0  \n3                            3.45     1480      0  \n4                            2.93      735      0  \n..                            ...      ...    ...  \n173                          1.74      740      2  \n174                          1.56      750      2  \n175                          1.56      835      2  \n176                          1.62      840      2  \n177                          1.60      560      2  \n\n[178 rows x 14 columns]",
      "text/html": "<div>\n<style scoped>\n    .dataframe tbody tr th:only-of-type {\n        vertical-align: middle;\n    }\n\n    .dataframe tbody tr th {\n        vertical-align: top;\n    }\n\n    .dataframe thead th {\n        text-align: right;\n    }\n</style>\n<table border=\"1\" class=\"dataframe\">\n  <thead>\n    <tr style=\"text-align: right;\">\n      <th></th>\n      <th>alcohol</th>\n      <th>malic_acid</th>\n      <th>ash</th>\n      <th>alcalinity_of_ash</th>\n      <th>magnesium</th>\n      <th>total_phenols</th>\n      <th>flavanoids</th>\n      <th>nonflavanoid_phenols</th>\n      <th>proanthocyanins</th>\n      <th>color_intensity</th>\n      <th>hue</th>\n      <th>od280/od315_of_diluted_wines</th>\n      <th>proline</th>\n      <th>class</th>\n    </tr>\n  </thead>\n  <tbody>\n    <tr>\n      <th>0</th>\n      <td>14.230000</td>\n      <td>1.71</td>\n      <td>2.43</td>\n      <td>15.6</td>\n      <td>127</td>\n      <td>2.80</td>\n      <td>3.06</td>\n      <td>0.28</td>\n      <td>2.29</td>\n      <td>5.64</td>\n      <td>1.04</td>\n      <td>3.92</td>\n      <td>1065</td>\n      <td>0</td>\n    </tr>\n    <tr>\n      <th>1</th>\n      <td>12.989091</td>\n      <td>1.78</td>\n      <td>2.14</td>\n      <td>11.2</td>\n      <td>100</td>\n      <td>2.65</td>\n      <td>2.76</td>\n      <td>0.26</td>\n      <td>1.28</td>\n      <td>4.38</td>\n      <td>1.05</td>\n      <td>3.40</td>\n      <td>1050</td>\n      <td>0</td>\n    </tr>\n    <tr>\n      <th>2</th>\n      <td>13.160000</td>\n      <td>2.36</td>\n      <td>2.67</td>\n      <td>18.6</td>\n      <td>101</td>\n      <td>2.80</td>\n      <td>3.24</td>\n      <td>0.30</td>\n      <td>2.81</td>\n      <td>5.68</td>\n      <td>1.03</td>\n      <td>3.17</td>\n      <td>1185</td>\n      <td>0</td>\n    </tr>\n    <tr>\n      <th>3</th>\n      <td>14.370000</td>\n      <td>1.95</td>\n      <td>2.50</td>\n      <td>16.8</td>\n      <td>113</td>\n      <td>3.85</td>\n      <td>3.49</td>\n      <td>0.24</td>\n      <td>2.18</td>\n      <td>7.80</td>\n      <td>0.86</td>\n      <td>3.45</td>\n      <td>1480</td>\n      <td>0</td>\n    </tr>\n    <tr>\n      <th>4</th>\n      <td>13.240000</td>\n      <td>2.59</td>\n      <td>2.87</td>\n      <td>21.0</td>\n      <td>118</td>\n      <td>2.80</td>\n      <td>2.69</td>\n      <td>0.39</td>\n      <td>1.82</td>\n      <td>4.32</td>\n      <td>1.04</td>\n      <td>2.93</td>\n      <td>735</td>\n      <td>0</td>\n    </tr>\n    <tr>\n      <th>...</th>\n      <td>...</td>\n      <td>...</td>\n      <td>...</td>\n      <td>...</td>\n      <td>...</td>\n      <td>...</td>\n      <td>...</td>\n      <td>...</td>\n      <td>...</td>\n      <td>...</td>\n      <td>...</td>\n      <td>...</td>\n      <td>...</td>\n      <td>...</td>\n    </tr>\n    <tr>\n      <th>173</th>\n      <td>13.710000</td>\n      <td>5.65</td>\n      <td>2.45</td>\n      <td>20.5</td>\n      <td>95</td>\n      <td>1.68</td>\n      <td>0.61</td>\n      <td>0.52</td>\n      <td>1.06</td>\n      <td>7.70</td>\n      <td>0.64</td>\n      <td>1.74</td>\n      <td>740</td>\n      <td>2</td>\n    </tr>\n    <tr>\n      <th>174</th>\n      <td>13.400000</td>\n      <td>3.91</td>\n      <td>2.48</td>\n      <td>23.0</td>\n      <td>102</td>\n      <td>1.80</td>\n      <td>0.75</td>\n      <td>0.43</td>\n      <td>1.41</td>\n      <td>7.30</td>\n      <td>0.70</td>\n      <td>1.56</td>\n      <td>750</td>\n      <td>2</td>\n    </tr>\n    <tr>\n      <th>175</th>\n      <td>13.270000</td>\n      <td>4.28</td>\n      <td>2.26</td>\n      <td>20.0</td>\n      <td>120</td>\n      <td>1.59</td>\n      <td>0.69</td>\n      <td>0.43</td>\n      <td>1.35</td>\n      <td>10.20</td>\n      <td>0.59</td>\n      <td>1.56</td>\n      <td>835</td>\n      <td>2</td>\n    </tr>\n    <tr>\n      <th>176</th>\n      <td>13.170000</td>\n      <td>2.59</td>\n      <td>2.37</td>\n      <td>20.0</td>\n      <td>120</td>\n      <td>1.65</td>\n      <td>0.68</td>\n      <td>0.53</td>\n      <td>1.46</td>\n      <td>9.30</td>\n      <td>0.60</td>\n      <td>1.62</td>\n      <td>840</td>\n      <td>2</td>\n    </tr>\n    <tr>\n      <th>177</th>\n      <td>14.130000</td>\n      <td>4.10</td>\n      <td>2.74</td>\n      <td>24.5</td>\n      <td>96</td>\n      <td>2.05</td>\n      <td>0.76</td>\n      <td>0.56</td>\n      <td>1.35</td>\n      <td>9.20</td>\n      <td>0.61</td>\n      <td>1.60</td>\n      <td>560</td>\n      <td>2</td>\n    </tr>\n  </tbody>\n</table>\n<p>178 rows × 14 columns</p>\n</div>"
     },
     "execution_count": 75,
     "metadata": {},
     "output_type": "execute_result"
    }
   ],
   "source": [
    "data.fillna(data.mean()) #평균적으로 결측치 채우기"
   ],
   "metadata": {
    "collapsed": false,
    "pycharm": {
     "name": "#%%\n"
    }
   }
  },
  {
   "cell_type": "code",
   "execution_count": 76,
   "outputs": [],
   "source": [
    "#일반적으로 dropna()를 사용하여 결측치 행 채우기\n",
    "\n",
    "#통상적으로 결측치의 50%이상이면 drop()을 고려해볼 만하고, 70~80%이 상이면 drop()을 적용하는 것이 좋다.\n",
    "\n",
    "#결측치의 경우 평균을 채워넣는다 하더라도 노이즈 발생 가능성"
   ],
   "metadata": {
    "collapsed": false,
    "pycharm": {
     "name": "#%%\n"
    }
   }
  },
  {
   "cell_type": "code",
   "execution_count": 77,
   "outputs": [],
   "source": [
    "data.fillna(data.median() , inplace=True) #평균적으로 결측치 채우기"
   ],
   "metadata": {
    "collapsed": false,
    "pycharm": {
     "name": "#%%\n"
    }
   }
  },
  {
   "cell_type": "code",
   "execution_count": 78,
   "outputs": [
    {
     "data": {
      "text/plain": "     alcohol  malic_acid   ash  alcalinity_of_ash  magnesium  total_phenols  \\\n0      14.23        1.71  2.43               15.6        127           2.80   \n1      13.05        1.78  2.14               11.2        100           2.65   \n2      13.16        2.36  2.67               18.6        101           2.80   \n3      14.37        1.95  2.50               16.8        113           3.85   \n4      13.24        2.59  2.87               21.0        118           2.80   \n..       ...         ...   ...                ...        ...            ...   \n173    13.71        5.65  2.45               20.5         95           1.68   \n174    13.40        3.91  2.48               23.0        102           1.80   \n175    13.27        4.28  2.26               20.0        120           1.59   \n176    13.17        2.59  2.37               20.0        120           1.65   \n177    14.13        4.10  2.74               24.5         96           2.05   \n\n     flavanoids  nonflavanoid_phenols  proanthocyanins  color_intensity   hue  \\\n0          3.06                  0.28             2.29             5.64  1.04   \n1          2.76                  0.26             1.28             4.38  1.05   \n2          3.24                  0.30             2.81             5.68  1.03   \n3          3.49                  0.24             2.18             7.80  0.86   \n4          2.69                  0.39             1.82             4.32  1.04   \n..          ...                   ...              ...              ...   ...   \n173        0.61                  0.52             1.06             7.70  0.64   \n174        0.75                  0.43             1.41             7.30  0.70   \n175        0.69                  0.43             1.35            10.20  0.59   \n176        0.68                  0.53             1.46             9.30  0.60   \n177        0.76                  0.56             1.35             9.20  0.61   \n\n     od280/od315_of_diluted_wines  proline  class  \n0                            3.92     1065      0  \n1                            3.40     1050      0  \n2                            3.17     1185      0  \n3                            3.45     1480      0  \n4                            2.93      735      0  \n..                            ...      ...    ...  \n173                          1.74      740      2  \n174                          1.56      750      2  \n175                          1.56      835      2  \n176                          1.62      840      2  \n177                          1.60      560      2  \n\n[178 rows x 14 columns]",
      "text/html": "<div>\n<style scoped>\n    .dataframe tbody tr th:only-of-type {\n        vertical-align: middle;\n    }\n\n    .dataframe tbody tr th {\n        vertical-align: top;\n    }\n\n    .dataframe thead th {\n        text-align: right;\n    }\n</style>\n<table border=\"1\" class=\"dataframe\">\n  <thead>\n    <tr style=\"text-align: right;\">\n      <th></th>\n      <th>alcohol</th>\n      <th>malic_acid</th>\n      <th>ash</th>\n      <th>alcalinity_of_ash</th>\n      <th>magnesium</th>\n      <th>total_phenols</th>\n      <th>flavanoids</th>\n      <th>nonflavanoid_phenols</th>\n      <th>proanthocyanins</th>\n      <th>color_intensity</th>\n      <th>hue</th>\n      <th>od280/od315_of_diluted_wines</th>\n      <th>proline</th>\n      <th>class</th>\n    </tr>\n  </thead>\n  <tbody>\n    <tr>\n      <th>0</th>\n      <td>14.23</td>\n      <td>1.71</td>\n      <td>2.43</td>\n      <td>15.6</td>\n      <td>127</td>\n      <td>2.80</td>\n      <td>3.06</td>\n      <td>0.28</td>\n      <td>2.29</td>\n      <td>5.64</td>\n      <td>1.04</td>\n      <td>3.92</td>\n      <td>1065</td>\n      <td>0</td>\n    </tr>\n    <tr>\n      <th>1</th>\n      <td>13.05</td>\n      <td>1.78</td>\n      <td>2.14</td>\n      <td>11.2</td>\n      <td>100</td>\n      <td>2.65</td>\n      <td>2.76</td>\n      <td>0.26</td>\n      <td>1.28</td>\n      <td>4.38</td>\n      <td>1.05</td>\n      <td>3.40</td>\n      <td>1050</td>\n      <td>0</td>\n    </tr>\n    <tr>\n      <th>2</th>\n      <td>13.16</td>\n      <td>2.36</td>\n      <td>2.67</td>\n      <td>18.6</td>\n      <td>101</td>\n      <td>2.80</td>\n      <td>3.24</td>\n      <td>0.30</td>\n      <td>2.81</td>\n      <td>5.68</td>\n      <td>1.03</td>\n      <td>3.17</td>\n      <td>1185</td>\n      <td>0</td>\n    </tr>\n    <tr>\n      <th>3</th>\n      <td>14.37</td>\n      <td>1.95</td>\n      <td>2.50</td>\n      <td>16.8</td>\n      <td>113</td>\n      <td>3.85</td>\n      <td>3.49</td>\n      <td>0.24</td>\n      <td>2.18</td>\n      <td>7.80</td>\n      <td>0.86</td>\n      <td>3.45</td>\n      <td>1480</td>\n      <td>0</td>\n    </tr>\n    <tr>\n      <th>4</th>\n      <td>13.24</td>\n      <td>2.59</td>\n      <td>2.87</td>\n      <td>21.0</td>\n      <td>118</td>\n      <td>2.80</td>\n      <td>2.69</td>\n      <td>0.39</td>\n      <td>1.82</td>\n      <td>4.32</td>\n      <td>1.04</td>\n      <td>2.93</td>\n      <td>735</td>\n      <td>0</td>\n    </tr>\n    <tr>\n      <th>...</th>\n      <td>...</td>\n      <td>...</td>\n      <td>...</td>\n      <td>...</td>\n      <td>...</td>\n      <td>...</td>\n      <td>...</td>\n      <td>...</td>\n      <td>...</td>\n      <td>...</td>\n      <td>...</td>\n      <td>...</td>\n      <td>...</td>\n      <td>...</td>\n    </tr>\n    <tr>\n      <th>173</th>\n      <td>13.71</td>\n      <td>5.65</td>\n      <td>2.45</td>\n      <td>20.5</td>\n      <td>95</td>\n      <td>1.68</td>\n      <td>0.61</td>\n      <td>0.52</td>\n      <td>1.06</td>\n      <td>7.70</td>\n      <td>0.64</td>\n      <td>1.74</td>\n      <td>740</td>\n      <td>2</td>\n    </tr>\n    <tr>\n      <th>174</th>\n      <td>13.40</td>\n      <td>3.91</td>\n      <td>2.48</td>\n      <td>23.0</td>\n      <td>102</td>\n      <td>1.80</td>\n      <td>0.75</td>\n      <td>0.43</td>\n      <td>1.41</td>\n      <td>7.30</td>\n      <td>0.70</td>\n      <td>1.56</td>\n      <td>750</td>\n      <td>2</td>\n    </tr>\n    <tr>\n      <th>175</th>\n      <td>13.27</td>\n      <td>4.28</td>\n      <td>2.26</td>\n      <td>20.0</td>\n      <td>120</td>\n      <td>1.59</td>\n      <td>0.69</td>\n      <td>0.43</td>\n      <td>1.35</td>\n      <td>10.20</td>\n      <td>0.59</td>\n      <td>1.56</td>\n      <td>835</td>\n      <td>2</td>\n    </tr>\n    <tr>\n      <th>176</th>\n      <td>13.17</td>\n      <td>2.59</td>\n      <td>2.37</td>\n      <td>20.0</td>\n      <td>120</td>\n      <td>1.65</td>\n      <td>0.68</td>\n      <td>0.53</td>\n      <td>1.46</td>\n      <td>9.30</td>\n      <td>0.60</td>\n      <td>1.62</td>\n      <td>840</td>\n      <td>2</td>\n    </tr>\n    <tr>\n      <th>177</th>\n      <td>14.13</td>\n      <td>4.10</td>\n      <td>2.74</td>\n      <td>24.5</td>\n      <td>96</td>\n      <td>2.05</td>\n      <td>0.76</td>\n      <td>0.56</td>\n      <td>1.35</td>\n      <td>9.20</td>\n      <td>0.61</td>\n      <td>1.60</td>\n      <td>560</td>\n      <td>2</td>\n    </tr>\n  </tbody>\n</table>\n<p>178 rows × 14 columns</p>\n</div>"
     },
     "execution_count": 78,
     "metadata": {},
     "output_type": "execute_result"
    }
   ],
   "source": [
    "data"
   ],
   "metadata": {
    "collapsed": false,
    "pycharm": {
     "name": "#%%\n"
    }
   }
  },
  {
   "cell_type": "code",
   "execution_count": 79,
   "outputs": [],
   "source": [
    "from sklearn.preprocessing import StandardScaler, MinMaxScaler , RobustScaler\n",
    "#한 라이브러리에서 여러 모듈 임포트"
   ],
   "metadata": {
    "collapsed": false,
    "pycharm": {
     "name": "#%%\n"
    }
   }
  },
  {
   "cell_type": "code",
   "execution_count": 80,
   "outputs": [],
   "source": [
    "st_scaler = StandardScaler() #스케일러 지정"
   ],
   "metadata": {
    "collapsed": false,
    "pycharm": {
     "name": "#%%\n"
    }
   }
  },
  {
   "cell_type": "code",
   "execution_count": 81,
   "outputs": [
    {
     "data": {
      "text/plain": "StandardScaler()"
     },
     "execution_count": 81,
     "metadata": {},
     "output_type": "execute_result"
    }
   ],
   "source": [
    "st_scaler.fit(data) # 학습, 스케일링에 필요한 정보(평균 , 표준편차)가 학습된다."
   ],
   "metadata": {
    "collapsed": false,
    "pycharm": {
     "name": "#%%\n"
    }
   }
  },
  {
   "cell_type": "code",
   "execution_count": 82,
   "outputs": [],
   "source": [
    "st_scaled = st_scaler.transform(data) #학습에서 얻은 정보 계산"
   ],
   "metadata": {
    "collapsed": false,
    "pycharm": {
     "name": "#%%\n"
    }
   }
  },
  {
   "cell_type": "code",
   "execution_count": 83,
   "outputs": [
    {
     "data": {
      "text/plain": "array([[ 1.555, -0.562,  0.232, ...,  1.848,  1.013, -1.214],\n       [ 0.076, -0.499, -0.828, ...,  1.113,  0.965, -1.214],\n       [ 0.213,  0.021,  1.109, ...,  0.789,  1.395, -1.214],\n       ...,\n       [ 0.351,  1.745, -0.389, ..., -1.485,  0.281,  1.374],\n       [ 0.226,  0.228,  0.013, ..., -1.401,  0.296,  1.374],\n       [ 1.429,  1.583,  1.365, ..., -1.429, -0.595,  1.374]])"
     },
     "execution_count": 83,
     "metadata": {},
     "output_type": "execute_result"
    }
   ],
   "source": [
    "st_scaled"
   ],
   "metadata": {
    "collapsed": false,
    "pycharm": {
     "name": "#%%\n"
    }
   }
  },
  {
   "cell_type": "code",
   "execution_count": 84,
   "outputs": [
    {
     "data": {
      "text/plain": "numpy.ndarray"
     },
     "execution_count": 84,
     "metadata": {},
     "output_type": "execute_result"
    }
   ],
   "source": [
    "type(st_scaled)"
   ],
   "metadata": {
    "collapsed": false,
    "pycharm": {
     "name": "#%%\n"
    }
   }
  },
  {
   "cell_type": "code",
   "execution_count": 85,
   "outputs": [
    {
     "data": {
      "text/plain": "           0         1         2         3         4         5         6   \\\n0    1.554849 -0.562250  0.232053 -1.169593  1.913905  0.808997  1.034819   \n1    0.075503 -0.499413 -0.827996 -2.490847  0.018145  0.568648  0.733629   \n2    0.213408  0.021231  1.109334 -0.268738  0.088358  0.808997  1.215533   \n3    1.730365 -0.346811  0.487926 -0.809251  0.930918  2.491446  1.466525   \n4    0.313703  0.227694  1.840403  0.451946  1.281985  0.808997  0.663351   \n..        ...       ...       ...       ...       ...       ...       ...   \n173  0.902934  2.974543  0.305159  0.301803 -0.332922 -0.985614 -1.424900   \n174  0.514292  1.412609  0.414820  1.052516  0.158572 -0.793334 -1.284344   \n175  0.351313  1.744744 -0.389355  0.151661  1.422412 -1.129824 -1.344582   \n176  0.225945  0.227694  0.012732  0.151661  1.422412 -1.033684 -1.354622   \n177  1.429481  1.583165  1.365208  1.502943 -0.262708 -0.392751 -1.274305   \n\n           7         8         9         10        11        12        13  \n0   -0.658865  1.224884  0.251717  0.362177  1.847920  1.013009 -1.213944  \n1   -0.820072 -0.544721 -0.293321  0.406051  1.113449  0.965242 -1.213944  \n2   -0.497658  2.135968  0.269020  0.318304  0.788587  1.395148 -1.213944  \n3   -0.981279  1.032155  1.186068 -0.427544  1.184071  2.334574 -1.213944  \n4    0.227773  0.401404 -0.319276  0.362177  0.449601 -0.037874 -1.213944  \n..        ...       ...       ...       ...       ...       ...       ...  \n173  1.275618 -0.930179  1.142811 -1.392758 -1.231206 -0.021952  1.373864  \n174  0.550187 -0.316950  0.969783 -1.129518 -1.485445  0.009893  1.373864  \n175  0.550187 -0.422075  2.224236 -1.612125 -1.485445  0.280575  1.373864  \n176  1.356221 -0.229346  1.834923 -1.568252 -1.400699  0.296498  1.373864  \n177  1.598032 -0.422075  1.791666 -1.524378 -1.428948 -0.595160  1.373864  \n\n[178 rows x 14 columns]",
      "text/html": "<div>\n<style scoped>\n    .dataframe tbody tr th:only-of-type {\n        vertical-align: middle;\n    }\n\n    .dataframe tbody tr th {\n        vertical-align: top;\n    }\n\n    .dataframe thead th {\n        text-align: right;\n    }\n</style>\n<table border=\"1\" class=\"dataframe\">\n  <thead>\n    <tr style=\"text-align: right;\">\n      <th></th>\n      <th>0</th>\n      <th>1</th>\n      <th>2</th>\n      <th>3</th>\n      <th>4</th>\n      <th>5</th>\n      <th>6</th>\n      <th>7</th>\n      <th>8</th>\n      <th>9</th>\n      <th>10</th>\n      <th>11</th>\n      <th>12</th>\n      <th>13</th>\n    </tr>\n  </thead>\n  <tbody>\n    <tr>\n      <th>0</th>\n      <td>1.554849</td>\n      <td>-0.562250</td>\n      <td>0.232053</td>\n      <td>-1.169593</td>\n      <td>1.913905</td>\n      <td>0.808997</td>\n      <td>1.034819</td>\n      <td>-0.658865</td>\n      <td>1.224884</td>\n      <td>0.251717</td>\n      <td>0.362177</td>\n      <td>1.847920</td>\n      <td>1.013009</td>\n      <td>-1.213944</td>\n    </tr>\n    <tr>\n      <th>1</th>\n      <td>0.075503</td>\n      <td>-0.499413</td>\n      <td>-0.827996</td>\n      <td>-2.490847</td>\n      <td>0.018145</td>\n      <td>0.568648</td>\n      <td>0.733629</td>\n      <td>-0.820072</td>\n      <td>-0.544721</td>\n      <td>-0.293321</td>\n      <td>0.406051</td>\n      <td>1.113449</td>\n      <td>0.965242</td>\n      <td>-1.213944</td>\n    </tr>\n    <tr>\n      <th>2</th>\n      <td>0.213408</td>\n      <td>0.021231</td>\n      <td>1.109334</td>\n      <td>-0.268738</td>\n      <td>0.088358</td>\n      <td>0.808997</td>\n      <td>1.215533</td>\n      <td>-0.497658</td>\n      <td>2.135968</td>\n      <td>0.269020</td>\n      <td>0.318304</td>\n      <td>0.788587</td>\n      <td>1.395148</td>\n      <td>-1.213944</td>\n    </tr>\n    <tr>\n      <th>3</th>\n      <td>1.730365</td>\n      <td>-0.346811</td>\n      <td>0.487926</td>\n      <td>-0.809251</td>\n      <td>0.930918</td>\n      <td>2.491446</td>\n      <td>1.466525</td>\n      <td>-0.981279</td>\n      <td>1.032155</td>\n      <td>1.186068</td>\n      <td>-0.427544</td>\n      <td>1.184071</td>\n      <td>2.334574</td>\n      <td>-1.213944</td>\n    </tr>\n    <tr>\n      <th>4</th>\n      <td>0.313703</td>\n      <td>0.227694</td>\n      <td>1.840403</td>\n      <td>0.451946</td>\n      <td>1.281985</td>\n      <td>0.808997</td>\n      <td>0.663351</td>\n      <td>0.227773</td>\n      <td>0.401404</td>\n      <td>-0.319276</td>\n      <td>0.362177</td>\n      <td>0.449601</td>\n      <td>-0.037874</td>\n      <td>-1.213944</td>\n    </tr>\n    <tr>\n      <th>...</th>\n      <td>...</td>\n      <td>...</td>\n      <td>...</td>\n      <td>...</td>\n      <td>...</td>\n      <td>...</td>\n      <td>...</td>\n      <td>...</td>\n      <td>...</td>\n      <td>...</td>\n      <td>...</td>\n      <td>...</td>\n      <td>...</td>\n      <td>...</td>\n    </tr>\n    <tr>\n      <th>173</th>\n      <td>0.902934</td>\n      <td>2.974543</td>\n      <td>0.305159</td>\n      <td>0.301803</td>\n      <td>-0.332922</td>\n      <td>-0.985614</td>\n      <td>-1.424900</td>\n      <td>1.275618</td>\n      <td>-0.930179</td>\n      <td>1.142811</td>\n      <td>-1.392758</td>\n      <td>-1.231206</td>\n      <td>-0.021952</td>\n      <td>1.373864</td>\n    </tr>\n    <tr>\n      <th>174</th>\n      <td>0.514292</td>\n      <td>1.412609</td>\n      <td>0.414820</td>\n      <td>1.052516</td>\n      <td>0.158572</td>\n      <td>-0.793334</td>\n      <td>-1.284344</td>\n      <td>0.550187</td>\n      <td>-0.316950</td>\n      <td>0.969783</td>\n      <td>-1.129518</td>\n      <td>-1.485445</td>\n      <td>0.009893</td>\n      <td>1.373864</td>\n    </tr>\n    <tr>\n      <th>175</th>\n      <td>0.351313</td>\n      <td>1.744744</td>\n      <td>-0.389355</td>\n      <td>0.151661</td>\n      <td>1.422412</td>\n      <td>-1.129824</td>\n      <td>-1.344582</td>\n      <td>0.550187</td>\n      <td>-0.422075</td>\n      <td>2.224236</td>\n      <td>-1.612125</td>\n      <td>-1.485445</td>\n      <td>0.280575</td>\n      <td>1.373864</td>\n    </tr>\n    <tr>\n      <th>176</th>\n      <td>0.225945</td>\n      <td>0.227694</td>\n      <td>0.012732</td>\n      <td>0.151661</td>\n      <td>1.422412</td>\n      <td>-1.033684</td>\n      <td>-1.354622</td>\n      <td>1.356221</td>\n      <td>-0.229346</td>\n      <td>1.834923</td>\n      <td>-1.568252</td>\n      <td>-1.400699</td>\n      <td>0.296498</td>\n      <td>1.373864</td>\n    </tr>\n    <tr>\n      <th>177</th>\n      <td>1.429481</td>\n      <td>1.583165</td>\n      <td>1.365208</td>\n      <td>1.502943</td>\n      <td>-0.262708</td>\n      <td>-0.392751</td>\n      <td>-1.274305</td>\n      <td>1.598032</td>\n      <td>-0.422075</td>\n      <td>1.791666</td>\n      <td>-1.524378</td>\n      <td>-1.428948</td>\n      <td>-0.595160</td>\n      <td>1.373864</td>\n    </tr>\n  </tbody>\n</table>\n<p>178 rows × 14 columns</p>\n</div>"
     },
     "execution_count": 85,
     "metadata": {},
     "output_type": "execute_result"
    }
   ],
   "source": [
    "pd.DataFrame(st_scaled)"
   ],
   "metadata": {
    "collapsed": false,
    "pycharm": {
     "name": "#%%\n"
    }
   }
  },
  {
   "cell_type": "code",
   "execution_count": 86,
   "outputs": [],
   "source": [
    "st_scaled = pd.DataFrame(st_scaled , columns = data.columns)"
   ],
   "metadata": {
    "collapsed": false,
    "pycharm": {
     "name": "#%%\n"
    }
   }
  },
  {
   "cell_type": "code",
   "execution_count": 87,
   "outputs": [
    {
     "data": {
      "text/plain": "       alcohol  malic_acid     ash  alcalinity_of_ash  magnesium  \\\ncount   178.00      178.00  178.00             178.00     178.00   \nmean     -0.00       -0.00   -0.00              -0.00      -0.00   \nstd       1.00        1.00    1.00               1.00       1.00   \nmin      -2.46       -1.43   -3.68              -2.67      -2.09   \n25%      -0.79       -0.66   -0.57              -0.69      -0.82   \n50%       0.08       -0.42   -0.02               0.00      -0.12   \n75%       0.84        0.67    0.70               0.60       0.51   \nmax       2.21        3.11    3.16               3.15       4.37   \n\n       total_phenols  flavanoids  nonflavanoid_phenols  proanthocyanins  \\\ncount         178.00      178.00                178.00           178.00   \nmean           -0.00       -0.00                 -0.00            -0.00   \nstd             1.00        1.00                  1.00             1.00   \nmin            -2.11       -1.70                 -1.87            -2.07   \n25%            -0.89       -0.83                 -0.74            -0.60   \n50%             0.10        0.11                 -0.18            -0.06   \n75%             0.81        0.85                  0.61             0.63   \nmax             2.54        3.06                  2.40             3.49   \n\n       color_intensity     hue  od280/od315_of_diluted_wines  proline   class  \ncount           178.00  178.00                        178.00   178.00  178.00  \nmean             -0.00    0.00                          0.00    -0.00   -0.00  \nstd               1.00    1.00                          1.00     1.00    1.00  \nmin              -1.63   -2.09                         -1.90    -1.49   -1.21  \n25%              -0.80   -0.77                         -0.95    -0.78   -1.21  \n50%              -0.16    0.03                          0.24    -0.23    0.08  \n75%               0.49    0.71                          0.79     0.76    1.37  \nmax               3.44    3.30                          1.96     2.97    1.37  ",
      "text/html": "<div>\n<style scoped>\n    .dataframe tbody tr th:only-of-type {\n        vertical-align: middle;\n    }\n\n    .dataframe tbody tr th {\n        vertical-align: top;\n    }\n\n    .dataframe thead th {\n        text-align: right;\n    }\n</style>\n<table border=\"1\" class=\"dataframe\">\n  <thead>\n    <tr style=\"text-align: right;\">\n      <th></th>\n      <th>alcohol</th>\n      <th>malic_acid</th>\n      <th>ash</th>\n      <th>alcalinity_of_ash</th>\n      <th>magnesium</th>\n      <th>total_phenols</th>\n      <th>flavanoids</th>\n      <th>nonflavanoid_phenols</th>\n      <th>proanthocyanins</th>\n      <th>color_intensity</th>\n      <th>hue</th>\n      <th>od280/od315_of_diluted_wines</th>\n      <th>proline</th>\n      <th>class</th>\n    </tr>\n  </thead>\n  <tbody>\n    <tr>\n      <th>count</th>\n      <td>178.00</td>\n      <td>178.00</td>\n      <td>178.00</td>\n      <td>178.00</td>\n      <td>178.00</td>\n      <td>178.00</td>\n      <td>178.00</td>\n      <td>178.00</td>\n      <td>178.00</td>\n      <td>178.00</td>\n      <td>178.00</td>\n      <td>178.00</td>\n      <td>178.00</td>\n      <td>178.00</td>\n    </tr>\n    <tr>\n      <th>mean</th>\n      <td>-0.00</td>\n      <td>-0.00</td>\n      <td>-0.00</td>\n      <td>-0.00</td>\n      <td>-0.00</td>\n      <td>-0.00</td>\n      <td>-0.00</td>\n      <td>-0.00</td>\n      <td>-0.00</td>\n      <td>-0.00</td>\n      <td>0.00</td>\n      <td>0.00</td>\n      <td>-0.00</td>\n      <td>-0.00</td>\n    </tr>\n    <tr>\n      <th>std</th>\n      <td>1.00</td>\n      <td>1.00</td>\n      <td>1.00</td>\n      <td>1.00</td>\n      <td>1.00</td>\n      <td>1.00</td>\n      <td>1.00</td>\n      <td>1.00</td>\n      <td>1.00</td>\n      <td>1.00</td>\n      <td>1.00</td>\n      <td>1.00</td>\n      <td>1.00</td>\n      <td>1.00</td>\n    </tr>\n    <tr>\n      <th>min</th>\n      <td>-2.46</td>\n      <td>-1.43</td>\n      <td>-3.68</td>\n      <td>-2.67</td>\n      <td>-2.09</td>\n      <td>-2.11</td>\n      <td>-1.70</td>\n      <td>-1.87</td>\n      <td>-2.07</td>\n      <td>-1.63</td>\n      <td>-2.09</td>\n      <td>-1.90</td>\n      <td>-1.49</td>\n      <td>-1.21</td>\n    </tr>\n    <tr>\n      <th>25%</th>\n      <td>-0.79</td>\n      <td>-0.66</td>\n      <td>-0.57</td>\n      <td>-0.69</td>\n      <td>-0.82</td>\n      <td>-0.89</td>\n      <td>-0.83</td>\n      <td>-0.74</td>\n      <td>-0.60</td>\n      <td>-0.80</td>\n      <td>-0.77</td>\n      <td>-0.95</td>\n      <td>-0.78</td>\n      <td>-1.21</td>\n    </tr>\n    <tr>\n      <th>50%</th>\n      <td>0.08</td>\n      <td>-0.42</td>\n      <td>-0.02</td>\n      <td>0.00</td>\n      <td>-0.12</td>\n      <td>0.10</td>\n      <td>0.11</td>\n      <td>-0.18</td>\n      <td>-0.06</td>\n      <td>-0.16</td>\n      <td>0.03</td>\n      <td>0.24</td>\n      <td>-0.23</td>\n      <td>0.08</td>\n    </tr>\n    <tr>\n      <th>75%</th>\n      <td>0.84</td>\n      <td>0.67</td>\n      <td>0.70</td>\n      <td>0.60</td>\n      <td>0.51</td>\n      <td>0.81</td>\n      <td>0.85</td>\n      <td>0.61</td>\n      <td>0.63</td>\n      <td>0.49</td>\n      <td>0.71</td>\n      <td>0.79</td>\n      <td>0.76</td>\n      <td>1.37</td>\n    </tr>\n    <tr>\n      <th>max</th>\n      <td>2.21</td>\n      <td>3.11</td>\n      <td>3.16</td>\n      <td>3.15</td>\n      <td>4.37</td>\n      <td>2.54</td>\n      <td>3.06</td>\n      <td>2.40</td>\n      <td>3.49</td>\n      <td>3.44</td>\n      <td>3.30</td>\n      <td>1.96</td>\n      <td>2.97</td>\n      <td>1.37</td>\n    </tr>\n  </tbody>\n</table>\n</div>"
     },
     "execution_count": 87,
     "metadata": {},
     "output_type": "execute_result"
    }
   ],
   "source": [
    "round(st_scaled.describe(), 2)"
   ],
   "metadata": {
    "collapsed": false,
    "pycharm": {
     "name": "#%%\n"
    }
   }
  },
  {
   "cell_type": "code",
   "execution_count": 88,
   "outputs": [],
   "source": [
    "rb_scaler = RobustScaler() #로버스트 스케일링에 사용할 객체를 생성"
   ],
   "metadata": {
    "collapsed": false,
    "pycharm": {
     "name": "#%%\n"
    }
   }
  },
  {
   "cell_type": "code",
   "execution_count": 89,
   "outputs": [],
   "source": [
    "rb_scaled = rb_scaler.fit_transform(data) #로버스트 스케일링 ==> fit과 transform이 합쳐졌다.\n",
    "rb_scaled = pd.DataFrame(rb_scaled , columns = data.columns)"
   ],
   "metadata": {
    "collapsed": false,
    "pycharm": {
     "name": "#%%\n"
    }
   }
  },
  {
   "cell_type": "code",
   "execution_count": 90,
   "outputs": [
    {
     "data": {
      "text/plain": "       alcohol  malic_acid     ash  alcalinity_of_ash  magnesium  \\\ncount   178.00      178.00  178.00             178.00     178.00   \nmean     -0.05        0.32    0.02              -0.00       0.09   \nstd       0.62        0.75    0.79               0.78       0.75   \nmin      -1.55       -0.76   -2.88              -2.07      -1.47   \n25%      -0.53       -0.18   -0.43              -0.53      -0.53   \n50%       0.00       -0.00    0.00               0.00       0.00   \n75%       0.47        0.82    0.57               0.47       0.47   \nmax       1.31        2.66    2.50               2.44       3.37   \n\n       total_phenols  flavanoids  nonflavanoid_phenols  proanthocyanins  \\\ncount         178.00      178.00                178.00           178.00   \nmean           -0.06       -0.06                  0.13             0.05   \nstd             0.59        0.60                  0.74             0.82   \nmin            -1.30       -1.07                 -1.25            -1.64   \n25%            -0.58       -0.56                 -0.42            -0.44   \n50%             0.00        0.00                  0.00            -0.00   \n75%             0.42        0.44                  0.58             0.56   \nmax             1.44        1.76                  1.91             2.89   \n\n       color_intensity     hue  od280/od315_of_diluted_wines  proline   class  \ncount           178.00  178.00                        178.00   178.00  178.00  \nmean              0.12   -0.02                         -0.14     0.15   -0.03  \nstd               0.78    0.68                          0.58     0.65    0.39  \nmin              -1.14   -1.44                         -1.23    -0.82   -0.50  \n25%              -0.49   -0.54                         -0.68    -0.36   -0.50  \n50%               0.00    0.00                          0.00     0.00    0.00  \n75%               0.51    0.46                          0.32     0.64    0.50  \nmax               2.79    2.21                          0.99     2.08    0.50  ",
      "text/html": "<div>\n<style scoped>\n    .dataframe tbody tr th:only-of-type {\n        vertical-align: middle;\n    }\n\n    .dataframe tbody tr th {\n        vertical-align: top;\n    }\n\n    .dataframe thead th {\n        text-align: right;\n    }\n</style>\n<table border=\"1\" class=\"dataframe\">\n  <thead>\n    <tr style=\"text-align: right;\">\n      <th></th>\n      <th>alcohol</th>\n      <th>malic_acid</th>\n      <th>ash</th>\n      <th>alcalinity_of_ash</th>\n      <th>magnesium</th>\n      <th>total_phenols</th>\n      <th>flavanoids</th>\n      <th>nonflavanoid_phenols</th>\n      <th>proanthocyanins</th>\n      <th>color_intensity</th>\n      <th>hue</th>\n      <th>od280/od315_of_diluted_wines</th>\n      <th>proline</th>\n      <th>class</th>\n    </tr>\n  </thead>\n  <tbody>\n    <tr>\n      <th>count</th>\n      <td>178.00</td>\n      <td>178.00</td>\n      <td>178.00</td>\n      <td>178.00</td>\n      <td>178.00</td>\n      <td>178.00</td>\n      <td>178.00</td>\n      <td>178.00</td>\n      <td>178.00</td>\n      <td>178.00</td>\n      <td>178.00</td>\n      <td>178.00</td>\n      <td>178.00</td>\n      <td>178.00</td>\n    </tr>\n    <tr>\n      <th>mean</th>\n      <td>-0.05</td>\n      <td>0.32</td>\n      <td>0.02</td>\n      <td>-0.00</td>\n      <td>0.09</td>\n      <td>-0.06</td>\n      <td>-0.06</td>\n      <td>0.13</td>\n      <td>0.05</td>\n      <td>0.12</td>\n      <td>-0.02</td>\n      <td>-0.14</td>\n      <td>0.15</td>\n      <td>-0.03</td>\n    </tr>\n    <tr>\n      <th>std</th>\n      <td>0.62</td>\n      <td>0.75</td>\n      <td>0.79</td>\n      <td>0.78</td>\n      <td>0.75</td>\n      <td>0.59</td>\n      <td>0.60</td>\n      <td>0.74</td>\n      <td>0.82</td>\n      <td>0.78</td>\n      <td>0.68</td>\n      <td>0.58</td>\n      <td>0.65</td>\n      <td>0.39</td>\n    </tr>\n    <tr>\n      <th>min</th>\n      <td>-1.55</td>\n      <td>-0.76</td>\n      <td>-2.88</td>\n      <td>-2.07</td>\n      <td>-1.47</td>\n      <td>-1.30</td>\n      <td>-1.07</td>\n      <td>-1.25</td>\n      <td>-1.64</td>\n      <td>-1.14</td>\n      <td>-1.44</td>\n      <td>-1.23</td>\n      <td>-0.82</td>\n      <td>-0.50</td>\n    </tr>\n    <tr>\n      <th>25%</th>\n      <td>-0.53</td>\n      <td>-0.18</td>\n      <td>-0.43</td>\n      <td>-0.53</td>\n      <td>-0.53</td>\n      <td>-0.58</td>\n      <td>-0.56</td>\n      <td>-0.42</td>\n      <td>-0.44</td>\n      <td>-0.49</td>\n      <td>-0.54</td>\n      <td>-0.68</td>\n      <td>-0.36</td>\n      <td>-0.50</td>\n    </tr>\n    <tr>\n      <th>50%</th>\n      <td>0.00</td>\n      <td>-0.00</td>\n      <td>0.00</td>\n      <td>0.00</td>\n      <td>0.00</td>\n      <td>0.00</td>\n      <td>0.00</td>\n      <td>0.00</td>\n      <td>-0.00</td>\n      <td>0.00</td>\n      <td>0.00</td>\n      <td>0.00</td>\n      <td>0.00</td>\n      <td>0.00</td>\n    </tr>\n    <tr>\n      <th>75%</th>\n      <td>0.47</td>\n      <td>0.82</td>\n      <td>0.57</td>\n      <td>0.47</td>\n      <td>0.47</td>\n      <td>0.42</td>\n      <td>0.44</td>\n      <td>0.58</td>\n      <td>0.56</td>\n      <td>0.51</td>\n      <td>0.46</td>\n      <td>0.32</td>\n      <td>0.64</td>\n      <td>0.50</td>\n    </tr>\n    <tr>\n      <th>max</th>\n      <td>1.31</td>\n      <td>2.66</td>\n      <td>2.50</td>\n      <td>2.44</td>\n      <td>3.37</td>\n      <td>1.44</td>\n      <td>1.76</td>\n      <td>1.91</td>\n      <td>2.89</td>\n      <td>2.79</td>\n      <td>2.21</td>\n      <td>0.99</td>\n      <td>2.08</td>\n      <td>0.50</td>\n    </tr>\n  </tbody>\n</table>\n</div>"
     },
     "execution_count": 90,
     "metadata": {},
     "output_type": "execute_result"
    }
   ],
   "source": [
    "round(rb_scaled.describe(), 2)"
   ],
   "metadata": {
    "collapsed": false,
    "pycharm": {
     "name": "#%%\n"
    }
   }
  },
  {
   "cell_type": "code",
   "execution_count": 91,
   "outputs": [
    {
     "data": {
      "text/plain": "       alcohol  malic_acid     ash  alcalinity_of_ash  magnesium  \\\ncount   178.00      178.00  178.00             178.00     178.00   \nmean      0.53        0.32    0.54               0.46       0.32   \nstd       0.22        0.22    0.15               0.17       0.16   \nmin       0.00        0.00    0.00               0.00       0.00   \n25%       0.36        0.17    0.45               0.34       0.20   \n50%       0.54        0.22    0.53               0.46       0.30   \n75%       0.71        0.46    0.64               0.56       0.40   \nmax       1.00        1.00    1.00               1.00       1.00   \n\n       total_phenols  flavanoids  nonflavanoid_phenols  proanthocyanins  \\\ncount         178.00      178.00                178.00           178.00   \nmean            0.45        0.36                  0.44             0.37   \nstd             0.22        0.21                  0.23             0.18   \nmin             0.00        0.00                  0.00             0.00   \n25%             0.26        0.18                  0.26             0.26   \n50%             0.47        0.38                  0.40             0.36   \n75%             0.63        0.53                  0.58             0.49   \nmax             1.00        1.00                  1.00             1.00   \n\n       color_intensity     hue  od280/od315_of_diluted_wines  proline   class  \ncount           178.00  178.00                        178.00   178.00  178.00  \nmean              0.32    0.39                          0.49     0.33    0.47  \nstd               0.20    0.19                          0.26     0.22    0.39  \nmin               0.00    0.00                          0.00     0.00    0.00  \n25%               0.17    0.25                          0.24     0.16    0.00  \n50%               0.29    0.39                          0.55     0.28    0.50  \n75%               0.42    0.52                          0.70     0.50    1.00  \nmax               1.00    1.00                          1.00     1.00    1.00  ",
      "text/html": "<div>\n<style scoped>\n    .dataframe tbody tr th:only-of-type {\n        vertical-align: middle;\n    }\n\n    .dataframe tbody tr th {\n        vertical-align: top;\n    }\n\n    .dataframe thead th {\n        text-align: right;\n    }\n</style>\n<table border=\"1\" class=\"dataframe\">\n  <thead>\n    <tr style=\"text-align: right;\">\n      <th></th>\n      <th>alcohol</th>\n      <th>malic_acid</th>\n      <th>ash</th>\n      <th>alcalinity_of_ash</th>\n      <th>magnesium</th>\n      <th>total_phenols</th>\n      <th>flavanoids</th>\n      <th>nonflavanoid_phenols</th>\n      <th>proanthocyanins</th>\n      <th>color_intensity</th>\n      <th>hue</th>\n      <th>od280/od315_of_diluted_wines</th>\n      <th>proline</th>\n      <th>class</th>\n    </tr>\n  </thead>\n  <tbody>\n    <tr>\n      <th>count</th>\n      <td>178.00</td>\n      <td>178.00</td>\n      <td>178.00</td>\n      <td>178.00</td>\n      <td>178.00</td>\n      <td>178.00</td>\n      <td>178.00</td>\n      <td>178.00</td>\n      <td>178.00</td>\n      <td>178.00</td>\n      <td>178.00</td>\n      <td>178.00</td>\n      <td>178.00</td>\n      <td>178.00</td>\n    </tr>\n    <tr>\n      <th>mean</th>\n      <td>0.53</td>\n      <td>0.32</td>\n      <td>0.54</td>\n      <td>0.46</td>\n      <td>0.32</td>\n      <td>0.45</td>\n      <td>0.36</td>\n      <td>0.44</td>\n      <td>0.37</td>\n      <td>0.32</td>\n      <td>0.39</td>\n      <td>0.49</td>\n      <td>0.33</td>\n      <td>0.47</td>\n    </tr>\n    <tr>\n      <th>std</th>\n      <td>0.22</td>\n      <td>0.22</td>\n      <td>0.15</td>\n      <td>0.17</td>\n      <td>0.16</td>\n      <td>0.22</td>\n      <td>0.21</td>\n      <td>0.23</td>\n      <td>0.18</td>\n      <td>0.20</td>\n      <td>0.19</td>\n      <td>0.26</td>\n      <td>0.22</td>\n      <td>0.39</td>\n    </tr>\n    <tr>\n      <th>min</th>\n      <td>0.00</td>\n      <td>0.00</td>\n      <td>0.00</td>\n      <td>0.00</td>\n      <td>0.00</td>\n      <td>0.00</td>\n      <td>0.00</td>\n      <td>0.00</td>\n      <td>0.00</td>\n      <td>0.00</td>\n      <td>0.00</td>\n      <td>0.00</td>\n      <td>0.00</td>\n      <td>0.00</td>\n    </tr>\n    <tr>\n      <th>25%</th>\n      <td>0.36</td>\n      <td>0.17</td>\n      <td>0.45</td>\n      <td>0.34</td>\n      <td>0.20</td>\n      <td>0.26</td>\n      <td>0.18</td>\n      <td>0.26</td>\n      <td>0.26</td>\n      <td>0.17</td>\n      <td>0.25</td>\n      <td>0.24</td>\n      <td>0.16</td>\n      <td>0.00</td>\n    </tr>\n    <tr>\n      <th>50%</th>\n      <td>0.54</td>\n      <td>0.22</td>\n      <td>0.53</td>\n      <td>0.46</td>\n      <td>0.30</td>\n      <td>0.47</td>\n      <td>0.38</td>\n      <td>0.40</td>\n      <td>0.36</td>\n      <td>0.29</td>\n      <td>0.39</td>\n      <td>0.55</td>\n      <td>0.28</td>\n      <td>0.50</td>\n    </tr>\n    <tr>\n      <th>75%</th>\n      <td>0.71</td>\n      <td>0.46</td>\n      <td>0.64</td>\n      <td>0.56</td>\n      <td>0.40</td>\n      <td>0.63</td>\n      <td>0.53</td>\n      <td>0.58</td>\n      <td>0.49</td>\n      <td>0.42</td>\n      <td>0.52</td>\n      <td>0.70</td>\n      <td>0.50</td>\n      <td>1.00</td>\n    </tr>\n    <tr>\n      <th>max</th>\n      <td>1.00</td>\n      <td>1.00</td>\n      <td>1.00</td>\n      <td>1.00</td>\n      <td>1.00</td>\n      <td>1.00</td>\n      <td>1.00</td>\n      <td>1.00</td>\n      <td>1.00</td>\n      <td>1.00</td>\n      <td>1.00</td>\n      <td>1.00</td>\n      <td>1.00</td>\n      <td>1.00</td>\n    </tr>\n  </tbody>\n</table>\n</div>"
     },
     "execution_count": 91,
     "metadata": {},
     "output_type": "execute_result"
    }
   ],
   "source": [
    "mm_scaler = MinMaxScaler() #최소-최대 스케일링 객체 생성\n",
    "mm_scaled = mm_scaler.fit_transform(data) # 최소-최대 스케일링\n",
    "mm_scaled = pd.DataFrame(mm_scaled , columns= data.columns)\n",
    "round(mm_scaled.describe() , 2)"
   ],
   "metadata": {
    "collapsed": false,
    "pycharm": {
     "name": "#%%\n"
    }
   }
  },
  {
   "cell_type": "code",
   "execution_count": 92,
   "outputs": [],
   "source": [
    "from sklearn.model_selection import train_test_split\n",
    "X_train , X_test, y_train , y_test = train_test_split(data.drop('class' , axis= 1) , data['class'] , test_size=0.2, random_state=100) #학습셋과 시험셋 분리"
   ],
   "metadata": {
    "collapsed": false,
    "pycharm": {
     "name": "#%%\n"
    }
   }
  },
  {
   "cell_type": "code",
   "execution_count": 93,
   "outputs": [
    {
     "data": {
      "text/plain": "     alcohol  malic_acid   ash  alcalinity_of_ash  magnesium  total_phenols  \\\n111    12.52        2.43  2.17               21.0         88           2.55   \n119    12.00        3.43  2.00               19.0         87           2.00   \n170    12.20        3.03  2.32               19.0         96           1.25   \n142    13.52        3.17  2.72               23.5         97           1.55   \n29     14.02        1.68  2.21               16.0         96           2.65   \n..       ...         ...   ...                ...        ...            ...   \n87     11.65        1.67  2.62               26.0         88           1.92   \n103    11.82        1.72  1.88               19.5         86           2.50   \n67     12.37        1.17  1.92               19.6         78           2.11   \n24     13.50        1.81  2.61               20.0         96           2.53   \n8      13.05        1.64  2.17               14.0         97           2.80   \n\n     flavanoids  nonflavanoid_phenols  proanthocyanins  color_intensity   hue  \\\n111        2.27                  0.26             1.22             2.00  0.90   \n119        1.64                  0.37             1.87             1.28  0.93   \n170        0.49                  0.40             0.73             5.50  0.66   \n142        0.52                  0.50             0.55             4.35  0.89   \n29         2.33                  0.26             1.98             4.70  1.04   \n..          ...                   ...              ...              ...   ...   \n87         1.61                  0.40             1.34             2.60  1.36   \n103        1.64                  0.34             1.42             2.06  0.94   \n67         2.00                  0.27             1.04             4.68  1.12   \n24         2.61                  0.28             1.66             3.52  1.12   \n8          2.98                  0.29             1.98             5.20  1.08   \n\n     od280/od315_of_diluted_wines  proline  \n111                          2.78      325  \n119                          3.05      564  \n170                          1.83      510  \n142                          2.06      520  \n29                           3.59     1035  \n..                            ...      ...  \n87                           3.21      562  \n103                          2.44      415  \n67                           3.48      510  \n24                           3.82      845  \n8                            2.85     1045  \n\n[142 rows x 13 columns]",
      "text/html": "<div>\n<style scoped>\n    .dataframe tbody tr th:only-of-type {\n        vertical-align: middle;\n    }\n\n    .dataframe tbody tr th {\n        vertical-align: top;\n    }\n\n    .dataframe thead th {\n        text-align: right;\n    }\n</style>\n<table border=\"1\" class=\"dataframe\">\n  <thead>\n    <tr style=\"text-align: right;\">\n      <th></th>\n      <th>alcohol</th>\n      <th>malic_acid</th>\n      <th>ash</th>\n      <th>alcalinity_of_ash</th>\n      <th>magnesium</th>\n      <th>total_phenols</th>\n      <th>flavanoids</th>\n      <th>nonflavanoid_phenols</th>\n      <th>proanthocyanins</th>\n      <th>color_intensity</th>\n      <th>hue</th>\n      <th>od280/od315_of_diluted_wines</th>\n      <th>proline</th>\n    </tr>\n  </thead>\n  <tbody>\n    <tr>\n      <th>111</th>\n      <td>12.52</td>\n      <td>2.43</td>\n      <td>2.17</td>\n      <td>21.0</td>\n      <td>88</td>\n      <td>2.55</td>\n      <td>2.27</td>\n      <td>0.26</td>\n      <td>1.22</td>\n      <td>2.00</td>\n      <td>0.90</td>\n      <td>2.78</td>\n      <td>325</td>\n    </tr>\n    <tr>\n      <th>119</th>\n      <td>12.00</td>\n      <td>3.43</td>\n      <td>2.00</td>\n      <td>19.0</td>\n      <td>87</td>\n      <td>2.00</td>\n      <td>1.64</td>\n      <td>0.37</td>\n      <td>1.87</td>\n      <td>1.28</td>\n      <td>0.93</td>\n      <td>3.05</td>\n      <td>564</td>\n    </tr>\n    <tr>\n      <th>170</th>\n      <td>12.20</td>\n      <td>3.03</td>\n      <td>2.32</td>\n      <td>19.0</td>\n      <td>96</td>\n      <td>1.25</td>\n      <td>0.49</td>\n      <td>0.40</td>\n      <td>0.73</td>\n      <td>5.50</td>\n      <td>0.66</td>\n      <td>1.83</td>\n      <td>510</td>\n    </tr>\n    <tr>\n      <th>142</th>\n      <td>13.52</td>\n      <td>3.17</td>\n      <td>2.72</td>\n      <td>23.5</td>\n      <td>97</td>\n      <td>1.55</td>\n      <td>0.52</td>\n      <td>0.50</td>\n      <td>0.55</td>\n      <td>4.35</td>\n      <td>0.89</td>\n      <td>2.06</td>\n      <td>520</td>\n    </tr>\n    <tr>\n      <th>29</th>\n      <td>14.02</td>\n      <td>1.68</td>\n      <td>2.21</td>\n      <td>16.0</td>\n      <td>96</td>\n      <td>2.65</td>\n      <td>2.33</td>\n      <td>0.26</td>\n      <td>1.98</td>\n      <td>4.70</td>\n      <td>1.04</td>\n      <td>3.59</td>\n      <td>1035</td>\n    </tr>\n    <tr>\n      <th>...</th>\n      <td>...</td>\n      <td>...</td>\n      <td>...</td>\n      <td>...</td>\n      <td>...</td>\n      <td>...</td>\n      <td>...</td>\n      <td>...</td>\n      <td>...</td>\n      <td>...</td>\n      <td>...</td>\n      <td>...</td>\n      <td>...</td>\n    </tr>\n    <tr>\n      <th>87</th>\n      <td>11.65</td>\n      <td>1.67</td>\n      <td>2.62</td>\n      <td>26.0</td>\n      <td>88</td>\n      <td>1.92</td>\n      <td>1.61</td>\n      <td>0.40</td>\n      <td>1.34</td>\n      <td>2.60</td>\n      <td>1.36</td>\n      <td>3.21</td>\n      <td>562</td>\n    </tr>\n    <tr>\n      <th>103</th>\n      <td>11.82</td>\n      <td>1.72</td>\n      <td>1.88</td>\n      <td>19.5</td>\n      <td>86</td>\n      <td>2.50</td>\n      <td>1.64</td>\n      <td>0.34</td>\n      <td>1.42</td>\n      <td>2.06</td>\n      <td>0.94</td>\n      <td>2.44</td>\n      <td>415</td>\n    </tr>\n    <tr>\n      <th>67</th>\n      <td>12.37</td>\n      <td>1.17</td>\n      <td>1.92</td>\n      <td>19.6</td>\n      <td>78</td>\n      <td>2.11</td>\n      <td>2.00</td>\n      <td>0.27</td>\n      <td>1.04</td>\n      <td>4.68</td>\n      <td>1.12</td>\n      <td>3.48</td>\n      <td>510</td>\n    </tr>\n    <tr>\n      <th>24</th>\n      <td>13.50</td>\n      <td>1.81</td>\n      <td>2.61</td>\n      <td>20.0</td>\n      <td>96</td>\n      <td>2.53</td>\n      <td>2.61</td>\n      <td>0.28</td>\n      <td>1.66</td>\n      <td>3.52</td>\n      <td>1.12</td>\n      <td>3.82</td>\n      <td>845</td>\n    </tr>\n    <tr>\n      <th>8</th>\n      <td>13.05</td>\n      <td>1.64</td>\n      <td>2.17</td>\n      <td>14.0</td>\n      <td>97</td>\n      <td>2.80</td>\n      <td>2.98</td>\n      <td>0.29</td>\n      <td>1.98</td>\n      <td>5.20</td>\n      <td>1.08</td>\n      <td>2.85</td>\n      <td>1045</td>\n    </tr>\n  </tbody>\n</table>\n<p>142 rows × 13 columns</p>\n</div>"
     },
     "execution_count": 93,
     "metadata": {},
     "output_type": "execute_result"
    }
   ],
   "source": [
    "X_train"
   ],
   "metadata": {
    "collapsed": false,
    "pycharm": {
     "name": "#%%\n"
    }
   }
  },
  {
   "cell_type": "code",
   "execution_count": 94,
   "outputs": [
    {
     "data": {
      "text/plain": "     alcohol  malic_acid   ash  alcalinity_of_ash  magnesium  total_phenols  \\\n88     11.64        2.06  2.46               21.6         84           1.95   \n159    13.48        1.67  2.64               22.5         89           2.60   \n11     14.12        1.48  2.32               16.8         95           2.20   \n74     11.96        1.09  2.30               21.0        101           3.38   \n158    14.34        1.68  2.70               25.0         98           2.80   \n149    13.08        3.90  2.36               21.5        113           1.41   \n99     12.29        3.17  2.21               18.0         88           2.85   \n96     11.81        2.12  2.74               21.5        134           1.60   \n90     12.08        1.83  2.32               18.5         81           1.60   \n95     12.47        1.52  2.20               19.0        162           2.50   \n134    12.51        1.24  2.25               17.5         85           2.00   \n65     12.37        1.21  2.56               18.1         98           2.42   \n171    12.77        2.39  2.28               19.5         86           1.39   \n165    13.73        4.36  2.26               22.5         88           1.28   \n169    13.40        4.60  2.86               25.0        112           1.98   \n15     13.63        1.81  2.70               17.2        112           2.85   \n145    13.16        3.57  2.15               21.0        102           1.50   \n7      14.06        2.15  2.61               17.6        121           2.60   \n77     11.84        2.89  2.23               18.0        112           1.72   \n41     13.41        3.84  2.12               18.8         90           2.45   \n150    13.50        3.12  2.62               24.0        123           1.40   \n32     13.68        1.83  2.36               17.2        104           2.42   \n118    12.77        3.43  1.98               16.0         80           1.63   \n92     12.69        1.53  2.26               20.7         80           1.38   \n40     13.56        1.71  2.31               16.2        117           3.15   \n1      13.05        1.78  2.14               11.2        100           2.65   \n75     11.66        1.88  1.92               16.0         97           1.61   \n114    12.08        1.39  2.50               22.5         84           2.56   \n64     12.17        1.45  2.53               19.0        104           1.89   \n163    12.96        3.45  2.35               18.5        106           1.39   \n147    12.87        4.61  2.48               21.5         86           1.70   \n69     12.21        1.19  1.75               16.8        151           1.85   \n26     13.39        1.77  2.62               16.1         93           2.85   \n97     12.29        1.41  1.98               16.0         85           2.55   \n146    13.88        5.04  2.23               20.0         80           0.98   \n151    12.79        2.67  2.48               22.0        112           1.48   \n\n     flavanoids  nonflavanoid_phenols  proanthocyanins  color_intensity   hue  \\\n88         1.69                  0.48             1.35         2.800000  1.00   \n159        1.10                  0.52             2.29        11.750000  0.57   \n11         2.43                  0.26             1.57         5.000000  1.17   \n74         2.14                  0.13             1.65         3.210000  0.99   \n158        1.31                  0.53             2.70        13.000000  0.57   \n149        1.39                  0.34             1.14         9.400000  0.57   \n99         2.99                  0.45             2.81         2.300000  1.42   \n96         0.99                  0.14             1.56         2.500000  0.95   \n90         1.50                  0.52             1.64         2.400000  1.08   \n95         2.27                  0.34             3.28         2.600000  1.16   \n134        0.58                  0.60             1.25         5.450000  0.75   \n65         2.65                  0.37             2.08         4.600000  1.19   \n171        0.51                  0.48             0.64         9.899999  0.57   \n165        0.47                  0.52             1.15         6.620000  0.78   \n169        0.96                  0.27             1.11         8.500000  0.67   \n15         2.91                  0.30             1.46         7.300000  1.28   \n145        0.55                  0.43             1.30         4.000000  0.60   \n7          2.51                  0.31             1.25         5.050000  1.06   \n77         1.32                  0.43             0.95         2.650000  0.96   \n41         2.68                  0.27             1.48         4.280000  0.91   \n150        1.57                  0.22             1.25         8.600000  0.59   \n32         2.69                  0.42             1.97         3.840000  1.23   \n118        1.25                  0.43             0.83         3.400000  0.70   \n92         1.46                  0.58             1.62         3.050000  0.96   \n40         3.29                  0.34             2.34         6.130000  0.95   \n1          2.76                  0.26             1.28         4.380000  1.05   \n75         1.57                  0.34             1.15         3.800000  1.23   \n114        2.29                  0.43             1.04         2.900000  0.93   \n64         1.75                  0.45             1.03         2.950000  1.45   \n163        0.70                  0.40             0.94         5.280000  0.68   \n147        0.65                  0.47             0.86         7.650000  0.54   \n69         1.28                  0.14             2.50         2.850000  1.28   \n26         2.94                  0.34             1.45         4.800000  0.92   \n97         2.50                  0.29             1.77         2.900000  1.23   \n146        0.34                  0.40             0.68         4.900000  0.58   \n151        1.36                  0.24             1.26        10.800000  0.48   \n\n     od280/od315_of_diluted_wines  proline  \n88                           2.75      680  \n159                          1.78      620  \n11                           2.82     1280  \n74                           3.13      886  \n158                          1.96      660  \n149                          1.33      550  \n99                           2.83      406  \n96                           2.26      625  \n90                           2.27      480  \n95                           2.63      937  \n134                          1.51      650  \n65                           2.30      678  \n171                          1.63      470  \n165                          1.75      520  \n169                          1.92      630  \n15                           2.88     1310  \n145                          1.68      830  \n7                            3.58     1295  \n77                           2.52      500  \n41                           3.00     1035  \n150                          1.30      500  \n32                           2.87      990  \n118                          2.12      372  \n92                           2.06      495  \n40                           3.38      795  \n1                            3.40     1050  \n75                           2.14      428  \n114                          3.19      385  \n64                           2.23      355  \n163                          1.75      675  \n147                          1.86      625  \n69                           3.07      718  \n26                           3.22     1195  \n97                           2.74      428  \n146                          1.33      415  \n151                          1.47      480  ",
      "text/html": "<div>\n<style scoped>\n    .dataframe tbody tr th:only-of-type {\n        vertical-align: middle;\n    }\n\n    .dataframe tbody tr th {\n        vertical-align: top;\n    }\n\n    .dataframe thead th {\n        text-align: right;\n    }\n</style>\n<table border=\"1\" class=\"dataframe\">\n  <thead>\n    <tr style=\"text-align: right;\">\n      <th></th>\n      <th>alcohol</th>\n      <th>malic_acid</th>\n      <th>ash</th>\n      <th>alcalinity_of_ash</th>\n      <th>magnesium</th>\n      <th>total_phenols</th>\n      <th>flavanoids</th>\n      <th>nonflavanoid_phenols</th>\n      <th>proanthocyanins</th>\n      <th>color_intensity</th>\n      <th>hue</th>\n      <th>od280/od315_of_diluted_wines</th>\n      <th>proline</th>\n    </tr>\n  </thead>\n  <tbody>\n    <tr>\n      <th>88</th>\n      <td>11.64</td>\n      <td>2.06</td>\n      <td>2.46</td>\n      <td>21.6</td>\n      <td>84</td>\n      <td>1.95</td>\n      <td>1.69</td>\n      <td>0.48</td>\n      <td>1.35</td>\n      <td>2.800000</td>\n      <td>1.00</td>\n      <td>2.75</td>\n      <td>680</td>\n    </tr>\n    <tr>\n      <th>159</th>\n      <td>13.48</td>\n      <td>1.67</td>\n      <td>2.64</td>\n      <td>22.5</td>\n      <td>89</td>\n      <td>2.60</td>\n      <td>1.10</td>\n      <td>0.52</td>\n      <td>2.29</td>\n      <td>11.750000</td>\n      <td>0.57</td>\n      <td>1.78</td>\n      <td>620</td>\n    </tr>\n    <tr>\n      <th>11</th>\n      <td>14.12</td>\n      <td>1.48</td>\n      <td>2.32</td>\n      <td>16.8</td>\n      <td>95</td>\n      <td>2.20</td>\n      <td>2.43</td>\n      <td>0.26</td>\n      <td>1.57</td>\n      <td>5.000000</td>\n      <td>1.17</td>\n      <td>2.82</td>\n      <td>1280</td>\n    </tr>\n    <tr>\n      <th>74</th>\n      <td>11.96</td>\n      <td>1.09</td>\n      <td>2.30</td>\n      <td>21.0</td>\n      <td>101</td>\n      <td>3.38</td>\n      <td>2.14</td>\n      <td>0.13</td>\n      <td>1.65</td>\n      <td>3.210000</td>\n      <td>0.99</td>\n      <td>3.13</td>\n      <td>886</td>\n    </tr>\n    <tr>\n      <th>158</th>\n      <td>14.34</td>\n      <td>1.68</td>\n      <td>2.70</td>\n      <td>25.0</td>\n      <td>98</td>\n      <td>2.80</td>\n      <td>1.31</td>\n      <td>0.53</td>\n      <td>2.70</td>\n      <td>13.000000</td>\n      <td>0.57</td>\n      <td>1.96</td>\n      <td>660</td>\n    </tr>\n    <tr>\n      <th>149</th>\n      <td>13.08</td>\n      <td>3.90</td>\n      <td>2.36</td>\n      <td>21.5</td>\n      <td>113</td>\n      <td>1.41</td>\n      <td>1.39</td>\n      <td>0.34</td>\n      <td>1.14</td>\n      <td>9.400000</td>\n      <td>0.57</td>\n      <td>1.33</td>\n      <td>550</td>\n    </tr>\n    <tr>\n      <th>99</th>\n      <td>12.29</td>\n      <td>3.17</td>\n      <td>2.21</td>\n      <td>18.0</td>\n      <td>88</td>\n      <td>2.85</td>\n      <td>2.99</td>\n      <td>0.45</td>\n      <td>2.81</td>\n      <td>2.300000</td>\n      <td>1.42</td>\n      <td>2.83</td>\n      <td>406</td>\n    </tr>\n    <tr>\n      <th>96</th>\n      <td>11.81</td>\n      <td>2.12</td>\n      <td>2.74</td>\n      <td>21.5</td>\n      <td>134</td>\n      <td>1.60</td>\n      <td>0.99</td>\n      <td>0.14</td>\n      <td>1.56</td>\n      <td>2.500000</td>\n      <td>0.95</td>\n      <td>2.26</td>\n      <td>625</td>\n    </tr>\n    <tr>\n      <th>90</th>\n      <td>12.08</td>\n      <td>1.83</td>\n      <td>2.32</td>\n      <td>18.5</td>\n      <td>81</td>\n      <td>1.60</td>\n      <td>1.50</td>\n      <td>0.52</td>\n      <td>1.64</td>\n      <td>2.400000</td>\n      <td>1.08</td>\n      <td>2.27</td>\n      <td>480</td>\n    </tr>\n    <tr>\n      <th>95</th>\n      <td>12.47</td>\n      <td>1.52</td>\n      <td>2.20</td>\n      <td>19.0</td>\n      <td>162</td>\n      <td>2.50</td>\n      <td>2.27</td>\n      <td>0.34</td>\n      <td>3.28</td>\n      <td>2.600000</td>\n      <td>1.16</td>\n      <td>2.63</td>\n      <td>937</td>\n    </tr>\n    <tr>\n      <th>134</th>\n      <td>12.51</td>\n      <td>1.24</td>\n      <td>2.25</td>\n      <td>17.5</td>\n      <td>85</td>\n      <td>2.00</td>\n      <td>0.58</td>\n      <td>0.60</td>\n      <td>1.25</td>\n      <td>5.450000</td>\n      <td>0.75</td>\n      <td>1.51</td>\n      <td>650</td>\n    </tr>\n    <tr>\n      <th>65</th>\n      <td>12.37</td>\n      <td>1.21</td>\n      <td>2.56</td>\n      <td>18.1</td>\n      <td>98</td>\n      <td>2.42</td>\n      <td>2.65</td>\n      <td>0.37</td>\n      <td>2.08</td>\n      <td>4.600000</td>\n      <td>1.19</td>\n      <td>2.30</td>\n      <td>678</td>\n    </tr>\n    <tr>\n      <th>171</th>\n      <td>12.77</td>\n      <td>2.39</td>\n      <td>2.28</td>\n      <td>19.5</td>\n      <td>86</td>\n      <td>1.39</td>\n      <td>0.51</td>\n      <td>0.48</td>\n      <td>0.64</td>\n      <td>9.899999</td>\n      <td>0.57</td>\n      <td>1.63</td>\n      <td>470</td>\n    </tr>\n    <tr>\n      <th>165</th>\n      <td>13.73</td>\n      <td>4.36</td>\n      <td>2.26</td>\n      <td>22.5</td>\n      <td>88</td>\n      <td>1.28</td>\n      <td>0.47</td>\n      <td>0.52</td>\n      <td>1.15</td>\n      <td>6.620000</td>\n      <td>0.78</td>\n      <td>1.75</td>\n      <td>520</td>\n    </tr>\n    <tr>\n      <th>169</th>\n      <td>13.40</td>\n      <td>4.60</td>\n      <td>2.86</td>\n      <td>25.0</td>\n      <td>112</td>\n      <td>1.98</td>\n      <td>0.96</td>\n      <td>0.27</td>\n      <td>1.11</td>\n      <td>8.500000</td>\n      <td>0.67</td>\n      <td>1.92</td>\n      <td>630</td>\n    </tr>\n    <tr>\n      <th>15</th>\n      <td>13.63</td>\n      <td>1.81</td>\n      <td>2.70</td>\n      <td>17.2</td>\n      <td>112</td>\n      <td>2.85</td>\n      <td>2.91</td>\n      <td>0.30</td>\n      <td>1.46</td>\n      <td>7.300000</td>\n      <td>1.28</td>\n      <td>2.88</td>\n      <td>1310</td>\n    </tr>\n    <tr>\n      <th>145</th>\n      <td>13.16</td>\n      <td>3.57</td>\n      <td>2.15</td>\n      <td>21.0</td>\n      <td>102</td>\n      <td>1.50</td>\n      <td>0.55</td>\n      <td>0.43</td>\n      <td>1.30</td>\n      <td>4.000000</td>\n      <td>0.60</td>\n      <td>1.68</td>\n      <td>830</td>\n    </tr>\n    <tr>\n      <th>7</th>\n      <td>14.06</td>\n      <td>2.15</td>\n      <td>2.61</td>\n      <td>17.6</td>\n      <td>121</td>\n      <td>2.60</td>\n      <td>2.51</td>\n      <td>0.31</td>\n      <td>1.25</td>\n      <td>5.050000</td>\n      <td>1.06</td>\n      <td>3.58</td>\n      <td>1295</td>\n    </tr>\n    <tr>\n      <th>77</th>\n      <td>11.84</td>\n      <td>2.89</td>\n      <td>2.23</td>\n      <td>18.0</td>\n      <td>112</td>\n      <td>1.72</td>\n      <td>1.32</td>\n      <td>0.43</td>\n      <td>0.95</td>\n      <td>2.650000</td>\n      <td>0.96</td>\n      <td>2.52</td>\n      <td>500</td>\n    </tr>\n    <tr>\n      <th>41</th>\n      <td>13.41</td>\n      <td>3.84</td>\n      <td>2.12</td>\n      <td>18.8</td>\n      <td>90</td>\n      <td>2.45</td>\n      <td>2.68</td>\n      <td>0.27</td>\n      <td>1.48</td>\n      <td>4.280000</td>\n      <td>0.91</td>\n      <td>3.00</td>\n      <td>1035</td>\n    </tr>\n    <tr>\n      <th>150</th>\n      <td>13.50</td>\n      <td>3.12</td>\n      <td>2.62</td>\n      <td>24.0</td>\n      <td>123</td>\n      <td>1.40</td>\n      <td>1.57</td>\n      <td>0.22</td>\n      <td>1.25</td>\n      <td>8.600000</td>\n      <td>0.59</td>\n      <td>1.30</td>\n      <td>500</td>\n    </tr>\n    <tr>\n      <th>32</th>\n      <td>13.68</td>\n      <td>1.83</td>\n      <td>2.36</td>\n      <td>17.2</td>\n      <td>104</td>\n      <td>2.42</td>\n      <td>2.69</td>\n      <td>0.42</td>\n      <td>1.97</td>\n      <td>3.840000</td>\n      <td>1.23</td>\n      <td>2.87</td>\n      <td>990</td>\n    </tr>\n    <tr>\n      <th>118</th>\n      <td>12.77</td>\n      <td>3.43</td>\n      <td>1.98</td>\n      <td>16.0</td>\n      <td>80</td>\n      <td>1.63</td>\n      <td>1.25</td>\n      <td>0.43</td>\n      <td>0.83</td>\n      <td>3.400000</td>\n      <td>0.70</td>\n      <td>2.12</td>\n      <td>372</td>\n    </tr>\n    <tr>\n      <th>92</th>\n      <td>12.69</td>\n      <td>1.53</td>\n      <td>2.26</td>\n      <td>20.7</td>\n      <td>80</td>\n      <td>1.38</td>\n      <td>1.46</td>\n      <td>0.58</td>\n      <td>1.62</td>\n      <td>3.050000</td>\n      <td>0.96</td>\n      <td>2.06</td>\n      <td>495</td>\n    </tr>\n    <tr>\n      <th>40</th>\n      <td>13.56</td>\n      <td>1.71</td>\n      <td>2.31</td>\n      <td>16.2</td>\n      <td>117</td>\n      <td>3.15</td>\n      <td>3.29</td>\n      <td>0.34</td>\n      <td>2.34</td>\n      <td>6.130000</td>\n      <td>0.95</td>\n      <td>3.38</td>\n      <td>795</td>\n    </tr>\n    <tr>\n      <th>1</th>\n      <td>13.05</td>\n      <td>1.78</td>\n      <td>2.14</td>\n      <td>11.2</td>\n      <td>100</td>\n      <td>2.65</td>\n      <td>2.76</td>\n      <td>0.26</td>\n      <td>1.28</td>\n      <td>4.380000</td>\n      <td>1.05</td>\n      <td>3.40</td>\n      <td>1050</td>\n    </tr>\n    <tr>\n      <th>75</th>\n      <td>11.66</td>\n      <td>1.88</td>\n      <td>1.92</td>\n      <td>16.0</td>\n      <td>97</td>\n      <td>1.61</td>\n      <td>1.57</td>\n      <td>0.34</td>\n      <td>1.15</td>\n      <td>3.800000</td>\n      <td>1.23</td>\n      <td>2.14</td>\n      <td>428</td>\n    </tr>\n    <tr>\n      <th>114</th>\n      <td>12.08</td>\n      <td>1.39</td>\n      <td>2.50</td>\n      <td>22.5</td>\n      <td>84</td>\n      <td>2.56</td>\n      <td>2.29</td>\n      <td>0.43</td>\n      <td>1.04</td>\n      <td>2.900000</td>\n      <td>0.93</td>\n      <td>3.19</td>\n      <td>385</td>\n    </tr>\n    <tr>\n      <th>64</th>\n      <td>12.17</td>\n      <td>1.45</td>\n      <td>2.53</td>\n      <td>19.0</td>\n      <td>104</td>\n      <td>1.89</td>\n      <td>1.75</td>\n      <td>0.45</td>\n      <td>1.03</td>\n      <td>2.950000</td>\n      <td>1.45</td>\n      <td>2.23</td>\n      <td>355</td>\n    </tr>\n    <tr>\n      <th>163</th>\n      <td>12.96</td>\n      <td>3.45</td>\n      <td>2.35</td>\n      <td>18.5</td>\n      <td>106</td>\n      <td>1.39</td>\n      <td>0.70</td>\n      <td>0.40</td>\n      <td>0.94</td>\n      <td>5.280000</td>\n      <td>0.68</td>\n      <td>1.75</td>\n      <td>675</td>\n    </tr>\n    <tr>\n      <th>147</th>\n      <td>12.87</td>\n      <td>4.61</td>\n      <td>2.48</td>\n      <td>21.5</td>\n      <td>86</td>\n      <td>1.70</td>\n      <td>0.65</td>\n      <td>0.47</td>\n      <td>0.86</td>\n      <td>7.650000</td>\n      <td>0.54</td>\n      <td>1.86</td>\n      <td>625</td>\n    </tr>\n    <tr>\n      <th>69</th>\n      <td>12.21</td>\n      <td>1.19</td>\n      <td>1.75</td>\n      <td>16.8</td>\n      <td>151</td>\n      <td>1.85</td>\n      <td>1.28</td>\n      <td>0.14</td>\n      <td>2.50</td>\n      <td>2.850000</td>\n      <td>1.28</td>\n      <td>3.07</td>\n      <td>718</td>\n    </tr>\n    <tr>\n      <th>26</th>\n      <td>13.39</td>\n      <td>1.77</td>\n      <td>2.62</td>\n      <td>16.1</td>\n      <td>93</td>\n      <td>2.85</td>\n      <td>2.94</td>\n      <td>0.34</td>\n      <td>1.45</td>\n      <td>4.800000</td>\n      <td>0.92</td>\n      <td>3.22</td>\n      <td>1195</td>\n    </tr>\n    <tr>\n      <th>97</th>\n      <td>12.29</td>\n      <td>1.41</td>\n      <td>1.98</td>\n      <td>16.0</td>\n      <td>85</td>\n      <td>2.55</td>\n      <td>2.50</td>\n      <td>0.29</td>\n      <td>1.77</td>\n      <td>2.900000</td>\n      <td>1.23</td>\n      <td>2.74</td>\n      <td>428</td>\n    </tr>\n    <tr>\n      <th>146</th>\n      <td>13.88</td>\n      <td>5.04</td>\n      <td>2.23</td>\n      <td>20.0</td>\n      <td>80</td>\n      <td>0.98</td>\n      <td>0.34</td>\n      <td>0.40</td>\n      <td>0.68</td>\n      <td>4.900000</td>\n      <td>0.58</td>\n      <td>1.33</td>\n      <td>415</td>\n    </tr>\n    <tr>\n      <th>151</th>\n      <td>12.79</td>\n      <td>2.67</td>\n      <td>2.48</td>\n      <td>22.0</td>\n      <td>112</td>\n      <td>1.48</td>\n      <td>1.36</td>\n      <td>0.24</td>\n      <td>1.26</td>\n      <td>10.800000</td>\n      <td>0.48</td>\n      <td>1.47</td>\n      <td>480</td>\n    </tr>\n  </tbody>\n</table>\n</div>"
     },
     "execution_count": 94,
     "metadata": {},
     "output_type": "execute_result"
    }
   ],
   "source": [
    "X_test"
   ],
   "metadata": {
    "collapsed": false,
    "pycharm": {
     "name": "#%%\n"
    }
   }
  },
  {
   "cell_type": "code",
   "execution_count": 104,
   "outputs": [
    {
     "data": {
      "text/plain": "111    1\n119    1\n170    2\n142    2\n29     0\n      ..\n87     1\n103    1\n67     1\n24     0\n8      0\nName: class, Length: 142, dtype: int64"
     },
     "execution_count": 104,
     "metadata": {},
     "output_type": "execute_result"
    }
   ],
   "source": [
    "y_train"
   ],
   "metadata": {
    "collapsed": false,
    "pycharm": {
     "name": "#%%\n"
    }
   }
  },
  {
   "cell_type": "code",
   "execution_count": 105,
   "outputs": [
    {
     "data": {
      "text/plain": "88     1\n159    2\n11     0\n74     1\n158    2\n149    2\n99     1\n96     1\n90     1\n95     1\n134    2\n65     1\n171    2\n165    2\n169    2\n15     0\n145    2\n7      0\n77     1\n41     0\n150    2\n32     0\n118    1\n92     1\n40     0\n1      0\n75     1\n114    1\n64     1\n163    2\n147    2\n69     1\n26     0\n97     1\n146    2\n151    2\nName: class, dtype: int64"
     },
     "execution_count": 105,
     "metadata": {},
     "output_type": "execute_result"
    }
   ],
   "source": [
    "y_test"
   ],
   "metadata": {
    "collapsed": false,
    "pycharm": {
     "name": "#%%\n"
    }
   }
  },
  {
   "cell_type": "code",
   "execution_count": 106,
   "outputs": [
    {
     "data": {
      "text/plain": "MinMaxScaler()"
     },
     "execution_count": 106,
     "metadata": {},
     "output_type": "execute_result"
    }
   ],
   "source": [
    "mm_scaler = MinMaxScaler() #최대- 최소 스케일러 객체 생성\n",
    "mm_scaler.fit(X_train) #학습"
   ],
   "metadata": {
    "collapsed": false,
    "pycharm": {
     "name": "#%%\n"
    }
   }
  },
  {
   "cell_type": "code",
   "execution_count": 107,
   "outputs": [],
   "source": [
    "X_train_scaled = mm_scaler.transform(X_train) #학습셋 transform\n",
    "X_test_scaled = mm_scaler.transform(X_test) #시험셋 transform"
   ],
   "metadata": {
    "collapsed": false,
    "pycharm": {
     "name": "#%%\n"
    }
   }
  },
  {
   "cell_type": "code",
   "execution_count": 108,
   "outputs": [],
   "source": [
    "mm_scaler = MinMaxScaler()\n",
    "X_train_scaled = mm_scaler.fit_transform(X_train) #학습셋 학습 및 transform\n",
    "X_test_scaled = mm_scaler.fit_transform(X_test) #시험셋 학습 및 transform"
   ],
   "metadata": {
    "collapsed": false,
    "pycharm": {
     "name": "#%%\n"
    }
   }
  },
  {
   "cell_type": "code",
   "execution_count": 109,
   "outputs": [],
   "source": [
    "from sklearn.neighbors import KNeighborsClassifier"
   ],
   "metadata": {
    "collapsed": false,
    "pycharm": {
     "name": "#%%\n"
    }
   }
  },
  {
   "cell_type": "code",
   "execution_count": 110,
   "outputs": [
    {
     "data": {
      "text/plain": "array([1, 2, 0, 1, 2, 2, 1, 1, 1, 0, 1, 1, 2, 2, 2, 0, 2, 0, 1, 0, 2, 0,\n       1, 1, 0, 0, 1, 1, 1, 2, 2, 1, 0, 1, 2, 2], dtype=int64)"
     },
     "execution_count": 110,
     "metadata": {},
     "output_type": "execute_result"
    }
   ],
   "source": [
    "knn = KNeighborsClassifier() #KNN 모델 생성\n",
    "knn.fit(X_train_scaled , y_train) #학습\n",
    "pred = knn.predict(X_test_scaled) #예측\n",
    "\n",
    "pred"
   ],
   "metadata": {
    "collapsed": false,
    "pycharm": {
     "name": "#%%\n"
    }
   }
  },
  {
   "cell_type": "code",
   "execution_count": 111,
   "outputs": [
    {
     "data": {
      "text/plain": "0.9444444444444444"
     },
     "execution_count": 111,
     "metadata": {},
     "output_type": "execute_result"
    }
   ],
   "source": [
    "from sklearn.metrics import accuracy_score\n",
    "accuracy_score(y_test , pred)"
   ],
   "metadata": {
    "collapsed": false,
    "pycharm": {
     "name": "#%%\n"
    }
   }
  },
  {
   "cell_type": "code",
   "execution_count": 112,
   "outputs": [
    {
     "data": {
      "text/plain": "0.9444444444444444"
     },
     "execution_count": 112,
     "metadata": {},
     "output_type": "execute_result"
    }
   ],
   "source": [
    "knn = KNeighborsClassifier(n_neighbors= 7) # knn 모델 생성\n",
    "knn.fit(X_train_scaled , y_train)\n",
    "pred = knn.predict(X_test_scaled)\n",
    "accuracy_score(y_test, pred)"
   ],
   "metadata": {
    "collapsed": false,
    "pycharm": {
     "name": "#%%\n"
    }
   }
  },
  {
   "cell_type": "code",
   "execution_count": 113,
   "outputs": [
    {
     "data": {
      "text/plain": "[0.9444444444444444,\n 0.9444444444444444,\n 0.9722222222222222,\n 0.9444444444444444,\n 0.9444444444444444,\n 0.9444444444444444,\n 0.9444444444444444,\n 0.9444444444444444,\n 0.9444444444444444,\n 0.9444444444444444,\n 0.9444444444444444,\n 0.9444444444444444,\n 0.9444444444444444,\n 0.9444444444444444,\n 0.9444444444444444,\n 0.9444444444444444,\n 0.9444444444444444,\n 0.9444444444444444,\n 0.9444444444444444,\n 0.9444444444444444]"
     },
     "execution_count": 113,
     "metadata": {},
     "output_type": "execute_result"
    }
   ],
   "source": [
    "score = []\n",
    "for i in range(1, 21):\n",
    "    knn = KNeighborsClassifier(n_neighbors= i) # knn 모델 생성\n",
    "    knn.fit(X_train_scaled , y_train)\n",
    "    pred = knn.predict(X_test_scaled)\n",
    "    score.append(accuracy_score(y_test, pred))\n",
    "\n",
    "score"
   ],
   "metadata": {
    "collapsed": false,
    "pycharm": {
     "name": "#%%\n"
    }
   }
  },
  {
   "cell_type": "code",
   "execution_count": 114,
   "outputs": [
    {
     "data": {
      "text/plain": "<matplotlib.axes._subplots.AxesSubplot at 0x1f7c8c3be20>"
     },
     "execution_count": 114,
     "metadata": {},
     "output_type": "execute_result"
    },
    {
     "data": {
      "text/plain": "<Figure size 432x288 with 1 Axes>",
      "image/png": "[encoded data removed]"
     },
     "metadata": {
      "needs_background": "light"
     },
     "output_type": "display_data"
    }
   ],
   "source": [
    "sns.lineplot(x=range(1,21) , y= score)"
   ],
   "metadata": {
    "collapsed": false,
    "pycharm": {
     "name": "#%%\n"
    }
   }
  },
  {
   "cell_type": "code",
   "execution_count": 116,
   "outputs": [
    {
     "data": {
      "text/plain": "0.9444444444444444"
     },
     "execution_count": 116,
     "metadata": {},
     "output_type": "execute_result"
    }
   ],
   "source": [
    "knn = KNeighborsClassifier(n_neighbors= 13) # knn 모델 생성\n",
    "knn.fit(X_train_scaled , y_train)\n",
    "pred = knn.predict(X_test_scaled)\n",
    "accuracy_score(y_test , pred)"
   ],
   "metadata": {
    "collapsed": false,
    "pycharm": {
     "name": "#%%\n"
    }
   }
  },
  {
   "cell_type": "code",
   "execution_count": null,
   "outputs": [],
   "source": [],
   "metadata": {
    "collapsed": false,
    "pycharm": {
     "name": "#%%\n"
    }
   }
  }
 ],
 "metadata": {
  "kernelspec": {
   "display_name": "Python 3",
   "language": "python",
   "name": "python3"
  },
  "language_info": {
   "codemirror_mode": {
    "name": "ipython",
    "version": 2
   },
   "file_extension": ".py",
   "mimetype": "text/x-python",
   "name": "python",
   "nbconvert_exporter": "python",
   "pygments_lexer": "ipython2",
   "version": "2.7.6"
  }
 },
 "nbformat": 4,
 "nbformat_minor": 0
}