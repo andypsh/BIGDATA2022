{
 "cells": [
  {
   "cell_type": "code",
   "execution_count": 2,
   "metadata": {
    "collapsed": true,
    "pycharm": {
     "name": "#%%\n"
    }
   },
   "outputs": [
    {
     "name": "stdout",
     "output_type": "stream",
     "text": [
      "결정 트리 정확도 :  0.930\n",
      "결정 트리 정확도 :  0.943\n",
      "결정 트리 정확도 :  0.939\n",
      "결정 트리 정확도 :  0.882\n",
      "결정 트리 정확도 :  0.912\n",
      "결정 트리 정확도 :  0.934\n",
      "결정 트리 정확도 :  0.921\n",
      "결정 트리 정확도 :  0.961\n",
      "결정 트리 정확도 :  0.908\n",
      "결정 트리 정확도 :  0.882\n",
      "결정 트리 정확도 :  0.939\n",
      "결정 트리 정확도 :  0.921\n",
      "결정 트리 정확도 :  0.947\n",
      "결정 트리 정확도 :  0.930\n",
      "결정 트리 정확도 :  0.921\n",
      "결정 트리 정확도 :  0.952\n",
      "결정 트리 정확도 :  0.886\n",
      "결정 트리 정확도 :  0.925\n"
     ]
    }
   ],
   "source": [
    "from sklearn.tree import DecisionTreeClassifier\n",
    "from sklearn.model_selection import train_test_split\n",
    "from sklearn.datasets import load_breast_cancer\n",
    "\n",
    "# 유방암 데이터셋 불러오기\n",
    "cancer_data = load_breast_cancer()\n",
    "\n",
    "# 훈련, 테스트 , 데이터로 분리\n",
    "for i in range(42 , 60):\n",
    "    X_train , X_test, y_train, y_test = train_test_split(cancer_data['data'] , cancer_data['target'] , stratify= cancer_data['target'] , test_size=0.4 , random_state= i)\n",
    "\n",
    "\n",
    "    decisiontree = DecisionTreeClassifier(random_state= i) # 결정 트리 정의\n",
    "    decisiontree.fit(X_train , y_train) # 모델 훈련\n",
    "\n",
    "    accuracy = decisiontree.score(X_test , y_test) # 정확도 측정\n",
    "\n",
    "    # 테스트 데이터를 활용하여 결정 트리 모델 정확도 출력\n",
    "\n",
    "    print(f'결정 트리 정확도 : {accuracy : .3f}')"
   ]
  },
  {
   "cell_type": "code",
   "execution_count": null,
   "outputs": [],
   "source": [],
   "metadata": {
    "collapsed": false,
    "pycharm": {
     "name": "#%%\n"
    }
   }
  }
 ],
 "metadata": {
  "kernelspec": {
   "display_name": "Python 3",
   "language": "python",
   "name": "python3"
  },
  "language_info": {
   "codemirror_mode": {
    "name": "ipython",
    "version": 2
   },
   "file_extension": ".py",
   "mimetype": "text/x-python",
   "name": "python",
   "nbconvert_exporter": "python",
   "pygments_lexer": "ipython2",
   "version": "2.7.6"
  }
 },
 "nbformat": 4,
 "nbformat_minor": 0
}