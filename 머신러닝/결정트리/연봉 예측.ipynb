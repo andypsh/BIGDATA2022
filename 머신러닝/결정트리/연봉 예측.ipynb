{
 "cells": [
  {
   "cell_type": "code",
   "execution_count": 27,
   "metadata": {
    "collapsed": true,
    "pycharm": {
     "name": "#%%\n"
    }
   },
   "outputs": [],
   "source": [
    "import itertools\n",
    "import platform\n",
    "import matplotlib\n",
    "import pandas as pd\n",
    "import matplotlib.pyplot as plt\n",
    "from matplotlib import font_manager, rc\n",
    "import seaborn as sns\n",
    "%precision 3\n",
    "from matplotlib import pyplot as plt\n",
    "%matplotlib inline\n",
    "#그래프를 주피터 놋북에 그리기 위해\n",
    "import numpy as np\n",
    "import copy\n",
    "from matplotlib import ticker\n",
    "from scipy.stats import probplot\n",
    "from scipy import stats\n",
    "import collections\n",
    "import itertools\n",
    "import math\n",
    "#from varname import nameof\n",
    "import sys\n",
    "from scipy import stats\n",
    "from scipy.stats import bernoulli\n",
    "import scipy\n",
    "from collections import deque\n",
    "from sympy import Symbol, solve\n",
    "import matplotlib.patches as patches\n",
    "\n",
    "\n",
    "##################머신러닝 모듈 ################\n",
    "\n",
    "from sklearn.model_selection import train_test_split #사이킷런 import\n",
    "from sklearn.linear_model import LinearRegression\n",
    "\n",
    "#히스토그램 그리기\n",
    "# Window\n",
    "if platform.system() == 'Windows':\n",
    "    matplotlib.rc('font', family='Malgun Gothic')\n",
    "elif platform.system() == 'Darwin': # Mac\n",
    "    matplotlib.rc('font', family='AppleGothic')\n",
    "else: #linux\n",
    "    matplotlib.rc('font', family='NanumGothic')\n",
    "\n",
    "# 그래프에 마이너스 표시가 되도록 변경\n",
    "matplotlib.rcParams['axes.unicode_minus'] = False\n",
    "\n",
    "# 한글 폰트 설정\n",
    "font_location = 'C:/Windows/Fonts/MALGUNSL.TTF' #맑은고딕\n",
    "font_name = font_manager.FontProperties(fname=font_location).get_name()\n",
    "rc('font',family=font_name)\n"
   ]
  },
  {
   "cell_type": "code",
   "execution_count": 52,
   "outputs": [
    {
     "data": {
      "text/plain": "   age  workclass     education  education-num      marital-status  \\\n0   25    Private          11th              7       Never-married   \n1   38    Private       HS-grad              9  Married-civ-spouse   \n2   28  Local-gov    Assoc-acdm             12  Married-civ-spouse   \n3   44    Private  Some-college             10  Married-civ-spouse   \n4   18        NaN  Some-college             10       Never-married   \n\n          occupation relationship   race     sex  capital-gain  capital-loss  \\\n0  Machine-op-inspct    Own-child  Black    Male             0             0   \n1    Farming-fishing      Husband  White    Male             0             0   \n2    Protective-serv      Husband  White    Male             0             0   \n3  Machine-op-inspct      Husband  Black    Male          7688             0   \n4                NaN    Own-child  White  Female             0             0   \n\n   hours-per-week native-country  class  \n0              40  United-States  <=50K  \n1              50  United-States  <=50K  \n2              40  United-States   >50K  \n3              40  United-States   >50K  \n4              30  United-States  <=50K  ",
      "text/html": "<div>\n<style scoped>\n    .dataframe tbody tr th:only-of-type {\n        vertical-align: middle;\n    }\n\n    .dataframe tbody tr th {\n        vertical-align: top;\n    }\n\n    .dataframe thead th {\n        text-align: right;\n    }\n</style>\n<table border=\"1\" class=\"dataframe\">\n  <thead>\n    <tr style=\"text-align: right;\">\n      <th></th>\n      <th>age</th>\n      <th>workclass</th>\n      <th>education</th>\n      <th>education-num</th>\n      <th>marital-status</th>\n      <th>occupation</th>\n      <th>relationship</th>\n      <th>race</th>\n      <th>sex</th>\n      <th>capital-gain</th>\n      <th>capital-loss</th>\n      <th>hours-per-week</th>\n      <th>native-country</th>\n      <th>class</th>\n    </tr>\n  </thead>\n  <tbody>\n    <tr>\n      <th>0</th>\n      <td>25</td>\n      <td>Private</td>\n      <td>11th</td>\n      <td>7</td>\n      <td>Never-married</td>\n      <td>Machine-op-inspct</td>\n      <td>Own-child</td>\n      <td>Black</td>\n      <td>Male</td>\n      <td>0</td>\n      <td>0</td>\n      <td>40</td>\n      <td>United-States</td>\n      <td>&lt;=50K</td>\n    </tr>\n    <tr>\n      <th>1</th>\n      <td>38</td>\n      <td>Private</td>\n      <td>HS-grad</td>\n      <td>9</td>\n      <td>Married-civ-spouse</td>\n      <td>Farming-fishing</td>\n      <td>Husband</td>\n      <td>White</td>\n      <td>Male</td>\n      <td>0</td>\n      <td>0</td>\n      <td>50</td>\n      <td>United-States</td>\n      <td>&lt;=50K</td>\n    </tr>\n    <tr>\n      <th>2</th>\n      <td>28</td>\n      <td>Local-gov</td>\n      <td>Assoc-acdm</td>\n      <td>12</td>\n      <td>Married-civ-spouse</td>\n      <td>Protective-serv</td>\n      <td>Husband</td>\n      <td>White</td>\n      <td>Male</td>\n      <td>0</td>\n      <td>0</td>\n      <td>40</td>\n      <td>United-States</td>\n      <td>&gt;50K</td>\n    </tr>\n    <tr>\n      <th>3</th>\n      <td>44</td>\n      <td>Private</td>\n      <td>Some-college</td>\n      <td>10</td>\n      <td>Married-civ-spouse</td>\n      <td>Machine-op-inspct</td>\n      <td>Husband</td>\n      <td>Black</td>\n      <td>Male</td>\n      <td>7688</td>\n      <td>0</td>\n      <td>40</td>\n      <td>United-States</td>\n      <td>&gt;50K</td>\n    </tr>\n    <tr>\n      <th>4</th>\n      <td>18</td>\n      <td>NaN</td>\n      <td>Some-college</td>\n      <td>10</td>\n      <td>Never-married</td>\n      <td>NaN</td>\n      <td>Own-child</td>\n      <td>White</td>\n      <td>Female</td>\n      <td>0</td>\n      <td>0</td>\n      <td>30</td>\n      <td>United-States</td>\n      <td>&lt;=50K</td>\n    </tr>\n  </tbody>\n</table>\n</div>"
     },
     "execution_count": 52,
     "metadata": {},
     "output_type": "execute_result"
    }
   ],
   "source": [
    "file_url = \"https://media.githubusercontent.com/media/musthave-ML10/data_source/main/salary.csv\"\n",
    "\n",
    "data = pd.read_csv(file_url , skipinitialspace= True) #빈칸 모두 제거\n",
    "\n",
    "data.head()"
   ],
   "metadata": {
    "collapsed": false,
    "pycharm": {
     "name": "#%%\n"
    }
   }
  },
  {
   "cell_type": "code",
   "execution_count": 53,
   "outputs": [
    {
     "data": {
      "text/plain": "<=50K    37155\n>50K     11687\nName: class, dtype: int64"
     },
     "execution_count": 53,
     "metadata": {},
     "output_type": "execute_result"
    }
   ],
   "source": [
    "data['class'].value_counts()"
   ],
   "metadata": {
    "collapsed": false,
    "pycharm": {
     "name": "#%%\n"
    }
   }
  },
  {
   "cell_type": "code",
   "execution_count": 54,
   "outputs": [
    {
     "name": "stdout",
     "output_type": "stream",
     "text": [
      "<class 'pandas.core.frame.DataFrame'>\n",
      "RangeIndex: 48842 entries, 0 to 48841\n",
      "Data columns (total 14 columns):\n",
      " #   Column          Non-Null Count  Dtype \n",
      "---  ------          --------------  ----- \n",
      " 0   age             48842 non-null  int64 \n",
      " 1   workclass       46043 non-null  object\n",
      " 2   education       48842 non-null  object\n",
      " 3   education-num   48842 non-null  int64 \n",
      " 4   marital-status  48842 non-null  object\n",
      " 5   occupation      46033 non-null  object\n",
      " 6   relationship    48842 non-null  object\n",
      " 7   race            48842 non-null  object\n",
      " 8   sex             48842 non-null  object\n",
      " 9   capital-gain    48842 non-null  int64 \n",
      " 10  capital-loss    48842 non-null  int64 \n",
      " 11  hours-per-week  48842 non-null  int64 \n",
      " 12  native-country  47985 non-null  object\n",
      " 13  class           48842 non-null  object\n",
      "dtypes: int64(5), object(9)\n",
      "memory usage: 5.2+ MB\n"
     ]
    }
   ],
   "source": [
    "data.info()"
   ],
   "metadata": {
    "collapsed": false,
    "pycharm": {
     "name": "#%%\n"
    }
   }
  },
  {
   "cell_type": "code",
   "execution_count": 55,
   "outputs": [
    {
     "data": {
      "text/plain": "                age  education-num  capital-gain  capital-loss  hours-per-week\ncount  48842.000000   48842.000000  48842.000000  48842.000000    48842.000000\nmean      38.643585      10.078089   1079.067626     87.502314       40.422382\nstd       13.710510       2.570973   7452.019058    403.004552       12.391444\nmin       17.000000       1.000000      0.000000      0.000000        1.000000\n25%       28.000000       9.000000      0.000000      0.000000       40.000000\n50%       37.000000      10.000000      0.000000      0.000000       40.000000\n75%       48.000000      12.000000      0.000000      0.000000       45.000000\nmax       90.000000      16.000000  99999.000000   4356.000000       99.000000",
      "text/html": "<div>\n<style scoped>\n    .dataframe tbody tr th:only-of-type {\n        vertical-align: middle;\n    }\n\n    .dataframe tbody tr th {\n        vertical-align: top;\n    }\n\n    .dataframe thead th {\n        text-align: right;\n    }\n</style>\n<table border=\"1\" class=\"dataframe\">\n  <thead>\n    <tr style=\"text-align: right;\">\n      <th></th>\n      <th>age</th>\n      <th>education-num</th>\n      <th>capital-gain</th>\n      <th>capital-loss</th>\n      <th>hours-per-week</th>\n    </tr>\n  </thead>\n  <tbody>\n    <tr>\n      <th>count</th>\n      <td>48842.000000</td>\n      <td>48842.000000</td>\n      <td>48842.000000</td>\n      <td>48842.000000</td>\n      <td>48842.000000</td>\n    </tr>\n    <tr>\n      <th>mean</th>\n      <td>38.643585</td>\n      <td>10.078089</td>\n      <td>1079.067626</td>\n      <td>87.502314</td>\n      <td>40.422382</td>\n    </tr>\n    <tr>\n      <th>std</th>\n      <td>13.710510</td>\n      <td>2.570973</td>\n      <td>7452.019058</td>\n      <td>403.004552</td>\n      <td>12.391444</td>\n    </tr>\n    <tr>\n      <th>min</th>\n      <td>17.000000</td>\n      <td>1.000000</td>\n      <td>0.000000</td>\n      <td>0.000000</td>\n      <td>1.000000</td>\n    </tr>\n    <tr>\n      <th>25%</th>\n      <td>28.000000</td>\n      <td>9.000000</td>\n      <td>0.000000</td>\n      <td>0.000000</td>\n      <td>40.000000</td>\n    </tr>\n    <tr>\n      <th>50%</th>\n      <td>37.000000</td>\n      <td>10.000000</td>\n      <td>0.000000</td>\n      <td>0.000000</td>\n      <td>40.000000</td>\n    </tr>\n    <tr>\n      <th>75%</th>\n      <td>48.000000</td>\n      <td>12.000000</td>\n      <td>0.000000</td>\n      <td>0.000000</td>\n      <td>45.000000</td>\n    </tr>\n    <tr>\n      <th>max</th>\n      <td>90.000000</td>\n      <td>16.000000</td>\n      <td>99999.000000</td>\n      <td>4356.000000</td>\n      <td>99.000000</td>\n    </tr>\n  </tbody>\n</table>\n</div>"
     },
     "execution_count": 55,
     "metadata": {},
     "output_type": "execute_result"
    }
   ],
   "source": [
    "data.describe()"
   ],
   "metadata": {
    "collapsed": false,
    "pycharm": {
     "name": "#%%\n"
    }
   }
  },
  {
   "cell_type": "code",
   "execution_count": 56,
   "outputs": [
    {
     "data": {
      "text/plain": "                 age workclass education  education-num      marital-status  \\\ncount   48842.000000     46043     48842   48842.000000               48842   \nunique           NaN         8        16            NaN                   7   \ntop              NaN   Private   HS-grad            NaN  Married-civ-spouse   \nfreq             NaN     33906     15784            NaN               22379   \nmean       38.643585       NaN       NaN      10.078089                 NaN   \nstd        13.710510       NaN       NaN       2.570973                 NaN   \nmin        17.000000       NaN       NaN       1.000000                 NaN   \n25%        28.000000       NaN       NaN       9.000000                 NaN   \n50%        37.000000       NaN       NaN      10.000000                 NaN   \n75%        48.000000       NaN       NaN      12.000000                 NaN   \nmax        90.000000       NaN       NaN      16.000000                 NaN   \n\n            occupation relationship   race    sex  capital-gain  capital-loss  \\\ncount            46033        48842  48842  48842  48842.000000  48842.000000   \nunique              14            6      5      2           NaN           NaN   \ntop     Prof-specialty      Husband  White   Male           NaN           NaN   \nfreq              6172        19716  41762  32650           NaN           NaN   \nmean               NaN          NaN    NaN    NaN   1079.067626     87.502314   \nstd                NaN          NaN    NaN    NaN   7452.019058    403.004552   \nmin                NaN          NaN    NaN    NaN      0.000000      0.000000   \n25%                NaN          NaN    NaN    NaN      0.000000      0.000000   \n50%                NaN          NaN    NaN    NaN      0.000000      0.000000   \n75%                NaN          NaN    NaN    NaN      0.000000      0.000000   \nmax                NaN          NaN    NaN    NaN  99999.000000   4356.000000   \n\n        hours-per-week native-country  class  \ncount     48842.000000          47985  48842  \nunique             NaN             41      2  \ntop                NaN  United-States  <=50K  \nfreq               NaN          43832  37155  \nmean         40.422382            NaN    NaN  \nstd          12.391444            NaN    NaN  \nmin           1.000000            NaN    NaN  \n25%          40.000000            NaN    NaN  \n50%          40.000000            NaN    NaN  \n75%          45.000000            NaN    NaN  \nmax          99.000000            NaN    NaN  ",
      "text/html": "<div>\n<style scoped>\n    .dataframe tbody tr th:only-of-type {\n        vertical-align: middle;\n    }\n\n    .dataframe tbody tr th {\n        vertical-align: top;\n    }\n\n    .dataframe thead th {\n        text-align: right;\n    }\n</style>\n<table border=\"1\" class=\"dataframe\">\n  <thead>\n    <tr style=\"text-align: right;\">\n      <th></th>\n      <th>age</th>\n      <th>workclass</th>\n      <th>education</th>\n      <th>education-num</th>\n      <th>marital-status</th>\n      <th>occupation</th>\n      <th>relationship</th>\n      <th>race</th>\n      <th>sex</th>\n      <th>capital-gain</th>\n      <th>capital-loss</th>\n      <th>hours-per-week</th>\n      <th>native-country</th>\n      <th>class</th>\n    </tr>\n  </thead>\n  <tbody>\n    <tr>\n      <th>count</th>\n      <td>48842.000000</td>\n      <td>46043</td>\n      <td>48842</td>\n      <td>48842.000000</td>\n      <td>48842</td>\n      <td>46033</td>\n      <td>48842</td>\n      <td>48842</td>\n      <td>48842</td>\n      <td>48842.000000</td>\n      <td>48842.000000</td>\n      <td>48842.000000</td>\n      <td>47985</td>\n      <td>48842</td>\n    </tr>\n    <tr>\n      <th>unique</th>\n      <td>NaN</td>\n      <td>8</td>\n      <td>16</td>\n      <td>NaN</td>\n      <td>7</td>\n      <td>14</td>\n      <td>6</td>\n      <td>5</td>\n      <td>2</td>\n      <td>NaN</td>\n      <td>NaN</td>\n      <td>NaN</td>\n      <td>41</td>\n      <td>2</td>\n    </tr>\n    <tr>\n      <th>top</th>\n      <td>NaN</td>\n      <td>Private</td>\n      <td>HS-grad</td>\n      <td>NaN</td>\n      <td>Married-civ-spouse</td>\n      <td>Prof-specialty</td>\n      <td>Husband</td>\n      <td>White</td>\n      <td>Male</td>\n      <td>NaN</td>\n      <td>NaN</td>\n      <td>NaN</td>\n      <td>United-States</td>\n      <td>&lt;=50K</td>\n    </tr>\n    <tr>\n      <th>freq</th>\n      <td>NaN</td>\n      <td>33906</td>\n      <td>15784</td>\n      <td>NaN</td>\n      <td>22379</td>\n      <td>6172</td>\n      <td>19716</td>\n      <td>41762</td>\n      <td>32650</td>\n      <td>NaN</td>\n      <td>NaN</td>\n      <td>NaN</td>\n      <td>43832</td>\n      <td>37155</td>\n    </tr>\n    <tr>\n      <th>mean</th>\n      <td>38.643585</td>\n      <td>NaN</td>\n      <td>NaN</td>\n      <td>10.078089</td>\n      <td>NaN</td>\n      <td>NaN</td>\n      <td>NaN</td>\n      <td>NaN</td>\n      <td>NaN</td>\n      <td>1079.067626</td>\n      <td>87.502314</td>\n      <td>40.422382</td>\n      <td>NaN</td>\n      <td>NaN</td>\n    </tr>\n    <tr>\n      <th>std</th>\n      <td>13.710510</td>\n      <td>NaN</td>\n      <td>NaN</td>\n      <td>2.570973</td>\n      <td>NaN</td>\n      <td>NaN</td>\n      <td>NaN</td>\n      <td>NaN</td>\n      <td>NaN</td>\n      <td>7452.019058</td>\n      <td>403.004552</td>\n      <td>12.391444</td>\n      <td>NaN</td>\n      <td>NaN</td>\n    </tr>\n    <tr>\n      <th>min</th>\n      <td>17.000000</td>\n      <td>NaN</td>\n      <td>NaN</td>\n      <td>1.000000</td>\n      <td>NaN</td>\n      <td>NaN</td>\n      <td>NaN</td>\n      <td>NaN</td>\n      <td>NaN</td>\n      <td>0.000000</td>\n      <td>0.000000</td>\n      <td>1.000000</td>\n      <td>NaN</td>\n      <td>NaN</td>\n    </tr>\n    <tr>\n      <th>25%</th>\n      <td>28.000000</td>\n      <td>NaN</td>\n      <td>NaN</td>\n      <td>9.000000</td>\n      <td>NaN</td>\n      <td>NaN</td>\n      <td>NaN</td>\n      <td>NaN</td>\n      <td>NaN</td>\n      <td>0.000000</td>\n      <td>0.000000</td>\n      <td>40.000000</td>\n      <td>NaN</td>\n      <td>NaN</td>\n    </tr>\n    <tr>\n      <th>50%</th>\n      <td>37.000000</td>\n      <td>NaN</td>\n      <td>NaN</td>\n      <td>10.000000</td>\n      <td>NaN</td>\n      <td>NaN</td>\n      <td>NaN</td>\n      <td>NaN</td>\n      <td>NaN</td>\n      <td>0.000000</td>\n      <td>0.000000</td>\n      <td>40.000000</td>\n      <td>NaN</td>\n      <td>NaN</td>\n    </tr>\n    <tr>\n      <th>75%</th>\n      <td>48.000000</td>\n      <td>NaN</td>\n      <td>NaN</td>\n      <td>12.000000</td>\n      <td>NaN</td>\n      <td>NaN</td>\n      <td>NaN</td>\n      <td>NaN</td>\n      <td>NaN</td>\n      <td>0.000000</td>\n      <td>0.000000</td>\n      <td>45.000000</td>\n      <td>NaN</td>\n      <td>NaN</td>\n    </tr>\n    <tr>\n      <th>max</th>\n      <td>90.000000</td>\n      <td>NaN</td>\n      <td>NaN</td>\n      <td>16.000000</td>\n      <td>NaN</td>\n      <td>NaN</td>\n      <td>NaN</td>\n      <td>NaN</td>\n      <td>NaN</td>\n      <td>99999.000000</td>\n      <td>4356.000000</td>\n      <td>99.000000</td>\n      <td>NaN</td>\n      <td>NaN</td>\n    </tr>\n  </tbody>\n</table>\n</div>"
     },
     "execution_count": 56,
     "metadata": {},
     "output_type": "execute_result"
    }
   ],
   "source": [
    "data.describe(include= 'all') #object형이 포함된 통계정보 출력"
   ],
   "metadata": {
    "collapsed": false,
    "pycharm": {
     "name": "#%%\n"
    }
   }
  },
  {
   "cell_type": "code",
   "execution_count": 57,
   "outputs": [
    {
     "data": {
      "text/plain": "0        <=50K\n1        <=50K\n2         >50K\n3         >50K\n4        <=50K\n         ...  \n48837    <=50K\n48838     >50K\n48839    <=50K\n48840    <=50K\n48841     >50K\nName: class, Length: 48842, dtype: object"
     },
     "execution_count": 57,
     "metadata": {},
     "output_type": "execute_result"
    }
   ],
   "source": [
    "data['class']"
   ],
   "metadata": {
    "collapsed": false,
    "pycharm": {
     "name": "#%%\n"
    }
   }
  },
  {
   "cell_type": "code",
   "execution_count": 58,
   "outputs": [
    {
     "data": {
      "text/plain": "dtype('O')"
     },
     "execution_count": 58,
     "metadata": {},
     "output_type": "execute_result"
    }
   ],
   "source": [
    "data['class'].dtypes"
   ],
   "metadata": {
    "collapsed": false,
    "pycharm": {
     "name": "#%%\n"
    }
   }
  },
  {
   "cell_type": "code",
   "execution_count": 59,
   "outputs": [
    {
     "data": {
      "text/plain": "0        0\n1        0\n2        1\n3        1\n4        0\n        ..\n48837    0\n48838    1\n48839    0\n48840    0\n48841    1\nName: class, Length: 48842, dtype: int64"
     },
     "execution_count": 59,
     "metadata": {},
     "output_type": "execute_result"
    }
   ],
   "source": [
    "data['class'] = data['class'].map({ '<=50K' : 0 , '>50K' : 1}) # 숫자로 변환\n",
    "\n",
    "data['class']"
   ],
   "metadata": {
    "collapsed": false,
    "pycharm": {
     "name": "#%%\n"
    }
   }
  },
  {
   "cell_type": "code",
   "execution_count": 60,
   "outputs": [
    {
     "data": {
      "text/plain": "['workclass',\n 'education',\n 'marital-status',\n 'occupation',\n 'relationship',\n 'race',\n 'sex',\n 'native-country']"
     },
     "execution_count": 60,
     "metadata": {},
     "output_type": "execute_result"
    }
   ],
   "source": [
    "obj_list = []\n",
    "for i in data.columns : #순회\n",
    "    if data[i].dtype == 'object' : #데이터타입이 object이면\n",
    "        obj_list.append(i) #리스트에 변수 이름을 추가\n",
    "\n",
    "obj_list"
   ],
   "metadata": {
    "collapsed": false,
    "pycharm": {
     "name": "#%%\n"
    }
   }
  },
  {
   "cell_type": "code",
   "execution_count": 61,
   "outputs": [
    {
     "name": "stdout",
     "output_type": "stream",
     "text": [
      "education 16\n",
      "occupation 14\n",
      "native-country 41\n"
     ]
    }
   ],
   "source": [
    "for i in obj_list:\n",
    "    if data[i].nunique() >= 10: #변수의 고윳값이 10보다 크거나 같으면\n",
    "        print(i , data[i].nunique()) #컬럼명과 고윳값 개수 출력"
   ],
   "metadata": {
    "collapsed": false,
    "pycharm": {
     "name": "#%%\n"
    }
   }
  },
  {
   "cell_type": "code",
   "execution_count": 62,
   "outputs": [
    {
     "data": {
      "text/plain": "HS-grad         15784\nSome-college    10878\nBachelors        8025\nMasters          2657\nAssoc-voc        2061\n11th             1812\nAssoc-acdm       1601\n10th             1389\n7th-8th           955\nProf-school       834\n9th               756\n12th              657\nDoctorate         594\n5th-6th           509\n1st-4th           247\nPreschool          83\nName: education, dtype: int64"
     },
     "execution_count": 62,
     "metadata": {},
     "output_type": "execute_result"
    }
   ],
   "source": [
    "data['education'].value_counts() #education grade 별 범주형 데이터 ==> 숫자로 대체\n",
    "\n"
   ],
   "metadata": {
    "collapsed": false,
    "pycharm": {
     "name": "#%%\n"
    }
   }
  },
  {
   "cell_type": "code",
   "execution_count": 63,
   "outputs": [
    {
     "data": {
      "text/plain": "   age  workclass     education  education-num      marital-status  \\\n0   25    Private          11th              7       Never-married   \n1   38    Private       HS-grad              9  Married-civ-spouse   \n2   28  Local-gov    Assoc-acdm             12  Married-civ-spouse   \n3   44    Private  Some-college             10  Married-civ-spouse   \n4   18        NaN  Some-college             10       Never-married   \n\n          occupation relationship   race     sex  capital-gain  capital-loss  \\\n0  Machine-op-inspct    Own-child  Black    Male             0             0   \n1    Farming-fishing      Husband  White    Male             0             0   \n2    Protective-serv      Husband  White    Male             0             0   \n3  Machine-op-inspct      Husband  Black    Male          7688             0   \n4                NaN    Own-child  White  Female             0             0   \n\n   hours-per-week native-country  class  \n0              40  United-States      0  \n1              50  United-States      0  \n2              40  United-States      1  \n3              40  United-States      1  \n4              30  United-States      0  ",
      "text/html": "<div>\n<style scoped>\n    .dataframe tbody tr th:only-of-type {\n        vertical-align: middle;\n    }\n\n    .dataframe tbody tr th {\n        vertical-align: top;\n    }\n\n    .dataframe thead th {\n        text-align: right;\n    }\n</style>\n<table border=\"1\" class=\"dataframe\">\n  <thead>\n    <tr style=\"text-align: right;\">\n      <th></th>\n      <th>age</th>\n      <th>workclass</th>\n      <th>education</th>\n      <th>education-num</th>\n      <th>marital-status</th>\n      <th>occupation</th>\n      <th>relationship</th>\n      <th>race</th>\n      <th>sex</th>\n      <th>capital-gain</th>\n      <th>capital-loss</th>\n      <th>hours-per-week</th>\n      <th>native-country</th>\n      <th>class</th>\n    </tr>\n  </thead>\n  <tbody>\n    <tr>\n      <th>0</th>\n      <td>25</td>\n      <td>Private</td>\n      <td>11th</td>\n      <td>7</td>\n      <td>Never-married</td>\n      <td>Machine-op-inspct</td>\n      <td>Own-child</td>\n      <td>Black</td>\n      <td>Male</td>\n      <td>0</td>\n      <td>0</td>\n      <td>40</td>\n      <td>United-States</td>\n      <td>0</td>\n    </tr>\n    <tr>\n      <th>1</th>\n      <td>38</td>\n      <td>Private</td>\n      <td>HS-grad</td>\n      <td>9</td>\n      <td>Married-civ-spouse</td>\n      <td>Farming-fishing</td>\n      <td>Husband</td>\n      <td>White</td>\n      <td>Male</td>\n      <td>0</td>\n      <td>0</td>\n      <td>50</td>\n      <td>United-States</td>\n      <td>0</td>\n    </tr>\n    <tr>\n      <th>2</th>\n      <td>28</td>\n      <td>Local-gov</td>\n      <td>Assoc-acdm</td>\n      <td>12</td>\n      <td>Married-civ-spouse</td>\n      <td>Protective-serv</td>\n      <td>Husband</td>\n      <td>White</td>\n      <td>Male</td>\n      <td>0</td>\n      <td>0</td>\n      <td>40</td>\n      <td>United-States</td>\n      <td>1</td>\n    </tr>\n    <tr>\n      <th>3</th>\n      <td>44</td>\n      <td>Private</td>\n      <td>Some-college</td>\n      <td>10</td>\n      <td>Married-civ-spouse</td>\n      <td>Machine-op-inspct</td>\n      <td>Husband</td>\n      <td>Black</td>\n      <td>Male</td>\n      <td>7688</td>\n      <td>0</td>\n      <td>40</td>\n      <td>United-States</td>\n      <td>1</td>\n    </tr>\n    <tr>\n      <th>4</th>\n      <td>18</td>\n      <td>NaN</td>\n      <td>Some-college</td>\n      <td>10</td>\n      <td>Never-married</td>\n      <td>NaN</td>\n      <td>Own-child</td>\n      <td>White</td>\n      <td>Female</td>\n      <td>0</td>\n      <td>0</td>\n      <td>30</td>\n      <td>United-States</td>\n      <td>0</td>\n    </tr>\n  </tbody>\n</table>\n</div>"
     },
     "execution_count": 63,
     "metadata": {},
     "output_type": "execute_result"
    }
   ],
   "source": [
    "data.head()"
   ],
   "metadata": {
    "collapsed": false,
    "pycharm": {
     "name": "#%%\n"
    }
   }
  },
  {
   "cell_type": "code",
   "execution_count": 64,
   "outputs": [
    {
     "data": {
      "text/plain": "array([ 1,  2,  3,  4,  5,  6,  7,  8,  9, 10, 11, 12, 13, 14, 15, 16],\n      dtype=int64)"
     },
     "execution_count": 64,
     "metadata": {},
     "output_type": "execute_result"
    }
   ],
   "source": [
    "np.sort(data['education-num'].unique()) #고윳값을 오름차순으로 확인"
   ],
   "metadata": {
    "collapsed": false,
    "pycharm": {
     "name": "#%%\n"
    }
   }
  },
  {
   "cell_type": "code",
   "execution_count": 65,
   "outputs": [
    {
     "data": {
      "text/plain": "       age  workclass  education  education-num      marital-status  \\\n779     64    Private  Preschool              1  Married-civ-spouse   \n818     21    Private  Preschool              1       Never-married   \n1029    57        NaN  Preschool              1           Separated   \n1059    31    Private  Preschool              1       Never-married   \n1489    19    Private  Preschool              1       Never-married   \n...    ...        ...        ...            ...                 ...   \n48079   31  State-gov  Preschool              1       Never-married   \n48316   40    Private  Preschool              1  Married-civ-spouse   \n48505   40    Private  Preschool              1       Never-married   \n48640   46    Private  Preschool              1  Married-civ-spouse   \n48713   36    Private  Preschool              1            Divorced   \n\n              occupation    relationship                race     sex  \\\n779    Handlers-cleaners         Husband  Asian-Pac-Islander    Male   \n818      Farming-fishing   Not-in-family               White    Male   \n1029                 NaN   Not-in-family               White    Male   \n1059   Handlers-cleaners   Not-in-family  Amer-Indian-Eskimo    Male   \n1489     Farming-fishing   Not-in-family               White    Male   \n...                  ...             ...                 ...     ...   \n48079      Other-service   Not-in-family               White    Male   \n48316      Other-service         Husband               White    Male   \n48505      Other-service   Not-in-family               White  Female   \n48640  Machine-op-inspct  Other-relative               Black    Male   \n48713      Other-service   Not-in-family               Other    Male   \n\n       capital-gain  capital-loss  hours-per-week      native-country  class  \n779               0             0              40         Philippines      0  \n818               0             0              25              Mexico      0  \n1029              0             0              40       United-States      0  \n1059              0             0              25       United-States      0  \n1489              0             0              36              Mexico      0  \n...             ...           ...             ...                 ...    ...  \n48079             0             0              24       United-States      0  \n48316             0          1672              40              Mexico      0  \n48505             0             0              20       United-States      0  \n48640             0             0              75  Dominican-Republic      0  \n48713             0             0              72              Mexico      0  \n\n[83 rows x 14 columns]",
      "text/html": "<div>\n<style scoped>\n    .dataframe tbody tr th:only-of-type {\n        vertical-align: middle;\n    }\n\n    .dataframe tbody tr th {\n        vertical-align: top;\n    }\n\n    .dataframe thead th {\n        text-align: right;\n    }\n</style>\n<table border=\"1\" class=\"dataframe\">\n  <thead>\n    <tr style=\"text-align: right;\">\n      <th></th>\n      <th>age</th>\n      <th>workclass</th>\n      <th>education</th>\n      <th>education-num</th>\n      <th>marital-status</th>\n      <th>occupation</th>\n      <th>relationship</th>\n      <th>race</th>\n      <th>sex</th>\n      <th>capital-gain</th>\n      <th>capital-loss</th>\n      <th>hours-per-week</th>\n      <th>native-country</th>\n      <th>class</th>\n    </tr>\n  </thead>\n  <tbody>\n    <tr>\n      <th>779</th>\n      <td>64</td>\n      <td>Private</td>\n      <td>Preschool</td>\n      <td>1</td>\n      <td>Married-civ-spouse</td>\n      <td>Handlers-cleaners</td>\n      <td>Husband</td>\n      <td>Asian-Pac-Islander</td>\n      <td>Male</td>\n      <td>0</td>\n      <td>0</td>\n      <td>40</td>\n      <td>Philippines</td>\n      <td>0</td>\n    </tr>\n    <tr>\n      <th>818</th>\n      <td>21</td>\n      <td>Private</td>\n      <td>Preschool</td>\n      <td>1</td>\n      <td>Never-married</td>\n      <td>Farming-fishing</td>\n      <td>Not-in-family</td>\n      <td>White</td>\n      <td>Male</td>\n      <td>0</td>\n      <td>0</td>\n      <td>25</td>\n      <td>Mexico</td>\n      <td>0</td>\n    </tr>\n    <tr>\n      <th>1029</th>\n      <td>57</td>\n      <td>NaN</td>\n      <td>Preschool</td>\n      <td>1</td>\n      <td>Separated</td>\n      <td>NaN</td>\n      <td>Not-in-family</td>\n      <td>White</td>\n      <td>Male</td>\n      <td>0</td>\n      <td>0</td>\n      <td>40</td>\n      <td>United-States</td>\n      <td>0</td>\n    </tr>\n    <tr>\n      <th>1059</th>\n      <td>31</td>\n      <td>Private</td>\n      <td>Preschool</td>\n      <td>1</td>\n      <td>Never-married</td>\n      <td>Handlers-cleaners</td>\n      <td>Not-in-family</td>\n      <td>Amer-Indian-Eskimo</td>\n      <td>Male</td>\n      <td>0</td>\n      <td>0</td>\n      <td>25</td>\n      <td>United-States</td>\n      <td>0</td>\n    </tr>\n    <tr>\n      <th>1489</th>\n      <td>19</td>\n      <td>Private</td>\n      <td>Preschool</td>\n      <td>1</td>\n      <td>Never-married</td>\n      <td>Farming-fishing</td>\n      <td>Not-in-family</td>\n      <td>White</td>\n      <td>Male</td>\n      <td>0</td>\n      <td>0</td>\n      <td>36</td>\n      <td>Mexico</td>\n      <td>0</td>\n    </tr>\n    <tr>\n      <th>...</th>\n      <td>...</td>\n      <td>...</td>\n      <td>...</td>\n      <td>...</td>\n      <td>...</td>\n      <td>...</td>\n      <td>...</td>\n      <td>...</td>\n      <td>...</td>\n      <td>...</td>\n      <td>...</td>\n      <td>...</td>\n      <td>...</td>\n      <td>...</td>\n    </tr>\n    <tr>\n      <th>48079</th>\n      <td>31</td>\n      <td>State-gov</td>\n      <td>Preschool</td>\n      <td>1</td>\n      <td>Never-married</td>\n      <td>Other-service</td>\n      <td>Not-in-family</td>\n      <td>White</td>\n      <td>Male</td>\n      <td>0</td>\n      <td>0</td>\n      <td>24</td>\n      <td>United-States</td>\n      <td>0</td>\n    </tr>\n    <tr>\n      <th>48316</th>\n      <td>40</td>\n      <td>Private</td>\n      <td>Preschool</td>\n      <td>1</td>\n      <td>Married-civ-spouse</td>\n      <td>Other-service</td>\n      <td>Husband</td>\n      <td>White</td>\n      <td>Male</td>\n      <td>0</td>\n      <td>1672</td>\n      <td>40</td>\n      <td>Mexico</td>\n      <td>0</td>\n    </tr>\n    <tr>\n      <th>48505</th>\n      <td>40</td>\n      <td>Private</td>\n      <td>Preschool</td>\n      <td>1</td>\n      <td>Never-married</td>\n      <td>Other-service</td>\n      <td>Not-in-family</td>\n      <td>White</td>\n      <td>Female</td>\n      <td>0</td>\n      <td>0</td>\n      <td>20</td>\n      <td>United-States</td>\n      <td>0</td>\n    </tr>\n    <tr>\n      <th>48640</th>\n      <td>46</td>\n      <td>Private</td>\n      <td>Preschool</td>\n      <td>1</td>\n      <td>Married-civ-spouse</td>\n      <td>Machine-op-inspct</td>\n      <td>Other-relative</td>\n      <td>Black</td>\n      <td>Male</td>\n      <td>0</td>\n      <td>0</td>\n      <td>75</td>\n      <td>Dominican-Republic</td>\n      <td>0</td>\n    </tr>\n    <tr>\n      <th>48713</th>\n      <td>36</td>\n      <td>Private</td>\n      <td>Preschool</td>\n      <td>1</td>\n      <td>Divorced</td>\n      <td>Other-service</td>\n      <td>Not-in-family</td>\n      <td>Other</td>\n      <td>Male</td>\n      <td>0</td>\n      <td>0</td>\n      <td>72</td>\n      <td>Mexico</td>\n      <td>0</td>\n    </tr>\n  </tbody>\n</table>\n<p>83 rows × 14 columns</p>\n</div>"
     },
     "execution_count": 65,
     "metadata": {},
     "output_type": "execute_result"
    }
   ],
   "source": [
    "data[data['education-num'] == 1] # 값이 1인 (True)행만 필터링"
   ],
   "metadata": {
    "collapsed": false,
    "pycharm": {
     "name": "#%%\n"
    }
   }
  },
  {
   "cell_type": "code",
   "execution_count": 66,
   "outputs": [
    {
     "data": {
      "text/plain": "array(['Preschool'], dtype=object)"
     },
     "execution_count": 66,
     "metadata": {},
     "output_type": "execute_result"
    }
   ],
   "source": [
    "data[data['education-num'] == 1]['education'].unique()\n",
    "#education-num이 1인 데이터들의 education 고윳값 확인"
   ],
   "metadata": {
    "collapsed": false,
    "pycharm": {
     "name": "#%%\n"
    }
   }
  },
  {
   "cell_type": "code",
   "execution_count": 66,
   "outputs": [],
   "source": [],
   "metadata": {
    "collapsed": false,
    "pycharm": {
     "name": "#%%\n"
    }
   }
  },
  {
   "cell_type": "code",
   "execution_count": 67,
   "outputs": [
    {
     "name": "stdout",
     "output_type": "stream",
     "text": [
      "1 ['Preschool']\n",
      "2 ['1st-4th']\n",
      "3 ['5th-6th']\n",
      "4 ['7th-8th']\n",
      "5 ['9th']\n",
      "6 ['10th']\n",
      "7 ['11th']\n",
      "8 ['12th']\n",
      "9 ['HS-grad']\n",
      "10 ['Some-college']\n",
      "11 ['Assoc-voc']\n",
      "12 ['Assoc-acdm']\n",
      "13 ['Bachelors']\n",
      "14 ['Masters']\n",
      "15 ['Prof-school']\n",
      "16 ['Doctorate']\n"
     ]
    }
   ],
   "source": [
    "for i in np.sort(data['education-num'].unique()):\n",
    "    print(i, data[data['education-num'] ==i]['education'].unique() )"
   ],
   "metadata": {
    "collapsed": false,
    "pycharm": {
     "name": "#%%\n"
    }
   }
  },
  {
   "cell_type": "code",
   "execution_count": 68,
   "outputs": [],
   "source": [
    "data.drop('education' , axis = 1 , inplace =True)"
   ],
   "metadata": {
    "collapsed": false,
    "pycharm": {
     "name": "#%%\n"
    }
   }
  },
  {
   "cell_type": "code",
   "execution_count": 69,
   "outputs": [
    {
     "data": {
      "text/plain": "Prof-specialty       6172\nCraft-repair         6112\nExec-managerial      6086\nAdm-clerical         5611\nSales                5504\nOther-service        4923\nMachine-op-inspct    3022\nTransport-moving     2355\nHandlers-cleaners    2072\nFarming-fishing      1490\nTech-support         1446\nProtective-serv       983\nPriv-house-serv       242\nArmed-Forces           15\nName: occupation, dtype: int64"
     },
     "execution_count": 69,
     "metadata": {},
     "output_type": "execute_result"
    }
   ],
   "source": [
    "data['occupation'].value_counts()"
   ],
   "metadata": {
    "collapsed": false,
    "pycharm": {
     "name": "#%%\n"
    }
   }
  },
  {
   "cell_type": "code",
   "execution_count": 70,
   "outputs": [
    {
     "data": {
      "text/plain": "United-States                 43832\nMexico                          951\nPhilippines                     295\nGermany                         206\nPuerto-Rico                     184\nCanada                          182\nEl-Salvador                     155\nIndia                           151\nCuba                            138\nEngland                         127\nChina                           122\nSouth                           115\nJamaica                         106\nItaly                           105\nDominican-Republic              103\nJapan                            92\nGuatemala                        88\nPoland                           87\nVietnam                          86\nColumbia                         85\nHaiti                            75\nPortugal                         67\nTaiwan                           65\nIran                             59\nGreece                           49\nNicaragua                        49\nPeru                             46\nEcuador                          45\nFrance                           38\nIreland                          37\nThailand                         30\nHong                             30\nCambodia                         28\nTrinadad&Tobago                  27\nLaos                             23\nOutlying-US(Guam-USVI-etc)       23\nYugoslavia                       23\nScotland                         21\nHonduras                         20\nHungary                          19\nHoland-Netherlands                1\nName: native-country, dtype: int64"
     },
     "execution_count": 70,
     "metadata": {},
     "output_type": "execute_result"
    }
   ],
   "source": [
    "data['native-country'].value_counts() #United-States 값이 압도적으로 큰 비중을 차지한다."
   ],
   "metadata": {
    "collapsed": false,
    "pycharm": {
     "name": "#%%\n"
    }
   }
  },
  {
   "cell_type": "code",
   "execution_count": 71,
   "outputs": [
    {
     "data": {
      "text/plain": "       age     workclass  education-num      marital-status  \\\n0       25       Private              7       Never-married   \n1       38       Private              9  Married-civ-spouse   \n2       28     Local-gov             12  Married-civ-spouse   \n3       44       Private             10  Married-civ-spouse   \n4       18           NaN             10       Never-married   \n...    ...           ...            ...                 ...   \n48837   27       Private             12  Married-civ-spouse   \n48838   40       Private              9  Married-civ-spouse   \n48839   58       Private              9             Widowed   \n48840   22       Private              9       Never-married   \n48841   52  Self-emp-inc              9  Married-civ-spouse   \n\n              occupation relationship   race     sex  capital-gain  \\\n0      Machine-op-inspct    Own-child  Black    Male             0   \n1        Farming-fishing      Husband  White    Male             0   \n2        Protective-serv      Husband  White    Male             0   \n3      Machine-op-inspct      Husband  Black    Male          7688   \n4                    NaN    Own-child  White  Female             0   \n...                  ...          ...    ...     ...           ...   \n48837       Tech-support         Wife  White  Female             0   \n48838  Machine-op-inspct      Husband  White    Male             0   \n48839       Adm-clerical    Unmarried  White  Female             0   \n48840       Adm-clerical    Own-child  White    Male             0   \n48841    Exec-managerial         Wife  White  Female         15024   \n\n       capital-loss  hours-per-week native-country  class  \n0                 0              40  United-States      0  \n1                 0              50  United-States      0  \n2                 0              40  United-States      1  \n3                 0              40  United-States      1  \n4                 0              30  United-States      0  \n...             ...             ...            ...    ...  \n48837             0              38  United-States      0  \n48838             0              40  United-States      1  \n48839             0              40  United-States      0  \n48840             0              20  United-States      0  \n48841             0              40  United-States      1  \n\n[48842 rows x 13 columns]",
      "text/html": "<div>\n<style scoped>\n    .dataframe tbody tr th:only-of-type {\n        vertical-align: middle;\n    }\n\n    .dataframe tbody tr th {\n        vertical-align: top;\n    }\n\n    .dataframe thead th {\n        text-align: right;\n    }\n</style>\n<table border=\"1\" class=\"dataframe\">\n  <thead>\n    <tr style=\"text-align: right;\">\n      <th></th>\n      <th>age</th>\n      <th>workclass</th>\n      <th>education-num</th>\n      <th>marital-status</th>\n      <th>occupation</th>\n      <th>relationship</th>\n      <th>race</th>\n      <th>sex</th>\n      <th>capital-gain</th>\n      <th>capital-loss</th>\n      <th>hours-per-week</th>\n      <th>native-country</th>\n      <th>class</th>\n    </tr>\n  </thead>\n  <tbody>\n    <tr>\n      <th>0</th>\n      <td>25</td>\n      <td>Private</td>\n      <td>7</td>\n      <td>Never-married</td>\n      <td>Machine-op-inspct</td>\n      <td>Own-child</td>\n      <td>Black</td>\n      <td>Male</td>\n      <td>0</td>\n      <td>0</td>\n      <td>40</td>\n      <td>United-States</td>\n      <td>0</td>\n    </tr>\n    <tr>\n      <th>1</th>\n      <td>38</td>\n      <td>Private</td>\n      <td>9</td>\n      <td>Married-civ-spouse</td>\n      <td>Farming-fishing</td>\n      <td>Husband</td>\n      <td>White</td>\n      <td>Male</td>\n      <td>0</td>\n      <td>0</td>\n      <td>50</td>\n      <td>United-States</td>\n      <td>0</td>\n    </tr>\n    <tr>\n      <th>2</th>\n      <td>28</td>\n      <td>Local-gov</td>\n      <td>12</td>\n      <td>Married-civ-spouse</td>\n      <td>Protective-serv</td>\n      <td>Husband</td>\n      <td>White</td>\n      <td>Male</td>\n      <td>0</td>\n      <td>0</td>\n      <td>40</td>\n      <td>United-States</td>\n      <td>1</td>\n    </tr>\n    <tr>\n      <th>3</th>\n      <td>44</td>\n      <td>Private</td>\n      <td>10</td>\n      <td>Married-civ-spouse</td>\n      <td>Machine-op-inspct</td>\n      <td>Husband</td>\n      <td>Black</td>\n      <td>Male</td>\n      <td>7688</td>\n      <td>0</td>\n      <td>40</td>\n      <td>United-States</td>\n      <td>1</td>\n    </tr>\n    <tr>\n      <th>4</th>\n      <td>18</td>\n      <td>NaN</td>\n      <td>10</td>\n      <td>Never-married</td>\n      <td>NaN</td>\n      <td>Own-child</td>\n      <td>White</td>\n      <td>Female</td>\n      <td>0</td>\n      <td>0</td>\n      <td>30</td>\n      <td>United-States</td>\n      <td>0</td>\n    </tr>\n    <tr>\n      <th>...</th>\n      <td>...</td>\n      <td>...</td>\n      <td>...</td>\n      <td>...</td>\n      <td>...</td>\n      <td>...</td>\n      <td>...</td>\n      <td>...</td>\n      <td>...</td>\n      <td>...</td>\n      <td>...</td>\n      <td>...</td>\n      <td>...</td>\n    </tr>\n    <tr>\n      <th>48837</th>\n      <td>27</td>\n      <td>Private</td>\n      <td>12</td>\n      <td>Married-civ-spouse</td>\n      <td>Tech-support</td>\n      <td>Wife</td>\n      <td>White</td>\n      <td>Female</td>\n      <td>0</td>\n      <td>0</td>\n      <td>38</td>\n      <td>United-States</td>\n      <td>0</td>\n    </tr>\n    <tr>\n      <th>48838</th>\n      <td>40</td>\n      <td>Private</td>\n      <td>9</td>\n      <td>Married-civ-spouse</td>\n      <td>Machine-op-inspct</td>\n      <td>Husband</td>\n      <td>White</td>\n      <td>Male</td>\n      <td>0</td>\n      <td>0</td>\n      <td>40</td>\n      <td>United-States</td>\n      <td>1</td>\n    </tr>\n    <tr>\n      <th>48839</th>\n      <td>58</td>\n      <td>Private</td>\n      <td>9</td>\n      <td>Widowed</td>\n      <td>Adm-clerical</td>\n      <td>Unmarried</td>\n      <td>White</td>\n      <td>Female</td>\n      <td>0</td>\n      <td>0</td>\n      <td>40</td>\n      <td>United-States</td>\n      <td>0</td>\n    </tr>\n    <tr>\n      <th>48840</th>\n      <td>22</td>\n      <td>Private</td>\n      <td>9</td>\n      <td>Never-married</td>\n      <td>Adm-clerical</td>\n      <td>Own-child</td>\n      <td>White</td>\n      <td>Male</td>\n      <td>0</td>\n      <td>0</td>\n      <td>20</td>\n      <td>United-States</td>\n      <td>0</td>\n    </tr>\n    <tr>\n      <th>48841</th>\n      <td>52</td>\n      <td>Self-emp-inc</td>\n      <td>9</td>\n      <td>Married-civ-spouse</td>\n      <td>Exec-managerial</td>\n      <td>Wife</td>\n      <td>White</td>\n      <td>Female</td>\n      <td>15024</td>\n      <td>0</td>\n      <td>40</td>\n      <td>United-States</td>\n      <td>1</td>\n    </tr>\n  </tbody>\n</table>\n<p>48842 rows × 13 columns</p>\n</div>"
     },
     "execution_count": 71,
     "metadata": {},
     "output_type": "execute_result"
    }
   ],
   "source": [
    "data"
   ],
   "metadata": {
    "collapsed": false,
    "pycharm": {
     "name": "#%%\n"
    }
   }
  },
  {
   "cell_type": "code",
   "execution_count": 72,
   "outputs": [
    {
     "data": {
      "text/plain": "                                  age  education-num  capital-gain  \\\nnative-country                                                       \nCambodia                    36.892857       9.392857    697.464286   \nCanada                      44.049451      10.692308   1233.505495   \nChina                       41.852459      11.262295   1407.737705   \nColumbia                    39.458824       9.258824    125.364706   \nCuba                        46.355072       9.391304    470.543478   \nDominican-Republic          37.970874       7.320388   1064.456311   \nEcuador                     37.666667       9.244444    328.288889   \nEl-Salvador                 33.380645       6.722581    392.761290   \nEngland                     40.527559      11.110236   1076.551181   \nFrance                      40.315789      12.000000    417.473684   \nGermany                     38.601942      10.927184   1062.058252   \nGreece                      45.836735       9.755102   1131.448980   \nGuatemala                   32.090909       6.306818    167.875000   \nHaiti                       38.600000       8.533333    297.626667   \nHoland-Netherlands          32.000000      10.000000      0.000000   \nHonduras                    35.050000       8.350000     75.300000   \nHong                        34.233333      10.433333    500.800000   \nHungary                     50.368421      10.947368    490.315789   \nIndia                       38.364238      12.536424   3196.390728   \nIran                        38.372881      12.186441   1490.169492   \nIreland                     38.486486       9.783784    494.783784   \nItaly                       45.419048       8.790476    797.895238   \nJamaica                     37.141509       9.811321    495.915094   \nJapan                       37.358696      11.423913   1874.586957   \nLaos                        35.217391       8.826087    125.434783   \nMexico                      33.635121       6.026288    415.954784   \nNicaragua                   36.285714       9.000000    138.653061   \nOutlying-US(Guam-USVI-etc)  38.826087      10.043478      0.000000   \nPeru                        36.434783       9.826087     39.804348   \nPhilippines                 39.633898      10.722034   1508.823729   \nPoland                      42.758621      10.068966    471.919540   \nPortugal                    41.238806       6.761194    203.402985   \nPuerto-Rico                 39.864130       8.331522    335.347826   \nScotland                    46.761905      10.190476    246.571429   \nSouth                       38.095652      10.765217   1678.208696   \nTaiwan                      34.184615      13.276923   1948.600000   \nThailand                    37.666667      10.833333    243.266667   \nTrinadad&Tobago             39.259259       8.962963    116.185185   \nUnited-States               38.698690      10.168667   1089.626529   \nVietnam                     34.616279       9.616279    604.802326   \nYugoslavia                  40.478261       9.391304    916.391304   \n\n                            capital-loss  hours-per-week     class  \nnative-country                                                      \nCambodia                      194.821429       42.035714  0.321429  \nCanada                        131.159341       40.406593  0.346154  \nChina                         170.655738       38.262295  0.295082  \nColumbia                       65.247059       39.929412  0.047059  \nCuba                           62.717391       40.101449  0.246377  \nDominican-Republic             39.029126       41.621359  0.048544  \nEcuador                         0.000000       39.266667  0.133333  \nEl-Salvador                    36.367742       36.361290  0.070968  \nEngland                       108.913386       41.937008  0.370079  \nFrance                         37.052632       42.789474  0.421053  \nGermany                        61.456311       40.815534  0.281553  \nGreece                        174.857143       46.897959  0.367347  \nGuatemala                      18.113636       38.715909  0.034091  \nHaiti                          66.200000       36.920000  0.120000  \nHoland-Netherlands           2205.000000       40.000000  0.000000  \nHonduras                      152.000000       35.650000  0.100000  \nHong                          255.466667       40.266667  0.266667  \nHungary                        87.789474       37.947368  0.315789  \nIndia                         115.417219       41.423841  0.410596  \nIran                          124.406780       42.949153  0.372881  \nIreland                        96.189189       42.432432  0.297297  \nItaly                          52.638095       40.942857  0.323810  \nJamaica                        17.801887       39.160377  0.141509  \nJapan                          59.445652       42.282609  0.347826  \nLaos                           75.652174       39.391304  0.086957  \nMexico                         32.656151       40.213460  0.049422  \nNicaragua                      69.938776       36.938776  0.061224  \nOutlying-US(Guam-USVI-etc)     76.608696       41.347826  0.043478  \nPeru                           40.173913       36.543478  0.086957  \nPhilippines                    88.522034       39.620339  0.288136  \nPoland                         70.390805       37.689655  0.195402  \nPortugal                        0.000000       42.238806  0.179104  \nPuerto-Rico                   104.777174       39.016304  0.108696  \nScotland                        0.000000       41.666667  0.142857  \nSouth                         134.269565       42.852174  0.173913  \nTaiwan                        121.476923       39.400000  0.400000  \nThailand                       49.500000       44.700000  0.166667  \nTrinadad&Tobago               156.518519       38.888889  0.074074  \nUnited-States                  88.789743       40.440774  0.243977  \nVietnam                        86.372093       37.976744  0.081395  \nYugoslavia                      0.000000       40.217391  0.347826  ",
      "text/html": "<div>\n<style scoped>\n    .dataframe tbody tr th:only-of-type {\n        vertical-align: middle;\n    }\n\n    .dataframe tbody tr th {\n        vertical-align: top;\n    }\n\n    .dataframe thead th {\n        text-align: right;\n    }\n</style>\n<table border=\"1\" class=\"dataframe\">\n  <thead>\n    <tr style=\"text-align: right;\">\n      <th></th>\n      <th>age</th>\n      <th>education-num</th>\n      <th>capital-gain</th>\n      <th>capital-loss</th>\n      <th>hours-per-week</th>\n      <th>class</th>\n    </tr>\n    <tr>\n      <th>native-country</th>\n      <th></th>\n      <th></th>\n      <th></th>\n      <th></th>\n      <th></th>\n      <th></th>\n    </tr>\n  </thead>\n  <tbody>\n    <tr>\n      <th>Cambodia</th>\n      <td>36.892857</td>\n      <td>9.392857</td>\n      <td>697.464286</td>\n      <td>194.821429</td>\n      <td>42.035714</td>\n      <td>0.321429</td>\n    </tr>\n    <tr>\n      <th>Canada</th>\n      <td>44.049451</td>\n      <td>10.692308</td>\n      <td>1233.505495</td>\n      <td>131.159341</td>\n      <td>40.406593</td>\n      <td>0.346154</td>\n    </tr>\n    <tr>\n      <th>China</th>\n      <td>41.852459</td>\n      <td>11.262295</td>\n      <td>1407.737705</td>\n      <td>170.655738</td>\n      <td>38.262295</td>\n      <td>0.295082</td>\n    </tr>\n    <tr>\n      <th>Columbia</th>\n      <td>39.458824</td>\n      <td>9.258824</td>\n      <td>125.364706</td>\n      <td>65.247059</td>\n      <td>39.929412</td>\n      <td>0.047059</td>\n    </tr>\n    <tr>\n      <th>Cuba</th>\n      <td>46.355072</td>\n      <td>9.391304</td>\n      <td>470.543478</td>\n      <td>62.717391</td>\n      <td>40.101449</td>\n      <td>0.246377</td>\n    </tr>\n    <tr>\n      <th>Dominican-Republic</th>\n      <td>37.970874</td>\n      <td>7.320388</td>\n      <td>1064.456311</td>\n      <td>39.029126</td>\n      <td>41.621359</td>\n      <td>0.048544</td>\n    </tr>\n    <tr>\n      <th>Ecuador</th>\n      <td>37.666667</td>\n      <td>9.244444</td>\n      <td>328.288889</td>\n      <td>0.000000</td>\n      <td>39.266667</td>\n      <td>0.133333</td>\n    </tr>\n    <tr>\n      <th>El-Salvador</th>\n      <td>33.380645</td>\n      <td>6.722581</td>\n      <td>392.761290</td>\n      <td>36.367742</td>\n      <td>36.361290</td>\n      <td>0.070968</td>\n    </tr>\n    <tr>\n      <th>England</th>\n      <td>40.527559</td>\n      <td>11.110236</td>\n      <td>1076.551181</td>\n      <td>108.913386</td>\n      <td>41.937008</td>\n      <td>0.370079</td>\n    </tr>\n    <tr>\n      <th>France</th>\n      <td>40.315789</td>\n      <td>12.000000</td>\n      <td>417.473684</td>\n      <td>37.052632</td>\n      <td>42.789474</td>\n      <td>0.421053</td>\n    </tr>\n    <tr>\n      <th>Germany</th>\n      <td>38.601942</td>\n      <td>10.927184</td>\n      <td>1062.058252</td>\n      <td>61.456311</td>\n      <td>40.815534</td>\n      <td>0.281553</td>\n    </tr>\n    <tr>\n      <th>Greece</th>\n      <td>45.836735</td>\n      <td>9.755102</td>\n      <td>1131.448980</td>\n      <td>174.857143</td>\n      <td>46.897959</td>\n      <td>0.367347</td>\n    </tr>\n    <tr>\n      <th>Guatemala</th>\n      <td>32.090909</td>\n      <td>6.306818</td>\n      <td>167.875000</td>\n      <td>18.113636</td>\n      <td>38.715909</td>\n      <td>0.034091</td>\n    </tr>\n    <tr>\n      <th>Haiti</th>\n      <td>38.600000</td>\n      <td>8.533333</td>\n      <td>297.626667</td>\n      <td>66.200000</td>\n      <td>36.920000</td>\n      <td>0.120000</td>\n    </tr>\n    <tr>\n      <th>Holand-Netherlands</th>\n      <td>32.000000</td>\n      <td>10.000000</td>\n      <td>0.000000</td>\n      <td>2205.000000</td>\n      <td>40.000000</td>\n      <td>0.000000</td>\n    </tr>\n    <tr>\n      <th>Honduras</th>\n      <td>35.050000</td>\n      <td>8.350000</td>\n      <td>75.300000</td>\n      <td>152.000000</td>\n      <td>35.650000</td>\n      <td>0.100000</td>\n    </tr>\n    <tr>\n      <th>Hong</th>\n      <td>34.233333</td>\n      <td>10.433333</td>\n      <td>500.800000</td>\n      <td>255.466667</td>\n      <td>40.266667</td>\n      <td>0.266667</td>\n    </tr>\n    <tr>\n      <th>Hungary</th>\n      <td>50.368421</td>\n      <td>10.947368</td>\n      <td>490.315789</td>\n      <td>87.789474</td>\n      <td>37.947368</td>\n      <td>0.315789</td>\n    </tr>\n    <tr>\n      <th>India</th>\n      <td>38.364238</td>\n      <td>12.536424</td>\n      <td>3196.390728</td>\n      <td>115.417219</td>\n      <td>41.423841</td>\n      <td>0.410596</td>\n    </tr>\n    <tr>\n      <th>Iran</th>\n      <td>38.372881</td>\n      <td>12.186441</td>\n      <td>1490.169492</td>\n      <td>124.406780</td>\n      <td>42.949153</td>\n      <td>0.372881</td>\n    </tr>\n    <tr>\n      <th>Ireland</th>\n      <td>38.486486</td>\n      <td>9.783784</td>\n      <td>494.783784</td>\n      <td>96.189189</td>\n      <td>42.432432</td>\n      <td>0.297297</td>\n    </tr>\n    <tr>\n      <th>Italy</th>\n      <td>45.419048</td>\n      <td>8.790476</td>\n      <td>797.895238</td>\n      <td>52.638095</td>\n      <td>40.942857</td>\n      <td>0.323810</td>\n    </tr>\n    <tr>\n      <th>Jamaica</th>\n      <td>37.141509</td>\n      <td>9.811321</td>\n      <td>495.915094</td>\n      <td>17.801887</td>\n      <td>39.160377</td>\n      <td>0.141509</td>\n    </tr>\n    <tr>\n      <th>Japan</th>\n      <td>37.358696</td>\n      <td>11.423913</td>\n      <td>1874.586957</td>\n      <td>59.445652</td>\n      <td>42.282609</td>\n      <td>0.347826</td>\n    </tr>\n    <tr>\n      <th>Laos</th>\n      <td>35.217391</td>\n      <td>8.826087</td>\n      <td>125.434783</td>\n      <td>75.652174</td>\n      <td>39.391304</td>\n      <td>0.086957</td>\n    </tr>\n    <tr>\n      <th>Mexico</th>\n      <td>33.635121</td>\n      <td>6.026288</td>\n      <td>415.954784</td>\n      <td>32.656151</td>\n      <td>40.213460</td>\n      <td>0.049422</td>\n    </tr>\n    <tr>\n      <th>Nicaragua</th>\n      <td>36.285714</td>\n      <td>9.000000</td>\n      <td>138.653061</td>\n      <td>69.938776</td>\n      <td>36.938776</td>\n      <td>0.061224</td>\n    </tr>\n    <tr>\n      <th>Outlying-US(Guam-USVI-etc)</th>\n      <td>38.826087</td>\n      <td>10.043478</td>\n      <td>0.000000</td>\n      <td>76.608696</td>\n      <td>41.347826</td>\n      <td>0.043478</td>\n    </tr>\n    <tr>\n      <th>Peru</th>\n      <td>36.434783</td>\n      <td>9.826087</td>\n      <td>39.804348</td>\n      <td>40.173913</td>\n      <td>36.543478</td>\n      <td>0.086957</td>\n    </tr>\n    <tr>\n      <th>Philippines</th>\n      <td>39.633898</td>\n      <td>10.722034</td>\n      <td>1508.823729</td>\n      <td>88.522034</td>\n      <td>39.620339</td>\n      <td>0.288136</td>\n    </tr>\n    <tr>\n      <th>Poland</th>\n      <td>42.758621</td>\n      <td>10.068966</td>\n      <td>471.919540</td>\n      <td>70.390805</td>\n      <td>37.689655</td>\n      <td>0.195402</td>\n    </tr>\n    <tr>\n      <th>Portugal</th>\n      <td>41.238806</td>\n      <td>6.761194</td>\n      <td>203.402985</td>\n      <td>0.000000</td>\n      <td>42.238806</td>\n      <td>0.179104</td>\n    </tr>\n    <tr>\n      <th>Puerto-Rico</th>\n      <td>39.864130</td>\n      <td>8.331522</td>\n      <td>335.347826</td>\n      <td>104.777174</td>\n      <td>39.016304</td>\n      <td>0.108696</td>\n    </tr>\n    <tr>\n      <th>Scotland</th>\n      <td>46.761905</td>\n      <td>10.190476</td>\n      <td>246.571429</td>\n      <td>0.000000</td>\n      <td>41.666667</td>\n      <td>0.142857</td>\n    </tr>\n    <tr>\n      <th>South</th>\n      <td>38.095652</td>\n      <td>10.765217</td>\n      <td>1678.208696</td>\n      <td>134.269565</td>\n      <td>42.852174</td>\n      <td>0.173913</td>\n    </tr>\n    <tr>\n      <th>Taiwan</th>\n      <td>34.184615</td>\n      <td>13.276923</td>\n      <td>1948.600000</td>\n      <td>121.476923</td>\n      <td>39.400000</td>\n      <td>0.400000</td>\n    </tr>\n    <tr>\n      <th>Thailand</th>\n      <td>37.666667</td>\n      <td>10.833333</td>\n      <td>243.266667</td>\n      <td>49.500000</td>\n      <td>44.700000</td>\n      <td>0.166667</td>\n    </tr>\n    <tr>\n      <th>Trinadad&amp;Tobago</th>\n      <td>39.259259</td>\n      <td>8.962963</td>\n      <td>116.185185</td>\n      <td>156.518519</td>\n      <td>38.888889</td>\n      <td>0.074074</td>\n    </tr>\n    <tr>\n      <th>United-States</th>\n      <td>38.698690</td>\n      <td>10.168667</td>\n      <td>1089.626529</td>\n      <td>88.789743</td>\n      <td>40.440774</td>\n      <td>0.243977</td>\n    </tr>\n    <tr>\n      <th>Vietnam</th>\n      <td>34.616279</td>\n      <td>9.616279</td>\n      <td>604.802326</td>\n      <td>86.372093</td>\n      <td>37.976744</td>\n      <td>0.081395</td>\n    </tr>\n    <tr>\n      <th>Yugoslavia</th>\n      <td>40.478261</td>\n      <td>9.391304</td>\n      <td>916.391304</td>\n      <td>0.000000</td>\n      <td>40.217391</td>\n      <td>0.347826</td>\n    </tr>\n  </tbody>\n</table>\n</div>"
     },
     "execution_count": 72,
     "metadata": {},
     "output_type": "execute_result"
    }
   ],
   "source": [
    "data.groupby('native-country').mean() #그룹별 평균 계산"
   ],
   "metadata": {
    "collapsed": false,
    "pycharm": {
     "name": "#%%\n"
    }
   }
  },
  {
   "cell_type": "code",
   "execution_count": 73,
   "outputs": [
    {
     "data": {
      "text/plain": "                                  age  education-num  capital-gain  \\\nnative-country                                                       \nHoland-Netherlands          32.000000      10.000000      0.000000   \nGuatemala                   32.090909       6.306818    167.875000   \nOutlying-US(Guam-USVI-etc)  38.826087      10.043478      0.000000   \nColumbia                    39.458824       9.258824    125.364706   \nDominican-Republic          37.970874       7.320388   1064.456311   \nMexico                      33.635121       6.026288    415.954784   \nNicaragua                   36.285714       9.000000    138.653061   \nEl-Salvador                 33.380645       6.722581    392.761290   \nTrinadad&Tobago             39.259259       8.962963    116.185185   \nVietnam                     34.616279       9.616279    604.802326   \nLaos                        35.217391       8.826087    125.434783   \nPeru                        36.434783       9.826087     39.804348   \nHonduras                    35.050000       8.350000     75.300000   \nPuerto-Rico                 39.864130       8.331522    335.347826   \nHaiti                       38.600000       8.533333    297.626667   \nEcuador                     37.666667       9.244444    328.288889   \nJamaica                     37.141509       9.811321    495.915094   \nScotland                    46.761905      10.190476    246.571429   \nThailand                    37.666667      10.833333    243.266667   \nSouth                       38.095652      10.765217   1678.208696   \nPortugal                    41.238806       6.761194    203.402985   \nPoland                      42.758621      10.068966    471.919540   \nUnited-States               38.698690      10.168667   1089.626529   \nCuba                        46.355072       9.391304    470.543478   \nHong                        34.233333      10.433333    500.800000   \nGermany                     38.601942      10.927184   1062.058252   \nPhilippines                 39.633898      10.722034   1508.823729   \nChina                       41.852459      11.262295   1407.737705   \nIreland                     38.486486       9.783784    494.783784   \nHungary                     50.368421      10.947368    490.315789   \nCambodia                    36.892857       9.392857    697.464286   \nItaly                       45.419048       8.790476    797.895238   \nCanada                      44.049451      10.692308   1233.505495   \nJapan                       37.358696      11.423913   1874.586957   \nYugoslavia                  40.478261       9.391304    916.391304   \nGreece                      45.836735       9.755102   1131.448980   \nEngland                     40.527559      11.110236   1076.551181   \nIran                        38.372881      12.186441   1490.169492   \nTaiwan                      34.184615      13.276923   1948.600000   \nIndia                       38.364238      12.536424   3196.390728   \nFrance                      40.315789      12.000000    417.473684   \n\n                            capital-loss  hours-per-week     class  \nnative-country                                                      \nHoland-Netherlands           2205.000000       40.000000  0.000000  \nGuatemala                      18.113636       38.715909  0.034091  \nOutlying-US(Guam-USVI-etc)     76.608696       41.347826  0.043478  \nColumbia                       65.247059       39.929412  0.047059  \nDominican-Republic             39.029126       41.621359  0.048544  \nMexico                         32.656151       40.213460  0.049422  \nNicaragua                      69.938776       36.938776  0.061224  \nEl-Salvador                    36.367742       36.361290  0.070968  \nTrinadad&Tobago               156.518519       38.888889  0.074074  \nVietnam                        86.372093       37.976744  0.081395  \nLaos                           75.652174       39.391304  0.086957  \nPeru                           40.173913       36.543478  0.086957  \nHonduras                      152.000000       35.650000  0.100000  \nPuerto-Rico                   104.777174       39.016304  0.108696  \nHaiti                          66.200000       36.920000  0.120000  \nEcuador                         0.000000       39.266667  0.133333  \nJamaica                        17.801887       39.160377  0.141509  \nScotland                        0.000000       41.666667  0.142857  \nThailand                       49.500000       44.700000  0.166667  \nSouth                         134.269565       42.852174  0.173913  \nPortugal                        0.000000       42.238806  0.179104  \nPoland                         70.390805       37.689655  0.195402  \nUnited-States                  88.789743       40.440774  0.243977  \nCuba                           62.717391       40.101449  0.246377  \nHong                          255.466667       40.266667  0.266667  \nGermany                        61.456311       40.815534  0.281553  \nPhilippines                    88.522034       39.620339  0.288136  \nChina                         170.655738       38.262295  0.295082  \nIreland                        96.189189       42.432432  0.297297  \nHungary                        87.789474       37.947368  0.315789  \nCambodia                      194.821429       42.035714  0.321429  \nItaly                          52.638095       40.942857  0.323810  \nCanada                        131.159341       40.406593  0.346154  \nJapan                          59.445652       42.282609  0.347826  \nYugoslavia                      0.000000       40.217391  0.347826  \nGreece                        174.857143       46.897959  0.367347  \nEngland                       108.913386       41.937008  0.370079  \nIran                          124.406780       42.949153  0.372881  \nTaiwan                        121.476923       39.400000  0.400000  \nIndia                         115.417219       41.423841  0.410596  \nFrance                         37.052632       42.789474  0.421053  ",
      "text/html": "<div>\n<style scoped>\n    .dataframe tbody tr th:only-of-type {\n        vertical-align: middle;\n    }\n\n    .dataframe tbody tr th {\n        vertical-align: top;\n    }\n\n    .dataframe thead th {\n        text-align: right;\n    }\n</style>\n<table border=\"1\" class=\"dataframe\">\n  <thead>\n    <tr style=\"text-align: right;\">\n      <th></th>\n      <th>age</th>\n      <th>education-num</th>\n      <th>capital-gain</th>\n      <th>capital-loss</th>\n      <th>hours-per-week</th>\n      <th>class</th>\n    </tr>\n    <tr>\n      <th>native-country</th>\n      <th></th>\n      <th></th>\n      <th></th>\n      <th></th>\n      <th></th>\n      <th></th>\n    </tr>\n  </thead>\n  <tbody>\n    <tr>\n      <th>Holand-Netherlands</th>\n      <td>32.000000</td>\n      <td>10.000000</td>\n      <td>0.000000</td>\n      <td>2205.000000</td>\n      <td>40.000000</td>\n      <td>0.000000</td>\n    </tr>\n    <tr>\n      <th>Guatemala</th>\n      <td>32.090909</td>\n      <td>6.306818</td>\n      <td>167.875000</td>\n      <td>18.113636</td>\n      <td>38.715909</td>\n      <td>0.034091</td>\n    </tr>\n    <tr>\n      <th>Outlying-US(Guam-USVI-etc)</th>\n      <td>38.826087</td>\n      <td>10.043478</td>\n      <td>0.000000</td>\n      <td>76.608696</td>\n      <td>41.347826</td>\n      <td>0.043478</td>\n    </tr>\n    <tr>\n      <th>Columbia</th>\n      <td>39.458824</td>\n      <td>9.258824</td>\n      <td>125.364706</td>\n      <td>65.247059</td>\n      <td>39.929412</td>\n      <td>0.047059</td>\n    </tr>\n    <tr>\n      <th>Dominican-Republic</th>\n      <td>37.970874</td>\n      <td>7.320388</td>\n      <td>1064.456311</td>\n      <td>39.029126</td>\n      <td>41.621359</td>\n      <td>0.048544</td>\n    </tr>\n    <tr>\n      <th>Mexico</th>\n      <td>33.635121</td>\n      <td>6.026288</td>\n      <td>415.954784</td>\n      <td>32.656151</td>\n      <td>40.213460</td>\n      <td>0.049422</td>\n    </tr>\n    <tr>\n      <th>Nicaragua</th>\n      <td>36.285714</td>\n      <td>9.000000</td>\n      <td>138.653061</td>\n      <td>69.938776</td>\n      <td>36.938776</td>\n      <td>0.061224</td>\n    </tr>\n    <tr>\n      <th>El-Salvador</th>\n      <td>33.380645</td>\n      <td>6.722581</td>\n      <td>392.761290</td>\n      <td>36.367742</td>\n      <td>36.361290</td>\n      <td>0.070968</td>\n    </tr>\n    <tr>\n      <th>Trinadad&amp;Tobago</th>\n      <td>39.259259</td>\n      <td>8.962963</td>\n      <td>116.185185</td>\n      <td>156.518519</td>\n      <td>38.888889</td>\n      <td>0.074074</td>\n    </tr>\n    <tr>\n      <th>Vietnam</th>\n      <td>34.616279</td>\n      <td>9.616279</td>\n      <td>604.802326</td>\n      <td>86.372093</td>\n      <td>37.976744</td>\n      <td>0.081395</td>\n    </tr>\n    <tr>\n      <th>Laos</th>\n      <td>35.217391</td>\n      <td>8.826087</td>\n      <td>125.434783</td>\n      <td>75.652174</td>\n      <td>39.391304</td>\n      <td>0.086957</td>\n    </tr>\n    <tr>\n      <th>Peru</th>\n      <td>36.434783</td>\n      <td>9.826087</td>\n      <td>39.804348</td>\n      <td>40.173913</td>\n      <td>36.543478</td>\n      <td>0.086957</td>\n    </tr>\n    <tr>\n      <th>Honduras</th>\n      <td>35.050000</td>\n      <td>8.350000</td>\n      <td>75.300000</td>\n      <td>152.000000</td>\n      <td>35.650000</td>\n      <td>0.100000</td>\n    </tr>\n    <tr>\n      <th>Puerto-Rico</th>\n      <td>39.864130</td>\n      <td>8.331522</td>\n      <td>335.347826</td>\n      <td>104.777174</td>\n      <td>39.016304</td>\n      <td>0.108696</td>\n    </tr>\n    <tr>\n      <th>Haiti</th>\n      <td>38.600000</td>\n      <td>8.533333</td>\n      <td>297.626667</td>\n      <td>66.200000</td>\n      <td>36.920000</td>\n      <td>0.120000</td>\n    </tr>\n    <tr>\n      <th>Ecuador</th>\n      <td>37.666667</td>\n      <td>9.244444</td>\n      <td>328.288889</td>\n      <td>0.000000</td>\n      <td>39.266667</td>\n      <td>0.133333</td>\n    </tr>\n    <tr>\n      <th>Jamaica</th>\n      <td>37.141509</td>\n      <td>9.811321</td>\n      <td>495.915094</td>\n      <td>17.801887</td>\n      <td>39.160377</td>\n      <td>0.141509</td>\n    </tr>\n    <tr>\n      <th>Scotland</th>\n      <td>46.761905</td>\n      <td>10.190476</td>\n      <td>246.571429</td>\n      <td>0.000000</td>\n      <td>41.666667</td>\n      <td>0.142857</td>\n    </tr>\n    <tr>\n      <th>Thailand</th>\n      <td>37.666667</td>\n      <td>10.833333</td>\n      <td>243.266667</td>\n      <td>49.500000</td>\n      <td>44.700000</td>\n      <td>0.166667</td>\n    </tr>\n    <tr>\n      <th>South</th>\n      <td>38.095652</td>\n      <td>10.765217</td>\n      <td>1678.208696</td>\n      <td>134.269565</td>\n      <td>42.852174</td>\n      <td>0.173913</td>\n    </tr>\n    <tr>\n      <th>Portugal</th>\n      <td>41.238806</td>\n      <td>6.761194</td>\n      <td>203.402985</td>\n      <td>0.000000</td>\n      <td>42.238806</td>\n      <td>0.179104</td>\n    </tr>\n    <tr>\n      <th>Poland</th>\n      <td>42.758621</td>\n      <td>10.068966</td>\n      <td>471.919540</td>\n      <td>70.390805</td>\n      <td>37.689655</td>\n      <td>0.195402</td>\n    </tr>\n    <tr>\n      <th>United-States</th>\n      <td>38.698690</td>\n      <td>10.168667</td>\n      <td>1089.626529</td>\n      <td>88.789743</td>\n      <td>40.440774</td>\n      <td>0.243977</td>\n    </tr>\n    <tr>\n      <th>Cuba</th>\n      <td>46.355072</td>\n      <td>9.391304</td>\n      <td>470.543478</td>\n      <td>62.717391</td>\n      <td>40.101449</td>\n      <td>0.246377</td>\n    </tr>\n    <tr>\n      <th>Hong</th>\n      <td>34.233333</td>\n      <td>10.433333</td>\n      <td>500.800000</td>\n      <td>255.466667</td>\n      <td>40.266667</td>\n      <td>0.266667</td>\n    </tr>\n    <tr>\n      <th>Germany</th>\n      <td>38.601942</td>\n      <td>10.927184</td>\n      <td>1062.058252</td>\n      <td>61.456311</td>\n      <td>40.815534</td>\n      <td>0.281553</td>\n    </tr>\n    <tr>\n      <th>Philippines</th>\n      <td>39.633898</td>\n      <td>10.722034</td>\n      <td>1508.823729</td>\n      <td>88.522034</td>\n      <td>39.620339</td>\n      <td>0.288136</td>\n    </tr>\n    <tr>\n      <th>China</th>\n      <td>41.852459</td>\n      <td>11.262295</td>\n      <td>1407.737705</td>\n      <td>170.655738</td>\n      <td>38.262295</td>\n      <td>0.295082</td>\n    </tr>\n    <tr>\n      <th>Ireland</th>\n      <td>38.486486</td>\n      <td>9.783784</td>\n      <td>494.783784</td>\n      <td>96.189189</td>\n      <td>42.432432</td>\n      <td>0.297297</td>\n    </tr>\n    <tr>\n      <th>Hungary</th>\n      <td>50.368421</td>\n      <td>10.947368</td>\n      <td>490.315789</td>\n      <td>87.789474</td>\n      <td>37.947368</td>\n      <td>0.315789</td>\n    </tr>\n    <tr>\n      <th>Cambodia</th>\n      <td>36.892857</td>\n      <td>9.392857</td>\n      <td>697.464286</td>\n      <td>194.821429</td>\n      <td>42.035714</td>\n      <td>0.321429</td>\n    </tr>\n    <tr>\n      <th>Italy</th>\n      <td>45.419048</td>\n      <td>8.790476</td>\n      <td>797.895238</td>\n      <td>52.638095</td>\n      <td>40.942857</td>\n      <td>0.323810</td>\n    </tr>\n    <tr>\n      <th>Canada</th>\n      <td>44.049451</td>\n      <td>10.692308</td>\n      <td>1233.505495</td>\n      <td>131.159341</td>\n      <td>40.406593</td>\n      <td>0.346154</td>\n    </tr>\n    <tr>\n      <th>Japan</th>\n      <td>37.358696</td>\n      <td>11.423913</td>\n      <td>1874.586957</td>\n      <td>59.445652</td>\n      <td>42.282609</td>\n      <td>0.347826</td>\n    </tr>\n    <tr>\n      <th>Yugoslavia</th>\n      <td>40.478261</td>\n      <td>9.391304</td>\n      <td>916.391304</td>\n      <td>0.000000</td>\n      <td>40.217391</td>\n      <td>0.347826</td>\n    </tr>\n    <tr>\n      <th>Greece</th>\n      <td>45.836735</td>\n      <td>9.755102</td>\n      <td>1131.448980</td>\n      <td>174.857143</td>\n      <td>46.897959</td>\n      <td>0.367347</td>\n    </tr>\n    <tr>\n      <th>England</th>\n      <td>40.527559</td>\n      <td>11.110236</td>\n      <td>1076.551181</td>\n      <td>108.913386</td>\n      <td>41.937008</td>\n      <td>0.370079</td>\n    </tr>\n    <tr>\n      <th>Iran</th>\n      <td>38.372881</td>\n      <td>12.186441</td>\n      <td>1490.169492</td>\n      <td>124.406780</td>\n      <td>42.949153</td>\n      <td>0.372881</td>\n    </tr>\n    <tr>\n      <th>Taiwan</th>\n      <td>34.184615</td>\n      <td>13.276923</td>\n      <td>1948.600000</td>\n      <td>121.476923</td>\n      <td>39.400000</td>\n      <td>0.400000</td>\n    </tr>\n    <tr>\n      <th>India</th>\n      <td>38.364238</td>\n      <td>12.536424</td>\n      <td>3196.390728</td>\n      <td>115.417219</td>\n      <td>41.423841</td>\n      <td>0.410596</td>\n    </tr>\n    <tr>\n      <th>France</th>\n      <td>40.315789</td>\n      <td>12.000000</td>\n      <td>417.473684</td>\n      <td>37.052632</td>\n      <td>42.789474</td>\n      <td>0.421053</td>\n    </tr>\n  </tbody>\n</table>\n</div>"
     },
     "execution_count": 73,
     "metadata": {},
     "output_type": "execute_result"
    }
   ],
   "source": [
    "data.groupby('native-country').mean().sort_values('class')"
   ],
   "metadata": {
    "collapsed": false,
    "pycharm": {
     "name": "#%%\n"
    }
   }
  },
  {
   "cell_type": "code",
   "execution_count": 76,
   "outputs": [
    {
     "data": {
      "text/plain": "                native-country     class\n0                     Cambodia  0.321429\n1                       Canada  0.346154\n2                        China  0.295082\n3                     Columbia  0.047059\n4                         Cuba  0.246377\n5           Dominican-Republic  0.048544\n6                      Ecuador  0.133333\n7                  El-Salvador  0.070968\n8                      England  0.370079\n9                       France  0.421053\n10                     Germany  0.281553\n11                      Greece  0.367347\n12                   Guatemala  0.034091\n13                       Haiti  0.120000\n14          Holand-Netherlands  0.000000\n15                    Honduras  0.100000\n16                        Hong  0.266667\n17                     Hungary  0.315789\n18                       India  0.410596\n19                        Iran  0.372881\n20                     Ireland  0.297297\n21                       Italy  0.323810\n22                     Jamaica  0.141509\n23                       Japan  0.347826\n24                        Laos  0.086957\n25                      Mexico  0.049422\n26                   Nicaragua  0.061224\n27  Outlying-US(Guam-USVI-etc)  0.043478\n28                        Peru  0.086957\n29                 Philippines  0.288136\n30                      Poland  0.195402\n31                    Portugal  0.179104\n32                 Puerto-Rico  0.108696\n33                    Scotland  0.142857\n34                       South  0.173913\n35                      Taiwan  0.400000\n36                    Thailand  0.166667\n37             Trinadad&Tobago  0.074074\n38               United-States  0.243977\n39                     Vietnam  0.081395\n40                  Yugoslavia  0.347826",
      "text/html": "<div>\n<style scoped>\n    .dataframe tbody tr th:only-of-type {\n        vertical-align: middle;\n    }\n\n    .dataframe tbody tr th {\n        vertical-align: top;\n    }\n\n    .dataframe thead th {\n        text-align: right;\n    }\n</style>\n<table border=\"1\" class=\"dataframe\">\n  <thead>\n    <tr style=\"text-align: right;\">\n      <th></th>\n      <th>native-country</th>\n      <th>class</th>\n    </tr>\n  </thead>\n  <tbody>\n    <tr>\n      <th>0</th>\n      <td>Cambodia</td>\n      <td>0.321429</td>\n    </tr>\n    <tr>\n      <th>1</th>\n      <td>Canada</td>\n      <td>0.346154</td>\n    </tr>\n    <tr>\n      <th>2</th>\n      <td>China</td>\n      <td>0.295082</td>\n    </tr>\n    <tr>\n      <th>3</th>\n      <td>Columbia</td>\n      <td>0.047059</td>\n    </tr>\n    <tr>\n      <th>4</th>\n      <td>Cuba</td>\n      <td>0.246377</td>\n    </tr>\n    <tr>\n      <th>5</th>\n      <td>Dominican-Republic</td>\n      <td>0.048544</td>\n    </tr>\n    <tr>\n      <th>6</th>\n      <td>Ecuador</td>\n      <td>0.133333</td>\n    </tr>\n    <tr>\n      <th>7</th>\n      <td>El-Salvador</td>\n      <td>0.070968</td>\n    </tr>\n    <tr>\n      <th>8</th>\n      <td>England</td>\n      <td>0.370079</td>\n    </tr>\n    <tr>\n      <th>9</th>\n      <td>France</td>\n      <td>0.421053</td>\n    </tr>\n    <tr>\n      <th>10</th>\n      <td>Germany</td>\n      <td>0.281553</td>\n    </tr>\n    <tr>\n      <th>11</th>\n      <td>Greece</td>\n      <td>0.367347</td>\n    </tr>\n    <tr>\n      <th>12</th>\n      <td>Guatemala</td>\n      <td>0.034091</td>\n    </tr>\n    <tr>\n      <th>13</th>\n      <td>Haiti</td>\n      <td>0.120000</td>\n    </tr>\n    <tr>\n      <th>14</th>\n      <td>Holand-Netherlands</td>\n      <td>0.000000</td>\n    </tr>\n    <tr>\n      <th>15</th>\n      <td>Honduras</td>\n      <td>0.100000</td>\n    </tr>\n    <tr>\n      <th>16</th>\n      <td>Hong</td>\n      <td>0.266667</td>\n    </tr>\n    <tr>\n      <th>17</th>\n      <td>Hungary</td>\n      <td>0.315789</td>\n    </tr>\n    <tr>\n      <th>18</th>\n      <td>India</td>\n      <td>0.410596</td>\n    </tr>\n    <tr>\n      <th>19</th>\n      <td>Iran</td>\n      <td>0.372881</td>\n    </tr>\n    <tr>\n      <th>20</th>\n      <td>Ireland</td>\n      <td>0.297297</td>\n    </tr>\n    <tr>\n      <th>21</th>\n      <td>Italy</td>\n      <td>0.323810</td>\n    </tr>\n    <tr>\n      <th>22</th>\n      <td>Jamaica</td>\n      <td>0.141509</td>\n    </tr>\n    <tr>\n      <th>23</th>\n      <td>Japan</td>\n      <td>0.347826</td>\n    </tr>\n    <tr>\n      <th>24</th>\n      <td>Laos</td>\n      <td>0.086957</td>\n    </tr>\n    <tr>\n      <th>25</th>\n      <td>Mexico</td>\n      <td>0.049422</td>\n    </tr>\n    <tr>\n      <th>26</th>\n      <td>Nicaragua</td>\n      <td>0.061224</td>\n    </tr>\n    <tr>\n      <th>27</th>\n      <td>Outlying-US(Guam-USVI-etc)</td>\n      <td>0.043478</td>\n    </tr>\n    <tr>\n      <th>28</th>\n      <td>Peru</td>\n      <td>0.086957</td>\n    </tr>\n    <tr>\n      <th>29</th>\n      <td>Philippines</td>\n      <td>0.288136</td>\n    </tr>\n    <tr>\n      <th>30</th>\n      <td>Poland</td>\n      <td>0.195402</td>\n    </tr>\n    <tr>\n      <th>31</th>\n      <td>Portugal</td>\n      <td>0.179104</td>\n    </tr>\n    <tr>\n      <th>32</th>\n      <td>Puerto-Rico</td>\n      <td>0.108696</td>\n    </tr>\n    <tr>\n      <th>33</th>\n      <td>Scotland</td>\n      <td>0.142857</td>\n    </tr>\n    <tr>\n      <th>34</th>\n      <td>South</td>\n      <td>0.173913</td>\n    </tr>\n    <tr>\n      <th>35</th>\n      <td>Taiwan</td>\n      <td>0.400000</td>\n    </tr>\n    <tr>\n      <th>36</th>\n      <td>Thailand</td>\n      <td>0.166667</td>\n    </tr>\n    <tr>\n      <th>37</th>\n      <td>Trinadad&amp;Tobago</td>\n      <td>0.074074</td>\n    </tr>\n    <tr>\n      <th>38</th>\n      <td>United-States</td>\n      <td>0.243977</td>\n    </tr>\n    <tr>\n      <th>39</th>\n      <td>Vietnam</td>\n      <td>0.081395</td>\n    </tr>\n    <tr>\n      <th>40</th>\n      <td>Yugoslavia</td>\n      <td>0.347826</td>\n    </tr>\n  </tbody>\n</table>\n</div>"
     },
     "execution_count": 76,
     "metadata": {},
     "output_type": "execute_result"
    }
   ],
   "source": [
    "country_group = data.groupby('native-country').mean()['class']\n",
    "country_group=  country_group.reset_index() #인덱스를 변수로 불러냄\n",
    "\n",
    "country_group"
   ],
   "metadata": {
    "collapsed": false,
    "pycharm": {
     "name": "#%%\n"
    }
   }
  },
  {
   "cell_type": "code",
   "execution_count": 77,
   "outputs": [
    {
     "data": {
      "text/plain": "       age     workclass  education-num      marital-status  \\\n0       25       Private              7       Never-married   \n1       38       Private              9  Married-civ-spouse   \n2       28     Local-gov             12  Married-civ-spouse   \n3       44       Private             10  Married-civ-spouse   \n4       18           NaN             10       Never-married   \n...    ...           ...            ...                 ...   \n48837   27       Private             12  Married-civ-spouse   \n48838   40       Private              9  Married-civ-spouse   \n48839   58       Private              9             Widowed   \n48840   22       Private              9       Never-married   \n48841   52  Self-emp-inc              9  Married-civ-spouse   \n\n              occupation relationship   race     sex  capital-gain  \\\n0      Machine-op-inspct    Own-child  Black    Male             0   \n1        Farming-fishing      Husband  White    Male             0   \n2        Protective-serv      Husband  White    Male             0   \n3      Machine-op-inspct      Husband  Black    Male          7688   \n4                    NaN    Own-child  White  Female             0   \n...                  ...          ...    ...     ...           ...   \n48837       Tech-support         Wife  White  Female             0   \n48838  Machine-op-inspct      Husband  White    Male             0   \n48839       Adm-clerical    Unmarried  White  Female             0   \n48840       Adm-clerical    Own-child  White    Male             0   \n48841    Exec-managerial         Wife  White  Female         15024   \n\n       capital-loss  hours-per-week native-country  class_x   class_y  \n0                 0              40  United-States        0  0.243977  \n1                 0              50  United-States        0  0.243977  \n2                 0              40  United-States        1  0.243977  \n3                 0              40  United-States        1  0.243977  \n4                 0              30  United-States        0  0.243977  \n...             ...             ...            ...      ...       ...  \n48837             0              38  United-States        0  0.243977  \n48838             0              40  United-States        1  0.243977  \n48839             0              40  United-States        0  0.243977  \n48840             0              20  United-States        0  0.243977  \n48841             0              40  United-States        1  0.243977  \n\n[48842 rows x 14 columns]",
      "text/html": "<div>\n<style scoped>\n    .dataframe tbody tr th:only-of-type {\n        vertical-align: middle;\n    }\n\n    .dataframe tbody tr th {\n        vertical-align: top;\n    }\n\n    .dataframe thead th {\n        text-align: right;\n    }\n</style>\n<table border=\"1\" class=\"dataframe\">\n  <thead>\n    <tr style=\"text-align: right;\">\n      <th></th>\n      <th>age</th>\n      <th>workclass</th>\n      <th>education-num</th>\n      <th>marital-status</th>\n      <th>occupation</th>\n      <th>relationship</th>\n      <th>race</th>\n      <th>sex</th>\n      <th>capital-gain</th>\n      <th>capital-loss</th>\n      <th>hours-per-week</th>\n      <th>native-country</th>\n      <th>class_x</th>\n      <th>class_y</th>\n    </tr>\n  </thead>\n  <tbody>\n    <tr>\n      <th>0</th>\n      <td>25</td>\n      <td>Private</td>\n      <td>7</td>\n      <td>Never-married</td>\n      <td>Machine-op-inspct</td>\n      <td>Own-child</td>\n      <td>Black</td>\n      <td>Male</td>\n      <td>0</td>\n      <td>0</td>\n      <td>40</td>\n      <td>United-States</td>\n      <td>0</td>\n      <td>0.243977</td>\n    </tr>\n    <tr>\n      <th>1</th>\n      <td>38</td>\n      <td>Private</td>\n      <td>9</td>\n      <td>Married-civ-spouse</td>\n      <td>Farming-fishing</td>\n      <td>Husband</td>\n      <td>White</td>\n      <td>Male</td>\n      <td>0</td>\n      <td>0</td>\n      <td>50</td>\n      <td>United-States</td>\n      <td>0</td>\n      <td>0.243977</td>\n    </tr>\n    <tr>\n      <th>2</th>\n      <td>28</td>\n      <td>Local-gov</td>\n      <td>12</td>\n      <td>Married-civ-spouse</td>\n      <td>Protective-serv</td>\n      <td>Husband</td>\n      <td>White</td>\n      <td>Male</td>\n      <td>0</td>\n      <td>0</td>\n      <td>40</td>\n      <td>United-States</td>\n      <td>1</td>\n      <td>0.243977</td>\n    </tr>\n    <tr>\n      <th>3</th>\n      <td>44</td>\n      <td>Private</td>\n      <td>10</td>\n      <td>Married-civ-spouse</td>\n      <td>Machine-op-inspct</td>\n      <td>Husband</td>\n      <td>Black</td>\n      <td>Male</td>\n      <td>7688</td>\n      <td>0</td>\n      <td>40</td>\n      <td>United-States</td>\n      <td>1</td>\n      <td>0.243977</td>\n    </tr>\n    <tr>\n      <th>4</th>\n      <td>18</td>\n      <td>NaN</td>\n      <td>10</td>\n      <td>Never-married</td>\n      <td>NaN</td>\n      <td>Own-child</td>\n      <td>White</td>\n      <td>Female</td>\n      <td>0</td>\n      <td>0</td>\n      <td>30</td>\n      <td>United-States</td>\n      <td>0</td>\n      <td>0.243977</td>\n    </tr>\n    <tr>\n      <th>...</th>\n      <td>...</td>\n      <td>...</td>\n      <td>...</td>\n      <td>...</td>\n      <td>...</td>\n      <td>...</td>\n      <td>...</td>\n      <td>...</td>\n      <td>...</td>\n      <td>...</td>\n      <td>...</td>\n      <td>...</td>\n      <td>...</td>\n      <td>...</td>\n    </tr>\n    <tr>\n      <th>48837</th>\n      <td>27</td>\n      <td>Private</td>\n      <td>12</td>\n      <td>Married-civ-spouse</td>\n      <td>Tech-support</td>\n      <td>Wife</td>\n      <td>White</td>\n      <td>Female</td>\n      <td>0</td>\n      <td>0</td>\n      <td>38</td>\n      <td>United-States</td>\n      <td>0</td>\n      <td>0.243977</td>\n    </tr>\n    <tr>\n      <th>48838</th>\n      <td>40</td>\n      <td>Private</td>\n      <td>9</td>\n      <td>Married-civ-spouse</td>\n      <td>Machine-op-inspct</td>\n      <td>Husband</td>\n      <td>White</td>\n      <td>Male</td>\n      <td>0</td>\n      <td>0</td>\n      <td>40</td>\n      <td>United-States</td>\n      <td>1</td>\n      <td>0.243977</td>\n    </tr>\n    <tr>\n      <th>48839</th>\n      <td>58</td>\n      <td>Private</td>\n      <td>9</td>\n      <td>Widowed</td>\n      <td>Adm-clerical</td>\n      <td>Unmarried</td>\n      <td>White</td>\n      <td>Female</td>\n      <td>0</td>\n      <td>0</td>\n      <td>40</td>\n      <td>United-States</td>\n      <td>0</td>\n      <td>0.243977</td>\n    </tr>\n    <tr>\n      <th>48840</th>\n      <td>22</td>\n      <td>Private</td>\n      <td>9</td>\n      <td>Never-married</td>\n      <td>Adm-clerical</td>\n      <td>Own-child</td>\n      <td>White</td>\n      <td>Male</td>\n      <td>0</td>\n      <td>0</td>\n      <td>20</td>\n      <td>United-States</td>\n      <td>0</td>\n      <td>0.243977</td>\n    </tr>\n    <tr>\n      <th>48841</th>\n      <td>52</td>\n      <td>Self-emp-inc</td>\n      <td>9</td>\n      <td>Married-civ-spouse</td>\n      <td>Exec-managerial</td>\n      <td>Wife</td>\n      <td>White</td>\n      <td>Female</td>\n      <td>15024</td>\n      <td>0</td>\n      <td>40</td>\n      <td>United-States</td>\n      <td>1</td>\n      <td>0.243977</td>\n    </tr>\n  </tbody>\n</table>\n<p>48842 rows × 14 columns</p>\n</div>"
     },
     "execution_count": 77,
     "metadata": {},
     "output_type": "execute_result"
    }
   ],
   "source": [
    "data = data.merge(country_group , on = 'native-country' , how= 'left')\n",
    "#data와 country_group을 native_country 기준으로 결합(left join)\n",
    "data"
   ],
   "metadata": {
    "collapsed": false,
    "pycharm": {
     "name": "#%%\n"
    }
   }
  },
  {
   "cell_type": "code",
   "execution_count": 78,
   "outputs": [
    {
     "data": {
      "text/plain": "       age     workclass  education-num      marital-status  \\\n0       25       Private              7       Never-married   \n1       38       Private              9  Married-civ-spouse   \n2       28     Local-gov             12  Married-civ-spouse   \n3       44       Private             10  Married-civ-spouse   \n4       18           NaN             10       Never-married   \n...    ...           ...            ...                 ...   \n48837   27       Private             12  Married-civ-spouse   \n48838   40       Private              9  Married-civ-spouse   \n48839   58       Private              9             Widowed   \n48840   22       Private              9       Never-married   \n48841   52  Self-emp-inc              9  Married-civ-spouse   \n\n              occupation relationship   race     sex  capital-gain  \\\n0      Machine-op-inspct    Own-child  Black    Male             0   \n1        Farming-fishing      Husband  White    Male             0   \n2        Protective-serv      Husband  White    Male             0   \n3      Machine-op-inspct      Husband  Black    Male          7688   \n4                    NaN    Own-child  White  Female             0   \n...                  ...          ...    ...     ...           ...   \n48837       Tech-support         Wife  White  Female             0   \n48838  Machine-op-inspct      Husband  White    Male             0   \n48839       Adm-clerical    Unmarried  White  Female             0   \n48840       Adm-clerical    Own-child  White    Male             0   \n48841    Exec-managerial         Wife  White  Female         15024   \n\n       capital-loss  hours-per-week  class  native-country  \n0                 0              40      0        0.243977  \n1                 0              50      0        0.243977  \n2                 0              40      1        0.243977  \n3                 0              40      1        0.243977  \n4                 0              30      0        0.243977  \n...             ...             ...    ...             ...  \n48837             0              38      0        0.243977  \n48838             0              40      1        0.243977  \n48839             0              40      0        0.243977  \n48840             0              20      0        0.243977  \n48841             0              40      1        0.243977  \n\n[48842 rows x 13 columns]",
      "text/html": "<div>\n<style scoped>\n    .dataframe tbody tr th:only-of-type {\n        vertical-align: middle;\n    }\n\n    .dataframe tbody tr th {\n        vertical-align: top;\n    }\n\n    .dataframe thead th {\n        text-align: right;\n    }\n</style>\n<table border=\"1\" class=\"dataframe\">\n  <thead>\n    <tr style=\"text-align: right;\">\n      <th></th>\n      <th>age</th>\n      <th>workclass</th>\n      <th>education-num</th>\n      <th>marital-status</th>\n      <th>occupation</th>\n      <th>relationship</th>\n      <th>race</th>\n      <th>sex</th>\n      <th>capital-gain</th>\n      <th>capital-loss</th>\n      <th>hours-per-week</th>\n      <th>class</th>\n      <th>native-country</th>\n    </tr>\n  </thead>\n  <tbody>\n    <tr>\n      <th>0</th>\n      <td>25</td>\n      <td>Private</td>\n      <td>7</td>\n      <td>Never-married</td>\n      <td>Machine-op-inspct</td>\n      <td>Own-child</td>\n      <td>Black</td>\n      <td>Male</td>\n      <td>0</td>\n      <td>0</td>\n      <td>40</td>\n      <td>0</td>\n      <td>0.243977</td>\n    </tr>\n    <tr>\n      <th>1</th>\n      <td>38</td>\n      <td>Private</td>\n      <td>9</td>\n      <td>Married-civ-spouse</td>\n      <td>Farming-fishing</td>\n      <td>Husband</td>\n      <td>White</td>\n      <td>Male</td>\n      <td>0</td>\n      <td>0</td>\n      <td>50</td>\n      <td>0</td>\n      <td>0.243977</td>\n    </tr>\n    <tr>\n      <th>2</th>\n      <td>28</td>\n      <td>Local-gov</td>\n      <td>12</td>\n      <td>Married-civ-spouse</td>\n      <td>Protective-serv</td>\n      <td>Husband</td>\n      <td>White</td>\n      <td>Male</td>\n      <td>0</td>\n      <td>0</td>\n      <td>40</td>\n      <td>1</td>\n      <td>0.243977</td>\n    </tr>\n    <tr>\n      <th>3</th>\n      <td>44</td>\n      <td>Private</td>\n      <td>10</td>\n      <td>Married-civ-spouse</td>\n      <td>Machine-op-inspct</td>\n      <td>Husband</td>\n      <td>Black</td>\n      <td>Male</td>\n      <td>7688</td>\n      <td>0</td>\n      <td>40</td>\n      <td>1</td>\n      <td>0.243977</td>\n    </tr>\n    <tr>\n      <th>4</th>\n      <td>18</td>\n      <td>NaN</td>\n      <td>10</td>\n      <td>Never-married</td>\n      <td>NaN</td>\n      <td>Own-child</td>\n      <td>White</td>\n      <td>Female</td>\n      <td>0</td>\n      <td>0</td>\n      <td>30</td>\n      <td>0</td>\n      <td>0.243977</td>\n    </tr>\n    <tr>\n      <th>...</th>\n      <td>...</td>\n      <td>...</td>\n      <td>...</td>\n      <td>...</td>\n      <td>...</td>\n      <td>...</td>\n      <td>...</td>\n      <td>...</td>\n      <td>...</td>\n      <td>...</td>\n      <td>...</td>\n      <td>...</td>\n      <td>...</td>\n    </tr>\n    <tr>\n      <th>48837</th>\n      <td>27</td>\n      <td>Private</td>\n      <td>12</td>\n      <td>Married-civ-spouse</td>\n      <td>Tech-support</td>\n      <td>Wife</td>\n      <td>White</td>\n      <td>Female</td>\n      <td>0</td>\n      <td>0</td>\n      <td>38</td>\n      <td>0</td>\n      <td>0.243977</td>\n    </tr>\n    <tr>\n      <th>48838</th>\n      <td>40</td>\n      <td>Private</td>\n      <td>9</td>\n      <td>Married-civ-spouse</td>\n      <td>Machine-op-inspct</td>\n      <td>Husband</td>\n      <td>White</td>\n      <td>Male</td>\n      <td>0</td>\n      <td>0</td>\n      <td>40</td>\n      <td>1</td>\n      <td>0.243977</td>\n    </tr>\n    <tr>\n      <th>48839</th>\n      <td>58</td>\n      <td>Private</td>\n      <td>9</td>\n      <td>Widowed</td>\n      <td>Adm-clerical</td>\n      <td>Unmarried</td>\n      <td>White</td>\n      <td>Female</td>\n      <td>0</td>\n      <td>0</td>\n      <td>40</td>\n      <td>0</td>\n      <td>0.243977</td>\n    </tr>\n    <tr>\n      <th>48840</th>\n      <td>22</td>\n      <td>Private</td>\n      <td>9</td>\n      <td>Never-married</td>\n      <td>Adm-clerical</td>\n      <td>Own-child</td>\n      <td>White</td>\n      <td>Male</td>\n      <td>0</td>\n      <td>0</td>\n      <td>20</td>\n      <td>0</td>\n      <td>0.243977</td>\n    </tr>\n    <tr>\n      <th>48841</th>\n      <td>52</td>\n      <td>Self-emp-inc</td>\n      <td>9</td>\n      <td>Married-civ-spouse</td>\n      <td>Exec-managerial</td>\n      <td>Wife</td>\n      <td>White</td>\n      <td>Female</td>\n      <td>15024</td>\n      <td>0</td>\n      <td>40</td>\n      <td>1</td>\n      <td>0.243977</td>\n    </tr>\n  </tbody>\n</table>\n<p>48842 rows × 13 columns</p>\n</div>"
     },
     "execution_count": 78,
     "metadata": {},
     "output_type": "execute_result"
    }
   ],
   "source": [
    "data.drop('native-country' , axis = 1 , inplace =True) #변수 제거\n",
    "data = data.rename(columns = {'class_x' : 'class' , 'class_y' : 'native-country'}) # 변수 이름 반환\n",
    "data"
   ],
   "metadata": {
    "collapsed": false,
    "pycharm": {
     "name": "#%%\n"
    }
   }
  },
  {
   "cell_type": "code",
   "execution_count": 79,
   "outputs": [
    {
     "data": {
      "text/plain": "age               0.000000\nworkclass         0.057307\neducation-num     0.000000\nmarital-status    0.000000\noccupation        0.057512\nrelationship      0.000000\nrace              0.000000\nsex               0.000000\ncapital-gain      0.000000\ncapital-loss      0.000000\nhours-per-week    0.000000\nclass             0.000000\nnative-country    0.017546\ndtype: float64"
     },
     "execution_count": 79,
     "metadata": {},
     "output_type": "execute_result"
    }
   ],
   "source": [
    "data.isna().mean() #결측치 비율 확인"
   ],
   "metadata": {
    "collapsed": false,
    "pycharm": {
     "name": "#%%\n"
    }
   }
  },
  {
   "cell_type": "code",
   "execution_count": 80,
   "outputs": [],
   "source": [
    "data['native-country'] = data['native-country'].fillna(-99) #native-country의 경우 각 국가별 class의 평균값으로 대체한 상황\n",
    "#트리 기반 모델에서는 결측치를 임의의 숫자로 채워도 괜찮다."
   ],
   "metadata": {
    "collapsed": false,
    "pycharm": {
     "name": "#%%\n"
    }
   }
  },
  {
   "cell_type": "code",
   "execution_count": 81,
   "outputs": [
    {
     "data": {
      "text/plain": "Private             33906\nSelf-emp-not-inc     3862\nLocal-gov            3136\nState-gov            1981\nSelf-emp-inc         1695\nFederal-gov          1432\nWithout-pay            21\nNever-worked           10\nName: workclass, dtype: int64"
     },
     "execution_count": 81,
     "metadata": {},
     "output_type": "execute_result"
    }
   ],
   "source": [
    "data['workclass'].value_counts()"
   ],
   "metadata": {
    "collapsed": false,
    "pycharm": {
     "name": "#%%\n"
    }
   }
  },
  {
   "cell_type": "code",
   "execution_count": 82,
   "outputs": [],
   "source": [
    "data['workclass'] = data['workclass'].fillna('Private')\n",
    "#결측치를 Private(특정 값이 대부분을 차지하는 경우라면 해당 값으로 결측치를 채워주는 방법으로 대체)"
   ],
   "metadata": {
    "collapsed": false,
    "pycharm": {
     "name": "#%%\n"
    }
   }
  },
  {
   "cell_type": "code",
   "execution_count": 83,
   "outputs": [
    {
     "data": {
      "text/plain": "Prof-specialty       6172\nCraft-repair         6112\nExec-managerial      6086\nAdm-clerical         5611\nSales                5504\nOther-service        4923\nMachine-op-inspct    3022\nTransport-moving     2355\nHandlers-cleaners    2072\nFarming-fishing      1490\nTech-support         1446\nProtective-serv       983\nPriv-house-serv       242\nArmed-Forces           15\nName: occupation, dtype: int64"
     },
     "execution_count": 83,
     "metadata": {},
     "output_type": "execute_result"
    }
   ],
   "source": [
    "data['occupation'].value_counts()"
   ],
   "metadata": {
    "collapsed": false,
    "pycharm": {
     "name": "#%%\n"
    }
   }
  },
  {
   "cell_type": "code",
   "execution_count": 84,
   "outputs": [],
   "source": [
    "data['occupation'] = data['occupation'].fillna('Unknown')\n",
    "# 어떤 특정값이 압도적으로 많다고 하기가 어렵다. 이런 경우에는 별도의 텍스트 'Unknown'으로 채운다."
   ],
   "metadata": {
    "collapsed": false,
    "pycharm": {
     "name": "#%%\n"
    }
   }
  },
  {
   "cell_type": "code",
   "execution_count": 85,
   "outputs": [
    {
     "data": {
      "text/plain": "       age  education-num  capital-gain  capital-loss  hours-per-week  class  \\\n0       25              7             0             0              40      0   \n1       38              9             0             0              50      0   \n2       28             12             0             0              40      1   \n3       44             10          7688             0              40      1   \n4       18             10             0             0              30      0   \n...    ...            ...           ...           ...             ...    ...   \n48837   27             12             0             0              38      0   \n48838   40              9             0             0              40      1   \n48839   58              9             0             0              40      0   \n48840   22              9             0             0              20      0   \n48841   52              9         15024             0              40      1   \n\n       native-country  workclass_Local-gov  workclass_Never-worked  \\\n0            0.243977                    0                       0   \n1            0.243977                    0                       0   \n2            0.243977                    1                       0   \n3            0.243977                    0                       0   \n4            0.243977                    0                       0   \n...               ...                  ...                     ...   \n48837        0.243977                    0                       0   \n48838        0.243977                    0                       0   \n48839        0.243977                    0                       0   \n48840        0.243977                    0                       0   \n48841        0.243977                    0                       0   \n\n       workclass_Private  ...  relationship_Not-in-family  \\\n0                      1  ...                           0   \n1                      1  ...                           0   \n2                      0  ...                           0   \n3                      1  ...                           0   \n4                      1  ...                           0   \n...                  ...  ...                         ...   \n48837                  1  ...                           0   \n48838                  1  ...                           0   \n48839                  1  ...                           0   \n48840                  1  ...                           0   \n48841                  0  ...                           0   \n\n       relationship_Other-relative  relationship_Own-child  \\\n0                                0                       1   \n1                                0                       0   \n2                                0                       0   \n3                                0                       0   \n4                                0                       1   \n...                            ...                     ...   \n48837                            0                       0   \n48838                            0                       0   \n48839                            0                       0   \n48840                            0                       1   \n48841                            0                       0   \n\n       relationship_Unmarried  relationship_Wife  race_Asian-Pac-Islander  \\\n0                           0                  0                        0   \n1                           0                  0                        0   \n2                           0                  0                        0   \n3                           0                  0                        0   \n4                           0                  0                        0   \n...                       ...                ...                      ...   \n48837                       0                  1                        0   \n48838                       0                  0                        0   \n48839                       1                  0                        0   \n48840                       0                  0                        0   \n48841                       0                  1                        0   \n\n       race_Black  race_Other  race_White  sex_Male  \n0               1           0           0         1  \n1               0           0           1         1  \n2               0           0           1         1  \n3               1           0           0         1  \n4               0           0           1         0  \n...           ...         ...         ...       ...  \n48837           0           0           1         0  \n48838           0           0           1         1  \n48839           0           0           1         0  \n48840           0           0           1         1  \n48841           0           0           1         0  \n\n[48842 rows x 44 columns]",
      "text/html": "<div>\n<style scoped>\n    .dataframe tbody tr th:only-of-type {\n        vertical-align: middle;\n    }\n\n    .dataframe tbody tr th {\n        vertical-align: top;\n    }\n\n    .dataframe thead th {\n        text-align: right;\n    }\n</style>\n<table border=\"1\" class=\"dataframe\">\n  <thead>\n    <tr style=\"text-align: right;\">\n      <th></th>\n      <th>age</th>\n      <th>education-num</th>\n      <th>capital-gain</th>\n      <th>capital-loss</th>\n      <th>hours-per-week</th>\n      <th>class</th>\n      <th>native-country</th>\n      <th>workclass_Local-gov</th>\n      <th>workclass_Never-worked</th>\n      <th>workclass_Private</th>\n      <th>...</th>\n      <th>relationship_Not-in-family</th>\n      <th>relationship_Other-relative</th>\n      <th>relationship_Own-child</th>\n      <th>relationship_Unmarried</th>\n      <th>relationship_Wife</th>\n      <th>race_Asian-Pac-Islander</th>\n      <th>race_Black</th>\n      <th>race_Other</th>\n      <th>race_White</th>\n      <th>sex_Male</th>\n    </tr>\n  </thead>\n  <tbody>\n    <tr>\n      <th>0</th>\n      <td>25</td>\n      <td>7</td>\n      <td>0</td>\n      <td>0</td>\n      <td>40</td>\n      <td>0</td>\n      <td>0.243977</td>\n      <td>0</td>\n      <td>0</td>\n      <td>1</td>\n      <td>...</td>\n      <td>0</td>\n      <td>0</td>\n      <td>1</td>\n      <td>0</td>\n      <td>0</td>\n      <td>0</td>\n      <td>1</td>\n      <td>0</td>\n      <td>0</td>\n      <td>1</td>\n    </tr>\n    <tr>\n      <th>1</th>\n      <td>38</td>\n      <td>9</td>\n      <td>0</td>\n      <td>0</td>\n      <td>50</td>\n      <td>0</td>\n      <td>0.243977</td>\n      <td>0</td>\n      <td>0</td>\n      <td>1</td>\n      <td>...</td>\n      <td>0</td>\n      <td>0</td>\n      <td>0</td>\n      <td>0</td>\n      <td>0</td>\n      <td>0</td>\n      <td>0</td>\n      <td>0</td>\n      <td>1</td>\n      <td>1</td>\n    </tr>\n    <tr>\n      <th>2</th>\n      <td>28</td>\n      <td>12</td>\n      <td>0</td>\n      <td>0</td>\n      <td>40</td>\n      <td>1</td>\n      <td>0.243977</td>\n      <td>1</td>\n      <td>0</td>\n      <td>0</td>\n      <td>...</td>\n      <td>0</td>\n      <td>0</td>\n      <td>0</td>\n      <td>0</td>\n      <td>0</td>\n      <td>0</td>\n      <td>0</td>\n      <td>0</td>\n      <td>1</td>\n      <td>1</td>\n    </tr>\n    <tr>\n      <th>3</th>\n      <td>44</td>\n      <td>10</td>\n      <td>7688</td>\n      <td>0</td>\n      <td>40</td>\n      <td>1</td>\n      <td>0.243977</td>\n      <td>0</td>\n      <td>0</td>\n      <td>1</td>\n      <td>...</td>\n      <td>0</td>\n      <td>0</td>\n      <td>0</td>\n      <td>0</td>\n      <td>0</td>\n      <td>0</td>\n      <td>1</td>\n      <td>0</td>\n      <td>0</td>\n      <td>1</td>\n    </tr>\n    <tr>\n      <th>4</th>\n      <td>18</td>\n      <td>10</td>\n      <td>0</td>\n      <td>0</td>\n      <td>30</td>\n      <td>0</td>\n      <td>0.243977</td>\n      <td>0</td>\n      <td>0</td>\n      <td>1</td>\n      <td>...</td>\n      <td>0</td>\n      <td>0</td>\n      <td>1</td>\n      <td>0</td>\n      <td>0</td>\n      <td>0</td>\n      <td>0</td>\n      <td>0</td>\n      <td>1</td>\n      <td>0</td>\n    </tr>\n    <tr>\n      <th>...</th>\n      <td>...</td>\n      <td>...</td>\n      <td>...</td>\n      <td>...</td>\n      <td>...</td>\n      <td>...</td>\n      <td>...</td>\n      <td>...</td>\n      <td>...</td>\n      <td>...</td>\n      <td>...</td>\n      <td>...</td>\n      <td>...</td>\n      <td>...</td>\n      <td>...</td>\n      <td>...</td>\n      <td>...</td>\n      <td>...</td>\n      <td>...</td>\n      <td>...</td>\n      <td>...</td>\n    </tr>\n    <tr>\n      <th>48837</th>\n      <td>27</td>\n      <td>12</td>\n      <td>0</td>\n      <td>0</td>\n      <td>38</td>\n      <td>0</td>\n      <td>0.243977</td>\n      <td>0</td>\n      <td>0</td>\n      <td>1</td>\n      <td>...</td>\n      <td>0</td>\n      <td>0</td>\n      <td>0</td>\n      <td>0</td>\n      <td>1</td>\n      <td>0</td>\n      <td>0</td>\n      <td>0</td>\n      <td>1</td>\n      <td>0</td>\n    </tr>\n    <tr>\n      <th>48838</th>\n      <td>40</td>\n      <td>9</td>\n      <td>0</td>\n      <td>0</td>\n      <td>40</td>\n      <td>1</td>\n      <td>0.243977</td>\n      <td>0</td>\n      <td>0</td>\n      <td>1</td>\n      <td>...</td>\n      <td>0</td>\n      <td>0</td>\n      <td>0</td>\n      <td>0</td>\n      <td>0</td>\n      <td>0</td>\n      <td>0</td>\n      <td>0</td>\n      <td>1</td>\n      <td>1</td>\n    </tr>\n    <tr>\n      <th>48839</th>\n      <td>58</td>\n      <td>9</td>\n      <td>0</td>\n      <td>0</td>\n      <td>40</td>\n      <td>0</td>\n      <td>0.243977</td>\n      <td>0</td>\n      <td>0</td>\n      <td>1</td>\n      <td>...</td>\n      <td>0</td>\n      <td>0</td>\n      <td>0</td>\n      <td>1</td>\n      <td>0</td>\n      <td>0</td>\n      <td>0</td>\n      <td>0</td>\n      <td>1</td>\n      <td>0</td>\n    </tr>\n    <tr>\n      <th>48840</th>\n      <td>22</td>\n      <td>9</td>\n      <td>0</td>\n      <td>0</td>\n      <td>20</td>\n      <td>0</td>\n      <td>0.243977</td>\n      <td>0</td>\n      <td>0</td>\n      <td>1</td>\n      <td>...</td>\n      <td>0</td>\n      <td>0</td>\n      <td>1</td>\n      <td>0</td>\n      <td>0</td>\n      <td>0</td>\n      <td>0</td>\n      <td>0</td>\n      <td>1</td>\n      <td>1</td>\n    </tr>\n    <tr>\n      <th>48841</th>\n      <td>52</td>\n      <td>9</td>\n      <td>15024</td>\n      <td>0</td>\n      <td>40</td>\n      <td>1</td>\n      <td>0.243977</td>\n      <td>0</td>\n      <td>0</td>\n      <td>0</td>\n      <td>...</td>\n      <td>0</td>\n      <td>0</td>\n      <td>0</td>\n      <td>0</td>\n      <td>1</td>\n      <td>0</td>\n      <td>0</td>\n      <td>0</td>\n      <td>1</td>\n      <td>0</td>\n    </tr>\n  </tbody>\n</table>\n<p>48842 rows × 44 columns</p>\n</div>"
     },
     "execution_count": 85,
     "metadata": {},
     "output_type": "execute_result"
    }
   ],
   "source": [
    "data = pd.get_dummies(data , drop_first=True) #더미 변수로 변환\n",
    "data"
   ],
   "metadata": {
    "collapsed": false,
    "pycharm": {
     "name": "#%%\n"
    }
   }
  },
  {
   "cell_type": "code",
   "execution_count": 103,
   "outputs": [
    {
     "data": {
      "text/plain": "0        0\n1        1\n2        1\n3        1\n4        0\n        ..\n48837    1\n48838    1\n48839    0\n48840    0\n48841    1\nName: marital-status_Married-civ-spouse, Length: 48842, dtype: uint8"
     },
     "execution_count": 103,
     "metadata": {},
     "output_type": "execute_result"
    }
   ],
   "source": [
    "data['marital-status_Married-civ-spouse']"
   ],
   "metadata": {
    "collapsed": false,
    "pycharm": {
     "name": "#%%\n"
    }
   }
  },
  {
   "cell_type": "code",
   "execution_count": 86,
   "outputs": [],
   "source": [
    "from sklearn.model_selection import train_test_split\n",
    "\n",
    "X_train , X_test , y_train , y_test = train_test_split(data.drop('class',axis =1 )  , data['class'] , test_size= 0.4 , random_state= 100)"
   ],
   "metadata": {
    "collapsed": false,
    "pycharm": {
     "name": "#%%\n"
    }
   }
  },
  {
   "cell_type": "code",
   "execution_count": 89,
   "outputs": [
    {
     "data": {
      "text/plain": "0.8160413574243742"
     },
     "execution_count": 89,
     "metadata": {},
     "output_type": "execute_result"
    }
   ],
   "source": [
    "from sklearn.tree import DecisionTreeClassifier\n",
    "\n",
    "model = DecisionTreeClassifier() # 모델 객체 생성\n",
    "model.fit(X_train , y_train) # 학습\n",
    "pred = model.predict(X_test) # 예측\n",
    "\n",
    "from sklearn.metrics import accuracy_score\n",
    "\n",
    "accuracy_score(y_test , pred) # 정확도 계산\n",
    "\n"
   ],
   "metadata": {
    "collapsed": false,
    "pycharm": {
     "name": "#%%\n"
    }
   }
  },
  {
   "cell_type": "code",
   "execution_count": 91,
   "outputs": [
    {
     "data": {
      "text/plain": "0.8112781244591328"
     },
     "execution_count": 91,
     "metadata": {},
     "output_type": "execute_result"
    }
   ],
   "source": [
    "- (0.25*np.log2(0.25)  + 0.75*np.log2(0.75))"
   ],
   "metadata": {
    "collapsed": false,
    "pycharm": {
     "name": "#%%\n"
    }
   }
  },
  {
   "cell_type": "code",
   "execution_count": null,
   "outputs": [],
   "source": [
    "model = DecisionTreeClassifier()\n",
    "model.fit(X_train , y_train)\n",
    "train_pred = model.predict(X_train) #훈련셋 예측\n",
    "test_pred = model.predict(X_test) #시험셋 예측\n",
    "print('Train score : ' , accuracy_score(y_train , train_pred) , 'Test score : ' , accuracy_score(y_test , test_pred)) # 훈련셋 , 시험셋의 정확도 평가"
   ],
   "metadata": {
    "collapsed": false,
    "pycharm": {
     "name": "#%%\n"
    }
   }
  },
  {
   "cell_type": "code",
   "execution_count": null,
   "outputs": [],
   "source": [
    "model = DecisionTreeClassifier(max_depth= 7) #모델 객체 생성\n",
    "model.fit(X_train , y_train) #학습\n",
    "train_pred = model.predict(X_train) #훈련 셋 예측\n",
    "test_pred = model.predict(X_test) # 시험 셋 예측\n",
    "print('Train score : ' , accuracy_score(y_train , train_pred) , 'Test score : ' , accuracy_score(y_test , test_pred)) # 훈련셋 , 시험셋의 정확도 평가"
   ],
   "metadata": {
    "collapsed": false,
    "pycharm": {
     "name": "#%%\n"
    }
   }
  },
  {
   "cell_type": "code",
   "execution_count": null,
   "outputs": [],
   "source": [
    "from sklearn.tree import plot_tree\n",
    "\n",
    "fig = plt.figure(figsize =  (30,15)) # 그래프 크기 설정\n",
    "\n",
    "ax = plot_tree(model , max_depth= 3 , fontsize = 15) # 트리 그래프 출력\n",
    "\n",
    "plt.show()"
   ],
   "metadata": {
    "collapsed": false,
    "pycharm": {
     "name": "#%%\n"
    }
   }
  },
  {
   "cell_type": "code",
   "execution_count": null,
   "outputs": [],
   "source": [],
   "metadata": {
    "collapsed": false,
    "pycharm": {
     "name": "#%%\n"
    }
   }
  }
 ],
 "metadata": {
  "kernelspec": {
   "display_name": "Python 3",
   "language": "python",
   "name": "python3"
  },
  "language_info": {
   "codemirror_mode": {
    "name": "ipython",
    "version": 2
   },
   "file_extension": ".py",
   "mimetype": "text/x-python",
   "name": "python",
   "nbconvert_exporter": "python",
   "pygments_lexer": "ipython2",
   "version": "2.7.6"
  }
 },
 "nbformat": 4,
 "nbformat_minor": 0
}