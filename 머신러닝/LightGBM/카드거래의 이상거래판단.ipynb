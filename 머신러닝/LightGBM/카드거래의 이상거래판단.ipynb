{
 "cells": [
  {
   "cell_type": "code",
   "execution_count": 1,
   "metadata": {
    "collapsed": true,
    "pycharm": {
     "name": "#%%\n"
    }
   },
   "outputs": [],
   "source": [
    "import itertools\n",
    "import platform\n",
    "import matplotlib\n",
    "import pandas as pd\n",
    "import matplotlib.pyplot as plt\n",
    "from matplotlib import font_manager, rc\n",
    "import seaborn as sns\n",
    "%precision 3\n",
    "from matplotlib import pyplot as plt\n",
    "%matplotlib inline\n",
    "#그래프를 주피터 놋북에 그리기 위해\n",
    "import numpy as np\n",
    "import copy\n",
    "from matplotlib import ticker\n",
    "from scipy.stats import probplot\n",
    "from scipy import stats\n",
    "import collections\n",
    "import itertools\n",
    "import math\n",
    "#from varname import nameof\n",
    "import sys\n",
    "from scipy import stats\n",
    "from scipy.stats import bernoulli\n",
    "import scipy\n",
    "from collections import deque\n",
    "from sympy import Symbol, solve\n",
    "import matplotlib.patches as patches\n",
    "\n",
    "\n",
    "##################머신러닝 모듈 ################\n",
    "\n",
    "from sklearn.model_selection import train_test_split #사이킷런 import\n",
    "from sklearn.linear_model import LinearRegression\n",
    "\n",
    "#히스토그램 그리기\n",
    "# Window\n",
    "if platform.system() == 'Windows':\n",
    "    matplotlib.rc('font', family='Malgun Gothic')\n",
    "elif platform.system() == 'Darwin': # Mac\n",
    "    matplotlib.rc('font', family='AppleGothic')\n",
    "else: #linux\n",
    "    matplotlib.rc('font', family='NanumGothic')\n",
    "\n",
    "# 그래프에 마이너스 표시가 되도록 변경\n",
    "matplotlib.rcParams['axes.unicode_minus'] = False\n",
    "\n",
    "# 한글 폰트 설정\n",
    "font_location = 'C:/Windows/Fonts/MALGUNSL.TTF' #맑은고딕\n",
    "font_name = font_manager.FontProperties(fname=font_location).get_name()\n",
    "rc('font',family=font_name)\n"
   ]
  },
  {
   "cell_type": "code",
   "execution_count": 2,
   "outputs": [
    {
     "data": {
      "text/plain": "  trans_date_trans_time            cc_num                            merchant  \\\n0   2019-01-01 00:00:18  2703186189652095          fraud_Rippin, Kub and Mann   \n1   2019-01-01 00:00:44      630423337322     fraud_Heller, Gutmann and Zieme   \n2   2019-01-01 00:00:51    38859492057661                fraud_Lind-Buckridge   \n3   2019-01-01 00:01:16  3534093764340240  fraud_Kutch, Hermiston and Farrell   \n4   2019-01-01 00:03:06   375534208663984                 fraud_Keeling-Crist   \n\n        category     amt      first     last gender  \\\n0       misc_net    4.97   Jennifer    Banks      F   \n1    grocery_pos  107.23  Stephanie     Gill      F   \n2  entertainment  220.11     Edward  Sanchez      M   \n3  gas_transport   45.00     Jeremy    White      M   \n4       misc_pos   41.96      Tyler   Garcia      M   \n\n                         street            city  ...      lat      long  \\\n0                561 Perry Cove  Moravian Falls  ...  36.0788  -81.1781   \n1  43039 Riley Greens Suite 393          Orient  ...  48.8878 -118.2105   \n2      594 White Dale Suite 530      Malad City  ...  42.1808 -112.2620   \n3   9443 Cynthia Court Apt. 038         Boulder  ...  46.2306 -112.1138   \n4              408 Bradley Rest        Doe Hill  ...  38.4207  -79.4629   \n\n   city_pop                                job         dob  \\\n0      3495          Psychologist, counselling  1988-03-09   \n1       149  Special educational needs teacher  1978-06-21   \n2      4154        Nature conservation officer  1962-01-19   \n3      1939                    Patent attorney  1967-01-12   \n4        99     Dance movement psychotherapist  1986-03-28   \n\n                          trans_num   unix_time  merch_lat  merch_long  \\\n0  0b242abb623afc578575680df30655b9  1325376018  36.011293  -82.048315   \n1  1f76529f8574734946361c461b024d99  1325376044  49.159047 -118.186462   \n2  a1a22d70485983eac12b5b88dad1cf95  1325376051  43.150704 -112.154481   \n3  6b849c168bdad6f867558c3793159a81  1325376076  47.034331 -112.561071   \n4  a41d7549acf90789359a9aa5346dcb46  1325376186  38.674999  -78.632459   \n\n   is_fraud  \n0         0  \n1         0  \n2         0  \n3         0  \n4         0  \n\n[5 rows x 22 columns]",
      "text/html": "<div>\n<style scoped>\n    .dataframe tbody tr th:only-of-type {\n        vertical-align: middle;\n    }\n\n    .dataframe tbody tr th {\n        vertical-align: top;\n    }\n\n    .dataframe thead th {\n        text-align: right;\n    }\n</style>\n<table border=\"1\" class=\"dataframe\">\n  <thead>\n    <tr style=\"text-align: right;\">\n      <th></th>\n      <th>trans_date_trans_time</th>\n      <th>cc_num</th>\n      <th>merchant</th>\n      <th>category</th>\n      <th>amt</th>\n      <th>first</th>\n      <th>last</th>\n      <th>gender</th>\n      <th>street</th>\n      <th>city</th>\n      <th>...</th>\n      <th>lat</th>\n      <th>long</th>\n      <th>city_pop</th>\n      <th>job</th>\n      <th>dob</th>\n      <th>trans_num</th>\n      <th>unix_time</th>\n      <th>merch_lat</th>\n      <th>merch_long</th>\n      <th>is_fraud</th>\n    </tr>\n  </thead>\n  <tbody>\n    <tr>\n      <th>0</th>\n      <td>2019-01-01 00:00:18</td>\n      <td>2703186189652095</td>\n      <td>fraud_Rippin, Kub and Mann</td>\n      <td>misc_net</td>\n      <td>4.97</td>\n      <td>Jennifer</td>\n      <td>Banks</td>\n      <td>F</td>\n      <td>561 Perry Cove</td>\n      <td>Moravian Falls</td>\n      <td>...</td>\n      <td>36.0788</td>\n      <td>-81.1781</td>\n      <td>3495</td>\n      <td>Psychologist, counselling</td>\n      <td>1988-03-09</td>\n      <td>0b242abb623afc578575680df30655b9</td>\n      <td>1325376018</td>\n      <td>36.011293</td>\n      <td>-82.048315</td>\n      <td>0</td>\n    </tr>\n    <tr>\n      <th>1</th>\n      <td>2019-01-01 00:00:44</td>\n      <td>630423337322</td>\n      <td>fraud_Heller, Gutmann and Zieme</td>\n      <td>grocery_pos</td>\n      <td>107.23</td>\n      <td>Stephanie</td>\n      <td>Gill</td>\n      <td>F</td>\n      <td>43039 Riley Greens Suite 393</td>\n      <td>Orient</td>\n      <td>...</td>\n      <td>48.8878</td>\n      <td>-118.2105</td>\n      <td>149</td>\n      <td>Special educational needs teacher</td>\n      <td>1978-06-21</td>\n      <td>1f76529f8574734946361c461b024d99</td>\n      <td>1325376044</td>\n      <td>49.159047</td>\n      <td>-118.186462</td>\n      <td>0</td>\n    </tr>\n    <tr>\n      <th>2</th>\n      <td>2019-01-01 00:00:51</td>\n      <td>38859492057661</td>\n      <td>fraud_Lind-Buckridge</td>\n      <td>entertainment</td>\n      <td>220.11</td>\n      <td>Edward</td>\n      <td>Sanchez</td>\n      <td>M</td>\n      <td>594 White Dale Suite 530</td>\n      <td>Malad City</td>\n      <td>...</td>\n      <td>42.1808</td>\n      <td>-112.2620</td>\n      <td>4154</td>\n      <td>Nature conservation officer</td>\n      <td>1962-01-19</td>\n      <td>a1a22d70485983eac12b5b88dad1cf95</td>\n      <td>1325376051</td>\n      <td>43.150704</td>\n      <td>-112.154481</td>\n      <td>0</td>\n    </tr>\n    <tr>\n      <th>3</th>\n      <td>2019-01-01 00:01:16</td>\n      <td>3534093764340240</td>\n      <td>fraud_Kutch, Hermiston and Farrell</td>\n      <td>gas_transport</td>\n      <td>45.00</td>\n      <td>Jeremy</td>\n      <td>White</td>\n      <td>M</td>\n      <td>9443 Cynthia Court Apt. 038</td>\n      <td>Boulder</td>\n      <td>...</td>\n      <td>46.2306</td>\n      <td>-112.1138</td>\n      <td>1939</td>\n      <td>Patent attorney</td>\n      <td>1967-01-12</td>\n      <td>6b849c168bdad6f867558c3793159a81</td>\n      <td>1325376076</td>\n      <td>47.034331</td>\n      <td>-112.561071</td>\n      <td>0</td>\n    </tr>\n    <tr>\n      <th>4</th>\n      <td>2019-01-01 00:03:06</td>\n      <td>375534208663984</td>\n      <td>fraud_Keeling-Crist</td>\n      <td>misc_pos</td>\n      <td>41.96</td>\n      <td>Tyler</td>\n      <td>Garcia</td>\n      <td>M</td>\n      <td>408 Bradley Rest</td>\n      <td>Doe Hill</td>\n      <td>...</td>\n      <td>38.4207</td>\n      <td>-79.4629</td>\n      <td>99</td>\n      <td>Dance movement psychotherapist</td>\n      <td>1986-03-28</td>\n      <td>a41d7549acf90789359a9aa5346dcb46</td>\n      <td>1325376186</td>\n      <td>38.674999</td>\n      <td>-78.632459</td>\n      <td>0</td>\n    </tr>\n  </tbody>\n</table>\n<p>5 rows × 22 columns</p>\n</div>"
     },
     "execution_count": 2,
     "metadata": {},
     "output_type": "execute_result"
    }
   ],
   "source": [
    "#와인 등급 예측하기\n",
    "\n",
    "file_url = \"https://media.githubusercontent.com/media/musthave-ML10/data_source/main/fraud.csv\"\n",
    "\n",
    "data = pd.read_csv(file_url)\n",
    "\n",
    "data.head()"
   ],
   "metadata": {
    "collapsed": false,
    "pycharm": {
     "name": "#%%\n"
    }
   }
  },
  {
   "cell_type": "code",
   "execution_count": 3,
   "outputs": [
    {
     "name": "stdout",
     "output_type": "stream",
     "text": [
      "<class 'pandas.core.frame.DataFrame'>\n",
      "RangeIndex: 1852394 entries, 0 to 1852393\n",
      "Data columns (total 22 columns):\n",
      " #   Column                 Dtype  \n",
      "---  ------                 -----  \n",
      " 0   trans_date_trans_time  object \n",
      " 1   cc_num                 int64  \n",
      " 2   merchant               object \n",
      " 3   category               object \n",
      " 4   amt                    float64\n",
      " 5   first                  object \n",
      " 6   last                   object \n",
      " 7   gender                 object \n",
      " 8   street                 object \n",
      " 9   city                   object \n",
      " 10  state                  object \n",
      " 11  zip                    int64  \n",
      " 12  lat                    float64\n",
      " 13  long                   float64\n",
      " 14  city_pop               int64  \n",
      " 15  job                    object \n",
      " 16  dob                    object \n",
      " 17  trans_num              object \n",
      " 18  unix_time              int64  \n",
      " 19  merch_lat              float64\n",
      " 20  merch_long             float64\n",
      " 21  is_fraud               int64  \n",
      "dtypes: float64(5), int64(5), object(12)\n",
      "memory usage: 310.9+ MB\n"
     ]
    }
   ],
   "source": [
    "data.info()"
   ],
   "metadata": {
    "collapsed": false,
    "pycharm": {
     "name": "#%%\n"
    }
   }
  },
  {
   "cell_type": "code",
   "execution_count": 4,
   "outputs": [
    {
     "name": "stdout",
     "output_type": "stream",
     "text": [
      "<class 'pandas.core.frame.DataFrame'>\n",
      "RangeIndex: 1852394 entries, 0 to 1852393\n",
      "Data columns (total 22 columns):\n",
      " #   Column                 Non-Null Count    Dtype  \n",
      "---  ------                 --------------    -----  \n",
      " 0   trans_date_trans_time  1852394 non-null  object \n",
      " 1   cc_num                 1852394 non-null  int64  \n",
      " 2   merchant               1852394 non-null  object \n",
      " 3   category               1852394 non-null  object \n",
      " 4   amt                    1852394 non-null  float64\n",
      " 5   first                  1852394 non-null  object \n",
      " 6   last                   1852394 non-null  object \n",
      " 7   gender                 1852394 non-null  object \n",
      " 8   street                 1852394 non-null  object \n",
      " 9   city                   1852394 non-null  object \n",
      " 10  state                  1852394 non-null  object \n",
      " 11  zip                    1852394 non-null  int64  \n",
      " 12  lat                    1852394 non-null  float64\n",
      " 13  long                   1852394 non-null  float64\n",
      " 14  city_pop               1852394 non-null  int64  \n",
      " 15  job                    1852394 non-null  object \n",
      " 16  dob                    1852394 non-null  object \n",
      " 17  trans_num              1852394 non-null  object \n",
      " 18  unix_time              1852394 non-null  int64  \n",
      " 19  merch_lat              1852394 non-null  float64\n",
      " 20  merch_long             1852394 non-null  float64\n",
      " 21  is_fraud               1852394 non-null  int64  \n",
      "dtypes: float64(5), int64(5), object(12)\n",
      "memory usage: 310.9+ MB\n"
     ]
    }
   ],
   "source": [
    "data.info(show_counts = True) # Non-Null Count 보이도록 출력 ==> 결측치 있는지 판단"
   ],
   "metadata": {
    "collapsed": false,
    "pycharm": {
     "name": "#%%\n"
    }
   }
  },
  {
   "cell_type": "code",
   "execution_count": 5,
   "outputs": [
    {
     "data": {
      "text/plain": "             cc_num         amt         zip         lat        long  \\\ncount  1.852394e+06  1852394.00  1852394.00  1852394.00  1852394.00   \nmean   4.173860e+17       70.06    48813.26       38.54      -90.23   \nstd    1.309115e+18      159.25    26881.85        5.07       13.75   \nmin    6.041621e+10        1.00     1257.00       20.03     -165.67   \n25%    1.800429e+14        9.64    26237.00       34.67      -96.80   \n50%    3.521417e+15       47.45    48174.00       39.35      -87.48   \n75%    4.642255e+15       83.10    72042.00       41.94      -80.16   \nmax    4.992346e+18    28948.90    99921.00       66.69      -67.95   \n\n         city_pop     unix_time   merch_lat  merch_long    is_fraud  \ncount  1852394.00  1.852394e+06  1852394.00  1852394.00  1852394.00  \nmean     88643.67  1.358674e+09       38.54      -90.23        0.01  \nstd     301487.62  1.819508e+07        5.11       13.76        0.07  \nmin         23.00  1.325376e+09       19.03     -166.67        0.00  \n25%        741.00  1.343017e+09       34.74      -96.90        0.00  \n50%       2443.00  1.357089e+09       39.37      -87.44        0.00  \n75%      20328.00  1.374581e+09       41.96      -80.25        0.00  \nmax    2906700.00  1.388534e+09       67.51      -66.95        1.00  ",
      "text/html": "<div>\n<style scoped>\n    .dataframe tbody tr th:only-of-type {\n        vertical-align: middle;\n    }\n\n    .dataframe tbody tr th {\n        vertical-align: top;\n    }\n\n    .dataframe thead th {\n        text-align: right;\n    }\n</style>\n<table border=\"1\" class=\"dataframe\">\n  <thead>\n    <tr style=\"text-align: right;\">\n      <th></th>\n      <th>cc_num</th>\n      <th>amt</th>\n      <th>zip</th>\n      <th>lat</th>\n      <th>long</th>\n      <th>city_pop</th>\n      <th>unix_time</th>\n      <th>merch_lat</th>\n      <th>merch_long</th>\n      <th>is_fraud</th>\n    </tr>\n  </thead>\n  <tbody>\n    <tr>\n      <th>count</th>\n      <td>1.852394e+06</td>\n      <td>1852394.00</td>\n      <td>1852394.00</td>\n      <td>1852394.00</td>\n      <td>1852394.00</td>\n      <td>1852394.00</td>\n      <td>1.852394e+06</td>\n      <td>1852394.00</td>\n      <td>1852394.00</td>\n      <td>1852394.00</td>\n    </tr>\n    <tr>\n      <th>mean</th>\n      <td>4.173860e+17</td>\n      <td>70.06</td>\n      <td>48813.26</td>\n      <td>38.54</td>\n      <td>-90.23</td>\n      <td>88643.67</td>\n      <td>1.358674e+09</td>\n      <td>38.54</td>\n      <td>-90.23</td>\n      <td>0.01</td>\n    </tr>\n    <tr>\n      <th>std</th>\n      <td>1.309115e+18</td>\n      <td>159.25</td>\n      <td>26881.85</td>\n      <td>5.07</td>\n      <td>13.75</td>\n      <td>301487.62</td>\n      <td>1.819508e+07</td>\n      <td>5.11</td>\n      <td>13.76</td>\n      <td>0.07</td>\n    </tr>\n    <tr>\n      <th>min</th>\n      <td>6.041621e+10</td>\n      <td>1.00</td>\n      <td>1257.00</td>\n      <td>20.03</td>\n      <td>-165.67</td>\n      <td>23.00</td>\n      <td>1.325376e+09</td>\n      <td>19.03</td>\n      <td>-166.67</td>\n      <td>0.00</td>\n    </tr>\n    <tr>\n      <th>25%</th>\n      <td>1.800429e+14</td>\n      <td>9.64</td>\n      <td>26237.00</td>\n      <td>34.67</td>\n      <td>-96.80</td>\n      <td>741.00</td>\n      <td>1.343017e+09</td>\n      <td>34.74</td>\n      <td>-96.90</td>\n      <td>0.00</td>\n    </tr>\n    <tr>\n      <th>50%</th>\n      <td>3.521417e+15</td>\n      <td>47.45</td>\n      <td>48174.00</td>\n      <td>39.35</td>\n      <td>-87.48</td>\n      <td>2443.00</td>\n      <td>1.357089e+09</td>\n      <td>39.37</td>\n      <td>-87.44</td>\n      <td>0.00</td>\n    </tr>\n    <tr>\n      <th>75%</th>\n      <td>4.642255e+15</td>\n      <td>83.10</td>\n      <td>72042.00</td>\n      <td>41.94</td>\n      <td>-80.16</td>\n      <td>20328.00</td>\n      <td>1.374581e+09</td>\n      <td>41.96</td>\n      <td>-80.25</td>\n      <td>0.00</td>\n    </tr>\n    <tr>\n      <th>max</th>\n      <td>4.992346e+18</td>\n      <td>28948.90</td>\n      <td>99921.00</td>\n      <td>66.69</td>\n      <td>-67.95</td>\n      <td>2906700.00</td>\n      <td>1.388534e+09</td>\n      <td>67.51</td>\n      <td>-66.95</td>\n      <td>1.00</td>\n    </tr>\n  </tbody>\n</table>\n</div>"
     },
     "execution_count": 5,
     "metadata": {},
     "output_type": "execute_result"
    }
   ],
   "source": [
    "round(data.describe(), 2)"
   ],
   "metadata": {
    "collapsed": false,
    "pycharm": {
     "name": "#%%\n"
    }
   }
  },
  {
   "cell_type": "code",
   "execution_count": 6,
   "outputs": [],
   "source": [
    "data.drop(['first' , 'last' , 'street', 'city' , 'state' , 'zip' , 'trans_num' , 'unix_time' , 'job' , 'merchant'] , axis = 1 , inplace =True)"
   ],
   "metadata": {
    "collapsed": false,
    "pycharm": {
     "name": "#%%\n"
    }
   }
  },
  {
   "cell_type": "code",
   "execution_count": 7,
   "outputs": [
    {
     "data": {
      "text/plain": "0          2019-01-01 00:00:18\n1          2019-01-01 00:00:44\n2          2019-01-01 00:00:51\n3          2019-01-01 00:01:16\n4          2019-01-01 00:03:06\n                  ...         \n1852389    2020-12-31 23:59:07\n1852390    2020-12-31 23:59:09\n1852391    2020-12-31 23:59:15\n1852392    2020-12-31 23:59:24\n1852393    2020-12-31 23:59:34\nName: trans_date_trans_time, Length: 1852394, dtype: object"
     },
     "execution_count": 7,
     "metadata": {},
     "output_type": "execute_result"
    }
   ],
   "source": [
    "data['trans_date_trans_time']"
   ],
   "metadata": {
    "collapsed": false,
    "pycharm": {
     "name": "#%%\n"
    }
   }
  },
  {
   "cell_type": "code",
   "execution_count": 8,
   "outputs": [
    {
     "data": {
      "text/plain": "0         2019-01-01 00:00:18\n1         2019-01-01 00:00:44\n2         2019-01-01 00:00:51\n3         2019-01-01 00:01:16\n4         2019-01-01 00:03:06\n                  ...        \n1852389   2020-12-31 23:59:07\n1852390   2020-12-31 23:59:09\n1852391   2020-12-31 23:59:15\n1852392   2020-12-31 23:59:24\n1852393   2020-12-31 23:59:34\nName: trans_date_trans_time, Length: 1852394, dtype: datetime64[ns]"
     },
     "execution_count": 8,
     "metadata": {},
     "output_type": "execute_result"
    }
   ],
   "source": [
    "data['trans_date_trans_time'] = pd.to_datetime(data['trans_date_trans_time']) # 날짜 형식으로 변환\n",
    "\n",
    "data['trans_date_trans_time']"
   ],
   "metadata": {
    "collapsed": false,
    "pycharm": {
     "name": "#%%\n"
    }
   }
  },
  {
   "cell_type": "code",
   "execution_count": 9,
   "outputs": [
    {
     "data": {
      "text/plain": "        trans_date_trans_time            cc_num        category     amt  \\\n0         2019-01-01 00:00:18  2703186189652095        misc_net    4.97   \n1         2019-01-01 00:00:44      630423337322     grocery_pos  107.23   \n2         2019-01-01 00:00:51    38859492057661   entertainment  220.11   \n3         2019-01-01 00:01:16  3534093764340240   gas_transport   45.00   \n4         2019-01-01 00:03:06   375534208663984        misc_pos   41.96   \n...                       ...               ...             ...     ...   \n1852389   2020-12-31 23:59:07    30560609640617  health_fitness   43.77   \n1852390   2020-12-31 23:59:09  3556613125071656       kids_pets  111.84   \n1852391   2020-12-31 23:59:15  6011724471098086       kids_pets   86.88   \n1852392   2020-12-31 23:59:24     4079773899158          travel    7.99   \n1852393   2020-12-31 23:59:34  4170689372027579   entertainment   38.13   \n\n        gender      lat      long  city_pop         dob  merch_lat  \\\n0            F  36.0788  -81.1781      3495  1988-03-09  36.011293   \n1            F  48.8878 -118.2105       149  1978-06-21  49.159047   \n2            M  42.1808 -112.2620      4154  1962-01-19  43.150704   \n3            M  46.2306 -112.1138      1939  1967-01-12  47.034331   \n4            M  38.4207  -79.4629        99  1986-03-28  38.674999   \n...        ...      ...       ...       ...         ...        ...   \n1852389      M  40.4931  -91.8912       519  1966-02-13  39.946837   \n1852390      M  29.0393  -95.4401     28739  1999-12-27  29.661049   \n1852391      F  46.1966 -118.9017      3684  1981-11-29  46.658340   \n1852392      M  44.6255 -116.4493       129  1965-12-15  44.470525   \n1852393      M  35.6665  -97.4798    116001  1993-05-10  36.210097   \n\n         merch_long  is_fraud  \n0        -82.048315         0  \n1       -118.186462         0  \n2       -112.154481         0  \n3       -112.561071         0  \n4        -78.632459         0  \n...             ...       ...  \n1852389  -91.333331         0  \n1852390  -96.186633         0  \n1852391 -119.715054         0  \n1852392 -117.080888         0  \n1852393  -97.036372         0  \n\n[1852394 rows x 12 columns]",
      "text/html": "<div>\n<style scoped>\n    .dataframe tbody tr th:only-of-type {\n        vertical-align: middle;\n    }\n\n    .dataframe tbody tr th {\n        vertical-align: top;\n    }\n\n    .dataframe thead th {\n        text-align: right;\n    }\n</style>\n<table border=\"1\" class=\"dataframe\">\n  <thead>\n    <tr style=\"text-align: right;\">\n      <th></th>\n      <th>trans_date_trans_time</th>\n      <th>cc_num</th>\n      <th>category</th>\n      <th>amt</th>\n      <th>gender</th>\n      <th>lat</th>\n      <th>long</th>\n      <th>city_pop</th>\n      <th>dob</th>\n      <th>merch_lat</th>\n      <th>merch_long</th>\n      <th>is_fraud</th>\n    </tr>\n  </thead>\n  <tbody>\n    <tr>\n      <th>0</th>\n      <td>2019-01-01 00:00:18</td>\n      <td>2703186189652095</td>\n      <td>misc_net</td>\n      <td>4.97</td>\n      <td>F</td>\n      <td>36.0788</td>\n      <td>-81.1781</td>\n      <td>3495</td>\n      <td>1988-03-09</td>\n      <td>36.011293</td>\n      <td>-82.048315</td>\n      <td>0</td>\n    </tr>\n    <tr>\n      <th>1</th>\n      <td>2019-01-01 00:00:44</td>\n      <td>630423337322</td>\n      <td>grocery_pos</td>\n      <td>107.23</td>\n      <td>F</td>\n      <td>48.8878</td>\n      <td>-118.2105</td>\n      <td>149</td>\n      <td>1978-06-21</td>\n      <td>49.159047</td>\n      <td>-118.186462</td>\n      <td>0</td>\n    </tr>\n    <tr>\n      <th>2</th>\n      <td>2019-01-01 00:00:51</td>\n      <td>38859492057661</td>\n      <td>entertainment</td>\n      <td>220.11</td>\n      <td>M</td>\n      <td>42.1808</td>\n      <td>-112.2620</td>\n      <td>4154</td>\n      <td>1962-01-19</td>\n      <td>43.150704</td>\n      <td>-112.154481</td>\n      <td>0</td>\n    </tr>\n    <tr>\n      <th>3</th>\n      <td>2019-01-01 00:01:16</td>\n      <td>3534093764340240</td>\n      <td>gas_transport</td>\n      <td>45.00</td>\n      <td>M</td>\n      <td>46.2306</td>\n      <td>-112.1138</td>\n      <td>1939</td>\n      <td>1967-01-12</td>\n      <td>47.034331</td>\n      <td>-112.561071</td>\n      <td>0</td>\n    </tr>\n    <tr>\n      <th>4</th>\n      <td>2019-01-01 00:03:06</td>\n      <td>375534208663984</td>\n      <td>misc_pos</td>\n      <td>41.96</td>\n      <td>M</td>\n      <td>38.4207</td>\n      <td>-79.4629</td>\n      <td>99</td>\n      <td>1986-03-28</td>\n      <td>38.674999</td>\n      <td>-78.632459</td>\n      <td>0</td>\n    </tr>\n    <tr>\n      <th>...</th>\n      <td>...</td>\n      <td>...</td>\n      <td>...</td>\n      <td>...</td>\n      <td>...</td>\n      <td>...</td>\n      <td>...</td>\n      <td>...</td>\n      <td>...</td>\n      <td>...</td>\n      <td>...</td>\n      <td>...</td>\n    </tr>\n    <tr>\n      <th>1852389</th>\n      <td>2020-12-31 23:59:07</td>\n      <td>30560609640617</td>\n      <td>health_fitness</td>\n      <td>43.77</td>\n      <td>M</td>\n      <td>40.4931</td>\n      <td>-91.8912</td>\n      <td>519</td>\n      <td>1966-02-13</td>\n      <td>39.946837</td>\n      <td>-91.333331</td>\n      <td>0</td>\n    </tr>\n    <tr>\n      <th>1852390</th>\n      <td>2020-12-31 23:59:09</td>\n      <td>3556613125071656</td>\n      <td>kids_pets</td>\n      <td>111.84</td>\n      <td>M</td>\n      <td>29.0393</td>\n      <td>-95.4401</td>\n      <td>28739</td>\n      <td>1999-12-27</td>\n      <td>29.661049</td>\n      <td>-96.186633</td>\n      <td>0</td>\n    </tr>\n    <tr>\n      <th>1852391</th>\n      <td>2020-12-31 23:59:15</td>\n      <td>6011724471098086</td>\n      <td>kids_pets</td>\n      <td>86.88</td>\n      <td>F</td>\n      <td>46.1966</td>\n      <td>-118.9017</td>\n      <td>3684</td>\n      <td>1981-11-29</td>\n      <td>46.658340</td>\n      <td>-119.715054</td>\n      <td>0</td>\n    </tr>\n    <tr>\n      <th>1852392</th>\n      <td>2020-12-31 23:59:24</td>\n      <td>4079773899158</td>\n      <td>travel</td>\n      <td>7.99</td>\n      <td>M</td>\n      <td>44.6255</td>\n      <td>-116.4493</td>\n      <td>129</td>\n      <td>1965-12-15</td>\n      <td>44.470525</td>\n      <td>-117.080888</td>\n      <td>0</td>\n    </tr>\n    <tr>\n      <th>1852393</th>\n      <td>2020-12-31 23:59:34</td>\n      <td>4170689372027579</td>\n      <td>entertainment</td>\n      <td>38.13</td>\n      <td>M</td>\n      <td>35.6665</td>\n      <td>-97.4798</td>\n      <td>116001</td>\n      <td>1993-05-10</td>\n      <td>36.210097</td>\n      <td>-97.036372</td>\n      <td>0</td>\n    </tr>\n  </tbody>\n</table>\n<p>1852394 rows × 12 columns</p>\n</div>"
     },
     "execution_count": 9,
     "metadata": {},
     "output_type": "execute_result"
    }
   ],
   "source": [
    "data"
   ],
   "metadata": {
    "collapsed": false,
    "pycharm": {
     "name": "#%%\n"
    }
   }
  },
  {
   "cell_type": "code",
   "execution_count": 10,
   "outputs": [
    {
     "data": {
      "text/plain": "                     trans_date_trans_time  category   amt  gender   lat  \\\ncc_num                                                                     \n60416207185                           2196      2196  2196    2196  2196   \n60422928733                           2200      2200  2200    2200  2200   \n60423098130                            738       738   738     738   738   \n60427851591                            743       743   743     743   743   \n60487002085                            735       735   735     735   735   \n...                                    ...       ...   ...     ...   ...   \n4958589671582726883                   2191      2191  2191    2191  2191   \n4973530368125489546                   1467      1467  1467    1467  1467   \n4980323467523543940                    736       736   736     736   736   \n4989847570577635369                   1471      1471  1471    1471  1471   \n4992346398065154184                   2922      2922  2922    2922  2922   \n\n                     long  city_pop   dob  merch_lat  merch_long  is_fraud  \ncc_num                                                                      \n60416207185          2196      2196  2196       2196        2196      2196  \n60422928733          2200      2200  2200       2200        2200      2200  \n60423098130           738       738   738        738         738       738  \n60427851591           743       743   743        743         743       743  \n60487002085           735       735   735        735         735       735  \n...                   ...       ...   ...        ...         ...       ...  \n4958589671582726883  2191      2191  2191       2191        2191      2191  \n4973530368125489546  1467      1467  1467       1467        1467      1467  \n4980323467523543940   736       736   736        736         736       736  \n4989847570577635369  1471      1471  1471       1471        1471      1471  \n4992346398065154184  2922      2922  2922       2922        2922      2922  \n\n[999 rows x 11 columns]",
      "text/html": "<div>\n<style scoped>\n    .dataframe tbody tr th:only-of-type {\n        vertical-align: middle;\n    }\n\n    .dataframe tbody tr th {\n        vertical-align: top;\n    }\n\n    .dataframe thead th {\n        text-align: right;\n    }\n</style>\n<table border=\"1\" class=\"dataframe\">\n  <thead>\n    <tr style=\"text-align: right;\">\n      <th></th>\n      <th>trans_date_trans_time</th>\n      <th>category</th>\n      <th>amt</th>\n      <th>gender</th>\n      <th>lat</th>\n      <th>long</th>\n      <th>city_pop</th>\n      <th>dob</th>\n      <th>merch_lat</th>\n      <th>merch_long</th>\n      <th>is_fraud</th>\n    </tr>\n    <tr>\n      <th>cc_num</th>\n      <th></th>\n      <th></th>\n      <th></th>\n      <th></th>\n      <th></th>\n      <th></th>\n      <th></th>\n      <th></th>\n      <th></th>\n      <th></th>\n      <th></th>\n    </tr>\n  </thead>\n  <tbody>\n    <tr>\n      <th>60416207185</th>\n      <td>2196</td>\n      <td>2196</td>\n      <td>2196</td>\n      <td>2196</td>\n      <td>2196</td>\n      <td>2196</td>\n      <td>2196</td>\n      <td>2196</td>\n      <td>2196</td>\n      <td>2196</td>\n      <td>2196</td>\n    </tr>\n    <tr>\n      <th>60422928733</th>\n      <td>2200</td>\n      <td>2200</td>\n      <td>2200</td>\n      <td>2200</td>\n      <td>2200</td>\n      <td>2200</td>\n      <td>2200</td>\n      <td>2200</td>\n      <td>2200</td>\n      <td>2200</td>\n      <td>2200</td>\n    </tr>\n    <tr>\n      <th>60423098130</th>\n      <td>738</td>\n      <td>738</td>\n      <td>738</td>\n      <td>738</td>\n      <td>738</td>\n      <td>738</td>\n      <td>738</td>\n      <td>738</td>\n      <td>738</td>\n      <td>738</td>\n      <td>738</td>\n    </tr>\n    <tr>\n      <th>60427851591</th>\n      <td>743</td>\n      <td>743</td>\n      <td>743</td>\n      <td>743</td>\n      <td>743</td>\n      <td>743</td>\n      <td>743</td>\n      <td>743</td>\n      <td>743</td>\n      <td>743</td>\n      <td>743</td>\n    </tr>\n    <tr>\n      <th>60487002085</th>\n      <td>735</td>\n      <td>735</td>\n      <td>735</td>\n      <td>735</td>\n      <td>735</td>\n      <td>735</td>\n      <td>735</td>\n      <td>735</td>\n      <td>735</td>\n      <td>735</td>\n      <td>735</td>\n    </tr>\n    <tr>\n      <th>...</th>\n      <td>...</td>\n      <td>...</td>\n      <td>...</td>\n      <td>...</td>\n      <td>...</td>\n      <td>...</td>\n      <td>...</td>\n      <td>...</td>\n      <td>...</td>\n      <td>...</td>\n      <td>...</td>\n    </tr>\n    <tr>\n      <th>4958589671582726883</th>\n      <td>2191</td>\n      <td>2191</td>\n      <td>2191</td>\n      <td>2191</td>\n      <td>2191</td>\n      <td>2191</td>\n      <td>2191</td>\n      <td>2191</td>\n      <td>2191</td>\n      <td>2191</td>\n      <td>2191</td>\n    </tr>\n    <tr>\n      <th>4973530368125489546</th>\n      <td>1467</td>\n      <td>1467</td>\n      <td>1467</td>\n      <td>1467</td>\n      <td>1467</td>\n      <td>1467</td>\n      <td>1467</td>\n      <td>1467</td>\n      <td>1467</td>\n      <td>1467</td>\n      <td>1467</td>\n    </tr>\n    <tr>\n      <th>4980323467523543940</th>\n      <td>736</td>\n      <td>736</td>\n      <td>736</td>\n      <td>736</td>\n      <td>736</td>\n      <td>736</td>\n      <td>736</td>\n      <td>736</td>\n      <td>736</td>\n      <td>736</td>\n      <td>736</td>\n    </tr>\n    <tr>\n      <th>4989847570577635369</th>\n      <td>1471</td>\n      <td>1471</td>\n      <td>1471</td>\n      <td>1471</td>\n      <td>1471</td>\n      <td>1471</td>\n      <td>1471</td>\n      <td>1471</td>\n      <td>1471</td>\n      <td>1471</td>\n      <td>1471</td>\n    </tr>\n    <tr>\n      <th>4992346398065154184</th>\n      <td>2922</td>\n      <td>2922</td>\n      <td>2922</td>\n      <td>2922</td>\n      <td>2922</td>\n      <td>2922</td>\n      <td>2922</td>\n      <td>2922</td>\n      <td>2922</td>\n      <td>2922</td>\n      <td>2922</td>\n    </tr>\n  </tbody>\n</table>\n<p>999 rows × 11 columns</p>\n</div>"
     },
     "execution_count": 10,
     "metadata": {},
     "output_type": "execute_result"
    }
   ],
   "source": [
    "data.groupby('cc_num').count()"
   ],
   "metadata": {
    "collapsed": false,
    "pycharm": {
     "name": "#%%\n"
    }
   }
  },
  {
   "cell_type": "code",
   "execution_count": 11,
   "outputs": [
    {
     "data": {
      "text/plain": "        cc_num        mean          std\n0  60416207185   59.257796   142.869746\n1  60422928733   65.483159    92.042844\n2  60423098130   96.376084  1000.693872\n3  60427851591  107.487550   131.014534\n4  60487002085   64.096925   153.207660",
      "text/html": "<div>\n<style scoped>\n    .dataframe tbody tr th:only-of-type {\n        vertical-align: middle;\n    }\n\n    .dataframe tbody tr th {\n        vertical-align: top;\n    }\n\n    .dataframe thead th {\n        text-align: right;\n    }\n</style>\n<table border=\"1\" class=\"dataframe\">\n  <thead>\n    <tr style=\"text-align: right;\">\n      <th></th>\n      <th>cc_num</th>\n      <th>mean</th>\n      <th>std</th>\n    </tr>\n  </thead>\n  <tbody>\n    <tr>\n      <th>0</th>\n      <td>60416207185</td>\n      <td>59.257796</td>\n      <td>142.869746</td>\n    </tr>\n    <tr>\n      <th>1</th>\n      <td>60422928733</td>\n      <td>65.483159</td>\n      <td>92.042844</td>\n    </tr>\n    <tr>\n      <th>2</th>\n      <td>60423098130</td>\n      <td>96.376084</td>\n      <td>1000.693872</td>\n    </tr>\n    <tr>\n      <th>3</th>\n      <td>60427851591</td>\n      <td>107.487550</td>\n      <td>131.014534</td>\n    </tr>\n    <tr>\n      <th>4</th>\n      <td>60487002085</td>\n      <td>64.096925</td>\n      <td>153.207660</td>\n    </tr>\n  </tbody>\n</table>\n</div>"
     },
     "execution_count": 11,
     "metadata": {},
     "output_type": "execute_result"
    }
   ],
   "source": [
    "amt_info = data.groupby('cc_num').agg(['mean' , 'std'])['amt'].reset_index() #cc_num별 amt 평균과 표준편차 계산\n",
    "\n",
    "amt_info.head()"
   ],
   "metadata": {
    "collapsed": false,
    "pycharm": {
     "name": "#%%\n"
    }
   }
  },
  {
   "cell_type": "code",
   "execution_count": 12,
   "outputs": [
    {
     "data": {
      "text/plain": "        trans_date_trans_time            cc_num        category     amt  \\\n0         2019-01-01 00:00:18  2703186189652095        misc_net    4.97   \n1         2019-01-01 00:00:44      630423337322     grocery_pos  107.23   \n2         2019-01-01 00:00:51    38859492057661   entertainment  220.11   \n3         2019-01-01 00:01:16  3534093764340240   gas_transport   45.00   \n4         2019-01-01 00:03:06   375534208663984        misc_pos   41.96   \n...                       ...               ...             ...     ...   \n1852389   2020-12-31 23:59:07    30560609640617  health_fitness   43.77   \n1852390   2020-12-31 23:59:09  3556613125071656       kids_pets  111.84   \n1852391   2020-12-31 23:59:15  6011724471098086       kids_pets   86.88   \n1852392   2020-12-31 23:59:24     4079773899158          travel    7.99   \n1852393   2020-12-31 23:59:34  4170689372027579   entertainment   38.13   \n\n        gender      lat      long  city_pop         dob  merch_lat  \\\n0            F  36.0788  -81.1781      3495  1988-03-09  36.011293   \n1            F  48.8878 -118.2105       149  1978-06-21  49.159047   \n2            M  42.1808 -112.2620      4154  1962-01-19  43.150704   \n3            M  46.2306 -112.1138      1939  1967-01-12  47.034331   \n4            M  38.4207  -79.4629        99  1986-03-28  38.674999   \n...        ...      ...       ...       ...         ...        ...   \n1852389      M  40.4931  -91.8912       519  1966-02-13  39.946837   \n1852390      M  29.0393  -95.4401     28739  1999-12-27  29.661049   \n1852391      F  46.1966 -118.9017      3684  1981-11-29  46.658340   \n1852392      M  44.6255 -116.4493       129  1965-12-15  44.470525   \n1852393      M  35.6665  -97.4798    116001  1993-05-10  36.210097   \n\n         merch_long  is_fraud       mean         std  \n0        -82.048315         0  89.408743  127.530101  \n1       -118.186462         0  56.078113  159.201852  \n2       -112.154481         0  69.924272  116.688602  \n3       -112.561071         0  80.090040  280.077880  \n4        -78.632459         0  95.341146   94.322842  \n...             ...       ...        ...         ...  \n1852389  -91.333331         0  62.347968  110.821153  \n1852390  -96.186633         0  50.452289  168.361122  \n1852391 -119.715054         0  88.704297  119.948793  \n1852392 -117.080888         0  60.998052   89.525640  \n1852393  -97.036372         0  61.737724  154.715895  \n\n[1852394 rows x 14 columns]",
      "text/html": "<div>\n<style scoped>\n    .dataframe tbody tr th:only-of-type {\n        vertical-align: middle;\n    }\n\n    .dataframe tbody tr th {\n        vertical-align: top;\n    }\n\n    .dataframe thead th {\n        text-align: right;\n    }\n</style>\n<table border=\"1\" class=\"dataframe\">\n  <thead>\n    <tr style=\"text-align: right;\">\n      <th></th>\n      <th>trans_date_trans_time</th>\n      <th>cc_num</th>\n      <th>category</th>\n      <th>amt</th>\n      <th>gender</th>\n      <th>lat</th>\n      <th>long</th>\n      <th>city_pop</th>\n      <th>dob</th>\n      <th>merch_lat</th>\n      <th>merch_long</th>\n      <th>is_fraud</th>\n      <th>mean</th>\n      <th>std</th>\n    </tr>\n  </thead>\n  <tbody>\n    <tr>\n      <th>0</th>\n      <td>2019-01-01 00:00:18</td>\n      <td>2703186189652095</td>\n      <td>misc_net</td>\n      <td>4.97</td>\n      <td>F</td>\n      <td>36.0788</td>\n      <td>-81.1781</td>\n      <td>3495</td>\n      <td>1988-03-09</td>\n      <td>36.011293</td>\n      <td>-82.048315</td>\n      <td>0</td>\n      <td>89.408743</td>\n      <td>127.530101</td>\n    </tr>\n    <tr>\n      <th>1</th>\n      <td>2019-01-01 00:00:44</td>\n      <td>630423337322</td>\n      <td>grocery_pos</td>\n      <td>107.23</td>\n      <td>F</td>\n      <td>48.8878</td>\n      <td>-118.2105</td>\n      <td>149</td>\n      <td>1978-06-21</td>\n      <td>49.159047</td>\n      <td>-118.186462</td>\n      <td>0</td>\n      <td>56.078113</td>\n      <td>159.201852</td>\n    </tr>\n    <tr>\n      <th>2</th>\n      <td>2019-01-01 00:00:51</td>\n      <td>38859492057661</td>\n      <td>entertainment</td>\n      <td>220.11</td>\n      <td>M</td>\n      <td>42.1808</td>\n      <td>-112.2620</td>\n      <td>4154</td>\n      <td>1962-01-19</td>\n      <td>43.150704</td>\n      <td>-112.154481</td>\n      <td>0</td>\n      <td>69.924272</td>\n      <td>116.688602</td>\n    </tr>\n    <tr>\n      <th>3</th>\n      <td>2019-01-01 00:01:16</td>\n      <td>3534093764340240</td>\n      <td>gas_transport</td>\n      <td>45.00</td>\n      <td>M</td>\n      <td>46.2306</td>\n      <td>-112.1138</td>\n      <td>1939</td>\n      <td>1967-01-12</td>\n      <td>47.034331</td>\n      <td>-112.561071</td>\n      <td>0</td>\n      <td>80.090040</td>\n      <td>280.077880</td>\n    </tr>\n    <tr>\n      <th>4</th>\n      <td>2019-01-01 00:03:06</td>\n      <td>375534208663984</td>\n      <td>misc_pos</td>\n      <td>41.96</td>\n      <td>M</td>\n      <td>38.4207</td>\n      <td>-79.4629</td>\n      <td>99</td>\n      <td>1986-03-28</td>\n      <td>38.674999</td>\n      <td>-78.632459</td>\n      <td>0</td>\n      <td>95.341146</td>\n      <td>94.322842</td>\n    </tr>\n    <tr>\n      <th>...</th>\n      <td>...</td>\n      <td>...</td>\n      <td>...</td>\n      <td>...</td>\n      <td>...</td>\n      <td>...</td>\n      <td>...</td>\n      <td>...</td>\n      <td>...</td>\n      <td>...</td>\n      <td>...</td>\n      <td>...</td>\n      <td>...</td>\n      <td>...</td>\n    </tr>\n    <tr>\n      <th>1852389</th>\n      <td>2020-12-31 23:59:07</td>\n      <td>30560609640617</td>\n      <td>health_fitness</td>\n      <td>43.77</td>\n      <td>M</td>\n      <td>40.4931</td>\n      <td>-91.8912</td>\n      <td>519</td>\n      <td>1966-02-13</td>\n      <td>39.946837</td>\n      <td>-91.333331</td>\n      <td>0</td>\n      <td>62.347968</td>\n      <td>110.821153</td>\n    </tr>\n    <tr>\n      <th>1852390</th>\n      <td>2020-12-31 23:59:09</td>\n      <td>3556613125071656</td>\n      <td>kids_pets</td>\n      <td>111.84</td>\n      <td>M</td>\n      <td>29.0393</td>\n      <td>-95.4401</td>\n      <td>28739</td>\n      <td>1999-12-27</td>\n      <td>29.661049</td>\n      <td>-96.186633</td>\n      <td>0</td>\n      <td>50.452289</td>\n      <td>168.361122</td>\n    </tr>\n    <tr>\n      <th>1852391</th>\n      <td>2020-12-31 23:59:15</td>\n      <td>6011724471098086</td>\n      <td>kids_pets</td>\n      <td>86.88</td>\n      <td>F</td>\n      <td>46.1966</td>\n      <td>-118.9017</td>\n      <td>3684</td>\n      <td>1981-11-29</td>\n      <td>46.658340</td>\n      <td>-119.715054</td>\n      <td>0</td>\n      <td>88.704297</td>\n      <td>119.948793</td>\n    </tr>\n    <tr>\n      <th>1852392</th>\n      <td>2020-12-31 23:59:24</td>\n      <td>4079773899158</td>\n      <td>travel</td>\n      <td>7.99</td>\n      <td>M</td>\n      <td>44.6255</td>\n      <td>-116.4493</td>\n      <td>129</td>\n      <td>1965-12-15</td>\n      <td>44.470525</td>\n      <td>-117.080888</td>\n      <td>0</td>\n      <td>60.998052</td>\n      <td>89.525640</td>\n    </tr>\n    <tr>\n      <th>1852393</th>\n      <td>2020-12-31 23:59:34</td>\n      <td>4170689372027579</td>\n      <td>entertainment</td>\n      <td>38.13</td>\n      <td>M</td>\n      <td>35.6665</td>\n      <td>-97.4798</td>\n      <td>116001</td>\n      <td>1993-05-10</td>\n      <td>36.210097</td>\n      <td>-97.036372</td>\n      <td>0</td>\n      <td>61.737724</td>\n      <td>154.715895</td>\n    </tr>\n  </tbody>\n</table>\n<p>1852394 rows × 14 columns</p>\n</div>"
     },
     "execution_count": 12,
     "metadata": {},
     "output_type": "execute_result"
    }
   ],
   "source": [
    "data = data.merge(amt_info , on = 'cc_num' , how = 'left') # 데이터 합치기\n",
    "data"
   ],
   "metadata": {
    "collapsed": false,
    "pycharm": {
     "name": "#%%\n"
    }
   }
  },
  {
   "cell_type": "code",
   "execution_count": 13,
   "outputs": [],
   "source": [
    "data['amt_z_score'] = (data['amt'] - data['mean']) / data['std']  # z-score 계산"
   ],
   "metadata": {
    "collapsed": false,
    "pycharm": {
     "name": "#%%\n"
    }
   }
  },
  {
   "cell_type": "code",
   "execution_count": 14,
   "outputs": [
    {
     "data": {
      "text/plain": "      amt       mean         std  amt_z_score\n0    4.97  89.408743  127.530101    -0.662108\n1  107.23  56.078113  159.201852     0.321302\n2  220.11  69.924272  116.688602     1.287064\n3   45.00  80.090040  280.077880    -0.125287\n4   41.96  95.341146   94.322842    -0.565941",
      "text/html": "<div>\n<style scoped>\n    .dataframe tbody tr th:only-of-type {\n        vertical-align: middle;\n    }\n\n    .dataframe tbody tr th {\n        vertical-align: top;\n    }\n\n    .dataframe thead th {\n        text-align: right;\n    }\n</style>\n<table border=\"1\" class=\"dataframe\">\n  <thead>\n    <tr style=\"text-align: right;\">\n      <th></th>\n      <th>amt</th>\n      <th>mean</th>\n      <th>std</th>\n      <th>amt_z_score</th>\n    </tr>\n  </thead>\n  <tbody>\n    <tr>\n      <th>0</th>\n      <td>4.97</td>\n      <td>89.408743</td>\n      <td>127.530101</td>\n      <td>-0.662108</td>\n    </tr>\n    <tr>\n      <th>1</th>\n      <td>107.23</td>\n      <td>56.078113</td>\n      <td>159.201852</td>\n      <td>0.321302</td>\n    </tr>\n    <tr>\n      <th>2</th>\n      <td>220.11</td>\n      <td>69.924272</td>\n      <td>116.688602</td>\n      <td>1.287064</td>\n    </tr>\n    <tr>\n      <th>3</th>\n      <td>45.00</td>\n      <td>80.090040</td>\n      <td>280.077880</td>\n      <td>-0.125287</td>\n    </tr>\n    <tr>\n      <th>4</th>\n      <td>41.96</td>\n      <td>95.341146</td>\n      <td>94.322842</td>\n      <td>-0.565941</td>\n    </tr>\n  </tbody>\n</table>\n</div>"
     },
     "execution_count": 14,
     "metadata": {},
     "output_type": "execute_result"
    }
   ],
   "source": [
    "data[['amt' , 'mean' , 'std' , 'amt_z_score']].head()"
   ],
   "metadata": {
    "collapsed": false,
    "pycharm": {
     "name": "#%%\n"
    }
   }
  },
  {
   "cell_type": "code",
   "execution_count": 15,
   "outputs": [],
   "source": [
    "data.drop(['mean' , 'std'] , axis = 1 , inplace =True)  # 변수 제거"
   ],
   "metadata": {
    "collapsed": false,
    "pycharm": {
     "name": "#%%\n"
    }
   }
  },
  {
   "cell_type": "code",
   "execution_count": 16,
   "outputs": [
    {
     "data": {
      "text/plain": "        trans_date_trans_time            cc_num        category     amt  \\\n0         2019-01-01 00:00:18  2703186189652095        misc_net    4.97   \n1         2019-01-01 00:00:44      630423337322     grocery_pos  107.23   \n2         2019-01-01 00:00:51    38859492057661   entertainment  220.11   \n3         2019-01-01 00:01:16  3534093764340240   gas_transport   45.00   \n4         2019-01-01 00:03:06   375534208663984        misc_pos   41.96   \n...                       ...               ...             ...     ...   \n1852389   2020-12-31 23:59:07    30560609640617  health_fitness   43.77   \n1852390   2020-12-31 23:59:09  3556613125071656       kids_pets  111.84   \n1852391   2020-12-31 23:59:15  6011724471098086       kids_pets   86.88   \n1852392   2020-12-31 23:59:24     4079773899158          travel    7.99   \n1852393   2020-12-31 23:59:34  4170689372027579   entertainment   38.13   \n\n        gender      lat      long  city_pop         dob  merch_lat  \\\n0            F  36.0788  -81.1781      3495  1988-03-09  36.011293   \n1            F  48.8878 -118.2105       149  1978-06-21  49.159047   \n2            M  42.1808 -112.2620      4154  1962-01-19  43.150704   \n3            M  46.2306 -112.1138      1939  1967-01-12  47.034331   \n4            M  38.4207  -79.4629        99  1986-03-28  38.674999   \n...        ...      ...       ...       ...         ...        ...   \n1852389      M  40.4931  -91.8912       519  1966-02-13  39.946837   \n1852390      M  29.0393  -95.4401     28739  1999-12-27  29.661049   \n1852391      F  46.1966 -118.9017      3684  1981-11-29  46.658340   \n1852392      M  44.6255 -116.4493       129  1965-12-15  44.470525   \n1852393      M  35.6665  -97.4798    116001  1993-05-10  36.210097   \n\n         merch_long  is_fraud  amt_z_score  \n0        -82.048315         0    -0.662108  \n1       -118.186462         0     0.321302  \n2       -112.154481         0     1.287064  \n3       -112.561071         0    -0.125287  \n4        -78.632459         0    -0.565941  \n...             ...       ...          ...  \n1852389  -91.333331         0    -0.167639  \n1852390  -96.186633         0     0.364619  \n1852391 -119.715054         0    -0.015209  \n1852392 -117.080888         0    -0.592099  \n1852393  -97.036372         0    -0.152588  \n\n[1852394 rows x 13 columns]",
      "text/html": "<div>\n<style scoped>\n    .dataframe tbody tr th:only-of-type {\n        vertical-align: middle;\n    }\n\n    .dataframe tbody tr th {\n        vertical-align: top;\n    }\n\n    .dataframe thead th {\n        text-align: right;\n    }\n</style>\n<table border=\"1\" class=\"dataframe\">\n  <thead>\n    <tr style=\"text-align: right;\">\n      <th></th>\n      <th>trans_date_trans_time</th>\n      <th>cc_num</th>\n      <th>category</th>\n      <th>amt</th>\n      <th>gender</th>\n      <th>lat</th>\n      <th>long</th>\n      <th>city_pop</th>\n      <th>dob</th>\n      <th>merch_lat</th>\n      <th>merch_long</th>\n      <th>is_fraud</th>\n      <th>amt_z_score</th>\n    </tr>\n  </thead>\n  <tbody>\n    <tr>\n      <th>0</th>\n      <td>2019-01-01 00:00:18</td>\n      <td>2703186189652095</td>\n      <td>misc_net</td>\n      <td>4.97</td>\n      <td>F</td>\n      <td>36.0788</td>\n      <td>-81.1781</td>\n      <td>3495</td>\n      <td>1988-03-09</td>\n      <td>36.011293</td>\n      <td>-82.048315</td>\n      <td>0</td>\n      <td>-0.662108</td>\n    </tr>\n    <tr>\n      <th>1</th>\n      <td>2019-01-01 00:00:44</td>\n      <td>630423337322</td>\n      <td>grocery_pos</td>\n      <td>107.23</td>\n      <td>F</td>\n      <td>48.8878</td>\n      <td>-118.2105</td>\n      <td>149</td>\n      <td>1978-06-21</td>\n      <td>49.159047</td>\n      <td>-118.186462</td>\n      <td>0</td>\n      <td>0.321302</td>\n    </tr>\n    <tr>\n      <th>2</th>\n      <td>2019-01-01 00:00:51</td>\n      <td>38859492057661</td>\n      <td>entertainment</td>\n      <td>220.11</td>\n      <td>M</td>\n      <td>42.1808</td>\n      <td>-112.2620</td>\n      <td>4154</td>\n      <td>1962-01-19</td>\n      <td>43.150704</td>\n      <td>-112.154481</td>\n      <td>0</td>\n      <td>1.287064</td>\n    </tr>\n    <tr>\n      <th>3</th>\n      <td>2019-01-01 00:01:16</td>\n      <td>3534093764340240</td>\n      <td>gas_transport</td>\n      <td>45.00</td>\n      <td>M</td>\n      <td>46.2306</td>\n      <td>-112.1138</td>\n      <td>1939</td>\n      <td>1967-01-12</td>\n      <td>47.034331</td>\n      <td>-112.561071</td>\n      <td>0</td>\n      <td>-0.125287</td>\n    </tr>\n    <tr>\n      <th>4</th>\n      <td>2019-01-01 00:03:06</td>\n      <td>375534208663984</td>\n      <td>misc_pos</td>\n      <td>41.96</td>\n      <td>M</td>\n      <td>38.4207</td>\n      <td>-79.4629</td>\n      <td>99</td>\n      <td>1986-03-28</td>\n      <td>38.674999</td>\n      <td>-78.632459</td>\n      <td>0</td>\n      <td>-0.565941</td>\n    </tr>\n    <tr>\n      <th>...</th>\n      <td>...</td>\n      <td>...</td>\n      <td>...</td>\n      <td>...</td>\n      <td>...</td>\n      <td>...</td>\n      <td>...</td>\n      <td>...</td>\n      <td>...</td>\n      <td>...</td>\n      <td>...</td>\n      <td>...</td>\n      <td>...</td>\n    </tr>\n    <tr>\n      <th>1852389</th>\n      <td>2020-12-31 23:59:07</td>\n      <td>30560609640617</td>\n      <td>health_fitness</td>\n      <td>43.77</td>\n      <td>M</td>\n      <td>40.4931</td>\n      <td>-91.8912</td>\n      <td>519</td>\n      <td>1966-02-13</td>\n      <td>39.946837</td>\n      <td>-91.333331</td>\n      <td>0</td>\n      <td>-0.167639</td>\n    </tr>\n    <tr>\n      <th>1852390</th>\n      <td>2020-12-31 23:59:09</td>\n      <td>3556613125071656</td>\n      <td>kids_pets</td>\n      <td>111.84</td>\n      <td>M</td>\n      <td>29.0393</td>\n      <td>-95.4401</td>\n      <td>28739</td>\n      <td>1999-12-27</td>\n      <td>29.661049</td>\n      <td>-96.186633</td>\n      <td>0</td>\n      <td>0.364619</td>\n    </tr>\n    <tr>\n      <th>1852391</th>\n      <td>2020-12-31 23:59:15</td>\n      <td>6011724471098086</td>\n      <td>kids_pets</td>\n      <td>86.88</td>\n      <td>F</td>\n      <td>46.1966</td>\n      <td>-118.9017</td>\n      <td>3684</td>\n      <td>1981-11-29</td>\n      <td>46.658340</td>\n      <td>-119.715054</td>\n      <td>0</td>\n      <td>-0.015209</td>\n    </tr>\n    <tr>\n      <th>1852392</th>\n      <td>2020-12-31 23:59:24</td>\n      <td>4079773899158</td>\n      <td>travel</td>\n      <td>7.99</td>\n      <td>M</td>\n      <td>44.6255</td>\n      <td>-116.4493</td>\n      <td>129</td>\n      <td>1965-12-15</td>\n      <td>44.470525</td>\n      <td>-117.080888</td>\n      <td>0</td>\n      <td>-0.592099</td>\n    </tr>\n    <tr>\n      <th>1852393</th>\n      <td>2020-12-31 23:59:34</td>\n      <td>4170689372027579</td>\n      <td>entertainment</td>\n      <td>38.13</td>\n      <td>M</td>\n      <td>35.6665</td>\n      <td>-97.4798</td>\n      <td>116001</td>\n      <td>1993-05-10</td>\n      <td>36.210097</td>\n      <td>-97.036372</td>\n      <td>0</td>\n      <td>-0.152588</td>\n    </tr>\n  </tbody>\n</table>\n<p>1852394 rows × 13 columns</p>\n</div>"
     },
     "execution_count": 16,
     "metadata": {},
     "output_type": "execute_result"
    }
   ],
   "source": [
    "data"
   ],
   "metadata": {
    "collapsed": false,
    "pycharm": {
     "name": "#%%\n"
    }
   }
  },
  {
   "cell_type": "code",
   "execution_count": 17,
   "outputs": [],
   "source": [
    "category_info = data.groupby(['cc_num' , 'category']).agg(['mean' , 'std'])['amt'].reset_index()"
   ],
   "metadata": {
    "collapsed": false,
    "pycharm": {
     "name": "#%%\n"
    }
   }
  },
  {
   "cell_type": "code",
   "execution_count": 18,
   "outputs": [
    {
     "data": {
      "text/plain": "        trans_date_trans_time            cc_num        category     amt  \\\n0         2019-01-01 00:00:18  2703186189652095        misc_net    4.97   \n1         2019-01-01 00:00:44      630423337322     grocery_pos  107.23   \n2         2019-01-01 00:00:51    38859492057661   entertainment  220.11   \n3         2019-01-01 00:01:16  3534093764340240   gas_transport   45.00   \n4         2019-01-01 00:03:06   375534208663984        misc_pos   41.96   \n...                       ...               ...             ...     ...   \n1852389   2020-12-31 23:59:07    30560609640617  health_fitness   43.77   \n1852390   2020-12-31 23:59:09  3556613125071656       kids_pets  111.84   \n1852391   2020-12-31 23:59:15  6011724471098086       kids_pets   86.88   \n1852392   2020-12-31 23:59:24     4079773899158          travel    7.99   \n1852393   2020-12-31 23:59:34  4170689372027579   entertainment   38.13   \n\n        gender      lat      long  city_pop         dob  merch_lat  \\\n0            F  36.0788  -81.1781      3495  1988-03-09  36.011293   \n1            F  48.8878 -118.2105       149  1978-06-21  49.159047   \n2            M  42.1808 -112.2620      4154  1962-01-19  43.150704   \n3            M  46.2306 -112.1138      1939  1967-01-12  47.034331   \n4            M  38.4207  -79.4629        99  1986-03-28  38.674999   \n...        ...      ...       ...       ...         ...        ...   \n1852389      M  40.4931  -91.8912       519  1966-02-13  39.946837   \n1852390      M  29.0393  -95.4401     28739  1999-12-27  29.661049   \n1852391      F  46.1966 -118.9017      3684  1981-11-29  46.658340   \n1852392      M  44.6255 -116.4493       129  1965-12-15  44.470525   \n1852393      M  35.6665  -97.4798    116001  1993-05-10  36.210097   \n\n         merch_long  is_fraud  amt_z_score  cat_z_score  \n0        -82.048315         0    -0.662108    -0.688297  \n1       -118.186462         0     0.321302     0.317631  \n2       -112.154481         0     1.287064     2.872509  \n3       -112.561071         0    -0.125287    -1.050197  \n4        -78.632459         0    -0.565941     1.312866  \n...             ...       ...          ...          ...  \n1852389  -91.333331         0    -0.167639    -0.047862  \n1852390  -96.186633         0     0.364619     1.163822  \n1852391 -119.715054         0    -0.015209     0.440137  \n1852392 -117.080888         0    -0.592099    -0.007423  \n1852393  -97.036372         0    -0.152588    -0.380698  \n\n[1852394 rows x 14 columns]",
      "text/html": "<div>\n<style scoped>\n    .dataframe tbody tr th:only-of-type {\n        vertical-align: middle;\n    }\n\n    .dataframe tbody tr th {\n        vertical-align: top;\n    }\n\n    .dataframe thead th {\n        text-align: right;\n    }\n</style>\n<table border=\"1\" class=\"dataframe\">\n  <thead>\n    <tr style=\"text-align: right;\">\n      <th></th>\n      <th>trans_date_trans_time</th>\n      <th>cc_num</th>\n      <th>category</th>\n      <th>amt</th>\n      <th>gender</th>\n      <th>lat</th>\n      <th>long</th>\n      <th>city_pop</th>\n      <th>dob</th>\n      <th>merch_lat</th>\n      <th>merch_long</th>\n      <th>is_fraud</th>\n      <th>amt_z_score</th>\n      <th>cat_z_score</th>\n    </tr>\n  </thead>\n  <tbody>\n    <tr>\n      <th>0</th>\n      <td>2019-01-01 00:00:18</td>\n      <td>2703186189652095</td>\n      <td>misc_net</td>\n      <td>4.97</td>\n      <td>F</td>\n      <td>36.0788</td>\n      <td>-81.1781</td>\n      <td>3495</td>\n      <td>1988-03-09</td>\n      <td>36.011293</td>\n      <td>-82.048315</td>\n      <td>0</td>\n      <td>-0.662108</td>\n      <td>-0.688297</td>\n    </tr>\n    <tr>\n      <th>1</th>\n      <td>2019-01-01 00:00:44</td>\n      <td>630423337322</td>\n      <td>grocery_pos</td>\n      <td>107.23</td>\n      <td>F</td>\n      <td>48.8878</td>\n      <td>-118.2105</td>\n      <td>149</td>\n      <td>1978-06-21</td>\n      <td>49.159047</td>\n      <td>-118.186462</td>\n      <td>0</td>\n      <td>0.321302</td>\n      <td>0.317631</td>\n    </tr>\n    <tr>\n      <th>2</th>\n      <td>2019-01-01 00:00:51</td>\n      <td>38859492057661</td>\n      <td>entertainment</td>\n      <td>220.11</td>\n      <td>M</td>\n      <td>42.1808</td>\n      <td>-112.2620</td>\n      <td>4154</td>\n      <td>1962-01-19</td>\n      <td>43.150704</td>\n      <td>-112.154481</td>\n      <td>0</td>\n      <td>1.287064</td>\n      <td>2.872509</td>\n    </tr>\n    <tr>\n      <th>3</th>\n      <td>2019-01-01 00:01:16</td>\n      <td>3534093764340240</td>\n      <td>gas_transport</td>\n      <td>45.00</td>\n      <td>M</td>\n      <td>46.2306</td>\n      <td>-112.1138</td>\n      <td>1939</td>\n      <td>1967-01-12</td>\n      <td>47.034331</td>\n      <td>-112.561071</td>\n      <td>0</td>\n      <td>-0.125287</td>\n      <td>-1.050197</td>\n    </tr>\n    <tr>\n      <th>4</th>\n      <td>2019-01-01 00:03:06</td>\n      <td>375534208663984</td>\n      <td>misc_pos</td>\n      <td>41.96</td>\n      <td>M</td>\n      <td>38.4207</td>\n      <td>-79.4629</td>\n      <td>99</td>\n      <td>1986-03-28</td>\n      <td>38.674999</td>\n      <td>-78.632459</td>\n      <td>0</td>\n      <td>-0.565941</td>\n      <td>1.312866</td>\n    </tr>\n    <tr>\n      <th>...</th>\n      <td>...</td>\n      <td>...</td>\n      <td>...</td>\n      <td>...</td>\n      <td>...</td>\n      <td>...</td>\n      <td>...</td>\n      <td>...</td>\n      <td>...</td>\n      <td>...</td>\n      <td>...</td>\n      <td>...</td>\n      <td>...</td>\n      <td>...</td>\n    </tr>\n    <tr>\n      <th>1852389</th>\n      <td>2020-12-31 23:59:07</td>\n      <td>30560609640617</td>\n      <td>health_fitness</td>\n      <td>43.77</td>\n      <td>M</td>\n      <td>40.4931</td>\n      <td>-91.8912</td>\n      <td>519</td>\n      <td>1966-02-13</td>\n      <td>39.946837</td>\n      <td>-91.333331</td>\n      <td>0</td>\n      <td>-0.167639</td>\n      <td>-0.047862</td>\n    </tr>\n    <tr>\n      <th>1852390</th>\n      <td>2020-12-31 23:59:09</td>\n      <td>3556613125071656</td>\n      <td>kids_pets</td>\n      <td>111.84</td>\n      <td>M</td>\n      <td>29.0393</td>\n      <td>-95.4401</td>\n      <td>28739</td>\n      <td>1999-12-27</td>\n      <td>29.661049</td>\n      <td>-96.186633</td>\n      <td>0</td>\n      <td>0.364619</td>\n      <td>1.163822</td>\n    </tr>\n    <tr>\n      <th>1852391</th>\n      <td>2020-12-31 23:59:15</td>\n      <td>6011724471098086</td>\n      <td>kids_pets</td>\n      <td>86.88</td>\n      <td>F</td>\n      <td>46.1966</td>\n      <td>-118.9017</td>\n      <td>3684</td>\n      <td>1981-11-29</td>\n      <td>46.658340</td>\n      <td>-119.715054</td>\n      <td>0</td>\n      <td>-0.015209</td>\n      <td>0.440137</td>\n    </tr>\n    <tr>\n      <th>1852392</th>\n      <td>2020-12-31 23:59:24</td>\n      <td>4079773899158</td>\n      <td>travel</td>\n      <td>7.99</td>\n      <td>M</td>\n      <td>44.6255</td>\n      <td>-116.4493</td>\n      <td>129</td>\n      <td>1965-12-15</td>\n      <td>44.470525</td>\n      <td>-117.080888</td>\n      <td>0</td>\n      <td>-0.592099</td>\n      <td>-0.007423</td>\n    </tr>\n    <tr>\n      <th>1852393</th>\n      <td>2020-12-31 23:59:34</td>\n      <td>4170689372027579</td>\n      <td>entertainment</td>\n      <td>38.13</td>\n      <td>M</td>\n      <td>35.6665</td>\n      <td>-97.4798</td>\n      <td>116001</td>\n      <td>1993-05-10</td>\n      <td>36.210097</td>\n      <td>-97.036372</td>\n      <td>0</td>\n      <td>-0.152588</td>\n      <td>-0.380698</td>\n    </tr>\n  </tbody>\n</table>\n<p>1852394 rows × 14 columns</p>\n</div>"
     },
     "execution_count": 18,
     "metadata": {},
     "output_type": "execute_result"
    }
   ],
   "source": [
    "data = data.merge(category_info , on = ['cc_num' , 'category'] , how = 'left')\n",
    "\n",
    "data['cat_z_score'] = (data['amt'] - data['mean']) / data['std']\n",
    "\n",
    "data.drop(['mean' , 'std'] , axis = 1 , inplace =True)\n",
    "\n",
    "data"
   ],
   "metadata": {
    "collapsed": false,
    "pycharm": {
     "name": "#%%\n"
    }
   }
  },
  {
   "cell_type": "code",
   "execution_count": 20,
   "outputs": [
    {
     "name": "stdout",
     "output_type": "stream",
     "text": [
      "Collecting geopy\n",
      "  Downloading geopy-2.3.0-py3-none-any.whl (119 kB)\n",
      "     -------------------------------------- 119.8/119.8 kB 1.2 MB/s eta 0:00:00\n",
      "Collecting geographiclib<3,>=1.52\n",
      "  Downloading geographiclib-2.0-py3-none-any.whl (40 kB)\n",
      "     ---------------------------------------- 40.3/40.3 kB ? eta 0:00:00\n",
      "Installing collected packages: geographiclib, geopy\n",
      "Successfully installed geographiclib-2.0 geopy-2.3.0\n"
     ]
    },
    {
     "name": "stderr",
     "output_type": "stream",
     "text": [
      "WARNING: Ignoring invalid distribution -pencv-python-headless (c:\\users\\andyp\\anaconda3\\lib\\site-packages)\n",
      "WARNING: Ignoring invalid distribution -pencv-python-headless (c:\\users\\andyp\\anaconda3\\lib\\site-packages)\n",
      "WARNING: Ignoring invalid distribution -pencv-python-headless (c:\\users\\andyp\\anaconda3\\lib\\site-packages)\n",
      "WARNING: Ignoring invalid distribution -pencv-python-headless (c:\\users\\andyp\\anaconda3\\lib\\site-packages)\n",
      "WARNING: Ignoring invalid distribution -pencv-python-headless (c:\\users\\andyp\\anaconda3\\lib\\site-packages)\n",
      "WARNING: Ignoring invalid distribution -pencv-python-headless (c:\\users\\andyp\\anaconda3\\lib\\site-packages)\n",
      "WARNING: Ignoring invalid distribution -pencv-python-headless (c:\\users\\andyp\\anaconda3\\lib\\site-packages)\n",
      "WARNING: Ignoring invalid distribution -pencv-python-headless (c:\\users\\andyp\\anaconda3\\lib\\site-packages)\n",
      "\n",
      "[notice] A new release of pip available: 22.2.2 -> 22.3.1\n",
      "[notice] To update, run: python.exe -m pip install --upgrade pip\n"
     ]
    }
   ],
   "source": [
    "# !pip install --trusted-host pypi.python.org --trusted-host files.pythonhosted.org --trusted-host pypi.org  geopy"
   ],
   "metadata": {
    "collapsed": false,
    "pycharm": {
     "name": "#%%\n"
    }
   }
  },
  {
   "cell_type": "code",
   "execution_count": 21,
   "outputs": [
    {
     "data": {
      "text/plain": "        trans_date_trans_time            cc_num        category     amt  \\\n0         2019-01-01 00:00:18  2703186189652095        misc_net    4.97   \n1         2019-01-01 00:00:44      630423337322     grocery_pos  107.23   \n2         2019-01-01 00:00:51    38859492057661   entertainment  220.11   \n3         2019-01-01 00:01:16  3534093764340240   gas_transport   45.00   \n4         2019-01-01 00:03:06   375534208663984        misc_pos   41.96   \n...                       ...               ...             ...     ...   \n1852389   2020-12-31 23:59:07    30560609640617  health_fitness   43.77   \n1852390   2020-12-31 23:59:09  3556613125071656       kids_pets  111.84   \n1852391   2020-12-31 23:59:15  6011724471098086       kids_pets   86.88   \n1852392   2020-12-31 23:59:24     4079773899158          travel    7.99   \n1852393   2020-12-31 23:59:34  4170689372027579   entertainment   38.13   \n\n        gender      lat      long  city_pop         dob  merch_lat  \\\n0            F  36.0788  -81.1781      3495  1988-03-09  36.011293   \n1            F  48.8878 -118.2105       149  1978-06-21  49.159047   \n2            M  42.1808 -112.2620      4154  1962-01-19  43.150704   \n3            M  46.2306 -112.1138      1939  1967-01-12  47.034331   \n4            M  38.4207  -79.4629        99  1986-03-28  38.674999   \n...        ...      ...       ...       ...         ...        ...   \n1852389      M  40.4931  -91.8912       519  1966-02-13  39.946837   \n1852390      M  29.0393  -95.4401     28739  1999-12-27  29.661049   \n1852391      F  46.1966 -118.9017      3684  1981-11-29  46.658340   \n1852392      M  44.6255 -116.4493       129  1965-12-15  44.470525   \n1852393      M  35.6665  -97.4798    116001  1993-05-10  36.210097   \n\n         merch_long  is_fraud  amt_z_score  cat_z_score  \\\n0        -82.048315         0    -0.662108    -0.688297   \n1       -118.186462         0     0.321302     0.317631   \n2       -112.154481         0     1.287064     2.872509   \n3       -112.561071         0    -0.125287    -1.050197   \n4        -78.632459         0    -0.565941     1.312866   \n...             ...       ...          ...          ...   \n1852389  -91.333331         0    -0.167639    -0.047862   \n1852390  -96.186633         0     0.364619     1.163822   \n1852391 -119.715054         0    -0.015209     0.440137   \n1852392 -117.080888         0    -0.592099    -0.007423   \n1852393  -97.036372         0    -0.152588    -0.380698   \n\n                      merch_coord            cust_coord  \n0         (36.011293, -82.048315)   (36.0788, -81.1781)  \n1        (49.159047, -118.186462)  (48.8878, -118.2105)  \n2        (43.150704, -112.154481)   (42.1808, -112.262)  \n3        (47.034331, -112.561071)  (46.2306, -112.1138)  \n4         (38.674999, -78.632459)   (38.4207, -79.4629)  \n...                           ...                   ...  \n1852389   (39.946837, -91.333331)   (40.4931, -91.8912)  \n1852390   (29.661049, -96.186633)   (29.0393, -95.4401)  \n1852391   (46.65834, -119.715054)  (46.1966, -118.9017)  \n1852392  (44.470525, -117.080888)  (44.6255, -116.4493)  \n1852393   (36.210097, -97.036372)   (35.6665, -97.4798)  \n\n[1852394 rows x 16 columns]",
      "text/html": "<div>\n<style scoped>\n    .dataframe tbody tr th:only-of-type {\n        vertical-align: middle;\n    }\n\n    .dataframe tbody tr th {\n        vertical-align: top;\n    }\n\n    .dataframe thead th {\n        text-align: right;\n    }\n</style>\n<table border=\"1\" class=\"dataframe\">\n  <thead>\n    <tr style=\"text-align: right;\">\n      <th></th>\n      <th>trans_date_trans_time</th>\n      <th>cc_num</th>\n      <th>category</th>\n      <th>amt</th>\n      <th>gender</th>\n      <th>lat</th>\n      <th>long</th>\n      <th>city_pop</th>\n      <th>dob</th>\n      <th>merch_lat</th>\n      <th>merch_long</th>\n      <th>is_fraud</th>\n      <th>amt_z_score</th>\n      <th>cat_z_score</th>\n      <th>merch_coord</th>\n      <th>cust_coord</th>\n    </tr>\n  </thead>\n  <tbody>\n    <tr>\n      <th>0</th>\n      <td>2019-01-01 00:00:18</td>\n      <td>2703186189652095</td>\n      <td>misc_net</td>\n      <td>4.97</td>\n      <td>F</td>\n      <td>36.0788</td>\n      <td>-81.1781</td>\n      <td>3495</td>\n      <td>1988-03-09</td>\n      <td>36.011293</td>\n      <td>-82.048315</td>\n      <td>0</td>\n      <td>-0.662108</td>\n      <td>-0.688297</td>\n      <td>(36.011293, -82.048315)</td>\n      <td>(36.0788, -81.1781)</td>\n    </tr>\n    <tr>\n      <th>1</th>\n      <td>2019-01-01 00:00:44</td>\n      <td>630423337322</td>\n      <td>grocery_pos</td>\n      <td>107.23</td>\n      <td>F</td>\n      <td>48.8878</td>\n      <td>-118.2105</td>\n      <td>149</td>\n      <td>1978-06-21</td>\n      <td>49.159047</td>\n      <td>-118.186462</td>\n      <td>0</td>\n      <td>0.321302</td>\n      <td>0.317631</td>\n      <td>(49.159047, -118.186462)</td>\n      <td>(48.8878, -118.2105)</td>\n    </tr>\n    <tr>\n      <th>2</th>\n      <td>2019-01-01 00:00:51</td>\n      <td>38859492057661</td>\n      <td>entertainment</td>\n      <td>220.11</td>\n      <td>M</td>\n      <td>42.1808</td>\n      <td>-112.2620</td>\n      <td>4154</td>\n      <td>1962-01-19</td>\n      <td>43.150704</td>\n      <td>-112.154481</td>\n      <td>0</td>\n      <td>1.287064</td>\n      <td>2.872509</td>\n      <td>(43.150704, -112.154481)</td>\n      <td>(42.1808, -112.262)</td>\n    </tr>\n    <tr>\n      <th>3</th>\n      <td>2019-01-01 00:01:16</td>\n      <td>3534093764340240</td>\n      <td>gas_transport</td>\n      <td>45.00</td>\n      <td>M</td>\n      <td>46.2306</td>\n      <td>-112.1138</td>\n      <td>1939</td>\n      <td>1967-01-12</td>\n      <td>47.034331</td>\n      <td>-112.561071</td>\n      <td>0</td>\n      <td>-0.125287</td>\n      <td>-1.050197</td>\n      <td>(47.034331, -112.561071)</td>\n      <td>(46.2306, -112.1138)</td>\n    </tr>\n    <tr>\n      <th>4</th>\n      <td>2019-01-01 00:03:06</td>\n      <td>375534208663984</td>\n      <td>misc_pos</td>\n      <td>41.96</td>\n      <td>M</td>\n      <td>38.4207</td>\n      <td>-79.4629</td>\n      <td>99</td>\n      <td>1986-03-28</td>\n      <td>38.674999</td>\n      <td>-78.632459</td>\n      <td>0</td>\n      <td>-0.565941</td>\n      <td>1.312866</td>\n      <td>(38.674999, -78.632459)</td>\n      <td>(38.4207, -79.4629)</td>\n    </tr>\n    <tr>\n      <th>...</th>\n      <td>...</td>\n      <td>...</td>\n      <td>...</td>\n      <td>...</td>\n      <td>...</td>\n      <td>...</td>\n      <td>...</td>\n      <td>...</td>\n      <td>...</td>\n      <td>...</td>\n      <td>...</td>\n      <td>...</td>\n      <td>...</td>\n      <td>...</td>\n      <td>...</td>\n      <td>...</td>\n    </tr>\n    <tr>\n      <th>1852389</th>\n      <td>2020-12-31 23:59:07</td>\n      <td>30560609640617</td>\n      <td>health_fitness</td>\n      <td>43.77</td>\n      <td>M</td>\n      <td>40.4931</td>\n      <td>-91.8912</td>\n      <td>519</td>\n      <td>1966-02-13</td>\n      <td>39.946837</td>\n      <td>-91.333331</td>\n      <td>0</td>\n      <td>-0.167639</td>\n      <td>-0.047862</td>\n      <td>(39.946837, -91.333331)</td>\n      <td>(40.4931, -91.8912)</td>\n    </tr>\n    <tr>\n      <th>1852390</th>\n      <td>2020-12-31 23:59:09</td>\n      <td>3556613125071656</td>\n      <td>kids_pets</td>\n      <td>111.84</td>\n      <td>M</td>\n      <td>29.0393</td>\n      <td>-95.4401</td>\n      <td>28739</td>\n      <td>1999-12-27</td>\n      <td>29.661049</td>\n      <td>-96.186633</td>\n      <td>0</td>\n      <td>0.364619</td>\n      <td>1.163822</td>\n      <td>(29.661049, -96.186633)</td>\n      <td>(29.0393, -95.4401)</td>\n    </tr>\n    <tr>\n      <th>1852391</th>\n      <td>2020-12-31 23:59:15</td>\n      <td>6011724471098086</td>\n      <td>kids_pets</td>\n      <td>86.88</td>\n      <td>F</td>\n      <td>46.1966</td>\n      <td>-118.9017</td>\n      <td>3684</td>\n      <td>1981-11-29</td>\n      <td>46.658340</td>\n      <td>-119.715054</td>\n      <td>0</td>\n      <td>-0.015209</td>\n      <td>0.440137</td>\n      <td>(46.65834, -119.715054)</td>\n      <td>(46.1966, -118.9017)</td>\n    </tr>\n    <tr>\n      <th>1852392</th>\n      <td>2020-12-31 23:59:24</td>\n      <td>4079773899158</td>\n      <td>travel</td>\n      <td>7.99</td>\n      <td>M</td>\n      <td>44.6255</td>\n      <td>-116.4493</td>\n      <td>129</td>\n      <td>1965-12-15</td>\n      <td>44.470525</td>\n      <td>-117.080888</td>\n      <td>0</td>\n      <td>-0.592099</td>\n      <td>-0.007423</td>\n      <td>(44.470525, -117.080888)</td>\n      <td>(44.6255, -116.4493)</td>\n    </tr>\n    <tr>\n      <th>1852393</th>\n      <td>2020-12-31 23:59:34</td>\n      <td>4170689372027579</td>\n      <td>entertainment</td>\n      <td>38.13</td>\n      <td>M</td>\n      <td>35.6665</td>\n      <td>-97.4798</td>\n      <td>116001</td>\n      <td>1993-05-10</td>\n      <td>36.210097</td>\n      <td>-97.036372</td>\n      <td>0</td>\n      <td>-0.152588</td>\n      <td>-0.380698</td>\n      <td>(36.210097, -97.036372)</td>\n      <td>(35.6665, -97.4798)</td>\n    </tr>\n  </tbody>\n</table>\n<p>1852394 rows × 16 columns</p>\n</div>"
     },
     "execution_count": 21,
     "metadata": {},
     "output_type": "execute_result"
    }
   ],
   "source": [
    "import geopy.distance\n",
    "\n",
    "data['merch_coord'] = pd.Series(zip(data['merch_lat'] , data['merch_long'])) # 위도, 경도 한 변수로 합치기\n",
    "\n",
    "data['cust_coord'] = pd.Series(zip(data['lat'] , data['long'])) # 위도, 경도 한 변수로 합치기\n",
    "\n",
    "data\n"
   ],
   "metadata": {
    "collapsed": false,
    "pycharm": {
     "name": "#%%\n"
    }
   }
  },
  {
   "cell_type": "code",
   "execution_count": 22,
   "outputs": [
    {
     "data": {
      "text/plain": "        trans_date_trans_time            cc_num        category     amt  \\\n0         2019-01-01 00:00:18  2703186189652095        misc_net    4.97   \n1         2019-01-01 00:00:44      630423337322     grocery_pos  107.23   \n2         2019-01-01 00:00:51    38859492057661   entertainment  220.11   \n3         2019-01-01 00:01:16  3534093764340240   gas_transport   45.00   \n4         2019-01-01 00:03:06   375534208663984        misc_pos   41.96   \n...                       ...               ...             ...     ...   \n1852389   2020-12-31 23:59:07    30560609640617  health_fitness   43.77   \n1852390   2020-12-31 23:59:09  3556613125071656       kids_pets  111.84   \n1852391   2020-12-31 23:59:15  6011724471098086       kids_pets   86.88   \n1852392   2020-12-31 23:59:24     4079773899158          travel    7.99   \n1852393   2020-12-31 23:59:34  4170689372027579   entertainment   38.13   \n\n        gender      lat      long  city_pop         dob  merch_lat  \\\n0            F  36.0788  -81.1781      3495  1988-03-09  36.011293   \n1            F  48.8878 -118.2105       149  1978-06-21  49.159047   \n2            M  42.1808 -112.2620      4154  1962-01-19  43.150704   \n3            M  46.2306 -112.1138      1939  1967-01-12  47.034331   \n4            M  38.4207  -79.4629        99  1986-03-28  38.674999   \n...        ...      ...       ...       ...         ...        ...   \n1852389      M  40.4931  -91.8912       519  1966-02-13  39.946837   \n1852390      M  29.0393  -95.4401     28739  1999-12-27  29.661049   \n1852391      F  46.1966 -118.9017      3684  1981-11-29  46.658340   \n1852392      M  44.6255 -116.4493       129  1965-12-15  44.470525   \n1852393      M  35.6665  -97.4798    116001  1993-05-10  36.210097   \n\n         merch_long  is_fraud  amt_z_score  cat_z_score  \\\n0        -82.048315         0    -0.662108    -0.688297   \n1       -118.186462         0     0.321302     0.317631   \n2       -112.154481         0     1.287064     2.872509   \n3       -112.561071         0    -0.125287    -1.050197   \n4        -78.632459         0    -0.565941     1.312866   \n...             ...       ...          ...          ...   \n1852389  -91.333331         0    -0.167639    -0.047862   \n1852390  -96.186633         0     0.364619     1.163822   \n1852391 -119.715054         0    -0.015209     0.440137   \n1852392 -117.080888         0    -0.592099    -0.007423   \n1852393  -97.036372         0    -0.152588    -0.380698   \n\n                      merch_coord            cust_coord    distance  \n0         (36.011293, -82.048315)   (36.0788, -81.1781)   78.773821  \n1        (49.159047, -118.186462)  (48.8878, -118.2105)   30.216618  \n2        (43.150704, -112.154481)   (42.1808, -112.262)  108.102912  \n3        (47.034331, -112.561071)  (46.2306, -112.1138)   95.685115  \n4         (38.674999, -78.632459)   (38.4207, -79.4629)   77.702395  \n...                           ...                   ...         ...  \n1852389   (39.946837, -91.333331)   (40.4931, -91.8912)   77.032467  \n1852390   (29.661049, -96.186633)   (29.0393, -95.4401)  100.023736  \n1852391   (46.65834, -119.715054)  (46.1966, -118.9017)   80.887812  \n1852392  (44.470525, -117.080888)  (44.6255, -116.4493)   53.060882  \n1852393   (36.210097, -97.036372)   (35.6665, -97.4798)   72.380990  \n\n[1852394 rows x 17 columns]",
      "text/html": "<div>\n<style scoped>\n    .dataframe tbody tr th:only-of-type {\n        vertical-align: middle;\n    }\n\n    .dataframe tbody tr th {\n        vertical-align: top;\n    }\n\n    .dataframe thead th {\n        text-align: right;\n    }\n</style>\n<table border=\"1\" class=\"dataframe\">\n  <thead>\n    <tr style=\"text-align: right;\">\n      <th></th>\n      <th>trans_date_trans_time</th>\n      <th>cc_num</th>\n      <th>category</th>\n      <th>amt</th>\n      <th>gender</th>\n      <th>lat</th>\n      <th>long</th>\n      <th>city_pop</th>\n      <th>dob</th>\n      <th>merch_lat</th>\n      <th>merch_long</th>\n      <th>is_fraud</th>\n      <th>amt_z_score</th>\n      <th>cat_z_score</th>\n      <th>merch_coord</th>\n      <th>cust_coord</th>\n      <th>distance</th>\n    </tr>\n  </thead>\n  <tbody>\n    <tr>\n      <th>0</th>\n      <td>2019-01-01 00:00:18</td>\n      <td>2703186189652095</td>\n      <td>misc_net</td>\n      <td>4.97</td>\n      <td>F</td>\n      <td>36.0788</td>\n      <td>-81.1781</td>\n      <td>3495</td>\n      <td>1988-03-09</td>\n      <td>36.011293</td>\n      <td>-82.048315</td>\n      <td>0</td>\n      <td>-0.662108</td>\n      <td>-0.688297</td>\n      <td>(36.011293, -82.048315)</td>\n      <td>(36.0788, -81.1781)</td>\n      <td>78.773821</td>\n    </tr>\n    <tr>\n      <th>1</th>\n      <td>2019-01-01 00:00:44</td>\n      <td>630423337322</td>\n      <td>grocery_pos</td>\n      <td>107.23</td>\n      <td>F</td>\n      <td>48.8878</td>\n      <td>-118.2105</td>\n      <td>149</td>\n      <td>1978-06-21</td>\n      <td>49.159047</td>\n      <td>-118.186462</td>\n      <td>0</td>\n      <td>0.321302</td>\n      <td>0.317631</td>\n      <td>(49.159047, -118.186462)</td>\n      <td>(48.8878, -118.2105)</td>\n      <td>30.216618</td>\n    </tr>\n    <tr>\n      <th>2</th>\n      <td>2019-01-01 00:00:51</td>\n      <td>38859492057661</td>\n      <td>entertainment</td>\n      <td>220.11</td>\n      <td>M</td>\n      <td>42.1808</td>\n      <td>-112.2620</td>\n      <td>4154</td>\n      <td>1962-01-19</td>\n      <td>43.150704</td>\n      <td>-112.154481</td>\n      <td>0</td>\n      <td>1.287064</td>\n      <td>2.872509</td>\n      <td>(43.150704, -112.154481)</td>\n      <td>(42.1808, -112.262)</td>\n      <td>108.102912</td>\n    </tr>\n    <tr>\n      <th>3</th>\n      <td>2019-01-01 00:01:16</td>\n      <td>3534093764340240</td>\n      <td>gas_transport</td>\n      <td>45.00</td>\n      <td>M</td>\n      <td>46.2306</td>\n      <td>-112.1138</td>\n      <td>1939</td>\n      <td>1967-01-12</td>\n      <td>47.034331</td>\n      <td>-112.561071</td>\n      <td>0</td>\n      <td>-0.125287</td>\n      <td>-1.050197</td>\n      <td>(47.034331, -112.561071)</td>\n      <td>(46.2306, -112.1138)</td>\n      <td>95.685115</td>\n    </tr>\n    <tr>\n      <th>4</th>\n      <td>2019-01-01 00:03:06</td>\n      <td>375534208663984</td>\n      <td>misc_pos</td>\n      <td>41.96</td>\n      <td>M</td>\n      <td>38.4207</td>\n      <td>-79.4629</td>\n      <td>99</td>\n      <td>1986-03-28</td>\n      <td>38.674999</td>\n      <td>-78.632459</td>\n      <td>0</td>\n      <td>-0.565941</td>\n      <td>1.312866</td>\n      <td>(38.674999, -78.632459)</td>\n      <td>(38.4207, -79.4629)</td>\n      <td>77.702395</td>\n    </tr>\n    <tr>\n      <th>...</th>\n      <td>...</td>\n      <td>...</td>\n      <td>...</td>\n      <td>...</td>\n      <td>...</td>\n      <td>...</td>\n      <td>...</td>\n      <td>...</td>\n      <td>...</td>\n      <td>...</td>\n      <td>...</td>\n      <td>...</td>\n      <td>...</td>\n      <td>...</td>\n      <td>...</td>\n      <td>...</td>\n      <td>...</td>\n    </tr>\n    <tr>\n      <th>1852389</th>\n      <td>2020-12-31 23:59:07</td>\n      <td>30560609640617</td>\n      <td>health_fitness</td>\n      <td>43.77</td>\n      <td>M</td>\n      <td>40.4931</td>\n      <td>-91.8912</td>\n      <td>519</td>\n      <td>1966-02-13</td>\n      <td>39.946837</td>\n      <td>-91.333331</td>\n      <td>0</td>\n      <td>-0.167639</td>\n      <td>-0.047862</td>\n      <td>(39.946837, -91.333331)</td>\n      <td>(40.4931, -91.8912)</td>\n      <td>77.032467</td>\n    </tr>\n    <tr>\n      <th>1852390</th>\n      <td>2020-12-31 23:59:09</td>\n      <td>3556613125071656</td>\n      <td>kids_pets</td>\n      <td>111.84</td>\n      <td>M</td>\n      <td>29.0393</td>\n      <td>-95.4401</td>\n      <td>28739</td>\n      <td>1999-12-27</td>\n      <td>29.661049</td>\n      <td>-96.186633</td>\n      <td>0</td>\n      <td>0.364619</td>\n      <td>1.163822</td>\n      <td>(29.661049, -96.186633)</td>\n      <td>(29.0393, -95.4401)</td>\n      <td>100.023736</td>\n    </tr>\n    <tr>\n      <th>1852391</th>\n      <td>2020-12-31 23:59:15</td>\n      <td>6011724471098086</td>\n      <td>kids_pets</td>\n      <td>86.88</td>\n      <td>F</td>\n      <td>46.1966</td>\n      <td>-118.9017</td>\n      <td>3684</td>\n      <td>1981-11-29</td>\n      <td>46.658340</td>\n      <td>-119.715054</td>\n      <td>0</td>\n      <td>-0.015209</td>\n      <td>0.440137</td>\n      <td>(46.65834, -119.715054)</td>\n      <td>(46.1966, -118.9017)</td>\n      <td>80.887812</td>\n    </tr>\n    <tr>\n      <th>1852392</th>\n      <td>2020-12-31 23:59:24</td>\n      <td>4079773899158</td>\n      <td>travel</td>\n      <td>7.99</td>\n      <td>M</td>\n      <td>44.6255</td>\n      <td>-116.4493</td>\n      <td>129</td>\n      <td>1965-12-15</td>\n      <td>44.470525</td>\n      <td>-117.080888</td>\n      <td>0</td>\n      <td>-0.592099</td>\n      <td>-0.007423</td>\n      <td>(44.470525, -117.080888)</td>\n      <td>(44.6255, -116.4493)</td>\n      <td>53.060882</td>\n    </tr>\n    <tr>\n      <th>1852393</th>\n      <td>2020-12-31 23:59:34</td>\n      <td>4170689372027579</td>\n      <td>entertainment</td>\n      <td>38.13</td>\n      <td>M</td>\n      <td>35.6665</td>\n      <td>-97.4798</td>\n      <td>116001</td>\n      <td>1993-05-10</td>\n      <td>36.210097</td>\n      <td>-97.036372</td>\n      <td>0</td>\n      <td>-0.152588</td>\n      <td>-0.380698</td>\n      <td>(36.210097, -97.036372)</td>\n      <td>(35.6665, -97.4798)</td>\n      <td>72.380990</td>\n    </tr>\n  </tbody>\n</table>\n<p>1852394 rows × 17 columns</p>\n</div>"
     },
     "execution_count": 22,
     "metadata": {},
     "output_type": "execute_result"
    }
   ],
   "source": [
    "data['distance'] = data.apply(lambda x : geopy.distance.distance(x['merch_coord'] , x['cust_coord']).km , axis =1 ) # 거리계산\n",
    "\n",
    "data"
   ],
   "metadata": {
    "collapsed": false,
    "pycharm": {
     "name": "#%%\n"
    }
   }
  },
  {
   "cell_type": "code",
   "execution_count": null,
   "outputs": [],
   "source": [
    "# import time\n",
    "#\n",
    "# start_time = time.time()\n",
    "# data['distance'] = data.apply(lambda x : geopy.distance.distance(x['merch_coord'] , x['cust_coord']).km , axis =1 ) # 거리계산\n",
    "# end_time = time.time()\n",
    "#\n",
    "# print(end_time - start_time)"
   ],
   "metadata": {
    "collapsed": false,
    "pycharm": {
     "name": "#%%\n"
    }
   }
  },
  {
   "cell_type": "code",
   "execution_count": 23,
   "outputs": [
    {
     "data": {
      "text/plain": "  trans_date_trans_time            cc_num       category     amt gender  \\\n0   2019-01-01 00:00:18  2703186189652095       misc_net    4.97      F   \n1   2019-01-01 00:00:44      630423337322    grocery_pos  107.23      F   \n2   2019-01-01 00:00:51    38859492057661  entertainment  220.11      M   \n3   2019-01-01 00:01:16  3534093764340240  gas_transport   45.00      M   \n4   2019-01-01 00:03:06   375534208663984       misc_pos   41.96      M   \n\n       lat      long  city_pop         dob  merch_lat  merch_long  is_fraud  \\\n0  36.0788  -81.1781      3495  1988-03-09  36.011293  -82.048315         0   \n1  48.8878 -118.2105       149  1978-06-21  49.159047 -118.186462         0   \n2  42.1808 -112.2620      4154  1962-01-19  43.150704 -112.154481         0   \n3  46.2306 -112.1138      1939  1967-01-12  47.034331 -112.561071         0   \n4  38.4207  -79.4629        99  1986-03-28  38.674999  -78.632459         0   \n\n   amt_z_score  cat_z_score               merch_coord            cust_coord  \\\n0    -0.662108    -0.688297   (36.011293, -82.048315)   (36.0788, -81.1781)   \n1     0.321302     0.317631  (49.159047, -118.186462)  (48.8878, -118.2105)   \n2     1.287064     2.872509  (43.150704, -112.154481)   (42.1808, -112.262)   \n3    -0.125287    -1.050197  (47.034331, -112.561071)  (46.2306, -112.1138)   \n4    -0.565941     1.312866   (38.674999, -78.632459)   (38.4207, -79.4629)   \n\n     distance  distance_z_score  \n0   78.773821          0.030974  \n1   30.216618         -1.475224  \n2  108.102912          1.160572  \n3   95.685115          0.818063  \n4   77.702395          0.064037  ",
      "text/html": "<div>\n<style scoped>\n    .dataframe tbody tr th:only-of-type {\n        vertical-align: middle;\n    }\n\n    .dataframe tbody tr th {\n        vertical-align: top;\n    }\n\n    .dataframe thead th {\n        text-align: right;\n    }\n</style>\n<table border=\"1\" class=\"dataframe\">\n  <thead>\n    <tr style=\"text-align: right;\">\n      <th></th>\n      <th>trans_date_trans_time</th>\n      <th>cc_num</th>\n      <th>category</th>\n      <th>amt</th>\n      <th>gender</th>\n      <th>lat</th>\n      <th>long</th>\n      <th>city_pop</th>\n      <th>dob</th>\n      <th>merch_lat</th>\n      <th>merch_long</th>\n      <th>is_fraud</th>\n      <th>amt_z_score</th>\n      <th>cat_z_score</th>\n      <th>merch_coord</th>\n      <th>cust_coord</th>\n      <th>distance</th>\n      <th>distance_z_score</th>\n    </tr>\n  </thead>\n  <tbody>\n    <tr>\n      <th>0</th>\n      <td>2019-01-01 00:00:18</td>\n      <td>2703186189652095</td>\n      <td>misc_net</td>\n      <td>4.97</td>\n      <td>F</td>\n      <td>36.0788</td>\n      <td>-81.1781</td>\n      <td>3495</td>\n      <td>1988-03-09</td>\n      <td>36.011293</td>\n      <td>-82.048315</td>\n      <td>0</td>\n      <td>-0.662108</td>\n      <td>-0.688297</td>\n      <td>(36.011293, -82.048315)</td>\n      <td>(36.0788, -81.1781)</td>\n      <td>78.773821</td>\n      <td>0.030974</td>\n    </tr>\n    <tr>\n      <th>1</th>\n      <td>2019-01-01 00:00:44</td>\n      <td>630423337322</td>\n      <td>grocery_pos</td>\n      <td>107.23</td>\n      <td>F</td>\n      <td>48.8878</td>\n      <td>-118.2105</td>\n      <td>149</td>\n      <td>1978-06-21</td>\n      <td>49.159047</td>\n      <td>-118.186462</td>\n      <td>0</td>\n      <td>0.321302</td>\n      <td>0.317631</td>\n      <td>(49.159047, -118.186462)</td>\n      <td>(48.8878, -118.2105)</td>\n      <td>30.216618</td>\n      <td>-1.475224</td>\n    </tr>\n    <tr>\n      <th>2</th>\n      <td>2019-01-01 00:00:51</td>\n      <td>38859492057661</td>\n      <td>entertainment</td>\n      <td>220.11</td>\n      <td>M</td>\n      <td>42.1808</td>\n      <td>-112.2620</td>\n      <td>4154</td>\n      <td>1962-01-19</td>\n      <td>43.150704</td>\n      <td>-112.154481</td>\n      <td>0</td>\n      <td>1.287064</td>\n      <td>2.872509</td>\n      <td>(43.150704, -112.154481)</td>\n      <td>(42.1808, -112.262)</td>\n      <td>108.102912</td>\n      <td>1.160572</td>\n    </tr>\n    <tr>\n      <th>3</th>\n      <td>2019-01-01 00:01:16</td>\n      <td>3534093764340240</td>\n      <td>gas_transport</td>\n      <td>45.00</td>\n      <td>M</td>\n      <td>46.2306</td>\n      <td>-112.1138</td>\n      <td>1939</td>\n      <td>1967-01-12</td>\n      <td>47.034331</td>\n      <td>-112.561071</td>\n      <td>0</td>\n      <td>-0.125287</td>\n      <td>-1.050197</td>\n      <td>(47.034331, -112.561071)</td>\n      <td>(46.2306, -112.1138)</td>\n      <td>95.685115</td>\n      <td>0.818063</td>\n    </tr>\n    <tr>\n      <th>4</th>\n      <td>2019-01-01 00:03:06</td>\n      <td>375534208663984</td>\n      <td>misc_pos</td>\n      <td>41.96</td>\n      <td>M</td>\n      <td>38.4207</td>\n      <td>-79.4629</td>\n      <td>99</td>\n      <td>1986-03-28</td>\n      <td>38.674999</td>\n      <td>-78.632459</td>\n      <td>0</td>\n      <td>-0.565941</td>\n      <td>1.312866</td>\n      <td>(38.674999, -78.632459)</td>\n      <td>(38.4207, -79.4629)</td>\n      <td>77.702395</td>\n      <td>0.064037</td>\n    </tr>\n  </tbody>\n</table>\n</div>"
     },
     "execution_count": 23,
     "metadata": {},
     "output_type": "execute_result"
    }
   ],
   "source": [
    "distance_info = data.groupby('cc_num').agg(['mean' , 'std'])['distance'].reset_index() # cc_num 별, 거리 정보 계산\n",
    "\n",
    "data = data.merge(distance_info , on = 'cc_num' , how = 'left') # 데이터 합치기\n",
    "\n",
    "data['distance_z_score'] = (data['distance'] - data['mean']) / data['std'] # z-score 계산\n",
    "\n",
    "data.drop(['mean' , 'std'] , axis =1 , inplace = True) # 변수 제거\n",
    "\n",
    "data.head()"
   ],
   "metadata": {
    "collapsed": false,
    "pycharm": {
     "name": "#%%\n"
    }
   }
  },
  {
   "cell_type": "code",
   "execution_count": 24,
   "outputs": [
    {
     "data": {
      "text/plain": "        trans_date_trans_time            cc_num        category     amt  \\\n0         2019-01-01 00:00:18  2703186189652095        misc_net    4.97   \n1         2019-01-01 00:00:44      630423337322     grocery_pos  107.23   \n2         2019-01-01 00:00:51    38859492057661   entertainment  220.11   \n3         2019-01-01 00:01:16  3534093764340240   gas_transport   45.00   \n4         2019-01-01 00:03:06   375534208663984        misc_pos   41.96   \n...                       ...               ...             ...     ...   \n1852389   2020-12-31 23:59:07    30560609640617  health_fitness   43.77   \n1852390   2020-12-31 23:59:09  3556613125071656       kids_pets  111.84   \n1852391   2020-12-31 23:59:15  6011724471098086       kids_pets   86.88   \n1852392   2020-12-31 23:59:24     4079773899158          travel    7.99   \n1852393   2020-12-31 23:59:34  4170689372027579   entertainment   38.13   \n\n        gender      lat      long  city_pop         dob  merch_lat  \\\n0            F  36.0788  -81.1781      3495  1988-03-09  36.011293   \n1            F  48.8878 -118.2105       149  1978-06-21  49.159047   \n2            M  42.1808 -112.2620      4154  1962-01-19  43.150704   \n3            M  46.2306 -112.1138      1939  1967-01-12  47.034331   \n4            M  38.4207  -79.4629        99  1986-03-28  38.674999   \n...        ...      ...       ...       ...         ...        ...   \n1852389      M  40.4931  -91.8912       519  1966-02-13  39.946837   \n1852390      M  29.0393  -95.4401     28739  1999-12-27  29.661049   \n1852391      F  46.1966 -118.9017      3684  1981-11-29  46.658340   \n1852392      M  44.6255 -116.4493       129  1965-12-15  44.470525   \n1852393      M  35.6665  -97.4798    116001  1993-05-10  36.210097   \n\n         merch_long  is_fraud  amt_z_score  cat_z_score  \\\n0        -82.048315         0    -0.662108    -0.688297   \n1       -118.186462         0     0.321302     0.317631   \n2       -112.154481         0     1.287064     2.872509   \n3       -112.561071         0    -0.125287    -1.050197   \n4        -78.632459         0    -0.565941     1.312866   \n...             ...       ...          ...          ...   \n1852389  -91.333331         0    -0.167639    -0.047862   \n1852390  -96.186633         0     0.364619     1.163822   \n1852391 -119.715054         0    -0.015209     0.440137   \n1852392 -117.080888         0    -0.592099    -0.007423   \n1852393  -97.036372         0    -0.152588    -0.380698   \n\n                      merch_coord            cust_coord    distance  \\\n0         (36.011293, -82.048315)   (36.0788, -81.1781)   78.773821   \n1        (49.159047, -118.186462)  (48.8878, -118.2105)   30.216618   \n2        (43.150704, -112.154481)   (42.1808, -112.262)  108.102912   \n3        (47.034331, -112.561071)  (46.2306, -112.1138)   95.685115   \n4         (38.674999, -78.632459)   (38.4207, -79.4629)   77.702395   \n...                           ...                   ...         ...   \n1852389   (39.946837, -91.333331)   (40.4931, -91.8912)   77.032467   \n1852390   (29.661049, -96.186633)   (29.0393, -95.4401)  100.023736   \n1852391   (46.65834, -119.715054)  (46.1966, -118.9017)   80.887812   \n1852392  (44.470525, -117.080888)  (44.6255, -116.4493)   53.060882   \n1852393   (36.210097, -97.036372)   (35.6665, -97.4798)   72.380990   \n\n         distance_z_score  age  \n0                0.030974   33  \n1               -1.475224   43  \n2                1.160572   59  \n3                0.818063   54  \n4                0.064037   35  \n...                   ...  ...  \n1852389          0.052081   55  \n1852390          0.693848   22  \n1852391          0.288293   40  \n1852392         -0.730061   56  \n1852393         -0.159439   28  \n\n[1852394 rows x 19 columns]",
      "text/html": "<div>\n<style scoped>\n    .dataframe tbody tr th:only-of-type {\n        vertical-align: middle;\n    }\n\n    .dataframe tbody tr th {\n        vertical-align: top;\n    }\n\n    .dataframe thead th {\n        text-align: right;\n    }\n</style>\n<table border=\"1\" class=\"dataframe\">\n  <thead>\n    <tr style=\"text-align: right;\">\n      <th></th>\n      <th>trans_date_trans_time</th>\n      <th>cc_num</th>\n      <th>category</th>\n      <th>amt</th>\n      <th>gender</th>\n      <th>lat</th>\n      <th>long</th>\n      <th>city_pop</th>\n      <th>dob</th>\n      <th>merch_lat</th>\n      <th>merch_long</th>\n      <th>is_fraud</th>\n      <th>amt_z_score</th>\n      <th>cat_z_score</th>\n      <th>merch_coord</th>\n      <th>cust_coord</th>\n      <th>distance</th>\n      <th>distance_z_score</th>\n      <th>age</th>\n    </tr>\n  </thead>\n  <tbody>\n    <tr>\n      <th>0</th>\n      <td>2019-01-01 00:00:18</td>\n      <td>2703186189652095</td>\n      <td>misc_net</td>\n      <td>4.97</td>\n      <td>F</td>\n      <td>36.0788</td>\n      <td>-81.1781</td>\n      <td>3495</td>\n      <td>1988-03-09</td>\n      <td>36.011293</td>\n      <td>-82.048315</td>\n      <td>0</td>\n      <td>-0.662108</td>\n      <td>-0.688297</td>\n      <td>(36.011293, -82.048315)</td>\n      <td>(36.0788, -81.1781)</td>\n      <td>78.773821</td>\n      <td>0.030974</td>\n      <td>33</td>\n    </tr>\n    <tr>\n      <th>1</th>\n      <td>2019-01-01 00:00:44</td>\n      <td>630423337322</td>\n      <td>grocery_pos</td>\n      <td>107.23</td>\n      <td>F</td>\n      <td>48.8878</td>\n      <td>-118.2105</td>\n      <td>149</td>\n      <td>1978-06-21</td>\n      <td>49.159047</td>\n      <td>-118.186462</td>\n      <td>0</td>\n      <td>0.321302</td>\n      <td>0.317631</td>\n      <td>(49.159047, -118.186462)</td>\n      <td>(48.8878, -118.2105)</td>\n      <td>30.216618</td>\n      <td>-1.475224</td>\n      <td>43</td>\n    </tr>\n    <tr>\n      <th>2</th>\n      <td>2019-01-01 00:00:51</td>\n      <td>38859492057661</td>\n      <td>entertainment</td>\n      <td>220.11</td>\n      <td>M</td>\n      <td>42.1808</td>\n      <td>-112.2620</td>\n      <td>4154</td>\n      <td>1962-01-19</td>\n      <td>43.150704</td>\n      <td>-112.154481</td>\n      <td>0</td>\n      <td>1.287064</td>\n      <td>2.872509</td>\n      <td>(43.150704, -112.154481)</td>\n      <td>(42.1808, -112.262)</td>\n      <td>108.102912</td>\n      <td>1.160572</td>\n      <td>59</td>\n    </tr>\n    <tr>\n      <th>3</th>\n      <td>2019-01-01 00:01:16</td>\n      <td>3534093764340240</td>\n      <td>gas_transport</td>\n      <td>45.00</td>\n      <td>M</td>\n      <td>46.2306</td>\n      <td>-112.1138</td>\n      <td>1939</td>\n      <td>1967-01-12</td>\n      <td>47.034331</td>\n      <td>-112.561071</td>\n      <td>0</td>\n      <td>-0.125287</td>\n      <td>-1.050197</td>\n      <td>(47.034331, -112.561071)</td>\n      <td>(46.2306, -112.1138)</td>\n      <td>95.685115</td>\n      <td>0.818063</td>\n      <td>54</td>\n    </tr>\n    <tr>\n      <th>4</th>\n      <td>2019-01-01 00:03:06</td>\n      <td>375534208663984</td>\n      <td>misc_pos</td>\n      <td>41.96</td>\n      <td>M</td>\n      <td>38.4207</td>\n      <td>-79.4629</td>\n      <td>99</td>\n      <td>1986-03-28</td>\n      <td>38.674999</td>\n      <td>-78.632459</td>\n      <td>0</td>\n      <td>-0.565941</td>\n      <td>1.312866</td>\n      <td>(38.674999, -78.632459)</td>\n      <td>(38.4207, -79.4629)</td>\n      <td>77.702395</td>\n      <td>0.064037</td>\n      <td>35</td>\n    </tr>\n    <tr>\n      <th>...</th>\n      <td>...</td>\n      <td>...</td>\n      <td>...</td>\n      <td>...</td>\n      <td>...</td>\n      <td>...</td>\n      <td>...</td>\n      <td>...</td>\n      <td>...</td>\n      <td>...</td>\n      <td>...</td>\n      <td>...</td>\n      <td>...</td>\n      <td>...</td>\n      <td>...</td>\n      <td>...</td>\n      <td>...</td>\n      <td>...</td>\n      <td>...</td>\n    </tr>\n    <tr>\n      <th>1852389</th>\n      <td>2020-12-31 23:59:07</td>\n      <td>30560609640617</td>\n      <td>health_fitness</td>\n      <td>43.77</td>\n      <td>M</td>\n      <td>40.4931</td>\n      <td>-91.8912</td>\n      <td>519</td>\n      <td>1966-02-13</td>\n      <td>39.946837</td>\n      <td>-91.333331</td>\n      <td>0</td>\n      <td>-0.167639</td>\n      <td>-0.047862</td>\n      <td>(39.946837, -91.333331)</td>\n      <td>(40.4931, -91.8912)</td>\n      <td>77.032467</td>\n      <td>0.052081</td>\n      <td>55</td>\n    </tr>\n    <tr>\n      <th>1852390</th>\n      <td>2020-12-31 23:59:09</td>\n      <td>3556613125071656</td>\n      <td>kids_pets</td>\n      <td>111.84</td>\n      <td>M</td>\n      <td>29.0393</td>\n      <td>-95.4401</td>\n      <td>28739</td>\n      <td>1999-12-27</td>\n      <td>29.661049</td>\n      <td>-96.186633</td>\n      <td>0</td>\n      <td>0.364619</td>\n      <td>1.163822</td>\n      <td>(29.661049, -96.186633)</td>\n      <td>(29.0393, -95.4401)</td>\n      <td>100.023736</td>\n      <td>0.693848</td>\n      <td>22</td>\n    </tr>\n    <tr>\n      <th>1852391</th>\n      <td>2020-12-31 23:59:15</td>\n      <td>6011724471098086</td>\n      <td>kids_pets</td>\n      <td>86.88</td>\n      <td>F</td>\n      <td>46.1966</td>\n      <td>-118.9017</td>\n      <td>3684</td>\n      <td>1981-11-29</td>\n      <td>46.658340</td>\n      <td>-119.715054</td>\n      <td>0</td>\n      <td>-0.015209</td>\n      <td>0.440137</td>\n      <td>(46.65834, -119.715054)</td>\n      <td>(46.1966, -118.9017)</td>\n      <td>80.887812</td>\n      <td>0.288293</td>\n      <td>40</td>\n    </tr>\n    <tr>\n      <th>1852392</th>\n      <td>2020-12-31 23:59:24</td>\n      <td>4079773899158</td>\n      <td>travel</td>\n      <td>7.99</td>\n      <td>M</td>\n      <td>44.6255</td>\n      <td>-116.4493</td>\n      <td>129</td>\n      <td>1965-12-15</td>\n      <td>44.470525</td>\n      <td>-117.080888</td>\n      <td>0</td>\n      <td>-0.592099</td>\n      <td>-0.007423</td>\n      <td>(44.470525, -117.080888)</td>\n      <td>(44.6255, -116.4493)</td>\n      <td>53.060882</td>\n      <td>-0.730061</td>\n      <td>56</td>\n    </tr>\n    <tr>\n      <th>1852393</th>\n      <td>2020-12-31 23:59:34</td>\n      <td>4170689372027579</td>\n      <td>entertainment</td>\n      <td>38.13</td>\n      <td>M</td>\n      <td>35.6665</td>\n      <td>-97.4798</td>\n      <td>116001</td>\n      <td>1993-05-10</td>\n      <td>36.210097</td>\n      <td>-97.036372</td>\n      <td>0</td>\n      <td>-0.152588</td>\n      <td>-0.380698</td>\n      <td>(36.210097, -97.036372)</td>\n      <td>(35.6665, -97.4798)</td>\n      <td>72.380990</td>\n      <td>-0.159439</td>\n      <td>28</td>\n    </tr>\n  </tbody>\n</table>\n<p>1852394 rows × 19 columns</p>\n</div>"
     },
     "execution_count": 24,
     "metadata": {},
     "output_type": "execute_result"
    }
   ],
   "source": [
    "data['age'] = 2021 - pd.to_datetime(data['dob']).dt.year # dt.year 활요한 나이 계산\n",
    "\n",
    "data"
   ],
   "metadata": {
    "collapsed": false,
    "pycharm": {
     "name": "#%%\n"
    }
   }
  },
  {
   "cell_type": "code",
   "execution_count": 25,
   "outputs": [
    {
     "data": {
      "text/plain": "        trans_date_trans_time            cc_num     amt      lat      long  \\\n0         2019-01-01 00:00:18  2703186189652095    4.97  36.0788  -81.1781   \n1         2019-01-01 00:00:44      630423337322  107.23  48.8878 -118.2105   \n2         2019-01-01 00:00:51    38859492057661  220.11  42.1808 -112.2620   \n3         2019-01-01 00:01:16  3534093764340240   45.00  46.2306 -112.1138   \n4         2019-01-01 00:03:06   375534208663984   41.96  38.4207  -79.4629   \n...                       ...               ...     ...      ...       ...   \n1852389   2020-12-31 23:59:07    30560609640617   43.77  40.4931  -91.8912   \n1852390   2020-12-31 23:59:09  3556613125071656  111.84  29.0393  -95.4401   \n1852391   2020-12-31 23:59:15  6011724471098086   86.88  46.1966 -118.9017   \n1852392   2020-12-31 23:59:24     4079773899158    7.99  44.6255 -116.4493   \n1852393   2020-12-31 23:59:34  4170689372027579   38.13  35.6665  -97.4798   \n\n         city_pop         dob  merch_lat  merch_long  is_fraud  ...  \\\n0            3495  1988-03-09  36.011293  -82.048315         0  ...   \n1             149  1978-06-21  49.159047 -118.186462         0  ...   \n2            4154  1962-01-19  43.150704 -112.154481         0  ...   \n3            1939  1967-01-12  47.034331 -112.561071         0  ...   \n4              99  1986-03-28  38.674999  -78.632459         0  ...   \n...           ...         ...        ...         ...       ...  ...   \n1852389       519  1966-02-13  39.946837  -91.333331         0  ...   \n1852390     28739  1999-12-27  29.661049  -96.186633         0  ...   \n1852391      3684  1981-11-29  46.658340 -119.715054         0  ...   \n1852392       129  1965-12-15  44.470525 -117.080888         0  ...   \n1852393    116001  1993-05-10  36.210097  -97.036372         0  ...   \n\n         category_health_fitness  category_home category_kids_pets  \\\n0                              0              0                  0   \n1                              0              0                  0   \n2                              0              0                  0   \n3                              0              0                  0   \n4                              0              0                  0   \n...                          ...            ...                ...   \n1852389                        1              0                  0   \n1852390                        0              0                  1   \n1852391                        0              0                  1   \n1852392                        0              0                  0   \n1852393                        0              0                  0   \n\n        category_misc_net  category_misc_pos  category_personal_care  \\\n0                       1                  0                       0   \n1                       0                  0                       0   \n2                       0                  0                       0   \n3                       0                  0                       0   \n4                       0                  1                       0   \n...                   ...                ...                     ...   \n1852389                 0                  0                       0   \n1852390                 0                  0                       0   \n1852391                 0                  0                       0   \n1852392                 0                  0                       0   \n1852393                 0                  0                       0   \n\n         category_shopping_net  category_shopping_pos  category_travel  \\\n0                            0                      0                0   \n1                            0                      0                0   \n2                            0                      0                0   \n3                            0                      0                0   \n4                            0                      0                0   \n...                        ...                    ...              ...   \n1852389                      0                      0                0   \n1852390                      0                      0                0   \n1852391                      0                      0                0   \n1852392                      0                      0                1   \n1852393                      0                      0                0   \n\n         gender_M  \n0               0  \n1               0  \n2               1  \n3               1  \n4               1  \n...           ...  \n1852389         1  \n1852390         1  \n1852391         0  \n1852392         1  \n1852393         1  \n\n[1852394 rows x 31 columns]",
      "text/html": "<div>\n<style scoped>\n    .dataframe tbody tr th:only-of-type {\n        vertical-align: middle;\n    }\n\n    .dataframe tbody tr th {\n        vertical-align: top;\n    }\n\n    .dataframe thead th {\n        text-align: right;\n    }\n</style>\n<table border=\"1\" class=\"dataframe\">\n  <thead>\n    <tr style=\"text-align: right;\">\n      <th></th>\n      <th>trans_date_trans_time</th>\n      <th>cc_num</th>\n      <th>amt</th>\n      <th>lat</th>\n      <th>long</th>\n      <th>city_pop</th>\n      <th>dob</th>\n      <th>merch_lat</th>\n      <th>merch_long</th>\n      <th>is_fraud</th>\n      <th>...</th>\n      <th>category_health_fitness</th>\n      <th>category_home</th>\n      <th>category_kids_pets</th>\n      <th>category_misc_net</th>\n      <th>category_misc_pos</th>\n      <th>category_personal_care</th>\n      <th>category_shopping_net</th>\n      <th>category_shopping_pos</th>\n      <th>category_travel</th>\n      <th>gender_M</th>\n    </tr>\n  </thead>\n  <tbody>\n    <tr>\n      <th>0</th>\n      <td>2019-01-01 00:00:18</td>\n      <td>2703186189652095</td>\n      <td>4.97</td>\n      <td>36.0788</td>\n      <td>-81.1781</td>\n      <td>3495</td>\n      <td>1988-03-09</td>\n      <td>36.011293</td>\n      <td>-82.048315</td>\n      <td>0</td>\n      <td>...</td>\n      <td>0</td>\n      <td>0</td>\n      <td>0</td>\n      <td>1</td>\n      <td>0</td>\n      <td>0</td>\n      <td>0</td>\n      <td>0</td>\n      <td>0</td>\n      <td>0</td>\n    </tr>\n    <tr>\n      <th>1</th>\n      <td>2019-01-01 00:00:44</td>\n      <td>630423337322</td>\n      <td>107.23</td>\n      <td>48.8878</td>\n      <td>-118.2105</td>\n      <td>149</td>\n      <td>1978-06-21</td>\n      <td>49.159047</td>\n      <td>-118.186462</td>\n      <td>0</td>\n      <td>...</td>\n      <td>0</td>\n      <td>0</td>\n      <td>0</td>\n      <td>0</td>\n      <td>0</td>\n      <td>0</td>\n      <td>0</td>\n      <td>0</td>\n      <td>0</td>\n      <td>0</td>\n    </tr>\n    <tr>\n      <th>2</th>\n      <td>2019-01-01 00:00:51</td>\n      <td>38859492057661</td>\n      <td>220.11</td>\n      <td>42.1808</td>\n      <td>-112.2620</td>\n      <td>4154</td>\n      <td>1962-01-19</td>\n      <td>43.150704</td>\n      <td>-112.154481</td>\n      <td>0</td>\n      <td>...</td>\n      <td>0</td>\n      <td>0</td>\n      <td>0</td>\n      <td>0</td>\n      <td>0</td>\n      <td>0</td>\n      <td>0</td>\n      <td>0</td>\n      <td>0</td>\n      <td>1</td>\n    </tr>\n    <tr>\n      <th>3</th>\n      <td>2019-01-01 00:01:16</td>\n      <td>3534093764340240</td>\n      <td>45.00</td>\n      <td>46.2306</td>\n      <td>-112.1138</td>\n      <td>1939</td>\n      <td>1967-01-12</td>\n      <td>47.034331</td>\n      <td>-112.561071</td>\n      <td>0</td>\n      <td>...</td>\n      <td>0</td>\n      <td>0</td>\n      <td>0</td>\n      <td>0</td>\n      <td>0</td>\n      <td>0</td>\n      <td>0</td>\n      <td>0</td>\n      <td>0</td>\n      <td>1</td>\n    </tr>\n    <tr>\n      <th>4</th>\n      <td>2019-01-01 00:03:06</td>\n      <td>375534208663984</td>\n      <td>41.96</td>\n      <td>38.4207</td>\n      <td>-79.4629</td>\n      <td>99</td>\n      <td>1986-03-28</td>\n      <td>38.674999</td>\n      <td>-78.632459</td>\n      <td>0</td>\n      <td>...</td>\n      <td>0</td>\n      <td>0</td>\n      <td>0</td>\n      <td>0</td>\n      <td>1</td>\n      <td>0</td>\n      <td>0</td>\n      <td>0</td>\n      <td>0</td>\n      <td>1</td>\n    </tr>\n    <tr>\n      <th>...</th>\n      <td>...</td>\n      <td>...</td>\n      <td>...</td>\n      <td>...</td>\n      <td>...</td>\n      <td>...</td>\n      <td>...</td>\n      <td>...</td>\n      <td>...</td>\n      <td>...</td>\n      <td>...</td>\n      <td>...</td>\n      <td>...</td>\n      <td>...</td>\n      <td>...</td>\n      <td>...</td>\n      <td>...</td>\n      <td>...</td>\n      <td>...</td>\n      <td>...</td>\n      <td>...</td>\n    </tr>\n    <tr>\n      <th>1852389</th>\n      <td>2020-12-31 23:59:07</td>\n      <td>30560609640617</td>\n      <td>43.77</td>\n      <td>40.4931</td>\n      <td>-91.8912</td>\n      <td>519</td>\n      <td>1966-02-13</td>\n      <td>39.946837</td>\n      <td>-91.333331</td>\n      <td>0</td>\n      <td>...</td>\n      <td>1</td>\n      <td>0</td>\n      <td>0</td>\n      <td>0</td>\n      <td>0</td>\n      <td>0</td>\n      <td>0</td>\n      <td>0</td>\n      <td>0</td>\n      <td>1</td>\n    </tr>\n    <tr>\n      <th>1852390</th>\n      <td>2020-12-31 23:59:09</td>\n      <td>3556613125071656</td>\n      <td>111.84</td>\n      <td>29.0393</td>\n      <td>-95.4401</td>\n      <td>28739</td>\n      <td>1999-12-27</td>\n      <td>29.661049</td>\n      <td>-96.186633</td>\n      <td>0</td>\n      <td>...</td>\n      <td>0</td>\n      <td>0</td>\n      <td>1</td>\n      <td>0</td>\n      <td>0</td>\n      <td>0</td>\n      <td>0</td>\n      <td>0</td>\n      <td>0</td>\n      <td>1</td>\n    </tr>\n    <tr>\n      <th>1852391</th>\n      <td>2020-12-31 23:59:15</td>\n      <td>6011724471098086</td>\n      <td>86.88</td>\n      <td>46.1966</td>\n      <td>-118.9017</td>\n      <td>3684</td>\n      <td>1981-11-29</td>\n      <td>46.658340</td>\n      <td>-119.715054</td>\n      <td>0</td>\n      <td>...</td>\n      <td>0</td>\n      <td>0</td>\n      <td>1</td>\n      <td>0</td>\n      <td>0</td>\n      <td>0</td>\n      <td>0</td>\n      <td>0</td>\n      <td>0</td>\n      <td>0</td>\n    </tr>\n    <tr>\n      <th>1852392</th>\n      <td>2020-12-31 23:59:24</td>\n      <td>4079773899158</td>\n      <td>7.99</td>\n      <td>44.6255</td>\n      <td>-116.4493</td>\n      <td>129</td>\n      <td>1965-12-15</td>\n      <td>44.470525</td>\n      <td>-117.080888</td>\n      <td>0</td>\n      <td>...</td>\n      <td>0</td>\n      <td>0</td>\n      <td>0</td>\n      <td>0</td>\n      <td>0</td>\n      <td>0</td>\n      <td>0</td>\n      <td>0</td>\n      <td>1</td>\n      <td>1</td>\n    </tr>\n    <tr>\n      <th>1852393</th>\n      <td>2020-12-31 23:59:34</td>\n      <td>4170689372027579</td>\n      <td>38.13</td>\n      <td>35.6665</td>\n      <td>-97.4798</td>\n      <td>116001</td>\n      <td>1993-05-10</td>\n      <td>36.210097</td>\n      <td>-97.036372</td>\n      <td>0</td>\n      <td>...</td>\n      <td>0</td>\n      <td>0</td>\n      <td>0</td>\n      <td>0</td>\n      <td>0</td>\n      <td>0</td>\n      <td>0</td>\n      <td>0</td>\n      <td>0</td>\n      <td>1</td>\n    </tr>\n  </tbody>\n</table>\n<p>1852394 rows × 31 columns</p>\n</div>"
     },
     "execution_count": 25,
     "metadata": {},
     "output_type": "execute_result"
    }
   ],
   "source": [
    "data = pd.get_dummies(data, columns = ['category' , 'gender'] , drop_first= True)\n",
    "\n",
    "data"
   ],
   "metadata": {
    "collapsed": false,
    "pycharm": {
     "name": "#%%\n"
    }
   }
  },
  {
   "cell_type": "code",
   "execution_count": 43,
   "outputs": [
    {
     "ename": "KeyError",
     "evalue": "\"None of ['trans_date_trans_time'] are in the columns\"",
     "output_type": "error",
     "traceback": [
      "\u001B[1;31m---------------------------------------------------------------------------\u001B[0m",
      "\u001B[1;31mKeyError\u001B[0m                                  Traceback (most recent call last)",
      "\u001B[1;32m<ipython-input-43-42658dff7983>\u001B[0m in \u001B[0;36m<module>\u001B[1;34m\u001B[0m\n\u001B[1;32m----> 1\u001B[1;33m \u001B[0mdata\u001B[0m\u001B[1;33m.\u001B[0m\u001B[0mset_index\u001B[0m\u001B[1;33m(\u001B[0m\u001B[1;34m'trans_date_trans_time'\u001B[0m \u001B[1;33m,\u001B[0m \u001B[0minplace\u001B[0m \u001B[1;33m=\u001B[0m\u001B[1;32mTrue\u001B[0m\u001B[1;33m)\u001B[0m\u001B[1;33m\u001B[0m\u001B[1;33m\u001B[0m\u001B[0m\n\u001B[0m\u001B[0;32m      2\u001B[0m \u001B[0mdata\u001B[0m\u001B[1;33m.\u001B[0m\u001B[0mdrop\u001B[0m\u001B[1;33m(\u001B[0m\u001B[1;33m[\u001B[0m\u001B[1;34m'cc_num'\u001B[0m \u001B[1;33m,\u001B[0m \u001B[1;34m'lat'\u001B[0m \u001B[1;33m,\u001B[0m \u001B[1;34m'long'\u001B[0m \u001B[1;33m,\u001B[0m \u001B[1;34m'merch_lat'\u001B[0m \u001B[1;33m,\u001B[0m \u001B[1;34m'merch_long'\u001B[0m \u001B[1;33m,\u001B[0m \u001B[1;34m'dob'\u001B[0m \u001B[1;33m,\u001B[0m \u001B[1;34m'merch_coord'\u001B[0m \u001B[1;33m,\u001B[0m \u001B[1;34m'cust_coord'\u001B[0m\u001B[1;33m]\u001B[0m \u001B[1;33m,\u001B[0m \u001B[0maxis\u001B[0m \u001B[1;33m=\u001B[0m\u001B[1;36m1\u001B[0m \u001B[1;33m,\u001B[0m \u001B[0minplace\u001B[0m \u001B[1;33m=\u001B[0m \u001B[1;32mTrue\u001B[0m\u001B[1;33m)\u001B[0m\u001B[1;33m\u001B[0m\u001B[1;33m\u001B[0m\u001B[0m\n\u001B[0;32m      3\u001B[0m \u001B[0mdata\u001B[0m\u001B[1;33m.\u001B[0m\u001B[0mhead\u001B[0m\u001B[1;33m(\u001B[0m\u001B[1;33m)\u001B[0m\u001B[1;33m\u001B[0m\u001B[1;33m\u001B[0m\u001B[0m\n",
      "\u001B[1;32m~\\anaconda3\\lib\\site-packages\\pandas\\core\\frame.py\u001B[0m in \u001B[0;36mset_index\u001B[1;34m(self, keys, drop, append, inplace, verify_integrity)\u001B[0m\n\u001B[0;32m   4725\u001B[0m \u001B[1;33m\u001B[0m\u001B[0m\n\u001B[0;32m   4726\u001B[0m         \u001B[1;32mif\u001B[0m \u001B[0mmissing\u001B[0m\u001B[1;33m:\u001B[0m\u001B[1;33m\u001B[0m\u001B[1;33m\u001B[0m\u001B[0m\n\u001B[1;32m-> 4727\u001B[1;33m             \u001B[1;32mraise\u001B[0m \u001B[0mKeyError\u001B[0m\u001B[1;33m(\u001B[0m\u001B[1;34mf\"None of {missing} are in the columns\"\u001B[0m\u001B[1;33m)\u001B[0m\u001B[1;33m\u001B[0m\u001B[1;33m\u001B[0m\u001B[0m\n\u001B[0m\u001B[0;32m   4728\u001B[0m \u001B[1;33m\u001B[0m\u001B[0m\n\u001B[0;32m   4729\u001B[0m         \u001B[1;32mif\u001B[0m \u001B[0minplace\u001B[0m\u001B[1;33m:\u001B[0m\u001B[1;33m\u001B[0m\u001B[1;33m\u001B[0m\u001B[0m\n",
      "\u001B[1;31mKeyError\u001B[0m: \"None of ['trans_date_trans_time'] are in the columns\""
     ]
    }
   ],
   "source": [
    "data.set_index('trans_date_trans_time' , inplace =True)\n",
    "\n",
    "data.head()"
   ],
   "metadata": {
    "collapsed": false,
    "pycharm": {
     "name": "#%%\n"
    }
   }
  },
  {
   "cell_type": "code",
   "execution_count": 44,
   "outputs": [],
   "source": [
    "data.drop(['cc_num' , 'lat' , 'long' , 'merch_lat' , 'merch_long' , 'dob' , 'merch_coord' , 'cust_coord'] , axis =1 , inplace = True)"
   ],
   "metadata": {
    "collapsed": false,
    "pycharm": {
     "name": "#%%\n"
    }
   }
  },
  {
   "cell_type": "code",
   "execution_count": 45,
   "outputs": [
    {
     "data": {
      "text/plain": "0.284"
     },
     "execution_count": 45,
     "metadata": {},
     "output_type": "execute_result"
    }
   ],
   "source": [
    "train = data[data.index < '2020-07-01'] # 훈련셋 설정\n",
    "test = data[data.index >= '2020-07-01'] # 시험셋 설정\n",
    "\n",
    "\n",
    "len(test) / len(data) # 시험셋 비율 확인"
   ],
   "metadata": {
    "collapsed": false,
    "pycharm": {
     "name": "#%%\n"
    }
   }
  },
  {
   "cell_type": "code",
   "execution_count": 46,
   "outputs": [],
   "source": [
    "X_train = train.drop('is_fraud' , axis =1)\n",
    "X_test = test.drop('is_fraud' , axis = 1)\n",
    "y_train = train['is_fraud']\n",
    "y_test = test['is_fraud']"
   ],
   "metadata": {
    "collapsed": false,
    "pycharm": {
     "name": "#%%\n"
    }
   }
  },
  {
   "cell_type": "code",
   "execution_count": 47,
   "outputs": [
    {
     "data": {
      "text/plain": "                          amt  city_pop  amt_z_score  cat_z_score    distance  \\\ntrans_date_trans_time                                                           \n2019-01-01 00:00:18      4.97      3495    -0.662108    -0.688297   78.773821   \n2019-01-01 00:00:44    107.23       149     0.321302     0.317631   30.216618   \n2019-01-01 00:00:51    220.11      4154     1.287064     2.872509  108.102912   \n2019-01-01 00:01:16     45.00      1939    -0.125287    -1.050197   95.685115   \n2019-01-01 00:03:06     41.96        99    -0.565941     1.312866   77.702395   \n...                       ...       ...          ...          ...         ...   \n2020-06-30 23:59:22      1.76      2036    -0.333307    -0.330121  102.779991   \n2020-06-30 23:59:26    102.23      4913     0.294371     0.548342   41.174431   \n2020-06-30 23:59:45      5.81      8874    -0.358329    -0.168437   82.348097   \n2020-06-30 23:59:50      4.53       532    -0.439246    -0.971683   46.744234   \n2020-06-30 23:59:50     41.97      1201    -0.569502    -1.574343   94.894365   \n\n                       distance_z_score  age  category_food_dining  \\\ntrans_date_trans_time                                                \n2019-01-01 00:00:18            0.030974   33                     0   \n2019-01-01 00:00:44           -1.475224   43                     0   \n2019-01-01 00:00:51            1.160572   59                     0   \n2019-01-01 00:01:16            0.818063   54                     0   \n2019-01-01 00:03:06            0.064037   35                     0   \n...                                 ...  ...                   ...   \n2020-06-30 23:59:22            0.960234   50                     0   \n2020-06-30 23:59:26           -1.256779   55                     0   \n2020-06-30 23:59:45            0.171135   21                     0   \n2020-06-30 23:59:50           -0.967272   65                     0   \n2020-06-30 23:59:50            0.651645   41                     0   \n\n                       category_gas_transport  category_grocery_net  ...  \\\ntrans_date_trans_time                                                ...   \n2019-01-01 00:00:18                         0                     0  ...   \n2019-01-01 00:00:44                         0                     0  ...   \n2019-01-01 00:00:51                         0                     0  ...   \n2019-01-01 00:01:16                         1                     0  ...   \n2019-01-01 00:03:06                         0                     0  ...   \n...                                       ...                   ...  ...   \n2020-06-30 23:59:22                         0                     0  ...   \n2020-06-30 23:59:26                         0                     0  ...   \n2020-06-30 23:59:45                         0                     0  ...   \n2020-06-30 23:59:50                         0                     0  ...   \n2020-06-30 23:59:50                         0                     0  ...   \n\n                       category_health_fitness  category_home  \\\ntrans_date_trans_time                                           \n2019-01-01 00:00:18                          0              0   \n2019-01-01 00:00:44                          0              0   \n2019-01-01 00:00:51                          0              0   \n2019-01-01 00:01:16                          0              0   \n2019-01-01 00:03:06                          0              0   \n...                                        ...            ...   \n2020-06-30 23:59:22                          0              0   \n2020-06-30 23:59:26                          0              1   \n2020-06-30 23:59:45                          0              0   \n2020-06-30 23:59:50                          1              0   \n2020-06-30 23:59:50                          0              0   \n\n                       category_kids_pets  category_misc_net  \\\ntrans_date_trans_time                                          \n2019-01-01 00:00:18                     0                  1   \n2019-01-01 00:00:44                     0                  0   \n2019-01-01 00:00:51                     0                  0   \n2019-01-01 00:01:16                     0                  0   \n2019-01-01 00:03:06                     0                  0   \n...                                   ...                ...   \n2020-06-30 23:59:22                     0                  0   \n2020-06-30 23:59:26                     0                  0   \n2020-06-30 23:59:45                     0                  0   \n2020-06-30 23:59:50                     0                  0   \n2020-06-30 23:59:50                     1                  0   \n\n                       category_misc_pos  category_personal_care  \\\ntrans_date_trans_time                                              \n2019-01-01 00:00:18                    0                       0   \n2019-01-01 00:00:44                    0                       0   \n2019-01-01 00:00:51                    0                       0   \n2019-01-01 00:01:16                    0                       0   \n2019-01-01 00:03:06                    1                       0   \n...                                  ...                     ...   \n2020-06-30 23:59:22                    1                       0   \n2020-06-30 23:59:26                    0                       0   \n2020-06-30 23:59:45                    0                       0   \n2020-06-30 23:59:50                    0                       0   \n2020-06-30 23:59:50                    0                       0   \n\n                       category_shopping_net  category_shopping_pos  \\\ntrans_date_trans_time                                                 \n2019-01-01 00:00:18                        0                      0   \n2019-01-01 00:00:44                        0                      0   \n2019-01-01 00:00:51                        0                      0   \n2019-01-01 00:01:16                        0                      0   \n2019-01-01 00:03:06                        0                      0   \n...                                      ...                    ...   \n2020-06-30 23:59:22                        0                      0   \n2020-06-30 23:59:26                        0                      0   \n2020-06-30 23:59:45                        0                      0   \n2020-06-30 23:59:50                        0                      0   \n2020-06-30 23:59:50                        0                      0   \n\n                       category_travel  gender_M  \ntrans_date_trans_time                             \n2019-01-01 00:00:18                  0         0  \n2019-01-01 00:00:44                  0         0  \n2019-01-01 00:00:51                  0         1  \n2019-01-01 00:01:16                  0         1  \n2019-01-01 00:03:06                  0         1  \n...                                ...       ...  \n2020-06-30 23:59:22                  0         0  \n2020-06-30 23:59:26                  0         0  \n2020-06-30 23:59:45                  1         0  \n2020-06-30 23:59:50                  0         1  \n2020-06-30 23:59:50                  0         1  \n\n[1326733 rows x 21 columns]",
      "text/html": "<div>\n<style scoped>\n    .dataframe tbody tr th:only-of-type {\n        vertical-align: middle;\n    }\n\n    .dataframe tbody tr th {\n        vertical-align: top;\n    }\n\n    .dataframe thead th {\n        text-align: right;\n    }\n</style>\n<table border=\"1\" class=\"dataframe\">\n  <thead>\n    <tr style=\"text-align: right;\">\n      <th></th>\n      <th>amt</th>\n      <th>city_pop</th>\n      <th>amt_z_score</th>\n      <th>cat_z_score</th>\n      <th>distance</th>\n      <th>distance_z_score</th>\n      <th>age</th>\n      <th>category_food_dining</th>\n      <th>category_gas_transport</th>\n      <th>category_grocery_net</th>\n      <th>...</th>\n      <th>category_health_fitness</th>\n      <th>category_home</th>\n      <th>category_kids_pets</th>\n      <th>category_misc_net</th>\n      <th>category_misc_pos</th>\n      <th>category_personal_care</th>\n      <th>category_shopping_net</th>\n      <th>category_shopping_pos</th>\n      <th>category_travel</th>\n      <th>gender_M</th>\n    </tr>\n    <tr>\n      <th>trans_date_trans_time</th>\n      <th></th>\n      <th></th>\n      <th></th>\n      <th></th>\n      <th></th>\n      <th></th>\n      <th></th>\n      <th></th>\n      <th></th>\n      <th></th>\n      <th></th>\n      <th></th>\n      <th></th>\n      <th></th>\n      <th></th>\n      <th></th>\n      <th></th>\n      <th></th>\n      <th></th>\n      <th></th>\n      <th></th>\n    </tr>\n  </thead>\n  <tbody>\n    <tr>\n      <th>2019-01-01 00:00:18</th>\n      <td>4.97</td>\n      <td>3495</td>\n      <td>-0.662108</td>\n      <td>-0.688297</td>\n      <td>78.773821</td>\n      <td>0.030974</td>\n      <td>33</td>\n      <td>0</td>\n      <td>0</td>\n      <td>0</td>\n      <td>...</td>\n      <td>0</td>\n      <td>0</td>\n      <td>0</td>\n      <td>1</td>\n      <td>0</td>\n      <td>0</td>\n      <td>0</td>\n      <td>0</td>\n      <td>0</td>\n      <td>0</td>\n    </tr>\n    <tr>\n      <th>2019-01-01 00:00:44</th>\n      <td>107.23</td>\n      <td>149</td>\n      <td>0.321302</td>\n      <td>0.317631</td>\n      <td>30.216618</td>\n      <td>-1.475224</td>\n      <td>43</td>\n      <td>0</td>\n      <td>0</td>\n      <td>0</td>\n      <td>...</td>\n      <td>0</td>\n      <td>0</td>\n      <td>0</td>\n      <td>0</td>\n      <td>0</td>\n      <td>0</td>\n      <td>0</td>\n      <td>0</td>\n      <td>0</td>\n      <td>0</td>\n    </tr>\n    <tr>\n      <th>2019-01-01 00:00:51</th>\n      <td>220.11</td>\n      <td>4154</td>\n      <td>1.287064</td>\n      <td>2.872509</td>\n      <td>108.102912</td>\n      <td>1.160572</td>\n      <td>59</td>\n      <td>0</td>\n      <td>0</td>\n      <td>0</td>\n      <td>...</td>\n      <td>0</td>\n      <td>0</td>\n      <td>0</td>\n      <td>0</td>\n      <td>0</td>\n      <td>0</td>\n      <td>0</td>\n      <td>0</td>\n      <td>0</td>\n      <td>1</td>\n    </tr>\n    <tr>\n      <th>2019-01-01 00:01:16</th>\n      <td>45.00</td>\n      <td>1939</td>\n      <td>-0.125287</td>\n      <td>-1.050197</td>\n      <td>95.685115</td>\n      <td>0.818063</td>\n      <td>54</td>\n      <td>0</td>\n      <td>1</td>\n      <td>0</td>\n      <td>...</td>\n      <td>0</td>\n      <td>0</td>\n      <td>0</td>\n      <td>0</td>\n      <td>0</td>\n      <td>0</td>\n      <td>0</td>\n      <td>0</td>\n      <td>0</td>\n      <td>1</td>\n    </tr>\n    <tr>\n      <th>2019-01-01 00:03:06</th>\n      <td>41.96</td>\n      <td>99</td>\n      <td>-0.565941</td>\n      <td>1.312866</td>\n      <td>77.702395</td>\n      <td>0.064037</td>\n      <td>35</td>\n      <td>0</td>\n      <td>0</td>\n      <td>0</td>\n      <td>...</td>\n      <td>0</td>\n      <td>0</td>\n      <td>0</td>\n      <td>0</td>\n      <td>1</td>\n      <td>0</td>\n      <td>0</td>\n      <td>0</td>\n      <td>0</td>\n      <td>1</td>\n    </tr>\n    <tr>\n      <th>...</th>\n      <td>...</td>\n      <td>...</td>\n      <td>...</td>\n      <td>...</td>\n      <td>...</td>\n      <td>...</td>\n      <td>...</td>\n      <td>...</td>\n      <td>...</td>\n      <td>...</td>\n      <td>...</td>\n      <td>...</td>\n      <td>...</td>\n      <td>...</td>\n      <td>...</td>\n      <td>...</td>\n      <td>...</td>\n      <td>...</td>\n      <td>...</td>\n      <td>...</td>\n      <td>...</td>\n    </tr>\n    <tr>\n      <th>2020-06-30 23:59:22</th>\n      <td>1.76</td>\n      <td>2036</td>\n      <td>-0.333307</td>\n      <td>-0.330121</td>\n      <td>102.779991</td>\n      <td>0.960234</td>\n      <td>50</td>\n      <td>0</td>\n      <td>0</td>\n      <td>0</td>\n      <td>...</td>\n      <td>0</td>\n      <td>0</td>\n      <td>0</td>\n      <td>0</td>\n      <td>1</td>\n      <td>0</td>\n      <td>0</td>\n      <td>0</td>\n      <td>0</td>\n      <td>0</td>\n    </tr>\n    <tr>\n      <th>2020-06-30 23:59:26</th>\n      <td>102.23</td>\n      <td>4913</td>\n      <td>0.294371</td>\n      <td>0.548342</td>\n      <td>41.174431</td>\n      <td>-1.256779</td>\n      <td>55</td>\n      <td>0</td>\n      <td>0</td>\n      <td>0</td>\n      <td>...</td>\n      <td>0</td>\n      <td>1</td>\n      <td>0</td>\n      <td>0</td>\n      <td>0</td>\n      <td>0</td>\n      <td>0</td>\n      <td>0</td>\n      <td>0</td>\n      <td>0</td>\n    </tr>\n    <tr>\n      <th>2020-06-30 23:59:45</th>\n      <td>5.81</td>\n      <td>8874</td>\n      <td>-0.358329</td>\n      <td>-0.168437</td>\n      <td>82.348097</td>\n      <td>0.171135</td>\n      <td>21</td>\n      <td>0</td>\n      <td>0</td>\n      <td>0</td>\n      <td>...</td>\n      <td>0</td>\n      <td>0</td>\n      <td>0</td>\n      <td>0</td>\n      <td>0</td>\n      <td>0</td>\n      <td>0</td>\n      <td>0</td>\n      <td>1</td>\n      <td>0</td>\n    </tr>\n    <tr>\n      <th>2020-06-30 23:59:50</th>\n      <td>4.53</td>\n      <td>532</td>\n      <td>-0.439246</td>\n      <td>-0.971683</td>\n      <td>46.744234</td>\n      <td>-0.967272</td>\n      <td>65</td>\n      <td>0</td>\n      <td>0</td>\n      <td>0</td>\n      <td>...</td>\n      <td>1</td>\n      <td>0</td>\n      <td>0</td>\n      <td>0</td>\n      <td>0</td>\n      <td>0</td>\n      <td>0</td>\n      <td>0</td>\n      <td>0</td>\n      <td>1</td>\n    </tr>\n    <tr>\n      <th>2020-06-30 23:59:50</th>\n      <td>41.97</td>\n      <td>1201</td>\n      <td>-0.569502</td>\n      <td>-1.574343</td>\n      <td>94.894365</td>\n      <td>0.651645</td>\n      <td>41</td>\n      <td>0</td>\n      <td>0</td>\n      <td>0</td>\n      <td>...</td>\n      <td>0</td>\n      <td>0</td>\n      <td>1</td>\n      <td>0</td>\n      <td>0</td>\n      <td>0</td>\n      <td>0</td>\n      <td>0</td>\n      <td>0</td>\n      <td>1</td>\n    </tr>\n  </tbody>\n</table>\n<p>1326733 rows × 21 columns</p>\n</div>"
     },
     "execution_count": 47,
     "metadata": {},
     "output_type": "execute_result"
    }
   ],
   "source": [
    "X_train"
   ],
   "metadata": {
    "collapsed": false,
    "pycharm": {
     "name": "#%%\n"
    }
   }
  },
  {
   "cell_type": "code",
   "execution_count": 48,
   "outputs": [
    {
     "data": {
      "text/plain": "                          amt  city_pop  amt_z_score  cat_z_score    distance  \\\ntrans_date_trans_time                                                           \n2020-07-01 00:00:08     53.44      2135    -0.112832    -0.455810   42.578590   \n2020-07-01 00:02:53     57.10       269    -0.032779    -0.165846   19.004275   \n2020-07-01 00:05:33    104.43      3994     0.180533     0.320727   84.991661   \n2020-07-01 00:09:34     47.19       184    -0.136398    -0.869670   27.175588   \n2020-07-01 00:11:33      1.51    757530    -0.508999    -0.240157   74.312862   \n...                       ...       ...          ...          ...         ...   \n2020-12-31 23:59:07     43.77       519    -0.167639    -0.047862   77.032467   \n2020-12-31 23:59:09    111.84     28739     0.364619     1.163822  100.023736   \n2020-12-31 23:59:15     86.88      3684    -0.015209     0.440137   80.887812   \n2020-12-31 23:59:24      7.99       129    -0.592099    -0.007423   53.060882   \n2020-12-31 23:59:34     38.13    116001    -0.152588    -0.380698   72.380990   \n\n                       distance_z_score  age  category_food_dining  \\\ntrans_date_trans_time                                                \n2020-07-01 00:00:08           -1.123830   17                     0   \n2020-07-01 00:02:53           -1.969825   56                     0   \n2020-07-01 00:05:33            0.299902   85                     0   \n2020-07-01 00:09:34           -1.720316   76                     0   \n2020-07-01 00:11:33           -0.015261   55                     0   \n...                                 ...  ...                   ...   \n2020-12-31 23:59:07            0.052081   55                     0   \n2020-12-31 23:59:09            0.693848   22                     0   \n2020-12-31 23:59:15            0.288293   40                     0   \n2020-12-31 23:59:24           -0.730061   56                     0   \n2020-12-31 23:59:34           -0.159439   28                     0   \n\n                       category_gas_transport  category_grocery_net  ...  \\\ntrans_date_trans_time                                                ...   \n2020-07-01 00:00:08                         1                     0  ...   \n2020-07-01 00:02:53                         1                     0  ...   \n2020-07-01 00:05:33                         0                     0  ...   \n2020-07-01 00:09:34                         1                     0  ...   \n2020-07-01 00:11:33                         0                     0  ...   \n...                                       ...                   ...  ...   \n2020-12-31 23:59:07                         0                     0  ...   \n2020-12-31 23:59:09                         0                     0  ...   \n2020-12-31 23:59:15                         0                     0  ...   \n2020-12-31 23:59:24                         0                     0  ...   \n2020-12-31 23:59:34                         0                     0  ...   \n\n                       category_health_fitness  category_home  \\\ntrans_date_trans_time                                           \n2020-07-01 00:00:08                          0              0   \n2020-07-01 00:02:53                          0              0   \n2020-07-01 00:05:33                          0              0   \n2020-07-01 00:09:34                          0              0   \n2020-07-01 00:11:33                          0              0   \n...                                        ...            ...   \n2020-12-31 23:59:07                          1              0   \n2020-12-31 23:59:09                          0              0   \n2020-12-31 23:59:15                          0              0   \n2020-12-31 23:59:24                          0              0   \n2020-12-31 23:59:34                          0              0   \n\n                       category_kids_pets  category_misc_net  \\\ntrans_date_trans_time                                          \n2020-07-01 00:00:08                     0                  0   \n2020-07-01 00:02:53                     0                  0   \n2020-07-01 00:05:33                     0                  0   \n2020-07-01 00:09:34                     0                  0   \n2020-07-01 00:11:33                     0                  0   \n...                                   ...                ...   \n2020-12-31 23:59:07                     0                  0   \n2020-12-31 23:59:09                     1                  0   \n2020-12-31 23:59:15                     1                  0   \n2020-12-31 23:59:24                     0                  0   \n2020-12-31 23:59:34                     0                  0   \n\n                       category_misc_pos  category_personal_care  \\\ntrans_date_trans_time                                              \n2020-07-01 00:00:08                    0                       0   \n2020-07-01 00:02:53                    0                       0   \n2020-07-01 00:05:33                    0                       0   \n2020-07-01 00:09:34                    0                       0   \n2020-07-01 00:11:33                    0                       0   \n...                                  ...                     ...   \n2020-12-31 23:59:07                    0                       0   \n2020-12-31 23:59:09                    0                       0   \n2020-12-31 23:59:15                    0                       0   \n2020-12-31 23:59:24                    0                       0   \n2020-12-31 23:59:34                    0                       0   \n\n                       category_shopping_net  category_shopping_pos  \\\ntrans_date_trans_time                                                 \n2020-07-01 00:00:08                        0                      0   \n2020-07-01 00:02:53                        0                      0   \n2020-07-01 00:05:33                        0                      0   \n2020-07-01 00:09:34                        0                      0   \n2020-07-01 00:11:33                        0                      1   \n...                                      ...                    ...   \n2020-12-31 23:59:07                        0                      0   \n2020-12-31 23:59:09                        0                      0   \n2020-12-31 23:59:15                        0                      0   \n2020-12-31 23:59:24                        0                      0   \n2020-12-31 23:59:34                        0                      0   \n\n                       category_travel  gender_M  \ntrans_date_trans_time                             \n2020-07-01 00:00:08                  0         0  \n2020-07-01 00:02:53                  0         0  \n2020-07-01 00:05:33                  0         0  \n2020-07-01 00:09:34                  0         0  \n2020-07-01 00:11:33                  0         1  \n...                                ...       ...  \n2020-12-31 23:59:07                  0         1  \n2020-12-31 23:59:09                  0         1  \n2020-12-31 23:59:15                  0         0  \n2020-12-31 23:59:24                  1         1  \n2020-12-31 23:59:34                  0         1  \n\n[525661 rows x 21 columns]",
      "text/html": "<div>\n<style scoped>\n    .dataframe tbody tr th:only-of-type {\n        vertical-align: middle;\n    }\n\n    .dataframe tbody tr th {\n        vertical-align: top;\n    }\n\n    .dataframe thead th {\n        text-align: right;\n    }\n</style>\n<table border=\"1\" class=\"dataframe\">\n  <thead>\n    <tr style=\"text-align: right;\">\n      <th></th>\n      <th>amt</th>\n      <th>city_pop</th>\n      <th>amt_z_score</th>\n      <th>cat_z_score</th>\n      <th>distance</th>\n      <th>distance_z_score</th>\n      <th>age</th>\n      <th>category_food_dining</th>\n      <th>category_gas_transport</th>\n      <th>category_grocery_net</th>\n      <th>...</th>\n      <th>category_health_fitness</th>\n      <th>category_home</th>\n      <th>category_kids_pets</th>\n      <th>category_misc_net</th>\n      <th>category_misc_pos</th>\n      <th>category_personal_care</th>\n      <th>category_shopping_net</th>\n      <th>category_shopping_pos</th>\n      <th>category_travel</th>\n      <th>gender_M</th>\n    </tr>\n    <tr>\n      <th>trans_date_trans_time</th>\n      <th></th>\n      <th></th>\n      <th></th>\n      <th></th>\n      <th></th>\n      <th></th>\n      <th></th>\n      <th></th>\n      <th></th>\n      <th></th>\n      <th></th>\n      <th></th>\n      <th></th>\n      <th></th>\n      <th></th>\n      <th></th>\n      <th></th>\n      <th></th>\n      <th></th>\n      <th></th>\n      <th></th>\n    </tr>\n  </thead>\n  <tbody>\n    <tr>\n      <th>2020-07-01 00:00:08</th>\n      <td>53.44</td>\n      <td>2135</td>\n      <td>-0.112832</td>\n      <td>-0.455810</td>\n      <td>42.578590</td>\n      <td>-1.123830</td>\n      <td>17</td>\n      <td>0</td>\n      <td>1</td>\n      <td>0</td>\n      <td>...</td>\n      <td>0</td>\n      <td>0</td>\n      <td>0</td>\n      <td>0</td>\n      <td>0</td>\n      <td>0</td>\n      <td>0</td>\n      <td>0</td>\n      <td>0</td>\n      <td>0</td>\n    </tr>\n    <tr>\n      <th>2020-07-01 00:02:53</th>\n      <td>57.10</td>\n      <td>269</td>\n      <td>-0.032779</td>\n      <td>-0.165846</td>\n      <td>19.004275</td>\n      <td>-1.969825</td>\n      <td>56</td>\n      <td>0</td>\n      <td>1</td>\n      <td>0</td>\n      <td>...</td>\n      <td>0</td>\n      <td>0</td>\n      <td>0</td>\n      <td>0</td>\n      <td>0</td>\n      <td>0</td>\n      <td>0</td>\n      <td>0</td>\n      <td>0</td>\n      <td>0</td>\n    </tr>\n    <tr>\n      <th>2020-07-01 00:05:33</th>\n      <td>104.43</td>\n      <td>3994</td>\n      <td>0.180533</td>\n      <td>0.320727</td>\n      <td>84.991661</td>\n      <td>0.299902</td>\n      <td>85</td>\n      <td>0</td>\n      <td>0</td>\n      <td>0</td>\n      <td>...</td>\n      <td>0</td>\n      <td>0</td>\n      <td>0</td>\n      <td>0</td>\n      <td>0</td>\n      <td>0</td>\n      <td>0</td>\n      <td>0</td>\n      <td>0</td>\n      <td>0</td>\n    </tr>\n    <tr>\n      <th>2020-07-01 00:09:34</th>\n      <td>47.19</td>\n      <td>184</td>\n      <td>-0.136398</td>\n      <td>-0.869670</td>\n      <td>27.175588</td>\n      <td>-1.720316</td>\n      <td>76</td>\n      <td>0</td>\n      <td>1</td>\n      <td>0</td>\n      <td>...</td>\n      <td>0</td>\n      <td>0</td>\n      <td>0</td>\n      <td>0</td>\n      <td>0</td>\n      <td>0</td>\n      <td>0</td>\n      <td>0</td>\n      <td>0</td>\n      <td>0</td>\n    </tr>\n    <tr>\n      <th>2020-07-01 00:11:33</th>\n      <td>1.51</td>\n      <td>757530</td>\n      <td>-0.508999</td>\n      <td>-0.240157</td>\n      <td>74.312862</td>\n      <td>-0.015261</td>\n      <td>55</td>\n      <td>0</td>\n      <td>0</td>\n      <td>0</td>\n      <td>...</td>\n      <td>0</td>\n      <td>0</td>\n      <td>0</td>\n      <td>0</td>\n      <td>0</td>\n      <td>0</td>\n      <td>0</td>\n      <td>1</td>\n      <td>0</td>\n      <td>1</td>\n    </tr>\n    <tr>\n      <th>...</th>\n      <td>...</td>\n      <td>...</td>\n      <td>...</td>\n      <td>...</td>\n      <td>...</td>\n      <td>...</td>\n      <td>...</td>\n      <td>...</td>\n      <td>...</td>\n      <td>...</td>\n      <td>...</td>\n      <td>...</td>\n      <td>...</td>\n      <td>...</td>\n      <td>...</td>\n      <td>...</td>\n      <td>...</td>\n      <td>...</td>\n      <td>...</td>\n      <td>...</td>\n      <td>...</td>\n    </tr>\n    <tr>\n      <th>2020-12-31 23:59:07</th>\n      <td>43.77</td>\n      <td>519</td>\n      <td>-0.167639</td>\n      <td>-0.047862</td>\n      <td>77.032467</td>\n      <td>0.052081</td>\n      <td>55</td>\n      <td>0</td>\n      <td>0</td>\n      <td>0</td>\n      <td>...</td>\n      <td>1</td>\n      <td>0</td>\n      <td>0</td>\n      <td>0</td>\n      <td>0</td>\n      <td>0</td>\n      <td>0</td>\n      <td>0</td>\n      <td>0</td>\n      <td>1</td>\n    </tr>\n    <tr>\n      <th>2020-12-31 23:59:09</th>\n      <td>111.84</td>\n      <td>28739</td>\n      <td>0.364619</td>\n      <td>1.163822</td>\n      <td>100.023736</td>\n      <td>0.693848</td>\n      <td>22</td>\n      <td>0</td>\n      <td>0</td>\n      <td>0</td>\n      <td>...</td>\n      <td>0</td>\n      <td>0</td>\n      <td>1</td>\n      <td>0</td>\n      <td>0</td>\n      <td>0</td>\n      <td>0</td>\n      <td>0</td>\n      <td>0</td>\n      <td>1</td>\n    </tr>\n    <tr>\n      <th>2020-12-31 23:59:15</th>\n      <td>86.88</td>\n      <td>3684</td>\n      <td>-0.015209</td>\n      <td>0.440137</td>\n      <td>80.887812</td>\n      <td>0.288293</td>\n      <td>40</td>\n      <td>0</td>\n      <td>0</td>\n      <td>0</td>\n      <td>...</td>\n      <td>0</td>\n      <td>0</td>\n      <td>1</td>\n      <td>0</td>\n      <td>0</td>\n      <td>0</td>\n      <td>0</td>\n      <td>0</td>\n      <td>0</td>\n      <td>0</td>\n    </tr>\n    <tr>\n      <th>2020-12-31 23:59:24</th>\n      <td>7.99</td>\n      <td>129</td>\n      <td>-0.592099</td>\n      <td>-0.007423</td>\n      <td>53.060882</td>\n      <td>-0.730061</td>\n      <td>56</td>\n      <td>0</td>\n      <td>0</td>\n      <td>0</td>\n      <td>...</td>\n      <td>0</td>\n      <td>0</td>\n      <td>0</td>\n      <td>0</td>\n      <td>0</td>\n      <td>0</td>\n      <td>0</td>\n      <td>0</td>\n      <td>1</td>\n      <td>1</td>\n    </tr>\n    <tr>\n      <th>2020-12-31 23:59:34</th>\n      <td>38.13</td>\n      <td>116001</td>\n      <td>-0.152588</td>\n      <td>-0.380698</td>\n      <td>72.380990</td>\n      <td>-0.159439</td>\n      <td>28</td>\n      <td>0</td>\n      <td>0</td>\n      <td>0</td>\n      <td>...</td>\n      <td>0</td>\n      <td>0</td>\n      <td>0</td>\n      <td>0</td>\n      <td>0</td>\n      <td>0</td>\n      <td>0</td>\n      <td>0</td>\n      <td>0</td>\n      <td>1</td>\n    </tr>\n  </tbody>\n</table>\n<p>525661 rows × 21 columns</p>\n</div>"
     },
     "execution_count": 48,
     "metadata": {},
     "output_type": "execute_result"
    }
   ],
   "source": [
    "X_test"
   ],
   "metadata": {
    "collapsed": false,
    "pycharm": {
     "name": "#%%\n"
    }
   }
  },
  {
   "cell_type": "code",
   "execution_count": 49,
   "outputs": [
    {
     "data": {
      "text/plain": "trans_date_trans_time\n2019-01-01 00:00:18    0\n2019-01-01 00:00:44    0\n2019-01-01 00:00:51    0\n2019-01-01 00:01:16    0\n2019-01-01 00:03:06    0\n                      ..\n2020-06-30 23:59:22    0\n2020-06-30 23:59:26    0\n2020-06-30 23:59:45    0\n2020-06-30 23:59:50    0\n2020-06-30 23:59:50    0\nName: is_fraud, Length: 1326733, dtype: int64"
     },
     "execution_count": 49,
     "metadata": {},
     "output_type": "execute_result"
    }
   ],
   "source": [
    "y_train"
   ],
   "metadata": {
    "collapsed": false,
    "pycharm": {
     "name": "#%%\n"
    }
   }
  },
  {
   "cell_type": "code",
   "execution_count": 50,
   "outputs": [
    {
     "data": {
      "text/plain": "trans_date_trans_time\n2020-07-01 00:00:08    0\n2020-07-01 00:02:53    0\n2020-07-01 00:05:33    0\n2020-07-01 00:09:34    0\n2020-07-01 00:11:33    0\n                      ..\n2020-12-31 23:59:07    0\n2020-12-31 23:59:09    0\n2020-12-31 23:59:15    0\n2020-12-31 23:59:24    0\n2020-12-31 23:59:34    0\nName: is_fraud, Length: 525661, dtype: int64"
     },
     "execution_count": 50,
     "metadata": {},
     "output_type": "execute_result"
    }
   ],
   "source": [
    "y_test"
   ],
   "metadata": {
    "collapsed": false,
    "pycharm": {
     "name": "#%%\n"
    }
   }
  },
  {
   "cell_type": "code",
   "execution_count": 51,
   "outputs": [],
   "source": [
    "# !pip install --trusted-host pypi.python.org --trusted-host files.pythonhosted.org --trusted-host pypi.org  lightgbm"
   ],
   "metadata": {
    "collapsed": false,
    "pycharm": {
     "name": "#%%\n"
    }
   }
  },
  {
   "cell_type": "code",
   "execution_count": 53,
   "outputs": [],
   "source": [
    "import lightgbm as lgb\n",
    "\n",
    "model_1 = lgb.LGBMClassifier(random_state= 100) # 모델 객체 생성\n",
    "model_1.fit(X_train , y_train)\n",
    "pred_1 = model_1.predict(X_test) # 예측"
   ],
   "metadata": {
    "collapsed": false,
    "pycharm": {
     "name": "#%%\n"
    }
   }
  },
  {
   "cell_type": "code",
   "execution_count": 57,
   "outputs": [
    {
     "data": {
      "text/plain": "array([0, 0, 0, ..., 0, 0, 0], dtype=int64)"
     },
     "execution_count": 57,
     "metadata": {},
     "output_type": "execute_result"
    }
   ],
   "source": [
    "pred_1"
   ],
   "metadata": {
    "collapsed": false,
    "pycharm": {
     "name": "#%%\n"
    }
   }
  },
  {
   "cell_type": "code",
   "execution_count": 54,
   "outputs": [
    {
     "data": {
      "text/plain": "0.9970760623291437"
     },
     "execution_count": 54,
     "metadata": {},
     "output_type": "execute_result"
    }
   ],
   "source": [
    "from sklearn.metrics import accuracy_score , confusion_matrix , classification_report , roc_auc_score\n",
    "# 정확도 점수 , 혼동 행렬 , 분류 리포트 , ROC AUC 점수\n",
    "\n",
    "accuracy_score(y_test , pred_1) # 정확도 확인"
   ],
   "metadata": {
    "collapsed": false,
    "pycharm": {
     "name": "#%%\n"
    }
   }
  },
  {
   "cell_type": "code",
   "execution_count": 55,
   "outputs": [
    {
     "name": "stdout",
     "output_type": "stream",
     "text": [
      "[[522933    716]\n",
      " [   821   1191]]\n"
     ]
    }
   ],
   "source": [
    "print(confusion_matrix(y_test , pred_1)) # 혼동 행렬"
   ],
   "metadata": {
    "collapsed": false,
    "pycharm": {
     "name": "#%%\n"
    }
   }
  },
  {
   "cell_type": "code",
   "execution_count": 56,
   "outputs": [
    {
     "name": "stdout",
     "output_type": "stream",
     "text": [
      "              precision    recall  f1-score   support\n",
      "\n",
      "           0       1.00      1.00      1.00    523649\n",
      "           1       0.62      0.59      0.61      2012\n",
      "\n",
      "    accuracy                           1.00    525661\n",
      "   macro avg       0.81      0.80      0.80    525661\n",
      "weighted avg       1.00      1.00      1.00    525661\n",
      "\n"
     ]
    }
   ],
   "source": [
    "print(classification_report(y_test , pred_1)) # 분류 리포트 확인"
   ],
   "metadata": {
    "collapsed": false,
    "pycharm": {
     "name": "#%%\n"
    }
   }
  },
  {
   "cell_type": "code",
   "execution_count": 58,
   "outputs": [
    {
     "data": {
      "text/plain": "array([0, 0, 0, ..., 0, 0, 0], dtype=int64)"
     },
     "execution_count": 58,
     "metadata": {},
     "output_type": "execute_result"
    }
   ],
   "source": [
    "pred_1 # 이진 분류에 따라 기준점에 따른 0과 1로 구분"
   ],
   "metadata": {
    "collapsed": false,
    "pycharm": {
     "name": "#%%\n"
    }
   }
  },
  {
   "cell_type": "code",
   "execution_count": 59,
   "outputs": [
    {
     "data": {
      "text/plain": "array([[1.000e+00, 3.122e-05],\n       [1.000e+00, 2.605e-05],\n       [1.000e+00, 3.920e-05],\n       ...,\n       [1.000e+00, 3.517e-05],\n       [9.998e-01, 1.559e-04],\n       [9.999e-01, 5.408e-05]])"
     },
     "execution_count": 59,
     "metadata": {},
     "output_type": "execute_result"
    }
   ],
   "source": [
    "proba_1 = model_1.predict_proba(X_test) # 예측\n",
    "\n",
    "proba_1"
   ],
   "metadata": {
    "collapsed": false,
    "pycharm": {
     "name": "#%%\n"
    }
   }
  },
  {
   "cell_type": "code",
   "execution_count": 63,
   "outputs": [
    {
     "data": {
      "text/plain": "array([3.122e-05, 2.605e-05, 3.920e-05, ..., 3.517e-05, 1.559e-04,\n       5.408e-05])"
     },
     "execution_count": 63,
     "metadata": {},
     "output_type": "execute_result"
    }
   ],
   "source": [
    "proba_1 = proba_1[: ,1] # 1 에 대한 예측 결과 출력\n",
    "proba_1"
   ],
   "metadata": {
    "collapsed": false,
    "pycharm": {
     "name": "#%%\n"
    }
   }
  },
  {
   "cell_type": "code",
   "execution_count": 64,
   "outputs": [],
   "source": [
    "proba_int1 = (proba_1 > 0.2).astype('int') # 0.2 기준으로 분류\n",
    "proba_int2 = (proba_1 > 0.8).astype('int') # 0.8 기준으로 분류"
   ],
   "metadata": {
    "collapsed": false,
    "pycharm": {
     "name": "#%%\n"
    }
   }
  },
  {
   "cell_type": "code",
   "execution_count": 65,
   "outputs": [
    {
     "name": "stdout",
     "output_type": "stream",
     "text": [
      "[[522105   1544]\n",
      " [   598   1414]]\n"
     ]
    }
   ],
   "source": [
    "print(confusion_matrix(y_test , proba_int1))"
   ],
   "metadata": {
    "collapsed": false,
    "pycharm": {
     "name": "#%%\n"
    }
   }
  },
  {
   "cell_type": "code",
   "execution_count": 66,
   "outputs": [
    {
     "name": "stdout",
     "output_type": "stream",
     "text": [
      "              precision    recall  f1-score   support\n",
      "\n",
      "           0       1.00      1.00      1.00    523649\n",
      "           1       0.48      0.70      0.57      2012\n",
      "\n",
      "    accuracy                           1.00    525661\n",
      "   macro avg       0.74      0.85      0.78    525661\n",
      "weighted avg       1.00      1.00      1.00    525661\n",
      "\n"
     ]
    }
   ],
   "source": [
    "print(classification_report(y_test , proba_int1))"
   ],
   "metadata": {
    "collapsed": false,
    "pycharm": {
     "name": "#%%\n"
    }
   }
  },
  {
   "cell_type": "code",
   "execution_count": 67,
   "outputs": [
    {
     "name": "stdout",
     "output_type": "stream",
     "text": [
      "[[523183    466]\n",
      " [   958   1054]]\n"
     ]
    }
   ],
   "source": [
    "print(confusion_matrix(y_test , proba_int2))"
   ],
   "metadata": {
    "collapsed": false,
    "pycharm": {
     "name": "#%%\n"
    }
   }
  },
  {
   "cell_type": "code",
   "execution_count": 68,
   "outputs": [
    {
     "name": "stdout",
     "output_type": "stream",
     "text": [
      "              precision    recall  f1-score   support\n",
      "\n",
      "           0       1.00      1.00      1.00    523649\n",
      "           1       0.69      0.52      0.60      2012\n",
      "\n",
      "    accuracy                           1.00    525661\n",
      "   macro avg       0.85      0.76      0.80    525661\n",
      "weighted avg       1.00      1.00      1.00    525661\n",
      "\n"
     ]
    }
   ],
   "source": [
    "print(classification_report(y_test , proba_int2))"
   ],
   "metadata": {
    "collapsed": false,
    "pycharm": {
     "name": "#%%\n"
    }
   }
  },
  {
   "cell_type": "code",
   "execution_count": 69,
   "outputs": [
    {
     "data": {
      "text/plain": "0.9366009333487075"
     },
     "execution_count": 69,
     "metadata": {},
     "output_type": "execute_result"
    }
   ],
   "source": [
    "roc_auc_score(y_test , proba_1) # 정확도 확인"
   ],
   "metadata": {
    "collapsed": false,
    "pycharm": {
     "name": "#%%\n"
    }
   }
  },
  {
   "cell_type": "code",
   "execution_count": 76,
   "outputs": [],
   "source": [
    "from sklearn.model_selection import RandomizedSearchCV\n",
    "\n",
    "params = {\n",
    "    'n_estimators' : [100, 500 , 1000] , # 반복 횟수\n",
    "    'learning_rate' : [0.01 , 0.05 , 0.1 , 0.3] , # 러닝 메이트\n",
    "    'lambda_l1' : [0 , 10 , 20 , 30 ,50] , # L1 정규화\n",
    "    'lambda_l2' : [0 , 10 , 20 , 30 , 50] , # L2 정규화\n",
    "    'max_depth' : [5 , 10 , 15 , 20] , # 최대 깊이\n",
    "    'subsample' : [0.6 , 0.8 , 1] # 서브샘플 비율\n",
    "}\n",
    "\n"
   ],
   "metadata": {
    "collapsed": false,
    "pycharm": {
     "name": "#%%\n"
    }
   }
  },
  {
   "cell_type": "code",
   "execution_count": 77,
   "outputs": [],
   "source": [
    "model_2 = lgb.LGBMClassifier(random_state= 100) # 모델 객체 생성\n",
    "rs = RandomizedSearchCV(model_2 , param_distributions= params , n_iter= 30 , scoring= 'roc_auc' , random_state= 100 , n_jobs= -1) # 랜덤 그리드 서치 객체 생성\n",
    "\n",
    "#n_iter = 30 ==> 몇 번을 반복할 것인가 ==> 전체 하이퍼파라미터의 조합 중 몇 개를 사용할 것인가"
   ],
   "metadata": {
    "collapsed": false,
    "pycharm": {
     "name": "#%%\n"
    }
   }
  },
  {
   "cell_type": "code",
   "execution_count": 78,
   "outputs": [
    {
     "name": "stdout",
     "output_type": "stream",
     "text": [
      "[LightGBM] [Warning] lambda_l1 is set=0, reg_alpha=0.0 will be ignored. Current value: lambda_l1=0\n",
      "[LightGBM] [Warning] lambda_l2 is set=20, reg_lambda=0.0 will be ignored. Current value: lambda_l2=20\n",
      "1674798443.4121811\n"
     ]
    }
   ],
   "source": [
    "import time\n",
    "\n",
    "start = time.time()\n",
    "rs.fit(X_train , y_train)\n",
    "print(time.time())"
   ],
   "metadata": {
    "collapsed": false,
    "pycharm": {
     "name": "#%%\n"
    }
   }
  },
  {
   "cell_type": "code",
   "execution_count": 79,
   "outputs": [
    {
     "data": {
      "text/plain": "{'subsample': 1,\n 'n_estimators': 1000,\n 'max_depth': 15,\n 'learning_rate': 0.050,\n 'lambda_l2': 20,\n 'lambda_l1': 0}"
     },
     "execution_count": 79,
     "metadata": {},
     "output_type": "execute_result"
    }
   ],
   "source": [
    "rs.best_params_"
   ],
   "metadata": {
    "collapsed": false,
    "pycharm": {
     "name": "#%%\n"
    }
   }
  },
  {
   "cell_type": "code",
   "execution_count": 80,
   "outputs": [
    {
     "data": {
      "text/plain": "0.9953122884656392"
     },
     "execution_count": 80,
     "metadata": {},
     "output_type": "execute_result"
    }
   ],
   "source": [
    "rs_proba = rs.predict_proba(X_test) # 예측\n",
    "roc_auc_score(y_test , rs_proba[: , 1]) # 정확도 확인"
   ],
   "metadata": {
    "collapsed": false,
    "pycharm": {
     "name": "#%%\n"
    }
   }
  },
  {
   "cell_type": "code",
   "execution_count": 81,
   "outputs": [
    {
     "name": "stdout",
     "output_type": "stream",
     "text": [
      "[[522519   1130]\n",
      " [   504   1508]]\n"
     ]
    }
   ],
   "source": [
    "rs_proba_int = (rs_proba[: , 1] > 0.2).astype('int') # 0.2기준으로 분류\n",
    "print(confusion_matrix(y_test , rs_proba_int)) # 혼동 행렬 확인"
   ],
   "metadata": {
    "collapsed": false,
    "pycharm": {
     "name": "#%%\n"
    }
   }
  },
  {
   "cell_type": "code",
   "execution_count": 82,
   "outputs": [
    {
     "name": "stdout",
     "output_type": "stream",
     "text": [
      "              precision    recall  f1-score   support\n",
      "\n",
      "           0       1.00      1.00      1.00    523649\n",
      "           1       0.57      0.75      0.65      2012\n",
      "\n",
      "    accuracy                           1.00    525661\n",
      "   macro avg       0.79      0.87      0.82    525661\n",
      "weighted avg       1.00      1.00      1.00    525661\n",
      "\n"
     ]
    }
   ],
   "source": [
    "print(classification_report(y_test , rs_proba_int))"
   ],
   "metadata": {
    "collapsed": false,
    "pycharm": {
     "name": "#%%\n"
    }
   }
  },
  {
   "cell_type": "code",
   "execution_count": 83,
   "outputs": [],
   "source": [
    "train = data[data.index < '2020-01-01'] # 훈련셋 설정\n",
    "\n",
    "val = data[(data.index >= '2020-01-01') & (data.index < '2020-07-01')] # 검증셋 설정\n",
    "test= data[data.index >= '2020-07-01']  # 시험셋 설정"
   ],
   "metadata": {
    "collapsed": false,
    "pycharm": {
     "name": "#%%\n"
    }
   }
  },
  {
   "cell_type": "code",
   "execution_count": 84,
   "outputs": [],
   "source": [
    "X_train = train.drop('is_fraud' , axis =1 ) # X_train 설정\n",
    "X_val = val.drop('is_fraud' , axis =1 ) #  X_val 설정\n",
    "X_test= test.drop('is_fraud' ,axis = 1) # X_test 설정\n",
    "y_train = train['is_fraud'] # y_train 설정\n",
    "y_val = val['is_fraud'] # y_val 설정\n",
    "y_test = test['is_fraud'] # y_test 설정"
   ],
   "metadata": {
    "collapsed": false,
    "pycharm": {
     "name": "#%%\n"
    }
   }
  },
  {
   "cell_type": "code",
   "execution_count": 85,
   "outputs": [],
   "source": [
    "d_train = lgb.Dataset(X_train , label=y_train) # 데이터 타입 변환\n",
    "d_val = lgb.Dataset(X_val , label =y_val) # 데이터 타입 변환\n",
    "\n",
    "# LightGBM의 Dataset()함수로 LightGBM에서 제시하는 고유한 데이터셋 형태를 취한다.\n",
    "\n",
    "# 시험셋은 모델링할 때 사용하지 않아 훈련셋과 검증셋에 대해서만 처리해준다."
   ],
   "metadata": {
    "collapsed": false,
    "pycharm": {
     "name": "#%%\n"
    }
   }
  },
  {
   "cell_type": "code",
   "execution_count": 86,
   "outputs": [
    {
     "data": {
      "text/plain": "{'subsample': 1,\n 'n_estimators': 1000,\n 'max_depth': 15,\n 'learning_rate': 0.050,\n 'lambda_l2': 20,\n 'lambda_l1': 0,\n 'metrics': 'auc'}"
     },
     "execution_count": 86,
     "metadata": {},
     "output_type": "execute_result"
    }
   ],
   "source": [
    "params_set = rs.best_params_ # 최적 파라미터 설정\n",
    "params_set['metrics'] = 'auc' # 평가 기준 추가\n",
    "\n",
    "params_set # 하이퍼파라미터 확인"
   ],
   "metadata": {
    "collapsed": false,
    "pycharm": {
     "name": "#%%\n"
    }
   }
  },
  {
   "cell_type": "code",
   "execution_count": 87,
   "outputs": [
    {
     "name": "stderr",
     "output_type": "stream",
     "text": [
      "C:\\Users\\andyp\\anaconda3\\lib\\site-packages\\lightgbm\\engine.py:177: UserWarning: Found `n_estimators` in params. Will use it instead of argument\n",
      "  _log_warning(f\"Found `{alias}` in params. Will use it instead of argument\")\n",
      "C:\\Users\\andyp\\anaconda3\\lib\\site-packages\\lightgbm\\engine.py:181: UserWarning: 'early_stopping_rounds' argument is deprecated and will be removed in a future release of LightGBM. Pass 'early_stopping()' callback via 'callbacks' argument instead.\n",
      "  _log_warning(\"'early_stopping_rounds' argument is deprecated and will be removed in a future release of LightGBM. \"\n",
      "C:\\Users\\andyp\\anaconda3\\lib\\site-packages\\lightgbm\\engine.py:239: UserWarning: 'verbose_eval' argument is deprecated and will be removed in a future release of LightGBM. Pass 'log_evaluation()' callback via 'callbacks' argument instead.\n",
      "  _log_warning(\"'verbose_eval' argument is deprecated and will be removed in a future release of LightGBM. \"\n"
     ]
    },
    {
     "name": "stdout",
     "output_type": "stream",
     "text": [
      "[LightGBM] [Warning] Accuracy may be bad since you didn't explicitly set num_leaves OR 2^max_depth > num_leaves. (num_leaves=31).\n",
      "[LightGBM] [Warning] Accuracy may be bad since you didn't explicitly set num_leaves OR 2^max_depth > num_leaves. (num_leaves=31).\n",
      "[LightGBM] [Warning] Auto-choosing col-wise multi-threading, the overhead of testing was 0.065493 seconds.\n",
      "You can set `force_col_wise=true` to remove the overhead.\n",
      "[LightGBM] [Info] Total Bins 1633\n",
      "[LightGBM] [Info] Number of data points in the train set: 924850, number of used features: 21\n",
      "[LightGBM] [Warning] Accuracy may be bad since you didn't explicitly set num_leaves OR 2^max_depth > num_leaves. (num_leaves=31).\n",
      "[LightGBM] [Info] Start training from score 0.005644\n",
      "Training until validation scores don't improve for 100 rounds\n",
      "[100]\tvalid_0's auc: 0.97237\n",
      "[200]\tvalid_0's auc: 0.988574\n",
      "[300]\tvalid_0's auc: 0.993031\n",
      "[400]\tvalid_0's auc: 0.992582\n",
      "Early stopping, best iteration is:\n",
      "[327]\tvalid_0's auc: 0.993459\n"
     ]
    }
   ],
   "source": [
    "model_3 = lgb.train(params_set , d_train , valid_sets=[d_val] , early_stopping_rounds= 100 , verbose_eval=100) #학습시간 제한 , 출력물은 특정간격으로 보여주기"
   ],
   "metadata": {
    "collapsed": false,
    "pycharm": {
     "name": "#%%\n"
    }
   }
  },
  {
   "cell_type": "code",
   "execution_count": 88,
   "outputs": [],
   "source": [
    "pred_3 = model_3.predict(X_test) # 예측 ==> train()함수로 훈련된 모델은 predict_proba() 역할을 predict()가 대신한다."
   ],
   "metadata": {
    "collapsed": false,
    "pycharm": {
     "name": "#%%\n"
    }
   }
  },
  {
   "cell_type": "code",
   "execution_count": 89,
   "outputs": [
    {
     "data": {
      "text/plain": "0.991352108964131"
     },
     "execution_count": 89,
     "metadata": {},
     "output_type": "execute_result"
    }
   ],
   "source": [
    "roc_auc_score(y_test , pred_3) # 정확도 확인"
   ],
   "metadata": {
    "collapsed": false,
    "pycharm": {
     "name": "#%%\n"
    }
   }
  },
  {
   "cell_type": "code",
   "execution_count": 102,
   "outputs": [
    {
     "data": {
      "text/plain": "<Figure size 1440x720 with 1 Axes>",
      "image/png": "[encoded data removed]"
     },
     "metadata": {
      "needs_background": "light"
     },
     "output_type": "display_data"
    }
   ],
   "source": [
    "feature_imp = pd.DataFrame({'feature_name' : X_train.columns , 'importance' : model_1.feature_importances_}).sort_values('importance' , ascending = False) # 중요 변수 정리\n",
    "plt.figure(figsize=(20, 10))\n",
    "sns.barplot(x='importance' ,  y = 'feature_name' , data = feature_imp.head(10))\n",
    "plt.show()"
   ],
   "metadata": {
    "collapsed": false,
    "pycharm": {
     "name": "#%%\n"
    }
   }
  },
  {
   "cell_type": "code",
   "execution_count": 103,
   "outputs": [
    {
     "data": {
      "text/plain": "<Figure size 1440x720 with 1 Axes>",
      "image/png": "[encoded data removed]"
     },
     "metadata": {
      "needs_background": "light"
     },
     "output_type": "display_data"
    }
   ],
   "source": [
    "feature_imp_3 = pd.DataFrame(sorted(zip(model_3.feature_importance() , X_train.columns)) , columns = ['Value' , 'Feature']) # 중요 변수 정리\n",
    "plt.figure(figsize=(20, 10))\n",
    "sns.barplot(x='importance' ,  y = 'feature_name' , data = feature_imp.head(10))\n",
    "plt.show()"
   ],
   "metadata": {
    "collapsed": false,
    "pycharm": {
     "name": "#%%\n"
    }
   }
  },
  {
   "cell_type": "code",
   "execution_count": null,
   "outputs": [],
   "source": [],
   "metadata": {
    "collapsed": false,
    "pycharm": {
     "name": "#%%\n",
     "is_executing": true
    }
   }
  },
  {
   "cell_type": "code",
   "execution_count": 97,
   "outputs": [],
   "source": [],
   "metadata": {
    "collapsed": false,
    "pycharm": {
     "name": "#%%\n"
    }
   }
  },
  {
   "cell_type": "code",
   "execution_count": 6,
   "outputs": [],
   "source": [
    "data.drop(['first' , 'last' , 'street', 'city' , 'state' , 'zip' , 'trans_num' , 'unix_time' , 'job' , 'merchant'] , axis = 1 , inplace =True)"
   ],
   "metadata": {
    "collapsed": false,
    "pycharm": {
     "name": "#%%\n"
    }
   }
  },
  {
   "cell_type": "code",
   "execution_count": 7,
   "outputs": [
    {
     "data": {
      "text/plain": "0          2019-01-01 00:00:18\n1          2019-01-01 00:00:44\n2          2019-01-01 00:00:51\n3          2019-01-01 00:01:16\n4          2019-01-01 00:03:06\n                  ...         \n1852389    2020-12-31 23:59:07\n1852390    2020-12-31 23:59:09\n1852391    2020-12-31 23:59:15\n1852392    2020-12-31 23:59:24\n1852393    2020-12-31 23:59:34\nName: trans_date_trans_time, Length: 1852394, dtype: object"
     },
     "execution_count": 7,
     "metadata": {},
     "output_type": "execute_result"
    }
   ],
   "source": [
    "data['trans_date_trans_time']"
   ],
   "metadata": {
    "collapsed": false,
    "pycharm": {
     "name": "#%%\n"
    }
   }
  },
  {
   "cell_type": "code",
   "execution_count": 8,
   "outputs": [
    {
     "data": {
      "text/plain": "0         2019-01-01 00:00:18\n1         2019-01-01 00:00:44\n2         2019-01-01 00:00:51\n3         2019-01-01 00:01:16\n4         2019-01-01 00:03:06\n                  ...        \n1852389   2020-12-31 23:59:07\n1852390   2020-12-31 23:59:09\n1852391   2020-12-31 23:59:15\n1852392   2020-12-31 23:59:24\n1852393   2020-12-31 23:59:34\nName: trans_date_trans_time, Length: 1852394, dtype: datetime64[ns]"
     },
     "execution_count": 8,
     "metadata": {},
     "output_type": "execute_result"
    }
   ],
   "source": [
    "data['trans_date_trans_time'] = pd.to_datetime(data['trans_date_trans_time']) # 날짜 형식으로 변환\n",
    "\n",
    "data['trans_date_trans_time']"
   ],
   "metadata": {
    "collapsed": false,
    "pycharm": {
     "name": "#%%\n"
    }
   }
  },
  {
   "cell_type": "code",
   "execution_count": 9,
   "outputs": [
    {
     "data": {
      "text/plain": "        trans_date_trans_time            cc_num        category     amt  \\\n0         2019-01-01 00:00:18  2703186189652095        misc_net    4.97   \n1         2019-01-01 00:00:44      630423337322     grocery_pos  107.23   \n2         2019-01-01 00:00:51    38859492057661   entertainment  220.11   \n3         2019-01-01 00:01:16  3534093764340240   gas_transport   45.00   \n4         2019-01-01 00:03:06   375534208663984        misc_pos   41.96   \n...                       ...               ...             ...     ...   \n1852389   2020-12-31 23:59:07    30560609640617  health_fitness   43.77   \n1852390   2020-12-31 23:59:09  3556613125071656       kids_pets  111.84   \n1852391   2020-12-31 23:59:15  6011724471098086       kids_pets   86.88   \n1852392   2020-12-31 23:59:24     4079773899158          travel    7.99   \n1852393   2020-12-31 23:59:34  4170689372027579   entertainment   38.13   \n\n        gender      lat      long  city_pop         dob  merch_lat  \\\n0            F  36.0788  -81.1781      3495  1988-03-09  36.011293   \n1            F  48.8878 -118.2105       149  1978-06-21  49.159047   \n2            M  42.1808 -112.2620      4154  1962-01-19  43.150704   \n3            M  46.2306 -112.1138      1939  1967-01-12  47.034331   \n4            M  38.4207  -79.4629        99  1986-03-28  38.674999   \n...        ...      ...       ...       ...         ...        ...   \n1852389      M  40.4931  -91.8912       519  1966-02-13  39.946837   \n1852390      M  29.0393  -95.4401     28739  1999-12-27  29.661049   \n1852391      F  46.1966 -118.9017      3684  1981-11-29  46.658340   \n1852392      M  44.6255 -116.4493       129  1965-12-15  44.470525   \n1852393      M  35.6665  -97.4798    116001  1993-05-10  36.210097   \n\n         merch_long  is_fraud  \n0        -82.048315         0  \n1       -118.186462         0  \n2       -112.154481         0  \n3       -112.561071         0  \n4        -78.632459         0  \n...             ...       ...  \n1852389  -91.333331         0  \n1852390  -96.186633         0  \n1852391 -119.715054         0  \n1852392 -117.080888         0  \n1852393  -97.036372         0  \n\n[1852394 rows x 12 columns]",
      "text/html": "<div>\n<style scoped>\n    .dataframe tbody tr th:only-of-type {\n        vertical-align: middle;\n    }\n\n    .dataframe tbody tr th {\n        vertical-align: top;\n    }\n\n    .dataframe thead th {\n        text-align: right;\n    }\n</style>\n<table border=\"1\" class=\"dataframe\">\n  <thead>\n    <tr style=\"text-align: right;\">\n      <th></th>\n      <th>trans_date_trans_time</th>\n      <th>cc_num</th>\n      <th>category</th>\n      <th>amt</th>\n      <th>gender</th>\n      <th>lat</th>\n      <th>long</th>\n      <th>city_pop</th>\n      <th>dob</th>\n      <th>merch_lat</th>\n      <th>merch_long</th>\n      <th>is_fraud</th>\n    </tr>\n  </thead>\n  <tbody>\n    <tr>\n      <th>0</th>\n      <td>2019-01-01 00:00:18</td>\n      <td>2703186189652095</td>\n      <td>misc_net</td>\n      <td>4.97</td>\n      <td>F</td>\n      <td>36.0788</td>\n      <td>-81.1781</td>\n      <td>3495</td>\n      <td>1988-03-09</td>\n      <td>36.011293</td>\n      <td>-82.048315</td>\n      <td>0</td>\n    </tr>\n    <tr>\n      <th>1</th>\n      <td>2019-01-01 00:00:44</td>\n      <td>630423337322</td>\n      <td>grocery_pos</td>\n      <td>107.23</td>\n      <td>F</td>\n      <td>48.8878</td>\n      <td>-118.2105</td>\n      <td>149</td>\n      <td>1978-06-21</td>\n      <td>49.159047</td>\n      <td>-118.186462</td>\n      <td>0</td>\n    </tr>\n    <tr>\n      <th>2</th>\n      <td>2019-01-01 00:00:51</td>\n      <td>38859492057661</td>\n      <td>entertainment</td>\n      <td>220.11</td>\n      <td>M</td>\n      <td>42.1808</td>\n      <td>-112.2620</td>\n      <td>4154</td>\n      <td>1962-01-19</td>\n      <td>43.150704</td>\n      <td>-112.154481</td>\n      <td>0</td>\n    </tr>\n    <tr>\n      <th>3</th>\n      <td>2019-01-01 00:01:16</td>\n      <td>3534093764340240</td>\n      <td>gas_transport</td>\n      <td>45.00</td>\n      <td>M</td>\n      <td>46.2306</td>\n      <td>-112.1138</td>\n      <td>1939</td>\n      <td>1967-01-12</td>\n      <td>47.034331</td>\n      <td>-112.561071</td>\n      <td>0</td>\n    </tr>\n    <tr>\n      <th>4</th>\n      <td>2019-01-01 00:03:06</td>\n      <td>375534208663984</td>\n      <td>misc_pos</td>\n      <td>41.96</td>\n      <td>M</td>\n      <td>38.4207</td>\n      <td>-79.4629</td>\n      <td>99</td>\n      <td>1986-03-28</td>\n      <td>38.674999</td>\n      <td>-78.632459</td>\n      <td>0</td>\n    </tr>\n    <tr>\n      <th>...</th>\n      <td>...</td>\n      <td>...</td>\n      <td>...</td>\n      <td>...</td>\n      <td>...</td>\n      <td>...</td>\n      <td>...</td>\n      <td>...</td>\n      <td>...</td>\n      <td>...</td>\n      <td>...</td>\n      <td>...</td>\n    </tr>\n    <tr>\n      <th>1852389</th>\n      <td>2020-12-31 23:59:07</td>\n      <td>30560609640617</td>\n      <td>health_fitness</td>\n      <td>43.77</td>\n      <td>M</td>\n      <td>40.4931</td>\n      <td>-91.8912</td>\n      <td>519</td>\n      <td>1966-02-13</td>\n      <td>39.946837</td>\n      <td>-91.333331</td>\n      <td>0</td>\n    </tr>\n    <tr>\n      <th>1852390</th>\n      <td>2020-12-31 23:59:09</td>\n      <td>3556613125071656</td>\n      <td>kids_pets</td>\n      <td>111.84</td>\n      <td>M</td>\n      <td>29.0393</td>\n      <td>-95.4401</td>\n      <td>28739</td>\n      <td>1999-12-27</td>\n      <td>29.661049</td>\n      <td>-96.186633</td>\n      <td>0</td>\n    </tr>\n    <tr>\n      <th>1852391</th>\n      <td>2020-12-31 23:59:15</td>\n      <td>6011724471098086</td>\n      <td>kids_pets</td>\n      <td>86.88</td>\n      <td>F</td>\n      <td>46.1966</td>\n      <td>-118.9017</td>\n      <td>3684</td>\n      <td>1981-11-29</td>\n      <td>46.658340</td>\n      <td>-119.715054</td>\n      <td>0</td>\n    </tr>\n    <tr>\n      <th>1852392</th>\n      <td>2020-12-31 23:59:24</td>\n      <td>4079773899158</td>\n      <td>travel</td>\n      <td>7.99</td>\n      <td>M</td>\n      <td>44.6255</td>\n      <td>-116.4493</td>\n      <td>129</td>\n      <td>1965-12-15</td>\n      <td>44.470525</td>\n      <td>-117.080888</td>\n      <td>0</td>\n    </tr>\n    <tr>\n      <th>1852393</th>\n      <td>2020-12-31 23:59:34</td>\n      <td>4170689372027579</td>\n      <td>entertainment</td>\n      <td>38.13</td>\n      <td>M</td>\n      <td>35.6665</td>\n      <td>-97.4798</td>\n      <td>116001</td>\n      <td>1993-05-10</td>\n      <td>36.210097</td>\n      <td>-97.036372</td>\n      <td>0</td>\n    </tr>\n  </tbody>\n</table>\n<p>1852394 rows × 12 columns</p>\n</div>"
     },
     "execution_count": 9,
     "metadata": {},
     "output_type": "execute_result"
    }
   ],
   "source": [
    "data"
   ],
   "metadata": {
    "collapsed": false,
    "pycharm": {
     "name": "#%%\n"
    }
   }
  },
  {
   "cell_type": "code",
   "execution_count": 10,
   "outputs": [
    {
     "data": {
      "text/plain": "                     trans_date_trans_time  category   amt  gender   lat  \\\ncc_num                                                                     \n60416207185                           2196      2196  2196    2196  2196   \n60422928733                           2200      2200  2200    2200  2200   \n60423098130                            738       738   738     738   738   \n60427851591                            743       743   743     743   743   \n60487002085                            735       735   735     735   735   \n...                                    ...       ...   ...     ...   ...   \n4958589671582726883                   2191      2191  2191    2191  2191   \n4973530368125489546                   1467      1467  1467    1467  1467   \n4980323467523543940                    736       736   736     736   736   \n4989847570577635369                   1471      1471  1471    1471  1471   \n4992346398065154184                   2922      2922  2922    2922  2922   \n\n                     long  city_pop   dob  merch_lat  merch_long  is_fraud  \ncc_num                                                                      \n60416207185          2196      2196  2196       2196        2196      2196  \n60422928733          2200      2200  2200       2200        2200      2200  \n60423098130           738       738   738        738         738       738  \n60427851591           743       743   743        743         743       743  \n60487002085           735       735   735        735         735       735  \n...                   ...       ...   ...        ...         ...       ...  \n4958589671582726883  2191      2191  2191       2191        2191      2191  \n4973530368125489546  1467      1467  1467       1467        1467      1467  \n4980323467523543940   736       736   736        736         736       736  \n4989847570577635369  1471      1471  1471       1471        1471      1471  \n4992346398065154184  2922      2922  2922       2922        2922      2922  \n\n[999 rows x 11 columns]",
      "text/html": "<div>\n<style scoped>\n    .dataframe tbody tr th:only-of-type {\n        vertical-align: middle;\n    }\n\n    .dataframe tbody tr th {\n        vertical-align: top;\n    }\n\n    .dataframe thead th {\n        text-align: right;\n    }\n</style>\n<table border=\"1\" class=\"dataframe\">\n  <thead>\n    <tr style=\"text-align: right;\">\n      <th></th>\n      <th>trans_date_trans_time</th>\n      <th>category</th>\n      <th>amt</th>\n      <th>gender</th>\n      <th>lat</th>\n      <th>long</th>\n      <th>city_pop</th>\n      <th>dob</th>\n      <th>merch_lat</th>\n      <th>merch_long</th>\n      <th>is_fraud</th>\n    </tr>\n    <tr>\n      <th>cc_num</th>\n      <th></th>\n      <th></th>\n      <th></th>\n      <th></th>\n      <th></th>\n      <th></th>\n      <th></th>\n      <th></th>\n      <th></th>\n      <th></th>\n      <th></th>\n    </tr>\n  </thead>\n  <tbody>\n    <tr>\n      <th>60416207185</th>\n      <td>2196</td>\n      <td>2196</td>\n      <td>2196</td>\n      <td>2196</td>\n      <td>2196</td>\n      <td>2196</td>\n      <td>2196</td>\n      <td>2196</td>\n      <td>2196</td>\n      <td>2196</td>\n      <td>2196</td>\n    </tr>\n    <tr>\n      <th>60422928733</th>\n      <td>2200</td>\n      <td>2200</td>\n      <td>2200</td>\n      <td>2200</td>\n      <td>2200</td>\n      <td>2200</td>\n      <td>2200</td>\n      <td>2200</td>\n      <td>2200</td>\n      <td>2200</td>\n      <td>2200</td>\n    </tr>\n    <tr>\n      <th>60423098130</th>\n      <td>738</td>\n      <td>738</td>\n      <td>738</td>\n      <td>738</td>\n      <td>738</td>\n      <td>738</td>\n      <td>738</td>\n      <td>738</td>\n      <td>738</td>\n      <td>738</td>\n      <td>738</td>\n    </tr>\n    <tr>\n      <th>60427851591</th>\n      <td>743</td>\n      <td>743</td>\n      <td>743</td>\n      <td>743</td>\n      <td>743</td>\n      <td>743</td>\n      <td>743</td>\n      <td>743</td>\n      <td>743</td>\n      <td>743</td>\n      <td>743</td>\n    </tr>\n    <tr>\n      <th>60487002085</th>\n      <td>735</td>\n      <td>735</td>\n      <td>735</td>\n      <td>735</td>\n      <td>735</td>\n      <td>735</td>\n      <td>735</td>\n      <td>735</td>\n      <td>735</td>\n      <td>735</td>\n      <td>735</td>\n    </tr>\n    <tr>\n      <th>...</th>\n      <td>...</td>\n      <td>...</td>\n      <td>...</td>\n      <td>...</td>\n      <td>...</td>\n      <td>...</td>\n      <td>...</td>\n      <td>...</td>\n      <td>...</td>\n      <td>...</td>\n      <td>...</td>\n    </tr>\n    <tr>\n      <th>4958589671582726883</th>\n      <td>2191</td>\n      <td>2191</td>\n      <td>2191</td>\n      <td>2191</td>\n      <td>2191</td>\n      <td>2191</td>\n      <td>2191</td>\n      <td>2191</td>\n      <td>2191</td>\n      <td>2191</td>\n      <td>2191</td>\n    </tr>\n    <tr>\n      <th>4973530368125489546</th>\n      <td>1467</td>\n      <td>1467</td>\n      <td>1467</td>\n      <td>1467</td>\n      <td>1467</td>\n      <td>1467</td>\n      <td>1467</td>\n      <td>1467</td>\n      <td>1467</td>\n      <td>1467</td>\n      <td>1467</td>\n    </tr>\n    <tr>\n      <th>4980323467523543940</th>\n      <td>736</td>\n      <td>736</td>\n      <td>736</td>\n      <td>736</td>\n      <td>736</td>\n      <td>736</td>\n      <td>736</td>\n      <td>736</td>\n      <td>736</td>\n      <td>736</td>\n      <td>736</td>\n    </tr>\n    <tr>\n      <th>4989847570577635369</th>\n      <td>1471</td>\n      <td>1471</td>\n      <td>1471</td>\n      <td>1471</td>\n      <td>1471</td>\n      <td>1471</td>\n      <td>1471</td>\n      <td>1471</td>\n      <td>1471</td>\n      <td>1471</td>\n      <td>1471</td>\n    </tr>\n    <tr>\n      <th>4992346398065154184</th>\n      <td>2922</td>\n      <td>2922</td>\n      <td>2922</td>\n      <td>2922</td>\n      <td>2922</td>\n      <td>2922</td>\n      <td>2922</td>\n      <td>2922</td>\n      <td>2922</td>\n      <td>2922</td>\n      <td>2922</td>\n    </tr>\n  </tbody>\n</table>\n<p>999 rows × 11 columns</p>\n</div>"
     },
     "execution_count": 10,
     "metadata": {},
     "output_type": "execute_result"
    }
   ],
   "source": [
    "data.groupby('cc_num').count()"
   ],
   "metadata": {
    "collapsed": false,
    "pycharm": {
     "name": "#%%\n"
    }
   }
  },
  {
   "cell_type": "code",
   "execution_count": 11,
   "outputs": [
    {
     "data": {
      "text/plain": "        cc_num        mean          std\n0  60416207185   59.257796   142.869746\n1  60422928733   65.483159    92.042844\n2  60423098130   96.376084  1000.693872\n3  60427851591  107.487550   131.014534\n4  60487002085   64.096925   153.207660",
      "text/html": "<div>\n<style scoped>\n    .dataframe tbody tr th:only-of-type {\n        vertical-align: middle;\n    }\n\n    .dataframe tbody tr th {\n        vertical-align: top;\n    }\n\n    .dataframe thead th {\n        text-align: right;\n    }\n</style>\n<table border=\"1\" class=\"dataframe\">\n  <thead>\n    <tr style=\"text-align: right;\">\n      <th></th>\n      <th>cc_num</th>\n      <th>mean</th>\n      <th>std</th>\n    </tr>\n  </thead>\n  <tbody>\n    <tr>\n      <th>0</th>\n      <td>60416207185</td>\n      <td>59.257796</td>\n      <td>142.869746</td>\n    </tr>\n    <tr>\n      <th>1</th>\n      <td>60422928733</td>\n      <td>65.483159</td>\n      <td>92.042844</td>\n    </tr>\n    <tr>\n      <th>2</th>\n      <td>60423098130</td>\n      <td>96.376084</td>\n      <td>1000.693872</td>\n    </tr>\n    <tr>\n      <th>3</th>\n      <td>60427851591</td>\n      <td>107.487550</td>\n      <td>131.014534</td>\n    </tr>\n    <tr>\n      <th>4</th>\n      <td>60487002085</td>\n      <td>64.096925</td>\n      <td>153.207660</td>\n    </tr>\n  </tbody>\n</table>\n</div>"
     },
     "execution_count": 11,
     "metadata": {},
     "output_type": "execute_result"
    }
   ],
   "source": [
    "amt_info = data.groupby('cc_num').agg(['mean' , 'std'])['amt'].reset_index() #cc_num별 amt 평균과 표준편차 계산\n",
    "\n",
    "amt_info.head()"
   ],
   "metadata": {
    "collapsed": false,
    "pycharm": {
     "name": "#%%\n"
    }
   }
  },
  {
   "cell_type": "code",
   "execution_count": 12,
   "outputs": [
    {
     "data": {
      "text/plain": "        trans_date_trans_time            cc_num        category     amt  \\\n0         2019-01-01 00:00:18  2703186189652095        misc_net    4.97   \n1         2019-01-01 00:00:44      630423337322     grocery_pos  107.23   \n2         2019-01-01 00:00:51    38859492057661   entertainment  220.11   \n3         2019-01-01 00:01:16  3534093764340240   gas_transport   45.00   \n4         2019-01-01 00:03:06   375534208663984        misc_pos   41.96   \n...                       ...               ...             ...     ...   \n1852389   2020-12-31 23:59:07    30560609640617  health_fitness   43.77   \n1852390   2020-12-31 23:59:09  3556613125071656       kids_pets  111.84   \n1852391   2020-12-31 23:59:15  6011724471098086       kids_pets   86.88   \n1852392   2020-12-31 23:59:24     4079773899158          travel    7.99   \n1852393   2020-12-31 23:59:34  4170689372027579   entertainment   38.13   \n\n        gender      lat      long  city_pop         dob  merch_lat  \\\n0            F  36.0788  -81.1781      3495  1988-03-09  36.011293   \n1            F  48.8878 -118.2105       149  1978-06-21  49.159047   \n2            M  42.1808 -112.2620      4154  1962-01-19  43.150704   \n3            M  46.2306 -112.1138      1939  1967-01-12  47.034331   \n4            M  38.4207  -79.4629        99  1986-03-28  38.674999   \n...        ...      ...       ...       ...         ...        ...   \n1852389      M  40.4931  -91.8912       519  1966-02-13  39.946837   \n1852390      M  29.0393  -95.4401     28739  1999-12-27  29.661049   \n1852391      F  46.1966 -118.9017      3684  1981-11-29  46.658340   \n1852392      M  44.6255 -116.4493       129  1965-12-15  44.470525   \n1852393      M  35.6665  -97.4798    116001  1993-05-10  36.210097   \n\n         merch_long  is_fraud       mean         std  \n0        -82.048315         0  89.408743  127.530101  \n1       -118.186462         0  56.078113  159.201852  \n2       -112.154481         0  69.924272  116.688602  \n3       -112.561071         0  80.090040  280.077880  \n4        -78.632459         0  95.341146   94.322842  \n...             ...       ...        ...         ...  \n1852389  -91.333331         0  62.347968  110.821153  \n1852390  -96.186633         0  50.452289  168.361122  \n1852391 -119.715054         0  88.704297  119.948793  \n1852392 -117.080888         0  60.998052   89.525640  \n1852393  -97.036372         0  61.737724  154.715895  \n\n[1852394 rows x 14 columns]",
      "text/html": "<div>\n<style scoped>\n    .dataframe tbody tr th:only-of-type {\n        vertical-align: middle;\n    }\n\n    .dataframe tbody tr th {\n        vertical-align: top;\n    }\n\n    .dataframe thead th {\n        text-align: right;\n    }\n</style>\n<table border=\"1\" class=\"dataframe\">\n  <thead>\n    <tr style=\"text-align: right;\">\n      <th></th>\n      <th>trans_date_trans_time</th>\n      <th>cc_num</th>\n      <th>category</th>\n      <th>amt</th>\n      <th>gender</th>\n      <th>lat</th>\n      <th>long</th>\n      <th>city_pop</th>\n      <th>dob</th>\n      <th>merch_lat</th>\n      <th>merch_long</th>\n      <th>is_fraud</th>\n      <th>mean</th>\n      <th>std</th>\n    </tr>\n  </thead>\n  <tbody>\n    <tr>\n      <th>0</th>\n      <td>2019-01-01 00:00:18</td>\n      <td>2703186189652095</td>\n      <td>misc_net</td>\n      <td>4.97</td>\n      <td>F</td>\n      <td>36.0788</td>\n      <td>-81.1781</td>\n      <td>3495</td>\n      <td>1988-03-09</td>\n      <td>36.011293</td>\n      <td>-82.048315</td>\n      <td>0</td>\n      <td>89.408743</td>\n      <td>127.530101</td>\n    </tr>\n    <tr>\n      <th>1</th>\n      <td>2019-01-01 00:00:44</td>\n      <td>630423337322</td>\n      <td>grocery_pos</td>\n      <td>107.23</td>\n      <td>F</td>\n      <td>48.8878</td>\n      <td>-118.2105</td>\n      <td>149</td>\n      <td>1978-06-21</td>\n      <td>49.159047</td>\n      <td>-118.186462</td>\n      <td>0</td>\n      <td>56.078113</td>\n      <td>159.201852</td>\n    </tr>\n    <tr>\n      <th>2</th>\n      <td>2019-01-01 00:00:51</td>\n      <td>38859492057661</td>\n      <td>entertainment</td>\n      <td>220.11</td>\n      <td>M</td>\n      <td>42.1808</td>\n      <td>-112.2620</td>\n      <td>4154</td>\n      <td>1962-01-19</td>\n      <td>43.150704</td>\n      <td>-112.154481</td>\n      <td>0</td>\n      <td>69.924272</td>\n      <td>116.688602</td>\n    </tr>\n    <tr>\n      <th>3</th>\n      <td>2019-01-01 00:01:16</td>\n      <td>3534093764340240</td>\n      <td>gas_transport</td>\n      <td>45.00</td>\n      <td>M</td>\n      <td>46.2306</td>\n      <td>-112.1138</td>\n      <td>1939</td>\n      <td>1967-01-12</td>\n      <td>47.034331</td>\n      <td>-112.561071</td>\n      <td>0</td>\n      <td>80.090040</td>\n      <td>280.077880</td>\n    </tr>\n    <tr>\n      <th>4</th>\n      <td>2019-01-01 00:03:06</td>\n      <td>375534208663984</td>\n      <td>misc_pos</td>\n      <td>41.96</td>\n      <td>M</td>\n      <td>38.4207</td>\n      <td>-79.4629</td>\n      <td>99</td>\n      <td>1986-03-28</td>\n      <td>38.674999</td>\n      <td>-78.632459</td>\n      <td>0</td>\n      <td>95.341146</td>\n      <td>94.322842</td>\n    </tr>\n    <tr>\n      <th>...</th>\n      <td>...</td>\n      <td>...</td>\n      <td>...</td>\n      <td>...</td>\n      <td>...</td>\n      <td>...</td>\n      <td>...</td>\n      <td>...</td>\n      <td>...</td>\n      <td>...</td>\n      <td>...</td>\n      <td>...</td>\n      <td>...</td>\n      <td>...</td>\n    </tr>\n    <tr>\n      <th>1852389</th>\n      <td>2020-12-31 23:59:07</td>\n      <td>30560609640617</td>\n      <td>health_fitness</td>\n      <td>43.77</td>\n      <td>M</td>\n      <td>40.4931</td>\n      <td>-91.8912</td>\n      <td>519</td>\n      <td>1966-02-13</td>\n      <td>39.946837</td>\n      <td>-91.333331</td>\n      <td>0</td>\n      <td>62.347968</td>\n      <td>110.821153</td>\n    </tr>\n    <tr>\n      <th>1852390</th>\n      <td>2020-12-31 23:59:09</td>\n      <td>3556613125071656</td>\n      <td>kids_pets</td>\n      <td>111.84</td>\n      <td>M</td>\n      <td>29.0393</td>\n      <td>-95.4401</td>\n      <td>28739</td>\n      <td>1999-12-27</td>\n      <td>29.661049</td>\n      <td>-96.186633</td>\n      <td>0</td>\n      <td>50.452289</td>\n      <td>168.361122</td>\n    </tr>\n    <tr>\n      <th>1852391</th>\n      <td>2020-12-31 23:59:15</td>\n      <td>6011724471098086</td>\n      <td>kids_pets</td>\n      <td>86.88</td>\n      <td>F</td>\n      <td>46.1966</td>\n      <td>-118.9017</td>\n      <td>3684</td>\n      <td>1981-11-29</td>\n      <td>46.658340</td>\n      <td>-119.715054</td>\n      <td>0</td>\n      <td>88.704297</td>\n      <td>119.948793</td>\n    </tr>\n    <tr>\n      <th>1852392</th>\n      <td>2020-12-31 23:59:24</td>\n      <td>4079773899158</td>\n      <td>travel</td>\n      <td>7.99</td>\n      <td>M</td>\n      <td>44.6255</td>\n      <td>-116.4493</td>\n      <td>129</td>\n      <td>1965-12-15</td>\n      <td>44.470525</td>\n      <td>-117.080888</td>\n      <td>0</td>\n      <td>60.998052</td>\n      <td>89.525640</td>\n    </tr>\n    <tr>\n      <th>1852393</th>\n      <td>2020-12-31 23:59:34</td>\n      <td>4170689372027579</td>\n      <td>entertainment</td>\n      <td>38.13</td>\n      <td>M</td>\n      <td>35.6665</td>\n      <td>-97.4798</td>\n      <td>116001</td>\n      <td>1993-05-10</td>\n      <td>36.210097</td>\n      <td>-97.036372</td>\n      <td>0</td>\n      <td>61.737724</td>\n      <td>154.715895</td>\n    </tr>\n  </tbody>\n</table>\n<p>1852394 rows × 14 columns</p>\n</div>"
     },
     "execution_count": 12,
     "metadata": {},
     "output_type": "execute_result"
    }
   ],
   "source": [
    "data = data.merge(amt_info , on = 'cc_num' , how = 'left') # 데이터 합치기\n",
    "data"
   ],
   "metadata": {
    "collapsed": false,
    "pycharm": {
     "name": "#%%\n"
    }
   }
  },
  {
   "cell_type": "code",
   "execution_count": 13,
   "outputs": [],
   "source": [
    "data['amt_z_score'] = (data['amt'] - data['mean']) / data['std']  # z-score 계산"
   ],
   "metadata": {
    "collapsed": false,
    "pycharm": {
     "name": "#%%\n"
    }
   }
  },
  {
   "cell_type": "code",
   "execution_count": 14,
   "outputs": [
    {
     "data": {
      "text/plain": "      amt       mean         std  amt_z_score\n0    4.97  89.408743  127.530101    -0.662108\n1  107.23  56.078113  159.201852     0.321302\n2  220.11  69.924272  116.688602     1.287064\n3   45.00  80.090040  280.077880    -0.125287\n4   41.96  95.341146   94.322842    -0.565941",
      "text/html": "<div>\n<style scoped>\n    .dataframe tbody tr th:only-of-type {\n        vertical-align: middle;\n    }\n\n    .dataframe tbody tr th {\n        vertical-align: top;\n    }\n\n    .dataframe thead th {\n        text-align: right;\n    }\n</style>\n<table border=\"1\" class=\"dataframe\">\n  <thead>\n    <tr style=\"text-align: right;\">\n      <th></th>\n      <th>amt</th>\n      <th>mean</th>\n      <th>std</th>\n      <th>amt_z_score</th>\n    </tr>\n  </thead>\n  <tbody>\n    <tr>\n      <th>0</th>\n      <td>4.97</td>\n      <td>89.408743</td>\n      <td>127.530101</td>\n      <td>-0.662108</td>\n    </tr>\n    <tr>\n      <th>1</th>\n      <td>107.23</td>\n      <td>56.078113</td>\n      <td>159.201852</td>\n      <td>0.321302</td>\n    </tr>\n    <tr>\n      <th>2</th>\n      <td>220.11</td>\n      <td>69.924272</td>\n      <td>116.688602</td>\n      <td>1.287064</td>\n    </tr>\n    <tr>\n      <th>3</th>\n      <td>45.00</td>\n      <td>80.090040</td>\n      <td>280.077880</td>\n      <td>-0.125287</td>\n    </tr>\n    <tr>\n      <th>4</th>\n      <td>41.96</td>\n      <td>95.341146</td>\n      <td>94.322842</td>\n      <td>-0.565941</td>\n    </tr>\n  </tbody>\n</table>\n</div>"
     },
     "execution_count": 14,
     "metadata": {},
     "output_type": "execute_result"
    }
   ],
   "source": [
    "data[['amt' , 'mean' , 'std' , 'amt_z_score']].head()"
   ],
   "metadata": {
    "collapsed": false,
    "pycharm": {
     "name": "#%%\n"
    }
   }
  },
  {
   "cell_type": "code",
   "execution_count": 15,
   "outputs": [],
   "source": [
    "data.drop(['mean' , 'std'] , axis = 1 , inplace =True)  # 변수 제거"
   ],
   "metadata": {
    "collapsed": false,
    "pycharm": {
     "name": "#%%\n"
    }
   }
  },
  {
   "cell_type": "code",
   "execution_count": 16,
   "outputs": [
    {
     "data": {
      "text/plain": "        trans_date_trans_time            cc_num        category     amt  \\\n0         2019-01-01 00:00:18  2703186189652095        misc_net    4.97   \n1         2019-01-01 00:00:44      630423337322     grocery_pos  107.23   \n2         2019-01-01 00:00:51    38859492057661   entertainment  220.11   \n3         2019-01-01 00:01:16  3534093764340240   gas_transport   45.00   \n4         2019-01-01 00:03:06   375534208663984        misc_pos   41.96   \n...                       ...               ...             ...     ...   \n1852389   2020-12-31 23:59:07    30560609640617  health_fitness   43.77   \n1852390   2020-12-31 23:59:09  3556613125071656       kids_pets  111.84   \n1852391   2020-12-31 23:59:15  6011724471098086       kids_pets   86.88   \n1852392   2020-12-31 23:59:24     4079773899158          travel    7.99   \n1852393   2020-12-31 23:59:34  4170689372027579   entertainment   38.13   \n\n        gender      lat      long  city_pop         dob  merch_lat  \\\n0            F  36.0788  -81.1781      3495  1988-03-09  36.011293   \n1            F  48.8878 -118.2105       149  1978-06-21  49.159047   \n2            M  42.1808 -112.2620      4154  1962-01-19  43.150704   \n3            M  46.2306 -112.1138      1939  1967-01-12  47.034331   \n4            M  38.4207  -79.4629        99  1986-03-28  38.674999   \n...        ...      ...       ...       ...         ...        ...   \n1852389      M  40.4931  -91.8912       519  1966-02-13  39.946837   \n1852390      M  29.0393  -95.4401     28739  1999-12-27  29.661049   \n1852391      F  46.1966 -118.9017      3684  1981-11-29  46.658340   \n1852392      M  44.6255 -116.4493       129  1965-12-15  44.470525   \n1852393      M  35.6665  -97.4798    116001  1993-05-10  36.210097   \n\n         merch_long  is_fraud  amt_z_score  \n0        -82.048315         0    -0.662108  \n1       -118.186462         0     0.321302  \n2       -112.154481         0     1.287064  \n3       -112.561071         0    -0.125287  \n4        -78.632459         0    -0.565941  \n...             ...       ...          ...  \n1852389  -91.333331         0    -0.167639  \n1852390  -96.186633         0     0.364619  \n1852391 -119.715054         0    -0.015209  \n1852392 -117.080888         0    -0.592099  \n1852393  -97.036372         0    -0.152588  \n\n[1852394 rows x 13 columns]",
      "text/html": "<div>\n<style scoped>\n    .dataframe tbody tr th:only-of-type {\n        vertical-align: middle;\n    }\n\n    .dataframe tbody tr th {\n        vertical-align: top;\n    }\n\n    .dataframe thead th {\n        text-align: right;\n    }\n</style>\n<table border=\"1\" class=\"dataframe\">\n  <thead>\n    <tr style=\"text-align: right;\">\n      <th></th>\n      <th>trans_date_trans_time</th>\n      <th>cc_num</th>\n      <th>category</th>\n      <th>amt</th>\n      <th>gender</th>\n      <th>lat</th>\n      <th>long</th>\n      <th>city_pop</th>\n      <th>dob</th>\n      <th>merch_lat</th>\n      <th>merch_long</th>\n      <th>is_fraud</th>\n      <th>amt_z_score</th>\n    </tr>\n  </thead>\n  <tbody>\n    <tr>\n      <th>0</th>\n      <td>2019-01-01 00:00:18</td>\n      <td>2703186189652095</td>\n      <td>misc_net</td>\n      <td>4.97</td>\n      <td>F</td>\n      <td>36.0788</td>\n      <td>-81.1781</td>\n      <td>3495</td>\n      <td>1988-03-09</td>\n      <td>36.011293</td>\n      <td>-82.048315</td>\n      <td>0</td>\n      <td>-0.662108</td>\n    </tr>\n    <tr>\n      <th>1</th>\n      <td>2019-01-01 00:00:44</td>\n      <td>630423337322</td>\n      <td>grocery_pos</td>\n      <td>107.23</td>\n      <td>F</td>\n      <td>48.8878</td>\n      <td>-118.2105</td>\n      <td>149</td>\n      <td>1978-06-21</td>\n      <td>49.159047</td>\n      <td>-118.186462</td>\n      <td>0</td>\n      <td>0.321302</td>\n    </tr>\n    <tr>\n      <th>2</th>\n      <td>2019-01-01 00:00:51</td>\n      <td>38859492057661</td>\n      <td>entertainment</td>\n      <td>220.11</td>\n      <td>M</td>\n      <td>42.1808</td>\n      <td>-112.2620</td>\n      <td>4154</td>\n      <td>1962-01-19</td>\n      <td>43.150704</td>\n      <td>-112.154481</td>\n      <td>0</td>\n      <td>1.287064</td>\n    </tr>\n    <tr>\n      <th>3</th>\n      <td>2019-01-01 00:01:16</td>\n      <td>3534093764340240</td>\n      <td>gas_transport</td>\n      <td>45.00</td>\n      <td>M</td>\n      <td>46.2306</td>\n      <td>-112.1138</td>\n      <td>1939</td>\n      <td>1967-01-12</td>\n      <td>47.034331</td>\n      <td>-112.561071</td>\n      <td>0</td>\n      <td>-0.125287</td>\n    </tr>\n    <tr>\n      <th>4</th>\n      <td>2019-01-01 00:03:06</td>\n      <td>375534208663984</td>\n      <td>misc_pos</td>\n      <td>41.96</td>\n      <td>M</td>\n      <td>38.4207</td>\n      <td>-79.4629</td>\n      <td>99</td>\n      <td>1986-03-28</td>\n      <td>38.674999</td>\n      <td>-78.632459</td>\n      <td>0</td>\n      <td>-0.565941</td>\n    </tr>\n    <tr>\n      <th>...</th>\n      <td>...</td>\n      <td>...</td>\n      <td>...</td>\n      <td>...</td>\n      <td>...</td>\n      <td>...</td>\n      <td>...</td>\n      <td>...</td>\n      <td>...</td>\n      <td>...</td>\n      <td>...</td>\n      <td>...</td>\n      <td>...</td>\n    </tr>\n    <tr>\n      <th>1852389</th>\n      <td>2020-12-31 23:59:07</td>\n      <td>30560609640617</td>\n      <td>health_fitness</td>\n      <td>43.77</td>\n      <td>M</td>\n      <td>40.4931</td>\n      <td>-91.8912</td>\n      <td>519</td>\n      <td>1966-02-13</td>\n      <td>39.946837</td>\n      <td>-91.333331</td>\n      <td>0</td>\n      <td>-0.167639</td>\n    </tr>\n    <tr>\n      <th>1852390</th>\n      <td>2020-12-31 23:59:09</td>\n      <td>3556613125071656</td>\n      <td>kids_pets</td>\n      <td>111.84</td>\n      <td>M</td>\n      <td>29.0393</td>\n      <td>-95.4401</td>\n      <td>28739</td>\n      <td>1999-12-27</td>\n      <td>29.661049</td>\n      <td>-96.186633</td>\n      <td>0</td>\n      <td>0.364619</td>\n    </tr>\n    <tr>\n      <th>1852391</th>\n      <td>2020-12-31 23:59:15</td>\n      <td>6011724471098086</td>\n      <td>kids_pets</td>\n      <td>86.88</td>\n      <td>F</td>\n      <td>46.1966</td>\n      <td>-118.9017</td>\n      <td>3684</td>\n      <td>1981-11-29</td>\n      <td>46.658340</td>\n      <td>-119.715054</td>\n      <td>0</td>\n      <td>-0.015209</td>\n    </tr>\n    <tr>\n      <th>1852392</th>\n      <td>2020-12-31 23:59:24</td>\n      <td>4079773899158</td>\n      <td>travel</td>\n      <td>7.99</td>\n      <td>M</td>\n      <td>44.6255</td>\n      <td>-116.4493</td>\n      <td>129</td>\n      <td>1965-12-15</td>\n      <td>44.470525</td>\n      <td>-117.080888</td>\n      <td>0</td>\n      <td>-0.592099</td>\n    </tr>\n    <tr>\n      <th>1852393</th>\n      <td>2020-12-31 23:59:34</td>\n      <td>4170689372027579</td>\n      <td>entertainment</td>\n      <td>38.13</td>\n      <td>M</td>\n      <td>35.6665</td>\n      <td>-97.4798</td>\n      <td>116001</td>\n      <td>1993-05-10</td>\n      <td>36.210097</td>\n      <td>-97.036372</td>\n      <td>0</td>\n      <td>-0.152588</td>\n    </tr>\n  </tbody>\n</table>\n<p>1852394 rows × 13 columns</p>\n</div>"
     },
     "execution_count": 16,
     "metadata": {},
     "output_type": "execute_result"
    }
   ],
   "source": [
    "data"
   ],
   "metadata": {
    "collapsed": false,
    "pycharm": {
     "name": "#%%\n"
    }
   }
  },
  {
   "cell_type": "code",
   "execution_count": 17,
   "outputs": [],
   "source": [
    "category_info = data.groupby(['cc_num' , 'category']).agg(['mean' , 'std'])['amt'].reset_index()"
   ],
   "metadata": {
    "collapsed": false,
    "pycharm": {
     "name": "#%%\n"
    }
   }
  },
  {
   "cell_type": "code",
   "execution_count": 18,
   "outputs": [
    {
     "data": {
      "text/plain": "        trans_date_trans_time            cc_num        category     amt  \\\n0         2019-01-01 00:00:18  2703186189652095        misc_net    4.97   \n1         2019-01-01 00:00:44      630423337322     grocery_pos  107.23   \n2         2019-01-01 00:00:51    38859492057661   entertainment  220.11   \n3         2019-01-01 00:01:16  3534093764340240   gas_transport   45.00   \n4         2019-01-01 00:03:06   375534208663984        misc_pos   41.96   \n...                       ...               ...             ...     ...   \n1852389   2020-12-31 23:59:07    30560609640617  health_fitness   43.77   \n1852390   2020-12-31 23:59:09  3556613125071656       kids_pets  111.84   \n1852391   2020-12-31 23:59:15  6011724471098086       kids_pets   86.88   \n1852392   2020-12-31 23:59:24     4079773899158          travel    7.99   \n1852393   2020-12-31 23:59:34  4170689372027579   entertainment   38.13   \n\n        gender      lat      long  city_pop         dob  merch_lat  \\\n0            F  36.0788  -81.1781      3495  1988-03-09  36.011293   \n1            F  48.8878 -118.2105       149  1978-06-21  49.159047   \n2            M  42.1808 -112.2620      4154  1962-01-19  43.150704   \n3            M  46.2306 -112.1138      1939  1967-01-12  47.034331   \n4            M  38.4207  -79.4629        99  1986-03-28  38.674999   \n...        ...      ...       ...       ...         ...        ...   \n1852389      M  40.4931  -91.8912       519  1966-02-13  39.946837   \n1852390      M  29.0393  -95.4401     28739  1999-12-27  29.661049   \n1852391      F  46.1966 -118.9017      3684  1981-11-29  46.658340   \n1852392      M  44.6255 -116.4493       129  1965-12-15  44.470525   \n1852393      M  35.6665  -97.4798    116001  1993-05-10  36.210097   \n\n         merch_long  is_fraud  amt_z_score  cat_z_score  \n0        -82.048315         0    -0.662108    -0.688297  \n1       -118.186462         0     0.321302     0.317631  \n2       -112.154481         0     1.287064     2.872509  \n3       -112.561071         0    -0.125287    -1.050197  \n4        -78.632459         0    -0.565941     1.312866  \n...             ...       ...          ...          ...  \n1852389  -91.333331         0    -0.167639    -0.047862  \n1852390  -96.186633         0     0.364619     1.163822  \n1852391 -119.715054         0    -0.015209     0.440137  \n1852392 -117.080888         0    -0.592099    -0.007423  \n1852393  -97.036372         0    -0.152588    -0.380698  \n\n[1852394 rows x 14 columns]",
      "text/html": "<div>\n<style scoped>\n    .dataframe tbody tr th:only-of-type {\n        vertical-align: middle;\n    }\n\n    .dataframe tbody tr th {\n        vertical-align: top;\n    }\n\n    .dataframe thead th {\n        text-align: right;\n    }\n</style>\n<table border=\"1\" class=\"dataframe\">\n  <thead>\n    <tr style=\"text-align: right;\">\n      <th></th>\n      <th>trans_date_trans_time</th>\n      <th>cc_num</th>\n      <th>category</th>\n      <th>amt</th>\n      <th>gender</th>\n      <th>lat</th>\n      <th>long</th>\n      <th>city_pop</th>\n      <th>dob</th>\n      <th>merch_lat</th>\n      <th>merch_long</th>\n      <th>is_fraud</th>\n      <th>amt_z_score</th>\n      <th>cat_z_score</th>\n    </tr>\n  </thead>\n  <tbody>\n    <tr>\n      <th>0</th>\n      <td>2019-01-01 00:00:18</td>\n      <td>2703186189652095</td>\n      <td>misc_net</td>\n      <td>4.97</td>\n      <td>F</td>\n      <td>36.0788</td>\n      <td>-81.1781</td>\n      <td>3495</td>\n      <td>1988-03-09</td>\n      <td>36.011293</td>\n      <td>-82.048315</td>\n      <td>0</td>\n      <td>-0.662108</td>\n      <td>-0.688297</td>\n    </tr>\n    <tr>\n      <th>1</th>\n      <td>2019-01-01 00:00:44</td>\n      <td>630423337322</td>\n      <td>grocery_pos</td>\n      <td>107.23</td>\n      <td>F</td>\n      <td>48.8878</td>\n      <td>-118.2105</td>\n      <td>149</td>\n      <td>1978-06-21</td>\n      <td>49.159047</td>\n      <td>-118.186462</td>\n      <td>0</td>\n      <td>0.321302</td>\n      <td>0.317631</td>\n    </tr>\n    <tr>\n      <th>2</th>\n      <td>2019-01-01 00:00:51</td>\n      <td>38859492057661</td>\n      <td>entertainment</td>\n      <td>220.11</td>\n      <td>M</td>\n      <td>42.1808</td>\n      <td>-112.2620</td>\n      <td>4154</td>\n      <td>1962-01-19</td>\n      <td>43.150704</td>\n      <td>-112.154481</td>\n      <td>0</td>\n      <td>1.287064</td>\n      <td>2.872509</td>\n    </tr>\n    <tr>\n      <th>3</th>\n      <td>2019-01-01 00:01:16</td>\n      <td>3534093764340240</td>\n      <td>gas_transport</td>\n      <td>45.00</td>\n      <td>M</td>\n      <td>46.2306</td>\n      <td>-112.1138</td>\n      <td>1939</td>\n      <td>1967-01-12</td>\n      <td>47.034331</td>\n      <td>-112.561071</td>\n      <td>0</td>\n      <td>-0.125287</td>\n      <td>-1.050197</td>\n    </tr>\n    <tr>\n      <th>4</th>\n      <td>2019-01-01 00:03:06</td>\n      <td>375534208663984</td>\n      <td>misc_pos</td>\n      <td>41.96</td>\n      <td>M</td>\n      <td>38.4207</td>\n      <td>-79.4629</td>\n      <td>99</td>\n      <td>1986-03-28</td>\n      <td>38.674999</td>\n      <td>-78.632459</td>\n      <td>0</td>\n      <td>-0.565941</td>\n      <td>1.312866</td>\n    </tr>\n    <tr>\n      <th>...</th>\n      <td>...</td>\n      <td>...</td>\n      <td>...</td>\n      <td>...</td>\n      <td>...</td>\n      <td>...</td>\n      <td>...</td>\n      <td>...</td>\n      <td>...</td>\n      <td>...</td>\n      <td>...</td>\n      <td>...</td>\n      <td>...</td>\n      <td>...</td>\n    </tr>\n    <tr>\n      <th>1852389</th>\n      <td>2020-12-31 23:59:07</td>\n      <td>30560609640617</td>\n      <td>health_fitness</td>\n      <td>43.77</td>\n      <td>M</td>\n      <td>40.4931</td>\n      <td>-91.8912</td>\n      <td>519</td>\n      <td>1966-02-13</td>\n      <td>39.946837</td>\n      <td>-91.333331</td>\n      <td>0</td>\n      <td>-0.167639</td>\n      <td>-0.047862</td>\n    </tr>\n    <tr>\n      <th>1852390</th>\n      <td>2020-12-31 23:59:09</td>\n      <td>3556613125071656</td>\n      <td>kids_pets</td>\n      <td>111.84</td>\n      <td>M</td>\n      <td>29.0393</td>\n      <td>-95.4401</td>\n      <td>28739</td>\n      <td>1999-12-27</td>\n      <td>29.661049</td>\n      <td>-96.186633</td>\n      <td>0</td>\n      <td>0.364619</td>\n      <td>1.163822</td>\n    </tr>\n    <tr>\n      <th>1852391</th>\n      <td>2020-12-31 23:59:15</td>\n      <td>6011724471098086</td>\n      <td>kids_pets</td>\n      <td>86.88</td>\n      <td>F</td>\n      <td>46.1966</td>\n      <td>-118.9017</td>\n      <td>3684</td>\n      <td>1981-11-29</td>\n      <td>46.658340</td>\n      <td>-119.715054</td>\n      <td>0</td>\n      <td>-0.015209</td>\n      <td>0.440137</td>\n    </tr>\n    <tr>\n      <th>1852392</th>\n      <td>2020-12-31 23:59:24</td>\n      <td>4079773899158</td>\n      <td>travel</td>\n      <td>7.99</td>\n      <td>M</td>\n      <td>44.6255</td>\n      <td>-116.4493</td>\n      <td>129</td>\n      <td>1965-12-15</td>\n      <td>44.470525</td>\n      <td>-117.080888</td>\n      <td>0</td>\n      <td>-0.592099</td>\n      <td>-0.007423</td>\n    </tr>\n    <tr>\n      <th>1852393</th>\n      <td>2020-12-31 23:59:34</td>\n      <td>4170689372027579</td>\n      <td>entertainment</td>\n      <td>38.13</td>\n      <td>M</td>\n      <td>35.6665</td>\n      <td>-97.4798</td>\n      <td>116001</td>\n      <td>1993-05-10</td>\n      <td>36.210097</td>\n      <td>-97.036372</td>\n      <td>0</td>\n      <td>-0.152588</td>\n      <td>-0.380698</td>\n    </tr>\n  </tbody>\n</table>\n<p>1852394 rows × 14 columns</p>\n</div>"
     },
     "execution_count": 18,
     "metadata": {},
     "output_type": "execute_result"
    }
   ],
   "source": [
    "data = data.merge(category_info , on = ['cc_num' , 'category'] , how = 'left')\n",
    "\n",
    "data['cat_z_score'] = (data['amt'] - data['mean']) / data['std']\n",
    "\n",
    "data.drop(['mean' , 'std'] , axis = 1 , inplace =True)\n",
    "\n",
    "data"
   ],
   "metadata": {
    "collapsed": false,
    "pycharm": {
     "name": "#%%\n"
    }
   }
  },
  {
   "cell_type": "code",
   "execution_count": null,
   "outputs": [],
   "source": [
    "import geopy"
   ],
   "metadata": {
    "collapsed": false,
    "pycharm": {
     "name": "#%%\n"
    }
   }
  }
 ],
 "metadata": {
  "kernelspec": {
   "display_name": "Python 3",
   "language": "python",
   "name": "python3"
  },
  "language_info": {
   "codemirror_mode": {
    "name": "ipython",
    "version": 2
   },
   "file_extension": ".py",
   "mimetype": "text/x-python",
   "name": "python",
   "nbconvert_exporter": "python",
   "pygments_lexer": "ipython2",
   "version": "2.7.6"
  }
 },
 "nbformat": 4,
 "nbformat_minor": 0
}