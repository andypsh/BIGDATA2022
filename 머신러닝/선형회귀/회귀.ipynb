{
 "cells": [
  {
   "cell_type": "code",
   "execution_count": 1,
   "metadata": {
    "collapsed": true,
    "pycharm": {
     "name": "#%%\n"
    }
   },
   "outputs": [],
   "source": [
    "import numpy as np\n",
    "import pandas as pd\n",
    "\n",
    "from sklearn.metrics import mean_absolute_error , mean_squared_error , mean_squared_log_error , r2_score"
   ]
  },
  {
   "cell_type": "code",
   "execution_count": 2,
   "outputs": [
    {
     "name": "stdout",
     "output_type": "stream",
     "text": [
      "MAE :\t 0.5385\n",
      "MSE :\t 0.6923\n",
      "RMSE :\t 0.8321\n",
      "MSLE :\t 0.0296\n",
      "RMSLE :\t 0.1721\n"
     ]
    }
   ],
   "source": [
    "true = np.array([1,2,3,2,3,5,4,6,5,6,7,8,8]) # 실제값\n",
    "preds = np.array([1,1,2,2,3,4,4,5,5,7,7,6,8]) # 예측값\n",
    "\n",
    "MAE = mean_absolute_error(true , preds)\n",
    "MSE = mean_squared_error(true , preds)\n",
    "RMSE = np.sqrt(MSE)\n",
    "MSLE = mean_squared_log_error(true , preds)\n",
    "RMSLE = np.sqrt(mean_squared_log_error(true , preds))\n",
    "R2 = r2_score(true, preds)\n",
    "\n",
    "\n",
    "print(f'MAE :\\t {MAE:.4f}')\n",
    "print(f'MSE :\\t {MSE:.4f}')\n",
    "print(f'RMSE :\\t {RMSE:.4f}')\n",
    "print(f'MSLE :\\t {MSLE:.4f}')\n",
    "print(f'RMSLE :\\t {RMSLE:.4f}')"
   ],
   "metadata": {
    "collapsed": false,
    "pycharm": {
     "name": "#%%\n"
    }
   }
  },
  {
   "cell_type": "code",
   "execution_count": 3,
   "outputs": [
    {
     "name": "stdout",
     "output_type": "stream",
     "text": [
      "레이블 인코딩 적용 후 데이터  [3 2 1 0 2 1 1 3]\n"
     ]
    }
   ],
   "source": [
    "from sklearn.preprocessing import LabelEncoder #레이블 인코더\n",
    "\n",
    "fruits = ['사과' , '블루베리' , '바나나' , '귤' , '블루베리' , '바나나' ,'바나나' , '사과']\n",
    "\n",
    "label_encoder = LabelEncoder() # 레이블 인코더 생성\n",
    "\n",
    "fruits_label_encoed = label_encoder.fit_transform(fruits)\n",
    "\n",
    "print('레이블 인코딩 적용 후 데이터 ' , fruits_label_encoed)"
   ],
   "metadata": {
    "collapsed": false,
    "pycharm": {
     "name": "#%%\n"
    }
   }
  },
  {
   "cell_type": "code",
   "execution_count": 4,
   "outputs": [
    {
     "name": "stdout",
     "output_type": "stream",
     "text": [
      "원-핫 인코딩 적용 후 데이터  [[0. 0. 0. 1.]\n",
      " [0. 0. 1. 0.]\n",
      " [0. 1. 0. 0.]\n",
      " [1. 0. 0. 0.]\n",
      " [0. 0. 1. 0.]\n",
      " [0. 1. 0. 0.]\n",
      " [0. 1. 0. 0.]\n",
      " [0. 0. 0. 1.]]\n"
     ]
    }
   ],
   "source": [
    "from sklearn.preprocessing import LabelEncoder , OneHotEncoder #레이블 인코더 , 원 핫 인코더\n",
    "\n",
    "fruits = ['사과' , '블루베리' , '바나나' , '귤' , '블루베리' , '바나나' ,'바나나' , '사과']\n",
    "\n",
    "label_encoder = LabelEncoder() # 레이블 인코더 생성\n",
    "onehot_encoder = OneHotEncoder()\n",
    "\n",
    "fruits_label_encoed = label_encoder.fit_transform(fruits) # 레이블 인코더 적용\n",
    "\n",
    "fruits_onehot_encoed = onehot_encoder.fit_transform(fruits_label_encoed.reshape(-1,1))\n",
    "# reshape(-1,1) 메서드를 이용해 2차원으로 바꾸었다.\n",
    "print('원-핫 인코딩 적용 후 데이터 ' , fruits_onehot_encoed.toarray())\n"
   ],
   "metadata": {
    "collapsed": false,
    "pycharm": {
     "name": "#%%\n"
    }
   }
  },
  {
   "cell_type": "code",
   "execution_count": 5,
   "outputs": [
    {
     "data": {
      "text/plain": "   귤  바나나  블루베리  사과\n0  0    0     0   1\n1  0    0     1   0\n2  0    1     0   0\n3  1    0     0   0\n4  0    0     1   0\n5  0    1     0   0\n6  0    1     0   0\n7  0    0     0   1",
      "text/html": "<div>\n<style scoped>\n    .dataframe tbody tr th:only-of-type {\n        vertical-align: middle;\n    }\n\n    .dataframe tbody tr th {\n        vertical-align: top;\n    }\n\n    .dataframe thead th {\n        text-align: right;\n    }\n</style>\n<table border=\"1\" class=\"dataframe\">\n  <thead>\n    <tr style=\"text-align: right;\">\n      <th></th>\n      <th>귤</th>\n      <th>바나나</th>\n      <th>블루베리</th>\n      <th>사과</th>\n    </tr>\n  </thead>\n  <tbody>\n    <tr>\n      <th>0</th>\n      <td>0</td>\n      <td>0</td>\n      <td>0</td>\n      <td>1</td>\n    </tr>\n    <tr>\n      <th>1</th>\n      <td>0</td>\n      <td>0</td>\n      <td>1</td>\n      <td>0</td>\n    </tr>\n    <tr>\n      <th>2</th>\n      <td>0</td>\n      <td>1</td>\n      <td>0</td>\n      <td>0</td>\n    </tr>\n    <tr>\n      <th>3</th>\n      <td>1</td>\n      <td>0</td>\n      <td>0</td>\n      <td>0</td>\n    </tr>\n    <tr>\n      <th>4</th>\n      <td>0</td>\n      <td>0</td>\n      <td>1</td>\n      <td>0</td>\n    </tr>\n    <tr>\n      <th>5</th>\n      <td>0</td>\n      <td>1</td>\n      <td>0</td>\n      <td>0</td>\n    </tr>\n    <tr>\n      <th>6</th>\n      <td>0</td>\n      <td>1</td>\n      <td>0</td>\n      <td>0</td>\n    </tr>\n    <tr>\n      <th>7</th>\n      <td>0</td>\n      <td>0</td>\n      <td>0</td>\n      <td>1</td>\n    </tr>\n  </tbody>\n</table>\n</div>"
     },
     "execution_count": 5,
     "metadata": {},
     "output_type": "execute_result"
    }
   ],
   "source": [
    "pd.get_dummies(fruits)"
   ],
   "metadata": {
    "collapsed": false,
    "pycharm": {
     "name": "#%%\n"
    }
   }
  },
  {
   "cell_type": "markdown",
   "source": [],
   "metadata": {
    "collapsed": false,
    "pycharm": {
     "name": "#%% md\n"
    }
   }
  },
  {
   "cell_type": "code",
   "execution_count": 6,
   "outputs": [
    {
     "name": "stdout",
     "output_type": "stream",
     "text": [
      "      키  몸무게\n",
      "광일  1.7   75\n",
      "혜성  1.5   55\n",
      "덕수  1.8   60\n"
     ]
    }
   ],
   "source": [
    "height_weight_dict = {'키' : [1.7 , 1.5 , 1.8] , '몸무게' : [75,55,60]}\n",
    "df = pd.DataFrame(height_weight_dict , index = ['광일' , '혜성' , '덕수'])\n",
    "\n",
    "print(df)"
   ],
   "metadata": {
    "collapsed": false,
    "pycharm": {
     "name": "#%%\n"
    }
   }
  },
  {
   "cell_type": "code",
   "execution_count": 7,
   "outputs": [
    {
     "data": {
      "text/plain": "array([[0.66666667, 1.        ],\n       [0.        , 0.        ],\n       [1.        , 0.25      ]])"
     },
     "execution_count": 7,
     "metadata": {},
     "output_type": "execute_result"
    }
   ],
   "source": [
    "from sklearn.preprocessing import MinMaxScaler\n",
    "\n",
    "# min-max 정규화 객체 생성\n",
    "\n",
    "scaler = MinMaxScaler()\n",
    "\n",
    "# min-max 정규화 적용\n",
    "\n",
    "df_scaled = scaler.fit_transform(df)\n",
    "df_scaled"
   ],
   "metadata": {
    "collapsed": false,
    "pycharm": {
     "name": "#%%\n"
    }
   }
  },
  {
   "cell_type": "code",
   "execution_count": 8,
   "outputs": [
    {
     "data": {
      "text/plain": "array([[ 0.26726124,  1.37281295],\n       [-1.33630621, -0.98058068],\n       [ 1.06904497, -0.39223227]])"
     },
     "execution_count": 8,
     "metadata": {},
     "output_type": "execute_result"
    }
   ],
   "source": [
    "from sklearn.preprocessing import StandardScaler\n",
    "\n",
    "# StandardScaler 객체 생성\n",
    "scaler = StandardScaler()\n",
    "\n",
    "# 표준화 적용\n",
    "\n",
    "df_scaled = scaler.fit_transform(df)\n",
    "\n",
    "df_scaled"
   ],
   "metadata": {
    "collapsed": false,
    "pycharm": {
     "name": "#%%\n"
    }
   }
  },
  {
   "cell_type": "code",
   "execution_count": 9,
   "outputs": [
    {
     "data": {
      "text/plain": "<matplotlib.collections.PathCollection at 0x19acf389c10>"
     },
     "execution_count": 9,
     "metadata": {},
     "output_type": "execute_result"
    },
    {
     "data": {
      "text/plain": "<Figure size 432x288 with 1 Axes>",
      "image/png": "[encoded data removed]"
     },
     "metadata": {},
     "output_type": "display_data"
    }
   ],
   "source": [
    "import numpy as np\n",
    "import matplotlib.pyplot as plt\n",
    "import seaborn as sns\n",
    "\n",
    "np.random.seed(0) # 시드값 고정\n",
    "\n",
    "w0 = 5 # y 절편\n",
    "w1 = 2 # 회귀 계수(쉐타)\n",
    "noise = np.random.randn(100,1) # 노이즈 , 표준 정규분포를 따르는 데이터 100개를 생성하는 코드\n",
    "\n",
    "x = 4 * np.random.rand(100, 1) # 0~4 사이 실숫값 100개 생성\n",
    "\n",
    "y = w1 *x + w0 + noise # y = 2x + 5 에 근사하는 데이터\n",
    "plt.scatter(x,y)"
   ],
   "metadata": {
    "collapsed": false,
    "pycharm": {
     "name": "#%%\n"
    }
   }
  },
  {
   "cell_type": "code",
   "execution_count": 10,
   "outputs": [
    {
     "name": "stdout",
     "output_type": "stream",
     "text": [
      "y절편(w0) : [5.09772262]\n",
      "회귀계수(w1) :  [[1.9808382]]\n"
     ]
    }
   ],
   "source": [
    "from sklearn.linear_model import LinearRegression\n",
    "\n",
    "linear_reg_model = LinearRegression() # 선형 회귀 모델\n",
    "linear_reg_model.fit(x, y) # 모델 훈련\n",
    "\n",
    "print('y절편(w0) :' , linear_reg_model.intercept_)\n",
    "print('회귀계수(w1) : ' , linear_reg_model.coef_)"
   ],
   "metadata": {
    "collapsed": false,
    "pycharm": {
     "name": "#%%\n"
    }
   }
  },
  {
   "cell_type": "code",
   "execution_count": 11,
   "outputs": [
    {
     "data": {
      "text/plain": "[<matplotlib.lines.Line2D at 0x19acf5cc1c0>]"
     },
     "execution_count": 11,
     "metadata": {},
     "output_type": "execute_result"
    },
    {
     "data": {
      "text/plain": "<Figure size 432x288 with 1 Axes>",
      "image/png": "[encoded data removed]"
     },
     "metadata": {},
     "output_type": "display_data"
    }
   ],
   "source": [
    "y_pred = linear_reg_model.predict(x) # 예측\n",
    "\n",
    "plt.scatter(x,y)\n",
    "plt.plot(x,y_pred) # 선형 회귀선 그리기"
   ],
   "metadata": {
    "collapsed": false,
    "pycharm": {
     "name": "#%%\n"
    }
   }
  },
  {
   "cell_type": "code",
   "execution_count": 12,
   "outputs": [
    {
     "data": {
      "text/plain": "[<matplotlib.lines.Line2D at 0x19acf623dc0>]"
     },
     "execution_count": 12,
     "metadata": {},
     "output_type": "execute_result"
    },
    {
     "data": {
      "text/plain": "<Figure size 432x288 with 1 Axes>",
      "image/png": "[encoded data removed]"
     },
     "metadata": {},
     "output_type": "display_data"
    }
   ],
   "source": [
    "x = np.arange(-6,6,.1)\n",
    "\n",
    "y = 1/ (1 + np.exp(-x))\n",
    "\n",
    "plt.plot(x,y)\n"
   ],
   "metadata": {
    "collapsed": false,
    "pycharm": {
     "name": "#%%\n"
    }
   }
  },
  {
   "cell_type": "code",
   "execution_count": 12,
   "outputs": [],
   "source": [],
   "metadata": {
    "collapsed": false,
    "pycharm": {
     "name": "#%%\n"
    }
   }
  }
 ],
 "metadata": {
  "kernelspec": {
   "display_name": "Python 3",
   "language": "python",
   "name": "python3"
  },
  "language_info": {
   "codemirror_mode": {
    "name": "ipython",
    "version": 2
   },
   "file_extension": ".py",
   "mimetype": "text/x-python",
   "name": "python",
   "nbconvert_exporter": "python",
   "pygments_lexer": "ipython2",
   "version": "2.7.6"
  }
 },
 "nbformat": 4,
 "nbformat_minor": 0
}