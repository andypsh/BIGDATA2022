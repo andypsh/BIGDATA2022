{
 "cells": [
  {
   "cell_type": "code",
   "execution_count": 33,
   "metadata": {
    "collapsed": true,
    "pycharm": {
     "name": "#%%\n"
    }
   },
   "outputs": [],
   "source": [
    "import itertools\n",
    "import platform\n",
    "import matplotlib\n",
    "import pandas as pd\n",
    "import matplotlib.pyplot as plt\n",
    "from matplotlib import font_manager, rc\n",
    "import seaborn as sns\n",
    "%precision 3\n",
    "from matplotlib import pyplot as plt\n",
    "%matplotlib inline\n",
    "#그래프를 주피터 놋북에 그리기 위해\n",
    "import numpy as np\n",
    "import copy\n",
    "from matplotlib import ticker\n",
    "from scipy.stats import probplot\n",
    "from scipy import stats\n",
    "import collections\n",
    "import itertools\n",
    "import math\n",
    "#from varname import nameof\n",
    "import sys\n",
    "from scipy import stats\n",
    "from scipy.stats import bernoulli\n",
    "import scipy\n",
    "from collections import deque\n",
    "from sympy import Symbol, solve\n",
    "import matplotlib.patches as patches\n",
    "\n",
    "\n",
    "##################머신러닝 모듈 ################\n",
    "\n",
    "from sklearn.model_selection import train_test_split #사이킷런 import\n",
    "from sklearn.linear_model import LinearRegression\n",
    "\n",
    "#히스토그램 그리기\n",
    "# Window\n",
    "if platform.system() == 'Windows':\n",
    "    matplotlib.rc('font', family='Malgun Gothic')\n",
    "elif platform.system() == 'Darwin': # Mac\n",
    "    matplotlib.rc('font', family='AppleGothic')\n",
    "else: #linux\n",
    "    matplotlib.rc('font', family='NanumGothic')\n",
    "\n",
    "# 그래프에 마이너스 표시가 되도록 변경\n",
    "matplotlib.rcParams['axes.unicode_minus'] = False\n",
    "\n",
    "# 한글 폰트 설정\n",
    "font_location = 'C:/Windows/Fonts/MALGUNSL.TTF' #맑은고딕\n",
    "font_name = font_manager.FontProperties(fname=font_location).get_name()\n",
    "rc('font',family=font_name)\n"
   ]
  },
  {
   "cell_type": "markdown",
   "source": [],
   "metadata": {
    "collapsed": false,
    "pycharm": {
     "name": "#%% md\n"
    }
   }
  },
  {
   "cell_type": "code",
   "execution_count": 34,
   "outputs": [
    {
     "data": {
      "text/plain": "        amt  category_entertainment  category_food_dining  \\\n0 -1.402327               -1.135617             -0.971069   \n1  1.079407                0.414075              0.168880   \n2  1.200151                0.747127              1.622968   \n3 -1.474915               -1.129427             -1.539741   \n4  0.901491                0.257905             -0.320220   \n\n   category_gas_transport  category_grocery  category_health_fitness  \\\n0               -1.000180         -1.118217                -1.561756   \n1                2.090013          0.767268                 1.040236   \n2               -0.606627          0.439476                 1.376630   \n3               -0.930355         -1.079803                -1.222903   \n4                2.083588          0.540547                 0.705908   \n\n   category_home  category_kids_pets  category_misc  category_personal_care  \\\n0      -1.145051           -1.276913      -1.124693               -1.070260   \n1       0.844969            1.127922       1.210503                1.807350   \n2       2.126364            0.378610      -0.196523                0.127825   \n3      -1.572733           -1.516610      -1.274986               -1.185705   \n4       1.097814            0.955178       1.198524                1.640103   \n\n   category_shopping  category_travel  label  \n0          -1.141424        -0.619930      0  \n1           0.659967        -0.222587      3  \n2           1.299938         2.766891      1  \n3          -1.166127        -0.601675      0  \n4           0.578781        -0.484796      3  ",
      "text/html": "<div>\n<style scoped>\n    .dataframe tbody tr th:only-of-type {\n        vertical-align: middle;\n    }\n\n    .dataframe tbody tr th {\n        vertical-align: top;\n    }\n\n    .dataframe thead th {\n        text-align: right;\n    }\n</style>\n<table border=\"1\" class=\"dataframe\">\n  <thead>\n    <tr style=\"text-align: right;\">\n      <th></th>\n      <th>amt</th>\n      <th>category_entertainment</th>\n      <th>category_food_dining</th>\n      <th>category_gas_transport</th>\n      <th>category_grocery</th>\n      <th>category_health_fitness</th>\n      <th>category_home</th>\n      <th>category_kids_pets</th>\n      <th>category_misc</th>\n      <th>category_personal_care</th>\n      <th>category_shopping</th>\n      <th>category_travel</th>\n      <th>label</th>\n    </tr>\n  </thead>\n  <tbody>\n    <tr>\n      <th>0</th>\n      <td>-1.402327</td>\n      <td>-1.135617</td>\n      <td>-0.971069</td>\n      <td>-1.000180</td>\n      <td>-1.118217</td>\n      <td>-1.561756</td>\n      <td>-1.145051</td>\n      <td>-1.276913</td>\n      <td>-1.124693</td>\n      <td>-1.070260</td>\n      <td>-1.141424</td>\n      <td>-0.619930</td>\n      <td>0</td>\n    </tr>\n    <tr>\n      <th>1</th>\n      <td>1.079407</td>\n      <td>0.414075</td>\n      <td>0.168880</td>\n      <td>2.090013</td>\n      <td>0.767268</td>\n      <td>1.040236</td>\n      <td>0.844969</td>\n      <td>1.127922</td>\n      <td>1.210503</td>\n      <td>1.807350</td>\n      <td>0.659967</td>\n      <td>-0.222587</td>\n      <td>3</td>\n    </tr>\n    <tr>\n      <th>2</th>\n      <td>1.200151</td>\n      <td>0.747127</td>\n      <td>1.622968</td>\n      <td>-0.606627</td>\n      <td>0.439476</td>\n      <td>1.376630</td>\n      <td>2.126364</td>\n      <td>0.378610</td>\n      <td>-0.196523</td>\n      <td>0.127825</td>\n      <td>1.299938</td>\n      <td>2.766891</td>\n      <td>1</td>\n    </tr>\n    <tr>\n      <th>3</th>\n      <td>-1.474915</td>\n      <td>-1.129427</td>\n      <td>-1.539741</td>\n      <td>-0.930355</td>\n      <td>-1.079803</td>\n      <td>-1.222903</td>\n      <td>-1.572733</td>\n      <td>-1.516610</td>\n      <td>-1.274986</td>\n      <td>-1.185705</td>\n      <td>-1.166127</td>\n      <td>-0.601675</td>\n      <td>0</td>\n    </tr>\n    <tr>\n      <th>4</th>\n      <td>0.901491</td>\n      <td>0.257905</td>\n      <td>-0.320220</td>\n      <td>2.083588</td>\n      <td>0.540547</td>\n      <td>0.705908</td>\n      <td>1.097814</td>\n      <td>0.955178</td>\n      <td>1.198524</td>\n      <td>1.640103</td>\n      <td>0.578781</td>\n      <td>-0.484796</td>\n      <td>3</td>\n    </tr>\n  </tbody>\n</table>\n</div>"
     },
     "execution_count": 34,
     "metadata": {},
     "output_type": "execute_result"
    }
   ],
   "source": [
    "#와인 등급 예측하기\n",
    "\n",
    "file_url = \"https://raw.githubusercontent.com/musthave-ML10/data_source/main/customer_pca.csv\"\n",
    "\n",
    "data = pd.read_csv(file_url)\n",
    "\n",
    "data.head()"
   ],
   "metadata": {
    "collapsed": false,
    "pycharm": {
     "name": "#%%\n"
    }
   }
  },
  {
   "cell_type": "code",
   "execution_count": 35,
   "outputs": [],
   "source": [
    "customer_X = data.drop('label' , axis = 1) # 독립변수 지정\n",
    "\n",
    "customer_y = data['label'] # 종속변수 지정"
   ],
   "metadata": {
    "collapsed": false,
    "pycharm": {
     "name": "#%%\n"
    }
   }
  },
  {
   "cell_type": "code",
   "execution_count": 36,
   "outputs": [
    {
     "data": {
      "text/plain": "         amt  category_entertainment  category_food_dining  \\\n0  -1.402327               -1.135617             -0.971069   \n1   1.079407                0.414075              0.168880   \n2   1.200151                0.747127              1.622968   \n3  -1.474915               -1.129427             -1.539741   \n4   0.901491                0.257905             -0.320220   \n..       ...                     ...                   ...   \n95  0.965514                0.426639              0.196184   \n96 -0.839991               -0.715988              0.394918   \n97 -1.107688               -0.926597             -1.190202   \n98 -0.940815               -0.807895             -1.093267   \n99  0.599983                0.976691              0.611158   \n\n    category_gas_transport  category_grocery  category_health_fitness  \\\n0                -1.000180         -1.118217                -1.561756   \n1                 2.090013          0.767268                 1.040236   \n2                -0.606627          0.439476                 1.376630   \n3                -0.930355         -1.079803                -1.222903   \n4                 2.083588          0.540547                 0.705908   \n..                     ...               ...                      ...   \n95                2.086544          0.727562                 0.725503   \n96               -0.398366         -0.721701                -1.263462   \n97               -1.342390         -0.850378                -1.073294   \n98               -1.342878         -0.676572                -1.287731   \n99                1.174361         -0.015887                 1.530824   \n\n    category_home  category_kids_pets  category_misc  category_personal_care  \\\n0       -1.145051           -1.276913      -1.124693               -1.070260   \n1        0.844969            1.127922       1.210503                1.807350   \n2        2.126364            0.378610      -0.196523                0.127825   \n3       -1.572733           -1.516610      -1.274986               -1.185705   \n4        1.097814            0.955178       1.198524                1.640103   \n..            ...                 ...            ...                     ...   \n95       0.940589            1.923480       1.086851                1.810368   \n96      -0.576780           -0.190013      -0.818620               -0.286312   \n97      -1.011957           -1.616986      -1.182972               -0.974736   \n98      -1.305887           -1.463747      -1.050452               -0.895722   \n99       1.103355            0.929397       1.172695               -0.398034   \n\n    category_shopping  category_travel  \n0           -1.141424        -0.619930  \n1            0.659967        -0.222587  \n2            1.299938         2.766891  \n3           -1.166127        -0.601675  \n4            0.578781        -0.484796  \n..                ...              ...  \n95           0.252344        -0.401038  \n96          -0.940283        -0.504166  \n97          -0.664583         0.193335  \n98          -0.708094         0.954537  \n99          -0.020631        -0.086794  \n\n[100 rows x 12 columns]",
      "text/html": "<div>\n<style scoped>\n    .dataframe tbody tr th:only-of-type {\n        vertical-align: middle;\n    }\n\n    .dataframe tbody tr th {\n        vertical-align: top;\n    }\n\n    .dataframe thead th {\n        text-align: right;\n    }\n</style>\n<table border=\"1\" class=\"dataframe\">\n  <thead>\n    <tr style=\"text-align: right;\">\n      <th></th>\n      <th>amt</th>\n      <th>category_entertainment</th>\n      <th>category_food_dining</th>\n      <th>category_gas_transport</th>\n      <th>category_grocery</th>\n      <th>category_health_fitness</th>\n      <th>category_home</th>\n      <th>category_kids_pets</th>\n      <th>category_misc</th>\n      <th>category_personal_care</th>\n      <th>category_shopping</th>\n      <th>category_travel</th>\n    </tr>\n  </thead>\n  <tbody>\n    <tr>\n      <th>0</th>\n      <td>-1.402327</td>\n      <td>-1.135617</td>\n      <td>-0.971069</td>\n      <td>-1.000180</td>\n      <td>-1.118217</td>\n      <td>-1.561756</td>\n      <td>-1.145051</td>\n      <td>-1.276913</td>\n      <td>-1.124693</td>\n      <td>-1.070260</td>\n      <td>-1.141424</td>\n      <td>-0.619930</td>\n    </tr>\n    <tr>\n      <th>1</th>\n      <td>1.079407</td>\n      <td>0.414075</td>\n      <td>0.168880</td>\n      <td>2.090013</td>\n      <td>0.767268</td>\n      <td>1.040236</td>\n      <td>0.844969</td>\n      <td>1.127922</td>\n      <td>1.210503</td>\n      <td>1.807350</td>\n      <td>0.659967</td>\n      <td>-0.222587</td>\n    </tr>\n    <tr>\n      <th>2</th>\n      <td>1.200151</td>\n      <td>0.747127</td>\n      <td>1.622968</td>\n      <td>-0.606627</td>\n      <td>0.439476</td>\n      <td>1.376630</td>\n      <td>2.126364</td>\n      <td>0.378610</td>\n      <td>-0.196523</td>\n      <td>0.127825</td>\n      <td>1.299938</td>\n      <td>2.766891</td>\n    </tr>\n    <tr>\n      <th>3</th>\n      <td>-1.474915</td>\n      <td>-1.129427</td>\n      <td>-1.539741</td>\n      <td>-0.930355</td>\n      <td>-1.079803</td>\n      <td>-1.222903</td>\n      <td>-1.572733</td>\n      <td>-1.516610</td>\n      <td>-1.274986</td>\n      <td>-1.185705</td>\n      <td>-1.166127</td>\n      <td>-0.601675</td>\n    </tr>\n    <tr>\n      <th>4</th>\n      <td>0.901491</td>\n      <td>0.257905</td>\n      <td>-0.320220</td>\n      <td>2.083588</td>\n      <td>0.540547</td>\n      <td>0.705908</td>\n      <td>1.097814</td>\n      <td>0.955178</td>\n      <td>1.198524</td>\n      <td>1.640103</td>\n      <td>0.578781</td>\n      <td>-0.484796</td>\n    </tr>\n    <tr>\n      <th>...</th>\n      <td>...</td>\n      <td>...</td>\n      <td>...</td>\n      <td>...</td>\n      <td>...</td>\n      <td>...</td>\n      <td>...</td>\n      <td>...</td>\n      <td>...</td>\n      <td>...</td>\n      <td>...</td>\n      <td>...</td>\n    </tr>\n    <tr>\n      <th>95</th>\n      <td>0.965514</td>\n      <td>0.426639</td>\n      <td>0.196184</td>\n      <td>2.086544</td>\n      <td>0.727562</td>\n      <td>0.725503</td>\n      <td>0.940589</td>\n      <td>1.923480</td>\n      <td>1.086851</td>\n      <td>1.810368</td>\n      <td>0.252344</td>\n      <td>-0.401038</td>\n    </tr>\n    <tr>\n      <th>96</th>\n      <td>-0.839991</td>\n      <td>-0.715988</td>\n      <td>0.394918</td>\n      <td>-0.398366</td>\n      <td>-0.721701</td>\n      <td>-1.263462</td>\n      <td>-0.576780</td>\n      <td>-0.190013</td>\n      <td>-0.818620</td>\n      <td>-0.286312</td>\n      <td>-0.940283</td>\n      <td>-0.504166</td>\n    </tr>\n    <tr>\n      <th>97</th>\n      <td>-1.107688</td>\n      <td>-0.926597</td>\n      <td>-1.190202</td>\n      <td>-1.342390</td>\n      <td>-0.850378</td>\n      <td>-1.073294</td>\n      <td>-1.011957</td>\n      <td>-1.616986</td>\n      <td>-1.182972</td>\n      <td>-0.974736</td>\n      <td>-0.664583</td>\n      <td>0.193335</td>\n    </tr>\n    <tr>\n      <th>98</th>\n      <td>-0.940815</td>\n      <td>-0.807895</td>\n      <td>-1.093267</td>\n      <td>-1.342878</td>\n      <td>-0.676572</td>\n      <td>-1.287731</td>\n      <td>-1.305887</td>\n      <td>-1.463747</td>\n      <td>-1.050452</td>\n      <td>-0.895722</td>\n      <td>-0.708094</td>\n      <td>0.954537</td>\n    </tr>\n    <tr>\n      <th>99</th>\n      <td>0.599983</td>\n      <td>0.976691</td>\n      <td>0.611158</td>\n      <td>1.174361</td>\n      <td>-0.015887</td>\n      <td>1.530824</td>\n      <td>1.103355</td>\n      <td>0.929397</td>\n      <td>1.172695</td>\n      <td>-0.398034</td>\n      <td>-0.020631</td>\n      <td>-0.086794</td>\n    </tr>\n  </tbody>\n</table>\n<p>100 rows × 12 columns</p>\n</div>"
     },
     "execution_count": 36,
     "metadata": {},
     "output_type": "execute_result"
    }
   ],
   "source": [
    "customer_X"
   ],
   "metadata": {
    "collapsed": false,
    "pycharm": {
     "name": "#%%\n"
    }
   }
  },
  {
   "cell_type": "code",
   "execution_count": 37,
   "outputs": [
    {
     "data": {
      "text/plain": "0     0\n1     3\n2     1\n3     0\n4     3\n     ..\n95    3\n96    0\n97    0\n98    0\n99    3\nName: label, Length: 100, dtype: int64"
     },
     "execution_count": 37,
     "metadata": {},
     "output_type": "execute_result"
    }
   ],
   "source": [
    "customer_y"
   ],
   "metadata": {
    "collapsed": false,
    "pycharm": {
     "name": "#%%\n"
    }
   }
  },
  {
   "cell_type": "code",
   "execution_count": 38,
   "outputs": [],
   "source": [
    "from sklearn.decomposition import PCA"
   ],
   "metadata": {
    "collapsed": false,
    "pycharm": {
     "name": "#%%\n"
    }
   }
  },
  {
   "cell_type": "code",
   "execution_count": 39,
   "outputs": [],
   "source": [
    "pca = PCA(n_components= 2) # 주성분 개수 지정"
   ],
   "metadata": {
    "collapsed": false,
    "pycharm": {
     "name": "#%%\n"
    }
   }
  },
  {
   "cell_type": "code",
   "execution_count": 40,
   "outputs": [],
   "source": [
    "pca.fit(customer_X) # 학습\n",
    "customer_pca = pca.transform(customer_X) # 변환"
   ],
   "metadata": {
    "collapsed": false,
    "pycharm": {
     "name": "#%%\n"
    }
   }
  },
  {
   "cell_type": "code",
   "execution_count": 41,
   "outputs": [
    {
     "data": {
      "text/plain": "array([[-3.929e+00,  1.026e-01],\n       [ 3.108e+00, -1.749e+00],\n       [ 3.024e+00,  3.212e+00],\n       [-4.282e+00,  1.138e-02],\n       [ 2.591e+00, -1.906e+00],\n       [ 8.703e-01, -1.792e-02],\n       [-1.165e+00,  2.004e+00],\n       [ 1.412e+00, -1.212e+00],\n       [ 1.793e-01, -1.153e+00],\n       [-2.742e+00, -3.481e-02],\n       [ 4.031e-01, -2.564e-01],\n       [-4.328e+00,  1.093e-01],\n       [-1.068e+00, -4.713e-01],\n       [-3.542e+00,  2.094e-01],\n       [ 3.003e+00,  6.851e-02],\n       [ 5.085e+00, -1.922e+00],\n       [-1.390e+00,  3.222e-01],\n       [-2.643e+00, -4.597e-01],\n       [-7.377e-01, -9.304e-01],\n       [-3.934e+00,  1.627e-01],\n       [ 3.167e-01, -4.223e-01],\n       [ 7.319e+00,  5.179e-02],\n       [ 6.604e-01, -1.138e+00],\n       [-3.961e+00, -5.550e-02],\n       [ 2.885e+00, -1.510e+00],\n       [-9.134e-01, -2.843e-01],\n       [ 7.477e+00,  4.136e-01],\n       [ 8.512e-01,  2.665e+00],\n       [ 3.117e+00,  3.555e+00],\n       [-2.617e+00, -2.274e-03],\n       [-1.228e-01, -3.312e-01],\n       [ 9.131e-01,  3.001e+00],\n       [-9.557e-02, -2.026e-01],\n       [ 2.512e+00, -6.331e-01],\n       [ 3.122e+00,  3.706e+00],\n       [ 3.148e+00,  4.333e+00],\n       [ 6.065e-01, -9.861e-01],\n       [-3.467e+00,  1.089e+00],\n       [ 6.186e-02, -1.272e+00],\n       [ 2.873e-01, -1.053e+00],\n       [ 5.088e-01, -2.023e-01],\n       [-9.015e-01, -2.681e-01],\n       [-8.058e-02, -6.272e-01],\n       [-2.577e+00, -1.327e-01],\n       [ 2.927e+00,  4.172e-01],\n       [ 7.531e+00,  8.916e-01],\n       [ 2.380e+00, -1.709e+00],\n       [-1.250e+00,  2.935e-01],\n       [ 5.089e-01,  5.052e-01],\n       [ 2.000e+00, -5.827e-01],\n       [-4.112e+00,  1.205e-02],\n       [ 7.199e-01, -1.024e+00],\n       [ 5.132e+00, -3.550e-02],\n       [-1.302e+00, -2.929e-01],\n       [-1.262e+00,  1.996e+00],\n       [-3.921e+00,  4.196e-01],\n       [-3.923e+00,  2.902e-01],\n       [-1.080e+00, -7.562e-01],\n       [ 2.298e+00, -1.717e+00],\n       [-2.417e+00, -1.653e-01],\n       [-1.940e+00,  8.653e-02],\n       [ 9.619e-01,  3.076e+00],\n       [ 3.078e+00,  6.237e-01],\n       [ 6.988e-02, -1.269e+00],\n       [-3.833e+00,  1.041e-01],\n       [ 5.071e+00,  3.666e-01],\n       [ 3.032e+00,  3.710e+00],\n       [-3.794e+00,  2.433e-01],\n       [ 8.446e-01, -9.036e-01],\n       [ 1.105e+00, -5.692e-01],\n       [-1.209e+00, -5.480e-01],\n       [-3.746e+00,  6.457e-01],\n       [ 6.554e-01, -6.809e-01],\n       [ 3.183e+00, -1.605e+00],\n       [-6.866e-01,  4.128e-02],\n       [-1.145e+00, -5.809e-01],\n       [ 2.252e+00, -1.866e+00],\n       [-4.118e+00,  2.437e-01],\n       [-3.610e+00,  3.800e-01],\n       [-2.400e+00, -3.000e-01],\n       [-1.381e+00,  2.379e-01],\n       [ 5.692e-01, -9.451e-01],\n       [-7.547e-01, -5.469e-02],\n       [-2.064e+00, -2.028e-01],\n       [-1.255e+00, -5.307e-02],\n       [ 5.470e-01, -1.181e+00],\n       [ 7.282e+00,  3.690e-01],\n       [ 1.518e-01, -2.941e-01],\n       [-1.066e+00, -6.329e-01],\n       [ 2.207e+00, -1.602e+00],\n       [ 5.589e-01,  2.227e-01],\n       [-4.394e+00,  1.841e-02],\n       [-2.095e+00, -2.055e-01],\n       [-1.936e+00, -1.862e-01],\n       [ 1.578e-01, -5.612e-01],\n       [ 3.058e+00, -2.070e+00],\n       [-1.981e+00, -1.851e-01],\n       [-3.465e+00,  1.022e+00],\n       [-3.277e+00,  1.392e+00],\n       [ 2.172e+00, -6.139e-01]])"
     },
     "execution_count": 41,
     "metadata": {},
     "output_type": "execute_result"
    }
   ],
   "source": [
    "customer_pca # 결과 확인"
   ],
   "metadata": {
    "collapsed": false,
    "pycharm": {
     "name": "#%%\n"
    }
   }
  },
  {
   "cell_type": "code",
   "execution_count": 42,
   "outputs": [],
   "source": [
    "customer_pca = pd.DataFrame(customer_pca , columns = ['PC1' , 'PC2']) # 데이터프레임으로 변환"
   ],
   "metadata": {
    "collapsed": false,
    "pycharm": {
     "name": "#%%\n"
    }
   }
  },
  {
   "cell_type": "code",
   "execution_count": 43,
   "outputs": [
    {
     "data": {
      "text/plain": "        PC1       PC2  label\n0 -3.929061  0.102604      0\n1  3.107583 -1.748879      3\n2  3.023793  3.212212      1\n3 -4.282418  0.011378      0\n4  2.590658 -1.906121      3",
      "text/html": "<div>\n<style scoped>\n    .dataframe tbody tr th:only-of-type {\n        vertical-align: middle;\n    }\n\n    .dataframe tbody tr th {\n        vertical-align: top;\n    }\n\n    .dataframe thead th {\n        text-align: right;\n    }\n</style>\n<table border=\"1\" class=\"dataframe\">\n  <thead>\n    <tr style=\"text-align: right;\">\n      <th></th>\n      <th>PC1</th>\n      <th>PC2</th>\n      <th>label</th>\n    </tr>\n  </thead>\n  <tbody>\n    <tr>\n      <th>0</th>\n      <td>-3.929061</td>\n      <td>0.102604</td>\n      <td>0</td>\n    </tr>\n    <tr>\n      <th>1</th>\n      <td>3.107583</td>\n      <td>-1.748879</td>\n      <td>3</td>\n    </tr>\n    <tr>\n      <th>2</th>\n      <td>3.023793</td>\n      <td>3.212212</td>\n      <td>1</td>\n    </tr>\n    <tr>\n      <th>3</th>\n      <td>-4.282418</td>\n      <td>0.011378</td>\n      <td>0</td>\n    </tr>\n    <tr>\n      <th>4</th>\n      <td>2.590658</td>\n      <td>-1.906121</td>\n      <td>3</td>\n    </tr>\n  </tbody>\n</table>\n</div>"
     },
     "execution_count": 43,
     "metadata": {},
     "output_type": "execute_result"
    }
   ],
   "source": [
    "customer_pca = customer_pca.join(customer_y) # 데이터 합치기\n",
    "\n",
    "customer_pca.head()\n"
   ],
   "metadata": {
    "collapsed": false,
    "pycharm": {
     "name": "#%%\n"
    }
   }
  },
  {
   "cell_type": "code",
   "execution_count": 43,
   "outputs": [],
   "source": [],
   "metadata": {
    "collapsed": false,
    "pycharm": {
     "name": "#%%\n"
    }
   }
  },
  {
   "cell_type": "code",
   "execution_count": 44,
   "outputs": [
    {
     "data": {
      "text/plain": "<matplotlib.axes._subplots.AxesSubplot at 0x1f9eaa55dc0>"
     },
     "execution_count": 44,
     "metadata": {},
     "output_type": "execute_result"
    },
    {
     "data": {
      "text/plain": "<Figure size 432x288 with 1 Axes>",
      "image/png": "[encoded data removed]"
     },
     "metadata": {
      "needs_background": "light"
     },
     "output_type": "display_data"
    }
   ],
   "source": [
    "sns.scatterplot(x= 'PC1' , y='PC2' , data = customer_pca , hue = 'label' , palette= 'rainbow') # 산점도 그리기"
   ],
   "metadata": {
    "collapsed": false,
    "pycharm": {
     "name": "#%%\n"
    }
   }
  },
  {
   "cell_type": "code",
   "execution_count": 45,
   "outputs": [
    {
     "data": {
      "text/plain": "array([[ 0.348,  0.324,  0.303,  0.142,  0.306,  0.313,  0.297,  0.305,\n         0.293,  0.303,  0.321,  0.089],\n       [ 0.058,  0.06 ,  0.153, -0.544,  0.031,  0.038,  0.238, -0.232,\n        -0.247, -0.209,  0.145,  0.659]])"
     },
     "execution_count": 45,
     "metadata": {},
     "output_type": "execute_result"
    }
   ],
   "source": [
    "pca.components_"
   ],
   "metadata": {
    "collapsed": false,
    "pycharm": {
     "name": "#%%\n"
    }
   }
  },
  {
   "cell_type": "code",
   "execution_count": 46,
   "outputs": [
    {
     "data": {
      "text/plain": "        amt  category_entertainment  category_food_dining  \\\n0  0.348468                0.324472              0.303037   \n1  0.058276                0.060343              0.152647   \n\n   category_gas_transport  category_grocery  category_health_fitness  \\\n0                0.141869          0.306183                 0.312973   \n1               -0.544356          0.031095                 0.037906   \n\n   category_home  category_kids_pets  category_misc  category_personal_care  \\\n0       0.297189            0.304582       0.293413                0.302877   \n1       0.238096           -0.231528      -0.247193               -0.208983   \n\n   category_shopping  category_travel  \n0           0.320534         0.089275  \n1           0.144790         0.659468  ",
      "text/html": "<div>\n<style scoped>\n    .dataframe tbody tr th:only-of-type {\n        vertical-align: middle;\n    }\n\n    .dataframe tbody tr th {\n        vertical-align: top;\n    }\n\n    .dataframe thead th {\n        text-align: right;\n    }\n</style>\n<table border=\"1\" class=\"dataframe\">\n  <thead>\n    <tr style=\"text-align: right;\">\n      <th></th>\n      <th>amt</th>\n      <th>category_entertainment</th>\n      <th>category_food_dining</th>\n      <th>category_gas_transport</th>\n      <th>category_grocery</th>\n      <th>category_health_fitness</th>\n      <th>category_home</th>\n      <th>category_kids_pets</th>\n      <th>category_misc</th>\n      <th>category_personal_care</th>\n      <th>category_shopping</th>\n      <th>category_travel</th>\n    </tr>\n  </thead>\n  <tbody>\n    <tr>\n      <th>0</th>\n      <td>0.348468</td>\n      <td>0.324472</td>\n      <td>0.303037</td>\n      <td>0.141869</td>\n      <td>0.306183</td>\n      <td>0.312973</td>\n      <td>0.297189</td>\n      <td>0.304582</td>\n      <td>0.293413</td>\n      <td>0.302877</td>\n      <td>0.320534</td>\n      <td>0.089275</td>\n    </tr>\n    <tr>\n      <th>1</th>\n      <td>0.058276</td>\n      <td>0.060343</td>\n      <td>0.152647</td>\n      <td>-0.544356</td>\n      <td>0.031095</td>\n      <td>0.037906</td>\n      <td>0.238096</td>\n      <td>-0.231528</td>\n      <td>-0.247193</td>\n      <td>-0.208983</td>\n      <td>0.144790</td>\n      <td>0.659468</td>\n    </tr>\n  </tbody>\n</table>\n</div>"
     },
     "execution_count": 46,
     "metadata": {},
     "output_type": "execute_result"
    }
   ],
   "source": [
    "df_comp = pd.DataFrame(pca.components_, columns = customer_X.columns)\n",
    "df_comp"
   ],
   "metadata": {
    "collapsed": false,
    "pycharm": {
     "name": "#%%\n"
    }
   }
  },
  {
   "cell_type": "code",
   "execution_count": 47,
   "outputs": [
    {
     "data": {
      "text/plain": "<matplotlib.axes._subplots.AxesSubplot at 0x1f9b78a6370>"
     },
     "execution_count": 47,
     "metadata": {},
     "output_type": "execute_result"
    },
    {
     "data": {
      "text/plain": "<Figure size 432x288 with 2 Axes>",
      "image/png": "[encoded data removed]"
     },
     "metadata": {
      "needs_background": "light"
     },
     "output_type": "display_data"
    }
   ],
   "source": [
    "sns.heatmap(df_comp , cmap='coolwarm')"
   ],
   "metadata": {
    "collapsed": false,
    "pycharm": {
     "name": "#%%\n"
    }
   }
  },
  {
   "cell_type": "code",
   "execution_count": 48,
   "outputs": [
    {
     "data": {
      "text/plain": "   class   V1   V2       V3   V4   V5   V6   V7       V8       V9  ...  \\\n0      1  0.0  0.0  0.56758  0.0  0.0  0.0  0.0  0.82585  0.83788  ...   \n1      1  0.0  0.0  0.56758  0.0  0.0  0.0  0.0  0.82585  0.83788  ...   \n2      1  0.0  0.0  0.56758  0.0  0.0  0.0  0.0  0.82585  0.83788  ...   \n3      1  0.0  0.0  0.56758  0.0  0.0  0.0  0.0  0.82585  0.83788  ...   \n4      1  0.0  0.0  0.56758  0.0  0.0  0.0  0.0  0.82585  0.83788  ...   \n\n     V4287    V4288     V4289    V4290    V4291     V4292     V4293     V4294  \\\n0 -0.25777  0.12220  0.348620  0.12957  0.43846 -0.108020  0.128330  0.318820   \n1 -0.15316  0.14062 -0.030201  0.10134 -0.14546 -0.166650  0.401300  0.035392   \n2 -0.40122  0.13790  0.138350  0.15746  0.51216 -0.330690  0.070346  0.179250   \n3 -0.15587 -0.26686  0.158930 -0.13204  0.32221 -0.042086  0.588970  0.526990   \n4  0.24020  0.44605 -0.163560  0.45311  0.59073  0.356800  0.395780  0.035871   \n\n      V4295    V4296  \n0 -0.041559  0.22589  \n1  0.019906  0.31952  \n2 -0.188740  0.16386  \n3 -0.574320  0.20891  \n4 -0.293430  0.38124  \n\n[5 rows x 4297 columns]",
      "text/html": "<div>\n<style scoped>\n    .dataframe tbody tr th:only-of-type {\n        vertical-align: middle;\n    }\n\n    .dataframe tbody tr th {\n        vertical-align: top;\n    }\n\n    .dataframe thead th {\n        text-align: right;\n    }\n</style>\n<table border=\"1\" class=\"dataframe\">\n  <thead>\n    <tr style=\"text-align: right;\">\n      <th></th>\n      <th>class</th>\n      <th>V1</th>\n      <th>V2</th>\n      <th>V3</th>\n      <th>V4</th>\n      <th>V5</th>\n      <th>V6</th>\n      <th>V7</th>\n      <th>V8</th>\n      <th>V9</th>\n      <th>...</th>\n      <th>V4287</th>\n      <th>V4288</th>\n      <th>V4289</th>\n      <th>V4290</th>\n      <th>V4291</th>\n      <th>V4292</th>\n      <th>V4293</th>\n      <th>V4294</th>\n      <th>V4295</th>\n      <th>V4296</th>\n    </tr>\n  </thead>\n  <tbody>\n    <tr>\n      <th>0</th>\n      <td>1</td>\n      <td>0.0</td>\n      <td>0.0</td>\n      <td>0.56758</td>\n      <td>0.0</td>\n      <td>0.0</td>\n      <td>0.0</td>\n      <td>0.0</td>\n      <td>0.82585</td>\n      <td>0.83788</td>\n      <td>...</td>\n      <td>-0.25777</td>\n      <td>0.12220</td>\n      <td>0.348620</td>\n      <td>0.12957</td>\n      <td>0.43846</td>\n      <td>-0.108020</td>\n      <td>0.128330</td>\n      <td>0.318820</td>\n      <td>-0.041559</td>\n      <td>0.22589</td>\n    </tr>\n    <tr>\n      <th>1</th>\n      <td>1</td>\n      <td>0.0</td>\n      <td>0.0</td>\n      <td>0.56758</td>\n      <td>0.0</td>\n      <td>0.0</td>\n      <td>0.0</td>\n      <td>0.0</td>\n      <td>0.82585</td>\n      <td>0.83788</td>\n      <td>...</td>\n      <td>-0.15316</td>\n      <td>0.14062</td>\n      <td>-0.030201</td>\n      <td>0.10134</td>\n      <td>-0.14546</td>\n      <td>-0.166650</td>\n      <td>0.401300</td>\n      <td>0.035392</td>\n      <td>0.019906</td>\n      <td>0.31952</td>\n    </tr>\n    <tr>\n      <th>2</th>\n      <td>1</td>\n      <td>0.0</td>\n      <td>0.0</td>\n      <td>0.56758</td>\n      <td>0.0</td>\n      <td>0.0</td>\n      <td>0.0</td>\n      <td>0.0</td>\n      <td>0.82585</td>\n      <td>0.83788</td>\n      <td>...</td>\n      <td>-0.40122</td>\n      <td>0.13790</td>\n      <td>0.138350</td>\n      <td>0.15746</td>\n      <td>0.51216</td>\n      <td>-0.330690</td>\n      <td>0.070346</td>\n      <td>0.179250</td>\n      <td>-0.188740</td>\n      <td>0.16386</td>\n    </tr>\n    <tr>\n      <th>3</th>\n      <td>1</td>\n      <td>0.0</td>\n      <td>0.0</td>\n      <td>0.56758</td>\n      <td>0.0</td>\n      <td>0.0</td>\n      <td>0.0</td>\n      <td>0.0</td>\n      <td>0.82585</td>\n      <td>0.83788</td>\n      <td>...</td>\n      <td>-0.15587</td>\n      <td>-0.26686</td>\n      <td>0.158930</td>\n      <td>-0.13204</td>\n      <td>0.32221</td>\n      <td>-0.042086</td>\n      <td>0.588970</td>\n      <td>0.526990</td>\n      <td>-0.574320</td>\n      <td>0.20891</td>\n    </tr>\n    <tr>\n      <th>4</th>\n      <td>1</td>\n      <td>0.0</td>\n      <td>0.0</td>\n      <td>0.56758</td>\n      <td>0.0</td>\n      <td>0.0</td>\n      <td>0.0</td>\n      <td>0.0</td>\n      <td>0.82585</td>\n      <td>0.83788</td>\n      <td>...</td>\n      <td>0.24020</td>\n      <td>0.44605</td>\n      <td>-0.163560</td>\n      <td>0.45311</td>\n      <td>0.59073</td>\n      <td>0.356800</td>\n      <td>0.395780</td>\n      <td>0.035871</td>\n      <td>-0.293430</td>\n      <td>0.38124</td>\n    </tr>\n  </tbody>\n</table>\n<p>5 rows × 4297 columns</p>\n</div>"
     },
     "execution_count": 48,
     "metadata": {},
     "output_type": "execute_result"
    }
   ],
   "source": [
    "#와인 등급 예측하기\n",
    "\n",
    "file_url = \"https://media.githubusercontent.com/media/musthave-ML10/data_source/main/anonymous.csv\"\n",
    "\n",
    "data = pd.read_csv(file_url)\n",
    "\n",
    "data.head()"
   ],
   "metadata": {
    "collapsed": false,
    "pycharm": {
     "name": "#%%\n"
    }
   }
  },
  {
   "cell_type": "code",
   "execution_count": 49,
   "outputs": [
    {
     "data": {
      "text/plain": "0.250"
     },
     "execution_count": 49,
     "metadata": {},
     "output_type": "execute_result"
    }
   ],
   "source": [
    "data['class'].mean() # 종속변수의 평균 확인"
   ],
   "metadata": {
    "collapsed": false,
    "pycharm": {
     "name": "#%%\n"
    }
   }
  },
  {
   "cell_type": "code",
   "execution_count": 50,
   "outputs": [
    {
     "data": {
      "text/plain": "0"
     },
     "execution_count": 50,
     "metadata": {},
     "output_type": "execute_result"
    }
   ],
   "source": [
    "data.isna().sum().sum() # 결측치 확인\n",
    "\n",
    "# 변수별 결측치 합을 구하고, 거기에 한 번 더 합을 구해서, 데이터프레임 전체에 결측치가 얼마인지 확인"
   ],
   "metadata": {
    "collapsed": false,
    "pycharm": {
     "name": "#%%\n"
    }
   }
  },
  {
   "cell_type": "code",
   "execution_count": 51,
   "outputs": [],
   "source": [
    "from sklearn.model_selection import train_test_split\n",
    "\n",
    "X_train, X_test , y_train, y_test = train_test_split(data.drop('class' , axis =1) , data['class'] , test_size= 0.2 , random_state= 100)\n",
    "\n",
    "#학습 셋, 시험 셋 분리"
   ],
   "metadata": {
    "collapsed": false,
    "pycharm": {
     "name": "#%%\n"
    }
   }
  },
  {
   "cell_type": "code",
   "execution_count": 52,
   "outputs": [],
   "source": [
    "from sklearn.preprocessing import StandardScaler\n",
    "\n",
    "scaler = StandardScaler()  # 스케일러 객체 생성\n",
    "scaler.fit(X_train)  # 학습\n",
    "\n",
    "X_train_scaled = scaler.transform(X_train) # 변환\n",
    "X_test_scaled = scaler.transform(X_test) # 변환"
   ],
   "metadata": {
    "collapsed": false,
    "pycharm": {
     "name": "#%%\n"
    }
   }
  },
  {
   "cell_type": "code",
   "execution_count": 53,
   "outputs": [],
   "source": [
    "from sklearn.ensemble import RandomForestClassifier\n",
    "model_1 = RandomForestClassifier(random_state= 100)"
   ],
   "metadata": {
    "collapsed": false,
    "pycharm": {
     "name": "#%%\n"
    }
   }
  },
  {
   "cell_type": "code",
   "execution_count": 54,
   "outputs": [
    {
     "name": "stdout",
     "output_type": "stream",
     "text": [
      "83.19833517074585\n"
     ]
    }
   ],
   "source": [
    "import time\n",
    "\n",
    "start_time = time.time() # 시작시간 설정\n",
    "model_1.fit(X_train_scaled , y_train) # 학습\n",
    "\n",
    "print(time.time() - start_time) # 소요시간 출력"
   ],
   "metadata": {
    "collapsed": false,
    "pycharm": {
     "name": "#%%\n"
    }
   }
  },
  {
   "cell_type": "code",
   "execution_count": 55,
   "outputs": [
    {
     "data": {
      "text/plain": "0.958"
     },
     "execution_count": 55,
     "metadata": {},
     "output_type": "execute_result"
    }
   ],
   "source": [
    "from sklearn.metrics import accuracy_score,  roc_auc_score\n",
    "\n",
    "pred_1 = model_1.predict(X_test_scaled)\n",
    "\n",
    "accuracy_score(y_test , pred_1)"
   ],
   "metadata": {
    "collapsed": false,
    "pycharm": {
     "name": "#%%\n"
    }
   }
  },
  {
   "cell_type": "code",
   "execution_count": 57,
   "outputs": [
    {
     "data": {
      "text/plain": "0.9982541957107813"
     },
     "execution_count": 57,
     "metadata": {},
     "output_type": "execute_result"
    }
   ],
   "source": [
    "proba_1 = model_1.predict_proba(X_test_scaled) # 예측 , 소수점 형태로 된 예측값을 사용하기 때문에, predict()가 아닌 predict_proba()를 사용해야 한다.\n",
    "\n",
    "roc_auc_score(y_test , proba_1[: , 1])"
   ],
   "metadata": {
    "collapsed": false,
    "pycharm": {
     "name": "#%%\n"
    }
   }
  },
  {
   "cell_type": "code",
   "execution_count": 58,
   "outputs": [
    {
     "data": {
      "text/plain": "PCA(n_components=2)"
     },
     "execution_count": 58,
     "metadata": {},
     "output_type": "execute_result"
    }
   ],
   "source": [
    "pca = PCA(n_components=2) # 주성분 개수 지정\n",
    "\n",
    "pca.fit(X_train_scaled) # 학습"
   ],
   "metadata": {
    "collapsed": false,
    "pycharm": {
     "name": "#%%\n"
    }
   }
  },
  {
   "cell_type": "code",
   "execution_count": 59,
   "outputs": [
    {
     "data": {
      "text/plain": "array([0.05 , 0.033])"
     },
     "execution_count": 59,
     "metadata": {},
     "output_type": "execute_result"
    }
   ],
   "source": [
    "pca.explained_variance_ratio_ # 데이터 반영 비율 확인 ==> 기존 데이터의 0.08 정도의 정보만 반영한다.\n",
    "\n",
    "# ==> 정보의 손실이 크다."
   ],
   "metadata": {
    "collapsed": false,
    "pycharm": {
     "name": "#%%\n"
    }
   }
  },
  {
   "cell_type": "code",
   "execution_count": 60,
   "outputs": [],
   "source": [
    "var_ratio = [] # 빈 리스트 생성\n",
    "\n",
    "for i in range(100, 550 , 50): # 순회\n",
    "    pca = PCA(n_components= i) # 주성분 개수 지정\n",
    "    pca.fit_transform(X_train_scaled)\n",
    "    ratio = pca.explained_variance_ratio_.sum() # 데이터 반영 비율 합\n",
    "    var_ratio.append(ratio)"
   ],
   "metadata": {
    "collapsed": false,
    "pycharm": {
     "name": "#%%\n"
    }
   }
  },
  {
   "cell_type": "code",
   "execution_count": 62,
   "outputs": [
    {
     "data": {
      "text/plain": "<matplotlib.axes._subplots.AxesSubplot at 0x1f9e64e31f0>"
     },
     "execution_count": 62,
     "metadata": {},
     "output_type": "execute_result"
    },
    {
     "data": {
      "text/plain": "<Figure size 432x288 with 1 Axes>",
      "image/png": "[encoded data removed]"
     },
     "metadata": {
      "needs_background": "light"
     },
     "output_type": "display_data"
    }
   ],
   "source": [
    "sns.lineplot(x = range(100,550, 50) , y = var_ratio)"
   ],
   "metadata": {
    "collapsed": false,
    "pycharm": {
     "name": "#%%\n"
    }
   }
  },
  {
   "cell_type": "code",
   "execution_count": 63,
   "outputs": [],
   "source": [
    "pca = PCA(n_components= 400 , random_state= 100) # 주성분 개수 지정\n",
    "pca.fit(X_train_scaled) # 학습\n",
    "X_train_scaled_pca=  pca.transform(X_train_scaled) # 변환\n",
    "X_test_scaled_pca = pca.transform(X_test_scaled) # 변환"
   ],
   "metadata": {
    "collapsed": false,
    "pycharm": {
     "name": "#%%\n"
    }
   }
  },
  {
   "cell_type": "code",
   "execution_count": 64,
   "outputs": [
    {
     "name": "stdout",
     "output_type": "stream",
     "text": [
      "56.191216230392456\n"
     ]
    }
   ],
   "source": [
    "model_2 = RandomForestClassifier(random_state= 100)\n",
    "start_time = time.time()\n",
    "model_2.fit(X_train_scaled_pca , y_train)\n",
    "print(time.time() - start_time)"
   ],
   "metadata": {
    "collapsed": false,
    "pycharm": {
     "name": "#%%\n"
    }
   }
  },
  {
   "cell_type": "code",
   "execution_count": 65,
   "outputs": [
    {
     "data": {
      "text/plain": "0.98925"
     },
     "execution_count": 65,
     "metadata": {},
     "output_type": "execute_result"
    }
   ],
   "source": [
    "pred_2 = model_2.predict(X_test_scaled_pca) # 예측\n",
    "accuracy_score(y_test , pred_2) # 정확도 확인"
   ],
   "metadata": {
    "collapsed": false,
    "pycharm": {
     "name": "#%%\n"
    }
   }
  },
  {
   "cell_type": "code",
   "execution_count": 66,
   "outputs": [
    {
     "data": {
      "text/plain": "0.9982517669346417"
     },
     "execution_count": 66,
     "metadata": {},
     "output_type": "execute_result"
    }
   ],
   "source": [
    "proba_2 = model_2.predict_proba(X_test_scaled_pca) # 예측\n",
    "roc_auc_score(y_test , proba_2[:,1])"
   ],
   "metadata": {
    "collapsed": false,
    "pycharm": {
     "name": "#%%\n"
    }
   }
  },
  {
   "cell_type": "code",
   "execution_count": null,
   "outputs": [],
   "source": [],
   "metadata": {
    "collapsed": false,
    "pycharm": {
     "name": "#%%\n"
    }
   }
  }
 ],
 "metadata": {
  "kernelspec": {
   "display_name": "Python 3",
   "language": "python",
   "name": "python3"
  },
  "language_info": {
   "codemirror_mode": {
    "name": "ipython",
    "version": 2
   },
   "file_extension": ".py",
   "mimetype": "text/x-python",
   "name": "python",
   "nbconvert_exporter": "python",
   "pygments_lexer": "ipython2",
   "version": "2.7.6"
  }
 },
 "nbformat": 4,
 "nbformat_minor": 0
}