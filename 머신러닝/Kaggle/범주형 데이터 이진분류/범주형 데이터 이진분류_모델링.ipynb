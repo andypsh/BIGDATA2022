{
 "cells": [
  {
   "cell_type": "code",
   "execution_count": 45,
   "metadata": {
    "collapsed": true,
    "pycharm": {
     "name": "#%%\n"
    }
   },
   "outputs": [
    {
     "data": {
      "text/plain": "        bin_0  bin_1  bin_2 bin_3 bin_4  nom_0      nom_1    nom_2  \\\nid                                                                   \n0           0      0      0     T     Y  Green   Triangle    Snake   \n1           0      1      0     T     Y  Green  Trapezoid  Hamster   \n2           0      0      0     F     Y   Blue  Trapezoid     Lion   \n3           0      1      0     F     Y    Red  Trapezoid    Snake   \n4           0      0      0     F     N    Red  Trapezoid     Lion   \n...       ...    ...    ...   ...   ...    ...        ...      ...   \n299995      0      0      0     T     N    Red  Trapezoid    Snake   \n299996      0      0      0     F     Y  Green  Trapezoid     Lion   \n299997      0      0      0     F     Y   Blue       Star  Axolotl   \n299998      0      1      0     F     Y  Green     Square  Axolotl   \n299999      0      0      0     F     Y   Blue  Trapezoid      Dog   \n\n             nom_3     nom_4  ...      nom_9 ord_0        ord_1        ord_2  \\\nid                            ...                                              \n0          Finland   Bassoon  ...  2f4cb3d51     2  Grandmaster         Cold   \n1           Russia     Piano  ...  f83c56c21     1  Grandmaster          Hot   \n2           Russia  Theremin  ...  ae6800dd0     1       Expert     Lava Hot   \n3           Canada      Oboe  ...  8270f0d71     1  Grandmaster  Boiling Hot   \n4           Canada      Oboe  ...  b164b72a7     1  Grandmaster     Freezing   \n...            ...       ...  ...        ...   ...          ...          ...   \n299995       India      Oboe  ...  e027decef     1  Contributor     Freezing   \n299996      Russia     Piano  ...  80f1411c8     2       Novice     Freezing   \n299997      Russia      Oboe  ...  314dcc15b     3       Novice  Boiling Hot   \n299998  Costa Rica     Piano  ...  ab0ce192b     1       Master  Boiling Hot   \n299999      Russia   Bassoon  ...  ad1af2b45     3  Contributor     Freezing   \n\n       ord_3  ord_4 ord_5 day month target  \nid                                          \n0          h      D    kr   2     2      0  \n1          a      A    bF   7     8      0  \n2          h      R    Jc   7     2      0  \n3          i      D    kW   2     1      1  \n4          a      R    qP   7     8      0  \n...      ...    ...   ...  ..   ...    ...  \n299995     k      K    dh   3     8      0  \n299996     h      W    MO   3     2      0  \n299997     o      A    Bn   7     9      1  \n299998     h      W    uJ   3     8      1  \n299999     i      R    tP   1     3      0  \n\n[300000 rows x 24 columns]",
      "text/html": "<div>\n<style scoped>\n    .dataframe tbody tr th:only-of-type {\n        vertical-align: middle;\n    }\n\n    .dataframe tbody tr th {\n        vertical-align: top;\n    }\n\n    .dataframe thead th {\n        text-align: right;\n    }\n</style>\n<table border=\"1\" class=\"dataframe\">\n  <thead>\n    <tr style=\"text-align: right;\">\n      <th></th>\n      <th>bin_0</th>\n      <th>bin_1</th>\n      <th>bin_2</th>\n      <th>bin_3</th>\n      <th>bin_4</th>\n      <th>nom_0</th>\n      <th>nom_1</th>\n      <th>nom_2</th>\n      <th>nom_3</th>\n      <th>nom_4</th>\n      <th>...</th>\n      <th>nom_9</th>\n      <th>ord_0</th>\n      <th>ord_1</th>\n      <th>ord_2</th>\n      <th>ord_3</th>\n      <th>ord_4</th>\n      <th>ord_5</th>\n      <th>day</th>\n      <th>month</th>\n      <th>target</th>\n    </tr>\n    <tr>\n      <th>id</th>\n      <th></th>\n      <th></th>\n      <th></th>\n      <th></th>\n      <th></th>\n      <th></th>\n      <th></th>\n      <th></th>\n      <th></th>\n      <th></th>\n      <th></th>\n      <th></th>\n      <th></th>\n      <th></th>\n      <th></th>\n      <th></th>\n      <th></th>\n      <th></th>\n      <th></th>\n      <th></th>\n      <th></th>\n    </tr>\n  </thead>\n  <tbody>\n    <tr>\n      <th>0</th>\n      <td>0</td>\n      <td>0</td>\n      <td>0</td>\n      <td>T</td>\n      <td>Y</td>\n      <td>Green</td>\n      <td>Triangle</td>\n      <td>Snake</td>\n      <td>Finland</td>\n      <td>Bassoon</td>\n      <td>...</td>\n      <td>2f4cb3d51</td>\n      <td>2</td>\n      <td>Grandmaster</td>\n      <td>Cold</td>\n      <td>h</td>\n      <td>D</td>\n      <td>kr</td>\n      <td>2</td>\n      <td>2</td>\n      <td>0</td>\n    </tr>\n    <tr>\n      <th>1</th>\n      <td>0</td>\n      <td>1</td>\n      <td>0</td>\n      <td>T</td>\n      <td>Y</td>\n      <td>Green</td>\n      <td>Trapezoid</td>\n      <td>Hamster</td>\n      <td>Russia</td>\n      <td>Piano</td>\n      <td>...</td>\n      <td>f83c56c21</td>\n      <td>1</td>\n      <td>Grandmaster</td>\n      <td>Hot</td>\n      <td>a</td>\n      <td>A</td>\n      <td>bF</td>\n      <td>7</td>\n      <td>8</td>\n      <td>0</td>\n    </tr>\n    <tr>\n      <th>2</th>\n      <td>0</td>\n      <td>0</td>\n      <td>0</td>\n      <td>F</td>\n      <td>Y</td>\n      <td>Blue</td>\n      <td>Trapezoid</td>\n      <td>Lion</td>\n      <td>Russia</td>\n      <td>Theremin</td>\n      <td>...</td>\n      <td>ae6800dd0</td>\n      <td>1</td>\n      <td>Expert</td>\n      <td>Lava Hot</td>\n      <td>h</td>\n      <td>R</td>\n      <td>Jc</td>\n      <td>7</td>\n      <td>2</td>\n      <td>0</td>\n    </tr>\n    <tr>\n      <th>3</th>\n      <td>0</td>\n      <td>1</td>\n      <td>0</td>\n      <td>F</td>\n      <td>Y</td>\n      <td>Red</td>\n      <td>Trapezoid</td>\n      <td>Snake</td>\n      <td>Canada</td>\n      <td>Oboe</td>\n      <td>...</td>\n      <td>8270f0d71</td>\n      <td>1</td>\n      <td>Grandmaster</td>\n      <td>Boiling Hot</td>\n      <td>i</td>\n      <td>D</td>\n      <td>kW</td>\n      <td>2</td>\n      <td>1</td>\n      <td>1</td>\n    </tr>\n    <tr>\n      <th>4</th>\n      <td>0</td>\n      <td>0</td>\n      <td>0</td>\n      <td>F</td>\n      <td>N</td>\n      <td>Red</td>\n      <td>Trapezoid</td>\n      <td>Lion</td>\n      <td>Canada</td>\n      <td>Oboe</td>\n      <td>...</td>\n      <td>b164b72a7</td>\n      <td>1</td>\n      <td>Grandmaster</td>\n      <td>Freezing</td>\n      <td>a</td>\n      <td>R</td>\n      <td>qP</td>\n      <td>7</td>\n      <td>8</td>\n      <td>0</td>\n    </tr>\n    <tr>\n      <th>...</th>\n      <td>...</td>\n      <td>...</td>\n      <td>...</td>\n      <td>...</td>\n      <td>...</td>\n      <td>...</td>\n      <td>...</td>\n      <td>...</td>\n      <td>...</td>\n      <td>...</td>\n      <td>...</td>\n      <td>...</td>\n      <td>...</td>\n      <td>...</td>\n      <td>...</td>\n      <td>...</td>\n      <td>...</td>\n      <td>...</td>\n      <td>...</td>\n      <td>...</td>\n      <td>...</td>\n    </tr>\n    <tr>\n      <th>299995</th>\n      <td>0</td>\n      <td>0</td>\n      <td>0</td>\n      <td>T</td>\n      <td>N</td>\n      <td>Red</td>\n      <td>Trapezoid</td>\n      <td>Snake</td>\n      <td>India</td>\n      <td>Oboe</td>\n      <td>...</td>\n      <td>e027decef</td>\n      <td>1</td>\n      <td>Contributor</td>\n      <td>Freezing</td>\n      <td>k</td>\n      <td>K</td>\n      <td>dh</td>\n      <td>3</td>\n      <td>8</td>\n      <td>0</td>\n    </tr>\n    <tr>\n      <th>299996</th>\n      <td>0</td>\n      <td>0</td>\n      <td>0</td>\n      <td>F</td>\n      <td>Y</td>\n      <td>Green</td>\n      <td>Trapezoid</td>\n      <td>Lion</td>\n      <td>Russia</td>\n      <td>Piano</td>\n      <td>...</td>\n      <td>80f1411c8</td>\n      <td>2</td>\n      <td>Novice</td>\n      <td>Freezing</td>\n      <td>h</td>\n      <td>W</td>\n      <td>MO</td>\n      <td>3</td>\n      <td>2</td>\n      <td>0</td>\n    </tr>\n    <tr>\n      <th>299997</th>\n      <td>0</td>\n      <td>0</td>\n      <td>0</td>\n      <td>F</td>\n      <td>Y</td>\n      <td>Blue</td>\n      <td>Star</td>\n      <td>Axolotl</td>\n      <td>Russia</td>\n      <td>Oboe</td>\n      <td>...</td>\n      <td>314dcc15b</td>\n      <td>3</td>\n      <td>Novice</td>\n      <td>Boiling Hot</td>\n      <td>o</td>\n      <td>A</td>\n      <td>Bn</td>\n      <td>7</td>\n      <td>9</td>\n      <td>1</td>\n    </tr>\n    <tr>\n      <th>299998</th>\n      <td>0</td>\n      <td>1</td>\n      <td>0</td>\n      <td>F</td>\n      <td>Y</td>\n      <td>Green</td>\n      <td>Square</td>\n      <td>Axolotl</td>\n      <td>Costa Rica</td>\n      <td>Piano</td>\n      <td>...</td>\n      <td>ab0ce192b</td>\n      <td>1</td>\n      <td>Master</td>\n      <td>Boiling Hot</td>\n      <td>h</td>\n      <td>W</td>\n      <td>uJ</td>\n      <td>3</td>\n      <td>8</td>\n      <td>1</td>\n    </tr>\n    <tr>\n      <th>299999</th>\n      <td>0</td>\n      <td>0</td>\n      <td>0</td>\n      <td>F</td>\n      <td>Y</td>\n      <td>Blue</td>\n      <td>Trapezoid</td>\n      <td>Dog</td>\n      <td>Russia</td>\n      <td>Bassoon</td>\n      <td>...</td>\n      <td>ad1af2b45</td>\n      <td>3</td>\n      <td>Contributor</td>\n      <td>Freezing</td>\n      <td>i</td>\n      <td>R</td>\n      <td>tP</td>\n      <td>1</td>\n      <td>3</td>\n      <td>0</td>\n    </tr>\n  </tbody>\n</table>\n<p>300000 rows × 24 columns</p>\n</div>"
     },
     "execution_count": 45,
     "metadata": {},
     "output_type": "execute_result"
    }
   ],
   "source": [
    "import pandas as pd\n",
    "\n",
    "data_path = './cat-in-the-dat/'\n",
    "\n",
    "train = pd.read_csv(data_path + 'train.csv' , index_col = 'id')\n",
    "test = pd.read_csv(data_path + 'test.csv' , index_col = 'id')\n",
    "submission = pd.read_csv(data_path + 'sample_submission.csv' , index_col= 'id')\n",
    "\n",
    "train"
   ]
  },
  {
   "cell_type": "code",
   "execution_count": 46,
   "outputs": [
    {
     "data": {
      "text/plain": "        bin_0  bin_1  bin_2 bin_3 bin_4  nom_0      nom_1    nom_2  \\\nid                                                                   \n0           0      0      0     T     Y  Green   Triangle    Snake   \n1           0      1      0     T     Y  Green  Trapezoid  Hamster   \n2           0      0      0     F     Y   Blue  Trapezoid     Lion   \n3           0      1      0     F     Y    Red  Trapezoid    Snake   \n4           0      0      0     F     N    Red  Trapezoid     Lion   \n...       ...    ...    ...   ...   ...    ...        ...      ...   \n499995      0      0      0     F     N  Green     Square     Lion   \n499996      1      0      0     F     Y  Green  Trapezoid     Lion   \n499997      0      1      1     T     Y  Green  Trapezoid     Lion   \n499998      1      0      0     T     Y   Blue       Star  Hamster   \n499999      0      0      0     T     Y  Green       Star     Lion   \n\n             nom_3     nom_4  ...      nom_8      nom_9 ord_0        ord_1  \\\nid                            ...                                            \n0          Finland   Bassoon  ...  c389000ab  2f4cb3d51     2  Grandmaster   \n1           Russia     Piano  ...  4cd920251  f83c56c21     1  Grandmaster   \n2           Russia  Theremin  ...  de9c9f684  ae6800dd0     1       Expert   \n3           Canada      Oboe  ...  4ade6ab69  8270f0d71     1  Grandmaster   \n4           Canada      Oboe  ...  cb43ab175  b164b72a7     1  Grandmaster   \n...            ...       ...  ...        ...        ...   ...          ...   \n499995      Canada  Theremin  ...  9e4b23160  acc31291f     1       Novice   \n499996       China     Piano  ...  cfbd87ed0  eae3446d0     1  Contributor   \n499997      Canada      Oboe  ...  1108bcd6c  33dd3cf4b     1       Novice   \n499998  Costa Rica   Bassoon  ...  606ac930b  d4cf587dd     2  Grandmaster   \n499999       India     Piano  ...  4ea576eb6  2d610f52c     2       Novice   \n\n              ord_2  ord_3 ord_4 ord_5 day month  \nid                                                \n0              Cold      h     D    kr   2     2  \n1               Hot      a     A    bF   7     8  \n2          Lava Hot      h     R    Jc   7     2  \n3       Boiling Hot      i     D    kW   2     1  \n4          Freezing      a     R    qP   7     8  \n...             ...    ...   ...   ...  ..   ...  \n499995     Lava Hot      j     A    Gb   1     3  \n499996     Lava Hot      f     S    Ed   2     2  \n499997  Boiling Hot      g     V    TR   3     1  \n499998  Boiling Hot      g     X    Ye   2     1  \n499999     Freezing      l     J    ex   2     2  \n\n[500000 rows x 23 columns]",
      "text/html": "<div>\n<style scoped>\n    .dataframe tbody tr th:only-of-type {\n        vertical-align: middle;\n    }\n\n    .dataframe tbody tr th {\n        vertical-align: top;\n    }\n\n    .dataframe thead th {\n        text-align: right;\n    }\n</style>\n<table border=\"1\" class=\"dataframe\">\n  <thead>\n    <tr style=\"text-align: right;\">\n      <th></th>\n      <th>bin_0</th>\n      <th>bin_1</th>\n      <th>bin_2</th>\n      <th>bin_3</th>\n      <th>bin_4</th>\n      <th>nom_0</th>\n      <th>nom_1</th>\n      <th>nom_2</th>\n      <th>nom_3</th>\n      <th>nom_4</th>\n      <th>...</th>\n      <th>nom_8</th>\n      <th>nom_9</th>\n      <th>ord_0</th>\n      <th>ord_1</th>\n      <th>ord_2</th>\n      <th>ord_3</th>\n      <th>ord_4</th>\n      <th>ord_5</th>\n      <th>day</th>\n      <th>month</th>\n    </tr>\n    <tr>\n      <th>id</th>\n      <th></th>\n      <th></th>\n      <th></th>\n      <th></th>\n      <th></th>\n      <th></th>\n      <th></th>\n      <th></th>\n      <th></th>\n      <th></th>\n      <th></th>\n      <th></th>\n      <th></th>\n      <th></th>\n      <th></th>\n      <th></th>\n      <th></th>\n      <th></th>\n      <th></th>\n      <th></th>\n      <th></th>\n    </tr>\n  </thead>\n  <tbody>\n    <tr>\n      <th>0</th>\n      <td>0</td>\n      <td>0</td>\n      <td>0</td>\n      <td>T</td>\n      <td>Y</td>\n      <td>Green</td>\n      <td>Triangle</td>\n      <td>Snake</td>\n      <td>Finland</td>\n      <td>Bassoon</td>\n      <td>...</td>\n      <td>c389000ab</td>\n      <td>2f4cb3d51</td>\n      <td>2</td>\n      <td>Grandmaster</td>\n      <td>Cold</td>\n      <td>h</td>\n      <td>D</td>\n      <td>kr</td>\n      <td>2</td>\n      <td>2</td>\n    </tr>\n    <tr>\n      <th>1</th>\n      <td>0</td>\n      <td>1</td>\n      <td>0</td>\n      <td>T</td>\n      <td>Y</td>\n      <td>Green</td>\n      <td>Trapezoid</td>\n      <td>Hamster</td>\n      <td>Russia</td>\n      <td>Piano</td>\n      <td>...</td>\n      <td>4cd920251</td>\n      <td>f83c56c21</td>\n      <td>1</td>\n      <td>Grandmaster</td>\n      <td>Hot</td>\n      <td>a</td>\n      <td>A</td>\n      <td>bF</td>\n      <td>7</td>\n      <td>8</td>\n    </tr>\n    <tr>\n      <th>2</th>\n      <td>0</td>\n      <td>0</td>\n      <td>0</td>\n      <td>F</td>\n      <td>Y</td>\n      <td>Blue</td>\n      <td>Trapezoid</td>\n      <td>Lion</td>\n      <td>Russia</td>\n      <td>Theremin</td>\n      <td>...</td>\n      <td>de9c9f684</td>\n      <td>ae6800dd0</td>\n      <td>1</td>\n      <td>Expert</td>\n      <td>Lava Hot</td>\n      <td>h</td>\n      <td>R</td>\n      <td>Jc</td>\n      <td>7</td>\n      <td>2</td>\n    </tr>\n    <tr>\n      <th>3</th>\n      <td>0</td>\n      <td>1</td>\n      <td>0</td>\n      <td>F</td>\n      <td>Y</td>\n      <td>Red</td>\n      <td>Trapezoid</td>\n      <td>Snake</td>\n      <td>Canada</td>\n      <td>Oboe</td>\n      <td>...</td>\n      <td>4ade6ab69</td>\n      <td>8270f0d71</td>\n      <td>1</td>\n      <td>Grandmaster</td>\n      <td>Boiling Hot</td>\n      <td>i</td>\n      <td>D</td>\n      <td>kW</td>\n      <td>2</td>\n      <td>1</td>\n    </tr>\n    <tr>\n      <th>4</th>\n      <td>0</td>\n      <td>0</td>\n      <td>0</td>\n      <td>F</td>\n      <td>N</td>\n      <td>Red</td>\n      <td>Trapezoid</td>\n      <td>Lion</td>\n      <td>Canada</td>\n      <td>Oboe</td>\n      <td>...</td>\n      <td>cb43ab175</td>\n      <td>b164b72a7</td>\n      <td>1</td>\n      <td>Grandmaster</td>\n      <td>Freezing</td>\n      <td>a</td>\n      <td>R</td>\n      <td>qP</td>\n      <td>7</td>\n      <td>8</td>\n    </tr>\n    <tr>\n      <th>...</th>\n      <td>...</td>\n      <td>...</td>\n      <td>...</td>\n      <td>...</td>\n      <td>...</td>\n      <td>...</td>\n      <td>...</td>\n      <td>...</td>\n      <td>...</td>\n      <td>...</td>\n      <td>...</td>\n      <td>...</td>\n      <td>...</td>\n      <td>...</td>\n      <td>...</td>\n      <td>...</td>\n      <td>...</td>\n      <td>...</td>\n      <td>...</td>\n      <td>...</td>\n      <td>...</td>\n    </tr>\n    <tr>\n      <th>499995</th>\n      <td>0</td>\n      <td>0</td>\n      <td>0</td>\n      <td>F</td>\n      <td>N</td>\n      <td>Green</td>\n      <td>Square</td>\n      <td>Lion</td>\n      <td>Canada</td>\n      <td>Theremin</td>\n      <td>...</td>\n      <td>9e4b23160</td>\n      <td>acc31291f</td>\n      <td>1</td>\n      <td>Novice</td>\n      <td>Lava Hot</td>\n      <td>j</td>\n      <td>A</td>\n      <td>Gb</td>\n      <td>1</td>\n      <td>3</td>\n    </tr>\n    <tr>\n      <th>499996</th>\n      <td>1</td>\n      <td>0</td>\n      <td>0</td>\n      <td>F</td>\n      <td>Y</td>\n      <td>Green</td>\n      <td>Trapezoid</td>\n      <td>Lion</td>\n      <td>China</td>\n      <td>Piano</td>\n      <td>...</td>\n      <td>cfbd87ed0</td>\n      <td>eae3446d0</td>\n      <td>1</td>\n      <td>Contributor</td>\n      <td>Lava Hot</td>\n      <td>f</td>\n      <td>S</td>\n      <td>Ed</td>\n      <td>2</td>\n      <td>2</td>\n    </tr>\n    <tr>\n      <th>499997</th>\n      <td>0</td>\n      <td>1</td>\n      <td>1</td>\n      <td>T</td>\n      <td>Y</td>\n      <td>Green</td>\n      <td>Trapezoid</td>\n      <td>Lion</td>\n      <td>Canada</td>\n      <td>Oboe</td>\n      <td>...</td>\n      <td>1108bcd6c</td>\n      <td>33dd3cf4b</td>\n      <td>1</td>\n      <td>Novice</td>\n      <td>Boiling Hot</td>\n      <td>g</td>\n      <td>V</td>\n      <td>TR</td>\n      <td>3</td>\n      <td>1</td>\n    </tr>\n    <tr>\n      <th>499998</th>\n      <td>1</td>\n      <td>0</td>\n      <td>0</td>\n      <td>T</td>\n      <td>Y</td>\n      <td>Blue</td>\n      <td>Star</td>\n      <td>Hamster</td>\n      <td>Costa Rica</td>\n      <td>Bassoon</td>\n      <td>...</td>\n      <td>606ac930b</td>\n      <td>d4cf587dd</td>\n      <td>2</td>\n      <td>Grandmaster</td>\n      <td>Boiling Hot</td>\n      <td>g</td>\n      <td>X</td>\n      <td>Ye</td>\n      <td>2</td>\n      <td>1</td>\n    </tr>\n    <tr>\n      <th>499999</th>\n      <td>0</td>\n      <td>0</td>\n      <td>0</td>\n      <td>T</td>\n      <td>Y</td>\n      <td>Green</td>\n      <td>Star</td>\n      <td>Lion</td>\n      <td>India</td>\n      <td>Piano</td>\n      <td>...</td>\n      <td>4ea576eb6</td>\n      <td>2d610f52c</td>\n      <td>2</td>\n      <td>Novice</td>\n      <td>Freezing</td>\n      <td>l</td>\n      <td>J</td>\n      <td>ex</td>\n      <td>2</td>\n      <td>2</td>\n    </tr>\n  </tbody>\n</table>\n<p>500000 rows × 23 columns</p>\n</div>"
     },
     "execution_count": 46,
     "metadata": {},
     "output_type": "execute_result"
    }
   ],
   "source": [
    "all_data = pd.concat([train , test]) # 훈련 데이터와 테스트 데이터 합치기\n",
    "all_data = all_data.drop('target' , axis =1) # 타깃값 제거\n",
    "all_data"
   ],
   "metadata": {
    "collapsed": false,
    "pycharm": {
     "name": "#%%\n"
    }
   }
  },
  {
   "cell_type": "markdown",
   "source": [
    "## 원 핫 인코딩"
   ],
   "metadata": {
    "collapsed": false,
    "pycharm": {
     "name": "#%% md\n"
    }
   }
  },
  {
   "cell_type": "code",
   "execution_count": 47,
   "outputs": [
    {
     "data": {
      "text/plain": "<500000x16552 sparse matrix of type '<class 'numpy.float64'>'\n\twith 11500000 stored elements in Compressed Sparse Row format>"
     },
     "execution_count": 47,
     "metadata": {},
     "output_type": "execute_result"
    }
   ],
   "source": [
    "from sklearn.preprocessing import OneHotEncoder\n",
    "\n",
    "encoder = OneHotEncoder() # 원 - 핫 인코더 생성\n",
    "all_data_encoded = encoder.fit_transform(all_data) # 원 핫 인코딩 적용\n",
    "\n",
    "all_data_encoded"
   ],
   "metadata": {
    "collapsed": false,
    "pycharm": {
     "name": "#%%\n"
    }
   }
  },
  {
   "cell_type": "code",
   "execution_count": 48,
   "outputs": [
    {
     "data": {
      "text/plain": "    bin_0  bin_1  bin_2 bin_3 bin_4  nom_0      nom_1    nom_2    nom_3  \\\nid                                                                        \n0       0      0      0     T     Y  Green   Triangle    Snake  Finland   \n1       0      1      0     T     Y  Green  Trapezoid  Hamster   Russia   \n2       0      0      0     F     Y   Blue  Trapezoid     Lion   Russia   \n3       0      1      0     F     Y    Red  Trapezoid    Snake   Canada   \n4       0      0      0     F     N    Red  Trapezoid     Lion   Canada   \n\n       nom_4  ...      nom_9 ord_0        ord_1        ord_2 ord_3  ord_4  \\\nid            ...                                                           \n0    Bassoon  ...  2f4cb3d51     2  Grandmaster         Cold     h      D   \n1      Piano  ...  f83c56c21     1  Grandmaster          Hot     a      A   \n2   Theremin  ...  ae6800dd0     1       Expert     Lava Hot     h      R   \n3       Oboe  ...  8270f0d71     1  Grandmaster  Boiling Hot     i      D   \n4       Oboe  ...  b164b72a7     1  Grandmaster     Freezing     a      R   \n\n   ord_5 day month target  \nid                         \n0     kr   2     2      0  \n1     bF   7     8      0  \n2     Jc   7     2      0  \n3     kW   2     1      1  \n4     qP   7     8      0  \n\n[5 rows x 24 columns]",
      "text/html": "<div>\n<style scoped>\n    .dataframe tbody tr th:only-of-type {\n        vertical-align: middle;\n    }\n\n    .dataframe tbody tr th {\n        vertical-align: top;\n    }\n\n    .dataframe thead th {\n        text-align: right;\n    }\n</style>\n<table border=\"1\" class=\"dataframe\">\n  <thead>\n    <tr style=\"text-align: right;\">\n      <th></th>\n      <th>bin_0</th>\n      <th>bin_1</th>\n      <th>bin_2</th>\n      <th>bin_3</th>\n      <th>bin_4</th>\n      <th>nom_0</th>\n      <th>nom_1</th>\n      <th>nom_2</th>\n      <th>nom_3</th>\n      <th>nom_4</th>\n      <th>...</th>\n      <th>nom_9</th>\n      <th>ord_0</th>\n      <th>ord_1</th>\n      <th>ord_2</th>\n      <th>ord_3</th>\n      <th>ord_4</th>\n      <th>ord_5</th>\n      <th>day</th>\n      <th>month</th>\n      <th>target</th>\n    </tr>\n    <tr>\n      <th>id</th>\n      <th></th>\n      <th></th>\n      <th></th>\n      <th></th>\n      <th></th>\n      <th></th>\n      <th></th>\n      <th></th>\n      <th></th>\n      <th></th>\n      <th></th>\n      <th></th>\n      <th></th>\n      <th></th>\n      <th></th>\n      <th></th>\n      <th></th>\n      <th></th>\n      <th></th>\n      <th></th>\n      <th></th>\n    </tr>\n  </thead>\n  <tbody>\n    <tr>\n      <th>0</th>\n      <td>0</td>\n      <td>0</td>\n      <td>0</td>\n      <td>T</td>\n      <td>Y</td>\n      <td>Green</td>\n      <td>Triangle</td>\n      <td>Snake</td>\n      <td>Finland</td>\n      <td>Bassoon</td>\n      <td>...</td>\n      <td>2f4cb3d51</td>\n      <td>2</td>\n      <td>Grandmaster</td>\n      <td>Cold</td>\n      <td>h</td>\n      <td>D</td>\n      <td>kr</td>\n      <td>2</td>\n      <td>2</td>\n      <td>0</td>\n    </tr>\n    <tr>\n      <th>1</th>\n      <td>0</td>\n      <td>1</td>\n      <td>0</td>\n      <td>T</td>\n      <td>Y</td>\n      <td>Green</td>\n      <td>Trapezoid</td>\n      <td>Hamster</td>\n      <td>Russia</td>\n      <td>Piano</td>\n      <td>...</td>\n      <td>f83c56c21</td>\n      <td>1</td>\n      <td>Grandmaster</td>\n      <td>Hot</td>\n      <td>a</td>\n      <td>A</td>\n      <td>bF</td>\n      <td>7</td>\n      <td>8</td>\n      <td>0</td>\n    </tr>\n    <tr>\n      <th>2</th>\n      <td>0</td>\n      <td>0</td>\n      <td>0</td>\n      <td>F</td>\n      <td>Y</td>\n      <td>Blue</td>\n      <td>Trapezoid</td>\n      <td>Lion</td>\n      <td>Russia</td>\n      <td>Theremin</td>\n      <td>...</td>\n      <td>ae6800dd0</td>\n      <td>1</td>\n      <td>Expert</td>\n      <td>Lava Hot</td>\n      <td>h</td>\n      <td>R</td>\n      <td>Jc</td>\n      <td>7</td>\n      <td>2</td>\n      <td>0</td>\n    </tr>\n    <tr>\n      <th>3</th>\n      <td>0</td>\n      <td>1</td>\n      <td>0</td>\n      <td>F</td>\n      <td>Y</td>\n      <td>Red</td>\n      <td>Trapezoid</td>\n      <td>Snake</td>\n      <td>Canada</td>\n      <td>Oboe</td>\n      <td>...</td>\n      <td>8270f0d71</td>\n      <td>1</td>\n      <td>Grandmaster</td>\n      <td>Boiling Hot</td>\n      <td>i</td>\n      <td>D</td>\n      <td>kW</td>\n      <td>2</td>\n      <td>1</td>\n      <td>1</td>\n    </tr>\n    <tr>\n      <th>4</th>\n      <td>0</td>\n      <td>0</td>\n      <td>0</td>\n      <td>F</td>\n      <td>N</td>\n      <td>Red</td>\n      <td>Trapezoid</td>\n      <td>Lion</td>\n      <td>Canada</td>\n      <td>Oboe</td>\n      <td>...</td>\n      <td>b164b72a7</td>\n      <td>1</td>\n      <td>Grandmaster</td>\n      <td>Freezing</td>\n      <td>a</td>\n      <td>R</td>\n      <td>qP</td>\n      <td>7</td>\n      <td>8</td>\n      <td>0</td>\n    </tr>\n  </tbody>\n</table>\n<p>5 rows × 24 columns</p>\n</div>"
     },
     "execution_count": 48,
     "metadata": {},
     "output_type": "execute_result"
    }
   ],
   "source": [
    "train.head()"
   ],
   "metadata": {
    "collapsed": false,
    "pycharm": {
     "name": "#%%\n"
    }
   }
  },
  {
   "cell_type": "code",
   "execution_count": 49,
   "outputs": [
    {
     "data": {
      "text/plain": "<2x16552 sparse matrix of type '<class 'numpy.float64'>'\n\twith 46 stored elements in Compressed Sparse Row format>"
     },
     "execution_count": 49,
     "metadata": {},
     "output_type": "execute_result"
    }
   ],
   "source": [
    "all_data_encoded[:2]"
   ],
   "metadata": {
    "collapsed": false,
    "pycharm": {
     "name": "#%%\n"
    }
   }
  },
  {
   "cell_type": "code",
   "execution_count": 50,
   "outputs": [
    {
     "data": {
      "text/plain": "                                                        0\n0         (0, 0)\\t1.0\\n  (0, 2)\\t1.0\\n  (0, 4)\\t1.0\\n ...\n1         (0, 0)\\t1.0\\n  (0, 3)\\t1.0\\n  (0, 4)\\t1.0\\n ...\n2         (0, 0)\\t1.0\\n  (0, 2)\\t1.0\\n  (0, 4)\\t1.0\\n ...\n3         (0, 0)\\t1.0\\n  (0, 3)\\t1.0\\n  (0, 4)\\t1.0\\n ...\n4         (0, 0)\\t1.0\\n  (0, 2)\\t1.0\\n  (0, 4)\\t1.0\\n ...\n...                                                   ...\n499995    (0, 0)\\t1.0\\n  (0, 2)\\t1.0\\n  (0, 4)\\t1.0\\n ...\n499996    (0, 1)\\t1.0\\n  (0, 2)\\t1.0\\n  (0, 4)\\t1.0\\n ...\n499997    (0, 0)\\t1.0\\n  (0, 3)\\t1.0\\n  (0, 5)\\t1.0\\n ...\n499998    (0, 1)\\t1.0\\n  (0, 2)\\t1.0\\n  (0, 4)\\t1.0\\n ...\n499999    (0, 0)\\t1.0\\n  (0, 2)\\t1.0\\n  (0, 4)\\t1.0\\n ...\n\n[500000 rows x 1 columns]",
      "text/html": "<div>\n<style scoped>\n    .dataframe tbody tr th:only-of-type {\n        vertical-align: middle;\n    }\n\n    .dataframe tbody tr th {\n        vertical-align: top;\n    }\n\n    .dataframe thead th {\n        text-align: right;\n    }\n</style>\n<table border=\"1\" class=\"dataframe\">\n  <thead>\n    <tr style=\"text-align: right;\">\n      <th></th>\n      <th>0</th>\n    </tr>\n  </thead>\n  <tbody>\n    <tr>\n      <th>0</th>\n      <td>(0, 0)\\t1.0\\n  (0, 2)\\t1.0\\n  (0, 4)\\t1.0\\n ...</td>\n    </tr>\n    <tr>\n      <th>1</th>\n      <td>(0, 0)\\t1.0\\n  (0, 3)\\t1.0\\n  (0, 4)\\t1.0\\n ...</td>\n    </tr>\n    <tr>\n      <th>2</th>\n      <td>(0, 0)\\t1.0\\n  (0, 2)\\t1.0\\n  (0, 4)\\t1.0\\n ...</td>\n    </tr>\n    <tr>\n      <th>3</th>\n      <td>(0, 0)\\t1.0\\n  (0, 3)\\t1.0\\n  (0, 4)\\t1.0\\n ...</td>\n    </tr>\n    <tr>\n      <th>4</th>\n      <td>(0, 0)\\t1.0\\n  (0, 2)\\t1.0\\n  (0, 4)\\t1.0\\n ...</td>\n    </tr>\n    <tr>\n      <th>...</th>\n      <td>...</td>\n    </tr>\n    <tr>\n      <th>499995</th>\n      <td>(0, 0)\\t1.0\\n  (0, 2)\\t1.0\\n  (0, 4)\\t1.0\\n ...</td>\n    </tr>\n    <tr>\n      <th>499996</th>\n      <td>(0, 1)\\t1.0\\n  (0, 2)\\t1.0\\n  (0, 4)\\t1.0\\n ...</td>\n    </tr>\n    <tr>\n      <th>499997</th>\n      <td>(0, 0)\\t1.0\\n  (0, 3)\\t1.0\\n  (0, 5)\\t1.0\\n ...</td>\n    </tr>\n    <tr>\n      <th>499998</th>\n      <td>(0, 1)\\t1.0\\n  (0, 2)\\t1.0\\n  (0, 4)\\t1.0\\n ...</td>\n    </tr>\n    <tr>\n      <th>499999</th>\n      <td>(0, 0)\\t1.0\\n  (0, 2)\\t1.0\\n  (0, 4)\\t1.0\\n ...</td>\n    </tr>\n  </tbody>\n</table>\n<p>500000 rows × 1 columns</p>\n</div>"
     },
     "execution_count": 50,
     "metadata": {},
     "output_type": "execute_result"
    }
   ],
   "source": [
    "pd.DataFrame(all_data_encoded)"
   ],
   "metadata": {
    "collapsed": false,
    "pycharm": {
     "name": "#%%\n"
    }
   }
  },
  {
   "cell_type": "code",
   "execution_count": 51,
   "outputs": [
    {
     "name": "stdout",
     "output_type": "stream",
     "text": [
      "  (0, 0)\t1.0\n",
      "  (0, 2)\t1.0\n",
      "  (0, 4)\t1.0\n",
      "  (0, 7)\t1.0\n",
      "  (0, 9)\t1.0\n",
      "  (0, 11)\t1.0\n",
      "  (0, 18)\t1.0\n",
      "  (0, 24)\t1.0\n",
      "  (0, 28)\t1.0\n",
      "  (0, 31)\t1.0\n",
      "  (0, 113)\t1.0\n",
      "  (0, 377)\t1.0\n",
      "  (0, 1270)\t1.0\n",
      "  (0, 3688)\t1.0\n",
      "  (0, 6410)\t1.0\n",
      "  (0, 16287)\t1.0\n",
      "  (0, 16291)\t1.0\n",
      "  (0, 16295)\t1.0\n",
      "  (0, 16307)\t1.0\n",
      "  (0, 16318)\t1.0\n",
      "  (0, 16477)\t1.0\n",
      "  (0, 16534)\t1.0\n",
      "  (0, 16541)\t1.0\n",
      "  (1, 0)\t1.0\n",
      "  (1, 3)\t1.0\n",
      "  :\t:\n",
      "  (499998, 16534)\t1.0\n",
      "  (499998, 16540)\t1.0\n",
      "  (499999, 0)\t1.0\n",
      "  (499999, 2)\t1.0\n",
      "  (499999, 4)\t1.0\n",
      "  (499999, 7)\t1.0\n",
      "  (499999, 9)\t1.0\n",
      "  (499999, 11)\t1.0\n",
      "  (499999, 16)\t1.0\n",
      "  (499999, 23)\t1.0\n",
      "  (499999, 29)\t1.0\n",
      "  (499999, 33)\t1.0\n",
      "  (499999, 186)\t1.0\n",
      "  (499999, 647)\t1.0\n",
      "  (499999, 1559)\t1.0\n",
      "  (499999, 2667)\t1.0\n",
      "  (499999, 6320)\t1.0\n",
      "  (499999, 16287)\t1.0\n",
      "  (499999, 16293)\t1.0\n",
      "  (499999, 16296)\t1.0\n",
      "  (499999, 16311)\t1.0\n",
      "  (499999, 16324)\t1.0\n",
      "  (499999, 16455)\t1.0\n",
      "  (499999, 16534)\t1.0\n",
      "  (499999, 16541)\t1.0\n"
     ]
    }
   ],
   "source": [
    "print(all_data_encoded)"
   ],
   "metadata": {
    "collapsed": false,
    "pycharm": {
     "name": "#%%\n"
    }
   }
  },
  {
   "cell_type": "code",
   "execution_count": 52,
   "outputs": [],
   "source": [
    "num_train = len(train) # 훈련 데이터 개수\n",
    "\n",
    "# 훈련 데이터와 테스트 데이터 나누기\n",
    "\n",
    "X_train = all_data_encoded[:num_train] # 0 ~ num_train - 1행\n",
    "X_test = all_data_encoded[num_train :] # num_train ~ 마지막 행\n",
    "\n",
    "y = train['target']"
   ],
   "metadata": {
    "collapsed": false,
    "pycharm": {
     "name": "#%%\n"
    }
   }
  },
  {
   "cell_type": "code",
   "execution_count": 53,
   "outputs": [],
   "source": [
    "from sklearn.model_selection import train_test_split\n",
    "\n",
    "# 훈련 데이터 , 검증 데이터 분리\n",
    "\n",
    "X_train , X_valid , y_train , y_valid = train_test_split(X_train , y ,\n",
    "                                                         test_size=0.1, stratify=y , random_state=10)\n",
    "# test_size = 0.1은 10%를 검증 데이터로 분리하겠다는 의미이다.\n",
    "\n",
    "# stratify 파라미터로 지정한 값을 각 그룹에 '공정하게' 배분한다는 뜻이다.\n",
    "# 타깃값인 y를 전달했으므로 타깃값이 훈련 데이터와 검증 데이터에 같은 비율로 포함되게끔 나눠준다.\n",
    "# stratify 값에 타깃값을 넘겨주는 것이 바람직하다."
   ],
   "metadata": {
    "collapsed": false,
    "pycharm": {
     "name": "#%%\n"
    }
   }
  },
  {
   "cell_type": "markdown",
   "source": [
    "## 모델 훈련"
   ],
   "metadata": {
    "collapsed": false,
    "pycharm": {
     "name": "#%% md\n"
    }
   }
  },
  {
   "cell_type": "code",
   "execution_count": 54,
   "outputs": [
    {
     "data": {
      "text/plain": "LogisticRegression(max_iter=1000, random_state=42)"
     },
     "execution_count": 54,
     "metadata": {},
     "output_type": "execute_result"
    }
   ],
   "source": [
    "from sklearn.linear_model import LogisticRegression\n",
    "\n",
    "# 선형 회귀 방식을 응용해 분류를 수행하는 로지스틱 회귀 모델\n",
    "\n",
    "logistic_model = LogisticRegression(max_iter= 1000 , random_state= 42) # 모델 생성\n",
    "logistic_model.fit(X_train , y_train) # 모델 훈련\n",
    "\n",
    "# max_iter : 모델의 회귀 계수를 업데이트하는 반복 횟수 , 모델 훈련 시 회귀 계수를 업데이트 하면서 훈련하는데,\n",
    "# 이때 업데이트를 몇 번 할지를 정한다.\n",
    "\n",
    "# random_state: 값을 지정하면 여러 번 실행해도 매번 똑같은 결과가 나온다. 아무 값으로 지정해도 상관없다.\n",
    "\n"
   ],
   "metadata": {
    "collapsed": false,
    "pycharm": {
     "name": "#%%\n"
    }
   }
  },
  {
   "cell_type": "code",
   "execution_count": 55,
   "outputs": [
    {
     "data": {
      "text/plain": "array([[0.23275431, 0.76724569],\n       [0.91415122, 0.08584878],\n       [0.83019006, 0.16980994],\n       ...,\n       [0.2484274 , 0.7515726 ],\n       [0.49443099, 0.50556901],\n       [0.95658974, 0.04341026]])"
     },
     "execution_count": 55,
     "metadata": {},
     "output_type": "execute_result"
    }
   ],
   "source": [
    "logistic_model.predict_proba(X_valid) # 검증 데이터의 타깃값이 0 또는 1일 확률을 예측한 결과\n",
    "\n",
    "# 사이킷런의 타깃값 예측 메서드를 2가지 제공한다.\n",
    "# predict() 와 predict_proba()이다.\n",
    "# predict() 메서드는 타깃값 자체(0이냐 1이냐)를 예측한다. 반면 predict_proba()는 타깃값의 확률(0일 확률과 1일 확률)을 예측한다."
   ],
   "metadata": {
    "collapsed": false,
    "pycharm": {
     "name": "#%%\n"
    }
   }
  },
  {
   "cell_type": "code",
   "execution_count": 56,
   "outputs": [
    {
     "data": {
      "text/plain": "array([0.76724569, 0.08584878, 0.16980994, ..., 0.7515726 , 0.50556901,\n       0.04341026])"
     },
     "execution_count": 56,
     "metadata": {},
     "output_type": "execute_result"
    }
   ],
   "source": [
    "y_valid_preds = logistic_model.predict_proba(X_valid)[:,1]\n",
    "#y_valid_preds 변수에는 검증 데이터 타깃값이 1일 확률이 저장된다.\n",
    "y_valid_preds"
   ],
   "metadata": {
    "collapsed": false,
    "pycharm": {
     "name": "#%%\n"
    }
   }
  },
  {
   "cell_type": "code",
   "execution_count": 57,
   "outputs": [
    {
     "name": "stdout",
     "output_type": "stream",
     "text": [
      "검증 데이터 ROC AUC :  0.7965\n"
     ]
    }
   ],
   "source": [
    "# 타깃 예측값인 y_valid_preds 와 실제 타깃값인 y_valid 를 이용해 ROC AUC를 구하여 모델 성능을 검증한다.\n",
    "\n",
    "from sklearn.metrics import roc_auc_score # ROC AUC 점수 계산 함수\n",
    "\n",
    "# 검증 데이터 ROC AUC\n",
    "roc_auc = roc_auc_score(y_valid , y_valid_preds)\n",
    "\n",
    "print(f'검증 데이터 ROC AUC : {roc_auc : .4f}')"
   ],
   "metadata": {
    "collapsed": false,
    "pycharm": {
     "name": "#%%\n"
    }
   }
  },
  {
   "cell_type": "markdown",
   "source": [
    "## 예측 및 결과 제출"
   ],
   "metadata": {
    "collapsed": false,
    "pycharm": {
     "name": "#%% md\n"
    }
   }
  },
  {
   "cell_type": "code",
   "execution_count": 58,
   "outputs": [],
   "source": [
    "# 타깃값 1일 확률 예측\n",
    "\n",
    "y_preds = logistic_model.predict_proba(X_test)[:,1]\n",
    "\n",
    "submission['target'] = y_preds\n",
    "submission.to_csv('submission.csv')"
   ],
   "metadata": {
    "collapsed": false,
    "pycharm": {
     "name": "#%%\n"
    }
   }
  },
  {
   "cell_type": "code",
   "execution_count": 59,
   "outputs": [
    {
     "data": {
      "text/plain": "          target\nid              \n300000  0.308392\n300001  0.698886\n300002  0.067944\n300003  0.445175\n300004  0.893205\n...          ...\n499995  0.311681\n499996  0.142428\n499997  0.406044\n499998  0.491666\n499999  0.186162\n\n[200000 rows x 1 columns]",
      "text/html": "<div>\n<style scoped>\n    .dataframe tbody tr th:only-of-type {\n        vertical-align: middle;\n    }\n\n    .dataframe tbody tr th {\n        vertical-align: top;\n    }\n\n    .dataframe thead th {\n        text-align: right;\n    }\n</style>\n<table border=\"1\" class=\"dataframe\">\n  <thead>\n    <tr style=\"text-align: right;\">\n      <th></th>\n      <th>target</th>\n    </tr>\n    <tr>\n      <th>id</th>\n      <th></th>\n    </tr>\n  </thead>\n  <tbody>\n    <tr>\n      <th>300000</th>\n      <td>0.308392</td>\n    </tr>\n    <tr>\n      <th>300001</th>\n      <td>0.698886</td>\n    </tr>\n    <tr>\n      <th>300002</th>\n      <td>0.067944</td>\n    </tr>\n    <tr>\n      <th>300003</th>\n      <td>0.445175</td>\n    </tr>\n    <tr>\n      <th>300004</th>\n      <td>0.893205</td>\n    </tr>\n    <tr>\n      <th>...</th>\n      <td>...</td>\n    </tr>\n    <tr>\n      <th>499995</th>\n      <td>0.311681</td>\n    </tr>\n    <tr>\n      <th>499996</th>\n      <td>0.142428</td>\n    </tr>\n    <tr>\n      <th>499997</th>\n      <td>0.406044</td>\n    </tr>\n    <tr>\n      <th>499998</th>\n      <td>0.491666</td>\n    </tr>\n    <tr>\n      <th>499999</th>\n      <td>0.186162</td>\n    </tr>\n  </tbody>\n</table>\n<p>200000 rows × 1 columns</p>\n</div>"
     },
     "execution_count": 59,
     "metadata": {},
     "output_type": "execute_result"
    }
   ],
   "source": [
    "submission"
   ],
   "metadata": {
    "collapsed": false,
    "pycharm": {
     "name": "#%%\n"
    }
   }
  },
  {
   "cell_type": "markdown",
   "source": [
    "## 성능 개선 1"
   ],
   "metadata": {
    "collapsed": false,
    "pycharm": {
     "name": "#%% md\n"
    }
   }
  },
  {
   "cell_type": "code",
   "execution_count": 60,
   "outputs": [],
   "source": [
    "# 1. 피처 엔지니어링 진행 ==> 피처 스케일링\n",
    "\n",
    "# 2. 하이퍼파라미터의 최적화"
   ],
   "metadata": {
    "collapsed": false,
    "pycharm": {
     "name": "#%%\n"
    }
   }
  },
  {
   "cell_type": "code",
   "execution_count": 61,
   "outputs": [
    {
     "data": {
      "text/plain": "        bin_0  bin_1  bin_2 bin_3 bin_4  nom_0      nom_1    nom_2  \\\nid                                                                   \n0           0      0      0     T     Y  Green   Triangle    Snake   \n1           0      1      0     T     Y  Green  Trapezoid  Hamster   \n2           0      0      0     F     Y   Blue  Trapezoid     Lion   \n3           0      1      0     F     Y    Red  Trapezoid    Snake   \n4           0      0      0     F     N    Red  Trapezoid     Lion   \n...       ...    ...    ...   ...   ...    ...        ...      ...   \n299995      0      0      0     T     N    Red  Trapezoid    Snake   \n299996      0      0      0     F     Y  Green  Trapezoid     Lion   \n299997      0      0      0     F     Y   Blue       Star  Axolotl   \n299998      0      1      0     F     Y  Green     Square  Axolotl   \n299999      0      0      0     F     Y   Blue  Trapezoid      Dog   \n\n             nom_3     nom_4  ...      nom_9 ord_0        ord_1        ord_2  \\\nid                            ...                                              \n0          Finland   Bassoon  ...  2f4cb3d51     2  Grandmaster         Cold   \n1           Russia     Piano  ...  f83c56c21     1  Grandmaster          Hot   \n2           Russia  Theremin  ...  ae6800dd0     1       Expert     Lava Hot   \n3           Canada      Oboe  ...  8270f0d71     1  Grandmaster  Boiling Hot   \n4           Canada      Oboe  ...  b164b72a7     1  Grandmaster     Freezing   \n...            ...       ...  ...        ...   ...          ...          ...   \n299995       India      Oboe  ...  e027decef     1  Contributor     Freezing   \n299996      Russia     Piano  ...  80f1411c8     2       Novice     Freezing   \n299997      Russia      Oboe  ...  314dcc15b     3       Novice  Boiling Hot   \n299998  Costa Rica     Piano  ...  ab0ce192b     1       Master  Boiling Hot   \n299999      Russia   Bassoon  ...  ad1af2b45     3  Contributor     Freezing   \n\n       ord_3  ord_4 ord_5 day month target  \nid                                          \n0          h      D    kr   2     2      0  \n1          a      A    bF   7     8      0  \n2          h      R    Jc   7     2      0  \n3          i      D    kW   2     1      1  \n4          a      R    qP   7     8      0  \n...      ...    ...   ...  ..   ...    ...  \n299995     k      K    dh   3     8      0  \n299996     h      W    MO   3     2      0  \n299997     o      A    Bn   7     9      1  \n299998     h      W    uJ   3     8      1  \n299999     i      R    tP   1     3      0  \n\n[300000 rows x 24 columns]",
      "text/html": "<div>\n<style scoped>\n    .dataframe tbody tr th:only-of-type {\n        vertical-align: middle;\n    }\n\n    .dataframe tbody tr th {\n        vertical-align: top;\n    }\n\n    .dataframe thead th {\n        text-align: right;\n    }\n</style>\n<table border=\"1\" class=\"dataframe\">\n  <thead>\n    <tr style=\"text-align: right;\">\n      <th></th>\n      <th>bin_0</th>\n      <th>bin_1</th>\n      <th>bin_2</th>\n      <th>bin_3</th>\n      <th>bin_4</th>\n      <th>nom_0</th>\n      <th>nom_1</th>\n      <th>nom_2</th>\n      <th>nom_3</th>\n      <th>nom_4</th>\n      <th>...</th>\n      <th>nom_9</th>\n      <th>ord_0</th>\n      <th>ord_1</th>\n      <th>ord_2</th>\n      <th>ord_3</th>\n      <th>ord_4</th>\n      <th>ord_5</th>\n      <th>day</th>\n      <th>month</th>\n      <th>target</th>\n    </tr>\n    <tr>\n      <th>id</th>\n      <th></th>\n      <th></th>\n      <th></th>\n      <th></th>\n      <th></th>\n      <th></th>\n      <th></th>\n      <th></th>\n      <th></th>\n      <th></th>\n      <th></th>\n      <th></th>\n      <th></th>\n      <th></th>\n      <th></th>\n      <th></th>\n      <th></th>\n      <th></th>\n      <th></th>\n      <th></th>\n      <th></th>\n    </tr>\n  </thead>\n  <tbody>\n    <tr>\n      <th>0</th>\n      <td>0</td>\n      <td>0</td>\n      <td>0</td>\n      <td>T</td>\n      <td>Y</td>\n      <td>Green</td>\n      <td>Triangle</td>\n      <td>Snake</td>\n      <td>Finland</td>\n      <td>Bassoon</td>\n      <td>...</td>\n      <td>2f4cb3d51</td>\n      <td>2</td>\n      <td>Grandmaster</td>\n      <td>Cold</td>\n      <td>h</td>\n      <td>D</td>\n      <td>kr</td>\n      <td>2</td>\n      <td>2</td>\n      <td>0</td>\n    </tr>\n    <tr>\n      <th>1</th>\n      <td>0</td>\n      <td>1</td>\n      <td>0</td>\n      <td>T</td>\n      <td>Y</td>\n      <td>Green</td>\n      <td>Trapezoid</td>\n      <td>Hamster</td>\n      <td>Russia</td>\n      <td>Piano</td>\n      <td>...</td>\n      <td>f83c56c21</td>\n      <td>1</td>\n      <td>Grandmaster</td>\n      <td>Hot</td>\n      <td>a</td>\n      <td>A</td>\n      <td>bF</td>\n      <td>7</td>\n      <td>8</td>\n      <td>0</td>\n    </tr>\n    <tr>\n      <th>2</th>\n      <td>0</td>\n      <td>0</td>\n      <td>0</td>\n      <td>F</td>\n      <td>Y</td>\n      <td>Blue</td>\n      <td>Trapezoid</td>\n      <td>Lion</td>\n      <td>Russia</td>\n      <td>Theremin</td>\n      <td>...</td>\n      <td>ae6800dd0</td>\n      <td>1</td>\n      <td>Expert</td>\n      <td>Lava Hot</td>\n      <td>h</td>\n      <td>R</td>\n      <td>Jc</td>\n      <td>7</td>\n      <td>2</td>\n      <td>0</td>\n    </tr>\n    <tr>\n      <th>3</th>\n      <td>0</td>\n      <td>1</td>\n      <td>0</td>\n      <td>F</td>\n      <td>Y</td>\n      <td>Red</td>\n      <td>Trapezoid</td>\n      <td>Snake</td>\n      <td>Canada</td>\n      <td>Oboe</td>\n      <td>...</td>\n      <td>8270f0d71</td>\n      <td>1</td>\n      <td>Grandmaster</td>\n      <td>Boiling Hot</td>\n      <td>i</td>\n      <td>D</td>\n      <td>kW</td>\n      <td>2</td>\n      <td>1</td>\n      <td>1</td>\n    </tr>\n    <tr>\n      <th>4</th>\n      <td>0</td>\n      <td>0</td>\n      <td>0</td>\n      <td>F</td>\n      <td>N</td>\n      <td>Red</td>\n      <td>Trapezoid</td>\n      <td>Lion</td>\n      <td>Canada</td>\n      <td>Oboe</td>\n      <td>...</td>\n      <td>b164b72a7</td>\n      <td>1</td>\n      <td>Grandmaster</td>\n      <td>Freezing</td>\n      <td>a</td>\n      <td>R</td>\n      <td>qP</td>\n      <td>7</td>\n      <td>8</td>\n      <td>0</td>\n    </tr>\n    <tr>\n      <th>...</th>\n      <td>...</td>\n      <td>...</td>\n      <td>...</td>\n      <td>...</td>\n      <td>...</td>\n      <td>...</td>\n      <td>...</td>\n      <td>...</td>\n      <td>...</td>\n      <td>...</td>\n      <td>...</td>\n      <td>...</td>\n      <td>...</td>\n      <td>...</td>\n      <td>...</td>\n      <td>...</td>\n      <td>...</td>\n      <td>...</td>\n      <td>...</td>\n      <td>...</td>\n      <td>...</td>\n    </tr>\n    <tr>\n      <th>299995</th>\n      <td>0</td>\n      <td>0</td>\n      <td>0</td>\n      <td>T</td>\n      <td>N</td>\n      <td>Red</td>\n      <td>Trapezoid</td>\n      <td>Snake</td>\n      <td>India</td>\n      <td>Oboe</td>\n      <td>...</td>\n      <td>e027decef</td>\n      <td>1</td>\n      <td>Contributor</td>\n      <td>Freezing</td>\n      <td>k</td>\n      <td>K</td>\n      <td>dh</td>\n      <td>3</td>\n      <td>8</td>\n      <td>0</td>\n    </tr>\n    <tr>\n      <th>299996</th>\n      <td>0</td>\n      <td>0</td>\n      <td>0</td>\n      <td>F</td>\n      <td>Y</td>\n      <td>Green</td>\n      <td>Trapezoid</td>\n      <td>Lion</td>\n      <td>Russia</td>\n      <td>Piano</td>\n      <td>...</td>\n      <td>80f1411c8</td>\n      <td>2</td>\n      <td>Novice</td>\n      <td>Freezing</td>\n      <td>h</td>\n      <td>W</td>\n      <td>MO</td>\n      <td>3</td>\n      <td>2</td>\n      <td>0</td>\n    </tr>\n    <tr>\n      <th>299997</th>\n      <td>0</td>\n      <td>0</td>\n      <td>0</td>\n      <td>F</td>\n      <td>Y</td>\n      <td>Blue</td>\n      <td>Star</td>\n      <td>Axolotl</td>\n      <td>Russia</td>\n      <td>Oboe</td>\n      <td>...</td>\n      <td>314dcc15b</td>\n      <td>3</td>\n      <td>Novice</td>\n      <td>Boiling Hot</td>\n      <td>o</td>\n      <td>A</td>\n      <td>Bn</td>\n      <td>7</td>\n      <td>9</td>\n      <td>1</td>\n    </tr>\n    <tr>\n      <th>299998</th>\n      <td>0</td>\n      <td>1</td>\n      <td>0</td>\n      <td>F</td>\n      <td>Y</td>\n      <td>Green</td>\n      <td>Square</td>\n      <td>Axolotl</td>\n      <td>Costa Rica</td>\n      <td>Piano</td>\n      <td>...</td>\n      <td>ab0ce192b</td>\n      <td>1</td>\n      <td>Master</td>\n      <td>Boiling Hot</td>\n      <td>h</td>\n      <td>W</td>\n      <td>uJ</td>\n      <td>3</td>\n      <td>8</td>\n      <td>1</td>\n    </tr>\n    <tr>\n      <th>299999</th>\n      <td>0</td>\n      <td>0</td>\n      <td>0</td>\n      <td>F</td>\n      <td>Y</td>\n      <td>Blue</td>\n      <td>Trapezoid</td>\n      <td>Dog</td>\n      <td>Russia</td>\n      <td>Bassoon</td>\n      <td>...</td>\n      <td>ad1af2b45</td>\n      <td>3</td>\n      <td>Contributor</td>\n      <td>Freezing</td>\n      <td>i</td>\n      <td>R</td>\n      <td>tP</td>\n      <td>1</td>\n      <td>3</td>\n      <td>0</td>\n    </tr>\n  </tbody>\n</table>\n<p>300000 rows × 24 columns</p>\n</div>"
     },
     "execution_count": 61,
     "metadata": {},
     "output_type": "execute_result"
    }
   ],
   "source": [
    "import pandas as pd\n",
    "\n",
    "# 데이터 경로\n",
    "\n",
    "data_path = './cat-in-the-dat/'\n",
    "\n",
    "train = pd.read_csv(data_path + 'train.csv' , index_col = 'id')\n",
    "test = pd.read_csv(data_path + 'test.csv' , index_col = 'id')\n",
    "submission = pd.read_csv(data_path + 'sample_submission.csv' , index_col = 'id')\n",
    "\n",
    "train"
   ],
   "metadata": {
    "collapsed": false,
    "pycharm": {
     "name": "#%%\n"
    }
   }
  },
  {
   "cell_type": "code",
   "execution_count": 62,
   "outputs": [
    {
     "data": {
      "text/plain": "        bin_0  bin_1  bin_2 bin_3 bin_4  nom_0      nom_1    nom_2  \\\nid                                                                   \n0           0      0      0     T     Y  Green   Triangle    Snake   \n1           0      1      0     T     Y  Green  Trapezoid  Hamster   \n2           0      0      0     F     Y   Blue  Trapezoid     Lion   \n3           0      1      0     F     Y    Red  Trapezoid    Snake   \n4           0      0      0     F     N    Red  Trapezoid     Lion   \n...       ...    ...    ...   ...   ...    ...        ...      ...   \n499995      0      0      0     F     N  Green     Square     Lion   \n499996      1      0      0     F     Y  Green  Trapezoid     Lion   \n499997      0      1      1     T     Y  Green  Trapezoid     Lion   \n499998      1      0      0     T     Y   Blue       Star  Hamster   \n499999      0      0      0     T     Y  Green       Star     Lion   \n\n             nom_3     nom_4  ...      nom_8      nom_9 ord_0        ord_1  \\\nid                            ...                                            \n0          Finland   Bassoon  ...  c389000ab  2f4cb3d51     2  Grandmaster   \n1           Russia     Piano  ...  4cd920251  f83c56c21     1  Grandmaster   \n2           Russia  Theremin  ...  de9c9f684  ae6800dd0     1       Expert   \n3           Canada      Oboe  ...  4ade6ab69  8270f0d71     1  Grandmaster   \n4           Canada      Oboe  ...  cb43ab175  b164b72a7     1  Grandmaster   \n...            ...       ...  ...        ...        ...   ...          ...   \n499995      Canada  Theremin  ...  9e4b23160  acc31291f     1       Novice   \n499996       China     Piano  ...  cfbd87ed0  eae3446d0     1  Contributor   \n499997      Canada      Oboe  ...  1108bcd6c  33dd3cf4b     1       Novice   \n499998  Costa Rica   Bassoon  ...  606ac930b  d4cf587dd     2  Grandmaster   \n499999       India     Piano  ...  4ea576eb6  2d610f52c     2       Novice   \n\n              ord_2  ord_3 ord_4 ord_5 day month  \nid                                                \n0              Cold      h     D    kr   2     2  \n1               Hot      a     A    bF   7     8  \n2          Lava Hot      h     R    Jc   7     2  \n3       Boiling Hot      i     D    kW   2     1  \n4          Freezing      a     R    qP   7     8  \n...             ...    ...   ...   ...  ..   ...  \n499995     Lava Hot      j     A    Gb   1     3  \n499996     Lava Hot      f     S    Ed   2     2  \n499997  Boiling Hot      g     V    TR   3     1  \n499998  Boiling Hot      g     X    Ye   2     1  \n499999     Freezing      l     J    ex   2     2  \n\n[500000 rows x 23 columns]",
      "text/html": "<div>\n<style scoped>\n    .dataframe tbody tr th:only-of-type {\n        vertical-align: middle;\n    }\n\n    .dataframe tbody tr th {\n        vertical-align: top;\n    }\n\n    .dataframe thead th {\n        text-align: right;\n    }\n</style>\n<table border=\"1\" class=\"dataframe\">\n  <thead>\n    <tr style=\"text-align: right;\">\n      <th></th>\n      <th>bin_0</th>\n      <th>bin_1</th>\n      <th>bin_2</th>\n      <th>bin_3</th>\n      <th>bin_4</th>\n      <th>nom_0</th>\n      <th>nom_1</th>\n      <th>nom_2</th>\n      <th>nom_3</th>\n      <th>nom_4</th>\n      <th>...</th>\n      <th>nom_8</th>\n      <th>nom_9</th>\n      <th>ord_0</th>\n      <th>ord_1</th>\n      <th>ord_2</th>\n      <th>ord_3</th>\n      <th>ord_4</th>\n      <th>ord_5</th>\n      <th>day</th>\n      <th>month</th>\n    </tr>\n    <tr>\n      <th>id</th>\n      <th></th>\n      <th></th>\n      <th></th>\n      <th></th>\n      <th></th>\n      <th></th>\n      <th></th>\n      <th></th>\n      <th></th>\n      <th></th>\n      <th></th>\n      <th></th>\n      <th></th>\n      <th></th>\n      <th></th>\n      <th></th>\n      <th></th>\n      <th></th>\n      <th></th>\n      <th></th>\n      <th></th>\n    </tr>\n  </thead>\n  <tbody>\n    <tr>\n      <th>0</th>\n      <td>0</td>\n      <td>0</td>\n      <td>0</td>\n      <td>T</td>\n      <td>Y</td>\n      <td>Green</td>\n      <td>Triangle</td>\n      <td>Snake</td>\n      <td>Finland</td>\n      <td>Bassoon</td>\n      <td>...</td>\n      <td>c389000ab</td>\n      <td>2f4cb3d51</td>\n      <td>2</td>\n      <td>Grandmaster</td>\n      <td>Cold</td>\n      <td>h</td>\n      <td>D</td>\n      <td>kr</td>\n      <td>2</td>\n      <td>2</td>\n    </tr>\n    <tr>\n      <th>1</th>\n      <td>0</td>\n      <td>1</td>\n      <td>0</td>\n      <td>T</td>\n      <td>Y</td>\n      <td>Green</td>\n      <td>Trapezoid</td>\n      <td>Hamster</td>\n      <td>Russia</td>\n      <td>Piano</td>\n      <td>...</td>\n      <td>4cd920251</td>\n      <td>f83c56c21</td>\n      <td>1</td>\n      <td>Grandmaster</td>\n      <td>Hot</td>\n      <td>a</td>\n      <td>A</td>\n      <td>bF</td>\n      <td>7</td>\n      <td>8</td>\n    </tr>\n    <tr>\n      <th>2</th>\n      <td>0</td>\n      <td>0</td>\n      <td>0</td>\n      <td>F</td>\n      <td>Y</td>\n      <td>Blue</td>\n      <td>Trapezoid</td>\n      <td>Lion</td>\n      <td>Russia</td>\n      <td>Theremin</td>\n      <td>...</td>\n      <td>de9c9f684</td>\n      <td>ae6800dd0</td>\n      <td>1</td>\n      <td>Expert</td>\n      <td>Lava Hot</td>\n      <td>h</td>\n      <td>R</td>\n      <td>Jc</td>\n      <td>7</td>\n      <td>2</td>\n    </tr>\n    <tr>\n      <th>3</th>\n      <td>0</td>\n      <td>1</td>\n      <td>0</td>\n      <td>F</td>\n      <td>Y</td>\n      <td>Red</td>\n      <td>Trapezoid</td>\n      <td>Snake</td>\n      <td>Canada</td>\n      <td>Oboe</td>\n      <td>...</td>\n      <td>4ade6ab69</td>\n      <td>8270f0d71</td>\n      <td>1</td>\n      <td>Grandmaster</td>\n      <td>Boiling Hot</td>\n      <td>i</td>\n      <td>D</td>\n      <td>kW</td>\n      <td>2</td>\n      <td>1</td>\n    </tr>\n    <tr>\n      <th>4</th>\n      <td>0</td>\n      <td>0</td>\n      <td>0</td>\n      <td>F</td>\n      <td>N</td>\n      <td>Red</td>\n      <td>Trapezoid</td>\n      <td>Lion</td>\n      <td>Canada</td>\n      <td>Oboe</td>\n      <td>...</td>\n      <td>cb43ab175</td>\n      <td>b164b72a7</td>\n      <td>1</td>\n      <td>Grandmaster</td>\n      <td>Freezing</td>\n      <td>a</td>\n      <td>R</td>\n      <td>qP</td>\n      <td>7</td>\n      <td>8</td>\n    </tr>\n    <tr>\n      <th>...</th>\n      <td>...</td>\n      <td>...</td>\n      <td>...</td>\n      <td>...</td>\n      <td>...</td>\n      <td>...</td>\n      <td>...</td>\n      <td>...</td>\n      <td>...</td>\n      <td>...</td>\n      <td>...</td>\n      <td>...</td>\n      <td>...</td>\n      <td>...</td>\n      <td>...</td>\n      <td>...</td>\n      <td>...</td>\n      <td>...</td>\n      <td>...</td>\n      <td>...</td>\n      <td>...</td>\n    </tr>\n    <tr>\n      <th>499995</th>\n      <td>0</td>\n      <td>0</td>\n      <td>0</td>\n      <td>F</td>\n      <td>N</td>\n      <td>Green</td>\n      <td>Square</td>\n      <td>Lion</td>\n      <td>Canada</td>\n      <td>Theremin</td>\n      <td>...</td>\n      <td>9e4b23160</td>\n      <td>acc31291f</td>\n      <td>1</td>\n      <td>Novice</td>\n      <td>Lava Hot</td>\n      <td>j</td>\n      <td>A</td>\n      <td>Gb</td>\n      <td>1</td>\n      <td>3</td>\n    </tr>\n    <tr>\n      <th>499996</th>\n      <td>1</td>\n      <td>0</td>\n      <td>0</td>\n      <td>F</td>\n      <td>Y</td>\n      <td>Green</td>\n      <td>Trapezoid</td>\n      <td>Lion</td>\n      <td>China</td>\n      <td>Piano</td>\n      <td>...</td>\n      <td>cfbd87ed0</td>\n      <td>eae3446d0</td>\n      <td>1</td>\n      <td>Contributor</td>\n      <td>Lava Hot</td>\n      <td>f</td>\n      <td>S</td>\n      <td>Ed</td>\n      <td>2</td>\n      <td>2</td>\n    </tr>\n    <tr>\n      <th>499997</th>\n      <td>0</td>\n      <td>1</td>\n      <td>1</td>\n      <td>T</td>\n      <td>Y</td>\n      <td>Green</td>\n      <td>Trapezoid</td>\n      <td>Lion</td>\n      <td>Canada</td>\n      <td>Oboe</td>\n      <td>...</td>\n      <td>1108bcd6c</td>\n      <td>33dd3cf4b</td>\n      <td>1</td>\n      <td>Novice</td>\n      <td>Boiling Hot</td>\n      <td>g</td>\n      <td>V</td>\n      <td>TR</td>\n      <td>3</td>\n      <td>1</td>\n    </tr>\n    <tr>\n      <th>499998</th>\n      <td>1</td>\n      <td>0</td>\n      <td>0</td>\n      <td>T</td>\n      <td>Y</td>\n      <td>Blue</td>\n      <td>Star</td>\n      <td>Hamster</td>\n      <td>Costa Rica</td>\n      <td>Bassoon</td>\n      <td>...</td>\n      <td>606ac930b</td>\n      <td>d4cf587dd</td>\n      <td>2</td>\n      <td>Grandmaster</td>\n      <td>Boiling Hot</td>\n      <td>g</td>\n      <td>X</td>\n      <td>Ye</td>\n      <td>2</td>\n      <td>1</td>\n    </tr>\n    <tr>\n      <th>499999</th>\n      <td>0</td>\n      <td>0</td>\n      <td>0</td>\n      <td>T</td>\n      <td>Y</td>\n      <td>Green</td>\n      <td>Star</td>\n      <td>Lion</td>\n      <td>India</td>\n      <td>Piano</td>\n      <td>...</td>\n      <td>4ea576eb6</td>\n      <td>2d610f52c</td>\n      <td>2</td>\n      <td>Novice</td>\n      <td>Freezing</td>\n      <td>l</td>\n      <td>J</td>\n      <td>ex</td>\n      <td>2</td>\n      <td>2</td>\n    </tr>\n  </tbody>\n</table>\n<p>500000 rows × 23 columns</p>\n</div>"
     },
     "execution_count": 62,
     "metadata": {},
     "output_type": "execute_result"
    }
   ],
   "source": [
    "all_data = pd.concat([train , test])\n",
    "all_data = all_data.drop('target' , axis = 1) # 타깃값 제거\n",
    "\n",
    "all_data"
   ],
   "metadata": {
    "collapsed": false,
    "pycharm": {
     "name": "#%%\n"
    }
   }
  },
  {
   "cell_type": "markdown",
   "source": [
    "## 이진 피처 인코딩"
   ],
   "metadata": {
    "collapsed": false,
    "pycharm": {
     "name": "#%% md\n"
    }
   }
  },
  {
   "cell_type": "code",
   "execution_count": 63,
   "outputs": [
    {
     "data": {
      "text/plain": "        bin_0  bin_1  bin_2  bin_3  bin_4  nom_0      nom_1    nom_2  \\\nid                                                                     \n0           0      0      0      1      1  Green   Triangle    Snake   \n1           0      1      0      1      1  Green  Trapezoid  Hamster   \n2           0      0      0      0      1   Blue  Trapezoid     Lion   \n3           0      1      0      0      1    Red  Trapezoid    Snake   \n4           0      0      0      0      0    Red  Trapezoid     Lion   \n...       ...    ...    ...    ...    ...    ...        ...      ...   \n499995      0      0      0      0      0  Green     Square     Lion   \n499996      1      0      0      0      1  Green  Trapezoid     Lion   \n499997      0      1      1      1      1  Green  Trapezoid     Lion   \n499998      1      0      0      1      1   Blue       Star  Hamster   \n499999      0      0      0      1      1  Green       Star     Lion   \n\n             nom_3     nom_4  ...      nom_8      nom_9 ord_0        ord_1  \\\nid                            ...                                            \n0          Finland   Bassoon  ...  c389000ab  2f4cb3d51     2  Grandmaster   \n1           Russia     Piano  ...  4cd920251  f83c56c21     1  Grandmaster   \n2           Russia  Theremin  ...  de9c9f684  ae6800dd0     1       Expert   \n3           Canada      Oboe  ...  4ade6ab69  8270f0d71     1  Grandmaster   \n4           Canada      Oboe  ...  cb43ab175  b164b72a7     1  Grandmaster   \n...            ...       ...  ...        ...        ...   ...          ...   \n499995      Canada  Theremin  ...  9e4b23160  acc31291f     1       Novice   \n499996       China     Piano  ...  cfbd87ed0  eae3446d0     1  Contributor   \n499997      Canada      Oboe  ...  1108bcd6c  33dd3cf4b     1       Novice   \n499998  Costa Rica   Bassoon  ...  606ac930b  d4cf587dd     2  Grandmaster   \n499999       India     Piano  ...  4ea576eb6  2d610f52c     2       Novice   \n\n              ord_2  ord_3 ord_4 ord_5 day month  \nid                                                \n0              Cold      h     D    kr   2     2  \n1               Hot      a     A    bF   7     8  \n2          Lava Hot      h     R    Jc   7     2  \n3       Boiling Hot      i     D    kW   2     1  \n4          Freezing      a     R    qP   7     8  \n...             ...    ...   ...   ...  ..   ...  \n499995     Lava Hot      j     A    Gb   1     3  \n499996     Lava Hot      f     S    Ed   2     2  \n499997  Boiling Hot      g     V    TR   3     1  \n499998  Boiling Hot      g     X    Ye   2     1  \n499999     Freezing      l     J    ex   2     2  \n\n[500000 rows x 23 columns]",
      "text/html": "<div>\n<style scoped>\n    .dataframe tbody tr th:only-of-type {\n        vertical-align: middle;\n    }\n\n    .dataframe tbody tr th {\n        vertical-align: top;\n    }\n\n    .dataframe thead th {\n        text-align: right;\n    }\n</style>\n<table border=\"1\" class=\"dataframe\">\n  <thead>\n    <tr style=\"text-align: right;\">\n      <th></th>\n      <th>bin_0</th>\n      <th>bin_1</th>\n      <th>bin_2</th>\n      <th>bin_3</th>\n      <th>bin_4</th>\n      <th>nom_0</th>\n      <th>nom_1</th>\n      <th>nom_2</th>\n      <th>nom_3</th>\n      <th>nom_4</th>\n      <th>...</th>\n      <th>nom_8</th>\n      <th>nom_9</th>\n      <th>ord_0</th>\n      <th>ord_1</th>\n      <th>ord_2</th>\n      <th>ord_3</th>\n      <th>ord_4</th>\n      <th>ord_5</th>\n      <th>day</th>\n      <th>month</th>\n    </tr>\n    <tr>\n      <th>id</th>\n      <th></th>\n      <th></th>\n      <th></th>\n      <th></th>\n      <th></th>\n      <th></th>\n      <th></th>\n      <th></th>\n      <th></th>\n      <th></th>\n      <th></th>\n      <th></th>\n      <th></th>\n      <th></th>\n      <th></th>\n      <th></th>\n      <th></th>\n      <th></th>\n      <th></th>\n      <th></th>\n      <th></th>\n    </tr>\n  </thead>\n  <tbody>\n    <tr>\n      <th>0</th>\n      <td>0</td>\n      <td>0</td>\n      <td>0</td>\n      <td>1</td>\n      <td>1</td>\n      <td>Green</td>\n      <td>Triangle</td>\n      <td>Snake</td>\n      <td>Finland</td>\n      <td>Bassoon</td>\n      <td>...</td>\n      <td>c389000ab</td>\n      <td>2f4cb3d51</td>\n      <td>2</td>\n      <td>Grandmaster</td>\n      <td>Cold</td>\n      <td>h</td>\n      <td>D</td>\n      <td>kr</td>\n      <td>2</td>\n      <td>2</td>\n    </tr>\n    <tr>\n      <th>1</th>\n      <td>0</td>\n      <td>1</td>\n      <td>0</td>\n      <td>1</td>\n      <td>1</td>\n      <td>Green</td>\n      <td>Trapezoid</td>\n      <td>Hamster</td>\n      <td>Russia</td>\n      <td>Piano</td>\n      <td>...</td>\n      <td>4cd920251</td>\n      <td>f83c56c21</td>\n      <td>1</td>\n      <td>Grandmaster</td>\n      <td>Hot</td>\n      <td>a</td>\n      <td>A</td>\n      <td>bF</td>\n      <td>7</td>\n      <td>8</td>\n    </tr>\n    <tr>\n      <th>2</th>\n      <td>0</td>\n      <td>0</td>\n      <td>0</td>\n      <td>0</td>\n      <td>1</td>\n      <td>Blue</td>\n      <td>Trapezoid</td>\n      <td>Lion</td>\n      <td>Russia</td>\n      <td>Theremin</td>\n      <td>...</td>\n      <td>de9c9f684</td>\n      <td>ae6800dd0</td>\n      <td>1</td>\n      <td>Expert</td>\n      <td>Lava Hot</td>\n      <td>h</td>\n      <td>R</td>\n      <td>Jc</td>\n      <td>7</td>\n      <td>2</td>\n    </tr>\n    <tr>\n      <th>3</th>\n      <td>0</td>\n      <td>1</td>\n      <td>0</td>\n      <td>0</td>\n      <td>1</td>\n      <td>Red</td>\n      <td>Trapezoid</td>\n      <td>Snake</td>\n      <td>Canada</td>\n      <td>Oboe</td>\n      <td>...</td>\n      <td>4ade6ab69</td>\n      <td>8270f0d71</td>\n      <td>1</td>\n      <td>Grandmaster</td>\n      <td>Boiling Hot</td>\n      <td>i</td>\n      <td>D</td>\n      <td>kW</td>\n      <td>2</td>\n      <td>1</td>\n    </tr>\n    <tr>\n      <th>4</th>\n      <td>0</td>\n      <td>0</td>\n      <td>0</td>\n      <td>0</td>\n      <td>0</td>\n      <td>Red</td>\n      <td>Trapezoid</td>\n      <td>Lion</td>\n      <td>Canada</td>\n      <td>Oboe</td>\n      <td>...</td>\n      <td>cb43ab175</td>\n      <td>b164b72a7</td>\n      <td>1</td>\n      <td>Grandmaster</td>\n      <td>Freezing</td>\n      <td>a</td>\n      <td>R</td>\n      <td>qP</td>\n      <td>7</td>\n      <td>8</td>\n    </tr>\n    <tr>\n      <th>...</th>\n      <td>...</td>\n      <td>...</td>\n      <td>...</td>\n      <td>...</td>\n      <td>...</td>\n      <td>...</td>\n      <td>...</td>\n      <td>...</td>\n      <td>...</td>\n      <td>...</td>\n      <td>...</td>\n      <td>...</td>\n      <td>...</td>\n      <td>...</td>\n      <td>...</td>\n      <td>...</td>\n      <td>...</td>\n      <td>...</td>\n      <td>...</td>\n      <td>...</td>\n      <td>...</td>\n    </tr>\n    <tr>\n      <th>499995</th>\n      <td>0</td>\n      <td>0</td>\n      <td>0</td>\n      <td>0</td>\n      <td>0</td>\n      <td>Green</td>\n      <td>Square</td>\n      <td>Lion</td>\n      <td>Canada</td>\n      <td>Theremin</td>\n      <td>...</td>\n      <td>9e4b23160</td>\n      <td>acc31291f</td>\n      <td>1</td>\n      <td>Novice</td>\n      <td>Lava Hot</td>\n      <td>j</td>\n      <td>A</td>\n      <td>Gb</td>\n      <td>1</td>\n      <td>3</td>\n    </tr>\n    <tr>\n      <th>499996</th>\n      <td>1</td>\n      <td>0</td>\n      <td>0</td>\n      <td>0</td>\n      <td>1</td>\n      <td>Green</td>\n      <td>Trapezoid</td>\n      <td>Lion</td>\n      <td>China</td>\n      <td>Piano</td>\n      <td>...</td>\n      <td>cfbd87ed0</td>\n      <td>eae3446d0</td>\n      <td>1</td>\n      <td>Contributor</td>\n      <td>Lava Hot</td>\n      <td>f</td>\n      <td>S</td>\n      <td>Ed</td>\n      <td>2</td>\n      <td>2</td>\n    </tr>\n    <tr>\n      <th>499997</th>\n      <td>0</td>\n      <td>1</td>\n      <td>1</td>\n      <td>1</td>\n      <td>1</td>\n      <td>Green</td>\n      <td>Trapezoid</td>\n      <td>Lion</td>\n      <td>Canada</td>\n      <td>Oboe</td>\n      <td>...</td>\n      <td>1108bcd6c</td>\n      <td>33dd3cf4b</td>\n      <td>1</td>\n      <td>Novice</td>\n      <td>Boiling Hot</td>\n      <td>g</td>\n      <td>V</td>\n      <td>TR</td>\n      <td>3</td>\n      <td>1</td>\n    </tr>\n    <tr>\n      <th>499998</th>\n      <td>1</td>\n      <td>0</td>\n      <td>0</td>\n      <td>1</td>\n      <td>1</td>\n      <td>Blue</td>\n      <td>Star</td>\n      <td>Hamster</td>\n      <td>Costa Rica</td>\n      <td>Bassoon</td>\n      <td>...</td>\n      <td>606ac930b</td>\n      <td>d4cf587dd</td>\n      <td>2</td>\n      <td>Grandmaster</td>\n      <td>Boiling Hot</td>\n      <td>g</td>\n      <td>X</td>\n      <td>Ye</td>\n      <td>2</td>\n      <td>1</td>\n    </tr>\n    <tr>\n      <th>499999</th>\n      <td>0</td>\n      <td>0</td>\n      <td>0</td>\n      <td>1</td>\n      <td>1</td>\n      <td>Green</td>\n      <td>Star</td>\n      <td>Lion</td>\n      <td>India</td>\n      <td>Piano</td>\n      <td>...</td>\n      <td>4ea576eb6</td>\n      <td>2d610f52c</td>\n      <td>2</td>\n      <td>Novice</td>\n      <td>Freezing</td>\n      <td>l</td>\n      <td>J</td>\n      <td>ex</td>\n      <td>2</td>\n      <td>2</td>\n    </tr>\n  </tbody>\n</table>\n<p>500000 rows × 23 columns</p>\n</div>"
     },
     "execution_count": 63,
     "metadata": {},
     "output_type": "execute_result"
    }
   ],
   "source": [
    "# bin_3 , bin_4 피처에는 각각 T와 F , Y와 N이라는 문자로 구성되어 있다. 각각 1과 0으로 바꾼다.\n",
    "\n",
    "all_data['bin_3'] = all_data['bin_3'].map({'F' : 0 , 'T' : 1})\n",
    "all_data['bin_4'] = all_data['bin_4'].map({'N' : 0 , 'Y' : 1})\n",
    "\n",
    "all_data"
   ],
   "metadata": {
    "collapsed": false,
    "pycharm": {
     "name": "#%%\n"
    }
   }
  },
  {
   "cell_type": "markdown",
   "source": [
    "## 순서형 피처 인코딩"
   ],
   "metadata": {
    "collapsed": false,
    "pycharm": {
     "name": "#%% md\n"
    }
   }
  },
  {
   "cell_type": "code",
   "execution_count": 64,
   "outputs": [
    {
     "data": {
      "text/plain": "        bin_0  bin_1  bin_2  bin_3  bin_4  nom_0      nom_1    nom_2  \\\nid                                                                     \n0           0      0      0      1      1  Green   Triangle    Snake   \n1           0      1      0      1      1  Green  Trapezoid  Hamster   \n2           0      0      0      0      1   Blue  Trapezoid     Lion   \n3           0      1      0      0      1    Red  Trapezoid    Snake   \n4           0      0      0      0      0    Red  Trapezoid     Lion   \n...       ...    ...    ...    ...    ...    ...        ...      ...   \n499995      0      0      0      0      0  Green     Square     Lion   \n499996      1      0      0      0      1  Green  Trapezoid     Lion   \n499997      0      1      1      1      1  Green  Trapezoid     Lion   \n499998      1      0      0      1      1   Blue       Star  Hamster   \n499999      0      0      0      1      1  Green       Star     Lion   \n\n             nom_3     nom_4  ...      nom_8      nom_9 ord_0 ord_1 ord_2  \\\nid                            ...                                           \n0          Finland   Bassoon  ...  c389000ab  2f4cb3d51     2     4     1   \n1           Russia     Piano  ...  4cd920251  f83c56c21     1     4     3   \n2           Russia  Theremin  ...  de9c9f684  ae6800dd0     1     2     5   \n3           Canada      Oboe  ...  4ade6ab69  8270f0d71     1     4     4   \n4           Canada      Oboe  ...  cb43ab175  b164b72a7     1     4     0   \n...            ...       ...  ...        ...        ...   ...   ...   ...   \n499995      Canada  Theremin  ...  9e4b23160  acc31291f     1     0     5   \n499996       China     Piano  ...  cfbd87ed0  eae3446d0     1     1     5   \n499997      Canada      Oboe  ...  1108bcd6c  33dd3cf4b     1     0     4   \n499998  Costa Rica   Bassoon  ...  606ac930b  d4cf587dd     2     4     4   \n499999       India     Piano  ...  4ea576eb6  2d610f52c     2     0     0   \n\n        ord_3  ord_4  ord_5 day month  \nid                                     \n0           h      D     kr   2     2  \n1           a      A     bF   7     8  \n2           h      R     Jc   7     2  \n3           i      D     kW   2     1  \n4           a      R     qP   7     8  \n...       ...    ...    ...  ..   ...  \n499995      j      A     Gb   1     3  \n499996      f      S     Ed   2     2  \n499997      g      V     TR   3     1  \n499998      g      X     Ye   2     1  \n499999      l      J     ex   2     2  \n\n[500000 rows x 23 columns]",
      "text/html": "<div>\n<style scoped>\n    .dataframe tbody tr th:only-of-type {\n        vertical-align: middle;\n    }\n\n    .dataframe tbody tr th {\n        vertical-align: top;\n    }\n\n    .dataframe thead th {\n        text-align: right;\n    }\n</style>\n<table border=\"1\" class=\"dataframe\">\n  <thead>\n    <tr style=\"text-align: right;\">\n      <th></th>\n      <th>bin_0</th>\n      <th>bin_1</th>\n      <th>bin_2</th>\n      <th>bin_3</th>\n      <th>bin_4</th>\n      <th>nom_0</th>\n      <th>nom_1</th>\n      <th>nom_2</th>\n      <th>nom_3</th>\n      <th>nom_4</th>\n      <th>...</th>\n      <th>nom_8</th>\n      <th>nom_9</th>\n      <th>ord_0</th>\n      <th>ord_1</th>\n      <th>ord_2</th>\n      <th>ord_3</th>\n      <th>ord_4</th>\n      <th>ord_5</th>\n      <th>day</th>\n      <th>month</th>\n    </tr>\n    <tr>\n      <th>id</th>\n      <th></th>\n      <th></th>\n      <th></th>\n      <th></th>\n      <th></th>\n      <th></th>\n      <th></th>\n      <th></th>\n      <th></th>\n      <th></th>\n      <th></th>\n      <th></th>\n      <th></th>\n      <th></th>\n      <th></th>\n      <th></th>\n      <th></th>\n      <th></th>\n      <th></th>\n      <th></th>\n      <th></th>\n    </tr>\n  </thead>\n  <tbody>\n    <tr>\n      <th>0</th>\n      <td>0</td>\n      <td>0</td>\n      <td>0</td>\n      <td>1</td>\n      <td>1</td>\n      <td>Green</td>\n      <td>Triangle</td>\n      <td>Snake</td>\n      <td>Finland</td>\n      <td>Bassoon</td>\n      <td>...</td>\n      <td>c389000ab</td>\n      <td>2f4cb3d51</td>\n      <td>2</td>\n      <td>4</td>\n      <td>1</td>\n      <td>h</td>\n      <td>D</td>\n      <td>kr</td>\n      <td>2</td>\n      <td>2</td>\n    </tr>\n    <tr>\n      <th>1</th>\n      <td>0</td>\n      <td>1</td>\n      <td>0</td>\n      <td>1</td>\n      <td>1</td>\n      <td>Green</td>\n      <td>Trapezoid</td>\n      <td>Hamster</td>\n      <td>Russia</td>\n      <td>Piano</td>\n      <td>...</td>\n      <td>4cd920251</td>\n      <td>f83c56c21</td>\n      <td>1</td>\n      <td>4</td>\n      <td>3</td>\n      <td>a</td>\n      <td>A</td>\n      <td>bF</td>\n      <td>7</td>\n      <td>8</td>\n    </tr>\n    <tr>\n      <th>2</th>\n      <td>0</td>\n      <td>0</td>\n      <td>0</td>\n      <td>0</td>\n      <td>1</td>\n      <td>Blue</td>\n      <td>Trapezoid</td>\n      <td>Lion</td>\n      <td>Russia</td>\n      <td>Theremin</td>\n      <td>...</td>\n      <td>de9c9f684</td>\n      <td>ae6800dd0</td>\n      <td>1</td>\n      <td>2</td>\n      <td>5</td>\n      <td>h</td>\n      <td>R</td>\n      <td>Jc</td>\n      <td>7</td>\n      <td>2</td>\n    </tr>\n    <tr>\n      <th>3</th>\n      <td>0</td>\n      <td>1</td>\n      <td>0</td>\n      <td>0</td>\n      <td>1</td>\n      <td>Red</td>\n      <td>Trapezoid</td>\n      <td>Snake</td>\n      <td>Canada</td>\n      <td>Oboe</td>\n      <td>...</td>\n      <td>4ade6ab69</td>\n      <td>8270f0d71</td>\n      <td>1</td>\n      <td>4</td>\n      <td>4</td>\n      <td>i</td>\n      <td>D</td>\n      <td>kW</td>\n      <td>2</td>\n      <td>1</td>\n    </tr>\n    <tr>\n      <th>4</th>\n      <td>0</td>\n      <td>0</td>\n      <td>0</td>\n      <td>0</td>\n      <td>0</td>\n      <td>Red</td>\n      <td>Trapezoid</td>\n      <td>Lion</td>\n      <td>Canada</td>\n      <td>Oboe</td>\n      <td>...</td>\n      <td>cb43ab175</td>\n      <td>b164b72a7</td>\n      <td>1</td>\n      <td>4</td>\n      <td>0</td>\n      <td>a</td>\n      <td>R</td>\n      <td>qP</td>\n      <td>7</td>\n      <td>8</td>\n    </tr>\n    <tr>\n      <th>...</th>\n      <td>...</td>\n      <td>...</td>\n      <td>...</td>\n      <td>...</td>\n      <td>...</td>\n      <td>...</td>\n      <td>...</td>\n      <td>...</td>\n      <td>...</td>\n      <td>...</td>\n      <td>...</td>\n      <td>...</td>\n      <td>...</td>\n      <td>...</td>\n      <td>...</td>\n      <td>...</td>\n      <td>...</td>\n      <td>...</td>\n      <td>...</td>\n      <td>...</td>\n      <td>...</td>\n    </tr>\n    <tr>\n      <th>499995</th>\n      <td>0</td>\n      <td>0</td>\n      <td>0</td>\n      <td>0</td>\n      <td>0</td>\n      <td>Green</td>\n      <td>Square</td>\n      <td>Lion</td>\n      <td>Canada</td>\n      <td>Theremin</td>\n      <td>...</td>\n      <td>9e4b23160</td>\n      <td>acc31291f</td>\n      <td>1</td>\n      <td>0</td>\n      <td>5</td>\n      <td>j</td>\n      <td>A</td>\n      <td>Gb</td>\n      <td>1</td>\n      <td>3</td>\n    </tr>\n    <tr>\n      <th>499996</th>\n      <td>1</td>\n      <td>0</td>\n      <td>0</td>\n      <td>0</td>\n      <td>1</td>\n      <td>Green</td>\n      <td>Trapezoid</td>\n      <td>Lion</td>\n      <td>China</td>\n      <td>Piano</td>\n      <td>...</td>\n      <td>cfbd87ed0</td>\n      <td>eae3446d0</td>\n      <td>1</td>\n      <td>1</td>\n      <td>5</td>\n      <td>f</td>\n      <td>S</td>\n      <td>Ed</td>\n      <td>2</td>\n      <td>2</td>\n    </tr>\n    <tr>\n      <th>499997</th>\n      <td>0</td>\n      <td>1</td>\n      <td>1</td>\n      <td>1</td>\n      <td>1</td>\n      <td>Green</td>\n      <td>Trapezoid</td>\n      <td>Lion</td>\n      <td>Canada</td>\n      <td>Oboe</td>\n      <td>...</td>\n      <td>1108bcd6c</td>\n      <td>33dd3cf4b</td>\n      <td>1</td>\n      <td>0</td>\n      <td>4</td>\n      <td>g</td>\n      <td>V</td>\n      <td>TR</td>\n      <td>3</td>\n      <td>1</td>\n    </tr>\n    <tr>\n      <th>499998</th>\n      <td>1</td>\n      <td>0</td>\n      <td>0</td>\n      <td>1</td>\n      <td>1</td>\n      <td>Blue</td>\n      <td>Star</td>\n      <td>Hamster</td>\n      <td>Costa Rica</td>\n      <td>Bassoon</td>\n      <td>...</td>\n      <td>606ac930b</td>\n      <td>d4cf587dd</td>\n      <td>2</td>\n      <td>4</td>\n      <td>4</td>\n      <td>g</td>\n      <td>X</td>\n      <td>Ye</td>\n      <td>2</td>\n      <td>1</td>\n    </tr>\n    <tr>\n      <th>499999</th>\n      <td>0</td>\n      <td>0</td>\n      <td>0</td>\n      <td>1</td>\n      <td>1</td>\n      <td>Green</td>\n      <td>Star</td>\n      <td>Lion</td>\n      <td>India</td>\n      <td>Piano</td>\n      <td>...</td>\n      <td>4ea576eb6</td>\n      <td>2d610f52c</td>\n      <td>2</td>\n      <td>0</td>\n      <td>0</td>\n      <td>l</td>\n      <td>J</td>\n      <td>ex</td>\n      <td>2</td>\n      <td>2</td>\n    </tr>\n  </tbody>\n</table>\n<p>500000 rows × 23 columns</p>\n</div>"
     },
     "execution_count": 64,
     "metadata": {},
     "output_type": "execute_result"
    }
   ],
   "source": [
    "ord1dict = {'Novice' : 0 , 'Contributor' : 1 , 'Expert' : 2, 'Master' : 3 , 'Grandmaster' : 4}\n",
    "\n",
    "ord2dict = {'Freezing' : 0 , 'Cold' : 1 , 'Warm' :2 , 'Hot' : 3 , 'Boiling Hot' : 4 , 'Lava Hot' : 5}\n",
    "\n",
    "all_data['ord_1'] = all_data['ord_1'].map(ord1dict)\n",
    "all_data['ord_2']= all_data['ord_2'].map(ord2dict)\n",
    "\n",
    "all_data"
   ],
   "metadata": {
    "collapsed": false,
    "pycharm": {
     "name": "#%%\n"
    }
   }
  },
  {
   "cell_type": "code",
   "execution_count": 65,
   "outputs": [
    {
     "name": "stdout",
     "output_type": "stream",
     "text": [
      "ord_3\n",
      "['a' 'b' 'c' 'd' 'e' 'f' 'g' 'h' 'i' 'j' 'k' 'l' 'm' 'n' 'o']\n",
      "ord_4\n",
      "['A' 'B' 'C' 'D' 'E' 'F' 'G' 'H' 'I' 'J' 'K' 'L' 'M' 'N' 'O' 'P' 'Q' 'R'\n",
      " 'S' 'T' 'U' 'V' 'W' 'X' 'Y' 'Z']\n",
      "ord_5\n",
      "['AP' 'Ai' 'Aj' 'BA' 'BE' 'Bb' 'Bd' 'Bn' 'CL' 'CM' 'CU' 'CZ' 'Cl' 'DH'\n",
      " 'DN' 'Dc' 'Dx' 'Ed' 'Eg' 'Er' 'FI' 'Fd' 'Fo' 'GD' 'GJ' 'Gb' 'Gx' 'Hj'\n",
      " 'IK' 'Id' 'JX' 'Jc' 'Jf' 'Jt' 'KR' 'KZ' 'Kf' 'Kq' 'LE' 'MC' 'MO' 'MV'\n",
      " 'Mf' 'Ml' 'Mx' 'NV' 'Nf' 'Nk' 'OR' 'Ob' 'Os' 'PA' 'PQ' 'PZ' 'Ps' 'QM'\n",
      " 'Qb' 'Qh' 'Qo' 'RG' 'RL' 'RP' 'Rm' 'Ry' 'SB' 'Sc' 'TR' 'TZ' 'To' 'UO'\n",
      " 'Uk' 'Uu' 'Vf' 'Vx' 'WE' 'Wc' 'Wv' 'XI' 'Xh' 'Xi' 'YC' 'Yb' 'Ye' 'ZR'\n",
      " 'ZS' 'Zc' 'Zq' 'aF' 'aM' 'aO' 'aP' 'ac' 'av' 'bF' 'bJ' 'be' 'cA' 'cG'\n",
      " 'cW' 'ck' 'cp' 'dB' 'dE' 'dN' 'dO' 'dP' 'dQ' 'dZ' 'dh' 'eG' 'eQ' 'eb'\n",
      " 'eg' 'ek' 'ex' 'fO' 'fh' 'gJ' 'gM' 'hL' 'hT' 'hh' 'hp' 'iT' 'ih' 'jS'\n",
      " 'jV' 'je' 'jp' 'kC' 'kE' 'kK' 'kL' 'kU' 'kW' 'ke' 'kr' 'kw' 'lF' 'lL'\n",
      " 'll' 'lx' 'mb' 'mc' 'mm' 'nX' 'nh' 'oC' 'oG' 'oH' 'oK' 'od' 'on' 'pa'\n",
      " 'ps' 'qA' 'qJ' 'qK' 'qP' 'qX' 'qo' 'qv' 'qw' 'rZ' 'ri' 'rp' 'sD' 'sV'\n",
      " 'sY' 'sn' 'su' 'tM' 'tP' 'tv' 'uJ' 'uS' 'ud' 'us' 'ut' 'ux' 'uy' 'vK'\n",
      " 'vq' 'vy' 'wu' 'wy' 'xP' 'xy' 'yN' 'yY' 'yc' 'zU']\n"
     ]
    },
    {
     "data": {
      "text/plain": "        ord_3  ord_4  ord_5\nid                         \n0         7.0    3.0  136.0\n1         0.0    0.0   93.0\n2         7.0   17.0   31.0\n3         8.0    3.0  134.0\n4         0.0   17.0  158.0\n...       ...    ...    ...\n499995    9.0    0.0   25.0\n499996    5.0   18.0   17.0\n499997    6.0   21.0   66.0\n499998    6.0   23.0   82.0\n499999   11.0    9.0  114.0\n\n[500000 rows x 3 columns]",
      "text/html": "<div>\n<style scoped>\n    .dataframe tbody tr th:only-of-type {\n        vertical-align: middle;\n    }\n\n    .dataframe tbody tr th {\n        vertical-align: top;\n    }\n\n    .dataframe thead th {\n        text-align: right;\n    }\n</style>\n<table border=\"1\" class=\"dataframe\">\n  <thead>\n    <tr style=\"text-align: right;\">\n      <th></th>\n      <th>ord_3</th>\n      <th>ord_4</th>\n      <th>ord_5</th>\n    </tr>\n    <tr>\n      <th>id</th>\n      <th></th>\n      <th></th>\n      <th></th>\n    </tr>\n  </thead>\n  <tbody>\n    <tr>\n      <th>0</th>\n      <td>7.0</td>\n      <td>3.0</td>\n      <td>136.0</td>\n    </tr>\n    <tr>\n      <th>1</th>\n      <td>0.0</td>\n      <td>0.0</td>\n      <td>93.0</td>\n    </tr>\n    <tr>\n      <th>2</th>\n      <td>7.0</td>\n      <td>17.0</td>\n      <td>31.0</td>\n    </tr>\n    <tr>\n      <th>3</th>\n      <td>8.0</td>\n      <td>3.0</td>\n      <td>134.0</td>\n    </tr>\n    <tr>\n      <th>4</th>\n      <td>0.0</td>\n      <td>17.0</td>\n      <td>158.0</td>\n    </tr>\n    <tr>\n      <th>...</th>\n      <td>...</td>\n      <td>...</td>\n      <td>...</td>\n    </tr>\n    <tr>\n      <th>499995</th>\n      <td>9.0</td>\n      <td>0.0</td>\n      <td>25.0</td>\n    </tr>\n    <tr>\n      <th>499996</th>\n      <td>5.0</td>\n      <td>18.0</td>\n      <td>17.0</td>\n    </tr>\n    <tr>\n      <th>499997</th>\n      <td>6.0</td>\n      <td>21.0</td>\n      <td>66.0</td>\n    </tr>\n    <tr>\n      <th>499998</th>\n      <td>6.0</td>\n      <td>23.0</td>\n      <td>82.0</td>\n    </tr>\n    <tr>\n      <th>499999</th>\n      <td>11.0</td>\n      <td>9.0</td>\n      <td>114.0</td>\n    </tr>\n  </tbody>\n</table>\n<p>500000 rows × 3 columns</p>\n</div>"
     },
     "execution_count": 65,
     "metadata": {},
     "output_type": "execute_result"
    }
   ],
   "source": [
    "# ord_3 , ord_4 , ord_5 피처들은 알파벳 순서대로 인코딩해야 한다. 사이킷런의 OrdinalEncoder를 사용하면 된다.\n",
    "\n",
    "from sklearn.preprocessing import OrdinalEncoder\n",
    "\n",
    "ord_345 = ['ord_3' , 'ord_4' , 'ord_5']\n",
    "\n",
    "ord_encoder = OrdinalEncoder() # OrdinalEncoder 객체 생성\n",
    "\n",
    "#ordinal 인코딩 적용\n",
    "\n",
    "all_data[ord_345] = ord_encoder.fit_transform(all_data[ord_345])\n",
    "\n",
    "# 피처별 인코딩 순서 출력\n",
    "\n",
    "for feature, categories in zip(ord_345 , ord_encoder.categories_):\n",
    "    print(feature)\n",
    "    print(categories)\n",
    "\n",
    "all_data[ord_345]\n",
    "\n",
    "# 알파벳 순으로 인코딩했기 때문에 a는 0.0 b는 1.0 , c는 2.0 , d는 3.0 식으로 바뀌었다."
   ],
   "metadata": {
    "collapsed": false,
    "pycharm": {
     "name": "#%%\n"
    }
   }
  },
  {
   "cell_type": "code",
   "execution_count": 66,
   "outputs": [
    {
     "data": {
      "text/plain": "        bin_0  bin_1  bin_2  bin_3  bin_4  nom_0      nom_1    nom_2  \\\nid                                                                     \n0           0      0      0      1      1  Green   Triangle    Snake   \n1           0      1      0      1      1  Green  Trapezoid  Hamster   \n2           0      0      0      0      1   Blue  Trapezoid     Lion   \n3           0      1      0      0      1    Red  Trapezoid    Snake   \n4           0      0      0      0      0    Red  Trapezoid     Lion   \n...       ...    ...    ...    ...    ...    ...        ...      ...   \n499995      0      0      0      0      0  Green     Square     Lion   \n499996      1      0      0      0      1  Green  Trapezoid     Lion   \n499997      0      1      1      1      1  Green  Trapezoid     Lion   \n499998      1      0      0      1      1   Blue       Star  Hamster   \n499999      0      0      0      1      1  Green       Star     Lion   \n\n             nom_3     nom_4  ...      nom_8      nom_9 ord_0 ord_1 ord_2  \\\nid                            ...                                           \n0          Finland   Bassoon  ...  c389000ab  2f4cb3d51     2     4     1   \n1           Russia     Piano  ...  4cd920251  f83c56c21     1     4     3   \n2           Russia  Theremin  ...  de9c9f684  ae6800dd0     1     2     5   \n3           Canada      Oboe  ...  4ade6ab69  8270f0d71     1     4     4   \n4           Canada      Oboe  ...  cb43ab175  b164b72a7     1     4     0   \n...            ...       ...  ...        ...        ...   ...   ...   ...   \n499995      Canada  Theremin  ...  9e4b23160  acc31291f     1     0     5   \n499996       China     Piano  ...  cfbd87ed0  eae3446d0     1     1     5   \n499997      Canada      Oboe  ...  1108bcd6c  33dd3cf4b     1     0     4   \n499998  Costa Rica   Bassoon  ...  606ac930b  d4cf587dd     2     4     4   \n499999       India     Piano  ...  4ea576eb6  2d610f52c     2     0     0   \n\n        ord_3  ord_4  ord_5  day  month  \nid                                       \n0         7.0    3.0  136.0    2      2  \n1         0.0    0.0   93.0    7      8  \n2         7.0   17.0   31.0    7      2  \n3         8.0    3.0  134.0    2      1  \n4         0.0   17.0  158.0    7      8  \n...       ...    ...    ...  ...    ...  \n499995    9.0    0.0   25.0    1      3  \n499996    5.0   18.0   17.0    2      2  \n499997    6.0   21.0   66.0    3      1  \n499998    6.0   23.0   82.0    2      1  \n499999   11.0    9.0  114.0    2      2  \n\n[500000 rows x 23 columns]",
      "text/html": "<div>\n<style scoped>\n    .dataframe tbody tr th:only-of-type {\n        vertical-align: middle;\n    }\n\n    .dataframe tbody tr th {\n        vertical-align: top;\n    }\n\n    .dataframe thead th {\n        text-align: right;\n    }\n</style>\n<table border=\"1\" class=\"dataframe\">\n  <thead>\n    <tr style=\"text-align: right;\">\n      <th></th>\n      <th>bin_0</th>\n      <th>bin_1</th>\n      <th>bin_2</th>\n      <th>bin_3</th>\n      <th>bin_4</th>\n      <th>nom_0</th>\n      <th>nom_1</th>\n      <th>nom_2</th>\n      <th>nom_3</th>\n      <th>nom_4</th>\n      <th>...</th>\n      <th>nom_8</th>\n      <th>nom_9</th>\n      <th>ord_0</th>\n      <th>ord_1</th>\n      <th>ord_2</th>\n      <th>ord_3</th>\n      <th>ord_4</th>\n      <th>ord_5</th>\n      <th>day</th>\n      <th>month</th>\n    </tr>\n    <tr>\n      <th>id</th>\n      <th></th>\n      <th></th>\n      <th></th>\n      <th></th>\n      <th></th>\n      <th></th>\n      <th></th>\n      <th></th>\n      <th></th>\n      <th></th>\n      <th></th>\n      <th></th>\n      <th></th>\n      <th></th>\n      <th></th>\n      <th></th>\n      <th></th>\n      <th></th>\n      <th></th>\n      <th></th>\n      <th></th>\n    </tr>\n  </thead>\n  <tbody>\n    <tr>\n      <th>0</th>\n      <td>0</td>\n      <td>0</td>\n      <td>0</td>\n      <td>1</td>\n      <td>1</td>\n      <td>Green</td>\n      <td>Triangle</td>\n      <td>Snake</td>\n      <td>Finland</td>\n      <td>Bassoon</td>\n      <td>...</td>\n      <td>c389000ab</td>\n      <td>2f4cb3d51</td>\n      <td>2</td>\n      <td>4</td>\n      <td>1</td>\n      <td>7.0</td>\n      <td>3.0</td>\n      <td>136.0</td>\n      <td>2</td>\n      <td>2</td>\n    </tr>\n    <tr>\n      <th>1</th>\n      <td>0</td>\n      <td>1</td>\n      <td>0</td>\n      <td>1</td>\n      <td>1</td>\n      <td>Green</td>\n      <td>Trapezoid</td>\n      <td>Hamster</td>\n      <td>Russia</td>\n      <td>Piano</td>\n      <td>...</td>\n      <td>4cd920251</td>\n      <td>f83c56c21</td>\n      <td>1</td>\n      <td>4</td>\n      <td>3</td>\n      <td>0.0</td>\n      <td>0.0</td>\n      <td>93.0</td>\n      <td>7</td>\n      <td>8</td>\n    </tr>\n    <tr>\n      <th>2</th>\n      <td>0</td>\n      <td>0</td>\n      <td>0</td>\n      <td>0</td>\n      <td>1</td>\n      <td>Blue</td>\n      <td>Trapezoid</td>\n      <td>Lion</td>\n      <td>Russia</td>\n      <td>Theremin</td>\n      <td>...</td>\n      <td>de9c9f684</td>\n      <td>ae6800dd0</td>\n      <td>1</td>\n      <td>2</td>\n      <td>5</td>\n      <td>7.0</td>\n      <td>17.0</td>\n      <td>31.0</td>\n      <td>7</td>\n      <td>2</td>\n    </tr>\n    <tr>\n      <th>3</th>\n      <td>0</td>\n      <td>1</td>\n      <td>0</td>\n      <td>0</td>\n      <td>1</td>\n      <td>Red</td>\n      <td>Trapezoid</td>\n      <td>Snake</td>\n      <td>Canada</td>\n      <td>Oboe</td>\n      <td>...</td>\n      <td>4ade6ab69</td>\n      <td>8270f0d71</td>\n      <td>1</td>\n      <td>4</td>\n      <td>4</td>\n      <td>8.0</td>\n      <td>3.0</td>\n      <td>134.0</td>\n      <td>2</td>\n      <td>1</td>\n    </tr>\n    <tr>\n      <th>4</th>\n      <td>0</td>\n      <td>0</td>\n      <td>0</td>\n      <td>0</td>\n      <td>0</td>\n      <td>Red</td>\n      <td>Trapezoid</td>\n      <td>Lion</td>\n      <td>Canada</td>\n      <td>Oboe</td>\n      <td>...</td>\n      <td>cb43ab175</td>\n      <td>b164b72a7</td>\n      <td>1</td>\n      <td>4</td>\n      <td>0</td>\n      <td>0.0</td>\n      <td>17.0</td>\n      <td>158.0</td>\n      <td>7</td>\n      <td>8</td>\n    </tr>\n    <tr>\n      <th>...</th>\n      <td>...</td>\n      <td>...</td>\n      <td>...</td>\n      <td>...</td>\n      <td>...</td>\n      <td>...</td>\n      <td>...</td>\n      <td>...</td>\n      <td>...</td>\n      <td>...</td>\n      <td>...</td>\n      <td>...</td>\n      <td>...</td>\n      <td>...</td>\n      <td>...</td>\n      <td>...</td>\n      <td>...</td>\n      <td>...</td>\n      <td>...</td>\n      <td>...</td>\n      <td>...</td>\n    </tr>\n    <tr>\n      <th>499995</th>\n      <td>0</td>\n      <td>0</td>\n      <td>0</td>\n      <td>0</td>\n      <td>0</td>\n      <td>Green</td>\n      <td>Square</td>\n      <td>Lion</td>\n      <td>Canada</td>\n      <td>Theremin</td>\n      <td>...</td>\n      <td>9e4b23160</td>\n      <td>acc31291f</td>\n      <td>1</td>\n      <td>0</td>\n      <td>5</td>\n      <td>9.0</td>\n      <td>0.0</td>\n      <td>25.0</td>\n      <td>1</td>\n      <td>3</td>\n    </tr>\n    <tr>\n      <th>499996</th>\n      <td>1</td>\n      <td>0</td>\n      <td>0</td>\n      <td>0</td>\n      <td>1</td>\n      <td>Green</td>\n      <td>Trapezoid</td>\n      <td>Lion</td>\n      <td>China</td>\n      <td>Piano</td>\n      <td>...</td>\n      <td>cfbd87ed0</td>\n      <td>eae3446d0</td>\n      <td>1</td>\n      <td>1</td>\n      <td>5</td>\n      <td>5.0</td>\n      <td>18.0</td>\n      <td>17.0</td>\n      <td>2</td>\n      <td>2</td>\n    </tr>\n    <tr>\n      <th>499997</th>\n      <td>0</td>\n      <td>1</td>\n      <td>1</td>\n      <td>1</td>\n      <td>1</td>\n      <td>Green</td>\n      <td>Trapezoid</td>\n      <td>Lion</td>\n      <td>Canada</td>\n      <td>Oboe</td>\n      <td>...</td>\n      <td>1108bcd6c</td>\n      <td>33dd3cf4b</td>\n      <td>1</td>\n      <td>0</td>\n      <td>4</td>\n      <td>6.0</td>\n      <td>21.0</td>\n      <td>66.0</td>\n      <td>3</td>\n      <td>1</td>\n    </tr>\n    <tr>\n      <th>499998</th>\n      <td>1</td>\n      <td>0</td>\n      <td>0</td>\n      <td>1</td>\n      <td>1</td>\n      <td>Blue</td>\n      <td>Star</td>\n      <td>Hamster</td>\n      <td>Costa Rica</td>\n      <td>Bassoon</td>\n      <td>...</td>\n      <td>606ac930b</td>\n      <td>d4cf587dd</td>\n      <td>2</td>\n      <td>4</td>\n      <td>4</td>\n      <td>6.0</td>\n      <td>23.0</td>\n      <td>82.0</td>\n      <td>2</td>\n      <td>1</td>\n    </tr>\n    <tr>\n      <th>499999</th>\n      <td>0</td>\n      <td>0</td>\n      <td>0</td>\n      <td>1</td>\n      <td>1</td>\n      <td>Green</td>\n      <td>Star</td>\n      <td>Lion</td>\n      <td>India</td>\n      <td>Piano</td>\n      <td>...</td>\n      <td>4ea576eb6</td>\n      <td>2d610f52c</td>\n      <td>2</td>\n      <td>0</td>\n      <td>0</td>\n      <td>11.0</td>\n      <td>9.0</td>\n      <td>114.0</td>\n      <td>2</td>\n      <td>2</td>\n    </tr>\n  </tbody>\n</table>\n<p>500000 rows × 23 columns</p>\n</div>"
     },
     "execution_count": 66,
     "metadata": {},
     "output_type": "execute_result"
    }
   ],
   "source": [
    "all_data"
   ],
   "metadata": {
    "collapsed": false,
    "pycharm": {
     "name": "#%%\n"
    }
   }
  },
  {
   "cell_type": "markdown",
   "source": [
    "## 명목형 피처 인코딩"
   ],
   "metadata": {
    "collapsed": false,
    "pycharm": {
     "name": "#%% md\n"
    }
   }
  },
  {
   "cell_type": "code",
   "execution_count": 67,
   "outputs": [],
   "source": [
    "# 명목형 피처는 순서를 무시해도 되기 때문에 원-핫 인코딩을 적용할 수 있다.\n",
    "\n",
    "nom_features = ['nom_' + str(i) for i in range(10)] # 명목형 피처\n",
    "\n",
    "# 지능형 리스트는 코드 한 줄로 새로운 리스트를 만드는 문법 구조"
   ],
   "metadata": {
    "collapsed": false,
    "pycharm": {
     "name": "#%%\n"
    }
   }
  },
  {
   "cell_type": "code",
   "execution_count": 68,
   "outputs": [
    {
     "data": {
      "text/plain": "<500000x16276 sparse matrix of type '<class 'numpy.float64'>'\n\twith 5000000 stored elements in Compressed Sparse Row format>"
     },
     "execution_count": 68,
     "metadata": {},
     "output_type": "execute_result"
    }
   ],
   "source": [
    "from sklearn.preprocessing import OneHotEncoder\n",
    "\n",
    "onehot_encoder = OneHotEncoder()\n",
    "#all_data[nom_features] = onehot_encoder.fit_transform(all_data[nom_features])\n",
    "# nom_features 10개에 대한 값을 OneHot Encoding하는데, 명목형 피처의 행렬크기가 엄청 많아지게 된다.\n",
    "\n",
    "encoded_nom_matrix = onehot_encoder.fit_transform(all_data[nom_features])\n",
    "\n",
    "encoded_nom_matrix"
   ],
   "metadata": {
    "collapsed": false,
    "pycharm": {
     "name": "#%%\n"
    }
   }
  },
  {
   "cell_type": "code",
   "execution_count": 69,
   "outputs": [],
   "source": [
    "# 희소 행렬과 COO, CSR 형식\n",
    "\n",
    "# 대부분 값이 0으로 채워진 행렬을 희소(sparse matrix) 행렬이라고 한다.\n",
    "\n",
    "# 반대로 대부분 값이 0이 아닌 값으로 채워진 행렬을 밀집 행렬(dense matrix)라고 한다.\n",
    "\n",
    "# 원-핫 인코딩을 적용하면 희소 행렬을 만든다. ==> 메모리 낭비가 심해진다.\n",
    "\n",
    "# 개선 위하여 행렬형식을 COO(coordinate list) 형식과 CSR(compressed sparse row) 형식이 있다.\n",
    "\n",
    "# 희소 행렬을 COO 형식이나 CSR 형식으로 표현하면 메모리 낭비를 줄일 수 있다.\n",
    "\n",
    "# CSR 형식이 메모리를 더 적게 쓰고 연산이 더 빠르다."
   ],
   "metadata": {
    "collapsed": false,
    "pycharm": {
     "name": "#%%\n"
    }
   }
  },
  {
   "cell_type": "markdown",
   "source": [],
   "metadata": {
    "collapsed": false,
    "pycharm": {
     "name": "#%% md\n"
    }
   }
  },
  {
   "cell_type": "code",
   "execution_count": 70,
   "outputs": [],
   "source": [
    "# 명목형 피처의 원-핫 인코딩한 결과를 encoded_nom_matrix 에 저장했다. 이는 CSR 형식의 행렬이다.\n",
    "\n",
    "all_data = all_data.drop(nom_features , axis =1) # 기존 명목형 피처 삭제\n",
    "\n",
    "# encoded_nom_matrix 와 추후 합칠거기 때문"
   ],
   "metadata": {
    "collapsed": false,
    "pycharm": {
     "name": "#%%\n"
    }
   }
  },
  {
   "cell_type": "code",
   "execution_count": 71,
   "outputs": [
    {
     "data": {
      "text/plain": "<500000x19 sparse matrix of type '<class 'numpy.float64'>'\n\twith 1000000 stored elements in Compressed Sparse Row format>"
     },
     "execution_count": 71,
     "metadata": {},
     "output_type": "execute_result"
    }
   ],
   "source": [
    "date_features = ['day',  'month'] # 날짜 피처\n",
    "\n",
    "# 원-핫 인코딩 적용\n",
    "\n",
    "encoded_date_matrix = onehot_encoder.fit_transform(all_data[date_features])\n",
    "\n",
    "all_data = all_data.drop(date_features , axis= 1)  # 기존 날짜 피처 삭제\n",
    "\n",
    "encoded_date_matrix\n",
    "\n",
    "# 원-핫 인코딩된 행렬 크기는 500000*19 이다. day 피처 고윳값은 7개 , month 피처 고윳값은 12개라서 인코딩 이후 열이 총 19개가 되었다."
   ],
   "metadata": {
    "collapsed": false,
    "pycharm": {
     "name": "#%%\n"
    }
   }
  },
  {
   "cell_type": "markdown",
   "source": [
    "## 피처 스케일링"
   ],
   "metadata": {
    "collapsed": false,
    "pycharm": {
     "name": "#%% md\n"
    }
   }
  },
  {
   "cell_type": "code",
   "execution_count": 72,
   "outputs": [],
   "source": [
    "# 피처 스케일링이란 서로 다른 피처들의 값의 범위가 일치하도록 조정하는 작업이다.\n",
    "\n",
    "# 피처 스케일링이 필요한 이유는 수치형 피처들의 유효 값 범위가 서로 다르면 훈련이 제대로 안 될 수 도 있기 때문이다.\n",
    "\n",
    "# 이진 , 명목형 , 날짜 피처를 모두 0과 1로 인코딩하였다. 하지만 , 순서형 피처는 여러 가지 값을 갖고 있으므로 순서형\n",
    "#피처의 값 범위도 0~1 사이가 되도록 스케일링 해주어야한다."
   ],
   "metadata": {
    "collapsed": false,
    "pycharm": {
     "name": "#%%\n"
    }
   }
  },
  {
   "cell_type": "markdown",
   "source": [
    "## 순서형 피처 스케일링"
   ],
   "metadata": {
    "collapsed": false,
    "pycharm": {
     "name": "#%% md\n"
    }
   }
  },
  {
   "cell_type": "code",
   "execution_count": 73,
   "outputs": [],
   "source": [
    "# 다른 피처들과 범위를 맞추기 위해 순서형 피처에 min-max 정규화를 적용한다. min-max 정규화는 피처값의 범위를 0~1로 조정한다."
   ],
   "metadata": {
    "collapsed": false,
    "pycharm": {
     "name": "#%%\n"
    }
   }
  },
  {
   "cell_type": "code",
   "execution_count": 74,
   "outputs": [
    {
     "data": {
      "text/plain": "        bin_0  bin_1  bin_2  bin_3  bin_4  ord_0  ord_1  ord_2     ord_3  \\\nid                                                                         \n0           0      0      0      1      1    0.5   1.00    0.2  0.500000   \n1           0      1      0      1      1    0.0   1.00    0.6  0.000000   \n2           0      0      0      0      1    0.0   0.50    1.0  0.500000   \n3           0      1      0      0      1    0.0   1.00    0.8  0.571429   \n4           0      0      0      0      0    0.0   1.00    0.0  0.000000   \n...       ...    ...    ...    ...    ...    ...    ...    ...       ...   \n499995      0      0      0      0      0    0.0   0.00    1.0  0.642857   \n499996      1      0      0      0      1    0.0   0.25    1.0  0.357143   \n499997      0      1      1      1      1    0.0   0.00    0.8  0.428571   \n499998      1      0      0      1      1    0.5   1.00    0.8  0.428571   \n499999      0      0      0      1      1    0.5   0.00    0.0  0.785714   \n\n        ord_4     ord_5  \nid                       \n0        0.12  0.712042  \n1        0.00  0.486911  \n2        0.68  0.162304  \n3        0.12  0.701571  \n4        0.68  0.827225  \n...       ...       ...  \n499995   0.00  0.130890  \n499996   0.72  0.089005  \n499997   0.84  0.345550  \n499998   0.92  0.429319  \n499999   0.36  0.596859  \n\n[500000 rows x 11 columns]",
      "text/html": "<div>\n<style scoped>\n    .dataframe tbody tr th:only-of-type {\n        vertical-align: middle;\n    }\n\n    .dataframe tbody tr th {\n        vertical-align: top;\n    }\n\n    .dataframe thead th {\n        text-align: right;\n    }\n</style>\n<table border=\"1\" class=\"dataframe\">\n  <thead>\n    <tr style=\"text-align: right;\">\n      <th></th>\n      <th>bin_0</th>\n      <th>bin_1</th>\n      <th>bin_2</th>\n      <th>bin_3</th>\n      <th>bin_4</th>\n      <th>ord_0</th>\n      <th>ord_1</th>\n      <th>ord_2</th>\n      <th>ord_3</th>\n      <th>ord_4</th>\n      <th>ord_5</th>\n    </tr>\n    <tr>\n      <th>id</th>\n      <th></th>\n      <th></th>\n      <th></th>\n      <th></th>\n      <th></th>\n      <th></th>\n      <th></th>\n      <th></th>\n      <th></th>\n      <th></th>\n      <th></th>\n    </tr>\n  </thead>\n  <tbody>\n    <tr>\n      <th>0</th>\n      <td>0</td>\n      <td>0</td>\n      <td>0</td>\n      <td>1</td>\n      <td>1</td>\n      <td>0.5</td>\n      <td>1.00</td>\n      <td>0.2</td>\n      <td>0.500000</td>\n      <td>0.12</td>\n      <td>0.712042</td>\n    </tr>\n    <tr>\n      <th>1</th>\n      <td>0</td>\n      <td>1</td>\n      <td>0</td>\n      <td>1</td>\n      <td>1</td>\n      <td>0.0</td>\n      <td>1.00</td>\n      <td>0.6</td>\n      <td>0.000000</td>\n      <td>0.00</td>\n      <td>0.486911</td>\n    </tr>\n    <tr>\n      <th>2</th>\n      <td>0</td>\n      <td>0</td>\n      <td>0</td>\n      <td>0</td>\n      <td>1</td>\n      <td>0.0</td>\n      <td>0.50</td>\n      <td>1.0</td>\n      <td>0.500000</td>\n      <td>0.68</td>\n      <td>0.162304</td>\n    </tr>\n    <tr>\n      <th>3</th>\n      <td>0</td>\n      <td>1</td>\n      <td>0</td>\n      <td>0</td>\n      <td>1</td>\n      <td>0.0</td>\n      <td>1.00</td>\n      <td>0.8</td>\n      <td>0.571429</td>\n      <td>0.12</td>\n      <td>0.701571</td>\n    </tr>\n    <tr>\n      <th>4</th>\n      <td>0</td>\n      <td>0</td>\n      <td>0</td>\n      <td>0</td>\n      <td>0</td>\n      <td>0.0</td>\n      <td>1.00</td>\n      <td>0.0</td>\n      <td>0.000000</td>\n      <td>0.68</td>\n      <td>0.827225</td>\n    </tr>\n    <tr>\n      <th>...</th>\n      <td>...</td>\n      <td>...</td>\n      <td>...</td>\n      <td>...</td>\n      <td>...</td>\n      <td>...</td>\n      <td>...</td>\n      <td>...</td>\n      <td>...</td>\n      <td>...</td>\n      <td>...</td>\n    </tr>\n    <tr>\n      <th>499995</th>\n      <td>0</td>\n      <td>0</td>\n      <td>0</td>\n      <td>0</td>\n      <td>0</td>\n      <td>0.0</td>\n      <td>0.00</td>\n      <td>1.0</td>\n      <td>0.642857</td>\n      <td>0.00</td>\n      <td>0.130890</td>\n    </tr>\n    <tr>\n      <th>499996</th>\n      <td>1</td>\n      <td>0</td>\n      <td>0</td>\n      <td>0</td>\n      <td>1</td>\n      <td>0.0</td>\n      <td>0.25</td>\n      <td>1.0</td>\n      <td>0.357143</td>\n      <td>0.72</td>\n      <td>0.089005</td>\n    </tr>\n    <tr>\n      <th>499997</th>\n      <td>0</td>\n      <td>1</td>\n      <td>1</td>\n      <td>1</td>\n      <td>1</td>\n      <td>0.0</td>\n      <td>0.00</td>\n      <td>0.8</td>\n      <td>0.428571</td>\n      <td>0.84</td>\n      <td>0.345550</td>\n    </tr>\n    <tr>\n      <th>499998</th>\n      <td>1</td>\n      <td>0</td>\n      <td>0</td>\n      <td>1</td>\n      <td>1</td>\n      <td>0.5</td>\n      <td>1.00</td>\n      <td>0.8</td>\n      <td>0.428571</td>\n      <td>0.92</td>\n      <td>0.429319</td>\n    </tr>\n    <tr>\n      <th>499999</th>\n      <td>0</td>\n      <td>0</td>\n      <td>0</td>\n      <td>1</td>\n      <td>1</td>\n      <td>0.5</td>\n      <td>0.00</td>\n      <td>0.0</td>\n      <td>0.785714</td>\n      <td>0.36</td>\n      <td>0.596859</td>\n    </tr>\n  </tbody>\n</table>\n<p>500000 rows × 11 columns</p>\n</div>"
     },
     "execution_count": 74,
     "metadata": {},
     "output_type": "execute_result"
    }
   ],
   "source": [
    "from sklearn.preprocessing import MinMaxScaler\n",
    "\n",
    "ord_features = ['ord_' + str(i) for i in range(6)] # 순서형 피처\n",
    "\n",
    "# min-max 정규화\n",
    "\n",
    "all_data[ord_features] = MinMaxScaler().fit_transform(all_data[ord_features])\n",
    "\n",
    "all_data"
   ],
   "metadata": {
    "collapsed": false,
    "pycharm": {
     "name": "#%%\n"
    }
   }
  },
  {
   "cell_type": "markdown",
   "source": [
    "## 인코딩 및 스케일링된 피처 합치기"
   ],
   "metadata": {
    "collapsed": false,
    "pycharm": {
     "name": "#%% md\n"
    }
   }
  },
  {
   "cell_type": "code",
   "execution_count": 75,
   "outputs": [
    {
     "data": {
      "text/plain": "<500000x16306 sparse matrix of type '<class 'numpy.float64'>'\n\twith 9163718 stored elements in Compressed Sparse Row format>"
     },
     "execution_count": 75,
     "metadata": {},
     "output_type": "execute_result"
    }
   ],
   "source": [
    "# 현재 all_data에는 이진 피처와 순서형 피처가 인코딩돼 있다. 명목형 피처와 날짜 피처는 원-핫 인코딩되어\n",
    "# 각각 encoded_nom_matrix 와 encoded_date_matrix에 저장돼 있다.\n",
    "\n",
    "#이 3가지의 데이터를 합쳐야한다.\n",
    "\n",
    "# encoded_nom_matrix와 encoded_date_matrix는 CSR 형식으로 서로 맞추어야한다.\n",
    "\n",
    "# SCIPY의 csr_matrix()는 전달받은 데이터를 CSR 형식으로 바꿔준다.\n",
    "\n",
    "from scipy import sparse\n",
    "\n",
    "all_data_sprs = sparse.hstack([sparse.csr_matrix(all_data) ,\n",
    "                               encoded_nom_matrix,\n",
    "                               encoded_date_matrix],\n",
    "                              format='csr')\n",
    "# hstack()은 행렬을 수평 방향으로 합친다.\n",
    "# format = 'csr'을 전달하면 합친 결과를 CSR 형식으로 반환한다.(기본값은 COO 형식이다.)\n",
    "\n",
    "all_data_sprs\n",
    "\n",
    "# 이 정도 크기를 DATAFRAME 으로 처리하면 메모리 소모가 심하고 훈련 속도도 떨어진다.\n",
    "\n",
    "# 따라서 DataFrame으로 변환하지 않고 CSR 형식을 그대로 사용한다.\n"
   ],
   "metadata": {
    "collapsed": false,
    "pycharm": {
     "name": "#%%\n"
    }
   }
  },
  {
   "cell_type": "markdown",
   "source": [
    "## 데이터 나누기"
   ],
   "metadata": {
    "collapsed": false,
    "pycharm": {
     "name": "#%% md\n"
    }
   }
  },
  {
   "cell_type": "code",
   "execution_count": 76,
   "outputs": [],
   "source": [
    "num_train = len(train) # 훈련 데이터 개수\n",
    "\n",
    "# 훈련 데이터와 테스트 데이터 나누기\n",
    "\n",
    "X_train = all_data_sprs[:num_train] # 0 ~ num_train -1 행\n",
    "X_test = all_data_sprs[num_train :] # num_train ~ 마지막 행\n",
    "\n",
    "y = train['target']"
   ],
   "metadata": {
    "collapsed": false,
    "pycharm": {
     "name": "#%%\n"
    }
   }
  },
  {
   "cell_type": "code",
   "execution_count": 77,
   "outputs": [],
   "source": [
    "from sklearn.model_selection import train_test_split\n",
    "\n",
    "# 훈련 데이터, 검증 데이터 분리\n",
    "\n",
    "X_train , X_valid , y_train , y_valid = train_test_split(X_train, y , test_size=0.1 , stratify=y, random_state= 10)"
   ],
   "metadata": {
    "collapsed": false,
    "pycharm": {
     "name": "#%%\n"
    }
   }
  },
  {
   "cell_type": "markdown",
   "source": [
    "## 하이퍼파라미터 최적화"
   ],
   "metadata": {
    "collapsed": false,
    "pycharm": {
     "name": "#%% md\n"
    }
   }
  },
  {
   "cell_type": "code",
   "execution_count": 78,
   "outputs": [
    {
     "name": "stdout",
     "output_type": "stream",
     "text": [
      "Wall time: 0 ns\n",
      "최적 하이퍼파라미터 :  {'C': 0.125, 'max_iter': 800, 'random_state': 42, 'solver': 'liblinear'}\n"
     ]
    }
   ],
   "source": [
    "%time # 해당 셀 실행 후 소요 시간을 출력해 주는 기능이다. # 맨처음에 있어야한다.\n",
    "# 로지스틱 회귀는 선형 회귀 방식을 응용해 분류 문제에 적용한 모델이다. 비록 분류 문제에 사용되는 모델이지만 훈련 원리는\n",
    "# 선형 회귀 모델과 유사하다.\n",
    "\n",
    "# 모델을 생성하고 평가지표를 ROC AUC로 지정해 그리드서치를 수행한다.\n",
    "\n",
    "\n",
    "\n",
    "\n",
    "from sklearn.model_selection import GridSearchCV\n",
    "from sklearn.linear_model import LogisticRegression\n",
    "\n",
    "# 로지스틱 회귀 모델 생성\n",
    "\n",
    "logistic_model = LogisticRegression()\n",
    "\n",
    "# 하이퍼파라미터 값 목록\n",
    "\n",
    "lr_params = {'C' : [0.1 , 0.125, 0.2] , 'max_iter' : [800,900,1000] ,\n",
    "             'solver' : ['liblinear'] , 'random_state' : [42]}\n",
    "\n",
    "# 그리드서치 객체 생성\n",
    "\n",
    "gridsearch_logistic_model = GridSearchCV(estimator= logistic_model , param_grid=lr_params,\n",
    "                                         scoring = 'roc_auc', # 평가지표\n",
    "                                        cv = 5 )\n",
    "\n",
    "# 그리드서치 수행\n",
    "\n",
    "gridsearch_logistic_model.fit(X_train, y_train)\n",
    "\n",
    "print('최적 하이퍼파라미터 : ' , gridsearch_logistic_model.best_params_)"
   ],
   "metadata": {
    "collapsed": false,
    "pycharm": {
     "name": "#%%\n"
    }
   }
  },
  {
   "cell_type": "markdown",
   "source": [
    "## 모델 성능 검증"
   ],
   "metadata": {
    "collapsed": false,
    "pycharm": {
     "name": "#%% md\n"
    }
   }
  },
  {
   "cell_type": "code",
   "execution_count": 79,
   "outputs": [],
   "source": [
    "# 최적 하이퍼파라미터를 찾았으니 모델 성능이 얼마나 개선되었는지 확인해보아야한다.\n",
    "\n",
    "# 베이스라인처럼 검증 데이터로 모델 성능을 검증해본다.\n",
    "\n",
    "# 먼저 검증 데이터로 타깃 예측값을 구한다.\n",
    "\n",
    "y_valid_preds = gridsearch_logistic_model.predict_proba(X_valid)[:,1]"
   ],
   "metadata": {
    "collapsed": false,
    "pycharm": {
     "name": "#%%\n"
    }
   }
  },
  {
   "cell_type": "code",
   "execution_count": 80,
   "outputs": [
    {
     "name": "stdout",
     "output_type": "stream",
     "text": [
      "검증 데이터 ROC AUC :  0.8045\n"
     ]
    }
   ],
   "source": [
    "from sklearn.metrics import roc_auc_score # ROC AUC 점수 계산 함수\n",
    "\n",
    "# 검증 데이터 ROC AUC\n",
    "\n",
    "roc_auc = roc_auc_score(y_valid , y_valid_preds)\n",
    "\n",
    "print(f'검증 데이터 ROC AUC : {roc_auc : .4f}')"
   ],
   "metadata": {
    "collapsed": false,
    "pycharm": {
     "name": "#%%\n"
    }
   }
  },
  {
   "cell_type": "code",
   "execution_count": 81,
   "outputs": [],
   "source": [
    "# 타깃값 1일 확률 예측\n",
    "\n",
    "y_preds = gridsearch_logistic_model.best_estimator_.predict_proba(X_test)[:,1]\n",
    "\n",
    "# 제출 파일 생성\n",
    "\n",
    "submission['target'] = y_preds\n",
    "submission.to_csv('submission_2.csv')"
   ],
   "metadata": {
    "collapsed": false,
    "pycharm": {
     "name": "#%%\n"
    }
   }
  },
  {
   "cell_type": "code",
   "execution_count": 82,
   "outputs": [
    {
     "data": {
      "text/plain": "          target\nid              \n300000  0.345134\n300001  0.695204\n300002  0.112032\n300003  0.471909\n300004  0.857002\n...          ...\n499995  0.285775\n499996  0.146450\n499997  0.332897\n499998  0.572511\n499999  0.200377\n\n[200000 rows x 1 columns]",
      "text/html": "<div>\n<style scoped>\n    .dataframe tbody tr th:only-of-type {\n        vertical-align: middle;\n    }\n\n    .dataframe tbody tr th {\n        vertical-align: top;\n    }\n\n    .dataframe thead th {\n        text-align: right;\n    }\n</style>\n<table border=\"1\" class=\"dataframe\">\n  <thead>\n    <tr style=\"text-align: right;\">\n      <th></th>\n      <th>target</th>\n    </tr>\n    <tr>\n      <th>id</th>\n      <th></th>\n    </tr>\n  </thead>\n  <tbody>\n    <tr>\n      <th>300000</th>\n      <td>0.345134</td>\n    </tr>\n    <tr>\n      <th>300001</th>\n      <td>0.695204</td>\n    </tr>\n    <tr>\n      <th>300002</th>\n      <td>0.112032</td>\n    </tr>\n    <tr>\n      <th>300003</th>\n      <td>0.471909</td>\n    </tr>\n    <tr>\n      <th>300004</th>\n      <td>0.857002</td>\n    </tr>\n    <tr>\n      <th>...</th>\n      <td>...</td>\n    </tr>\n    <tr>\n      <th>499995</th>\n      <td>0.285775</td>\n    </tr>\n    <tr>\n      <th>499996</th>\n      <td>0.146450</td>\n    </tr>\n    <tr>\n      <th>499997</th>\n      <td>0.332897</td>\n    </tr>\n    <tr>\n      <th>499998</th>\n      <td>0.572511</td>\n    </tr>\n    <tr>\n      <th>499999</th>\n      <td>0.200377</td>\n    </tr>\n  </tbody>\n</table>\n<p>200000 rows × 1 columns</p>\n</div>"
     },
     "execution_count": 82,
     "metadata": {},
     "output_type": "execute_result"
    }
   ],
   "source": [
    "submission"
   ],
   "metadata": {
    "collapsed": false,
    "pycharm": {
     "name": "#%%\n"
    }
   }
  },
  {
   "cell_type": "code",
   "execution_count": 82,
   "outputs": [],
   "source": [],
   "metadata": {
    "collapsed": false,
    "pycharm": {
     "name": "#%%\n"
    }
   }
  }
 ],
 "metadata": {
  "kernelspec": {
   "display_name": "Python 3",
   "language": "python",
   "name": "python3"
  },
  "language_info": {
   "codemirror_mode": {
    "name": "ipython",
    "version": 2
   },
   "file_extension": ".py",
   "mimetype": "text/x-python",
   "name": "python",
   "nbconvert_exporter": "python",
   "pygments_lexer": "ipython2",
   "version": "2.7.6"
  }
 },
 "nbformat": 4,
 "nbformat_minor": 0
}