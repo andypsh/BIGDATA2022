{
 "cells": [
  {
   "cell_type": "code",
   "execution_count": 118,
   "metadata": {
    "collapsed": true,
    "pycharm": {
     "name": "#%%\n"
    }
   },
   "outputs": [],
   "source": [
    "import gc\n",
    "\n",
    "import pandas as pd\n",
    "\n",
    "# 데이터경로\n",
    "\n",
    "data_path = './competitive-data-science-predict-future-sales/'\n",
    "\n",
    "sales_train = pd.read_csv(data_path + 'sales_train.csv')\n",
    "shops = pd.read_csv(data_path + 'shops.csv')\n",
    "items = pd.read_csv(data_path + 'items.csv')\n",
    "item_categories = pd.read_csv(data_path + 'item_categories.csv')\n",
    "test = pd.read_csv(data_path +'test.csv')\n",
    "submission = pd.read_csv(data_path +'sample_submission.csv')"
   ]
  },
  {
   "cell_type": "markdown",
   "source": [
    "## 피처 엔지니어링 1 : 피처명 한글화"
   ],
   "metadata": {
    "collapsed": false,
    "pycharm": {
     "name": "#%% md\n"
    }
   }
  },
  {
   "cell_type": "code",
   "execution_count": 119,
   "outputs": [
    {
     "data": {
      "text/plain": "           날짜  월ID  상점ID   상품ID      판매가  판매량\n0  02.01.2013    0    59  22154   999.00  1.0\n1  03.01.2013    0    25   2552   899.00  1.0\n2  05.01.2013    0    25   2552   899.00 -1.0\n3  06.01.2013    0    25   2554  1709.05  1.0\n4  15.01.2013    0    25   2555  1099.00  1.0",
      "text/html": "<div>\n<style scoped>\n    .dataframe tbody tr th:only-of-type {\n        vertical-align: middle;\n    }\n\n    .dataframe tbody tr th {\n        vertical-align: top;\n    }\n\n    .dataframe thead th {\n        text-align: right;\n    }\n</style>\n<table border=\"1\" class=\"dataframe\">\n  <thead>\n    <tr style=\"text-align: right;\">\n      <th></th>\n      <th>날짜</th>\n      <th>월ID</th>\n      <th>상점ID</th>\n      <th>상품ID</th>\n      <th>판매가</th>\n      <th>판매량</th>\n    </tr>\n  </thead>\n  <tbody>\n    <tr>\n      <th>0</th>\n      <td>02.01.2013</td>\n      <td>0</td>\n      <td>59</td>\n      <td>22154</td>\n      <td>999.00</td>\n      <td>1.0</td>\n    </tr>\n    <tr>\n      <th>1</th>\n      <td>03.01.2013</td>\n      <td>0</td>\n      <td>25</td>\n      <td>2552</td>\n      <td>899.00</td>\n      <td>1.0</td>\n    </tr>\n    <tr>\n      <th>2</th>\n      <td>05.01.2013</td>\n      <td>0</td>\n      <td>25</td>\n      <td>2552</td>\n      <td>899.00</td>\n      <td>-1.0</td>\n    </tr>\n    <tr>\n      <th>3</th>\n      <td>06.01.2013</td>\n      <td>0</td>\n      <td>25</td>\n      <td>2554</td>\n      <td>1709.05</td>\n      <td>1.0</td>\n    </tr>\n    <tr>\n      <th>4</th>\n      <td>15.01.2013</td>\n      <td>0</td>\n      <td>25</td>\n      <td>2555</td>\n      <td>1099.00</td>\n      <td>1.0</td>\n    </tr>\n  </tbody>\n</table>\n</div>"
     },
     "execution_count": 119,
     "metadata": {},
     "output_type": "execute_result"
    }
   ],
   "source": [
    "sales_train = sales_train.rename(columns = {'date' : '날짜' ,\n",
    "                                            'date_block_num' : '월ID',\n",
    "                                            'shop_id' : '상점ID',\n",
    "                                            'item_id' : '상품ID',\n",
    "                                            'item_price' : '판매가',\n",
    "                                            'item_cnt_day' : '판매량'})\n",
    "\n",
    "sales_train.head()"
   ],
   "metadata": {
    "collapsed": false,
    "pycharm": {
     "name": "#%%\n"
    }
   }
  },
  {
   "cell_type": "code",
   "execution_count": 120,
   "outputs": [
    {
     "data": {
      "text/plain": "                              상점명  상점ID\n0   !Якутск Орджоникидзе, 56 фран     0\n1   !Якутск ТЦ \"Центральный\" фран     1\n2                Адыгея ТЦ \"Мега\"     2\n3  Балашиха ТРК \"Октябрь-Киномир\"     3\n4        Волжский ТЦ \"Волга Молл\"     4",
      "text/html": "<div>\n<style scoped>\n    .dataframe tbody tr th:only-of-type {\n        vertical-align: middle;\n    }\n\n    .dataframe tbody tr th {\n        vertical-align: top;\n    }\n\n    .dataframe thead th {\n        text-align: right;\n    }\n</style>\n<table border=\"1\" class=\"dataframe\">\n  <thead>\n    <tr style=\"text-align: right;\">\n      <th></th>\n      <th>상점명</th>\n      <th>상점ID</th>\n    </tr>\n  </thead>\n  <tbody>\n    <tr>\n      <th>0</th>\n      <td>!Якутск Орджоникидзе, 56 фран</td>\n      <td>0</td>\n    </tr>\n    <tr>\n      <th>1</th>\n      <td>!Якутск ТЦ \"Центральный\" фран</td>\n      <td>1</td>\n    </tr>\n    <tr>\n      <th>2</th>\n      <td>Адыгея ТЦ \"Мега\"</td>\n      <td>2</td>\n    </tr>\n    <tr>\n      <th>3</th>\n      <td>Балашиха ТРК \"Октябрь-Киномир\"</td>\n      <td>3</td>\n    </tr>\n    <tr>\n      <th>4</th>\n      <td>Волжский ТЦ \"Волга Молл\"</td>\n      <td>4</td>\n    </tr>\n  </tbody>\n</table>\n</div>"
     },
     "execution_count": 120,
     "metadata": {},
     "output_type": "execute_result"
    }
   ],
   "source": [
    "shops = shops.rename(columns = {'shop_name' : '상점명' ,\n",
    "                              'shop_id' : '상점ID'})\n",
    "shops.head()"
   ],
   "metadata": {
    "collapsed": false,
    "pycharm": {
     "name": "#%%\n"
    }
   }
  },
  {
   "cell_type": "code",
   "execution_count": 121,
   "outputs": [
    {
     "data": {
      "text/plain": "                                                 상품명  상품ID  상품분류ID\n0          ! ВО ВЛАСТИ НАВАЖДЕНИЯ (ПЛАСТ.)         D     0      40\n1  !ABBYY FineReader 12 Professional Edition Full...     1      76\n2      ***В ЛУЧАХ СЛАВЫ   (UNV)                    D     2      40\n3    ***ГОЛУБАЯ ВОЛНА  (Univ)                      D     3      40\n4        ***КОРОБКА (СТЕКЛО)                       D     4      40",
      "text/html": "<div>\n<style scoped>\n    .dataframe tbody tr th:only-of-type {\n        vertical-align: middle;\n    }\n\n    .dataframe tbody tr th {\n        vertical-align: top;\n    }\n\n    .dataframe thead th {\n        text-align: right;\n    }\n</style>\n<table border=\"1\" class=\"dataframe\">\n  <thead>\n    <tr style=\"text-align: right;\">\n      <th></th>\n      <th>상품명</th>\n      <th>상품ID</th>\n      <th>상품분류ID</th>\n    </tr>\n  </thead>\n  <tbody>\n    <tr>\n      <th>0</th>\n      <td>! ВО ВЛАСТИ НАВАЖДЕНИЯ (ПЛАСТ.)         D</td>\n      <td>0</td>\n      <td>40</td>\n    </tr>\n    <tr>\n      <th>1</th>\n      <td>!ABBYY FineReader 12 Professional Edition Full...</td>\n      <td>1</td>\n      <td>76</td>\n    </tr>\n    <tr>\n      <th>2</th>\n      <td>***В ЛУЧАХ СЛАВЫ   (UNV)                    D</td>\n      <td>2</td>\n      <td>40</td>\n    </tr>\n    <tr>\n      <th>3</th>\n      <td>***ГОЛУБАЯ ВОЛНА  (Univ)                      D</td>\n      <td>3</td>\n      <td>40</td>\n    </tr>\n    <tr>\n      <th>4</th>\n      <td>***КОРОБКА (СТЕКЛО)                       D</td>\n      <td>4</td>\n      <td>40</td>\n    </tr>\n  </tbody>\n</table>\n</div>"
     },
     "execution_count": 121,
     "metadata": {},
     "output_type": "execute_result"
    }
   ],
   "source": [
    "items = items.rename(columns = {'item_name': '상품명',\n",
    "                                'item_id' : '상품ID',\n",
    "                                'item_category_id' : '상품분류ID'})\n",
    "\n",
    "items.head()"
   ],
   "metadata": {
    "collapsed": false,
    "pycharm": {
     "name": "#%%\n"
    }
   }
  },
  {
   "cell_type": "code",
   "execution_count": 122,
   "outputs": [
    {
     "data": {
      "text/plain": "                     상품분류명  상품분류ID\n0  PC - Гарнитуры/Наушники       0\n1         Аксессуары - PS2       1\n2         Аксессуары - PS3       2\n3         Аксессуары - PS4       3\n4         Аксессуары - PSP       4",
      "text/html": "<div>\n<style scoped>\n    .dataframe tbody tr th:only-of-type {\n        vertical-align: middle;\n    }\n\n    .dataframe tbody tr th {\n        vertical-align: top;\n    }\n\n    .dataframe thead th {\n        text-align: right;\n    }\n</style>\n<table border=\"1\" class=\"dataframe\">\n  <thead>\n    <tr style=\"text-align: right;\">\n      <th></th>\n      <th>상품분류명</th>\n      <th>상품분류ID</th>\n    </tr>\n  </thead>\n  <tbody>\n    <tr>\n      <th>0</th>\n      <td>PC - Гарнитуры/Наушники</td>\n      <td>0</td>\n    </tr>\n    <tr>\n      <th>1</th>\n      <td>Аксессуары - PS2</td>\n      <td>1</td>\n    </tr>\n    <tr>\n      <th>2</th>\n      <td>Аксессуары - PS3</td>\n      <td>2</td>\n    </tr>\n    <tr>\n      <th>3</th>\n      <td>Аксессуары - PS4</td>\n      <td>3</td>\n    </tr>\n    <tr>\n      <th>4</th>\n      <td>Аксессуары - PSP</td>\n      <td>4</td>\n    </tr>\n  </tbody>\n</table>\n</div>"
     },
     "execution_count": 122,
     "metadata": {},
     "output_type": "execute_result"
    }
   ],
   "source": [
    "item_categories = item_categories.rename(columns = {'item_category_name' : '상품분류명',\n",
    "                                                    'item_category_id' : '상품분류ID'})\n",
    "item_categories.head()"
   ],
   "metadata": {
    "collapsed": false,
    "pycharm": {
     "name": "#%%\n"
    }
   }
  },
  {
   "cell_type": "code",
   "execution_count": 123,
   "outputs": [
    {
     "data": {
      "text/plain": "   ID  상점ID  상품ID\n0   0     5  5037\n1   1     5  5320\n2   2     5  5233\n3   3     5  5232\n4   4     5  5268",
      "text/html": "<div>\n<style scoped>\n    .dataframe tbody tr th:only-of-type {\n        vertical-align: middle;\n    }\n\n    .dataframe tbody tr th {\n        vertical-align: top;\n    }\n\n    .dataframe thead th {\n        text-align: right;\n    }\n</style>\n<table border=\"1\" class=\"dataframe\">\n  <thead>\n    <tr style=\"text-align: right;\">\n      <th></th>\n      <th>ID</th>\n      <th>상점ID</th>\n      <th>상품ID</th>\n    </tr>\n  </thead>\n  <tbody>\n    <tr>\n      <th>0</th>\n      <td>0</td>\n      <td>5</td>\n      <td>5037</td>\n    </tr>\n    <tr>\n      <th>1</th>\n      <td>1</td>\n      <td>5</td>\n      <td>5320</td>\n    </tr>\n    <tr>\n      <th>2</th>\n      <td>2</td>\n      <td>5</td>\n      <td>5233</td>\n    </tr>\n    <tr>\n      <th>3</th>\n      <td>3</td>\n      <td>5</td>\n      <td>5232</td>\n    </tr>\n    <tr>\n      <th>4</th>\n      <td>4</td>\n      <td>5</td>\n      <td>5268</td>\n    </tr>\n  </tbody>\n</table>\n</div>"
     },
     "execution_count": 123,
     "metadata": {},
     "output_type": "execute_result"
    }
   ],
   "source": [
    "test = test.rename(columns = {'shop_id' : '상점ID',\n",
    "                              'item_id' : '상품ID'})\n",
    "test.head()"
   ],
   "metadata": {
    "collapsed": false,
    "pycharm": {
     "name": "#%%\n"
    }
   }
  },
  {
   "cell_type": "code",
   "execution_count": 124,
   "outputs": [],
   "source": [
    "def downcast(df, verbose=True):\n",
    "    start_mem = df.memory_usage().sum() / 1024**2\n",
    "    for col in df.columns:\n",
    "        dtype_name = df[col].dtype.name\n",
    "        if dtype_name == 'object':\n",
    "            pass\n",
    "        elif dtype_name == 'bool':\n",
    "            df[col] = df[col].astype('int8')\n",
    "        elif dtype_name.startswith('int') or (df[col].round() == df[col]).all():\n",
    "            df[col] = pd.to_numeric(df[col] , downcast= 'integer')\n",
    "        else:\n",
    "            df[col] = pd.to_numeric(df[col] , downcast ='float')\n",
    "\n",
    "    end_mem = df.memory_usage().sum() / 1024**2\n",
    "    if verbose:\n",
    "        print('{:.1f}% 압축됨'.format(100 * (start_mem - end_mem) / start_mem))\n",
    "\n",
    "    return df"
   ],
   "metadata": {
    "collapsed": false,
    "pycharm": {
     "name": "#%%\n"
    }
   }
  },
  {
   "cell_type": "code",
   "execution_count": 125,
   "outputs": [
    {
     "name": "stdout",
     "output_type": "stream",
     "text": [
      "62.5% 압축됨\n",
      "38.6% 압축됨\n",
      "54.2% 압축됨\n",
      "39.9% 압축됨\n",
      "70.8% 압축됨\n"
     ]
    }
   ],
   "source": [
    "all_df = [sales_train , shops , items , item_categories ,test]\n",
    "\n",
    "for df in all_df:\n",
    "    df= downcast(df)"
   ],
   "metadata": {
    "collapsed": false,
    "pycharm": {
     "name": "#%%\n"
    }
   }
  },
  {
   "cell_type": "code",
   "execution_count": 126,
   "outputs": [
    {
     "data": {
      "text/plain": "           날짜  월ID  상점ID   상품ID          판매가  판매량\n0  02.01.2013    0    59  22154   999.000000    1\n1  03.01.2013    0    25   2552   899.000000    1\n2  05.01.2013    0    25   2552   899.000000   -1\n3  06.01.2013    0    25   2554  1709.050049    1\n4  15.01.2013    0    25   2555  1099.000000    1",
      "text/html": "<div>\n<style scoped>\n    .dataframe tbody tr th:only-of-type {\n        vertical-align: middle;\n    }\n\n    .dataframe tbody tr th {\n        vertical-align: top;\n    }\n\n    .dataframe thead th {\n        text-align: right;\n    }\n</style>\n<table border=\"1\" class=\"dataframe\">\n  <thead>\n    <tr style=\"text-align: right;\">\n      <th></th>\n      <th>날짜</th>\n      <th>월ID</th>\n      <th>상점ID</th>\n      <th>상품ID</th>\n      <th>판매가</th>\n      <th>판매량</th>\n    </tr>\n  </thead>\n  <tbody>\n    <tr>\n      <th>0</th>\n      <td>02.01.2013</td>\n      <td>0</td>\n      <td>59</td>\n      <td>22154</td>\n      <td>999.000000</td>\n      <td>1</td>\n    </tr>\n    <tr>\n      <th>1</th>\n      <td>03.01.2013</td>\n      <td>0</td>\n      <td>25</td>\n      <td>2552</td>\n      <td>899.000000</td>\n      <td>1</td>\n    </tr>\n    <tr>\n      <th>2</th>\n      <td>05.01.2013</td>\n      <td>0</td>\n      <td>25</td>\n      <td>2552</td>\n      <td>899.000000</td>\n      <td>-1</td>\n    </tr>\n    <tr>\n      <th>3</th>\n      <td>06.01.2013</td>\n      <td>0</td>\n      <td>25</td>\n      <td>2554</td>\n      <td>1709.050049</td>\n      <td>1</td>\n    </tr>\n    <tr>\n      <th>4</th>\n      <td>15.01.2013</td>\n      <td>0</td>\n      <td>25</td>\n      <td>2555</td>\n      <td>1099.000000</td>\n      <td>1</td>\n    </tr>\n  </tbody>\n</table>\n</div>"
     },
     "execution_count": 126,
     "metadata": {},
     "output_type": "execute_result"
    }
   ],
   "source": [
    "sales_train.head()"
   ],
   "metadata": {
    "collapsed": false,
    "pycharm": {
     "name": "#%%\n"
    }
   }
  },
  {
   "cell_type": "markdown",
   "source": [
    "## 피처 엔지니어링 3 : 데이터 조합 생성"
   ],
   "metadata": {
    "collapsed": false,
    "pycharm": {
     "name": "#%% md\n"
    }
   }
  },
  {
   "cell_type": "code",
   "execution_count": 127,
   "outputs": [
    {
     "data": {
      "text/plain": "          월ID  상점ID   상품ID\n0           0    59  22154\n1           0    59   2552\n2           0    59   2554\n3           0    59   2555\n4           0    59   2564\n...       ...   ...    ...\n10913845   33    21   7635\n10913846   33    21   7638\n10913847   33    21   7640\n10913848   33    21   7632\n10913849   33    21   7440\n\n[10913850 rows x 3 columns]",
      "text/html": "<div>\n<style scoped>\n    .dataframe tbody tr th:only-of-type {\n        vertical-align: middle;\n    }\n\n    .dataframe tbody tr th {\n        vertical-align: top;\n    }\n\n    .dataframe thead th {\n        text-align: right;\n    }\n</style>\n<table border=\"1\" class=\"dataframe\">\n  <thead>\n    <tr style=\"text-align: right;\">\n      <th></th>\n      <th>월ID</th>\n      <th>상점ID</th>\n      <th>상품ID</th>\n    </tr>\n  </thead>\n  <tbody>\n    <tr>\n      <th>0</th>\n      <td>0</td>\n      <td>59</td>\n      <td>22154</td>\n    </tr>\n    <tr>\n      <th>1</th>\n      <td>0</td>\n      <td>59</td>\n      <td>2552</td>\n    </tr>\n    <tr>\n      <th>2</th>\n      <td>0</td>\n      <td>59</td>\n      <td>2554</td>\n    </tr>\n    <tr>\n      <th>3</th>\n      <td>0</td>\n      <td>59</td>\n      <td>2555</td>\n    </tr>\n    <tr>\n      <th>4</th>\n      <td>0</td>\n      <td>59</td>\n      <td>2564</td>\n    </tr>\n    <tr>\n      <th>...</th>\n      <td>...</td>\n      <td>...</td>\n      <td>...</td>\n    </tr>\n    <tr>\n      <th>10913845</th>\n      <td>33</td>\n      <td>21</td>\n      <td>7635</td>\n    </tr>\n    <tr>\n      <th>10913846</th>\n      <td>33</td>\n      <td>21</td>\n      <td>7638</td>\n    </tr>\n    <tr>\n      <th>10913847</th>\n      <td>33</td>\n      <td>21</td>\n      <td>7640</td>\n    </tr>\n    <tr>\n      <th>10913848</th>\n      <td>33</td>\n      <td>21</td>\n      <td>7632</td>\n    </tr>\n    <tr>\n      <th>10913849</th>\n      <td>33</td>\n      <td>21</td>\n      <td>7440</td>\n    </tr>\n  </tbody>\n</table>\n<p>10913850 rows × 3 columns</p>\n</div>"
     },
     "execution_count": 127,
     "metadata": {},
     "output_type": "execute_result"
    }
   ],
   "source": [
    "from itertools import product\n",
    "import numpy as np\n",
    "\n",
    "train = []\n",
    "\n",
    "# 월 ID , 상점 ID , 상품 ID 조합 생성\n",
    "for i in sales_train['월ID'].unique():\n",
    "    all_shop = sales_train.loc[sales_train['월ID'] == i,  '상점ID'].unique()\n",
    "    all_item = sales_train.loc[sales_train['월ID'] == i , '상품ID'].unique()\n",
    "    train.append(np.array(list(product([i] , all_shop , all_item))))\n",
    "\n",
    "idx_features = ['월ID' , '상점ID' , '상품ID'] # 기준 피처\n",
    "\n",
    "# 리스트 타입인 train을 DataFrame으로 변환\n",
    "\n",
    "train = pd.DataFrame(np.vstack(train) , columns= idx_features)\n",
    "\n",
    "train"
   ],
   "metadata": {
    "collapsed": false,
    "pycharm": {
     "name": "#%%\n"
    }
   }
  },
  {
   "cell_type": "code",
   "execution_count": 128,
   "outputs": [
    {
     "data": {
      "text/plain": "         월ID  상점ID   상품ID  월간 판매량\n0          0     0     32       6\n1          0     0     33       3\n2          0     0     35       1\n3          0     0     43       1\n4          0     0     51       2\n...      ...   ...    ...     ...\n1609119   33    59  22087       6\n1609120   33    59  22088       2\n1609121   33    59  22091       1\n1609122   33    59  22100       1\n1609123   33    59  22102       1\n\n[1609124 rows x 4 columns]",
      "text/html": "<div>\n<style scoped>\n    .dataframe tbody tr th:only-of-type {\n        vertical-align: middle;\n    }\n\n    .dataframe tbody tr th {\n        vertical-align: top;\n    }\n\n    .dataframe thead th {\n        text-align: right;\n    }\n</style>\n<table border=\"1\" class=\"dataframe\">\n  <thead>\n    <tr style=\"text-align: right;\">\n      <th></th>\n      <th>월ID</th>\n      <th>상점ID</th>\n      <th>상품ID</th>\n      <th>월간 판매량</th>\n    </tr>\n  </thead>\n  <tbody>\n    <tr>\n      <th>0</th>\n      <td>0</td>\n      <td>0</td>\n      <td>32</td>\n      <td>6</td>\n    </tr>\n    <tr>\n      <th>1</th>\n      <td>0</td>\n      <td>0</td>\n      <td>33</td>\n      <td>3</td>\n    </tr>\n    <tr>\n      <th>2</th>\n      <td>0</td>\n      <td>0</td>\n      <td>35</td>\n      <td>1</td>\n    </tr>\n    <tr>\n      <th>3</th>\n      <td>0</td>\n      <td>0</td>\n      <td>43</td>\n      <td>1</td>\n    </tr>\n    <tr>\n      <th>4</th>\n      <td>0</td>\n      <td>0</td>\n      <td>51</td>\n      <td>2</td>\n    </tr>\n    <tr>\n      <th>...</th>\n      <td>...</td>\n      <td>...</td>\n      <td>...</td>\n      <td>...</td>\n    </tr>\n    <tr>\n      <th>1609119</th>\n      <td>33</td>\n      <td>59</td>\n      <td>22087</td>\n      <td>6</td>\n    </tr>\n    <tr>\n      <th>1609120</th>\n      <td>33</td>\n      <td>59</td>\n      <td>22088</td>\n      <td>2</td>\n    </tr>\n    <tr>\n      <th>1609121</th>\n      <td>33</td>\n      <td>59</td>\n      <td>22091</td>\n      <td>1</td>\n    </tr>\n    <tr>\n      <th>1609122</th>\n      <td>33</td>\n      <td>59</td>\n      <td>22100</td>\n      <td>1</td>\n    </tr>\n    <tr>\n      <th>1609123</th>\n      <td>33</td>\n      <td>59</td>\n      <td>22102</td>\n      <td>1</td>\n    </tr>\n  </tbody>\n</table>\n<p>1609124 rows × 4 columns</p>\n</div>"
     },
     "execution_count": 128,
     "metadata": {},
     "output_type": "execute_result"
    }
   ],
   "source": [
    "# idx_features를 기준으로 그룹화해 판매량 합 구하기\n",
    "\n",
    "group = sales_train.groupby(idx_features).agg({'판매량' : 'sum'})\n",
    "\n",
    "# 인덱스 재설정\n",
    "group = group.reset_index()\n",
    "\n",
    "# 피처명을 '판매량'에서 '월간 판매량'으로 변경\n",
    "group = group.rename(columns = {'판매량' : '월간 판매량'})\n",
    "group"
   ],
   "metadata": {
    "collapsed": false,
    "pycharm": {
     "name": "#%%\n"
    }
   }
  },
  {
   "cell_type": "code",
   "execution_count": 129,
   "outputs": [
    {
     "data": {
      "text/plain": "          월ID  상점ID   상품ID  월간 판매량\n0           0    59  22154     1.0\n1           0    59   2552     NaN\n2           0    59   2554     NaN\n3           0    59   2555     NaN\n4           0    59   2564     NaN\n...       ...   ...    ...     ...\n10913845   33    21   7635     NaN\n10913846   33    21   7638     NaN\n10913847   33    21   7640     NaN\n10913848   33    21   7632     NaN\n10913849   33    21   7440     NaN\n\n[10913850 rows x 4 columns]",
      "text/html": "<div>\n<style scoped>\n    .dataframe tbody tr th:only-of-type {\n        vertical-align: middle;\n    }\n\n    .dataframe tbody tr th {\n        vertical-align: top;\n    }\n\n    .dataframe thead th {\n        text-align: right;\n    }\n</style>\n<table border=\"1\" class=\"dataframe\">\n  <thead>\n    <tr style=\"text-align: right;\">\n      <th></th>\n      <th>월ID</th>\n      <th>상점ID</th>\n      <th>상품ID</th>\n      <th>월간 판매량</th>\n    </tr>\n  </thead>\n  <tbody>\n    <tr>\n      <th>0</th>\n      <td>0</td>\n      <td>59</td>\n      <td>22154</td>\n      <td>1.0</td>\n    </tr>\n    <tr>\n      <th>1</th>\n      <td>0</td>\n      <td>59</td>\n      <td>2552</td>\n      <td>NaN</td>\n    </tr>\n    <tr>\n      <th>2</th>\n      <td>0</td>\n      <td>59</td>\n      <td>2554</td>\n      <td>NaN</td>\n    </tr>\n    <tr>\n      <th>3</th>\n      <td>0</td>\n      <td>59</td>\n      <td>2555</td>\n      <td>NaN</td>\n    </tr>\n    <tr>\n      <th>4</th>\n      <td>0</td>\n      <td>59</td>\n      <td>2564</td>\n      <td>NaN</td>\n    </tr>\n    <tr>\n      <th>...</th>\n      <td>...</td>\n      <td>...</td>\n      <td>...</td>\n      <td>...</td>\n    </tr>\n    <tr>\n      <th>10913845</th>\n      <td>33</td>\n      <td>21</td>\n      <td>7635</td>\n      <td>NaN</td>\n    </tr>\n    <tr>\n      <th>10913846</th>\n      <td>33</td>\n      <td>21</td>\n      <td>7638</td>\n      <td>NaN</td>\n    </tr>\n    <tr>\n      <th>10913847</th>\n      <td>33</td>\n      <td>21</td>\n      <td>7640</td>\n      <td>NaN</td>\n    </tr>\n    <tr>\n      <th>10913848</th>\n      <td>33</td>\n      <td>21</td>\n      <td>7632</td>\n      <td>NaN</td>\n    </tr>\n    <tr>\n      <th>10913849</th>\n      <td>33</td>\n      <td>21</td>\n      <td>7440</td>\n      <td>NaN</td>\n    </tr>\n  </tbody>\n</table>\n<p>10913850 rows × 4 columns</p>\n</div>"
     },
     "execution_count": 129,
     "metadata": {},
     "output_type": "execute_result"
    }
   ],
   "source": [
    "# train과 group 병합하기\n",
    "\n",
    "train = train.merge(group, on=idx_features , how = 'left')\n",
    "\n",
    "train"
   ],
   "metadata": {
    "collapsed": false,
    "pycharm": {
     "name": "#%%\n"
    }
   }
  },
  {
   "cell_type": "code",
   "execution_count": 130,
   "outputs": [],
   "source": [
    "test['월ID'] = 34"
   ],
   "metadata": {
    "collapsed": false,
    "pycharm": {
     "name": "#%%\n"
    }
   }
  },
  {
   "cell_type": "code",
   "execution_count": 131,
   "outputs": [],
   "source": [
    "# train과 test 이어붙이기\n",
    "all_data = pd.concat([train , test.drop('ID' , axis = 1)],\n",
    "                     ignore_index= True, # 기존 인덱스 무시(0부터 새로 시작)\n",
    "                     keys = idx_features) # 이어붙이는 기준이 되는 피처"
   ],
   "metadata": {
    "collapsed": false,
    "pycharm": {
     "name": "#%%\n"
    }
   }
  },
  {
   "cell_type": "code",
   "execution_count": 132,
   "outputs": [
    {
     "data": {
      "text/plain": "          월ID  상점ID   상품ID  월간 판매량\n0           0    59  22154     1.0\n1           0    59   2552     0.0\n2           0    59   2554     0.0\n3           0    59   2555     0.0\n4           0    59   2564     0.0\n...       ...   ...    ...     ...\n11128045   34    45  18454     0.0\n11128046   34    45  16188     0.0\n11128047   34    45  15757     0.0\n11128048   34    45  19648     0.0\n11128049   34    45    969     0.0\n\n[11128050 rows x 4 columns]",
      "text/html": "<div>\n<style scoped>\n    .dataframe tbody tr th:only-of-type {\n        vertical-align: middle;\n    }\n\n    .dataframe tbody tr th {\n        vertical-align: top;\n    }\n\n    .dataframe thead th {\n        text-align: right;\n    }\n</style>\n<table border=\"1\" class=\"dataframe\">\n  <thead>\n    <tr style=\"text-align: right;\">\n      <th></th>\n      <th>월ID</th>\n      <th>상점ID</th>\n      <th>상품ID</th>\n      <th>월간 판매량</th>\n    </tr>\n  </thead>\n  <tbody>\n    <tr>\n      <th>0</th>\n      <td>0</td>\n      <td>59</td>\n      <td>22154</td>\n      <td>1.0</td>\n    </tr>\n    <tr>\n      <th>1</th>\n      <td>0</td>\n      <td>59</td>\n      <td>2552</td>\n      <td>0.0</td>\n    </tr>\n    <tr>\n      <th>2</th>\n      <td>0</td>\n      <td>59</td>\n      <td>2554</td>\n      <td>0.0</td>\n    </tr>\n    <tr>\n      <th>3</th>\n      <td>0</td>\n      <td>59</td>\n      <td>2555</td>\n      <td>0.0</td>\n    </tr>\n    <tr>\n      <th>4</th>\n      <td>0</td>\n      <td>59</td>\n      <td>2564</td>\n      <td>0.0</td>\n    </tr>\n    <tr>\n      <th>...</th>\n      <td>...</td>\n      <td>...</td>\n      <td>...</td>\n      <td>...</td>\n    </tr>\n    <tr>\n      <th>11128045</th>\n      <td>34</td>\n      <td>45</td>\n      <td>18454</td>\n      <td>0.0</td>\n    </tr>\n    <tr>\n      <th>11128046</th>\n      <td>34</td>\n      <td>45</td>\n      <td>16188</td>\n      <td>0.0</td>\n    </tr>\n    <tr>\n      <th>11128047</th>\n      <td>34</td>\n      <td>45</td>\n      <td>15757</td>\n      <td>0.0</td>\n    </tr>\n    <tr>\n      <th>11128048</th>\n      <td>34</td>\n      <td>45</td>\n      <td>19648</td>\n      <td>0.0</td>\n    </tr>\n    <tr>\n      <th>11128049</th>\n      <td>34</td>\n      <td>45</td>\n      <td>969</td>\n      <td>0.0</td>\n    </tr>\n  </tbody>\n</table>\n<p>11128050 rows × 4 columns</p>\n</div>"
     },
     "execution_count": 132,
     "metadata": {},
     "output_type": "execute_result"
    }
   ],
   "source": [
    "all_data = all_data.fillna(0)\n",
    "\n",
    "all_data"
   ],
   "metadata": {
    "collapsed": false,
    "pycharm": {
     "name": "#%%\n"
    }
   }
  },
  {
   "cell_type": "markdown",
   "source": [],
   "metadata": {
    "collapsed": false,
    "pycharm": {
     "name": "#%% md\n"
    }
   }
  },
  {
   "cell_type": "markdown",
   "source": [
    "## 피처 엔지니어링 5 : 나머지 데이터 병합"
   ],
   "metadata": {
    "collapsed": false,
    "pycharm": {
     "name": "#%% md\n"
    }
   }
  },
  {
   "cell_type": "code",
   "execution_count": 133,
   "outputs": [
    {
     "data": {
      "text/plain": "          월ID  상점ID   상품ID  월간 판매량                     상점명  \\\n0           0    59  22154     1.0  Ярославль ТЦ \"Альтаир\"   \n1           0    59   2552     0.0  Ярославль ТЦ \"Альтаир\"   \n2           0    59   2554     0.0  Ярославль ТЦ \"Альтаир\"   \n3           0    59   2555     0.0  Ярославль ТЦ \"Альтаир\"   \n4           0    59   2564     0.0  Ярославль ТЦ \"Альтаир\"   \n...       ...   ...    ...     ...                     ...   \n11128045   34    45  18454     0.0    Самара ТЦ \"ПаркХаус\"   \n11128046   34    45  16188     0.0    Самара ТЦ \"ПаркХаус\"   \n11128047   34    45  15757     0.0    Самара ТЦ \"ПаркХаус\"   \n11128048   34    45  19648     0.0    Самара ТЦ \"ПаркХаус\"   \n11128049   34    45    969     0.0    Самара ТЦ \"ПаркХаус\"   \n\n                                                        상품명  상품분류ID  \\\n0                                         ЯВЛЕНИЕ 2012 (BD)      37   \n1                  DEEP PURPLE  The House Of Blue Light  LP      58   \n2                  DEEP PURPLE  Who Do You Think We Are  LP      58   \n3                   DEEP PURPLE 30 Very Best Of 2CD (Фирм.)      56   \n4         DEEP PURPLE Perihelion: Live In Concert DVD (К...      59   \n...                                                     ...     ...   \n11128045                                        СБ. Союз 55      55   \n11128046                       Настольная игра Нано Кёрлинг      64   \n11128047                 НОВИКОВ АЛЕКСАНДР  Новая коллекция      55   \n11128048                    ТЕРЕМ - ТЕРЕМОК сб.м/ф (Регион)      40   \n11128049                             3 ДНЯ НА УБИЙСТВО (BD)      37   \n\n                                        상품분류명  \n0                              Кино - Blu-Ray  \n1                              Музыка - Винил  \n2                              Музыка - Винил  \n3         Музыка - CD фирменного производства  \n4                  Музыка - Музыкальное видео  \n...                                       ...  \n11128045  Музыка - CD локального производства  \n11128046            Подарки - Настольные игры  \n11128047  Музыка - CD локального производства  \n11128048                           Кино - DVD  \n11128049                       Кино - Blu-Ray  \n\n[11128050 rows x 8 columns]",
      "text/html": "<div>\n<style scoped>\n    .dataframe tbody tr th:only-of-type {\n        vertical-align: middle;\n    }\n\n    .dataframe tbody tr th {\n        vertical-align: top;\n    }\n\n    .dataframe thead th {\n        text-align: right;\n    }\n</style>\n<table border=\"1\" class=\"dataframe\">\n  <thead>\n    <tr style=\"text-align: right;\">\n      <th></th>\n      <th>월ID</th>\n      <th>상점ID</th>\n      <th>상품ID</th>\n      <th>월간 판매량</th>\n      <th>상점명</th>\n      <th>상품명</th>\n      <th>상품분류ID</th>\n      <th>상품분류명</th>\n    </tr>\n  </thead>\n  <tbody>\n    <tr>\n      <th>0</th>\n      <td>0</td>\n      <td>59</td>\n      <td>22154</td>\n      <td>1.0</td>\n      <td>Ярославль ТЦ \"Альтаир\"</td>\n      <td>ЯВЛЕНИЕ 2012 (BD)</td>\n      <td>37</td>\n      <td>Кино - Blu-Ray</td>\n    </tr>\n    <tr>\n      <th>1</th>\n      <td>0</td>\n      <td>59</td>\n      <td>2552</td>\n      <td>0.0</td>\n      <td>Ярославль ТЦ \"Альтаир\"</td>\n      <td>DEEP PURPLE  The House Of Blue Light  LP</td>\n      <td>58</td>\n      <td>Музыка - Винил</td>\n    </tr>\n    <tr>\n      <th>2</th>\n      <td>0</td>\n      <td>59</td>\n      <td>2554</td>\n      <td>0.0</td>\n      <td>Ярославль ТЦ \"Альтаир\"</td>\n      <td>DEEP PURPLE  Who Do You Think We Are  LP</td>\n      <td>58</td>\n      <td>Музыка - Винил</td>\n    </tr>\n    <tr>\n      <th>3</th>\n      <td>0</td>\n      <td>59</td>\n      <td>2555</td>\n      <td>0.0</td>\n      <td>Ярославль ТЦ \"Альтаир\"</td>\n      <td>DEEP PURPLE 30 Very Best Of 2CD (Фирм.)</td>\n      <td>56</td>\n      <td>Музыка - CD фирменного производства</td>\n    </tr>\n    <tr>\n      <th>4</th>\n      <td>0</td>\n      <td>59</td>\n      <td>2564</td>\n      <td>0.0</td>\n      <td>Ярославль ТЦ \"Альтаир\"</td>\n      <td>DEEP PURPLE Perihelion: Live In Concert DVD (К...</td>\n      <td>59</td>\n      <td>Музыка - Музыкальное видео</td>\n    </tr>\n    <tr>\n      <th>...</th>\n      <td>...</td>\n      <td>...</td>\n      <td>...</td>\n      <td>...</td>\n      <td>...</td>\n      <td>...</td>\n      <td>...</td>\n      <td>...</td>\n    </tr>\n    <tr>\n      <th>11128045</th>\n      <td>34</td>\n      <td>45</td>\n      <td>18454</td>\n      <td>0.0</td>\n      <td>Самара ТЦ \"ПаркХаус\"</td>\n      <td>СБ. Союз 55</td>\n      <td>55</td>\n      <td>Музыка - CD локального производства</td>\n    </tr>\n    <tr>\n      <th>11128046</th>\n      <td>34</td>\n      <td>45</td>\n      <td>16188</td>\n      <td>0.0</td>\n      <td>Самара ТЦ \"ПаркХаус\"</td>\n      <td>Настольная игра Нано Кёрлинг</td>\n      <td>64</td>\n      <td>Подарки - Настольные игры</td>\n    </tr>\n    <tr>\n      <th>11128047</th>\n      <td>34</td>\n      <td>45</td>\n      <td>15757</td>\n      <td>0.0</td>\n      <td>Самара ТЦ \"ПаркХаус\"</td>\n      <td>НОВИКОВ АЛЕКСАНДР  Новая коллекция</td>\n      <td>55</td>\n      <td>Музыка - CD локального производства</td>\n    </tr>\n    <tr>\n      <th>11128048</th>\n      <td>34</td>\n      <td>45</td>\n      <td>19648</td>\n      <td>0.0</td>\n      <td>Самара ТЦ \"ПаркХаус\"</td>\n      <td>ТЕРЕМ - ТЕРЕМОК сб.м/ф (Регион)</td>\n      <td>40</td>\n      <td>Кино - DVD</td>\n    </tr>\n    <tr>\n      <th>11128049</th>\n      <td>34</td>\n      <td>45</td>\n      <td>969</td>\n      <td>0.0</td>\n      <td>Самара ТЦ \"ПаркХаус\"</td>\n      <td>3 ДНЯ НА УБИЙСТВО (BD)</td>\n      <td>37</td>\n      <td>Кино - Blu-Ray</td>\n    </tr>\n  </tbody>\n</table>\n<p>11128050 rows × 8 columns</p>\n</div>"
     },
     "execution_count": 133,
     "metadata": {},
     "output_type": "execute_result"
    }
   ],
   "source": [
    "# 나머지 데이터 병합\n",
    "\n",
    "all_data = all_data.merge(shops , on = '상점ID' , how = 'left')\n",
    "all_data = all_data.merge(items , on = '상품ID' , how = 'left')\n",
    "all_data = all_data.merge(item_categories , on ='상품분류ID' , how = 'left')\n",
    "all_data"
   ],
   "metadata": {
    "collapsed": false,
    "pycharm": {
     "name": "#%%\n"
    }
   }
  },
  {
   "cell_type": "code",
   "execution_count": 134,
   "outputs": [
    {
     "data": {
      "text/plain": "                        상품분류명  상품분류ID\n0     PC - Гарнитуры/Наушники       0\n1            Аксессуары - PS2       1\n2            Аксессуары - PS3       2\n3            Аксессуары - PS4       3\n4            Аксессуары - PSP       4\n..                        ...     ...\n79                  Служебные      79\n80         Служебные - Билеты      80\n81    Чистые носители (шпиль)      81\n82  Чистые носители (штучные)      82\n83           Элементы питания      83\n\n[84 rows x 2 columns]",
      "text/html": "<div>\n<style scoped>\n    .dataframe tbody tr th:only-of-type {\n        vertical-align: middle;\n    }\n\n    .dataframe tbody tr th {\n        vertical-align: top;\n    }\n\n    .dataframe thead th {\n        text-align: right;\n    }\n</style>\n<table border=\"1\" class=\"dataframe\">\n  <thead>\n    <tr style=\"text-align: right;\">\n      <th></th>\n      <th>상품분류명</th>\n      <th>상품분류ID</th>\n    </tr>\n  </thead>\n  <tbody>\n    <tr>\n      <th>0</th>\n      <td>PC - Гарнитуры/Наушники</td>\n      <td>0</td>\n    </tr>\n    <tr>\n      <th>1</th>\n      <td>Аксессуары - PS2</td>\n      <td>1</td>\n    </tr>\n    <tr>\n      <th>2</th>\n      <td>Аксессуары - PS3</td>\n      <td>2</td>\n    </tr>\n    <tr>\n      <th>3</th>\n      <td>Аксессуары - PS4</td>\n      <td>3</td>\n    </tr>\n    <tr>\n      <th>4</th>\n      <td>Аксессуары - PSP</td>\n      <td>4</td>\n    </tr>\n    <tr>\n      <th>...</th>\n      <td>...</td>\n      <td>...</td>\n    </tr>\n    <tr>\n      <th>79</th>\n      <td>Служебные</td>\n      <td>79</td>\n    </tr>\n    <tr>\n      <th>80</th>\n      <td>Служебные - Билеты</td>\n      <td>80</td>\n    </tr>\n    <tr>\n      <th>81</th>\n      <td>Чистые носители (шпиль)</td>\n      <td>81</td>\n    </tr>\n    <tr>\n      <th>82</th>\n      <td>Чистые носители (штучные)</td>\n      <td>82</td>\n    </tr>\n    <tr>\n      <th>83</th>\n      <td>Элементы питания</td>\n      <td>83</td>\n    </tr>\n  </tbody>\n</table>\n<p>84 rows × 2 columns</p>\n</div>"
     },
     "execution_count": 134,
     "metadata": {},
     "output_type": "execute_result"
    }
   ],
   "source": [
    "item_categories"
   ],
   "metadata": {
    "collapsed": false,
    "pycharm": {
     "name": "#%%\n"
    }
   }
  },
  {
   "cell_type": "markdown",
   "source": [],
   "metadata": {
    "collapsed": false,
    "pycharm": {
     "name": "#%% md\n"
    }
   }
  },
  {
   "cell_type": "code",
   "execution_count": 135,
   "outputs": [
    {
     "name": "stdout",
     "output_type": "stream",
     "text": [
      "26.4% 압축됨\n"
     ]
    },
    {
     "data": {
      "text/plain": "30"
     },
     "execution_count": 135,
     "metadata": {},
     "output_type": "execute_result"
    }
   ],
   "source": [
    "\n",
    "\n",
    "# 데이터 다운캐스팅\n",
    "\n",
    "all_data = downcast(all_data)\n",
    "\n",
    "# 가비지 컬렉션\n",
    "\n",
    "del shops, items, item_categories\n",
    "gc.collect()"
   ],
   "metadata": {
    "collapsed": false,
    "pycharm": {
     "name": "#%%\n"
    }
   }
  },
  {
   "cell_type": "code",
   "execution_count": 136,
   "outputs": [
    {
     "data": {
      "text/plain": "   월ID  상점ID   상품ID  월간 판매량                     상점명  \\\n0    0    59  22154       1  Ярославль ТЦ \"Альтаир\"   \n1    0    59   2552       0  Ярославль ТЦ \"Альтаир\"   \n2    0    59   2554       0  Ярославль ТЦ \"Альтаир\"   \n3    0    59   2555       0  Ярославль ТЦ \"Альтаир\"   \n4    0    59   2564       0  Ярославль ТЦ \"Альтаир\"   \n\n                                                 상품명  상품분류ID  \\\n0                                  ЯВЛЕНИЕ 2012 (BD)      37   \n1           DEEP PURPLE  The House Of Blue Light  LP      58   \n2           DEEP PURPLE  Who Do You Think We Are  LP      58   \n3            DEEP PURPLE 30 Very Best Of 2CD (Фирм.)      56   \n4  DEEP PURPLE Perihelion: Live In Concert DVD (К...      59   \n\n                                 상품분류명  \n0                       Кино - Blu-Ray  \n1                       Музыка - Винил  \n2                       Музыка - Винил  \n3  Музыка - CD фирменного производства  \n4           Музыка - Музыкальное видео  ",
      "text/html": "<div>\n<style scoped>\n    .dataframe tbody tr th:only-of-type {\n        vertical-align: middle;\n    }\n\n    .dataframe tbody tr th {\n        vertical-align: top;\n    }\n\n    .dataframe thead th {\n        text-align: right;\n    }\n</style>\n<table border=\"1\" class=\"dataframe\">\n  <thead>\n    <tr style=\"text-align: right;\">\n      <th></th>\n      <th>월ID</th>\n      <th>상점ID</th>\n      <th>상품ID</th>\n      <th>월간 판매량</th>\n      <th>상점명</th>\n      <th>상품명</th>\n      <th>상품분류ID</th>\n      <th>상품분류명</th>\n    </tr>\n  </thead>\n  <tbody>\n    <tr>\n      <th>0</th>\n      <td>0</td>\n      <td>59</td>\n      <td>22154</td>\n      <td>1</td>\n      <td>Ярославль ТЦ \"Альтаир\"</td>\n      <td>ЯВЛЕНИЕ 2012 (BD)</td>\n      <td>37</td>\n      <td>Кино - Blu-Ray</td>\n    </tr>\n    <tr>\n      <th>1</th>\n      <td>0</td>\n      <td>59</td>\n      <td>2552</td>\n      <td>0</td>\n      <td>Ярославль ТЦ \"Альтаир\"</td>\n      <td>DEEP PURPLE  The House Of Blue Light  LP</td>\n      <td>58</td>\n      <td>Музыка - Винил</td>\n    </tr>\n    <tr>\n      <th>2</th>\n      <td>0</td>\n      <td>59</td>\n      <td>2554</td>\n      <td>0</td>\n      <td>Ярославль ТЦ \"Альтаир\"</td>\n      <td>DEEP PURPLE  Who Do You Think We Are  LP</td>\n      <td>58</td>\n      <td>Музыка - Винил</td>\n    </tr>\n    <tr>\n      <th>3</th>\n      <td>0</td>\n      <td>59</td>\n      <td>2555</td>\n      <td>0</td>\n      <td>Ярославль ТЦ \"Альтаир\"</td>\n      <td>DEEP PURPLE 30 Very Best Of 2CD (Фирм.)</td>\n      <td>56</td>\n      <td>Музыка - CD фирменного производства</td>\n    </tr>\n    <tr>\n      <th>4</th>\n      <td>0</td>\n      <td>59</td>\n      <td>2564</td>\n      <td>0</td>\n      <td>Ярославль ТЦ \"Альтаир\"</td>\n      <td>DEEP PURPLE Perihelion: Live In Concert DVD (К...</td>\n      <td>59</td>\n      <td>Музыка - Музыкальное видео</td>\n    </tr>\n  </tbody>\n</table>\n</div>"
     },
     "execution_count": 136,
     "metadata": {},
     "output_type": "execute_result"
    }
   ],
   "source": [
    "all_data.head()"
   ],
   "metadata": {
    "collapsed": false,
    "pycharm": {
     "name": "#%%\n"
    }
   }
  },
  {
   "cell_type": "code",
   "execution_count": 137,
   "outputs": [
    {
     "data": {
      "text/plain": "   월ID  상점ID   상품ID  월간 판매량  상품분류ID\n0    0    59  22154       1      37\n1    0    59   2552       0      58\n2    0    59   2554       0      58\n3    0    59   2555       0      56\n4    0    59   2564       0      59",
      "text/html": "<div>\n<style scoped>\n    .dataframe tbody tr th:only-of-type {\n        vertical-align: middle;\n    }\n\n    .dataframe tbody tr th {\n        vertical-align: top;\n    }\n\n    .dataframe thead th {\n        text-align: right;\n    }\n</style>\n<table border=\"1\" class=\"dataframe\">\n  <thead>\n    <tr style=\"text-align: right;\">\n      <th></th>\n      <th>월ID</th>\n      <th>상점ID</th>\n      <th>상품ID</th>\n      <th>월간 판매량</th>\n      <th>상품분류ID</th>\n    </tr>\n  </thead>\n  <tbody>\n    <tr>\n      <th>0</th>\n      <td>0</td>\n      <td>59</td>\n      <td>22154</td>\n      <td>1</td>\n      <td>37</td>\n    </tr>\n    <tr>\n      <th>1</th>\n      <td>0</td>\n      <td>59</td>\n      <td>2552</td>\n      <td>0</td>\n      <td>58</td>\n    </tr>\n    <tr>\n      <th>2</th>\n      <td>0</td>\n      <td>59</td>\n      <td>2554</td>\n      <td>0</td>\n      <td>58</td>\n    </tr>\n    <tr>\n      <th>3</th>\n      <td>0</td>\n      <td>59</td>\n      <td>2555</td>\n      <td>0</td>\n      <td>56</td>\n    </tr>\n    <tr>\n      <th>4</th>\n      <td>0</td>\n      <td>59</td>\n      <td>2564</td>\n      <td>0</td>\n      <td>59</td>\n    </tr>\n  </tbody>\n</table>\n</div>"
     },
     "execution_count": 137,
     "metadata": {},
     "output_type": "execute_result"
    }
   ],
   "source": [
    "all_data = all_data.drop(['상점명' , '상품명' , '상품분류명'] , axis =1 ) # 상점ID, 상품ID, 상품분류ID와 상점명,상품명,상품분류명과 매칭되므로 제거해도 된다.\n",
    "\n",
    "all_data.head()"
   ],
   "metadata": {
    "collapsed": false,
    "pycharm": {
     "name": "#%%\n"
    }
   }
  },
  {
   "cell_type": "markdown",
   "source": [
    "## 피처 엔지니어링 6"
   ],
   "metadata": {
    "collapsed": false,
    "pycharm": {
     "name": "#%% md\n"
    }
   }
  },
  {
   "cell_type": "code",
   "execution_count": 138,
   "outputs": [],
   "source": [
    "# 훈련 데이터(피처)\n",
    "X_train = all_data[all_data['월ID'] < 33]\n",
    "X_train = X_train.drop(['월간 판매량'], axis =1)\n",
    "\n",
    "# 검증 데이터(피처)\n",
    "X_valid = all_data[all_data['월ID'] == 33]\n",
    "X_valid = X_valid.drop(['월간 판매량'], axis = 1)\n",
    "\n",
    "# 테스트 데이터(피처)\n",
    "X_test = all_data[all_data['월ID'] == 34]\n",
    "X_test = X_test.drop(['월간 판매량'], axis = 1)\n",
    "\n",
    "# 훈련 데이터 (타깃값)\n",
    "y_train = all_data[all_data['월ID']<33]['월간 판매량']\n",
    "y_train = y_train.clip(0,20) # 타깃값을 0~20으로 제한 , 하한값과 상한값을 잘라준다\n",
    "\n",
    "# 검증 데이터 (타깃값)\n",
    "y_valid = all_data[all_data['월ID'] ==33]['월간 판매량']\n",
    "y_valid = y_valid.clip(0,20)"
   ],
   "metadata": {
    "collapsed": false,
    "pycharm": {
     "name": "#%%\n"
    }
   }
  },
  {
   "cell_type": "code",
   "execution_count": 139,
   "outputs": [
    {
     "data": {
      "text/plain": "          월ID  상점ID   상품ID  상품분류ID\n0           0    59  22154      37\n1           0    59   2552      58\n2           0    59   2554      58\n3           0    59   2555      56\n4           0    59   2564      59\n...       ...   ...    ...     ...\n10675673   32    27  21279      61\n10675674   32    27  21283      61\n10675675   32    27  21352      37\n10675676   32    27  21284      61\n10675677   32    27  21105      61\n\n[10675678 rows x 4 columns]",
      "text/html": "<div>\n<style scoped>\n    .dataframe tbody tr th:only-of-type {\n        vertical-align: middle;\n    }\n\n    .dataframe tbody tr th {\n        vertical-align: top;\n    }\n\n    .dataframe thead th {\n        text-align: right;\n    }\n</style>\n<table border=\"1\" class=\"dataframe\">\n  <thead>\n    <tr style=\"text-align: right;\">\n      <th></th>\n      <th>월ID</th>\n      <th>상점ID</th>\n      <th>상품ID</th>\n      <th>상품분류ID</th>\n    </tr>\n  </thead>\n  <tbody>\n    <tr>\n      <th>0</th>\n      <td>0</td>\n      <td>59</td>\n      <td>22154</td>\n      <td>37</td>\n    </tr>\n    <tr>\n      <th>1</th>\n      <td>0</td>\n      <td>59</td>\n      <td>2552</td>\n      <td>58</td>\n    </tr>\n    <tr>\n      <th>2</th>\n      <td>0</td>\n      <td>59</td>\n      <td>2554</td>\n      <td>58</td>\n    </tr>\n    <tr>\n      <th>3</th>\n      <td>0</td>\n      <td>59</td>\n      <td>2555</td>\n      <td>56</td>\n    </tr>\n    <tr>\n      <th>4</th>\n      <td>0</td>\n      <td>59</td>\n      <td>2564</td>\n      <td>59</td>\n    </tr>\n    <tr>\n      <th>...</th>\n      <td>...</td>\n      <td>...</td>\n      <td>...</td>\n      <td>...</td>\n    </tr>\n    <tr>\n      <th>10675673</th>\n      <td>32</td>\n      <td>27</td>\n      <td>21279</td>\n      <td>61</td>\n    </tr>\n    <tr>\n      <th>10675674</th>\n      <td>32</td>\n      <td>27</td>\n      <td>21283</td>\n      <td>61</td>\n    </tr>\n    <tr>\n      <th>10675675</th>\n      <td>32</td>\n      <td>27</td>\n      <td>21352</td>\n      <td>37</td>\n    </tr>\n    <tr>\n      <th>10675676</th>\n      <td>32</td>\n      <td>27</td>\n      <td>21284</td>\n      <td>61</td>\n    </tr>\n    <tr>\n      <th>10675677</th>\n      <td>32</td>\n      <td>27</td>\n      <td>21105</td>\n      <td>61</td>\n    </tr>\n  </tbody>\n</table>\n<p>10675678 rows × 4 columns</p>\n</div>"
     },
     "execution_count": 139,
     "metadata": {},
     "output_type": "execute_result"
    }
   ],
   "source": [
    "X_train"
   ],
   "metadata": {
    "collapsed": false,
    "pycharm": {
     "name": "#%%\n"
    }
   }
  },
  {
   "cell_type": "code",
   "execution_count": 140,
   "outputs": [
    {
     "data": {
      "text/plain": "          월ID  상점ID   상품ID  상품분류ID\n10913850   34     5   5037      19\n10913851   34     5   5320      55\n10913852   34     5   5233      19\n10913853   34     5   5232      23\n10913854   34     5   5268      20\n...       ...   ...    ...     ...\n11128045   34    45  18454      55\n11128046   34    45  16188      64\n11128047   34    45  15757      55\n11128048   34    45  19648      40\n11128049   34    45    969      37\n\n[214200 rows x 4 columns]",
      "text/html": "<div>\n<style scoped>\n    .dataframe tbody tr th:only-of-type {\n        vertical-align: middle;\n    }\n\n    .dataframe tbody tr th {\n        vertical-align: top;\n    }\n\n    .dataframe thead th {\n        text-align: right;\n    }\n</style>\n<table border=\"1\" class=\"dataframe\">\n  <thead>\n    <tr style=\"text-align: right;\">\n      <th></th>\n      <th>월ID</th>\n      <th>상점ID</th>\n      <th>상품ID</th>\n      <th>상품분류ID</th>\n    </tr>\n  </thead>\n  <tbody>\n    <tr>\n      <th>10913850</th>\n      <td>34</td>\n      <td>5</td>\n      <td>5037</td>\n      <td>19</td>\n    </tr>\n    <tr>\n      <th>10913851</th>\n      <td>34</td>\n      <td>5</td>\n      <td>5320</td>\n      <td>55</td>\n    </tr>\n    <tr>\n      <th>10913852</th>\n      <td>34</td>\n      <td>5</td>\n      <td>5233</td>\n      <td>19</td>\n    </tr>\n    <tr>\n      <th>10913853</th>\n      <td>34</td>\n      <td>5</td>\n      <td>5232</td>\n      <td>23</td>\n    </tr>\n    <tr>\n      <th>10913854</th>\n      <td>34</td>\n      <td>5</td>\n      <td>5268</td>\n      <td>20</td>\n    </tr>\n    <tr>\n      <th>...</th>\n      <td>...</td>\n      <td>...</td>\n      <td>...</td>\n      <td>...</td>\n    </tr>\n    <tr>\n      <th>11128045</th>\n      <td>34</td>\n      <td>45</td>\n      <td>18454</td>\n      <td>55</td>\n    </tr>\n    <tr>\n      <th>11128046</th>\n      <td>34</td>\n      <td>45</td>\n      <td>16188</td>\n      <td>64</td>\n    </tr>\n    <tr>\n      <th>11128047</th>\n      <td>34</td>\n      <td>45</td>\n      <td>15757</td>\n      <td>55</td>\n    </tr>\n    <tr>\n      <th>11128048</th>\n      <td>34</td>\n      <td>45</td>\n      <td>19648</td>\n      <td>40</td>\n    </tr>\n    <tr>\n      <th>11128049</th>\n      <td>34</td>\n      <td>45</td>\n      <td>969</td>\n      <td>37</td>\n    </tr>\n  </tbody>\n</table>\n<p>214200 rows × 4 columns</p>\n</div>"
     },
     "execution_count": 140,
     "metadata": {},
     "output_type": "execute_result"
    }
   ],
   "source": [
    "X_test"
   ],
   "metadata": {
    "collapsed": false,
    "pycharm": {
     "name": "#%%\n"
    }
   }
  },
  {
   "cell_type": "code",
   "execution_count": 141,
   "outputs": [
    {
     "data": {
      "text/plain": "          월ID  상점ID   상품ID  상품분류ID\n10675678   33    45  13315      47\n10675679   33    45  13880      55\n10675680   33    45  13881      55\n10675681   33    45  13923      40\n10675682   33    45  14227      30\n...       ...   ...    ...     ...\n10913845   33    21   7635      64\n10913846   33    21   7638      64\n10913847   33    21   7640      64\n10913848   33    21   7632      64\n10913849   33    21   7440      57\n\n[238172 rows x 4 columns]",
      "text/html": "<div>\n<style scoped>\n    .dataframe tbody tr th:only-of-type {\n        vertical-align: middle;\n    }\n\n    .dataframe tbody tr th {\n        vertical-align: top;\n    }\n\n    .dataframe thead th {\n        text-align: right;\n    }\n</style>\n<table border=\"1\" class=\"dataframe\">\n  <thead>\n    <tr style=\"text-align: right;\">\n      <th></th>\n      <th>월ID</th>\n      <th>상점ID</th>\n      <th>상품ID</th>\n      <th>상품분류ID</th>\n    </tr>\n  </thead>\n  <tbody>\n    <tr>\n      <th>10675678</th>\n      <td>33</td>\n      <td>45</td>\n      <td>13315</td>\n      <td>47</td>\n    </tr>\n    <tr>\n      <th>10675679</th>\n      <td>33</td>\n      <td>45</td>\n      <td>13880</td>\n      <td>55</td>\n    </tr>\n    <tr>\n      <th>10675680</th>\n      <td>33</td>\n      <td>45</td>\n      <td>13881</td>\n      <td>55</td>\n    </tr>\n    <tr>\n      <th>10675681</th>\n      <td>33</td>\n      <td>45</td>\n      <td>13923</td>\n      <td>40</td>\n    </tr>\n    <tr>\n      <th>10675682</th>\n      <td>33</td>\n      <td>45</td>\n      <td>14227</td>\n      <td>30</td>\n    </tr>\n    <tr>\n      <th>...</th>\n      <td>...</td>\n      <td>...</td>\n      <td>...</td>\n      <td>...</td>\n    </tr>\n    <tr>\n      <th>10913845</th>\n      <td>33</td>\n      <td>21</td>\n      <td>7635</td>\n      <td>64</td>\n    </tr>\n    <tr>\n      <th>10913846</th>\n      <td>33</td>\n      <td>21</td>\n      <td>7638</td>\n      <td>64</td>\n    </tr>\n    <tr>\n      <th>10913847</th>\n      <td>33</td>\n      <td>21</td>\n      <td>7640</td>\n      <td>64</td>\n    </tr>\n    <tr>\n      <th>10913848</th>\n      <td>33</td>\n      <td>21</td>\n      <td>7632</td>\n      <td>64</td>\n    </tr>\n    <tr>\n      <th>10913849</th>\n      <td>33</td>\n      <td>21</td>\n      <td>7440</td>\n      <td>57</td>\n    </tr>\n  </tbody>\n</table>\n<p>238172 rows × 4 columns</p>\n</div>"
     },
     "execution_count": 141,
     "metadata": {},
     "output_type": "execute_result"
    }
   ],
   "source": [
    "X_valid"
   ],
   "metadata": {
    "collapsed": false,
    "pycharm": {
     "name": "#%%\n"
    }
   }
  },
  {
   "cell_type": "code",
   "execution_count": 142,
   "outputs": [
    {
     "data": {
      "text/plain": "0           1\n1           0\n2           0\n3           0\n4           0\n           ..\n10675673    0\n10675674    0\n10675675    0\n10675676    0\n10675677    0\nName: 월간 판매량, Length: 10675678, dtype: int16"
     },
     "execution_count": 142,
     "metadata": {},
     "output_type": "execute_result"
    }
   ],
   "source": [
    "y_train"
   ],
   "metadata": {
    "collapsed": false,
    "pycharm": {
     "name": "#%%\n"
    }
   }
  },
  {
   "cell_type": "code",
   "execution_count": 143,
   "outputs": [
    {
     "data": {
      "text/plain": "10675678    1\n10675679    1\n10675680    2\n10675681    1\n10675682    1\n           ..\n10913845    0\n10913846    0\n10913847    0\n10913848    0\n10913849    0\nName: 월간 판매량, Length: 238172, dtype: int16"
     },
     "execution_count": 143,
     "metadata": {},
     "output_type": "execute_result"
    }
   ],
   "source": [
    "y_valid"
   ],
   "metadata": {
    "collapsed": false,
    "pycharm": {
     "name": "#%%\n"
    }
   }
  },
  {
   "cell_type": "code",
   "execution_count": 144,
   "outputs": [
    {
     "data": {
      "text/plain": "90"
     },
     "execution_count": 144,
     "metadata": {},
     "output_type": "execute_result"
    }
   ],
   "source": [
    "del all_data\n",
    "gc.collect()\n",
    "\n",
    "# 가비지 컬렉션"
   ],
   "metadata": {
    "collapsed": false,
    "pycharm": {
     "name": "#%%\n"
    }
   }
  },
  {
   "cell_type": "markdown",
   "source": [
    "## 모델 훈련 및 성능 검증"
   ],
   "metadata": {
    "collapsed": false,
    "pycharm": {
     "name": "#%% md\n"
    }
   }
  },
  {
   "cell_type": "code",
   "execution_count": 145,
   "outputs": [],
   "source": [
    "# 베이스라인 모델로 LightGBM을 사용한다. 기본 파라미터만 설정하고 LightGBM용 데이터셋을 만들어서 훈련한다.\n",
    "\n",
    "# categorical_feature 파라미터에는 범주형 데이터를 전달하면 된다.\n",
    "\n",
    "# 범주형 데이터로는 상점ID , 상품ID, 상품분류ID 가 있다.\n",
    "\n",
    "# 이중 상품ID를 뺀 상점ID와 상품분류ID만 인수로 전달한다.\n",
    "\n",
    "# 상품ID는 고윳값 개수가 상당히 많다. LightGBM은 고윳값 개수가 너무 많은 범주형 데이터는 수치형 데이터로 취급해야 성능이 더 좋다."
   ],
   "metadata": {
    "collapsed": false,
    "pycharm": {
     "name": "#%%\n"
    }
   }
  },
  {
   "cell_type": "code",
   "execution_count": 146,
   "outputs": [
    {
     "name": "stderr",
     "output_type": "stream",
     "text": [
      "C:\\Users\\andyp\\anaconda3\\lib\\site-packages\\lightgbm\\basic.py:2068: UserWarning: categorical_feature in Dataset is overridden.\n",
      "New categorical_feature is ['상점ID', '상품분류ID']\n",
      "  _log_warning('categorical_feature in Dataset is overridden.\\n'\n",
      "C:\\Users\\andyp\\anaconda3\\lib\\site-packages\\lightgbm\\engine.py:239: UserWarning: 'verbose_eval' argument is deprecated and will be removed in a future release of LightGBM. Pass 'log_evaluation()' callback via 'callbacks' argument instead.\n",
      "  _log_warning(\"'verbose_eval' argument is deprecated and will be removed in a future release of LightGBM. \"\n"
     ]
    },
    {
     "name": "stdout",
     "output_type": "stream",
     "text": [
      "[LightGBM] [Info] Total Bins 426\n",
      "[LightGBM] [Info] Number of data points in the train set: 10675678, number of used features: 4\n",
      "[LightGBM] [Info] Start training from score 0.299125\n"
     ]
    },
    {
     "name": "stderr",
     "output_type": "stream",
     "text": [
      "C:\\Users\\andyp\\anaconda3\\lib\\site-packages\\lightgbm\\basic.py:1780: UserWarning: Overriding the parameters from Reference Dataset.\n",
      "  _log_warning('Overriding the parameters from Reference Dataset.')\n",
      "C:\\Users\\andyp\\anaconda3\\lib\\site-packages\\lightgbm\\basic.py:1513: UserWarning: categorical_column in param dict is overridden.\n",
      "  _log_warning(f'{cat_alias} in param dict is overridden.')\n"
     ]
    },
    {
     "name": "stdout",
     "output_type": "stream",
     "text": [
      "[50]\ttraining's rmse: 1.14777\tvalid_1's rmse: 1.06755\n",
      "[100]\ttraining's rmse: 1.11425\tvalid_1's rmse: 1.0386\n",
      "[150]\ttraining's rmse: 1.09673\tvalid_1's rmse: 1.02671\n",
      "[200]\ttraining's rmse: 1.08573\tvalid_1's rmse: 1.02027\n",
      "[250]\ttraining's rmse: 1.07722\tvalid_1's rmse: 1.01661\n",
      "[300]\ttraining's rmse: 1.0698\tvalid_1's rmse: 1.0138\n",
      "[350]\ttraining's rmse: 1.06317\tvalid_1's rmse: 1.01084\n",
      "[400]\ttraining's rmse: 1.05734\tvalid_1's rmse: 1.00936\n",
      "[450]\ttraining's rmse: 1.05224\tvalid_1's rmse: 1.00818\n",
      "[500]\ttraining's rmse: 1.04792\tvalid_1's rmse: 1.00722\n"
     ]
    }
   ],
   "source": [
    "import lightgbm as lgb\n",
    "\n",
    "# LightGBM 용 하이퍼파라미터\n",
    "\n",
    "params = {'metric' : 'rmse', # 평가지표 = rmse\n",
    "          'num_leaves' : 255, # 개별 트리가 가질수 있는 최대 말단 노드 개수\n",
    "          'learning_rate' : 0.01, # 학습률(부스팅 이터레이션을 반복하면서 모델을 업데이트하는 데 사용 되는 비율)\n",
    "          'force_col_wise' : True, # 메모리 용량이 충분하지 않을 때 메모리 효율을 높이는 파라미터\n",
    "          'random_state'  : 10 # 랜덤 시드값(코드를 반복 실행해도 같은 결과가 나오게 지정하는 값)\n",
    "          }\n",
    "\n",
    "# 범주형 피처 설정\n",
    "cat_features = ['상점ID' , '상품분류ID']\n",
    "\n",
    "# LightGBM용 훈련 및 검증 데이터셋\n",
    "dtrain = lgb.Dataset(X_train,  y_train) # LightGBM 전용 훈련 데이터 셋\n",
    "dvalid = lgb.Dataset(X_valid , y_valid) # LightGBM 전용 검증 데이터 셋\n",
    "\n",
    "# LightGBM 모델 훈련\n",
    "\n",
    "lgb_model = lgb.train(params = params, # 훈련용 데이터\n",
    "                      train_set= dtrain, # 훈련 데이터 셋\n",
    "                      num_boost_round= 500, # 부스팅 반복 횟수\n",
    "                      valid_sets= (dtrain , dvalid), # 성능 평가용 검증 데이터 셋\n",
    "                      categorical_feature= cat_features , # 범주형 데이터 파라미터, 이 파라미터에 전달된 데이터를 범주형 데이터로 인식한다.\n",
    "                      verbose_eval= 50)# 50번째 마다 점수 출력"
   ],
   "metadata": {
    "collapsed": false,
    "pycharm": {
     "name": "#%%\n"
    }
   }
  },
  {
   "cell_type": "code",
   "execution_count": 147,
   "outputs": [
    {
     "data": {
      "text/plain": "            ID  item_cnt_month\n0            0        0.582913\n1            1        0.356839\n2            2        0.427943\n3            3        0.401808\n4            4        0.569875\n...        ...             ...\n214195  214195        0.116547\n214196  214196        0.127952\n214197  214197        0.116827\n214198  214198        0.098552\n214199  214199        0.086580\n\n[214200 rows x 2 columns]",
      "text/html": "<div>\n<style scoped>\n    .dataframe tbody tr th:only-of-type {\n        vertical-align: middle;\n    }\n\n    .dataframe tbody tr th {\n        vertical-align: top;\n    }\n\n    .dataframe thead th {\n        text-align: right;\n    }\n</style>\n<table border=\"1\" class=\"dataframe\">\n  <thead>\n    <tr style=\"text-align: right;\">\n      <th></th>\n      <th>ID</th>\n      <th>item_cnt_month</th>\n    </tr>\n  </thead>\n  <tbody>\n    <tr>\n      <th>0</th>\n      <td>0</td>\n      <td>0.582913</td>\n    </tr>\n    <tr>\n      <th>1</th>\n      <td>1</td>\n      <td>0.356839</td>\n    </tr>\n    <tr>\n      <th>2</th>\n      <td>2</td>\n      <td>0.427943</td>\n    </tr>\n    <tr>\n      <th>3</th>\n      <td>3</td>\n      <td>0.401808</td>\n    </tr>\n    <tr>\n      <th>4</th>\n      <td>4</td>\n      <td>0.569875</td>\n    </tr>\n    <tr>\n      <th>...</th>\n      <td>...</td>\n      <td>...</td>\n    </tr>\n    <tr>\n      <th>214195</th>\n      <td>214195</td>\n      <td>0.116547</td>\n    </tr>\n    <tr>\n      <th>214196</th>\n      <td>214196</td>\n      <td>0.127952</td>\n    </tr>\n    <tr>\n      <th>214197</th>\n      <td>214197</td>\n      <td>0.116827</td>\n    </tr>\n    <tr>\n      <th>214198</th>\n      <td>214198</td>\n      <td>0.098552</td>\n    </tr>\n    <tr>\n      <th>214199</th>\n      <td>214199</td>\n      <td>0.086580</td>\n    </tr>\n  </tbody>\n</table>\n<p>214200 rows × 2 columns</p>\n</div>"
     },
     "execution_count": 147,
     "metadata": {},
     "output_type": "execute_result"
    }
   ],
   "source": [
    "preds = lgb_model.predict(X_test).clip(0 ,20) # 테스트 데이터를 활용해 타깃값을 예측해보면 타깃값은 0~20 사이의 값이어야 하므로 예측한 값도 clip() 함수로 범위를 제한하였다.\n",
    "\n",
    "# 제출 파일 생성\n",
    "\n",
    "submission['item_cnt_month'] = preds\n",
    "\n",
    "submission"
   ],
   "metadata": {
    "collapsed": false,
    "pycharm": {
     "name": "#%%\n"
    }
   }
  },
  {
   "cell_type": "code",
   "execution_count": 148,
   "outputs": [
    {
     "data": {
      "text/plain": "            ID  item_cnt_month\n0            0        0.582913\n1            1        0.356839\n2            2        0.427943\n3            3        0.401808\n4            4        0.569875\n...        ...             ...\n214195  214195        0.116547\n214196  214196        0.127952\n214197  214197        0.116827\n214198  214198        0.098552\n214199  214199        0.086580\n\n[214200 rows x 2 columns]",
      "text/html": "<div>\n<style scoped>\n    .dataframe tbody tr th:only-of-type {\n        vertical-align: middle;\n    }\n\n    .dataframe tbody tr th {\n        vertical-align: top;\n    }\n\n    .dataframe thead th {\n        text-align: right;\n    }\n</style>\n<table border=\"1\" class=\"dataframe\">\n  <thead>\n    <tr style=\"text-align: right;\">\n      <th></th>\n      <th>ID</th>\n      <th>item_cnt_month</th>\n    </tr>\n  </thead>\n  <tbody>\n    <tr>\n      <th>0</th>\n      <td>0</td>\n      <td>0.582913</td>\n    </tr>\n    <tr>\n      <th>1</th>\n      <td>1</td>\n      <td>0.356839</td>\n    </tr>\n    <tr>\n      <th>2</th>\n      <td>2</td>\n      <td>0.427943</td>\n    </tr>\n    <tr>\n      <th>3</th>\n      <td>3</td>\n      <td>0.401808</td>\n    </tr>\n    <tr>\n      <th>4</th>\n      <td>4</td>\n      <td>0.569875</td>\n    </tr>\n    <tr>\n      <th>...</th>\n      <td>...</td>\n      <td>...</td>\n    </tr>\n    <tr>\n      <th>214195</th>\n      <td>214195</td>\n      <td>0.116547</td>\n    </tr>\n    <tr>\n      <th>214196</th>\n      <td>214196</td>\n      <td>0.127952</td>\n    </tr>\n    <tr>\n      <th>214197</th>\n      <td>214197</td>\n      <td>0.116827</td>\n    </tr>\n    <tr>\n      <th>214198</th>\n      <td>214198</td>\n      <td>0.098552</td>\n    </tr>\n    <tr>\n      <th>214199</th>\n      <td>214199</td>\n      <td>0.086580</td>\n    </tr>\n  </tbody>\n</table>\n<p>214200 rows × 2 columns</p>\n</div>"
     },
     "execution_count": 148,
     "metadata": {},
     "output_type": "execute_result"
    }
   ],
   "source": [
    "preds = lgb_model.predict(X_test).clip(0,20)\n",
    "\n",
    "submission['item_cnt_month'] = preds\n",
    "submission.to_csv('submission_1.csv' , index = False)\n",
    "\n",
    "submission"
   ],
   "metadata": {
    "collapsed": false,
    "pycharm": {
     "name": "#%%\n"
    }
   }
  },
  {
   "cell_type": "code",
   "execution_count": 149,
   "outputs": [
    {
     "data": {
      "text/plain": "361"
     },
     "execution_count": 149,
     "metadata": {},
     "output_type": "execute_result"
    }
   ],
   "source": [
    "del X_train, y_train , X_valid , y_valid , X_test , lgb_model , dtrain , dvalid\n",
    "\n",
    "gc.collect()"
   ],
   "metadata": {
    "collapsed": false,
    "pycharm": {
     "name": "#%%\n"
    }
   }
  },
  {
   "cell_type": "code",
   "execution_count": 157,
   "outputs": [
    {
     "data": {
      "text/plain": "<matplotlib.collections.PathCollection at 0x1f8b0302fa0>"
     },
     "execution_count": 157,
     "metadata": {},
     "output_type": "execute_result"
    },
    {
     "data": {
      "text/plain": "<Figure size 432x288 with 1 Axes>",
      "image/png": "[encoded data removed]"
     },
     "metadata": {
      "needs_background": "light"
     },
     "output_type": "display_data"
    }
   ],
   "source": [
    "import matplotlib.pyplot as plt\n",
    "import seaborn as sns\n",
    "\n",
    "plt.scatter( submission['ID'] , submission['item_cnt_month'] )"
   ],
   "metadata": {
    "collapsed": false,
    "pycharm": {
     "name": "#%%\n"
    }
   }
  },
  {
   "cell_type": "code",
   "execution_count": null,
   "outputs": [],
   "source": [],
   "metadata": {
    "collapsed": false,
    "pycharm": {
     "name": "#%%\n"
    }
   }
  }
 ],
 "metadata": {
  "kernelspec": {
   "display_name": "Python 3",
   "language": "python",
   "name": "python3"
  },
  "language_info": {
   "codemirror_mode": {
    "name": "ipython",
    "version": 2
   },
   "file_extension": ".py",
   "mimetype": "text/x-python",
   "name": "python",
   "nbconvert_exporter": "python",
   "pygments_lexer": "ipython2",
   "version": "2.7.6"
  }
 },
 "nbformat": 4,
 "nbformat_minor": 0
}