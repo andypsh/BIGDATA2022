{
 "cells": [
  {
   "cell_type": "code",
   "execution_count": 19,
   "metadata": {
    "collapsed": true,
    "pycharm": {
     "name": "#%%\n"
    }
   },
   "outputs": [],
   "source": [
    "import pandas as pd\n",
    "\n",
    "# 데이터경로\n",
    "\n",
    "data_path = './competitive-data-science-predict-future-sales/'\n",
    "\n",
    "sales_train = pd.read_csv(data_path + 'sales_train.csv')\n",
    "shops = pd.read_csv(data_path + 'shops.csv')\n",
    "items = pd.read_csv(data_path + 'items.csv')\n",
    "item_categories = pd.read_csv(data_path + 'item_categories.csv')\n",
    "test = pd.read_csv(data_path +'test.csv')\n",
    "submission = pd.read_csv(data_path +'sample_submission.csv')"
   ]
  },
  {
   "cell_type": "code",
   "execution_count": 20,
   "outputs": [
    {
     "data": {
      "text/plain": "         date  date_block_num  shop_id  item_id  item_price  item_cnt_day\n0  02.01.2013               0       59    22154      999.00           1.0\n1  03.01.2013               0       25     2552      899.00           1.0\n2  05.01.2013               0       25     2552      899.00          -1.0\n3  06.01.2013               0       25     2554     1709.05           1.0\n4  15.01.2013               0       25     2555     1099.00           1.0",
      "text/html": "<div>\n<style scoped>\n    .dataframe tbody tr th:only-of-type {\n        vertical-align: middle;\n    }\n\n    .dataframe tbody tr th {\n        vertical-align: top;\n    }\n\n    .dataframe thead th {\n        text-align: right;\n    }\n</style>\n<table border=\"1\" class=\"dataframe\">\n  <thead>\n    <tr style=\"text-align: right;\">\n      <th></th>\n      <th>date</th>\n      <th>date_block_num</th>\n      <th>shop_id</th>\n      <th>item_id</th>\n      <th>item_price</th>\n      <th>item_cnt_day</th>\n    </tr>\n  </thead>\n  <tbody>\n    <tr>\n      <th>0</th>\n      <td>02.01.2013</td>\n      <td>0</td>\n      <td>59</td>\n      <td>22154</td>\n      <td>999.00</td>\n      <td>1.0</td>\n    </tr>\n    <tr>\n      <th>1</th>\n      <td>03.01.2013</td>\n      <td>0</td>\n      <td>25</td>\n      <td>2552</td>\n      <td>899.00</td>\n      <td>1.0</td>\n    </tr>\n    <tr>\n      <th>2</th>\n      <td>05.01.2013</td>\n      <td>0</td>\n      <td>25</td>\n      <td>2552</td>\n      <td>899.00</td>\n      <td>-1.0</td>\n    </tr>\n    <tr>\n      <th>3</th>\n      <td>06.01.2013</td>\n      <td>0</td>\n      <td>25</td>\n      <td>2554</td>\n      <td>1709.05</td>\n      <td>1.0</td>\n    </tr>\n    <tr>\n      <th>4</th>\n      <td>15.01.2013</td>\n      <td>0</td>\n      <td>25</td>\n      <td>2555</td>\n      <td>1099.00</td>\n      <td>1.0</td>\n    </tr>\n  </tbody>\n</table>\n</div>"
     },
     "execution_count": 20,
     "metadata": {},
     "output_type": "execute_result"
    }
   ],
   "source": [
    "sales_train.head()\n",
    "\n",
    "# date 피처는 날짜를 의미\n",
    "\n",
    "# date_block_num 피처는 편의상 상용하는 날짜(월) 구분자, 0은 2013년 2월, 1은 2013년 3월\n",
    "\n",
    "# item_cnt_Day 피처는 당일 판매량을 나타낸다.\n",
    "\n",
    "# 각 상점의 상품별 일일 판매량을 월별로 합친 값이 곧 각 상점의 상품별 월간 판매량이다.\n",
    "\n",
    "# date_block_num 피처를 기준으로 그룹화해서 item_cnt_day 값을 합하면 타깃값이 된다."
   ],
   "metadata": {
    "collapsed": false,
    "pycharm": {
     "name": "#%%\n"
    }
   }
  },
  {
   "cell_type": "code",
   "execution_count": 21,
   "outputs": [
    {
     "name": "stdout",
     "output_type": "stream",
     "text": [
      "<class 'pandas.core.frame.DataFrame'>\n",
      "RangeIndex: 2935849 entries, 0 to 2935848\n",
      "Data columns (total 6 columns):\n",
      " #   Column          Non-Null Count    Dtype  \n",
      "---  ------          --------------    -----  \n",
      " 0   date            2935849 non-null  object \n",
      " 1   date_block_num  2935849 non-null  int64  \n",
      " 2   shop_id         2935849 non-null  int64  \n",
      " 3   item_id         2935849 non-null  int64  \n",
      " 4   item_price      2935849 non-null  float64\n",
      " 5   item_cnt_day    2935849 non-null  float64\n",
      "dtypes: float64(2), int64(3), object(1)\n",
      "memory usage: 134.4+ MB\n"
     ]
    }
   ],
   "source": [
    "sales_train.info(show_counts = True) # show_counts 는 비결측값 개수 표시\n",
    "\n",
    "# 메모리 사용량이 134.4MB\n",
    "\n",
    "# 제공한 데이터는 시계열 데이터이다.\n",
    "\n",
    "# 시계열 데이터는 시간 흐름이 중요하다.\n",
    "\n",
    "# 2013년 1월부터 2015년 9월까지 판매 내역을 훈련 데이터로 사용하고,\n",
    "\n",
    "# 2015년 10월 판매 내역을 검증 데이터로 사용한다.\n",
    "\n",
    "# 앞 장에서는 여러 폴드로 나눠 훈련 데이터와 검증 데이터를 지정했다.(oof 예측) 하지만 시계열 데이터는 이러면 과거와 미래가 섞이기 때문에 이용할 수 없다."
   ],
   "metadata": {
    "collapsed": false,
    "pycharm": {
     "name": "#%%\n"
    }
   }
  },
  {
   "cell_type": "code",
   "execution_count": 22,
   "outputs": [
    {
     "data": {
      "text/plain": "                        shop_name  shop_id\n0   !Якутск Орджоникидзе, 56 фран        0\n1   !Якутск ТЦ \"Центральный\" фран        1\n2                Адыгея ТЦ \"Мега\"        2\n3  Балашиха ТРК \"Октябрь-Киномир\"        3\n4        Волжский ТЦ \"Волга Молл\"        4",
      "text/html": "<div>\n<style scoped>\n    .dataframe tbody tr th:only-of-type {\n        vertical-align: middle;\n    }\n\n    .dataframe tbody tr th {\n        vertical-align: top;\n    }\n\n    .dataframe thead th {\n        text-align: right;\n    }\n</style>\n<table border=\"1\" class=\"dataframe\">\n  <thead>\n    <tr style=\"text-align: right;\">\n      <th></th>\n      <th>shop_name</th>\n      <th>shop_id</th>\n    </tr>\n  </thead>\n  <tbody>\n    <tr>\n      <th>0</th>\n      <td>!Якутск Орджоникидзе, 56 фран</td>\n      <td>0</td>\n    </tr>\n    <tr>\n      <th>1</th>\n      <td>!Якутск ТЦ \"Центральный\" фран</td>\n      <td>1</td>\n    </tr>\n    <tr>\n      <th>2</th>\n      <td>Адыгея ТЦ \"Мега\"</td>\n      <td>2</td>\n    </tr>\n    <tr>\n      <th>3</th>\n      <td>Балашиха ТРК \"Октябрь-Киномир\"</td>\n      <td>3</td>\n    </tr>\n    <tr>\n      <th>4</th>\n      <td>Волжский ТЦ \"Волга Молл\"</td>\n      <td>4</td>\n    </tr>\n  </tbody>\n</table>\n</div>"
     },
     "execution_count": 22,
     "metadata": {},
     "output_type": "execute_result"
    }
   ],
   "source": [
    "shops.head()"
   ],
   "metadata": {
    "collapsed": false,
    "pycharm": {
     "name": "#%%\n"
    }
   }
  },
  {
   "cell_type": "code",
   "execution_count": 23,
   "outputs": [
    {
     "name": "stdout",
     "output_type": "stream",
     "text": [
      "<class 'pandas.core.frame.DataFrame'>\n",
      "RangeIndex: 60 entries, 0 to 59\n",
      "Data columns (total 2 columns):\n",
      " #   Column     Non-Null Count  Dtype \n",
      "---  ------     --------------  ----- \n",
      " 0   shop_name  60 non-null     object\n",
      " 1   shop_id    60 non-null     int64 \n",
      "dtypes: int64(1), object(1)\n",
      "memory usage: 1.1+ KB\n"
     ]
    }
   ],
   "source": [
    "shops.info()\n",
    "\n",
    "# 상점은 60개이고, null 값도 없다."
   ],
   "metadata": {
    "collapsed": false,
    "pycharm": {
     "name": "#%%\n"
    }
   }
  },
  {
   "cell_type": "code",
   "execution_count": 24,
   "outputs": [
    {
     "data": {
      "text/plain": "                                           item_name  item_id  \\\n0          ! ВО ВЛАСТИ НАВАЖДЕНИЯ (ПЛАСТ.)         D        0   \n1  !ABBYY FineReader 12 Professional Edition Full...        1   \n2      ***В ЛУЧАХ СЛАВЫ   (UNV)                    D        2   \n3    ***ГОЛУБАЯ ВОЛНА  (Univ)                      D        3   \n4        ***КОРОБКА (СТЕКЛО)                       D        4   \n\n   item_category_id  \n0                40  \n1                76  \n2                40  \n3                40  \n4                40  ",
      "text/html": "<div>\n<style scoped>\n    .dataframe tbody tr th:only-of-type {\n        vertical-align: middle;\n    }\n\n    .dataframe tbody tr th {\n        vertical-align: top;\n    }\n\n    .dataframe thead th {\n        text-align: right;\n    }\n</style>\n<table border=\"1\" class=\"dataframe\">\n  <thead>\n    <tr style=\"text-align: right;\">\n      <th></th>\n      <th>item_name</th>\n      <th>item_id</th>\n      <th>item_category_id</th>\n    </tr>\n  </thead>\n  <tbody>\n    <tr>\n      <th>0</th>\n      <td>! ВО ВЛАСТИ НАВАЖДЕНИЯ (ПЛАСТ.)         D</td>\n      <td>0</td>\n      <td>40</td>\n    </tr>\n    <tr>\n      <th>1</th>\n      <td>!ABBYY FineReader 12 Professional Edition Full...</td>\n      <td>1</td>\n      <td>76</td>\n    </tr>\n    <tr>\n      <th>2</th>\n      <td>***В ЛУЧАХ СЛАВЫ   (UNV)                    D</td>\n      <td>2</td>\n      <td>40</td>\n    </tr>\n    <tr>\n      <th>3</th>\n      <td>***ГОЛУБАЯ ВОЛНА  (Univ)                      D</td>\n      <td>3</td>\n      <td>40</td>\n    </tr>\n    <tr>\n      <th>4</th>\n      <td>***КОРОБКА (СТЕКЛО)                       D</td>\n      <td>4</td>\n      <td>40</td>\n    </tr>\n  </tbody>\n</table>\n</div>"
     },
     "execution_count": 24,
     "metadata": {},
     "output_type": "execute_result"
    }
   ],
   "source": [
    "items.head()\n",
    "\n",
    "# 상품명에서는 유용한 정보를 얻기 힘들어 모델링시 제거한다.\n",
    "\n",
    "# item_id 피처는 sales_train 데이터에도 존재하는 피처이므로, item_id 피처를 기준으로 sales_train과 items를 병합할 수 있다."
   ],
   "metadata": {
    "collapsed": false,
    "pycharm": {
     "name": "#%%\n"
    }
   }
  },
  {
   "cell_type": "code",
   "execution_count": 25,
   "outputs": [
    {
     "name": "stdout",
     "output_type": "stream",
     "text": [
      "<class 'pandas.core.frame.DataFrame'>\n",
      "RangeIndex: 22170 entries, 0 to 22169\n",
      "Data columns (total 3 columns):\n",
      " #   Column            Non-Null Count  Dtype \n",
      "---  ------            --------------  ----- \n",
      " 0   item_name         22170 non-null  object\n",
      " 1   item_id           22170 non-null  int64 \n",
      " 2   item_category_id  22170 non-null  int64 \n",
      "dtypes: int64(2), object(1)\n",
      "memory usage: 519.7+ KB\n"
     ]
    }
   ],
   "source": [
    "items.info()"
   ],
   "metadata": {
    "collapsed": false,
    "pycharm": {
     "name": "#%%\n"
    }
   }
  },
  {
   "cell_type": "code",
   "execution_count": 26,
   "outputs": [
    {
     "data": {
      "text/plain": "        item_category_name  item_category_id\n0  PC - Гарнитуры/Наушники                 0\n1         Аксессуары - PS2                 1\n2         Аксессуары - PS3                 2\n3         Аксессуары - PS4                 3\n4         Аксессуары - PSP                 4",
      "text/html": "<div>\n<style scoped>\n    .dataframe tbody tr th:only-of-type {\n        vertical-align: middle;\n    }\n\n    .dataframe tbody tr th {\n        vertical-align: top;\n    }\n\n    .dataframe thead th {\n        text-align: right;\n    }\n</style>\n<table border=\"1\" class=\"dataframe\">\n  <thead>\n    <tr style=\"text-align: right;\">\n      <th></th>\n      <th>item_category_name</th>\n      <th>item_category_id</th>\n    </tr>\n  </thead>\n  <tbody>\n    <tr>\n      <th>0</th>\n      <td>PC - Гарнитуры/Наушники</td>\n      <td>0</td>\n    </tr>\n    <tr>\n      <th>1</th>\n      <td>Аксессуары - PS2</td>\n      <td>1</td>\n    </tr>\n    <tr>\n      <th>2</th>\n      <td>Аксессуары - PS3</td>\n      <td>2</td>\n    </tr>\n    <tr>\n      <th>3</th>\n      <td>Аксессуары - PS4</td>\n      <td>3</td>\n    </tr>\n    <tr>\n      <th>4</th>\n      <td>Аксессуары - PSP</td>\n      <td>4</td>\n    </tr>\n  </tbody>\n</table>\n</div>"
     },
     "execution_count": 26,
     "metadata": {},
     "output_type": "execute_result"
    }
   ],
   "source": [
    "item_categories.head()\n",
    "\n",
    "# 상품분류명과 상품분류 ID로 구성돼 있다.\n",
    "# sales_train에도 item_Category_id 피처가 보인다.\n",
    "\n",
    "# 이 피처를 기준으로 sales_train과 item_categories를 병합할 수 있다."
   ],
   "metadata": {
    "collapsed": false,
    "pycharm": {
     "name": "#%%\n"
    }
   }
  },
  {
   "cell_type": "code",
   "execution_count": 27,
   "outputs": [
    {
     "name": "stdout",
     "output_type": "stream",
     "text": [
      "<class 'pandas.core.frame.DataFrame'>\n",
      "RangeIndex: 84 entries, 0 to 83\n",
      "Data columns (total 2 columns):\n",
      " #   Column              Non-Null Count  Dtype \n",
      "---  ------              --------------  ----- \n",
      " 0   item_category_name  84 non-null     object\n",
      " 1   item_category_id    84 non-null     int64 \n",
      "dtypes: int64(1), object(1)\n",
      "memory usage: 1.4+ KB\n"
     ]
    }
   ],
   "source": [
    "item_categories.info()"
   ],
   "metadata": {
    "collapsed": false,
    "pycharm": {
     "name": "#%%\n"
    }
   }
  },
  {
   "cell_type": "code",
   "execution_count": 28,
   "outputs": [
    {
     "data": {
      "text/plain": "   ID  shop_id  item_id\n0   0        5     5037\n1   1        5     5320\n2   2        5     5233\n3   3        5     5232\n4   4        5     5268",
      "text/html": "<div>\n<style scoped>\n    .dataframe tbody tr th:only-of-type {\n        vertical-align: middle;\n    }\n\n    .dataframe tbody tr th {\n        vertical-align: top;\n    }\n\n    .dataframe thead th {\n        text-align: right;\n    }\n</style>\n<table border=\"1\" class=\"dataframe\">\n  <thead>\n    <tr style=\"text-align: right;\">\n      <th></th>\n      <th>ID</th>\n      <th>shop_id</th>\n      <th>item_id</th>\n    </tr>\n  </thead>\n  <tbody>\n    <tr>\n      <th>0</th>\n      <td>0</td>\n      <td>5</td>\n      <td>5037</td>\n    </tr>\n    <tr>\n      <th>1</th>\n      <td>1</td>\n      <td>5</td>\n      <td>5320</td>\n    </tr>\n    <tr>\n      <th>2</th>\n      <td>2</td>\n      <td>5</td>\n      <td>5233</td>\n    </tr>\n    <tr>\n      <th>3</th>\n      <td>3</td>\n      <td>5</td>\n      <td>5232</td>\n    </tr>\n    <tr>\n      <th>4</th>\n      <td>4</td>\n      <td>5</td>\n      <td>5268</td>\n    </tr>\n  </tbody>\n</table>\n</div>"
     },
     "execution_count": 28,
     "metadata": {},
     "output_type": "execute_result"
    }
   ],
   "source": [
    "test.head()\n",
    "\n",
    "# 테스트 데이터 식별자인 ID, 상점 ID , 상점 ID로 구성돼 있다.\n",
    "\n",
    "# 여기서 각 상점의 상품별 월간 판매량을 예측해야한다."
   ],
   "metadata": {
    "collapsed": false,
    "pycharm": {
     "name": "#%%\n"
    }
   }
  },
  {
   "cell_type": "markdown",
   "source": [
    "## 데이터 병합"
   ],
   "metadata": {
    "collapsed": false,
    "pycharm": {
     "name": "#%% md\n"
    }
   }
  },
  {
   "cell_type": "code",
   "execution_count": 29,
   "outputs": [
    {
     "data": {
      "text/plain": "               date  date_block_num  shop_id  item_id  item_price  \\\n0        02.01.2013               0       59    22154      999.00   \n1        03.01.2013               0       25     2552      899.00   \n2        05.01.2013               0       25     2552      899.00   \n3        06.01.2013               0       25     2554     1709.05   \n4        15.01.2013               0       25     2555     1099.00   \n...             ...             ...      ...      ...         ...   \n2935844  10.10.2015              33       25     7409      299.00   \n2935845  09.10.2015              33       25     7460      299.00   \n2935846  14.10.2015              33       25     7459      349.00   \n2935847  22.10.2015              33       25     7440      299.00   \n2935848  03.10.2015              33       25     7460      299.00   \n\n         item_cnt_day               shop_name  \n0                 1.0  Ярославль ТЦ \"Альтаир\"  \n1                 1.0     Москва ТРК \"Атриум\"  \n2                -1.0     Москва ТРК \"Атриум\"  \n3                 1.0     Москва ТРК \"Атриум\"  \n4                 1.0     Москва ТРК \"Атриум\"  \n...               ...                     ...  \n2935844           1.0     Москва ТРК \"Атриум\"  \n2935845           1.0     Москва ТРК \"Атриум\"  \n2935846           1.0     Москва ТРК \"Атриум\"  \n2935847           1.0     Москва ТРК \"Атриум\"  \n2935848           1.0     Москва ТРК \"Атриум\"  \n\n[2935849 rows x 7 columns]",
      "text/html": "<div>\n<style scoped>\n    .dataframe tbody tr th:only-of-type {\n        vertical-align: middle;\n    }\n\n    .dataframe tbody tr th {\n        vertical-align: top;\n    }\n\n    .dataframe thead th {\n        text-align: right;\n    }\n</style>\n<table border=\"1\" class=\"dataframe\">\n  <thead>\n    <tr style=\"text-align: right;\">\n      <th></th>\n      <th>date</th>\n      <th>date_block_num</th>\n      <th>shop_id</th>\n      <th>item_id</th>\n      <th>item_price</th>\n      <th>item_cnt_day</th>\n      <th>shop_name</th>\n    </tr>\n  </thead>\n  <tbody>\n    <tr>\n      <th>0</th>\n      <td>02.01.2013</td>\n      <td>0</td>\n      <td>59</td>\n      <td>22154</td>\n      <td>999.00</td>\n      <td>1.0</td>\n      <td>Ярославль ТЦ \"Альтаир\"</td>\n    </tr>\n    <tr>\n      <th>1</th>\n      <td>03.01.2013</td>\n      <td>0</td>\n      <td>25</td>\n      <td>2552</td>\n      <td>899.00</td>\n      <td>1.0</td>\n      <td>Москва ТРК \"Атриум\"</td>\n    </tr>\n    <tr>\n      <th>2</th>\n      <td>05.01.2013</td>\n      <td>0</td>\n      <td>25</td>\n      <td>2552</td>\n      <td>899.00</td>\n      <td>-1.0</td>\n      <td>Москва ТРК \"Атриум\"</td>\n    </tr>\n    <tr>\n      <th>3</th>\n      <td>06.01.2013</td>\n      <td>0</td>\n      <td>25</td>\n      <td>2554</td>\n      <td>1709.05</td>\n      <td>1.0</td>\n      <td>Москва ТРК \"Атриум\"</td>\n    </tr>\n    <tr>\n      <th>4</th>\n      <td>15.01.2013</td>\n      <td>0</td>\n      <td>25</td>\n      <td>2555</td>\n      <td>1099.00</td>\n      <td>1.0</td>\n      <td>Москва ТРК \"Атриум\"</td>\n    </tr>\n    <tr>\n      <th>...</th>\n      <td>...</td>\n      <td>...</td>\n      <td>...</td>\n      <td>...</td>\n      <td>...</td>\n      <td>...</td>\n      <td>...</td>\n    </tr>\n    <tr>\n      <th>2935844</th>\n      <td>10.10.2015</td>\n      <td>33</td>\n      <td>25</td>\n      <td>7409</td>\n      <td>299.00</td>\n      <td>1.0</td>\n      <td>Москва ТРК \"Атриум\"</td>\n    </tr>\n    <tr>\n      <th>2935845</th>\n      <td>09.10.2015</td>\n      <td>33</td>\n      <td>25</td>\n      <td>7460</td>\n      <td>299.00</td>\n      <td>1.0</td>\n      <td>Москва ТРК \"Атриум\"</td>\n    </tr>\n    <tr>\n      <th>2935846</th>\n      <td>14.10.2015</td>\n      <td>33</td>\n      <td>25</td>\n      <td>7459</td>\n      <td>349.00</td>\n      <td>1.0</td>\n      <td>Москва ТРК \"Атриум\"</td>\n    </tr>\n    <tr>\n      <th>2935847</th>\n      <td>22.10.2015</td>\n      <td>33</td>\n      <td>25</td>\n      <td>7440</td>\n      <td>299.00</td>\n      <td>1.0</td>\n      <td>Москва ТРК \"Атриум\"</td>\n    </tr>\n    <tr>\n      <th>2935848</th>\n      <td>03.10.2015</td>\n      <td>33</td>\n      <td>25</td>\n      <td>7460</td>\n      <td>299.00</td>\n      <td>1.0</td>\n      <td>Москва ТРК \"Атриум\"</td>\n    </tr>\n  </tbody>\n</table>\n<p>2935849 rows × 7 columns</p>\n</div>"
     },
     "execution_count": 29,
     "metadata": {},
     "output_type": "execute_result"
    }
   ],
   "source": [
    "train = sales_train.merge(shops , on = 'shop_id' , how ='left')\n",
    "train"
   ],
   "metadata": {
    "collapsed": false,
    "pycharm": {
     "name": "#%%\n"
    }
   }
  },
  {
   "cell_type": "code",
   "execution_count": 30,
   "outputs": [
    {
     "data": {
      "text/plain": "         date  date_block_num  shop_id  item_id  item_price  item_cnt_day  \\\n0  02.01.2013               0       59    22154      999.00           1.0   \n1  03.01.2013               0       25     2552      899.00           1.0   \n2  05.01.2013               0       25     2552      899.00          -1.0   \n3  06.01.2013               0       25     2554     1709.05           1.0   \n4  15.01.2013               0       25     2555     1099.00           1.0   \n\n                shop_name                                 item_name  \\\n0  Ярославль ТЦ \"Альтаир\"                         ЯВЛЕНИЕ 2012 (BD)   \n1     Москва ТРК \"Атриум\"  DEEP PURPLE  The House Of Blue Light  LP   \n2     Москва ТРК \"Атриум\"  DEEP PURPLE  The House Of Blue Light  LP   \n3     Москва ТРК \"Атриум\"  DEEP PURPLE  Who Do You Think We Are  LP   \n4     Москва ТРК \"Атриум\"   DEEP PURPLE 30 Very Best Of 2CD (Фирм.)   \n\n   item_category_id                   item_category_name  \n0                37                       Кино - Blu-Ray  \n1                58                       Музыка - Винил  \n2                58                       Музыка - Винил  \n3                58                       Музыка - Винил  \n4                56  Музыка - CD фирменного производства  ",
      "text/html": "<div>\n<style scoped>\n    .dataframe tbody tr th:only-of-type {\n        vertical-align: middle;\n    }\n\n    .dataframe tbody tr th {\n        vertical-align: top;\n    }\n\n    .dataframe thead th {\n        text-align: right;\n    }\n</style>\n<table border=\"1\" class=\"dataframe\">\n  <thead>\n    <tr style=\"text-align: right;\">\n      <th></th>\n      <th>date</th>\n      <th>date_block_num</th>\n      <th>shop_id</th>\n      <th>item_id</th>\n      <th>item_price</th>\n      <th>item_cnt_day</th>\n      <th>shop_name</th>\n      <th>item_name</th>\n      <th>item_category_id</th>\n      <th>item_category_name</th>\n    </tr>\n  </thead>\n  <tbody>\n    <tr>\n      <th>0</th>\n      <td>02.01.2013</td>\n      <td>0</td>\n      <td>59</td>\n      <td>22154</td>\n      <td>999.00</td>\n      <td>1.0</td>\n      <td>Ярославль ТЦ \"Альтаир\"</td>\n      <td>ЯВЛЕНИЕ 2012 (BD)</td>\n      <td>37</td>\n      <td>Кино - Blu-Ray</td>\n    </tr>\n    <tr>\n      <th>1</th>\n      <td>03.01.2013</td>\n      <td>0</td>\n      <td>25</td>\n      <td>2552</td>\n      <td>899.00</td>\n      <td>1.0</td>\n      <td>Москва ТРК \"Атриум\"</td>\n      <td>DEEP PURPLE  The House Of Blue Light  LP</td>\n      <td>58</td>\n      <td>Музыка - Винил</td>\n    </tr>\n    <tr>\n      <th>2</th>\n      <td>05.01.2013</td>\n      <td>0</td>\n      <td>25</td>\n      <td>2552</td>\n      <td>899.00</td>\n      <td>-1.0</td>\n      <td>Москва ТРК \"Атриум\"</td>\n      <td>DEEP PURPLE  The House Of Blue Light  LP</td>\n      <td>58</td>\n      <td>Музыка - Винил</td>\n    </tr>\n    <tr>\n      <th>3</th>\n      <td>06.01.2013</td>\n      <td>0</td>\n      <td>25</td>\n      <td>2554</td>\n      <td>1709.05</td>\n      <td>1.0</td>\n      <td>Москва ТРК \"Атриум\"</td>\n      <td>DEEP PURPLE  Who Do You Think We Are  LP</td>\n      <td>58</td>\n      <td>Музыка - Винил</td>\n    </tr>\n    <tr>\n      <th>4</th>\n      <td>15.01.2013</td>\n      <td>0</td>\n      <td>25</td>\n      <td>2555</td>\n      <td>1099.00</td>\n      <td>1.0</td>\n      <td>Москва ТРК \"Атриум\"</td>\n      <td>DEEP PURPLE 30 Very Best Of 2CD (Фирм.)</td>\n      <td>56</td>\n      <td>Музыка - CD фирменного производства</td>\n    </tr>\n  </tbody>\n</table>\n</div>"
     },
     "execution_count": 30,
     "metadata": {},
     "output_type": "execute_result"
    }
   ],
   "source": [
    "train = train.merge(items , on = 'item_id' , how = 'left')\n",
    "train = train.merge(item_categories , on = 'item_category_id' , how = 'left')\n",
    "\n",
    "train.head()"
   ],
   "metadata": {
    "collapsed": false,
    "pycharm": {
     "name": "#%%\n"
    }
   }
  },
  {
   "cell_type": "markdown",
   "source": [
    "## 피처 요약표 만들기"
   ],
   "metadata": {
    "collapsed": false,
    "pycharm": {
     "name": "#%% md\n"
    }
   }
  },
  {
   "cell_type": "code",
   "execution_count": 33,
   "outputs": [
    {
     "name": "stdout",
     "output_type": "stream",
     "text": [
      "데이터셋 형상 : (2935849, 10)\n"
     ]
    },
    {
     "data": {
      "text/plain": "                   피처    데이터타입  결측값 개수  고윳값 개수                  첫 번째 값  \\\n0                date   object       0    1034              02.01.2013   \n1      date_block_num    int64       0      34                       0   \n2             shop_id    int64       0      60                      59   \n3             item_id    int64       0   21807                   22154   \n4          item_price  float64       0   19993                   999.0   \n5        item_cnt_day  float64       0     198                     1.0   \n6           shop_name   object       0      60  Ярославль ТЦ \"Альтаир\"   \n7           item_name   object       0   21807       ЯВЛЕНИЕ 2012 (BD)   \n8    item_category_id    int64       0      84                      37   \n9  item_category_name   object       0      84          Кино - Blu-Ray   \n\n                                     두 번째 값  \n0                                03.01.2013  \n1                                         0  \n2                                        25  \n3                                      2552  \n4                                     899.0  \n5                                       1.0  \n6                       Москва ТРК \"Атриум\"  \n7  DEEP PURPLE  The House Of Blue Light  LP  \n8                                        58  \n9                            Музыка - Винил  ",
      "text/html": "<div>\n<style scoped>\n    .dataframe tbody tr th:only-of-type {\n        vertical-align: middle;\n    }\n\n    .dataframe tbody tr th {\n        vertical-align: top;\n    }\n\n    .dataframe thead th {\n        text-align: right;\n    }\n</style>\n<table border=\"1\" class=\"dataframe\">\n  <thead>\n    <tr style=\"text-align: right;\">\n      <th></th>\n      <th>피처</th>\n      <th>데이터타입</th>\n      <th>결측값 개수</th>\n      <th>고윳값 개수</th>\n      <th>첫 번째 값</th>\n      <th>두 번째 값</th>\n    </tr>\n  </thead>\n  <tbody>\n    <tr>\n      <th>0</th>\n      <td>date</td>\n      <td>object</td>\n      <td>0</td>\n      <td>1034</td>\n      <td>02.01.2013</td>\n      <td>03.01.2013</td>\n    </tr>\n    <tr>\n      <th>1</th>\n      <td>date_block_num</td>\n      <td>int64</td>\n      <td>0</td>\n      <td>34</td>\n      <td>0</td>\n      <td>0</td>\n    </tr>\n    <tr>\n      <th>2</th>\n      <td>shop_id</td>\n      <td>int64</td>\n      <td>0</td>\n      <td>60</td>\n      <td>59</td>\n      <td>25</td>\n    </tr>\n    <tr>\n      <th>3</th>\n      <td>item_id</td>\n      <td>int64</td>\n      <td>0</td>\n      <td>21807</td>\n      <td>22154</td>\n      <td>2552</td>\n    </tr>\n    <tr>\n      <th>4</th>\n      <td>item_price</td>\n      <td>float64</td>\n      <td>0</td>\n      <td>19993</td>\n      <td>999.0</td>\n      <td>899.0</td>\n    </tr>\n    <tr>\n      <th>5</th>\n      <td>item_cnt_day</td>\n      <td>float64</td>\n      <td>0</td>\n      <td>198</td>\n      <td>1.0</td>\n      <td>1.0</td>\n    </tr>\n    <tr>\n      <th>6</th>\n      <td>shop_name</td>\n      <td>object</td>\n      <td>0</td>\n      <td>60</td>\n      <td>Ярославль ТЦ \"Альтаир\"</td>\n      <td>Москва ТРК \"Атриум\"</td>\n    </tr>\n    <tr>\n      <th>7</th>\n      <td>item_name</td>\n      <td>object</td>\n      <td>0</td>\n      <td>21807</td>\n      <td>ЯВЛЕНИЕ 2012 (BD)</td>\n      <td>DEEP PURPLE  The House Of Blue Light  LP</td>\n    </tr>\n    <tr>\n      <th>8</th>\n      <td>item_category_id</td>\n      <td>int64</td>\n      <td>0</td>\n      <td>84</td>\n      <td>37</td>\n      <td>58</td>\n    </tr>\n    <tr>\n      <th>9</th>\n      <td>item_category_name</td>\n      <td>object</td>\n      <td>0</td>\n      <td>84</td>\n      <td>Кино - Blu-Ray</td>\n      <td>Музыка - Винил</td>\n    </tr>\n  </tbody>\n</table>\n</div>"
     },
     "execution_count": 33,
     "metadata": {},
     "output_type": "execute_result"
    }
   ],
   "source": [
    "def resumetable(df):\n",
    "    print(f'데이터셋 형상 : {df.shape}')\n",
    "    summary = pd.DataFrame(df.dtypes , columns = ['데이터타입'])\n",
    "    summary = summary.reset_index()\n",
    "    summary = summary.rename(columns= {'index' : '피처'})\n",
    "    summary['결측값 개수'] = df.isnull().sum().values # 결측값의 개수 세기\n",
    "    summary['고윳값 개수'] = df.nunique().values # 고윳값의 개수 ㅅ기\n",
    "    summary['첫 번째 값'] = df.loc[0].values\n",
    "    summary['두 번째 값'] = df.loc[1].values\n",
    "\n",
    "    return summary\n",
    "\n",
    "resumetable(train)"
   ],
   "metadata": {
    "collapsed": false,
    "pycharm": {
     "name": "#%%\n"
    }
   }
  },
  {
   "cell_type": "markdown",
   "source": [
    "## 데이터 시각화"
   ],
   "metadata": {
    "collapsed": false,
    "pycharm": {
     "name": "#%% md\n"
    }
   }
  },
  {
   "cell_type": "code",
   "execution_count": 35,
   "outputs": [
    {
     "data": {
      "text/plain": "<matplotlib.axes._subplots.AxesSubplot at 0x2560df33b80>"
     },
     "execution_count": 35,
     "metadata": {},
     "output_type": "execute_result"
    },
    {
     "data": {
      "text/plain": "<Figure size 432x288 with 1 Axes>",
      "image/png": "[encoded data removed]"
     },
     "metadata": {
      "needs_background": "light"
     },
     "output_type": "display_data"
    }
   ],
   "source": [
    "import seaborn as sns\n",
    "import matplotlib as mpl\n",
    "import matplotlib.pyplot as plt\n",
    "%matplotlib inline\n",
    "\n",
    "sns.boxplot(y='item_cnt_day' , data = train)\n",
    "\n",
    "# 이상치가 많아 모양이 납작해졌다. 과한 이상치는 제거해야 한다."
   ],
   "metadata": {
    "collapsed": false,
    "pycharm": {
     "name": "#%%\n"
    }
   }
  },
  {
   "cell_type": "code",
   "execution_count": 36,
   "outputs": [
    {
     "data": {
      "text/plain": "<matplotlib.axes._subplots.AxesSubplot at 0x2560df8ccd0>"
     },
     "execution_count": 36,
     "metadata": {},
     "output_type": "execute_result"
    },
    {
     "data": {
      "text/plain": "<Figure size 432x288 with 1 Axes>",
      "image/png": "[encoded data removed]"
     },
     "metadata": {
      "needs_background": "light"
     },
     "output_type": "display_data"
    }
   ],
   "source": [
    "sns.boxplot(y = 'item_price' , data=train)\n",
    "\n",
    "# 판매가에 대한 박스플롯도 납작하다."
   ],
   "metadata": {
    "collapsed": false,
    "pycharm": {
     "name": "#%%\n"
    }
   }
  },
  {
   "cell_type": "markdown",
   "source": [
    "#### 그룹화"
   ],
   "metadata": {
    "collapsed": false,
    "pycharm": {
     "name": "#%% md\n"
    }
   }
  },
  {
   "cell_type": "code",
   "execution_count": 42,
   "outputs": [
    {
     "data": {
      "text/plain": "    date_block_num  item_cnt_day\n0                0      131479.0\n1                1      128090.0\n2                2      147142.0\n3                3      107190.0\n4                4      106970.0\n5                5      125381.0\n6                6      116966.0\n7                7      125291.0\n8                8      133332.0\n9                9      127541.0\n10              10      130009.0\n11              11      183342.0\n12              12      116899.0\n13              13      109687.0\n14              14      115297.0\n15              15       96556.0\n16              16       97790.0\n17              17       97429.0\n18              18       91280.0\n19              19      102721.0\n20              20       99208.0\n21              21      107422.0\n22              22      117845.0\n23              23      168755.0\n24              24      110971.0\n25              25       84198.0\n26              26       82014.0\n27              27       77827.0\n28              28       72295.0\n29              29       64114.0\n30              30       63187.0\n31              31       66079.0\n32              32       72843.0\n33              33       71056.0",
      "text/html": "<div>\n<style scoped>\n    .dataframe tbody tr th:only-of-type {\n        vertical-align: middle;\n    }\n\n    .dataframe tbody tr th {\n        vertical-align: top;\n    }\n\n    .dataframe thead th {\n        text-align: right;\n    }\n</style>\n<table border=\"1\" class=\"dataframe\">\n  <thead>\n    <tr style=\"text-align: right;\">\n      <th></th>\n      <th>date_block_num</th>\n      <th>item_cnt_day</th>\n    </tr>\n  </thead>\n  <tbody>\n    <tr>\n      <th>0</th>\n      <td>0</td>\n      <td>131479.0</td>\n    </tr>\n    <tr>\n      <th>1</th>\n      <td>1</td>\n      <td>128090.0</td>\n    </tr>\n    <tr>\n      <th>2</th>\n      <td>2</td>\n      <td>147142.0</td>\n    </tr>\n    <tr>\n      <th>3</th>\n      <td>3</td>\n      <td>107190.0</td>\n    </tr>\n    <tr>\n      <th>4</th>\n      <td>4</td>\n      <td>106970.0</td>\n    </tr>\n    <tr>\n      <th>5</th>\n      <td>5</td>\n      <td>125381.0</td>\n    </tr>\n    <tr>\n      <th>6</th>\n      <td>6</td>\n      <td>116966.0</td>\n    </tr>\n    <tr>\n      <th>7</th>\n      <td>7</td>\n      <td>125291.0</td>\n    </tr>\n    <tr>\n      <th>8</th>\n      <td>8</td>\n      <td>133332.0</td>\n    </tr>\n    <tr>\n      <th>9</th>\n      <td>9</td>\n      <td>127541.0</td>\n    </tr>\n    <tr>\n      <th>10</th>\n      <td>10</td>\n      <td>130009.0</td>\n    </tr>\n    <tr>\n      <th>11</th>\n      <td>11</td>\n      <td>183342.0</td>\n    </tr>\n    <tr>\n      <th>12</th>\n      <td>12</td>\n      <td>116899.0</td>\n    </tr>\n    <tr>\n      <th>13</th>\n      <td>13</td>\n      <td>109687.0</td>\n    </tr>\n    <tr>\n      <th>14</th>\n      <td>14</td>\n      <td>115297.0</td>\n    </tr>\n    <tr>\n      <th>15</th>\n      <td>15</td>\n      <td>96556.0</td>\n    </tr>\n    <tr>\n      <th>16</th>\n      <td>16</td>\n      <td>97790.0</td>\n    </tr>\n    <tr>\n      <th>17</th>\n      <td>17</td>\n      <td>97429.0</td>\n    </tr>\n    <tr>\n      <th>18</th>\n      <td>18</td>\n      <td>91280.0</td>\n    </tr>\n    <tr>\n      <th>19</th>\n      <td>19</td>\n      <td>102721.0</td>\n    </tr>\n    <tr>\n      <th>20</th>\n      <td>20</td>\n      <td>99208.0</td>\n    </tr>\n    <tr>\n      <th>21</th>\n      <td>21</td>\n      <td>107422.0</td>\n    </tr>\n    <tr>\n      <th>22</th>\n      <td>22</td>\n      <td>117845.0</td>\n    </tr>\n    <tr>\n      <th>23</th>\n      <td>23</td>\n      <td>168755.0</td>\n    </tr>\n    <tr>\n      <th>24</th>\n      <td>24</td>\n      <td>110971.0</td>\n    </tr>\n    <tr>\n      <th>25</th>\n      <td>25</td>\n      <td>84198.0</td>\n    </tr>\n    <tr>\n      <th>26</th>\n      <td>26</td>\n      <td>82014.0</td>\n    </tr>\n    <tr>\n      <th>27</th>\n      <td>27</td>\n      <td>77827.0</td>\n    </tr>\n    <tr>\n      <th>28</th>\n      <td>28</td>\n      <td>72295.0</td>\n    </tr>\n    <tr>\n      <th>29</th>\n      <td>29</td>\n      <td>64114.0</td>\n    </tr>\n    <tr>\n      <th>30</th>\n      <td>30</td>\n      <td>63187.0</td>\n    </tr>\n    <tr>\n      <th>31</th>\n      <td>31</td>\n      <td>66079.0</td>\n    </tr>\n    <tr>\n      <th>32</th>\n      <td>32</td>\n      <td>72843.0</td>\n    </tr>\n    <tr>\n      <th>33</th>\n      <td>33</td>\n      <td>71056.0</td>\n    </tr>\n  </tbody>\n</table>\n</div>"
     },
     "execution_count": 42,
     "metadata": {},
     "output_type": "execute_result"
    }
   ],
   "source": [
    "# 그룹화는 회귀 문제에서 자주 쓰인다. groupby() 함수\n",
    "\n",
    "group = train.groupby('date_block_num').agg({'item_cnt_day' : 'sum'})\n",
    "# date_block_num 피처를 기준으로 그룹화해 item_cnt_day 피처의 합(sum)을 구하는 코드이다.\n",
    "# 월별(date_block_num) 월간 판매량(item_cnt_day)의 합을 구한다는 말이다.\n",
    "group.reset_index()\n",
    "\n",
    "\n",
    "# groupby 원리\n",
    "\n",
    "# 1. DataFrame에 있는 한 개 이상의 피처를 기준으로 데이터를 분리한다.\n",
    "\n",
    "# 2. 분리된 각 그룹에 함수를 적용해 집계값을 구한다.(agg() 메서드로 item_cnt_day 피처에 'sum'함수를 적용해 판매량 합계를 구한다.\n",
    "\n",
    "# 3. 기준 피처별로 집계값 결과를 하나로 결합한다.\n",
    "\n",
    "# sum , mean ,median ,std ,var , count , min , max"
   ],
   "metadata": {
    "collapsed": false,
    "pycharm": {
     "name": "#%%\n"
    }
   }
  },
  {
   "cell_type": "code",
   "execution_count": 43,
   "outputs": [
    {
     "data": {
      "text/plain": "[Text(0, 0.5, 'Monthly item counts'),\n Text(0.5, 0, 'Date block number'),\n Text(0.5, 1.0, 'Distribution of monthly item counts by date block number')]"
     },
     "execution_count": 43,
     "metadata": {},
     "output_type": "execute_result"
    },
    {
     "data": {
      "text/plain": "<Figure size 792x360 with 1 Axes>",
      "image/png": "[encoded data removed]"
     },
     "metadata": {
      "needs_background": "light"
     },
     "output_type": "display_data"
    }
   ],
   "source": [
    "mpl.rc('font' , size = 13)\n",
    "figure , ax = plt.subplots()\n",
    "figure.set_size_inches(11,5)\n",
    "\n",
    "# 월별 총 상품 판매량\n",
    "\n",
    "group_month_sum = train.groupby('date_block_num').agg({'item_cnt_day' : 'sum'})\n",
    "group_month_sum = group_month_sum.reset_index()\n",
    "\n",
    "# 월별 총 상품 판매량 막대 그래프\n",
    "\n",
    "sns.barplot(x = 'date_block_num' , y ='item_cnt_day' , data = group_month_sum)\n",
    "\n",
    "# 그래프 제목 , x축 라벨, y축 라벨명 설정\n",
    "ax.set(title = 'Distribution of monthly item counts by date block number' ,\n",
    "       xlabel = 'Date block number' ,\n",
    "       ylabel = 'Monthly item counts')"
   ],
   "metadata": {
    "collapsed": false,
    "pycharm": {
     "name": "#%%\n"
    }
   }
  },
  {
   "cell_type": "markdown",
   "source": [
    "#### 상품분류별 판매량"
   ],
   "metadata": {
    "collapsed": false,
    "pycharm": {
     "name": "#%% md\n"
    }
   }
  },
  {
   "cell_type": "code",
   "execution_count": 44,
   "outputs": [
    {
     "data": {
      "text/plain": "84"
     },
     "execution_count": 44,
     "metadata": {},
     "output_type": "execute_result"
    }
   ],
   "source": [
    "train['item_category_id'].nunique() # 상품분류의 개수는 84개이다."
   ],
   "metadata": {
    "collapsed": false,
    "pycharm": {
     "name": "#%%\n"
    }
   }
  },
  {
   "cell_type": "code",
   "execution_count": 46,
   "outputs": [
    {
     "data": {
      "text/plain": "<Figure size 792x360 with 1 Axes>",
      "image/png": "[encoded data removed]"
     },
     "metadata": {
      "needs_background": "light"
     },
     "output_type": "display_data"
    }
   ],
   "source": [
    "figure, ax = plt.subplots()\n",
    "figure.set_size_inches(11,5)\n",
    "\n",
    "# 상품분류별 총 상품 판매량\n",
    "\n",
    "group_cat_sum = train.groupby('item_category_id').agg({'item_cnt_day' : 'sum'})\n",
    "group_cat_sum = group_cat_sum.reset_index()\n",
    "\n",
    "# 월간 판매량이 10,000개를 초과하는 상품분류만 추출\n",
    "group_cat_sum = group_cat_sum[group_cat_sum['item_cnt_day'] > 10000]\n",
    "\n",
    "# 상품분류별 총 상품 판매량 막대 그래프\n",
    "sns.barplot(x = 'item_category_id' , y = 'itelm_cnt_day' , data = group_cat_sum)\n",
    "ax.set(title = 'Distribution of total item counts by item category id' ,\n",
    "       xlabel = 'Date block number',\n",
    "       ylabel = 'Total item counts')\n",
    "ax.tick_params(axis = 'x' , labelrotation = 90) # x축 라벨 회전"
   ],
   "metadata": {
    "collapsed": false,
    "pycharm": {
     "name": "#%%\n"
    }
   }
  },
  {
   "cell_type": "markdown",
   "source": [
    "#### 상점별 판매량"
   ],
   "metadata": {
    "collapsed": false,
    "pycharm": {
     "name": "#%% md\n"
    }
   }
  },
  {
   "cell_type": "code",
   "execution_count": 50,
   "outputs": [
    {
     "data": {
      "text/plain": "<Figure size 792x360 with 1 Axes>",
      "image/png": "[encoded data removed]"
     },
     "metadata": {
      "needs_background": "light"
     },
     "output_type": "display_data"
    }
   ],
   "source": [
    "figure , ax = plt.subplots()\n",
    "figure.set_size_inches(11,5)\n",
    "\n",
    "# 상점별 총 상품 판매량\n",
    "group_shop_sum = train.groupby('shop_id').agg({'item_cnt_day' : 'sum'})\n",
    "group_shop_sum = group_shop_sum.reset_index()\n",
    "\n",
    "group_shop_sum = group_shop_sum[group_shop_sum['item_cnt_day'] > 10000]\n",
    "\n",
    "# 상점별 총 상품 판매량 막대 그래프\n",
    "sns.barplot(x = 'shop_id' , y= 'item_cnt_day' , data = group_shop_sum)\n",
    "ax.set(title = 'Distribution of total item counts by shop id',\n",
    "       xlabel = 'Date block number',\n",
    "       ylabel = 'Total item counts')\n",
    "ax.tick_params(axis = 'x' , labelrotation =90)"
   ],
   "metadata": {
    "collapsed": false,
    "pycharm": {
     "name": "#%%\n"
    }
   }
  },
  {
   "cell_type": "code",
   "execution_count": null,
   "outputs": [],
   "source": [],
   "metadata": {
    "collapsed": false,
    "pycharm": {
     "name": "#%%\n"
    }
   }
  }
 ],
 "metadata": {
  "kernelspec": {
   "display_name": "Python 3",
   "language": "python",
   "name": "python3"
  },
  "language_info": {
   "codemirror_mode": {
    "name": "ipython",
    "version": 2
   },
   "file_extension": ".py",
   "mimetype": "text/x-python",
   "name": "python",
   "nbconvert_exporter": "python",
   "pygments_lexer": "ipython2",
   "version": "2.7.6"
  }
 },
 "nbformat": 4,
 "nbformat_minor": 0
}