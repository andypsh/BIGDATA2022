{
 "cells": [
  {
   "cell_type": "code",
   "execution_count": 130,
   "metadata": {
    "collapsed": true,
    "pycharm": {
     "name": "#%%\n"
    }
   },
   "outputs": [],
   "source": [
    "import gc\n",
    "import numpy as np\n",
    "import pandas as pd\n",
    "\n",
    "# 데이터경로\n",
    "\n",
    "data_path = './competitive-data-science-predict-future-sales/'\n",
    "\n",
    "sales_train = pd.read_csv(data_path + 'sales_train.csv')\n",
    "shops = pd.read_csv(data_path + 'shops.csv')\n",
    "items = pd.read_csv(data_path + 'items.csv')\n",
    "item_categories = pd.read_csv(data_path + 'item_categories.csv')\n",
    "test = pd.read_csv(data_path +'test.csv')\n",
    "submission = pd.read_csv(data_path +'sample_submission.csv')"
   ]
  },
  {
   "cell_type": "code",
   "execution_count": 131,
   "outputs": [],
   "source": [
    "## 피처 엔지니어링 1 : 피처명 한글화와 데이터 다운캐스팅\n",
    "\n",
    "sales_train = sales_train.rename(columns = {'date' : '날짜' ,\n",
    "                                            'date_block_num' : '월ID',\n",
    "                                            'shop_id' : '상점ID',\n",
    "                                            'item_id' : '상품ID',\n",
    "                                            'item_price' : '판매가',\n",
    "                                            'item_cnt_day' : '판매량'})\n",
    "\n",
    "shops = shops.rename(columns = {'shop_name' : '상점명' ,\n",
    "                                'shop_id' : '상점ID'})\n",
    "\n",
    "items = items.rename(columns = {'item_name': '상품명',\n",
    "                                'item_id' : '상품ID',\n",
    "                                'item_category_id' : '상품분류ID'})\n",
    "\n",
    "item_categories = item_categories.rename(columns = {'item_category_name' : '상품분류명',\n",
    "                                                    'item_category_id' : '상품분류ID'})\n",
    "\n",
    "test = test.rename(columns = {'shop_id' : '상점ID',\n",
    "                              'item_id' : '상품ID'})\n"
   ],
   "metadata": {
    "collapsed": false,
    "pycharm": {
     "name": "#%%\n"
    }
   }
  },
  {
   "cell_type": "code",
   "execution_count": 132,
   "outputs": [
    {
     "name": "stdout",
     "output_type": "stream",
     "text": [
      "62.5% 압축됨\n",
      "38.6% 압축됨\n",
      "54.2% 압축됨\n",
      "39.9% 압축됨\n",
      "70.8% 압축됨\n"
     ]
    }
   ],
   "source": [
    "def downcast(df, verbose=True):\n",
    "    start_mem = df.memory_usage().sum() / 1024**2\n",
    "    for col in df.columns:\n",
    "        dtype_name = df[col].dtype.name\n",
    "        if dtype_name == 'object':\n",
    "            pass\n",
    "        elif dtype_name == 'bool':\n",
    "            df[col] = df[col].astype('int8')\n",
    "        elif dtype_name.startswith('int') or (df[col].round() == df[col]).all():\n",
    "            df[col] = pd.to_numeric(df[col] , downcast= 'integer')\n",
    "        else:\n",
    "            df[col] = pd.to_numeric(df[col] , downcast ='float')\n",
    "\n",
    "    end_mem = df.memory_usage().sum() / 1024**2\n",
    "    if verbose:\n",
    "        print('{:.1f}% 압축됨'.format(100 * (start_mem - end_mem) / start_mem))\n",
    "\n",
    "    return df\n",
    "\n",
    "all_df = [sales_train , shops , items , item_categories ,test]\n",
    "\n",
    "for df in all_df:\n",
    "    df= downcast(df)"
   ],
   "metadata": {
    "collapsed": false,
    "pycharm": {
     "name": "#%%\n"
    }
   }
  },
  {
   "cell_type": "markdown",
   "source": [
    "## 피처 엔지니어링 2 : 개별 데이터 피처 엔지니어링"
   ],
   "metadata": {
    "collapsed": false,
    "pycharm": {
     "name": "#%% md\n"
    }
   }
  },
  {
   "cell_type": "code",
   "execution_count": 133,
   "outputs": [
    {
     "data": {
      "text/plain": "           날짜  월ID  상점ID   상품ID          판매가  판매량\n0  02.01.2013    0    59  22154   999.000000    1\n1  03.01.2013    0    25   2552   899.000000    1\n2  05.01.2013    0    25   2552   899.000000   -1\n3  06.01.2013    0    25   2554  1709.050049    1\n4  15.01.2013    0    25   2555  1099.000000    1",
      "text/html": "<div>\n<style scoped>\n    .dataframe tbody tr th:only-of-type {\n        vertical-align: middle;\n    }\n\n    .dataframe tbody tr th {\n        vertical-align: top;\n    }\n\n    .dataframe thead th {\n        text-align: right;\n    }\n</style>\n<table border=\"1\" class=\"dataframe\">\n  <thead>\n    <tr style=\"text-align: right;\">\n      <th></th>\n      <th>날짜</th>\n      <th>월ID</th>\n      <th>상점ID</th>\n      <th>상품ID</th>\n      <th>판매가</th>\n      <th>판매량</th>\n    </tr>\n  </thead>\n  <tbody>\n    <tr>\n      <th>0</th>\n      <td>02.01.2013</td>\n      <td>0</td>\n      <td>59</td>\n      <td>22154</td>\n      <td>999.000000</td>\n      <td>1</td>\n    </tr>\n    <tr>\n      <th>1</th>\n      <td>03.01.2013</td>\n      <td>0</td>\n      <td>25</td>\n      <td>2552</td>\n      <td>899.000000</td>\n      <td>1</td>\n    </tr>\n    <tr>\n      <th>2</th>\n      <td>05.01.2013</td>\n      <td>0</td>\n      <td>25</td>\n      <td>2552</td>\n      <td>899.000000</td>\n      <td>-1</td>\n    </tr>\n    <tr>\n      <th>3</th>\n      <td>06.01.2013</td>\n      <td>0</td>\n      <td>25</td>\n      <td>2554</td>\n      <td>1709.050049</td>\n      <td>1</td>\n    </tr>\n    <tr>\n      <th>4</th>\n      <td>15.01.2013</td>\n      <td>0</td>\n      <td>25</td>\n      <td>2555</td>\n      <td>1099.000000</td>\n      <td>1</td>\n    </tr>\n  </tbody>\n</table>\n</div>"
     },
     "execution_count": 133,
     "metadata": {},
     "output_type": "execute_result"
    }
   ],
   "source": [
    "# sales_train 이상치 제거 및 전처리\n",
    "\n",
    "# sales_train의 판매가, 판매량 피처의 이상치를 제거한다.\n",
    "\n",
    "# 판매가, 판매량이 음수라면 환불 건이거나 오류이다. 이에 판매가, 판매량이 음수인 데이터는 이상치로 간주한다.\n",
    "\n",
    "# 판매가가 50,000이상인 데이터, 판매량이 1,000이상인 데이터도 이상치로 간주한다.\n",
    "\n",
    "# 결론적으로 0~ 50,000 사이이고, 판매량이 0 ~ 1,000 사이인 데이터만 추출한다.\n",
    "\n",
    "sales_train.head()"
   ],
   "metadata": {
    "collapsed": false,
    "pycharm": {
     "name": "#%%\n"
    }
   }
  },
  {
   "cell_type": "code",
   "execution_count": 134,
   "outputs": [],
   "source": [
    "# 판매가가 0 보다 큰 데이터 추출\n",
    "sales_train = sales_train[sales_train['판매가'] >0]\n",
    "\n",
    "# 판매가가 50000보다 작은 데이터 추출\n",
    "sales_train = sales_train[sales_train['판매가']<50000]\n",
    "\n",
    "# 판매량이 0보다 큰 데이터 추출\n",
    "\n",
    "sales_train = sales_train[sales_train['판매량']> 0]\n",
    "\n",
    "# 판매량이 1,000보다 작은 데이터 추출\n",
    "\n",
    "sales_train = sales_train[sales_train['판매량']<1000]"
   ],
   "metadata": {
    "collapsed": false,
    "pycharm": {
     "name": "#%%\n"
    }
   }
  },
  {
   "cell_type": "code",
   "execution_count": 135,
   "outputs": [
    {
     "name": "stdout",
     "output_type": "stream",
     "text": [
      "!Якутск Орджоникидзе, 56 фран || Якутск Орджоникидзе, 56\n",
      "!Якутск ТЦ \"Центральный\" фран || Якутск ТЦ \"Центральный\"\n",
      "Жуковский ул. Чкалова 39м? || Жуковский ул. Чкалова 39м²\n",
      "РостовНаДону ТРК \"Мегацентр Горизонт\" || РостовНаДону ТРК \"Мегацентр Горизонт\" Островной\n"
     ]
    }
   ],
   "source": [
    "print(shops['상점명'][0] , '||' , shops['상점명'][57])\n",
    "print(shops['상점명'][1] , '||' , shops['상점명'][58])\n",
    "print(shops['상점명'][10] , '||' , shops['상점명'][11])\n",
    "print(shops['상점명'][39] , '||' , shops['상점명'][40])"
   ],
   "metadata": {
    "collapsed": false,
    "pycharm": {
     "name": "#%%\n"
    }
   }
  },
  {
   "cell_type": "code",
   "execution_count": 136,
   "outputs": [],
   "source": [
    "# sales_train 과 test 데이터에서 상품ID 0은 57로 , 1은 58로, 10은 11로 , 39는 40으로 수정한다.\n",
    "# 상점명은 놔두고 상품ID를 수정한다.\n",
    "\n",
    "sales_train.loc[sales_train['상점ID'] == 0 , '상점ID'] = 57\n",
    "sales_train.loc[sales_train['상점ID'] == 1 , '상점ID'] = 58\n",
    "sales_train.loc[sales_train['상점ID'] == 10 , '상점ID'] = 11\n",
    "sales_train.loc[sales_train['상점ID'] == 39 , '상점ID'] = 40\n",
    "\n",
    "# test 데이터에서 상점ID 수정\n",
    "test.loc[test['상점ID'] ==0 , '상점ID'] = 57\n",
    "test.loc[test['상점ID'] ==1 , '상점ID'] = 58\n",
    "test.loc[test['상점ID'] ==10 , '상점ID'] = 11\n",
    "test.loc[test['상점ID'] ==39 , '상점ID'] = 40"
   ],
   "metadata": {
    "collapsed": false,
    "pycharm": {
     "name": "#%%\n"
    }
   }
  },
  {
   "cell_type": "code",
   "execution_count": 137,
   "outputs": [
    {
     "data": {
      "text/plain": "                              상점명  상점ID\n0   !Якутск Орджоникидзе, 56 фран     0\n1   !Якутск ТЦ \"Центральный\" фран     1\n2                Адыгея ТЦ \"Мега\"     2\n3  Балашиха ТРК \"Октябрь-Киномир\"     3\n4        Волжский ТЦ \"Волга Молл\"     4",
      "text/html": "<div>\n<style scoped>\n    .dataframe tbody tr th:only-of-type {\n        vertical-align: middle;\n    }\n\n    .dataframe tbody tr th {\n        vertical-align: top;\n    }\n\n    .dataframe thead th {\n        text-align: right;\n    }\n</style>\n<table border=\"1\" class=\"dataframe\">\n  <thead>\n    <tr style=\"text-align: right;\">\n      <th></th>\n      <th>상점명</th>\n      <th>상점ID</th>\n    </tr>\n  </thead>\n  <tbody>\n    <tr>\n      <th>0</th>\n      <td>!Якутск Орджоникидзе, 56 фран</td>\n      <td>0</td>\n    </tr>\n    <tr>\n      <th>1</th>\n      <td>!Якутск ТЦ \"Центральный\" фран</td>\n      <td>1</td>\n    </tr>\n    <tr>\n      <th>2</th>\n      <td>Адыгея ТЦ \"Мега\"</td>\n      <td>2</td>\n    </tr>\n    <tr>\n      <th>3</th>\n      <td>Балашиха ТРК \"Октябрь-Киномир\"</td>\n      <td>3</td>\n    </tr>\n    <tr>\n      <th>4</th>\n      <td>Волжский ТЦ \"Волга Молл\"</td>\n      <td>4</td>\n    </tr>\n  </tbody>\n</table>\n</div>"
     },
     "execution_count": 137,
     "metadata": {},
     "output_type": "execute_result"
    }
   ],
   "source": [
    "# shops 파생 피처 생성 및 인코딩\n",
    "\n",
    "# shops에도 상점명이 러시아어로 되어 있다.\n",
    "\n",
    "# 상점명의 첫 단어가 도시라는 사실이 있다.\n",
    "\n",
    "# 상점명을 이용해 도시 피처를 만들 수 있다.\n",
    "\n",
    "shops.head()"
   ],
   "metadata": {
    "collapsed": false,
    "pycharm": {
     "name": "#%%\n"
    }
   }
  },
  {
   "cell_type": "code",
   "execution_count": 138,
   "outputs": [
    {
     "data": {
      "text/plain": "array(['!Якутск', 'Адыгея', 'Балашиха', 'Волжский', 'Вологда', 'Воронеж',\n       'Выездная', 'Жуковский', 'Интернет-магазин', 'Казань', 'Калуга',\n       'Коломна', 'Красноярск', 'Курск', 'Москва', 'Мытищи', 'Н.Новгород',\n       'Новосибирск', 'Омск', 'РостовНаДону', 'СПб', 'Самара', 'Сергиев',\n       'Сургут', 'Томск', 'Тюмень', 'Уфа', 'Химки', 'Цифровой', 'Чехов',\n       'Якутск', 'Ярославль'], dtype=object)"
     },
     "execution_count": 138,
     "metadata": {},
     "output_type": "execute_result"
    }
   ],
   "source": [
    "shops['도시'] = shops['상점명'].apply(lambda x : x.split()[0])\n",
    "\n",
    "shops['도시'].unique()"
   ],
   "metadata": {
    "collapsed": false,
    "pycharm": {
     "name": "#%%\n"
    }
   }
  },
  {
   "cell_type": "code",
   "execution_count": 139,
   "outputs": [],
   "source": [
    "shops.loc[shops['도시'] =='!Якутск' , '도시'] = 'Якутск'\n",
    "\n",
    "# 도시명은 범주형 피처이다. 머신러닝 모델은 문자를 인식하지 못하므로 숫자로 바꿔야 한다.\n",
    "\n",
    "# 레이블 인코딩을 적용한다.\n",
    "\n",
    "# 레이블 인코딩의 단점은 서로 가까운 숫자를 비슷한 데이터로 판단하여 성능을 떨어뜨릴 수 있다. 트리 기반 모델을 사용할 땐 레이블 인코딩을 해도 큰 지장이 없다.\n",
    "\n",
    "# 트리 기반 모델 특성상 분기를 반복하면서 피처 정보를 반영하므로 레이블 인코딩의 단점이 어느 정도 무마 된다."
   ],
   "metadata": {
    "collapsed": false,
    "pycharm": {
     "name": "#%%\n"
    }
   }
  },
  {
   "cell_type": "code",
   "execution_count": 140,
   "outputs": [],
   "source": [
    "from sklearn.preprocessing import LabelEncoder\n",
    "\n",
    "# 레이블 인코더 생성\n",
    "label_encoder = LabelEncoder()\n",
    "\n",
    "# 도시 피처 레이블 인코딩\n",
    "shops['도시'] = label_encoder.fit_transform(shops['도시'])"
   ],
   "metadata": {
    "collapsed": false,
    "pycharm": {
     "name": "#%%\n"
    }
   }
  },
  {
   "cell_type": "code",
   "execution_count": 141,
   "outputs": [
    {
     "data": {
      "text/plain": "0     29\n1     29\n2      0\n3      1\n4      2\n5      3\n6      4\n7      4\n8      4\n9      5\n10     6\n11     6\n12     7\n13     8\n14     8\n15     9\n16    10\n17    11\n18    11\n19    12\n20    13\n21    13\n22    13\n23    13\n24    13\n25    13\n26    13\n27    13\n28    13\n29    13\n30    13\n31    13\n32    13\n33    14\n34    15\n35    15\n36    16\n37    16\n38    17\n39    18\n40    18\n41    18\n42    19\n43    19\n44    20\n45    20\n46    21\n47    22\n48    23\n49    24\n50    24\n51    24\n52    25\n53    25\n54    26\n55    27\n56    28\n57    29\n58    29\n59    30\nName: 도시, dtype: int32"
     },
     "execution_count": 141,
     "metadata": {},
     "output_type": "execute_result"
    }
   ],
   "source": [
    "shops['도시']"
   ],
   "metadata": {
    "collapsed": false,
    "pycharm": {
     "name": "#%%\n"
    }
   }
  },
  {
   "cell_type": "code",
   "execution_count": 142,
   "outputs": [
    {
     "data": {
      "text/plain": "   상점ID  도시\n0     0  29\n1     1  29\n2     2   0\n3     3   1\n4     4   2",
      "text/html": "<div>\n<style scoped>\n    .dataframe tbody tr th:only-of-type {\n        vertical-align: middle;\n    }\n\n    .dataframe tbody tr th {\n        vertical-align: top;\n    }\n\n    .dataframe thead th {\n        text-align: right;\n    }\n</style>\n<table border=\"1\" class=\"dataframe\">\n  <thead>\n    <tr style=\"text-align: right;\">\n      <th></th>\n      <th>상점ID</th>\n      <th>도시</th>\n    </tr>\n  </thead>\n  <tbody>\n    <tr>\n      <th>0</th>\n      <td>0</td>\n      <td>29</td>\n    </tr>\n    <tr>\n      <th>1</th>\n      <td>1</td>\n      <td>29</td>\n    </tr>\n    <tr>\n      <th>2</th>\n      <td>2</td>\n      <td>0</td>\n    </tr>\n    <tr>\n      <th>3</th>\n      <td>3</td>\n      <td>1</td>\n    </tr>\n    <tr>\n      <th>4</th>\n      <td>4</td>\n      <td>2</td>\n    </tr>\n  </tbody>\n</table>\n</div>"
     },
     "execution_count": 142,
     "metadata": {},
     "output_type": "execute_result"
    }
   ],
   "source": [
    "# 상점명 피처를 활용해 도시 피처를 만들어 인코딩을 마쳤다. 이제 상점명 피처는 모델링에 더이상 필요가 없다.\n",
    "\n",
    "shops = shops.drop('상점명' , axis = 1)\n",
    "\n",
    "shops.head()"
   ],
   "metadata": {
    "collapsed": false,
    "pycharm": {
     "name": "#%%\n"
    }
   }
  },
  {
   "cell_type": "markdown",
   "source": [
    "## items 파생 피처 생성"
   ],
   "metadata": {
    "collapsed": false,
    "pycharm": {
     "name": "#%% md\n"
    }
   }
  },
  {
   "cell_type": "code",
   "execution_count": 143,
   "outputs": [],
   "source": [
    "#items를 활용하여 '첫 판매월' 피처를 구해본다.\n",
    "\n",
    "# 상품명 피처 제거\n",
    "\n",
    "items = items.drop(['상품명'], axis =1) # 상품명의 경우 상품ID와 일대일 매칭되어 있어서 제거해도 된다."
   ],
   "metadata": {
    "collapsed": false,
    "pycharm": {
     "name": "#%%\n"
    }
   }
  },
  {
   "cell_type": "code",
   "execution_count": 144,
   "outputs": [
    {
     "data": {
      "text/plain": "   상품ID  상품분류ID\n0     0      40\n1     1      76\n2     2      40\n3     3      40\n4     4      40",
      "text/html": "<div>\n<style scoped>\n    .dataframe tbody tr th:only-of-type {\n        vertical-align: middle;\n    }\n\n    .dataframe tbody tr th {\n        vertical-align: top;\n    }\n\n    .dataframe thead th {\n        text-align: right;\n    }\n</style>\n<table border=\"1\" class=\"dataframe\">\n  <thead>\n    <tr style=\"text-align: right;\">\n      <th></th>\n      <th>상품ID</th>\n      <th>상품분류ID</th>\n    </tr>\n  </thead>\n  <tbody>\n    <tr>\n      <th>0</th>\n      <td>0</td>\n      <td>40</td>\n    </tr>\n    <tr>\n      <th>1</th>\n      <td>1</td>\n      <td>76</td>\n    </tr>\n    <tr>\n      <th>2</th>\n      <td>2</td>\n      <td>40</td>\n    </tr>\n    <tr>\n      <th>3</th>\n      <td>3</td>\n      <td>40</td>\n    </tr>\n    <tr>\n      <th>4</th>\n      <td>4</td>\n      <td>40</td>\n    </tr>\n  </tbody>\n</table>\n</div>"
     },
     "execution_count": 144,
     "metadata": {},
     "output_type": "execute_result"
    }
   ],
   "source": [
    "items.head()"
   ],
   "metadata": {
    "collapsed": false,
    "pycharm": {
     "name": "#%%\n"
    }
   }
  },
  {
   "cell_type": "code",
   "execution_count": 145,
   "outputs": [
    {
     "data": {
      "text/plain": "           날짜  월ID  상점ID   상품ID          판매가  판매량\n0  02.01.2013    0    59  22154   999.000000    1\n1  03.01.2013    0    25   2552   899.000000    1\n3  06.01.2013    0    25   2554  1709.050049    1\n4  15.01.2013    0    25   2555  1099.000000    1\n5  10.01.2013    0    25   2564   349.000000    1",
      "text/html": "<div>\n<style scoped>\n    .dataframe tbody tr th:only-of-type {\n        vertical-align: middle;\n    }\n\n    .dataframe tbody tr th {\n        vertical-align: top;\n    }\n\n    .dataframe thead th {\n        text-align: right;\n    }\n</style>\n<table border=\"1\" class=\"dataframe\">\n  <thead>\n    <tr style=\"text-align: right;\">\n      <th></th>\n      <th>날짜</th>\n      <th>월ID</th>\n      <th>상점ID</th>\n      <th>상품ID</th>\n      <th>판매가</th>\n      <th>판매량</th>\n    </tr>\n  </thead>\n  <tbody>\n    <tr>\n      <th>0</th>\n      <td>02.01.2013</td>\n      <td>0</td>\n      <td>59</td>\n      <td>22154</td>\n      <td>999.000000</td>\n      <td>1</td>\n    </tr>\n    <tr>\n      <th>1</th>\n      <td>03.01.2013</td>\n      <td>0</td>\n      <td>25</td>\n      <td>2552</td>\n      <td>899.000000</td>\n      <td>1</td>\n    </tr>\n    <tr>\n      <th>3</th>\n      <td>06.01.2013</td>\n      <td>0</td>\n      <td>25</td>\n      <td>2554</td>\n      <td>1709.050049</td>\n      <td>1</td>\n    </tr>\n    <tr>\n      <th>4</th>\n      <td>15.01.2013</td>\n      <td>0</td>\n      <td>25</td>\n      <td>2555</td>\n      <td>1099.000000</td>\n      <td>1</td>\n    </tr>\n    <tr>\n      <th>5</th>\n      <td>10.01.2013</td>\n      <td>0</td>\n      <td>25</td>\n      <td>2564</td>\n      <td>349.000000</td>\n      <td>1</td>\n    </tr>\n  </tbody>\n</table>\n</div>"
     },
     "execution_count": 145,
     "metadata": {},
     "output_type": "execute_result"
    }
   ],
   "source": [
    "sales_train.head()"
   ],
   "metadata": {
    "collapsed": false,
    "pycharm": {
     "name": "#%%\n"
    }
   }
  },
  {
   "cell_type": "code",
   "execution_count": 146,
   "outputs": [
    {
     "data": {
      "text/plain": "        상품ID  상품분류ID  첫 판매월\n0          0      40   20.0\n1          1      76   15.0\n2          2      40   19.0\n3          3      40   18.0\n4          4      40   20.0\n...      ...     ...    ...\n22165  22165      31    7.0\n22166  22166      54    9.0\n22167  22167      49    8.0\n22168  22168      62    0.0\n22169  22169      69   14.0\n\n[22170 rows x 3 columns]",
      "text/html": "<div>\n<style scoped>\n    .dataframe tbody tr th:only-of-type {\n        vertical-align: middle;\n    }\n\n    .dataframe tbody tr th {\n        vertical-align: top;\n    }\n\n    .dataframe thead th {\n        text-align: right;\n    }\n</style>\n<table border=\"1\" class=\"dataframe\">\n  <thead>\n    <tr style=\"text-align: right;\">\n      <th></th>\n      <th>상품ID</th>\n      <th>상품분류ID</th>\n      <th>첫 판매월</th>\n    </tr>\n  </thead>\n  <tbody>\n    <tr>\n      <th>0</th>\n      <td>0</td>\n      <td>40</td>\n      <td>20.0</td>\n    </tr>\n    <tr>\n      <th>1</th>\n      <td>1</td>\n      <td>76</td>\n      <td>15.0</td>\n    </tr>\n    <tr>\n      <th>2</th>\n      <td>2</td>\n      <td>40</td>\n      <td>19.0</td>\n    </tr>\n    <tr>\n      <th>3</th>\n      <td>3</td>\n      <td>40</td>\n      <td>18.0</td>\n    </tr>\n    <tr>\n      <th>4</th>\n      <td>4</td>\n      <td>40</td>\n      <td>20.0</td>\n    </tr>\n    <tr>\n      <th>...</th>\n      <td>...</td>\n      <td>...</td>\n      <td>...</td>\n    </tr>\n    <tr>\n      <th>22165</th>\n      <td>22165</td>\n      <td>31</td>\n      <td>7.0</td>\n    </tr>\n    <tr>\n      <th>22166</th>\n      <td>22166</td>\n      <td>54</td>\n      <td>9.0</td>\n    </tr>\n    <tr>\n      <th>22167</th>\n      <td>22167</td>\n      <td>49</td>\n      <td>8.0</td>\n    </tr>\n    <tr>\n      <th>22168</th>\n      <td>22168</td>\n      <td>62</td>\n      <td>0.0</td>\n    </tr>\n    <tr>\n      <th>22169</th>\n      <td>22169</td>\n      <td>69</td>\n      <td>14.0</td>\n    </tr>\n  </tbody>\n</table>\n<p>22170 rows × 3 columns</p>\n</div>"
     },
     "execution_count": 146,
     "metadata": {},
     "output_type": "execute_result"
    }
   ],
   "source": [
    "# 상품이 맨 처음 팔린 날을 피처 추가\n",
    "\n",
    "items['첫 판매월'] = sales_train.groupby('상품ID').agg({'월ID' : 'min'})['월ID']\n",
    "\n",
    "items"
   ],
   "metadata": {
    "collapsed": false,
    "pycharm": {
     "name": "#%%\n"
    }
   }
  },
  {
   "cell_type": "code",
   "execution_count": 147,
   "outputs": [
    {
     "data": {
      "text/plain": "        상품ID  상품분류ID  첫 판매월\n83        83      40    NaN\n140      140      45    NaN\n168      168      44    NaN\n173      173      45    NaN\n204      204      44    NaN\n...      ...     ...    ...\n21974  21974      61    NaN\n21975  21975      61    NaN\n22022  22022      40    NaN\n22035  22035      40    NaN\n22137  22137      40    NaN\n\n[368 rows x 3 columns]",
      "text/html": "<div>\n<style scoped>\n    .dataframe tbody tr th:only-of-type {\n        vertical-align: middle;\n    }\n\n    .dataframe tbody tr th {\n        vertical-align: top;\n    }\n\n    .dataframe thead th {\n        text-align: right;\n    }\n</style>\n<table border=\"1\" class=\"dataframe\">\n  <thead>\n    <tr style=\"text-align: right;\">\n      <th></th>\n      <th>상품ID</th>\n      <th>상품분류ID</th>\n      <th>첫 판매월</th>\n    </tr>\n  </thead>\n  <tbody>\n    <tr>\n      <th>83</th>\n      <td>83</td>\n      <td>40</td>\n      <td>NaN</td>\n    </tr>\n    <tr>\n      <th>140</th>\n      <td>140</td>\n      <td>45</td>\n      <td>NaN</td>\n    </tr>\n    <tr>\n      <th>168</th>\n      <td>168</td>\n      <td>44</td>\n      <td>NaN</td>\n    </tr>\n    <tr>\n      <th>173</th>\n      <td>173</td>\n      <td>45</td>\n      <td>NaN</td>\n    </tr>\n    <tr>\n      <th>204</th>\n      <td>204</td>\n      <td>44</td>\n      <td>NaN</td>\n    </tr>\n    <tr>\n      <th>...</th>\n      <td>...</td>\n      <td>...</td>\n      <td>...</td>\n    </tr>\n    <tr>\n      <th>21974</th>\n      <td>21974</td>\n      <td>61</td>\n      <td>NaN</td>\n    </tr>\n    <tr>\n      <th>21975</th>\n      <td>21975</td>\n      <td>61</td>\n      <td>NaN</td>\n    </tr>\n    <tr>\n      <th>22022</th>\n      <td>22022</td>\n      <td>40</td>\n      <td>NaN</td>\n    </tr>\n    <tr>\n      <th>22035</th>\n      <td>22035</td>\n      <td>40</td>\n      <td>NaN</td>\n    </tr>\n    <tr>\n      <th>22137</th>\n      <td>22137</td>\n      <td>40</td>\n      <td>NaN</td>\n    </tr>\n  </tbody>\n</table>\n<p>368 rows × 3 columns</p>\n</div>"
     },
     "execution_count": 147,
     "metadata": {},
     "output_type": "execute_result"
    }
   ],
   "source": [
    "items[items['첫 판매월'].isna()] # 해당 상품이 한 번도 판매된 적이 없는 것"
   ],
   "metadata": {
    "collapsed": false,
    "pycharm": {
     "name": "#%%\n"
    }
   }
  },
  {
   "cell_type": "code",
   "execution_count": 148,
   "outputs": [],
   "source": [
    "# 훈련 데이터는 2013년 1월 부터 2015년 10월 까지의 판매 내역이다.\n",
    "\n",
    "# 월ID는 0부터 33이다.\n",
    "\n",
    "# 테스트 데이터는 2015년 11월 판매 내역이다. 월ID는 34이다.\n",
    "\n",
    "# 2013년 1월 부터 2015년 10월 까지 한 번도 팔리지 않은 상품이 있다면 그 상품이 처음 팔린 달을 2015년 11월이라고 가정해도 딘다.\n",
    "\n",
    "# 첫 판매월 피처의 결측값을 34로 대체 해도 된다.\n",
    "\n",
    "# 2015년 11월에도 안 팔릴 수 있다. 하지만 테스트 데이터에 없는 상품이면 아예 고려 대상이 되지 않는다.(테스트 데이터에도 없다는 말은 2015년 11월에도 안 팔렸다는 뜻이다.)\n",
    "\n",
    "items['첫 판매월'] = items['첫 판매월'].fillna(34)"
   ],
   "metadata": {
    "collapsed": false,
    "pycharm": {
     "name": "#%%\n"
    }
   }
  },
  {
   "cell_type": "markdown",
   "source": [
    "## item_categories 파생 피처 생성 및 인코딩\n",
    "\n"
   ],
   "metadata": {
    "collapsed": false,
    "pycharm": {
     "name": "#%% md\n"
    }
   }
  },
  {
   "cell_type": "code",
   "execution_count": 149,
   "outputs": [],
   "source": [
    "# item_cateories 에서 '대분류'라는 파생 피처를 만들고, 이를 인코딩해본다.\n",
    "\n",
    "# item_categories는 상품분류명을 담고 있다. 상품분류명의 첫 단어가 범주 대분류이다.\n",
    "\n",
    "item_categories['대분류'] = item_categories['상품분류명'].apply(lambda x: x.split()[0])"
   ],
   "metadata": {
    "collapsed": false,
    "pycharm": {
     "name": "#%%\n"
    }
   }
  },
  {
   "cell_type": "code",
   "execution_count": 150,
   "outputs": [
    {
     "data": {
      "text/plain": "Игры          14\nКниги         13\nПодарки       12\nИгровые        8\nАксессуары     7\nМузыка         6\nПрограммы      6\nКино           5\nКарты          5\nЧистые         2\nСлужебные      2\nДоставка       1\nЭлементы       1\nБилеты         1\nPC             1\nName: 대분류, dtype: int64"
     },
     "execution_count": 150,
     "metadata": {},
     "output_type": "execute_result"
    }
   ],
   "source": [
    "item_categories['대분류'].value_counts()"
   ],
   "metadata": {
    "collapsed": false,
    "pycharm": {
     "name": "#%%\n"
    }
   }
  },
  {
   "cell_type": "markdown",
   "source": [
    "## 피처 엔지니어링 3 : 데이터 조합 및 파생 피처 생성"
   ],
   "metadata": {
    "collapsed": false,
    "pycharm": {
     "name": "#%% md\n"
    }
   }
  },
  {
   "cell_type": "code",
   "execution_count": 151,
   "outputs": [
    {
     "data": {
      "text/plain": "          월ID  상점ID   상품ID\n0           0    59  22154\n1           0    59   2552\n2           0    59   2554\n3           0    59   2555\n4           0    59   2564\n...       ...   ...    ...\n10812763   33    21   7635\n10812764   33    21   7638\n10812765   33    21   7640\n10812766   33    21   7632\n10812767   33    21   7440\n\n[10812768 rows x 3 columns]",
      "text/html": "<div>\n<style scoped>\n    .dataframe tbody tr th:only-of-type {\n        vertical-align: middle;\n    }\n\n    .dataframe tbody tr th {\n        vertical-align: top;\n    }\n\n    .dataframe thead th {\n        text-align: right;\n    }\n</style>\n<table border=\"1\" class=\"dataframe\">\n  <thead>\n    <tr style=\"text-align: right;\">\n      <th></th>\n      <th>월ID</th>\n      <th>상점ID</th>\n      <th>상품ID</th>\n    </tr>\n  </thead>\n  <tbody>\n    <tr>\n      <th>0</th>\n      <td>0</td>\n      <td>59</td>\n      <td>22154</td>\n    </tr>\n    <tr>\n      <th>1</th>\n      <td>0</td>\n      <td>59</td>\n      <td>2552</td>\n    </tr>\n    <tr>\n      <th>2</th>\n      <td>0</td>\n      <td>59</td>\n      <td>2554</td>\n    </tr>\n    <tr>\n      <th>3</th>\n      <td>0</td>\n      <td>59</td>\n      <td>2555</td>\n    </tr>\n    <tr>\n      <th>4</th>\n      <td>0</td>\n      <td>59</td>\n      <td>2564</td>\n    </tr>\n    <tr>\n      <th>...</th>\n      <td>...</td>\n      <td>...</td>\n      <td>...</td>\n    </tr>\n    <tr>\n      <th>10812763</th>\n      <td>33</td>\n      <td>21</td>\n      <td>7635</td>\n    </tr>\n    <tr>\n      <th>10812764</th>\n      <td>33</td>\n      <td>21</td>\n      <td>7638</td>\n    </tr>\n    <tr>\n      <th>10812765</th>\n      <td>33</td>\n      <td>21</td>\n      <td>7640</td>\n    </tr>\n    <tr>\n      <th>10812766</th>\n      <td>33</td>\n      <td>21</td>\n      <td>7632</td>\n    </tr>\n    <tr>\n      <th>10812767</th>\n      <td>33</td>\n      <td>21</td>\n      <td>7440</td>\n    </tr>\n  </tbody>\n</table>\n<p>10812768 rows × 3 columns</p>\n</div>"
     },
     "execution_count": 151,
     "metadata": {},
     "output_type": "execute_result"
    }
   ],
   "source": [
    "# 데이터 조합\n",
    "\n",
    "from itertools import product\n",
    "\n",
    "train = []\n",
    "\n",
    "# 월 ID, 상점 ID , 상품 ID 조합 생성\n",
    "\n",
    "for i in sales_train['월ID'].unique():\n",
    "    all_shop = sales_train.loc[sales_train['월ID'] ==i, '상점ID'].unique()\n",
    "    all_item = sales_train.loc[sales_train['월ID']==i,  '상품ID'].unique()\n",
    "    train.append(np.array(list(product([i] , all_shop, all_item))))\n",
    "\n",
    "idx_features = ['월ID' , '상점ID' , '상품ID'] # 기준 피처\n",
    "train = pd.DataFrame(np.vstack(train) , columns=idx_features)\n",
    "\n",
    "train"
   ],
   "metadata": {
    "collapsed": false,
    "pycharm": {
     "name": "#%%\n"
    }
   }
  },
  {
   "cell_type": "code",
   "execution_count": 152,
   "outputs": [
    {
     "data": {
      "text/plain": "   월ID  상점ID   상품ID  월간 판매량  평균 판매가\n0    0    59  22154     1.0   999.0\n1    0    59   2552     NaN     NaN\n2    0    59   2554     NaN     NaN\n3    0    59   2555     NaN     NaN\n4    0    59   2564     NaN     NaN",
      "text/html": "<div>\n<style scoped>\n    .dataframe tbody tr th:only-of-type {\n        vertical-align: middle;\n    }\n\n    .dataframe tbody tr th {\n        vertical-align: top;\n    }\n\n    .dataframe thead th {\n        text-align: right;\n    }\n</style>\n<table border=\"1\" class=\"dataframe\">\n  <thead>\n    <tr style=\"text-align: right;\">\n      <th></th>\n      <th>월ID</th>\n      <th>상점ID</th>\n      <th>상품ID</th>\n      <th>월간 판매량</th>\n      <th>평균 판매가</th>\n    </tr>\n  </thead>\n  <tbody>\n    <tr>\n      <th>0</th>\n      <td>0</td>\n      <td>59</td>\n      <td>22154</td>\n      <td>1.0</td>\n      <td>999.0</td>\n    </tr>\n    <tr>\n      <th>1</th>\n      <td>0</td>\n      <td>59</td>\n      <td>2552</td>\n      <td>NaN</td>\n      <td>NaN</td>\n    </tr>\n    <tr>\n      <th>2</th>\n      <td>0</td>\n      <td>59</td>\n      <td>2554</td>\n      <td>NaN</td>\n      <td>NaN</td>\n    </tr>\n    <tr>\n      <th>3</th>\n      <td>0</td>\n      <td>59</td>\n      <td>2555</td>\n      <td>NaN</td>\n      <td>NaN</td>\n    </tr>\n    <tr>\n      <th>4</th>\n      <td>0</td>\n      <td>59</td>\n      <td>2564</td>\n      <td>NaN</td>\n      <td>NaN</td>\n    </tr>\n  </tbody>\n</table>\n</div>"
     },
     "execution_count": 152,
     "metadata": {},
     "output_type": "execute_result"
    }
   ],
   "source": [
    "# 파생 피처 생성\n",
    "\n",
    "group = sales_train.groupby(idx_features).agg({'판매량' : 'sum', '판매가' : 'mean'})\n",
    "\n",
    "group = group.reset_index()\n",
    "group = group.rename(columns = {'판매량' : '월간 판매량' , '판매가' : '평균 판매가'})\n",
    "\n",
    "train = train.merge(group , on = idx_features , how= 'left')\n",
    "\n",
    "train.head()"
   ],
   "metadata": {
    "collapsed": false,
    "pycharm": {
     "name": "#%%\n"
    }
   }
  },
  {
   "cell_type": "code",
   "execution_count": 153,
   "outputs": [
    {
     "data": {
      "text/plain": "52"
     },
     "execution_count": 153,
     "metadata": {},
     "output_type": "execute_result"
    }
   ],
   "source": [
    "import gc\n",
    "# group 변수 가비지 컬렉션\n",
    "\n",
    "del group\n",
    "gc.collect()"
   ],
   "metadata": {
    "collapsed": false,
    "pycharm": {
     "name": "#%%\n"
    }
   }
  },
  {
   "cell_type": "code",
   "execution_count": 154,
   "outputs": [
    {
     "data": {
      "text/plain": "   월ID  상점ID  상품ID  판매건수\n0    0     2    27     1\n1    0     2    33     1\n2    0     2   317     1\n3    0     2   438     1\n4    0     2   471     2",
      "text/html": "<div>\n<style scoped>\n    .dataframe tbody tr th:only-of-type {\n        vertical-align: middle;\n    }\n\n    .dataframe tbody tr th {\n        vertical-align: top;\n    }\n\n    .dataframe thead th {\n        text-align: right;\n    }\n</style>\n<table border=\"1\" class=\"dataframe\">\n  <thead>\n    <tr style=\"text-align: right;\">\n      <th></th>\n      <th>월ID</th>\n      <th>상점ID</th>\n      <th>상품ID</th>\n      <th>판매건수</th>\n    </tr>\n  </thead>\n  <tbody>\n    <tr>\n      <th>0</th>\n      <td>0</td>\n      <td>2</td>\n      <td>27</td>\n      <td>1</td>\n    </tr>\n    <tr>\n      <th>1</th>\n      <td>0</td>\n      <td>2</td>\n      <td>33</td>\n      <td>1</td>\n    </tr>\n    <tr>\n      <th>2</th>\n      <td>0</td>\n      <td>2</td>\n      <td>317</td>\n      <td>1</td>\n    </tr>\n    <tr>\n      <th>3</th>\n      <td>0</td>\n      <td>2</td>\n      <td>438</td>\n      <td>1</td>\n    </tr>\n    <tr>\n      <th>4</th>\n      <td>0</td>\n      <td>2</td>\n      <td>471</td>\n      <td>2</td>\n    </tr>\n  </tbody>\n</table>\n</div>"
     },
     "execution_count": 154,
     "metadata": {},
     "output_type": "execute_result"
    }
   ],
   "source": [
    "# 상품 판매건수 피처 추가\n",
    "group = sales_train.groupby(idx_features).agg({'판매량' : 'count'})\n",
    "group = group.reset_index()\n",
    "group = group.rename(columns = {'판매량' : '판매건수'})\n",
    "\n",
    "\n",
    "group.head()"
   ],
   "metadata": {
    "collapsed": false,
    "pycharm": {
     "name": "#%%\n"
    }
   }
  },
  {
   "cell_type": "code",
   "execution_count": 155,
   "outputs": [
    {
     "data": {
      "text/plain": "   월ID  상점ID   상품ID  월간 판매량  평균 판매가  판매건수\n0    0    59  22154     1.0   999.0   1.0\n1    0    59   2552     NaN     NaN   NaN\n2    0    59   2554     NaN     NaN   NaN\n3    0    59   2555     NaN     NaN   NaN\n4    0    59   2564     NaN     NaN   NaN",
      "text/html": "<div>\n<style scoped>\n    .dataframe tbody tr th:only-of-type {\n        vertical-align: middle;\n    }\n\n    .dataframe tbody tr th {\n        vertical-align: top;\n    }\n\n    .dataframe thead th {\n        text-align: right;\n    }\n</style>\n<table border=\"1\" class=\"dataframe\">\n  <thead>\n    <tr style=\"text-align: right;\">\n      <th></th>\n      <th>월ID</th>\n      <th>상점ID</th>\n      <th>상품ID</th>\n      <th>월간 판매량</th>\n      <th>평균 판매가</th>\n      <th>판매건수</th>\n    </tr>\n  </thead>\n  <tbody>\n    <tr>\n      <th>0</th>\n      <td>0</td>\n      <td>59</td>\n      <td>22154</td>\n      <td>1.0</td>\n      <td>999.0</td>\n      <td>1.0</td>\n    </tr>\n    <tr>\n      <th>1</th>\n      <td>0</td>\n      <td>59</td>\n      <td>2552</td>\n      <td>NaN</td>\n      <td>NaN</td>\n      <td>NaN</td>\n    </tr>\n    <tr>\n      <th>2</th>\n      <td>0</td>\n      <td>59</td>\n      <td>2554</td>\n      <td>NaN</td>\n      <td>NaN</td>\n      <td>NaN</td>\n    </tr>\n    <tr>\n      <th>3</th>\n      <td>0</td>\n      <td>59</td>\n      <td>2555</td>\n      <td>NaN</td>\n      <td>NaN</td>\n      <td>NaN</td>\n    </tr>\n    <tr>\n      <th>4</th>\n      <td>0</td>\n      <td>59</td>\n      <td>2564</td>\n      <td>NaN</td>\n      <td>NaN</td>\n      <td>NaN</td>\n    </tr>\n  </tbody>\n</table>\n</div>"
     },
     "execution_count": 155,
     "metadata": {},
     "output_type": "execute_result"
    }
   ],
   "source": [
    "train = train.merge(group , on=idx_features , how = 'left')\n",
    "\n",
    "# 가비지 컬렉션\n",
    "\n",
    "del group, sales_train\n",
    "gc.collect()\n",
    "\n",
    "train.head()"
   ],
   "metadata": {
    "collapsed": false,
    "pycharm": {
     "name": "#%%\n"
    }
   }
  },
  {
   "cell_type": "markdown",
   "source": [
    "## 피처 엔지니어링 4 : 데이터 합치기"
   ],
   "metadata": {
    "collapsed": false,
    "pycharm": {
     "name": "#%% md\n"
    }
   }
  },
  {
   "cell_type": "code",
   "execution_count": 156,
   "outputs": [
    {
     "data": {
      "text/plain": "   월ID  상점ID   상품ID  월간 판매량  평균 판매가  판매건수\n0    0    59  22154     1.0   999.0   1.0\n1    0    59   2552     0.0     0.0   0.0\n2    0    59   2554     0.0     0.0   0.0\n3    0    59   2555     0.0     0.0   0.0\n4    0    59   2564     0.0     0.0   0.0",
      "text/html": "<div>\n<style scoped>\n    .dataframe tbody tr th:only-of-type {\n        vertical-align: middle;\n    }\n\n    .dataframe tbody tr th {\n        vertical-align: top;\n    }\n\n    .dataframe thead th {\n        text-align: right;\n    }\n</style>\n<table border=\"1\" class=\"dataframe\">\n  <thead>\n    <tr style=\"text-align: right;\">\n      <th></th>\n      <th>월ID</th>\n      <th>상점ID</th>\n      <th>상품ID</th>\n      <th>월간 판매량</th>\n      <th>평균 판매가</th>\n      <th>판매건수</th>\n    </tr>\n  </thead>\n  <tbody>\n    <tr>\n      <th>0</th>\n      <td>0</td>\n      <td>59</td>\n      <td>22154</td>\n      <td>1.0</td>\n      <td>999.0</td>\n      <td>1.0</td>\n    </tr>\n    <tr>\n      <th>1</th>\n      <td>0</td>\n      <td>59</td>\n      <td>2552</td>\n      <td>0.0</td>\n      <td>0.0</td>\n      <td>0.0</td>\n    </tr>\n    <tr>\n      <th>2</th>\n      <td>0</td>\n      <td>59</td>\n      <td>2554</td>\n      <td>0.0</td>\n      <td>0.0</td>\n      <td>0.0</td>\n    </tr>\n    <tr>\n      <th>3</th>\n      <td>0</td>\n      <td>59</td>\n      <td>2555</td>\n      <td>0.0</td>\n      <td>0.0</td>\n      <td>0.0</td>\n    </tr>\n    <tr>\n      <th>4</th>\n      <td>0</td>\n      <td>59</td>\n      <td>2564</td>\n      <td>0.0</td>\n      <td>0.0</td>\n      <td>0.0</td>\n    </tr>\n  </tbody>\n</table>\n</div>"
     },
     "execution_count": 156,
     "metadata": {},
     "output_type": "execute_result"
    }
   ],
   "source": [
    "# 테스트 데이터 월ID를 34로 설정\n",
    "test['월ID'] = 34\n",
    "\n",
    "# train과 test 이어 붙이기\n",
    "all_data = pd.concat([train , test.drop('ID' , axis =1)],\n",
    "                     ignore_index= True,\n",
    "                     keys= idx_features)\n",
    "\n",
    "# 결측값을 0으로 대체\n",
    "all_data = all_data.fillna(0)\n",
    "\n",
    "all_data.head()\n",
    "\n",
    "# train에 test를 이어붙여 all_data를 만들었다."
   ],
   "metadata": {
    "collapsed": false,
    "pycharm": {
     "name": "#%%\n"
    }
   }
  },
  {
   "cell_type": "code",
   "execution_count": 157,
   "outputs": [
    {
     "name": "stdout",
     "output_type": "stream",
     "text": [
      "44.9% 압축됨\n"
     ]
    }
   ],
   "source": [
    "# 나머지 데이터 병합\n",
    "all_data = all_data.merge(shops, on ='상점ID' , how = 'left')\n",
    "all_data = all_data.merge(items, on ='상품ID' , how = 'left')\n",
    "all_data = all_data.merge(item_categories , on='상품분류ID' , how ='left')\n",
    "\n",
    "# 데이터 다운캐스팅\n",
    "all_data = downcast(all_data)"
   ],
   "metadata": {
    "collapsed": false,
    "pycharm": {
     "name": "#%%\n"
    }
   }
  },
  {
   "cell_type": "code",
   "execution_count": 158,
   "outputs": [
    {
     "data": {
      "text/plain": "45"
     },
     "execution_count": 158,
     "metadata": {},
     "output_type": "execute_result"
    }
   ],
   "source": [
    "# 가비지 컬렉션\n",
    "\n",
    "del shops, items, item_categories\n",
    "gc.collect()"
   ],
   "metadata": {
    "collapsed": false,
    "pycharm": {
     "name": "#%%\n"
    }
   }
  },
  {
   "cell_type": "markdown",
   "source": [
    "## 피처 엔지니어링 5 : 시차 피처 생성"
   ],
   "metadata": {
    "collapsed": false,
    "pycharm": {
     "name": "#%% md\n"
    }
   }
  },
  {
   "cell_type": "code",
   "execution_count": 159,
   "outputs": [],
   "source": [
    "# 시차 피처란 과거 시점에 관한 피처로 , 성능 향상에 도움되는 경우가 많아서 시계열 문제에서 자주 만드는 파생 피처이다.\n",
    "\n",
    "# 시차 피처를 만들기 위해선 기준으로 삼을 피처를 먼저 정해야 한다.\n",
    "\n",
    "# 타깃값과 관련된 '월간 평균 판매량'이 좋다.\n",
    "\n",
    "# 기준 피처별 월간 평균 판매량 피처를 만들어야 한다."
   ],
   "metadata": {
    "collapsed": false,
    "pycharm": {
     "name": "#%%\n"
    }
   }
  },
  {
   "cell_type": "code",
   "execution_count": 160,
   "outputs": [
    {
     "data": {
      "text/plain": "['월ID', '상점ID', '상품ID']"
     },
     "execution_count": 160,
     "metadata": {},
     "output_type": "execute_result"
    }
   ],
   "source": [
    "idx_features"
   ],
   "metadata": {
    "collapsed": false,
    "pycharm": {
     "name": "#%%\n"
    }
   }
  },
  {
   "cell_type": "code",
   "execution_count": 161,
   "outputs": [],
   "source": [
    "# 기준 피처별 월간 판매량 파생 피처 생성\n",
    "\n",
    "# 파라미터\n",
    "\n",
    "# df : DataFrame , mean_features : 새로 만든 월간 평균 판매량 파생 피처명을 저장하는 리스트 , idx_features : 기준 피처\n",
    "\n",
    "# 기준 피처의 첫 번째 요소는 반드시 '월ID'여야 한다. '월간' 평균 판매량 파생 피처를 만들 것이다.\n",
    "\n",
    "\n",
    "def add_mean_features(df , mean_features , idx_features):\n",
    "    # 기준 피처 확인\n",
    "    assert (idx_features[0] == '월ID') and \\\n",
    "        len(idx_features) in [2,3]\n",
    "\n",
    "    # 기준 피처의 첫 번째 요소가 '월ID'가 맞는지 , 기준 피처 개수가 2개 혹은 3개인지 확인한다. 아닐경우 오류를 발생시킨다.\n",
    "\n",
    "    # 파생 피처명 설정\n",
    "    if len(idx_features) ==2 : # 기준 피처가 2개일 때와 3개일 때로 나누어 설정한다.\n",
    "        feature_name = idx_features[1] + '별 평균 판매량'\n",
    "    else:\n",
    "        feature_name = idx_features[1] + ' ' + idx_features[2] + '별 평균 판매량'\n",
    "\n",
    "    # 기준 피처를 토대로 그룹화해 월간 평균 판매량 구하기\n",
    "    group = df.groupby(idx_features).agg({'월간 판매량' : 'mean'})\n",
    "    group = group.reset_index()\n",
    "    group = group.rename(columns = {'월간 판매량' : feature_name})\n",
    "\n",
    "    # df와 group 병합\n",
    "    df = df.merge(group , on=idx_features , how='left')\n",
    "\n",
    "    # 데이터 다운캐스팅\n",
    "    df = downcast(df, verbose=False)\n",
    "    # verbose = False 를 하면 몇 %를 압축했습니다. 문구가 뜨지 않는다.\n",
    "\n",
    "    # 새로 만든 feature_name 피처명을 mean_features 리스트에 추가\n",
    "    mean_features.append(feature_name)\n",
    "\n",
    "    # 가비지 컬렉션\n",
    "    del group\n",
    "    gc.collect()\n",
    "\n",
    "    return df,mean_features"
   ],
   "metadata": {
    "collapsed": false,
    "pycharm": {
     "name": "#%%\n"
    }
   }
  },
  {
   "cell_type": "code",
   "execution_count": 162,
   "outputs": [
    {
     "data": {
      "text/plain": "   월ID  상점ID   상품ID  월간 판매량  평균 판매가  판매건수  도시  상품분류ID  첫 판매월  \\\n0    0    59  22154       1   999.0     1  30      37      0   \n1    0    59   2552       0     0.0     0  30      58      0   \n2    0    59   2554       0     0.0     0  30      58      0   \n3    0    59   2555       0     0.0     0  30      56      0   \n4    0    59   2564       0     0.0     0  30      59      0   \n\n                                 상품분류명     대분류  상품ID별 평균 판매량  상품ID 도시별 평균 판매량  \n0                       Кино - Blu-Ray    Кино      0.400000              1.0  \n1                       Музыка - Винил  Музыка      0.022222              0.0  \n2                       Музыка - Винил  Музыка      0.022222              0.0  \n3  Музыка - CD фирменного производства  Музыка      0.044444              0.0  \n4           Музыка - Музыкальное видео  Музыка      0.111111              0.0  ",
      "text/html": "<div>\n<style scoped>\n    .dataframe tbody tr th:only-of-type {\n        vertical-align: middle;\n    }\n\n    .dataframe tbody tr th {\n        vertical-align: top;\n    }\n\n    .dataframe thead th {\n        text-align: right;\n    }\n</style>\n<table border=\"1\" class=\"dataframe\">\n  <thead>\n    <tr style=\"text-align: right;\">\n      <th></th>\n      <th>월ID</th>\n      <th>상점ID</th>\n      <th>상품ID</th>\n      <th>월간 판매량</th>\n      <th>평균 판매가</th>\n      <th>판매건수</th>\n      <th>도시</th>\n      <th>상품분류ID</th>\n      <th>첫 판매월</th>\n      <th>상품분류명</th>\n      <th>대분류</th>\n      <th>상품ID별 평균 판매량</th>\n      <th>상품ID 도시별 평균 판매량</th>\n    </tr>\n  </thead>\n  <tbody>\n    <tr>\n      <th>0</th>\n      <td>0</td>\n      <td>59</td>\n      <td>22154</td>\n      <td>1</td>\n      <td>999.0</td>\n      <td>1</td>\n      <td>30</td>\n      <td>37</td>\n      <td>0</td>\n      <td>Кино - Blu-Ray</td>\n      <td>Кино</td>\n      <td>0.400000</td>\n      <td>1.0</td>\n    </tr>\n    <tr>\n      <th>1</th>\n      <td>0</td>\n      <td>59</td>\n      <td>2552</td>\n      <td>0</td>\n      <td>0.0</td>\n      <td>0</td>\n      <td>30</td>\n      <td>58</td>\n      <td>0</td>\n      <td>Музыка - Винил</td>\n      <td>Музыка</td>\n      <td>0.022222</td>\n      <td>0.0</td>\n    </tr>\n    <tr>\n      <th>2</th>\n      <td>0</td>\n      <td>59</td>\n      <td>2554</td>\n      <td>0</td>\n      <td>0.0</td>\n      <td>0</td>\n      <td>30</td>\n      <td>58</td>\n      <td>0</td>\n      <td>Музыка - Винил</td>\n      <td>Музыка</td>\n      <td>0.022222</td>\n      <td>0.0</td>\n    </tr>\n    <tr>\n      <th>3</th>\n      <td>0</td>\n      <td>59</td>\n      <td>2555</td>\n      <td>0</td>\n      <td>0.0</td>\n      <td>0</td>\n      <td>30</td>\n      <td>56</td>\n      <td>0</td>\n      <td>Музыка - CD фирменного производства</td>\n      <td>Музыка</td>\n      <td>0.044444</td>\n      <td>0.0</td>\n    </tr>\n    <tr>\n      <th>4</th>\n      <td>0</td>\n      <td>59</td>\n      <td>2564</td>\n      <td>0</td>\n      <td>0.0</td>\n      <td>0</td>\n      <td>30</td>\n      <td>59</td>\n      <td>0</td>\n      <td>Музыка - Музыкальное видео</td>\n      <td>Музыка</td>\n      <td>0.111111</td>\n      <td>0.0</td>\n    </tr>\n  </tbody>\n</table>\n</div>"
     },
     "execution_count": 162,
     "metadata": {},
     "output_type": "execute_result"
    }
   ],
   "source": [
    "# 그룹화 기준 피처 중 '상품ID'가 포함된 파생 피처명을 담을 리스트\n",
    "item_mean_features = []\n",
    "\n",
    "# ['월ID' , '상품ID'] 로 그룹화한 월간 평균 판매량 파생 피처 생성\n",
    "all_data , item_mean_features = add_mean_features(df = all_data,\n",
    "                                                  mean_features=item_mean_features,\n",
    "                                                  idx_features=['월ID' , '상품ID'])\n",
    "\n",
    "# ['월ID' , '상품ID', '도시']로 그룹화한 월간 평균 판매량 파생 피처 생성\n",
    "all_data , item_mean_features = add_mean_features(df = all_data ,\n",
    "                                                  mean_features= item_mean_features,\n",
    "                                                  idx_features=['월ID' , '상품ID' ,'도시'])\n",
    "\n",
    "all_data.head()"
   ],
   "metadata": {
    "collapsed": false,
    "pycharm": {
     "name": "#%%\n"
    }
   }
  },
  {
   "cell_type": "code",
   "execution_count": 163,
   "outputs": [
    {
     "data": {
      "text/plain": "['상품ID별 평균 판매량', '상품ID 도시별 평균 판매량']"
     },
     "execution_count": 163,
     "metadata": {},
     "output_type": "execute_result"
    }
   ],
   "source": [
    "item_mean_features"
   ],
   "metadata": {
    "collapsed": false,
    "pycharm": {
     "name": "#%%\n"
    }
   }
  },
  {
   "cell_type": "code",
   "execution_count": 164,
   "outputs": [],
   "source": [
    "# 그룹화 기준 피처 중 '상점ID'가 포함된 파생 피처명을 담을 리스트\n",
    "shop_mean_features = []\n",
    "\n",
    "# ['월ID' , '상점ID' , '상품분류ID'] 로 그룹화한 월간 평균 판매량 파생 피처 생성\n",
    "\n",
    "all_data , shop_mean_features = add_mean_features(df = all_data,\n",
    "                                                  mean_features= shop_mean_features,\n",
    "                                                  idx_features=['월ID' , '상점ID', '상품분류ID'])\n",
    "\n",
    "# 상점ID를 포함한 파생 피처명은 shop_mean_features 리스트에 따로 담았다.\n",
    "\n",
    "# 상품ID를 포함한 파생 피처명은 item_mean_features 리스트에 담았다."
   ],
   "metadata": {
    "collapsed": false,
    "pycharm": {
     "name": "#%%\n"
    }
   }
  },
  {
   "cell_type": "code",
   "execution_count": 165,
   "outputs": [
    {
     "data": {
      "text/plain": "['상점ID 상품분류ID별 평균 판매량']"
     },
     "execution_count": 165,
     "metadata": {},
     "output_type": "execute_result"
    }
   ],
   "source": [
    "shop_mean_features"
   ],
   "metadata": {
    "collapsed": false,
    "pycharm": {
     "name": "#%%\n"
    }
   }
  },
  {
   "cell_type": "code",
   "execution_count": 166,
   "outputs": [],
   "source": [
    "# 시차 피처 생성 원리 및 함수 구현\n",
    "\n",
    "# 기준 피처별 월간 평균 판매량 피처는\n",
    "\n",
    "# 1. 상품ID별 평균 판매량\n",
    "\n",
    "# 2. 상품ID + 도시 별 평균판매량\n",
    "\n",
    "# 3. 상점ID + 상품분류ID 별 평균 판매량\n",
    "\n",
    "\n",
    "# 시차 피처는 현시점 데이터에 과거 시점 데이터를 추가한다는 개념이다. 과거 시점 데이터는 향후 판매량 예측에 유용하기 때문에 사용한다.\n",
    "\n",
    "\n",
    "def add_lag_features(df , lag_features_to_clip , idx_features , lag_feature , nlags = 3 , clip = False):\n",
    "    # 시차 피처 생성에 필요한 DataFrame 부분만 복사\n",
    "    df_temp = df[idx_features + [lag_feature].copy()]\n",
    "\n",
    "    # 시차 피처 생성\n",
    "    for i in range(1, nlags+1):\n",
    "        # 시차 피처명\n",
    "        lag_feature_name = lag_feature +'_시차' + str(i)\n",
    "        # df_temp 열 이름 설정\n",
    "        df_temp.columns = idx_features + [lag_feature_name]\n",
    "\n",
    "        # df_temp의 date_block_num 피처에 1 더하기\n",
    "        df_temp['월ID'] +=1\n",
    "        # idx_feature를 기준으로 df와 df_temp 병합하기\n",
    "        df = df.merge(df_temp.drop_duplicates(),\n",
    "                      on = idx_features,\n",
    "                      how = 'left')\n",
    "\n",
    "        # 결측값 0으로 대체\n",
    "        df[lag_feature_name] = df[lag_feature_name].fillna(0)\n",
    "\n",
    "        # 0~20 사이로 제한할 시차 피처명을 lag_features_to_clip에 추가\n",
    "        if clip:\n",
    "            lag_features_to_clip.append(lag_feature_name)\n",
    "\n",
    "        # 데이터 다운캐스팅\n",
    "        df = downcast(df, False)\n",
    "\n",
    "        # 가비지 컬렉션\n",
    "        del df_temp\n",
    "        gc.collect()\n",
    "\n",
    "        return df,lag_features_to_clip"
   ],
   "metadata": {
    "collapsed": false,
    "pycharm": {
     "name": "#%%\n"
    }
   }
  },
  {
   "cell_type": "markdown",
   "source": [
    "## 시차 피처 생성 1 : 월간 판매량"
   ],
   "metadata": {
    "collapsed": false,
    "pycharm": {
     "name": "#%% md\n"
    }
   }
  },
  {
   "cell_type": "code",
   "execution_count": 167,
   "outputs": [
    {
     "name": "stderr",
     "output_type": "stream",
     "text": [
      "<ipython-input-166-4d22d4386aa0>:27: SettingWithCopyWarning: \n",
      "A value is trying to be set on a copy of a slice from a DataFrame.\n",
      "Try using .loc[row_indexer,col_indexer] = value instead\n",
      "\n",
      "See the caveats in the documentation: https://pandas.pydata.org/pandas-docs/stable/user_guide/indexing.html#returning-a-view-versus-a-copy\n",
      "  df_temp['월ID'] +=1\n"
     ]
    },
    {
     "data": {
      "text/plain": "                                  0               1               2  \\\n월ID                               0               0               0   \n상점ID                             59              59              59   \n상품ID                          22154            2552            2554   \n월간 판매량                            1               0               0   \n평균 판매가                        999.0             0.0             0.0   \n판매건수                              1               0               0   \n도시                               30              30              30   \n상품분류ID                           37              58              58   \n첫 판매월                             0               0               0   \n상품분류명                Кино - Blu-Ray  Музыка - Винил  Музыка - Винил   \n대분류                            Кино          Музыка          Музыка   \n상품ID별 평균 판매량                    0.4        0.022222        0.022222   \n상품ID 도시별 평균 판매량                 1.0             0.0             0.0   \n상점ID 상품분류ID별 평균 판매량        0.088496             0.0             0.0   \n월간 판매량_시차1                        0               0               0   \n\n                                                       3  \\\n월ID                                                    0   \n상점ID                                                  59   \n상품ID                                                2555   \n월간 판매량                                                 0   \n평균 판매가                                               0.0   \n판매건수                                                   0   \n도시                                                    30   \n상품분류ID                                                56   \n첫 판매월                                                  0   \n상품분류명                Музыка - CD фирменного производства   \n대분류                                               Музыка   \n상품ID별 평균 판매량                                    0.044444   \n상품ID 도시별 평균 판매량                                      0.0   \n상점ID 상품분류ID별 평균 판매량                             0.008333   \n월간 판매량_시차1                                             0   \n\n                                              4  \n월ID                                           0  \n상점ID                                         59  \n상품ID                                       2564  \n월간 판매량                                        0  \n평균 판매가                                      0.0  \n판매건수                                          0  \n도시                                           30  \n상품분류ID                                       59  \n첫 판매월                                         0  \n상품분류명                Музыка - Музыкальное видео  \n대분류                                      Музыка  \n상품ID별 평균 판매량                           0.111111  \n상품ID 도시별 평균 판매량                             0.0  \n상점ID 상품분류ID별 평균 판매량                    0.011976  \n월간 판매량_시차1                                    0  ",
      "text/html": "<div>\n<style scoped>\n    .dataframe tbody tr th:only-of-type {\n        vertical-align: middle;\n    }\n\n    .dataframe tbody tr th {\n        vertical-align: top;\n    }\n\n    .dataframe thead th {\n        text-align: right;\n    }\n</style>\n<table border=\"1\" class=\"dataframe\">\n  <thead>\n    <tr style=\"text-align: right;\">\n      <th></th>\n      <th>0</th>\n      <th>1</th>\n      <th>2</th>\n      <th>3</th>\n      <th>4</th>\n    </tr>\n  </thead>\n  <tbody>\n    <tr>\n      <th>월ID</th>\n      <td>0</td>\n      <td>0</td>\n      <td>0</td>\n      <td>0</td>\n      <td>0</td>\n    </tr>\n    <tr>\n      <th>상점ID</th>\n      <td>59</td>\n      <td>59</td>\n      <td>59</td>\n      <td>59</td>\n      <td>59</td>\n    </tr>\n    <tr>\n      <th>상품ID</th>\n      <td>22154</td>\n      <td>2552</td>\n      <td>2554</td>\n      <td>2555</td>\n      <td>2564</td>\n    </tr>\n    <tr>\n      <th>월간 판매량</th>\n      <td>1</td>\n      <td>0</td>\n      <td>0</td>\n      <td>0</td>\n      <td>0</td>\n    </tr>\n    <tr>\n      <th>평균 판매가</th>\n      <td>999.0</td>\n      <td>0.0</td>\n      <td>0.0</td>\n      <td>0.0</td>\n      <td>0.0</td>\n    </tr>\n    <tr>\n      <th>판매건수</th>\n      <td>1</td>\n      <td>0</td>\n      <td>0</td>\n      <td>0</td>\n      <td>0</td>\n    </tr>\n    <tr>\n      <th>도시</th>\n      <td>30</td>\n      <td>30</td>\n      <td>30</td>\n      <td>30</td>\n      <td>30</td>\n    </tr>\n    <tr>\n      <th>상품분류ID</th>\n      <td>37</td>\n      <td>58</td>\n      <td>58</td>\n      <td>56</td>\n      <td>59</td>\n    </tr>\n    <tr>\n      <th>첫 판매월</th>\n      <td>0</td>\n      <td>0</td>\n      <td>0</td>\n      <td>0</td>\n      <td>0</td>\n    </tr>\n    <tr>\n      <th>상품분류명</th>\n      <td>Кино - Blu-Ray</td>\n      <td>Музыка - Винил</td>\n      <td>Музыка - Винил</td>\n      <td>Музыка - CD фирменного производства</td>\n      <td>Музыка - Музыкальное видео</td>\n    </tr>\n    <tr>\n      <th>대분류</th>\n      <td>Кино</td>\n      <td>Музыка</td>\n      <td>Музыка</td>\n      <td>Музыка</td>\n      <td>Музыка</td>\n    </tr>\n    <tr>\n      <th>상품ID별 평균 판매량</th>\n      <td>0.4</td>\n      <td>0.022222</td>\n      <td>0.022222</td>\n      <td>0.044444</td>\n      <td>0.111111</td>\n    </tr>\n    <tr>\n      <th>상품ID 도시별 평균 판매량</th>\n      <td>1.0</td>\n      <td>0.0</td>\n      <td>0.0</td>\n      <td>0.0</td>\n      <td>0.0</td>\n    </tr>\n    <tr>\n      <th>상점ID 상품분류ID별 평균 판매량</th>\n      <td>0.088496</td>\n      <td>0.0</td>\n      <td>0.0</td>\n      <td>0.008333</td>\n      <td>0.011976</td>\n    </tr>\n    <tr>\n      <th>월간 판매량_시차1</th>\n      <td>0</td>\n      <td>0</td>\n      <td>0</td>\n      <td>0</td>\n      <td>0</td>\n    </tr>\n  </tbody>\n</table>\n</div>"
     },
     "execution_count": 167,
     "metadata": {},
     "output_type": "execute_result"
    }
   ],
   "source": [
    "# 기준피처는 '월ID' , '상점ID' , '상품ID'로 하여 월간 판매량의 세 달치 시차 피처를 만들어본다.\n",
    "\n",
    "# clip = True를 전달해 세 달치 시차 피처를 lag_features_to_clip 리스트에 저장해둔다.\n",
    "\n",
    "# 월간 판매량은 타깃값이므로 0~20 사이로 제한해야 한다.\n",
    "\n",
    "lag_features_to_clip = [] # 0~20 사이로 제한할 시차 피처명을 담을 리스트\n",
    "idx_features = ['월ID' , '상점ID' , '상품ID'] # 기준 피처\n",
    "\n",
    "# idx_features 를 기준으로 월간 판매량의 세달치 시차 피처 생성\n",
    "all_data, lag_features_to_clip = add_lag_features(df=all_data,\n",
    "                                                  lag_features_to_clip = lag_features_to_clip,\n",
    "                                                  idx_features=idx_features,\n",
    "                                                  lag_feature='월간 판매량',\n",
    "                                                  nlags= 3,\n",
    "                                                  clip = True) # 값을 0~20 사이로 제한\n",
    "\n",
    "all_data.head().T"
   ],
   "metadata": {
    "collapsed": false,
    "pycharm": {
     "name": "#%%\n"
    }
   }
  },
  {
   "cell_type": "code",
   "execution_count": 168,
   "outputs": [
    {
     "data": {
      "text/plain": "['월간 판매량_시차1']"
     },
     "execution_count": 168,
     "metadata": {},
     "output_type": "execute_result"
    }
   ],
   "source": [
    "lag_features_to_clip"
   ],
   "metadata": {
    "collapsed": false,
    "pycharm": {
     "name": "#%%\n"
    }
   }
  },
  {
   "cell_type": "markdown",
   "source": [
    "## 시차 피처 생성 2: 판매건수 , 평균 판매가"
   ],
   "metadata": {
    "collapsed": false,
    "pycharm": {
     "name": "#%% md\n"
    }
   }
  },
  {
   "cell_type": "code",
   "execution_count": 169,
   "outputs": [
    {
     "name": "stderr",
     "output_type": "stream",
     "text": [
      "<ipython-input-166-4d22d4386aa0>:27: SettingWithCopyWarning: \n",
      "A value is trying to be set on a copy of a slice from a DataFrame.\n",
      "Try using .loc[row_indexer,col_indexer] = value instead\n",
      "\n",
      "See the caveats in the documentation: https://pandas.pydata.org/pandas-docs/stable/user_guide/indexing.html#returning-a-view-versus-a-copy\n",
      "  df_temp['월ID'] +=1\n",
      "<ipython-input-166-4d22d4386aa0>:27: SettingWithCopyWarning: \n",
      "A value is trying to be set on a copy of a slice from a DataFrame.\n",
      "Try using .loc[row_indexer,col_indexer] = value instead\n",
      "\n",
      "See the caveats in the documentation: https://pandas.pydata.org/pandas-docs/stable/user_guide/indexing.html#returning-a-view-versus-a-copy\n",
      "  df_temp['월ID'] +=1\n"
     ]
    }
   ],
   "source": [
    "# idx_features를 기준으로 판매건수 피처의 세 달치 시차 피처 생성\n",
    "all_data, lag_features_to_clip = add_lag_features(df=all_data,\n",
    "                                                  lag_features_to_clip = lag_features_to_clip,\n",
    "                                                  idx_features=idx_features,\n",
    "                                                  lag_feature='판매건수',\n",
    "                                                  nlags= 3)\n",
    "\n",
    "\n",
    "# idx_features를 기준으로 평균 판매가 피처의 세 달치 시차 피처 생성\n",
    "all_data, lag_features_to_clip = add_lag_features(df=all_data,\n",
    "                                                  lag_features_to_clip = lag_features_to_clip,\n",
    "                                                  idx_features=idx_features,\n",
    "                                                  lag_feature='평균 판매가',\n",
    "                                                  nlags= 3)\n",
    "\n"
   ],
   "metadata": {
    "collapsed": false,
    "pycharm": {
     "name": "#%%\n"
    }
   }
  },
  {
   "cell_type": "markdown",
   "source": [
    "## 시차 피처 생성 3: 평균판매량"
   ],
   "metadata": {
    "collapsed": false,
    "pycharm": {
     "name": "#%% md\n"
    }
   }
  },
  {
   "cell_type": "code",
   "execution_count": 170,
   "outputs": [
    {
     "name": "stderr",
     "output_type": "stream",
     "text": [
      "<ipython-input-166-4d22d4386aa0>:27: SettingWithCopyWarning: \n",
      "A value is trying to be set on a copy of a slice from a DataFrame.\n",
      "Try using .loc[row_indexer,col_indexer] = value instead\n",
      "\n",
      "See the caveats in the documentation: https://pandas.pydata.org/pandas-docs/stable/user_guide/indexing.html#returning-a-view-versus-a-copy\n",
      "  df_temp['월ID'] +=1\n",
      "<ipython-input-166-4d22d4386aa0>:27: SettingWithCopyWarning: \n",
      "A value is trying to be set on a copy of a slice from a DataFrame.\n",
      "Try using .loc[row_indexer,col_indexer] = value instead\n",
      "\n",
      "See the caveats in the documentation: https://pandas.pydata.org/pandas-docs/stable/user_guide/indexing.html#returning-a-view-versus-a-copy\n",
      "  df_temp['월ID'] +=1\n"
     ]
    },
    {
     "data": {
      "text/plain": "          월ID  상점ID   상품ID  월간 판매량  평균 판매가  판매건수  도시  상품분류ID  첫 판매월  \\\n0           0    59  22154       1   999.0     1  30      37      0   \n1           0    59   2552       0     0.0     0  30      58      0   \n2           0    59   2554       0     0.0     0  30      58      0   \n3           0    59   2555       0     0.0     0  30      56      0   \n4           0    59   2564       0     0.0     0  30      59      0   \n...       ...   ...    ...     ...     ...   ...  ..     ...    ...   \n11026963   34    45  18454       0     0.0     0  20      55     23   \n11026964   34    45  16188       0     0.0     0  20      64     32   \n11026965   34    45  15757       0     0.0     0  20      55      0   \n11026966   34    45  19648       0     0.0     0  20      40     23   \n11026967   34    45    969       0     0.0     0  20      37     17   \n\n                                        상품분류명      대분류  상품ID별 평균 판매량  \\\n0                              Кино - Blu-Ray     Кино      0.400000   \n1                              Музыка - Винил   Музыка      0.022222   \n2                              Музыка - Винил   Музыка      0.022222   \n3         Музыка - CD фирменного производства   Музыка      0.044444   \n4                  Музыка - Музыкальное видео   Музыка      0.111111   \n...                                       ...      ...           ...   \n11026963  Музыка - CD локального производства   Музыка      0.000000   \n11026964            Подарки - Настольные игры  Подарки      0.000000   \n11026965  Музыка - CD локального производства   Музыка      0.000000   \n11026966                           Кино - DVD     Кино      0.000000   \n11026967                       Кино - Blu-Ray     Кино      0.000000   \n\n          상점ID 상품분류ID별 평균 판매량  월간 판매량_시차1  판매건수_시차1  평균 판매가_시차1  \\\n0                    0.088496           0         0         0.0   \n1                    0.000000           0         0         0.0   \n2                    0.000000           0         0         0.0   \n3                    0.008333           0         0         0.0   \n4                    0.011976           0         0         0.0   \n...                       ...         ...       ...         ...   \n11026963             0.000000           1         1        99.0   \n11026964             0.000000           0         0         0.0   \n11026965             0.000000           0         0         0.0   \n11026966             0.000000           0         0         0.0   \n11026967             0.000000           0         0         0.0   \n\n          상품ID별 평균 판매량_시차1  상품ID 도시별 평균 판매량_시차1  \n0                 0.000000                  0.0  \n1                 0.000000                  0.0  \n2                 0.000000                  0.0  \n3                 0.000000                  0.0  \n4                 0.000000                  0.0  \n...                    ...                  ...  \n11026963          0.045455                  0.5  \n11026964          0.022727                  0.0  \n11026965          0.113636                  0.0  \n11026966          0.045455                  0.0  \n11026967          0.068182                  0.5  \n\n[11026968 rows x 18 columns]",
      "text/html": "<div>\n<style scoped>\n    .dataframe tbody tr th:only-of-type {\n        vertical-align: middle;\n    }\n\n    .dataframe tbody tr th {\n        vertical-align: top;\n    }\n\n    .dataframe thead th {\n        text-align: right;\n    }\n</style>\n<table border=\"1\" class=\"dataframe\">\n  <thead>\n    <tr style=\"text-align: right;\">\n      <th></th>\n      <th>월ID</th>\n      <th>상점ID</th>\n      <th>상품ID</th>\n      <th>월간 판매량</th>\n      <th>평균 판매가</th>\n      <th>판매건수</th>\n      <th>도시</th>\n      <th>상품분류ID</th>\n      <th>첫 판매월</th>\n      <th>상품분류명</th>\n      <th>대분류</th>\n      <th>상품ID별 평균 판매량</th>\n      <th>상점ID 상품분류ID별 평균 판매량</th>\n      <th>월간 판매량_시차1</th>\n      <th>판매건수_시차1</th>\n      <th>평균 판매가_시차1</th>\n      <th>상품ID별 평균 판매량_시차1</th>\n      <th>상품ID 도시별 평균 판매량_시차1</th>\n    </tr>\n  </thead>\n  <tbody>\n    <tr>\n      <th>0</th>\n      <td>0</td>\n      <td>59</td>\n      <td>22154</td>\n      <td>1</td>\n      <td>999.0</td>\n      <td>1</td>\n      <td>30</td>\n      <td>37</td>\n      <td>0</td>\n      <td>Кино - Blu-Ray</td>\n      <td>Кино</td>\n      <td>0.400000</td>\n      <td>0.088496</td>\n      <td>0</td>\n      <td>0</td>\n      <td>0.0</td>\n      <td>0.000000</td>\n      <td>0.0</td>\n    </tr>\n    <tr>\n      <th>1</th>\n      <td>0</td>\n      <td>59</td>\n      <td>2552</td>\n      <td>0</td>\n      <td>0.0</td>\n      <td>0</td>\n      <td>30</td>\n      <td>58</td>\n      <td>0</td>\n      <td>Музыка - Винил</td>\n      <td>Музыка</td>\n      <td>0.022222</td>\n      <td>0.000000</td>\n      <td>0</td>\n      <td>0</td>\n      <td>0.0</td>\n      <td>0.000000</td>\n      <td>0.0</td>\n    </tr>\n    <tr>\n      <th>2</th>\n      <td>0</td>\n      <td>59</td>\n      <td>2554</td>\n      <td>0</td>\n      <td>0.0</td>\n      <td>0</td>\n      <td>30</td>\n      <td>58</td>\n      <td>0</td>\n      <td>Музыка - Винил</td>\n      <td>Музыка</td>\n      <td>0.022222</td>\n      <td>0.000000</td>\n      <td>0</td>\n      <td>0</td>\n      <td>0.0</td>\n      <td>0.000000</td>\n      <td>0.0</td>\n    </tr>\n    <tr>\n      <th>3</th>\n      <td>0</td>\n      <td>59</td>\n      <td>2555</td>\n      <td>0</td>\n      <td>0.0</td>\n      <td>0</td>\n      <td>30</td>\n      <td>56</td>\n      <td>0</td>\n      <td>Музыка - CD фирменного производства</td>\n      <td>Музыка</td>\n      <td>0.044444</td>\n      <td>0.008333</td>\n      <td>0</td>\n      <td>0</td>\n      <td>0.0</td>\n      <td>0.000000</td>\n      <td>0.0</td>\n    </tr>\n    <tr>\n      <th>4</th>\n      <td>0</td>\n      <td>59</td>\n      <td>2564</td>\n      <td>0</td>\n      <td>0.0</td>\n      <td>0</td>\n      <td>30</td>\n      <td>59</td>\n      <td>0</td>\n      <td>Музыка - Музыкальное видео</td>\n      <td>Музыка</td>\n      <td>0.111111</td>\n      <td>0.011976</td>\n      <td>0</td>\n      <td>0</td>\n      <td>0.0</td>\n      <td>0.000000</td>\n      <td>0.0</td>\n    </tr>\n    <tr>\n      <th>...</th>\n      <td>...</td>\n      <td>...</td>\n      <td>...</td>\n      <td>...</td>\n      <td>...</td>\n      <td>...</td>\n      <td>...</td>\n      <td>...</td>\n      <td>...</td>\n      <td>...</td>\n      <td>...</td>\n      <td>...</td>\n      <td>...</td>\n      <td>...</td>\n      <td>...</td>\n      <td>...</td>\n      <td>...</td>\n      <td>...</td>\n    </tr>\n    <tr>\n      <th>11026963</th>\n      <td>34</td>\n      <td>45</td>\n      <td>18454</td>\n      <td>0</td>\n      <td>0.0</td>\n      <td>0</td>\n      <td>20</td>\n      <td>55</td>\n      <td>23</td>\n      <td>Музыка - CD локального производства</td>\n      <td>Музыка</td>\n      <td>0.000000</td>\n      <td>0.000000</td>\n      <td>1</td>\n      <td>1</td>\n      <td>99.0</td>\n      <td>0.045455</td>\n      <td>0.5</td>\n    </tr>\n    <tr>\n      <th>11026964</th>\n      <td>34</td>\n      <td>45</td>\n      <td>16188</td>\n      <td>0</td>\n      <td>0.0</td>\n      <td>0</td>\n      <td>20</td>\n      <td>64</td>\n      <td>32</td>\n      <td>Подарки - Настольные игры</td>\n      <td>Подарки</td>\n      <td>0.000000</td>\n      <td>0.000000</td>\n      <td>0</td>\n      <td>0</td>\n      <td>0.0</td>\n      <td>0.022727</td>\n      <td>0.0</td>\n    </tr>\n    <tr>\n      <th>11026965</th>\n      <td>34</td>\n      <td>45</td>\n      <td>15757</td>\n      <td>0</td>\n      <td>0.0</td>\n      <td>0</td>\n      <td>20</td>\n      <td>55</td>\n      <td>0</td>\n      <td>Музыка - CD локального производства</td>\n      <td>Музыка</td>\n      <td>0.000000</td>\n      <td>0.000000</td>\n      <td>0</td>\n      <td>0</td>\n      <td>0.0</td>\n      <td>0.113636</td>\n      <td>0.0</td>\n    </tr>\n    <tr>\n      <th>11026966</th>\n      <td>34</td>\n      <td>45</td>\n      <td>19648</td>\n      <td>0</td>\n      <td>0.0</td>\n      <td>0</td>\n      <td>20</td>\n      <td>40</td>\n      <td>23</td>\n      <td>Кино - DVD</td>\n      <td>Кино</td>\n      <td>0.000000</td>\n      <td>0.000000</td>\n      <td>0</td>\n      <td>0</td>\n      <td>0.0</td>\n      <td>0.045455</td>\n      <td>0.0</td>\n    </tr>\n    <tr>\n      <th>11026967</th>\n      <td>34</td>\n      <td>45</td>\n      <td>969</td>\n      <td>0</td>\n      <td>0.0</td>\n      <td>0</td>\n      <td>20</td>\n      <td>37</td>\n      <td>17</td>\n      <td>Кино - Blu-Ray</td>\n      <td>Кино</td>\n      <td>0.000000</td>\n      <td>0.000000</td>\n      <td>0</td>\n      <td>0</td>\n      <td>0.0</td>\n      <td>0.068182</td>\n      <td>0.5</td>\n    </tr>\n  </tbody>\n</table>\n<p>11026968 rows × 18 columns</p>\n</div>"
     },
     "execution_count": 170,
     "metadata": {},
     "output_type": "execute_result"
    }
   ],
   "source": [
    "# idx_features를 기준으로 item_mean_Features 요소별 시차 피처 생성\n",
    "for item_mean_features in item_mean_features:\n",
    "    all_data, lag_features_to_clip = add_lag_features(df=all_data,\n",
    "                                                      lag_features_to_clip = lag_features_to_clip,\n",
    "                                                      idx_features=idx_features,\n",
    "                                                      lag_feature=item_mean_features,\n",
    "                                                      nlags= 3,\n",
    "                                                      clip = True) # 값을 0~20 사이로 제한\n",
    "\n",
    "# item_mean_features 피처 제거\n",
    "\n",
    "all_data = all_data.drop(item_mean_features, axis =1 )\n",
    "\n",
    "all_data"
   ],
   "metadata": {
    "collapsed": false,
    "pycharm": {
     "name": "#%%\n"
    }
   }
  },
  {
   "cell_type": "code",
   "execution_count": 171,
   "outputs": [
    {
     "name": "stderr",
     "output_type": "stream",
     "text": [
      "<ipython-input-166-4d22d4386aa0>:27: SettingWithCopyWarning: \n",
      "A value is trying to be set on a copy of a slice from a DataFrame.\n",
      "Try using .loc[row_indexer,col_indexer] = value instead\n",
      "\n",
      "See the caveats in the documentation: https://pandas.pydata.org/pandas-docs/stable/user_guide/indexing.html#returning-a-view-versus-a-copy\n",
      "  df_temp['월ID'] +=1\n"
     ]
    },
    {
     "data": {
      "text/plain": "          월ID  상점ID   상품ID  월간 판매량  평균 판매가  판매건수  도시  상품분류ID  첫 판매월  \\\n0           0    59  22154       1   999.0     1  30      37      0   \n1           0    59   2552       0     0.0     0  30      58      0   \n2           0    59   2554       0     0.0     0  30      58      0   \n3           0    59   2555       0     0.0     0  30      56      0   \n4           0    59   2564       0     0.0     0  30      59      0   \n...       ...   ...    ...     ...     ...   ...  ..     ...    ...   \n11026963   34    45  18454       0     0.0     0  20      55     23   \n11026964   34    45  16188       0     0.0     0  20      64     32   \n11026965   34    45  15757       0     0.0     0  20      55      0   \n11026966   34    45  19648       0     0.0     0  20      40     23   \n11026967   34    45    969       0     0.0     0  20      37     17   \n\n                                        상품분류명      대분류  상품ID별 평균 판매량  \\\n0                              Кино - Blu-Ray     Кино      0.400000   \n1                              Музыка - Винил   Музыка      0.022222   \n2                              Музыка - Винил   Музыка      0.022222   \n3         Музыка - CD фирменного производства   Музыка      0.044444   \n4                  Музыка - Музыкальное видео   Музыка      0.111111   \n...                                       ...      ...           ...   \n11026963  Музыка - CD локального производства   Музыка      0.000000   \n11026964            Подарки - Настольные игры  Подарки      0.000000   \n11026965  Музыка - CD локального производства   Музыка      0.000000   \n11026966                           Кино - DVD     Кино      0.000000   \n11026967                       Кино - Blu-Ray     Кино      0.000000   \n\n          월간 판매량_시차1  판매건수_시차1  평균 판매가_시차1  상품ID별 평균 판매량_시차1  \\\n0                  0         0         0.0          0.000000   \n1                  0         0         0.0          0.000000   \n2                  0         0         0.0          0.000000   \n3                  0         0         0.0          0.000000   \n4                  0         0         0.0          0.000000   \n...              ...       ...         ...               ...   \n11026963           1         1        99.0          0.045455   \n11026964           0         0         0.0          0.022727   \n11026965           0         0         0.0          0.113636   \n11026966           0         0         0.0          0.045455   \n11026967           0         0         0.0          0.068182   \n\n          상품ID 도시별 평균 판매량_시차1  상점ID 상품분류ID별 평균 판매량_시차1  \n0                         0.0                 0.000000  \n1                         0.0                 0.000000  \n2                         0.0                 0.000000  \n3                         0.0                 0.000000  \n4                         0.0                 0.000000  \n...                       ...                      ...  \n11026963                  0.5                 0.126866  \n11026964                  0.0                 0.094488  \n11026965                  0.0                 0.126866  \n11026966                  0.0                 0.083756  \n11026967                  0.5                 0.128205  \n\n[11026968 rows x 18 columns]",
      "text/html": "<div>\n<style scoped>\n    .dataframe tbody tr th:only-of-type {\n        vertical-align: middle;\n    }\n\n    .dataframe tbody tr th {\n        vertical-align: top;\n    }\n\n    .dataframe thead th {\n        text-align: right;\n    }\n</style>\n<table border=\"1\" class=\"dataframe\">\n  <thead>\n    <tr style=\"text-align: right;\">\n      <th></th>\n      <th>월ID</th>\n      <th>상점ID</th>\n      <th>상품ID</th>\n      <th>월간 판매량</th>\n      <th>평균 판매가</th>\n      <th>판매건수</th>\n      <th>도시</th>\n      <th>상품분류ID</th>\n      <th>첫 판매월</th>\n      <th>상품분류명</th>\n      <th>대분류</th>\n      <th>상품ID별 평균 판매량</th>\n      <th>월간 판매량_시차1</th>\n      <th>판매건수_시차1</th>\n      <th>평균 판매가_시차1</th>\n      <th>상품ID별 평균 판매량_시차1</th>\n      <th>상품ID 도시별 평균 판매량_시차1</th>\n      <th>상점ID 상품분류ID별 평균 판매량_시차1</th>\n    </tr>\n  </thead>\n  <tbody>\n    <tr>\n      <th>0</th>\n      <td>0</td>\n      <td>59</td>\n      <td>22154</td>\n      <td>1</td>\n      <td>999.0</td>\n      <td>1</td>\n      <td>30</td>\n      <td>37</td>\n      <td>0</td>\n      <td>Кино - Blu-Ray</td>\n      <td>Кино</td>\n      <td>0.400000</td>\n      <td>0</td>\n      <td>0</td>\n      <td>0.0</td>\n      <td>0.000000</td>\n      <td>0.0</td>\n      <td>0.000000</td>\n    </tr>\n    <tr>\n      <th>1</th>\n      <td>0</td>\n      <td>59</td>\n      <td>2552</td>\n      <td>0</td>\n      <td>0.0</td>\n      <td>0</td>\n      <td>30</td>\n      <td>58</td>\n      <td>0</td>\n      <td>Музыка - Винил</td>\n      <td>Музыка</td>\n      <td>0.022222</td>\n      <td>0</td>\n      <td>0</td>\n      <td>0.0</td>\n      <td>0.000000</td>\n      <td>0.0</td>\n      <td>0.000000</td>\n    </tr>\n    <tr>\n      <th>2</th>\n      <td>0</td>\n      <td>59</td>\n      <td>2554</td>\n      <td>0</td>\n      <td>0.0</td>\n      <td>0</td>\n      <td>30</td>\n      <td>58</td>\n      <td>0</td>\n      <td>Музыка - Винил</td>\n      <td>Музыка</td>\n      <td>0.022222</td>\n      <td>0</td>\n      <td>0</td>\n      <td>0.0</td>\n      <td>0.000000</td>\n      <td>0.0</td>\n      <td>0.000000</td>\n    </tr>\n    <tr>\n      <th>3</th>\n      <td>0</td>\n      <td>59</td>\n      <td>2555</td>\n      <td>0</td>\n      <td>0.0</td>\n      <td>0</td>\n      <td>30</td>\n      <td>56</td>\n      <td>0</td>\n      <td>Музыка - CD фирменного производства</td>\n      <td>Музыка</td>\n      <td>0.044444</td>\n      <td>0</td>\n      <td>0</td>\n      <td>0.0</td>\n      <td>0.000000</td>\n      <td>0.0</td>\n      <td>0.000000</td>\n    </tr>\n    <tr>\n      <th>4</th>\n      <td>0</td>\n      <td>59</td>\n      <td>2564</td>\n      <td>0</td>\n      <td>0.0</td>\n      <td>0</td>\n      <td>30</td>\n      <td>59</td>\n      <td>0</td>\n      <td>Музыка - Музыкальное видео</td>\n      <td>Музыка</td>\n      <td>0.111111</td>\n      <td>0</td>\n      <td>0</td>\n      <td>0.0</td>\n      <td>0.000000</td>\n      <td>0.0</td>\n      <td>0.000000</td>\n    </tr>\n    <tr>\n      <th>...</th>\n      <td>...</td>\n      <td>...</td>\n      <td>...</td>\n      <td>...</td>\n      <td>...</td>\n      <td>...</td>\n      <td>...</td>\n      <td>...</td>\n      <td>...</td>\n      <td>...</td>\n      <td>...</td>\n      <td>...</td>\n      <td>...</td>\n      <td>...</td>\n      <td>...</td>\n      <td>...</td>\n      <td>...</td>\n      <td>...</td>\n    </tr>\n    <tr>\n      <th>11026963</th>\n      <td>34</td>\n      <td>45</td>\n      <td>18454</td>\n      <td>0</td>\n      <td>0.0</td>\n      <td>0</td>\n      <td>20</td>\n      <td>55</td>\n      <td>23</td>\n      <td>Музыка - CD локального производства</td>\n      <td>Музыка</td>\n      <td>0.000000</td>\n      <td>1</td>\n      <td>1</td>\n      <td>99.0</td>\n      <td>0.045455</td>\n      <td>0.5</td>\n      <td>0.126866</td>\n    </tr>\n    <tr>\n      <th>11026964</th>\n      <td>34</td>\n      <td>45</td>\n      <td>16188</td>\n      <td>0</td>\n      <td>0.0</td>\n      <td>0</td>\n      <td>20</td>\n      <td>64</td>\n      <td>32</td>\n      <td>Подарки - Настольные игры</td>\n      <td>Подарки</td>\n      <td>0.000000</td>\n      <td>0</td>\n      <td>0</td>\n      <td>0.0</td>\n      <td>0.022727</td>\n      <td>0.0</td>\n      <td>0.094488</td>\n    </tr>\n    <tr>\n      <th>11026965</th>\n      <td>34</td>\n      <td>45</td>\n      <td>15757</td>\n      <td>0</td>\n      <td>0.0</td>\n      <td>0</td>\n      <td>20</td>\n      <td>55</td>\n      <td>0</td>\n      <td>Музыка - CD локального производства</td>\n      <td>Музыка</td>\n      <td>0.000000</td>\n      <td>0</td>\n      <td>0</td>\n      <td>0.0</td>\n      <td>0.113636</td>\n      <td>0.0</td>\n      <td>0.126866</td>\n    </tr>\n    <tr>\n      <th>11026966</th>\n      <td>34</td>\n      <td>45</td>\n      <td>19648</td>\n      <td>0</td>\n      <td>0.0</td>\n      <td>0</td>\n      <td>20</td>\n      <td>40</td>\n      <td>23</td>\n      <td>Кино - DVD</td>\n      <td>Кино</td>\n      <td>0.000000</td>\n      <td>0</td>\n      <td>0</td>\n      <td>0.0</td>\n      <td>0.045455</td>\n      <td>0.0</td>\n      <td>0.083756</td>\n    </tr>\n    <tr>\n      <th>11026967</th>\n      <td>34</td>\n      <td>45</td>\n      <td>969</td>\n      <td>0</td>\n      <td>0.0</td>\n      <td>0</td>\n      <td>20</td>\n      <td>37</td>\n      <td>17</td>\n      <td>Кино - Blu-Ray</td>\n      <td>Кино</td>\n      <td>0.000000</td>\n      <td>0</td>\n      <td>0</td>\n      <td>0.0</td>\n      <td>0.068182</td>\n      <td>0.5</td>\n      <td>0.128205</td>\n    </tr>\n  </tbody>\n</table>\n<p>11026968 rows × 18 columns</p>\n</div>"
     },
     "execution_count": 171,
     "metadata": {},
     "output_type": "execute_result"
    }
   ],
   "source": [
    "#['월ID' , '상점ID' , '상품분류ID']를 기준으로\n",
    "\n",
    "# shop_mean_features 요소별 시차 피처 생성\n",
    "\n",
    "for shop_mean_feature in shop_mean_features:\n",
    "    all_data, lag_features_to_clip = add_lag_features(df=all_data,\n",
    "                                                      lag_features_to_clip = lag_features_to_clip,\n",
    "                                                      idx_features=['월ID' , '상점ID' , '상품분류ID'],\n",
    "                                                      lag_feature=shop_mean_feature,\n",
    "                                                      nlags= 3,\n",
    "                                                      clip = True) # 값을 0~20 사이로 제한\n",
    "\n",
    "all_data = all_data.drop(shop_mean_features, axis =1 )\n",
    "\n",
    "all_data"
   ],
   "metadata": {
    "collapsed": false,
    "pycharm": {
     "name": "#%%\n"
    }
   }
  },
  {
   "cell_type": "code",
   "execution_count": 172,
   "outputs": [
    {
     "data": {
      "text/plain": "          월ID  상점ID   상품ID  월간 판매량  평균 판매가  판매건수  도시  상품분류ID  첫 판매월  \\\n1122386     3    25   8092       3   149.0     3  13      40      0   \n1122387     3    25   7850       3   199.0     3  13      30      0   \n1122388     3    25   8051       3    30.0     2  13      66      0   \n1122389     3    25   8088       1   199.0     1  13      55      0   \n1122390     3    25   8089       1   199.0     1  13      55      0   \n...       ...   ...    ...     ...     ...   ...  ..     ...    ...   \n11026963   34    45  18454       0     0.0     0  20      55     23   \n11026964   34    45  16188       0     0.0     0  20      64     32   \n11026965   34    45  15757       0     0.0     0  20      55      0   \n11026966   34    45  19648       0     0.0     0  20      40     23   \n11026967   34    45    969       0     0.0     0  20      37     17   \n\n                                        상품분류명      대분류  상품ID별 평균 판매량  \\\n1122386                            Кино - DVD     Кино      0.622222   \n1122387         Игры PC - Стандартные издания     Игры      1.577778   \n1122388          Подарки - Открытки, наклейки  Подарки      0.111111   \n1122389   Музыка - CD локального производства   Музыка      0.088889   \n1122390   Музыка - CD локального производства   Музыка      0.466667   \n...                                       ...      ...           ...   \n11026963  Музыка - CD локального производства   Музыка      0.000000   \n11026964            Подарки - Настольные игры  Подарки      0.000000   \n11026965  Музыка - CD локального производства   Музыка      0.000000   \n11026966                           Кино - DVD     Кино      0.000000   \n11026967                       Кино - Blu-Ray     Кино      0.000000   \n\n          월간 판매량_시차1  판매건수_시차1  평균 판매가_시차1  상품ID별 평균 판매량_시차1  \\\n1122386            1         1       149.0          0.586957   \n1122387            5         4       199.0          1.869565   \n1122388            0         0         0.0          0.043478   \n1122389            1         1       199.0          0.130435   \n1122390            0         0         0.0          0.478261   \n...              ...       ...         ...               ...   \n11026963           1         1        99.0          0.045455   \n11026964           0         0         0.0          0.022727   \n11026965           0         0         0.0          0.113636   \n11026966           0         0         0.0          0.045455   \n11026967           0         0         0.0          0.068182   \n\n          상품ID 도시별 평균 판매량_시차1  상점ID 상품분류ID별 평균 판매량_시차1  \n1122386              0.666667                 1.035039  \n1122387              2.916667                 3.554645  \n1122388              0.000000                 1.796610  \n1122389              0.166667                 0.569322  \n1122390              0.666667                 0.569322  \n...                       ...                      ...  \n11026963             0.500000                 0.126866  \n11026964             0.000000                 0.094488  \n11026965             0.000000                 0.126866  \n11026966             0.000000                 0.083756  \n11026967             0.500000                 0.128205  \n\n[9904582 rows x 18 columns]",
      "text/html": "<div>\n<style scoped>\n    .dataframe tbody tr th:only-of-type {\n        vertical-align: middle;\n    }\n\n    .dataframe tbody tr th {\n        vertical-align: top;\n    }\n\n    .dataframe thead th {\n        text-align: right;\n    }\n</style>\n<table border=\"1\" class=\"dataframe\">\n  <thead>\n    <tr style=\"text-align: right;\">\n      <th></th>\n      <th>월ID</th>\n      <th>상점ID</th>\n      <th>상품ID</th>\n      <th>월간 판매량</th>\n      <th>평균 판매가</th>\n      <th>판매건수</th>\n      <th>도시</th>\n      <th>상품분류ID</th>\n      <th>첫 판매월</th>\n      <th>상품분류명</th>\n      <th>대분류</th>\n      <th>상품ID별 평균 판매량</th>\n      <th>월간 판매량_시차1</th>\n      <th>판매건수_시차1</th>\n      <th>평균 판매가_시차1</th>\n      <th>상품ID별 평균 판매량_시차1</th>\n      <th>상품ID 도시별 평균 판매량_시차1</th>\n      <th>상점ID 상품분류ID별 평균 판매량_시차1</th>\n    </tr>\n  </thead>\n  <tbody>\n    <tr>\n      <th>1122386</th>\n      <td>3</td>\n      <td>25</td>\n      <td>8092</td>\n      <td>3</td>\n      <td>149.0</td>\n      <td>3</td>\n      <td>13</td>\n      <td>40</td>\n      <td>0</td>\n      <td>Кино - DVD</td>\n      <td>Кино</td>\n      <td>0.622222</td>\n      <td>1</td>\n      <td>1</td>\n      <td>149.0</td>\n      <td>0.586957</td>\n      <td>0.666667</td>\n      <td>1.035039</td>\n    </tr>\n    <tr>\n      <th>1122387</th>\n      <td>3</td>\n      <td>25</td>\n      <td>7850</td>\n      <td>3</td>\n      <td>199.0</td>\n      <td>3</td>\n      <td>13</td>\n      <td>30</td>\n      <td>0</td>\n      <td>Игры PC - Стандартные издания</td>\n      <td>Игры</td>\n      <td>1.577778</td>\n      <td>5</td>\n      <td>4</td>\n      <td>199.0</td>\n      <td>1.869565</td>\n      <td>2.916667</td>\n      <td>3.554645</td>\n    </tr>\n    <tr>\n      <th>1122388</th>\n      <td>3</td>\n      <td>25</td>\n      <td>8051</td>\n      <td>3</td>\n      <td>30.0</td>\n      <td>2</td>\n      <td>13</td>\n      <td>66</td>\n      <td>0</td>\n      <td>Подарки - Открытки, наклейки</td>\n      <td>Подарки</td>\n      <td>0.111111</td>\n      <td>0</td>\n      <td>0</td>\n      <td>0.0</td>\n      <td>0.043478</td>\n      <td>0.000000</td>\n      <td>1.796610</td>\n    </tr>\n    <tr>\n      <th>1122389</th>\n      <td>3</td>\n      <td>25</td>\n      <td>8088</td>\n      <td>1</td>\n      <td>199.0</td>\n      <td>1</td>\n      <td>13</td>\n      <td>55</td>\n      <td>0</td>\n      <td>Музыка - CD локального производства</td>\n      <td>Музыка</td>\n      <td>0.088889</td>\n      <td>1</td>\n      <td>1</td>\n      <td>199.0</td>\n      <td>0.130435</td>\n      <td>0.166667</td>\n      <td>0.569322</td>\n    </tr>\n    <tr>\n      <th>1122390</th>\n      <td>3</td>\n      <td>25</td>\n      <td>8089</td>\n      <td>1</td>\n      <td>199.0</td>\n      <td>1</td>\n      <td>13</td>\n      <td>55</td>\n      <td>0</td>\n      <td>Музыка - CD локального производства</td>\n      <td>Музыка</td>\n      <td>0.466667</td>\n      <td>0</td>\n      <td>0</td>\n      <td>0.0</td>\n      <td>0.478261</td>\n      <td>0.666667</td>\n      <td>0.569322</td>\n    </tr>\n    <tr>\n      <th>...</th>\n      <td>...</td>\n      <td>...</td>\n      <td>...</td>\n      <td>...</td>\n      <td>...</td>\n      <td>...</td>\n      <td>...</td>\n      <td>...</td>\n      <td>...</td>\n      <td>...</td>\n      <td>...</td>\n      <td>...</td>\n      <td>...</td>\n      <td>...</td>\n      <td>...</td>\n      <td>...</td>\n      <td>...</td>\n      <td>...</td>\n    </tr>\n    <tr>\n      <th>11026963</th>\n      <td>34</td>\n      <td>45</td>\n      <td>18454</td>\n      <td>0</td>\n      <td>0.0</td>\n      <td>0</td>\n      <td>20</td>\n      <td>55</td>\n      <td>23</td>\n      <td>Музыка - CD локального производства</td>\n      <td>Музыка</td>\n      <td>0.000000</td>\n      <td>1</td>\n      <td>1</td>\n      <td>99.0</td>\n      <td>0.045455</td>\n      <td>0.500000</td>\n      <td>0.126866</td>\n    </tr>\n    <tr>\n      <th>11026964</th>\n      <td>34</td>\n      <td>45</td>\n      <td>16188</td>\n      <td>0</td>\n      <td>0.0</td>\n      <td>0</td>\n      <td>20</td>\n      <td>64</td>\n      <td>32</td>\n      <td>Подарки - Настольные игры</td>\n      <td>Подарки</td>\n      <td>0.000000</td>\n      <td>0</td>\n      <td>0</td>\n      <td>0.0</td>\n      <td>0.022727</td>\n      <td>0.000000</td>\n      <td>0.094488</td>\n    </tr>\n    <tr>\n      <th>11026965</th>\n      <td>34</td>\n      <td>45</td>\n      <td>15757</td>\n      <td>0</td>\n      <td>0.0</td>\n      <td>0</td>\n      <td>20</td>\n      <td>55</td>\n      <td>0</td>\n      <td>Музыка - CD локального производства</td>\n      <td>Музыка</td>\n      <td>0.000000</td>\n      <td>0</td>\n      <td>0</td>\n      <td>0.0</td>\n      <td>0.113636</td>\n      <td>0.000000</td>\n      <td>0.126866</td>\n    </tr>\n    <tr>\n      <th>11026966</th>\n      <td>34</td>\n      <td>45</td>\n      <td>19648</td>\n      <td>0</td>\n      <td>0.0</td>\n      <td>0</td>\n      <td>20</td>\n      <td>40</td>\n      <td>23</td>\n      <td>Кино - DVD</td>\n      <td>Кино</td>\n      <td>0.000000</td>\n      <td>0</td>\n      <td>0</td>\n      <td>0.0</td>\n      <td>0.045455</td>\n      <td>0.000000</td>\n      <td>0.083756</td>\n    </tr>\n    <tr>\n      <th>11026967</th>\n      <td>34</td>\n      <td>45</td>\n      <td>969</td>\n      <td>0</td>\n      <td>0.0</td>\n      <td>0</td>\n      <td>20</td>\n      <td>37</td>\n      <td>17</td>\n      <td>Кино - Blu-Ray</td>\n      <td>Кино</td>\n      <td>0.000000</td>\n      <td>0</td>\n      <td>0</td>\n      <td>0.0</td>\n      <td>0.068182</td>\n      <td>0.500000</td>\n      <td>0.128205</td>\n    </tr>\n  </tbody>\n</table>\n<p>9904582 rows × 18 columns</p>\n</div>"
     },
     "execution_count": 172,
     "metadata": {},
     "output_type": "execute_result"
    }
   ],
   "source": [
    "## 시차 피처 생성 마무리 : 결측값 처리\n",
    "\n",
    "# 월ID가 3 미만인 데이터 제거\n",
    "\n",
    "all_data = all_data.drop(all_data[all_data['월ID'] < 3].index)\n",
    "\n",
    "all_data"
   ],
   "metadata": {
    "collapsed": false,
    "pycharm": {
     "name": "#%%\n"
    }
   }
  },
  {
   "cell_type": "code",
   "execution_count": 173,
   "outputs": [
    {
     "ename": "KeyError",
     "evalue": "\"['월간 판매량_시차3', '월간 판매량_시차2'] not in index\"",
     "output_type": "error",
     "traceback": [
      "\u001B[1;31m---------------------------------------------------------------------------\u001B[0m",
      "\u001B[1;31mKeyError\u001B[0m                                  Traceback (most recent call last)",
      "\u001B[1;32m<ipython-input-173-48d1ba867276>\u001B[0m in \u001B[0;36m<module>\u001B[1;34m\u001B[0m\n\u001B[0;32m      5\u001B[0m \u001B[1;31m# 월간 판매량 시차 피처들의 평균\u001B[0m\u001B[1;33m\u001B[0m\u001B[1;33m\u001B[0m\u001B[1;33m\u001B[0m\u001B[0m\n\u001B[0;32m      6\u001B[0m \u001B[1;33m\u001B[0m\u001B[0m\n\u001B[1;32m----> 7\u001B[1;33m all_data['월간 판매량 시차평균'] = all_data[['월간 판매량_시차1',\n\u001B[0m\u001B[0;32m      8\u001B[0m                                     \u001B[1;34m'월간 판매량_시차2'\u001B[0m\u001B[1;33m,\u001B[0m\u001B[1;33m\u001B[0m\u001B[1;33m\u001B[0m\u001B[0m\n\u001B[0;32m      9\u001B[0m                                     '월간 판매량_시차3']].mean(axis=1)\n",
      "\u001B[1;32m~\\anaconda3\\lib\\site-packages\\pandas\\core\\frame.py\u001B[0m in \u001B[0;36m__getitem__\u001B[1;34m(self, key)\u001B[0m\n\u001B[0;32m   3028\u001B[0m             \u001B[1;32mif\u001B[0m \u001B[0mis_iterator\u001B[0m\u001B[1;33m(\u001B[0m\u001B[0mkey\u001B[0m\u001B[1;33m)\u001B[0m\u001B[1;33m:\u001B[0m\u001B[1;33m\u001B[0m\u001B[1;33m\u001B[0m\u001B[0m\n\u001B[0;32m   3029\u001B[0m                 \u001B[0mkey\u001B[0m \u001B[1;33m=\u001B[0m \u001B[0mlist\u001B[0m\u001B[1;33m(\u001B[0m\u001B[0mkey\u001B[0m\u001B[1;33m)\u001B[0m\u001B[1;33m\u001B[0m\u001B[1;33m\u001B[0m\u001B[0m\n\u001B[1;32m-> 3030\u001B[1;33m             \u001B[0mindexer\u001B[0m \u001B[1;33m=\u001B[0m \u001B[0mself\u001B[0m\u001B[1;33m.\u001B[0m\u001B[0mloc\u001B[0m\u001B[1;33m.\u001B[0m\u001B[0m_get_listlike_indexer\u001B[0m\u001B[1;33m(\u001B[0m\u001B[0mkey\u001B[0m\u001B[1;33m,\u001B[0m \u001B[0maxis\u001B[0m\u001B[1;33m=\u001B[0m\u001B[1;36m1\u001B[0m\u001B[1;33m,\u001B[0m \u001B[0mraise_missing\u001B[0m\u001B[1;33m=\u001B[0m\u001B[1;32mTrue\u001B[0m\u001B[1;33m)\u001B[0m\u001B[1;33m[\u001B[0m\u001B[1;36m1\u001B[0m\u001B[1;33m]\u001B[0m\u001B[1;33m\u001B[0m\u001B[1;33m\u001B[0m\u001B[0m\n\u001B[0m\u001B[0;32m   3031\u001B[0m \u001B[1;33m\u001B[0m\u001B[0m\n\u001B[0;32m   3032\u001B[0m         \u001B[1;31m# take() does not accept boolean indexers\u001B[0m\u001B[1;33m\u001B[0m\u001B[1;33m\u001B[0m\u001B[1;33m\u001B[0m\u001B[0m\n",
      "\u001B[1;32m~\\anaconda3\\lib\\site-packages\\pandas\\core\\indexing.py\u001B[0m in \u001B[0;36m_get_listlike_indexer\u001B[1;34m(self, key, axis, raise_missing)\u001B[0m\n\u001B[0;32m   1264\u001B[0m             \u001B[0mkeyarr\u001B[0m\u001B[1;33m,\u001B[0m \u001B[0mindexer\u001B[0m\u001B[1;33m,\u001B[0m \u001B[0mnew_indexer\u001B[0m \u001B[1;33m=\u001B[0m \u001B[0max\u001B[0m\u001B[1;33m.\u001B[0m\u001B[0m_reindex_non_unique\u001B[0m\u001B[1;33m(\u001B[0m\u001B[0mkeyarr\u001B[0m\u001B[1;33m)\u001B[0m\u001B[1;33m\u001B[0m\u001B[1;33m\u001B[0m\u001B[0m\n\u001B[0;32m   1265\u001B[0m \u001B[1;33m\u001B[0m\u001B[0m\n\u001B[1;32m-> 1266\u001B[1;33m         \u001B[0mself\u001B[0m\u001B[1;33m.\u001B[0m\u001B[0m_validate_read_indexer\u001B[0m\u001B[1;33m(\u001B[0m\u001B[0mkeyarr\u001B[0m\u001B[1;33m,\u001B[0m \u001B[0mindexer\u001B[0m\u001B[1;33m,\u001B[0m \u001B[0maxis\u001B[0m\u001B[1;33m,\u001B[0m \u001B[0mraise_missing\u001B[0m\u001B[1;33m=\u001B[0m\u001B[0mraise_missing\u001B[0m\u001B[1;33m)\u001B[0m\u001B[1;33m\u001B[0m\u001B[1;33m\u001B[0m\u001B[0m\n\u001B[0m\u001B[0;32m   1267\u001B[0m         \u001B[1;32mreturn\u001B[0m \u001B[0mkeyarr\u001B[0m\u001B[1;33m,\u001B[0m \u001B[0mindexer\u001B[0m\u001B[1;33m\u001B[0m\u001B[1;33m\u001B[0m\u001B[0m\n\u001B[0;32m   1268\u001B[0m \u001B[1;33m\u001B[0m\u001B[0m\n",
      "\u001B[1;32m~\\anaconda3\\lib\\site-packages\\pandas\\core\\indexing.py\u001B[0m in \u001B[0;36m_validate_read_indexer\u001B[1;34m(self, key, indexer, axis, raise_missing)\u001B[0m\n\u001B[0;32m   1314\u001B[0m             \u001B[1;32mif\u001B[0m \u001B[0mraise_missing\u001B[0m\u001B[1;33m:\u001B[0m\u001B[1;33m\u001B[0m\u001B[1;33m\u001B[0m\u001B[0m\n\u001B[0;32m   1315\u001B[0m                 \u001B[0mnot_found\u001B[0m \u001B[1;33m=\u001B[0m \u001B[0mlist\u001B[0m\u001B[1;33m(\u001B[0m\u001B[0mset\u001B[0m\u001B[1;33m(\u001B[0m\u001B[0mkey\u001B[0m\u001B[1;33m)\u001B[0m \u001B[1;33m-\u001B[0m \u001B[0mset\u001B[0m\u001B[1;33m(\u001B[0m\u001B[0max\u001B[0m\u001B[1;33m)\u001B[0m\u001B[1;33m)\u001B[0m\u001B[1;33m\u001B[0m\u001B[1;33m\u001B[0m\u001B[0m\n\u001B[1;32m-> 1316\u001B[1;33m                 \u001B[1;32mraise\u001B[0m \u001B[0mKeyError\u001B[0m\u001B[1;33m(\u001B[0m\u001B[1;34mf\"{not_found} not in index\"\u001B[0m\u001B[1;33m)\u001B[0m\u001B[1;33m\u001B[0m\u001B[1;33m\u001B[0m\u001B[0m\n\u001B[0m\u001B[0;32m   1317\u001B[0m \u001B[1;33m\u001B[0m\u001B[0m\n\u001B[0;32m   1318\u001B[0m             \u001B[0mnot_found\u001B[0m \u001B[1;33m=\u001B[0m \u001B[0mkey\u001B[0m\u001B[1;33m[\u001B[0m\u001B[0mmissing_mask\u001B[0m\u001B[1;33m]\u001B[0m\u001B[1;33m\u001B[0m\u001B[1;33m\u001B[0m\u001B[0m\n",
      "\u001B[1;31mKeyError\u001B[0m: \"['월간 판매량_시차3', '월간 판매량_시차2'] not in index\""
     ]
    }
   ],
   "source": [
    "## 피처 엔지니어링 7 : 기타 피처 엔지니어링\n",
    "\n",
    "# 기타 피처\n",
    "\n",
    "# 월간 판매량 시차 피처들의 평균\n",
    "\n",
    "all_data['월간 판매량 시차평균'] = all_data[['월간 판매량_시차1',\n",
    "                                    '월간 판매량_시차2',\n",
    "                                    '월간 판매량_시차3']].mean(axis=1)\n",
    "\n",
    "\n",
    "#0~20 사이로 값 제한\n",
    "\n",
    "all_data[lag_features_to_clip + ['월간 판매량' , '월간 판매량 시차평균']] = \\\n",
    "all_data[lag_features_to_clip + ['월간 판매량' , '월간 판매량 시차평균']].clip(0,20)\n",
    "\n",
    "\n"
   ],
   "metadata": {
    "collapsed": false,
    "pycharm": {
     "name": "#%%\n"
    }
   }
  },
  {
   "cell_type": "code",
   "execution_count": null,
   "outputs": [],
   "source": [],
   "metadata": {
    "collapsed": false,
    "pycharm": {
     "name": "#%%\n"
    }
   }
  }
 ],
 "metadata": {
  "kernelspec": {
   "display_name": "Python 3",
   "language": "python",
   "name": "python3"
  },
  "language_info": {
   "codemirror_mode": {
    "name": "ipython",
    "version": 2
   },
   "file_extension": ".py",
   "mimetype": "text/x-python",
   "name": "python",
   "nbconvert_exporter": "python",
   "pygments_lexer": "ipython2",
   "version": "2.7.6"
  }
 },
 "nbformat": 4,
 "nbformat_minor": 0
}