{
 "cells": [
  {
   "cell_type": "code",
   "execution_count": 1,
   "metadata": {
    "collapsed": true,
    "pycharm": {
     "name": "#%%\n"
    }
   },
   "outputs": [],
   "source": [
    "import itertools\n",
    "import platform\n",
    "import matplotlib\n",
    "import pandas as pd\n",
    "import matplotlib.pyplot as plt\n",
    "from matplotlib import font_manager, rc\n",
    "import seaborn as sns\n",
    "%precision 3\n",
    "from matplotlib import pyplot as plt\n",
    "%matplotlib inline\n",
    "#그래프를 주피터 놋북에 그리기 위해\n",
    "import numpy as np\n",
    "import copy\n",
    "from matplotlib import ticker\n",
    "from scipy.stats import probplot\n",
    "from scipy import stats\n",
    "import collections\n",
    "import itertools\n",
    "import math\n",
    "#from varname import nameof\n",
    "import sys\n",
    "from scipy import stats\n",
    "from scipy.stats import bernoulli\n",
    "import scipy\n",
    "from collections import deque\n",
    "from sympy import Symbol, solve\n",
    "import matplotlib.patches as patches\n",
    "\n",
    "\n",
    "##################머신러닝 모듈 ################\n",
    "\n",
    "from sklearn.model_selection import train_test_split #사이킷런 import\n",
    "from sklearn.linear_model import LinearRegression\n",
    "\n",
    "#히스토그램 그리기\n",
    "# Window\n",
    "if platform.system() == 'Windows':\n",
    "    matplotlib.rc('font', family='Malgun Gothic')\n",
    "elif platform.system() == 'Darwin': # Mac\n",
    "    matplotlib.rc('font', family='AppleGothic')\n",
    "else: #linux\n",
    "    matplotlib.rc('font', family='NanumGothic')\n",
    "\n",
    "# 그래프에 마이너스 표시가 되도록 변경\n",
    "matplotlib.rcParams['axes.unicode_minus'] = False\n",
    "\n",
    "# 한글 폰트 설정\n",
    "font_location = 'C:/Windows/Fonts/MALGUNSL.TTF' #맑은고딕\n",
    "font_name = font_manager.FontProperties(fname=font_location).get_name()\n",
    "rc('font',family=font_name)\n"
   ]
  },
  {
   "cell_type": "code",
   "execution_count": 2,
   "outputs": [
    {
     "data": {
      "text/plain": "   has_null  gender   age  age_o                                  race  \\\n0         0  female  21.0   27.0  Asian/PacificIslander/Asian-American   \n1         0  female  21.0   22.0  Asian/PacificIslander/Asian-American   \n2         1  female  21.0   22.0  Asian/PacificIslander/Asian-American   \n3         0  female  21.0   23.0  Asian/PacificIslander/Asian-American   \n4         0  female  21.0   24.0  Asian/PacificIslander/Asian-American   \n\n                                 race_o  importance_same_race  \\\n0           European/Caucasian-American                   2.0   \n1           European/Caucasian-American                   2.0   \n2  Asian/PacificIslander/Asian-American                   2.0   \n3           European/Caucasian-American                   2.0   \n4               Latino/HispanicAmerican                   2.0   \n\n   importance_same_religion  pref_o_attractive  pref_o_sincere  \\\n0                       4.0               35.0            20.0   \n1                       4.0               60.0             0.0   \n2                       4.0               19.0            18.0   \n3                       4.0               30.0             5.0   \n4                       4.0               30.0            10.0   \n\n   pref_o_intelligence  pref_o_funny  pref_o_ambitious  \\\n0                 20.0          20.0               0.0   \n1                  0.0          40.0               0.0   \n2                 19.0          18.0              14.0   \n3                 15.0          40.0               5.0   \n4                 20.0          10.0              10.0   \n\n   pref_o_shared_interests  attractive_o  sincere_o  intelligence_o  funny_o  \\\n0                      5.0           6.0        8.0             8.0      8.0   \n1                      0.0           7.0        8.0            10.0      7.0   \n2                     12.0          10.0       10.0            10.0     10.0   \n3                      5.0           7.0        8.0             9.0      8.0   \n4                     20.0           8.0        7.0             9.0      6.0   \n\n   ambitous_o  shared_interests_o  attractive_important  sincere_important  \\\n0         8.0                 6.0                  15.0               20.0   \n1         7.0                 5.0                  15.0               20.0   \n2        10.0                10.0                  15.0               20.0   \n3         9.0                 8.0                  15.0               20.0   \n4         9.0                 7.0                  15.0               20.0   \n\n   intellicence_important  funny_important  ambtition_important  \\\n0                    20.0             15.0                 15.0   \n1                    20.0             15.0                 15.0   \n2                    20.0             15.0                 15.0   \n3                    20.0             15.0                 15.0   \n4                    20.0             15.0                 15.0   \n\n   shared_interests_important  attractive_partner  sincere_partner  \\\n0                        15.0                 6.0              9.0   \n1                        15.0                 7.0              8.0   \n2                        15.0                 5.0              8.0   \n3                        15.0                 7.0              6.0   \n4                        15.0                 5.0              6.0   \n\n   intelligence_partner  funny_partner  ambition_partner  \\\n0                   7.0            7.0               6.0   \n1                   7.0            8.0               5.0   \n2                   9.0            8.0               5.0   \n3                   8.0            7.0               6.0   \n4                   7.0            7.0               6.0   \n\n   shared_interests_partner  interests_correlate  \\\n0                       5.0                 0.14   \n1                       6.0                 0.54   \n2                       7.0                 0.16   \n3                       8.0                 0.61   \n4                       6.0                 0.21   \n\n   expected_happy_with_sd_people  expected_num_interested_in_me  like  \\\n0                            3.0                            2.0   7.0   \n1                            3.0                            2.0   7.0   \n2                            3.0                            2.0   7.0   \n3                            3.0                            2.0   7.0   \n4                            3.0                            2.0   6.0   \n\n   guess_prob_liked  met  match  \n0               6.0  0.0      0  \n1               5.0  1.0      0  \n2               NaN  1.0      1  \n3               6.0  0.0      1  \n4               6.0  0.0      1  ",
      "text/html": "<div>\n<style scoped>\n    .dataframe tbody tr th:only-of-type {\n        vertical-align: middle;\n    }\n\n    .dataframe tbody tr th {\n        vertical-align: top;\n    }\n\n    .dataframe thead th {\n        text-align: right;\n    }\n</style>\n<table border=\"1\" class=\"dataframe\">\n  <thead>\n    <tr style=\"text-align: right;\">\n      <th></th>\n      <th>has_null</th>\n      <th>gender</th>\n      <th>age</th>\n      <th>age_o</th>\n      <th>race</th>\n      <th>race_o</th>\n      <th>importance_same_race</th>\n      <th>importance_same_religion</th>\n      <th>pref_o_attractive</th>\n      <th>pref_o_sincere</th>\n      <th>pref_o_intelligence</th>\n      <th>pref_o_funny</th>\n      <th>pref_o_ambitious</th>\n      <th>pref_o_shared_interests</th>\n      <th>attractive_o</th>\n      <th>sincere_o</th>\n      <th>intelligence_o</th>\n      <th>funny_o</th>\n      <th>ambitous_o</th>\n      <th>shared_interests_o</th>\n      <th>attractive_important</th>\n      <th>sincere_important</th>\n      <th>intellicence_important</th>\n      <th>funny_important</th>\n      <th>ambtition_important</th>\n      <th>shared_interests_important</th>\n      <th>attractive_partner</th>\n      <th>sincere_partner</th>\n      <th>intelligence_partner</th>\n      <th>funny_partner</th>\n      <th>ambition_partner</th>\n      <th>shared_interests_partner</th>\n      <th>interests_correlate</th>\n      <th>expected_happy_with_sd_people</th>\n      <th>expected_num_interested_in_me</th>\n      <th>like</th>\n      <th>guess_prob_liked</th>\n      <th>met</th>\n      <th>match</th>\n    </tr>\n  </thead>\n  <tbody>\n    <tr>\n      <th>0</th>\n      <td>0</td>\n      <td>female</td>\n      <td>21.0</td>\n      <td>27.0</td>\n      <td>Asian/PacificIslander/Asian-American</td>\n      <td>European/Caucasian-American</td>\n      <td>2.0</td>\n      <td>4.0</td>\n      <td>35.0</td>\n      <td>20.0</td>\n      <td>20.0</td>\n      <td>20.0</td>\n      <td>0.0</td>\n      <td>5.0</td>\n      <td>6.0</td>\n      <td>8.0</td>\n      <td>8.0</td>\n      <td>8.0</td>\n      <td>8.0</td>\n      <td>6.0</td>\n      <td>15.0</td>\n      <td>20.0</td>\n      <td>20.0</td>\n      <td>15.0</td>\n      <td>15.0</td>\n      <td>15.0</td>\n      <td>6.0</td>\n      <td>9.0</td>\n      <td>7.0</td>\n      <td>7.0</td>\n      <td>6.0</td>\n      <td>5.0</td>\n      <td>0.14</td>\n      <td>3.0</td>\n      <td>2.0</td>\n      <td>7.0</td>\n      <td>6.0</td>\n      <td>0.0</td>\n      <td>0</td>\n    </tr>\n    <tr>\n      <th>1</th>\n      <td>0</td>\n      <td>female</td>\n      <td>21.0</td>\n      <td>22.0</td>\n      <td>Asian/PacificIslander/Asian-American</td>\n      <td>European/Caucasian-American</td>\n      <td>2.0</td>\n      <td>4.0</td>\n      <td>60.0</td>\n      <td>0.0</td>\n      <td>0.0</td>\n      <td>40.0</td>\n      <td>0.0</td>\n      <td>0.0</td>\n      <td>7.0</td>\n      <td>8.0</td>\n      <td>10.0</td>\n      <td>7.0</td>\n      <td>7.0</td>\n      <td>5.0</td>\n      <td>15.0</td>\n      <td>20.0</td>\n      <td>20.0</td>\n      <td>15.0</td>\n      <td>15.0</td>\n      <td>15.0</td>\n      <td>7.0</td>\n      <td>8.0</td>\n      <td>7.0</td>\n      <td>8.0</td>\n      <td>5.0</td>\n      <td>6.0</td>\n      <td>0.54</td>\n      <td>3.0</td>\n      <td>2.0</td>\n      <td>7.0</td>\n      <td>5.0</td>\n      <td>1.0</td>\n      <td>0</td>\n    </tr>\n    <tr>\n      <th>2</th>\n      <td>1</td>\n      <td>female</td>\n      <td>21.0</td>\n      <td>22.0</td>\n      <td>Asian/PacificIslander/Asian-American</td>\n      <td>Asian/PacificIslander/Asian-American</td>\n      <td>2.0</td>\n      <td>4.0</td>\n      <td>19.0</td>\n      <td>18.0</td>\n      <td>19.0</td>\n      <td>18.0</td>\n      <td>14.0</td>\n      <td>12.0</td>\n      <td>10.0</td>\n      <td>10.0</td>\n      <td>10.0</td>\n      <td>10.0</td>\n      <td>10.0</td>\n      <td>10.0</td>\n      <td>15.0</td>\n      <td>20.0</td>\n      <td>20.0</td>\n      <td>15.0</td>\n      <td>15.0</td>\n      <td>15.0</td>\n      <td>5.0</td>\n      <td>8.0</td>\n      <td>9.0</td>\n      <td>8.0</td>\n      <td>5.0</td>\n      <td>7.0</td>\n      <td>0.16</td>\n      <td>3.0</td>\n      <td>2.0</td>\n      <td>7.0</td>\n      <td>NaN</td>\n      <td>1.0</td>\n      <td>1</td>\n    </tr>\n    <tr>\n      <th>3</th>\n      <td>0</td>\n      <td>female</td>\n      <td>21.0</td>\n      <td>23.0</td>\n      <td>Asian/PacificIslander/Asian-American</td>\n      <td>European/Caucasian-American</td>\n      <td>2.0</td>\n      <td>4.0</td>\n      <td>30.0</td>\n      <td>5.0</td>\n      <td>15.0</td>\n      <td>40.0</td>\n      <td>5.0</td>\n      <td>5.0</td>\n      <td>7.0</td>\n      <td>8.0</td>\n      <td>9.0</td>\n      <td>8.0</td>\n      <td>9.0</td>\n      <td>8.0</td>\n      <td>15.0</td>\n      <td>20.0</td>\n      <td>20.0</td>\n      <td>15.0</td>\n      <td>15.0</td>\n      <td>15.0</td>\n      <td>7.0</td>\n      <td>6.0</td>\n      <td>8.0</td>\n      <td>7.0</td>\n      <td>6.0</td>\n      <td>8.0</td>\n      <td>0.61</td>\n      <td>3.0</td>\n      <td>2.0</td>\n      <td>7.0</td>\n      <td>6.0</td>\n      <td>0.0</td>\n      <td>1</td>\n    </tr>\n    <tr>\n      <th>4</th>\n      <td>0</td>\n      <td>female</td>\n      <td>21.0</td>\n      <td>24.0</td>\n      <td>Asian/PacificIslander/Asian-American</td>\n      <td>Latino/HispanicAmerican</td>\n      <td>2.0</td>\n      <td>4.0</td>\n      <td>30.0</td>\n      <td>10.0</td>\n      <td>20.0</td>\n      <td>10.0</td>\n      <td>10.0</td>\n      <td>20.0</td>\n      <td>8.0</td>\n      <td>7.0</td>\n      <td>9.0</td>\n      <td>6.0</td>\n      <td>9.0</td>\n      <td>7.0</td>\n      <td>15.0</td>\n      <td>20.0</td>\n      <td>20.0</td>\n      <td>15.0</td>\n      <td>15.0</td>\n      <td>15.0</td>\n      <td>5.0</td>\n      <td>6.0</td>\n      <td>7.0</td>\n      <td>7.0</td>\n      <td>6.0</td>\n      <td>6.0</td>\n      <td>0.21</td>\n      <td>3.0</td>\n      <td>2.0</td>\n      <td>6.0</td>\n      <td>6.0</td>\n      <td>0.0</td>\n      <td>1</td>\n    </tr>\n  </tbody>\n</table>\n</div>"
     },
     "execution_count": 2,
     "metadata": {},
     "output_type": "execute_result"
    }
   ],
   "source": [
    "file_url = \"https://media.githubusercontent.com/media/musthave-ML10/data_source/main/dating.csv\"\n",
    "pd.options.display.max_columns = 40\n",
    "data = pd.read_csv(file_url , skipinitialspace= True) #빈칸 모두 제거\n",
    "\n",
    "data.head()"
   ],
   "metadata": {
    "collapsed": false,
    "pycharm": {
     "name": "#%%\n"
    }
   }
  },
  {
   "cell_type": "code",
   "execution_count": 3,
   "outputs": [
    {
     "name": "stdout",
     "output_type": "stream",
     "text": [
      "<class 'pandas.core.frame.DataFrame'>\n",
      "RangeIndex: 8378 entries, 0 to 8377\n",
      "Data columns (total 39 columns):\n",
      " #   Column                         Non-Null Count  Dtype  \n",
      "---  ------                         --------------  -----  \n",
      " 0   has_null                       8378 non-null   int64  \n",
      " 1   gender                         8378 non-null   object \n",
      " 2   age                            8283 non-null   float64\n",
      " 3   age_o                          8274 non-null   float64\n",
      " 4   race                           8315 non-null   object \n",
      " 5   race_o                         8305 non-null   object \n",
      " 6   importance_same_race           8299 non-null   float64\n",
      " 7   importance_same_religion       8299 non-null   float64\n",
      " 8   pref_o_attractive              8289 non-null   float64\n",
      " 9   pref_o_sincere                 8289 non-null   float64\n",
      " 10  pref_o_intelligence            8289 non-null   float64\n",
      " 11  pref_o_funny                   8280 non-null   float64\n",
      " 12  pref_o_ambitious               8271 non-null   float64\n",
      " 13  pref_o_shared_interests        8249 non-null   float64\n",
      " 14  attractive_o                   8166 non-null   float64\n",
      " 15  sincere_o                      8091 non-null   float64\n",
      " 16  intelligence_o                 8072 non-null   float64\n",
      " 17  funny_o                        8018 non-null   float64\n",
      " 18  ambitous_o                     7656 non-null   float64\n",
      " 19  shared_interests_o             7302 non-null   float64\n",
      " 20  attractive_important           8299 non-null   float64\n",
      " 21  sincere_important              8299 non-null   float64\n",
      " 22  intellicence_important         8299 non-null   float64\n",
      " 23  funny_important                8289 non-null   float64\n",
      " 24  ambtition_important            8279 non-null   float64\n",
      " 25  shared_interests_important     8257 non-null   float64\n",
      " 26  attractive_partner             8176 non-null   float64\n",
      " 27  sincere_partner                8101 non-null   float64\n",
      " 28  intelligence_partner           8082 non-null   float64\n",
      " 29  funny_partner                  8028 non-null   float64\n",
      " 30  ambition_partner               7666 non-null   float64\n",
      " 31  shared_interests_partner       7311 non-null   float64\n",
      " 32  interests_correlate            8220 non-null   float64\n",
      " 33  expected_happy_with_sd_people  8277 non-null   float64\n",
      " 34  expected_num_interested_in_me  1800 non-null   float64\n",
      " 35  like                           8138 non-null   float64\n",
      " 36  guess_prob_liked               8069 non-null   float64\n",
      " 37  met                            8003 non-null   float64\n",
      " 38  match                          8378 non-null   int64  \n",
      "dtypes: float64(34), int64(2), object(3)\n",
      "memory usage: 2.5+ MB\n"
     ]
    }
   ],
   "source": [
    "data.info()"
   ],
   "metadata": {
    "collapsed": false,
    "pycharm": {
     "name": "#%%\n"
    }
   }
  },
  {
   "cell_type": "code",
   "execution_count": 4,
   "outputs": [
    {
     "data": {
      "text/plain": "       has_null      age    age_o  importance_same_race  \\\ncount   8378.00  8283.00  8274.00               8299.00   \nmean       0.87    26.36    26.36                  3.78   \nstd        0.33     3.57     3.56                  2.85   \nmin        0.00    18.00    18.00                  0.00   \n25%        1.00    24.00    24.00                  1.00   \n50%        1.00    26.00    26.00                  3.00   \n75%        1.00    28.00    28.00                  6.00   \nmax        1.00    55.00    55.00                 10.00   \n\n       importance_same_religion  pref_o_attractive  pref_o_sincere  \\\ncount                   8299.00            8289.00         8289.00   \nmean                       3.65              22.50           17.40   \nstd                        2.81              12.57            7.04   \nmin                        1.00               0.00            0.00   \n25%                        1.00              15.00           15.00   \n50%                        3.00              20.00           18.37   \n75%                        6.00              25.00           20.00   \nmax                       10.00             100.00           60.00   \n\n       pref_o_intelligence  pref_o_funny  pref_o_ambitious  \\\ncount              8289.00       8280.00           8271.00   \nmean                 20.27         17.46             10.69   \nstd                   6.78          6.09              6.13   \nmin                   0.00          0.00              0.00   \n25%                  17.39         15.00              5.00   \n50%                  20.00         18.00             10.00   \n75%                  23.81         20.00             15.00   \nmax                  50.00         50.00             53.00   \n\n       pref_o_shared_interests  attractive_o  sincere_o  intelligence_o  \\\ncount                  8249.00       8166.00    8091.00         8072.00   \nmean                     11.85          6.19       7.18            7.37   \nstd                       6.36          1.95       1.74            1.55   \nmin                       0.00          0.00       0.00            0.00   \n25%                       9.52          5.00       6.00            6.00   \n50%                      10.64          6.00       7.00            7.00   \n75%                      16.00          8.00       8.00            8.00   \nmax                      30.00         10.50      10.00           10.00   \n\n       funny_o  ambitous_o  shared_interests_o  attractive_important  \\\ncount  8018.00     7656.00             7302.00               8299.00   \nmean      6.40        6.78                5.47                 22.51   \nstd       1.95        1.79                2.16                 12.59   \nmin       0.00        0.00                0.00                  0.00   \n25%       5.00        6.00                4.00                 15.00   \n50%       7.00        7.00                6.00                 20.00   \n75%       8.00        8.00                7.00                 25.00   \nmax      11.00       10.00               10.00                100.00   \n\n       sincere_important  intellicence_important  funny_important  \\\ncount            8299.00                 8299.00          8289.00   \nmean               17.40                   20.27            17.46   \nstd                 7.05                    6.78             6.09   \nmin                 0.00                    0.00             0.00   \n25%                15.00                   17.39            15.00   \n50%                18.18                   20.00            18.00   \n75%                20.00                   23.81            20.00   \nmax                60.00                   50.00            50.00   \n\n       ambtition_important  shared_interests_important  attractive_partner  \\\ncount              8279.00                     8257.00             8176.00   \nmean                 10.68                       11.85                6.19   \nstd                   6.12                        6.36                1.95   \nmin                   0.00                        0.00                0.00   \n25%                   5.00                        9.52                5.00   \n50%                  10.00                       10.64                6.00   \n75%                  15.00                       16.00                8.00   \nmax                  53.00                       30.00               10.00   \n\n       sincere_partner  intelligence_partner  funny_partner  ambition_partner  \\\ncount          8101.00               8082.00        8028.00           7666.00   \nmean              7.18                  7.37           6.40              6.78   \nstd               1.74                  1.55           1.95              1.79   \nmin               0.00                  0.00           0.00              0.00   \n25%               6.00                  6.00           5.00              6.00   \n50%               7.00                  7.00           7.00              7.00   \n75%               8.00                  8.00           8.00              8.00   \nmax              10.00                 10.00          10.00             10.00   \n\n       shared_interests_partner  interests_correlate  \\\ncount                   7311.00              8220.00   \nmean                       5.47                 0.20   \nstd                        2.16                 0.30   \nmin                        0.00                -0.83   \n25%                        4.00                -0.02   \n50%                        6.00                 0.21   \n75%                        7.00                 0.43   \nmax                       10.00                 0.91   \n\n       expected_happy_with_sd_people  expected_num_interested_in_me     like  \\\ncount                        8277.00                        1800.00  8138.00   \nmean                            5.53                           5.57     6.13   \nstd                             1.73                           4.76     1.84   \nmin                             1.00                           0.00     0.00   \n25%                             5.00                           2.00     5.00   \n50%                             6.00                           4.00     6.00   \n75%                             7.00                           8.00     7.00   \nmax                            10.00                          20.00    10.00   \n\n       guess_prob_liked      met    match  \ncount           8069.00  8003.00  8378.00  \nmean               5.21     0.05     0.16  \nstd                2.13     0.28     0.37  \nmin                0.00     0.00     0.00  \n25%                4.00     0.00     0.00  \n50%                5.00     0.00     0.00  \n75%                7.00     0.00     0.00  \nmax               10.00     8.00     1.00  ",
      "text/html": "<div>\n<style scoped>\n    .dataframe tbody tr th:only-of-type {\n        vertical-align: middle;\n    }\n\n    .dataframe tbody tr th {\n        vertical-align: top;\n    }\n\n    .dataframe thead th {\n        text-align: right;\n    }\n</style>\n<table border=\"1\" class=\"dataframe\">\n  <thead>\n    <tr style=\"text-align: right;\">\n      <th></th>\n      <th>has_null</th>\n      <th>age</th>\n      <th>age_o</th>\n      <th>importance_same_race</th>\n      <th>importance_same_religion</th>\n      <th>pref_o_attractive</th>\n      <th>pref_o_sincere</th>\n      <th>pref_o_intelligence</th>\n      <th>pref_o_funny</th>\n      <th>pref_o_ambitious</th>\n      <th>pref_o_shared_interests</th>\n      <th>attractive_o</th>\n      <th>sincere_o</th>\n      <th>intelligence_o</th>\n      <th>funny_o</th>\n      <th>ambitous_o</th>\n      <th>shared_interests_o</th>\n      <th>attractive_important</th>\n      <th>sincere_important</th>\n      <th>intellicence_important</th>\n      <th>funny_important</th>\n      <th>ambtition_important</th>\n      <th>shared_interests_important</th>\n      <th>attractive_partner</th>\n      <th>sincere_partner</th>\n      <th>intelligence_partner</th>\n      <th>funny_partner</th>\n      <th>ambition_partner</th>\n      <th>shared_interests_partner</th>\n      <th>interests_correlate</th>\n      <th>expected_happy_with_sd_people</th>\n      <th>expected_num_interested_in_me</th>\n      <th>like</th>\n      <th>guess_prob_liked</th>\n      <th>met</th>\n      <th>match</th>\n    </tr>\n  </thead>\n  <tbody>\n    <tr>\n      <th>count</th>\n      <td>8378.00</td>\n      <td>8283.00</td>\n      <td>8274.00</td>\n      <td>8299.00</td>\n      <td>8299.00</td>\n      <td>8289.00</td>\n      <td>8289.00</td>\n      <td>8289.00</td>\n      <td>8280.00</td>\n      <td>8271.00</td>\n      <td>8249.00</td>\n      <td>8166.00</td>\n      <td>8091.00</td>\n      <td>8072.00</td>\n      <td>8018.00</td>\n      <td>7656.00</td>\n      <td>7302.00</td>\n      <td>8299.00</td>\n      <td>8299.00</td>\n      <td>8299.00</td>\n      <td>8289.00</td>\n      <td>8279.00</td>\n      <td>8257.00</td>\n      <td>8176.00</td>\n      <td>8101.00</td>\n      <td>8082.00</td>\n      <td>8028.00</td>\n      <td>7666.00</td>\n      <td>7311.00</td>\n      <td>8220.00</td>\n      <td>8277.00</td>\n      <td>1800.00</td>\n      <td>8138.00</td>\n      <td>8069.00</td>\n      <td>8003.00</td>\n      <td>8378.00</td>\n    </tr>\n    <tr>\n      <th>mean</th>\n      <td>0.87</td>\n      <td>26.36</td>\n      <td>26.36</td>\n      <td>3.78</td>\n      <td>3.65</td>\n      <td>22.50</td>\n      <td>17.40</td>\n      <td>20.27</td>\n      <td>17.46</td>\n      <td>10.69</td>\n      <td>11.85</td>\n      <td>6.19</td>\n      <td>7.18</td>\n      <td>7.37</td>\n      <td>6.40</td>\n      <td>6.78</td>\n      <td>5.47</td>\n      <td>22.51</td>\n      <td>17.40</td>\n      <td>20.27</td>\n      <td>17.46</td>\n      <td>10.68</td>\n      <td>11.85</td>\n      <td>6.19</td>\n      <td>7.18</td>\n      <td>7.37</td>\n      <td>6.40</td>\n      <td>6.78</td>\n      <td>5.47</td>\n      <td>0.20</td>\n      <td>5.53</td>\n      <td>5.57</td>\n      <td>6.13</td>\n      <td>5.21</td>\n      <td>0.05</td>\n      <td>0.16</td>\n    </tr>\n    <tr>\n      <th>std</th>\n      <td>0.33</td>\n      <td>3.57</td>\n      <td>3.56</td>\n      <td>2.85</td>\n      <td>2.81</td>\n      <td>12.57</td>\n      <td>7.04</td>\n      <td>6.78</td>\n      <td>6.09</td>\n      <td>6.13</td>\n      <td>6.36</td>\n      <td>1.95</td>\n      <td>1.74</td>\n      <td>1.55</td>\n      <td>1.95</td>\n      <td>1.79</td>\n      <td>2.16</td>\n      <td>12.59</td>\n      <td>7.05</td>\n      <td>6.78</td>\n      <td>6.09</td>\n      <td>6.12</td>\n      <td>6.36</td>\n      <td>1.95</td>\n      <td>1.74</td>\n      <td>1.55</td>\n      <td>1.95</td>\n      <td>1.79</td>\n      <td>2.16</td>\n      <td>0.30</td>\n      <td>1.73</td>\n      <td>4.76</td>\n      <td>1.84</td>\n      <td>2.13</td>\n      <td>0.28</td>\n      <td>0.37</td>\n    </tr>\n    <tr>\n      <th>min</th>\n      <td>0.00</td>\n      <td>18.00</td>\n      <td>18.00</td>\n      <td>0.00</td>\n      <td>1.00</td>\n      <td>0.00</td>\n      <td>0.00</td>\n      <td>0.00</td>\n      <td>0.00</td>\n      <td>0.00</td>\n      <td>0.00</td>\n      <td>0.00</td>\n      <td>0.00</td>\n      <td>0.00</td>\n      <td>0.00</td>\n      <td>0.00</td>\n      <td>0.00</td>\n      <td>0.00</td>\n      <td>0.00</td>\n      <td>0.00</td>\n      <td>0.00</td>\n      <td>0.00</td>\n      <td>0.00</td>\n      <td>0.00</td>\n      <td>0.00</td>\n      <td>0.00</td>\n      <td>0.00</td>\n      <td>0.00</td>\n      <td>0.00</td>\n      <td>-0.83</td>\n      <td>1.00</td>\n      <td>0.00</td>\n      <td>0.00</td>\n      <td>0.00</td>\n      <td>0.00</td>\n      <td>0.00</td>\n    </tr>\n    <tr>\n      <th>25%</th>\n      <td>1.00</td>\n      <td>24.00</td>\n      <td>24.00</td>\n      <td>1.00</td>\n      <td>1.00</td>\n      <td>15.00</td>\n      <td>15.00</td>\n      <td>17.39</td>\n      <td>15.00</td>\n      <td>5.00</td>\n      <td>9.52</td>\n      <td>5.00</td>\n      <td>6.00</td>\n      <td>6.00</td>\n      <td>5.00</td>\n      <td>6.00</td>\n      <td>4.00</td>\n      <td>15.00</td>\n      <td>15.00</td>\n      <td>17.39</td>\n      <td>15.00</td>\n      <td>5.00</td>\n      <td>9.52</td>\n      <td>5.00</td>\n      <td>6.00</td>\n      <td>6.00</td>\n      <td>5.00</td>\n      <td>6.00</td>\n      <td>4.00</td>\n      <td>-0.02</td>\n      <td>5.00</td>\n      <td>2.00</td>\n      <td>5.00</td>\n      <td>4.00</td>\n      <td>0.00</td>\n      <td>0.00</td>\n    </tr>\n    <tr>\n      <th>50%</th>\n      <td>1.00</td>\n      <td>26.00</td>\n      <td>26.00</td>\n      <td>3.00</td>\n      <td>3.00</td>\n      <td>20.00</td>\n      <td>18.37</td>\n      <td>20.00</td>\n      <td>18.00</td>\n      <td>10.00</td>\n      <td>10.64</td>\n      <td>6.00</td>\n      <td>7.00</td>\n      <td>7.00</td>\n      <td>7.00</td>\n      <td>7.00</td>\n      <td>6.00</td>\n      <td>20.00</td>\n      <td>18.18</td>\n      <td>20.00</td>\n      <td>18.00</td>\n      <td>10.00</td>\n      <td>10.64</td>\n      <td>6.00</td>\n      <td>7.00</td>\n      <td>7.00</td>\n      <td>7.00</td>\n      <td>7.00</td>\n      <td>6.00</td>\n      <td>0.21</td>\n      <td>6.00</td>\n      <td>4.00</td>\n      <td>6.00</td>\n      <td>5.00</td>\n      <td>0.00</td>\n      <td>0.00</td>\n    </tr>\n    <tr>\n      <th>75%</th>\n      <td>1.00</td>\n      <td>28.00</td>\n      <td>28.00</td>\n      <td>6.00</td>\n      <td>6.00</td>\n      <td>25.00</td>\n      <td>20.00</td>\n      <td>23.81</td>\n      <td>20.00</td>\n      <td>15.00</td>\n      <td>16.00</td>\n      <td>8.00</td>\n      <td>8.00</td>\n      <td>8.00</td>\n      <td>8.00</td>\n      <td>8.00</td>\n      <td>7.00</td>\n      <td>25.00</td>\n      <td>20.00</td>\n      <td>23.81</td>\n      <td>20.00</td>\n      <td>15.00</td>\n      <td>16.00</td>\n      <td>8.00</td>\n      <td>8.00</td>\n      <td>8.00</td>\n      <td>8.00</td>\n      <td>8.00</td>\n      <td>7.00</td>\n      <td>0.43</td>\n      <td>7.00</td>\n      <td>8.00</td>\n      <td>7.00</td>\n      <td>7.00</td>\n      <td>0.00</td>\n      <td>0.00</td>\n    </tr>\n    <tr>\n      <th>max</th>\n      <td>1.00</td>\n      <td>55.00</td>\n      <td>55.00</td>\n      <td>10.00</td>\n      <td>10.00</td>\n      <td>100.00</td>\n      <td>60.00</td>\n      <td>50.00</td>\n      <td>50.00</td>\n      <td>53.00</td>\n      <td>30.00</td>\n      <td>10.50</td>\n      <td>10.00</td>\n      <td>10.00</td>\n      <td>11.00</td>\n      <td>10.00</td>\n      <td>10.00</td>\n      <td>100.00</td>\n      <td>60.00</td>\n      <td>50.00</td>\n      <td>50.00</td>\n      <td>53.00</td>\n      <td>30.00</td>\n      <td>10.00</td>\n      <td>10.00</td>\n      <td>10.00</td>\n      <td>10.00</td>\n      <td>10.00</td>\n      <td>10.00</td>\n      <td>0.91</td>\n      <td>10.00</td>\n      <td>20.00</td>\n      <td>10.00</td>\n      <td>10.00</td>\n      <td>8.00</td>\n      <td>1.00</td>\n    </tr>\n  </tbody>\n</table>\n</div>"
     },
     "execution_count": 4,
     "metadata": {},
     "output_type": "execute_result"
    }
   ],
   "source": [
    "round(data.describe() , 2)"
   ],
   "metadata": {
    "collapsed": false,
    "pycharm": {
     "name": "#%%\n"
    }
   }
  },
  {
   "cell_type": "code",
   "execution_count": 5,
   "outputs": [
    {
     "data": {
      "text/plain": "has_null                         0.000000\ngender                           0.000000\nage                              0.011339\nage_o                            0.012413\nrace                             0.007520\nrace_o                           0.008713\nimportance_same_race             0.009429\nimportance_same_religion         0.009429\npref_o_attractive                0.010623\npref_o_sincere                   0.010623\npref_o_intelligence              0.010623\npref_o_funny                     0.011697\npref_o_ambitious                 0.012772\npref_o_shared_interests          0.015397\nattractive_o                     0.025304\nsincere_o                        0.034256\nintelligence_o                   0.036524\nfunny_o                          0.042970\nambitous_o                       0.086178\nshared_interests_o               0.128432\nattractive_important             0.009429\nsincere_important                0.009429\nintellicence_important           0.009429\nfunny_important                  0.010623\nambtition_important              0.011817\nshared_interests_important       0.014443\nattractive_partner               0.024111\nsincere_partner                  0.033063\nintelligence_partner             0.035331\nfunny_partner                    0.041776\nambition_partner                 0.084984\nshared_interests_partner         0.127357\ninterests_correlate              0.018859\nexpected_happy_with_sd_people    0.012055\nexpected_num_interested_in_me    0.785152\nlike                             0.028646\nguess_prob_liked                 0.036882\nmet                              0.044760\nmatch                            0.000000\ndtype: float64"
     },
     "execution_count": 5,
     "metadata": {},
     "output_type": "execute_result"
    }
   ],
   "source": [
    "data.isna().mean() # 결측치 비율 구하기"
   ],
   "metadata": {
    "collapsed": false,
    "pycharm": {
     "name": "#%%\n"
    }
   }
  },
  {
   "cell_type": "code",
   "execution_count": 6,
   "outputs": [],
   "source": [
    "data = data.dropna(subset =['pref_o_attractive' , 'pref_o_sincere' , 'pref_o_intelligence' , 'pref_o_funny' , 'pref_o_ambitious' , 'pref_o_shared_interests',\n",
    "                            'attractive_important' , 'sincere_important' , 'intellicence_important' , 'funny_important' , 'ambtition_important' , 'shared_interests_important']) # 일부 변수에서 결측치 제거\n",
    "\n",
    "data = data.fillna(-99) # 나머지 변수의 결측치는 -99로 대체"
   ],
   "metadata": {
    "collapsed": false,
    "pycharm": {
     "name": "#%%\n"
    }
   }
  },
  {
   "cell_type": "code",
   "execution_count": 7,
   "outputs": [
    {
     "data": {
      "text/plain": "      has_null  gender   age  age_o                                  race  \\\n0            0  female  21.0   27.0  Asian/PacificIslander/Asian-American   \n1            0  female  21.0   22.0  Asian/PacificIslander/Asian-American   \n2            1  female  21.0   22.0  Asian/PacificIslander/Asian-American   \n3            0  female  21.0   23.0  Asian/PacificIslander/Asian-American   \n4            0  female  21.0   24.0  Asian/PacificIslander/Asian-American   \n...        ...     ...   ...    ...                                   ...   \n8372         1    male  25.0   24.0           European/Caucasian-American   \n8373         1    male  25.0   26.0           European/Caucasian-American   \n8374         1    male  25.0   24.0           European/Caucasian-American   \n8376         1    male  25.0   22.0           European/Caucasian-American   \n8377         1    male  25.0   22.0           European/Caucasian-American   \n\n                                    race_o  importance_same_race  \\\n0              European/Caucasian-American                   2.0   \n1              European/Caucasian-American                   2.0   \n2     Asian/PacificIslander/Asian-American                   2.0   \n3              European/Caucasian-American                   2.0   \n4                  Latino/HispanicAmerican                   2.0   \n...                                    ...                   ...   \n8372           European/Caucasian-American                   1.0   \n8373               Latino/HispanicAmerican                   1.0   \n8374                                 Other                   1.0   \n8376  Asian/PacificIslander/Asian-American                   1.0   \n8377  Asian/PacificIslander/Asian-American                   1.0   \n\n      importance_same_religion  pref_o_attractive  pref_o_sincere  \\\n0                          4.0               35.0            20.0   \n1                          4.0               60.0             0.0   \n2                          4.0               19.0            18.0   \n3                          4.0               30.0             5.0   \n4                          4.0               30.0            10.0   \n...                        ...                ...             ...   \n8372                       1.0               10.0            15.0   \n8373                       1.0               10.0            10.0   \n8374                       1.0               50.0            20.0   \n8376                       1.0               10.0            25.0   \n8377                       1.0               20.0            20.0   \n\n      pref_o_intelligence  pref_o_funny  pref_o_ambitious  \\\n0                    20.0          20.0               0.0   \n1                     0.0          40.0               0.0   \n2                    19.0          18.0              14.0   \n3                    15.0          40.0               5.0   \n4                    20.0          10.0              10.0   \n...                   ...           ...               ...   \n8372                 30.0          20.0              15.0   \n8373                 30.0          20.0              10.0   \n8374                 10.0           5.0              10.0   \n8376                 25.0          10.0              10.0   \n8377                 10.0          15.0               5.0   \n\n      pref_o_shared_interests  attractive_o  sincere_o  intelligence_o  \\\n0                         5.0           6.0        8.0             8.0   \n1                         0.0           7.0        8.0            10.0   \n2                        12.0          10.0       10.0            10.0   \n3                         5.0           7.0        8.0             9.0   \n4                        20.0           8.0        7.0             9.0   \n...                       ...           ...        ...             ...   \n8372                     10.0           8.0        8.0             7.0   \n8373                     15.0          10.0        5.0             3.0   \n8374                      5.0           6.0        3.0             7.0   \n8376                     20.0           5.0        7.0             5.0   \n8377                     30.0           8.0        8.0             7.0   \n\n      funny_o  ambitous_o  shared_interests_o  attractive_important  \\\n0         8.0         8.0                 6.0                  15.0   \n1         7.0         7.0                 5.0                  15.0   \n2        10.0        10.0                10.0                  15.0   \n3         8.0         9.0                 8.0                  15.0   \n4         6.0         9.0                 7.0                  15.0   \n...       ...         ...                 ...                   ...   \n8372      7.0         8.0                 6.0                  70.0   \n8373      2.0         6.0                 5.0                  70.0   \n8374      3.0         7.0                 2.0                  70.0   \n8376      5.0         3.0                 6.0                  70.0   \n8377      7.0         7.0                 7.0                  70.0   \n\n      sincere_important  intellicence_important  funny_important  \\\n0                  20.0                    20.0             15.0   \n1                  20.0                    20.0             15.0   \n2                  20.0                    20.0             15.0   \n3                  20.0                    20.0             15.0   \n4                  20.0                    20.0             15.0   \n...                 ...                     ...              ...   \n8372                0.0                    15.0             15.0   \n8373                0.0                    15.0             15.0   \n8374                0.0                    15.0             15.0   \n8376                0.0                    15.0             15.0   \n8377                0.0                    15.0             15.0   \n\n      ambtition_important  shared_interests_important  attractive_partner  \\\n0                    15.0                        15.0                 6.0   \n1                    15.0                        15.0                 7.0   \n2                    15.0                        15.0                 5.0   \n3                    15.0                        15.0                 7.0   \n4                    15.0                        15.0                 5.0   \n...                   ...                         ...                 ...   \n8372                  0.0                         0.0                 7.0   \n8373                  0.0                         0.0                 3.0   \n8374                  0.0                         0.0                 4.0   \n8376                  0.0                         0.0                 4.0   \n8377                  0.0                         0.0                 3.0   \n\n      sincere_partner  intelligence_partner  funny_partner  ambition_partner  \\\n0                 9.0                   7.0            7.0               6.0   \n1                 8.0                   7.0            8.0               5.0   \n2                 8.0                   9.0            8.0               5.0   \n3                 6.0                   8.0            7.0               6.0   \n4                 6.0                   7.0            7.0               6.0   \n...               ...                   ...            ...               ...   \n8372              5.0                   5.0            5.0               6.0   \n8373              5.0                   5.0            5.0             -99.0   \n8374              6.0                   8.0            4.0               4.0   \n8376              6.0                   5.0            4.0             -99.0   \n8377              7.0                   6.0            4.0               8.0   \n\n      shared_interests_partner  interests_correlate  \\\n0                          5.0                 0.14   \n1                          6.0                 0.54   \n2                          7.0                 0.16   \n3                          8.0                 0.61   \n4                          6.0                 0.21   \n...                        ...                  ...   \n8372                     -99.0                 0.28   \n8373                     -99.0                 0.64   \n8374                     -99.0                 0.71   \n8376                       5.0                 0.62   \n8377                       1.0                 0.01   \n\n      expected_happy_with_sd_people  expected_num_interested_in_me  like  \\\n0                               3.0                            2.0   7.0   \n1                               3.0                            2.0   7.0   \n2                               3.0                            2.0   7.0   \n3                               3.0                            2.0   7.0   \n4                               3.0                            2.0   6.0   \n...                             ...                            ...   ...   \n8372                           10.0                          -99.0   4.0   \n8373                           10.0                          -99.0   2.0   \n8374                           10.0                          -99.0   4.0   \n8376                           10.0                          -99.0   5.0   \n8377                           10.0                          -99.0   4.0   \n\n      guess_prob_liked  met  match  \n0                  6.0  0.0      0  \n1                  5.0  1.0      0  \n2                -99.0  1.0      1  \n3                  6.0  0.0      1  \n4                  6.0  0.0      1  \n...                ...  ...    ...  \n8372               4.0  0.0      0  \n8373               5.0  0.0      0  \n8374               4.0  0.0      0  \n8376               5.0  0.0      0  \n8377               5.0  0.0      0  \n\n[8130 rows x 39 columns]",
      "text/html": "<div>\n<style scoped>\n    .dataframe tbody tr th:only-of-type {\n        vertical-align: middle;\n    }\n\n    .dataframe tbody tr th {\n        vertical-align: top;\n    }\n\n    .dataframe thead th {\n        text-align: right;\n    }\n</style>\n<table border=\"1\" class=\"dataframe\">\n  <thead>\n    <tr style=\"text-align: right;\">\n      <th></th>\n      <th>has_null</th>\n      <th>gender</th>\n      <th>age</th>\n      <th>age_o</th>\n      <th>race</th>\n      <th>race_o</th>\n      <th>importance_same_race</th>\n      <th>importance_same_religion</th>\n      <th>pref_o_attractive</th>\n      <th>pref_o_sincere</th>\n      <th>pref_o_intelligence</th>\n      <th>pref_o_funny</th>\n      <th>pref_o_ambitious</th>\n      <th>pref_o_shared_interests</th>\n      <th>attractive_o</th>\n      <th>sincere_o</th>\n      <th>intelligence_o</th>\n      <th>funny_o</th>\n      <th>ambitous_o</th>\n      <th>shared_interests_o</th>\n      <th>attractive_important</th>\n      <th>sincere_important</th>\n      <th>intellicence_important</th>\n      <th>funny_important</th>\n      <th>ambtition_important</th>\n      <th>shared_interests_important</th>\n      <th>attractive_partner</th>\n      <th>sincere_partner</th>\n      <th>intelligence_partner</th>\n      <th>funny_partner</th>\n      <th>ambition_partner</th>\n      <th>shared_interests_partner</th>\n      <th>interests_correlate</th>\n      <th>expected_happy_with_sd_people</th>\n      <th>expected_num_interested_in_me</th>\n      <th>like</th>\n      <th>guess_prob_liked</th>\n      <th>met</th>\n      <th>match</th>\n    </tr>\n  </thead>\n  <tbody>\n    <tr>\n      <th>0</th>\n      <td>0</td>\n      <td>female</td>\n      <td>21.0</td>\n      <td>27.0</td>\n      <td>Asian/PacificIslander/Asian-American</td>\n      <td>European/Caucasian-American</td>\n      <td>2.0</td>\n      <td>4.0</td>\n      <td>35.0</td>\n      <td>20.0</td>\n      <td>20.0</td>\n      <td>20.0</td>\n      <td>0.0</td>\n      <td>5.0</td>\n      <td>6.0</td>\n      <td>8.0</td>\n      <td>8.0</td>\n      <td>8.0</td>\n      <td>8.0</td>\n      <td>6.0</td>\n      <td>15.0</td>\n      <td>20.0</td>\n      <td>20.0</td>\n      <td>15.0</td>\n      <td>15.0</td>\n      <td>15.0</td>\n      <td>6.0</td>\n      <td>9.0</td>\n      <td>7.0</td>\n      <td>7.0</td>\n      <td>6.0</td>\n      <td>5.0</td>\n      <td>0.14</td>\n      <td>3.0</td>\n      <td>2.0</td>\n      <td>7.0</td>\n      <td>6.0</td>\n      <td>0.0</td>\n      <td>0</td>\n    </tr>\n    <tr>\n      <th>1</th>\n      <td>0</td>\n      <td>female</td>\n      <td>21.0</td>\n      <td>22.0</td>\n      <td>Asian/PacificIslander/Asian-American</td>\n      <td>European/Caucasian-American</td>\n      <td>2.0</td>\n      <td>4.0</td>\n      <td>60.0</td>\n      <td>0.0</td>\n      <td>0.0</td>\n      <td>40.0</td>\n      <td>0.0</td>\n      <td>0.0</td>\n      <td>7.0</td>\n      <td>8.0</td>\n      <td>10.0</td>\n      <td>7.0</td>\n      <td>7.0</td>\n      <td>5.0</td>\n      <td>15.0</td>\n      <td>20.0</td>\n      <td>20.0</td>\n      <td>15.0</td>\n      <td>15.0</td>\n      <td>15.0</td>\n      <td>7.0</td>\n      <td>8.0</td>\n      <td>7.0</td>\n      <td>8.0</td>\n      <td>5.0</td>\n      <td>6.0</td>\n      <td>0.54</td>\n      <td>3.0</td>\n      <td>2.0</td>\n      <td>7.0</td>\n      <td>5.0</td>\n      <td>1.0</td>\n      <td>0</td>\n    </tr>\n    <tr>\n      <th>2</th>\n      <td>1</td>\n      <td>female</td>\n      <td>21.0</td>\n      <td>22.0</td>\n      <td>Asian/PacificIslander/Asian-American</td>\n      <td>Asian/PacificIslander/Asian-American</td>\n      <td>2.0</td>\n      <td>4.0</td>\n      <td>19.0</td>\n      <td>18.0</td>\n      <td>19.0</td>\n      <td>18.0</td>\n      <td>14.0</td>\n      <td>12.0</td>\n      <td>10.0</td>\n      <td>10.0</td>\n      <td>10.0</td>\n      <td>10.0</td>\n      <td>10.0</td>\n      <td>10.0</td>\n      <td>15.0</td>\n      <td>20.0</td>\n      <td>20.0</td>\n      <td>15.0</td>\n      <td>15.0</td>\n      <td>15.0</td>\n      <td>5.0</td>\n      <td>8.0</td>\n      <td>9.0</td>\n      <td>8.0</td>\n      <td>5.0</td>\n      <td>7.0</td>\n      <td>0.16</td>\n      <td>3.0</td>\n      <td>2.0</td>\n      <td>7.0</td>\n      <td>-99.0</td>\n      <td>1.0</td>\n      <td>1</td>\n    </tr>\n    <tr>\n      <th>3</th>\n      <td>0</td>\n      <td>female</td>\n      <td>21.0</td>\n      <td>23.0</td>\n      <td>Asian/PacificIslander/Asian-American</td>\n      <td>European/Caucasian-American</td>\n      <td>2.0</td>\n      <td>4.0</td>\n      <td>30.0</td>\n      <td>5.0</td>\n      <td>15.0</td>\n      <td>40.0</td>\n      <td>5.0</td>\n      <td>5.0</td>\n      <td>7.0</td>\n      <td>8.0</td>\n      <td>9.0</td>\n      <td>8.0</td>\n      <td>9.0</td>\n      <td>8.0</td>\n      <td>15.0</td>\n      <td>20.0</td>\n      <td>20.0</td>\n      <td>15.0</td>\n      <td>15.0</td>\n      <td>15.0</td>\n      <td>7.0</td>\n      <td>6.0</td>\n      <td>8.0</td>\n      <td>7.0</td>\n      <td>6.0</td>\n      <td>8.0</td>\n      <td>0.61</td>\n      <td>3.0</td>\n      <td>2.0</td>\n      <td>7.0</td>\n      <td>6.0</td>\n      <td>0.0</td>\n      <td>1</td>\n    </tr>\n    <tr>\n      <th>4</th>\n      <td>0</td>\n      <td>female</td>\n      <td>21.0</td>\n      <td>24.0</td>\n      <td>Asian/PacificIslander/Asian-American</td>\n      <td>Latino/HispanicAmerican</td>\n      <td>2.0</td>\n      <td>4.0</td>\n      <td>30.0</td>\n      <td>10.0</td>\n      <td>20.0</td>\n      <td>10.0</td>\n      <td>10.0</td>\n      <td>20.0</td>\n      <td>8.0</td>\n      <td>7.0</td>\n      <td>9.0</td>\n      <td>6.0</td>\n      <td>9.0</td>\n      <td>7.0</td>\n      <td>15.0</td>\n      <td>20.0</td>\n      <td>20.0</td>\n      <td>15.0</td>\n      <td>15.0</td>\n      <td>15.0</td>\n      <td>5.0</td>\n      <td>6.0</td>\n      <td>7.0</td>\n      <td>7.0</td>\n      <td>6.0</td>\n      <td>6.0</td>\n      <td>0.21</td>\n      <td>3.0</td>\n      <td>2.0</td>\n      <td>6.0</td>\n      <td>6.0</td>\n      <td>0.0</td>\n      <td>1</td>\n    </tr>\n    <tr>\n      <th>...</th>\n      <td>...</td>\n      <td>...</td>\n      <td>...</td>\n      <td>...</td>\n      <td>...</td>\n      <td>...</td>\n      <td>...</td>\n      <td>...</td>\n      <td>...</td>\n      <td>...</td>\n      <td>...</td>\n      <td>...</td>\n      <td>...</td>\n      <td>...</td>\n      <td>...</td>\n      <td>...</td>\n      <td>...</td>\n      <td>...</td>\n      <td>...</td>\n      <td>...</td>\n      <td>...</td>\n      <td>...</td>\n      <td>...</td>\n      <td>...</td>\n      <td>...</td>\n      <td>...</td>\n      <td>...</td>\n      <td>...</td>\n      <td>...</td>\n      <td>...</td>\n      <td>...</td>\n      <td>...</td>\n      <td>...</td>\n      <td>...</td>\n      <td>...</td>\n      <td>...</td>\n      <td>...</td>\n      <td>...</td>\n      <td>...</td>\n    </tr>\n    <tr>\n      <th>8372</th>\n      <td>1</td>\n      <td>male</td>\n      <td>25.0</td>\n      <td>24.0</td>\n      <td>European/Caucasian-American</td>\n      <td>European/Caucasian-American</td>\n      <td>1.0</td>\n      <td>1.0</td>\n      <td>10.0</td>\n      <td>15.0</td>\n      <td>30.0</td>\n      <td>20.0</td>\n      <td>15.0</td>\n      <td>10.0</td>\n      <td>8.0</td>\n      <td>8.0</td>\n      <td>7.0</td>\n      <td>7.0</td>\n      <td>8.0</td>\n      <td>6.0</td>\n      <td>70.0</td>\n      <td>0.0</td>\n      <td>15.0</td>\n      <td>15.0</td>\n      <td>0.0</td>\n      <td>0.0</td>\n      <td>7.0</td>\n      <td>5.0</td>\n      <td>5.0</td>\n      <td>5.0</td>\n      <td>6.0</td>\n      <td>-99.0</td>\n      <td>0.28</td>\n      <td>10.0</td>\n      <td>-99.0</td>\n      <td>4.0</td>\n      <td>4.0</td>\n      <td>0.0</td>\n      <td>0</td>\n    </tr>\n    <tr>\n      <th>8373</th>\n      <td>1</td>\n      <td>male</td>\n      <td>25.0</td>\n      <td>26.0</td>\n      <td>European/Caucasian-American</td>\n      <td>Latino/HispanicAmerican</td>\n      <td>1.0</td>\n      <td>1.0</td>\n      <td>10.0</td>\n      <td>10.0</td>\n      <td>30.0</td>\n      <td>20.0</td>\n      <td>10.0</td>\n      <td>15.0</td>\n      <td>10.0</td>\n      <td>5.0</td>\n      <td>3.0</td>\n      <td>2.0</td>\n      <td>6.0</td>\n      <td>5.0</td>\n      <td>70.0</td>\n      <td>0.0</td>\n      <td>15.0</td>\n      <td>15.0</td>\n      <td>0.0</td>\n      <td>0.0</td>\n      <td>3.0</td>\n      <td>5.0</td>\n      <td>5.0</td>\n      <td>5.0</td>\n      <td>-99.0</td>\n      <td>-99.0</td>\n      <td>0.64</td>\n      <td>10.0</td>\n      <td>-99.0</td>\n      <td>2.0</td>\n      <td>5.0</td>\n      <td>0.0</td>\n      <td>0</td>\n    </tr>\n    <tr>\n      <th>8374</th>\n      <td>1</td>\n      <td>male</td>\n      <td>25.0</td>\n      <td>24.0</td>\n      <td>European/Caucasian-American</td>\n      <td>Other</td>\n      <td>1.0</td>\n      <td>1.0</td>\n      <td>50.0</td>\n      <td>20.0</td>\n      <td>10.0</td>\n      <td>5.0</td>\n      <td>10.0</td>\n      <td>5.0</td>\n      <td>6.0</td>\n      <td>3.0</td>\n      <td>7.0</td>\n      <td>3.0</td>\n      <td>7.0</td>\n      <td>2.0</td>\n      <td>70.0</td>\n      <td>0.0</td>\n      <td>15.0</td>\n      <td>15.0</td>\n      <td>0.0</td>\n      <td>0.0</td>\n      <td>4.0</td>\n      <td>6.0</td>\n      <td>8.0</td>\n      <td>4.0</td>\n      <td>4.0</td>\n      <td>-99.0</td>\n      <td>0.71</td>\n      <td>10.0</td>\n      <td>-99.0</td>\n      <td>4.0</td>\n      <td>4.0</td>\n      <td>0.0</td>\n      <td>0</td>\n    </tr>\n    <tr>\n      <th>8376</th>\n      <td>1</td>\n      <td>male</td>\n      <td>25.0</td>\n      <td>22.0</td>\n      <td>European/Caucasian-American</td>\n      <td>Asian/PacificIslander/Asian-American</td>\n      <td>1.0</td>\n      <td>1.0</td>\n      <td>10.0</td>\n      <td>25.0</td>\n      <td>25.0</td>\n      <td>10.0</td>\n      <td>10.0</td>\n      <td>20.0</td>\n      <td>5.0</td>\n      <td>7.0</td>\n      <td>5.0</td>\n      <td>5.0</td>\n      <td>3.0</td>\n      <td>6.0</td>\n      <td>70.0</td>\n      <td>0.0</td>\n      <td>15.0</td>\n      <td>15.0</td>\n      <td>0.0</td>\n      <td>0.0</td>\n      <td>4.0</td>\n      <td>6.0</td>\n      <td>5.0</td>\n      <td>4.0</td>\n      <td>-99.0</td>\n      <td>5.0</td>\n      <td>0.62</td>\n      <td>10.0</td>\n      <td>-99.0</td>\n      <td>5.0</td>\n      <td>5.0</td>\n      <td>0.0</td>\n      <td>0</td>\n    </tr>\n    <tr>\n      <th>8377</th>\n      <td>1</td>\n      <td>male</td>\n      <td>25.0</td>\n      <td>22.0</td>\n      <td>European/Caucasian-American</td>\n      <td>Asian/PacificIslander/Asian-American</td>\n      <td>1.0</td>\n      <td>1.0</td>\n      <td>20.0</td>\n      <td>20.0</td>\n      <td>10.0</td>\n      <td>15.0</td>\n      <td>5.0</td>\n      <td>30.0</td>\n      <td>8.0</td>\n      <td>8.0</td>\n      <td>7.0</td>\n      <td>7.0</td>\n      <td>7.0</td>\n      <td>7.0</td>\n      <td>70.0</td>\n      <td>0.0</td>\n      <td>15.0</td>\n      <td>15.0</td>\n      <td>0.0</td>\n      <td>0.0</td>\n      <td>3.0</td>\n      <td>7.0</td>\n      <td>6.0</td>\n      <td>4.0</td>\n      <td>8.0</td>\n      <td>1.0</td>\n      <td>0.01</td>\n      <td>10.0</td>\n      <td>-99.0</td>\n      <td>4.0</td>\n      <td>5.0</td>\n      <td>0.0</td>\n      <td>0</td>\n    </tr>\n  </tbody>\n</table>\n<p>8130 rows × 39 columns</p>\n</div>"
     },
     "execution_count": 7,
     "metadata": {},
     "output_type": "execute_result"
    }
   ],
   "source": [
    "data"
   ],
   "metadata": {
    "collapsed": false,
    "pycharm": {
     "name": "#%%\n"
    }
   }
  },
  {
   "cell_type": "code",
   "execution_count": 8,
   "outputs": [],
   "source": [
    "def age_gap(x):\n",
    "    if x['age'] == -99: # 본인 나이\n",
    "        return -99\n",
    "\n",
    "    elif x['age_o'] == -99: # 상대방 나이\n",
    "        return -99\n",
    "\n",
    "    elif x['gender'] == 'female': # gender가 female이라면\n",
    "        return x['age_o'] - x['age'] # age_o 에서 age를 뺀값 리턴\n",
    "\n",
    "    else:\n",
    "        return x['age'] - x['age_o'] # age에서 age_o를 뺀 값 리턴\n",
    "\n",
    "# 남녀 중 한명이라도 나이가 -99이면 -99를 반환한다."
   ],
   "metadata": {
    "collapsed": false,
    "pycharm": {
     "name": "#%%\n"
    }
   }
  },
  {
   "cell_type": "code",
   "execution_count": 9,
   "outputs": [
    {
     "data": {
      "text/plain": "      has_null  gender   age  age_o                                  race  \\\n0            0  female  21.0   27.0  Asian/PacificIslander/Asian-American   \n1            0  female  21.0   22.0  Asian/PacificIslander/Asian-American   \n2            1  female  21.0   22.0  Asian/PacificIslander/Asian-American   \n3            0  female  21.0   23.0  Asian/PacificIslander/Asian-American   \n4            0  female  21.0   24.0  Asian/PacificIslander/Asian-American   \n...        ...     ...   ...    ...                                   ...   \n8372         1    male  25.0   24.0           European/Caucasian-American   \n8373         1    male  25.0   26.0           European/Caucasian-American   \n8374         1    male  25.0   24.0           European/Caucasian-American   \n8376         1    male  25.0   22.0           European/Caucasian-American   \n8377         1    male  25.0   22.0           European/Caucasian-American   \n\n                                    race_o  importance_same_race  \\\n0              European/Caucasian-American                   2.0   \n1              European/Caucasian-American                   2.0   \n2     Asian/PacificIslander/Asian-American                   2.0   \n3              European/Caucasian-American                   2.0   \n4                  Latino/HispanicAmerican                   2.0   \n...                                    ...                   ...   \n8372           European/Caucasian-American                   1.0   \n8373               Latino/HispanicAmerican                   1.0   \n8374                                 Other                   1.0   \n8376  Asian/PacificIslander/Asian-American                   1.0   \n8377  Asian/PacificIslander/Asian-American                   1.0   \n\n      importance_same_religion  pref_o_attractive  pref_o_sincere  \\\n0                          4.0               35.0            20.0   \n1                          4.0               60.0             0.0   \n2                          4.0               19.0            18.0   \n3                          4.0               30.0             5.0   \n4                          4.0               30.0            10.0   \n...                        ...                ...             ...   \n8372                       1.0               10.0            15.0   \n8373                       1.0               10.0            10.0   \n8374                       1.0               50.0            20.0   \n8376                       1.0               10.0            25.0   \n8377                       1.0               20.0            20.0   \n\n      pref_o_intelligence  pref_o_funny  pref_o_ambitious  \\\n0                    20.0          20.0               0.0   \n1                     0.0          40.0               0.0   \n2                    19.0          18.0              14.0   \n3                    15.0          40.0               5.0   \n4                    20.0          10.0              10.0   \n...                   ...           ...               ...   \n8372                 30.0          20.0              15.0   \n8373                 30.0          20.0              10.0   \n8374                 10.0           5.0              10.0   \n8376                 25.0          10.0              10.0   \n8377                 10.0          15.0               5.0   \n\n      pref_o_shared_interests  attractive_o  sincere_o  intelligence_o  \\\n0                         5.0           6.0        8.0             8.0   \n1                         0.0           7.0        8.0            10.0   \n2                        12.0          10.0       10.0            10.0   \n3                         5.0           7.0        8.0             9.0   \n4                        20.0           8.0        7.0             9.0   \n...                       ...           ...        ...             ...   \n8372                     10.0           8.0        8.0             7.0   \n8373                     15.0          10.0        5.0             3.0   \n8374                      5.0           6.0        3.0             7.0   \n8376                     20.0           5.0        7.0             5.0   \n8377                     30.0           8.0        8.0             7.0   \n\n      funny_o  ambitous_o  shared_interests_o  ...  sincere_important  \\\n0         8.0         8.0                 6.0  ...               20.0   \n1         7.0         7.0                 5.0  ...               20.0   \n2        10.0        10.0                10.0  ...               20.0   \n3         8.0         9.0                 8.0  ...               20.0   \n4         6.0         9.0                 7.0  ...               20.0   \n...       ...         ...                 ...  ...                ...   \n8372      7.0         8.0                 6.0  ...                0.0   \n8373      2.0         6.0                 5.0  ...                0.0   \n8374      3.0         7.0                 2.0  ...                0.0   \n8376      5.0         3.0                 6.0  ...                0.0   \n8377      7.0         7.0                 7.0  ...                0.0   \n\n      intellicence_important  funny_important  ambtition_important  \\\n0                       20.0             15.0                 15.0   \n1                       20.0             15.0                 15.0   \n2                       20.0             15.0                 15.0   \n3                       20.0             15.0                 15.0   \n4                       20.0             15.0                 15.0   \n...                      ...              ...                  ...   \n8372                    15.0             15.0                  0.0   \n8373                    15.0             15.0                  0.0   \n8374                    15.0             15.0                  0.0   \n8376                    15.0             15.0                  0.0   \n8377                    15.0             15.0                  0.0   \n\n      shared_interests_important  attractive_partner  sincere_partner  \\\n0                           15.0                 6.0              9.0   \n1                           15.0                 7.0              8.0   \n2                           15.0                 5.0              8.0   \n3                           15.0                 7.0              6.0   \n4                           15.0                 5.0              6.0   \n...                          ...                 ...              ...   \n8372                         0.0                 7.0              5.0   \n8373                         0.0                 3.0              5.0   \n8374                         0.0                 4.0              6.0   \n8376                         0.0                 4.0              6.0   \n8377                         0.0                 3.0              7.0   \n\n      intelligence_partner  funny_partner  ambition_partner  \\\n0                      7.0            7.0               6.0   \n1                      7.0            8.0               5.0   \n2                      9.0            8.0               5.0   \n3                      8.0            7.0               6.0   \n4                      7.0            7.0               6.0   \n...                    ...            ...               ...   \n8372                   5.0            5.0               6.0   \n8373                   5.0            5.0             -99.0   \n8374                   8.0            4.0               4.0   \n8376                   5.0            4.0             -99.0   \n8377                   6.0            4.0               8.0   \n\n      shared_interests_partner  interests_correlate  \\\n0                          5.0                 0.14   \n1                          6.0                 0.54   \n2                          7.0                 0.16   \n3                          8.0                 0.61   \n4                          6.0                 0.21   \n...                        ...                  ...   \n8372                     -99.0                 0.28   \n8373                     -99.0                 0.64   \n8374                     -99.0                 0.71   \n8376                       5.0                 0.62   \n8377                       1.0                 0.01   \n\n      expected_happy_with_sd_people  expected_num_interested_in_me  like  \\\n0                               3.0                            2.0   7.0   \n1                               3.0                            2.0   7.0   \n2                               3.0                            2.0   7.0   \n3                               3.0                            2.0   7.0   \n4                               3.0                            2.0   6.0   \n...                             ...                            ...   ...   \n8372                           10.0                          -99.0   4.0   \n8373                           10.0                          -99.0   2.0   \n8374                           10.0                          -99.0   4.0   \n8376                           10.0                          -99.0   5.0   \n8377                           10.0                          -99.0   4.0   \n\n      guess_prob_liked  met  match  age_gap  age_gap_abs  \n0                  6.0  0.0      0      6.0          6.0  \n1                  5.0  1.0      0      1.0          1.0  \n2                -99.0  1.0      1      1.0          1.0  \n3                  6.0  0.0      1      2.0          2.0  \n4                  6.0  0.0      1      3.0          3.0  \n...                ...  ...    ...      ...          ...  \n8372               4.0  0.0      0      1.0          1.0  \n8373               5.0  0.0      0     -1.0          1.0  \n8374               4.0  0.0      0      1.0          1.0  \n8376               5.0  0.0      0      3.0          3.0  \n8377               5.0  0.0      0      3.0          3.0  \n\n[8130 rows x 41 columns]",
      "text/html": "<div>\n<style scoped>\n    .dataframe tbody tr th:only-of-type {\n        vertical-align: middle;\n    }\n\n    .dataframe tbody tr th {\n        vertical-align: top;\n    }\n\n    .dataframe thead th {\n        text-align: right;\n    }\n</style>\n<table border=\"1\" class=\"dataframe\">\n  <thead>\n    <tr style=\"text-align: right;\">\n      <th></th>\n      <th>has_null</th>\n      <th>gender</th>\n      <th>age</th>\n      <th>age_o</th>\n      <th>race</th>\n      <th>race_o</th>\n      <th>importance_same_race</th>\n      <th>importance_same_religion</th>\n      <th>pref_o_attractive</th>\n      <th>pref_o_sincere</th>\n      <th>pref_o_intelligence</th>\n      <th>pref_o_funny</th>\n      <th>pref_o_ambitious</th>\n      <th>pref_o_shared_interests</th>\n      <th>attractive_o</th>\n      <th>sincere_o</th>\n      <th>intelligence_o</th>\n      <th>funny_o</th>\n      <th>ambitous_o</th>\n      <th>shared_interests_o</th>\n      <th>...</th>\n      <th>sincere_important</th>\n      <th>intellicence_important</th>\n      <th>funny_important</th>\n      <th>ambtition_important</th>\n      <th>shared_interests_important</th>\n      <th>attractive_partner</th>\n      <th>sincere_partner</th>\n      <th>intelligence_partner</th>\n      <th>funny_partner</th>\n      <th>ambition_partner</th>\n      <th>shared_interests_partner</th>\n      <th>interests_correlate</th>\n      <th>expected_happy_with_sd_people</th>\n      <th>expected_num_interested_in_me</th>\n      <th>like</th>\n      <th>guess_prob_liked</th>\n      <th>met</th>\n      <th>match</th>\n      <th>age_gap</th>\n      <th>age_gap_abs</th>\n    </tr>\n  </thead>\n  <tbody>\n    <tr>\n      <th>0</th>\n      <td>0</td>\n      <td>female</td>\n      <td>21.0</td>\n      <td>27.0</td>\n      <td>Asian/PacificIslander/Asian-American</td>\n      <td>European/Caucasian-American</td>\n      <td>2.0</td>\n      <td>4.0</td>\n      <td>35.0</td>\n      <td>20.0</td>\n      <td>20.0</td>\n      <td>20.0</td>\n      <td>0.0</td>\n      <td>5.0</td>\n      <td>6.0</td>\n      <td>8.0</td>\n      <td>8.0</td>\n      <td>8.0</td>\n      <td>8.0</td>\n      <td>6.0</td>\n      <td>...</td>\n      <td>20.0</td>\n      <td>20.0</td>\n      <td>15.0</td>\n      <td>15.0</td>\n      <td>15.0</td>\n      <td>6.0</td>\n      <td>9.0</td>\n      <td>7.0</td>\n      <td>7.0</td>\n      <td>6.0</td>\n      <td>5.0</td>\n      <td>0.14</td>\n      <td>3.0</td>\n      <td>2.0</td>\n      <td>7.0</td>\n      <td>6.0</td>\n      <td>0.0</td>\n      <td>0</td>\n      <td>6.0</td>\n      <td>6.0</td>\n    </tr>\n    <tr>\n      <th>1</th>\n      <td>0</td>\n      <td>female</td>\n      <td>21.0</td>\n      <td>22.0</td>\n      <td>Asian/PacificIslander/Asian-American</td>\n      <td>European/Caucasian-American</td>\n      <td>2.0</td>\n      <td>4.0</td>\n      <td>60.0</td>\n      <td>0.0</td>\n      <td>0.0</td>\n      <td>40.0</td>\n      <td>0.0</td>\n      <td>0.0</td>\n      <td>7.0</td>\n      <td>8.0</td>\n      <td>10.0</td>\n      <td>7.0</td>\n      <td>7.0</td>\n      <td>5.0</td>\n      <td>...</td>\n      <td>20.0</td>\n      <td>20.0</td>\n      <td>15.0</td>\n      <td>15.0</td>\n      <td>15.0</td>\n      <td>7.0</td>\n      <td>8.0</td>\n      <td>7.0</td>\n      <td>8.0</td>\n      <td>5.0</td>\n      <td>6.0</td>\n      <td>0.54</td>\n      <td>3.0</td>\n      <td>2.0</td>\n      <td>7.0</td>\n      <td>5.0</td>\n      <td>1.0</td>\n      <td>0</td>\n      <td>1.0</td>\n      <td>1.0</td>\n    </tr>\n    <tr>\n      <th>2</th>\n      <td>1</td>\n      <td>female</td>\n      <td>21.0</td>\n      <td>22.0</td>\n      <td>Asian/PacificIslander/Asian-American</td>\n      <td>Asian/PacificIslander/Asian-American</td>\n      <td>2.0</td>\n      <td>4.0</td>\n      <td>19.0</td>\n      <td>18.0</td>\n      <td>19.0</td>\n      <td>18.0</td>\n      <td>14.0</td>\n      <td>12.0</td>\n      <td>10.0</td>\n      <td>10.0</td>\n      <td>10.0</td>\n      <td>10.0</td>\n      <td>10.0</td>\n      <td>10.0</td>\n      <td>...</td>\n      <td>20.0</td>\n      <td>20.0</td>\n      <td>15.0</td>\n      <td>15.0</td>\n      <td>15.0</td>\n      <td>5.0</td>\n      <td>8.0</td>\n      <td>9.0</td>\n      <td>8.0</td>\n      <td>5.0</td>\n      <td>7.0</td>\n      <td>0.16</td>\n      <td>3.0</td>\n      <td>2.0</td>\n      <td>7.0</td>\n      <td>-99.0</td>\n      <td>1.0</td>\n      <td>1</td>\n      <td>1.0</td>\n      <td>1.0</td>\n    </tr>\n    <tr>\n      <th>3</th>\n      <td>0</td>\n      <td>female</td>\n      <td>21.0</td>\n      <td>23.0</td>\n      <td>Asian/PacificIslander/Asian-American</td>\n      <td>European/Caucasian-American</td>\n      <td>2.0</td>\n      <td>4.0</td>\n      <td>30.0</td>\n      <td>5.0</td>\n      <td>15.0</td>\n      <td>40.0</td>\n      <td>5.0</td>\n      <td>5.0</td>\n      <td>7.0</td>\n      <td>8.0</td>\n      <td>9.0</td>\n      <td>8.0</td>\n      <td>9.0</td>\n      <td>8.0</td>\n      <td>...</td>\n      <td>20.0</td>\n      <td>20.0</td>\n      <td>15.0</td>\n      <td>15.0</td>\n      <td>15.0</td>\n      <td>7.0</td>\n      <td>6.0</td>\n      <td>8.0</td>\n      <td>7.0</td>\n      <td>6.0</td>\n      <td>8.0</td>\n      <td>0.61</td>\n      <td>3.0</td>\n      <td>2.0</td>\n      <td>7.0</td>\n      <td>6.0</td>\n      <td>0.0</td>\n      <td>1</td>\n      <td>2.0</td>\n      <td>2.0</td>\n    </tr>\n    <tr>\n      <th>4</th>\n      <td>0</td>\n      <td>female</td>\n      <td>21.0</td>\n      <td>24.0</td>\n      <td>Asian/PacificIslander/Asian-American</td>\n      <td>Latino/HispanicAmerican</td>\n      <td>2.0</td>\n      <td>4.0</td>\n      <td>30.0</td>\n      <td>10.0</td>\n      <td>20.0</td>\n      <td>10.0</td>\n      <td>10.0</td>\n      <td>20.0</td>\n      <td>8.0</td>\n      <td>7.0</td>\n      <td>9.0</td>\n      <td>6.0</td>\n      <td>9.0</td>\n      <td>7.0</td>\n      <td>...</td>\n      <td>20.0</td>\n      <td>20.0</td>\n      <td>15.0</td>\n      <td>15.0</td>\n      <td>15.0</td>\n      <td>5.0</td>\n      <td>6.0</td>\n      <td>7.0</td>\n      <td>7.0</td>\n      <td>6.0</td>\n      <td>6.0</td>\n      <td>0.21</td>\n      <td>3.0</td>\n      <td>2.0</td>\n      <td>6.0</td>\n      <td>6.0</td>\n      <td>0.0</td>\n      <td>1</td>\n      <td>3.0</td>\n      <td>3.0</td>\n    </tr>\n    <tr>\n      <th>...</th>\n      <td>...</td>\n      <td>...</td>\n      <td>...</td>\n      <td>...</td>\n      <td>...</td>\n      <td>...</td>\n      <td>...</td>\n      <td>...</td>\n      <td>...</td>\n      <td>...</td>\n      <td>...</td>\n      <td>...</td>\n      <td>...</td>\n      <td>...</td>\n      <td>...</td>\n      <td>...</td>\n      <td>...</td>\n      <td>...</td>\n      <td>...</td>\n      <td>...</td>\n      <td>...</td>\n      <td>...</td>\n      <td>...</td>\n      <td>...</td>\n      <td>...</td>\n      <td>...</td>\n      <td>...</td>\n      <td>...</td>\n      <td>...</td>\n      <td>...</td>\n      <td>...</td>\n      <td>...</td>\n      <td>...</td>\n      <td>...</td>\n      <td>...</td>\n      <td>...</td>\n      <td>...</td>\n      <td>...</td>\n      <td>...</td>\n      <td>...</td>\n      <td>...</td>\n    </tr>\n    <tr>\n      <th>8372</th>\n      <td>1</td>\n      <td>male</td>\n      <td>25.0</td>\n      <td>24.0</td>\n      <td>European/Caucasian-American</td>\n      <td>European/Caucasian-American</td>\n      <td>1.0</td>\n      <td>1.0</td>\n      <td>10.0</td>\n      <td>15.0</td>\n      <td>30.0</td>\n      <td>20.0</td>\n      <td>15.0</td>\n      <td>10.0</td>\n      <td>8.0</td>\n      <td>8.0</td>\n      <td>7.0</td>\n      <td>7.0</td>\n      <td>8.0</td>\n      <td>6.0</td>\n      <td>...</td>\n      <td>0.0</td>\n      <td>15.0</td>\n      <td>15.0</td>\n      <td>0.0</td>\n      <td>0.0</td>\n      <td>7.0</td>\n      <td>5.0</td>\n      <td>5.0</td>\n      <td>5.0</td>\n      <td>6.0</td>\n      <td>-99.0</td>\n      <td>0.28</td>\n      <td>10.0</td>\n      <td>-99.0</td>\n      <td>4.0</td>\n      <td>4.0</td>\n      <td>0.0</td>\n      <td>0</td>\n      <td>1.0</td>\n      <td>1.0</td>\n    </tr>\n    <tr>\n      <th>8373</th>\n      <td>1</td>\n      <td>male</td>\n      <td>25.0</td>\n      <td>26.0</td>\n      <td>European/Caucasian-American</td>\n      <td>Latino/HispanicAmerican</td>\n      <td>1.0</td>\n      <td>1.0</td>\n      <td>10.0</td>\n      <td>10.0</td>\n      <td>30.0</td>\n      <td>20.0</td>\n      <td>10.0</td>\n      <td>15.0</td>\n      <td>10.0</td>\n      <td>5.0</td>\n      <td>3.0</td>\n      <td>2.0</td>\n      <td>6.0</td>\n      <td>5.0</td>\n      <td>...</td>\n      <td>0.0</td>\n      <td>15.0</td>\n      <td>15.0</td>\n      <td>0.0</td>\n      <td>0.0</td>\n      <td>3.0</td>\n      <td>5.0</td>\n      <td>5.0</td>\n      <td>5.0</td>\n      <td>-99.0</td>\n      <td>-99.0</td>\n      <td>0.64</td>\n      <td>10.0</td>\n      <td>-99.0</td>\n      <td>2.0</td>\n      <td>5.0</td>\n      <td>0.0</td>\n      <td>0</td>\n      <td>-1.0</td>\n      <td>1.0</td>\n    </tr>\n    <tr>\n      <th>8374</th>\n      <td>1</td>\n      <td>male</td>\n      <td>25.0</td>\n      <td>24.0</td>\n      <td>European/Caucasian-American</td>\n      <td>Other</td>\n      <td>1.0</td>\n      <td>1.0</td>\n      <td>50.0</td>\n      <td>20.0</td>\n      <td>10.0</td>\n      <td>5.0</td>\n      <td>10.0</td>\n      <td>5.0</td>\n      <td>6.0</td>\n      <td>3.0</td>\n      <td>7.0</td>\n      <td>3.0</td>\n      <td>7.0</td>\n      <td>2.0</td>\n      <td>...</td>\n      <td>0.0</td>\n      <td>15.0</td>\n      <td>15.0</td>\n      <td>0.0</td>\n      <td>0.0</td>\n      <td>4.0</td>\n      <td>6.0</td>\n      <td>8.0</td>\n      <td>4.0</td>\n      <td>4.0</td>\n      <td>-99.0</td>\n      <td>0.71</td>\n      <td>10.0</td>\n      <td>-99.0</td>\n      <td>4.0</td>\n      <td>4.0</td>\n      <td>0.0</td>\n      <td>0</td>\n      <td>1.0</td>\n      <td>1.0</td>\n    </tr>\n    <tr>\n      <th>8376</th>\n      <td>1</td>\n      <td>male</td>\n      <td>25.0</td>\n      <td>22.0</td>\n      <td>European/Caucasian-American</td>\n      <td>Asian/PacificIslander/Asian-American</td>\n      <td>1.0</td>\n      <td>1.0</td>\n      <td>10.0</td>\n      <td>25.0</td>\n      <td>25.0</td>\n      <td>10.0</td>\n      <td>10.0</td>\n      <td>20.0</td>\n      <td>5.0</td>\n      <td>7.0</td>\n      <td>5.0</td>\n      <td>5.0</td>\n      <td>3.0</td>\n      <td>6.0</td>\n      <td>...</td>\n      <td>0.0</td>\n      <td>15.0</td>\n      <td>15.0</td>\n      <td>0.0</td>\n      <td>0.0</td>\n      <td>4.0</td>\n      <td>6.0</td>\n      <td>5.0</td>\n      <td>4.0</td>\n      <td>-99.0</td>\n      <td>5.0</td>\n      <td>0.62</td>\n      <td>10.0</td>\n      <td>-99.0</td>\n      <td>5.0</td>\n      <td>5.0</td>\n      <td>0.0</td>\n      <td>0</td>\n      <td>3.0</td>\n      <td>3.0</td>\n    </tr>\n    <tr>\n      <th>8377</th>\n      <td>1</td>\n      <td>male</td>\n      <td>25.0</td>\n      <td>22.0</td>\n      <td>European/Caucasian-American</td>\n      <td>Asian/PacificIslander/Asian-American</td>\n      <td>1.0</td>\n      <td>1.0</td>\n      <td>20.0</td>\n      <td>20.0</td>\n      <td>10.0</td>\n      <td>15.0</td>\n      <td>5.0</td>\n      <td>30.0</td>\n      <td>8.0</td>\n      <td>8.0</td>\n      <td>7.0</td>\n      <td>7.0</td>\n      <td>7.0</td>\n      <td>7.0</td>\n      <td>...</td>\n      <td>0.0</td>\n      <td>15.0</td>\n      <td>15.0</td>\n      <td>0.0</td>\n      <td>0.0</td>\n      <td>3.0</td>\n      <td>7.0</td>\n      <td>6.0</td>\n      <td>4.0</td>\n      <td>8.0</td>\n      <td>1.0</td>\n      <td>0.01</td>\n      <td>10.0</td>\n      <td>-99.0</td>\n      <td>4.0</td>\n      <td>5.0</td>\n      <td>0.0</td>\n      <td>0</td>\n      <td>3.0</td>\n      <td>3.0</td>\n    </tr>\n  </tbody>\n</table>\n<p>8130 rows × 41 columns</p>\n</div>"
     },
     "execution_count": 9,
     "metadata": {},
     "output_type": "execute_result"
    }
   ],
   "source": [
    "data['age_gap'] = data.apply(age_gap , axis = 1)\n",
    "\n",
    "data['age_gap_abs'] = abs(data['age_gap']) # 절댓값 적용\n",
    "\n",
    "data"
   ],
   "metadata": {
    "collapsed": false,
    "pycharm": {
     "name": "#%%\n"
    }
   }
  },
  {
   "cell_type": "code",
   "execution_count": 10,
   "outputs": [],
   "source": [
    "def same_race(x) : # 함수 정의 ==> 인종 데이터 관련 피처 엔지니어링\n",
    "    if x['race'] == -99: # race가 -99 면(결측치 이면)\n",
    "        return -99\n",
    "    elif x['race_o'] == -99 :\n",
    "        return -99\n",
    "    elif x['race'] == x['race_o']: # 인종이 같으면\n",
    "        return 1\n",
    "\n",
    "    else: # 인종이 다르면\n",
    "        return -1"
   ],
   "metadata": {
    "collapsed": false,
    "pycharm": {
     "name": "#%%\n"
    }
   }
  },
  {
   "cell_type": "code",
   "execution_count": 11,
   "outputs": [
    {
     "data": {
      "text/plain": "      has_null  gender   age  age_o                                  race  \\\n0            0  female  21.0   27.0  Asian/PacificIslander/Asian-American   \n1            0  female  21.0   22.0  Asian/PacificIslander/Asian-American   \n2            1  female  21.0   22.0  Asian/PacificIslander/Asian-American   \n3            0  female  21.0   23.0  Asian/PacificIslander/Asian-American   \n4            0  female  21.0   24.0  Asian/PacificIslander/Asian-American   \n...        ...     ...   ...    ...                                   ...   \n8372         1    male  25.0   24.0           European/Caucasian-American   \n8373         1    male  25.0   26.0           European/Caucasian-American   \n8374         1    male  25.0   24.0           European/Caucasian-American   \n8376         1    male  25.0   22.0           European/Caucasian-American   \n8377         1    male  25.0   22.0           European/Caucasian-American   \n\n                                    race_o  importance_same_race  \\\n0              European/Caucasian-American                   2.0   \n1              European/Caucasian-American                   2.0   \n2     Asian/PacificIslander/Asian-American                   2.0   \n3              European/Caucasian-American                   2.0   \n4                  Latino/HispanicAmerican                   2.0   \n...                                    ...                   ...   \n8372           European/Caucasian-American                   1.0   \n8373               Latino/HispanicAmerican                   1.0   \n8374                                 Other                   1.0   \n8376  Asian/PacificIslander/Asian-American                   1.0   \n8377  Asian/PacificIslander/Asian-American                   1.0   \n\n      importance_same_religion  pref_o_attractive  pref_o_sincere  \\\n0                          4.0               35.0            20.0   \n1                          4.0               60.0             0.0   \n2                          4.0               19.0            18.0   \n3                          4.0               30.0             5.0   \n4                          4.0               30.0            10.0   \n...                        ...                ...             ...   \n8372                       1.0               10.0            15.0   \n8373                       1.0               10.0            10.0   \n8374                       1.0               50.0            20.0   \n8376                       1.0               10.0            25.0   \n8377                       1.0               20.0            20.0   \n\n      pref_o_intelligence  pref_o_funny  pref_o_ambitious  \\\n0                    20.0          20.0               0.0   \n1                     0.0          40.0               0.0   \n2                    19.0          18.0              14.0   \n3                    15.0          40.0               5.0   \n4                    20.0          10.0              10.0   \n...                   ...           ...               ...   \n8372                 30.0          20.0              15.0   \n8373                 30.0          20.0              10.0   \n8374                 10.0           5.0              10.0   \n8376                 25.0          10.0              10.0   \n8377                 10.0          15.0               5.0   \n\n      pref_o_shared_interests  attractive_o  sincere_o  intelligence_o  \\\n0                         5.0           6.0        8.0             8.0   \n1                         0.0           7.0        8.0            10.0   \n2                        12.0          10.0       10.0            10.0   \n3                         5.0           7.0        8.0             9.0   \n4                        20.0           8.0        7.0             9.0   \n...                       ...           ...        ...             ...   \n8372                     10.0           8.0        8.0             7.0   \n8373                     15.0          10.0        5.0             3.0   \n8374                      5.0           6.0        3.0             7.0   \n8376                     20.0           5.0        7.0             5.0   \n8377                     30.0           8.0        8.0             7.0   \n\n      funny_o  ambitous_o  shared_interests_o  ...  intellicence_important  \\\n0         8.0         8.0                 6.0  ...                    20.0   \n1         7.0         7.0                 5.0  ...                    20.0   \n2        10.0        10.0                10.0  ...                    20.0   \n3         8.0         9.0                 8.0  ...                    20.0   \n4         6.0         9.0                 7.0  ...                    20.0   \n...       ...         ...                 ...  ...                     ...   \n8372      7.0         8.0                 6.0  ...                    15.0   \n8373      2.0         6.0                 5.0  ...                    15.0   \n8374      3.0         7.0                 2.0  ...                    15.0   \n8376      5.0         3.0                 6.0  ...                    15.0   \n8377      7.0         7.0                 7.0  ...                    15.0   \n\n      funny_important  ambtition_important  shared_interests_important  \\\n0                15.0                 15.0                        15.0   \n1                15.0                 15.0                        15.0   \n2                15.0                 15.0                        15.0   \n3                15.0                 15.0                        15.0   \n4                15.0                 15.0                        15.0   \n...               ...                  ...                         ...   \n8372             15.0                  0.0                         0.0   \n8373             15.0                  0.0                         0.0   \n8374             15.0                  0.0                         0.0   \n8376             15.0                  0.0                         0.0   \n8377             15.0                  0.0                         0.0   \n\n      attractive_partner  sincere_partner  intelligence_partner  \\\n0                    6.0              9.0                   7.0   \n1                    7.0              8.0                   7.0   \n2                    5.0              8.0                   9.0   \n3                    7.0              6.0                   8.0   \n4                    5.0              6.0                   7.0   \n...                  ...              ...                   ...   \n8372                 7.0              5.0                   5.0   \n8373                 3.0              5.0                   5.0   \n8374                 4.0              6.0                   8.0   \n8376                 4.0              6.0                   5.0   \n8377                 3.0              7.0                   6.0   \n\n      funny_partner  ambition_partner  shared_interests_partner  \\\n0               7.0               6.0                       5.0   \n1               8.0               5.0                       6.0   \n2               8.0               5.0                       7.0   \n3               7.0               6.0                       8.0   \n4               7.0               6.0                       6.0   \n...             ...               ...                       ...   \n8372            5.0               6.0                     -99.0   \n8373            5.0             -99.0                     -99.0   \n8374            4.0               4.0                     -99.0   \n8376            4.0             -99.0                       5.0   \n8377            4.0               8.0                       1.0   \n\n      interests_correlate  expected_happy_with_sd_people  \\\n0                    0.14                            3.0   \n1                    0.54                            3.0   \n2                    0.16                            3.0   \n3                    0.61                            3.0   \n4                    0.21                            3.0   \n...                   ...                            ...   \n8372                 0.28                           10.0   \n8373                 0.64                           10.0   \n8374                 0.71                           10.0   \n8376                 0.62                           10.0   \n8377                 0.01                           10.0   \n\n      expected_num_interested_in_me  like  guess_prob_liked  met  match  \\\n0                               2.0   7.0               6.0  0.0      0   \n1                               2.0   7.0               5.0  1.0      0   \n2                               2.0   7.0             -99.0  1.0      1   \n3                               2.0   7.0               6.0  0.0      1   \n4                               2.0   6.0               6.0  0.0      1   \n...                             ...   ...               ...  ...    ...   \n8372                          -99.0   4.0               4.0  0.0      0   \n8373                          -99.0   2.0               5.0  0.0      0   \n8374                          -99.0   4.0               4.0  0.0      0   \n8376                          -99.0   5.0               5.0  0.0      0   \n8377                          -99.0   4.0               5.0  0.0      0   \n\n      age_gap  age_gap_abs  same_race  \n0         6.0          6.0         -1  \n1         1.0          1.0         -1  \n2         1.0          1.0          1  \n3         2.0          2.0         -1  \n4         3.0          3.0         -1  \n...       ...          ...        ...  \n8372      1.0          1.0          1  \n8373     -1.0          1.0         -1  \n8374      1.0          1.0         -1  \n8376      3.0          3.0         -1  \n8377      3.0          3.0         -1  \n\n[8130 rows x 42 columns]",
      "text/html": "<div>\n<style scoped>\n    .dataframe tbody tr th:only-of-type {\n        vertical-align: middle;\n    }\n\n    .dataframe tbody tr th {\n        vertical-align: top;\n    }\n\n    .dataframe thead th {\n        text-align: right;\n    }\n</style>\n<table border=\"1\" class=\"dataframe\">\n  <thead>\n    <tr style=\"text-align: right;\">\n      <th></th>\n      <th>has_null</th>\n      <th>gender</th>\n      <th>age</th>\n      <th>age_o</th>\n      <th>race</th>\n      <th>race_o</th>\n      <th>importance_same_race</th>\n      <th>importance_same_religion</th>\n      <th>pref_o_attractive</th>\n      <th>pref_o_sincere</th>\n      <th>pref_o_intelligence</th>\n      <th>pref_o_funny</th>\n      <th>pref_o_ambitious</th>\n      <th>pref_o_shared_interests</th>\n      <th>attractive_o</th>\n      <th>sincere_o</th>\n      <th>intelligence_o</th>\n      <th>funny_o</th>\n      <th>ambitous_o</th>\n      <th>shared_interests_o</th>\n      <th>...</th>\n      <th>intellicence_important</th>\n      <th>funny_important</th>\n      <th>ambtition_important</th>\n      <th>shared_interests_important</th>\n      <th>attractive_partner</th>\n      <th>sincere_partner</th>\n      <th>intelligence_partner</th>\n      <th>funny_partner</th>\n      <th>ambition_partner</th>\n      <th>shared_interests_partner</th>\n      <th>interests_correlate</th>\n      <th>expected_happy_with_sd_people</th>\n      <th>expected_num_interested_in_me</th>\n      <th>like</th>\n      <th>guess_prob_liked</th>\n      <th>met</th>\n      <th>match</th>\n      <th>age_gap</th>\n      <th>age_gap_abs</th>\n      <th>same_race</th>\n    </tr>\n  </thead>\n  <tbody>\n    <tr>\n      <th>0</th>\n      <td>0</td>\n      <td>female</td>\n      <td>21.0</td>\n      <td>27.0</td>\n      <td>Asian/PacificIslander/Asian-American</td>\n      <td>European/Caucasian-American</td>\n      <td>2.0</td>\n      <td>4.0</td>\n      <td>35.0</td>\n      <td>20.0</td>\n      <td>20.0</td>\n      <td>20.0</td>\n      <td>0.0</td>\n      <td>5.0</td>\n      <td>6.0</td>\n      <td>8.0</td>\n      <td>8.0</td>\n      <td>8.0</td>\n      <td>8.0</td>\n      <td>6.0</td>\n      <td>...</td>\n      <td>20.0</td>\n      <td>15.0</td>\n      <td>15.0</td>\n      <td>15.0</td>\n      <td>6.0</td>\n      <td>9.0</td>\n      <td>7.0</td>\n      <td>7.0</td>\n      <td>6.0</td>\n      <td>5.0</td>\n      <td>0.14</td>\n      <td>3.0</td>\n      <td>2.0</td>\n      <td>7.0</td>\n      <td>6.0</td>\n      <td>0.0</td>\n      <td>0</td>\n      <td>6.0</td>\n      <td>6.0</td>\n      <td>-1</td>\n    </tr>\n    <tr>\n      <th>1</th>\n      <td>0</td>\n      <td>female</td>\n      <td>21.0</td>\n      <td>22.0</td>\n      <td>Asian/PacificIslander/Asian-American</td>\n      <td>European/Caucasian-American</td>\n      <td>2.0</td>\n      <td>4.0</td>\n      <td>60.0</td>\n      <td>0.0</td>\n      <td>0.0</td>\n      <td>40.0</td>\n      <td>0.0</td>\n      <td>0.0</td>\n      <td>7.0</td>\n      <td>8.0</td>\n      <td>10.0</td>\n      <td>7.0</td>\n      <td>7.0</td>\n      <td>5.0</td>\n      <td>...</td>\n      <td>20.0</td>\n      <td>15.0</td>\n      <td>15.0</td>\n      <td>15.0</td>\n      <td>7.0</td>\n      <td>8.0</td>\n      <td>7.0</td>\n      <td>8.0</td>\n      <td>5.0</td>\n      <td>6.0</td>\n      <td>0.54</td>\n      <td>3.0</td>\n      <td>2.0</td>\n      <td>7.0</td>\n      <td>5.0</td>\n      <td>1.0</td>\n      <td>0</td>\n      <td>1.0</td>\n      <td>1.0</td>\n      <td>-1</td>\n    </tr>\n    <tr>\n      <th>2</th>\n      <td>1</td>\n      <td>female</td>\n      <td>21.0</td>\n      <td>22.0</td>\n      <td>Asian/PacificIslander/Asian-American</td>\n      <td>Asian/PacificIslander/Asian-American</td>\n      <td>2.0</td>\n      <td>4.0</td>\n      <td>19.0</td>\n      <td>18.0</td>\n      <td>19.0</td>\n      <td>18.0</td>\n      <td>14.0</td>\n      <td>12.0</td>\n      <td>10.0</td>\n      <td>10.0</td>\n      <td>10.0</td>\n      <td>10.0</td>\n      <td>10.0</td>\n      <td>10.0</td>\n      <td>...</td>\n      <td>20.0</td>\n      <td>15.0</td>\n      <td>15.0</td>\n      <td>15.0</td>\n      <td>5.0</td>\n      <td>8.0</td>\n      <td>9.0</td>\n      <td>8.0</td>\n      <td>5.0</td>\n      <td>7.0</td>\n      <td>0.16</td>\n      <td>3.0</td>\n      <td>2.0</td>\n      <td>7.0</td>\n      <td>-99.0</td>\n      <td>1.0</td>\n      <td>1</td>\n      <td>1.0</td>\n      <td>1.0</td>\n      <td>1</td>\n    </tr>\n    <tr>\n      <th>3</th>\n      <td>0</td>\n      <td>female</td>\n      <td>21.0</td>\n      <td>23.0</td>\n      <td>Asian/PacificIslander/Asian-American</td>\n      <td>European/Caucasian-American</td>\n      <td>2.0</td>\n      <td>4.0</td>\n      <td>30.0</td>\n      <td>5.0</td>\n      <td>15.0</td>\n      <td>40.0</td>\n      <td>5.0</td>\n      <td>5.0</td>\n      <td>7.0</td>\n      <td>8.0</td>\n      <td>9.0</td>\n      <td>8.0</td>\n      <td>9.0</td>\n      <td>8.0</td>\n      <td>...</td>\n      <td>20.0</td>\n      <td>15.0</td>\n      <td>15.0</td>\n      <td>15.0</td>\n      <td>7.0</td>\n      <td>6.0</td>\n      <td>8.0</td>\n      <td>7.0</td>\n      <td>6.0</td>\n      <td>8.0</td>\n      <td>0.61</td>\n      <td>3.0</td>\n      <td>2.0</td>\n      <td>7.0</td>\n      <td>6.0</td>\n      <td>0.0</td>\n      <td>1</td>\n      <td>2.0</td>\n      <td>2.0</td>\n      <td>-1</td>\n    </tr>\n    <tr>\n      <th>4</th>\n      <td>0</td>\n      <td>female</td>\n      <td>21.0</td>\n      <td>24.0</td>\n      <td>Asian/PacificIslander/Asian-American</td>\n      <td>Latino/HispanicAmerican</td>\n      <td>2.0</td>\n      <td>4.0</td>\n      <td>30.0</td>\n      <td>10.0</td>\n      <td>20.0</td>\n      <td>10.0</td>\n      <td>10.0</td>\n      <td>20.0</td>\n      <td>8.0</td>\n      <td>7.0</td>\n      <td>9.0</td>\n      <td>6.0</td>\n      <td>9.0</td>\n      <td>7.0</td>\n      <td>...</td>\n      <td>20.0</td>\n      <td>15.0</td>\n      <td>15.0</td>\n      <td>15.0</td>\n      <td>5.0</td>\n      <td>6.0</td>\n      <td>7.0</td>\n      <td>7.0</td>\n      <td>6.0</td>\n      <td>6.0</td>\n      <td>0.21</td>\n      <td>3.0</td>\n      <td>2.0</td>\n      <td>6.0</td>\n      <td>6.0</td>\n      <td>0.0</td>\n      <td>1</td>\n      <td>3.0</td>\n      <td>3.0</td>\n      <td>-1</td>\n    </tr>\n    <tr>\n      <th>...</th>\n      <td>...</td>\n      <td>...</td>\n      <td>...</td>\n      <td>...</td>\n      <td>...</td>\n      <td>...</td>\n      <td>...</td>\n      <td>...</td>\n      <td>...</td>\n      <td>...</td>\n      <td>...</td>\n      <td>...</td>\n      <td>...</td>\n      <td>...</td>\n      <td>...</td>\n      <td>...</td>\n      <td>...</td>\n      <td>...</td>\n      <td>...</td>\n      <td>...</td>\n      <td>...</td>\n      <td>...</td>\n      <td>...</td>\n      <td>...</td>\n      <td>...</td>\n      <td>...</td>\n      <td>...</td>\n      <td>...</td>\n      <td>...</td>\n      <td>...</td>\n      <td>...</td>\n      <td>...</td>\n      <td>...</td>\n      <td>...</td>\n      <td>...</td>\n      <td>...</td>\n      <td>...</td>\n      <td>...</td>\n      <td>...</td>\n      <td>...</td>\n      <td>...</td>\n    </tr>\n    <tr>\n      <th>8372</th>\n      <td>1</td>\n      <td>male</td>\n      <td>25.0</td>\n      <td>24.0</td>\n      <td>European/Caucasian-American</td>\n      <td>European/Caucasian-American</td>\n      <td>1.0</td>\n      <td>1.0</td>\n      <td>10.0</td>\n      <td>15.0</td>\n      <td>30.0</td>\n      <td>20.0</td>\n      <td>15.0</td>\n      <td>10.0</td>\n      <td>8.0</td>\n      <td>8.0</td>\n      <td>7.0</td>\n      <td>7.0</td>\n      <td>8.0</td>\n      <td>6.0</td>\n      <td>...</td>\n      <td>15.0</td>\n      <td>15.0</td>\n      <td>0.0</td>\n      <td>0.0</td>\n      <td>7.0</td>\n      <td>5.0</td>\n      <td>5.0</td>\n      <td>5.0</td>\n      <td>6.0</td>\n      <td>-99.0</td>\n      <td>0.28</td>\n      <td>10.0</td>\n      <td>-99.0</td>\n      <td>4.0</td>\n      <td>4.0</td>\n      <td>0.0</td>\n      <td>0</td>\n      <td>1.0</td>\n      <td>1.0</td>\n      <td>1</td>\n    </tr>\n    <tr>\n      <th>8373</th>\n      <td>1</td>\n      <td>male</td>\n      <td>25.0</td>\n      <td>26.0</td>\n      <td>European/Caucasian-American</td>\n      <td>Latino/HispanicAmerican</td>\n      <td>1.0</td>\n      <td>1.0</td>\n      <td>10.0</td>\n      <td>10.0</td>\n      <td>30.0</td>\n      <td>20.0</td>\n      <td>10.0</td>\n      <td>15.0</td>\n      <td>10.0</td>\n      <td>5.0</td>\n      <td>3.0</td>\n      <td>2.0</td>\n      <td>6.0</td>\n      <td>5.0</td>\n      <td>...</td>\n      <td>15.0</td>\n      <td>15.0</td>\n      <td>0.0</td>\n      <td>0.0</td>\n      <td>3.0</td>\n      <td>5.0</td>\n      <td>5.0</td>\n      <td>5.0</td>\n      <td>-99.0</td>\n      <td>-99.0</td>\n      <td>0.64</td>\n      <td>10.0</td>\n      <td>-99.0</td>\n      <td>2.0</td>\n      <td>5.0</td>\n      <td>0.0</td>\n      <td>0</td>\n      <td>-1.0</td>\n      <td>1.0</td>\n      <td>-1</td>\n    </tr>\n    <tr>\n      <th>8374</th>\n      <td>1</td>\n      <td>male</td>\n      <td>25.0</td>\n      <td>24.0</td>\n      <td>European/Caucasian-American</td>\n      <td>Other</td>\n      <td>1.0</td>\n      <td>1.0</td>\n      <td>50.0</td>\n      <td>20.0</td>\n      <td>10.0</td>\n      <td>5.0</td>\n      <td>10.0</td>\n      <td>5.0</td>\n      <td>6.0</td>\n      <td>3.0</td>\n      <td>7.0</td>\n      <td>3.0</td>\n      <td>7.0</td>\n      <td>2.0</td>\n      <td>...</td>\n      <td>15.0</td>\n      <td>15.0</td>\n      <td>0.0</td>\n      <td>0.0</td>\n      <td>4.0</td>\n      <td>6.0</td>\n      <td>8.0</td>\n      <td>4.0</td>\n      <td>4.0</td>\n      <td>-99.0</td>\n      <td>0.71</td>\n      <td>10.0</td>\n      <td>-99.0</td>\n      <td>4.0</td>\n      <td>4.0</td>\n      <td>0.0</td>\n      <td>0</td>\n      <td>1.0</td>\n      <td>1.0</td>\n      <td>-1</td>\n    </tr>\n    <tr>\n      <th>8376</th>\n      <td>1</td>\n      <td>male</td>\n      <td>25.0</td>\n      <td>22.0</td>\n      <td>European/Caucasian-American</td>\n      <td>Asian/PacificIslander/Asian-American</td>\n      <td>1.0</td>\n      <td>1.0</td>\n      <td>10.0</td>\n      <td>25.0</td>\n      <td>25.0</td>\n      <td>10.0</td>\n      <td>10.0</td>\n      <td>20.0</td>\n      <td>5.0</td>\n      <td>7.0</td>\n      <td>5.0</td>\n      <td>5.0</td>\n      <td>3.0</td>\n      <td>6.0</td>\n      <td>...</td>\n      <td>15.0</td>\n      <td>15.0</td>\n      <td>0.0</td>\n      <td>0.0</td>\n      <td>4.0</td>\n      <td>6.0</td>\n      <td>5.0</td>\n      <td>4.0</td>\n      <td>-99.0</td>\n      <td>5.0</td>\n      <td>0.62</td>\n      <td>10.0</td>\n      <td>-99.0</td>\n      <td>5.0</td>\n      <td>5.0</td>\n      <td>0.0</td>\n      <td>0</td>\n      <td>3.0</td>\n      <td>3.0</td>\n      <td>-1</td>\n    </tr>\n    <tr>\n      <th>8377</th>\n      <td>1</td>\n      <td>male</td>\n      <td>25.0</td>\n      <td>22.0</td>\n      <td>European/Caucasian-American</td>\n      <td>Asian/PacificIslander/Asian-American</td>\n      <td>1.0</td>\n      <td>1.0</td>\n      <td>20.0</td>\n      <td>20.0</td>\n      <td>10.0</td>\n      <td>15.0</td>\n      <td>5.0</td>\n      <td>30.0</td>\n      <td>8.0</td>\n      <td>8.0</td>\n      <td>7.0</td>\n      <td>7.0</td>\n      <td>7.0</td>\n      <td>7.0</td>\n      <td>...</td>\n      <td>15.0</td>\n      <td>15.0</td>\n      <td>0.0</td>\n      <td>0.0</td>\n      <td>3.0</td>\n      <td>7.0</td>\n      <td>6.0</td>\n      <td>4.0</td>\n      <td>8.0</td>\n      <td>1.0</td>\n      <td>0.01</td>\n      <td>10.0</td>\n      <td>-99.0</td>\n      <td>4.0</td>\n      <td>5.0</td>\n      <td>0.0</td>\n      <td>0</td>\n      <td>3.0</td>\n      <td>3.0</td>\n      <td>-1</td>\n    </tr>\n  </tbody>\n</table>\n<p>8130 rows × 42 columns</p>\n</div>"
     },
     "execution_count": 11,
     "metadata": {},
     "output_type": "execute_result"
    }
   ],
   "source": [
    "data['same_race'] = data.apply(same_race , axis = 1)\n",
    "\n",
    "data"
   ],
   "metadata": {
    "collapsed": false,
    "pycharm": {
     "name": "#%%\n"
    }
   }
  },
  {
   "cell_type": "code",
   "execution_count": 12,
   "outputs": [],
   "source": [
    "def same_race_point(x):\n",
    "    if x['same_race'] == -99:\n",
    "        return -99\n",
    "\n",
    "    else:\n",
    "        return x['same_race'] * x['importance_same_race']"
   ],
   "metadata": {
    "collapsed": false,
    "pycharm": {
     "name": "#%%\n"
    }
   }
  },
  {
   "cell_type": "code",
   "execution_count": 13,
   "outputs": [],
   "source": [
    "data['same_race_point'] = data.apply(same_race_point , axis =1)\n",
    "\n",
    "# data에 same_race_point 함수를 적용한 결과를 same_race_point 변소로 저장"
   ],
   "metadata": {
    "collapsed": false,
    "pycharm": {
     "name": "#%%\n"
    }
   }
  },
  {
   "cell_type": "code",
   "execution_count": 14,
   "outputs": [
    {
     "data": {
      "text/plain": "      has_null  gender   age  age_o                                  race  \\\n0            0  female  21.0   27.0  Asian/PacificIslander/Asian-American   \n1            0  female  21.0   22.0  Asian/PacificIslander/Asian-American   \n2            1  female  21.0   22.0  Asian/PacificIslander/Asian-American   \n3            0  female  21.0   23.0  Asian/PacificIslander/Asian-American   \n4            0  female  21.0   24.0  Asian/PacificIslander/Asian-American   \n...        ...     ...   ...    ...                                   ...   \n8372         1    male  25.0   24.0           European/Caucasian-American   \n8373         1    male  25.0   26.0           European/Caucasian-American   \n8374         1    male  25.0   24.0           European/Caucasian-American   \n8376         1    male  25.0   22.0           European/Caucasian-American   \n8377         1    male  25.0   22.0           European/Caucasian-American   \n\n                                    race_o  importance_same_race  \\\n0              European/Caucasian-American                   2.0   \n1              European/Caucasian-American                   2.0   \n2     Asian/PacificIslander/Asian-American                   2.0   \n3              European/Caucasian-American                   2.0   \n4                  Latino/HispanicAmerican                   2.0   \n...                                    ...                   ...   \n8372           European/Caucasian-American                   1.0   \n8373               Latino/HispanicAmerican                   1.0   \n8374                                 Other                   1.0   \n8376  Asian/PacificIslander/Asian-American                   1.0   \n8377  Asian/PacificIslander/Asian-American                   1.0   \n\n      importance_same_religion  pref_o_attractive  pref_o_sincere  \\\n0                          4.0               35.0            20.0   \n1                          4.0               60.0             0.0   \n2                          4.0               19.0            18.0   \n3                          4.0               30.0             5.0   \n4                          4.0               30.0            10.0   \n...                        ...                ...             ...   \n8372                       1.0               10.0            15.0   \n8373                       1.0               10.0            10.0   \n8374                       1.0               50.0            20.0   \n8376                       1.0               10.0            25.0   \n8377                       1.0               20.0            20.0   \n\n      pref_o_intelligence  pref_o_funny  pref_o_ambitious  \\\n0                    20.0          20.0               0.0   \n1                     0.0          40.0               0.0   \n2                    19.0          18.0              14.0   \n3                    15.0          40.0               5.0   \n4                    20.0          10.0              10.0   \n...                   ...           ...               ...   \n8372                 30.0          20.0              15.0   \n8373                 30.0          20.0              10.0   \n8374                 10.0           5.0              10.0   \n8376                 25.0          10.0              10.0   \n8377                 10.0          15.0               5.0   \n\n      pref_o_shared_interests  attractive_o  sincere_o  intelligence_o  \\\n0                         5.0           6.0        8.0             8.0   \n1                         0.0           7.0        8.0            10.0   \n2                        12.0          10.0       10.0            10.0   \n3                         5.0           7.0        8.0             9.0   \n4                        20.0           8.0        7.0             9.0   \n...                       ...           ...        ...             ...   \n8372                     10.0           8.0        8.0             7.0   \n8373                     15.0          10.0        5.0             3.0   \n8374                      5.0           6.0        3.0             7.0   \n8376                     20.0           5.0        7.0             5.0   \n8377                     30.0           8.0        8.0             7.0   \n\n      funny_o  ambitous_o  shared_interests_o  ...  funny_important  \\\n0         8.0         8.0                 6.0  ...             15.0   \n1         7.0         7.0                 5.0  ...             15.0   \n2        10.0        10.0                10.0  ...             15.0   \n3         8.0         9.0                 8.0  ...             15.0   \n4         6.0         9.0                 7.0  ...             15.0   \n...       ...         ...                 ...  ...              ...   \n8372      7.0         8.0                 6.0  ...             15.0   \n8373      2.0         6.0                 5.0  ...             15.0   \n8374      3.0         7.0                 2.0  ...             15.0   \n8376      5.0         3.0                 6.0  ...             15.0   \n8377      7.0         7.0                 7.0  ...             15.0   \n\n      ambtition_important  shared_interests_important  attractive_partner  \\\n0                    15.0                        15.0                 6.0   \n1                    15.0                        15.0                 7.0   \n2                    15.0                        15.0                 5.0   \n3                    15.0                        15.0                 7.0   \n4                    15.0                        15.0                 5.0   \n...                   ...                         ...                 ...   \n8372                  0.0                         0.0                 7.0   \n8373                  0.0                         0.0                 3.0   \n8374                  0.0                         0.0                 4.0   \n8376                  0.0                         0.0                 4.0   \n8377                  0.0                         0.0                 3.0   \n\n      sincere_partner  intelligence_partner  funny_partner  ambition_partner  \\\n0                 9.0                   7.0            7.0               6.0   \n1                 8.0                   7.0            8.0               5.0   \n2                 8.0                   9.0            8.0               5.0   \n3                 6.0                   8.0            7.0               6.0   \n4                 6.0                   7.0            7.0               6.0   \n...               ...                   ...            ...               ...   \n8372              5.0                   5.0            5.0               6.0   \n8373              5.0                   5.0            5.0             -99.0   \n8374              6.0                   8.0            4.0               4.0   \n8376              6.0                   5.0            4.0             -99.0   \n8377              7.0                   6.0            4.0               8.0   \n\n      shared_interests_partner  interests_correlate  \\\n0                          5.0                 0.14   \n1                          6.0                 0.54   \n2                          7.0                 0.16   \n3                          8.0                 0.61   \n4                          6.0                 0.21   \n...                        ...                  ...   \n8372                     -99.0                 0.28   \n8373                     -99.0                 0.64   \n8374                     -99.0                 0.71   \n8376                       5.0                 0.62   \n8377                       1.0                 0.01   \n\n      expected_happy_with_sd_people  expected_num_interested_in_me  like  \\\n0                               3.0                            2.0   7.0   \n1                               3.0                            2.0   7.0   \n2                               3.0                            2.0   7.0   \n3                               3.0                            2.0   7.0   \n4                               3.0                            2.0   6.0   \n...                             ...                            ...   ...   \n8372                           10.0                          -99.0   4.0   \n8373                           10.0                          -99.0   2.0   \n8374                           10.0                          -99.0   4.0   \n8376                           10.0                          -99.0   5.0   \n8377                           10.0                          -99.0   4.0   \n\n      guess_prob_liked  met  match  age_gap  age_gap_abs  same_race  \\\n0                  6.0  0.0      0      6.0          6.0         -1   \n1                  5.0  1.0      0      1.0          1.0         -1   \n2                -99.0  1.0      1      1.0          1.0          1   \n3                  6.0  0.0      1      2.0          2.0         -1   \n4                  6.0  0.0      1      3.0          3.0         -1   \n...                ...  ...    ...      ...          ...        ...   \n8372               4.0  0.0      0      1.0          1.0          1   \n8373               5.0  0.0      0     -1.0          1.0         -1   \n8374               4.0  0.0      0      1.0          1.0         -1   \n8376               5.0  0.0      0      3.0          3.0         -1   \n8377               5.0  0.0      0      3.0          3.0         -1   \n\n      same_race_point  \n0                -2.0  \n1                -2.0  \n2                 2.0  \n3                -2.0  \n4                -2.0  \n...               ...  \n8372              1.0  \n8373             -1.0  \n8374             -1.0  \n8376             -1.0  \n8377             -1.0  \n\n[8130 rows x 43 columns]",
      "text/html": "<div>\n<style scoped>\n    .dataframe tbody tr th:only-of-type {\n        vertical-align: middle;\n    }\n\n    .dataframe tbody tr th {\n        vertical-align: top;\n    }\n\n    .dataframe thead th {\n        text-align: right;\n    }\n</style>\n<table border=\"1\" class=\"dataframe\">\n  <thead>\n    <tr style=\"text-align: right;\">\n      <th></th>\n      <th>has_null</th>\n      <th>gender</th>\n      <th>age</th>\n      <th>age_o</th>\n      <th>race</th>\n      <th>race_o</th>\n      <th>importance_same_race</th>\n      <th>importance_same_religion</th>\n      <th>pref_o_attractive</th>\n      <th>pref_o_sincere</th>\n      <th>pref_o_intelligence</th>\n      <th>pref_o_funny</th>\n      <th>pref_o_ambitious</th>\n      <th>pref_o_shared_interests</th>\n      <th>attractive_o</th>\n      <th>sincere_o</th>\n      <th>intelligence_o</th>\n      <th>funny_o</th>\n      <th>ambitous_o</th>\n      <th>shared_interests_o</th>\n      <th>...</th>\n      <th>funny_important</th>\n      <th>ambtition_important</th>\n      <th>shared_interests_important</th>\n      <th>attractive_partner</th>\n      <th>sincere_partner</th>\n      <th>intelligence_partner</th>\n      <th>funny_partner</th>\n      <th>ambition_partner</th>\n      <th>shared_interests_partner</th>\n      <th>interests_correlate</th>\n      <th>expected_happy_with_sd_people</th>\n      <th>expected_num_interested_in_me</th>\n      <th>like</th>\n      <th>guess_prob_liked</th>\n      <th>met</th>\n      <th>match</th>\n      <th>age_gap</th>\n      <th>age_gap_abs</th>\n      <th>same_race</th>\n      <th>same_race_point</th>\n    </tr>\n  </thead>\n  <tbody>\n    <tr>\n      <th>0</th>\n      <td>0</td>\n      <td>female</td>\n      <td>21.0</td>\n      <td>27.0</td>\n      <td>Asian/PacificIslander/Asian-American</td>\n      <td>European/Caucasian-American</td>\n      <td>2.0</td>\n      <td>4.0</td>\n      <td>35.0</td>\n      <td>20.0</td>\n      <td>20.0</td>\n      <td>20.0</td>\n      <td>0.0</td>\n      <td>5.0</td>\n      <td>6.0</td>\n      <td>8.0</td>\n      <td>8.0</td>\n      <td>8.0</td>\n      <td>8.0</td>\n      <td>6.0</td>\n      <td>...</td>\n      <td>15.0</td>\n      <td>15.0</td>\n      <td>15.0</td>\n      <td>6.0</td>\n      <td>9.0</td>\n      <td>7.0</td>\n      <td>7.0</td>\n      <td>6.0</td>\n      <td>5.0</td>\n      <td>0.14</td>\n      <td>3.0</td>\n      <td>2.0</td>\n      <td>7.0</td>\n      <td>6.0</td>\n      <td>0.0</td>\n      <td>0</td>\n      <td>6.0</td>\n      <td>6.0</td>\n      <td>-1</td>\n      <td>-2.0</td>\n    </tr>\n    <tr>\n      <th>1</th>\n      <td>0</td>\n      <td>female</td>\n      <td>21.0</td>\n      <td>22.0</td>\n      <td>Asian/PacificIslander/Asian-American</td>\n      <td>European/Caucasian-American</td>\n      <td>2.0</td>\n      <td>4.0</td>\n      <td>60.0</td>\n      <td>0.0</td>\n      <td>0.0</td>\n      <td>40.0</td>\n      <td>0.0</td>\n      <td>0.0</td>\n      <td>7.0</td>\n      <td>8.0</td>\n      <td>10.0</td>\n      <td>7.0</td>\n      <td>7.0</td>\n      <td>5.0</td>\n      <td>...</td>\n      <td>15.0</td>\n      <td>15.0</td>\n      <td>15.0</td>\n      <td>7.0</td>\n      <td>8.0</td>\n      <td>7.0</td>\n      <td>8.0</td>\n      <td>5.0</td>\n      <td>6.0</td>\n      <td>0.54</td>\n      <td>3.0</td>\n      <td>2.0</td>\n      <td>7.0</td>\n      <td>5.0</td>\n      <td>1.0</td>\n      <td>0</td>\n      <td>1.0</td>\n      <td>1.0</td>\n      <td>-1</td>\n      <td>-2.0</td>\n    </tr>\n    <tr>\n      <th>2</th>\n      <td>1</td>\n      <td>female</td>\n      <td>21.0</td>\n      <td>22.0</td>\n      <td>Asian/PacificIslander/Asian-American</td>\n      <td>Asian/PacificIslander/Asian-American</td>\n      <td>2.0</td>\n      <td>4.0</td>\n      <td>19.0</td>\n      <td>18.0</td>\n      <td>19.0</td>\n      <td>18.0</td>\n      <td>14.0</td>\n      <td>12.0</td>\n      <td>10.0</td>\n      <td>10.0</td>\n      <td>10.0</td>\n      <td>10.0</td>\n      <td>10.0</td>\n      <td>10.0</td>\n      <td>...</td>\n      <td>15.0</td>\n      <td>15.0</td>\n      <td>15.0</td>\n      <td>5.0</td>\n      <td>8.0</td>\n      <td>9.0</td>\n      <td>8.0</td>\n      <td>5.0</td>\n      <td>7.0</td>\n      <td>0.16</td>\n      <td>3.0</td>\n      <td>2.0</td>\n      <td>7.0</td>\n      <td>-99.0</td>\n      <td>1.0</td>\n      <td>1</td>\n      <td>1.0</td>\n      <td>1.0</td>\n      <td>1</td>\n      <td>2.0</td>\n    </tr>\n    <tr>\n      <th>3</th>\n      <td>0</td>\n      <td>female</td>\n      <td>21.0</td>\n      <td>23.0</td>\n      <td>Asian/PacificIslander/Asian-American</td>\n      <td>European/Caucasian-American</td>\n      <td>2.0</td>\n      <td>4.0</td>\n      <td>30.0</td>\n      <td>5.0</td>\n      <td>15.0</td>\n      <td>40.0</td>\n      <td>5.0</td>\n      <td>5.0</td>\n      <td>7.0</td>\n      <td>8.0</td>\n      <td>9.0</td>\n      <td>8.0</td>\n      <td>9.0</td>\n      <td>8.0</td>\n      <td>...</td>\n      <td>15.0</td>\n      <td>15.0</td>\n      <td>15.0</td>\n      <td>7.0</td>\n      <td>6.0</td>\n      <td>8.0</td>\n      <td>7.0</td>\n      <td>6.0</td>\n      <td>8.0</td>\n      <td>0.61</td>\n      <td>3.0</td>\n      <td>2.0</td>\n      <td>7.0</td>\n      <td>6.0</td>\n      <td>0.0</td>\n      <td>1</td>\n      <td>2.0</td>\n      <td>2.0</td>\n      <td>-1</td>\n      <td>-2.0</td>\n    </tr>\n    <tr>\n      <th>4</th>\n      <td>0</td>\n      <td>female</td>\n      <td>21.0</td>\n      <td>24.0</td>\n      <td>Asian/PacificIslander/Asian-American</td>\n      <td>Latino/HispanicAmerican</td>\n      <td>2.0</td>\n      <td>4.0</td>\n      <td>30.0</td>\n      <td>10.0</td>\n      <td>20.0</td>\n      <td>10.0</td>\n      <td>10.0</td>\n      <td>20.0</td>\n      <td>8.0</td>\n      <td>7.0</td>\n      <td>9.0</td>\n      <td>6.0</td>\n      <td>9.0</td>\n      <td>7.0</td>\n      <td>...</td>\n      <td>15.0</td>\n      <td>15.0</td>\n      <td>15.0</td>\n      <td>5.0</td>\n      <td>6.0</td>\n      <td>7.0</td>\n      <td>7.0</td>\n      <td>6.0</td>\n      <td>6.0</td>\n      <td>0.21</td>\n      <td>3.0</td>\n      <td>2.0</td>\n      <td>6.0</td>\n      <td>6.0</td>\n      <td>0.0</td>\n      <td>1</td>\n      <td>3.0</td>\n      <td>3.0</td>\n      <td>-1</td>\n      <td>-2.0</td>\n    </tr>\n    <tr>\n      <th>...</th>\n      <td>...</td>\n      <td>...</td>\n      <td>...</td>\n      <td>...</td>\n      <td>...</td>\n      <td>...</td>\n      <td>...</td>\n      <td>...</td>\n      <td>...</td>\n      <td>...</td>\n      <td>...</td>\n      <td>...</td>\n      <td>...</td>\n      <td>...</td>\n      <td>...</td>\n      <td>...</td>\n      <td>...</td>\n      <td>...</td>\n      <td>...</td>\n      <td>...</td>\n      <td>...</td>\n      <td>...</td>\n      <td>...</td>\n      <td>...</td>\n      <td>...</td>\n      <td>...</td>\n      <td>...</td>\n      <td>...</td>\n      <td>...</td>\n      <td>...</td>\n      <td>...</td>\n      <td>...</td>\n      <td>...</td>\n      <td>...</td>\n      <td>...</td>\n      <td>...</td>\n      <td>...</td>\n      <td>...</td>\n      <td>...</td>\n      <td>...</td>\n      <td>...</td>\n    </tr>\n    <tr>\n      <th>8372</th>\n      <td>1</td>\n      <td>male</td>\n      <td>25.0</td>\n      <td>24.0</td>\n      <td>European/Caucasian-American</td>\n      <td>European/Caucasian-American</td>\n      <td>1.0</td>\n      <td>1.0</td>\n      <td>10.0</td>\n      <td>15.0</td>\n      <td>30.0</td>\n      <td>20.0</td>\n      <td>15.0</td>\n      <td>10.0</td>\n      <td>8.0</td>\n      <td>8.0</td>\n      <td>7.0</td>\n      <td>7.0</td>\n      <td>8.0</td>\n      <td>6.0</td>\n      <td>...</td>\n      <td>15.0</td>\n      <td>0.0</td>\n      <td>0.0</td>\n      <td>7.0</td>\n      <td>5.0</td>\n      <td>5.0</td>\n      <td>5.0</td>\n      <td>6.0</td>\n      <td>-99.0</td>\n      <td>0.28</td>\n      <td>10.0</td>\n      <td>-99.0</td>\n      <td>4.0</td>\n      <td>4.0</td>\n      <td>0.0</td>\n      <td>0</td>\n      <td>1.0</td>\n      <td>1.0</td>\n      <td>1</td>\n      <td>1.0</td>\n    </tr>\n    <tr>\n      <th>8373</th>\n      <td>1</td>\n      <td>male</td>\n      <td>25.0</td>\n      <td>26.0</td>\n      <td>European/Caucasian-American</td>\n      <td>Latino/HispanicAmerican</td>\n      <td>1.0</td>\n      <td>1.0</td>\n      <td>10.0</td>\n      <td>10.0</td>\n      <td>30.0</td>\n      <td>20.0</td>\n      <td>10.0</td>\n      <td>15.0</td>\n      <td>10.0</td>\n      <td>5.0</td>\n      <td>3.0</td>\n      <td>2.0</td>\n      <td>6.0</td>\n      <td>5.0</td>\n      <td>...</td>\n      <td>15.0</td>\n      <td>0.0</td>\n      <td>0.0</td>\n      <td>3.0</td>\n      <td>5.0</td>\n      <td>5.0</td>\n      <td>5.0</td>\n      <td>-99.0</td>\n      <td>-99.0</td>\n      <td>0.64</td>\n      <td>10.0</td>\n      <td>-99.0</td>\n      <td>2.0</td>\n      <td>5.0</td>\n      <td>0.0</td>\n      <td>0</td>\n      <td>-1.0</td>\n      <td>1.0</td>\n      <td>-1</td>\n      <td>-1.0</td>\n    </tr>\n    <tr>\n      <th>8374</th>\n      <td>1</td>\n      <td>male</td>\n      <td>25.0</td>\n      <td>24.0</td>\n      <td>European/Caucasian-American</td>\n      <td>Other</td>\n      <td>1.0</td>\n      <td>1.0</td>\n      <td>50.0</td>\n      <td>20.0</td>\n      <td>10.0</td>\n      <td>5.0</td>\n      <td>10.0</td>\n      <td>5.0</td>\n      <td>6.0</td>\n      <td>3.0</td>\n      <td>7.0</td>\n      <td>3.0</td>\n      <td>7.0</td>\n      <td>2.0</td>\n      <td>...</td>\n      <td>15.0</td>\n      <td>0.0</td>\n      <td>0.0</td>\n      <td>4.0</td>\n      <td>6.0</td>\n      <td>8.0</td>\n      <td>4.0</td>\n      <td>4.0</td>\n      <td>-99.0</td>\n      <td>0.71</td>\n      <td>10.0</td>\n      <td>-99.0</td>\n      <td>4.0</td>\n      <td>4.0</td>\n      <td>0.0</td>\n      <td>0</td>\n      <td>1.0</td>\n      <td>1.0</td>\n      <td>-1</td>\n      <td>-1.0</td>\n    </tr>\n    <tr>\n      <th>8376</th>\n      <td>1</td>\n      <td>male</td>\n      <td>25.0</td>\n      <td>22.0</td>\n      <td>European/Caucasian-American</td>\n      <td>Asian/PacificIslander/Asian-American</td>\n      <td>1.0</td>\n      <td>1.0</td>\n      <td>10.0</td>\n      <td>25.0</td>\n      <td>25.0</td>\n      <td>10.0</td>\n      <td>10.0</td>\n      <td>20.0</td>\n      <td>5.0</td>\n      <td>7.0</td>\n      <td>5.0</td>\n      <td>5.0</td>\n      <td>3.0</td>\n      <td>6.0</td>\n      <td>...</td>\n      <td>15.0</td>\n      <td>0.0</td>\n      <td>0.0</td>\n      <td>4.0</td>\n      <td>6.0</td>\n      <td>5.0</td>\n      <td>4.0</td>\n      <td>-99.0</td>\n      <td>5.0</td>\n      <td>0.62</td>\n      <td>10.0</td>\n      <td>-99.0</td>\n      <td>5.0</td>\n      <td>5.0</td>\n      <td>0.0</td>\n      <td>0</td>\n      <td>3.0</td>\n      <td>3.0</td>\n      <td>-1</td>\n      <td>-1.0</td>\n    </tr>\n    <tr>\n      <th>8377</th>\n      <td>1</td>\n      <td>male</td>\n      <td>25.0</td>\n      <td>22.0</td>\n      <td>European/Caucasian-American</td>\n      <td>Asian/PacificIslander/Asian-American</td>\n      <td>1.0</td>\n      <td>1.0</td>\n      <td>20.0</td>\n      <td>20.0</td>\n      <td>10.0</td>\n      <td>15.0</td>\n      <td>5.0</td>\n      <td>30.0</td>\n      <td>8.0</td>\n      <td>8.0</td>\n      <td>7.0</td>\n      <td>7.0</td>\n      <td>7.0</td>\n      <td>7.0</td>\n      <td>...</td>\n      <td>15.0</td>\n      <td>0.0</td>\n      <td>0.0</td>\n      <td>3.0</td>\n      <td>7.0</td>\n      <td>6.0</td>\n      <td>4.0</td>\n      <td>8.0</td>\n      <td>1.0</td>\n      <td>0.01</td>\n      <td>10.0</td>\n      <td>-99.0</td>\n      <td>4.0</td>\n      <td>5.0</td>\n      <td>0.0</td>\n      <td>0</td>\n      <td>3.0</td>\n      <td>3.0</td>\n      <td>-1</td>\n      <td>-1.0</td>\n    </tr>\n  </tbody>\n</table>\n<p>8130 rows × 43 columns</p>\n</div>"
     },
     "execution_count": 14,
     "metadata": {},
     "output_type": "execute_result"
    }
   ],
   "source": [
    "data"
   ],
   "metadata": {
    "collapsed": false,
    "pycharm": {
     "name": "#%%\n"
    }
   }
  },
  {
   "cell_type": "code",
   "execution_count": 15,
   "outputs": [],
   "source": [
    "def rating(data, importance , score) : # 함수 정의\n",
    "    if data[importance] == -99 :\n",
    "        return -99\n",
    "    elif data[score] == -99 :\n",
    "        return -99\n",
    "    else:\n",
    "        return data[importance] * data[score];"
   ],
   "metadata": {
    "collapsed": false,
    "pycharm": {
     "name": "#%%\n"
    }
   }
  },
  {
   "cell_type": "code",
   "execution_count": 16,
   "outputs": [
    {
     "data": {
      "text/plain": "Index(['pref_o_attractive', 'pref_o_sincere', 'pref_o_intelligence',\n       'pref_o_funny', 'pref_o_ambitious', 'pref_o_shared_interests'],\n      dtype='object')"
     },
     "execution_count": 16,
     "metadata": {},
     "output_type": "execute_result"
    }
   ],
   "source": [
    "data.columns[8:14]"
   ],
   "metadata": {
    "collapsed": false,
    "pycharm": {
     "name": "#%%\n"
    }
   }
  },
  {
   "cell_type": "code",
   "execution_count": 17,
   "outputs": [],
   "source": [
    "partner_imp = data.columns[8:14] # 상대방 중요도\n",
    "partner_rate_me = data.columns[14:20] # 본인에 대한 상대방의 평가\n",
    "my_imp = data.columns[20:26] # 본인의 중요도\n",
    "my_rate_partner = data.columns[26:32]  # 상대방에 대한 본인의 평가"
   ],
   "metadata": {
    "collapsed": false,
    "pycharm": {
     "name": "#%%\n"
    }
   }
  },
  {
   "cell_type": "code",
   "execution_count": 18,
   "outputs": [
    {
     "data": {
      "text/plain": "Index(['pref_o_attractive', 'pref_o_sincere', 'pref_o_intelligence',\n       'pref_o_funny', 'pref_o_ambitious', 'pref_o_shared_interests'],\n      dtype='object')"
     },
     "execution_count": 18,
     "metadata": {},
     "output_type": "execute_result"
    }
   ],
   "source": [
    "partner_imp"
   ],
   "metadata": {
    "collapsed": false,
    "pycharm": {
     "name": "#%%\n"
    }
   }
  },
  {
   "cell_type": "code",
   "execution_count": 19,
   "outputs": [],
   "source": [
    "new_label_partner = ['attractive_p' , 'sincere_partner_p' , 'intelligence_p' , 'funny_p' , 'ambition_p' , 'shared_interests_p']\n",
    "\n",
    "# 상대방 관련 새 변수\n",
    "\n",
    "new_label_me = ['attractive_m' , 'sincere_partner_m' , 'intelligence_m' , 'funny_m' , 'ambition_m' , 'shared_interests_m']\n",
    "\n",
    "# 본인 관련 새 변수"
   ],
   "metadata": {
    "collapsed": false,
    "pycharm": {
     "name": "#%%\n"
    }
   }
  },
  {
   "cell_type": "code",
   "execution_count": 20,
   "outputs": [],
   "source": [
    "for i,j,k in zip(new_label_partner , partner_imp , partner_rate_me) :\n",
    "    data[i] = data.apply(lambda x : rating(x,j,k) , axis =1 )  # x= 데이터프레임, j = 중요도 변수 이름  , k = 평가 변수"
   ],
   "metadata": {
    "collapsed": false,
    "pycharm": {
     "name": "#%%\n"
    }
   }
  },
  {
   "cell_type": "code",
   "execution_count": 21,
   "outputs": [],
   "source": [
    "for i,j,k in zip(new_label_me, my_imp , my_rate_partner):\n",
    "    data[i] = data.apply(lambda x : rating(x,j,k) , axis =1 )"
   ],
   "metadata": {
    "collapsed": false,
    "pycharm": {
     "name": "#%%\n"
    }
   }
  },
  {
   "cell_type": "code",
   "execution_count": 22,
   "outputs": [
    {
     "data": {
      "text/plain": "      has_null   age  age_o  importance_same_race  importance_same_religion  \\\n0            0  21.0   27.0                   2.0                       4.0   \n1            0  21.0   22.0                   2.0                       4.0   \n2            1  21.0   22.0                   2.0                       4.0   \n3            0  21.0   23.0                   2.0                       4.0   \n4            0  21.0   24.0                   2.0                       4.0   \n...        ...   ...    ...                   ...                       ...   \n8372         1  25.0   24.0                   1.0                       1.0   \n8373         1  25.0   26.0                   1.0                       1.0   \n8374         1  25.0   24.0                   1.0                       1.0   \n8376         1  25.0   22.0                   1.0                       1.0   \n8377         1  25.0   22.0                   1.0                       1.0   \n\n      pref_o_attractive  pref_o_sincere  pref_o_intelligence  pref_o_funny  \\\n0                  35.0            20.0                 20.0          20.0   \n1                  60.0             0.0                  0.0          40.0   \n2                  19.0            18.0                 19.0          18.0   \n3                  30.0             5.0                 15.0          40.0   \n4                  30.0            10.0                 20.0          10.0   \n...                 ...             ...                  ...           ...   \n8372               10.0            15.0                 30.0          20.0   \n8373               10.0            10.0                 30.0          20.0   \n8374               50.0            20.0                 10.0           5.0   \n8376               10.0            25.0                 25.0          10.0   \n8377               20.0            20.0                 10.0          15.0   \n\n      pref_o_ambitious  pref_o_shared_interests  attractive_o  sincere_o  \\\n0                  0.0                      5.0           6.0        8.0   \n1                  0.0                      0.0           7.0        8.0   \n2                 14.0                     12.0          10.0       10.0   \n3                  5.0                      5.0           7.0        8.0   \n4                 10.0                     20.0           8.0        7.0   \n...                ...                      ...           ...        ...   \n8372              15.0                     10.0           8.0        8.0   \n8373              10.0                     15.0          10.0        5.0   \n8374              10.0                      5.0           6.0        3.0   \n8376              10.0                     20.0           5.0        7.0   \n8377               5.0                     30.0           8.0        8.0   \n\n      intelligence_o  funny_o  ambitous_o  shared_interests_o  \\\n0                8.0      8.0         8.0                 6.0   \n1               10.0      7.0         7.0                 5.0   \n2               10.0     10.0        10.0                10.0   \n3                9.0      8.0         9.0                 8.0   \n4                9.0      6.0         9.0                 7.0   \n...              ...      ...         ...                 ...   \n8372             7.0      7.0         8.0                 6.0   \n8373             3.0      2.0         6.0                 5.0   \n8374             7.0      3.0         7.0                 2.0   \n8376             5.0      5.0         3.0                 6.0   \n8377             7.0      7.0         7.0                 7.0   \n\n      attractive_important  sincere_important  intellicence_important  ...  \\\n0                     15.0               20.0                    20.0  ...   \n1                     15.0               20.0                    20.0  ...   \n2                     15.0               20.0                    20.0  ...   \n3                     15.0               20.0                    20.0  ...   \n4                     15.0               20.0                    20.0  ...   \n...                    ...                ...                     ...  ...   \n8372                  70.0                0.0                    15.0  ...   \n8373                  70.0                0.0                    15.0  ...   \n8374                  70.0                0.0                    15.0  ...   \n8376                  70.0                0.0                    15.0  ...   \n8377                  70.0                0.0                    15.0  ...   \n\n      sincere_partner_p  intelligence_p  funny_p  ambition_p  \\\n0                 160.0           160.0    160.0         0.0   \n1                   0.0             0.0    280.0         0.0   \n2                 180.0           190.0    180.0       140.0   \n3                  40.0           135.0    320.0        45.0   \n4                  70.0           180.0     60.0        90.0   \n...                 ...             ...      ...         ...   \n8372              120.0           210.0    140.0       120.0   \n8373               50.0            90.0     40.0        60.0   \n8374               60.0            70.0     15.0        70.0   \n8376              175.0           125.0     50.0        30.0   \n8377              160.0            70.0    105.0        35.0   \n\n      shared_interests_p  attractive_m  sincere_partner_m  intelligence_m  \\\n0                   30.0          90.0              180.0           140.0   \n1                    0.0         105.0              160.0           140.0   \n2                  120.0          75.0              160.0           180.0   \n3                   40.0         105.0              120.0           160.0   \n4                  140.0          75.0              120.0           140.0   \n...                  ...           ...                ...             ...   \n8372                60.0         490.0                0.0            75.0   \n8373                75.0         210.0                0.0            75.0   \n8374                10.0         280.0                0.0           120.0   \n8376               120.0         280.0                0.0            75.0   \n8377               210.0         210.0                0.0            90.0   \n\n      funny_m  ambition_m  shared_interests_m  gender_male  \\\n0       105.0        90.0                75.0            0   \n1       120.0        75.0                90.0            0   \n2       120.0        75.0               105.0            0   \n3       105.0        90.0               120.0            0   \n4       105.0        90.0                90.0            0   \n...       ...         ...                 ...          ...   \n8372     75.0         0.0               -99.0            1   \n8373     75.0       -99.0               -99.0            1   \n8374     60.0         0.0               -99.0            1   \n8376     60.0       -99.0                 0.0            1   \n8377     60.0         0.0                 0.0            1   \n\n      race_Black/AfricanAmerican  race_European/Caucasian-American  \\\n0                              0                                 0   \n1                              0                                 0   \n2                              0                                 0   \n3                              0                                 0   \n4                              0                                 0   \n...                          ...                               ...   \n8372                           0                                 1   \n8373                           0                                 1   \n8374                           0                                 1   \n8376                           0                                 1   \n8377                           0                                 1   \n\n      race_Latino/HispanicAmerican  race_Other  race_o_Black/AfricanAmerican  \\\n0                                0           0                             0   \n1                                0           0                             0   \n2                                0           0                             0   \n3                                0           0                             0   \n4                                0           0                             0   \n...                            ...         ...                           ...   \n8372                             0           0                             0   \n8373                             0           0                             0   \n8374                             0           0                             0   \n8376                             0           0                             0   \n8377                             0           0                             0   \n\n      race_o_European/Caucasian-American  race_o_Latino/HispanicAmerican  \\\n0                                      1                               0   \n1                                      1                               0   \n2                                      0                               0   \n3                                      1                               0   \n4                                      0                               1   \n...                                  ...                             ...   \n8372                                   1                               0   \n8373                                   0                               1   \n8374                                   0                               0   \n8376                                   0                               0   \n8377                                   0                               0   \n\n      race_o_Other  \n0                0  \n1                0  \n2                0  \n3                0  \n4                0  \n...            ...  \n8372             0  \n8373             0  \n8374             1  \n8376             0  \n8377             0  \n\n[8130 rows x 61 columns]",
      "text/html": "<div>\n<style scoped>\n    .dataframe tbody tr th:only-of-type {\n        vertical-align: middle;\n    }\n\n    .dataframe tbody tr th {\n        vertical-align: top;\n    }\n\n    .dataframe thead th {\n        text-align: right;\n    }\n</style>\n<table border=\"1\" class=\"dataframe\">\n  <thead>\n    <tr style=\"text-align: right;\">\n      <th></th>\n      <th>has_null</th>\n      <th>age</th>\n      <th>age_o</th>\n      <th>importance_same_race</th>\n      <th>importance_same_religion</th>\n      <th>pref_o_attractive</th>\n      <th>pref_o_sincere</th>\n      <th>pref_o_intelligence</th>\n      <th>pref_o_funny</th>\n      <th>pref_o_ambitious</th>\n      <th>pref_o_shared_interests</th>\n      <th>attractive_o</th>\n      <th>sincere_o</th>\n      <th>intelligence_o</th>\n      <th>funny_o</th>\n      <th>ambitous_o</th>\n      <th>shared_interests_o</th>\n      <th>attractive_important</th>\n      <th>sincere_important</th>\n      <th>intellicence_important</th>\n      <th>...</th>\n      <th>sincere_partner_p</th>\n      <th>intelligence_p</th>\n      <th>funny_p</th>\n      <th>ambition_p</th>\n      <th>shared_interests_p</th>\n      <th>attractive_m</th>\n      <th>sincere_partner_m</th>\n      <th>intelligence_m</th>\n      <th>funny_m</th>\n      <th>ambition_m</th>\n      <th>shared_interests_m</th>\n      <th>gender_male</th>\n      <th>race_Black/AfricanAmerican</th>\n      <th>race_European/Caucasian-American</th>\n      <th>race_Latino/HispanicAmerican</th>\n      <th>race_Other</th>\n      <th>race_o_Black/AfricanAmerican</th>\n      <th>race_o_European/Caucasian-American</th>\n      <th>race_o_Latino/HispanicAmerican</th>\n      <th>race_o_Other</th>\n    </tr>\n  </thead>\n  <tbody>\n    <tr>\n      <th>0</th>\n      <td>0</td>\n      <td>21.0</td>\n      <td>27.0</td>\n      <td>2.0</td>\n      <td>4.0</td>\n      <td>35.0</td>\n      <td>20.0</td>\n      <td>20.0</td>\n      <td>20.0</td>\n      <td>0.0</td>\n      <td>5.0</td>\n      <td>6.0</td>\n      <td>8.0</td>\n      <td>8.0</td>\n      <td>8.0</td>\n      <td>8.0</td>\n      <td>6.0</td>\n      <td>15.0</td>\n      <td>20.0</td>\n      <td>20.0</td>\n      <td>...</td>\n      <td>160.0</td>\n      <td>160.0</td>\n      <td>160.0</td>\n      <td>0.0</td>\n      <td>30.0</td>\n      <td>90.0</td>\n      <td>180.0</td>\n      <td>140.0</td>\n      <td>105.0</td>\n      <td>90.0</td>\n      <td>75.0</td>\n      <td>0</td>\n      <td>0</td>\n      <td>0</td>\n      <td>0</td>\n      <td>0</td>\n      <td>0</td>\n      <td>1</td>\n      <td>0</td>\n      <td>0</td>\n    </tr>\n    <tr>\n      <th>1</th>\n      <td>0</td>\n      <td>21.0</td>\n      <td>22.0</td>\n      <td>2.0</td>\n      <td>4.0</td>\n      <td>60.0</td>\n      <td>0.0</td>\n      <td>0.0</td>\n      <td>40.0</td>\n      <td>0.0</td>\n      <td>0.0</td>\n      <td>7.0</td>\n      <td>8.0</td>\n      <td>10.0</td>\n      <td>7.0</td>\n      <td>7.0</td>\n      <td>5.0</td>\n      <td>15.0</td>\n      <td>20.0</td>\n      <td>20.0</td>\n      <td>...</td>\n      <td>0.0</td>\n      <td>0.0</td>\n      <td>280.0</td>\n      <td>0.0</td>\n      <td>0.0</td>\n      <td>105.0</td>\n      <td>160.0</td>\n      <td>140.0</td>\n      <td>120.0</td>\n      <td>75.0</td>\n      <td>90.0</td>\n      <td>0</td>\n      <td>0</td>\n      <td>0</td>\n      <td>0</td>\n      <td>0</td>\n      <td>0</td>\n      <td>1</td>\n      <td>0</td>\n      <td>0</td>\n    </tr>\n    <tr>\n      <th>2</th>\n      <td>1</td>\n      <td>21.0</td>\n      <td>22.0</td>\n      <td>2.0</td>\n      <td>4.0</td>\n      <td>19.0</td>\n      <td>18.0</td>\n      <td>19.0</td>\n      <td>18.0</td>\n      <td>14.0</td>\n      <td>12.0</td>\n      <td>10.0</td>\n      <td>10.0</td>\n      <td>10.0</td>\n      <td>10.0</td>\n      <td>10.0</td>\n      <td>10.0</td>\n      <td>15.0</td>\n      <td>20.0</td>\n      <td>20.0</td>\n      <td>...</td>\n      <td>180.0</td>\n      <td>190.0</td>\n      <td>180.0</td>\n      <td>140.0</td>\n      <td>120.0</td>\n      <td>75.0</td>\n      <td>160.0</td>\n      <td>180.0</td>\n      <td>120.0</td>\n      <td>75.0</td>\n      <td>105.0</td>\n      <td>0</td>\n      <td>0</td>\n      <td>0</td>\n      <td>0</td>\n      <td>0</td>\n      <td>0</td>\n      <td>0</td>\n      <td>0</td>\n      <td>0</td>\n    </tr>\n    <tr>\n      <th>3</th>\n      <td>0</td>\n      <td>21.0</td>\n      <td>23.0</td>\n      <td>2.0</td>\n      <td>4.0</td>\n      <td>30.0</td>\n      <td>5.0</td>\n      <td>15.0</td>\n      <td>40.0</td>\n      <td>5.0</td>\n      <td>5.0</td>\n      <td>7.0</td>\n      <td>8.0</td>\n      <td>9.0</td>\n      <td>8.0</td>\n      <td>9.0</td>\n      <td>8.0</td>\n      <td>15.0</td>\n      <td>20.0</td>\n      <td>20.0</td>\n      <td>...</td>\n      <td>40.0</td>\n      <td>135.0</td>\n      <td>320.0</td>\n      <td>45.0</td>\n      <td>40.0</td>\n      <td>105.0</td>\n      <td>120.0</td>\n      <td>160.0</td>\n      <td>105.0</td>\n      <td>90.0</td>\n      <td>120.0</td>\n      <td>0</td>\n      <td>0</td>\n      <td>0</td>\n      <td>0</td>\n      <td>0</td>\n      <td>0</td>\n      <td>1</td>\n      <td>0</td>\n      <td>0</td>\n    </tr>\n    <tr>\n      <th>4</th>\n      <td>0</td>\n      <td>21.0</td>\n      <td>24.0</td>\n      <td>2.0</td>\n      <td>4.0</td>\n      <td>30.0</td>\n      <td>10.0</td>\n      <td>20.0</td>\n      <td>10.0</td>\n      <td>10.0</td>\n      <td>20.0</td>\n      <td>8.0</td>\n      <td>7.0</td>\n      <td>9.0</td>\n      <td>6.0</td>\n      <td>9.0</td>\n      <td>7.0</td>\n      <td>15.0</td>\n      <td>20.0</td>\n      <td>20.0</td>\n      <td>...</td>\n      <td>70.0</td>\n      <td>180.0</td>\n      <td>60.0</td>\n      <td>90.0</td>\n      <td>140.0</td>\n      <td>75.0</td>\n      <td>120.0</td>\n      <td>140.0</td>\n      <td>105.0</td>\n      <td>90.0</td>\n      <td>90.0</td>\n      <td>0</td>\n      <td>0</td>\n      <td>0</td>\n      <td>0</td>\n      <td>0</td>\n      <td>0</td>\n      <td>0</td>\n      <td>1</td>\n      <td>0</td>\n    </tr>\n    <tr>\n      <th>...</th>\n      <td>...</td>\n      <td>...</td>\n      <td>...</td>\n      <td>...</td>\n      <td>...</td>\n      <td>...</td>\n      <td>...</td>\n      <td>...</td>\n      <td>...</td>\n      <td>...</td>\n      <td>...</td>\n      <td>...</td>\n      <td>...</td>\n      <td>...</td>\n      <td>...</td>\n      <td>...</td>\n      <td>...</td>\n      <td>...</td>\n      <td>...</td>\n      <td>...</td>\n      <td>...</td>\n      <td>...</td>\n      <td>...</td>\n      <td>...</td>\n      <td>...</td>\n      <td>...</td>\n      <td>...</td>\n      <td>...</td>\n      <td>...</td>\n      <td>...</td>\n      <td>...</td>\n      <td>...</td>\n      <td>...</td>\n      <td>...</td>\n      <td>...</td>\n      <td>...</td>\n      <td>...</td>\n      <td>...</td>\n      <td>...</td>\n      <td>...</td>\n      <td>...</td>\n    </tr>\n    <tr>\n      <th>8372</th>\n      <td>1</td>\n      <td>25.0</td>\n      <td>24.0</td>\n      <td>1.0</td>\n      <td>1.0</td>\n      <td>10.0</td>\n      <td>15.0</td>\n      <td>30.0</td>\n      <td>20.0</td>\n      <td>15.0</td>\n      <td>10.0</td>\n      <td>8.0</td>\n      <td>8.0</td>\n      <td>7.0</td>\n      <td>7.0</td>\n      <td>8.0</td>\n      <td>6.0</td>\n      <td>70.0</td>\n      <td>0.0</td>\n      <td>15.0</td>\n      <td>...</td>\n      <td>120.0</td>\n      <td>210.0</td>\n      <td>140.0</td>\n      <td>120.0</td>\n      <td>60.0</td>\n      <td>490.0</td>\n      <td>0.0</td>\n      <td>75.0</td>\n      <td>75.0</td>\n      <td>0.0</td>\n      <td>-99.0</td>\n      <td>1</td>\n      <td>0</td>\n      <td>1</td>\n      <td>0</td>\n      <td>0</td>\n      <td>0</td>\n      <td>1</td>\n      <td>0</td>\n      <td>0</td>\n    </tr>\n    <tr>\n      <th>8373</th>\n      <td>1</td>\n      <td>25.0</td>\n      <td>26.0</td>\n      <td>1.0</td>\n      <td>1.0</td>\n      <td>10.0</td>\n      <td>10.0</td>\n      <td>30.0</td>\n      <td>20.0</td>\n      <td>10.0</td>\n      <td>15.0</td>\n      <td>10.0</td>\n      <td>5.0</td>\n      <td>3.0</td>\n      <td>2.0</td>\n      <td>6.0</td>\n      <td>5.0</td>\n      <td>70.0</td>\n      <td>0.0</td>\n      <td>15.0</td>\n      <td>...</td>\n      <td>50.0</td>\n      <td>90.0</td>\n      <td>40.0</td>\n      <td>60.0</td>\n      <td>75.0</td>\n      <td>210.0</td>\n      <td>0.0</td>\n      <td>75.0</td>\n      <td>75.0</td>\n      <td>-99.0</td>\n      <td>-99.0</td>\n      <td>1</td>\n      <td>0</td>\n      <td>1</td>\n      <td>0</td>\n      <td>0</td>\n      <td>0</td>\n      <td>0</td>\n      <td>1</td>\n      <td>0</td>\n    </tr>\n    <tr>\n      <th>8374</th>\n      <td>1</td>\n      <td>25.0</td>\n      <td>24.0</td>\n      <td>1.0</td>\n      <td>1.0</td>\n      <td>50.0</td>\n      <td>20.0</td>\n      <td>10.0</td>\n      <td>5.0</td>\n      <td>10.0</td>\n      <td>5.0</td>\n      <td>6.0</td>\n      <td>3.0</td>\n      <td>7.0</td>\n      <td>3.0</td>\n      <td>7.0</td>\n      <td>2.0</td>\n      <td>70.0</td>\n      <td>0.0</td>\n      <td>15.0</td>\n      <td>...</td>\n      <td>60.0</td>\n      <td>70.0</td>\n      <td>15.0</td>\n      <td>70.0</td>\n      <td>10.0</td>\n      <td>280.0</td>\n      <td>0.0</td>\n      <td>120.0</td>\n      <td>60.0</td>\n      <td>0.0</td>\n      <td>-99.0</td>\n      <td>1</td>\n      <td>0</td>\n      <td>1</td>\n      <td>0</td>\n      <td>0</td>\n      <td>0</td>\n      <td>0</td>\n      <td>0</td>\n      <td>1</td>\n    </tr>\n    <tr>\n      <th>8376</th>\n      <td>1</td>\n      <td>25.0</td>\n      <td>22.0</td>\n      <td>1.0</td>\n      <td>1.0</td>\n      <td>10.0</td>\n      <td>25.0</td>\n      <td>25.0</td>\n      <td>10.0</td>\n      <td>10.0</td>\n      <td>20.0</td>\n      <td>5.0</td>\n      <td>7.0</td>\n      <td>5.0</td>\n      <td>5.0</td>\n      <td>3.0</td>\n      <td>6.0</td>\n      <td>70.0</td>\n      <td>0.0</td>\n      <td>15.0</td>\n      <td>...</td>\n      <td>175.0</td>\n      <td>125.0</td>\n      <td>50.0</td>\n      <td>30.0</td>\n      <td>120.0</td>\n      <td>280.0</td>\n      <td>0.0</td>\n      <td>75.0</td>\n      <td>60.0</td>\n      <td>-99.0</td>\n      <td>0.0</td>\n      <td>1</td>\n      <td>0</td>\n      <td>1</td>\n      <td>0</td>\n      <td>0</td>\n      <td>0</td>\n      <td>0</td>\n      <td>0</td>\n      <td>0</td>\n    </tr>\n    <tr>\n      <th>8377</th>\n      <td>1</td>\n      <td>25.0</td>\n      <td>22.0</td>\n      <td>1.0</td>\n      <td>1.0</td>\n      <td>20.0</td>\n      <td>20.0</td>\n      <td>10.0</td>\n      <td>15.0</td>\n      <td>5.0</td>\n      <td>30.0</td>\n      <td>8.0</td>\n      <td>8.0</td>\n      <td>7.0</td>\n      <td>7.0</td>\n      <td>7.0</td>\n      <td>7.0</td>\n      <td>70.0</td>\n      <td>0.0</td>\n      <td>15.0</td>\n      <td>...</td>\n      <td>160.0</td>\n      <td>70.0</td>\n      <td>105.0</td>\n      <td>35.0</td>\n      <td>210.0</td>\n      <td>210.0</td>\n      <td>0.0</td>\n      <td>90.0</td>\n      <td>60.0</td>\n      <td>0.0</td>\n      <td>0.0</td>\n      <td>1</td>\n      <td>0</td>\n      <td>1</td>\n      <td>0</td>\n      <td>0</td>\n      <td>0</td>\n      <td>0</td>\n      <td>0</td>\n      <td>0</td>\n    </tr>\n  </tbody>\n</table>\n<p>8130 rows × 61 columns</p>\n</div>"
     },
     "execution_count": 22,
     "metadata": {},
     "output_type": "execute_result"
    }
   ],
   "source": [
    "data = pd.get_dummies(data , columns = ['gender' , 'race' , 'race_o'] , drop_first= True) # 더미 변수로 변환\n",
    "\n",
    "data"
   ],
   "metadata": {
    "collapsed": false,
    "pycharm": {
     "name": "#%%\n"
    }
   }
  },
  {
   "cell_type": "code",
   "execution_count": 23,
   "outputs": [],
   "source": [
    "from sklearn.model_selection import train_test_split\n",
    "\n",
    "X_train , X_test , y_train , y_test = train_test_split(data.drop('match', axis =1) , data['match'] , test_size= 0.2 , random_state= 100) # 훈련셋/ 시험셋 분리"
   ],
   "metadata": {
    "collapsed": false,
    "pycharm": {
     "name": "#%%\n"
    }
   }
  },
  {
   "cell_type": "code",
   "execution_count": 24,
   "outputs": [
    {
     "name": "stdout",
     "output_type": "stream",
     "text": [
      "Collecting xgboost\n",
      "  Downloading xgboost-1.7.3-py3-none-win_amd64.whl (89.1 MB)\n",
      "     ---------------------------------------- 89.1/89.1 MB 8.7 MB/s eta 0:00:00\n",
      "Requirement already satisfied: numpy in c:\\users\\andyp\\anaconda3\\lib\\site-packages (from xgboost) (1.20.1)\n",
      "Requirement already satisfied: scipy in c:\\users\\andyp\\anaconda3\\lib\\site-packages (from xgboost) (1.6.2)\n",
      "Installing collected packages: xgboost\n",
      "Successfully installed xgboost-1.7.3\n"
     ]
    },
    {
     "name": "stderr",
     "output_type": "stream",
     "text": [
      "WARNING: Ignoring invalid distribution -pencv-python-headless (c:\\users\\andyp\\anaconda3\\lib\\site-packages)\n",
      "WARNING: Ignoring invalid distribution -pencv-python-headless (c:\\users\\andyp\\anaconda3\\lib\\site-packages)\n",
      "WARNING: Ignoring invalid distribution -pencv-python-headless (c:\\users\\andyp\\anaconda3\\lib\\site-packages)\n",
      "WARNING: Ignoring invalid distribution -pencv-python-headless (c:\\users\\andyp\\anaconda3\\lib\\site-packages)\n",
      "WARNING: Ignoring invalid distribution -pencv-python-headless (c:\\users\\andyp\\anaconda3\\lib\\site-packages)\n",
      "WARNING: Ignoring invalid distribution -pencv-python-headless (c:\\users\\andyp\\anaconda3\\lib\\site-packages)\n",
      "WARNING: Ignoring invalid distribution -pencv-python-headless (c:\\users\\andyp\\anaconda3\\lib\\site-packages)\n",
      "\n",
      "[notice] A new release of pip available: 22.2.2 -> 22.3.1\n",
      "[notice] To update, run: python.exe -m pip install --upgrade pip\n"
     ]
    }
   ],
   "source": [
    "!pip install --trusted-host pypi.python.org --trusted-host files.pythonhosted.org --trusted-host pypi.org xgboost"
   ],
   "metadata": {
    "collapsed": false,
    "pycharm": {
     "name": "#%%\n"
    }
   }
  },
  {
   "cell_type": "code",
   "execution_count": 25,
   "outputs": [
    {
     "data": {
      "text/plain": "0.8616236162361623"
     },
     "execution_count": 25,
     "metadata": {},
     "output_type": "execute_result"
    }
   ],
   "source": [
    "import xgboost as xgb\n",
    "\n",
    "model = xgb.XGBClassifier(n_estimators = 500 , max_depth = 5 , random_state = 100) # 모델 객체 생성\n",
    "\n",
    "model.fit(X_train , y_train) # 훈련\n",
    "\n",
    "pred = model.predict(X_test) # 예측\n",
    "\n",
    "from sklearn.metrics import accuracy_score , confusion_matrix , classification_report\n",
    "\n",
    "accuracy_score(y_test , pred) # 정확도"
   ],
   "metadata": {
    "collapsed": false,
    "pycharm": {
     "name": "#%%\n"
    }
   }
  },
  {
   "cell_type": "code",
   "execution_count": 26,
   "outputs": [
    {
     "name": "stdout",
     "output_type": "stream",
     "text": [
      "[[1291   74]\n",
      " [ 151  110]]\n"
     ]
    }
   ],
   "source": [
    "print(confusion_matrix(y_test , pred))"
   ],
   "metadata": {
    "collapsed": false,
    "pycharm": {
     "name": "#%%\n"
    }
   }
  },
  {
   "cell_type": "code",
   "execution_count": 27,
   "outputs": [
    {
     "name": "stdout",
     "output_type": "stream",
     "text": [
      "              precision    recall  f1-score   support\n",
      "\n",
      "           0       0.90      0.95      0.92      1365\n",
      "           1       0.60      0.42      0.49       261\n",
      "\n",
      "    accuracy                           0.86      1626\n",
      "   macro avg       0.75      0.68      0.71      1626\n",
      "weighted avg       0.85      0.86      0.85      1626\n",
      "\n"
     ]
    }
   ],
   "source": [
    "print(classification_report(y_test , pred))"
   ],
   "metadata": {
    "collapsed": false,
    "pycharm": {
     "name": "#%%\n"
    }
   }
  },
  {
   "cell_type": "code",
   "execution_count": 28,
   "outputs": [],
   "source": [
    "max_depth = [3,5,10]\n",
    "learning_rate = [0.01, 0.05 , 0.1]\n",
    "\n",
    "#==> 그리드 서치 적용시 9가지 조합 생성\n",
    "\n",
    "# 9가지 조합을 각각 모델링 ==> 그리드 서치에서는 교차검증도 함께 사용 ==> 교차검증의 횟수만큼 곱해진 횟수가 모델링"
   ],
   "metadata": {
    "collapsed": false,
    "pycharm": {
     "name": "#%%\n"
    }
   }
  },
  {
   "cell_type": "code",
   "execution_count": 29,
   "outputs": [],
   "source": [
    "from sklearn.model_selection import GridSearchCV #import\n",
    "\n",
    "parameters = {\n",
    "    'learning_rate' : [0.01 , 0.1 , 0.3] ,\n",
    "    'max_depth' : [5 , 7 , 10] ,\n",
    "    'subsample' : [0.5 , 0.7 , 1] ,\n",
    "    'n_estimators' : [300, 500 , 1000]\n",
    "} # 하이퍼파라미터 셋 정의"
   ],
   "metadata": {
    "collapsed": false,
    "pycharm": {
     "name": "#%%\n"
    }
   }
  },
  {
   "cell_type": "code",
   "execution_count": 30,
   "outputs": [],
   "source": [
    "model = xgb.XGBClassifier() # 모델 객체 생성"
   ],
   "metadata": {
    "collapsed": false,
    "pycharm": {
     "name": "#%%\n"
    }
   }
  },
  {
   "cell_type": "code",
   "execution_count": 31,
   "outputs": [],
   "source": [
    "gs_model = GridSearchCV(model , parameters ,n_jobs=-1 , scoring='f1' , cv = 5) # n_jobs 는 사용할 코어 수 , scoring은 모델링할때 어떤 기준으로 최적의 모델을 평가할지, cv는 K-FOLD 값"
   ],
   "metadata": {
    "collapsed": false,
    "pycharm": {
     "name": "#%%\n"
    }
   }
  },
  {
   "cell_type": "code",
   "execution_count": 32,
   "outputs": [
    {
     "data": {
      "text/plain": "GridSearchCV(cv=5,\n             estimator=XGBClassifier(base_score=None, booster=None,\n                                     callbacks=None, colsample_bylevel=None,\n                                     colsample_bynode=None,\n                                     colsample_bytree=None,\n                                     early_stopping_rounds=None,\n                                     enable_categorical=False, eval_metric=None,\n                                     feature_types=None, gamma=None,\n                                     gpu_id=None, grow_policy=None,\n                                     importance_type=None,\n                                     interaction_constraints=None,\n                                     learning_rate=None,...\n                                     max_cat_to_onehot=None,\n                                     max_delta_step=None, max_depth=None,\n                                     max_leaves=None, min_child_weight=None,\n                                     missing=nan, monotone_constraints=None,\n                                     n_estimators=100, n_jobs=None,\n                                     num_parallel_tree=None, predictor=None,\n                                     random_state=None, ...),\n             n_jobs=-1,\n             param_grid={'learning_rate': [0.01, 0.1, 0.3],\n                         'max_depth': [5, 7, 10],\n                         'n_estimators': [300, 500, 1000],\n                         'subsample': [0.5, 0.7, 1]},\n             scoring='f1')"
     },
     "execution_count": 32,
     "metadata": {},
     "output_type": "execute_result"
    }
   ],
   "source": [
    "gs_model.fit(X_train , y_train) # 학습"
   ],
   "metadata": {
    "collapsed": false,
    "pycharm": {
     "name": "#%%\n"
    }
   }
  },
  {
   "cell_type": "code",
   "execution_count": 34,
   "outputs": [
    {
     "data": {
      "text/plain": "{'learning_rate': 0.300,\n 'max_depth': 5,\n 'n_estimators': 1000,\n 'subsample': 0.500}"
     },
     "execution_count": 34,
     "metadata": {},
     "output_type": "execute_result"
    }
   ],
   "source": [
    "gs_model.best_params_ # 최적의 하이퍼파라미터 출력"
   ],
   "metadata": {
    "collapsed": false,
    "pycharm": {
     "name": "#%%\n"
    }
   }
  },
  {
   "cell_type": "code",
   "execution_count": 35,
   "outputs": [],
   "source": [
    "pred = gs_model.predict(X_test)"
   ],
   "metadata": {
    "collapsed": false,
    "pycharm": {
     "name": "#%%\n"
    }
   }
  },
  {
   "cell_type": "code",
   "execution_count": 36,
   "outputs": [
    {
     "data": {
      "text/plain": "0.8610086100861009"
     },
     "execution_count": 36,
     "metadata": {},
     "output_type": "execute_result"
    }
   ],
   "source": [
    "accuracy_score(y_test , pred)"
   ],
   "metadata": {
    "collapsed": false,
    "pycharm": {
     "name": "#%%\n"
    }
   }
  },
  {
   "cell_type": "markdown",
   "source": [],
   "metadata": {
    "collapsed": false,
    "pycharm": {
     "name": "#%% md\n"
    }
   }
  },
  {
   "cell_type": "code",
   "execution_count": 38,
   "outputs": [
    {
     "name": "stdout",
     "output_type": "stream",
     "text": [
      "              precision    recall  f1-score   support\n",
      "\n",
      "           0       0.90      0.94      0.92      1365\n",
      "           1       0.59      0.44      0.50       261\n",
      "\n",
      "    accuracy                           0.86      1626\n",
      "   macro avg       0.74      0.69      0.71      1626\n",
      "weighted avg       0.85      0.86      0.85      1626\n",
      "\n"
     ]
    }
   ],
   "source": [
    "print(classification_report(y_test , pred))"
   ],
   "metadata": {
    "collapsed": false,
    "pycharm": {
     "name": "#%%\n"
    }
   }
  },
  {
   "cell_type": "code",
   "execution_count": 39,
   "outputs": [
    {
     "data": {
      "text/plain": "XGBClassifier(base_score=None, booster=None, callbacks=None,\n              colsample_bylevel=None, colsample_bynode=None,\n              colsample_bytree=None, early_stopping_rounds=None,\n              enable_categorical=False, eval_metric=None, feature_types=None,\n              gamma=None, gpu_id=None, grow_policy=None, importance_type=None,\n              interaction_constraints=None, learning_rate=0.3, max_bin=None,\n              max_cat_threshold=None, max_cat_to_onehot=None,\n              max_delta_step=None, max_depth=5, max_leaves=None,\n              min_child_weight=None, missing=nan, monotone_constraints=None,\n              n_estimators=1000, n_jobs=None, num_parallel_tree=None,\n              predictor=None, random_state=100, ...)"
     },
     "execution_count": 39,
     "metadata": {},
     "output_type": "execute_result"
    }
   ],
   "source": [
    "model = xgb.XGBClassifier(learning_rate = 0.3 , max_depth = 5 , n_estimators = 1000 , subsample = 0.5 , random_state = 100)\n",
    "\n",
    "model.fit(X_train , y_train)"
   ],
   "metadata": {
    "collapsed": false,
    "pycharm": {
     "name": "#%%\n"
    }
   }
  },
  {
   "cell_type": "code",
   "execution_count": 41,
   "outputs": [
    {
     "data": {
      "text/plain": "                              features    values\n0                             has_null  0.021781\n1                                  age  0.011376\n2                                age_o  0.009981\n3                 importance_same_race  0.009848\n4             importance_same_religion  0.010608\n5                    pref_o_attractive  0.013594\n6                       pref_o_sincere  0.010658\n7                  pref_o_intelligence  0.017140\n8                         pref_o_funny  0.011863\n9                     pref_o_ambitious  0.012067\n10             pref_o_shared_interests  0.013317\n11                        attractive_o  0.048548\n12                           sincere_o  0.012336\n13                      intelligence_o  0.014304\n14                             funny_o  0.027324\n15                          ambitous_o  0.014409\n16                  shared_interests_o  0.023331\n17                attractive_important  0.014373\n18                   sincere_important  0.011049\n19              intellicence_important  0.014723\n20                     funny_important  0.009737\n21                 ambtition_important  0.014816\n22          shared_interests_important  0.010012\n23                  attractive_partner  0.024094\n24                     sincere_partner  0.015382\n25                intelligence_partner  0.014720\n26                       funny_partner  0.027492\n27                    ambition_partner  0.014782\n28            shared_interests_partner  0.016701\n29                 interests_correlate  0.011009\n30       expected_happy_with_sd_people  0.010686\n31       expected_num_interested_in_me  0.021701\n32                                like  0.049286\n33                    guess_prob_liked  0.019516\n34                                 met  0.038243\n35                             age_gap  0.011672\n36                         age_gap_abs  0.013547\n37                           same_race  0.012230\n38                     same_race_point  0.014563\n39                        attractive_p  0.011312\n40                   sincere_partner_p  0.011884\n41                      intelligence_p  0.012980\n42                             funny_p  0.015113\n43                          ambition_p  0.010376\n44                  shared_interests_p  0.010016\n45                        attractive_m  0.013141\n46                   sincere_partner_m  0.011888\n47                      intelligence_m  0.012422\n48                             funny_m  0.011198\n49                          ambition_m  0.011190\n50                  shared_interests_m  0.011658\n51                         gender_male  0.008955\n52          race_Black/AfricanAmerican  0.017073\n53    race_European/Caucasian-American  0.012827\n54        race_Latino/HispanicAmerican  0.037656\n55                          race_Other  0.028330\n56        race_o_Black/AfricanAmerican  0.031170\n57  race_o_European/Caucasian-American  0.011367\n58      race_o_Latino/HispanicAmerican  0.023285\n59                        race_o_Other  0.013338",
      "text/html": "<div>\n<style scoped>\n    .dataframe tbody tr th:only-of-type {\n        vertical-align: middle;\n    }\n\n    .dataframe tbody tr th {\n        vertical-align: top;\n    }\n\n    .dataframe thead th {\n        text-align: right;\n    }\n</style>\n<table border=\"1\" class=\"dataframe\">\n  <thead>\n    <tr style=\"text-align: right;\">\n      <th></th>\n      <th>features</th>\n      <th>values</th>\n    </tr>\n  </thead>\n  <tbody>\n    <tr>\n      <th>0</th>\n      <td>has_null</td>\n      <td>0.021781</td>\n    </tr>\n    <tr>\n      <th>1</th>\n      <td>age</td>\n      <td>0.011376</td>\n    </tr>\n    <tr>\n      <th>2</th>\n      <td>age_o</td>\n      <td>0.009981</td>\n    </tr>\n    <tr>\n      <th>3</th>\n      <td>importance_same_race</td>\n      <td>0.009848</td>\n    </tr>\n    <tr>\n      <th>4</th>\n      <td>importance_same_religion</td>\n      <td>0.010608</td>\n    </tr>\n    <tr>\n      <th>5</th>\n      <td>pref_o_attractive</td>\n      <td>0.013594</td>\n    </tr>\n    <tr>\n      <th>6</th>\n      <td>pref_o_sincere</td>\n      <td>0.010658</td>\n    </tr>\n    <tr>\n      <th>7</th>\n      <td>pref_o_intelligence</td>\n      <td>0.017140</td>\n    </tr>\n    <tr>\n      <th>8</th>\n      <td>pref_o_funny</td>\n      <td>0.011863</td>\n    </tr>\n    <tr>\n      <th>9</th>\n      <td>pref_o_ambitious</td>\n      <td>0.012067</td>\n    </tr>\n    <tr>\n      <th>10</th>\n      <td>pref_o_shared_interests</td>\n      <td>0.013317</td>\n    </tr>\n    <tr>\n      <th>11</th>\n      <td>attractive_o</td>\n      <td>0.048548</td>\n    </tr>\n    <tr>\n      <th>12</th>\n      <td>sincere_o</td>\n      <td>0.012336</td>\n    </tr>\n    <tr>\n      <th>13</th>\n      <td>intelligence_o</td>\n      <td>0.014304</td>\n    </tr>\n    <tr>\n      <th>14</th>\n      <td>funny_o</td>\n      <td>0.027324</td>\n    </tr>\n    <tr>\n      <th>15</th>\n      <td>ambitous_o</td>\n      <td>0.014409</td>\n    </tr>\n    <tr>\n      <th>16</th>\n      <td>shared_interests_o</td>\n      <td>0.023331</td>\n    </tr>\n    <tr>\n      <th>17</th>\n      <td>attractive_important</td>\n      <td>0.014373</td>\n    </tr>\n    <tr>\n      <th>18</th>\n      <td>sincere_important</td>\n      <td>0.011049</td>\n    </tr>\n    <tr>\n      <th>19</th>\n      <td>intellicence_important</td>\n      <td>0.014723</td>\n    </tr>\n    <tr>\n      <th>20</th>\n      <td>funny_important</td>\n      <td>0.009737</td>\n    </tr>\n    <tr>\n      <th>21</th>\n      <td>ambtition_important</td>\n      <td>0.014816</td>\n    </tr>\n    <tr>\n      <th>22</th>\n      <td>shared_interests_important</td>\n      <td>0.010012</td>\n    </tr>\n    <tr>\n      <th>23</th>\n      <td>attractive_partner</td>\n      <td>0.024094</td>\n    </tr>\n    <tr>\n      <th>24</th>\n      <td>sincere_partner</td>\n      <td>0.015382</td>\n    </tr>\n    <tr>\n      <th>25</th>\n      <td>intelligence_partner</td>\n      <td>0.014720</td>\n    </tr>\n    <tr>\n      <th>26</th>\n      <td>funny_partner</td>\n      <td>0.027492</td>\n    </tr>\n    <tr>\n      <th>27</th>\n      <td>ambition_partner</td>\n      <td>0.014782</td>\n    </tr>\n    <tr>\n      <th>28</th>\n      <td>shared_interests_partner</td>\n      <td>0.016701</td>\n    </tr>\n    <tr>\n      <th>29</th>\n      <td>interests_correlate</td>\n      <td>0.011009</td>\n    </tr>\n    <tr>\n      <th>30</th>\n      <td>expected_happy_with_sd_people</td>\n      <td>0.010686</td>\n    </tr>\n    <tr>\n      <th>31</th>\n      <td>expected_num_interested_in_me</td>\n      <td>0.021701</td>\n    </tr>\n    <tr>\n      <th>32</th>\n      <td>like</td>\n      <td>0.049286</td>\n    </tr>\n    <tr>\n      <th>33</th>\n      <td>guess_prob_liked</td>\n      <td>0.019516</td>\n    </tr>\n    <tr>\n      <th>34</th>\n      <td>met</td>\n      <td>0.038243</td>\n    </tr>\n    <tr>\n      <th>35</th>\n      <td>age_gap</td>\n      <td>0.011672</td>\n    </tr>\n    <tr>\n      <th>36</th>\n      <td>age_gap_abs</td>\n      <td>0.013547</td>\n    </tr>\n    <tr>\n      <th>37</th>\n      <td>same_race</td>\n      <td>0.012230</td>\n    </tr>\n    <tr>\n      <th>38</th>\n      <td>same_race_point</td>\n      <td>0.014563</td>\n    </tr>\n    <tr>\n      <th>39</th>\n      <td>attractive_p</td>\n      <td>0.011312</td>\n    </tr>\n    <tr>\n      <th>40</th>\n      <td>sincere_partner_p</td>\n      <td>0.011884</td>\n    </tr>\n    <tr>\n      <th>41</th>\n      <td>intelligence_p</td>\n      <td>0.012980</td>\n    </tr>\n    <tr>\n      <th>42</th>\n      <td>funny_p</td>\n      <td>0.015113</td>\n    </tr>\n    <tr>\n      <th>43</th>\n      <td>ambition_p</td>\n      <td>0.010376</td>\n    </tr>\n    <tr>\n      <th>44</th>\n      <td>shared_interests_p</td>\n      <td>0.010016</td>\n    </tr>\n    <tr>\n      <th>45</th>\n      <td>attractive_m</td>\n      <td>0.013141</td>\n    </tr>\n    <tr>\n      <th>46</th>\n      <td>sincere_partner_m</td>\n      <td>0.011888</td>\n    </tr>\n    <tr>\n      <th>47</th>\n      <td>intelligence_m</td>\n      <td>0.012422</td>\n    </tr>\n    <tr>\n      <th>48</th>\n      <td>funny_m</td>\n      <td>0.011198</td>\n    </tr>\n    <tr>\n      <th>49</th>\n      <td>ambition_m</td>\n      <td>0.011190</td>\n    </tr>\n    <tr>\n      <th>50</th>\n      <td>shared_interests_m</td>\n      <td>0.011658</td>\n    </tr>\n    <tr>\n      <th>51</th>\n      <td>gender_male</td>\n      <td>0.008955</td>\n    </tr>\n    <tr>\n      <th>52</th>\n      <td>race_Black/AfricanAmerican</td>\n      <td>0.017073</td>\n    </tr>\n    <tr>\n      <th>53</th>\n      <td>race_European/Caucasian-American</td>\n      <td>0.012827</td>\n    </tr>\n    <tr>\n      <th>54</th>\n      <td>race_Latino/HispanicAmerican</td>\n      <td>0.037656</td>\n    </tr>\n    <tr>\n      <th>55</th>\n      <td>race_Other</td>\n      <td>0.028330</td>\n    </tr>\n    <tr>\n      <th>56</th>\n      <td>race_o_Black/AfricanAmerican</td>\n      <td>0.031170</td>\n    </tr>\n    <tr>\n      <th>57</th>\n      <td>race_o_European/Caucasian-American</td>\n      <td>0.011367</td>\n    </tr>\n    <tr>\n      <th>58</th>\n      <td>race_o_Latino/HispanicAmerican</td>\n      <td>0.023285</td>\n    </tr>\n    <tr>\n      <th>59</th>\n      <td>race_o_Other</td>\n      <td>0.013338</td>\n    </tr>\n  </tbody>\n</table>\n</div>"
     },
     "execution_count": 41,
     "metadata": {},
     "output_type": "execute_result"
    }
   ],
   "source": [
    "model.feature_importances_ # 변수 중요도 확인\n",
    "\n",
    "feature_imp = pd.DataFrame({'features' : X_train.columns , 'values' : model.feature_importances_}) #데이터프레임으로 전환\n",
    "\n",
    "feature_imp"
   ],
   "metadata": {
    "collapsed": false,
    "pycharm": {
     "name": "#%%\n"
    }
   }
  },
  {
   "cell_type": "code",
   "execution_count": 42,
   "outputs": [
    {
     "data": {
      "text/plain": "<matplotlib.axes._subplots.AxesSubplot at 0x230868cc400>"
     },
     "execution_count": 42,
     "metadata": {},
     "output_type": "execute_result"
    },
    {
     "data": {
      "text/plain": "<Figure size 1440x720 with 1 Axes>",
      "image/png": "[encoded data removed]"
     },
     "metadata": {
      "needs_background": "light"
     },
     "output_type": "display_data"
    }
   ],
   "source": [
    "plt.figure(figsize = (20 , 10))\n",
    "sns.barplot(x='values' , y='features' , data = feature_imp.sort_values(by = 'values' , ascending=False).head(10))"
   ],
   "metadata": {
    "collapsed": false,
    "pycharm": {
     "name": "#%%\n"
    }
   }
  },
  {
   "cell_type": "code",
   "execution_count": null,
   "outputs": [],
   "source": [],
   "metadata": {
    "collapsed": false,
    "pycharm": {
     "name": "#%%\n"
    }
   }
  }
 ],
 "metadata": {
  "kernelspec": {
   "display_name": "Python 3",
   "language": "python",
   "name": "python3"
  },
  "language_info": {
   "codemirror_mode": {
    "name": "ipython",
    "version": 2
   },
   "file_extension": ".py",
   "mimetype": "text/x-python",
   "name": "python",
   "nbconvert_exporter": "python",
   "pygments_lexer": "ipython2",
   "version": "2.7.6"
  }
 },
 "nbformat": 4,
 "nbformat_minor": 0
}