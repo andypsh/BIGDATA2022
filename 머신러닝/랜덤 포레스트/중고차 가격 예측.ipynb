{
 "cells": [
  {
   "cell_type": "code",
   "execution_count": 225,
   "metadata": {
    "collapsed": true,
    "pycharm": {
     "name": "#%%\n"
    }
   },
   "outputs": [],
   "source": [
    "import itertools\n",
    "import platform\n",
    "import matplotlib\n",
    "import pandas as pd\n",
    "import matplotlib.pyplot as plt\n",
    "from matplotlib import font_manager, rc\n",
    "import seaborn as sns\n",
    "%precision 3\n",
    "from matplotlib import pyplot as plt\n",
    "%matplotlib inline\n",
    "#그래프를 주피터 놋북에 그리기 위해\n",
    "import numpy as np\n",
    "import copy\n",
    "from matplotlib import ticker\n",
    "from scipy.stats import probplot\n",
    "from scipy import stats\n",
    "import collections\n",
    "import itertools\n",
    "import math\n",
    "#from varname import nameof\n",
    "import sys\n",
    "from scipy import stats\n",
    "from scipy.stats import bernoulli\n",
    "import scipy\n",
    "from collections import deque\n",
    "from sympy import Symbol, solve\n",
    "import matplotlib.patches as patches\n",
    "\n",
    "\n",
    "##################머신러닝 모듈 ################\n",
    "\n",
    "from sklearn.model_selection import train_test_split #사이킷런 import\n",
    "from sklearn.linear_model import LinearRegression\n",
    "\n",
    "#히스토그램 그리기\n",
    "# Window\n",
    "if platform.system() == 'Windows':\n",
    "    matplotlib.rc('font', family='Malgun Gothic')\n",
    "elif platform.system() == 'Darwin': # Mac\n",
    "    matplotlib.rc('font', family='AppleGothic')\n",
    "else: #linux\n",
    "    matplotlib.rc('font', family='NanumGothic')\n",
    "\n",
    "# 그래프에 마이너스 표시가 되도록 변경\n",
    "matplotlib.rcParams['axes.unicode_minus'] = False\n",
    "\n",
    "# 한글 폰트 설정\n",
    "font_location = 'C:/Windows/Fonts/MALGUNSL.TTF' #맑은고딕\n",
    "font_name = font_manager.FontProperties(fname=font_location).get_name()\n",
    "rc('font',family=font_name)\n"
   ]
  },
  {
   "cell_type": "code",
   "execution_count": 226,
   "outputs": [
    {
     "data": {
      "text/plain": "                           name  year  selling_price  km_driven    fuel  \\\n0        Maruti Swift Dzire VDI  2014         450000     145500  Diesel   \n1  Skoda Rapid 1.5 TDI Ambition  2014         370000     120000  Diesel   \n2      Honda City 2017-2020 EXi  2006         158000     140000  Petrol   \n3     Hyundai i20 Sportz Diesel  2010         225000     127000  Diesel   \n4        Maruti Swift VXI BSIII  2007         130000     120000  Petrol   \n\n  seller_type transmission         owner     mileage   engine   max_power  \\\n0  Individual       Manual   First Owner   23.4 kmpl  1248 CC      74 bhp   \n1  Individual       Manual  Second Owner  21.14 kmpl  1498 CC  103.52 bhp   \n2  Individual       Manual   Third Owner   17.7 kmpl  1497 CC      78 bhp   \n3  Individual       Manual   First Owner   23.0 kmpl  1396 CC      90 bhp   \n4  Individual       Manual   First Owner   16.1 kmpl  1298 CC    88.2 bhp   \n\n                     torque  seats  \n0            190Nm@ 2000rpm    5.0  \n1       250Nm@ 1500-2500rpm    5.0  \n2     12.7@ 2,700(kgm@ rpm)    5.0  \n3  22.4 kgm at 1750-2750rpm    5.0  \n4     11.5@ 4,500(kgm@ rpm)    5.0  ",
      "text/html": "<div>\n<style scoped>\n    .dataframe tbody tr th:only-of-type {\n        vertical-align: middle;\n    }\n\n    .dataframe tbody tr th {\n        vertical-align: top;\n    }\n\n    .dataframe thead th {\n        text-align: right;\n    }\n</style>\n<table border=\"1\" class=\"dataframe\">\n  <thead>\n    <tr style=\"text-align: right;\">\n      <th></th>\n      <th>name</th>\n      <th>year</th>\n      <th>selling_price</th>\n      <th>km_driven</th>\n      <th>fuel</th>\n      <th>seller_type</th>\n      <th>transmission</th>\n      <th>owner</th>\n      <th>mileage</th>\n      <th>engine</th>\n      <th>max_power</th>\n      <th>torque</th>\n      <th>seats</th>\n    </tr>\n  </thead>\n  <tbody>\n    <tr>\n      <th>0</th>\n      <td>Maruti Swift Dzire VDI</td>\n      <td>2014</td>\n      <td>450000</td>\n      <td>145500</td>\n      <td>Diesel</td>\n      <td>Individual</td>\n      <td>Manual</td>\n      <td>First Owner</td>\n      <td>23.4 kmpl</td>\n      <td>1248 CC</td>\n      <td>74 bhp</td>\n      <td>190Nm@ 2000rpm</td>\n      <td>5.0</td>\n    </tr>\n    <tr>\n      <th>1</th>\n      <td>Skoda Rapid 1.5 TDI Ambition</td>\n      <td>2014</td>\n      <td>370000</td>\n      <td>120000</td>\n      <td>Diesel</td>\n      <td>Individual</td>\n      <td>Manual</td>\n      <td>Second Owner</td>\n      <td>21.14 kmpl</td>\n      <td>1498 CC</td>\n      <td>103.52 bhp</td>\n      <td>250Nm@ 1500-2500rpm</td>\n      <td>5.0</td>\n    </tr>\n    <tr>\n      <th>2</th>\n      <td>Honda City 2017-2020 EXi</td>\n      <td>2006</td>\n      <td>158000</td>\n      <td>140000</td>\n      <td>Petrol</td>\n      <td>Individual</td>\n      <td>Manual</td>\n      <td>Third Owner</td>\n      <td>17.7 kmpl</td>\n      <td>1497 CC</td>\n      <td>78 bhp</td>\n      <td>12.7@ 2,700(kgm@ rpm)</td>\n      <td>5.0</td>\n    </tr>\n    <tr>\n      <th>3</th>\n      <td>Hyundai i20 Sportz Diesel</td>\n      <td>2010</td>\n      <td>225000</td>\n      <td>127000</td>\n      <td>Diesel</td>\n      <td>Individual</td>\n      <td>Manual</td>\n      <td>First Owner</td>\n      <td>23.0 kmpl</td>\n      <td>1396 CC</td>\n      <td>90 bhp</td>\n      <td>22.4 kgm at 1750-2750rpm</td>\n      <td>5.0</td>\n    </tr>\n    <tr>\n      <th>4</th>\n      <td>Maruti Swift VXI BSIII</td>\n      <td>2007</td>\n      <td>130000</td>\n      <td>120000</td>\n      <td>Petrol</td>\n      <td>Individual</td>\n      <td>Manual</td>\n      <td>First Owner</td>\n      <td>16.1 kmpl</td>\n      <td>1298 CC</td>\n      <td>88.2 bhp</td>\n      <td>11.5@ 4,500(kgm@ rpm)</td>\n      <td>5.0</td>\n    </tr>\n  </tbody>\n</table>\n</div>"
     },
     "execution_count": 226,
     "metadata": {},
     "output_type": "execute_result"
    }
   ],
   "source": [
    "file_url = \"https://media.githubusercontent.com/media/musthave-ML10/data_source/main/car.csv\"\n",
    "\n",
    "data = pd.read_csv(file_url , skipinitialspace= True) #빈칸 모두 제거\n",
    "\n",
    "data.head()"
   ],
   "metadata": {
    "collapsed": false,
    "pycharm": {
     "name": "#%%\n"
    }
   }
  },
  {
   "cell_type": "code",
   "execution_count": 227,
   "outputs": [
    {
     "name": "stdout",
     "output_type": "stream",
     "text": [
      "<class 'pandas.core.frame.DataFrame'>\n",
      "RangeIndex: 8128 entries, 0 to 8127\n",
      "Data columns (total 13 columns):\n",
      " #   Column         Non-Null Count  Dtype  \n",
      "---  ------         --------------  -----  \n",
      " 0   name           8128 non-null   object \n",
      " 1   year           8128 non-null   int64  \n",
      " 2   selling_price  8128 non-null   int64  \n",
      " 3   km_driven      8128 non-null   int64  \n",
      " 4   fuel           8128 non-null   object \n",
      " 5   seller_type    8128 non-null   object \n",
      " 6   transmission   8128 non-null   object \n",
      " 7   owner          8128 non-null   object \n",
      " 8   mileage        7907 non-null   object \n",
      " 9   engine         7907 non-null   object \n",
      " 10  max_power      7913 non-null   object \n",
      " 11  torque         7906 non-null   object \n",
      " 12  seats          7907 non-null   float64\n",
      "dtypes: float64(1), int64(3), object(9)\n",
      "memory usage: 825.6+ KB\n"
     ]
    }
   ],
   "source": [
    "data.info()"
   ],
   "metadata": {
    "collapsed": false,
    "pycharm": {
     "name": "#%%\n"
    }
   }
  },
  {
   "cell_type": "code",
   "execution_count": 228,
   "outputs": [
    {
     "data": {
      "text/plain": "          year  selling_price   km_driven    seats\ncount  8128.00        8128.00     8128.00  7907.00\nmean   2013.80      638271.81    69819.51     5.42\nstd       4.04      806253.40    56550.55     0.96\nmin    1983.00       29999.00        1.00     2.00\n25%    2011.00      254999.00    35000.00     5.00\n50%    2015.00      450000.00    60000.00     5.00\n75%    2017.00      675000.00    98000.00     5.00\nmax    2020.00    10000000.00  2360457.00    14.00",
      "text/html": "<div>\n<style scoped>\n    .dataframe tbody tr th:only-of-type {\n        vertical-align: middle;\n    }\n\n    .dataframe tbody tr th {\n        vertical-align: top;\n    }\n\n    .dataframe thead th {\n        text-align: right;\n    }\n</style>\n<table border=\"1\" class=\"dataframe\">\n  <thead>\n    <tr style=\"text-align: right;\">\n      <th></th>\n      <th>year</th>\n      <th>selling_price</th>\n      <th>km_driven</th>\n      <th>seats</th>\n    </tr>\n  </thead>\n  <tbody>\n    <tr>\n      <th>count</th>\n      <td>8128.00</td>\n      <td>8128.00</td>\n      <td>8128.00</td>\n      <td>7907.00</td>\n    </tr>\n    <tr>\n      <th>mean</th>\n      <td>2013.80</td>\n      <td>638271.81</td>\n      <td>69819.51</td>\n      <td>5.42</td>\n    </tr>\n    <tr>\n      <th>std</th>\n      <td>4.04</td>\n      <td>806253.40</td>\n      <td>56550.55</td>\n      <td>0.96</td>\n    </tr>\n    <tr>\n      <th>min</th>\n      <td>1983.00</td>\n      <td>29999.00</td>\n      <td>1.00</td>\n      <td>2.00</td>\n    </tr>\n    <tr>\n      <th>25%</th>\n      <td>2011.00</td>\n      <td>254999.00</td>\n      <td>35000.00</td>\n      <td>5.00</td>\n    </tr>\n    <tr>\n      <th>50%</th>\n      <td>2015.00</td>\n      <td>450000.00</td>\n      <td>60000.00</td>\n      <td>5.00</td>\n    </tr>\n    <tr>\n      <th>75%</th>\n      <td>2017.00</td>\n      <td>675000.00</td>\n      <td>98000.00</td>\n      <td>5.00</td>\n    </tr>\n    <tr>\n      <th>max</th>\n      <td>2020.00</td>\n      <td>10000000.00</td>\n      <td>2360457.00</td>\n      <td>14.00</td>\n    </tr>\n  </tbody>\n</table>\n</div>"
     },
     "execution_count": 228,
     "metadata": {},
     "output_type": "execute_result"
    }
   ],
   "source": [
    "round(data.describe() , 2)"
   ],
   "metadata": {
    "collapsed": false,
    "pycharm": {
     "name": "#%%\n"
    }
   }
  },
  {
   "cell_type": "code",
   "execution_count": 229,
   "outputs": [
    {
     "data": {
      "text/plain": "0       1248 CC\n1       1498 CC\n2       1497 CC\n3       1396 CC\n4       1298 CC\n         ...   \n8123    1197 CC\n8124    1493 CC\n8125    1248 CC\n8126    1396 CC\n8127    1396 CC\nName: engine, Length: 8128, dtype: object"
     },
     "execution_count": 229,
     "metadata": {},
     "output_type": "execute_result"
    }
   ],
   "source": [
    "data['engine']"
   ],
   "metadata": {
    "collapsed": false,
    "pycharm": {
     "name": "#%%\n"
    }
   }
  },
  {
   "cell_type": "code",
   "execution_count": 230,
   "outputs": [
    {
     "data": {
      "text/plain": "         0   1\n0     1248  CC\n1     1498  CC\n2     1497  CC\n3     1396  CC\n4     1298  CC\n...    ...  ..\n8123  1197  CC\n8124  1493  CC\n8125  1248  CC\n8126  1396  CC\n8127  1396  CC\n\n[8128 rows x 2 columns]",
      "text/html": "<div>\n<style scoped>\n    .dataframe tbody tr th:only-of-type {\n        vertical-align: middle;\n    }\n\n    .dataframe tbody tr th {\n        vertical-align: top;\n    }\n\n    .dataframe thead th {\n        text-align: right;\n    }\n</style>\n<table border=\"1\" class=\"dataframe\">\n  <thead>\n    <tr style=\"text-align: right;\">\n      <th></th>\n      <th>0</th>\n      <th>1</th>\n    </tr>\n  </thead>\n  <tbody>\n    <tr>\n      <th>0</th>\n      <td>1248</td>\n      <td>CC</td>\n    </tr>\n    <tr>\n      <th>1</th>\n      <td>1498</td>\n      <td>CC</td>\n    </tr>\n    <tr>\n      <th>2</th>\n      <td>1497</td>\n      <td>CC</td>\n    </tr>\n    <tr>\n      <th>3</th>\n      <td>1396</td>\n      <td>CC</td>\n    </tr>\n    <tr>\n      <th>4</th>\n      <td>1298</td>\n      <td>CC</td>\n    </tr>\n    <tr>\n      <th>...</th>\n      <td>...</td>\n      <td>...</td>\n    </tr>\n    <tr>\n      <th>8123</th>\n      <td>1197</td>\n      <td>CC</td>\n    </tr>\n    <tr>\n      <th>8124</th>\n      <td>1493</td>\n      <td>CC</td>\n    </tr>\n    <tr>\n      <th>8125</th>\n      <td>1248</td>\n      <td>CC</td>\n    </tr>\n    <tr>\n      <th>8126</th>\n      <td>1396</td>\n      <td>CC</td>\n    </tr>\n    <tr>\n      <th>8127</th>\n      <td>1396</td>\n      <td>CC</td>\n    </tr>\n  </tbody>\n</table>\n<p>8128 rows × 2 columns</p>\n</div>"
     },
     "execution_count": 230,
     "metadata": {},
     "output_type": "execute_result"
    }
   ],
   "source": [
    "data['engine'].str.split(expand = True) # 컬럼 하나씩만 인덱싱 해준다.\n",
    "#공백 기준으로 문자를 분할하여 별도의 변수로 출력"
   ],
   "metadata": {
    "collapsed": false,
    "pycharm": {
     "name": "#%%\n"
    }
   }
  },
  {
   "cell_type": "code",
   "execution_count": 231,
   "outputs": [],
   "source": [
    "# data['engine_unit']"
   ],
   "metadata": {
    "collapsed": false,
    "pycharm": {
     "name": "#%%\n"
    }
   }
  },
  {
   "cell_type": "code",
   "execution_count": 232,
   "outputs": [
    {
     "data": {
      "text/plain": "0    1248\n1    1498\n2    1497\n3    1396\n4    1298\nName: engine, dtype: object"
     },
     "execution_count": 232,
     "metadata": {},
     "output_type": "execute_result"
    }
   ],
   "source": [
    "data[['engine' , 'engine_unit']] = data['engine'].str.split(expand = True)\n",
    "\n",
    "# 분할된 문자들을 새로운 변수들로 저장\n",
    "\n",
    "data['engine'].head()"
   ],
   "metadata": {
    "collapsed": false,
    "pycharm": {
     "name": "#%%\n"
    }
   }
  },
  {
   "cell_type": "code",
   "execution_count": 233,
   "outputs": [],
   "source": [
    "data['engine'] = data['engine'].astype('float32') # 숫자형 변수로 변환"
   ],
   "metadata": {
    "collapsed": false,
    "pycharm": {
     "name": "#%%\n"
    }
   }
  },
  {
   "cell_type": "code",
   "execution_count": 234,
   "outputs": [
    {
     "data": {
      "text/plain": "0    1248.0\n1    1498.0\n2    1497.0\n3    1396.0\n4    1298.0\nName: engine, dtype: float32"
     },
     "execution_count": 234,
     "metadata": {},
     "output_type": "execute_result"
    }
   ],
   "source": [
    "data['engine'].head()"
   ],
   "metadata": {
    "collapsed": false,
    "pycharm": {
     "name": "#%%\n"
    }
   }
  },
  {
   "cell_type": "code",
   "execution_count": 235,
   "outputs": [
    {
     "data": {
      "text/plain": "CC    7907\nName: engine_unit, dtype: int64"
     },
     "execution_count": 235,
     "metadata": {},
     "output_type": "execute_result"
    }
   ],
   "source": [
    "data['engine_unit'].value_counts()"
   ],
   "metadata": {
    "collapsed": false,
    "pycharm": {
     "name": "#%%\n"
    }
   }
  },
  {
   "cell_type": "code",
   "execution_count": 236,
   "outputs": [
    {
     "data": {
      "text/plain": "array(['CC', nan], dtype=object)"
     },
     "execution_count": 236,
     "metadata": {},
     "output_type": "execute_result"
    }
   ],
   "source": [
    "data['engine_unit'].unique()"
   ],
   "metadata": {
    "collapsed": false,
    "pycharm": {
     "name": "#%%\n"
    }
   }
  },
  {
   "cell_type": "code",
   "execution_count": 237,
   "outputs": [],
   "source": [
    "data.drop('engine_unit' , axis = 1 , inplace =True) #CC라는 값만 한 가지 존재하여 해당 컬럼 제거"
   ],
   "metadata": {
    "collapsed": false,
    "pycharm": {
     "name": "#%%\n"
    }
   }
  },
  {
   "cell_type": "code",
   "execution_count": 238,
   "outputs": [
    {
     "data": {
      "text/plain": "0           74 bhp\n1       103.52 bhp\n2           78 bhp\n3           90 bhp\n4         88.2 bhp\n           ...    \n8123     82.85 bhp\n8124       110 bhp\n8125      73.9 bhp\n8126        70 bhp\n8127        70 bhp\nName: max_power, Length: 8128, dtype: object"
     },
     "execution_count": 238,
     "metadata": {},
     "output_type": "execute_result"
    }
   ],
   "source": [
    "data['max_power']"
   ],
   "metadata": {
    "collapsed": false,
    "pycharm": {
     "name": "#%%\n"
    }
   }
  },
  {
   "cell_type": "code",
   "execution_count": 239,
   "outputs": [],
   "source": [
    "data[['max_power' , 'max_power_unit']] = data['max_power'].str.split(expand = True)\n",
    "# 분할된 문자들을 새로운 변수들로 저장"
   ],
   "metadata": {
    "collapsed": false,
    "pycharm": {
     "name": "#%%\n"
    }
   }
  },
  {
   "cell_type": "code",
   "execution_count": 240,
   "outputs": [
    {
     "data": {
      "text/plain": "0        74\n1    103.52\n2        78\n3        90\n4      88.2\nName: max_power, dtype: object"
     },
     "execution_count": 240,
     "metadata": {},
     "output_type": "execute_result"
    }
   ],
   "source": [
    "data['max_power'].head()"
   ],
   "metadata": {
    "collapsed": false,
    "pycharm": {
     "name": "#%%\n"
    }
   }
  },
  {
   "cell_type": "code",
   "execution_count": 241,
   "outputs": [
    {
     "data": {
      "text/plain": "0    bhp\n1    bhp\n2    bhp\n3    bhp\n4    bhp\nName: max_power_unit, dtype: object"
     },
     "execution_count": 241,
     "metadata": {},
     "output_type": "execute_result"
    }
   ],
   "source": [
    "data['max_power_unit'].head()"
   ],
   "metadata": {
    "collapsed": false,
    "pycharm": {
     "name": "#%%\n"
    }
   }
  },
  {
   "cell_type": "code",
   "execution_count": 242,
   "outputs": [],
   "source": [
    "# data['max_power'] = data['max_power'].astype('float32') # 숫자형 변수로 변환"
   ],
   "metadata": {
    "collapsed": false,
    "pycharm": {
     "name": "#%%\n"
    }
   }
  },
  {
   "cell_type": "code",
   "execution_count": 243,
   "outputs": [
    {
     "data": {
      "text/plain": "                 name  year  selling_price  km_driven fuel seller_type  \\\n4933  Maruti Omni CNG  2000          80000     100000  CNG  Individual   \n\n     transmission         owner     mileage  engine max_power torque  seats  \\\n4933       Manual  Second Owner  10.9 km/kg   796.0       bhp    NaN    8.0   \n\n     max_power_unit  \n4933           None  ",
      "text/html": "<div>\n<style scoped>\n    .dataframe tbody tr th:only-of-type {\n        vertical-align: middle;\n    }\n\n    .dataframe tbody tr th {\n        vertical-align: top;\n    }\n\n    .dataframe thead th {\n        text-align: right;\n    }\n</style>\n<table border=\"1\" class=\"dataframe\">\n  <thead>\n    <tr style=\"text-align: right;\">\n      <th></th>\n      <th>name</th>\n      <th>year</th>\n      <th>selling_price</th>\n      <th>km_driven</th>\n      <th>fuel</th>\n      <th>seller_type</th>\n      <th>transmission</th>\n      <th>owner</th>\n      <th>mileage</th>\n      <th>engine</th>\n      <th>max_power</th>\n      <th>torque</th>\n      <th>seats</th>\n      <th>max_power_unit</th>\n    </tr>\n  </thead>\n  <tbody>\n    <tr>\n      <th>4933</th>\n      <td>Maruti Omni CNG</td>\n      <td>2000</td>\n      <td>80000</td>\n      <td>100000</td>\n      <td>CNG</td>\n      <td>Individual</td>\n      <td>Manual</td>\n      <td>Second Owner</td>\n      <td>10.9 km/kg</td>\n      <td>796.0</td>\n      <td>bhp</td>\n      <td>NaN</td>\n      <td>8.0</td>\n      <td>None</td>\n    </tr>\n  </tbody>\n</table>\n</div>"
     },
     "execution_count": 243,
     "metadata": {},
     "output_type": "execute_result"
    }
   ],
   "source": [
    "data[data['max_power'] == 'bhp'] #max_power 내에 bhp 문자가 있는지 확인"
   ],
   "metadata": {
    "collapsed": false,
    "pycharm": {
     "name": "#%%\n"
    }
   }
  },
  {
   "cell_type": "code",
   "execution_count": 244,
   "outputs": [],
   "source": [
    "def isFloat(value): # 함수 정의\n",
    "    try : # 시도\n",
    "        num = float(value) # 값을 숫자로 변환\n",
    "        return num # 변환된 값 리턴\n",
    "\n",
    "    except ValueError: # try에서 ValueError가 난 경우\n",
    "        return np.NaN # np.NaN 리턴"
   ],
   "metadata": {
    "collapsed": false,
    "pycharm": {
     "name": "#%%\n"
    }
   }
  },
  {
   "cell_type": "code",
   "execution_count": 245,
   "outputs": [],
   "source": [
    "data['max_power'] = data['max_power'].apply(isFloat)"
   ],
   "metadata": {
    "collapsed": false,
    "pycharm": {
     "name": "#%%\n"
    }
   }
  },
  {
   "cell_type": "code",
   "execution_count": 246,
   "outputs": [
    {
     "data": {
      "text/plain": "array(['bhp', nan, None], dtype=object)"
     },
     "execution_count": 246,
     "metadata": {},
     "output_type": "execute_result"
    }
   ],
   "source": [
    "data['max_power_unit'].unique()"
   ],
   "metadata": {
    "collapsed": false,
    "pycharm": {
     "name": "#%%\n"
    }
   }
  },
  {
   "cell_type": "code",
   "execution_count": 247,
   "outputs": [],
   "source": [
    "data.drop('max_power_unit' , axis =1 , inplace =True)"
   ],
   "metadata": {
    "collapsed": false,
    "pycharm": {
     "name": "#%%\n"
    }
   }
  },
  {
   "cell_type": "code",
   "execution_count": 248,
   "outputs": [],
   "source": [
    "data[['mileage' , 'mileage_unit']] = data['mileage'].str.split(expand = True)\n",
    "\n",
    "# 분할된 문자들을 새로운 변수들로 저장"
   ],
   "metadata": {
    "collapsed": false,
    "pycharm": {
     "name": "#%%\n"
    }
   }
  },
  {
   "cell_type": "code",
   "execution_count": 249,
   "outputs": [],
   "source": [
    "data['mileage'] = data['mileage'].astype('float32')"
   ],
   "metadata": {
    "collapsed": false,
    "pycharm": {
     "name": "#%%\n"
    }
   }
  },
  {
   "cell_type": "code",
   "execution_count": 250,
   "outputs": [
    {
     "data": {
      "text/plain": "array(['kmpl', 'km/kg', nan], dtype=object)"
     },
     "execution_count": 250,
     "metadata": {},
     "output_type": "execute_result"
    }
   ],
   "source": [
    "data['mileage_unit'].unique()"
   ],
   "metadata": {
    "collapsed": false,
    "pycharm": {
     "name": "#%%\n"
    }
   }
  },
  {
   "cell_type": "code",
   "execution_count": 251,
   "outputs": [
    {
     "data": {
      "text/plain": "array(['Diesel', 'Petrol', 'LPG', 'CNG'], dtype=object)"
     },
     "execution_count": 251,
     "metadata": {},
     "output_type": "execute_result"
    }
   ],
   "source": [
    "data['fuel'].unique()\n",
    "\n",
    "# Petrol : 리터당 80.43$\n",
    "# Diesel : 리터당 73.56$\n",
    "# LPG : 킬로그램당 40.85$\n",
    "# CNG : 킬로그램당 44.23$"
   ],
   "metadata": {
    "collapsed": false,
    "pycharm": {
     "name": "#%%\n"
    }
   }
  },
  {
   "cell_type": "code",
   "execution_count": 252,
   "outputs": [],
   "source": [
    "def mile(x) :\n",
    "    if x['fuel'] == 'Petrol':\n",
    "        return x['mileage'] / 80.43\n",
    "    elif x['fuel'] == 'Diesel':\n",
    "        return x['mileage'] / 73.56\n",
    "    elif x['fuel'] == 'LG':\n",
    "        return x['mileage'] / 40.85\n",
    "    elif x['fuel'] == 'CNG':\n",
    "        return x['mileage'] / 44.23"
   ],
   "metadata": {
    "collapsed": false,
    "pycharm": {
     "name": "#%%\n"
    }
   }
  },
  {
   "cell_type": "code",
   "execution_count": 253,
   "outputs": [
    {
     "data": {
      "text/plain": "        fuel    mileage\n0     Diesel  23.400000\n1     Diesel  21.139999\n2     Petrol  17.700001\n3     Diesel  23.000000\n4     Petrol  16.100000\n...      ...        ...\n8123  Petrol  18.500000\n8124  Diesel  16.799999\n8125  Diesel  19.299999\n8126  Diesel  23.570000\n8127  Diesel  23.570000\n\n[8128 rows x 2 columns]",
      "text/html": "<div>\n<style scoped>\n    .dataframe tbody tr th:only-of-type {\n        vertical-align: middle;\n    }\n\n    .dataframe tbody tr th {\n        vertical-align: top;\n    }\n\n    .dataframe thead th {\n        text-align: right;\n    }\n</style>\n<table border=\"1\" class=\"dataframe\">\n  <thead>\n    <tr style=\"text-align: right;\">\n      <th></th>\n      <th>fuel</th>\n      <th>mileage</th>\n    </tr>\n  </thead>\n  <tbody>\n    <tr>\n      <th>0</th>\n      <td>Diesel</td>\n      <td>23.400000</td>\n    </tr>\n    <tr>\n      <th>1</th>\n      <td>Diesel</td>\n      <td>21.139999</td>\n    </tr>\n    <tr>\n      <th>2</th>\n      <td>Petrol</td>\n      <td>17.700001</td>\n    </tr>\n    <tr>\n      <th>3</th>\n      <td>Diesel</td>\n      <td>23.000000</td>\n    </tr>\n    <tr>\n      <th>4</th>\n      <td>Petrol</td>\n      <td>16.100000</td>\n    </tr>\n    <tr>\n      <th>...</th>\n      <td>...</td>\n      <td>...</td>\n    </tr>\n    <tr>\n      <th>8123</th>\n      <td>Petrol</td>\n      <td>18.500000</td>\n    </tr>\n    <tr>\n      <th>8124</th>\n      <td>Diesel</td>\n      <td>16.799999</td>\n    </tr>\n    <tr>\n      <th>8125</th>\n      <td>Diesel</td>\n      <td>19.299999</td>\n    </tr>\n    <tr>\n      <th>8126</th>\n      <td>Diesel</td>\n      <td>23.570000</td>\n    </tr>\n    <tr>\n      <th>8127</th>\n      <td>Diesel</td>\n      <td>23.570000</td>\n    </tr>\n  </tbody>\n</table>\n<p>8128 rows × 2 columns</p>\n</div>"
     },
     "execution_count": 253,
     "metadata": {},
     "output_type": "execute_result"
    }
   ],
   "source": [
    "data[['fuel' ,'mileage']]"
   ],
   "metadata": {
    "collapsed": false,
    "pycharm": {
     "name": "#%%\n"
    }
   }
  },
  {
   "cell_type": "code",
   "execution_count": 254,
   "outputs": [
    {
     "data": {
      "text/plain": "        fuel   mileage\n0     Diesel  0.318108\n1     Diesel  0.287384\n2     Petrol  0.220067\n3     Diesel  0.312670\n4     Petrol  0.200174\n...      ...       ...\n8123  Petrol  0.230014\n8124  Diesel  0.228385\n8125  Diesel  0.262371\n8126  Diesel  0.320419\n8127  Diesel  0.320419\n\n[8128 rows x 2 columns]",
      "text/html": "<div>\n<style scoped>\n    .dataframe tbody tr th:only-of-type {\n        vertical-align: middle;\n    }\n\n    .dataframe tbody tr th {\n        vertical-align: top;\n    }\n\n    .dataframe thead th {\n        text-align: right;\n    }\n</style>\n<table border=\"1\" class=\"dataframe\">\n  <thead>\n    <tr style=\"text-align: right;\">\n      <th></th>\n      <th>fuel</th>\n      <th>mileage</th>\n    </tr>\n  </thead>\n  <tbody>\n    <tr>\n      <th>0</th>\n      <td>Diesel</td>\n      <td>0.318108</td>\n    </tr>\n    <tr>\n      <th>1</th>\n      <td>Diesel</td>\n      <td>0.287384</td>\n    </tr>\n    <tr>\n      <th>2</th>\n      <td>Petrol</td>\n      <td>0.220067</td>\n    </tr>\n    <tr>\n      <th>3</th>\n      <td>Diesel</td>\n      <td>0.312670</td>\n    </tr>\n    <tr>\n      <th>4</th>\n      <td>Petrol</td>\n      <td>0.200174</td>\n    </tr>\n    <tr>\n      <th>...</th>\n      <td>...</td>\n      <td>...</td>\n    </tr>\n    <tr>\n      <th>8123</th>\n      <td>Petrol</td>\n      <td>0.230014</td>\n    </tr>\n    <tr>\n      <th>8124</th>\n      <td>Diesel</td>\n      <td>0.228385</td>\n    </tr>\n    <tr>\n      <th>8125</th>\n      <td>Diesel</td>\n      <td>0.262371</td>\n    </tr>\n    <tr>\n      <th>8126</th>\n      <td>Diesel</td>\n      <td>0.320419</td>\n    </tr>\n    <tr>\n      <th>8127</th>\n      <td>Diesel</td>\n      <td>0.320419</td>\n    </tr>\n  </tbody>\n</table>\n<p>8128 rows × 2 columns</p>\n</div>"
     },
     "execution_count": 254,
     "metadata": {},
     "output_type": "execute_result"
    }
   ],
   "source": [
    "data['mileage'] = data.apply(mile , axis=1) # mile 함수로 마일리지 수정\n",
    "data[['fuel' ,'mileage']]"
   ],
   "metadata": {
    "collapsed": false,
    "pycharm": {
     "name": "#%%\n"
    }
   }
  },
  {
   "cell_type": "code",
   "execution_count": 255,
   "outputs": [],
   "source": [
    "data.drop('mileage_unit' , axis = 1 , inplace =True)"
   ],
   "metadata": {
    "collapsed": false,
    "pycharm": {
     "name": "#%%\n"
    }
   }
  },
  {
   "cell_type": "code",
   "execution_count": 256,
   "outputs": [
    {
     "data": {
      "text/plain": "0              190Nm@ 2000rpm\n1         250Nm@ 1500-2500rpm\n2       12.7@ 2,700(kgm@ rpm)\n3    22.4 kgm at 1750-2750rpm\n4       11.5@ 4,500(kgm@ rpm)\nName: torque, dtype: object"
     },
     "execution_count": 256,
     "metadata": {},
     "output_type": "execute_result"
    }
   ],
   "source": [
    "data['torque'].head()"
   ],
   "metadata": {
    "collapsed": false,
    "pycharm": {
     "name": "#%%\n"
    }
   }
  },
  {
   "cell_type": "code",
   "execution_count": 257,
   "outputs": [],
   "source": [
    "data['torque'] = data['torque'].str.upper() # torque 변수 대문자로 변환"
   ],
   "metadata": {
    "collapsed": false,
    "pycharm": {
     "name": "#%%\n"
    }
   }
  },
  {
   "cell_type": "code",
   "execution_count": 258,
   "outputs": [
    {
     "data": {
      "text/plain": "0                  190NM@ 2000RPM\n1             250NM@ 1500-2500RPM\n2           12.7@ 2,700(KGM@ RPM)\n3        22.4 KGM AT 1750-2750RPM\n4           11.5@ 4,500(KGM@ RPM)\n                  ...            \n8123             113.7NM@ 4000RPM\n8124    24@ 1,900-2,750(KGM@ RPM)\n8125               190NM@ 2000RPM\n8126          140NM@ 1800-3000RPM\n8127          140NM@ 1800-3000RPM\nName: torque, Length: 8128, dtype: object"
     },
     "execution_count": 258,
     "metadata": {},
     "output_type": "execute_result"
    }
   ],
   "source": [
    "data['torque']"
   ],
   "metadata": {
    "collapsed": false,
    "pycharm": {
     "name": "#%%\n"
    }
   }
  },
  {
   "cell_type": "code",
   "execution_count": 259,
   "outputs": [
    {
     "data": {
      "text/plain": "                         torque torque_unit\n0                190NM@ 2000RPM          NM\n1           250NM@ 1500-2500RPM          NM\n2         12.7@ 2,700(KGM@ RPM)         kgm\n3      22.4 KGM AT 1750-2750RPM         kgm\n4         11.5@ 4,500(KGM@ RPM)         kgm\n...                         ...         ...\n8123           113.7NM@ 4000RPM          NM\n8124  24@ 1,900-2,750(KGM@ RPM)         kgm\n8125             190NM@ 2000RPM          NM\n8126        140NM@ 1800-3000RPM          NM\n8127        140NM@ 1800-3000RPM          NM\n\n[8128 rows x 2 columns]",
      "text/html": "<div>\n<style scoped>\n    .dataframe tbody tr th:only-of-type {\n        vertical-align: middle;\n    }\n\n    .dataframe tbody tr th {\n        vertical-align: top;\n    }\n\n    .dataframe thead th {\n        text-align: right;\n    }\n</style>\n<table border=\"1\" class=\"dataframe\">\n  <thead>\n    <tr style=\"text-align: right;\">\n      <th></th>\n      <th>torque</th>\n      <th>torque_unit</th>\n    </tr>\n  </thead>\n  <tbody>\n    <tr>\n      <th>0</th>\n      <td>190NM@ 2000RPM</td>\n      <td>NM</td>\n    </tr>\n    <tr>\n      <th>1</th>\n      <td>250NM@ 1500-2500RPM</td>\n      <td>NM</td>\n    </tr>\n    <tr>\n      <th>2</th>\n      <td>12.7@ 2,700(KGM@ RPM)</td>\n      <td>kgm</td>\n    </tr>\n    <tr>\n      <th>3</th>\n      <td>22.4 KGM AT 1750-2750RPM</td>\n      <td>kgm</td>\n    </tr>\n    <tr>\n      <th>4</th>\n      <td>11.5@ 4,500(KGM@ RPM)</td>\n      <td>kgm</td>\n    </tr>\n    <tr>\n      <th>...</th>\n      <td>...</td>\n      <td>...</td>\n    </tr>\n    <tr>\n      <th>8123</th>\n      <td>113.7NM@ 4000RPM</td>\n      <td>NM</td>\n    </tr>\n    <tr>\n      <th>8124</th>\n      <td>24@ 1,900-2,750(KGM@ RPM)</td>\n      <td>kgm</td>\n    </tr>\n    <tr>\n      <th>8125</th>\n      <td>190NM@ 2000RPM</td>\n      <td>NM</td>\n    </tr>\n    <tr>\n      <th>8126</th>\n      <td>140NM@ 1800-3000RPM</td>\n      <td>NM</td>\n    </tr>\n    <tr>\n      <th>8127</th>\n      <td>140NM@ 1800-3000RPM</td>\n      <td>NM</td>\n    </tr>\n  </tbody>\n</table>\n<p>8128 rows × 2 columns</p>\n</div>"
     },
     "execution_count": 259,
     "metadata": {},
     "output_type": "execute_result"
    }
   ],
   "source": [
    "def torque_unit(x):\n",
    "    if 'NM' in str(x):\n",
    "        return 'NM'\n",
    "    elif 'KGM' in str(x):\n",
    "        return 'kgm'\n",
    "\n",
    "\n",
    "data['torque_unit'] = data['torque'].apply(torque_unit)\n",
    "\n",
    "data[['torque' , 'torque_unit']]"
   ],
   "metadata": {
    "collapsed": false,
    "pycharm": {
     "name": "#%%\n"
    }
   }
  },
  {
   "cell_type": "code",
   "execution_count": 260,
   "outputs": [
    {
     "data": {
      "text/plain": "array(['NM', 'kgm', None], dtype=object)"
     },
     "execution_count": 260,
     "metadata": {},
     "output_type": "execute_result"
    }
   ],
   "source": [
    "data['torque_unit'].unique()"
   ],
   "metadata": {
    "collapsed": false,
    "pycharm": {
     "name": "#%%\n"
    }
   }
  },
  {
   "cell_type": "code",
   "execution_count": 261,
   "outputs": [
    {
     "data": {
      "text/plain": "array([nan, '250@ 1250-5000RPM', '510@ 1600-2400', '110(11.2)@ 4800',\n       '210 / 1900'], dtype=object)"
     },
     "execution_count": 261,
     "metadata": {},
     "output_type": "execute_result"
    }
   ],
   "source": [
    "data['torque_unit'].isna()\n",
    "data[data['torque_unit'].isna()]\n",
    "data[data['torque_unit'].isna()]['torque'].unique() # torque_unit이 NULL 값인 행의 'torque' 열의 고윳값 출력"
   ],
   "metadata": {
    "collapsed": false,
    "pycharm": {
     "name": "#%%\n"
    }
   }
  },
  {
   "cell_type": "code",
   "execution_count": 262,
   "outputs": [],
   "source": [
    "data['torque_unit'].fillna('Nm' , inplace = True) # 결측치를 Nm으로 대체"
   ],
   "metadata": {
    "collapsed": false,
    "pycharm": {
     "name": "#%%\n"
    }
   }
  },
  {
   "cell_type": "code",
   "execution_count": 263,
   "outputs": [],
   "source": [
    "string_example = '12.7@ 2,700(KGM@ RPM)' # 예제 스트링 정의"
   ],
   "metadata": {
    "collapsed": false,
    "pycharm": {
     "name": "#%%\n"
    }
   }
  },
  {
   "cell_type": "code",
   "execution_count": 264,
   "outputs": [
    {
     "data": {
      "text/plain": "'12.7'"
     },
     "execution_count": 264,
     "metadata": {},
     "output_type": "execute_result"
    }
   ],
   "source": [
    "string_example[:4]"
   ],
   "metadata": {
    "collapsed": false,
    "pycharm": {
     "name": "#%%\n"
    }
   }
  },
  {
   "cell_type": "code",
   "execution_count": 265,
   "outputs": [
    {
     "name": "stdout",
     "output_type": "stream",
     "text": [
      "0 번째 텍스트 :  1\n",
      "1 번째 텍스트 :  2\n",
      "2 번째 텍스트 :  .\n",
      "3 번째 텍스트 :  7\n",
      "4 번째 텍스트 :  @\n",
      "5 번째 텍스트 :   \n",
      "6 번째 텍스트 :  2\n",
      "7 번째 텍스트 :  ,\n",
      "8 번째 텍스트 :  7\n",
      "9 번째 텍스트 :  0\n",
      "10 번째 텍스트 :  0\n",
      "11 번째 텍스트 :  (\n",
      "12 번째 텍스트 :  K\n",
      "13 번째 텍스트 :  G\n",
      "14 번째 텍스트 :  M\n",
      "15 번째 텍스트 :  @\n",
      "16 번째 텍스트 :   \n",
      "17 번째 텍스트 :  R\n",
      "18 번째 텍스트 :  P\n",
      "19 번째 텍스트 :  M\n",
      "20 번째 텍스트 :  )\n"
     ]
    }
   ],
   "source": [
    "for i,j in enumerate(string_example):\n",
    "    print(i , '번째 텍스트 : ' , j)"
   ],
   "metadata": {
    "collapsed": false,
    "pycharm": {
     "name": "#%%\n"
    }
   }
  },
  {
   "cell_type": "code",
   "execution_count": 266,
   "outputs": [
    {
     "data": {
      "text/plain": "0                  190NM@ 2000RPM\n1             250NM@ 1500-2500RPM\n2           12.7@ 2,700(KGM@ RPM)\n3        22.4 KGM AT 1750-2750RPM\n4           11.5@ 4,500(KGM@ RPM)\n                  ...            \n8123             113.7NM@ 4000RPM\n8124    24@ 1,900-2,750(KGM@ RPM)\n8125               190NM@ 2000RPM\n8126          140NM@ 1800-3000RPM\n8127          140NM@ 1800-3000RPM\nName: torque, Length: 8128, dtype: object"
     },
     "execution_count": 266,
     "metadata": {},
     "output_type": "execute_result"
    }
   ],
   "source": [
    "data['torque']"
   ],
   "metadata": {
    "collapsed": false,
    "pycharm": {
     "name": "#%%\n"
    }
   }
  },
  {
   "cell_type": "code",
   "execution_count": 267,
   "outputs": [],
   "source": [
    "def split_num(x):\n",
    "    x = str(x)\n",
    "    for i,j in enumerate(x):\n",
    "        if j not in '0123456789.' : # 만약 j가 0123456789.에 포함되지 않으면\n",
    "            cut=  i\n",
    "            break\n",
    "    return x[:cut]\n"
   ],
   "metadata": {
    "collapsed": false,
    "pycharm": {
     "name": "#%%\n"
    }
   }
  },
  {
   "cell_type": "code",
   "execution_count": 268,
   "outputs": [],
   "source": [
    "# for i,j in enumerate(string_example):\n",
    "#     # print(f'({i},{j})')\n",
    "#\n",
    "#     if j not in '0123456789.' : # 만약 j가 0123456789.에 포함되지 않으면\n",
    "#         cut =  i\n",
    "#         print(string_example[:cut])"
   ],
   "metadata": {
    "collapsed": false,
    "pycharm": {
     "name": "#%%\n"
    }
   }
  },
  {
   "cell_type": "code",
   "execution_count": 269,
   "outputs": [
    {
     "data": {
      "text/plain": "0                  190NM@ 2000RPM\n1             250NM@ 1500-2500RPM\n2           12.7@ 2,700(KGM@ RPM)\n3        22.4 KGM AT 1750-2750RPM\n4           11.5@ 4,500(KGM@ RPM)\n                  ...            \n8123             113.7NM@ 4000RPM\n8124    24@ 1,900-2,750(KGM@ RPM)\n8125               190NM@ 2000RPM\n8126          140NM@ 1800-3000RPM\n8127          140NM@ 1800-3000RPM\nName: torque, Length: 8128, dtype: object"
     },
     "execution_count": 269,
     "metadata": {},
     "output_type": "execute_result"
    }
   ],
   "source": [
    "data['torque']"
   ],
   "metadata": {
    "collapsed": false,
    "pycharm": {
     "name": "#%%\n"
    }
   }
  },
  {
   "cell_type": "code",
   "execution_count": 270,
   "outputs": [
    {
     "data": {
      "text/plain": "0         190\n1         250\n2        12.7\n3        22.4\n4        11.5\n        ...  \n8123    113.7\n8124       24\n8125      190\n8126      140\n8127      140\nName: torque, Length: 8128, dtype: object"
     },
     "execution_count": 270,
     "metadata": {},
     "output_type": "execute_result"
    }
   ],
   "source": [
    "data['torque'] = data['torque'].apply(split_num)\n",
    "\n",
    "data['torque']"
   ],
   "metadata": {
    "collapsed": false,
    "pycharm": {
     "name": "#%%\n"
    }
   }
  },
  {
   "cell_type": "code",
   "execution_count": 271,
   "outputs": [],
   "source": [
    "data['torque'] = data['torque'].replace('' , np.NaN)"
   ],
   "metadata": {
    "collapsed": false,
    "pycharm": {
     "name": "#%%\n"
    }
   }
  },
  {
   "cell_type": "code",
   "execution_count": 272,
   "outputs": [],
   "source": [
    "data['torque'] = data['torque'].astype('float64')"
   ],
   "metadata": {
    "collapsed": false,
    "pycharm": {
     "name": "#%%\n"
    }
   }
  },
  {
   "cell_type": "code",
   "execution_count": 273,
   "outputs": [
    {
     "data": {
      "text/plain": "0       190.00000\n1       250.00000\n2       124.54382\n3       219.66784\n4       112.77590\n          ...    \n8123    113.70000\n8124    235.35840\n8125    190.00000\n8126    140.00000\n8127    140.00000\nName: torque, Length: 8128, dtype: float64"
     },
     "execution_count": 273,
     "metadata": {},
     "output_type": "execute_result"
    }
   ],
   "source": [
    "def torque_trans(x) :\n",
    "    if x['torque_unit'] == 'kgm':\n",
    "        return x['torque'] * 9.8066\n",
    "    else:\n",
    "        return x['torque']\n",
    "\n",
    "data['torque'] = data.apply(torque_trans , axis =1 ) #함수 적용\n",
    "data['torque']"
   ],
   "metadata": {
    "collapsed": false,
    "pycharm": {
     "name": "#%%\n"
    }
   }
  },
  {
   "cell_type": "code",
   "execution_count": 274,
   "outputs": [],
   "source": [
    "data.drop('torque_unit' , axis = 1 , inplace = True)"
   ],
   "metadata": {
    "collapsed": false,
    "pycharm": {
     "name": "#%%\n"
    }
   }
  },
  {
   "cell_type": "code",
   "execution_count": 275,
   "outputs": [
    {
     "data": {
      "text/plain": "0             Maruti Swift Dzire VDI\n1       Skoda Rapid 1.5 TDI Ambition\n2           Honda City 2017-2020 EXi\n3          Hyundai i20 Sportz Diesel\n4             Maruti Swift VXI BSIII\n                    ...             \n8123               Hyundai i20 Magna\n8124           Hyundai Verna CRDi SX\n8125          Maruti Swift Dzire ZDi\n8126                 Tata Indigo CR4\n8127                 Tata Indigo CR4\nName: name, Length: 8128, dtype: object"
     },
     "execution_count": 275,
     "metadata": {},
     "output_type": "execute_result"
    }
   ],
   "source": [
    "data['name']"
   ],
   "metadata": {
    "collapsed": false,
    "pycharm": {
     "name": "#%%\n"
    }
   }
  },
  {
   "cell_type": "code",
   "execution_count": 276,
   "outputs": [
    {
     "data": {
      "text/plain": "0        Maruti\n1         Skoda\n2         Honda\n3       Hyundai\n4        Maruti\n         ...   \n8123    Hyundai\n8124    Hyundai\n8125     Maruti\n8126       Tata\n8127       Tata\nName: name, Length: 8128, dtype: object"
     },
     "execution_count": 276,
     "metadata": {},
     "output_type": "execute_result"
    }
   ],
   "source": [
    "data['name'] = data['name'].str.split(expand=True)[0]\n",
    "data['name']"
   ],
   "metadata": {
    "collapsed": false,
    "pycharm": {
     "name": "#%%\n"
    }
   }
  },
  {
   "cell_type": "code",
   "execution_count": 277,
   "outputs": [
    {
     "data": {
      "text/plain": "array(['Maruti', 'Skoda', 'Honda', 'Hyundai', 'Toyota', 'Ford', 'Renault',\n       'Mahindra', 'Tata', 'Chevrolet', 'Fiat', 'Datsun', 'Jeep',\n       'Mercedes-Benz', 'Mitsubishi', 'Audi', 'Volkswagen', 'BMW',\n       'Nissan', 'Lexus', 'Jaguar', 'Land', 'MG', 'Volvo', 'Daewoo',\n       'Kia', 'Force', 'Ambassador', 'Ashok', 'Isuzu', 'Opel', 'Peugeot'],\n      dtype=object)"
     },
     "execution_count": 277,
     "metadata": {},
     "output_type": "execute_result"
    }
   ],
   "source": [
    "data['name'].unique()"
   ],
   "metadata": {
    "collapsed": false,
    "pycharm": {
     "name": "#%%\n"
    }
   }
  },
  {
   "cell_type": "code",
   "execution_count": 278,
   "outputs": [],
   "source": [
    "data['name'] = data['name'].replace('Land' , 'Land Rover')"
   ],
   "metadata": {
    "collapsed": false,
    "pycharm": {
     "name": "#%%\n"
    }
   }
  },
  {
   "cell_type": "code",
   "execution_count": 279,
   "outputs": [
    {
     "data": {
      "text/plain": "name             0.000000\nyear             0.000000\nselling_price    0.000000\nkm_driven        0.000000\nfuel             0.000000\nseller_type      0.000000\ntransmission     0.000000\nowner            0.000000\nmileage          0.031496\nengine           0.027190\nmax_power        0.026575\ntorque           0.027313\nseats            0.027190\ndtype: float64"
     },
     "execution_count": 279,
     "metadata": {},
     "output_type": "execute_result"
    }
   ],
   "source": [
    "data.isna().mean()"
   ],
   "metadata": {
    "collapsed": false,
    "pycharm": {
     "name": "#%%\n"
    }
   }
  },
  {
   "cell_type": "code",
   "execution_count": 280,
   "outputs": [
    {
     "data": {
      "text/plain": "7871"
     },
     "execution_count": 280,
     "metadata": {},
     "output_type": "execute_result"
    }
   ],
   "source": [
    "data.dropna(inplace = True) #결측치 행 제거\n",
    "len(data)"
   ],
   "metadata": {
    "collapsed": false,
    "pycharm": {
     "name": "#%%\n"
    }
   }
  },
  {
   "cell_type": "code",
   "execution_count": 281,
   "outputs": [
    {
     "data": {
      "text/plain": "      year  selling_price  km_driven   mileage  engine  max_power     torque  \\\n0     2014         450000     145500  0.318108  1248.0      74.00  190.00000   \n1     2014         370000     120000  0.287384  1498.0     103.52  250.00000   \n2     2006         158000     140000  0.220067  1497.0      78.00  124.54382   \n3     2010         225000     127000  0.312670  1396.0      90.00  219.66784   \n4     2007         130000     120000  0.200174  1298.0      88.20  112.77590   \n...    ...            ...        ...       ...     ...        ...        ...   \n8123  2013         320000     110000  0.230014  1197.0      82.85  113.70000   \n8124  2007         135000     119000  0.228385  1493.0     110.00  235.35840   \n8125  2009         382000     120000  0.262371  1248.0      73.90  190.00000   \n8126  2013         290000      25000  0.320419  1396.0      70.00  140.00000   \n8127  2013         290000      25000  0.320419  1396.0      70.00  140.00000   \n\n      seats  name_Ashok  name_Audi  ...  name_Volvo  fuel_Diesel  fuel_Petrol  \\\n0       5.0           0          0  ...           0            1            0   \n1       5.0           0          0  ...           0            1            0   \n2       5.0           0          0  ...           0            0            1   \n3       5.0           0          0  ...           0            1            0   \n4       5.0           0          0  ...           0            0            1   \n...     ...         ...        ...  ...         ...          ...          ...   \n8123    5.0           0          0  ...           0            0            1   \n8124    5.0           0          0  ...           0            1            0   \n8125    5.0           0          0  ...           0            1            0   \n8126    5.0           0          0  ...           0            1            0   \n8127    5.0           0          0  ...           0            1            0   \n\n      seller_type_Individual  seller_type_Trustmark Dealer  \\\n0                          1                             0   \n1                          1                             0   \n2                          1                             0   \n3                          1                             0   \n4                          1                             0   \n...                      ...                           ...   \n8123                       1                             0   \n8124                       1                             0   \n8125                       1                             0   \n8126                       1                             0   \n8127                       1                             0   \n\n      transmission_Manual  owner_Fourth & Above Owner  owner_Second Owner  \\\n0                       1                           0                   0   \n1                       1                           0                   1   \n2                       1                           0                   0   \n3                       1                           0                   0   \n4                       1                           0                   0   \n...                   ...                         ...                 ...   \n8123                    1                           0                   0   \n8124                    1                           1                   0   \n8125                    1                           0                   0   \n8126                    1                           0                   0   \n8127                    1                           0                   0   \n\n      owner_Test Drive Car  owner_Third Owner  \n0                        0                  0  \n1                        0                  0  \n2                        0                  1  \n3                        0                  0  \n4                        0                  0  \n...                    ...                ...  \n8123                     0                  0  \n8124                     0                  0  \n8125                     0                  0  \n8126                     0                  0  \n8127                     0                  0  \n\n[7871 rows x 47 columns]",
      "text/html": "<div>\n<style scoped>\n    .dataframe tbody tr th:only-of-type {\n        vertical-align: middle;\n    }\n\n    .dataframe tbody tr th {\n        vertical-align: top;\n    }\n\n    .dataframe thead th {\n        text-align: right;\n    }\n</style>\n<table border=\"1\" class=\"dataframe\">\n  <thead>\n    <tr style=\"text-align: right;\">\n      <th></th>\n      <th>year</th>\n      <th>selling_price</th>\n      <th>km_driven</th>\n      <th>mileage</th>\n      <th>engine</th>\n      <th>max_power</th>\n      <th>torque</th>\n      <th>seats</th>\n      <th>name_Ashok</th>\n      <th>name_Audi</th>\n      <th>...</th>\n      <th>name_Volvo</th>\n      <th>fuel_Diesel</th>\n      <th>fuel_Petrol</th>\n      <th>seller_type_Individual</th>\n      <th>seller_type_Trustmark Dealer</th>\n      <th>transmission_Manual</th>\n      <th>owner_Fourth &amp; Above Owner</th>\n      <th>owner_Second Owner</th>\n      <th>owner_Test Drive Car</th>\n      <th>owner_Third Owner</th>\n    </tr>\n  </thead>\n  <tbody>\n    <tr>\n      <th>0</th>\n      <td>2014</td>\n      <td>450000</td>\n      <td>145500</td>\n      <td>0.318108</td>\n      <td>1248.0</td>\n      <td>74.00</td>\n      <td>190.00000</td>\n      <td>5.0</td>\n      <td>0</td>\n      <td>0</td>\n      <td>...</td>\n      <td>0</td>\n      <td>1</td>\n      <td>0</td>\n      <td>1</td>\n      <td>0</td>\n      <td>1</td>\n      <td>0</td>\n      <td>0</td>\n      <td>0</td>\n      <td>0</td>\n    </tr>\n    <tr>\n      <th>1</th>\n      <td>2014</td>\n      <td>370000</td>\n      <td>120000</td>\n      <td>0.287384</td>\n      <td>1498.0</td>\n      <td>103.52</td>\n      <td>250.00000</td>\n      <td>5.0</td>\n      <td>0</td>\n      <td>0</td>\n      <td>...</td>\n      <td>0</td>\n      <td>1</td>\n      <td>0</td>\n      <td>1</td>\n      <td>0</td>\n      <td>1</td>\n      <td>0</td>\n      <td>1</td>\n      <td>0</td>\n      <td>0</td>\n    </tr>\n    <tr>\n      <th>2</th>\n      <td>2006</td>\n      <td>158000</td>\n      <td>140000</td>\n      <td>0.220067</td>\n      <td>1497.0</td>\n      <td>78.00</td>\n      <td>124.54382</td>\n      <td>5.0</td>\n      <td>0</td>\n      <td>0</td>\n      <td>...</td>\n      <td>0</td>\n      <td>0</td>\n      <td>1</td>\n      <td>1</td>\n      <td>0</td>\n      <td>1</td>\n      <td>0</td>\n      <td>0</td>\n      <td>0</td>\n      <td>1</td>\n    </tr>\n    <tr>\n      <th>3</th>\n      <td>2010</td>\n      <td>225000</td>\n      <td>127000</td>\n      <td>0.312670</td>\n      <td>1396.0</td>\n      <td>90.00</td>\n      <td>219.66784</td>\n      <td>5.0</td>\n      <td>0</td>\n      <td>0</td>\n      <td>...</td>\n      <td>0</td>\n      <td>1</td>\n      <td>0</td>\n      <td>1</td>\n      <td>0</td>\n      <td>1</td>\n      <td>0</td>\n      <td>0</td>\n      <td>0</td>\n      <td>0</td>\n    </tr>\n    <tr>\n      <th>4</th>\n      <td>2007</td>\n      <td>130000</td>\n      <td>120000</td>\n      <td>0.200174</td>\n      <td>1298.0</td>\n      <td>88.20</td>\n      <td>112.77590</td>\n      <td>5.0</td>\n      <td>0</td>\n      <td>0</td>\n      <td>...</td>\n      <td>0</td>\n      <td>0</td>\n      <td>1</td>\n      <td>1</td>\n      <td>0</td>\n      <td>1</td>\n      <td>0</td>\n      <td>0</td>\n      <td>0</td>\n      <td>0</td>\n    </tr>\n    <tr>\n      <th>...</th>\n      <td>...</td>\n      <td>...</td>\n      <td>...</td>\n      <td>...</td>\n      <td>...</td>\n      <td>...</td>\n      <td>...</td>\n      <td>...</td>\n      <td>...</td>\n      <td>...</td>\n      <td>...</td>\n      <td>...</td>\n      <td>...</td>\n      <td>...</td>\n      <td>...</td>\n      <td>...</td>\n      <td>...</td>\n      <td>...</td>\n      <td>...</td>\n      <td>...</td>\n      <td>...</td>\n    </tr>\n    <tr>\n      <th>8123</th>\n      <td>2013</td>\n      <td>320000</td>\n      <td>110000</td>\n      <td>0.230014</td>\n      <td>1197.0</td>\n      <td>82.85</td>\n      <td>113.70000</td>\n      <td>5.0</td>\n      <td>0</td>\n      <td>0</td>\n      <td>...</td>\n      <td>0</td>\n      <td>0</td>\n      <td>1</td>\n      <td>1</td>\n      <td>0</td>\n      <td>1</td>\n      <td>0</td>\n      <td>0</td>\n      <td>0</td>\n      <td>0</td>\n    </tr>\n    <tr>\n      <th>8124</th>\n      <td>2007</td>\n      <td>135000</td>\n      <td>119000</td>\n      <td>0.228385</td>\n      <td>1493.0</td>\n      <td>110.00</td>\n      <td>235.35840</td>\n      <td>5.0</td>\n      <td>0</td>\n      <td>0</td>\n      <td>...</td>\n      <td>0</td>\n      <td>1</td>\n      <td>0</td>\n      <td>1</td>\n      <td>0</td>\n      <td>1</td>\n      <td>1</td>\n      <td>0</td>\n      <td>0</td>\n      <td>0</td>\n    </tr>\n    <tr>\n      <th>8125</th>\n      <td>2009</td>\n      <td>382000</td>\n      <td>120000</td>\n      <td>0.262371</td>\n      <td>1248.0</td>\n      <td>73.90</td>\n      <td>190.00000</td>\n      <td>5.0</td>\n      <td>0</td>\n      <td>0</td>\n      <td>...</td>\n      <td>0</td>\n      <td>1</td>\n      <td>0</td>\n      <td>1</td>\n      <td>0</td>\n      <td>1</td>\n      <td>0</td>\n      <td>0</td>\n      <td>0</td>\n      <td>0</td>\n    </tr>\n    <tr>\n      <th>8126</th>\n      <td>2013</td>\n      <td>290000</td>\n      <td>25000</td>\n      <td>0.320419</td>\n      <td>1396.0</td>\n      <td>70.00</td>\n      <td>140.00000</td>\n      <td>5.0</td>\n      <td>0</td>\n      <td>0</td>\n      <td>...</td>\n      <td>0</td>\n      <td>1</td>\n      <td>0</td>\n      <td>1</td>\n      <td>0</td>\n      <td>1</td>\n      <td>0</td>\n      <td>0</td>\n      <td>0</td>\n      <td>0</td>\n    </tr>\n    <tr>\n      <th>8127</th>\n      <td>2013</td>\n      <td>290000</td>\n      <td>25000</td>\n      <td>0.320419</td>\n      <td>1396.0</td>\n      <td>70.00</td>\n      <td>140.00000</td>\n      <td>5.0</td>\n      <td>0</td>\n      <td>0</td>\n      <td>...</td>\n      <td>0</td>\n      <td>1</td>\n      <td>0</td>\n      <td>1</td>\n      <td>0</td>\n      <td>1</td>\n      <td>0</td>\n      <td>0</td>\n      <td>0</td>\n      <td>0</td>\n    </tr>\n  </tbody>\n</table>\n<p>7871 rows × 47 columns</p>\n</div>"
     },
     "execution_count": 281,
     "metadata": {},
     "output_type": "execute_result"
    }
   ],
   "source": [
    "data = pd.get_dummies(data , columns = ['name' , 'fuel' , 'seller_type' , 'transmission' , 'owner'], drop_first= True)\n",
    "data"
   ],
   "metadata": {
    "collapsed": false,
    "pycharm": {
     "name": "#%%\n"
    }
   }
  },
  {
   "cell_type": "code",
   "execution_count": 282,
   "outputs": [],
   "source": [
    "from sklearn.model_selection import train_test_split\n",
    "\n",
    "X_train , X_test, y_train , y_test = train_test_split(data.drop('selling_price' , axis =1 ) , data['selling_price'] , test_size= 0.2 ,random_state=100)\n",
    "# 훈련 셋/ 시험 셋 분리\n"
   ],
   "metadata": {
    "collapsed": false,
    "pycharm": {
     "name": "#%%\n"
    }
   }
  },
  {
   "cell_type": "code",
   "execution_count": 283,
   "outputs": [],
   "source": [
    "from sklearn.ensemble import RandomForestClassifier\n",
    "\n",
    "model = RandomForestClassifier(random_state= 100)\n",
    "model.fit(X_train , y_train)\n",
    "train_pred = model.predict(X_train)\n",
    "test_pred = model.predict(X_test)"
   ],
   "metadata": {
    "collapsed": false,
    "pycharm": {
     "name": "#%%\n"
    }
   }
  },
  {
   "cell_type": "code",
   "execution_count": 284,
   "outputs": [
    {
     "name": "stdout",
     "output_type": "stream",
     "text": [
      "train_rmse :  19307.50648187511 test_rmse :  187456.4594095657\n"
     ]
    }
   ],
   "source": [
    "from sklearn.metrics import mean_squared_error #RMSE 이용\n",
    "\n",
    "print('train_rmse : ' , mean_squared_error(y_train , train_pred)**0.5 , 'test_rmse : ' , mean_squared_error(y_test , test_pred) **0.5)"
   ],
   "metadata": {
    "collapsed": false,
    "pycharm": {
     "name": "#%%\n"
    }
   }
  },
  {
   "cell_type": "code",
   "execution_count": 288,
   "outputs": [],
   "source": [
    "from sklearn.model_selection import KFold\n",
    "\n",
    "\n",
    "data.reset_index(drop=True , inplace =True) # drop 매개변수를 사용하지 않으면 기존 인덱스가 새로운 컬럼 형태로 추가된다.\n",
    "\n"
   ],
   "metadata": {
    "collapsed": false,
    "pycharm": {
     "name": "#%%\n"
    }
   }
  },
  {
   "cell_type": "code",
   "execution_count": 289,
   "outputs": [
    {
     "data": {
      "text/plain": "      year  selling_price  km_driven   mileage  engine  max_power     torque  \\\n0     2014         450000     145500  0.318108  1248.0      74.00  190.00000   \n1     2014         370000     120000  0.287384  1498.0     103.52  250.00000   \n2     2006         158000     140000  0.220067  1497.0      78.00  124.54382   \n3     2010         225000     127000  0.312670  1396.0      90.00  219.66784   \n4     2007         130000     120000  0.200174  1298.0      88.20  112.77590   \n...    ...            ...        ...       ...     ...        ...        ...   \n7866  2013         320000     110000  0.230014  1197.0      82.85  113.70000   \n7867  2007         135000     119000  0.228385  1493.0     110.00  235.35840   \n7868  2009         382000     120000  0.262371  1248.0      73.90  190.00000   \n7869  2013         290000      25000  0.320419  1396.0      70.00  140.00000   \n7870  2013         290000      25000  0.320419  1396.0      70.00  140.00000   \n\n      seats  name_Ashok  name_Audi  ...  name_Volvo  fuel_Diesel  fuel_Petrol  \\\n0       5.0           0          0  ...           0            1            0   \n1       5.0           0          0  ...           0            1            0   \n2       5.0           0          0  ...           0            0            1   \n3       5.0           0          0  ...           0            1            0   \n4       5.0           0          0  ...           0            0            1   \n...     ...         ...        ...  ...         ...          ...          ...   \n7866    5.0           0          0  ...           0            0            1   \n7867    5.0           0          0  ...           0            1            0   \n7868    5.0           0          0  ...           0            1            0   \n7869    5.0           0          0  ...           0            1            0   \n7870    5.0           0          0  ...           0            1            0   \n\n      seller_type_Individual  seller_type_Trustmark Dealer  \\\n0                          1                             0   \n1                          1                             0   \n2                          1                             0   \n3                          1                             0   \n4                          1                             0   \n...                      ...                           ...   \n7866                       1                             0   \n7867                       1                             0   \n7868                       1                             0   \n7869                       1                             0   \n7870                       1                             0   \n\n      transmission_Manual  owner_Fourth & Above Owner  owner_Second Owner  \\\n0                       1                           0                   0   \n1                       1                           0                   1   \n2                       1                           0                   0   \n3                       1                           0                   0   \n4                       1                           0                   0   \n...                   ...                         ...                 ...   \n7866                    1                           0                   0   \n7867                    1                           1                   0   \n7868                    1                           0                   0   \n7869                    1                           0                   0   \n7870                    1                           0                   0   \n\n      owner_Test Drive Car  owner_Third Owner  \n0                        0                  0  \n1                        0                  0  \n2                        0                  1  \n3                        0                  0  \n4                        0                  0  \n...                    ...                ...  \n7866                     0                  0  \n7867                     0                  0  \n7868                     0                  0  \n7869                     0                  0  \n7870                     0                  0  \n\n[7871 rows x 47 columns]",
      "text/html": "<div>\n<style scoped>\n    .dataframe tbody tr th:only-of-type {\n        vertical-align: middle;\n    }\n\n    .dataframe tbody tr th {\n        vertical-align: top;\n    }\n\n    .dataframe thead th {\n        text-align: right;\n    }\n</style>\n<table border=\"1\" class=\"dataframe\">\n  <thead>\n    <tr style=\"text-align: right;\">\n      <th></th>\n      <th>year</th>\n      <th>selling_price</th>\n      <th>km_driven</th>\n      <th>mileage</th>\n      <th>engine</th>\n      <th>max_power</th>\n      <th>torque</th>\n      <th>seats</th>\n      <th>name_Ashok</th>\n      <th>name_Audi</th>\n      <th>...</th>\n      <th>name_Volvo</th>\n      <th>fuel_Diesel</th>\n      <th>fuel_Petrol</th>\n      <th>seller_type_Individual</th>\n      <th>seller_type_Trustmark Dealer</th>\n      <th>transmission_Manual</th>\n      <th>owner_Fourth &amp; Above Owner</th>\n      <th>owner_Second Owner</th>\n      <th>owner_Test Drive Car</th>\n      <th>owner_Third Owner</th>\n    </tr>\n  </thead>\n  <tbody>\n    <tr>\n      <th>0</th>\n      <td>2014</td>\n      <td>450000</td>\n      <td>145500</td>\n      <td>0.318108</td>\n      <td>1248.0</td>\n      <td>74.00</td>\n      <td>190.00000</td>\n      <td>5.0</td>\n      <td>0</td>\n      <td>0</td>\n      <td>...</td>\n      <td>0</td>\n      <td>1</td>\n      <td>0</td>\n      <td>1</td>\n      <td>0</td>\n      <td>1</td>\n      <td>0</td>\n      <td>0</td>\n      <td>0</td>\n      <td>0</td>\n    </tr>\n    <tr>\n      <th>1</th>\n      <td>2014</td>\n      <td>370000</td>\n      <td>120000</td>\n      <td>0.287384</td>\n      <td>1498.0</td>\n      <td>103.52</td>\n      <td>250.00000</td>\n      <td>5.0</td>\n      <td>0</td>\n      <td>0</td>\n      <td>...</td>\n      <td>0</td>\n      <td>1</td>\n      <td>0</td>\n      <td>1</td>\n      <td>0</td>\n      <td>1</td>\n      <td>0</td>\n      <td>1</td>\n      <td>0</td>\n      <td>0</td>\n    </tr>\n    <tr>\n      <th>2</th>\n      <td>2006</td>\n      <td>158000</td>\n      <td>140000</td>\n      <td>0.220067</td>\n      <td>1497.0</td>\n      <td>78.00</td>\n      <td>124.54382</td>\n      <td>5.0</td>\n      <td>0</td>\n      <td>0</td>\n      <td>...</td>\n      <td>0</td>\n      <td>0</td>\n      <td>1</td>\n      <td>1</td>\n      <td>0</td>\n      <td>1</td>\n      <td>0</td>\n      <td>0</td>\n      <td>0</td>\n      <td>1</td>\n    </tr>\n    <tr>\n      <th>3</th>\n      <td>2010</td>\n      <td>225000</td>\n      <td>127000</td>\n      <td>0.312670</td>\n      <td>1396.0</td>\n      <td>90.00</td>\n      <td>219.66784</td>\n      <td>5.0</td>\n      <td>0</td>\n      <td>0</td>\n      <td>...</td>\n      <td>0</td>\n      <td>1</td>\n      <td>0</td>\n      <td>1</td>\n      <td>0</td>\n      <td>1</td>\n      <td>0</td>\n      <td>0</td>\n      <td>0</td>\n      <td>0</td>\n    </tr>\n    <tr>\n      <th>4</th>\n      <td>2007</td>\n      <td>130000</td>\n      <td>120000</td>\n      <td>0.200174</td>\n      <td>1298.0</td>\n      <td>88.20</td>\n      <td>112.77590</td>\n      <td>5.0</td>\n      <td>0</td>\n      <td>0</td>\n      <td>...</td>\n      <td>0</td>\n      <td>0</td>\n      <td>1</td>\n      <td>1</td>\n      <td>0</td>\n      <td>1</td>\n      <td>0</td>\n      <td>0</td>\n      <td>0</td>\n      <td>0</td>\n    </tr>\n    <tr>\n      <th>...</th>\n      <td>...</td>\n      <td>...</td>\n      <td>...</td>\n      <td>...</td>\n      <td>...</td>\n      <td>...</td>\n      <td>...</td>\n      <td>...</td>\n      <td>...</td>\n      <td>...</td>\n      <td>...</td>\n      <td>...</td>\n      <td>...</td>\n      <td>...</td>\n      <td>...</td>\n      <td>...</td>\n      <td>...</td>\n      <td>...</td>\n      <td>...</td>\n      <td>...</td>\n      <td>...</td>\n    </tr>\n    <tr>\n      <th>7866</th>\n      <td>2013</td>\n      <td>320000</td>\n      <td>110000</td>\n      <td>0.230014</td>\n      <td>1197.0</td>\n      <td>82.85</td>\n      <td>113.70000</td>\n      <td>5.0</td>\n      <td>0</td>\n      <td>0</td>\n      <td>...</td>\n      <td>0</td>\n      <td>0</td>\n      <td>1</td>\n      <td>1</td>\n      <td>0</td>\n      <td>1</td>\n      <td>0</td>\n      <td>0</td>\n      <td>0</td>\n      <td>0</td>\n    </tr>\n    <tr>\n      <th>7867</th>\n      <td>2007</td>\n      <td>135000</td>\n      <td>119000</td>\n      <td>0.228385</td>\n      <td>1493.0</td>\n      <td>110.00</td>\n      <td>235.35840</td>\n      <td>5.0</td>\n      <td>0</td>\n      <td>0</td>\n      <td>...</td>\n      <td>0</td>\n      <td>1</td>\n      <td>0</td>\n      <td>1</td>\n      <td>0</td>\n      <td>1</td>\n      <td>1</td>\n      <td>0</td>\n      <td>0</td>\n      <td>0</td>\n    </tr>\n    <tr>\n      <th>7868</th>\n      <td>2009</td>\n      <td>382000</td>\n      <td>120000</td>\n      <td>0.262371</td>\n      <td>1248.0</td>\n      <td>73.90</td>\n      <td>190.00000</td>\n      <td>5.0</td>\n      <td>0</td>\n      <td>0</td>\n      <td>...</td>\n      <td>0</td>\n      <td>1</td>\n      <td>0</td>\n      <td>1</td>\n      <td>0</td>\n      <td>1</td>\n      <td>0</td>\n      <td>0</td>\n      <td>0</td>\n      <td>0</td>\n    </tr>\n    <tr>\n      <th>7869</th>\n      <td>2013</td>\n      <td>290000</td>\n      <td>25000</td>\n      <td>0.320419</td>\n      <td>1396.0</td>\n      <td>70.00</td>\n      <td>140.00000</td>\n      <td>5.0</td>\n      <td>0</td>\n      <td>0</td>\n      <td>...</td>\n      <td>0</td>\n      <td>1</td>\n      <td>0</td>\n      <td>1</td>\n      <td>0</td>\n      <td>1</td>\n      <td>0</td>\n      <td>0</td>\n      <td>0</td>\n      <td>0</td>\n    </tr>\n    <tr>\n      <th>7870</th>\n      <td>2013</td>\n      <td>290000</td>\n      <td>25000</td>\n      <td>0.320419</td>\n      <td>1396.0</td>\n      <td>70.00</td>\n      <td>140.00000</td>\n      <td>5.0</td>\n      <td>0</td>\n      <td>0</td>\n      <td>...</td>\n      <td>0</td>\n      <td>1</td>\n      <td>0</td>\n      <td>1</td>\n      <td>0</td>\n      <td>1</td>\n      <td>0</td>\n      <td>0</td>\n      <td>0</td>\n      <td>0</td>\n    </tr>\n  </tbody>\n</table>\n<p>7871 rows × 47 columns</p>\n</div>"
     },
     "execution_count": 289,
     "metadata": {},
     "output_type": "execute_result"
    }
   ],
   "source": [
    "data"
   ],
   "metadata": {
    "collapsed": false,
    "pycharm": {
     "name": "#%%\n"
    }
   }
  },
  {
   "cell_type": "code",
   "execution_count": 290,
   "outputs": [],
   "source": [
    "kf = KFold(n_splits=5) #KFold 객체 생성 , 5개로 분할\n",
    "\n",
    "X = data.drop('selling_price' , axis =1 ) # 종속변수 제거하여 X에 저장\n",
    "y = data['selling_price'] # 종속변수를 y에 저장"
   ],
   "metadata": {
    "collapsed": false,
    "pycharm": {
     "name": "#%%\n"
    }
   }
  },
  {
   "cell_type": "code",
   "execution_count": 292,
   "outputs": [
    {
     "data": {
      "text/plain": "      year  km_driven   mileage  engine  max_power     torque  seats  \\\n0     2014     145500  0.318108  1248.0      74.00  190.00000    5.0   \n1     2014     120000  0.287384  1498.0     103.52  250.00000    5.0   \n2     2006     140000  0.220067  1497.0      78.00  124.54382    5.0   \n3     2010     127000  0.312670  1396.0      90.00  219.66784    5.0   \n4     2007     120000  0.200174  1298.0      88.20  112.77590    5.0   \n...    ...        ...       ...     ...        ...        ...    ...   \n7866  2013     110000  0.230014  1197.0      82.85  113.70000    5.0   \n7867  2007     119000  0.228385  1493.0     110.00  235.35840    5.0   \n7868  2009     120000  0.262371  1248.0      73.90  190.00000    5.0   \n7869  2013      25000  0.320419  1396.0      70.00  140.00000    5.0   \n7870  2013      25000  0.320419  1396.0      70.00  140.00000    5.0   \n\n      name_Ashok  name_Audi  name_BMW  ...  name_Volvo  fuel_Diesel  \\\n0              0          0         0  ...           0            1   \n1              0          0         0  ...           0            1   \n2              0          0         0  ...           0            0   \n3              0          0         0  ...           0            1   \n4              0          0         0  ...           0            0   \n...          ...        ...       ...  ...         ...          ...   \n7866           0          0         0  ...           0            0   \n7867           0          0         0  ...           0            1   \n7868           0          0         0  ...           0            1   \n7869           0          0         0  ...           0            1   \n7870           0          0         0  ...           0            1   \n\n      fuel_Petrol  seller_type_Individual  seller_type_Trustmark Dealer  \\\n0               0                       1                             0   \n1               0                       1                             0   \n2               1                       1                             0   \n3               0                       1                             0   \n4               1                       1                             0   \n...           ...                     ...                           ...   \n7866            1                       1                             0   \n7867            0                       1                             0   \n7868            0                       1                             0   \n7869            0                       1                             0   \n7870            0                       1                             0   \n\n      transmission_Manual  owner_Fourth & Above Owner  owner_Second Owner  \\\n0                       1                           0                   0   \n1                       1                           0                   1   \n2                       1                           0                   0   \n3                       1                           0                   0   \n4                       1                           0                   0   \n...                   ...                         ...                 ...   \n7866                    1                           0                   0   \n7867                    1                           1                   0   \n7868                    1                           0                   0   \n7869                    1                           0                   0   \n7870                    1                           0                   0   \n\n      owner_Test Drive Car  owner_Third Owner  \n0                        0                  0  \n1                        0                  0  \n2                        0                  1  \n3                        0                  0  \n4                        0                  0  \n...                    ...                ...  \n7866                     0                  0  \n7867                     0                  0  \n7868                     0                  0  \n7869                     0                  0  \n7870                     0                  0  \n\n[7871 rows x 46 columns]",
      "text/html": "<div>\n<style scoped>\n    .dataframe tbody tr th:only-of-type {\n        vertical-align: middle;\n    }\n\n    .dataframe tbody tr th {\n        vertical-align: top;\n    }\n\n    .dataframe thead th {\n        text-align: right;\n    }\n</style>\n<table border=\"1\" class=\"dataframe\">\n  <thead>\n    <tr style=\"text-align: right;\">\n      <th></th>\n      <th>year</th>\n      <th>km_driven</th>\n      <th>mileage</th>\n      <th>engine</th>\n      <th>max_power</th>\n      <th>torque</th>\n      <th>seats</th>\n      <th>name_Ashok</th>\n      <th>name_Audi</th>\n      <th>name_BMW</th>\n      <th>...</th>\n      <th>name_Volvo</th>\n      <th>fuel_Diesel</th>\n      <th>fuel_Petrol</th>\n      <th>seller_type_Individual</th>\n      <th>seller_type_Trustmark Dealer</th>\n      <th>transmission_Manual</th>\n      <th>owner_Fourth &amp; Above Owner</th>\n      <th>owner_Second Owner</th>\n      <th>owner_Test Drive Car</th>\n      <th>owner_Third Owner</th>\n    </tr>\n  </thead>\n  <tbody>\n    <tr>\n      <th>0</th>\n      <td>2014</td>\n      <td>145500</td>\n      <td>0.318108</td>\n      <td>1248.0</td>\n      <td>74.00</td>\n      <td>190.00000</td>\n      <td>5.0</td>\n      <td>0</td>\n      <td>0</td>\n      <td>0</td>\n      <td>...</td>\n      <td>0</td>\n      <td>1</td>\n      <td>0</td>\n      <td>1</td>\n      <td>0</td>\n      <td>1</td>\n      <td>0</td>\n      <td>0</td>\n      <td>0</td>\n      <td>0</td>\n    </tr>\n    <tr>\n      <th>1</th>\n      <td>2014</td>\n      <td>120000</td>\n      <td>0.287384</td>\n      <td>1498.0</td>\n      <td>103.52</td>\n      <td>250.00000</td>\n      <td>5.0</td>\n      <td>0</td>\n      <td>0</td>\n      <td>0</td>\n      <td>...</td>\n      <td>0</td>\n      <td>1</td>\n      <td>0</td>\n      <td>1</td>\n      <td>0</td>\n      <td>1</td>\n      <td>0</td>\n      <td>1</td>\n      <td>0</td>\n      <td>0</td>\n    </tr>\n    <tr>\n      <th>2</th>\n      <td>2006</td>\n      <td>140000</td>\n      <td>0.220067</td>\n      <td>1497.0</td>\n      <td>78.00</td>\n      <td>124.54382</td>\n      <td>5.0</td>\n      <td>0</td>\n      <td>0</td>\n      <td>0</td>\n      <td>...</td>\n      <td>0</td>\n      <td>0</td>\n      <td>1</td>\n      <td>1</td>\n      <td>0</td>\n      <td>1</td>\n      <td>0</td>\n      <td>0</td>\n      <td>0</td>\n      <td>1</td>\n    </tr>\n    <tr>\n      <th>3</th>\n      <td>2010</td>\n      <td>127000</td>\n      <td>0.312670</td>\n      <td>1396.0</td>\n      <td>90.00</td>\n      <td>219.66784</td>\n      <td>5.0</td>\n      <td>0</td>\n      <td>0</td>\n      <td>0</td>\n      <td>...</td>\n      <td>0</td>\n      <td>1</td>\n      <td>0</td>\n      <td>1</td>\n      <td>0</td>\n      <td>1</td>\n      <td>0</td>\n      <td>0</td>\n      <td>0</td>\n      <td>0</td>\n    </tr>\n    <tr>\n      <th>4</th>\n      <td>2007</td>\n      <td>120000</td>\n      <td>0.200174</td>\n      <td>1298.0</td>\n      <td>88.20</td>\n      <td>112.77590</td>\n      <td>5.0</td>\n      <td>0</td>\n      <td>0</td>\n      <td>0</td>\n      <td>...</td>\n      <td>0</td>\n      <td>0</td>\n      <td>1</td>\n      <td>1</td>\n      <td>0</td>\n      <td>1</td>\n      <td>0</td>\n      <td>0</td>\n      <td>0</td>\n      <td>0</td>\n    </tr>\n    <tr>\n      <th>...</th>\n      <td>...</td>\n      <td>...</td>\n      <td>...</td>\n      <td>...</td>\n      <td>...</td>\n      <td>...</td>\n      <td>...</td>\n      <td>...</td>\n      <td>...</td>\n      <td>...</td>\n      <td>...</td>\n      <td>...</td>\n      <td>...</td>\n      <td>...</td>\n      <td>...</td>\n      <td>...</td>\n      <td>...</td>\n      <td>...</td>\n      <td>...</td>\n      <td>...</td>\n      <td>...</td>\n    </tr>\n    <tr>\n      <th>7866</th>\n      <td>2013</td>\n      <td>110000</td>\n      <td>0.230014</td>\n      <td>1197.0</td>\n      <td>82.85</td>\n      <td>113.70000</td>\n      <td>5.0</td>\n      <td>0</td>\n      <td>0</td>\n      <td>0</td>\n      <td>...</td>\n      <td>0</td>\n      <td>0</td>\n      <td>1</td>\n      <td>1</td>\n      <td>0</td>\n      <td>1</td>\n      <td>0</td>\n      <td>0</td>\n      <td>0</td>\n      <td>0</td>\n    </tr>\n    <tr>\n      <th>7867</th>\n      <td>2007</td>\n      <td>119000</td>\n      <td>0.228385</td>\n      <td>1493.0</td>\n      <td>110.00</td>\n      <td>235.35840</td>\n      <td>5.0</td>\n      <td>0</td>\n      <td>0</td>\n      <td>0</td>\n      <td>...</td>\n      <td>0</td>\n      <td>1</td>\n      <td>0</td>\n      <td>1</td>\n      <td>0</td>\n      <td>1</td>\n      <td>1</td>\n      <td>0</td>\n      <td>0</td>\n      <td>0</td>\n    </tr>\n    <tr>\n      <th>7868</th>\n      <td>2009</td>\n      <td>120000</td>\n      <td>0.262371</td>\n      <td>1248.0</td>\n      <td>73.90</td>\n      <td>190.00000</td>\n      <td>5.0</td>\n      <td>0</td>\n      <td>0</td>\n      <td>0</td>\n      <td>...</td>\n      <td>0</td>\n      <td>1</td>\n      <td>0</td>\n      <td>1</td>\n      <td>0</td>\n      <td>1</td>\n      <td>0</td>\n      <td>0</td>\n      <td>0</td>\n      <td>0</td>\n    </tr>\n    <tr>\n      <th>7869</th>\n      <td>2013</td>\n      <td>25000</td>\n      <td>0.320419</td>\n      <td>1396.0</td>\n      <td>70.00</td>\n      <td>140.00000</td>\n      <td>5.0</td>\n      <td>0</td>\n      <td>0</td>\n      <td>0</td>\n      <td>...</td>\n      <td>0</td>\n      <td>1</td>\n      <td>0</td>\n      <td>1</td>\n      <td>0</td>\n      <td>1</td>\n      <td>0</td>\n      <td>0</td>\n      <td>0</td>\n      <td>0</td>\n    </tr>\n    <tr>\n      <th>7870</th>\n      <td>2013</td>\n      <td>25000</td>\n      <td>0.320419</td>\n      <td>1396.0</td>\n      <td>70.00</td>\n      <td>140.00000</td>\n      <td>5.0</td>\n      <td>0</td>\n      <td>0</td>\n      <td>0</td>\n      <td>...</td>\n      <td>0</td>\n      <td>1</td>\n      <td>0</td>\n      <td>1</td>\n      <td>0</td>\n      <td>1</td>\n      <td>0</td>\n      <td>0</td>\n      <td>0</td>\n      <td>0</td>\n    </tr>\n  </tbody>\n</table>\n<p>7871 rows × 46 columns</p>\n</div>"
     },
     "execution_count": 292,
     "metadata": {},
     "output_type": "execute_result"
    }
   ],
   "source": [
    "X"
   ],
   "metadata": {
    "collapsed": false,
    "pycharm": {
     "name": "#%%\n"
    }
   }
  },
  {
   "cell_type": "code",
   "execution_count": 293,
   "outputs": [
    {
     "data": {
      "text/plain": "0       450000\n1       370000\n2       158000\n3       225000\n4       130000\n         ...  \n7866    320000\n7867    135000\n7868    382000\n7869    290000\n7870    290000\nName: selling_price, Length: 7871, dtype: int64"
     },
     "execution_count": 293,
     "metadata": {},
     "output_type": "execute_result"
    }
   ],
   "source": [
    "y"
   ],
   "metadata": {
    "collapsed": false,
    "pycharm": {
     "name": "#%%\n"
    }
   }
  },
  {
   "cell_type": "code",
   "execution_count": 291,
   "outputs": [
    {
     "name": "stdout",
     "output_type": "stream",
     "text": [
      "[1575 1576 1577 ... 7868 7869 7870] [   0    1    2 ... 1572 1573 1574]\n",
      "[   0    1    2 ... 7868 7869 7870] [1575 1576 1577 ... 3146 3147 3148]\n",
      "[   0    1    2 ... 7868 7869 7870] [3149 3150 3151 ... 4720 4721 4722]\n",
      "[   0    1    2 ... 7868 7869 7870] [4723 4724 4725 ... 6294 6295 6296]\n",
      "[   0    1    2 ... 6294 6295 6296] [6297 6298 6299 ... 7868 7869 7870]\n"
     ]
    }
   ],
   "source": [
    "for i, j in kf.split(X) : # 순회\n",
    "    print(i , j )"
   ],
   "metadata": {
    "collapsed": false,
    "pycharm": {
     "name": "#%%\n"
    }
   }
  },
  {
   "cell_type": "code",
   "execution_count": 294,
   "outputs": [],
   "source": [
    "from sklearn.ensemble import RandomForestRegressor\n",
    "train_rmse_total = []\n",
    "test_rmse_total = []\n",
    "for train_index , test_index in kf.split(X):\n",
    "    X_train , X_test = X.loc[train_index] , X.loc[test_index]\n",
    "    y_train , y_test = y[train_index] , y[test_index]\n",
    "\n",
    "\n",
    "    model = RandomForestRegressor(random_state= 100) # 모델 객체 생성\n",
    "    model.fit(X_train , y_train) # 학습\n",
    "    train_pred = model.predict(X_train) # 훈련셋 예측\n",
    "    test_pred = model.predict(X_test) # 시험셋 예측\n",
    "\n",
    "    train_rmse = mean_squared_error(y_train , train_pred) **0.5 # 훈련 셋 rmse 계산\n",
    "\n",
    "    test_rmse = mean_squared_error(y_test , test_pred) **0.5 # 시험 셋 rmse 계산\n",
    "\n",
    "\n",
    "    train_rmse_total.append(train_rmse)\n",
    "\n",
    "    test_rmse_total.append(test_rmse)"
   ],
   "metadata": {
    "collapsed": false,
    "pycharm": {
     "name": "#%%\n"
    }
   }
  },
  {
   "cell_type": "code",
   "execution_count": 295,
   "outputs": [
    {
     "data": {
      "text/plain": "[50182.631776723334,\n 55150.91743172602,\n 53344.46144527171,\n 53612.66417343678,\n 54573.94740047315]"
     },
     "execution_count": 295,
     "metadata": {},
     "output_type": "execute_result"
    }
   ],
   "source": [
    "train_rmse_total"
   ],
   "metadata": {
    "collapsed": false,
    "pycharm": {
     "name": "#%%\n"
    }
   }
  },
  {
   "cell_type": "code",
   "execution_count": 297,
   "outputs": [
    {
     "data": {
      "text/plain": "[161664.0540068676,\n 133801.20625411597,\n 125638.90379389358,\n 144407.36004001717,\n 144888.76592464716]"
     },
     "execution_count": 297,
     "metadata": {},
     "output_type": "execute_result"
    }
   ],
   "source": [
    "test_rmse_total"
   ],
   "metadata": {
    "collapsed": false,
    "pycharm": {
     "name": "#%%\n"
    }
   }
  },
  {
   "cell_type": "code",
   "execution_count": 298,
   "outputs": [
    {
     "name": "stdout",
     "output_type": "stream",
     "text": [
      "train_rmse :  53372.924445526194 test_rmse : 142080.0580039083\n"
     ]
    }
   ],
   "source": [
    "print('train_rmse : ' , sum(train_rmse_total)/5 , 'test_rmse :' , sum(test_rmse_total)/5)"
   ],
   "metadata": {
    "collapsed": false,
    "pycharm": {
     "name": "#%%\n"
    }
   }
  },
  {
   "cell_type": "code",
   "execution_count": 299,
   "outputs": [],
   "source": [
    "from sklearn.ensemble import RandomForestRegressor\n",
    "train_rmse_total = []\n",
    "test_rmse_total = []\n",
    "for train_index , test_index in kf.split(X):\n",
    "    X_train , X_test = X.loc[train_index] , X.loc[test_index]\n",
    "    y_train , y_test = y[train_index] , y[test_index]\n",
    "\n",
    "\n",
    "    model = RandomForestRegressor(n_estimators= 300 , max_depth= 50 , min_samples_split=5 , min_samples_leaf= 1 , n_jobs= -1 , random_state= 100) # 모델 객체 생성\n",
    "    model.fit(X_train , y_train) # 학습\n",
    "    train_pred = model.predict(X_train) # 훈련셋 예측\n",
    "    test_pred = model.predict(X_test) # 시험셋 예측\n",
    "\n",
    "    train_rmse = mean_squared_error(y_train , train_pred) **0.5 # 훈련 셋 rmse 계산\n",
    "\n",
    "    test_rmse = mean_squared_error(y_test , test_pred) **0.5 # 시험 셋 rmse 계산\n",
    "\n",
    "\n",
    "    train_rmse_total.append(train_rmse)\n",
    "\n",
    "    test_rmse_total.append(test_rmse)"
   ],
   "metadata": {
    "collapsed": false,
    "pycharm": {
     "name": "#%%\n"
    }
   }
  },
  {
   "cell_type": "code",
   "execution_count": 300,
   "outputs": [
    {
     "name": "stdout",
     "output_type": "stream",
     "text": [
      "train_rmse :  66247.10952681283 test_rmse : 143874.03733534855\n"
     ]
    }
   ],
   "source": [
    "print('train_rmse : ' , sum(train_rmse_total)/5 , 'test_rmse :' , sum(test_rmse_total)/5)"
   ],
   "metadata": {
    "collapsed": false,
    "pycharm": {
     "name": "#%%\n"
    }
   }
  },
  {
   "cell_type": "code",
   "execution_count": 301,
   "outputs": [
    {
     "ename": "AttributeError",
     "evalue": "'RandomForestRegressor' object has no attribute 'tree_'",
     "output_type": "error",
     "traceback": [
      "\u001B[1;31m---------------------------------------------------------------------------\u001B[0m",
      "\u001B[1;31mAttributeError\u001B[0m                            Traceback (most recent call last)",
      "\u001B[1;32m<ipython-input-301-513fda6a69cd>\u001B[0m in \u001B[0;36m<module>\u001B[1;34m\u001B[0m\n\u001B[0;32m      3\u001B[0m \u001B[0mfig\u001B[0m \u001B[1;33m=\u001B[0m \u001B[0mplt\u001B[0m\u001B[1;33m.\u001B[0m\u001B[0mfigure\u001B[0m\u001B[1;33m(\u001B[0m\u001B[0mfigsize\u001B[0m \u001B[1;33m=\u001B[0m  \u001B[1;33m(\u001B[0m\u001B[1;36m30\u001B[0m\u001B[1;33m,\u001B[0m\u001B[1;36m15\u001B[0m\u001B[1;33m)\u001B[0m\u001B[1;33m)\u001B[0m \u001B[1;31m# 그래프 크기 설정\u001B[0m\u001B[1;33m\u001B[0m\u001B[1;33m\u001B[0m\u001B[0m\n\u001B[0;32m      4\u001B[0m \u001B[1;33m\u001B[0m\u001B[0m\n\u001B[1;32m----> 5\u001B[1;33m \u001B[0max\u001B[0m \u001B[1;33m=\u001B[0m \u001B[0mplot_tree\u001B[0m\u001B[1;33m(\u001B[0m\u001B[0mmodel\u001B[0m \u001B[1;33m,\u001B[0m \u001B[0mmax_depth\u001B[0m\u001B[1;33m=\u001B[0m \u001B[1;36m3\u001B[0m \u001B[1;33m,\u001B[0m \u001B[0mfontsize\u001B[0m \u001B[1;33m=\u001B[0m \u001B[1;36m15\u001B[0m\u001B[1;33m)\u001B[0m \u001B[1;31m# 트리 그래프 출력\u001B[0m\u001B[1;33m\u001B[0m\u001B[1;33m\u001B[0m\u001B[0m\n\u001B[0m\u001B[0;32m      6\u001B[0m \u001B[1;33m\u001B[0m\u001B[0m\n\u001B[0;32m      7\u001B[0m \u001B[0mplt\u001B[0m\u001B[1;33m.\u001B[0m\u001B[0mshow\u001B[0m\u001B[1;33m(\u001B[0m\u001B[1;33m)\u001B[0m\u001B[1;33m\u001B[0m\u001B[1;33m\u001B[0m\u001B[0m\n",
      "\u001B[1;32m~\\anaconda3\\lib\\site-packages\\sklearn\\utils\\validation.py\u001B[0m in \u001B[0;36minner_f\u001B[1;34m(*args, **kwargs)\u001B[0m\n\u001B[0;32m     61\u001B[0m             \u001B[0mextra_args\u001B[0m \u001B[1;33m=\u001B[0m \u001B[0mlen\u001B[0m\u001B[1;33m(\u001B[0m\u001B[0margs\u001B[0m\u001B[1;33m)\u001B[0m \u001B[1;33m-\u001B[0m \u001B[0mlen\u001B[0m\u001B[1;33m(\u001B[0m\u001B[0mall_args\u001B[0m\u001B[1;33m)\u001B[0m\u001B[1;33m\u001B[0m\u001B[1;33m\u001B[0m\u001B[0m\n\u001B[0;32m     62\u001B[0m             \u001B[1;32mif\u001B[0m \u001B[0mextra_args\u001B[0m \u001B[1;33m<=\u001B[0m \u001B[1;36m0\u001B[0m\u001B[1;33m:\u001B[0m\u001B[1;33m\u001B[0m\u001B[1;33m\u001B[0m\u001B[0m\n\u001B[1;32m---> 63\u001B[1;33m                 \u001B[1;32mreturn\u001B[0m \u001B[0mf\u001B[0m\u001B[1;33m(\u001B[0m\u001B[1;33m*\u001B[0m\u001B[0margs\u001B[0m\u001B[1;33m,\u001B[0m \u001B[1;33m**\u001B[0m\u001B[0mkwargs\u001B[0m\u001B[1;33m)\u001B[0m\u001B[1;33m\u001B[0m\u001B[1;33m\u001B[0m\u001B[0m\n\u001B[0m\u001B[0;32m     64\u001B[0m \u001B[1;33m\u001B[0m\u001B[0m\n\u001B[0;32m     65\u001B[0m             \u001B[1;31m# extra_args > 0\u001B[0m\u001B[1;33m\u001B[0m\u001B[1;33m\u001B[0m\u001B[1;33m\u001B[0m\u001B[0m\n",
      "\u001B[1;32m~\\anaconda3\\lib\\site-packages\\sklearn\\tree\\_export.py\u001B[0m in \u001B[0;36mplot_tree\u001B[1;34m(decision_tree, max_depth, feature_names, class_names, label, filled, impurity, node_ids, proportion, rotate, rounded, precision, ax, fontsize)\u001B[0m\n\u001B[0;32m    192\u001B[0m         \u001B[0mproportion\u001B[0m\u001B[1;33m=\u001B[0m\u001B[0mproportion\u001B[0m\u001B[1;33m,\u001B[0m \u001B[0mrotate\u001B[0m\u001B[1;33m=\u001B[0m\u001B[0mrotate\u001B[0m\u001B[1;33m,\u001B[0m \u001B[0mrounded\u001B[0m\u001B[1;33m=\u001B[0m\u001B[0mrounded\u001B[0m\u001B[1;33m,\u001B[0m\u001B[1;33m\u001B[0m\u001B[1;33m\u001B[0m\u001B[0m\n\u001B[0;32m    193\u001B[0m         precision=precision, fontsize=fontsize)\n\u001B[1;32m--> 194\u001B[1;33m     \u001B[1;32mreturn\u001B[0m \u001B[0mexporter\u001B[0m\u001B[1;33m.\u001B[0m\u001B[0mexport\u001B[0m\u001B[1;33m(\u001B[0m\u001B[0mdecision_tree\u001B[0m\u001B[1;33m,\u001B[0m \u001B[0max\u001B[0m\u001B[1;33m=\u001B[0m\u001B[0max\u001B[0m\u001B[1;33m)\u001B[0m\u001B[1;33m\u001B[0m\u001B[1;33m\u001B[0m\u001B[0m\n\u001B[0m\u001B[0;32m    195\u001B[0m \u001B[1;33m\u001B[0m\u001B[0m\n\u001B[0;32m    196\u001B[0m \u001B[1;33m\u001B[0m\u001B[0m\n",
      "\u001B[1;32m~\\anaconda3\\lib\\site-packages\\sklearn\\tree\\_export.py\u001B[0m in \u001B[0;36mexport\u001B[1;34m(self, decision_tree, ax)\u001B[0m\n\u001B[0;32m    582\u001B[0m         \u001B[0max\u001B[0m\u001B[1;33m.\u001B[0m\u001B[0mclear\u001B[0m\u001B[1;33m(\u001B[0m\u001B[1;33m)\u001B[0m\u001B[1;33m\u001B[0m\u001B[1;33m\u001B[0m\u001B[0m\n\u001B[0;32m    583\u001B[0m         \u001B[0max\u001B[0m\u001B[1;33m.\u001B[0m\u001B[0mset_axis_off\u001B[0m\u001B[1;33m(\u001B[0m\u001B[1;33m)\u001B[0m\u001B[1;33m\u001B[0m\u001B[1;33m\u001B[0m\u001B[0m\n\u001B[1;32m--> 584\u001B[1;33m         my_tree = self._make_tree(0, decision_tree.tree_,\n\u001B[0m\u001B[0;32m    585\u001B[0m                                   decision_tree.criterion)\n\u001B[0;32m    586\u001B[0m         \u001B[0mdraw_tree\u001B[0m \u001B[1;33m=\u001B[0m \u001B[0mbuchheim\u001B[0m\u001B[1;33m(\u001B[0m\u001B[0mmy_tree\u001B[0m\u001B[1;33m)\u001B[0m\u001B[1;33m\u001B[0m\u001B[1;33m\u001B[0m\u001B[0m\n",
      "\u001B[1;31mAttributeError\u001B[0m: 'RandomForestRegressor' object has no attribute 'tree_'"
     ]
    },
    {
     "data": {
      "text/plain": "<Figure size 2160x1080 with 1 Axes>",
      "image/png": "[encoded data removed]"
     },
     "metadata": {
      "needs_background": "light"
     },
     "output_type": "display_data"
    }
   ],
   "source": [
    "from sklearn.tree import plot_tree\n",
    "\n",
    "fig = plt.figure(figsize =  (30,15)) # 그래프 크기 설정\n",
    "\n",
    "ax = plot_tree(model , max_depth= 3 , fontsize = 15) # 트리 그래프 출력\n",
    "\n",
    "plt.show()"
   ],
   "metadata": {
    "collapsed": false,
    "pycharm": {
     "name": "#%%\n"
    }
   }
  },
  {
   "cell_type": "code",
   "execution_count": null,
   "outputs": [],
   "source": [],
   "metadata": {
    "collapsed": false,
    "pycharm": {
     "name": "#%%\n"
    }
   }
  }
 ],
 "metadata": {
  "kernelspec": {
   "display_name": "Python 3",
   "language": "python",
   "name": "python3"
  },
  "language_info": {
   "codemirror_mode": {
    "name": "ipython",
    "version": 2
   },
   "file_extension": ".py",
   "mimetype": "text/x-python",
   "name": "python",
   "nbconvert_exporter": "python",
   "pygments_lexer": "ipython2",
   "version": "2.7.6"
  }
 },
 "nbformat": 4,
 "nbformat_minor": 0
}