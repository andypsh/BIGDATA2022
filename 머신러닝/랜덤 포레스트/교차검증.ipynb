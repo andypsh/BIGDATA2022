{
 "cells": [
  {
   "cell_type": "code",
   "execution_count": 1,
   "metadata": {
    "collapsed": true,
    "pycharm": {
     "name": "#%%\n"
    }
   },
   "outputs": [
    {
     "name": "stdout",
     "output_type": "stream",
     "text": [
      "훈련 데이터 : [2 3 4 5 6 7 8 9] , 검증 데이터 : [0 1]\n",
      "훈련 데이터 : [0 1 4 5 6 7 8 9] , 검증 데이터 : [2 3]\n",
      "훈련 데이터 : [0 1 2 3 6 7 8 9] , 검증 데이터 : [4 5]\n",
      "훈련 데이터 : [0 1 2 3 4 5 8 9] , 검증 데이터 : [6 7]\n",
      "훈련 데이터 : [0 1 2 3 4 5 6 7] , 검증 데이터 : [8 9]\n"
     ]
    }
   ],
   "source": [
    "import numpy as np\n",
    "from sklearn.model_selection import KFold\n",
    "\n",
    "data = np.array([0,1,2,3,4,5,6,7,8,9])\n",
    "\n",
    "folds = KFold(n_splits= 5 ,shuffle= False)\n",
    "\n",
    "for train_idx , valid_idx in folds.split(data):\n",
    "    print(f'훈련 데이터 : {data[train_idx]} , 검증 데이터 : {data[valid_idx]}')"
   ]
  },
  {
   "cell_type": "code",
   "execution_count": 2,
   "outputs": [
    {
     "name": "stdout",
     "output_type": "stream",
     "text": [
      "훈련 데이터 : [0 2 3 4 5 6 7 9] , 검증 데이터 : [1 8]\n",
      "훈련 데이터 : [0 1 2 4 5 6 8 9] , 검증 데이터 : [3 7]\n",
      "훈련 데이터 : [0 1 2 3 4 5 7 8] , 검증 데이터 : [6 9]\n",
      "훈련 데이터 : [0 1 3 5 6 7 8 9] , 검증 데이터 : [2 4]\n",
      "훈련 데이터 : [1 2 3 4 6 7 8 9] , 검증 데이터 : [0 5]\n"
     ]
    }
   ],
   "source": [
    "folds = KFold(n_splits= 5 , shuffle= True)\n",
    "\n",
    "for train_idx , valid_idx in folds.split(data):\n",
    "    print(f'훈련 데이터 : {data[train_idx]} , 검증 데이터 : {data[valid_idx]}')"
   ],
   "metadata": {
    "collapsed": false,
    "pycharm": {
     "name": "#%%\n"
    }
   }
  },
  {
   "cell_type": "code",
   "execution_count": 6,
   "outputs": [
    {
     "name": "stdout",
     "output_type": "stream",
     "text": [
      "Fold 1 검증 데이터 타깃값 : \n",
      "['스팸' '일반' '일반' '일반' '일반' '일반' '일반' '일반' '일반' '일반'] \n",
      "\n",
      "Fold 2 검증 데이터 타깃값 : \n",
      "['일반' '일반' '일반' '일반' '일반' '일반' '일반' '일반' '일반' '일반'] \n",
      "\n",
      "Fold 3 검증 데이터 타깃값 : \n",
      "['스팸' '스팸' '일반' '일반' '일반' '일반' '일반' '일반' '일반' '일반'] \n",
      "\n",
      "Fold 4 검증 데이터 타깃값 : \n",
      "['일반' '일반' '일반' '일반' '일반' '일반' '일반' '일반' '일반' '일반'] \n",
      "\n",
      "Fold 5 검증 데이터 타깃값 : \n",
      "['스팸' '스팸' '일반' '일반' '일반' '일반' '일반' '일반' '일반' '일반'] \n",
      "\n"
     ]
    }
   ],
   "source": [
    "y = np.array(['스팸']*5 + ['일반']*45)\n",
    "# print(y)\n",
    "folds = KFold(n_splits=5 , shuffle= True) # 5개의 폴드로 섞어서 출력\n",
    "for idx , (train_idx , valid_idx) in enumerate(folds.split(y)):\n",
    "    print(f'Fold {idx+1} 검증 데이터 타깃값 : ')\n",
    "    print(y[valid_idx] , '\\n')"
   ],
   "metadata": {
    "collapsed": false,
    "pycharm": {
     "name": "#%%\n"
    }
   }
  },
  {
   "cell_type": "code",
   "execution_count": 8,
   "outputs": [
    {
     "name": "stdout",
     "output_type": "stream",
     "text": [
      "Fold 1 검증 데이터 타깃값 : \n",
      "['스팸' '일반' '일반' '일반' '일반' '일반' '일반' '일반' '일반' '일반'] \n",
      "\n",
      "Fold 2 검증 데이터 타깃값 : \n",
      "['스팸' '일반' '일반' '일반' '일반' '일반' '일반' '일반' '일반' '일반'] \n",
      "\n",
      "Fold 3 검증 데이터 타깃값 : \n",
      "['스팸' '일반' '일반' '일반' '일반' '일반' '일반' '일반' '일반' '일반'] \n",
      "\n",
      "Fold 4 검증 데이터 타깃값 : \n",
      "['스팸' '일반' '일반' '일반' '일반' '일반' '일반' '일반' '일반' '일반'] \n",
      "\n",
      "Fold 5 검증 데이터 타깃값 : \n",
      "['스팸' '일반' '일반' '일반' '일반' '일반' '일반' '일반' '일반' '일반'] \n",
      "\n"
     ]
    }
   ],
   "source": [
    "from sklearn.model_selection import StratifiedKFold\n",
    "\n",
    "X = np.array(range(50))\n",
    "y = np.array(['스팸']*5 + ['일반'] *45)\n",
    "\n",
    "folds = StratifiedKFold(n_splits=5) # 충화 K 폴드 교차검증\n",
    "\n",
    "for idx , (train_idx , valid_idx) in enumerate(folds.split(X,y)): # split()에는 임의로 K개로 분할하기 때문에 피처와 타깃값 모두를 전달해야한다.\n",
    "    print(f'Fold {idx +1} 검증 데이터 타깃값 : ')\n",
    "    print(y[valid_idx] , '\\n')"
   ],
   "metadata": {
    "collapsed": false,
    "pycharm": {
     "name": "#%%\n"
    }
   }
  },
  {
   "cell_type": "code",
   "execution_count": 11,
   "outputs": [
    {
     "ename": "TypeError",
     "evalue": "print() argument after * must be an iterable, not StratifiedKFold",
     "output_type": "error",
     "traceback": [
      "\u001B[1;31m---------------------------------------------------------------------------\u001B[0m",
      "\u001B[1;31mTypeError\u001B[0m                                 Traceback (most recent call last)",
      "\u001B[1;32m<ipython-input-11-2a3a49690da4>\u001B[0m in \u001B[0;36m<module>\u001B[1;34m\u001B[0m\n\u001B[0;32m      2\u001B[0m \u001B[1;31m#     print(train)\u001B[0m\u001B[1;33m\u001B[0m\u001B[1;33m\u001B[0m\u001B[1;33m\u001B[0m\u001B[0m\n\u001B[0;32m      3\u001B[0m \u001B[1;31m#     print(valid)\u001B[0m\u001B[1;33m\u001B[0m\u001B[1;33m\u001B[0m\u001B[1;33m\u001B[0m\u001B[0m\n\u001B[1;32m----> 4\u001B[1;33m \u001B[0mprint\u001B[0m\u001B[1;33m(\u001B[0m\u001B[1;33m*\u001B[0m\u001B[0mfolds\u001B[0m\u001B[1;33m)\u001B[0m\u001B[1;33m\u001B[0m\u001B[1;33m\u001B[0m\u001B[0m\n\u001B[0m",
      "\u001B[1;31mTypeError\u001B[0m: print() argument after * must be an iterable, not StratifiedKFold"
     ]
    }
   ],
   "source": [],
   "metadata": {
    "collapsed": false,
    "pycharm": {
     "name": "#%%\n"
    }
   }
  },
  {
   "cell_type": "code",
   "execution_count": null,
   "outputs": [],
   "source": [],
   "metadata": {
    "collapsed": false,
    "pycharm": {
     "name": "#%%\n"
    }
   }
  }
 ],
 "metadata": {
  "kernelspec": {
   "display_name": "Python 3",
   "language": "python",
   "name": "python3"
  },
  "language_info": {
   "codemirror_mode": {
    "name": "ipython",
    "version": 2
   },
   "file_extension": ".py",
   "mimetype": "text/x-python",
   "name": "python",
   "nbconvert_exporter": "python",
   "pygments_lexer": "ipython2",
   "version": "2.7.6"
  }
 },
 "nbformat": 4,
 "nbformat_minor": 0
}