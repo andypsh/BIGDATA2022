{
 "cells": [
  {
   "cell_type": "code",
   "execution_count": 47,
   "metadata": {
    "collapsed": true,
    "pycharm": {
     "name": "#%%\n"
    }
   },
   "outputs": [],
   "source": [
    "import itertools\n",
    "import platform\n",
    "import matplotlib\n",
    "import pandas as pd\n",
    "import matplotlib.pyplot as plt\n",
    "from matplotlib import font_manager, rc\n",
    "import seaborn as sns\n",
    "%precision 3\n",
    "from matplotlib import pyplot as plt\n",
    "%matplotlib inline\n",
    "#그래프를 주피터 놋북에 그리기 위해\n",
    "import numpy as np\n",
    "import copy\n",
    "from matplotlib import ticker\n",
    "from scipy.stats import probplot\n",
    "from scipy import stats\n",
    "import collections\n",
    "import itertools\n",
    "import math\n",
    "#from varname import nameof\n",
    "import sys\n",
    "#히스토그램 그리기\n",
    "# Window\n",
    "if platform.system() == 'Windows':\n",
    "    matplotlib.rc('font', family='Malgun Gothic')\n",
    "elif platform.system() == 'Darwin': # Mac\n",
    "    matplotlib.rc('font', family='AppleGothic')\n",
    "else: #linux\n",
    "    matplotlib.rc('font', family='NanumGothic')\n",
    "\n",
    "# 그래프에 마이너스 표시가 되도록 변경\n",
    "matplotlib.rcParams['axes.unicode_minus'] = False\n",
    "\n",
    "# 한글 폰트 설정\n",
    "font_location = 'C:/Windows/Fonts/MALGUNSL.TTF' #맑은고딕\n",
    "font_name = font_manager.FontProperties(fname=font_location).get_name()\n",
    "rc('font',family=font_name)"
   ]
  },
  {
   "cell_type": "code",
   "execution_count": 48,
   "outputs": [
    {
     "data": {
      "text/plain": "         나쁨(F)  좋음(G)  뛰어남(E)   합계\n평균아래(B)     24     65      14  103\n평균(A)       57    147      48  252\n평균 위(U)     35     38      22   95",
      "text/html": "<div>\n<style scoped>\n    .dataframe tbody tr th:only-of-type {\n        vertical-align: middle;\n    }\n\n    .dataframe tbody tr th {\n        vertical-align: top;\n    }\n\n    .dataframe thead th {\n        text-align: right;\n    }\n</style>\n<table border=\"1\" class=\"dataframe\">\n  <thead>\n    <tr style=\"text-align: right;\">\n      <th></th>\n      <th>나쁨(F)</th>\n      <th>좋음(G)</th>\n      <th>뛰어남(E)</th>\n      <th>합계</th>\n    </tr>\n  </thead>\n  <tbody>\n    <tr>\n      <th>평균아래(B)</th>\n      <td>24</td>\n      <td>65</td>\n      <td>14</td>\n      <td>103</td>\n    </tr>\n    <tr>\n      <th>평균(A)</th>\n      <td>57</td>\n      <td>147</td>\n      <td>48</td>\n      <td>252</td>\n    </tr>\n    <tr>\n      <th>평균 위(U)</th>\n      <td>35</td>\n      <td>38</td>\n      <td>22</td>\n      <td>95</td>\n    </tr>\n  </tbody>\n</table>\n</div>"
     },
     "execution_count": 48,
     "metadata": {},
     "output_type": "execute_result"
    }
   ],
   "source": [
    "avg_down = [24,65,14]\n",
    "avg = [57 , 147, 48]\n",
    "avg_up = [35 , 38 , 22]\n",
    "\n",
    "A = pd.DataFrame([avg_down , avg , avg_up] , index = ['평균아래(B)' , '평균(A)' , '평균 위(U)'] , columns= ['나쁨(F)' , '좋음(G)' , '뛰어남(E)'])\n",
    "A['합계'] = A[:].sum(axis=1)\n",
    "A"
   ],
   "metadata": {
    "collapsed": false,
    "pycharm": {
     "name": "#%%\n"
    }
   }
  },
  {
   "cell_type": "code",
   "execution_count": 49,
   "outputs": [],
   "source": [
    "a = pd.DataFrame(A[:].sum(axis = 0))\n",
    "a = a.T\n",
    "a.index = ['합계']\n",
    "A = pd.concat([A,a])\n",
    "# A"
   ],
   "metadata": {
    "collapsed": false,
    "pycharm": {
     "name": "#%%\n"
    }
   }
  },
  {
   "cell_type": "code",
   "execution_count": 50,
   "outputs": [
    {
     "data": {
      "text/plain": "         나쁨(F)  좋음(G)  뛰어남(E)   합계\n판매능력                              \n평균아래(B)     24     65      14  103\n평균(A)       57    147      48  252\n평균 위(U)     35     38      22   95\n합계         116    250      84  450",
      "text/html": "<div>\n<style scoped>\n    .dataframe tbody tr th:only-of-type {\n        vertical-align: middle;\n    }\n\n    .dataframe tbody tr th {\n        vertical-align: top;\n    }\n\n    .dataframe thead th {\n        text-align: right;\n    }\n</style>\n<table border=\"1\" class=\"dataframe\">\n  <thead>\n    <tr style=\"text-align: right;\">\n      <th></th>\n      <th>나쁨(F)</th>\n      <th>좋음(G)</th>\n      <th>뛰어남(E)</th>\n      <th>합계</th>\n    </tr>\n    <tr>\n      <th>판매능력</th>\n      <th></th>\n      <th></th>\n      <th></th>\n      <th></th>\n    </tr>\n  </thead>\n  <tbody>\n    <tr>\n      <th>평균아래(B)</th>\n      <td>24</td>\n      <td>65</td>\n      <td>14</td>\n      <td>103</td>\n    </tr>\n    <tr>\n      <th>평균(A)</th>\n      <td>57</td>\n      <td>147</td>\n      <td>48</td>\n      <td>252</td>\n    </tr>\n    <tr>\n      <th>평균 위(U)</th>\n      <td>35</td>\n      <td>38</td>\n      <td>22</td>\n      <td>95</td>\n    </tr>\n    <tr>\n      <th>합계</th>\n      <td>116</td>\n      <td>250</td>\n      <td>84</td>\n      <td>450</td>\n    </tr>\n  </tbody>\n</table>\n</div>"
     },
     "execution_count": 50,
     "metadata": {},
     "output_type": "execute_result"
    }
   ],
   "source": [
    "A.index.names = ['판매능력']\n",
    "# # A.columns = pd.MultiIndex.from_tuples(\n",
    "# #     zip(['A', 'B','C', 'D'],\n",
    "# #         A.columns))\n",
    "#\n",
    "# b = pd.MultiIndex.from_product(['승진에대한 잠재력'])\n",
    "# print(b)\n",
    "# # A.merge_cells(\"A1:D1\")\n",
    "# #A.columns.names = ['승진에대한 잠재력']\n",
    "#\n",
    "# A= A.T\n",
    "# # A.index.names =['승진에 대한 잠재력']\n",
    "# A = A.T\n",
    "A"
   ],
   "metadata": {
    "collapsed": false,
    "pycharm": {
     "name": "#%%\n"
    }
   }
  },
  {
   "cell_type": "code",
   "execution_count": 51,
   "outputs": [],
   "source": [
    "\n",
    "\n",
    "P_F = round(A.loc['합계' , '나쁨(F)']/A.loc['합계' , '합계'] ,4)\n",
    "P_G = round(A.loc['합계' , '좋음(G)']/A.loc['합계' , '합계'] ,4)\n",
    "P_E = round(A.loc['합계' , '뛰어남(E)']/A.loc['합계' , '합계'] ,4)\n",
    "\n",
    "\n",
    "\n",
    "\n",
    "P_A = round(A.loc['평균(A)' , '합계']/A.loc['합계' , '합계'] ,4)\n",
    "P_B = round(A.loc['평균아래(B)' , '합계']/A.loc['합계' , '합계'] ,4)\n",
    "P_U = round(A.loc['평균 위(U)' , '합계']/A.loc['합계' , '합계'] ,4)\n",
    "\n"
   ],
   "metadata": {
    "collapsed": false,
    "pycharm": {
     "name": "#%%\n"
    }
   }
  },
  {
   "cell_type": "code",
   "execution_count": 52,
   "outputs": [
    {
     "name": "stdout",
     "output_type": "stream",
     "text": [
      "0.1867\n"
     ]
    }
   ],
   "source": [
    "#1. P(E) = 0.1867\n",
    "print(P_E)"
   ],
   "metadata": {
    "collapsed": false,
    "pycharm": {
     "name": "#%%\n"
    }
   }
  },
  {
   "cell_type": "code",
   "execution_count": 53,
   "outputs": [
    {
     "name": "stdout",
     "output_type": "stream",
     "text": [
      "0.0311\n",
      "0.1067\n",
      "0.0489\n"
     ]
    }
   ],
   "source": [
    "#2. P(E) & P(B) = 0.0311 // P(E) & P(A) = 0.1067 // P(E) & P(U) = 0.0489\n",
    "\n",
    "P_E_int_P_B = round(A.loc['평균아래(B)' , '뛰어남(E)']/A.loc['합계' , '합계'] ,4)\n",
    "print(P_E_int_P_B)\n",
    "\n",
    "P_E_int_P_A = round(A.loc['평균(A)' , '뛰어남(E)']/A.loc['합계' , '합계'] ,4)\n",
    "print(P_E_int_P_A)\n",
    "\n",
    "P_E_int_P_U = round(A.loc['평균 위(U)' , '뛰어남(E)']/A.loc['합계' , '합계'] ,4)\n",
    "print(P_E_int_P_U)"
   ],
   "metadata": {
    "collapsed": false,
    "pycharm": {
     "name": "#%%\n"
    }
   }
  },
  {
   "cell_type": "code",
   "execution_count": 54,
   "outputs": [
    {
     "name": "stdout",
     "output_type": "stream",
     "text": [
      "0.1359\n",
      "0.1905\n",
      "0.2316\n"
     ]
    }
   ],
   "source": [
    "# 3. P(E|B) = 0.1359 // P(E|A) =  0.1905 // P(E|U) = 0.2316\n",
    "P_E_JO_P_B = round(P_E_int_P_B / P_B, 4)\n",
    "print(P_E_JO_P_B)\n",
    "P_E_JO_P_A = round(P_E_int_P_A / P_A, 4)\n",
    "print(P_E_JO_P_A)\n",
    "P_E_JO_P_U = round(P_E_int_P_U / P_U, 4)\n",
    "print(P_E_JO_P_U)"
   ],
   "metadata": {
    "collapsed": false,
    "pycharm": {
     "name": "#%%\n"
    }
   }
  },
  {
   "cell_type": "code",
   "execution_count": 55,
   "outputs": [
    {
     "name": "stdout",
     "output_type": "stream",
     "text": [
      "0.3267\n"
     ]
    }
   ],
   "source": [
    "# 4. P_A_int_P_G = 0.3267\n",
    "\n",
    "P_A_int_P_G = round(A.loc['평균(A)' , '좋음(G)']/A.loc['합계' , '합계'] ,4)\n",
    "print(P_A_int_P_G)"
   ],
   "metadata": {
    "collapsed": false,
    "pycharm": {
     "name": "#%%\n"
    }
   }
  },
  {
   "cell_type": "code",
   "execution_count": 56,
   "outputs": [
    {
     "name": "stdout",
     "output_type": "stream",
     "text": [
      "0.3267\n",
      "0.3267\n"
     ]
    }
   ],
   "source": [
    "#5. P(A) * P(G | A) = 0.3267 // P(G) * P(A|G) = 0.3267\n",
    "\n",
    "print(round(P_A * (P_A_int_P_G / P_A), 4))\n",
    "print(round(P_G * (P_A_int_P_G / P_G), 4))"
   ],
   "metadata": {
    "collapsed": false,
    "pycharm": {
     "name": "#%%\n"
    }
   }
  },
  {
   "cell_type": "code",
   "execution_count": 57,
   "outputs": [
    {
     "data": {
      "text/plain": "성향  하고 싶다.  안 한다.    합계\n성별                     \n남자    0.08   0.40  0.48\n여자    0.15   0.37  0.52\n합계    0.23   0.77  1.00",
      "text/html": "<div>\n<style scoped>\n    .dataframe tbody tr th:only-of-type {\n        vertical-align: middle;\n    }\n\n    .dataframe tbody tr th {\n        vertical-align: top;\n    }\n\n    .dataframe thead th {\n        text-align: right;\n    }\n</style>\n<table border=\"1\" class=\"dataframe\">\n  <thead>\n    <tr style=\"text-align: right;\">\n      <th>성향</th>\n      <th>하고 싶다.</th>\n      <th>안 한다.</th>\n      <th>합계</th>\n    </tr>\n    <tr>\n      <th>성별</th>\n      <th></th>\n      <th></th>\n      <th></th>\n    </tr>\n  </thead>\n  <tbody>\n    <tr>\n      <th>남자</th>\n      <td>0.08</td>\n      <td>0.40</td>\n      <td>0.48</td>\n    </tr>\n    <tr>\n      <th>여자</th>\n      <td>0.15</td>\n      <td>0.37</td>\n      <td>0.52</td>\n    </tr>\n    <tr>\n      <th>합계</th>\n      <td>0.23</td>\n      <td>0.77</td>\n      <td>1.00</td>\n    </tr>\n  </tbody>\n</table>\n</div>"
     },
     "execution_count": 57,
     "metadata": {},
     "output_type": "execute_result"
    }
   ],
   "source": [
    "man = [0.08,0.4]\n",
    "woman = [0.15 , 0.37]\n",
    "\n",
    "A =pd.DataFrame([man , woman] , index = ['남자' , '여자'] , columns = ['하고 싶다.' , '안 한다.'])\n",
    "A['합계'] = A[:].sum(axis=1)\n",
    "a = pd.DataFrame(A[:].sum(axis=0))\n",
    "\n",
    "a = a.T\n",
    "a.index = ['합계']\n",
    "A =pd.concat([A,a])\n",
    "A.columns.names = ['성향']\n",
    "A.index.names = ['성별']\n",
    "A"
   ],
   "metadata": {
    "collapsed": false,
    "pycharm": {
     "name": "#%%\n"
    }
   }
  },
  {
   "cell_type": "code",
   "execution_count": 58,
   "outputs": [
    {
     "name": "stdout",
     "output_type": "stream",
     "text": [
      "0.23\n",
      "0.1667\n",
      "0.2885\n"
     ]
    }
   ],
   "source": [
    "# 1. 청소년중 1명 선택 ==> 염색을 원할 확률 ==> P(청소년 | 하고 싶다.) =\n",
    "\n",
    "p_handa =  round(A.loc['합계' , '하고 싶다.']  , 4)\n",
    "print(p_handa)\n",
    "\n",
    "# 2. 남자가 선정 ==> 이 사람이 염색을 원할 확률 ==> P(남자 | 하고 싶다.) =\n",
    "\n",
    "P_nam_handa = round(A.loc['남자' , '하고 싶다.'] / A.loc['남자' , '합계'] , 4)\n",
    "print(P_nam_handa)\n",
    "# 3. 여자가 선정 ==> 이 사람이 염색을 원할 확률 ==> P(여자 | 하고 싶다.) =\n",
    "\n",
    "P_woman_handa = round(A.loc['여자' , '하고 싶다.'] / A.loc['여자' , '합계'] , 4)\n",
    "print(P_woman_handa)"
   ],
   "metadata": {
    "collapsed": false,
    "pycharm": {
     "name": "#%%\n"
    }
   }
  },
  {
   "cell_type": "code",
   "execution_count": 59,
   "outputs": [
    {
     "name": "stdout",
     "output_type": "stream",
     "text": [
      "0.26785714285714285\n",
      "0.234375\n"
     ]
    }
   ],
   "source": [
    "print( (5/8) * (3/7))\n",
    "print( (5/8) * (3/8))"
   ],
   "metadata": {
    "collapsed": false,
    "pycharm": {
     "name": "#%%\n"
    }
   }
  },
  {
   "cell_type": "code",
   "execution_count": 60,
   "outputs": [
    {
     "name": "stdout",
     "output_type": "stream",
     "text": [
      "0.000405\n"
     ]
    }
   ],
   "source": [
    "print((15/1000) * (27/1000))"
   ],
   "metadata": {
    "collapsed": false,
    "pycharm": {
     "name": "#%%\n"
    }
   }
  },
  {
   "cell_type": "code",
   "execution_count": 61,
   "outputs": [
    {
     "name": "stdout",
     "output_type": "stream",
     "text": [
      "0.026595\n"
     ]
    }
   ],
   "source": [
    "print((985/1000) * (27/1000))"
   ],
   "metadata": {
    "collapsed": false,
    "pycharm": {
     "name": "#%%\n"
    }
   }
  },
  {
   "cell_type": "code",
   "execution_count": 62,
   "outputs": [
    {
     "name": "stdout",
     "output_type": "stream",
     "text": [
      "0.014594999999999999\n"
     ]
    }
   ],
   "source": [
    "print((15/1000) * (1-(27/1000)))"
   ],
   "metadata": {
    "collapsed": false,
    "pycharm": {
     "name": "#%%\n"
    }
   }
  },
  {
   "cell_type": "code",
   "execution_count": 63,
   "outputs": [
    {
     "name": "stdout",
     "output_type": "stream",
     "text": [
      "0.041189\n"
     ]
    }
   ],
   "source": [
    "print((0.026595 + 0.014594))"
   ],
   "metadata": {
    "collapsed": false,
    "pycharm": {
     "name": "#%%\n"
    }
   }
  },
  {
   "cell_type": "code",
   "execution_count": 64,
   "outputs": [
    {
     "name": "stdout",
     "output_type": "stream",
     "text": [
      "3.5714285714285716\n"
     ]
    }
   ],
   "source": [
    "print(0.05 / 0.014)"
   ],
   "metadata": {
    "collapsed": false,
    "pycharm": {
     "name": "#%%\n"
    }
   }
  },
  {
   "cell_type": "code",
   "execution_count": 65,
   "outputs": [
    {
     "data": {
      "text/plain": "90"
     },
     "execution_count": 65,
     "metadata": {},
     "output_type": "execute_result"
    }
   ],
   "source": [
    "# 1. 10 P 2\n",
    "\n",
    "a = len(list(itertools.permutations([i for i in range(10)] , 2)))\n",
    "a"
   ],
   "metadata": {
    "collapsed": false,
    "pycharm": {
     "name": "#%%\n"
    }
   }
  },
  {
   "cell_type": "code",
   "execution_count": 66,
   "outputs": [
    {
     "data": {
      "text/plain": "[(0, 1, 2),\n (0, 1, 3),\n (0, 1, 4),\n (0, 2, 1),\n (0, 2, 3),\n (0, 2, 4),\n (0, 3, 1),\n (0, 3, 2),\n (0, 3, 4),\n (0, 4, 1),\n (0, 4, 2),\n (0, 4, 3),\n (1, 0, 2),\n (1, 0, 3),\n (1, 0, 4),\n (1, 2, 0),\n (1, 2, 3),\n (1, 2, 4),\n (1, 3, 0),\n (1, 3, 2),\n (1, 3, 4),\n (1, 4, 0),\n (1, 4, 2),\n (1, 4, 3),\n (2, 0, 1),\n (2, 0, 3),\n (2, 0, 4),\n (2, 1, 0),\n (2, 1, 3),\n (2, 1, 4),\n (2, 3, 0),\n (2, 3, 1),\n (2, 3, 4),\n (2, 4, 0),\n (2, 4, 1),\n (2, 4, 3),\n (3, 0, 1),\n (3, 0, 2),\n (3, 0, 4),\n (3, 1, 0),\n (3, 1, 2),\n (3, 1, 4),\n (3, 2, 0),\n (3, 2, 1),\n (3, 2, 4),\n (3, 4, 0),\n (3, 4, 1),\n (3, 4, 2),\n (4, 0, 1),\n (4, 0, 2),\n (4, 0, 3),\n (4, 1, 0),\n (4, 1, 2),\n (4, 1, 3),\n (4, 2, 0),\n (4, 2, 1),\n (4, 2, 3),\n (4, 3, 0),\n (4, 3, 1),\n (4, 3, 2)]"
     },
     "execution_count": 66,
     "metadata": {},
     "output_type": "execute_result"
    }
   ],
   "source": [
    "# 2. 5 P 3\n",
    "\n",
    "a = list(itertools.permutations([i for i in range(5)] , 3))\n",
    "a"
   ],
   "metadata": {
    "collapsed": false,
    "pycharm": {
     "name": "#%%\n"
    }
   }
  },
  {
   "cell_type": "code",
   "execution_count": 67,
   "outputs": [
    {
     "data": {
      "text/plain": "[(0, 1, 2),\n (0, 1, 3),\n (0, 1, 4),\n (0, 2, 3),\n (0, 2, 4),\n (0, 3, 4),\n (1, 2, 3),\n (1, 2, 4),\n (1, 3, 4),\n (2, 3, 4)]"
     },
     "execution_count": 67,
     "metadata": {},
     "output_type": "execute_result"
    }
   ],
   "source": [
    "# 3. 5 C 3\n",
    "\n",
    "a = list(itertools.combinations([i for i in range(5)] , 3))\n",
    "a"
   ],
   "metadata": {
    "collapsed": false,
    "pycharm": {
     "name": "#%%\n"
    }
   }
  },
  {
   "cell_type": "code",
   "execution_count": 68,
   "outputs": [
    {
     "data": {
      "text/plain": "45"
     },
     "execution_count": 68,
     "metadata": {},
     "output_type": "execute_result"
    }
   ],
   "source": [
    "# 4. (10 ,2 )\n",
    "\n",
    "a = len(list(itertools.combinations([i for i in range(10)] , 2)))\n",
    "a"
   ],
   "metadata": {
    "collapsed": false,
    "pycharm": {
     "name": "#%%\n"
    }
   }
  },
  {
   "cell_type": "code",
   "execution_count": 69,
   "outputs": [
    {
     "data": {
      "text/plain": "252"
     },
     "execution_count": 69,
     "metadata": {},
     "output_type": "execute_result"
    }
   ],
   "source": [
    "a = len(list(itertools.combinations_with_replacement(np.arange(1,7) , 5)))\n",
    "a"
   ],
   "metadata": {
    "collapsed": false,
    "pycharm": {
     "name": "#%%\n"
    }
   }
  },
  {
   "cell_type": "code",
   "execution_count": 70,
   "outputs": [
    {
     "data": {
      "text/plain": "7776"
     },
     "execution_count": 70,
     "metadata": {},
     "output_type": "execute_result"
    }
   ],
   "source": [
    "a = len(list(itertools.product(np.arange(1,7) , repeat = 5)))\n",
    "a"
   ],
   "metadata": {
    "collapsed": false,
    "pycharm": {
     "name": "#%%\n"
    }
   }
  },
  {
   "cell_type": "code",
   "execution_count": 71,
   "outputs": [
    {
     "data": {
      "text/plain": "7776"
     },
     "execution_count": 71,
     "metadata": {},
     "output_type": "execute_result"
    }
   ],
   "source": [
    "a = len(list(itertools.product(np.arange(1,7) , repeat = 5)))\n",
    "a"
   ],
   "metadata": {
    "collapsed": false,
    "pycharm": {
     "name": "#%%\n"
    }
   }
  },
  {
   "cell_type": "code",
   "execution_count": 72,
   "outputs": [
    {
     "data": {
      "text/plain": "132600"
     },
     "execution_count": 72,
     "metadata": {},
     "output_type": "execute_result"
    }
   ],
   "source": [
    "a = len(list(itertools.permutations(np.arange(52) , 3)))\n",
    "a"
   ],
   "metadata": {
    "collapsed": false,
    "pycharm": {
     "name": "#%%\n"
    }
   }
  },
  {
   "cell_type": "code",
   "execution_count": 73,
   "outputs": [
    {
     "data": {
      "text/plain": "1024"
     },
     "execution_count": 73,
     "metadata": {},
     "output_type": "execute_result"
    }
   ],
   "source": [
    "a = len(list(itertools.product(np.arange(2) , repeat= 10)))\n",
    "a"
   ],
   "metadata": {
    "collapsed": false,
    "pycharm": {
     "name": "#%%\n"
    }
   }
  },
  {
   "cell_type": "code",
   "execution_count": 74,
   "outputs": [
    {
     "data": {
      "text/plain": "20"
     },
     "execution_count": 74,
     "metadata": {},
     "output_type": "execute_result"
    }
   ],
   "source": [
    "red = ['red' for i in range(5)]\n",
    "blue = ['blue' for i in range(5)]\n",
    "\n",
    "a = len(list(itertools.combinations(red , 2))) + len(list(itertools.combinations(blue , 2)))\n",
    "a"
   ],
   "metadata": {
    "collapsed": false,
    "pycharm": {
     "name": "#%%\n"
    }
   }
  },
  {
   "cell_type": "code",
   "execution_count": 75,
   "outputs": [
    {
     "name": "stdout",
     "output_type": "stream",
     "text": [
      "[('a', 'b', 'c', 'd'), ('a', 'b', 'd', 'c'), ('a', 'c', 'b', 'd'), ('a', 'c', 'd', 'b'), ('a', 'd', 'b', 'c'), ('a', 'd', 'c', 'b'), ('b', 'a', 'c', 'd'), ('b', 'a', 'd', 'c'), ('b', 'c', 'a', 'd'), ('b', 'c', 'd', 'a'), ('b', 'd', 'a', 'c'), ('b', 'd', 'c', 'a'), ('c', 'a', 'b', 'd'), ('c', 'a', 'd', 'b'), ('c', 'b', 'a', 'd'), ('c', 'b', 'd', 'a'), ('c', 'd', 'a', 'b'), ('c', 'd', 'b', 'a'), ('d', 'a', 'b', 'c'), ('d', 'a', 'c', 'b'), ('d', 'b', 'a', 'c'), ('d', 'b', 'c', 'a'), ('d', 'c', 'a', 'b'), ('d', 'c', 'b', 'a')]\n",
      "24\n"
     ]
    }
   ],
   "source": [
    "a = ['a' , 'b' , 'c' , 'd']\n",
    "\n",
    "b = list(itertools.permutations(a, 4))\n",
    "print(b)\n",
    "print(len(b))"
   ],
   "metadata": {
    "collapsed": false,
    "pycharm": {
     "name": "#%%\n"
    }
   }
  },
  {
   "cell_type": "code",
   "execution_count": 76,
   "outputs": [
    {
     "name": "stdout",
     "output_type": "stream",
     "text": [
      "[('a', 'e', 'i'), ('a', 'e', 'o'), ('a', 'e', 'u'), ('a', 'i', 'e'), ('a', 'i', 'o'), ('a', 'i', 'u'), ('a', 'o', 'e'), ('a', 'o', 'i'), ('a', 'o', 'u'), ('a', 'u', 'e'), ('a', 'u', 'i'), ('a', 'u', 'o'), ('e', 'a', 'i'), ('e', 'a', 'o'), ('e', 'a', 'u'), ('e', 'i', 'a'), ('e', 'i', 'o'), ('e', 'i', 'u'), ('e', 'o', 'a'), ('e', 'o', 'i'), ('e', 'o', 'u'), ('e', 'u', 'a'), ('e', 'u', 'i'), ('e', 'u', 'o'), ('i', 'a', 'e'), ('i', 'a', 'o'), ('i', 'a', 'u'), ('i', 'e', 'a'), ('i', 'e', 'o'), ('i', 'e', 'u'), ('i', 'o', 'a'), ('i', 'o', 'e'), ('i', 'o', 'u'), ('i', 'u', 'a'), ('i', 'u', 'e'), ('i', 'u', 'o'), ('o', 'a', 'e'), ('o', 'a', 'i'), ('o', 'a', 'u'), ('o', 'e', 'a'), ('o', 'e', 'i'), ('o', 'e', 'u'), ('o', 'i', 'a'), ('o', 'i', 'e'), ('o', 'i', 'u'), ('o', 'u', 'a'), ('o', 'u', 'e'), ('o', 'u', 'i'), ('u', 'a', 'e'), ('u', 'a', 'i'), ('u', 'a', 'o'), ('u', 'e', 'a'), ('u', 'e', 'i'), ('u', 'e', 'o'), ('u', 'i', 'a'), ('u', 'i', 'e'), ('u', 'i', 'o'), ('u', 'o', 'a'), ('u', 'o', 'e'), ('u', 'o', 'i')]\n",
      "60\n"
     ]
    }
   ],
   "source": [
    "a = ['a' , 'e' , 'i' , 'o' , 'u']\n",
    "\n",
    "b = list(itertools.permutations(a, 3))\n",
    "print(b)\n",
    "print(len(b))"
   ],
   "metadata": {
    "collapsed": false,
    "pycharm": {
     "name": "#%%\n"
    }
   }
  },
  {
   "cell_type": "code",
   "execution_count": 77,
   "outputs": [
    {
     "name": "stdout",
     "output_type": "stream",
     "text": [
      "[('a', 'a', 'a'), ('a', 'a', 'e'), ('a', 'a', 'i'), ('a', 'a', 'o'), ('a', 'a', 'u'), ('a', 'e', 'a'), ('a', 'e', 'e'), ('a', 'e', 'i'), ('a', 'e', 'o'), ('a', 'e', 'u'), ('a', 'i', 'a'), ('a', 'i', 'e'), ('a', 'i', 'i'), ('a', 'i', 'o'), ('a', 'i', 'u'), ('a', 'o', 'a'), ('a', 'o', 'e'), ('a', 'o', 'i'), ('a', 'o', 'o'), ('a', 'o', 'u'), ('a', 'u', 'a'), ('a', 'u', 'e'), ('a', 'u', 'i'), ('a', 'u', 'o'), ('a', 'u', 'u'), ('e', 'a', 'a'), ('e', 'a', 'e'), ('e', 'a', 'i'), ('e', 'a', 'o'), ('e', 'a', 'u'), ('e', 'e', 'a'), ('e', 'e', 'e'), ('e', 'e', 'i'), ('e', 'e', 'o'), ('e', 'e', 'u'), ('e', 'i', 'a'), ('e', 'i', 'e'), ('e', 'i', 'i'), ('e', 'i', 'o'), ('e', 'i', 'u'), ('e', 'o', 'a'), ('e', 'o', 'e'), ('e', 'o', 'i'), ('e', 'o', 'o'), ('e', 'o', 'u'), ('e', 'u', 'a'), ('e', 'u', 'e'), ('e', 'u', 'i'), ('e', 'u', 'o'), ('e', 'u', 'u'), ('i', 'a', 'a'), ('i', 'a', 'e'), ('i', 'a', 'i'), ('i', 'a', 'o'), ('i', 'a', 'u'), ('i', 'e', 'a'), ('i', 'e', 'e'), ('i', 'e', 'i'), ('i', 'e', 'o'), ('i', 'e', 'u'), ('i', 'i', 'a'), ('i', 'i', 'e'), ('i', 'i', 'i'), ('i', 'i', 'o'), ('i', 'i', 'u'), ('i', 'o', 'a'), ('i', 'o', 'e'), ('i', 'o', 'i'), ('i', 'o', 'o'), ('i', 'o', 'u'), ('i', 'u', 'a'), ('i', 'u', 'e'), ('i', 'u', 'i'), ('i', 'u', 'o'), ('i', 'u', 'u'), ('o', 'a', 'a'), ('o', 'a', 'e'), ('o', 'a', 'i'), ('o', 'a', 'o'), ('o', 'a', 'u'), ('o', 'e', 'a'), ('o', 'e', 'e'), ('o', 'e', 'i'), ('o', 'e', 'o'), ('o', 'e', 'u'), ('o', 'i', 'a'), ('o', 'i', 'e'), ('o', 'i', 'i'), ('o', 'i', 'o'), ('o', 'i', 'u'), ('o', 'o', 'a'), ('o', 'o', 'e'), ('o', 'o', 'i'), ('o', 'o', 'o'), ('o', 'o', 'u'), ('o', 'u', 'a'), ('o', 'u', 'e'), ('o', 'u', 'i'), ('o', 'u', 'o'), ('o', 'u', 'u'), ('u', 'a', 'a'), ('u', 'a', 'e'), ('u', 'a', 'i'), ('u', 'a', 'o'), ('u', 'a', 'u'), ('u', 'e', 'a'), ('u', 'e', 'e'), ('u', 'e', 'i'), ('u', 'e', 'o'), ('u', 'e', 'u'), ('u', 'i', 'a'), ('u', 'i', 'e'), ('u', 'i', 'i'), ('u', 'i', 'o'), ('u', 'i', 'u'), ('u', 'o', 'a'), ('u', 'o', 'e'), ('u', 'o', 'i'), ('u', 'o', 'o'), ('u', 'o', 'u'), ('u', 'u', 'a'), ('u', 'u', 'e'), ('u', 'u', 'i'), ('u', 'u', 'o'), ('u', 'u', 'u')]\n",
      "125\n"
     ]
    }
   ],
   "source": [
    "b = list(itertools.product(a , repeat = 3))\n",
    "print(b)\n",
    "print(len(b))"
   ],
   "metadata": {
    "collapsed": false,
    "pycharm": {
     "name": "#%%\n"
    }
   }
  },
  {
   "cell_type": "code",
   "execution_count": 78,
   "outputs": [
    {
     "name": "stdout",
     "output_type": "stream",
     "text": [
      "35\n",
      "[('a', 'a', 'a'), ('a', 'a', 'e'), ('a', 'a', 'i'), ('a', 'a', 'o'), ('a', 'a', 'u'), ('a', 'e', 'e'), ('a', 'e', 'i'), ('a', 'e', 'o'), ('a', 'e', 'u'), ('a', 'i', 'i'), ('a', 'i', 'o'), ('a', 'i', 'u'), ('a', 'o', 'o'), ('a', 'o', 'u'), ('a', 'u', 'u'), ('e', 'e', 'e'), ('e', 'e', 'i'), ('e', 'e', 'o'), ('e', 'e', 'u'), ('e', 'i', 'i'), ('e', 'i', 'o'), ('e', 'i', 'u'), ('e', 'o', 'o'), ('e', 'o', 'u'), ('e', 'u', 'u'), ('i', 'i', 'i'), ('i', 'i', 'o'), ('i', 'i', 'u'), ('i', 'o', 'o'), ('i', 'o', 'u'), ('i', 'u', 'u'), ('o', 'o', 'o'), ('o', 'o', 'u'), ('o', 'u', 'u'), ('u', 'u', 'u')]\n"
     ]
    }
   ],
   "source": [
    "b = list(itertools.combinations_with_replacement(a, 3))\n",
    "print(len(b))\n",
    "print(b)"
   ],
   "metadata": {
    "collapsed": false,
    "pycharm": {
     "name": "#%%\n"
    }
   }
  },
  {
   "cell_type": "code",
   "execution_count": 79,
   "outputs": [
    {
     "name": "stdout",
     "output_type": "stream",
     "text": [
      "[(0, 0, 0, 0), (0, 0, 0, 1), (0, 0, 1, 0), (0, 0, 1, 1), (0, 1, 0, 0), (0, 1, 0, 1), (0, 1, 1, 0), (0, 1, 1, 1), (1, 0, 0, 0), (1, 0, 0, 1), (1, 0, 1, 0), (1, 0, 1, 1), (1, 1, 0, 0), (1, 1, 0, 1), (1, 1, 1, 0), (1, 1, 1, 1)]\n",
      "16\n"
     ]
    }
   ],
   "source": [
    "a = list(itertools.product(np.arange(2) , repeat = 4))\n",
    "print(a)\n",
    "print(len(a))"
   ],
   "metadata": {
    "collapsed": false,
    "pycharm": {
     "name": "#%%\n"
    }
   }
  },
  {
   "cell_type": "code",
   "execution_count": 80,
   "outputs": [
    {
     "data": {
      "text/plain": "[(0, 1, 1, 1),\n (1, 0, 0, 1),\n (1, 0, 1, 0),\n (1, 0, 1, 1),\n (1, 1, 0, 0),\n (1, 1, 0, 1),\n (1, 1, 1, 0),\n (1, 1, 1, 1)]"
     },
     "execution_count": 80,
     "metadata": {},
     "output_type": "execute_result"
    }
   ],
   "source": [
    "from itertools import combinations\n",
    "\n",
    "c = list(filter(lambda x : collections.Counter(x).most_common()[0][1] >=2 and collections.Counter(x).most_common()[0][0] ==1  ,a))\n",
    "c"
   ],
   "metadata": {
    "collapsed": false,
    "pycharm": {
     "name": "#%%\n"
    }
   }
  },
  {
   "cell_type": "code",
   "execution_count": 81,
   "outputs": [
    {
     "name": "stdout",
     "output_type": "stream",
     "text": [
      "<class 'int'>\n"
     ]
    }
   ],
   "source": [
    "print(type(collections.Counter(a[1]).most_common()[0][1]))"
   ],
   "metadata": {
    "collapsed": false,
    "pycharm": {
     "name": "#%%\n"
    }
   }
  },
  {
   "cell_type": "code",
   "execution_count": 89,
   "outputs": [
    {
     "name": "stdout",
     "output_type": "stream",
     "text": [
      "[(0, 0, 0, 1), (0, 0, 1, 0), (0, 1, 0, 0), (0, 1, 1, 1), (1, 0, 0, 0), (1, 0, 1, 1), (1, 1, 0, 1), (1, 1, 1, 0)]\n",
      "[0, 1]\n",
      "(0, 0, 0, 1)\n",
      "[0, 1, 0]\n",
      "[0, 1, 0]\n",
      "[0, 1]\n",
      "(0, 1, 1, 1)\n",
      "[1, 0]\n",
      "(1, 0, 0, 0)\n",
      "[1, 0, 1]\n",
      "[1, 0, 1]\n",
      "[1, 0]\n",
      "(1, 1, 1, 0)\n"
     ]
    }
   ],
   "source": [
    "from itertools import groupby\n",
    "\n",
    "c = list(filter(lambda x : collections.Counter(x).most_common()[0][1] ==3 ,a))\n",
    "# e = list(filter(lambda x : collections.Counter(x).most_common() ,a))\n",
    "# print(a)\n",
    "# print(e)\n",
    "# a = []\n",
    "d= []\n",
    "print(c)\n",
    "for i in c:\n",
    "    d = [a for a , b in groupby(i)]\n",
    "    print(d)\n",
    "    if len(d)==2:\n",
    "        print(i)\n",
    "# print(a)"
   ],
   "metadata": {
    "collapsed": false,
    "pycharm": {
     "name": "#%%\n"
    }
   }
  },
  {
   "cell_type": "code",
   "execution_count": 87,
   "outputs": [
    {
     "data": {
      "text/plain": "((0, 0, 0, 0), 1)"
     },
     "execution_count": 87,
     "metadata": {},
     "output_type": "execute_result"
    }
   ],
   "source": [
    "collections.Counter(a).most_common()[0]"
   ],
   "metadata": {
    "collapsed": false,
    "pycharm": {
     "name": "#%%\n"
    }
   }
  },
  {
   "cell_type": "code",
   "execution_count": 84,
   "outputs": [
    {
     "data": {
      "text/plain": "1"
     },
     "execution_count": 84,
     "metadata": {},
     "output_type": "execute_result"
    }
   ],
   "source": [
    "X = [0,1,1,1]\n",
    "X = sorted(X , reverse= True)[2]\n",
    "X"
   ],
   "metadata": {
    "collapsed": false,
    "pycharm": {
     "name": "#%%\n"
    }
   }
  },
  {
   "cell_type": "code",
   "execution_count": 85,
   "outputs": [
    {
     "name": "stdout",
     "output_type": "stream",
     "text": [
      "(0, 1, 0, 1)\n",
      "(1, 0, 1, 0)\n"
     ]
    }
   ],
   "source": [
    "c = list(filter(lambda x : collections.Counter(x).most_common()[0][1] == 2 , a))\n",
    "d = []\n",
    "for i in c:\n",
    "    d = [j for j,k in itertools.groupby(i)]\n",
    "    if len(d)==4:\n",
    "        print(i)"
   ],
   "metadata": {
    "collapsed": false,
    "pycharm": {
     "name": "#%%\n"
    }
   }
  },
  {
   "cell_type": "code",
   "execution_count": 86,
   "outputs": [
    {
     "name": "stdout",
     "output_type": "stream",
     "text": [
      "(0, 0, 0, 0)\n",
      "(0, 0, 0, 1)\n",
      "(0, 0, 1, 1)\n",
      "(1, 0, 0, 0)\n"
     ]
    }
   ],
   "source": [
    "c = list(filter(lambda x : collections.Counter(x).most_common()[0][0] == 0 and collections.Counter(x).most_common()[0][1] >=2, a) )\n",
    "d = []\n",
    "for i in c:\n",
    "    d = [j for j,k in itertools.groupby(i)]\n",
    "    if len(d)<3:\n",
    "        print(i)"
   ],
   "metadata": {
    "collapsed": false,
    "pycharm": {
     "name": "#%%\n"
    }
   }
  },
  {
   "cell_type": "code",
   "execution_count": 86,
   "outputs": [],
   "source": [],
   "metadata": {
    "collapsed": false,
    "pycharm": {
     "name": "#%%\n"
    }
   }
  }
 ],
 "metadata": {
  "kernelspec": {
   "display_name": "Python 3",
   "language": "python",
   "name": "python3"
  },
  "language_info": {
   "codemirror_mode": {
    "name": "ipython",
    "version": 2
   },
   "file_extension": ".py",
   "mimetype": "text/x-python",
   "name": "python",
   "nbconvert_exporter": "python",
   "pygments_lexer": "ipython2",
   "version": "2.7.6"
  }
 },
 "nbformat": 4,
 "nbformat_minor": 0
}