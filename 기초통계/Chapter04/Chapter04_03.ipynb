{
 "cells": [
  {
   "cell_type": "code",
   "execution_count": 353,
   "metadata": {
    "collapsed": true,
    "pycharm": {
     "name": "#%%\n"
    }
   },
   "outputs": [],
   "source": [
    "import itertools\n",
    "import platform\n",
    "import matplotlib\n",
    "import pandas as pd\n",
    "import matplotlib.pyplot as plt\n",
    "from matplotlib import font_manager, rc\n",
    "import seaborn as sns\n",
    "%precision 3\n",
    "from matplotlib import pyplot as plt\n",
    "%matplotlib inline\n",
    "#그래프를 주피터 놋북에 그리기 위해\n",
    "import numpy as np\n",
    "import copy\n",
    "from matplotlib import ticker\n",
    "from scipy.stats import probplot\n",
    "from scipy import stats\n",
    "import collections\n",
    "import itertools\n",
    "import math\n",
    "#from varname import nameof\n",
    "import sys\n",
    "#히스토그램 그리기\n",
    "# Window\n",
    "if platform.system() == 'Windows':\n",
    "    matplotlib.rc('font', family='Malgun Gothic')\n",
    "elif platform.system() == 'Darwin': # Mac\n",
    "    matplotlib.rc('font', family='AppleGothic')\n",
    "else: #linux\n",
    "    matplotlib.rc('font', family='NanumGothic')\n",
    "\n",
    "# 그래프에 마이너스 표시가 되도록 변경\n",
    "matplotlib.rcParams['axes.unicode_minus'] = False\n",
    "\n",
    "# 한글 폰트 설정\n",
    "font_location = 'C:/Windows/Fonts/MALGUNSL.TTF' #맑은고딕\n",
    "font_name = font_manager.FontProperties(fname=font_location).get_name()\n",
    "rc('font',family=font_name)"
   ]
  },
  {
   "cell_type": "code",
   "execution_count": 354,
   "outputs": [
    {
     "name": "stdout",
     "output_type": "stream",
     "text": [
      "20\n"
     ]
    },
    {
     "data": {
      "text/plain": "[('상국', '영훈'),\n ('상국', '연주'),\n ('상국', '하나'),\n ('상국', '채은'),\n ('영훈', '상국'),\n ('영훈', '연주'),\n ('영훈', '하나'),\n ('영훈', '채은'),\n ('연주', '상국'),\n ('연주', '영훈'),\n ('연주', '하나'),\n ('연주', '채은'),\n ('하나', '상국'),\n ('하나', '영훈'),\n ('하나', '연주'),\n ('하나', '채은'),\n ('채은', '상국'),\n ('채은', '영훈'),\n ('채은', '연주'),\n ('채은', '하나')]"
     },
     "execution_count": 354,
     "metadata": {},
     "output_type": "execute_result"
    }
   ],
   "source": [
    "man = ['상국' , '영훈']\n",
    "woman = ['연주' , '하나' , '채은']\n",
    "man_woman = man + woman\n",
    "Sample_space = list(itertools.permutations( man_woman , 2))\n",
    "print(len(Sample_space))\n",
    "Sample_space\n"
   ],
   "metadata": {
    "collapsed": false,
    "pycharm": {
     "name": "#%%\n"
    }
   }
  },
  {
   "cell_type": "code",
   "execution_count": 355,
   "outputs": [
    {
     "data": {
      "text/plain": "[('영훈', '상국'), ('영훈', '연주'), ('영훈', '하나'), ('영훈', '채은')]"
     },
     "execution_count": 355,
     "metadata": {},
     "output_type": "execute_result"
    }
   ],
   "source": [
    "d = list(filter(lambda x : x[0] in '영훈' , Sample_space))\n",
    "d"
   ],
   "metadata": {
    "collapsed": false,
    "pycharm": {
     "name": "#%%\n"
    }
   }
  },
  {
   "cell_type": "code",
   "execution_count": 356,
   "outputs": [
    {
     "data": {
      "text/plain": "[('상국', '채은'), ('영훈', '채은'), ('연주', '채은'), ('하나', '채은')]"
     },
     "execution_count": 356,
     "metadata": {},
     "output_type": "execute_result"
    }
   ],
   "source": [
    "d = list(filter(lambda x : x[1] in '채은' , Sample_space))\n",
    "d"
   ],
   "metadata": {
    "collapsed": false,
    "pycharm": {
     "name": "#%%\n"
    }
   }
  },
  {
   "cell_type": "code",
   "execution_count": 357,
   "outputs": [
    {
     "data": {
      "text/plain": "[('연주', '하나'),\n ('연주', '채은'),\n ('하나', '연주'),\n ('하나', '채은'),\n ('채은', '연주'),\n ('채은', '하나')]"
     },
     "execution_count": 357,
     "metadata": {},
     "output_type": "execute_result"
    }
   ],
   "source": [
    "d = list(filter(lambda x : x[0] in woman and x[1] in woman , Sample_space))\n",
    "d"
   ],
   "metadata": {
    "collapsed": false,
    "pycharm": {
     "name": "#%%\n"
    }
   }
  },
  {
   "cell_type": "code",
   "execution_count": null,
   "outputs": [],
   "source": [],
   "metadata": {
    "collapsed": false,
    "pycharm": {
     "name": "#%%\n"
    }
   }
  },
  {
   "cell_type": "code",
   "execution_count": null,
   "outputs": [],
   "source": [
    "# a = itertools.chain.from_iterable(np.arange(1,366))\n",
    "# for i in a:\n",
    "#     print(i)\n",
    "# # for c in itertools.combinations(a, 2):\n",
    "# #     print(c)\n",
    "# print(sum(1 for _ in itertools.combinations(a,2)))\n",
    "\n",
    "#\n",
    "# for d in itertools.product(a, repeat= 2) :\n",
    "#     print(d)"
   ],
   "metadata": {
    "collapsed": false,
    "pycharm": {
     "name": "#%%\n"
    }
   }
  },
  {
   "cell_type": "code",
   "execution_count": null,
   "outputs": [],
   "source": [
    "#print(len(list(itertools.combinations_with_replacement(range(1, 60), 6))))\n"
   ],
   "metadata": {
    "collapsed": false,
    "pycharm": {
     "name": "#%%\n"
    }
   }
  },
  {
   "cell_type": "code",
   "execution_count": null,
   "outputs": [],
   "source": [
    "#print(len(list(itertools.combinations(range(1, 46), 6))))"
   ],
   "metadata": {
    "collapsed": false,
    "pycharm": {
     "name": "#%%\n"
    }
   }
  },
  {
   "cell_type": "code",
   "execution_count": null,
   "outputs": [],
   "source": [
    "print(0.15 * (1/3))\n",
    "print(0.14 * (1/8))"
   ],
   "metadata": {
    "collapsed": false,
    "pycharm": {
     "name": "#%%\n"
    }
   }
  },
  {
   "cell_type": "code",
   "execution_count": null,
   "outputs": [],
   "source": [
    "print(0.29 - 0.0175*0.14)\n",
    "print(1-0.28755)"
   ],
   "metadata": {
    "collapsed": false,
    "pycharm": {
     "name": "#%%\n"
    }
   }
  },
  {
   "cell_type": "code",
   "execution_count": null,
   "outputs": [],
   "source": [
    "print(0.64 * (1/8))"
   ],
   "metadata": {
    "collapsed": false,
    "pycharm": {
     "name": "#%%\n"
    }
   }
  },
  {
   "cell_type": "code",
   "execution_count": null,
   "outputs": [],
   "source": [
    "print(math.pow(0.273 , 4))\n",
    "print(math.pow(0.727 , 4))\n",
    "print(1- math.pow(0.727 , 4))"
   ],
   "metadata": {
    "collapsed": false,
    "pycharm": {
     "name": "#%%\n"
    }
   }
  },
  {
   "cell_type": "code",
   "execution_count": null,
   "outputs": [],
   "source": [
    "print(1- math.pow(4/5 , 3))"
   ],
   "metadata": {
    "collapsed": false,
    "pycharm": {
     "name": "#%%\n"
    }
   }
  },
  {
   "cell_type": "code",
   "execution_count": null,
   "outputs": [],
   "source": [
    "a = np.arange(2)\n",
    "b = itertools.product(a,  repeat= 3)\n",
    "# print(list(i for i in b))\n",
    "print(list(itertools.product(a,  repeat= 3)))\n",
    "#print(list(b))\n",
    "# for i in itertools.product(a,  repeat= 3):\n",
    "c = list(filter(lambda x : collections.Counter(x).most_common()[0][0] == 0 and collections.Counter(x).most_common()[0][1] ==2 , b))\n",
    "print(c)\n",
    "print( len(c) * (1/5)*(4/5)*(4/5) )\n",
    "# ratio = len(c) / sum(1 for _ in b)\n",
    "#ratio"
   ],
   "metadata": {
    "collapsed": false,
    "pycharm": {
     "name": "#%%\n"
    }
   }
  },
  {
   "cell_type": "code",
   "execution_count": null,
   "outputs": [],
   "source": [
    "b"
   ],
   "metadata": {
    "collapsed": false,
    "pycharm": {
     "name": "#%%\n"
    }
   }
  },
  {
   "cell_type": "code",
   "execution_count": null,
   "outputs": [],
   "source": [
    "b = itertools.product(a,  repeat= 3)\n",
    "e = list(filter(lambda x : collections.Counter(x).most_common()[0][0] ==1  and collections.Counter(x).most_common()[0][1] ==2 and x[1] == 1, b))\n",
    "\n",
    "print(e)\n",
    "print( len(e) * (1/5)*(4/5))\n",
    "print(1/3)"
   ],
   "metadata": {
    "collapsed": false,
    "pycharm": {
     "name": "#%%\n"
    }
   }
  },
  {
   "cell_type": "code",
   "execution_count": null,
   "outputs": [],
   "source": [
    "man = [i for i in range(8)]\n",
    "girl = [j for j in range(8,15)]\n",
    "#P(man > girl)\n",
    "\n",
    "a = np.arange(2)\n",
    "\n",
    "b = itertools.combinations_with_replacement(a , 3)\n",
    "c = list(filter(lambda x : collections.Counter(x).most_common()[0][0] == 0 , b))\n",
    "d=0\n",
    "for i in c:\n",
    "    print(i)\n",
    "    d += len(list(itertools.combinations(np.arange(8) , collections.Counter(i).most_common()[0][1])))* len(list(itertools.combinations(np.arange(7) , (3-collections.Counter(i).most_common()[0][1]))))\n",
    "    print(d)\n",
    "\n",
    "e = d/ len(list(itertools.combinations(np.arange(15) , 3)))\n",
    "print(e)\n",
    "print(35/65)"
   ],
   "metadata": {
    "collapsed": false,
    "pycharm": {
     "name": "#%%\n"
    }
   }
  },
  {
   "cell_type": "code",
   "execution_count": null,
   "outputs": [],
   "source": [],
   "metadata": {
    "collapsed": false,
    "pycharm": {
     "name": "#%%\n"
    }
   }
  },
  {
   "cell_type": "code",
   "execution_count": null,
   "outputs": [],
   "source": [
    "woman = [15744 , 4738 , 1910 , 34128]\n",
    "man = [66254 , 16606 , 13496 , 19364]\n",
    "\n",
    "A = pd.DataFrame([woman , man])\n",
    "A.columns  = ['의사' , '치과의사' , '한의사' , '약사']\n",
    "A.index = ['여성' , '남성']\n",
    "\n",
    "A = A.T\n",
    "A"
   ],
   "metadata": {
    "collapsed": false,
    "pycharm": {
     "name": "#%%\n"
    }
   }
  },
  {
   "cell_type": "code",
   "execution_count": null,
   "outputs": [],
   "source": [
    "\n",
    "a = pd.DataFrame(A[:].sum(axis=0))\n",
    "a =a.T\n",
    "a.index = ['합계']\n",
    "A = pd.concat([A,a])\n",
    "\n",
    "A"
   ],
   "metadata": {
    "collapsed": false,
    "pycharm": {
     "name": "#%%\n"
    }
   }
  },
  {
   "cell_type": "code",
   "execution_count": null,
   "outputs": [],
   "source": [
    "a = a.T\n",
    "a = pd.Series(a[:].sum(axis=0))\n",
    "a.index = ['전체합계']\n",
    "A = pd.concat([A,a])\n",
    "A"
   ],
   "metadata": {
    "collapsed": false,
    "pycharm": {
     "name": "#%%\n"
    }
   }
  },
  {
   "cell_type": "code",
   "execution_count": null,
   "outputs": [],
   "source": [
    "\n",
    "A['여성 비율'] = round( (A['여성'] / A.iloc[-1 , 0] ) *100 , 2)\n",
    "A['남성 비율'] = round( (A['남성'] /A.iloc[-1 , 1]) *100 , 2)\n",
    "A['여성_전체 비율'] = round( (A['여성'] / sum(A.iloc[-1, :2])) * 100 , 2)\n",
    "A"
   ],
   "metadata": {
    "collapsed": false,
    "pycharm": {
     "name": "#%%\n"
    }
   }
  },
  {
   "cell_type": "code",
   "execution_count": null,
   "outputs": [],
   "source": [
    "A.columns = ['종사자 수' ,'종사자 수', '성별 비율', '성별 비율' , '전체 비율', '전체 비율'] , ['여성' , '남성' , '여성' , '남성' , '여성' , '남성']"
   ],
   "metadata": {
    "collapsed": false,
    "pycharm": {
     "name": "#%%\n"
    }
   }
  },
  {
   "cell_type": "code",
   "execution_count": null,
   "outputs": [],
   "source": [
    "from openpyxl import Workbook\n",
    "wb = Workbook()\n",
    "#엑셀 파일 쓰기\n",
    "ws = wb.create_sheet('12_13연습시트') #이름이 있는 시트 생성\n",
    "\n",
    "ws = wb.active #Sheet1에다 입력\n",
    "\n",
    "ws.merge_cells(\"B2:D2\") #병합\n",
    "ws[\"B2\"].value = \"Merged Cell\" #입력값\n",
    "#행 단위로 추가\n",
    "ws.append([1,2,3])\n",
    "\n",
    "#셀 단위로 추가\n",
    "ws.cell(5, 5, '5행5열')\n",
    "wb.save('C:/Users/user/DataspellProjects/MOFA_CODE_1/기초통계/Chapter04.xlsx')"
   ],
   "metadata": {
    "collapsed": false,
    "pycharm": {
     "name": "#%%\n"
    }
   }
  },
  {
   "cell_type": "code",
   "execution_count": null,
   "outputs": [],
   "source": [
    "from openpyxl import load_workbook\n",
    "\n",
    "\n",
    "# data_only=True로 해줘야 수식이 아닌 값으로 받아온다.\n",
    "load_wb = load_workbook(\"C:/Users/user/DataspellProjects/MOFA_CODE_1/기초통계/Chapter04.xlsx\", data_only=True)\n",
    "# 시트 이름으로 불러오기\n",
    "load_ws = load_wb['12_13연습시트']\n",
    "f = pd.read_excel('C:/Users/user/DataspellProjects/MOFA_CODE_1/기초통계/Chapter04.xlsx')\n",
    "# 셀 주소로 값 출력\n",
    "print(load_ws['B2'].value)\n",
    "\n",
    "# 셀 좌표로 값 출력\n",
    "print(load_ws.cell(3, 2).value)\n",
    "\n",
    "\n",
    "# 지정한 셀의 값 출력\n",
    "\n",
    "get_cells = load_ws['B3' : 'B6']\n",
    "for row in get_cells:\n",
    "    for cell in row:\n",
    "        print(cell.value)\n",
    "\n",
    "# 모든 행 단위로 출력\n",
    "\n",
    "for row in load_ws.rows:\n",
    "    print(row)\n",
    "\n",
    "# 모든 열 단위로 출력\n",
    "\n",
    "for column in load_ws.columns:\n",
    "    print(column)\n",
    "\n",
    "# 모든 행과 열 출력\n",
    "\n",
    "all_values = []\n",
    "for row in load_ws.rows:\n",
    "    row_value = []\n",
    "    for cell in row:\n",
    "        row_value.append(cell.value)\n",
    "    all_values.append(row_value)\n",
    "print(all_values)\n"
   ],
   "metadata": {
    "collapsed": false,
    "pycharm": {
     "name": "#%%\n"
    }
   }
  },
  {
   "cell_type": "code",
   "execution_count": null,
   "outputs": [],
   "source": [
    "f"
   ],
   "metadata": {
    "collapsed": false,
    "pycharm": {
     "name": "#%%\n"
    }
   }
  },
  {
   "cell_type": "code",
   "execution_count": null,
   "outputs": [],
   "source": [
    "df = pd.read_excel('C:/Users/user/DataspellProjects/MOFA_CODE_1/기초통계/Chapter04.xlsx')\n",
    "df"
   ],
   "metadata": {
    "collapsed": false,
    "pycharm": {
     "name": "#%%\n"
    }
   }
  },
  {
   "cell_type": "code",
   "execution_count": null,
   "outputs": [],
   "source": [
    "a = a.T\n",
    "a = pd.Series(a[:].sum(axis=0))\n",
    "a.index = ['전체합계']\n",
    "A = pd.concat([A,a])\n",
    "A"
   ],
   "metadata": {
    "collapsed": false,
    "pycharm": {
     "name": "#%%\n"
    }
   }
  },
  {
   "cell_type": "code",
   "execution_count": null,
   "outputs": [],
   "source": [
    "\n",
    "A['여성 비율'] = round( (A['여성'] / A.iloc[-1 , 0] ) *100 , 2)\n",
    "A['남성 비율'] = round( (A['남성'] /A.iloc[-1 , 1]) *100 , 2)\n",
    "A['여성_전체 비율'] = round( (A['여성'] / sum(A.iloc[-1, :2])) * 100 , 2)\n",
    "A"
   ],
   "metadata": {
    "collapsed": false,
    "pycharm": {
     "name": "#%%\n"
    }
   }
  },
  {
   "cell_type": "code",
   "execution_count": null,
   "outputs": [],
   "source": [
    "A.columns = ['종사자 수' ,'종사자 수', '성별 비율', '성별 비율' , '전체 비율', '전체 비율'] , ['여성' , '남성' , '여성' , '남성' , '여성' , '남성']"
   ],
   "metadata": {
    "collapsed": false,
    "pycharm": {
     "name": "#%%\n"
    }
   }
  },
  {
   "cell_type": "code",
   "execution_count": null,
   "outputs": [],
   "source": [
    "from openpyxl import Workbook\n",
    "wb = Workbook()\n",
    "#엑셀 파일 쓰기\n",
    "ws = wb.create_sheet('12_13연습시트') #이름이 있는 시트 생성\n",
    "\n",
    "ws = wb.active #Sheet1에다 입력\n",
    "\n",
    "ws.merge_cells(\"B2:D2\") #병합\n",
    "ws[\"B2\"].value = \"Merged Cell\" #입력값\n",
    "#행 단위로 추가\n",
    "ws.append([1,2,3])\n",
    "\n",
    "#셀 단위로 추가\n",
    "ws.cell(5, 5, '5행5열')\n",
    "wb.save('C:/Users/user/DataspellProjects/MOFA_CODE_1/기초통계/Chapter04.xlsx')"
   ],
   "metadata": {
    "collapsed": false,
    "pycharm": {
     "name": "#%%\n"
    }
   }
  },
  {
   "cell_type": "code",
   "execution_count": null,
   "outputs": [],
   "source": [
    "from openpyxl import load_workbook\n",
    "\n",
    "\n",
    "# data_only=True로 해줘야 수식이 아닌 값으로 받아온다.\n",
    "load_wb = load_workbook(\"C:/Users/user/DataspellProjects/MOFA_CODE_1/기초통계/Chapter04.xlsx\", data_only=True)\n",
    "# 시트 이름으로 불러오기\n",
    "load_ws = load_wb['12_13연습시트']\n",
    "f = pd.read_excel('C:/Users/user/DataspellProjects/MOFA_CODE_1/기초통계/Chapter04.xlsx')\n",
    "# 셀 주소로 값 출력\n",
    "print(load_ws['B2'].value)\n",
    "\n",
    "# 셀 좌표로 값 출력\n",
    "print(load_ws.cell(3, 2).value)\n",
    "\n",
    "\n",
    "# 지정한 셀의 값 출력\n",
    "\n",
    "get_cells = load_ws['B3' : 'B6']\n",
    "for row in get_cells:\n",
    "    for cell in row:\n",
    "        print(cell.value)\n",
    "\n",
    "# 모든 행 단위로 출력\n",
    "\n",
    "for row in load_ws.rows:\n",
    "    print(row)\n",
    "\n",
    "# 모든 열 단위로 출력\n",
    "\n",
    "for column in load_ws.columns:\n",
    "    print(column)\n",
    "\n",
    "# 모든 행과 열 출력\n",
    "\n",
    "all_values = []\n",
    "for row in load_ws.rows:\n",
    "    row_value = []\n",
    "    for cell in row:\n",
    "        row_value.append(cell.value)\n",
    "    all_values.append(row_value)\n",
    "print(all_values)\n"
   ],
   "metadata": {
    "collapsed": false,
    "pycharm": {
     "name": "#%%\n"
    }
   }
  },
  {
   "cell_type": "code",
   "execution_count": null,
   "outputs": [],
   "source": [
    "f"
   ],
   "metadata": {
    "collapsed": false,
    "pycharm": {
     "name": "#%%\n"
    }
   }
  },
  {
   "cell_type": "code",
   "execution_count": null,
   "outputs": [],
   "source": [
    "df = pd.read_excel('C:/Users/user/DataspellProjects/MOFA_CODE_1/기초통계/Chapter04.xlsx')\n",
    "df"
   ],
   "metadata": {
    "collapsed": false,
    "pycharm": {
     "name": "#%%\n"
    }
   }
  },
  {
   "cell_type": "code",
   "execution_count": null,
   "outputs": [],
   "source": [],
   "metadata": {
    "collapsed": false,
    "pycharm": {
     "name": "#%%\n"
    }
   }
  },
  {
   "cell_type": "code",
   "execution_count": null,
   "outputs": [],
   "source": [
    "\n",
    "A['여성 비율'] = round( (A['여성'] / A.iloc[-1 , 0] ) *100 , 2)\n",
    "A['남성 비율'] = round( (A['남성'] /A.iloc[-1 , 1]) *100 , 2)\n",
    "A['여성_전체 비율'] = round( (A['여성'] / sum(A.iloc[-1, :2])) * 100 , 2)\n",
    "A"
   ],
   "metadata": {
    "collapsed": false,
    "pycharm": {
     "name": "#%%\n"
    }
   }
  },
  {
   "cell_type": "code",
   "execution_count": null,
   "outputs": [],
   "source": [
    "A.columns = ['종사자 수' ,'종사자 수', '성별 비율', '성별 비율' , '전체 비율', '전체 비율'] , ['여성' , '남성' , '여성' , '남성' , '여성' , '남성']"
   ],
   "metadata": {
    "collapsed": false,
    "pycharm": {
     "name": "#%%\n"
    }
   }
  },
  {
   "cell_type": "code",
   "execution_count": null,
   "outputs": [],
   "source": [
    "from openpyxl import Workbook\n",
    "wb = Workbook()\n",
    "#엑셀 파일 쓰기\n",
    "ws = wb.create_sheet('12_13연습시트') #이름이 있는 시트 생성\n",
    "\n",
    "ws = wb.active #Sheet1에다 입력\n",
    "\n",
    "ws.merge_cells(\"B2:D2\") #병합\n",
    "ws[\"B2\"].value = \"Merged Cell\" #입력값\n",
    "#행 단위로 추가\n",
    "ws.append([1,2,3])\n",
    "\n",
    "#셀 단위로 추가\n",
    "ws.cell(5, 5, '5행5열')\n",
    "wb.save('C:/Users/user/DataspellProjects/MOFA_CODE_1/기초통계/Chapter04.xlsx')"
   ],
   "metadata": {
    "collapsed": false,
    "pycharm": {
     "name": "#%%\n"
    }
   }
  },
  {
   "cell_type": "code",
   "execution_count": null,
   "outputs": [],
   "source": [
    "from openpyxl import load_workbook\n",
    "\n",
    "\n",
    "# data_only=True로 해줘야 수식이 아닌 값으로 받아온다.\n",
    "load_wb = load_workbook(\"C:/Users/user/DataspellProjects/MOFA_CODE_1/기초통계/Chapter04.xlsx\", data_only=True)\n",
    "# 시트 이름으로 불러오기\n",
    "load_ws = load_wb['12_13연습시트']\n",
    "f = pd.read_excel('C:/Users/user/DataspellProjects/MOFA_CODE_1/기초통계/Chapter04.xlsx')\n",
    "# 셀 주소로 값 출력\n",
    "print(load_ws['B2'].value)\n",
    "\n",
    "# 셀 좌표로 값 출력\n",
    "print(load_ws.cell(3, 2).value)\n",
    "\n",
    "\n",
    "# 지정한 셀의 값 출력\n",
    "\n",
    "get_cells = load_ws['B3' : 'B6']\n",
    "for row in get_cells:\n",
    "    for cell in row:\n",
    "        print(cell.value)\n",
    "\n",
    "# 모든 행 단위로 출력\n",
    "\n",
    "for row in load_ws.rows:\n",
    "    print(row)\n",
    "\n",
    "# 모든 열 단위로 출력\n",
    "\n",
    "for column in load_ws.columns:\n",
    "    print(column)\n",
    "\n",
    "# 모든 행과 열 출력\n",
    "\n",
    "all_values = []\n",
    "for row in load_ws.rows:\n",
    "    row_value = []\n",
    "    for cell in row:\n",
    "        row_value.append(cell.value)\n",
    "    all_values.append(row_value)\n",
    "print(all_values)\n"
   ],
   "metadata": {
    "collapsed": false,
    "pycharm": {
     "name": "#%%\n"
    }
   }
  },
  {
   "cell_type": "code",
   "execution_count": null,
   "outputs": [],
   "source": [
    "f"
   ],
   "metadata": {
    "collapsed": false,
    "pycharm": {
     "name": "#%%\n"
    }
   }
  },
  {
   "cell_type": "code",
   "execution_count": null,
   "outputs": [],
   "source": [
    "df = pd.read_excel('C:/Users/user/DataspellProjects/MOFA_CODE_1/기초통계/Chapter04.xlsx')\n",
    "df"
   ],
   "metadata": {
    "collapsed": false,
    "pycharm": {
     "name": "#%%\n"
    }
   }
  },
  {
   "cell_type": "code",
   "execution_count": null,
   "outputs": [],
   "source": [],
   "metadata": {
    "collapsed": false,
    "pycharm": {
     "name": "#%%\n"
    }
   }
  },
  {
   "cell_type": "code",
   "execution_count": 373,
   "outputs": [
    {
     "data": {
      "text/plain": "             0        남성       여성  여성 비율  남성 비율  여성_전체 비율\n의사         NaN   66254.0  15744.0   9.14    NaN       NaN\n치과의사       NaN   16606.0   4738.0   2.75    NaN       NaN\n한의사        NaN   13496.0   1910.0   1.11    NaN       NaN\n약사         NaN   19364.0  34128.0  19.81    NaN       NaN\n합계         NaN  115720.0  56520.0  32.81    NaN       NaN\n전체합계  172240.0       NaN      NaN    NaN    NaN       NaN",
      "text/html": "<div>\n<style scoped>\n    .dataframe tbody tr th:only-of-type {\n        vertical-align: middle;\n    }\n\n    .dataframe tbody tr th {\n        vertical-align: top;\n    }\n\n    .dataframe thead th {\n        text-align: right;\n    }\n</style>\n<table border=\"1\" class=\"dataframe\">\n  <thead>\n    <tr style=\"text-align: right;\">\n      <th></th>\n      <th>0</th>\n      <th>남성</th>\n      <th>여성</th>\n      <th>여성 비율</th>\n      <th>남성 비율</th>\n      <th>여성_전체 비율</th>\n    </tr>\n  </thead>\n  <tbody>\n    <tr>\n      <th>의사</th>\n      <td>NaN</td>\n      <td>66254.0</td>\n      <td>15744.0</td>\n      <td>9.14</td>\n      <td>NaN</td>\n      <td>NaN</td>\n    </tr>\n    <tr>\n      <th>치과의사</th>\n      <td>NaN</td>\n      <td>16606.0</td>\n      <td>4738.0</td>\n      <td>2.75</td>\n      <td>NaN</td>\n      <td>NaN</td>\n    </tr>\n    <tr>\n      <th>한의사</th>\n      <td>NaN</td>\n      <td>13496.0</td>\n      <td>1910.0</td>\n      <td>1.11</td>\n      <td>NaN</td>\n      <td>NaN</td>\n    </tr>\n    <tr>\n      <th>약사</th>\n      <td>NaN</td>\n      <td>19364.0</td>\n      <td>34128.0</td>\n      <td>19.81</td>\n      <td>NaN</td>\n      <td>NaN</td>\n    </tr>\n    <tr>\n      <th>합계</th>\n      <td>NaN</td>\n      <td>115720.0</td>\n      <td>56520.0</td>\n      <td>32.81</td>\n      <td>NaN</td>\n      <td>NaN</td>\n    </tr>\n    <tr>\n      <th>전체합계</th>\n      <td>172240.0</td>\n      <td>NaN</td>\n      <td>NaN</td>\n      <td>NaN</td>\n      <td>NaN</td>\n      <td>NaN</td>\n    </tr>\n  </tbody>\n</table>\n</div>"
     },
     "execution_count": 373,
     "metadata": {},
     "output_type": "execute_result"
    }
   ],
   "source": [
    "\n",
    "A['여성 비율'] = round( (A['여성'] / A.iloc[-1 , 0] ) *100 , 2)\n",
    "A['남성 비율'] = round( (A['남성'] /A.iloc[-1 , 1]) *100 , 2)\n",
    "A['여성_전체 비율'] = round( (A['여성'] / sum(A.iloc[-1, :2])) * 100 , 2)\n",
    "A"
   ],
   "metadata": {
    "collapsed": false,
    "pycharm": {
     "name": "#%%\n"
    }
   }
  },
  {
   "cell_type": "code",
   "execution_count": 374,
   "outputs": [
    {
     "ename": "ValueError",
     "evalue": "Length mismatch: Expected axis has 6 elements, new values have 2 elements",
     "output_type": "error",
     "traceback": [
      "\u001B[1;31m---------------------------------------------------------------------------\u001B[0m",
      "\u001B[1;31mValueError\u001B[0m                                Traceback (most recent call last)",
      "\u001B[1;32m<ipython-input-374-9179daeb1d7a>\u001B[0m in \u001B[0;36m<module>\u001B[1;34m\u001B[0m\n\u001B[1;32m----> 1\u001B[1;33m \u001B[0mA\u001B[0m\u001B[1;33m.\u001B[0m\u001B[0mcolumns\u001B[0m \u001B[1;33m=\u001B[0m \u001B[1;33m[\u001B[0m\u001B[1;34m'종사자 수'\u001B[0m \u001B[1;33m,\u001B[0m\u001B[1;34m'종사자 수'\u001B[0m\u001B[1;33m,\u001B[0m \u001B[1;34m'성별 비율'\u001B[0m\u001B[1;33m,\u001B[0m \u001B[1;34m'성별 비율'\u001B[0m \u001B[1;33m,\u001B[0m \u001B[1;34m'전체 비율'\u001B[0m\u001B[1;33m,\u001B[0m \u001B[1;34m'전체 비율'\u001B[0m\u001B[1;33m]\u001B[0m \u001B[1;33m,\u001B[0m \u001B[1;33m[\u001B[0m\u001B[1;34m'여성'\u001B[0m \u001B[1;33m,\u001B[0m \u001B[1;34m'남성'\u001B[0m \u001B[1;33m,\u001B[0m \u001B[1;34m'여성'\u001B[0m \u001B[1;33m,\u001B[0m \u001B[1;34m'남성'\u001B[0m \u001B[1;33m,\u001B[0m \u001B[1;34m'여성'\u001B[0m \u001B[1;33m,\u001B[0m \u001B[1;34m'남성'\u001B[0m\u001B[1;33m]\u001B[0m\u001B[1;33m\u001B[0m\u001B[1;33m\u001B[0m\u001B[0m\n\u001B[0m",
      "\u001B[1;32m~\\anaconda3\\lib\\site-packages\\pandas\\core\\generic.py\u001B[0m in \u001B[0;36m__setattr__\u001B[1;34m(self, name, value)\u001B[0m\n\u001B[0;32m   5476\u001B[0m         \u001B[1;32mtry\u001B[0m\u001B[1;33m:\u001B[0m\u001B[1;33m\u001B[0m\u001B[1;33m\u001B[0m\u001B[0m\n\u001B[0;32m   5477\u001B[0m             \u001B[0mobject\u001B[0m\u001B[1;33m.\u001B[0m\u001B[0m__getattribute__\u001B[0m\u001B[1;33m(\u001B[0m\u001B[0mself\u001B[0m\u001B[1;33m,\u001B[0m \u001B[0mname\u001B[0m\u001B[1;33m)\u001B[0m\u001B[1;33m\u001B[0m\u001B[1;33m\u001B[0m\u001B[0m\n\u001B[1;32m-> 5478\u001B[1;33m             \u001B[1;32mreturn\u001B[0m \u001B[0mobject\u001B[0m\u001B[1;33m.\u001B[0m\u001B[0m__setattr__\u001B[0m\u001B[1;33m(\u001B[0m\u001B[0mself\u001B[0m\u001B[1;33m,\u001B[0m \u001B[0mname\u001B[0m\u001B[1;33m,\u001B[0m \u001B[0mvalue\u001B[0m\u001B[1;33m)\u001B[0m\u001B[1;33m\u001B[0m\u001B[1;33m\u001B[0m\u001B[0m\n\u001B[0m\u001B[0;32m   5479\u001B[0m         \u001B[1;32mexcept\u001B[0m \u001B[0mAttributeError\u001B[0m\u001B[1;33m:\u001B[0m\u001B[1;33m\u001B[0m\u001B[1;33m\u001B[0m\u001B[0m\n\u001B[0;32m   5480\u001B[0m             \u001B[1;32mpass\u001B[0m\u001B[1;33m\u001B[0m\u001B[1;33m\u001B[0m\u001B[0m\n",
      "\u001B[1;32mpandas\\_libs\\properties.pyx\u001B[0m in \u001B[0;36mpandas._libs.properties.AxisProperty.__set__\u001B[1;34m()\u001B[0m\n",
      "\u001B[1;32m~\\anaconda3\\lib\\site-packages\\pandas\\core\\generic.py\u001B[0m in \u001B[0;36m_set_axis\u001B[1;34m(self, axis, labels)\u001B[0m\n\u001B[0;32m    668\u001B[0m     \u001B[1;32mdef\u001B[0m \u001B[0m_set_axis\u001B[0m\u001B[1;33m(\u001B[0m\u001B[0mself\u001B[0m\u001B[1;33m,\u001B[0m \u001B[0maxis\u001B[0m\u001B[1;33m:\u001B[0m \u001B[0mint\u001B[0m\u001B[1;33m,\u001B[0m \u001B[0mlabels\u001B[0m\u001B[1;33m:\u001B[0m \u001B[0mIndex\u001B[0m\u001B[1;33m)\u001B[0m \u001B[1;33m->\u001B[0m \u001B[1;32mNone\u001B[0m\u001B[1;33m:\u001B[0m\u001B[1;33m\u001B[0m\u001B[1;33m\u001B[0m\u001B[0m\n\u001B[0;32m    669\u001B[0m         \u001B[0mlabels\u001B[0m \u001B[1;33m=\u001B[0m \u001B[0mensure_index\u001B[0m\u001B[1;33m(\u001B[0m\u001B[0mlabels\u001B[0m\u001B[1;33m)\u001B[0m\u001B[1;33m\u001B[0m\u001B[1;33m\u001B[0m\u001B[0m\n\u001B[1;32m--> 670\u001B[1;33m         \u001B[0mself\u001B[0m\u001B[1;33m.\u001B[0m\u001B[0m_mgr\u001B[0m\u001B[1;33m.\u001B[0m\u001B[0mset_axis\u001B[0m\u001B[1;33m(\u001B[0m\u001B[0maxis\u001B[0m\u001B[1;33m,\u001B[0m \u001B[0mlabels\u001B[0m\u001B[1;33m)\u001B[0m\u001B[1;33m\u001B[0m\u001B[1;33m\u001B[0m\u001B[0m\n\u001B[0m\u001B[0;32m    671\u001B[0m         \u001B[0mself\u001B[0m\u001B[1;33m.\u001B[0m\u001B[0m_clear_item_cache\u001B[0m\u001B[1;33m(\u001B[0m\u001B[1;33m)\u001B[0m\u001B[1;33m\u001B[0m\u001B[1;33m\u001B[0m\u001B[0m\n\u001B[0;32m    672\u001B[0m \u001B[1;33m\u001B[0m\u001B[0m\n",
      "\u001B[1;32m~\\anaconda3\\lib\\site-packages\\pandas\\core\\internals\\managers.py\u001B[0m in \u001B[0;36mset_axis\u001B[1;34m(self, axis, new_labels)\u001B[0m\n\u001B[0;32m    218\u001B[0m \u001B[1;33m\u001B[0m\u001B[0m\n\u001B[0;32m    219\u001B[0m         \u001B[1;32mif\u001B[0m \u001B[0mnew_len\u001B[0m \u001B[1;33m!=\u001B[0m \u001B[0mold_len\u001B[0m\u001B[1;33m:\u001B[0m\u001B[1;33m\u001B[0m\u001B[1;33m\u001B[0m\u001B[0m\n\u001B[1;32m--> 220\u001B[1;33m             raise ValueError(\n\u001B[0m\u001B[0;32m    221\u001B[0m                 \u001B[1;34mf\"Length mismatch: Expected axis has {old_len} elements, new \"\u001B[0m\u001B[1;33m\u001B[0m\u001B[1;33m\u001B[0m\u001B[0m\n\u001B[0;32m    222\u001B[0m                 \u001B[1;34mf\"values have {new_len} elements\"\u001B[0m\u001B[1;33m\u001B[0m\u001B[1;33m\u001B[0m\u001B[0m\n",
      "\u001B[1;31mValueError\u001B[0m: Length mismatch: Expected axis has 6 elements, new values have 2 elements"
     ]
    }
   ],
   "source": [
    "A.columns = ['종사자 수' ,'종사자 수', '성별 비율', '성별 비율' , '전체 비율', '전체 비율'] , ['여성' , '남성' , '여성' , '남성' , '여성' , '남성']"
   ],
   "metadata": {
    "collapsed": false,
    "pycharm": {
     "name": "#%%\n"
    }
   }
  },
  {
   "cell_type": "code",
   "execution_count": 393,
   "outputs": [],
   "source": [
    "from openpyxl import Workbook\n",
    "wb = Workbook()\n",
    "#엑셀 파일 쓰기\n",
    "ws = wb.create_sheet('12_13연습시트') #이름이 있는 시트 생성\n",
    "\n",
    "ws = wb.active #Sheet1에다 입력\n",
    "\n",
    "ws.merge_cells(\"B2:D2\") #병합\n",
    "ws[\"B2\"].value = \"Merged Cell\" #입력값\n",
    "#행 단위로 추가\n",
    "ws.append([1,2,3])\n",
    "\n",
    "#셀 단위로 추가\n",
    "ws.cell(5, 5, '5행5열')\n",
    "wb.save('C:/Users/user/DataspellProjects/MOFA_CODE_1/기초통계/Chapter04.xlsx')"
   ],
   "metadata": {
    "collapsed": false,
    "pycharm": {
     "name": "#%%\n"
    }
   }
  },
  {
   "cell_type": "code",
   "execution_count": 399,
   "outputs": [
    {
     "name": "stdout",
     "output_type": "stream",
     "text": [
      "None\n",
      "None\n",
      "None\n",
      "None\n",
      "None\n",
      "None\n",
      "(<Cell '12_13연습시트'.A1>, <Cell '12_13연습시트'.B1>)\n",
      "(<Cell '12_13연습시트'.A2>, <Cell '12_13연습시트'.B2>)\n",
      "(<Cell '12_13연습시트'.A3>, <Cell '12_13연습시트'.B3>)\n",
      "(<Cell '12_13연습시트'.A4>, <Cell '12_13연습시트'.B4>)\n",
      "(<Cell '12_13연습시트'.A5>, <Cell '12_13연습시트'.B5>)\n",
      "(<Cell '12_13연습시트'.A6>, <Cell '12_13연습시트'.B6>)\n",
      "(<Cell '12_13연습시트'.A1>, <Cell '12_13연습시트'.A2>, <Cell '12_13연습시트'.A3>, <Cell '12_13연습시트'.A4>, <Cell '12_13연습시트'.A5>, <Cell '12_13연습시트'.A6>)\n",
      "(<Cell '12_13연습시트'.B1>, <Cell '12_13연습시트'.B2>, <Cell '12_13연습시트'.B3>, <Cell '12_13연습시트'.B4>, <Cell '12_13연습시트'.B5>, <Cell '12_13연습시트'.B6>)\n",
      "[[None, None], [None, None], [None, None], [None, None], [None, None], [None, None]]\n"
     ]
    }
   ],
   "source": [
    "from openpyxl import load_workbook\n",
    "\n",
    "\n",
    "# data_only=True로 해줘야 수식이 아닌 값으로 받아온다.\n",
    "load_wb = load_workbook(\"C:/Users/user/DataspellProjects/MOFA_CODE_1/기초통계/Chapter04.xlsx\", data_only=True)\n",
    "# 시트 이름으로 불러오기\n",
    "load_ws = load_wb['12_13연습시트']\n",
    "f = pd.read_excel('C:/Users/user/DataspellProjects/MOFA_CODE_1/기초통계/Chapter04.xlsx')\n",
    "# 셀 주소로 값 출력\n",
    "print(load_ws['B2'].value)\n",
    "\n",
    "# 셀 좌표로 값 출력\n",
    "print(load_ws.cell(3, 2).value)\n",
    "\n",
    "\n",
    "# 지정한 셀의 값 출력\n",
    "\n",
    "get_cells = load_ws['B3' : 'B6']\n",
    "for row in get_cells:\n",
    "    for cell in row:\n",
    "        print(cell.value)\n",
    "\n",
    "# 모든 행 단위로 출력\n",
    "\n",
    "for row in load_ws.rows:\n",
    "    print(row)\n",
    "\n",
    "# 모든 열 단위로 출력\n",
    "\n",
    "for column in load_ws.columns:\n",
    "    print(column)\n",
    "\n",
    "# 모든 행과 열 출력\n",
    "\n",
    "all_values = []\n",
    "for row in load_ws.rows:\n",
    "    row_value = []\n",
    "    for cell in row:\n",
    "        row_value.append(cell.value)\n",
    "    all_values.append(row_value)\n",
    "print(all_values)\n"
   ],
   "metadata": {
    "collapsed": false,
    "pycharm": {
     "name": "#%%\n"
    }
   }
  },
  {
   "cell_type": "code",
   "execution_count": 400,
   "outputs": [
    {
     "data": {
      "text/plain": "   Unnamed: 0   Unnamed: 1  Unnamed: 2  Unnamed: 3 Unnamed: 4\n0         NaN  Merged Cell         NaN         NaN        NaN\n1         1.0            2         3.0         NaN        NaN\n2         NaN          NaN         NaN         NaN        NaN\n3         NaN          NaN         NaN         NaN       5행5열",
      "text/html": "<div>\n<style scoped>\n    .dataframe tbody tr th:only-of-type {\n        vertical-align: middle;\n    }\n\n    .dataframe tbody tr th {\n        vertical-align: top;\n    }\n\n    .dataframe thead th {\n        text-align: right;\n    }\n</style>\n<table border=\"1\" class=\"dataframe\">\n  <thead>\n    <tr style=\"text-align: right;\">\n      <th></th>\n      <th>Unnamed: 0</th>\n      <th>Unnamed: 1</th>\n      <th>Unnamed: 2</th>\n      <th>Unnamed: 3</th>\n      <th>Unnamed: 4</th>\n    </tr>\n  </thead>\n  <tbody>\n    <tr>\n      <th>0</th>\n      <td>NaN</td>\n      <td>Merged Cell</td>\n      <td>NaN</td>\n      <td>NaN</td>\n      <td>NaN</td>\n    </tr>\n    <tr>\n      <th>1</th>\n      <td>1.0</td>\n      <td>2</td>\n      <td>3.0</td>\n      <td>NaN</td>\n      <td>NaN</td>\n    </tr>\n    <tr>\n      <th>2</th>\n      <td>NaN</td>\n      <td>NaN</td>\n      <td>NaN</td>\n      <td>NaN</td>\n      <td>NaN</td>\n    </tr>\n    <tr>\n      <th>3</th>\n      <td>NaN</td>\n      <td>NaN</td>\n      <td>NaN</td>\n      <td>NaN</td>\n      <td>5행5열</td>\n    </tr>\n  </tbody>\n</table>\n</div>"
     },
     "execution_count": 400,
     "metadata": {},
     "output_type": "execute_result"
    }
   ],
   "source": [
    "f"
   ],
   "metadata": {
    "collapsed": false,
    "pycharm": {
     "name": "#%%\n"
    }
   }
  },
  {
   "cell_type": "code",
   "execution_count": 387,
   "outputs": [
    {
     "data": {
      "text/plain": "   Unnamed: 0   Unnamed: 1  Unnamed: 2  Unnamed: 3 Unnamed: 4\n0         NaN  Merged Cell         NaN         NaN        NaN\n1         1.0            2         3.0         NaN        NaN\n2         NaN          NaN         NaN         NaN        NaN\n3         NaN          NaN         NaN         NaN       5행5열",
      "text/html": "<div>\n<style scoped>\n    .dataframe tbody tr th:only-of-type {\n        vertical-align: middle;\n    }\n\n    .dataframe tbody tr th {\n        vertical-align: top;\n    }\n\n    .dataframe thead th {\n        text-align: right;\n    }\n</style>\n<table border=\"1\" class=\"dataframe\">\n  <thead>\n    <tr style=\"text-align: right;\">\n      <th></th>\n      <th>Unnamed: 0</th>\n      <th>Unnamed: 1</th>\n      <th>Unnamed: 2</th>\n      <th>Unnamed: 3</th>\n      <th>Unnamed: 4</th>\n    </tr>\n  </thead>\n  <tbody>\n    <tr>\n      <th>0</th>\n      <td>NaN</td>\n      <td>Merged Cell</td>\n      <td>NaN</td>\n      <td>NaN</td>\n      <td>NaN</td>\n    </tr>\n    <tr>\n      <th>1</th>\n      <td>1.0</td>\n      <td>2</td>\n      <td>3.0</td>\n      <td>NaN</td>\n      <td>NaN</td>\n    </tr>\n    <tr>\n      <th>2</th>\n      <td>NaN</td>\n      <td>NaN</td>\n      <td>NaN</td>\n      <td>NaN</td>\n      <td>NaN</td>\n    </tr>\n    <tr>\n      <th>3</th>\n      <td>NaN</td>\n      <td>NaN</td>\n      <td>NaN</td>\n      <td>NaN</td>\n      <td>5행5열</td>\n    </tr>\n  </tbody>\n</table>\n</div>"
     },
     "execution_count": 387,
     "metadata": {},
     "output_type": "execute_result"
    }
   ],
   "source": [
    "df = pd.read_excel('C:/Users/user/DataspellProjects/MOFA_CODE_1/기초통계/Chapter04.xlsx')\n",
    "df"
   ],
   "metadata": {
    "collapsed": false,
    "pycharm": {
     "name": "#%%\n"
    }
   }
  },
  {
   "cell_type": "code",
   "execution_count": null,
   "outputs": [],
   "source": [],
   "metadata": {
    "collapsed": false,
    "pycharm": {
     "name": "#%%\n"
    }
   }
  }
 ],
 "metadata": {
  "kernelspec": {
   "display_name": "Python 3",
   "language": "python",
   "name": "python3"
  },
  "language_info": {
   "codemirror_mode": {
    "name": "ipython",
    "version": 2
   },
   "file_extension": ".py",
   "mimetype": "text/x-python",
   "name": "python",
   "nbconvert_exporter": "python",
   "pygments_lexer": "ipython2",
   "version": "2.7.6"
  }
 },
 "nbformat": 4,
 "nbformat_minor": 0
}