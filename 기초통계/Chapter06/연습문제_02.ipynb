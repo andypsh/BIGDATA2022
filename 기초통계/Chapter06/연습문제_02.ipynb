{
 "cells": [
  {
   "cell_type": "code",
   "execution_count": 268,
   "metadata": {
    "collapsed": true,
    "pycharm": {
     "name": "#%%\n"
    }
   },
   "outputs": [],
   "source": [
    "import itertools\n",
    "import platform\n",
    "import matplotlib\n",
    "import pandas as pd\n",
    "import matplotlib.pyplot as plt\n",
    "from matplotlib import font_manager, rc\n",
    "import seaborn as sns\n",
    "%precision 3\n",
    "from matplotlib import pyplot as plt\n",
    "%matplotlib inline\n",
    "#그래프를 주피터 놋북에 그리기 위해\n",
    "import numpy as np\n",
    "import copy\n",
    "from matplotlib import ticker\n",
    "from scipy.stats import probplot\n",
    "from scipy import stats\n",
    "import collections\n",
    "import itertools\n",
    "import math\n",
    "#from varname import nameof\n",
    "import sys\n",
    "from scipy import stats\n",
    "from scipy.stats import bernoulli\n",
    "import scipy\n",
    "#히스토그램 그리기\n",
    "\n",
    "from sympy import Integral,  Symbol , pprint\n",
    "#sympy\n",
    "\n",
    "\n",
    "# Window\n",
    "if platform.system() == 'Windows':\n",
    "    matplotlib.rc('font', family='Malgun Gothic')\n",
    "elif platform.system() == 'Darwin': # Mac\n",
    "    matplotlib.rc('font', family='AppleGothic')\n",
    "else: #linux\n",
    "    matplotlib.rc('font', family='NanumGothic')\n",
    "\n",
    "# 그래프에 마이너스 표시가 되도록 변경\n",
    "matplotlib.rcParams['axes.unicode_minus'] = False\n",
    "\n",
    "# 한글 폰트 설정\n",
    "font_location = 'C:/Windows/Fonts/MALGUNSL.TTF' #맑은고딕\n",
    "font_name = font_manager.FontProperties(fname=font_location).get_name()\n",
    "rc('font',family=font_name)"
   ]
  },
  {
   "cell_type": "code",
   "execution_count": 269,
   "outputs": [
    {
     "name": "stdout",
     "output_type": "stream",
     "text": [
      "[1.25 1.26 1.27 1.28 1.29 1.3  1.31 1.32 1.33 1.34 1.35 1.36 1.37 1.38\n",
      " 1.39 1.4  1.41 1.42 1.43 1.44 1.45 1.46 1.47 1.48 1.49 1.5  1.51 1.52\n",
      " 1.53 1.54 1.55 1.56 1.57 1.58 1.59 1.6  1.61 1.62 1.63 1.64 1.65 1.66\n",
      " 1.67 1.68 1.69 1.7  1.71 1.72 1.73 1.74 1.75 1.76 1.77 1.78 1.79 1.8\n",
      " 1.81 1.82 1.83 1.84]\n",
      "[0. 0. 0. 0. 0. 0. 0. 0. 0. 0. 0. 0. 0. 0. 0. 0. 0. 0. 0. 0. 5. 5. 5. 5.\n",
      " 5. 5. 5. 5. 5. 5. 5. 5. 5. 5. 5. 5. 5. 5. 5. 5. 0. 0. 0. 0. 0. 0. 0. 0.\n",
      " 0. 0. 0. 0. 0. 0. 0. 0. 0. 0. 0. 0.]\n",
      "20\n",
      "1.5450000000000002\n",
      "0.003325000000000006\n"
     ]
    }
   ],
   "source": [
    "#1.5V 건전지는 1.45V에서 1.65V 사이에서 균등분포를 이룬다.\n",
    "\n",
    "min , max = 1.45, 1.65\n",
    "\n",
    "# x_2 = linspace(min-1 , max+1 , 100)\n",
    "\n",
    "x_2 = np.arange(min-.2 , max+.2 , .01)\n",
    "\n",
    "print(x_2)\n",
    "\n",
    "y = scipy.stats.uniform.pdf( x = x_2 , loc = min , scale = max-min)\n",
    "# f(x, loc, scale) = {1/scale-loc for loc <= x <= scale\n",
    "# {0 otherwise}\n",
    "print(y)\n",
    "\n",
    "# print(np.mean(y))\n",
    "print(len(y[np.where(y != 0.)])) #np.where 활용\n",
    "\n",
    "print(np.mean(np.arange(min,max, .01)))\n",
    "print(np.var(np.arange(min,max, .01)))"
   ],
   "metadata": {
    "collapsed": false,
    "pycharm": {
     "name": "#%%\n"
    }
   }
  },
  {
   "cell_type": "code",
   "execution_count": 270,
   "outputs": [
    {
     "data": {
      "text/plain": "Text(0, 0.5, 'Y')"
     },
     "execution_count": 270,
     "metadata": {},
     "output_type": "execute_result"
    },
    {
     "data": {
      "text/plain": "<Figure size 864x576 with 1 Axes>",
      "image/png": "[encoded data removed]"
     },
     "metadata": {
      "needs_background": "light"
     },
     "output_type": "display_data"
    }
   ],
   "source": [
    "fig = plt.figure(figsize=(12, 8))\n",
    "\n",
    "ax = sns.lineplot(x = x_2 , y= y)\n",
    "\n",
    "ax.set_title('균등분포(Uniform Distribution)')\n",
    "ax.set_xlabel('X' , fontsize= 15)\n",
    "ax.set_ylabel('Y' , fontsize= 15 , rotation = 0 , labelpad = 12)"
   ],
   "metadata": {
    "collapsed": false,
    "pycharm": {
     "name": "#%%\n"
    }
   }
  },
  {
   "cell_type": "code",
   "execution_count": 271,
   "outputs": [
    {
     "name": "stdout",
     "output_type": "stream",
     "text": [
      "1.5499999999999998\n",
      "0.003333333333333332\n"
     ]
    }
   ],
   "source": [
    "print( (1.45 + 1.65) / 2)\n",
    "print( math.pow(1.65 - 1.45,2) / 12)"
   ],
   "metadata": {
    "collapsed": false,
    "pycharm": {
     "name": "#%%\n"
    }
   }
  },
  {
   "cell_type": "code",
   "execution_count": 272,
   "outputs": [
    {
     "data": {
      "text/plain": "-15.152"
     },
     "execution_count": 272,
     "metadata": {},
     "output_type": "execute_result"
    }
   ],
   "source": [
    "a=  (1.5-1.55) / 0.0033\n",
    "a"
   ],
   "metadata": {
    "collapsed": false,
    "pycharm": {
     "name": "#%%\n"
    }
   }
  },
  {
   "cell_type": "code",
   "execution_count": 273,
   "outputs": [
    {
     "name": "stdout",
     "output_type": "stream",
     "text": [
      "1.0\n"
     ]
    }
   ],
   "source": [
    "print(scipy.stats.uniform.cdf(1.44))"
   ],
   "metadata": {
    "collapsed": false,
    "pycharm": {
     "name": "#%%\n"
    }
   }
  },
  {
   "cell_type": "code",
   "execution_count": 274,
   "outputs": [
    {
     "name": "stdout",
     "output_type": "stream",
     "text": [
      "0.004999999999999993\n"
     ]
    }
   ],
   "source": [
    "print(scipy.stats.uniform.cdf(loc= 1.55 , scale = 20 , x=1.65)) #loc는 위치 , scale= 변환한 갯수 , x는 확률범위"
   ],
   "metadata": {
    "collapsed": false,
    "pycharm": {
     "name": "#%%\n"
    }
   }
  },
  {
   "cell_type": "code",
   "execution_count": 275,
   "outputs": [
    {
     "name": "stdout",
     "output_type": "stream",
     "text": [
      "[1.45, 1.46, 1.47, 1.48, 1.49]\n",
      "0.05\n",
      "0.05\n",
      "0.05\n",
      "0.05\n",
      "0.05\n"
     ]
    },
    {
     "data": {
      "text/plain": "0.25"
     },
     "execution_count": 275,
     "metadata": {},
     "output_type": "execute_result"
    }
   ],
   "source": [
    "loc_x = np.arange(1.45 , 1.49 , .01).tolist()\n",
    "print(loc_x)\n",
    "ratio = 0\n",
    "for i in loc_x:\n",
    "    a = scipy.stats.uniform.pdf(loc=1.55 , scale = 20 , x =1.65)\n",
    "    print(a)\n",
    "    ratio+= a\n",
    "ratio\n"
   ],
   "metadata": {
    "collapsed": false,
    "pycharm": {
     "name": "#%%\n"
    }
   }
  },
  {
   "cell_type": "code",
   "execution_count": 276,
   "outputs": [
    {
     "data": {
      "text/plain": "array([0., 0., 0., 0., 0., 0., 0., 0., 0., 0., 0., 0., 0., 0., 0., 0., 0.,\n       0., 0., 0., 5., 5., 5., 5., 5., 5., 5., 5., 5., 5., 5., 5., 5., 5.,\n       5., 5., 5., 5., 5., 5., 0., 0., 0., 0., 0., 0., 0., 0., 0., 0., 0.,\n       0., 0., 0., 0., 0., 0., 0., 0., 0.])"
     },
     "execution_count": 276,
     "metadata": {},
     "output_type": "execute_result"
    }
   ],
   "source": [
    "y"
   ],
   "metadata": {
    "collapsed": false,
    "pycharm": {
     "name": "#%%\n"
    }
   }
  },
  {
   "cell_type": "code",
   "execution_count": 277,
   "outputs": [
    {
     "data": {
      "text/plain": "array([1.25, 1.26, 1.27, 1.28, 1.29, 1.3 , 1.31, 1.32, 1.33, 1.34, 1.35,\n       1.36, 1.37, 1.38, 1.39, 1.4 , 1.41, 1.42, 1.43, 1.44, 1.45, 1.46,\n       1.47, 1.48, 1.49, 1.5 , 1.51, 1.52, 1.53, 1.54, 1.55, 1.56, 1.57,\n       1.58, 1.59, 1.6 , 1.61, 1.62, 1.63, 1.64, 1.65, 1.66, 1.67, 1.68,\n       1.69, 1.7 , 1.71, 1.72, 1.73, 1.74, 1.75, 1.76, 1.77, 1.78, 1.79,\n       1.8 , 1.81, 1.82, 1.83, 1.84])"
     },
     "execution_count": 277,
     "metadata": {},
     "output_type": "execute_result"
    }
   ],
   "source": [
    "x_2"
   ],
   "metadata": {
    "collapsed": false,
    "pycharm": {
     "name": "#%%\n"
    }
   }
  },
  {
   "cell_type": "code",
   "execution_count": 278,
   "outputs": [
    {
     "name": "stdout",
     "output_type": "stream",
     "text": [
      "5.000000000000001\n",
      "0.2500000000000003\n"
     ]
    },
    {
     "data": {
      "text/plain": "Text(1.51, 3, 'P(1.45=<X<=1.5)= 0.25')"
     },
     "execution_count": 278,
     "metadata": {},
     "output_type": "execute_result"
    },
    {
     "data": {
      "text/plain": "<Figure size 864x576 with 1 Axes>",
      "image/png": "[encoded data removed]"
     },
     "metadata": {
      "needs_background": "light"
     },
     "output_type": "display_data"
    }
   ],
   "source": [
    "fig = plt.figure(figsize=(12, 8))\n",
    "\n",
    "ax = sns.lineplot(x = x_2 , y= y)\n",
    "\n",
    "ax.set_title('균등분포(Uniform Distribution)')\n",
    "ax.set_xlabel('X' , fontsize= 15)\n",
    "ax.set_ylabel('Y' , fontsize= 15 , rotation = 0 , labelpad = 12)\n",
    "a = scipy.stats.uniform.pdf( x = 1.5 , loc = 1.45 , scale = 1.65-1.45) #scipy.stats.uniform.pdf( x = 1.5 , loc = min , scale = max-min)\n",
    "print(a)\n",
    "ax.vlines(1.5 , ymin = 0 , ymax = a , color = 'black' , linestyle ='solid' , label ='{}'.format(2))\n",
    "ax.fill_between(x_2 , a , 0 , where = (x_2<= 1.5001) & (x_2>= 1.445)) #오차있으므로 신경 끄자.\n",
    "\n",
    "area = (1.5 - 1.45)*a #넓이 구하기!!!!!\n",
    "print(area)\n",
    "ax.text(1.51 , 3, 'P(1.45=<X<=1.5)' + f\"= {round(area,4)}\",fontsize=15)"
   ],
   "metadata": {
    "collapsed": false,
    "pycharm": {
     "name": "#%%\n"
    }
   }
  },
  {
   "cell_type": "code",
   "execution_count": 279,
   "outputs": [
    {
     "name": "stdout",
     "output_type": "stream",
     "text": [
      "[0. 0. 0. 0. 0. 0. 0. 0. 0. 0. 0. 0. 0. 0. 0. 0. 0. 0. 0. 0. 0. 0. 0. 0.\n",
      " 0. 0. 0. 0. 0. 0. 0. 0. 0. 0. 0. 0. 0. 0. 0. 0. 0. 0. 0. 0. 0. 0. 0. 0.\n",
      " 0. 0. 0. 0. 0. 0. 0. 0. 0. 0. 0. 0. 0. 0. 0. 0. 0. 0. 0. 0. 0. 0. 0. 0.\n",
      " 0. 0. 0. 0. 0. 0. 0. 0. 0. 0. 0. 0. 0. 0. 0. 0. 0. 0. 0. 0. 0. 0. 0. 0.\n",
      " 0. 0. 0. 0. 0. 0. 0. 0. 0. 0. 0. 0. 0. 0. 0. 0. 0. 0. 0. 0. 0. 0. 0. 0.\n",
      " 0. 0. 0. 0. 0. 0. 0. 0. 0. 0. 0. 0. 0. 0. 0. 0. 0. 0. 0. 0. 0. 0. 0. 0.\n",
      " 0. 0. 0. 0. 0. 0. 0. 0. 0. 0. 0. 0. 0. 0. 0. 0. 0. 0. 0. 0. 0. 0. 0. 0.\n",
      " 0. 0. 0. 0. 0. 0. 0. 0. 0. 0. 0. 0. 0. 0. 0. 0. 0. 0. 0. 0. 0. 0. 0. 0.\n",
      " 0. 0. 0. 0. 0. 0. 0. 0. 0. 5. 5. 5. 5. 5. 5. 5. 5. 5. 5. 5. 5. 5. 5. 5.\n",
      " 5. 5. 5. 5. 5. 5. 5. 5. 5. 5. 5. 5. 5. 5. 5. 5. 5. 5. 5. 5. 5. 5. 5. 5.\n",
      " 5. 5. 5. 5. 5. 5. 5. 5. 5. 5. 5. 5. 5. 5. 5. 5. 5. 5. 5. 5. 5. 5. 5. 5.\n",
      " 5. 5. 5. 5. 5. 5. 5. 5. 5. 5. 5. 5. 5. 5. 5. 5. 5. 5. 5. 5. 5. 5. 5. 5.\n",
      " 5. 5. 5. 5. 5. 5. 5. 5. 5. 5. 5. 5. 5. 5. 5. 5. 5. 5. 5. 5. 5. 5. 5. 5.\n",
      " 5. 5. 5. 5. 5. 5. 5. 5. 5. 5. 5. 5. 5. 5. 5. 5. 5. 5. 5. 5. 5. 5. 5. 5.\n",
      " 5. 5. 5. 5. 5. 5. 5. 5. 5. 5. 5. 5. 5. 5. 5. 5. 5. 5. 5. 5. 5. 5. 5. 5.\n",
      " 5. 5. 5. 5. 5. 5. 5. 5. 5. 5. 5. 5. 5. 5. 5. 5. 5. 5. 5. 5. 5. 5. 5. 5.\n",
      " 5. 5. 5. 5. 5. 5. 5. 5. 5. 5. 5. 5. 5. 5. 5. 5. 5. 0. 0. 0. 0. 0. 0. 0.\n",
      " 0. 0. 0. 0. 0. 0. 0. 0. 0. 0. 0. 0. 0. 0. 0. 0. 0. 0. 0. 0. 0. 0. 0. 0.\n",
      " 0. 0. 0. 0. 0. 0. 0. 0. 0. 0. 0. 0. 0. 0. 0. 0. 0. 0. 0. 0. 0. 0. 0. 0.\n",
      " 0. 0. 0. 0. 0. 0. 0. 0. 0. 0. 0. 0. 0. 0. 0. 0. 0. 0. 0. 0. 0. 0. 0. 0.\n",
      " 0. 0. 0. 0. 0. 0. 0. 0. 0. 0. 0. 0. 0. 0. 0. 0. 0. 0. 0. 0. 0. 0. 0. 0.\n",
      " 0. 0. 0. 0. 0. 0. 0. 0. 0. 0. 0. 0. 0. 0. 0. 0. 0. 0. 0. 0. 0. 0. 0. 0.\n",
      " 0. 0. 0. 0. 0. 0. 0. 0. 0. 0. 0. 0. 0. 0. 0. 0. 0. 0. 0. 0. 0. 0. 0. 0.\n",
      " 0. 0. 0. 0. 0. 0. 0. 0. 0. 0. 0. 0. 0. 0. 0. 0. 0. 0. 0. 0. 0. 0. 0. 0.\n",
      " 0. 0. 0. 0. 0. 0. 0. 0. 0. 0. 0. 0. 0. 0. 0. 0. 0. 0. 0. 0. 0. 0. 0. 0.]\n",
      "5.000000000000001\n",
      "0.2500000000000003\n"
     ]
    },
    {
     "data": {
      "text/plain": "Text(1.51, 3, 'P(1.45=<X<=1.5)= 0.25')"
     },
     "execution_count": 279,
     "metadata": {},
     "output_type": "execute_result"
    },
    {
     "data": {
      "text/plain": "<Figure size 864x576 with 1 Axes>",
      "image/png": "[encoded data removed]"
     },
     "metadata": {
      "needs_background": "light"
     },
     "output_type": "display_data"
    }
   ],
   "source": [
    "x_2 = np.arange(min-.2 , max+.2 , .001)\n",
    "y = scipy.stats.uniform.pdf(x = x_2 , loc = 1.45 , scale = 1.65-1.45)\n",
    "print(y)\n",
    "\n",
    "\n",
    "\n",
    "fig = plt.figure(figsize=(12, 8))\n",
    "\n",
    "ax = sns.lineplot(x = x_2 , y= y)\n",
    "\n",
    "ax.set_title('균등분포(Uniform Distribution)')\n",
    "ax.set_xlabel('X' , fontsize= 15)\n",
    "ax.set_ylabel('Y' , fontsize= 15 , rotation = 0 , labelpad = 12)\n",
    "a = scipy.stats.uniform.pdf( x = 1.5 , loc = 1.45 , scale = 1.65-1.45) #scipy.stats.uniform.pdf( x = 1.5 , loc = min , scale = max-min)\n",
    "print(a)\n",
    "ax.vlines(1.5 , ymin = 0 , ymax = a , color = 'black' , linestyle ='solid' , label ='{}'.format(2))\n",
    "ax.fill_between(x_2 , a , 0 , where = (x_2<= 1.5) & (x_2>= 1.45)) #오차있으므로 신경 끄자.\n",
    "\n",
    "area = (1.5 - 1.45)*a #넓이 구하기!!!!!\n",
    "print(area)\n",
    "ax.text(1.51 , 3, 'P(1.45=<X<=1.5)' + f\"= {round(area,4)}\",fontsize=15)"
   ],
   "metadata": {
    "collapsed": false,
    "pycharm": {
     "name": "#%%\n"
    }
   }
  },
  {
   "cell_type": "code",
   "execution_count": 280,
   "outputs": [
    {
     "name": "stdout",
     "output_type": "stream",
     "text": [
      "상자 10개의 평균 :  (array([10, 11, 12], dtype=int64),)\n",
      "상자 10개의 분산 :  0.6666666666666666\n",
      "[0. 0. 0. 0. 0. 0. 0. 0. 0. 0. 5. 5. 5. 5. 5. 5. 5. 5. 5. 5. 0. 0. 0. 0.\n",
      " 0. 0. 0. 0. 0. 0.]\n",
      "10\n",
      "5.000000000000001\n",
      "0.2500000000000003\n"
     ]
    },
    {
     "data": {
      "text/plain": "Text(1.51, 3, 'P(1.45=<X<=1.5)= 0.25')"
     },
     "execution_count": 280,
     "metadata": {},
     "output_type": "execute_result"
    },
    {
     "data": {
      "text/plain": "<Figure size 864x576 with 1 Axes>",
      "image/png": "[encoded data removed]"
     },
     "metadata": {
      "needs_background": "light"
     },
     "output_type": "display_data"
    }
   ],
   "source": [
    "x_2 = np.arange(min-.2 , max+.2 , .02)\n",
    "print(\"상자 10개의 평균 : \" , (np.where((1.45<=x_2) & (x_2 <=1.5))))\n",
    "print(\"상자 10개의 분산 : \" , np.var(np.where( (1.45<=x_2) & (x_2 <=1.5))))\n",
    "y = scipy.stats.uniform.pdf(x = x_2 , loc = 1.45 , scale = 1.65-1.45)\n",
    "print(y)\n",
    "print(len(y[np.where(y != 0.)]))\n",
    "\n",
    "\n",
    "\n",
    "\n",
    "\n",
    "fig = plt.figure(figsize=(12, 8))\n",
    "\n",
    "ax = sns.lineplot(x = x_2 , y= y)\n",
    "\n",
    "ax.set_title('균등분포(Uniform Distribution)')\n",
    "ax.set_xlabel('X' , fontsize= 15)\n",
    "ax.set_ylabel('Y' , fontsize= 15 , rotation = 0 , labelpad = 12)\n",
    "a = scipy.stats.uniform.pdf( x = 1.5 , loc = 1.45 , scale = 1.65-1.45) #scipy.stats.uniform.pdf( x = 1.5 , loc = min , scale = max-min)\n",
    "print(a)\n",
    "ax.vlines(1.5 , ymin = 0 , ymax = a , color = 'black' , linestyle ='solid' , label ='{}'.format(2))\n",
    "ax.fill_between(x_2 , a , 0 , where = (x_2<= 1.5) & (x_2>= 1.45)) #오차있으므로 신경 끄자.\n",
    "\n",
    "area = (1.5 - 1.45)*a #넓이 구하기!!!!!\n",
    "print(area)\n",
    "ax.text(1.51 , 3, 'P(1.45=<X<=1.5)' + f\"= {round(area,4)}\",fontsize=15)"
   ],
   "metadata": {
    "collapsed": false,
    "pycharm": {
     "name": "#%%\n"
    }
   }
  },
  {
   "cell_type": "code",
   "execution_count": 281,
   "outputs": [
    {
     "name": "stdout",
     "output_type": "stream",
     "text": [
      "2.5\n",
      "1.875\n"
     ]
    }
   ],
   "source": [
    "print(10*0.25)\n",
    "print(2.5 * 0.75)"
   ],
   "metadata": {
    "collapsed": false,
    "pycharm": {
     "name": "#%%\n"
    }
   }
  },
  {
   "cell_type": "code",
   "execution_count": 282,
   "outputs": [
    {
     "name": "stdout",
     "output_type": "stream",
     "text": [
      "1\n",
      "0.056313514709472656\n",
      "10\n",
      "0.1877117156982422\n",
      "45\n",
      "0.2815675735473633\n",
      "120\n",
      "0.25028228759765625\n",
      "0.22412490844726562\n"
     ]
    }
   ],
   "source": [
    "res = 0\n",
    "for i in range(4):\n",
    "    a = len(list(itertools.combinations(np.arange(10) , i)))\n",
    "    print(a)\n",
    "    b = math.pow(0.25 , i) * (math.pow(0.75 , 10-i))\n",
    "\n",
    "    c = a*b\n",
    "    print(c)\n",
    "    res+=c\n",
    "print(1- res)"
   ],
   "metadata": {
    "collapsed": false,
    "pycharm": {
     "name": "#%%\n"
    }
   }
  },
  {
   "cell_type": "code",
   "execution_count": 283,
   "outputs": [
    {
     "name": "stdout",
     "output_type": "stream",
     "text": [
      "[-10  -9  -8  -7  -6  -5  -4  -3  -2  -1   0   1   2   3   4   5   6   7\n",
      "   8   9  10  11  12  13  14  15  16  17  18  19  20  21  22  23  24  25\n",
      "  26  27  28  29  30  31  32  33  34  35  36  37  38  39  40  41  42  43\n",
      "  44  45  46  47  48  49]\n",
      "0.025\n",
      "20.0\n",
      "140.0\n",
      "[0.    0.    0.    0.    0.    0.    0.    0.    0.    0.    0.025 0.025\n",
      " 0.025 0.025 0.025 0.025 0.025 0.025 0.025 0.025 0.025 0.025 0.025 0.025\n",
      " 0.025 0.025 0.025 0.025 0.025 0.025 0.025 0.025 0.025 0.025 0.025 0.025\n",
      " 0.025 0.025 0.025 0.025 0.025 0.025 0.025 0.025 0.025 0.025 0.025 0.025\n",
      " 0.025 0.025 0.025 0.    0.    0.    0.    0.    0.    0.    0.    0.   ]\n"
     ]
    }
   ],
   "source": [
    "min , max = 0 , 40\n",
    "\n",
    "x = np.arange(min - 10 , max + 10 , 1)\n",
    "print(x)\n",
    "#1시부터 5시 ==> 40분단위 ==> 학생은 0부터 40분까지 균등분포 ==> 0분일확률 5/300 , 1분일 확률 5/300 .... , 40분일 확률 5/300\n",
    "\n",
    "\n",
    "#균등분포의 평균\n",
    "print(1/40)\n",
    "\n",
    "means = np.mean(x[np.where((x>= 0) & (x<=40))])\n",
    "#np.where 사용시 ndarray로 한번더 묶어줘야한다.\n",
    "print(means)\n",
    "vars = np.var(x[np.where((x>= 0) & (x<=40))])\n",
    "print(vars)\n",
    "y = scipy.stats.uniform.pdf( x = x , loc = min , scale = max-min)\n",
    "\n",
    "\n",
    "print(y)"
   ],
   "metadata": {
    "collapsed": false,
    "pycharm": {
     "name": "#%%\n"
    }
   }
  },
  {
   "cell_type": "code",
   "execution_count": 284,
   "outputs": [
    {
     "name": "stdout",
     "output_type": "stream",
     "text": [
      "20.0\n",
      "11.832159566199232\n",
      "[ 0  1  2  3  4  5  6  7  8  9 10 11 12 13 14 15 16 17 18 19 20 21 22 23\n",
      " 24 25 26 27 28 29 30 31 32 33 34 35 36 37 38 39 40]\n",
      "[ 0.   0.1  0.2  0.3  0.4  0.5  0.6  0.7  0.8  0.9  1.   1.1  1.2  1.3\n",
      "  1.4  1.5  1.6  1.7  1.8  1.9  2.   2.1  2.2  2.3  2.4  2.5  2.6  2.7\n",
      "  2.8  2.9  3.   3.1  3.2  3.3  3.4  3.5  3.6  3.7  3.8  3.9  4.   4.1\n",
      "  4.2  4.3  4.4  4.5  4.6  4.7  4.8  4.9  5.   5.1  5.2  5.3  5.4  5.5\n",
      "  5.6  5.7  5.8  5.9  6.   6.1  6.2  6.3  6.4  6.5  6.6  6.7  6.8  6.9\n",
      "  7.   7.1  7.2  7.3  7.4  7.5  7.6  7.7  7.8  7.9  8.   8.1  8.2  8.3\n",
      "  8.4  8.5  8.6  8.7  8.8  8.9  9.   9.1  9.2  9.3  9.4  9.5  9.6  9.7\n",
      "  9.8  9.9 10.  10.1 10.2 10.3 10.4 10.5 10.6 10.7 10.8 10.9 11.  11.1\n",
      " 11.2 11.3 11.4 11.5 11.6 11.7 11.8 11.9 12.  12.1 12.2 12.3 12.4 12.5\n",
      " 12.6 12.7 12.8 12.9 13.  13.1 13.2 13.3 13.4 13.5 13.6 13.7 13.8 13.9\n",
      " 14.  14.1 14.2 14.3 14.4 14.5 14.6 14.7 14.8 14.9 15.  15.1 15.2 15.3\n",
      " 15.4 15.5 15.6 15.7 15.8 15.9 16.  16.1 16.2 16.3 16.4 16.5 16.6 16.7\n",
      " 16.8 16.9 17.  17.1 17.2 17.3 17.4 17.5 17.6 17.7 17.8 17.9 18.  18.1\n",
      " 18.2 18.3 18.4 18.5 18.6 18.7 18.8 18.9 19.  19.1 19.2 19.3 19.4 19.5\n",
      " 19.6 19.7 19.8 19.9 20.  20.1 20.2 20.3 20.4 20.5 20.6 20.7 20.8 20.9\n",
      " 21.  21.1 21.2 21.3 21.4 21.5 21.6 21.7 21.8 21.9 22.  22.1 22.2 22.3\n",
      " 22.4 22.5 22.6 22.7 22.8 22.9 23.  23.1 23.2 23.3 23.4 23.5 23.6 23.7\n",
      " 23.8 23.9 24.  24.1 24.2 24.3 24.4 24.5 24.6 24.7 24.8 24.9 25.  25.1\n",
      " 25.2 25.3 25.4 25.5 25.6 25.7 25.8 25.9 26.  26.1 26.2 26.3 26.4 26.5\n",
      " 26.6 26.7 26.8 26.9 27.  27.1 27.2 27.3 27.4 27.5 27.6 27.7 27.8 27.9\n",
      " 28.  28.1 28.2 28.3 28.4 28.5 28.6 28.7 28.8 28.9 29.  29.1 29.2 29.3\n",
      " 29.4 29.5 29.6 29.7 29.8 29.9 30.  30.1 30.2 30.3 30.4 30.5 30.6 30.7\n",
      " 30.8 30.9 31.  31.1 31.2 31.3 31.4 31.5 31.6 31.7 31.8 31.9 32.  32.1\n",
      " 32.2 32.3 32.4 32.5 32.6 32.7 32.8 32.9 33.  33.1 33.2 33.3 33.4 33.5\n",
      " 33.6 33.7 33.8 33.9 34.  34.1 34.2 34.3 34.4 34.5 34.6 34.7 34.8 34.9\n",
      " 35.  35.1 35.2 35.3 35.4 35.5 35.6 35.7 35.8 35.9 36.  36.1 36.2 36.3\n",
      " 36.4 36.5 36.6 36.7 36.8 36.9 37.  37.1 37.2 37.3 37.4 37.5 37.6 37.7\n",
      " 37.8 37.9 38.  38.1 38.2 38.3 38.4 38.5 38.6 38.7 38.8 38.9 39.  39.1\n",
      " 39.2 39.3 39.4 39.5 39.6 39.7 39.8 39.9]\n",
      "what?! 11.54696929934431\n",
      "what?! 133.3325\n",
      "11.832159566199232\n",
      "133.33333333333334\n",
      "11.547005383792516\n"
     ]
    }
   ],
   "source": [
    "\n",
    "print(np.mean(x[np.where((x>= 0) & (x<=40))]))\n",
    "print(np.std(x[np.where((x>= 0) & (x<=40))]))\n",
    "print(x[np.where((x>= 0) & (x<=40))])\n",
    "r = np.arange(0,40,.1)\n",
    "print(r)\n",
    "print(\"what?! {}\".format(np.std(np.arange(0,40,.1))))\n",
    "print(\"what?! {}\".format(np.var(np.arange(0,40,.1))))\n",
    "print(math.sqrt(140))\n",
    "\n",
    "print(math.pow(40,2) / 12)\n",
    "print(math.sqrt(math.pow(40,2) / 12))"
   ],
   "metadata": {
    "collapsed": false,
    "pycharm": {
     "name": "#%%\n"
    }
   }
  },
  {
   "cell_type": "code",
   "execution_count": 285,
   "outputs": [
    {
     "data": {
      "text/plain": "Text(-8, 0.025, 'y = 0.025')"
     },
     "execution_count": 285,
     "metadata": {},
     "output_type": "execute_result"
    },
    {
     "data": {
      "text/plain": "<Figure size 1080x576 with 1 Axes>",
      "image/png": "[encoded data removed]"
     },
     "metadata": {
      "needs_background": "light"
     },
     "output_type": "display_data"
    }
   ],
   "source": [
    "fig = plt.figure(figsize= (15,8))\n",
    "\n",
    "ax = sns.lineplot(x= x , y= y)\n",
    "\n",
    "ax.hlines(y= scipy.stats.uniform.pdf(x=30 , loc= min , scale = max-min) , xmin = 0-2 , xmax  =45)\n",
    "ax.text(-8 , scipy.stats.uniform.pdf(x=30 , loc= min , scale = max-min) , \"y = {}\".format(round(scipy.stats.uniform.pdf(x=30 , loc= min , scale = max-min),7)), fontsize =  14)"
   ],
   "metadata": {
    "collapsed": false,
    "pycharm": {
     "name": "#%%\n"
    }
   }
  },
  {
   "cell_type": "code",
   "execution_count": 286,
   "outputs": [
    {
     "data": {
      "text/plain": "Text(5, 0.02, 'P(X>=15) = 0.625')"
     },
     "execution_count": 286,
     "metadata": {},
     "output_type": "execute_result"
    },
    {
     "data": {
      "text/plain": "<Figure size 1080x576 with 1 Axes>",
      "image/png": "[encoded data removed]"
     },
     "metadata": {
      "needs_background": "light"
     },
     "output_type": "display_data"
    }
   ],
   "source": [
    "fig = plt.figure(figsize= (15,8))\n",
    "\n",
    "ax = sns.lineplot(x= x , y= y)\n",
    "\n",
    "ax.hlines(y= scipy.stats.uniform.pdf(x=30 , loc= min , scale = max-min) , xmin = 0-2 , xmax  =45)\n",
    "\n",
    "ax.vlines(x= 15 , ymin = 0 ,ymax= scipy.stats.uniform.pdf(x=30 , loc= min , scale = max-min) , color ='black')\n",
    "\n",
    "ax.fill_between(x , y , 0 , where = (x<= 40) & (x>= 15)) #오차있으므로 신경 끄자.\n",
    "ax.text(-8 , scipy.stats.uniform.pdf(x=30 , loc= min , scale = max-min) , \"y = {}\".format(round(scipy.stats.uniform.pdf(x=30 , loc= min , scale = max-min),7)), fontsize =  14)\n",
    "\n",
    "#area = P(X>=15) = 1 - P(X<=15) ===> 균등분포는 연속확률분포다!!! 이산확률분포로 생각하면 안된다!!\n",
    "area = 1 - (scipy.stats.uniform.pdf(x=30 , loc= min , scale = max-min) *15)\n",
    "\n",
    "\n",
    "ax.text(5 ,0.020 , \"P(X>=15) = {}\".format(round(area,3)), fontsize =  14)"
   ],
   "metadata": {
    "collapsed": false,
    "pycharm": {
     "name": "#%%\n"
    }
   }
  },
  {
   "cell_type": "code",
   "execution_count": 287,
   "outputs": [
    {
     "data": {
      "text/plain": "Text(15, 0.02, 'P(5<=X<=10) = 0.125')"
     },
     "execution_count": 287,
     "metadata": {},
     "output_type": "execute_result"
    },
    {
     "data": {
      "text/plain": "<Figure size 1080x576 with 1 Axes>",
      "image/png": "[encoded data removed]"
     },
     "metadata": {
      "needs_background": "light"
     },
     "output_type": "display_data"
    }
   ],
   "source": [
    "fig = plt.figure(figsize= (15,8))\n",
    "\n",
    "ax = sns.lineplot(x= x , y= y)\n",
    "\n",
    "ax.hlines(y= scipy.stats.uniform.pdf(x=30 , loc= min , scale = max-min) , xmin = 0-2 , xmax  =45)\n",
    "\n",
    "ax.vlines(x= 10 , ymin = 0 ,ymax= scipy.stats.uniform.pdf(x=30 , loc= min , scale = max-min) , color ='black')\n",
    "ax.vlines(x= 5 , ymin = 0 ,ymax= scipy.stats.uniform.pdf(x=30 , loc= min , scale = max-min) , color ='black')\n",
    "\n",
    "ax.fill_between(x , y , 0 , where = (x<= 10) & (x>= 5)) #오차있으므로 신경 끄자.\n",
    "ax.text(-8 , scipy.stats.uniform.pdf(x=30 , loc= min , scale = max-min) , \"y = {}\".format(round(scipy.stats.uniform.pdf(x=30 , loc= min , scale = max-min),7)), fontsize =  14)\n",
    "\n",
    "#area = P(5<=X<=10) = P(X<=10) - (X<=4)\n",
    "area = (scipy.stats.uniform.pdf(x=30 , loc= min , scale = max-min) *10) - (scipy.stats.uniform.pdf(x=30 , loc= min , scale = max-min) *5)\n",
    "\n",
    "\n",
    "ax.text(15 ,0.020 , \"P(5<=X<=10) = {}\".format(round(area,3)), fontsize =  14)"
   ],
   "metadata": {
    "collapsed": false,
    "pycharm": {
     "name": "#%%\n"
    }
   }
  },
  {
   "cell_type": "code",
   "execution_count": 289,
   "outputs": [
    {
     "name": "stdout",
     "output_type": "stream",
     "text": [
      "[0.    0.    0.    0.    0.    0.    0.    0.    0.    0.    0.    0.\n",
      " 0.    0.    0.    0.    0.    0.    0.    0.    0.    0.    0.    0.\n",
      " 0.    0.004 0.004 0.004 0.004 0.004 0.004 0.004 0.004 0.004 0.004 0.004\n",
      " 0.004 0.004 0.004 0.004 0.004 0.004 0.004 0.004 0.004 0.004 0.004 0.004\n",
      " 0.004 0.004 0.004 0.004 0.004 0.004 0.004 0.004 0.004 0.004 0.004 0.004\n",
      " 0.004 0.004 0.004 0.004 0.004 0.004 0.004 0.004 0.004 0.004 0.004 0.004\n",
      " 0.004 0.004 0.004 0.004 0.004 0.004 0.004 0.004 0.004 0.004 0.004 0.004\n",
      " 0.004 0.004 0.004 0.004 0.004 0.004 0.004 0.004 0.004 0.004 0.004 0.004\n",
      " 0.004 0.004 0.004 0.004 0.004 0.004 0.004 0.004 0.004 0.004 0.004 0.004\n",
      " 0.004 0.004 0.004 0.004 0.004 0.004 0.004 0.004 0.004 0.004 0.004 0.004\n",
      " 0.004 0.004 0.004 0.004 0.004 0.004 0.004 0.004 0.004 0.004 0.004 0.004\n",
      " 0.004 0.004 0.004 0.004 0.004 0.004 0.004 0.004 0.004 0.004 0.004 0.004\n",
      " 0.004 0.004 0.004 0.004 0.004 0.004 0.004 0.004 0.004 0.004 0.004 0.004\n",
      " 0.004 0.004 0.004 0.004 0.004 0.004 0.004 0.004 0.004 0.004 0.004 0.004\n",
      " 0.004 0.004 0.004 0.004 0.004 0.004 0.004 0.004 0.004 0.004 0.004 0.004\n",
      " 0.004 0.004 0.004 0.004 0.004 0.004 0.004 0.004 0.004 0.004 0.004 0.004\n",
      " 0.004 0.004 0.004 0.004 0.004 0.004 0.004 0.004 0.004 0.004 0.004 0.004\n",
      " 0.004 0.004 0.004 0.004 0.004 0.004 0.004 0.004 0.004 0.004 0.004 0.004\n",
      " 0.004 0.004 0.004 0.004 0.004 0.004 0.004 0.004 0.004 0.004 0.004 0.004\n",
      " 0.004 0.004 0.004 0.004 0.004 0.004 0.004 0.004 0.004 0.004 0.004 0.004\n",
      " 0.004 0.004 0.004 0.004 0.004 0.004 0.004 0.004 0.004 0.004 0.004 0.004\n",
      " 0.004 0.004 0.004 0.004 0.004 0.004 0.004 0.004 0.004 0.004 0.004 0.004\n",
      " 0.004 0.004 0.004 0.004 0.004 0.004 0.004 0.004 0.004 0.004 0.004 0.004\n",
      " 0.004 0.004 0.004 0.004 0.004 0.004 0.004 0.004 0.004 0.004 0.004 0.004\n",
      " 0.004 0.004 0.004 0.004 0.004 0.004 0.004 0.004 0.004 0.004 0.004 0.004\n",
      " 0.004 0.    0.    0.    0.    0.    0.    0.    0.    0.    0.    0.\n",
      " 0.    0.    0.    0.    0.    0.    0.    0.    0.    0.    0.    0.\n",
      " 0.   ]\n"
     ]
    }
   ],
   "source": [
    "min , max = 25 , 300\n",
    "\n",
    "x = np.arange(min - 25 , max + 25 , 1)\n",
    "\n",
    "y = scipy.stats.uniform.pdf(x=x , loc= min , scale = max-min)\n",
    "\n",
    "print(y)\n"
   ],
   "metadata": {
    "collapsed": false,
    "pycharm": {
     "name": "#%%\n"
    }
   }
  },
  {
   "cell_type": "code",
   "execution_count": 297,
   "outputs": [
    {
     "name": "stdout",
     "output_type": "stream",
     "text": [
      "평균 지출금액 : 162.5\n",
      "표준편차 지출금액 : 79.386\n"
     ]
    }
   ],
   "source": [
    "print(\"평균 지출금액 : {}\".format(np.mean( x[np.where( (x>=25) & (x<=300))])))\n",
    "print(\"표준편차 지출금액 : {}\".format(round(np.std(np.arange(min,max,.1)),3)))"
   ],
   "metadata": {
    "collapsed": false,
    "pycharm": {
     "name": "#%%\n"
    }
   }
  },
  {
   "cell_type": "code",
   "execution_count": 321,
   "outputs": [
    {
     "data": {
      "text/plain": "Text(95, 0.0034, 'P(X>=150) = 0.545')"
     },
     "execution_count": 321,
     "metadata": {},
     "output_type": "execute_result"
    },
    {
     "data": {
      "text/plain": "<Figure size 1080x576 with 1 Axes>",
      "image/png": "[encoded data removed]"
     },
     "metadata": {
      "needs_background": "light"
     },
     "output_type": "display_data"
    }
   ],
   "source": [
    "fig = plt.figure(figsize= (15,8))\n",
    "\n",
    "ax = sns.lineplot(x= x , y= y)\n",
    "\n",
    "ax.hlines(y= scipy.stats.uniform.pdf(x=30 , loc= min , scale = max-min) , xmin = min-10 , xmax  =310)\n",
    "#\n",
    "ax.vlines(x= 150 , ymin = 0 ,ymax= scipy.stats.uniform.pdf(x=30 , loc= min , scale = max-min) , color ='black')\n",
    "# ax.vlines(x= 5 , ymin = 0 ,ymax= scipy.stats.uniform.pdf(x=30 , loc= min , scale = max-min) , color ='black')\n",
    "#\n",
    "ax.fill_between(x , y , 0 , where = (x>= 150)) #오차있으므로 신경 끄자.\n",
    "ax.text(0-15 , 0.0034 , \"y = {}\".format(round(scipy.stats.uniform.pdf(x=30 , loc= min , scale = max-min),7)), fontsize =  14)\n",
    "#\n",
    "#area = 1- P(25<=X<150)\n",
    "area = 1- (scipy.stats.uniform.pdf(x=30 , loc= min , scale = max-min) *(150-25))\n",
    "#\n",
    "#\n",
    "ax.text(95 ,0.0034 , \"P(X>=150) = {}\".format(round(area,3)), fontsize =  14)"
   ],
   "metadata": {
    "collapsed": false,
    "pycharm": {
     "name": "#%%\n"
    }
   }
  },
  {
   "cell_type": "code",
   "execution_count": 323,
   "outputs": [
    {
     "data": {
      "text/plain": "Text(155, 0.0034, 'P(50<=X<=150) = 0.3636')"
     },
     "execution_count": 323,
     "metadata": {},
     "output_type": "execute_result"
    },
    {
     "data": {
      "text/plain": "<Figure size 1080x576 with 1 Axes>",
      "image/png": "[encoded data removed]"
     },
     "metadata": {
      "needs_background": "light"
     },
     "output_type": "display_data"
    }
   ],
   "source": [
    "fig = plt.figure(figsize= (15,8))\n",
    "\n",
    "ax = sns.lineplot(x= x , y= y)\n",
    "\n",
    "ax.hlines(y= scipy.stats.uniform.pdf(x=30 , loc= min , scale = max-min) , xmin = min-10 , xmax  =310)\n",
    "#\n",
    "ax.vlines(x= 150 , ymin = 0 ,ymax= scipy.stats.uniform.pdf(x=30 , loc= min , scale = max-min) , color ='black')\n",
    "ax.vlines(x= 50 , ymin = 0 ,ymax= scipy.stats.uniform.pdf(x=30 , loc= min , scale = max-min) , color ='black')\n",
    "#\n",
    "ax.fill_between(x , y , 0 , where = (x<= 150) & (x>=50)) #오차있으므로 신경 끄자.\n",
    "ax.text(0-15 , 0.0034 , \"y = {}\".format(round(scipy.stats.uniform.pdf(x=30 , loc= min , scale = max-min),7)), fontsize =  14)\n",
    "#\n",
    "#area = P(X<=150) - P(X<=50)\n",
    "area = (scipy.stats.uniform.pdf(x=30 , loc= min , scale = max-min) *(150-25)) - (scipy.stats.uniform.pdf(x=30 , loc= min , scale = max-min) *(50-25))\n",
    "#\n",
    "#\n",
    "ax.text(155 ,0.0034 , \"P(50<=X<=150) = {}\".format(round(area,4)), fontsize =  14)"
   ],
   "metadata": {
    "collapsed": false,
    "pycharm": {
     "name": "#%%\n"
    }
   }
  },
  {
   "cell_type": "code",
   "execution_count": null,
   "outputs": [],
   "source": [],
   "metadata": {
    "collapsed": false,
    "pycharm": {
     "name": "#%%\n"
    }
   }
  }
 ],
 "metadata": {
  "kernelspec": {
   "display_name": "Python 3",
   "language": "python",
   "name": "python3"
  },
  "language_info": {
   "codemirror_mode": {
    "name": "ipython",
    "version": 2
   },
   "file_extension": ".py",
   "mimetype": "text/x-python",
   "name": "python",
   "nbconvert_exporter": "python",
   "pygments_lexer": "ipython2",
   "version": "2.7.6"
  }
 },
 "nbformat": 4,
 "nbformat_minor": 0
}