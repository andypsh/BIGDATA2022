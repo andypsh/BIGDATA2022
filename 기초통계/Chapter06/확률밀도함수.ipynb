{
 "cells": [
  {
   "cell_type": "code",
   "execution_count": 1,
   "metadata": {
    "collapsed": true,
    "pycharm": {
     "name": "#%%\n"
    }
   },
   "outputs": [],
   "source": [
    "import itertools\n",
    "import platform\n",
    "import matplotlib\n",
    "import pandas as pd\n",
    "import matplotlib.pyplot as plt\n",
    "from matplotlib import font_manager, rc\n",
    "import seaborn as sns\n",
    "%precision 3\n",
    "from matplotlib import pyplot as plt\n",
    "%matplotlib inline\n",
    "#그래프를 주피터 놋북에 그리기 위해\n",
    "import numpy as np\n",
    "import copy\n",
    "from matplotlib import ticker\n",
    "from scipy.stats import probplot\n",
    "from scipy import stats\n",
    "import collections\n",
    "import itertools\n",
    "import math\n",
    "#from varname import nameof\n",
    "import sys\n",
    "#히스토그램 그리기\n",
    "# Window\n",
    "if platform.system() == 'Windows':\n",
    "    matplotlib.rc('font', family='Malgun Gothic')\n",
    "elif platform.system() == 'Darwin': # Mac\n",
    "    matplotlib.rc('font', family='AppleGothic')\n",
    "else: #linux\n",
    "    matplotlib.rc('font', family='NanumGothic')\n",
    "\n",
    "# 그래프에 마이너스 표시가 되도록 변경\n",
    "matplotlib.rcParams['axes.unicode_minus'] = False\n",
    "\n",
    "# 한글 폰트 설정\n",
    "font_location = 'C:/Windows/Fonts/MALGUNSL.TTF' #맑은고딕\n",
    "font_name = font_manager.FontProperties(fname=font_location).get_name()\n",
    "rc('font',family=font_name)"
   ]
  },
  {
   "cell_type": "code",
   "execution_count": 2,
   "outputs": [],
   "source": [
    "# fig , ax1 = plt.subplots(figsize= (15,8))\n",
    "#\n",
    "# ax1 = sns.distplot(A['data'],bins = 28 , kde=False)\n",
    "# ax1.set_xlim([Steps[0] , Steps[-1]])\n",
    "# ax1.xaxis.set_major_locator(ticker.MultipleLocator(0.5)) #x축 간격을 0.5로 설정\n",
    "# for p in ax1.patches:\n",
    "#     #print(p)\n",
    "#     ax1.text(x = p.get_x() + p.get_width()/2,\n",
    "#              y = p.get_height() + len(A)*0.001,\n",
    "#              s =  'X좌표 : \\n{}\\n {} {}'.format(round(p.get_x(),3),int(p.get_height()),'개'),\n",
    "#              #s = f'{(p.get_height()/ len(A)) * 100: 1.1f}개',\n",
    "#              ha = 'center')\n",
    "# ax1.set_ylabel('갯수' , fontsize = 14 , labelpad= 14 ,rotation = 0)\n",
    "# ax2 = ax1.twinx() #한 그래프에 두번째 plot 넣기\n",
    "# ax2 = sns.distplot(A['data'],bins = 28 , hist=False , kde=True, color='red')\n",
    "# ax2.set_xlim([Steps[0] , Steps[-1]]) #x축 시작 지점과 끝지점 표현\n",
    "# ax2.xaxis.set_major_locator(ticker.MultipleLocator(0.5)) #x축 간격을 0.5로 설정\n",
    "# ax2.axes.yaxis.set_visible(False) #y축 없애기\n",
    "#\n",
    "# x_s1 = float(A.mean() - A.std()*1)\n",
    "# x_s2 = float(A.mean() - A.std()*2)\n",
    "# x_s3 = float(A.mean() - A.std()*3)\n",
    "# x_plus_s1 = float(A.mean() + A.std())\n",
    "# x_plus_s2 = float(A.mean() + A.std()*2)\n",
    "# x_plus_s3 = float(A.mean() + A.std()*3)\n",
    "# # 수직선 표현하기\n",
    "#\n",
    "#\n",
    "# ax2.axvline(x= x_s1, ymin=0 , ymax=1 , color = 'red' , linestyle ='solid' , label ='{}'.format(2))\n",
    "# ax2.text(x_s1 , .19 , f'x-s : {round(x_s1,2)}',fontsize=13)\n",
    "# ax2.axvline(x= x_s2, ymin=0 , ymax=1 , color = 'blue' , linestyle ='solid' , label ='{}'.format(2))\n",
    "# ax2.text(x_s2 , .19 , f'x-2s : {round(x_s2,2)}',fontsize=13)\n",
    "# ax2.axvline(x= x_s3, ymin=0 , ymax=1 , color = 'purple' , linestyle ='solid' , label ='{}'.format(2))\n",
    "# ax2.text(x_s3 , .19 , f'x-3s : {round(x_s3,2)}',fontsize=13)\n",
    "#\n",
    "# ax2.axvline(x= x_plus_s1, ymin=0 , ymax=1 , color = 'red' , linestyle ='solid' , label ='{}'.format(2))\n",
    "# ax2.text(x_plus_s1 , .19 , f'x+1s : {round(x_plus_s1,2)}',fontsize=13)\n",
    "# ax2.axvline(x= x_plus_s2, ymin=0 , ymax=1 , color = 'blue' , linestyle ='solid' , label ='{}'.format(2))\n",
    "# ax2.text(x_plus_s2 , .19 , f'x+2s : {round(x_plus_s2,2)}',fontsize=13)\n",
    "# ax2.axvline(x= x_plus_s3, ymin=0 , ymax=1 , color = 'purple' , linestyle ='solid' , label ='{}'.format(2))\n",
    "# ax2.text(x_plus_s3 , .19 , f'x+3s : {round(x_plus_s3,2)}',fontsize=13)\n",
    "#\n",
    "#\n"
   ],
   "metadata": {
    "collapsed": false,
    "pycharm": {
     "name": "#%%\n"
    }
   }
  },
  {
   "cell_type": "code",
   "execution_count": 3,
   "outputs": [
    {
     "name": "stdout",
     "output_type": "stream",
     "text": [
      "100\n"
     ]
    },
    {
     "data": {
      "text/plain": "[63,\n 49,\n 50,\n 57,\n 39,\n 26,\n 7,\n 12,\n 11,\n 60,\n 14,\n 50,\n 56,\n 34,\n 43,\n 61,\n 89,\n 67,\n 28,\n 85,\n 34,\n 67,\n 43,\n 42,\n 69,\n 21,\n 3,\n 20,\n 54,\n 61,\n 21,\n 64,\n 49,\n 42,\n 58,\n 65,\n 32,\n 31,\n 82,\n 6,\n 80,\n 42,\n 20,\n 17,\n 85,\n 95,\n 72,\n 10,\n 53,\n 15,\n 93,\n 65,\n 12,\n 23,\n 4,\n 57,\n 63,\n 77,\n 94,\n 66,\n 92,\n 49,\n 72,\n 91,\n 86,\n 29,\n 7,\n 29,\n 57,\n 3,\n 64,\n 78,\n 96,\n 72,\n 72,\n 46,\n 8,\n 31,\n 27,\n 22,\n 76,\n 49,\n 2,\n 64,\n 63,\n 77,\n 17,\n 72,\n 55,\n 50,\n 78,\n 66,\n 65,\n 12,\n 70,\n 72,\n 17,\n 78,\n 35,\n 30]"
     },
     "execution_count": 3,
     "metadata": {},
     "output_type": "execute_result"
    }
   ],
   "source": [
    "b = 100 #자료의 갯수\n",
    "\n",
    "A = np.random.randint(1, b, size = b).tolist()\n",
    "print(len(A))\n",
    "A\n"
   ],
   "metadata": {
    "collapsed": false,
    "pycharm": {
     "name": "#%%\n"
    }
   }
  },
  {
   "cell_type": "code",
   "execution_count": 4,
   "outputs": [
    {
     "name": "stdout",
     "output_type": "stream",
     "text": [
      "hist : [0 1 2 1 0 1 2 1 0 1 1 3 0 1 1 0 3 0 0 2 2 1 1 0 0 1 1 1 2 1 2 1 0 2 1 0 0\n",
      " 0 1 0 0 3 2 0 0 1 0 0 4 3 0 0 1 1 1 1 3 1 0 1 2 0 3 3 3 2 2 0 1 1 0 6 0 0\n",
      " 0 1 2 3 0 1 0 1 0 0 2 1 0 0 1 0 1 1 1 1 2]\n",
      "Steps :  [1, 2, 3, 4, 5, 6, 7, 8, 9, 10, 11, 12, 13, 14, 15, 16, 17, 18, 19, 20, 21, 22, 23, 24, 25, 26, 27, 28, 29, 30, 31, 32, 33, 34, 35, 36, 37, 38, 39, 40, 41, 42, 43, 44, 45, 46, 47, 48, 49, 50, 51, 52, 53, 54, 55, 56, 57, 58, 59, 60, 61, 62, 63, 64, 65, 66, 67, 68, 69, 70, 71, 72, 73, 74, 75, 76, 77, 78, 79, 80, 81, 82, 83, 84, 85, 86, 87, 88, 89, 90, 91, 92, 93, 94, 95]\n"
     ]
    },
    {
     "data": {
      "text/plain": "    계급값  도수\n0     1   0\n1     2   1\n2     3   2\n3     4   1\n4     5   0\n..  ...  ..\n90   91   1\n91   92   1\n92   93   1\n93   94   1\n94   95   2\n\n[95 rows x 2 columns]",
      "text/html": "<div>\n<style scoped>\n    .dataframe tbody tr th:only-of-type {\n        vertical-align: middle;\n    }\n\n    .dataframe tbody tr th {\n        vertical-align: top;\n    }\n\n    .dataframe thead th {\n        text-align: right;\n    }\n</style>\n<table border=\"1\" class=\"dataframe\">\n  <thead>\n    <tr style=\"text-align: right;\">\n      <th></th>\n      <th>계급값</th>\n      <th>도수</th>\n    </tr>\n  </thead>\n  <tbody>\n    <tr>\n      <th>0</th>\n      <td>1</td>\n      <td>0</td>\n    </tr>\n    <tr>\n      <th>1</th>\n      <td>2</td>\n      <td>1</td>\n    </tr>\n    <tr>\n      <th>2</th>\n      <td>3</td>\n      <td>2</td>\n    </tr>\n    <tr>\n      <th>3</th>\n      <td>4</td>\n      <td>1</td>\n    </tr>\n    <tr>\n      <th>4</th>\n      <td>5</td>\n      <td>0</td>\n    </tr>\n    <tr>\n      <th>...</th>\n      <td>...</td>\n      <td>...</td>\n    </tr>\n    <tr>\n      <th>90</th>\n      <td>91</td>\n      <td>1</td>\n    </tr>\n    <tr>\n      <th>91</th>\n      <td>92</td>\n      <td>1</td>\n    </tr>\n    <tr>\n      <th>92</th>\n      <td>93</td>\n      <td>1</td>\n    </tr>\n    <tr>\n      <th>93</th>\n      <td>94</td>\n      <td>1</td>\n    </tr>\n    <tr>\n      <th>94</th>\n      <td>95</td>\n      <td>2</td>\n    </tr>\n  </tbody>\n</table>\n<p>95 rows × 2 columns</p>\n</div>"
     },
     "execution_count": 4,
     "metadata": {},
     "output_type": "execute_result"
    }
   ],
   "source": [
    "bins = np.arange(1,max(A)+1 , 1)\n",
    "hist , bins = np.histogram(A , bins)\n",
    "\n",
    "print('hist : {}'.format(hist)) #숫자별 빈도\n",
    "#print('bins : {}'.format(bins)) #막대기의 갯수\n",
    "\n",
    "Steps=[]\n",
    "for i in range(len(bins)-1):\n",
    "    Steps.append((bins[i]))\n",
    "print('Steps :  {}'.format(Steps))\n",
    "\n",
    "\n",
    "DOSU = pd.DataFrame({'계급값' : Steps  , '도수' : hist})\n",
    "DOSU"
   ],
   "metadata": {
    "collapsed": false,
    "pycharm": {
     "name": "#%%\n"
    }
   }
  },
  {
   "cell_type": "code",
   "execution_count": 5,
   "outputs": [
    {
     "name": "stderr",
     "output_type": "stream",
     "text": [
      "C:\\Users\\user\\anaconda3\\lib\\site-packages\\seaborn\\distributions.py:2557: FutureWarning: `distplot` is a deprecated function and will be removed in a future version. Please adapt your code to use either `displot` (a figure-level function with similar flexibility) or `histplot` (an axes-level function for histograms).\n",
      "  warnings.warn(msg, FutureWarning)\n"
     ]
    },
    {
     "data": {
      "text/plain": "<Figure size 1080x576 with 1 Axes>",
      "image/png": "[encoded data removed]"
     },
     "metadata": {
      "needs_background": "light"
     },
     "output_type": "display_data"
    }
   ],
   "source": [
    "fig , ax1 = plt.subplots(figsize= (15,8))\n",
    "\n",
    "ax1 = sns.distplot(DOSU.loc[: , '도수'],bins = b , kde=False)\n",
    "ax1.set_xlim([0 , max(hist)])\n",
    "# ax1.set_ylim([0 , max(hist)])\n",
    "ax1.xaxis.set_major_locator(ticker.MultipleLocator(1)) #x축 간격을 1로 설정\n",
    "ax1.yaxis.set_major_locator(ticker.MultipleLocator(5)) #y축 간격을 1로 설정\n",
    "# for p in ax1.patches:\n",
    "#     #print(p)\n",
    "#     ax1.text(x = p.get_x() + p.get_width()/2,\n",
    "#              y = p.get_height() + len(A)*0.001,\n",
    "#              s =  'X좌표 : \\n{}\\n {} {}'.format(round(p.get_x(),3),int(p.get_height()),'개'),\n",
    "#              #s = f'{(p.get_height()/ len(A)) * 100: 1.1f}개',\n",
    "#              ha = 'center')\n",
    "# ax1.set_ylabel('갯수' , fontsize = 14 , labelpad= 14 ,rotation = 0)\n",
    "# ax2 = ax1.twinx() #한 그래프에 두번째 plot 넣기\n",
    "# ax2 = sns.distplot(A['도수'],bins = 28 , hist=False , kde=True, color='red')\n",
    "# ax2.set_xlim([Steps[0] , Steps[-1]]) #x축 시작 지점과 끝지점 표현\n",
    "# ax2.xaxis.set_major_locator(ticker.MultipleLocator(0.5)) #x축 간격을 0.5로 설정\n",
    "# ax2.axes.yaxis.set_visible(False) #y축 없애기\n",
    "\n",
    "\n",
    "\n",
    "\n",
    "\n",
    "\n"
   ],
   "metadata": {
    "collapsed": false,
    "pycharm": {
     "name": "#%%\n"
    }
   }
  },
  {
   "cell_type": "code",
   "execution_count": null,
   "outputs": [],
   "source": [
    "fig , ax1 = plt.subplots(figsize= (15,8))\n",
    "\n",
    "ax1 = sns.distplot(DOSU.loc[: , '도수'],bins = b , kde=False)\n",
    "ax1.set_xlim([0 , max(hist)])\n",
    "# ax1.set_ylim([0 , max(hist)])\n",
    "ax1.xaxis.set_major_locator(ticker.MultipleLocator(1)) #x축 간격을 1로 설정\n",
    "# ax1.yaxis.set_major_locator(ticker.MultipleLocator(5)) #y축 간격을 1로 설정"
   ],
   "metadata": {
    "collapsed": false,
    "pycharm": {
     "name": "#%%\n"
    }
   }
  },
  {
   "cell_type": "code",
   "execution_count": null,
   "outputs": [],
   "source": [
    "\n",
    "# from sympy import *\n",
    "# import sympy as sy\n",
    "#\n",
    "#\n",
    "# fig ,ax = plt.figure(figsize=(15,8))\n",
    "# x = sy.symbols('x')\n",
    "# k  = 1/2\n",
    "# fx = (1/2)  * k * x\n",
    "# fx2 = (-k * (1/2)) * x + 2*k\n",
    "# ax = plot(fx, xlim=(0,4) , ylim=(0,1))\n",
    "#\n",
    "# ax2 = plot(fx2 , xlim= (2,4) , ylim = (0,1))"
   ],
   "metadata": {
    "collapsed": false,
    "pycharm": {
     "name": "#%%\n"
    }
   }
  },
  {
   "cell_type": "code",
   "execution_count": null,
   "outputs": [],
   "source": [
    "from numpy import linspace\n",
    "\n",
    "min, max = 270, 300\n",
    "x = linspace(min,  max, 31)\n",
    "print(x)"
   ],
   "metadata": {
    "collapsed": false,
    "pycharm": {
     "name": "#%%\n"
    }
   }
  },
  {
   "cell_type": "code",
   "execution_count": null,
   "outputs": [],
   "source": [
    "y = []\n",
    "\n",
    "for i in x:\n",
    "    y.append((i >= min and i <= max) and (1 / (max - min)) or 0)\n",
    "\n",
    "print(y)"
   ],
   "metadata": {
    "collapsed": false,
    "pycharm": {
     "name": "#%%\n"
    }
   }
  },
  {
   "cell_type": "code",
   "execution_count": null,
   "outputs": [],
   "source": [
    "import matplotlib.pyplot as plt\n",
    "%matplotlib inline\n",
    "\n",
    "plt.figure(figsize=(12, 8))\n",
    "plt.plot(x, y)\n",
    "plt.xlabel('X')\n",
    "plt.ylabel('P(X)')\n",
    "plt.title('Uniform Distribution(min = 0, max = 1)')\n",
    "plt.grid()\n",
    "plt.show()"
   ],
   "metadata": {
    "collapsed": false,
    "pycharm": {
     "name": "#%%\n"
    }
   }
  },
  {
   "cell_type": "code",
   "execution_count": null,
   "outputs": [],
   "source": [
    "import matplotlib.pyplot as plt\n",
    "from scipy.stats import uniform\n",
    "\n",
    "\n",
    "plt.figure(figsize=(12, 8))\n",
    "y = uniform(min, max).pdf(x)\n",
    "print(y)\n",
    "plt.plot(x, y)\n",
    "plt.xlabel('X')\n",
    "plt.ylabel('P(X)')\n",
    "plt.title('Uniform Distribution(min = 0, max = 1)')\n",
    "plt.grid()\n",
    "plt.show()"
   ],
   "metadata": {
    "collapsed": false,
    "pycharm": {
     "name": "#%%\n"
    }
   }
  },
  {
   "cell_type": "code",
   "execution_count": null,
   "outputs": [],
   "source": [
    "from numpy import random\n",
    "from numpy import linspace\n",
    "from scipy.stats import uniform\n",
    "min, max = 270, 300\n",
    "# x = linspace(min-30.5,  max+30.5, 310) #240~330 까지 301개의 동등한 배열로 만들어보기\n",
    "#\n",
    "# print(x)\n",
    "# x = random.uniform(270 , 300 , size=310)\n",
    "# x = np.arange(min-30 , max+30 , 1)\n",
    "# print(x)\n",
    "#y = []\n",
    "# for i in x:\n",
    "#     y.append((i >= min and i <= max) and (1 / (max - min)) or 0) #unform distribution y값 구하기\n",
    "#\n",
    "# print(y)\n",
    "min = 0\n",
    "max = 1\n",
    "x = linspace(-0.5 , 1.5 , 10)\n",
    "print(x)\n",
    "print(len(x))\n",
    "y_2 = uniform.pdf(loc = min, scale = max , x =x)\n",
    "print(y_2)\n",
    "# ======================\n",
    "\n",
    "min = 270\n",
    "max = 300\n",
    "x = linspace(min-1 , max+1 , 31)\n",
    "print(x)\n",
    "print(len(x))\n",
    "y_2 = uniform.pdf(loc = min, scale = max , x =x)\n",
    "print(y_2)\n",
    "\n",
    "\n",
    "\n"
   ],
   "metadata": {
    "collapsed": false,
    "pycharm": {
     "name": "#%%\n"
    }
   }
  },
  {
   "cell_type": "code",
   "execution_count": null,
   "outputs": [],
   "source": [
    "print(x)\n",
    "fig = plt.figure(figsize=(12, 8))\n",
    "\n",
    "ax = sns.lineplot(x = x , y= y_2) #왜 uniform이 안되는거죵\n",
    "\n",
    "ax.set_title('균등분포(Uniform Distribution)')\n",
    "ax.set_xlabel('X' , fontsize= 15)\n",
    "ax.set_ylabel('Y' , fontsize= 15 , rotation = 0 , labelpad = 12)\n",
    "\n",
    "#ax.set_xlim([230 , 340]) #x축 최소값\n",
    "#ax.xaxis.set_major_locator(ticker.MultipleLocator(10)) #x축 간격을 0.5로 설정"
   ],
   "metadata": {
    "collapsed": false,
    "pycharm": {
     "name": "#%%\n"
    }
   }
  },
  {
   "cell_type": "code",
   "execution_count": null,
   "outputs": [],
   "source": [
    "min , max = 270, 300\n",
    "\n",
    "# x_2 = linspace(min-1 , max+1 , 100)\n",
    "\n",
    "x_2 = np.arange(min-30 , max+30 , 1)\n",
    "print(x)\n",
    "\n",
    "\n",
    "print(x_2)"
   ],
   "metadata": {
    "collapsed": false,
    "pycharm": {
     "name": "#%%\n"
    }
   }
  },
  {
   "cell_type": "code",
   "execution_count": null,
   "outputs": [],
   "source": [
    "# def uniform_"
   ],
   "metadata": {
    "collapsed": false,
    "pycharm": {
     "name": "#%%\n"
    }
   }
  },
  {
   "cell_type": "code",
   "execution_count": null,
   "outputs": [],
   "source": [
    "y = uniform.pdf( x = x_2 , loc = min , scale = max-min)\n",
    "#f(x, loc, scale) = {1/scale-loc for loc <= x <= scale\n",
    "# {0 otherwise}\n",
    "print(y)"
   ],
   "metadata": {
    "collapsed": false,
    "pycharm": {
     "name": "#%%\n"
    }
   }
  },
  {
   "cell_type": "code",
   "execution_count": null,
   "outputs": [],
   "source": [
    "fig = plt.figure(figsize=(12, 8))\n",
    "\n",
    "ax = sns.lineplot(x = x_2 , y= y) #왜 uniform이 안되는거죵\n",
    "\n",
    "ax.set_title('균등분포(Uniform Distribution)')\n",
    "ax.set_xlabel('X' , fontsize= 15)\n",
    "ax.set_ylabel('Y' , fontsize= 15 , rotation = 0 , labelpad = 12)\n",
    "\n"
   ],
   "metadata": {
    "collapsed": false,
    "pycharm": {
     "name": "#%%\n"
    }
   }
  },
  {
   "cell_type": "code",
   "execution_count": null,
   "outputs": [],
   "source": [
    "print(9/32)"
   ],
   "metadata": {
    "collapsed": false,
    "pycharm": {
     "name": "#%%\n"
    }
   }
  },
  {
   "cell_type": "code",
   "execution_count": null,
   "outputs": [],
   "source": [
    "import matplotlib.tri as mtri\n",
    "\n",
    "fig = plt.figure(figsize=(15,8))\n",
    "x = np.array([0,2,4]) #삼각형의 x좌표\n",
    "y = np.array([0,0.5 , 0]) #삼각형의 y좌표\n",
    "\n",
    "triangles = [[0,1,2]] #삼각형의 점 개수\n",
    "triang = mtri.Triangulation(x,y , triangles)\n",
    "\n",
    "plt.title(\"삼각 그리드\")\n",
    "plt.triplot(triang , 'ko-')\n",
    "plt.xlim(-0.1 , 4.1)\n",
    "plt.ylim(-0.1 , 0.6)\n",
    "plt.show()"
   ],
   "metadata": {
    "collapsed": false,
    "pycharm": {
     "name": "#%%\n"
    }
   }
  },
  {
   "cell_type": "code",
   "execution_count": 11,
   "outputs": [
    {
     "name": "stdout",
     "output_type": "stream",
     "text": [
      "[0.003 0.003 0.003 0.003 0.003 0.003 0.003 0.003 0.003 0.003 0.003 0.003\n",
      " 0.003 0.003 0.003 0.003 0.003 0.003 0.003 0.003 0.003 0.003 0.003 0.003\n",
      " 0.003 0.003 0.003 0.003 0.003 0.003 0.003]\n"
     ]
    },
    {
     "data": {
      "text/plain": "<Figure size 864x576 with 1 Axes>",
      "image/png": "[encoded data removed]"
     },
     "metadata": {
      "needs_background": "light"
     },
     "output_type": "display_data"
    }
   ],
   "source": [
    "import matplotlib.pyplot as plt\n",
    "from scipy.stats import uniform\n",
    "\n",
    "\n",
    "plt.figure(figsize=(12, 8))\n",
    "y = uniform(min, max).pdf(x)\n",
    "print(y)\n",
    "plt.plot(x, y)\n",
    "plt.xlabel('X')\n",
    "plt.ylabel('P(X)')\n",
    "plt.title('Uniform Distribution(min = 0, max = 1)')\n",
    "plt.grid()\n",
    "plt.show()"
   ],
   "metadata": {
    "collapsed": false,
    "pycharm": {
     "name": "#%%\n"
    }
   }
  },
  {
   "cell_type": "code",
   "execution_count": 12,
   "outputs": [
    {
     "name": "stdout",
     "output_type": "stream",
     "text": [
      "[-0.5   -0.278 -0.056  0.167  0.389  0.611  0.833  1.056  1.278  1.5  ]\n",
      "10\n",
      "[0. 0. 0. 1. 1. 1. 1. 0. 0. 0.]\n",
      "[269.    270.067 271.133 272.2   273.267 274.333 275.4   276.467 277.533\n",
      " 278.6   279.667 280.733 281.8   282.867 283.933 285.    286.067 287.133\n",
      " 288.2   289.267 290.333 291.4   292.467 293.533 294.6   295.667 296.733\n",
      " 297.8   298.867 299.933 301.   ]\n",
      "31\n",
      "[0.    0.003 0.003 0.003 0.003 0.003 0.003 0.003 0.003 0.003 0.003 0.003\n",
      " 0.003 0.003 0.003 0.003 0.003 0.003 0.003 0.003 0.003 0.003 0.003 0.003\n",
      " 0.003 0.003 0.003 0.003 0.003 0.003 0.003]\n"
     ]
    }
   ],
   "source": [
    "from numpy import random\n",
    "from numpy import linspace\n",
    "from scipy.stats import uniform\n",
    "min, max = 270, 300\n",
    "# x = linspace(min-30.5,  max+30.5, 310) #240~330 까지 301개의 동등한 배열로 만들어보기\n",
    "#\n",
    "# print(x)\n",
    "# x = random.uniform(270 , 300 , size=310)\n",
    "# x = np.arange(min-30 , max+30 , 1)\n",
    "# print(x)\n",
    "#y = []\n",
    "# for i in x:\n",
    "#     y.append((i >= min and i <= max) and (1 / (max - min)) or 0) #unform distribution y값 구하기\n",
    "#\n",
    "# print(y)\n",
    "min = 0\n",
    "max = 1\n",
    "x = linspace(-0.5 , 1.5 , 10)\n",
    "print(x)\n",
    "print(len(x))\n",
    "y_2 = uniform.pdf(loc = min, scale = max , x =x)\n",
    "print(y_2)\n",
    "# ======================\n",
    "\n",
    "min = 270\n",
    "max = 300\n",
    "x = linspace(min-1 , max+1 , 31)\n",
    "print(x)\n",
    "print(len(x))\n",
    "y_2 = uniform.pdf(loc = min, scale = max , x =x)\n",
    "print(y_2)\n",
    "\n",
    "\n",
    "\n"
   ],
   "metadata": {
    "collapsed": false,
    "pycharm": {
     "name": "#%%\n"
    }
   }
  },
  {
   "cell_type": "code",
   "execution_count": 13,
   "outputs": [
    {
     "name": "stdout",
     "output_type": "stream",
     "text": [
      "[269.    270.067 271.133 272.2   273.267 274.333 275.4   276.467 277.533\n",
      " 278.6   279.667 280.733 281.8   282.867 283.933 285.    286.067 287.133\n",
      " 288.2   289.267 290.333 291.4   292.467 293.533 294.6   295.667 296.733\n",
      " 297.8   298.867 299.933 301.   ]\n"
     ]
    },
    {
     "data": {
      "text/plain": "Text(0, 0.5, 'Y')"
     },
     "execution_count": 13,
     "metadata": {},
     "output_type": "execute_result"
    },
    {
     "data": {
      "text/plain": "<Figure size 864x576 with 1 Axes>",
      "image/png": "[encoded data removed]"
     },
     "metadata": {
      "needs_background": "light"
     },
     "output_type": "display_data"
    }
   ],
   "source": [
    "print(x)\n",
    "fig = plt.figure(figsize=(12, 8))\n",
    "\n",
    "ax = sns.lineplot(x = x , y= y_2) #왜 uniform이 안되는거죵\n",
    "\n",
    "ax.set_title('균등분포(Uniform Distribution)')\n",
    "ax.set_xlabel('X' , fontsize= 15)\n",
    "ax.set_ylabel('Y' , fontsize= 15 , rotation = 0 , labelpad = 12)\n",
    "\n",
    "#ax.set_xlim([230 , 340]) #x축 최소값\n",
    "#ax.xaxis.set_major_locator(ticker.MultipleLocator(10)) #x축 간격을 0.5로 설정"
   ],
   "metadata": {
    "collapsed": false,
    "pycharm": {
     "name": "#%%\n"
    }
   }
  },
  {
   "cell_type": "code",
   "execution_count": 22,
   "outputs": [
    {
     "name": "stdout",
     "output_type": "stream",
     "text": [
      "[269.    270.067 271.133 272.2   273.267 274.333 275.4   276.467 277.533\n",
      " 278.6   279.667 280.733 281.8   282.867 283.933 285.    286.067 287.133\n",
      " 288.2   289.267 290.333 291.4   292.467 293.533 294.6   295.667 296.733\n",
      " 297.8   298.867 299.933 301.   ]\n",
      "[240 241 242 243 244 245 246 247 248 249 250 251 252 253 254 255 256 257\n",
      " 258 259 260 261 262 263 264 265 266 267 268 269 270 271 272 273 274 275\n",
      " 276 277 278 279 280 281 282 283 284 285 286 287 288 289 290 291 292 293\n",
      " 294 295 296 297 298 299 300 301 302 303 304 305 306 307 308 309 310 311\n",
      " 312 313 314 315 316 317 318 319 320 321 322 323 324 325 326 327 328 329]\n"
     ]
    }
   ],
   "source": [
    "min , max = 270, 300\n",
    "\n",
    "# x_2 = linspace(min-1 , max+1 , 100)\n",
    "\n",
    "x_2 = np.arange(min-30 , max+30 , 1)\n",
    "print(x)\n",
    "\n",
    "\n",
    "print(x_2)"
   ],
   "metadata": {
    "collapsed": false,
    "pycharm": {
     "name": "#%%\n"
    }
   }
  },
  {
   "cell_type": "code",
   "execution_count": 23,
   "outputs": [],
   "source": [
    "# def uniform_"
   ],
   "metadata": {
    "collapsed": false,
    "pycharm": {
     "name": "#%%\n"
    }
   }
  },
  {
   "cell_type": "code",
   "execution_count": 24,
   "outputs": [
    {
     "name": "stdout",
     "output_type": "stream",
     "text": [
      "[0.    0.    0.    0.    0.    0.    0.    0.    0.    0.    0.    0.\n",
      " 0.    0.    0.    0.    0.    0.    0.    0.    0.    0.    0.    0.\n",
      " 0.    0.    0.    0.    0.    0.    0.033 0.033 0.033 0.033 0.033 0.033\n",
      " 0.033 0.033 0.033 0.033 0.033 0.033 0.033 0.033 0.033 0.033 0.033 0.033\n",
      " 0.033 0.033 0.033 0.033 0.033 0.033 0.033 0.033 0.033 0.033 0.033 0.033\n",
      " 0.033 0.    0.    0.    0.    0.    0.    0.    0.    0.    0.    0.\n",
      " 0.    0.    0.    0.    0.    0.    0.    0.    0.    0.    0.    0.\n",
      " 0.    0.    0.    0.    0.    0.   ]\n"
     ]
    }
   ],
   "source": [
    "y = uniform.pdf( x = x_2 , loc = min , scale = max-min)\n",
    "#f(x, loc, scale) = {1/scale-loc for loc <= x <= scale\n",
    "# {0 otherwise}\n",
    "print(y)"
   ],
   "metadata": {
    "collapsed": false,
    "pycharm": {
     "name": "#%%\n"
    }
   }
  },
  {
   "cell_type": "code",
   "execution_count": 25,
   "outputs": [
    {
     "data": {
      "text/plain": "Text(0, 0.5, 'Y')"
     },
     "execution_count": 25,
     "metadata": {},
     "output_type": "execute_result"
    },
    {
     "data": {
      "text/plain": "<Figure size 864x576 with 1 Axes>",
      "image/png": "[encoded data removed]"
     },
     "metadata": {
      "needs_background": "light"
     },
     "output_type": "display_data"
    }
   ],
   "source": [
    "fig = plt.figure(figsize=(12, 8))\n",
    "\n",
    "ax = sns.lineplot(x = x_2 , y= y) #왜 uniform이 안되는거죵\n",
    "\n",
    "ax.set_title('균등분포(Uniform Distribution)')\n",
    "ax.set_xlabel('X' , fontsize= 15)\n",
    "ax.set_ylabel('Y' , fontsize= 15 , rotation = 0 , labelpad = 12)\n",
    "\n"
   ],
   "metadata": {
    "collapsed": false,
    "pycharm": {
     "name": "#%%\n"
    }
   }
  },
  {
   "cell_type": "code",
   "execution_count": null,
   "outputs": [],
   "source": [
    "print(9/32)"
   ],
   "metadata": {
    "collapsed": false,
    "pycharm": {
     "name": "#%%\n"
    }
   }
  },
  {
   "cell_type": "code",
   "execution_count": null,
   "outputs": [],
   "source": [
    "import matplotlib.tri as mtri\n",
    "\n",
    "fig = plt.figure(figsize=(15,8))\n",
    "x = np.array([0,2,4]) #삼각형의 x좌표\n",
    "y = np.array([0,0.5 , 0]) #삼각형의 y좌표\n",
    "\n",
    "triangles = [[0,1,2]] #삼각형의 점 개수\n",
    "triang = mtri.Triangulation(x,y , triangles)\n",
    "\n",
    "plt.title(\"삼각 그리드\")\n",
    "plt.triplot(triang , 'ko-')\n",
    "plt.xlim(-0.1 , 4.1)\n",
    "plt.ylim(-0.1 , 0.6)\n",
    "plt.show()"
   ],
   "metadata": {
    "collapsed": false,
    "pycharm": {
     "name": "#%%\n"
    }
   }
  },
  {
   "cell_type": "code",
   "execution_count": null,
   "outputs": [],
   "source": [],
   "metadata": {
    "collapsed": false,
    "pycharm": {
     "name": "#%%\n"
    }
   }
  }
 ],
 "metadata": {
  "kernelspec": {
   "display_name": "Python 3",
   "language": "python",
   "name": "python3"
  },
  "language_info": {
   "codemirror_mode": {
    "name": "ipython",
    "version": 2
   },
   "file_extension": ".py",
   "mimetype": "text/x-python",
   "name": "python",
   "nbconvert_exporter": "python",
   "pygments_lexer": "ipython2",
   "version": "2.7.6"
  }
 },
 "nbformat": 4,
 "nbformat_minor": 0
}