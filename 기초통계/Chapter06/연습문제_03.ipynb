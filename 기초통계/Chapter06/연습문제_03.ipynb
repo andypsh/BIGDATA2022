{
 "cells": [
  {
   "cell_type": "code",
   "execution_count": 198,
   "metadata": {
    "collapsed": true,
    "pycharm": {
     "name": "#%%\n"
    }
   },
   "outputs": [],
   "source": [
    "import itertools\n",
    "import platform\n",
    "import matplotlib\n",
    "import pandas as pd\n",
    "import matplotlib.pyplot as plt\n",
    "from matplotlib import font_manager, rc\n",
    "import seaborn as sns\n",
    "%precision 3\n",
    "from matplotlib import pyplot as plt\n",
    "%matplotlib inline\n",
    "#그래프를 주피터 놋북에 그리기 위해\n",
    "import numpy as np\n",
    "import copy\n",
    "from matplotlib import ticker\n",
    "from scipy.stats import probplot\n",
    "from scipy import stats\n",
    "import collections\n",
    "import itertools\n",
    "import math\n",
    "#from varname import nameof\n",
    "import sys\n",
    "from scipy import stats\n",
    "from scipy.stats import bernoulli\n",
    "import scipy\n",
    "import sympy\n",
    "#히스토그램 그리기\n",
    "\n",
    "from sympy import Integral,  Symbol , pprint\n",
    "#sympy\n",
    "\n",
    "\n",
    "# Window\n",
    "if platform.system() == 'Windows':\n",
    "    matplotlib.rc('font', family='Malgun Gothic')\n",
    "elif platform.system() == 'Darwin': # Mac\n",
    "    matplotlib.rc('font', family='AppleGothic')\n",
    "else: #linux\n",
    "    matplotlib.rc('font', family='NanumGothic')\n",
    "\n",
    "# 그래프에 마이너스 표시가 되도록 변경\n",
    "matplotlib.rcParams['axes.unicode_minus'] = False\n",
    "\n",
    "# 한글 폰트 설정\n",
    "font_location = 'C:/Windows/Fonts/MALGUNSL.TTF' #맑은고딕\n",
    "font_name = font_manager.FontProperties(fname=font_location).get_name()\n",
    "rc('font',family=font_name)"
   ]
  },
  {
   "cell_type": "code",
   "execution_count": 199,
   "outputs": [
    {
     "name": "stdout",
     "output_type": "stream",
     "text": [
      "   3\n",
      "2⋅x \n",
      "────\n",
      " 3  \n",
      "===\n",
      "평균 : 2/3\n",
      "분산 : 0.0555555555555556\n"
     ]
    }
   ],
   "source": [
    "from sympy import Integral,  Symbol , pprint ,solve\n",
    "\n",
    "x = Symbol('x')\n",
    "f = 2 * x\n",
    "\n",
    "f_x_m = f *x\n",
    "\n",
    "pprint(Integral(f_x_m, x).doit()) #이쁘게 출력\n",
    "print('===')\n",
    "\n",
    "mean_x = Integral(f_x_m, (x, (0, 1))).doit()\n",
    "print(\"평균 : {}\".format(mean_x)) #적분변수 , 아래끝 , 위끝\n",
    "\n",
    "var_x = Integral(f_x_m *x, (x, (0, 1))).doit() - math.pow(mean_x , 2)\n",
    "\n",
    "print(\"분산 : {}\".format(var_x))"
   ],
   "metadata": {
    "collapsed": false,
    "pycharm": {
     "name": "#%%\n"
    }
   }
  },
  {
   "cell_type": "code",
   "execution_count": 200,
   "outputs": [
    {
     "name": "stdout",
     "output_type": "stream",
     "text": [
      "-0.6744897501960817\n",
      "0.0555555555555556\n",
      "0.2357022603955159\n",
      "[0.507687907931844]\n"
     ]
    }
   ],
   "source": [
    "#P(X<=a) = P(Z<= (a-평균)/표준편차)) = 1/4\n",
    "#(a-평균)/표준편차) = X_r\n",
    "X_r = scipy.stats.norm.ppf(0.25)\n",
    "print(X_r)\n",
    "print(var_x)\n",
    "print(math.sqrt(var_x))\n",
    "equation = (x- mean_x) / math.sqrt(var_x) - X_r\n",
    "d = solve(equation)\n",
    "print(d)"
   ],
   "metadata": {
    "collapsed": false,
    "pycharm": {
     "name": "#%%\n"
    }
   }
  },
  {
   "cell_type": "code",
   "execution_count": 201,
   "outputs": [
    {
     "name": "stdout",
     "output_type": "stream",
     "text": [
      "[1.00000000000000]\n"
     ]
    }
   ],
   "source": [
    "k = sympy.Symbol('k')\n",
    "sol_k = 2*k*(1/2) -1\n",
    "k_sol = solve(sol_k)\n",
    "print(k_sol)"
   ],
   "metadata": {
    "collapsed": false,
    "pycharm": {
     "name": "#%%\n"
    }
   }
  },
  {
   "cell_type": "code",
   "execution_count": 202,
   "outputs": [
    {
     "name": "stdout",
     "output_type": "stream",
     "text": [
      "평균 : 1\n",
      "분산 : 0.166666666666667\n"
     ]
    }
   ],
   "source": [
    "from sympy import Integral,  Symbol , pprint ,solve\n",
    "\n",
    "x = Symbol('x')\n",
    "f_1 =  x\n",
    "f_2 = -x +2\n",
    "f_x_1_m = f_1 *x\n",
    "f_x_2_m = f_2 *x\n",
    "\n",
    "mean_x = Integral(f_x_1_m, (x, (0, 1))).doit() + Integral(f_x_2_m, (x, (1, 2))).doit()\n",
    "print(\"평균 : {}\".format(mean_x)) #적분변수 , 아래끝 , 위끝\n",
    "\n",
    "var_x = Integral(f_x_1_m*x, (x, (0, 1))).doit() + Integral(f_x_2_m*x, (x, (1, 2))).doit() - math.pow(mean_x, 2)\n",
    "\n",
    "print(\"분산 : {}\".format(var_x)) #적분변수 , 아래끝 , 위끝"
   ],
   "metadata": {
    "collapsed": false,
    "pycharm": {
     "name": "#%%\n"
    }
   }
  },
  {
   "cell_type": "code",
   "execution_count": 203,
   "outputs": [
    {
     "name": "stdout",
     "output_type": "stream",
     "text": [
      "-0.97979590\n",
      "-2.4495\n",
      "0.16359343818253824\n"
     ]
    }
   ],
   "source": [
    "x_0_6 = round((0.6-(mean_x)) / math.sqrt(var_x),8)\n",
    "x_0 = round( (0-mean_x) / math.sqrt(var_x) , 4)\n",
    "print(x_0_6)\n",
    "print(x_0)\n",
    "print(scipy.stats.norm.cdf(-0.97979590))"
   ],
   "metadata": {
    "collapsed": false,
    "pycharm": {
     "name": "#%%\n"
    }
   }
  },
  {
   "cell_type": "code",
   "execution_count": 204,
   "outputs": [
    {
     "name": "stdout",
     "output_type": "stream",
     "text": [
      "1.22474487\n",
      "-1.2247\n",
      "0.7793117258581086\n"
     ]
    }
   ],
   "source": [
    "x_0_1_5 = round((1.5-(mean_x)) / math.sqrt(var_x),8)\n",
    "x_0_5 = round( (0.5-mean_x) / math.sqrt(var_x) , 4)\n",
    "print(x_0_1_5)\n",
    "print(x_0_5)\n",
    "print(scipy.stats.norm.cdf(1.2247) - scipy.stats.norm.cdf(-1.2247) )"
   ],
   "metadata": {
    "collapsed": false,
    "pycharm": {
     "name": "#%%\n"
    }
   }
  },
  {
   "cell_type": "code",
   "execution_count": 205,
   "outputs": [
    {
     "name": "stdout",
     "output_type": "stream",
     "text": [
      "2.44948974\n",
      "0.4899\n",
      "0.3049476096214827\n"
     ]
    }
   ],
   "source": [
    "x_0_2 = round((2-(mean_x)) / math.sqrt(var_x),8)\n",
    "x_0_1_2 = round( (1.2-mean_x) / math.sqrt(var_x) , 4)\n",
    "print(x_0_2)\n",
    "print(x_0_1_2)\n",
    "print(scipy.stats.norm.cdf(2.4494) - scipy.stats.norm.cdf(0.4899) )"
   ],
   "metadata": {
    "collapsed": false,
    "pycharm": {
     "name": "#%%\n"
    }
   }
  },
  {
   "cell_type": "code",
   "execution_count": 206,
   "outputs": [
    {
     "data": {
      "text/plain": "<Figure size 1080x576 with 1 Axes>",
      "image/png": "[encoded data removed]"
     },
     "metadata": {
      "needs_background": "light"
     },
     "output_type": "display_data"
    }
   ],
   "source": [
    "import matplotlib.tri as mtri\n",
    "\n",
    "fig = plt.figure(figsize=(15,8))\n",
    "x = np.array([0,1,2]) #삼각형의 x좌표\n",
    "y = np.array([0,1 , 0]) #삼각형의 y좌표\n",
    "\n",
    "triangles = [[0,1,2]] #삼각형의 점 개수\n",
    "triang = mtri.Triangulation(x,y , triangles)\n",
    "\n",
    "plt.title(\"삼각 그리드\")\n",
    "plt.triplot(triang , 'ko-')\n",
    "plt.fill_between(x , x , 0 , where = (x<= 1) & (x>=0) , color = 'orange')\n",
    "plt.fill_between(x , -x+2 , 0 , where =  (x>=1) & (x<= 2) )\n",
    "\n",
    "plt.xlim(-0.1 , 2.1)\n",
    "plt.ylim(-0.1 , 1.6)\n",
    "\n",
    "plt.text(0.5 , 0.6 , 'y = x' , fontsize = 13 , rotation = 33)\n",
    "plt.text(1.5 , 0.5 , 'y = -x+2' , fontsize = 13 , rotation = -33)\n",
    "plt.show()"
   ],
   "metadata": {
    "collapsed": false,
    "pycharm": {
     "name": "#%%\n"
    }
   }
  },
  {
   "cell_type": "code",
   "execution_count": 206,
   "outputs": [],
   "source": [],
   "metadata": {
    "collapsed": false,
    "pycharm": {
     "name": "#%%\n"
    }
   }
  },
  {
   "cell_type": "code",
   "execution_count": 207,
   "outputs": [
    {
     "name": "stdout",
     "output_type": "stream",
     "text": [
      "[[0.02 0.02 0.02 0.02 0.02 0.02 0.02 0.02 0.02 0.02 0.02 0.02 0.02 0.02\n",
      "  0.02 0.02 0.02 0.02 0.02 0.02 0.02 0.02 0.02 0.02 0.02 0.02 0.02 0.02\n",
      "  0.02 0.02 0.02 0.02 0.02 0.02 0.02 0.02 0.02 0.02 0.02 0.02 0.02 0.02\n",
      "  0.02 0.02 0.02 0.02 0.02 0.02 0.02 0.02 0.02 0.02 0.02 0.02 0.02 0.02\n",
      "  0.02 0.02 0.02 0.02 0.02 0.02 0.02 0.02 0.02 0.02 0.02 0.02 0.02 0.02\n",
      "  0.02 0.02 0.02 0.02 0.02 0.02 0.02 0.02 0.02 0.02 0.02 0.02 0.02 0.02\n",
      "  0.02 0.02 0.02 0.02 0.02 0.02 0.02 0.02 0.02 0.02 0.02 0.02 0.02 0.02\n",
      "  0.02 0.02 0.02 0.02 0.02 0.02 0.02 0.02 0.02 0.02 0.02 0.02 0.02 0.02\n",
      "  0.02 0.02 0.02 0.02 0.02 0.02 0.02 0.02 0.02 0.02 0.02 0.02 0.02 0.02\n",
      "  0.02 0.02 0.02 0.02 0.02 0.02 0.02 0.02 0.02 0.02 0.02 0.02 0.02 0.02\n",
      "  0.02 0.02 0.02 0.02 0.02 0.02 0.02 0.02 0.02 0.02 0.02 0.02 0.02 0.02\n",
      "  0.02 0.02 0.02 0.02 0.02 0.02 0.02 0.02 0.02 0.02 0.02 0.02 0.02 0.02\n",
      "  0.02 0.02 0.02 0.02 0.02 0.02 0.02 0.02 0.02 0.02 0.02 0.02 0.02 0.02\n",
      "  0.02 0.02 0.02 0.02 0.02 0.02 0.02 0.02 0.02 0.02 0.02 0.02 0.02 0.02\n",
      "  0.02 0.02 0.02 0.02]]\n"
     ]
    },
    {
     "data": {
      "text/plain": "        0     1\n0     0.0  0.02\n1     0.1  0.02\n2     0.2  0.02\n3     0.3  0.02\n4     0.4  0.02\n..    ...   ...\n405  40.5  0.02\n406  40.6  0.02\n407  40.7  0.02\n408  40.8  0.02\n409  40.9  0.02\n\n[410 rows x 2 columns]",
      "text/html": "<div>\n<style scoped>\n    .dataframe tbody tr th:only-of-type {\n        vertical-align: middle;\n    }\n\n    .dataframe tbody tr th {\n        vertical-align: top;\n    }\n\n    .dataframe thead th {\n        text-align: right;\n    }\n</style>\n<table border=\"1\" class=\"dataframe\">\n  <thead>\n    <tr style=\"text-align: right;\">\n      <th></th>\n      <th>0</th>\n      <th>1</th>\n    </tr>\n  </thead>\n  <tbody>\n    <tr>\n      <th>0</th>\n      <td>0.0</td>\n      <td>0.02</td>\n    </tr>\n    <tr>\n      <th>1</th>\n      <td>0.1</td>\n      <td>0.02</td>\n    </tr>\n    <tr>\n      <th>2</th>\n      <td>0.2</td>\n      <td>0.02</td>\n    </tr>\n    <tr>\n      <th>3</th>\n      <td>0.3</td>\n      <td>0.02</td>\n    </tr>\n    <tr>\n      <th>4</th>\n      <td>0.4</td>\n      <td>0.02</td>\n    </tr>\n    <tr>\n      <th>...</th>\n      <td>...</td>\n      <td>...</td>\n    </tr>\n    <tr>\n      <th>405</th>\n      <td>40.5</td>\n      <td>0.02</td>\n    </tr>\n    <tr>\n      <th>406</th>\n      <td>40.6</td>\n      <td>0.02</td>\n    </tr>\n    <tr>\n      <th>407</th>\n      <td>40.7</td>\n      <td>0.02</td>\n    </tr>\n    <tr>\n      <th>408</th>\n      <td>40.8</td>\n      <td>0.02</td>\n    </tr>\n    <tr>\n      <th>409</th>\n      <td>40.9</td>\n      <td>0.02</td>\n    </tr>\n  </tbody>\n</table>\n<p>410 rows × 2 columns</p>\n</div>"
     },
     "execution_count": 207,
     "metadata": {},
     "output_type": "execute_result"
    }
   ],
   "source": [
    "a_x= np.arange(0,20,.1) # len(a_x) = 20\n",
    "\n",
    "a_y = np.full((1,len(a_x)) , 0.02) #1행 20열값을 0.02로 가득채워라\n",
    "print(a_y)\n",
    "\n",
    "A = pd.DataFrame([a_x , *a_y])\n",
    "A= A.T\n",
    "a_x= np.arange(20,30,.1) # len(a_x) = 20\n",
    "\n",
    "a_y = np.full((1,len(a_x)) , 0.04) #1행 20열값을 0.02로 가득채워라\n",
    "\n",
    "B= pd.DataFrame([a_x , *a_y])\n",
    "B = B.T\n",
    "\n",
    "a_x= np.arange(30,41,.1) # len(a_x) = 20\n",
    "\n",
    "a_y = np.full((1,len(a_x)) , 0.02) #1행 20열값을 0.02로 가득채워라\n",
    "\n",
    "C= pd.DataFrame([a_x , *a_y])\n",
    "C = C.T\n",
    "\n",
    "A = pd.concat([A,B,C]).reset_index()\n",
    "A = A.iloc[ : , 1:]\n",
    "A"
   ],
   "metadata": {
    "collapsed": false,
    "pycharm": {
     "name": "#%%\n"
    }
   }
  },
  {
   "cell_type": "code",
   "execution_count": 208,
   "outputs": [
    {
     "data": {
      "text/plain": "Text(29, 0.015, 'P(X>=35) = 0.1')"
     },
     "execution_count": 208,
     "metadata": {},
     "output_type": "execute_result"
    },
    {
     "data": {
      "text/plain": "<Figure size 1080x576 with 1 Axes>",
      "image/png": "[encoded data removed]"
     },
     "metadata": {
      "needs_background": "light"
     },
     "output_type": "display_data"
    }
   ],
   "source": [
    "fig = plt.figure(figsize=(15,8))\n",
    "\n",
    "# ax = sns.distplot(x = A[0] , y=A[1])\n",
    "ax= sns.lineplot(x= A[0] , y= A[1])\n",
    "ax.set_xlim(-1 , 45)\n",
    "ax.set_ylim(0 , 0.05)\n",
    "ax.set_xlabel('경기에참여하는 시간' , fontsize = 12)\n",
    "ax.set_ylabel('확률밀도함수 f(x)' , fontsize= 12 , rotation=0 , labelpad = 20)\n",
    "\n",
    "\n",
    "ax.fill_between(A[0] , A[1] , 0 , where =  (A[0]>=35))\n",
    "\n",
    "area = (40-35) * 0.02\n",
    "ax.text(29 , 0.015 , 'P(X>=35) = {}'.format(area) , fontsize= 13)"
   ],
   "metadata": {
    "collapsed": false,
    "pycharm": {
     "name": "#%%\n"
    }
   }
  },
  {
   "cell_type": "code",
   "execution_count": 211,
   "outputs": [
    {
     "data": {
      "text/plain": "Text(26, 0.015, 'P(X<=25) = 0.6')"
     },
     "execution_count": 211,
     "metadata": {},
     "output_type": "execute_result"
    },
    {
     "data": {
      "text/plain": "<Figure size 1080x576 with 1 Axes>",
      "image/png": "[encoded data removed]"
     },
     "metadata": {
      "needs_background": "light"
     },
     "output_type": "display_data"
    }
   ],
   "source": [
    "fig = plt.figure(figsize=(15,8))\n",
    "\n",
    "# ax = sns.distplot(x = A[0] , y=A[1])\n",
    "ax= sns.lineplot(x= A[0] , y= A[1])\n",
    "ax.set_xlim(-1 , 45)\n",
    "ax.set_ylim(0 , 0.05)\n",
    "ax.set_xlabel('경기에참여하는 시간' , fontsize = 12)\n",
    "ax.set_ylabel('확률밀도함수 f(x)' , fontsize= 12 , rotation=0 , labelpad = 20)\n",
    "\n",
    "\n",
    "ax.fill_between(A[0] , A[1] , 0 , where =  (A[0]<=25))\n",
    "\n",
    "area = (25-20) * 0.04 + (20*0.02)\n",
    "ax.text(26 , 0.015 , 'P(X<=25) = {}'.format(round(area,2)) , fontsize= 13)"
   ],
   "metadata": {
    "collapsed": false,
    "pycharm": {
     "name": "#%%\n"
    }
   }
  },
  {
   "cell_type": "code",
   "execution_count": 214,
   "outputs": [
    {
     "data": {
      "text/plain": "Text(8, 0.015, 'P(15<=X<=35) = 0.6')"
     },
     "execution_count": 214,
     "metadata": {},
     "output_type": "execute_result"
    },
    {
     "data": {
      "text/plain": "<Figure size 1080x576 with 1 Axes>",
      "image/png": "[encoded data removed]"
     },
     "metadata": {
      "needs_background": "light"
     },
     "output_type": "display_data"
    }
   ],
   "source": [
    "fig = plt.figure(figsize=(15,8))\n",
    "\n",
    "# ax = sns.distplot(x = A[0] , y=A[1])\n",
    "ax= sns.lineplot(x= A[0] , y= A[1])\n",
    "ax.set_xlim(-1 , 45)\n",
    "ax.set_ylim(0 , 0.05)\n",
    "ax.set_xlabel('경기에참여하는 시간' , fontsize = 12)\n",
    "ax.set_ylabel('확률밀도함수 f(x)' , fontsize= 12 , rotation=0 , labelpad = 20)\n",
    "\n",
    "\n",
    "ax.fill_between(A[0] , A[1] , 0 , where =  (A[0]<=35) & (A[0]>=15))\n",
    "\n",
    "area = (30-20) * 0.04 + ((35-30)*0.02) + ((20-15) *0.02)\n",
    "ax.text(8 , 0.015 , 'P(15<=X<=35) = {}'.format(round(area,2)) , fontsize= 13)"
   ],
   "metadata": {
    "collapsed": false,
    "pycharm": {
     "name": "#%%\n"
    }
   }
  },
  {
   "cell_type": "code",
   "execution_count": 210,
   "outputs": [],
   "source": [],
   "metadata": {
    "collapsed": false,
    "pycharm": {
     "name": "#%%\n"
    }
   }
  }
 ],
 "metadata": {
  "kernelspec": {
   "display_name": "Python 3",
   "language": "python",
   "name": "python3"
  },
  "language_info": {
   "codemirror_mode": {
    "name": "ipython",
    "version": 2
   },
   "file_extension": ".py",
   "mimetype": "text/x-python",
   "name": "python",
   "nbconvert_exporter": "python",
   "pygments_lexer": "ipython2",
   "version": "2.7.6"
  }
 },
 "nbformat": 4,
 "nbformat_minor": 0
}