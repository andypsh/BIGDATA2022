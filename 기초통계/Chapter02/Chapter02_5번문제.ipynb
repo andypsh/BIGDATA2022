{
 "cells": [
  {
   "cell_type": "code",
   "execution_count": 12,
   "metadata": {
    "collapsed": true,
    "pycharm": {
     "name": "#%%\n"
    }
   },
   "outputs": [],
   "source": [
    "import platform\n",
    "import matplotlib\n",
    "import pandas as pd\n",
    "import matplotlib.pyplot as plt\n",
    "from matplotlib import font_manager, rc\n",
    "import seaborn as sns\n",
    "%precision 3\n",
    "from matplotlib import pyplot as plt\n",
    "%matplotlib inline\n",
    "#그래프를 주피터 놋북에 그리기 위해\n",
    "import numpy as np\n",
    "import copy\n",
    "\n",
    "from scipy.stats import probplot\n",
    "from scipy import stats\n",
    "#히스토그램 그리기\n",
    "# Window\n",
    "if platform.system() == 'Windows':\n",
    "    matplotlib.rc('font', family='Malgun Gothic')\n",
    "elif platform.system() == 'Darwin': # Mac\n",
    "    matplotlib.rc('font', family='AppleGothic')\n",
    "else: #linux\n",
    "    matplotlib.rc('font', family='NanumGothic')\n",
    "\n",
    "# 그래프에 마이너스 표시가 되도록 변경\n",
    "matplotlib.rcParams['axes.unicode_minus'] = False\n",
    "\n",
    "# 한글 폰트 설정\n",
    "font_location = 'C:/Windows/Fonts/MALGUNSL.TTF' #맑은고딕\n",
    "font_name = font_manager.FontProperties(fname=font_location).get_name()\n",
    "rc('font',family=font_name)"
   ]
  },
  {
   "cell_type": "code",
   "execution_count": 16,
   "outputs": [
    {
     "name": "stdout",
     "output_type": "stream",
     "text": [
      "9\n",
      "9\n"
     ]
    },
    {
     "data": {
      "text/plain": "    한국   영국   독일   미국  프랑스   호주  스웨덴   일본  OECD_평균\n0  2.6  0.7  0.7  1.3  1.0  0.8  0.5  0.7      1.1",
      "text/html": "<div>\n<style scoped>\n    .dataframe tbody tr th:only-of-type {\n        vertical-align: middle;\n    }\n\n    .dataframe tbody tr th {\n        vertical-align: top;\n    }\n\n    .dataframe thead th {\n        text-align: right;\n    }\n</style>\n<table border=\"1\" class=\"dataframe\">\n  <thead>\n    <tr style=\"text-align: right;\">\n      <th></th>\n      <th>한국</th>\n      <th>영국</th>\n      <th>독일</th>\n      <th>미국</th>\n      <th>프랑스</th>\n      <th>호주</th>\n      <th>스웨덴</th>\n      <th>일본</th>\n      <th>OECD_평균</th>\n    </tr>\n  </thead>\n  <tbody>\n    <tr>\n      <th>0</th>\n      <td>2.6</td>\n      <td>0.7</td>\n      <td>0.7</td>\n      <td>1.3</td>\n      <td>1.0</td>\n      <td>0.8</td>\n      <td>0.5</td>\n      <td>0.7</td>\n      <td>1.1</td>\n    </tr>\n  </tbody>\n</table>\n</div>"
     },
     "execution_count": 16,
     "metadata": {},
     "output_type": "execute_result"
    }
   ],
   "source": [
    "nation = '한국 영국 독일 미국 프랑스 호주 스웨덴 일본 OECD_평균'\n",
    "death = '2.6 0.7 0.7 1.3 1.0 0.8 0.5 0.7 1.1'\n",
    "\n",
    "nation = list(nation.split(' '))\n",
    "death = list(map(float, death.split(' ')))\n",
    "print(len(nation))\n",
    "print(len(death))\n",
    "\n",
    "a = pd.DataFrame([death] , columns = nation) #꼭 기억하자\n",
    "a"
   ],
   "metadata": {
    "collapsed": false,
    "pycharm": {
     "name": "#%%\n"
    }
   }
  },
  {
   "cell_type": "code",
   "execution_count": 22,
   "outputs": [
    {
     "name": "stdout",
     "output_type": "stream",
     "text": [
      "['한국', '영국', '독일', '미국', '프랑스', '호주', '스웨덴', '일본']\n"
     ]
    }
   ],
   "source": [
    "print(nation[:-1])"
   ],
   "metadata": {
    "collapsed": false,
    "pycharm": {
     "name": "#%%\n"
    }
   }
  },
  {
   "cell_type": "code",
   "execution_count": 43,
   "outputs": [
    {
     "name": "stdout",
     "output_type": "stream",
     "text": [
      "2.6\n",
      "0.7\n",
      "0.7\n",
      "1.3\n",
      "1.0\n",
      "0.8\n",
      "0.5\n",
      "0.7\n"
     ]
    },
    {
     "data": {
      "text/plain": "<Figure size 576x576 with 1 Axes>",
      "image/png": "[encoded data removed]"
     },
     "metadata": {},
     "output_type": "display_data"
    }
   ],
   "source": [
    "fig = plt.figure(figsize = (8,8))\n",
    "ax3 = plt.plot(figsize = (8,8))\n",
    "fig.set_facecolor('white')\n",
    "\n",
    "ax3 = sns.barplot(x=nation[:-1] , y=death[:-1])\n",
    "ax3.set_title('국가별 사망자 비율' , fontsize= 18)\n",
    "ax3.set_xlabel('국가명' , rotation = 0 , fontsize= 15 , labelpad=18)\n",
    "ax3.set_ylabel('사망자', rotation = 0 , fontsize = 15 , labelpad=18)\n",
    "ax3.set_xticklabels(nation[:-1], rotation = 0 , fontsize= 15)\n",
    "\n",
    "ax3.axhline(y=death[-1] , xmin=0 , xmax=1 , color = 'blue' , linestyle ='solid' , label ='{}'.format(death[-1]))\n",
    "ax3.text(5, death[-1]+0.02,f'OECD Death Ratio : {death[-1]}',fontsize=13)\n",
    "#(x좌표 , y좌표, 기준선 이름)\n",
    "ax3.legend()\n",
    "#기준선 추가하기\n",
    "width = 0.5\n",
    "# 막대기의 두께 in Seaborn\n",
    "for bar in ax3.patches:\n",
    "    x = bar.get_x() # 막대 좌측 하단 x 좌표\n",
    "    old_width = bar.get_width() # 기존 막대 폭\n",
    "    bar.set_width(width) # 폭변경\n",
    "    bar.set_x(x+(old_width-width)/2) # 막대 좌측 하단 x 좌표 업데이트\n",
    "#\n",
    "for i,txt in enumerate(death[:-1]):\n",
    "    b = txt\n",
    "    print(b)\n",
    "    if  b == max(death[:-1]):\n",
    "        ax3.text(i, b+0.02, str(txt)+'%' , ha='center' , color = 'red' , fontweight = 'bold' , fontsize=17)\n",
    "        #어디 막대, 막대기의 위쪽에\n",
    "    else:\n",
    "        ax3.text(i, b+0.01, str(txt)+'%' , ha='center' , color = 'dimgray' , fontsize=13 , fontweight = 'bold')\n",
    "plt.show()"
   ],
   "metadata": {
    "collapsed": false,
    "pycharm": {
     "name": "#%%\n"
    }
   }
  },
  {
   "cell_type": "code",
   "execution_count": null,
   "outputs": [],
   "source": [],
   "metadata": {
    "collapsed": false,
    "pycharm": {
     "name": "#%%\n"
    }
   }
  }
 ],
 "metadata": {
  "kernelspec": {
   "display_name": "Python 3",
   "language": "python",
   "name": "python3"
  },
  "language_info": {
   "codemirror_mode": {
    "name": "ipython",
    "version": 2
   },
   "file_extension": ".py",
   "mimetype": "text/x-python",
   "name": "python",
   "nbconvert_exporter": "python",
   "pygments_lexer": "ipython2",
   "version": "2.7.6"
  }
 },
 "nbformat": 4,
 "nbformat_minor": 0
}