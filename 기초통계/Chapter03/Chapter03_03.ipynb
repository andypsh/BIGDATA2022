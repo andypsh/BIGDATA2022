{
 "cells": [
  {
   "cell_type": "code",
   "execution_count": 628,
   "metadata": {
    "collapsed": true,
    "pycharm": {
     "name": "#%%\n"
    }
   },
   "outputs": [],
   "source": [
    "import platform\n",
    "import matplotlib\n",
    "import pandas as pd\n",
    "import matplotlib.pyplot as plt\n",
    "from matplotlib import font_manager, rc\n",
    "import seaborn as sns\n",
    "%precision 3\n",
    "from matplotlib import pyplot as plt\n",
    "%matplotlib inline\n",
    "#그래프를 주피터 놋북에 그리기 위해\n",
    "import numpy as np\n",
    "import copy\n",
    "from matplotlib import ticker\n",
    "from scipy.stats import probplot\n",
    "from scipy import stats\n",
    "import math\n",
    "#히스토그램 그리기\n",
    "# Window\n",
    "if platform.system() == 'Windows':\n",
    "    matplotlib.rc('font', family='Malgun Gothic')\n",
    "elif platform.system() == 'Darwin': # Mac\n",
    "    matplotlib.rc('font', family='AppleGothic')\n",
    "else: #linux\n",
    "    matplotlib.rc('font', family='NanumGothic')\n",
    "\n",
    "# 그래프에 마이너스 표시가 되도록 변경\n",
    "matplotlib.rcParams['axes.unicode_minus'] = False\n",
    "\n",
    "# 한글 폰트 설정\n",
    "font_location = 'C:/Windows/Fonts/MALGUNSL.TTF' #맑은고딕\n",
    "font_name = font_manager.FontProperties(fname=font_location).get_name()\n",
    "rc('font',family=font_name)"
   ]
  },
  {
   "cell_type": "code",
   "execution_count": 628,
   "outputs": [],
   "source": [],
   "metadata": {
    "collapsed": false,
    "pycharm": {
     "name": "#%%\n"
    }
   }
  },
  {
   "cell_type": "code",
   "execution_count": 629,
   "outputs": [
    {
     "data": {
      "text/plain": "    가구원 수(명)  외식비(원)\n|x      4.06  175420\ns       1.02   33250",
      "text/html": "<div>\n<style scoped>\n    .dataframe tbody tr th:only-of-type {\n        vertical-align: middle;\n    }\n\n    .dataframe tbody tr th {\n        vertical-align: top;\n    }\n\n    .dataframe thead th {\n        text-align: right;\n    }\n</style>\n<table border=\"1\" class=\"dataframe\">\n  <thead>\n    <tr style=\"text-align: right;\">\n      <th></th>\n      <th>가구원 수(명)</th>\n      <th>외식비(원)</th>\n    </tr>\n  </thead>\n  <tbody>\n    <tr>\n      <th>|x</th>\n      <td>4.06</td>\n      <td>175420</td>\n    </tr>\n    <tr>\n      <th>s</th>\n      <td>1.02</td>\n      <td>33250</td>\n    </tr>\n  </tbody>\n</table>\n</div>"
     },
     "execution_count": 629,
     "metadata": {},
     "output_type": "execute_result"
    }
   ],
   "source": [
    "A = pd.DataFrame({'가구원 수(명)' : [4.06 , 1.02] , '외식비(원)' : [175420 , 33250]})\n",
    "A.index = ['|x' , 's']\n",
    "A"
   ],
   "metadata": {
    "collapsed": false,
    "pycharm": {
     "name": "#%%\n"
    }
   }
  },
  {
   "cell_type": "code",
   "execution_count": 630,
   "outputs": [
    {
     "data": {
      "text/plain": "       가구원 수(명)         외식비(원)\ncount  2.000000       2.000000\nmean   2.540000  104335.000000\nstd    2.149605  100529.371081\nmin    1.020000   33250.000000\n25%    1.780000   68792.500000\n50%    2.540000  104335.000000\n75%    3.300000  139877.500000\nmax    4.060000  175420.000000",
      "text/html": "<div>\n<style scoped>\n    .dataframe tbody tr th:only-of-type {\n        vertical-align: middle;\n    }\n\n    .dataframe tbody tr th {\n        vertical-align: top;\n    }\n\n    .dataframe thead th {\n        text-align: right;\n    }\n</style>\n<table border=\"1\" class=\"dataframe\">\n  <thead>\n    <tr style=\"text-align: right;\">\n      <th></th>\n      <th>가구원 수(명)</th>\n      <th>외식비(원)</th>\n    </tr>\n  </thead>\n  <tbody>\n    <tr>\n      <th>count</th>\n      <td>2.000000</td>\n      <td>2.000000</td>\n    </tr>\n    <tr>\n      <th>mean</th>\n      <td>2.540000</td>\n      <td>104335.000000</td>\n    </tr>\n    <tr>\n      <th>std</th>\n      <td>2.149605</td>\n      <td>100529.371081</td>\n    </tr>\n    <tr>\n      <th>min</th>\n      <td>1.020000</td>\n      <td>33250.000000</td>\n    </tr>\n    <tr>\n      <th>25%</th>\n      <td>1.780000</td>\n      <td>68792.500000</td>\n    </tr>\n    <tr>\n      <th>50%</th>\n      <td>2.540000</td>\n      <td>104335.000000</td>\n    </tr>\n    <tr>\n      <th>75%</th>\n      <td>3.300000</td>\n      <td>139877.500000</td>\n    </tr>\n    <tr>\n      <th>max</th>\n      <td>4.060000</td>\n      <td>175420.000000</td>\n    </tr>\n  </tbody>\n</table>\n</div>"
     },
     "execution_count": 630,
     "metadata": {},
     "output_type": "execute_result"
    }
   ],
   "source": [
    "A.describe()"
   ],
   "metadata": {
    "collapsed": false,
    "pycharm": {
     "name": "#%%\n"
    }
   }
  },
  {
   "cell_type": "code",
   "execution_count": 631,
   "outputs": [
    {
     "data": {
      "text/plain": "       가구원 수(명)         외식비(원)\n|x     4.060000  175420.000000\ns      1.020000   33250.000000\n변동계수  25.123153      18.954509",
      "text/html": "<div>\n<style scoped>\n    .dataframe tbody tr th:only-of-type {\n        vertical-align: middle;\n    }\n\n    .dataframe tbody tr th {\n        vertical-align: top;\n    }\n\n    .dataframe thead th {\n        text-align: right;\n    }\n</style>\n<table border=\"1\" class=\"dataframe\">\n  <thead>\n    <tr style=\"text-align: right;\">\n      <th></th>\n      <th>가구원 수(명)</th>\n      <th>외식비(원)</th>\n    </tr>\n  </thead>\n  <tbody>\n    <tr>\n      <th>|x</th>\n      <td>4.060000</td>\n      <td>175420.000000</td>\n    </tr>\n    <tr>\n      <th>s</th>\n      <td>1.020000</td>\n      <td>33250.000000</td>\n    </tr>\n    <tr>\n      <th>변동계수</th>\n      <td>25.123153</td>\n      <td>18.954509</td>\n    </tr>\n  </tbody>\n</table>\n</div>"
     },
     "execution_count": 631,
     "metadata": {},
     "output_type": "execute_result"
    }
   ],
   "source": [
    "a =  pd.DataFrame([(A.iloc[1,0]/A.iloc[0,0])*100, (A.iloc[1,1]/A.iloc[0,1])*100])\n",
    "a\n",
    "# # a.transpose()\n",
    "a = a.transpose()\n",
    "a = a.rename(columns = {0 : A.columns[0] , 1 : A.columns[1]})\n",
    "a\n",
    "a.index= ['변동계수']\n",
    "A = pd.concat([A ,a])\n",
    "A\n",
    "# a[['계급값(x_i)', 'x_i - |x' , '(x_i - |x)**2', 'f_i_x_i'] ] = '-'\n",
    "# a"
   ],
   "metadata": {
    "collapsed": false,
    "pycharm": {
     "name": "#%%\n"
    }
   }
  },
  {
   "cell_type": "code",
   "execution_count": 632,
   "outputs": [
    {
     "data": {
      "text/plain": "       평균 연봉(만 원)  근속 연수(년)\n회사명                        \n삼성전자        10200       9.3\nSK텔레콤       10500      12.4\nLG전자         6900       8.5\nGS칼텍스        9107      14.6\n롯데쇼핑         3353       5.7\n현대자동차        9400      16.8\n현대케미칼        6779      12.2\n대한항공         6400      13.8\n포스코          7900      18.5\n현대중공업        7232      18.0",
      "text/html": "<div>\n<style scoped>\n    .dataframe tbody tr th:only-of-type {\n        vertical-align: middle;\n    }\n\n    .dataframe tbody tr th {\n        vertical-align: top;\n    }\n\n    .dataframe thead th {\n        text-align: right;\n    }\n</style>\n<table border=\"1\" class=\"dataframe\">\n  <thead>\n    <tr style=\"text-align: right;\">\n      <th></th>\n      <th>평균 연봉(만 원)</th>\n      <th>근속 연수(년)</th>\n    </tr>\n    <tr>\n      <th>회사명</th>\n      <th></th>\n      <th></th>\n    </tr>\n  </thead>\n  <tbody>\n    <tr>\n      <th>삼성전자</th>\n      <td>10200</td>\n      <td>9.3</td>\n    </tr>\n    <tr>\n      <th>SK텔레콤</th>\n      <td>10500</td>\n      <td>12.4</td>\n    </tr>\n    <tr>\n      <th>LG전자</th>\n      <td>6900</td>\n      <td>8.5</td>\n    </tr>\n    <tr>\n      <th>GS칼텍스</th>\n      <td>9107</td>\n      <td>14.6</td>\n    </tr>\n    <tr>\n      <th>롯데쇼핑</th>\n      <td>3353</td>\n      <td>5.7</td>\n    </tr>\n    <tr>\n      <th>현대자동차</th>\n      <td>9400</td>\n      <td>16.8</td>\n    </tr>\n    <tr>\n      <th>현대케미칼</th>\n      <td>6779</td>\n      <td>12.2</td>\n    </tr>\n    <tr>\n      <th>대한항공</th>\n      <td>6400</td>\n      <td>13.8</td>\n    </tr>\n    <tr>\n      <th>포스코</th>\n      <td>7900</td>\n      <td>18.5</td>\n    </tr>\n    <tr>\n      <th>현대중공업</th>\n      <td>7232</td>\n      <td>18.0</td>\n    </tr>\n  </tbody>\n</table>\n</div>"
     },
     "execution_count": 632,
     "metadata": {},
     "output_type": "execute_result"
    }
   ],
   "source": [
    "company = ['삼성전자' , 'SK텔레콤' , 'LG전자' , 'GS칼텍스' , '롯데쇼핑' , '현대자동차' , '현대케미칼' , '대한항공' , '포스코' , '현대중공업']\n",
    "SALARY = [10200,10500,6900,9107,3353,9400,6779,6400,7900,7232]\n",
    "YEAR = [9.3,12.4,8.5,14.6,5.7,16.8,12.2,13.8,18.5,18.0]\n",
    "\n",
    "B = pd.DataFrame({'회사명' : company , '평균 연봉(만 원)' : SALARY , '근속 연수(년)' : YEAR})\n",
    "B = B.set_index('회사명')\n",
    "B"
   ],
   "metadata": {
    "collapsed": false,
    "pycharm": {
     "name": "#%%\n"
    }
   }
  },
  {
   "cell_type": "code",
   "execution_count": 633,
   "outputs": [
    {
     "data": {
      "text/plain": "         평균 연봉(만 원)  근속 연수(년)\n삼성전자          10200       9.3\nSK텔레콤         10500      12.4\nLG전자           6900       8.5\nGS칼텍스          9107      14.6\n롯데쇼핑           3353       5.7\n현대자동차          9400      16.8\n현대케미칼          6779      12.2\n대한항공           6400      13.8\n포스코            7900      18.5\n현대중공업          7232      18.0\n변동계수(CV)   0.275225  0.325967",
      "text/html": "<div>\n<style scoped>\n    .dataframe tbody tr th:only-of-type {\n        vertical-align: middle;\n    }\n\n    .dataframe tbody tr th {\n        vertical-align: top;\n    }\n\n    .dataframe thead th {\n        text-align: right;\n    }\n</style>\n<table border=\"1\" class=\"dataframe\">\n  <thead>\n    <tr style=\"text-align: right;\">\n      <th></th>\n      <th>평균 연봉(만 원)</th>\n      <th>근속 연수(년)</th>\n    </tr>\n  </thead>\n  <tbody>\n    <tr>\n      <th>삼성전자</th>\n      <td>10200</td>\n      <td>9.3</td>\n    </tr>\n    <tr>\n      <th>SK텔레콤</th>\n      <td>10500</td>\n      <td>12.4</td>\n    </tr>\n    <tr>\n      <th>LG전자</th>\n      <td>6900</td>\n      <td>8.5</td>\n    </tr>\n    <tr>\n      <th>GS칼텍스</th>\n      <td>9107</td>\n      <td>14.6</td>\n    </tr>\n    <tr>\n      <th>롯데쇼핑</th>\n      <td>3353</td>\n      <td>5.7</td>\n    </tr>\n    <tr>\n      <th>현대자동차</th>\n      <td>9400</td>\n      <td>16.8</td>\n    </tr>\n    <tr>\n      <th>현대케미칼</th>\n      <td>6779</td>\n      <td>12.2</td>\n    </tr>\n    <tr>\n      <th>대한항공</th>\n      <td>6400</td>\n      <td>13.8</td>\n    </tr>\n    <tr>\n      <th>포스코</th>\n      <td>7900</td>\n      <td>18.5</td>\n    </tr>\n    <tr>\n      <th>현대중공업</th>\n      <td>7232</td>\n      <td>18.0</td>\n    </tr>\n    <tr>\n      <th>변동계수(CV)</th>\n      <td>0.275225</td>\n      <td>0.325967</td>\n    </tr>\n  </tbody>\n</table>\n</div>"
     },
     "execution_count": 633,
     "metadata": {},
     "output_type": "execute_result"
    }
   ],
   "source": [
    "SALARY_CV = np.std(B.iloc[:,0] , ddof =1) / np.mean(B.iloc[:,0])\n",
    "YEAR_CV = np.std(B.iloc[:,1] , ddof =1) / np.mean(B.iloc[:,1])\n",
    "\n",
    "b = pd.DataFrame(['변동계수(CV)' , SALARY_CV , YEAR_CV])\n",
    "b = b.transpose().set_index(0)\n",
    "b  = b.rename(columns = {1 : B.columns[0] , 2 : B.columns[1]})\n",
    "B = pd.concat([B,b])\n",
    "B"
   ],
   "metadata": {
    "collapsed": false,
    "pycharm": {
     "name": "#%%\n"
    }
   }
  },
  {
   "cell_type": "code",
   "execution_count": 634,
   "outputs": [
    {
     "name": "stdout",
     "output_type": "stream",
     "text": [
      "6.082762530298219\n"
     ]
    },
    {
     "data": {
      "text/plain": "               0\ncount   5.000000\nmean   82.000000\nstd     6.082763\nmin    75.000000\n25%    77.000000\n50%    83.000000\n75%    85.000000\nmax    90.000000",
      "text/html": "<div>\n<style scoped>\n    .dataframe tbody tr th:only-of-type {\n        vertical-align: middle;\n    }\n\n    .dataframe tbody tr th {\n        vertical-align: top;\n    }\n\n    .dataframe thead th {\n        text-align: right;\n    }\n</style>\n<table border=\"1\" class=\"dataframe\">\n  <thead>\n    <tr style=\"text-align: right;\">\n      <th></th>\n      <th>0</th>\n    </tr>\n  </thead>\n  <tbody>\n    <tr>\n      <th>count</th>\n      <td>5.000000</td>\n    </tr>\n    <tr>\n      <th>mean</th>\n      <td>82.000000</td>\n    </tr>\n    <tr>\n      <th>std</th>\n      <td>6.082763</td>\n    </tr>\n    <tr>\n      <th>min</th>\n      <td>75.000000</td>\n    </tr>\n    <tr>\n      <th>25%</th>\n      <td>77.000000</td>\n    </tr>\n    <tr>\n      <th>50%</th>\n      <td>83.000000</td>\n    </tr>\n    <tr>\n      <th>75%</th>\n      <td>85.000000</td>\n    </tr>\n    <tr>\n      <th>max</th>\n      <td>90.000000</td>\n    </tr>\n  </tbody>\n</table>\n</div>"
     },
     "execution_count": 634,
     "metadata": {},
     "output_type": "execute_result"
    }
   ],
   "source": [
    "A = [90,85,75,77,83]\n",
    "MEAN = np.mean(A)\n",
    "STD = np.std(A , ddof =1)\n",
    "print(STD)\n",
    "A = pd.DataFrame(A)\n",
    "A.describe()"
   ],
   "metadata": {
    "collapsed": false,
    "pycharm": {
     "name": "#%%\n"
    }
   }
  },
  {
   "cell_type": "code",
   "execution_count": 635,
   "outputs": [
    {
     "data": {
      "text/plain": "   x_i  x_i - |x  z_i = (x_i - |x)/ s\n0   90       8.0             1.315192\n1   85       3.0             0.493197\n2   75      -7.0            -1.150793\n3   77      -5.0            -0.821995\n4   83       1.0             0.164399",
      "text/html": "<div>\n<style scoped>\n    .dataframe tbody tr th:only-of-type {\n        vertical-align: middle;\n    }\n\n    .dataframe tbody tr th {\n        vertical-align: top;\n    }\n\n    .dataframe thead th {\n        text-align: right;\n    }\n</style>\n<table border=\"1\" class=\"dataframe\">\n  <thead>\n    <tr style=\"text-align: right;\">\n      <th></th>\n      <th>x_i</th>\n      <th>x_i - |x</th>\n      <th>z_i = (x_i - |x)/ s</th>\n    </tr>\n  </thead>\n  <tbody>\n    <tr>\n      <th>0</th>\n      <td>90</td>\n      <td>8.0</td>\n      <td>1.315192</td>\n    </tr>\n    <tr>\n      <th>1</th>\n      <td>85</td>\n      <td>3.0</td>\n      <td>0.493197</td>\n    </tr>\n    <tr>\n      <th>2</th>\n      <td>75</td>\n      <td>-7.0</td>\n      <td>-1.150793</td>\n    </tr>\n    <tr>\n      <th>3</th>\n      <td>77</td>\n      <td>-5.0</td>\n      <td>-0.821995</td>\n    </tr>\n    <tr>\n      <th>4</th>\n      <td>83</td>\n      <td>1.0</td>\n      <td>0.164399</td>\n    </tr>\n  </tbody>\n</table>\n</div>"
     },
     "execution_count": 635,
     "metadata": {},
     "output_type": "execute_result"
    }
   ],
   "source": [
    "A = A.rename(columns = {0 : 'x_i'})\n",
    "A['x_i - |x'] = A['x_i'] - MEAN\n",
    "A['z_i = (x_i - |x)/ s'] = A['x_i - |x'] / STD\n",
    "A"
   ],
   "metadata": {
    "collapsed": false,
    "pycharm": {
     "name": "#%%\n"
    }
   }
  },
  {
   "cell_type": "code",
   "execution_count": 636,
   "outputs": [
    {
     "data": {
      "text/plain": "     0   Z-SCORE\n0  562  0.102941\n1  549 -0.088235",
      "text/html": "<div>\n<style scoped>\n    .dataframe tbody tr th:only-of-type {\n        vertical-align: middle;\n    }\n\n    .dataframe tbody tr th {\n        vertical-align: top;\n    }\n\n    .dataframe thead th {\n        text-align: right;\n    }\n</style>\n<table border=\"1\" class=\"dataframe\">\n  <thead>\n    <tr style=\"text-align: right;\">\n      <th></th>\n      <th>0</th>\n      <th>Z-SCORE</th>\n    </tr>\n  </thead>\n  <tbody>\n    <tr>\n      <th>0</th>\n      <td>562</td>\n      <td>0.102941</td>\n    </tr>\n    <tr>\n      <th>1</th>\n      <td>549</td>\n      <td>-0.088235</td>\n    </tr>\n  </tbody>\n</table>\n</div>"
     },
     "execution_count": 636,
     "metadata": {},
     "output_type": "execute_result"
    }
   ],
   "source": [
    "A = [562 , 549]\n",
    "\n",
    "A = pd.DataFrame(A)\n",
    "A['Z-SCORE'] = (A[0] - 555) / 68\n",
    "A"
   ],
   "metadata": {
    "collapsed": false,
    "pycharm": {
     "name": "#%%\n"
    }
   }
  },
  {
   "cell_type": "code",
   "execution_count": 637,
   "outputs": [
    {
     "data": {
      "text/plain": "[25,\n 36,\n 38,\n 43,\n 48,\n 50,\n 57,\n 60,\n 60,\n 62,\n 62,\n 67,\n 78,\n 79,\n 83,\n 84,\n 87,\n 90,\n 94,\n 97]"
     },
     "execution_count": 637,
     "metadata": {},
     "output_type": "execute_result"
    }
   ],
   "source": [
    "A = [67,84,79,62,78,36,38,57,48,87,83,90,60,25,50,94,60,62,97,43]\n",
    "A = sorted(A)\n",
    "A"
   ],
   "metadata": {
    "collapsed": false,
    "pycharm": {
     "name": "#%%\n"
    }
   }
  },
  {
   "cell_type": "code",
   "execution_count": 638,
   "outputs": [
    {
     "name": "stdout",
     "output_type": "stream",
     "text": [
      "20\n",
      "6.0\n",
      "30-백분위수 : 53.5\n",
      "25-백분위수 : 49.0\n",
      "50-백분위수 : 62.0\n",
      "75-백분위수 : 83.5\n"
     ]
    }
   ],
   "source": [
    "print(len(A))\n",
    "\n",
    "n = len(A)\n",
    "k =  30\n",
    "m = n*k / 100\n",
    "print(m)\n",
    "\n",
    "P_30 = (A[5]+ A[6]) / 2 #6번째수 , 7번째수\n",
    "print(\"30-백분위수 : {}\".format(P_30)) # 30-백분위수\n",
    "\n",
    "k = 25\n",
    "m = int(n*k / 100)\n",
    "P_25 = (A[m-1] + A[m]) / 2\n",
    "print(\"25-백분위수 : {}\".format(P_25)) #25-백분위수\n",
    "\n",
    "k = 50\n",
    "m = int(n*k / 100)\n",
    "P_50 = (A[m-1] + A[m]) / 2\n",
    "print(\"50-백분위수 : {}\".format(P_50)) #50-백분위수\n",
    "\n",
    "k = 75\n",
    "m = int(n*k / 100)\n",
    "P_75 = (A[m-1] + A[m]) / 2\n",
    "print(\"75-백분위수 : {}\".format(P_75)) #75-백분위수\n"
   ],
   "metadata": {
    "collapsed": false,
    "pycharm": {
     "name": "#%%\n"
    }
   }
  },
  {
   "cell_type": "code",
   "execution_count": 639,
   "outputs": [
    {
     "name": "stdout",
     "output_type": "stream",
     "text": [
      "25\n"
     ]
    }
   ],
   "source": [
    "A = [161,144,129,162,186,163,138,172,148,157,183,129,160,152,150,194,136,122,197,143,145,176,181,157,189]\n",
    "A = sorted(A)\n",
    "print(len(A))\n"
   ],
   "metadata": {
    "collapsed": false,
    "pycharm": {
     "name": "#%%\n"
    }
   }
  },
  {
   "cell_type": "code",
   "execution_count": 640,
   "outputs": [
    {
     "name": "stdout",
     "output_type": "stream",
     "text": [
      "17\n",
      "70-백분위수 : 167.5\n",
      "6\n",
      "25-백분위수 : 143.5\n",
      "12\n",
      "50-백분위수 : 157.0\n",
      "18\n",
      "75-백분위수 : 174.0\n"
     ]
    }
   ],
   "source": [
    "n = len(A)\n",
    "k = [70, 25 ,50 ,75]\n",
    "for i in k:\n",
    "    m = int(n*i /100)\n",
    "    print(m)\n",
    "    print(\"{}-백분위수 : {}\".format(i, (A[m-1] + A[m]) /2))\n",
    "\n"
   ],
   "metadata": {
    "collapsed": false,
    "pycharm": {
     "name": "#%%\n"
    }
   }
  },
  {
   "cell_type": "code",
   "execution_count": 641,
   "outputs": [
    {
     "data": {
      "text/plain": "       0\n0   46.2\n1   47.6\n2   48.3\n3   48.5\n4   48.5\n5   48.6\n6   48.6\n7   48.7\n8   48.7\n9   48.7\n10  49.0\n11  49.1\n12  49.1\n13  49.1\n14  49.3\n15  49.4\n16  49.5\n17  49.6\n18  49.6\n19  49.6\n20  49.7\n21  49.7\n22  49.7\n23  49.8\n24  49.8\n25  49.8\n26  49.9\n27  50.0\n28  50.1\n29  50.2\n30  50.4\n31  50.4\n32  50.4\n33  50.5\n34  50.5\n35  50.5\n36  50.6\n37  50.7\n38  50.7\n39  50.9\n40  50.9\n41  51.0\n42  51.0\n43  51.1\n44  51.2\n45  51.3\n46  51.5\n47  51.6\n48  51.9\n49  52.0",
      "text/html": "<div>\n<style scoped>\n    .dataframe tbody tr th:only-of-type {\n        vertical-align: middle;\n    }\n\n    .dataframe tbody tr th {\n        vertical-align: top;\n    }\n\n    .dataframe thead th {\n        text-align: right;\n    }\n</style>\n<table border=\"1\" class=\"dataframe\">\n  <thead>\n    <tr style=\"text-align: right;\">\n      <th></th>\n      <th>0</th>\n    </tr>\n  </thead>\n  <tbody>\n    <tr>\n      <th>0</th>\n      <td>46.2</td>\n    </tr>\n    <tr>\n      <th>1</th>\n      <td>47.6</td>\n    </tr>\n    <tr>\n      <th>2</th>\n      <td>48.3</td>\n    </tr>\n    <tr>\n      <th>3</th>\n      <td>48.5</td>\n    </tr>\n    <tr>\n      <th>4</th>\n      <td>48.5</td>\n    </tr>\n    <tr>\n      <th>5</th>\n      <td>48.6</td>\n    </tr>\n    <tr>\n      <th>6</th>\n      <td>48.6</td>\n    </tr>\n    <tr>\n      <th>7</th>\n      <td>48.7</td>\n    </tr>\n    <tr>\n      <th>8</th>\n      <td>48.7</td>\n    </tr>\n    <tr>\n      <th>9</th>\n      <td>48.7</td>\n    </tr>\n    <tr>\n      <th>10</th>\n      <td>49.0</td>\n    </tr>\n    <tr>\n      <th>11</th>\n      <td>49.1</td>\n    </tr>\n    <tr>\n      <th>12</th>\n      <td>49.1</td>\n    </tr>\n    <tr>\n      <th>13</th>\n      <td>49.1</td>\n    </tr>\n    <tr>\n      <th>14</th>\n      <td>49.3</td>\n    </tr>\n    <tr>\n      <th>15</th>\n      <td>49.4</td>\n    </tr>\n    <tr>\n      <th>16</th>\n      <td>49.5</td>\n    </tr>\n    <tr>\n      <th>17</th>\n      <td>49.6</td>\n    </tr>\n    <tr>\n      <th>18</th>\n      <td>49.6</td>\n    </tr>\n    <tr>\n      <th>19</th>\n      <td>49.6</td>\n    </tr>\n    <tr>\n      <th>20</th>\n      <td>49.7</td>\n    </tr>\n    <tr>\n      <th>21</th>\n      <td>49.7</td>\n    </tr>\n    <tr>\n      <th>22</th>\n      <td>49.7</td>\n    </tr>\n    <tr>\n      <th>23</th>\n      <td>49.8</td>\n    </tr>\n    <tr>\n      <th>24</th>\n      <td>49.8</td>\n    </tr>\n    <tr>\n      <th>25</th>\n      <td>49.8</td>\n    </tr>\n    <tr>\n      <th>26</th>\n      <td>49.9</td>\n    </tr>\n    <tr>\n      <th>27</th>\n      <td>50.0</td>\n    </tr>\n    <tr>\n      <th>28</th>\n      <td>50.1</td>\n    </tr>\n    <tr>\n      <th>29</th>\n      <td>50.2</td>\n    </tr>\n    <tr>\n      <th>30</th>\n      <td>50.4</td>\n    </tr>\n    <tr>\n      <th>31</th>\n      <td>50.4</td>\n    </tr>\n    <tr>\n      <th>32</th>\n      <td>50.4</td>\n    </tr>\n    <tr>\n      <th>33</th>\n      <td>50.5</td>\n    </tr>\n    <tr>\n      <th>34</th>\n      <td>50.5</td>\n    </tr>\n    <tr>\n      <th>35</th>\n      <td>50.5</td>\n    </tr>\n    <tr>\n      <th>36</th>\n      <td>50.6</td>\n    </tr>\n    <tr>\n      <th>37</th>\n      <td>50.7</td>\n    </tr>\n    <tr>\n      <th>38</th>\n      <td>50.7</td>\n    </tr>\n    <tr>\n      <th>39</th>\n      <td>50.9</td>\n    </tr>\n    <tr>\n      <th>40</th>\n      <td>50.9</td>\n    </tr>\n    <tr>\n      <th>41</th>\n      <td>51.0</td>\n    </tr>\n    <tr>\n      <th>42</th>\n      <td>51.0</td>\n    </tr>\n    <tr>\n      <th>43</th>\n      <td>51.1</td>\n    </tr>\n    <tr>\n      <th>44</th>\n      <td>51.2</td>\n    </tr>\n    <tr>\n      <th>45</th>\n      <td>51.3</td>\n    </tr>\n    <tr>\n      <th>46</th>\n      <td>51.5</td>\n    </tr>\n    <tr>\n      <th>47</th>\n      <td>51.6</td>\n    </tr>\n    <tr>\n      <th>48</th>\n      <td>51.9</td>\n    </tr>\n    <tr>\n      <th>49</th>\n      <td>52.0</td>\n    </tr>\n  </tbody>\n</table>\n</div>"
     },
     "execution_count": 641,
     "metadata": {},
     "output_type": "execute_result"
    }
   ],
   "source": [
    "A = [49.6,50.5,49.9,51.6,49.6,48.7,49.7,49.1,48.7,51.0,\n",
    "     50.1,48.7,50.4,50.6,51.5,49.4,51.1,49.8,49.8,49.0,\n",
    "     46.2,50.4,49.1,50.5,50.9,49.8,49.6,49.3,50.5,50.2,\n",
    "     52.0,50.7,50.4,48.6,50.9,51.2,50.7,48.5,50.0,51.3,\n",
    "     47.6,49.1,51.0,51.9,49.5,49.7,48.6,49.7,48.5,48.3]\n",
    "\n",
    "A = sorted(A)\n",
    "B = pd.DataFrame(A)\n",
    "B"
   ],
   "metadata": {
    "collapsed": false,
    "pycharm": {
     "name": "#%%\n"
    }
   }
  },
  {
   "cell_type": "code",
   "execution_count": 642,
   "outputs": [
    {
     "name": "stdout",
     "output_type": "stream",
     "text": [
      "49.1\n",
      "49.8\n",
      "50.7\n",
      "Q1 : 49.1\n",
      "Q2 : 49.8\n",
      "Q3 : 50.7\n",
      "IQR: 1.6\n",
      "fl : 46.7\n",
      "fu : 53.1\n",
      "fL : 44.3\n",
      "fU : 55.5\n",
      "B.quantile(0)[0] : 46.2\n",
      "B.quantile(1)[0] : 52.0\n",
      "B.quantile(.25)[0] : 49.1\n"
     ]
    },
    {
     "data": {
      "text/plain": "<Figure size 1080x1080 with 1 Axes>",
      "image/png": "[encoded data removed]"
     },
     "metadata": {
      "needs_background": "light"
     },
     "output_type": "display_data"
    }
   ],
   "source": [
    "fig = plt.figure(figsize=(15,15))\n",
    "\n",
    "ax = sns.boxplot(data = B)\n",
    "\n",
    "\n",
    "\n",
    "n = len(B)\n",
    "k = [25,50,75] #Q1\n",
    "for i in k:\n",
    "    m = int((n*i) / 100)\n",
    "    P_25 = round((A[m-1] + A[m]) /2 ,1)\n",
    "    print(P_25)\n",
    "\n",
    "\n",
    "Q1 = round(B.quantile(.25)[0] , 1)\n",
    "Q2 = round(B.quantile(.5)[0] , 1)\n",
    "Q3 = round(B.quantile(.75)[0] , 1)\n",
    "print(\"Q1 : {}\".format(Q1))\n",
    "print(\"Q2 : {}\".format(Q2))\n",
    "print(\"Q3 : {}\".format(Q3))\n",
    "IQR = round(Q3 - Q1 , 1) #1.6\n",
    "print(\"IQR: {}\".format(IQR))\n",
    "\n",
    "fl = round(Q1 - (1.5) * IQR ,1) #아래쪽 안 울타리\n",
    "print('fl : {}'.format(fl))\n",
    "fu = round(Q3 +(1.5) * IQR,1) #위쪽 안 울타리\n",
    "print('fu : {}'.format(fu))\n",
    "fL = round(Q1 - 3*IQR,1) #아래쪽 밖 울타리\n",
    "print('fL : {}'.format(fL))\n",
    "fU = round(Q3 + 3*IQR,1) #위쪽 밖 울타리\n",
    "print('fU : {}'.format(fU))\n",
    "\n",
    "print(\"B.quantile(0)[0] : {}\".format(B.quantile(0)[0]))\n",
    "print(\"B.quantile(1)[0] : {}\".format(B.quantile(1)[0]))\n",
    "print(\"B.quantile(.25)[0] : {}\".format(B.quantile(.25)[0]))\n",
    "ax.set_ylim(B.quantile(0)[0] -5, B.quantile(1)[0] +5)\n",
    "ax.set_xlabel('Data Type')\n",
    "plt.annotate('' , xy=(0.5, np.median(B)), xytext=(0.4 , np.median(B))  , arrowprops = dict(facecolor = 'black'))\n",
    "plt.text(0.5, np.median(B), '중위값, : {}'.format(B.quantile(.5)[0]), fontsize=14)\n",
    "\n",
    "\n",
    "plt.annotate('' , xy=(0.5, Q1), xytext=(0.4 , Q1)  , arrowprops = dict(facecolor = 'black'))\n",
    "plt.text(0.5, Q1, '제 1분위수, : {}'.format(Q1), fontsize=14 , color= 'red')\n",
    "\n",
    "plt.annotate('' , xy=(0.5, Q3), xytext=(0.4 , Q3)  , arrowprops = dict(facecolor = 'black'))\n",
    "plt.text(0.5, Q3, '제 3분위수, : {}'.format(Q3), fontsize=14 , color= 'red')\n",
    "\n",
    "plt.annotate('' , xy=(0.5, round(B.quantile(1)[0] ,1)), xytext=(0.01 , round(B.quantile(1)[0] ,1))  , arrowprops = dict(facecolor = 'black'))\n",
    "plt.text(0.5, round(B.quantile(1)[0] ,1), '인접값 , {}'.format(round(B.quantile(1)[0] ,1)), fontsize=14, color= 'red' )\n",
    "\n",
    "plt.annotate('' , xy=(0.5, Q1 - IQR), xytext=(0.2 , Q1 - IQR)  , arrowprops = dict(facecolor = 'black'))\n",
    "plt.text(0.5, Q1 - IQR, '인접값 , {}'.format(Q1 - IQR), fontsize=14, color= 'red' ) #왜 다를까?\n",
    "\n",
    "plt.annotate('' , xy=(0.2, round(B.quantile(0)[0] , 1)), xytext=(0.01, round(B.quantile(0)[0] , 1))  , arrowprops = dict(facecolor = 'black'))\n",
    "plt.text(0.2, round(B.quantile(0)[0] , 1), '특이값 , {}'.format(round(B.quantile(0)[0] , 1)), fontsize=14 , color= 'red')\n",
    "\n",
    "plt.annotate('' , xy=(0.2, fl), xytext=(0.01, fl)  , arrowprops = dict(facecolor = 'black'))\n",
    "plt.text(0.2, fl, '아래쪽 안울타리의 인접값 , {}'.format(fl), fontsize=14 , color= 'red')\n",
    "\n",
    "\n",
    "plt.annotate('' , xy=(0.2, fu), xytext=(0.01, fu)  , arrowprops = dict(facecolor = 'black'))\n",
    "plt.text(0.2, fu, '위쪽 안울타리의 인접값 , {}'.format(fu), fontsize=14 , color= 'red')\n",
    "\n",
    "\n",
    "plt.annotate('' , xy=(0.2, fU), xytext=(0.01, fU)  , arrowprops = dict(facecolor = 'black'))\n",
    "plt.text(0.2, fU, '위쪽 밖울타리의 인접값 , {}'.format(fU), fontsize=14 , color= 'red')\n",
    "\n",
    "\n",
    "plt.annotate('' , xy=(0.2, fL), xytext=(0.01, fL)  , arrowprops = dict(facecolor = 'black'))\n",
    "plt.text(0.2, fL, '아래쪽 밖울타리의 인접값 , {}'.format(fL), fontsize=14 , color= 'red')\n",
    "\n",
    "\n",
    "\n",
    "plt.show()"
   ],
   "metadata": {
    "collapsed": false,
    "pycharm": {
     "name": "#%%\n"
    }
   }
  },
  {
   "cell_type": "code",
   "execution_count": 643,
   "outputs": [
    {
     "data": {
      "text/plain": "Text(0, 0.5, 'Value')"
     },
     "execution_count": 643,
     "metadata": {},
     "output_type": "execute_result"
    },
    {
     "data": {
      "text/plain": "<Figure size 432x288 with 1 Axes>",
      "image/png": "[encoded data removed]"
     },
     "metadata": {
      "needs_background": "light"
     },
     "output_type": "display_data"
    }
   ],
   "source": [
    "fig , ax = plt.subplots()\n",
    "\n",
    "ax.boxplot(B)\n",
    "ax.set_ylim(44.0, 55.0)\n",
    "ax.set_xlabel('Data Type')\n",
    "plt.text(1, np.median(B), 'Outliers beyond beyond 50% value', fontsize=10)\n",
    "ax.set_ylabel('Value')"
   ],
   "metadata": {
    "collapsed": false,
    "pycharm": {
     "name": "#%%\n"
    }
   }
  },
  {
   "cell_type": "code",
   "execution_count": 644,
   "outputs": [
    {
     "data": {
      "text/plain": "     0\n0   20\n1   46\n2   46\n3   46\n4   47\n5   47\n6   47\n7   47\n8   47\n9   47\n10  47\n11  47\n12  48\n13  48\n14  48\n15  48\n16  48\n17  49\n18  49\n19  49\n20  49\n21  49\n22  49\n23  49\n24  49\n25  49\n26  50\n27  50\n28  50\n29  51\n30  52\n31  52\n32  53\n33  53\n34  53\n35  53\n36  54\n37  55\n38  55\n39  55\n40  56\n41  56\n42  57\n43  57\n44  58\n45  58\n46  58\n47  58\n48  59\n49  95",
      "text/html": "<div>\n<style scoped>\n    .dataframe tbody tr th:only-of-type {\n        vertical-align: middle;\n    }\n\n    .dataframe tbody tr th {\n        vertical-align: top;\n    }\n\n    .dataframe thead th {\n        text-align: right;\n    }\n</style>\n<table border=\"1\" class=\"dataframe\">\n  <thead>\n    <tr style=\"text-align: right;\">\n      <th></th>\n      <th>0</th>\n    </tr>\n  </thead>\n  <tbody>\n    <tr>\n      <th>0</th>\n      <td>20</td>\n    </tr>\n    <tr>\n      <th>1</th>\n      <td>46</td>\n    </tr>\n    <tr>\n      <th>2</th>\n      <td>46</td>\n    </tr>\n    <tr>\n      <th>3</th>\n      <td>46</td>\n    </tr>\n    <tr>\n      <th>4</th>\n      <td>47</td>\n    </tr>\n    <tr>\n      <th>5</th>\n      <td>47</td>\n    </tr>\n    <tr>\n      <th>6</th>\n      <td>47</td>\n    </tr>\n    <tr>\n      <th>7</th>\n      <td>47</td>\n    </tr>\n    <tr>\n      <th>8</th>\n      <td>47</td>\n    </tr>\n    <tr>\n      <th>9</th>\n      <td>47</td>\n    </tr>\n    <tr>\n      <th>10</th>\n      <td>47</td>\n    </tr>\n    <tr>\n      <th>11</th>\n      <td>47</td>\n    </tr>\n    <tr>\n      <th>12</th>\n      <td>48</td>\n    </tr>\n    <tr>\n      <th>13</th>\n      <td>48</td>\n    </tr>\n    <tr>\n      <th>14</th>\n      <td>48</td>\n    </tr>\n    <tr>\n      <th>15</th>\n      <td>48</td>\n    </tr>\n    <tr>\n      <th>16</th>\n      <td>48</td>\n    </tr>\n    <tr>\n      <th>17</th>\n      <td>49</td>\n    </tr>\n    <tr>\n      <th>18</th>\n      <td>49</td>\n    </tr>\n    <tr>\n      <th>19</th>\n      <td>49</td>\n    </tr>\n    <tr>\n      <th>20</th>\n      <td>49</td>\n    </tr>\n    <tr>\n      <th>21</th>\n      <td>49</td>\n    </tr>\n    <tr>\n      <th>22</th>\n      <td>49</td>\n    </tr>\n    <tr>\n      <th>23</th>\n      <td>49</td>\n    </tr>\n    <tr>\n      <th>24</th>\n      <td>49</td>\n    </tr>\n    <tr>\n      <th>25</th>\n      <td>49</td>\n    </tr>\n    <tr>\n      <th>26</th>\n      <td>50</td>\n    </tr>\n    <tr>\n      <th>27</th>\n      <td>50</td>\n    </tr>\n    <tr>\n      <th>28</th>\n      <td>50</td>\n    </tr>\n    <tr>\n      <th>29</th>\n      <td>51</td>\n    </tr>\n    <tr>\n      <th>30</th>\n      <td>52</td>\n    </tr>\n    <tr>\n      <th>31</th>\n      <td>52</td>\n    </tr>\n    <tr>\n      <th>32</th>\n      <td>53</td>\n    </tr>\n    <tr>\n      <th>33</th>\n      <td>53</td>\n    </tr>\n    <tr>\n      <th>34</th>\n      <td>53</td>\n    </tr>\n    <tr>\n      <th>35</th>\n      <td>53</td>\n    </tr>\n    <tr>\n      <th>36</th>\n      <td>54</td>\n    </tr>\n    <tr>\n      <th>37</th>\n      <td>55</td>\n    </tr>\n    <tr>\n      <th>38</th>\n      <td>55</td>\n    </tr>\n    <tr>\n      <th>39</th>\n      <td>55</td>\n    </tr>\n    <tr>\n      <th>40</th>\n      <td>56</td>\n    </tr>\n    <tr>\n      <th>41</th>\n      <td>56</td>\n    </tr>\n    <tr>\n      <th>42</th>\n      <td>57</td>\n    </tr>\n    <tr>\n      <th>43</th>\n      <td>57</td>\n    </tr>\n    <tr>\n      <th>44</th>\n      <td>58</td>\n    </tr>\n    <tr>\n      <th>45</th>\n      <td>58</td>\n    </tr>\n    <tr>\n      <th>46</th>\n      <td>58</td>\n    </tr>\n    <tr>\n      <th>47</th>\n      <td>58</td>\n    </tr>\n    <tr>\n      <th>48</th>\n      <td>59</td>\n    </tr>\n    <tr>\n      <th>49</th>\n      <td>95</td>\n    </tr>\n  </tbody>\n</table>\n</div>"
     },
     "execution_count": 644,
     "metadata": {},
     "output_type": "execute_result"
    }
   ],
   "source": [
    "A = [55,48,50,49,54,58,95,20,50,57,\n",
    "     47,49,58,48,49,47,49,59,47,53,\n",
    "     50,49,49,46,55,53,48,47,52,48\n",
    "     ,49,47,58,57,47,53,56,51,46,52,\n",
    "     47,53,46,49,56,48,49,47,58,55]\n",
    "\n",
    "A = sorted(A)\n",
    "B = pd.DataFrame(A)\n",
    "B"
   ],
   "metadata": {
    "collapsed": false,
    "pycharm": {
     "name": "#%%\n"
    }
   }
  },
  {
   "cell_type": "code",
   "execution_count": 645,
   "outputs": [
    {
     "data": {
      "text/plain": "               0\ncount  50.000000\nmean   51.260000\nstd     8.616098\nmin    20.000000\n25%    48.000000\n50%    49.000000\n75%    54.750000\nmax    95.000000",
      "text/html": "<div>\n<style scoped>\n    .dataframe tbody tr th:only-of-type {\n        vertical-align: middle;\n    }\n\n    .dataframe tbody tr th {\n        vertical-align: top;\n    }\n\n    .dataframe thead th {\n        text-align: right;\n    }\n</style>\n<table border=\"1\" class=\"dataframe\">\n  <thead>\n    <tr style=\"text-align: right;\">\n      <th></th>\n      <th>0</th>\n    </tr>\n  </thead>\n  <tbody>\n    <tr>\n      <th>count</th>\n      <td>50.000000</td>\n    </tr>\n    <tr>\n      <th>mean</th>\n      <td>51.260000</td>\n    </tr>\n    <tr>\n      <th>std</th>\n      <td>8.616098</td>\n    </tr>\n    <tr>\n      <th>min</th>\n      <td>20.000000</td>\n    </tr>\n    <tr>\n      <th>25%</th>\n      <td>48.000000</td>\n    </tr>\n    <tr>\n      <th>50%</th>\n      <td>49.000000</td>\n    </tr>\n    <tr>\n      <th>75%</th>\n      <td>54.750000</td>\n    </tr>\n    <tr>\n      <th>max</th>\n      <td>95.000000</td>\n    </tr>\n  </tbody>\n</table>\n</div>"
     },
     "execution_count": 645,
     "metadata": {},
     "output_type": "execute_result"
    }
   ],
   "source": [
    "B.describe()"
   ],
   "metadata": {
    "collapsed": false,
    "pycharm": {
     "name": "#%%\n"
    }
   }
  },
  {
   "cell_type": "code",
   "execution_count": 646,
   "outputs": [
    {
     "name": "stdout",
     "output_type": "stream",
     "text": [
      "47\n",
      "49\n",
      "54\n",
      "IQR: 6.75\n",
      "fl : 37.88\n",
      "fu : 64.88\n",
      "fL : 27.75\n",
      "fU : 75.0\n",
      "B.quantile(0)[0] : 20.0\n",
      "B.quantile(1)[0] : 95.0\n",
      "B.quantile(.25)[0] : 48.0\n"
     ]
    },
    {
     "data": {
      "text/plain": "<Figure size 1080x1080 with 1 Axes>",
      "image/png": "[encoded data removed]"
     },
     "metadata": {
      "needs_background": "light"
     },
     "output_type": "display_data"
    }
   ],
   "source": [
    "fig = plt.figure(figsize=(15,15))\n",
    "\n",
    "ax = sns.boxplot(data = A)\n",
    "\n",
    "\n",
    "\n",
    "n = len(B)\n",
    "k = [25,50,75] #Q1\n",
    "for i in k:\n",
    "    m = int((n*i) / 100)\n",
    "    P_25 = int((A[m-1] + A[m]) /2)\n",
    "    print(P_25)\n",
    "\n",
    "\n",
    "Q1 = round(B.quantile(.25)[0] , 2)\n",
    "Q2 = round(B.quantile(.5)[0] , 2)\n",
    "Q3 = round(B.quantile(.75)[0] , 2)\n",
    "\n",
    "IQR = round(Q3 - Q1 , 2) #6.75\n",
    "print(\"IQR: {}\".format(IQR))\n",
    "\n",
    "fl = round(Q1 - (1.5) * IQR ,2) #아래쪽 안 울타리\n",
    "print('fl : {}'.format(fl))\n",
    "fu = round(Q3 +(1.5) * IQR,2) #위쪽 안 울타리\n",
    "print('fu : {}'.format(fu))\n",
    "fL = round(Q1 - 3*IQR,2) #아래쪽 밖 울타리\n",
    "print('fL : {}'.format(fL))\n",
    "fU = round(Q3 + 3*IQR,2) #위쪽 밖 울타리\n",
    "print('fU : {}'.format(fU))\n",
    "\n",
    "print(\"B.quantile(0)[0] : {}\".format(B.quantile(0)[0]))\n",
    "print(\"B.quantile(1)[0] : {}\".format(B.quantile(1)[0]))\n",
    "print(\"B.quantile(.25)[0] : {}\".format(B.quantile(.25)[0]))\n",
    "ax.set_ylim(B.quantile(0)[0] -5, B.quantile(1)[0] +5)\n",
    "ax.set_xlabel('Data Type')\n",
    "plt.annotate('' , xy=(0.5, np.median(B)), xytext=(0.4 , np.median(B))  , arrowprops = dict(facecolor = 'black'))\n",
    "plt.text(0.5, np.median(B), '중위값, : {}'.format(B.quantile(.5)[0]), fontsize=14)\n",
    "\n",
    "\n",
    "plt.annotate('' , xy=(0.5, Q1-3), xytext=(0.4 , Q1)  , arrowprops = dict(facecolor = 'black'))\n",
    "plt.text(0.5, Q1-3, '제 1분위수, : {}'.format(Q1), fontsize=14 , color= 'red')\n",
    "\n",
    "plt.annotate('' , xy=(0.5, Q3), xytext=(0.4 , Q3)  , arrowprops = dict(facecolor = 'black'))\n",
    "plt.text(0.5, Q3, '제 3분위수, : {}'.format(Q3), fontsize=14 , color= 'red')\n",
    "\n",
    "plt.annotate('' , xy=(0.5, B.quantile(1)), xytext=(0.01 , B.quantile(1))  , arrowprops = dict(facecolor = 'black'))\n",
    "plt.text(0.5, B.quantile(1), '인접값 , {}'.format(B.quantile(1)[0]), fontsize=14, color= 'red' )\n",
    "\n",
    "plt.annotate('' , xy=(0.5, Q1 - IQR+0.08), xytext=(0.2 , Q1 - IQR+0.08)  , arrowprops = dict(facecolor = 'black'))\n",
    "plt.text(0.5, Q1 - IQR+0.08, '인접값 , {}'.format(Q1 - IQR+0.08), fontsize=14, color= 'red' ) #왜 다를까?\n",
    "\n",
    "plt.annotate('' , xy=(0.2, B.quantile(0)), xytext=(0.01, B.quantile(0))  , arrowprops = dict(facecolor = 'black'))\n",
    "plt.text(0.2, B.quantile(0), '특이값 , {}'.format(B.quantile(0)[0]), fontsize=14 , color= 'red')\n",
    "\n",
    "plt.annotate('' , xy=(0.2, fl), xytext=(0.01, fl)  , arrowprops = dict(facecolor = 'black'))\n",
    "plt.text(0.2, fl, '아래쪽 안울타리의 인접값 , {}'.format(fl), fontsize=14 , color= 'red')\n",
    "\n",
    "\n",
    "plt.annotate('' , xy=(0.2, fu), xytext=(0.01, fu)  , arrowprops = dict(facecolor = 'black'))\n",
    "plt.text(0.2, fu, '위쪽 안울타리의 인접값 , {}'.format(fu), fontsize=14 , color= 'red')\n",
    "\n",
    "\n",
    "plt.annotate('' , xy=(0.2, fU), xytext=(0.01, fU)  , arrowprops = dict(facecolor = 'black'))\n",
    "plt.text(0.2, fU, '위쪽 밖울타리의 인접값 , {}'.format(fU), fontsize=14 , color= 'red')\n",
    "\n",
    "\n",
    "plt.annotate('' , xy=(0.2, fL), xytext=(0.01, fL)  , arrowprops = dict(facecolor = 'black'))\n",
    "plt.text(0.2, fL, '아래쪽 밖울타리의 인접값 , {}'.format(fL), fontsize=14 , color= 'red')\n",
    "\n",
    "\n",
    "\n",
    "plt.show()"
   ],
   "metadata": {
    "collapsed": false,
    "pycharm": {
     "name": "#%%\n"
    }
   }
  },
  {
   "cell_type": "code",
   "execution_count": 646,
   "outputs": [],
   "source": [],
   "metadata": {
    "collapsed": false,
    "pycharm": {
     "name": "#%%\n"
    }
   }
  }
 ],
 "metadata": {
  "kernelspec": {
   "display_name": "Python 3",
   "language": "python",
   "name": "python3"
  },
  "language_info": {
   "codemirror_mode": {
    "name": "ipython",
    "version": 2
   },
   "file_extension": ".py",
   "mimetype": "text/x-python",
   "name": "python",
   "nbconvert_exporter": "python",
   "pygments_lexer": "ipython2",
   "version": "2.7.6"
  }
 },
 "nbformat": 4,
 "nbformat_minor": 0
}