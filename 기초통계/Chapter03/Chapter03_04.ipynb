{
 "cells": [
  {
   "cell_type": "code",
   "execution_count": 289,
   "metadata": {
    "collapsed": true,
    "pycharm": {
     "name": "#%%\n"
    }
   },
   "outputs": [],
   "source": [
    "import platform\n",
    "import matplotlib\n",
    "import pandas as pd\n",
    "import matplotlib.pyplot as plt\n",
    "from matplotlib import font_manager, rc\n",
    "import seaborn as sns\n",
    "%precision 3\n",
    "from matplotlib import pyplot as plt\n",
    "%matplotlib inline\n",
    "#그래프를 주피터 놋북에 그리기 위해\n",
    "import numpy as np\n",
    "import copy\n",
    "from matplotlib import ticker\n",
    "from scipy.stats import probplot\n",
    "from scipy import stats\n",
    "import math\n",
    "#히스토그램 그리기\n",
    "# Window\n",
    "if platform.system() == 'Windows':\n",
    "    matplotlib.rc('font', family='Malgun Gothic')\n",
    "elif platform.system() == 'Darwin': # Mac\n",
    "    matplotlib.rc('font', family='AppleGothic')\n",
    "else: #linux\n",
    "    matplotlib.rc('font', family='NanumGothic')\n",
    "\n",
    "# 그래프에 마이너스 표시가 되도록 변경\n",
    "matplotlib.rcParams['axes.unicode_minus'] = False\n",
    "\n",
    "# 한글 폰트 설정\n",
    "font_location = 'C:/Windows/Fonts/MALGUNSL.TTF' #맑은고딕\n",
    "font_name = font_manager.FontProperties(fname=font_location).get_name()\n",
    "rc('font',family=font_name)"
   ]
  },
  {
   "cell_type": "code",
   "execution_count": 290,
   "outputs": [
    {
     "data": {
      "text/plain": "     월   화   수   목   금   토   일\n최저  21  22  22  23  23  24  24\n최고  27  28  29  30  31  32  31",
      "text/html": "<div>\n<style scoped>\n    .dataframe tbody tr th:only-of-type {\n        vertical-align: middle;\n    }\n\n    .dataframe tbody tr th {\n        vertical-align: top;\n    }\n\n    .dataframe thead th {\n        text-align: right;\n    }\n</style>\n<table border=\"1\" class=\"dataframe\">\n  <thead>\n    <tr style=\"text-align: right;\">\n      <th></th>\n      <th>월</th>\n      <th>화</th>\n      <th>수</th>\n      <th>목</th>\n      <th>금</th>\n      <th>토</th>\n      <th>일</th>\n    </tr>\n  </thead>\n  <tbody>\n    <tr>\n      <th>최저</th>\n      <td>21</td>\n      <td>22</td>\n      <td>22</td>\n      <td>23</td>\n      <td>23</td>\n      <td>24</td>\n      <td>24</td>\n    </tr>\n    <tr>\n      <th>최고</th>\n      <td>27</td>\n      <td>28</td>\n      <td>29</td>\n      <td>30</td>\n      <td>31</td>\n      <td>32</td>\n      <td>31</td>\n    </tr>\n  </tbody>\n</table>\n</div>"
     },
     "execution_count": 290,
     "metadata": {},
     "output_type": "execute_result"
    }
   ],
   "source": [
    "A = pd.DataFrame({'월' : [21,27] , '화' : [22,28] , '수' : [22,29] , '목' : [23,30] , '금' : [23,31] , '토' : [24,32] , '일' : [24,31]})\n",
    "A.index = ['최저' , '최고']\n",
    "A"
   ],
   "metadata": {
    "collapsed": false,
    "pycharm": {
     "name": "#%%\n"
    }
   }
  },
  {
   "cell_type": "code",
   "execution_count": 291,
   "outputs": [
    {
     "data": {
      "text/plain": "   최저  최고\n월  21  27\n화  22  28\n수  22  29\n목  23  30\n금  23  31\n토  24  32\n일  24  31",
      "text/html": "<div>\n<style scoped>\n    .dataframe tbody tr th:only-of-type {\n        vertical-align: middle;\n    }\n\n    .dataframe tbody tr th {\n        vertical-align: top;\n    }\n\n    .dataframe thead th {\n        text-align: right;\n    }\n</style>\n<table border=\"1\" class=\"dataframe\">\n  <thead>\n    <tr style=\"text-align: right;\">\n      <th></th>\n      <th>최저</th>\n      <th>최고</th>\n    </tr>\n  </thead>\n  <tbody>\n    <tr>\n      <th>월</th>\n      <td>21</td>\n      <td>27</td>\n    </tr>\n    <tr>\n      <th>화</th>\n      <td>22</td>\n      <td>28</td>\n    </tr>\n    <tr>\n      <th>수</th>\n      <td>22</td>\n      <td>29</td>\n    </tr>\n    <tr>\n      <th>목</th>\n      <td>23</td>\n      <td>30</td>\n    </tr>\n    <tr>\n      <th>금</th>\n      <td>23</td>\n      <td>31</td>\n    </tr>\n    <tr>\n      <th>토</th>\n      <td>24</td>\n      <td>32</td>\n    </tr>\n    <tr>\n      <th>일</th>\n      <td>24</td>\n      <td>31</td>\n    </tr>\n  </tbody>\n</table>\n</div>"
     },
     "execution_count": 291,
     "metadata": {},
     "output_type": "execute_result"
    }
   ],
   "source": [
    "#최저의 평균과 분산\n",
    "\n",
    "A = A.transpose()\n",
    "\n",
    "A"
   ],
   "metadata": {
    "collapsed": false,
    "pycharm": {
     "name": "#%%\n"
    }
   }
  },
  {
   "cell_type": "code",
   "execution_count": 292,
   "outputs": [
    {
     "name": "stdout",
     "output_type": "stream",
     "text": [
      "22.714285714285715\n",
      "29.714285714285715\n"
     ]
    }
   ],
   "source": [
    "print(np.mean(A['최저']))\n",
    "print(np.mean(A['최고']))"
   ],
   "metadata": {
    "collapsed": false,
    "pycharm": {
     "name": "#%%\n"
    }
   }
  },
  {
   "cell_type": "code",
   "execution_count": 293,
   "outputs": [
    {
     "name": "stdout",
     "output_type": "stream",
     "text": [
      "1.238095238095238\n",
      "3.2380952380952377\n"
     ]
    }
   ],
   "source": [
    "print(np.var(A['최저'] , ddof =1 ))\n",
    "print(np.var(A['최고'] , ddof =1 ))"
   ],
   "metadata": {
    "collapsed": false,
    "pycharm": {
     "name": "#%%\n"
    }
   }
  },
  {
   "cell_type": "code",
   "execution_count": 294,
   "outputs": [
    {
     "data": {
      "text/plain": "              최저         최고\ncount   7.000000   7.000000\nmean   22.714286  29.714286\nstd     1.112697   1.799471\nmin    21.000000  27.000000\n25%    22.000000  28.500000\n50%    23.000000  30.000000\n75%    23.500000  31.000000\nmax    24.000000  32.000000",
      "text/html": "<div>\n<style scoped>\n    .dataframe tbody tr th:only-of-type {\n        vertical-align: middle;\n    }\n\n    .dataframe tbody tr th {\n        vertical-align: top;\n    }\n\n    .dataframe thead th {\n        text-align: right;\n    }\n</style>\n<table border=\"1\" class=\"dataframe\">\n  <thead>\n    <tr style=\"text-align: right;\">\n      <th></th>\n      <th>최저</th>\n      <th>최고</th>\n    </tr>\n  </thead>\n  <tbody>\n    <tr>\n      <th>count</th>\n      <td>7.000000</td>\n      <td>7.000000</td>\n    </tr>\n    <tr>\n      <th>mean</th>\n      <td>22.714286</td>\n      <td>29.714286</td>\n    </tr>\n    <tr>\n      <th>std</th>\n      <td>1.112697</td>\n      <td>1.799471</td>\n    </tr>\n    <tr>\n      <th>min</th>\n      <td>21.000000</td>\n      <td>27.000000</td>\n    </tr>\n    <tr>\n      <th>25%</th>\n      <td>22.000000</td>\n      <td>28.500000</td>\n    </tr>\n    <tr>\n      <th>50%</th>\n      <td>23.000000</td>\n      <td>30.000000</td>\n    </tr>\n    <tr>\n      <th>75%</th>\n      <td>23.500000</td>\n      <td>31.000000</td>\n    </tr>\n    <tr>\n      <th>max</th>\n      <td>24.000000</td>\n      <td>32.000000</td>\n    </tr>\n  </tbody>\n</table>\n</div>"
     },
     "execution_count": 294,
     "metadata": {},
     "output_type": "execute_result"
    }
   ],
   "source": [
    "A.describe()"
   ],
   "metadata": {
    "collapsed": false,
    "pycharm": {
     "name": "#%%\n"
    }
   }
  },
  {
   "cell_type": "code",
   "execution_count": 295,
   "outputs": [
    {
     "data": {
      "text/plain": "   최저  최고  x_i - |x  y_i - |y  (x_i - |x) * (y_i - |y)\n월  21  27 -1.714286 -2.714286                 4.653061\n화  22  28 -0.714286 -1.714286                 1.224490\n수  22  29 -0.714286 -0.714286                 0.510204\n목  23  30  0.285714  0.285714                 0.081633\n금  23  31  0.285714  1.285714                 0.367347\n토  24  32  1.285714  2.285714                 2.938776\n일  24  31  1.285714  1.285714                 1.653061",
      "text/html": "<div>\n<style scoped>\n    .dataframe tbody tr th:only-of-type {\n        vertical-align: middle;\n    }\n\n    .dataframe tbody tr th {\n        vertical-align: top;\n    }\n\n    .dataframe thead th {\n        text-align: right;\n    }\n</style>\n<table border=\"1\" class=\"dataframe\">\n  <thead>\n    <tr style=\"text-align: right;\">\n      <th></th>\n      <th>최저</th>\n      <th>최고</th>\n      <th>x_i - |x</th>\n      <th>y_i - |y</th>\n      <th>(x_i - |x) * (y_i - |y)</th>\n    </tr>\n  </thead>\n  <tbody>\n    <tr>\n      <th>월</th>\n      <td>21</td>\n      <td>27</td>\n      <td>-1.714286</td>\n      <td>-2.714286</td>\n      <td>4.653061</td>\n    </tr>\n    <tr>\n      <th>화</th>\n      <td>22</td>\n      <td>28</td>\n      <td>-0.714286</td>\n      <td>-1.714286</td>\n      <td>1.224490</td>\n    </tr>\n    <tr>\n      <th>수</th>\n      <td>22</td>\n      <td>29</td>\n      <td>-0.714286</td>\n      <td>-0.714286</td>\n      <td>0.510204</td>\n    </tr>\n    <tr>\n      <th>목</th>\n      <td>23</td>\n      <td>30</td>\n      <td>0.285714</td>\n      <td>0.285714</td>\n      <td>0.081633</td>\n    </tr>\n    <tr>\n      <th>금</th>\n      <td>23</td>\n      <td>31</td>\n      <td>0.285714</td>\n      <td>1.285714</td>\n      <td>0.367347</td>\n    </tr>\n    <tr>\n      <th>토</th>\n      <td>24</td>\n      <td>32</td>\n      <td>1.285714</td>\n      <td>2.285714</td>\n      <td>2.938776</td>\n    </tr>\n    <tr>\n      <th>일</th>\n      <td>24</td>\n      <td>31</td>\n      <td>1.285714</td>\n      <td>1.285714</td>\n      <td>1.653061</td>\n    </tr>\n  </tbody>\n</table>\n</div>"
     },
     "execution_count": 295,
     "metadata": {},
     "output_type": "execute_result"
    }
   ],
   "source": [
    "A['x_i - |x'] = A['최저'] - np.mean(A['최저'])\n",
    "A['y_i - |y'] = A['최고'] - np.mean(A['최고'])\n",
    "A['(x_i - |x) * (y_i - |y)'] = A['x_i - |x'] * A['y_i - |y']\n",
    "A"
   ],
   "metadata": {
    "collapsed": false,
    "pycharm": {
     "name": "#%%\n"
    }
   }
  },
  {
   "cell_type": "code",
   "execution_count": 296,
   "outputs": [
    {
     "data": {
      "text/plain": "   최저 최고 x_i - |x y_i - |y  (x_i - |x) * (y_i - |y)\n합계  -  -        -        -                11.428571",
      "text/html": "<div>\n<style scoped>\n    .dataframe tbody tr th:only-of-type {\n        vertical-align: middle;\n    }\n\n    .dataframe tbody tr th {\n        vertical-align: top;\n    }\n\n    .dataframe thead th {\n        text-align: right;\n    }\n</style>\n<table border=\"1\" class=\"dataframe\">\n  <thead>\n    <tr style=\"text-align: right;\">\n      <th></th>\n      <th>최저</th>\n      <th>최고</th>\n      <th>x_i - |x</th>\n      <th>y_i - |y</th>\n      <th>(x_i - |x) * (y_i - |y)</th>\n    </tr>\n  </thead>\n  <tbody>\n    <tr>\n      <th>합계</th>\n      <td>-</td>\n      <td>-</td>\n      <td>-</td>\n      <td>-</td>\n      <td>11.428571</td>\n    </tr>\n  </tbody>\n</table>\n</div>"
     },
     "execution_count": 296,
     "metadata": {},
     "output_type": "execute_result"
    }
   ],
   "source": [
    "a = pd.DataFrame(A[:].sum(axis=0))\n",
    "a = a.transpose()\n",
    "a[a.columns[0:-1]] = '-'\n",
    "a.index = ['합계']\n",
    "a"
   ],
   "metadata": {
    "collapsed": false,
    "pycharm": {
     "name": "#%%\n"
    }
   }
  },
  {
   "cell_type": "code",
   "execution_count": 297,
   "outputs": [
    {
     "data": {
      "text/plain": "    최저  최고  x_i - |x  y_i - |y  (x_i - |x) * (y_i - |y)\n월   21  27 -1.714286 -2.714286                 4.653061\n화   22  28 -0.714286 -1.714286                 1.224490\n수   22  29 -0.714286 -0.714286                 0.510204\n목   23  30  0.285714  0.285714                 0.081633\n금   23  31  0.285714  1.285714                 0.367347\n토   24  32  1.285714  2.285714                 2.938776\n일   24  31  1.285714  1.285714                 1.653061\n합계   -   -         -         -                11.428571",
      "text/html": "<div>\n<style scoped>\n    .dataframe tbody tr th:only-of-type {\n        vertical-align: middle;\n    }\n\n    .dataframe tbody tr th {\n        vertical-align: top;\n    }\n\n    .dataframe thead th {\n        text-align: right;\n    }\n</style>\n<table border=\"1\" class=\"dataframe\">\n  <thead>\n    <tr style=\"text-align: right;\">\n      <th></th>\n      <th>최저</th>\n      <th>최고</th>\n      <th>x_i - |x</th>\n      <th>y_i - |y</th>\n      <th>(x_i - |x) * (y_i - |y)</th>\n    </tr>\n  </thead>\n  <tbody>\n    <tr>\n      <th>월</th>\n      <td>21</td>\n      <td>27</td>\n      <td>-1.714286</td>\n      <td>-2.714286</td>\n      <td>4.653061</td>\n    </tr>\n    <tr>\n      <th>화</th>\n      <td>22</td>\n      <td>28</td>\n      <td>-0.714286</td>\n      <td>-1.714286</td>\n      <td>1.224490</td>\n    </tr>\n    <tr>\n      <th>수</th>\n      <td>22</td>\n      <td>29</td>\n      <td>-0.714286</td>\n      <td>-0.714286</td>\n      <td>0.510204</td>\n    </tr>\n    <tr>\n      <th>목</th>\n      <td>23</td>\n      <td>30</td>\n      <td>0.285714</td>\n      <td>0.285714</td>\n      <td>0.081633</td>\n    </tr>\n    <tr>\n      <th>금</th>\n      <td>23</td>\n      <td>31</td>\n      <td>0.285714</td>\n      <td>1.285714</td>\n      <td>0.367347</td>\n    </tr>\n    <tr>\n      <th>토</th>\n      <td>24</td>\n      <td>32</td>\n      <td>1.285714</td>\n      <td>2.285714</td>\n      <td>2.938776</td>\n    </tr>\n    <tr>\n      <th>일</th>\n      <td>24</td>\n      <td>31</td>\n      <td>1.285714</td>\n      <td>1.285714</td>\n      <td>1.653061</td>\n    </tr>\n    <tr>\n      <th>합계</th>\n      <td>-</td>\n      <td>-</td>\n      <td>-</td>\n      <td>-</td>\n      <td>11.428571</td>\n    </tr>\n  </tbody>\n</table>\n</div>"
     },
     "execution_count": 297,
     "metadata": {},
     "output_type": "execute_result"
    }
   ],
   "source": [
    "A = pd.concat([A, a])\n",
    "A"
   ],
   "metadata": {
    "collapsed": false,
    "pycharm": {
     "name": "#%%\n"
    }
   }
  },
  {
   "cell_type": "code",
   "execution_count": 298,
   "outputs": [
    {
     "name": "stdout",
     "output_type": "stream",
     "text": [
      "1.9047618333333334\n"
     ]
    }
   ],
   "source": [
    "#공분산\n",
    "print(11.428571 / 6)"
   ],
   "metadata": {
    "collapsed": false,
    "pycharm": {
     "name": "#%%\n"
    }
   }
  },
  {
   "cell_type": "code",
   "execution_count": 299,
   "outputs": [
    {
     "data": {
      "text/plain": "   x_i  y_i\n0    6    5\n1    8    7\n2   11    9\n3   12    9\n4   15   13",
      "text/html": "<div>\n<style scoped>\n    .dataframe tbody tr th:only-of-type {\n        vertical-align: middle;\n    }\n\n    .dataframe tbody tr th {\n        vertical-align: top;\n    }\n\n    .dataframe thead th {\n        text-align: right;\n    }\n</style>\n<table border=\"1\" class=\"dataframe\">\n  <thead>\n    <tr style=\"text-align: right;\">\n      <th></th>\n      <th>x_i</th>\n      <th>y_i</th>\n    </tr>\n  </thead>\n  <tbody>\n    <tr>\n      <th>0</th>\n      <td>6</td>\n      <td>5</td>\n    </tr>\n    <tr>\n      <th>1</th>\n      <td>8</td>\n      <td>7</td>\n    </tr>\n    <tr>\n      <th>2</th>\n      <td>11</td>\n      <td>9</td>\n    </tr>\n    <tr>\n      <th>3</th>\n      <td>12</td>\n      <td>9</td>\n    </tr>\n    <tr>\n      <th>4</th>\n      <td>15</td>\n      <td>13</td>\n    </tr>\n  </tbody>\n</table>\n</div>"
     },
     "execution_count": 299,
     "metadata": {},
     "output_type": "execute_result"
    }
   ],
   "source": [
    "D = pd.DataFrame({'x_i' : [6,8,11,12,15] , 'y_i' : [5,7,9,9,13]})\n",
    "D"
   ],
   "metadata": {
    "collapsed": false,
    "pycharm": {
     "name": "#%%\n"
    }
   }
  },
  {
   "cell_type": "code",
   "execution_count": 300,
   "outputs": [
    {
     "data": {
      "text/plain": "   x_i  y_i  x_i - |x  y_i - |y  x_i - |x * y_i - |y\n0    6    5      -4.4      -3.6                15.84\n1    8    7      -2.4      -1.6                 3.84\n2   11    9       0.6       0.4                 0.24\n3   12    9       1.6       0.4                 0.64\n4   15   13       4.6       4.4                20.24",
      "text/html": "<div>\n<style scoped>\n    .dataframe tbody tr th:only-of-type {\n        vertical-align: middle;\n    }\n\n    .dataframe tbody tr th {\n        vertical-align: top;\n    }\n\n    .dataframe thead th {\n        text-align: right;\n    }\n</style>\n<table border=\"1\" class=\"dataframe\">\n  <thead>\n    <tr style=\"text-align: right;\">\n      <th></th>\n      <th>x_i</th>\n      <th>y_i</th>\n      <th>x_i - |x</th>\n      <th>y_i - |y</th>\n      <th>x_i - |x * y_i - |y</th>\n    </tr>\n  </thead>\n  <tbody>\n    <tr>\n      <th>0</th>\n      <td>6</td>\n      <td>5</td>\n      <td>-4.4</td>\n      <td>-3.6</td>\n      <td>15.84</td>\n    </tr>\n    <tr>\n      <th>1</th>\n      <td>8</td>\n      <td>7</td>\n      <td>-2.4</td>\n      <td>-1.6</td>\n      <td>3.84</td>\n    </tr>\n    <tr>\n      <th>2</th>\n      <td>11</td>\n      <td>9</td>\n      <td>0.6</td>\n      <td>0.4</td>\n      <td>0.24</td>\n    </tr>\n    <tr>\n      <th>3</th>\n      <td>12</td>\n      <td>9</td>\n      <td>1.6</td>\n      <td>0.4</td>\n      <td>0.64</td>\n    </tr>\n    <tr>\n      <th>4</th>\n      <td>15</td>\n      <td>13</td>\n      <td>4.6</td>\n      <td>4.4</td>\n      <td>20.24</td>\n    </tr>\n  </tbody>\n</table>\n</div>"
     },
     "execution_count": 300,
     "metadata": {},
     "output_type": "execute_result"
    }
   ],
   "source": [
    "D['x_i - |x'] = D['x_i'] - np.mean(D['x_i'])\n",
    "D['y_i - |y'] = D['y_i'] - np.mean(D['y_i'])\n",
    "D['x_i - |x * y_i - |y'] = D['x_i - |x'] * D['y_i - |y']\n",
    "D"
   ],
   "metadata": {
    "collapsed": false,
    "pycharm": {
     "name": "#%%\n"
    }
   }
  },
  {
   "cell_type": "code",
   "execution_count": 301,
   "outputs": [
    {
     "data": {
      "text/plain": "     x_i   y_i x_i - |x y_i - |y  x_i - |x * y_i - |y\n0    6.0   5.0     -4.4     -3.6                15.84\n1    8.0   7.0     -2.4     -1.6                 3.84\n2   11.0   9.0      0.6      0.4                 0.24\n3   12.0   9.0      1.6      0.4                 0.64\n4   15.0  13.0      4.6      4.4                20.24\n합계  52.0  43.0        -        -                40.80",
      "text/html": "<div>\n<style scoped>\n    .dataframe tbody tr th:only-of-type {\n        vertical-align: middle;\n    }\n\n    .dataframe tbody tr th {\n        vertical-align: top;\n    }\n\n    .dataframe thead th {\n        text-align: right;\n    }\n</style>\n<table border=\"1\" class=\"dataframe\">\n  <thead>\n    <tr style=\"text-align: right;\">\n      <th></th>\n      <th>x_i</th>\n      <th>y_i</th>\n      <th>x_i - |x</th>\n      <th>y_i - |y</th>\n      <th>x_i - |x * y_i - |y</th>\n    </tr>\n  </thead>\n  <tbody>\n    <tr>\n      <th>0</th>\n      <td>6.0</td>\n      <td>5.0</td>\n      <td>-4.4</td>\n      <td>-3.6</td>\n      <td>15.84</td>\n    </tr>\n    <tr>\n      <th>1</th>\n      <td>8.0</td>\n      <td>7.0</td>\n      <td>-2.4</td>\n      <td>-1.6</td>\n      <td>3.84</td>\n    </tr>\n    <tr>\n      <th>2</th>\n      <td>11.0</td>\n      <td>9.0</td>\n      <td>0.6</td>\n      <td>0.4</td>\n      <td>0.24</td>\n    </tr>\n    <tr>\n      <th>3</th>\n      <td>12.0</td>\n      <td>9.0</td>\n      <td>1.6</td>\n      <td>0.4</td>\n      <td>0.64</td>\n    </tr>\n    <tr>\n      <th>4</th>\n      <td>15.0</td>\n      <td>13.0</td>\n      <td>4.6</td>\n      <td>4.4</td>\n      <td>20.24</td>\n    </tr>\n    <tr>\n      <th>합계</th>\n      <td>52.0</td>\n      <td>43.0</td>\n      <td>-</td>\n      <td>-</td>\n      <td>40.80</td>\n    </tr>\n  </tbody>\n</table>\n</div>"
     },
     "execution_count": 301,
     "metadata": {},
     "output_type": "execute_result"
    }
   ],
   "source": [
    "a = pd.DataFrame(D[:].sum(axis=0))\n",
    "a = a.transpose()\n",
    "a.index = ['합계']\n",
    "a[a.columns[2:-1]] = '-'\n",
    "\n",
    "D = pd.concat([D,a])\n",
    "D"
   ],
   "metadata": {
    "collapsed": false,
    "pycharm": {
     "name": "#%%\n"
    }
   }
  },
  {
   "cell_type": "code",
   "execution_count": 302,
   "outputs": [
    {
     "name": "stdout",
     "output_type": "stream",
     "text": [
      "10.2\n"
     ]
    }
   ],
   "source": [
    "#표본공분산\n",
    "print(40.8 / (5-1))"
   ],
   "metadata": {
    "collapsed": false,
    "pycharm": {
     "name": "#%%\n"
    }
   }
  },
  {
   "cell_type": "code",
   "execution_count": 303,
   "outputs": [
    {
     "name": "stdout",
     "output_type": "stream",
     "text": [
      "10.2\n"
     ]
    }
   ],
   "source": [
    "print(np.cov(D.iloc[:-1,0], D.iloc[:-1,1])[0,1]) #공분산"
   ],
   "metadata": {
    "collapsed": false,
    "pycharm": {
     "name": "#%%\n"
    }
   }
  },
  {
   "cell_type": "code",
   "execution_count": 304,
   "outputs": [
    {
     "data": {
      "text/plain": "    최저  최고  x_i - |x  y_i - |y  (x_i - |x) * (y_i - |y)\n월   21  27 -1.714286 -2.714286                 4.653061\n화   22  28 -0.714286 -1.714286                 1.224490\n수   22  29 -0.714286 -0.714286                 0.510204\n목   23  30  0.285714  0.285714                 0.081633\n금   23  31  0.285714  1.285714                 0.367347\n토   24  32  1.285714  2.285714                 2.938776\n일   24  31  1.285714  1.285714                 1.653061\n합계   -   -         -         -                11.428571",
      "text/html": "<div>\n<style scoped>\n    .dataframe tbody tr th:only-of-type {\n        vertical-align: middle;\n    }\n\n    .dataframe tbody tr th {\n        vertical-align: top;\n    }\n\n    .dataframe thead th {\n        text-align: right;\n    }\n</style>\n<table border=\"1\" class=\"dataframe\">\n  <thead>\n    <tr style=\"text-align: right;\">\n      <th></th>\n      <th>최저</th>\n      <th>최고</th>\n      <th>x_i - |x</th>\n      <th>y_i - |y</th>\n      <th>(x_i - |x) * (y_i - |y)</th>\n    </tr>\n  </thead>\n  <tbody>\n    <tr>\n      <th>월</th>\n      <td>21</td>\n      <td>27</td>\n      <td>-1.714286</td>\n      <td>-2.714286</td>\n      <td>4.653061</td>\n    </tr>\n    <tr>\n      <th>화</th>\n      <td>22</td>\n      <td>28</td>\n      <td>-0.714286</td>\n      <td>-1.714286</td>\n      <td>1.224490</td>\n    </tr>\n    <tr>\n      <th>수</th>\n      <td>22</td>\n      <td>29</td>\n      <td>-0.714286</td>\n      <td>-0.714286</td>\n      <td>0.510204</td>\n    </tr>\n    <tr>\n      <th>목</th>\n      <td>23</td>\n      <td>30</td>\n      <td>0.285714</td>\n      <td>0.285714</td>\n      <td>0.081633</td>\n    </tr>\n    <tr>\n      <th>금</th>\n      <td>23</td>\n      <td>31</td>\n      <td>0.285714</td>\n      <td>1.285714</td>\n      <td>0.367347</td>\n    </tr>\n    <tr>\n      <th>토</th>\n      <td>24</td>\n      <td>32</td>\n      <td>1.285714</td>\n      <td>2.285714</td>\n      <td>2.938776</td>\n    </tr>\n    <tr>\n      <th>일</th>\n      <td>24</td>\n      <td>31</td>\n      <td>1.285714</td>\n      <td>1.285714</td>\n      <td>1.653061</td>\n    </tr>\n    <tr>\n      <th>합계</th>\n      <td>-</td>\n      <td>-</td>\n      <td>-</td>\n      <td>-</td>\n      <td>11.428571</td>\n    </tr>\n  </tbody>\n</table>\n</div>"
     },
     "execution_count": 304,
     "metadata": {},
     "output_type": "execute_result"
    }
   ],
   "source": [
    "A"
   ],
   "metadata": {
    "collapsed": false,
    "pycharm": {
     "name": "#%%\n"
    }
   }
  },
  {
   "cell_type": "code",
   "execution_count": 305,
   "outputs": [
    {
     "data": {
      "text/plain": "   최저  최고\n월  21  27\n화  22  28\n수  22  29\n목  23  30\n금  23  31\n토  24  32\n일  24  31",
      "text/html": "<div>\n<style scoped>\n    .dataframe tbody tr th:only-of-type {\n        vertical-align: middle;\n    }\n\n    .dataframe tbody tr th {\n        vertical-align: top;\n    }\n\n    .dataframe thead th {\n        text-align: right;\n    }\n</style>\n<table border=\"1\" class=\"dataframe\">\n  <thead>\n    <tr style=\"text-align: right;\">\n      <th></th>\n      <th>최저</th>\n      <th>최고</th>\n    </tr>\n  </thead>\n  <tbody>\n    <tr>\n      <th>월</th>\n      <td>21</td>\n      <td>27</td>\n    </tr>\n    <tr>\n      <th>화</th>\n      <td>22</td>\n      <td>28</td>\n    </tr>\n    <tr>\n      <th>수</th>\n      <td>22</td>\n      <td>29</td>\n    </tr>\n    <tr>\n      <th>목</th>\n      <td>23</td>\n      <td>30</td>\n    </tr>\n    <tr>\n      <th>금</th>\n      <td>23</td>\n      <td>31</td>\n    </tr>\n    <tr>\n      <th>토</th>\n      <td>24</td>\n      <td>32</td>\n    </tr>\n    <tr>\n      <th>일</th>\n      <td>24</td>\n      <td>31</td>\n    </tr>\n  </tbody>\n</table>\n</div>"
     },
     "execution_count": 305,
     "metadata": {},
     "output_type": "execute_result"
    }
   ],
   "source": [
    "A = A.iloc[:-1 , [0,1]]\n",
    "A"
   ],
   "metadata": {
    "collapsed": false,
    "pycharm": {
     "name": "#%%\n"
    }
   }
  },
  {
   "cell_type": "code",
   "execution_count": 306,
   "outputs": [
    {
     "data": {
      "text/plain": "   최저  최고\n월  21  27\n화  22  28\n수  22  29\n목  23  30\n금  23  31\n토  24  32\n일  24  31",
      "text/html": "<div>\n<style scoped>\n    .dataframe tbody tr th:only-of-type {\n        vertical-align: middle;\n    }\n\n    .dataframe tbody tr th {\n        vertical-align: top;\n    }\n\n    .dataframe thead th {\n        text-align: right;\n    }\n</style>\n<table border=\"1\" class=\"dataframe\">\n  <thead>\n    <tr style=\"text-align: right;\">\n      <th></th>\n      <th>최저</th>\n      <th>최고</th>\n    </tr>\n  </thead>\n  <tbody>\n    <tr>\n      <th>월</th>\n      <td>21</td>\n      <td>27</td>\n    </tr>\n    <tr>\n      <th>화</th>\n      <td>22</td>\n      <td>28</td>\n    </tr>\n    <tr>\n      <th>수</th>\n      <td>22</td>\n      <td>29</td>\n    </tr>\n    <tr>\n      <th>목</th>\n      <td>23</td>\n      <td>30</td>\n    </tr>\n    <tr>\n      <th>금</th>\n      <td>23</td>\n      <td>31</td>\n    </tr>\n    <tr>\n      <th>토</th>\n      <td>24</td>\n      <td>32</td>\n    </tr>\n    <tr>\n      <th>일</th>\n      <td>24</td>\n      <td>31</td>\n    </tr>\n  </tbody>\n</table>\n</div>"
     },
     "execution_count": 306,
     "metadata": {},
     "output_type": "execute_result"
    }
   ],
   "source": [
    "A = A.astype('int')\n",
    "A"
   ],
   "metadata": {
    "collapsed": false,
    "pycharm": {
     "name": "#%%\n"
    }
   }
  },
  {
   "cell_type": "code",
   "execution_count": 307,
   "outputs": [
    {
     "data": {
      "text/plain": "Text(24.25, 29.5, '|y = 29.5')"
     },
     "execution_count": 307,
     "metadata": {},
     "output_type": "execute_result"
    },
    {
     "data": {
      "text/plain": "<Figure size 432x288 with 1 Axes>",
      "image/png": "[encoded data removed]"
     },
     "metadata": {},
     "output_type": "display_data"
    }
   ],
   "source": [
    "x = A.iloc[:-1, 0].tolist()\n",
    "y = A.iloc[:-1 ,1].tolist()\n",
    "\n",
    "ax = sns.set_style('whitegrid')\n",
    "ax = sns.scatterplot(x= x , y = y)\n",
    "ax.axvline(x= np.mean(x), ymin=0 , ymax=1 , color = 'red' , linestyle ='solid' , label ='{}'.format(2))\n",
    "ax.axhline(y= np.mean(y), xmin=0 , xmax=1 , color = 'blue' , linestyle ='solid' , label ='{}'.format(2))\n",
    "ax.text(np.mean(x) , 32.5 , f'|x = {round(np.mean(x),2)}',fontsize=13)\n",
    "ax.text(24.25 , np.mean(y)  , f'|y = {round(np.mean(y),2)}',fontsize=13)"
   ],
   "metadata": {
    "collapsed": false,
    "pycharm": {
     "name": "#%%\n"
    }
   }
  },
  {
   "cell_type": "code",
   "execution_count": 309,
   "outputs": [
    {
     "ename": "AttributeError",
     "evalue": "'FacetGrid' object has no attribute 'set_xlim'",
     "output_type": "error",
     "traceback": [
      "\u001B[1;31m---------------------------------------------------------------------------\u001B[0m",
      "\u001B[1;31mAttributeError\u001B[0m                            Traceback (most recent call last)",
      "\u001B[1;32m<ipython-input-309-9d4d7fde28c7>\u001B[0m in \u001B[0;36m<module>\u001B[1;34m\u001B[0m\n\u001B[0;32m      2\u001B[0m \u001B[1;33m\u001B[0m\u001B[0m\n\u001B[0;32m      3\u001B[0m \u001B[0max\u001B[0m \u001B[1;33m=\u001B[0m \u001B[0msns\u001B[0m\u001B[1;33m.\u001B[0m\u001B[0mlmplot\u001B[0m\u001B[1;33m(\u001B[0m\u001B[0mx\u001B[0m\u001B[1;33m=\u001B[0m\u001B[1;34m'최저'\u001B[0m \u001B[1;33m,\u001B[0m \u001B[0my\u001B[0m\u001B[1;33m=\u001B[0m \u001B[1;34m'최고'\u001B[0m \u001B[1;33m,\u001B[0m \u001B[0mdata\u001B[0m \u001B[1;33m=\u001B[0m \u001B[0mA\u001B[0m \u001B[1;33m)\u001B[0m\u001B[1;33m\u001B[0m\u001B[1;33m\u001B[0m\u001B[0m\n\u001B[1;32m----> 4\u001B[1;33m \u001B[0max\u001B[0m\u001B[1;33m.\u001B[0m\u001B[0mset_xlim\u001B[0m\u001B[1;33m(\u001B[0m\u001B[1;36m20.0\u001B[0m \u001B[1;33m,\u001B[0m \u001B[1;36m25.0\u001B[0m\u001B[1;33m)\u001B[0m\u001B[1;33m\u001B[0m\u001B[1;33m\u001B[0m\u001B[0m\n\u001B[0m\u001B[0;32m      5\u001B[0m \u001B[1;33m\u001B[0m\u001B[0m\n",
      "\u001B[1;31mAttributeError\u001B[0m: 'FacetGrid' object has no attribute 'set_xlim'"
     ]
    },
    {
     "name": "stderr",
     "output_type": "stream",
     "text": [
      "C:\\Users\\user\\anaconda3\\lib\\site-packages\\matplotlib\\backends\\backend_agg.py:238: RuntimeWarning: Glyph 52572 missing from current font.\n",
      "  font.set_text(s, 0.0, flags=flags)\n",
      "C:\\Users\\user\\anaconda3\\lib\\site-packages\\matplotlib\\backends\\backend_agg.py:238: RuntimeWarning: Glyph 51200 missing from current font.\n",
      "  font.set_text(s, 0.0, flags=flags)\n",
      "C:\\Users\\user\\anaconda3\\lib\\site-packages\\matplotlib\\backends\\backend_agg.py:238: RuntimeWarning: Glyph 44256 missing from current font.\n",
      "  font.set_text(s, 0.0, flags=flags)\n",
      "C:\\Users\\user\\anaconda3\\lib\\site-packages\\matplotlib\\backends\\backend_agg.py:201: RuntimeWarning: Glyph 52572 missing from current font.\n",
      "  font.set_text(s, 0, flags=flags)\n",
      "C:\\Users\\user\\anaconda3\\lib\\site-packages\\matplotlib\\backends\\backend_agg.py:201: RuntimeWarning: Glyph 51200 missing from current font.\n",
      "  font.set_text(s, 0, flags=flags)\n",
      "C:\\Users\\user\\anaconda3\\lib\\site-packages\\matplotlib\\backends\\backend_agg.py:201: RuntimeWarning: Glyph 44256 missing from current font.\n",
      "  font.set_text(s, 0, flags=flags)\n"
     ]
    },
    {
     "data": {
      "text/plain": "<Figure size 360x360 with 1 Axes>",
      "image/png": "[encoded data removed]"
     },
     "metadata": {},
     "output_type": "display_data"
    }
   ],
   "source": [
    "# fig , ax = plt.subplots(1, 1, figsize=(15,8))\n",
    "\n",
    "ax = sns.lmplot(x='최저' , y= '최고' , data = A )\n",
    "#ax.set_xlim(20.0 , 25.0)\n"
   ],
   "metadata": {
    "collapsed": false,
    "pycharm": {
     "name": "#%%\n"
    }
   }
  },
  {
   "cell_type": "code",
   "execution_count": 288,
   "outputs": [
    {
     "data": {
      "text/plain": "Text(0.5, 0.98, 'Main')"
     },
     "execution_count": 288,
     "metadata": {},
     "output_type": "execute_result"
    },
    {
     "data": {
      "text/plain": "<Figure size 1080x576 with 2 Axes>",
      "image/png": "[encoded data removed]"
     },
     "metadata": {},
     "output_type": "display_data"
    }
   ],
   "source": [
    "df = pd.DataFrame({\"Price 1\": [7,1,5,6,3,10,5,8],\n",
    "                   \"Price 2\" : [1,2,8,4,3,9,5,2],\n",
    "                   \"Day\":[1,2,3,4,5,6,7,8]})\n",
    "\n",
    "\n",
    "fig, axes = plt.subplots(1, 2 ,   figsize=(15,8))\n",
    "\n",
    "sns.lineplot(x = 'Day', y = 'Price 1',data = df, ax = axes[0])\n",
    "sns.lineplot(x = 'Day', y = 'Price 2',data = df, ax = axes[1])\n",
    "axes[0].set_title(\"First\")\n",
    "axes[1].set_title(\"Second\")\n",
    "plt.suptitle(\"Main\")"
   ],
   "metadata": {
    "collapsed": false,
    "pycharm": {
     "name": "#%%\n"
    }
   }
  },
  {
   "cell_type": "code",
   "execution_count": 310,
   "outputs": [
    {
     "data": {
      "text/plain": "   최저  최고\n월  21  27\n화  22  28\n수  22  29\n목  23  30\n금  23  31\n토  24  32\n일  24  31",
      "text/html": "<div>\n<style scoped>\n    .dataframe tbody tr th:only-of-type {\n        vertical-align: middle;\n    }\n\n    .dataframe tbody tr th {\n        vertical-align: top;\n    }\n\n    .dataframe thead th {\n        text-align: right;\n    }\n</style>\n<table border=\"1\" class=\"dataframe\">\n  <thead>\n    <tr style=\"text-align: right;\">\n      <th></th>\n      <th>최저</th>\n      <th>최고</th>\n    </tr>\n  </thead>\n  <tbody>\n    <tr>\n      <th>월</th>\n      <td>21</td>\n      <td>27</td>\n    </tr>\n    <tr>\n      <th>화</th>\n      <td>22</td>\n      <td>28</td>\n    </tr>\n    <tr>\n      <th>수</th>\n      <td>22</td>\n      <td>29</td>\n    </tr>\n    <tr>\n      <th>목</th>\n      <td>23</td>\n      <td>30</td>\n    </tr>\n    <tr>\n      <th>금</th>\n      <td>23</td>\n      <td>31</td>\n    </tr>\n    <tr>\n      <th>토</th>\n      <td>24</td>\n      <td>32</td>\n    </tr>\n    <tr>\n      <th>일</th>\n      <td>24</td>\n      <td>31</td>\n    </tr>\n  </tbody>\n</table>\n</div>"
     },
     "execution_count": 310,
     "metadata": {},
     "output_type": "execute_result"
    }
   ],
   "source": [
    "A"
   ],
   "metadata": {
    "collapsed": false,
    "pycharm": {
     "name": "#%%\n"
    }
   }
  },
  {
   "cell_type": "code",
   "execution_count": 316,
   "outputs": [
    {
     "data": {
      "text/plain": "1.9047619047619044"
     },
     "execution_count": 316,
     "metadata": {},
     "output_type": "execute_result"
    }
   ],
   "source": [
    "gong_bun = np.cov(A['최저'] , A['최고'])[0,1] #표본공분산\n",
    "# gong_bun = math.sqrt(gong_bun)\n",
    "gong_bun"
   ],
   "metadata": {
    "collapsed": false,
    "pycharm": {
     "name": "#%%\n"
    }
   }
  },
  {
   "cell_type": "code",
   "execution_count": 318,
   "outputs": [
    {
     "name": "stdout",
     "output_type": "stream",
     "text": [
      "1.1126972805283735\n",
      "1.7994708216848745\n"
     ]
    },
    {
     "data": {
      "text/plain": "0.9513"
     },
     "execution_count": 318,
     "metadata": {},
     "output_type": "execute_result"
    }
   ],
   "source": [
    "s_x = np.std(A['최저'] , ddof= 1)\n",
    "s_y = np.std(A['최고'] , ddof =1)\n",
    "\n",
    "print(s_x)\n",
    "print(s_y)\n",
    "\n",
    "corr = round(gong_bun / (s_x*s_y),4)\n",
    "corr"
   ],
   "metadata": {
    "collapsed": false,
    "pycharm": {
     "name": "#%%\n"
    }
   }
  },
  {
   "cell_type": "code",
   "execution_count": null,
   "outputs": [],
   "source": [],
   "metadata": {
    "collapsed": false,
    "pycharm": {
     "name": "#%%\n"
    }
   }
  }
 ],
 "metadata": {
  "kernelspec": {
   "display_name": "Python 3",
   "language": "python",
   "name": "python3"
  },
  "language_info": {
   "codemirror_mode": {
    "name": "ipython",
    "version": 2
   },
   "file_extension": ".py",
   "mimetype": "text/x-python",
   "name": "python",
   "nbconvert_exporter": "python",
   "pygments_lexer": "ipython2",
   "version": "2.7.6"
  }
 },
 "nbformat": 4,
 "nbformat_minor": 0
}