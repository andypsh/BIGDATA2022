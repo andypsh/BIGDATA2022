{
 "cells": [
  {
   "cell_type": "code",
   "execution_count": 226,
   "metadata": {
    "collapsed": true,
    "pycharm": {
     "name": "#%%\n"
    }
   },
   "outputs": [],
   "source": [
    "import platform\n",
    "import matplotlib\n",
    "import pandas as pd\n",
    "import matplotlib.pyplot as plt\n",
    "from matplotlib import font_manager, rc\n",
    "import seaborn as sns\n",
    "%precision 3\n",
    "from matplotlib import pyplot as plt\n",
    "%matplotlib inline\n",
    "#그래프를 주피터 놋북에 그리기 위해\n",
    "import numpy as np\n",
    "import copy\n",
    "from matplotlib import ticker\n",
    "from scipy.stats import probplot\n",
    "from scipy import stats\n",
    "import math\n",
    "#히스토그램 그리기\n",
    "# Window\n",
    "if platform.system() == 'Windows':\n",
    "    matplotlib.rc('font', family='Malgun Gothic')\n",
    "elif platform.system() == 'Darwin': # Mac\n",
    "    matplotlib.rc('font', family='AppleGothic')\n",
    "else: #linux\n",
    "    matplotlib.rc('font', family='NanumGothic')\n",
    "\n",
    "# 그래프에 마이너스 표시가 되도록 변경\n",
    "matplotlib.rcParams['axes.unicode_minus'] = False\n",
    "\n",
    "# 한글 폰트 설정\n",
    "font_location = 'C:/Windows/Fonts/MALGUNSL.TTF' #맑은고딕\n",
    "font_name = font_manager.FontProperties(fname=font_location).get_name()\n",
    "rc('font',family=font_name)"
   ]
  },
  {
   "cell_type": "code",
   "execution_count": 227,
   "outputs": [
    {
     "data": {
      "text/plain": "     data\n0   30.74\n1   28.44\n2   30.20\n3   32.67\n4   33.29\n..    ...\n95  28.00\n96  33.86\n97  29.22\n98  26.50\n99  30.89\n\n[100 rows x 1 columns]",
      "text/html": "<div>\n<style scoped>\n    .dataframe tbody tr th:only-of-type {\n        vertical-align: middle;\n    }\n\n    .dataframe tbody tr th {\n        vertical-align: top;\n    }\n\n    .dataframe thead th {\n        text-align: right;\n    }\n</style>\n<table border=\"1\" class=\"dataframe\">\n  <thead>\n    <tr style=\"text-align: right;\">\n      <th></th>\n      <th>data</th>\n    </tr>\n  </thead>\n  <tbody>\n    <tr>\n      <th>0</th>\n      <td>30.74</td>\n    </tr>\n    <tr>\n      <th>1</th>\n      <td>28.44</td>\n    </tr>\n    <tr>\n      <th>2</th>\n      <td>30.20</td>\n    </tr>\n    <tr>\n      <th>3</th>\n      <td>32.67</td>\n    </tr>\n    <tr>\n      <th>4</th>\n      <td>33.29</td>\n    </tr>\n    <tr>\n      <th>...</th>\n      <td>...</td>\n    </tr>\n    <tr>\n      <th>95</th>\n      <td>28.00</td>\n    </tr>\n    <tr>\n      <th>96</th>\n      <td>33.86</td>\n    </tr>\n    <tr>\n      <th>97</th>\n      <td>29.22</td>\n    </tr>\n    <tr>\n      <th>98</th>\n      <td>26.50</td>\n    </tr>\n    <tr>\n      <th>99</th>\n      <td>30.89</td>\n    </tr>\n  </tbody>\n</table>\n<p>100 rows × 1 columns</p>\n</div>"
     },
     "execution_count": 227,
     "metadata": {},
     "output_type": "execute_result"
    }
   ],
   "source": [
    "A='30.74 28.44 30.20 32.67 33.29 31.06 30.08 30.62 27.31 27.88 ' \\\n",
    "  '26.03 29.93 31.63 28.13 30.62 27.80 28.69 28.14 31.62 30.61 ' \\\n",
    "  '27.95 31.62 29.37 30.61 31.80 29.32 29.92 31.97 30.39 29.14 ' \\\n",
    "  '30.14 31.54 31.03 28.52 28.00 28.46 30.38 30.64 29.51 31.04 ' \\\n",
    "  '27.00 30.15 29.13 27.63 30.87 28.67 27.39 33.20 29.52 30.86 ' \\\n",
    "  '34.01 29.41 31.18 34.59 33.35 33.73 28.39 26.82 29.53 32.55 ' \\\n",
    "  '30.34 32.44 27.09 29.51 31.36 31.61 31.24 28.83 31.88 32.24 ' \\\n",
    "  '31.72 28.34 29.89 30.27 31.42 29.11 29.36 32.24 29.56 31.72 ' \\\n",
    "  '30.67 28.85 30.87 27.17 30.85 28.75 25.84 28.79 31.74 34.59 ' \\\n",
    "  '32.69 26.23 28.20 31.62 33.48 28.00 33.86 29.22 26.50 30.89'\n",
    "\n",
    "A = list(map(float , A.split(' ')))\n",
    "A = pd.DataFrame(A)\n",
    "A.rename(columns = {0: 'data'} , inplace=True)\n",
    "A"
   ],
   "metadata": {
    "collapsed": false,
    "pycharm": {
     "name": "#%%\n"
    }
   }
  },
  {
   "cell_type": "code",
   "execution_count": 228,
   "outputs": [
    {
     "name": "stdout",
     "output_type": "stream",
     "text": [
      "hist : [ 0  0  0  0  1  2  2  5  4  9  7  8  8  8 12  7 12  3  3  4  2  1  2  0\n",
      "  0  0  0  0]\n",
      "bins : [23.5 24.  24.5 25.  25.5 26.  26.5 27.  27.5 28.  28.5 29.  29.5 30.\n",
      " 30.5 31.  31.5 32.  32.5 33.  33.5 34.  34.5 35.  35.5 36.  36.5 37.\n",
      " 37.5]\n",
      "[23.75, 24.25, 24.75, 25.25, 25.75, 26.25, 26.75, 27.25, 27.75, 28.25, 28.75, 29.25, 29.75, 30.25, 30.75, 31.25, 31.75, 32.25, 32.75, 33.25, 33.75, 34.25, 34.75, 35.25, 35.75, 36.25, 36.75, 37.25]\n"
     ]
    },
    {
     "data": {
      "text/plain": "      계급값  도수\n0   23.75   0\n1   24.25   0\n2   24.75   0\n3   25.25   0\n4   25.75   1\n5   26.25   2\n6   26.75   2\n7   27.25   5\n8   27.75   4\n9   28.25   9\n10  28.75   7\n11  29.25   8\n12  29.75   8\n13  30.25   8\n14  30.75  12\n15  31.25   7\n16  31.75  12\n17  32.25   3\n18  32.75   3\n19  33.25   4\n20  33.75   2\n21  34.25   1\n22  34.75   2\n23  35.25   0\n24  35.75   0\n25  36.25   0\n26  36.75   0\n27  37.25   0",
      "text/html": "<div>\n<style scoped>\n    .dataframe tbody tr th:only-of-type {\n        vertical-align: middle;\n    }\n\n    .dataframe tbody tr th {\n        vertical-align: top;\n    }\n\n    .dataframe thead th {\n        text-align: right;\n    }\n</style>\n<table border=\"1\" class=\"dataframe\">\n  <thead>\n    <tr style=\"text-align: right;\">\n      <th></th>\n      <th>계급값</th>\n      <th>도수</th>\n    </tr>\n  </thead>\n  <tbody>\n    <tr>\n      <th>0</th>\n      <td>23.75</td>\n      <td>0</td>\n    </tr>\n    <tr>\n      <th>1</th>\n      <td>24.25</td>\n      <td>0</td>\n    </tr>\n    <tr>\n      <th>2</th>\n      <td>24.75</td>\n      <td>0</td>\n    </tr>\n    <tr>\n      <th>3</th>\n      <td>25.25</td>\n      <td>0</td>\n    </tr>\n    <tr>\n      <th>4</th>\n      <td>25.75</td>\n      <td>1</td>\n    </tr>\n    <tr>\n      <th>5</th>\n      <td>26.25</td>\n      <td>2</td>\n    </tr>\n    <tr>\n      <th>6</th>\n      <td>26.75</td>\n      <td>2</td>\n    </tr>\n    <tr>\n      <th>7</th>\n      <td>27.25</td>\n      <td>5</td>\n    </tr>\n    <tr>\n      <th>8</th>\n      <td>27.75</td>\n      <td>4</td>\n    </tr>\n    <tr>\n      <th>9</th>\n      <td>28.25</td>\n      <td>9</td>\n    </tr>\n    <tr>\n      <th>10</th>\n      <td>28.75</td>\n      <td>7</td>\n    </tr>\n    <tr>\n      <th>11</th>\n      <td>29.25</td>\n      <td>8</td>\n    </tr>\n    <tr>\n      <th>12</th>\n      <td>29.75</td>\n      <td>8</td>\n    </tr>\n    <tr>\n      <th>13</th>\n      <td>30.25</td>\n      <td>8</td>\n    </tr>\n    <tr>\n      <th>14</th>\n      <td>30.75</td>\n      <td>12</td>\n    </tr>\n    <tr>\n      <th>15</th>\n      <td>31.25</td>\n      <td>7</td>\n    </tr>\n    <tr>\n      <th>16</th>\n      <td>31.75</td>\n      <td>12</td>\n    </tr>\n    <tr>\n      <th>17</th>\n      <td>32.25</td>\n      <td>3</td>\n    </tr>\n    <tr>\n      <th>18</th>\n      <td>32.75</td>\n      <td>3</td>\n    </tr>\n    <tr>\n      <th>19</th>\n      <td>33.25</td>\n      <td>4</td>\n    </tr>\n    <tr>\n      <th>20</th>\n      <td>33.75</td>\n      <td>2</td>\n    </tr>\n    <tr>\n      <th>21</th>\n      <td>34.25</td>\n      <td>1</td>\n    </tr>\n    <tr>\n      <th>22</th>\n      <td>34.75</td>\n      <td>2</td>\n    </tr>\n    <tr>\n      <th>23</th>\n      <td>35.25</td>\n      <td>0</td>\n    </tr>\n    <tr>\n      <th>24</th>\n      <td>35.75</td>\n      <td>0</td>\n    </tr>\n    <tr>\n      <th>25</th>\n      <td>36.25</td>\n      <td>0</td>\n    </tr>\n    <tr>\n      <th>26</th>\n      <td>36.75</td>\n      <td>0</td>\n    </tr>\n    <tr>\n      <th>27</th>\n      <td>37.25</td>\n      <td>0</td>\n    </tr>\n  </tbody>\n</table>\n</div>"
     },
     "execution_count": 228,
     "metadata": {},
     "output_type": "execute_result"
    }
   ],
   "source": [
    "bins = np.arange(23.5, 37.5 + 0.5 , 0.5)\n",
    "hist, bins = np.histogram(A, bins)\n",
    "print('hist : {}'.format(hist))\n",
    "print('bins : {}'.format(bins))\n",
    "Steps=[]\n",
    "for i in range(len(bins)-1):\n",
    "    Steps.append((bins[i+1] - (0.5/2)))\n",
    "print(Steps)\n",
    "\n",
    "\n",
    "DOSU = pd.DataFrame({'계급값' : Steps  , '도수' : hist})\n",
    "DOSU"
   ],
   "metadata": {
    "collapsed": false,
    "pycharm": {
     "name": "#%%\n"
    }
   }
  },
  {
   "cell_type": "code",
   "execution_count": 229,
   "outputs": [
    {
     "name": "stderr",
     "output_type": "stream",
     "text": [
      "C:\\Users\\user\\anaconda3\\lib\\site-packages\\seaborn\\distributions.py:2557: FutureWarning: `distplot` is a deprecated function and will be removed in a future version. Please adapt your code to use either `displot` (a figure-level function with similar flexibility) or `histplot` (an axes-level function for histograms).\n",
      "  warnings.warn(msg, FutureWarning)\n",
      "C:\\Users\\user\\anaconda3\\lib\\site-packages\\seaborn\\distributions.py:2557: FutureWarning: `distplot` is a deprecated function and will be removed in a future version. Please adapt your code to use either `displot` (a figure-level function with similar flexibility) or `kdeplot` (an axes-level function for kernel density plots).\n",
      "  warnings.warn(msg, FutureWarning)\n"
     ]
    },
    {
     "data": {
      "text/plain": "<Figure size 1080x576 with 2 Axes>",
      "image/png": "[encoded data removed]"
     },
     "metadata": {
      "needs_background": "light"
     },
     "output_type": "display_data"
    }
   ],
   "source": [
    "fig , ax1 = plt.subplots(figsize= (15,8))\n",
    "\n",
    "ax1 = sns.distplot(A['data'],bins = 28 , kde=False)\n",
    "ax1.set_xlim([Steps[0] , Steps[-1]])\n",
    "ax1.xaxis.set_major_locator(ticker.MultipleLocator(0.5)) #x축 간격을 0.5로 설정\n",
    "for p in ax1.patches:\n",
    "    #print(p)\n",
    "    ax1.text(x = p.get_x() + p.get_width()/2,\n",
    "             y = p.get_height() + len(A)*0.001,\n",
    "             s =  'X좌표 : \\n{}\\n {} {}'.format(round(p.get_x(),3),int(p.get_height()),'개'),\n",
    "             #s = f'{(p.get_height()/ len(A)) * 100: 1.1f}개',\n",
    "             ha = 'center')\n",
    "ax1.set_ylabel('갯수' , fontsize = 14 , labelpad= 14 ,rotation = 0)\n",
    "ax2 = ax1.twinx() #한 그래프에 두번째 plot 넣기\n",
    "ax2 = sns.distplot(A['data'],bins = 28 , hist=False , kde=True, color='green')\n",
    "ax2.set_xlim([Steps[0] , Steps[-1]])\n",
    "ax2.xaxis.set_major_locator(ticker.MultipleLocator(0.5)) #x축 간격을 0.5로 설정\n",
    "ax2.axes.yaxis.set_visible(False) #y축 없애기\n",
    "\n",
    "x_s1 = float(A.mean() - A.std()*1)\n",
    "x_s2 = float(A.mean() - A.std()*2)\n",
    "x_s3 = float(A.mean() - A.std()*3)\n",
    "x_plus_s1 = float(A.mean() + A.std())\n",
    "x_plus_s2 = float(A.mean() + A.std()*2)\n",
    "x_plus_s3 = float(A.mean() + A.std()*3)\n",
    "# 막대기의 두께 in Seaborn\n",
    "\n",
    "\n",
    "ax2.axvline(x= x_s1, ymin=0 , ymax=1 , color = 'red' , linestyle ='solid' , label ='{}'.format(2))\n",
    "ax2.text(x_s1 , .19 , f'x-s : {round(x_s1,2)}',fontsize=13)\n",
    "ax2.axvline(x= x_s2, ymin=0 , ymax=1 , color = 'blue' , linestyle ='solid' , label ='{}'.format(2))\n",
    "ax2.text(x_s2 , .19 , f'x-2s : {round(x_s2,2)}',fontsize=13)\n",
    "ax2.axvline(x= x_s3, ymin=0 , ymax=1 , color = 'purple' , linestyle ='solid' , label ='{}'.format(2))\n",
    "ax2.text(x_s3 , .19 , f'x-3s : {round(x_s3,2)}',fontsize=13)\n",
    "\n",
    "ax2.axvline(x= x_plus_s1, ymin=0 , ymax=1 , color = 'red' , linestyle ='solid' , label ='{}'.format(2))\n",
    "ax2.text(x_plus_s1 , .19 , f'x+1s : {round(x_plus_s1,2)}',fontsize=13)\n",
    "ax2.axvline(x= x_plus_s2, ymin=0 , ymax=1 , color = 'blue' , linestyle ='solid' , label ='{}'.format(2))\n",
    "ax2.text(x_plus_s2 , .19 , f'x+2s : {round(x_plus_s2,2)}',fontsize=13)\n",
    "ax2.axvline(x= x_plus_s3, ymin=0 , ymax=1 , color = 'purple' , linestyle ='solid' , label ='{}'.format(2))\n",
    "ax2.text(x_plus_s3 , .19 , f'x+3s : {round(x_plus_s3,2)}',fontsize=13)\n",
    "\n",
    "\n",
    "\n",
    "plt.show()"
   ],
   "metadata": {
    "collapsed": false,
    "pycharm": {
     "name": "#%%\n"
    }
   }
  },
  {
   "cell_type": "code",
   "execution_count": 230,
   "outputs": [
    {
     "name": "stdout",
     "output_type": "stream",
     "text": [
      "69\n"
     ]
    }
   ],
   "source": [
    "print(3 + 5 + 6 + 4 + 9 + 1 + 6 + 4 + 7 + 8 + 4 + 9 + 3 )"
   ],
   "metadata": {
    "collapsed": false,
    "pycharm": {
     "name": "#%%\n"
    }
   }
  },
  {
   "cell_type": "code",
   "execution_count": 231,
   "outputs": [
    {
     "name": "stdout",
     "output_type": "stream",
     "text": [
      "96\n"
     ]
    }
   ],
   "source": [
    "print(69 + 1+1+2+4+1+5      + 2 + 4 +0 + 2 + 2 +2 +1)"
   ],
   "metadata": {
    "collapsed": false,
    "pycharm": {
     "name": "#%%\n"
    }
   }
  },
  {
   "cell_type": "code",
   "execution_count": 232,
   "outputs": [
    {
     "name": "stdout",
     "output_type": "stream",
     "text": [
      "84.0\n"
     ]
    }
   ],
   "source": [
    "print(100*(1- 1/(2.5)**2))"
   ],
   "metadata": {
    "collapsed": false,
    "pycharm": {
     "name": "#%%\n"
    }
   }
  },
  {
   "cell_type": "code",
   "execution_count": 233,
   "outputs": [
    {
     "name": "stdout",
     "output_type": "stream",
     "text": [
      "55.55555555555556\n"
     ]
    }
   ],
   "source": [
    "print(100*(1- 1/(1.5)**2))"
   ],
   "metadata": {
    "collapsed": false,
    "pycharm": {
     "name": "#%%\n"
    }
   }
  },
  {
   "cell_type": "code",
   "execution_count": 234,
   "outputs": [
    {
     "name": "stdout",
     "output_type": "stream",
     "text": [
      "27.151500000000002\n",
      "33.124500000000005\n"
     ]
    }
   ],
   "source": [
    "print(30.138 - (1.5)*1.991)\n",
    "\n",
    "print(30.138 + (1.5)*1.991)"
   ],
   "metadata": {
    "collapsed": false,
    "pycharm": {
     "name": "#%%\n"
    }
   }
  },
  {
   "cell_type": "markdown",
   "source": [
    "## 그룹화 자료의 분산과 표준편차\n"
   ],
   "metadata": {
    "collapsed": false,
    "pycharm": {
     "name": "#%% md\n"
    }
   }
  },
  {
   "cell_type": "code",
   "execution_count": 235,
   "outputs": [
    {
     "data": {
      "text/plain": "[29,\n 30,\n 49,\n 21,\n 39,\n 38,\n 15,\n 39,\n 48,\n 41,\n 50,\n 38,\n 33,\n 40,\n 51,\n 29,\n 31,\n 42,\n 29,\n 69,\n 37,\n 20,\n 49,\n 40,\n 10,\n 49,\n 49,\n 49,\n 35,\n 45,\n 22,\n 45,\n 20,\n 45,\n 30,\n 41,\n 40,\n 38,\n 10,\n 31,\n 47,\n 19,\n 31,\n 21,\n 41,\n 46,\n 28,\n 29,\n 18,\n 28]"
     },
     "execution_count": 235,
     "metadata": {},
     "output_type": "execute_result"
    }
   ],
   "source": [
    "A  ='29 30 49 21 39 38 15 39 48 41 50 38 33 40 51 29 31 42 29 69 37 20 49 40 10 49 49 49 35 45 22 45 20 45 30 41 40 38 10 31 47 19 31 21 41 46 28 29 18 28'\n",
    "\n",
    "A = list(map(int, A.split(' ')))\n",
    "A"
   ],
   "metadata": {
    "collapsed": false,
    "pycharm": {
     "name": "#%%\n"
    }
   }
  },
  {
   "cell_type": "code",
   "execution_count": 236,
   "outputs": [
    {
     "data": {
      "text/plain": "     0\n0   29\n1   30\n2   49\n3   21\n4   39\n5   38\n6   15\n7   39\n8   48\n9   41\n10  50\n11  38\n12  33\n13  40\n14  51\n15  29\n16  31\n17  42\n18  29\n19  69\n20  37\n21  20\n22  49\n23  40\n24  10\n25  49\n26  49\n27  49\n28  35\n29  45\n30  22\n31  45\n32  20\n33  45\n34  30\n35  41\n36  40\n37  38\n38  10\n39  31\n40  47\n41  19\n42  31\n43  21\n44  41\n45  46\n46  28\n47  29\n48  18\n49  28",
      "text/html": "<div>\n<style scoped>\n    .dataframe tbody tr th:only-of-type {\n        vertical-align: middle;\n    }\n\n    .dataframe tbody tr th {\n        vertical-align: top;\n    }\n\n    .dataframe thead th {\n        text-align: right;\n    }\n</style>\n<table border=\"1\" class=\"dataframe\">\n  <thead>\n    <tr style=\"text-align: right;\">\n      <th></th>\n      <th>0</th>\n    </tr>\n  </thead>\n  <tbody>\n    <tr>\n      <th>0</th>\n      <td>29</td>\n    </tr>\n    <tr>\n      <th>1</th>\n      <td>30</td>\n    </tr>\n    <tr>\n      <th>2</th>\n      <td>49</td>\n    </tr>\n    <tr>\n      <th>3</th>\n      <td>21</td>\n    </tr>\n    <tr>\n      <th>4</th>\n      <td>39</td>\n    </tr>\n    <tr>\n      <th>5</th>\n      <td>38</td>\n    </tr>\n    <tr>\n      <th>6</th>\n      <td>15</td>\n    </tr>\n    <tr>\n      <th>7</th>\n      <td>39</td>\n    </tr>\n    <tr>\n      <th>8</th>\n      <td>48</td>\n    </tr>\n    <tr>\n      <th>9</th>\n      <td>41</td>\n    </tr>\n    <tr>\n      <th>10</th>\n      <td>50</td>\n    </tr>\n    <tr>\n      <th>11</th>\n      <td>38</td>\n    </tr>\n    <tr>\n      <th>12</th>\n      <td>33</td>\n    </tr>\n    <tr>\n      <th>13</th>\n      <td>40</td>\n    </tr>\n    <tr>\n      <th>14</th>\n      <td>51</td>\n    </tr>\n    <tr>\n      <th>15</th>\n      <td>29</td>\n    </tr>\n    <tr>\n      <th>16</th>\n      <td>31</td>\n    </tr>\n    <tr>\n      <th>17</th>\n      <td>42</td>\n    </tr>\n    <tr>\n      <th>18</th>\n      <td>29</td>\n    </tr>\n    <tr>\n      <th>19</th>\n      <td>69</td>\n    </tr>\n    <tr>\n      <th>20</th>\n      <td>37</td>\n    </tr>\n    <tr>\n      <th>21</th>\n      <td>20</td>\n    </tr>\n    <tr>\n      <th>22</th>\n      <td>49</td>\n    </tr>\n    <tr>\n      <th>23</th>\n      <td>40</td>\n    </tr>\n    <tr>\n      <th>24</th>\n      <td>10</td>\n    </tr>\n    <tr>\n      <th>25</th>\n      <td>49</td>\n    </tr>\n    <tr>\n      <th>26</th>\n      <td>49</td>\n    </tr>\n    <tr>\n      <th>27</th>\n      <td>49</td>\n    </tr>\n    <tr>\n      <th>28</th>\n      <td>35</td>\n    </tr>\n    <tr>\n      <th>29</th>\n      <td>45</td>\n    </tr>\n    <tr>\n      <th>30</th>\n      <td>22</td>\n    </tr>\n    <tr>\n      <th>31</th>\n      <td>45</td>\n    </tr>\n    <tr>\n      <th>32</th>\n      <td>20</td>\n    </tr>\n    <tr>\n      <th>33</th>\n      <td>45</td>\n    </tr>\n    <tr>\n      <th>34</th>\n      <td>30</td>\n    </tr>\n    <tr>\n      <th>35</th>\n      <td>41</td>\n    </tr>\n    <tr>\n      <th>36</th>\n      <td>40</td>\n    </tr>\n    <tr>\n      <th>37</th>\n      <td>38</td>\n    </tr>\n    <tr>\n      <th>38</th>\n      <td>10</td>\n    </tr>\n    <tr>\n      <th>39</th>\n      <td>31</td>\n    </tr>\n    <tr>\n      <th>40</th>\n      <td>47</td>\n    </tr>\n    <tr>\n      <th>41</th>\n      <td>19</td>\n    </tr>\n    <tr>\n      <th>42</th>\n      <td>31</td>\n    </tr>\n    <tr>\n      <th>43</th>\n      <td>21</td>\n    </tr>\n    <tr>\n      <th>44</th>\n      <td>41</td>\n    </tr>\n    <tr>\n      <th>45</th>\n      <td>46</td>\n    </tr>\n    <tr>\n      <th>46</th>\n      <td>28</td>\n    </tr>\n    <tr>\n      <th>47</th>\n      <td>29</td>\n    </tr>\n    <tr>\n      <th>48</th>\n      <td>18</td>\n    </tr>\n    <tr>\n      <th>49</th>\n      <td>28</td>\n    </tr>\n  </tbody>\n</table>\n</div>"
     },
     "execution_count": 236,
     "metadata": {},
     "output_type": "execute_result"
    }
   ],
   "source": [
    "A = pd.DataFrame(A)\n",
    "A"
   ],
   "metadata": {
    "collapsed": false,
    "pycharm": {
     "name": "#%%\n"
    }
   }
  },
  {
   "cell_type": "code",
   "execution_count": 237,
   "outputs": [
    {
     "name": "stdout",
     "output_type": "stream",
     "text": [
      "[ 4  6 13 16 10  0  1]\n",
      "[ 9.5 18.5 27.5 36.5 45.5 54.5 63.5 72.5]\n",
      "[14, 23, 32, 41, 50, 59, 68]\n",
      "Steps : [14, 23, 32, 41, 50, 59, 68]\n",
      "['9.5 ~ 18.5', '18.5 ~ 27.5', '27.5 ~ 36.5', '36.5 ~ 45.5', '45.5 ~ 54.5', '54.5 ~ 63.5', '63.5 ~ 72.5']\n",
      "interval : ['9.5 ~ 18.5', '18.5 ~ 27.5', '27.5 ~ 36.5', '36.5 ~ 45.5', '45.5 ~ 54.5', '54.5 ~ 63.5', '63.5 ~ 72.5']\n",
      "7\n",
      "hist : [ 4  6 13 16 10  0  1]\n",
      "8\n",
      "bins : [ 9.5 18.5 27.5 36.5 45.5 54.5 63.5 72.5]\n",
      "ratio : [0.08, 0.12, 0.26, 0.32, 0.2, 0.0, 0.02]\n"
     ]
    }
   ],
   "source": [
    "# K = 50^(1/2) +3 = 10~11\n",
    "# R= 69 -10 = 59\n",
    "# W - 59/10 = 5.9\n",
    "\n",
    "#bins = np.arange(min(A), max(A)+5.9, 5.9)\n",
    "bins = np.arange(9.5, 72.5 + 9 , 9)\n",
    "hist, bins = np.histogram(A, bins)\n",
    "print(hist)\n",
    "print(bins)\n",
    "Steps = []\n",
    "interval = []\n",
    "for i in range(len(bins)-1):\n",
    "    Steps.append(int(bins[i+1] - (9/2)))\n",
    "    interval.append('{} ~ {}'.format(bins[i] , bins[i+1]))\n",
    "print(Steps)\n",
    "print('Steps : {}'.format(Steps)) #계급값\n",
    "print(interval)\n",
    "print('interval : {}'.format(interval))\n",
    "print(len(hist))\n",
    "print('hist : {}'.format(hist))\n",
    "print(len(bins))\n",
    "print('bins : {}'.format(bins))\n",
    "ratio = []\n",
    "for i in hist:\n",
    "    ratio.append(round(i/50 ,2))\n",
    "print('ratio : {}'.format(ratio))\n",
    "\n"
   ],
   "metadata": {
    "collapsed": false,
    "pycharm": {
     "name": "#%%\n"
    }
   }
  },
  {
   "cell_type": "code",
   "execution_count": 238,
   "outputs": [
    {
     "data": {
      "text/plain": "             도수(f_i)  계급값(x_i)\n계급간격                          \n9.5 ~ 18.5         4        14\n18.5 ~ 27.5        6        23\n27.5 ~ 36.5       13        32\n36.5 ~ 45.5       16        41\n45.5 ~ 54.5       10        50\n54.5 ~ 63.5        0        59\n63.5 ~ 72.5        1        68",
      "text/html": "<div>\n<style scoped>\n    .dataframe tbody tr th:only-of-type {\n        vertical-align: middle;\n    }\n\n    .dataframe tbody tr th {\n        vertical-align: top;\n    }\n\n    .dataframe thead th {\n        text-align: right;\n    }\n</style>\n<table border=\"1\" class=\"dataframe\">\n  <thead>\n    <tr style=\"text-align: right;\">\n      <th></th>\n      <th>도수(f_i)</th>\n      <th>계급값(x_i)</th>\n    </tr>\n    <tr>\n      <th>계급간격</th>\n      <th></th>\n      <th></th>\n    </tr>\n  </thead>\n  <tbody>\n    <tr>\n      <th>9.5 ~ 18.5</th>\n      <td>4</td>\n      <td>14</td>\n    </tr>\n    <tr>\n      <th>18.5 ~ 27.5</th>\n      <td>6</td>\n      <td>23</td>\n    </tr>\n    <tr>\n      <th>27.5 ~ 36.5</th>\n      <td>13</td>\n      <td>32</td>\n    </tr>\n    <tr>\n      <th>36.5 ~ 45.5</th>\n      <td>16</td>\n      <td>41</td>\n    </tr>\n    <tr>\n      <th>45.5 ~ 54.5</th>\n      <td>10</td>\n      <td>50</td>\n    </tr>\n    <tr>\n      <th>54.5 ~ 63.5</th>\n      <td>0</td>\n      <td>59</td>\n    </tr>\n    <tr>\n      <th>63.5 ~ 72.5</th>\n      <td>1</td>\n      <td>68</td>\n    </tr>\n  </tbody>\n</table>\n</div>"
     },
     "execution_count": 238,
     "metadata": {},
     "output_type": "execute_result"
    }
   ],
   "source": [
    "B = pd.DataFrame({'계급간격' : interval ,'도수(f_i)' : hist , '계급값(x_i)' : Steps} )\n",
    "B= B.set_index('계급간격')\n",
    "B"
   ],
   "metadata": {
    "collapsed": false,
    "pycharm": {
     "name": "#%%\n"
    }
   }
  },
  {
   "cell_type": "code",
   "execution_count": 239,
   "outputs": [
    {
     "name": "stdout",
     "output_type": "stream",
     "text": [
      "1834\n"
     ]
    },
    {
     "data": {
      "text/plain": "             도수(f_i)  계급값(x_i)  f_i_x_i  x_i - |x  (x_i - |x)**2  \\\n계급간격                                                               \n9.5 ~ 18.5         4        14       56    -22.68       514.3824   \n18.5 ~ 27.5        6        23      138    -13.68       187.1424   \n27.5 ~ 36.5       13        32      416     -4.68        21.9024   \n36.5 ~ 45.5       16        41      656      4.32        18.6624   \n45.5 ~ 54.5       10        50      500     13.32       177.4224   \n54.5 ~ 63.5        0        59        0     22.32       498.1824   \n63.5 ~ 72.5        1        68       68     31.32       980.9424   \n\n             (x_i - |x)**2 * f_i  \n계급간격                              \n9.5 ~ 18.5             2057.5296  \n18.5 ~ 27.5            1122.8544  \n27.5 ~ 36.5             284.7312  \n36.5 ~ 45.5             298.5984  \n45.5 ~ 54.5            1774.2240  \n54.5 ~ 63.5               0.0000  \n63.5 ~ 72.5             980.9424  ",
      "text/html": "<div>\n<style scoped>\n    .dataframe tbody tr th:only-of-type {\n        vertical-align: middle;\n    }\n\n    .dataframe tbody tr th {\n        vertical-align: top;\n    }\n\n    .dataframe thead th {\n        text-align: right;\n    }\n</style>\n<table border=\"1\" class=\"dataframe\">\n  <thead>\n    <tr style=\"text-align: right;\">\n      <th></th>\n      <th>도수(f_i)</th>\n      <th>계급값(x_i)</th>\n      <th>f_i_x_i</th>\n      <th>x_i - |x</th>\n      <th>(x_i - |x)**2</th>\n      <th>(x_i - |x)**2 * f_i</th>\n    </tr>\n    <tr>\n      <th>계급간격</th>\n      <th></th>\n      <th></th>\n      <th></th>\n      <th></th>\n      <th></th>\n      <th></th>\n    </tr>\n  </thead>\n  <tbody>\n    <tr>\n      <th>9.5 ~ 18.5</th>\n      <td>4</td>\n      <td>14</td>\n      <td>56</td>\n      <td>-22.68</td>\n      <td>514.3824</td>\n      <td>2057.5296</td>\n    </tr>\n    <tr>\n      <th>18.5 ~ 27.5</th>\n      <td>6</td>\n      <td>23</td>\n      <td>138</td>\n      <td>-13.68</td>\n      <td>187.1424</td>\n      <td>1122.8544</td>\n    </tr>\n    <tr>\n      <th>27.5 ~ 36.5</th>\n      <td>13</td>\n      <td>32</td>\n      <td>416</td>\n      <td>-4.68</td>\n      <td>21.9024</td>\n      <td>284.7312</td>\n    </tr>\n    <tr>\n      <th>36.5 ~ 45.5</th>\n      <td>16</td>\n      <td>41</td>\n      <td>656</td>\n      <td>4.32</td>\n      <td>18.6624</td>\n      <td>298.5984</td>\n    </tr>\n    <tr>\n      <th>45.5 ~ 54.5</th>\n      <td>10</td>\n      <td>50</td>\n      <td>500</td>\n      <td>13.32</td>\n      <td>177.4224</td>\n      <td>1774.2240</td>\n    </tr>\n    <tr>\n      <th>54.5 ~ 63.5</th>\n      <td>0</td>\n      <td>59</td>\n      <td>0</td>\n      <td>22.32</td>\n      <td>498.1824</td>\n      <td>0.0000</td>\n    </tr>\n    <tr>\n      <th>63.5 ~ 72.5</th>\n      <td>1</td>\n      <td>68</td>\n      <td>68</td>\n      <td>31.32</td>\n      <td>980.9424</td>\n      <td>980.9424</td>\n    </tr>\n  </tbody>\n</table>\n</div>"
     },
     "execution_count": 239,
     "metadata": {},
     "output_type": "execute_result"
    }
   ],
   "source": [
    "#print(A.mean())\n",
    "B['f_i_x_i'] = B['도수(f_i)'] * B['계급값(x_i)']\n",
    "print(sum(B['f_i_x_i']))\n",
    "B['x_i - |x'] = B['계급값(x_i)'] - (sum(B['f_i_x_i'])/sum(B['도수(f_i)']))\n",
    "B['(x_i - |x)**2'] = (B['x_i - |x']**2)\n",
    "B['(x_i - |x)**2 * f_i'] = (B['(x_i - |x)**2'] *B['도수(f_i)'])\n",
    "B"
   ],
   "metadata": {
    "collapsed": false,
    "pycharm": {
     "name": "#%%\n"
    }
   }
  },
  {
   "cell_type": "code",
   "execution_count": 240,
   "outputs": [
    {
     "data": {
      "text/plain": "   도수(f_i) 계급값(x_i) f_i_x_i x_i - |x (x_i - |x)**2  (x_i - |x)**2 * f_i\n0     50.0        -       -        -             -              6518.88",
      "text/html": "<div>\n<style scoped>\n    .dataframe tbody tr th:only-of-type {\n        vertical-align: middle;\n    }\n\n    .dataframe tbody tr th {\n        vertical-align: top;\n    }\n\n    .dataframe thead th {\n        text-align: right;\n    }\n</style>\n<table border=\"1\" class=\"dataframe\">\n  <thead>\n    <tr style=\"text-align: right;\">\n      <th></th>\n      <th>도수(f_i)</th>\n      <th>계급값(x_i)</th>\n      <th>f_i_x_i</th>\n      <th>x_i - |x</th>\n      <th>(x_i - |x)**2</th>\n      <th>(x_i - |x)**2 * f_i</th>\n    </tr>\n  </thead>\n  <tbody>\n    <tr>\n      <th>0</th>\n      <td>50.0</td>\n      <td>-</td>\n      <td>-</td>\n      <td>-</td>\n      <td>-</td>\n      <td>6518.88</td>\n    </tr>\n  </tbody>\n</table>\n</div>"
     },
     "execution_count": 240,
     "metadata": {},
     "output_type": "execute_result"
    }
   ],
   "source": [
    "a =  pd.DataFrame(B[:].sum(axis=0))\n",
    "# a.transpose()\n",
    "a = a.transpose()\n",
    "a[['계급값(x_i)', 'x_i - |x' , '(x_i - |x)**2', 'f_i_x_i'] ] = '-'\n",
    "a"
   ],
   "metadata": {
    "collapsed": false,
    "pycharm": {
     "name": "#%%\n"
    }
   }
  },
  {
   "cell_type": "code",
   "execution_count": 241,
   "outputs": [
    {
     "data": {
      "text/plain": "    도수(f_i) 계급값(x_i) f_i_x_i x_i - |x (x_i - |x)**2  (x_i - |x)**2 * f_i\n합계     50.0        -       -        -             -              6518.88",
      "text/html": "<div>\n<style scoped>\n    .dataframe tbody tr th:only-of-type {\n        vertical-align: middle;\n    }\n\n    .dataframe tbody tr th {\n        vertical-align: top;\n    }\n\n    .dataframe thead th {\n        text-align: right;\n    }\n</style>\n<table border=\"1\" class=\"dataframe\">\n  <thead>\n    <tr style=\"text-align: right;\">\n      <th></th>\n      <th>도수(f_i)</th>\n      <th>계급값(x_i)</th>\n      <th>f_i_x_i</th>\n      <th>x_i - |x</th>\n      <th>(x_i - |x)**2</th>\n      <th>(x_i - |x)**2 * f_i</th>\n    </tr>\n  </thead>\n  <tbody>\n    <tr>\n      <th>합계</th>\n      <td>50.0</td>\n      <td>-</td>\n      <td>-</td>\n      <td>-</td>\n      <td>-</td>\n      <td>6518.88</td>\n    </tr>\n  </tbody>\n</table>\n</div>"
     },
     "execution_count": 241,
     "metadata": {},
     "output_type": "execute_result"
    }
   ],
   "source": [
    "a.index = ['합계']\n",
    "a"
   ],
   "metadata": {
    "collapsed": false,
    "pycharm": {
     "name": "#%%\n"
    }
   }
  },
  {
   "cell_type": "code",
   "execution_count": 242,
   "outputs": [
    {
     "data": {
      "text/plain": "             도수(f_i) 계급값(x_i) f_i_x_i x_i - |x (x_i - |x)**2  \\\n9.5 ~ 18.5       4.0       14      56   -22.68      514.3824   \n18.5 ~ 27.5      6.0       23     138   -13.68      187.1424   \n27.5 ~ 36.5     13.0       32     416    -4.68       21.9024   \n36.5 ~ 45.5     16.0       41     656     4.32       18.6624   \n45.5 ~ 54.5     10.0       50     500    13.32      177.4224   \n54.5 ~ 63.5      0.0       59       0    22.32      498.1824   \n63.5 ~ 72.5      1.0       68      68    31.32      980.9424   \n합계              50.0        -       -        -             -   \n\n             (x_i - |x)**2 * f_i  \n9.5 ~ 18.5             2057.5296  \n18.5 ~ 27.5            1122.8544  \n27.5 ~ 36.5             284.7312  \n36.5 ~ 45.5             298.5984  \n45.5 ~ 54.5            1774.2240  \n54.5 ~ 63.5               0.0000  \n63.5 ~ 72.5             980.9424  \n합계                     6518.8800  ",
      "text/html": "<div>\n<style scoped>\n    .dataframe tbody tr th:only-of-type {\n        vertical-align: middle;\n    }\n\n    .dataframe tbody tr th {\n        vertical-align: top;\n    }\n\n    .dataframe thead th {\n        text-align: right;\n    }\n</style>\n<table border=\"1\" class=\"dataframe\">\n  <thead>\n    <tr style=\"text-align: right;\">\n      <th></th>\n      <th>도수(f_i)</th>\n      <th>계급값(x_i)</th>\n      <th>f_i_x_i</th>\n      <th>x_i - |x</th>\n      <th>(x_i - |x)**2</th>\n      <th>(x_i - |x)**2 * f_i</th>\n    </tr>\n  </thead>\n  <tbody>\n    <tr>\n      <th>9.5 ~ 18.5</th>\n      <td>4.0</td>\n      <td>14</td>\n      <td>56</td>\n      <td>-22.68</td>\n      <td>514.3824</td>\n      <td>2057.5296</td>\n    </tr>\n    <tr>\n      <th>18.5 ~ 27.5</th>\n      <td>6.0</td>\n      <td>23</td>\n      <td>138</td>\n      <td>-13.68</td>\n      <td>187.1424</td>\n      <td>1122.8544</td>\n    </tr>\n    <tr>\n      <th>27.5 ~ 36.5</th>\n      <td>13.0</td>\n      <td>32</td>\n      <td>416</td>\n      <td>-4.68</td>\n      <td>21.9024</td>\n      <td>284.7312</td>\n    </tr>\n    <tr>\n      <th>36.5 ~ 45.5</th>\n      <td>16.0</td>\n      <td>41</td>\n      <td>656</td>\n      <td>4.32</td>\n      <td>18.6624</td>\n      <td>298.5984</td>\n    </tr>\n    <tr>\n      <th>45.5 ~ 54.5</th>\n      <td>10.0</td>\n      <td>50</td>\n      <td>500</td>\n      <td>13.32</td>\n      <td>177.4224</td>\n      <td>1774.2240</td>\n    </tr>\n    <tr>\n      <th>54.5 ~ 63.5</th>\n      <td>0.0</td>\n      <td>59</td>\n      <td>0</td>\n      <td>22.32</td>\n      <td>498.1824</td>\n      <td>0.0000</td>\n    </tr>\n    <tr>\n      <th>63.5 ~ 72.5</th>\n      <td>1.0</td>\n      <td>68</td>\n      <td>68</td>\n      <td>31.32</td>\n      <td>980.9424</td>\n      <td>980.9424</td>\n    </tr>\n    <tr>\n      <th>합계</th>\n      <td>50.0</td>\n      <td>-</td>\n      <td>-</td>\n      <td>-</td>\n      <td>-</td>\n      <td>6518.8800</td>\n    </tr>\n  </tbody>\n</table>\n</div>"
     },
     "execution_count": 242,
     "metadata": {},
     "output_type": "execute_result"
    }
   ],
   "source": [
    "B = pd.concat([B , a])\n",
    "B"
   ],
   "metadata": {
    "collapsed": false,
    "pycharm": {
     "name": "#%%\n"
    }
   }
  },
  {
   "cell_type": "code",
   "execution_count": 243,
   "outputs": [
    {
     "name": "stdout",
     "output_type": "stream",
     "text": [
      "602.0408163265306\n"
     ]
    }
   ],
   "source": [
    "#이 그룹화 자료의 분산 (s**2) =  29500 / (50-1) = 602.0408\n",
    "print(29500 / 49)"
   ],
   "metadata": {
    "collapsed": false,
    "pycharm": {
     "name": "#%%\n"
    }
   }
  },
  {
   "cell_type": "code",
   "execution_count": 244,
   "outputs": [
    {
     "name": "stdout",
     "output_type": "stream",
     "text": [
      "24.536519720612375\n"
     ]
    }
   ],
   "source": [
    "#이 그룹화 자료의 표준편차\n",
    "\n",
    "print(math.sqrt(602.0408))"
   ],
   "metadata": {
    "collapsed": false,
    "pycharm": {
     "name": "#%%\n"
    }
   }
  },
  {
   "cell_type": "code",
   "execution_count": 245,
   "outputs": [
    {
     "data": {
      "text/plain": "           도수(f_i)  계급값(x_i)\n계급간격                        \n1.05~1.41        8      1.23\n1.41~1.77        6      1.59\n1.77~2.13        5      1.95\n2.13~2.49        7      2.31\n2.49~2.85        4      2.67",
      "text/html": "<div>\n<style scoped>\n    .dataframe tbody tr th:only-of-type {\n        vertical-align: middle;\n    }\n\n    .dataframe tbody tr th {\n        vertical-align: top;\n    }\n\n    .dataframe thead th {\n        text-align: right;\n    }\n</style>\n<table border=\"1\" class=\"dataframe\">\n  <thead>\n    <tr style=\"text-align: right;\">\n      <th></th>\n      <th>도수(f_i)</th>\n      <th>계급값(x_i)</th>\n    </tr>\n    <tr>\n      <th>계급간격</th>\n      <th></th>\n      <th></th>\n    </tr>\n  </thead>\n  <tbody>\n    <tr>\n      <th>1.05~1.41</th>\n      <td>8</td>\n      <td>1.23</td>\n    </tr>\n    <tr>\n      <th>1.41~1.77</th>\n      <td>6</td>\n      <td>1.59</td>\n    </tr>\n    <tr>\n      <th>1.77~2.13</th>\n      <td>5</td>\n      <td>1.95</td>\n    </tr>\n    <tr>\n      <th>2.13~2.49</th>\n      <td>7</td>\n      <td>2.31</td>\n    </tr>\n    <tr>\n      <th>2.49~2.85</th>\n      <td>4</td>\n      <td>2.67</td>\n    </tr>\n  </tbody>\n</table>\n</div>"
     },
     "execution_count": 245,
     "metadata": {},
     "output_type": "execute_result"
    }
   ],
   "source": [
    "C = pd.DataFrame({'계급간격' : ['1.05~1.41' , '1.41~1.77' , '1.77~2.13' , '2.13~2.49' , '2.49~2.85'] ,'도수(f_i)' : [8,6,5,7,4] , '계급값(x_i)' : [1.23,1.59,1.95,2.31,2.67]} )\n",
    "C= C.set_index('계급간격')\n",
    "C"
   ],
   "metadata": {
    "collapsed": false,
    "pycharm": {
     "name": "#%%\n"
    }
   }
  },
  {
   "cell_type": "code",
   "execution_count": 246,
   "outputs": [
    {
     "name": "stdout",
     "output_type": "stream",
     "text": [
      "6.0\n"
     ]
    }
   ],
   "source": [
    "print(round(float(C['도수(f_i)'].mean()),2))\n"
   ],
   "metadata": {
    "collapsed": false,
    "pycharm": {
     "name": "#%%\n"
    }
   }
  },
  {
   "cell_type": "code",
   "execution_count": 247,
   "outputs": [
    {
     "name": "stdout",
     "output_type": "stream",
     "text": [
      "55.980000000000004\n"
     ]
    },
    {
     "data": {
      "text/plain": "           도수(f_i)  계급값(x_i)  f_i_x_i  x_i - |x  (x_i - |x)**2  \\\n계급간격                                                             \n1.05~1.41        8      1.23     9.84    -0.636       0.404496   \n1.41~1.77        6      1.59     9.54    -0.276       0.076176   \n1.77~2.13        5      1.95     9.75     0.084       0.007056   \n2.13~2.49        7      2.31    16.17     0.444       0.197136   \n2.49~2.85        4      2.67    10.68     0.804       0.646416   \n\n           (x_i - |x)**2 * f_i  \n계급간격                            \n1.05~1.41             3.235968  \n1.41~1.77             0.457056  \n1.77~2.13             0.035280  \n2.13~2.49             1.379952  \n2.49~2.85             2.585664  ",
      "text/html": "<div>\n<style scoped>\n    .dataframe tbody tr th:only-of-type {\n        vertical-align: middle;\n    }\n\n    .dataframe tbody tr th {\n        vertical-align: top;\n    }\n\n    .dataframe thead th {\n        text-align: right;\n    }\n</style>\n<table border=\"1\" class=\"dataframe\">\n  <thead>\n    <tr style=\"text-align: right;\">\n      <th></th>\n      <th>도수(f_i)</th>\n      <th>계급값(x_i)</th>\n      <th>f_i_x_i</th>\n      <th>x_i - |x</th>\n      <th>(x_i - |x)**2</th>\n      <th>(x_i - |x)**2 * f_i</th>\n    </tr>\n    <tr>\n      <th>계급간격</th>\n      <th></th>\n      <th></th>\n      <th></th>\n      <th></th>\n      <th></th>\n      <th></th>\n    </tr>\n  </thead>\n  <tbody>\n    <tr>\n      <th>1.05~1.41</th>\n      <td>8</td>\n      <td>1.23</td>\n      <td>9.84</td>\n      <td>-0.636</td>\n      <td>0.404496</td>\n      <td>3.235968</td>\n    </tr>\n    <tr>\n      <th>1.41~1.77</th>\n      <td>6</td>\n      <td>1.59</td>\n      <td>9.54</td>\n      <td>-0.276</td>\n      <td>0.076176</td>\n      <td>0.457056</td>\n    </tr>\n    <tr>\n      <th>1.77~2.13</th>\n      <td>5</td>\n      <td>1.95</td>\n      <td>9.75</td>\n      <td>0.084</td>\n      <td>0.007056</td>\n      <td>0.035280</td>\n    </tr>\n    <tr>\n      <th>2.13~2.49</th>\n      <td>7</td>\n      <td>2.31</td>\n      <td>16.17</td>\n      <td>0.444</td>\n      <td>0.197136</td>\n      <td>1.379952</td>\n    </tr>\n    <tr>\n      <th>2.49~2.85</th>\n      <td>4</td>\n      <td>2.67</td>\n      <td>10.68</td>\n      <td>0.804</td>\n      <td>0.646416</td>\n      <td>2.585664</td>\n    </tr>\n  </tbody>\n</table>\n</div>"
     },
     "execution_count": 247,
     "metadata": {},
     "output_type": "execute_result"
    }
   ],
   "source": [
    "C['f_i_x_i'] = C['도수(f_i)'] * C['계급값(x_i)']\n",
    "print(sum(C['f_i_x_i']))\n",
    "C['x_i - |x'] = C['계급값(x_i)'] - (sum(C['f_i_x_i'])/sum(C['도수(f_i)']))\n",
    "C['(x_i - |x)**2'] = (C['x_i - |x']**2)\n",
    "C['(x_i - |x)**2 * f_i'] = (C['(x_i - |x)**2'] *C['도수(f_i)'])\n",
    "C"
   ],
   "metadata": {
    "collapsed": false,
    "pycharm": {
     "name": "#%%\n"
    }
   }
  },
  {
   "cell_type": "code",
   "execution_count": 248,
   "outputs": [
    {
     "data": {
      "text/plain": "   도수(f_i) 계급값(x_i) f_i_x_i x_i - |x (x_i - |x)**2  (x_i - |x)**2 * f_i\n0     30.0        -       -        -             -              7.69392",
      "text/html": "<div>\n<style scoped>\n    .dataframe tbody tr th:only-of-type {\n        vertical-align: middle;\n    }\n\n    .dataframe tbody tr th {\n        vertical-align: top;\n    }\n\n    .dataframe thead th {\n        text-align: right;\n    }\n</style>\n<table border=\"1\" class=\"dataframe\">\n  <thead>\n    <tr style=\"text-align: right;\">\n      <th></th>\n      <th>도수(f_i)</th>\n      <th>계급값(x_i)</th>\n      <th>f_i_x_i</th>\n      <th>x_i - |x</th>\n      <th>(x_i - |x)**2</th>\n      <th>(x_i - |x)**2 * f_i</th>\n    </tr>\n  </thead>\n  <tbody>\n    <tr>\n      <th>0</th>\n      <td>30.0</td>\n      <td>-</td>\n      <td>-</td>\n      <td>-</td>\n      <td>-</td>\n      <td>7.69392</td>\n    </tr>\n  </tbody>\n</table>\n</div>"
     },
     "execution_count": 248,
     "metadata": {},
     "output_type": "execute_result"
    }
   ],
   "source": [
    "a =  pd.DataFrame(C[:].sum(axis=0))\n",
    "# a.transpose()\n",
    "a = a.transpose()\n",
    "a[['계급값(x_i)', 'x_i - |x' , '(x_i - |x)**2', 'f_i_x_i'] ] = '-'\n",
    "a"
   ],
   "metadata": {
    "collapsed": false,
    "pycharm": {
     "name": "#%%\n"
    }
   }
  },
  {
   "cell_type": "code",
   "execution_count": 249,
   "outputs": [
    {
     "data": {
      "text/plain": "    도수(f_i) 계급값(x_i) f_i_x_i x_i - |x (x_i - |x)**2  (x_i - |x)**2 * f_i\n합계     30.0        -       -        -             -              7.69392",
      "text/html": "<div>\n<style scoped>\n    .dataframe tbody tr th:only-of-type {\n        vertical-align: middle;\n    }\n\n    .dataframe tbody tr th {\n        vertical-align: top;\n    }\n\n    .dataframe thead th {\n        text-align: right;\n    }\n</style>\n<table border=\"1\" class=\"dataframe\">\n  <thead>\n    <tr style=\"text-align: right;\">\n      <th></th>\n      <th>도수(f_i)</th>\n      <th>계급값(x_i)</th>\n      <th>f_i_x_i</th>\n      <th>x_i - |x</th>\n      <th>(x_i - |x)**2</th>\n      <th>(x_i - |x)**2 * f_i</th>\n    </tr>\n  </thead>\n  <tbody>\n    <tr>\n      <th>합계</th>\n      <td>30.0</td>\n      <td>-</td>\n      <td>-</td>\n      <td>-</td>\n      <td>-</td>\n      <td>7.69392</td>\n    </tr>\n  </tbody>\n</table>\n</div>"
     },
     "execution_count": 249,
     "metadata": {},
     "output_type": "execute_result"
    }
   ],
   "source": [
    "a.index = ['합계']\n",
    "a"
   ],
   "metadata": {
    "collapsed": false,
    "pycharm": {
     "name": "#%%\n"
    }
   }
  },
  {
   "cell_type": "code",
   "execution_count": 250,
   "outputs": [
    {
     "data": {
      "text/plain": "           도수(f_i) 계급값(x_i) f_i_x_i x_i - |x (x_i - |x)**2  \\\n1.05~1.41      8.0     1.23    9.84   -0.636      0.404496   \n1.41~1.77      6.0     1.59    9.54   -0.276      0.076176   \n1.77~2.13      5.0     1.95    9.75    0.084      0.007056   \n2.13~2.49      7.0     2.31   16.17    0.444      0.197136   \n2.49~2.85      4.0     2.67   10.68    0.804      0.646416   \n합계            30.0        -       -        -             -   \n\n           (x_i - |x)**2 * f_i  \n1.05~1.41             3.235968  \n1.41~1.77             0.457056  \n1.77~2.13             0.035280  \n2.13~2.49             1.379952  \n2.49~2.85             2.585664  \n합계                    7.693920  ",
      "text/html": "<div>\n<style scoped>\n    .dataframe tbody tr th:only-of-type {\n        vertical-align: middle;\n    }\n\n    .dataframe tbody tr th {\n        vertical-align: top;\n    }\n\n    .dataframe thead th {\n        text-align: right;\n    }\n</style>\n<table border=\"1\" class=\"dataframe\">\n  <thead>\n    <tr style=\"text-align: right;\">\n      <th></th>\n      <th>도수(f_i)</th>\n      <th>계급값(x_i)</th>\n      <th>f_i_x_i</th>\n      <th>x_i - |x</th>\n      <th>(x_i - |x)**2</th>\n      <th>(x_i - |x)**2 * f_i</th>\n    </tr>\n  </thead>\n  <tbody>\n    <tr>\n      <th>1.05~1.41</th>\n      <td>8.0</td>\n      <td>1.23</td>\n      <td>9.84</td>\n      <td>-0.636</td>\n      <td>0.404496</td>\n      <td>3.235968</td>\n    </tr>\n    <tr>\n      <th>1.41~1.77</th>\n      <td>6.0</td>\n      <td>1.59</td>\n      <td>9.54</td>\n      <td>-0.276</td>\n      <td>0.076176</td>\n      <td>0.457056</td>\n    </tr>\n    <tr>\n      <th>1.77~2.13</th>\n      <td>5.0</td>\n      <td>1.95</td>\n      <td>9.75</td>\n      <td>0.084</td>\n      <td>0.007056</td>\n      <td>0.035280</td>\n    </tr>\n    <tr>\n      <th>2.13~2.49</th>\n      <td>7.0</td>\n      <td>2.31</td>\n      <td>16.17</td>\n      <td>0.444</td>\n      <td>0.197136</td>\n      <td>1.379952</td>\n    </tr>\n    <tr>\n      <th>2.49~2.85</th>\n      <td>4.0</td>\n      <td>2.67</td>\n      <td>10.68</td>\n      <td>0.804</td>\n      <td>0.646416</td>\n      <td>2.585664</td>\n    </tr>\n    <tr>\n      <th>합계</th>\n      <td>30.0</td>\n      <td>-</td>\n      <td>-</td>\n      <td>-</td>\n      <td>-</td>\n      <td>7.693920</td>\n    </tr>\n  </tbody>\n</table>\n</div>"
     },
     "execution_count": 250,
     "metadata": {},
     "output_type": "execute_result"
    }
   ],
   "source": [
    "C = pd.concat([C , a])\n",
    "C"
   ],
   "metadata": {
    "collapsed": false,
    "pycharm": {
     "name": "#%%\n"
    }
   }
  },
  {
   "cell_type": "code",
   "execution_count": 251,
   "outputs": [
    {
     "name": "stdout",
     "output_type": "stream",
     "text": [
      "2.0689655172413794\n"
     ]
    }
   ],
   "source": [
    "print(60/29)"
   ],
   "metadata": {
    "collapsed": false,
    "pycharm": {
     "name": "#%%\n"
    }
   }
  },
  {
   "cell_type": "code",
   "execution_count": 252,
   "outputs": [
    {
     "name": "stdout",
     "output_type": "stream",
     "text": [
      "1.4383899044561526\n"
     ]
    }
   ],
   "source": [
    "print(math.sqrt(60/29))"
   ],
   "metadata": {
    "collapsed": false,
    "pycharm": {
     "name": "#%%\n"
    }
   }
  },
  {
   "cell_type": "code",
   "execution_count": 253,
   "outputs": [
    {
     "data": {
      "text/plain": "           도수(f_i)  계급값(x_i)\n계급간격                        \n0.5~4.5         25       2.5\n4.5~8.5         55       6.5\n8.5~12.5        60      10.5\n12.5~16.5       90      14.5\n16.5~20.5      115      18.5\n20.5~24.5       85      22.5\n24.5~28.5       50      26.5\n28.5~32.5       20      30.5",
      "text/html": "<div>\n<style scoped>\n    .dataframe tbody tr th:only-of-type {\n        vertical-align: middle;\n    }\n\n    .dataframe tbody tr th {\n        vertical-align: top;\n    }\n\n    .dataframe thead th {\n        text-align: right;\n    }\n</style>\n<table border=\"1\" class=\"dataframe\">\n  <thead>\n    <tr style=\"text-align: right;\">\n      <th></th>\n      <th>도수(f_i)</th>\n      <th>계급값(x_i)</th>\n    </tr>\n    <tr>\n      <th>계급간격</th>\n      <th></th>\n      <th></th>\n    </tr>\n  </thead>\n  <tbody>\n    <tr>\n      <th>0.5~4.5</th>\n      <td>25</td>\n      <td>2.5</td>\n    </tr>\n    <tr>\n      <th>4.5~8.5</th>\n      <td>55</td>\n      <td>6.5</td>\n    </tr>\n    <tr>\n      <th>8.5~12.5</th>\n      <td>60</td>\n      <td>10.5</td>\n    </tr>\n    <tr>\n      <th>12.5~16.5</th>\n      <td>90</td>\n      <td>14.5</td>\n    </tr>\n    <tr>\n      <th>16.5~20.5</th>\n      <td>115</td>\n      <td>18.5</td>\n    </tr>\n    <tr>\n      <th>20.5~24.5</th>\n      <td>85</td>\n      <td>22.5</td>\n    </tr>\n    <tr>\n      <th>24.5~28.5</th>\n      <td>50</td>\n      <td>26.5</td>\n    </tr>\n    <tr>\n      <th>28.5~32.5</th>\n      <td>20</td>\n      <td>30.5</td>\n    </tr>\n  </tbody>\n</table>\n</div>"
     },
     "execution_count": 253,
     "metadata": {},
     "output_type": "execute_result"
    }
   ],
   "source": [
    "C = pd.DataFrame({'계급간격' : ['0.5~4.5' , '4.5~8.5' , '8.5~12.5' , '12.5~16.5' , '16.5~20.5' , '20.5~24.5', '24.5~28.5', '28.5~32.5'] ,'도수(f_i)' : [25,55,60,90,115,85,50,20] , '계급값(x_i)' : [2.5,6.5,10.5,14.5,18.5,22.5,26.5,30.5]} )\n",
    "C= C.set_index('계급간격')\n",
    "C"
   ],
   "metadata": {
    "collapsed": false,
    "pycharm": {
     "name": "#%%\n"
    }
   }
  },
  {
   "cell_type": "code",
   "execution_count": 254,
   "outputs": [
    {
     "name": "stdout",
     "output_type": "stream",
     "text": [
      "8330.0\n"
     ]
    },
    {
     "data": {
      "text/plain": "           도수(f_i)  계급값(x_i)  f_i_x_i  x_i - |x  (x_i - |x)**2  \\\n계급간격                                                             \n0.5~4.5         25       2.5     62.5    -14.16       200.5056   \n4.5~8.5         55       6.5    357.5    -10.16       103.2256   \n8.5~12.5        60      10.5    630.0     -6.16        37.9456   \n12.5~16.5       90      14.5   1305.0     -2.16         4.6656   \n16.5~20.5      115      18.5   2127.5      1.84         3.3856   \n20.5~24.5       85      22.5   1912.5      5.84        34.1056   \n24.5~28.5       50      26.5   1325.0      9.84        96.8256   \n28.5~32.5       20      30.5    610.0     13.84       191.5456   \n\n           (x_i - |x)**2 * f_i  \n계급간격                            \n0.5~4.5               5012.640  \n4.5~8.5               5677.408  \n8.5~12.5              2276.736  \n12.5~16.5              419.904  \n16.5~20.5              389.344  \n20.5~24.5             2898.976  \n24.5~28.5             4841.280  \n28.5~32.5             3830.912  ",
      "text/html": "<div>\n<style scoped>\n    .dataframe tbody tr th:only-of-type {\n        vertical-align: middle;\n    }\n\n    .dataframe tbody tr th {\n        vertical-align: top;\n    }\n\n    .dataframe thead th {\n        text-align: right;\n    }\n</style>\n<table border=\"1\" class=\"dataframe\">\n  <thead>\n    <tr style=\"text-align: right;\">\n      <th></th>\n      <th>도수(f_i)</th>\n      <th>계급값(x_i)</th>\n      <th>f_i_x_i</th>\n      <th>x_i - |x</th>\n      <th>(x_i - |x)**2</th>\n      <th>(x_i - |x)**2 * f_i</th>\n    </tr>\n    <tr>\n      <th>계급간격</th>\n      <th></th>\n      <th></th>\n      <th></th>\n      <th></th>\n      <th></th>\n      <th></th>\n    </tr>\n  </thead>\n  <tbody>\n    <tr>\n      <th>0.5~4.5</th>\n      <td>25</td>\n      <td>2.5</td>\n      <td>62.5</td>\n      <td>-14.16</td>\n      <td>200.5056</td>\n      <td>5012.640</td>\n    </tr>\n    <tr>\n      <th>4.5~8.5</th>\n      <td>55</td>\n      <td>6.5</td>\n      <td>357.5</td>\n      <td>-10.16</td>\n      <td>103.2256</td>\n      <td>5677.408</td>\n    </tr>\n    <tr>\n      <th>8.5~12.5</th>\n      <td>60</td>\n      <td>10.5</td>\n      <td>630.0</td>\n      <td>-6.16</td>\n      <td>37.9456</td>\n      <td>2276.736</td>\n    </tr>\n    <tr>\n      <th>12.5~16.5</th>\n      <td>90</td>\n      <td>14.5</td>\n      <td>1305.0</td>\n      <td>-2.16</td>\n      <td>4.6656</td>\n      <td>419.904</td>\n    </tr>\n    <tr>\n      <th>16.5~20.5</th>\n      <td>115</td>\n      <td>18.5</td>\n      <td>2127.5</td>\n      <td>1.84</td>\n      <td>3.3856</td>\n      <td>389.344</td>\n    </tr>\n    <tr>\n      <th>20.5~24.5</th>\n      <td>85</td>\n      <td>22.5</td>\n      <td>1912.5</td>\n      <td>5.84</td>\n      <td>34.1056</td>\n      <td>2898.976</td>\n    </tr>\n    <tr>\n      <th>24.5~28.5</th>\n      <td>50</td>\n      <td>26.5</td>\n      <td>1325.0</td>\n      <td>9.84</td>\n      <td>96.8256</td>\n      <td>4841.280</td>\n    </tr>\n    <tr>\n      <th>28.5~32.5</th>\n      <td>20</td>\n      <td>30.5</td>\n      <td>610.0</td>\n      <td>13.84</td>\n      <td>191.5456</td>\n      <td>3830.912</td>\n    </tr>\n  </tbody>\n</table>\n</div>"
     },
     "execution_count": 254,
     "metadata": {},
     "output_type": "execute_result"
    }
   ],
   "source": [
    "C['f_i_x_i'] = C['도수(f_i)'] * C['계급값(x_i)']\n",
    "print(sum(C['f_i_x_i']))\n",
    "C['x_i - |x'] = C['계급값(x_i)'] - (sum(C['f_i_x_i'])/sum(C['도수(f_i)']))\n",
    "C['(x_i - |x)**2'] = (C['x_i - |x']**2)\n",
    "C['(x_i - |x)**2 * f_i'] = (C['(x_i - |x)**2'] *C['도수(f_i)'])\n",
    "C"
   ],
   "metadata": {
    "collapsed": false,
    "pycharm": {
     "name": "#%%\n"
    }
   }
  },
  {
   "cell_type": "code",
   "execution_count": 258,
   "outputs": [
    {
     "data": {
      "text/plain": "   도수(f_i) 계급값(x_i) f_i_x_i x_i - |x (x_i - |x)**2  (x_i - |x)**2 * f_i\n0    500.0        -       -        -             -              25347.2",
      "text/html": "<div>\n<style scoped>\n    .dataframe tbody tr th:only-of-type {\n        vertical-align: middle;\n    }\n\n    .dataframe tbody tr th {\n        vertical-align: top;\n    }\n\n    .dataframe thead th {\n        text-align: right;\n    }\n</style>\n<table border=\"1\" class=\"dataframe\">\n  <thead>\n    <tr style=\"text-align: right;\">\n      <th></th>\n      <th>도수(f_i)</th>\n      <th>계급값(x_i)</th>\n      <th>f_i_x_i</th>\n      <th>x_i - |x</th>\n      <th>(x_i - |x)**2</th>\n      <th>(x_i - |x)**2 * f_i</th>\n    </tr>\n  </thead>\n  <tbody>\n    <tr>\n      <th>0</th>\n      <td>500.0</td>\n      <td>-</td>\n      <td>-</td>\n      <td>-</td>\n      <td>-</td>\n      <td>25347.2</td>\n    </tr>\n  </tbody>\n</table>\n</div>"
     },
     "execution_count": 258,
     "metadata": {},
     "output_type": "execute_result"
    }
   ],
   "source": [
    "a =  pd.DataFrame(C[:].sum(axis=0))\n",
    "# a.transpose()\n",
    "a = a.transpose()\n",
    "a[['계급값(x_i)', 'x_i - |x' , '(x_i - |x)**2', 'f_i_x_i'] ] = '-'\n",
    "a"
   ],
   "metadata": {
    "collapsed": false,
    "pycharm": {
     "name": "#%%\n"
    }
   }
  },
  {
   "cell_type": "code",
   "execution_count": 259,
   "outputs": [
    {
     "data": {
      "text/plain": "    도수(f_i) 계급값(x_i) f_i_x_i x_i - |x (x_i - |x)**2  (x_i - |x)**2 * f_i\n합계    500.0        -       -        -             -              25347.2",
      "text/html": "<div>\n<style scoped>\n    .dataframe tbody tr th:only-of-type {\n        vertical-align: middle;\n    }\n\n    .dataframe tbody tr th {\n        vertical-align: top;\n    }\n\n    .dataframe thead th {\n        text-align: right;\n    }\n</style>\n<table border=\"1\" class=\"dataframe\">\n  <thead>\n    <tr style=\"text-align: right;\">\n      <th></th>\n      <th>도수(f_i)</th>\n      <th>계급값(x_i)</th>\n      <th>f_i_x_i</th>\n      <th>x_i - |x</th>\n      <th>(x_i - |x)**2</th>\n      <th>(x_i - |x)**2 * f_i</th>\n    </tr>\n  </thead>\n  <tbody>\n    <tr>\n      <th>합계</th>\n      <td>500.0</td>\n      <td>-</td>\n      <td>-</td>\n      <td>-</td>\n      <td>-</td>\n      <td>25347.2</td>\n    </tr>\n  </tbody>\n</table>\n</div>"
     },
     "execution_count": 259,
     "metadata": {},
     "output_type": "execute_result"
    }
   ],
   "source": [
    "a.index = ['합계']\n",
    "a"
   ],
   "metadata": {
    "collapsed": false,
    "pycharm": {
     "name": "#%%\n"
    }
   }
  },
  {
   "cell_type": "code",
   "execution_count": 260,
   "outputs": [
    {
     "data": {
      "text/plain": "           도수(f_i) 계급값(x_i) f_i_x_i x_i - |x (x_i - |x)**2  \\\n0.5~4.5       25.0      2.5    62.5   -14.16      200.5056   \n4.5~8.5       55.0      6.5   357.5   -10.16      103.2256   \n8.5~12.5      60.0     10.5   630.0    -6.16       37.9456   \n12.5~16.5     90.0     14.5  1305.0    -2.16        4.6656   \n16.5~20.5    115.0     18.5  2127.5     1.84        3.3856   \n20.5~24.5     85.0     22.5  1912.5     5.84       34.1056   \n24.5~28.5     50.0     26.5  1325.0     9.84       96.8256   \n28.5~32.5     20.0     30.5   610.0    13.84      191.5456   \n합계           500.0        -       -        -             -   \n\n           (x_i - |x)**2 * f_i  \n0.5~4.5               5012.640  \n4.5~8.5               5677.408  \n8.5~12.5              2276.736  \n12.5~16.5              419.904  \n16.5~20.5              389.344  \n20.5~24.5             2898.976  \n24.5~28.5             4841.280  \n28.5~32.5             3830.912  \n합계                   25347.200  ",
      "text/html": "<div>\n<style scoped>\n    .dataframe tbody tr th:only-of-type {\n        vertical-align: middle;\n    }\n\n    .dataframe tbody tr th {\n        vertical-align: top;\n    }\n\n    .dataframe thead th {\n        text-align: right;\n    }\n</style>\n<table border=\"1\" class=\"dataframe\">\n  <thead>\n    <tr style=\"text-align: right;\">\n      <th></th>\n      <th>도수(f_i)</th>\n      <th>계급값(x_i)</th>\n      <th>f_i_x_i</th>\n      <th>x_i - |x</th>\n      <th>(x_i - |x)**2</th>\n      <th>(x_i - |x)**2 * f_i</th>\n    </tr>\n  </thead>\n  <tbody>\n    <tr>\n      <th>0.5~4.5</th>\n      <td>25.0</td>\n      <td>2.5</td>\n      <td>62.5</td>\n      <td>-14.16</td>\n      <td>200.5056</td>\n      <td>5012.640</td>\n    </tr>\n    <tr>\n      <th>4.5~8.5</th>\n      <td>55.0</td>\n      <td>6.5</td>\n      <td>357.5</td>\n      <td>-10.16</td>\n      <td>103.2256</td>\n      <td>5677.408</td>\n    </tr>\n    <tr>\n      <th>8.5~12.5</th>\n      <td>60.0</td>\n      <td>10.5</td>\n      <td>630.0</td>\n      <td>-6.16</td>\n      <td>37.9456</td>\n      <td>2276.736</td>\n    </tr>\n    <tr>\n      <th>12.5~16.5</th>\n      <td>90.0</td>\n      <td>14.5</td>\n      <td>1305.0</td>\n      <td>-2.16</td>\n      <td>4.6656</td>\n      <td>419.904</td>\n    </tr>\n    <tr>\n      <th>16.5~20.5</th>\n      <td>115.0</td>\n      <td>18.5</td>\n      <td>2127.5</td>\n      <td>1.84</td>\n      <td>3.3856</td>\n      <td>389.344</td>\n    </tr>\n    <tr>\n      <th>20.5~24.5</th>\n      <td>85.0</td>\n      <td>22.5</td>\n      <td>1912.5</td>\n      <td>5.84</td>\n      <td>34.1056</td>\n      <td>2898.976</td>\n    </tr>\n    <tr>\n      <th>24.5~28.5</th>\n      <td>50.0</td>\n      <td>26.5</td>\n      <td>1325.0</td>\n      <td>9.84</td>\n      <td>96.8256</td>\n      <td>4841.280</td>\n    </tr>\n    <tr>\n      <th>28.5~32.5</th>\n      <td>20.0</td>\n      <td>30.5</td>\n      <td>610.0</td>\n      <td>13.84</td>\n      <td>191.5456</td>\n      <td>3830.912</td>\n    </tr>\n    <tr>\n      <th>합계</th>\n      <td>500.0</td>\n      <td>-</td>\n      <td>-</td>\n      <td>-</td>\n      <td>-</td>\n      <td>25347.200</td>\n    </tr>\n  </tbody>\n</table>\n</div>"
     },
     "execution_count": 260,
     "metadata": {},
     "output_type": "execute_result"
    }
   ],
   "source": [
    "C = pd.concat([C , a])\n",
    "C"
   ],
   "metadata": {
    "collapsed": false,
    "pycharm": {
     "name": "#%%\n"
    }
   }
  },
  {
   "cell_type": "code",
   "execution_count": 263,
   "outputs": [
    {
     "name": "stdout",
     "output_type": "stream",
     "text": [
      "25347.199999999997\n",
      "5012.64\n",
      "분산 : 50.694399999999995 표본표준편차 : 7.119999999999999\n"
     ]
    }
   ],
   "source": [
    "print(C.iloc[-1,-1])\n",
    "print(C.iloc[0,-1])\n",
    "var = (C.iloc[-1,-1] / C.iloc[-1,0])\n",
    "std = math.sqrt(var)\n",
    "\n",
    "print(\"분산 : {} 표본표준편차 : {}\".format( var ,  std))"
   ],
   "metadata": {
    "collapsed": false,
    "pycharm": {
     "name": "#%%\n"
    }
   }
  },
  {
   "cell_type": "code",
   "execution_count": 256,
   "outputs": [
    {
     "name": "stdout",
     "output_type": "stream",
     "text": [
      "39.5\n"
     ]
    }
   ],
   "source": [
    "print((14.5+24.5+34.5+44.5+54.5+64.5)/6)"
   ],
   "metadata": {
    "collapsed": false,
    "pycharm": {
     "name": "#%%\n"
    }
   }
  },
  {
   "cell_type": "code",
   "execution_count": 257,
   "outputs": [
    {
     "name": "stdout",
     "output_type": "stream",
     "text": [
      "6.666666666666667\n"
     ]
    }
   ],
   "source": [
    "print((9+9+9+10+2+1) / 6)"
   ],
   "metadata": {
    "collapsed": false,
    "pycharm": {
     "name": "#%%\n"
    }
   }
  },
  {
   "cell_type": "code",
   "execution_count": 257,
   "outputs": [],
   "source": [],
   "metadata": {
    "collapsed": false,
    "pycharm": {
     "name": "#%%\n"
    }
   }
  }
 ],
 "metadata": {
  "kernelspec": {
   "display_name": "Python 3",
   "language": "python",
   "name": "python3"
  },
  "language_info": {
   "codemirror_mode": {
    "name": "ipython",
    "version": 2
   },
   "file_extension": ".py",
   "mimetype": "text/x-python",
   "name": "python",
   "nbconvert_exporter": "python",
   "pygments_lexer": "ipython2",
   "version": "2.7.6"
  }
 },
 "nbformat": 4,
 "nbformat_minor": 0
}