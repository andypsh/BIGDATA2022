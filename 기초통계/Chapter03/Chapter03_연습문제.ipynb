{
 "cells": [
  {
   "cell_type": "code",
   "execution_count": 425,
   "metadata": {
    "collapsed": true,
    "pycharm": {
     "name": "#%%\n"
    }
   },
   "outputs": [],
   "source": [
    "import itertools\n",
    "import platform\n",
    "import matplotlib\n",
    "import pandas as pd\n",
    "import matplotlib.pyplot as plt\n",
    "from matplotlib import font_manager, rc\n",
    "import seaborn as sns\n",
    "%precision 3\n",
    "from matplotlib import pyplot as plt\n",
    "%matplotlib inline\n",
    "#그래프를 주피터 놋북에 그리기 위해\n",
    "import numpy as np\n",
    "import copy\n",
    "from matplotlib import ticker\n",
    "from scipy.stats import probplot\n",
    "from scipy import stats\n",
    "import collections\n",
    "import itertools\n",
    "import math\n",
    "#from varname import nameof\n",
    "#히스토그램 그리기\n",
    "# Window\n",
    "if platform.system() == 'Windows':\n",
    "    matplotlib.rc('font', family='Malgun Gothic')\n",
    "elif platform.system() == 'Darwin': # Mac\n",
    "    matplotlib.rc('font', family='AppleGothic')\n",
    "else: #linux\n",
    "    matplotlib.rc('font', family='NanumGothic')\n",
    "\n",
    "# 그래프에 마이너스 표시가 되도록 변경\n",
    "matplotlib.rcParams['axes.unicode_minus'] = False\n",
    "\n",
    "# 한글 폰트 설정\n",
    "font_location = 'C:/Windows/Fonts/MALGUNSL.TTF' #맑은고딕\n",
    "font_name = font_manager.FontProperties(fname=font_location).get_name()\n",
    "rc('font',family=font_name)"
   ]
  },
  {
   "cell_type": "code",
   "execution_count": 426,
   "outputs": [
    {
     "name": "stdout",
     "output_type": "stream",
     "text": [
      "mean : 4.0\n",
      "median : 3.5\n",
      "[0 0 2 2 1 1 1 1]\n",
      "[(0, 0), (1, 0), (2, 2), (3, 2), (4, 1), (5, 1), (6, 1)]\n",
      "many : [2, 3]\n",
      "2 3\n"
     ]
    }
   ],
   "source": [
    "A = [3,7,4,2,3,5,2,6]\n",
    "\n",
    "print('mean : {}'.format(np.mean(A)))\n",
    "print('median : {}'.format(np.median(A)))\n",
    "# many = max(collections.Counter(A).values())\n",
    "a = np.bincount(A)\n",
    "print(a)\n",
    "b = a.argmax()\n",
    "many_idx = list(zip([i for i in range(max(A))],a ))\n",
    "print(many_idx)\n",
    "res=[]\n",
    "for i,j in many_idx:\n",
    "    if j== b:\n",
    "        res.append(i)\n",
    "print('many : {}'.format(res))\n",
    "print(*res)"
   ],
   "metadata": {
    "collapsed": false,
    "pycharm": {
     "name": "#%%\n"
    }
   }
  },
  {
   "cell_type": "code",
   "execution_count": 427,
   "outputs": [
    {
     "name": "stdout",
     "output_type": "stream",
     "text": [
      "mean : 4.4\n",
      "median : 3.0\n",
      "[1, 2, 2, 3, 3, 3, 4, 5, 5, 16]\n",
      "[0 1 2 3 1 2 0 0 0 0 0 0 0 0 0 0 1]\n",
      "[(0, 0), (1, 1), (2, 2), (3, 3), (4, 1), (5, 2), (6, 0), (7, 0), (8, 0), (9, 0), (10, 0), (11, 0), (12, 0), (13, 0), (14, 0), (15, 0)]\n",
      "many : [3]\n",
      "3\n",
      "i : 1\n",
      "i : 9\n",
      "[2, 2, 3, 3, 3, 4, 5, 5]\n",
      "절사평균 : 3.375\n"
     ]
    }
   ],
   "source": [
    "A = [2,1,5,3,3,4,2,5,3,16]\n",
    "\n",
    "print('mean : {}'.format(np.mean(A)))\n",
    "print('median : {}'.format(np.median(A)))\n",
    "A = sorted(A)\n",
    "print(A)\n",
    "\n",
    "# many = collections.Counter(A)\n",
    "# print(many)\n",
    "\n",
    "a = np.bincount(A)\n",
    "print(a)\n",
    "b = a.argmax()\n",
    "many_idx = list(zip([i for i in range(max(A))],a ))\n",
    "print(many_idx)\n",
    "res=[]\n",
    "for i,j in many_idx:\n",
    "    if j== b:\n",
    "        res.append(i)\n",
    "print('many : {}'.format(res))\n",
    "print(*res)\n",
    "\n",
    "i = int(len(A) *0.1)  #10%절사\n",
    "j = int(len(A) - i) #10%절사\n",
    "print(\"i : {}\".format(i))\n",
    "print(\"i : {}\".format(j))\n",
    "A = A[i:j]\n",
    "print(A)\n",
    "print(\"절사평균 : {}\".format(np.mean(A)))"
   ],
   "metadata": {
    "collapsed": false,
    "pycharm": {
     "name": "#%%\n"
    }
   }
  },
  {
   "cell_type": "code",
   "execution_count": 428,
   "outputs": [
    {
     "name": "stdout",
     "output_type": "stream",
     "text": [
      "[[34.2, 45.0, 39.5, 28.4, 37.7, 35.8, 30.6, 35.2, 34.2, 42.4], [33.5, 57.1, 49.7, 40.2, 44.2, 45.2, 47.8, 38.0, 53.9, 41.1, 41.7, 40.8, 55.5, 43.5, 49.1, 49.9]]\n",
      "marketing mean : 36.3\n",
      "marketing median : 35.5\n",
      "marketing 1사분위수 : 34.2\n",
      "marketing 3사분위수 : 39.05\n",
      "hwaehak mean : 45.7\n",
      "hwaehak median : 44.7\n",
      "hwaehak 1사분위수 : 41.025\n",
      "hwaehak 3사분위수 : 49.75\n"
     ]
    }
   ],
   "source": [
    "\n",
    "\n",
    "marketing = [34.2 ,45.0,39.5,28.4,37.7,35.8,30.6,35.2,34.2,42.4]\n",
    "hwaehak = [33.5,57.1,49.7,40.2,44.2,45.2,47.8,38.0,53.9,41.1,41.7,40.8,55.5,43.5,49.1,49.9]\n",
    "NACE = []\n",
    "NACE.append(marketing)\n",
    "NACE.append(hwaehak)\n",
    "name = [\"marketing\" , \"hwaehak\"]\n",
    "print(NACE)\n",
    "for i in range(len(NACE)):\n",
    "    print(\"{} mean : {}\".format(name[i] , np.mean(NACE[i])))\n",
    "    print(\"{} median : {}\".format(name[i] , np.median(NACE[i])))\n",
    "    print(\"{} 1사분위수 : {}\".format(name[i] , pd.DataFrame(NACE[i]).quantile(.25)[0]))\n",
    "    print(\"{} 3사분위수 : {}\".format(name[i] , pd.DataFrame(NACE[i]).quantile(.75)[0]))"
   ],
   "metadata": {
    "collapsed": false,
    "pycharm": {
     "name": "#%%\n"
    }
   }
  },
  {
   "cell_type": "code",
   "execution_count": 429,
   "outputs": [
    {
     "data": {
      "text/plain": "      한국   영국   독일   미국  프랑스   호주  스웨덴   일본\n사망자  2.6  0.9  0.6  1.3  1.0  0.8  0.5  0.7",
      "text/html": "<div>\n<style scoped>\n    .dataframe tbody tr th:only-of-type {\n        vertical-align: middle;\n    }\n\n    .dataframe tbody tr th {\n        vertical-align: top;\n    }\n\n    .dataframe thead th {\n        text-align: right;\n    }\n</style>\n<table border=\"1\" class=\"dataframe\">\n  <thead>\n    <tr style=\"text-align: right;\">\n      <th></th>\n      <th>한국</th>\n      <th>영국</th>\n      <th>독일</th>\n      <th>미국</th>\n      <th>프랑스</th>\n      <th>호주</th>\n      <th>스웨덴</th>\n      <th>일본</th>\n    </tr>\n  </thead>\n  <tbody>\n    <tr>\n      <th>사망자</th>\n      <td>2.6</td>\n      <td>0.9</td>\n      <td>0.6</td>\n      <td>1.3</td>\n      <td>1.0</td>\n      <td>0.8</td>\n      <td>0.5</td>\n      <td>0.7</td>\n    </tr>\n  </tbody>\n</table>\n</div>"
     },
     "execution_count": 429,
     "metadata": {},
     "output_type": "execute_result"
    }
   ],
   "source": [
    "Death = [2.6 , 0.9 , 0.6 , 1.3 ,1.0 ,0.8 ,0.5 ,0.7]\n",
    "nation = list(\"한국 영국 독일 미국 프랑스 호주 스웨덴 일본\".split(\" \"))\n",
    "A = pd.DataFrame(Death , nation).transpose()\n",
    "A.index = ['사망자']\n",
    "A"
   ],
   "metadata": {
    "collapsed": false,
    "pycharm": {
     "name": "#%%\n"
    }
   }
  },
  {
   "cell_type": "code",
   "execution_count": 430,
   "outputs": [
    {
     "name": "stdout",
     "output_type": "stream",
     "text": [
      "사망자 평균 : 1.05\n",
      "중위수 : 0.8500000000000001\n",
      "[(2.6, 1), (0.9, 1), (0.6, 1), (1.3, 1), (1.0, 1), (0.8, 1), (0.5, 1), (0.7, 1)]\n",
      "사망자 최빈값 : 2.6 0.9 0.6 1.3 1.0 0.8 0.5\n"
     ]
    }
   ],
   "source": [
    "print(\"사망자 평균 : {}\".format(np.mean(Death)))\n",
    "print(\"중위수 : {}\".format(np.median(Death)))\n",
    "a = collections.Counter(Death).most_common()\n",
    "print(a)\n",
    "\n",
    "res = []\n",
    "i=0\n",
    "while True:\n",
    "    if a[i][1]==a[0][1] and i!= len(a)-1:\n",
    "        res.append(a[i][0])\n",
    "        i+=1\n",
    "    else:\n",
    "        break\n",
    "print(\"사망자 최빈값 : {}\".format(' '.join(map(str, res))))"
   ],
   "metadata": {
    "collapsed": false,
    "pycharm": {
     "name": "#%%\n"
    }
   }
  },
  {
   "cell_type": "code",
   "execution_count": 431,
   "outputs": [
    {
     "data": {
      "text/plain": "지역     서울    분산    대구    인천    광주    대전    울산    세종    경기    강원    충북    충남  \\\n자립도  88.8  56.6  51.8  67.3  45.4  57.5  70.7  38.8  71.6  26.6  34.2  36.0   \n\n지역     전북    전남    경북    경남    제주  \n자립도  25.7  21.7  28.0  41.7  30.6  ",
      "text/html": "<div>\n<style scoped>\n    .dataframe tbody tr th:only-of-type {\n        vertical-align: middle;\n    }\n\n    .dataframe tbody tr th {\n        vertical-align: top;\n    }\n\n    .dataframe thead th {\n        text-align: right;\n    }\n</style>\n<table border=\"1\" class=\"dataframe\">\n  <thead>\n    <tr style=\"text-align: right;\">\n      <th>지역</th>\n      <th>서울</th>\n      <th>분산</th>\n      <th>대구</th>\n      <th>인천</th>\n      <th>광주</th>\n      <th>대전</th>\n      <th>울산</th>\n      <th>세종</th>\n      <th>경기</th>\n      <th>강원</th>\n      <th>충북</th>\n      <th>충남</th>\n      <th>전북</th>\n      <th>전남</th>\n      <th>경북</th>\n      <th>경남</th>\n      <th>제주</th>\n    </tr>\n  </thead>\n  <tbody>\n    <tr>\n      <th>자립도</th>\n      <td>88.8</td>\n      <td>56.6</td>\n      <td>51.8</td>\n      <td>67.3</td>\n      <td>45.4</td>\n      <td>57.5</td>\n      <td>70.7</td>\n      <td>38.8</td>\n      <td>71.6</td>\n      <td>26.6</td>\n      <td>34.2</td>\n      <td>36.0</td>\n      <td>25.7</td>\n      <td>21.7</td>\n      <td>28.0</td>\n      <td>41.7</td>\n      <td>30.6</td>\n    </tr>\n  </tbody>\n</table>\n</div>"
     },
     "execution_count": 431,
     "metadata": {},
     "output_type": "execute_result"
    }
   ],
   "source": [
    "Zarib = [88.8 , 56.6 , 51.8 ,67.3, 45.4 ,57.5, 70.7, 38.8 ,  71.6 , 26.6 , 34.2 , 36.0 , 25.7, 21.7, 28.0 , 41.7 ,30.6]\n",
    "city = list(\"서울 분산 대구 인천 광주 대전 울산 세종 경기 강원 충북 충남 전북 전남 경북 경남 제주\".split(\" \"))\n",
    "A = pd.DataFrame({'지역' : city , '자립도' : Zarib })\n",
    "A.set_index(\"지역\" , inplace =True)\n",
    "A = A.transpose()\n",
    "A"
   ],
   "metadata": {
    "collapsed": false,
    "pycharm": {
     "name": "#%%\n"
    }
   }
  },
  {
   "cell_type": "code",
   "execution_count": 432,
   "outputs": [
    {
     "name": "stdout",
     "output_type": "stream",
     "text": [
      "[88.8, 56.6, 51.8, 67.3, 45.4, 57.5, 70.7, 38.8, 71.6, 26.6, 34.2, 36.0, 25.7, 21.7, 28.0, 41.7, 30.6]\n",
      "평균 : 46.64705882352941\n",
      "중위수 : 41.7\n"
     ]
    }
   ],
   "source": [
    "B = A.transpose()\n",
    "c = B.iloc[:,0].tolist()\n",
    "print(c)\n",
    "means = np.mean(c)\n",
    "medians = np.median(c)\n",
    "\n",
    "print(\"평균 : {}\".format(means))\n",
    "print(\"중위수 : {}\".format(medians))"
   ],
   "metadata": {
    "collapsed": false,
    "pycharm": {
     "name": "#%%\n"
    }
   }
  },
  {
   "cell_type": "code",
   "execution_count": 433,
   "outputs": [
    {
     "data": {
      "text/plain": "연도       2004    2005    2006    2007    2008    2009    2010    2011    2012  \\\n혼인 건수  308598  314304  330634  343559  327715  309759  326104  329087  327073   \n이혼 건수  138932  128035  124524  124072  116535  123999  116858  114284  114316   \n\n연도       2013  \n혼인 건수  322807  \n이혼 건수  115292  ",
      "text/html": "<div>\n<style scoped>\n    .dataframe tbody tr th:only-of-type {\n        vertical-align: middle;\n    }\n\n    .dataframe tbody tr th {\n        vertical-align: top;\n    }\n\n    .dataframe thead th {\n        text-align: right;\n    }\n</style>\n<table border=\"1\" class=\"dataframe\">\n  <thead>\n    <tr style=\"text-align: right;\">\n      <th>연도</th>\n      <th>2004</th>\n      <th>2005</th>\n      <th>2006</th>\n      <th>2007</th>\n      <th>2008</th>\n      <th>2009</th>\n      <th>2010</th>\n      <th>2011</th>\n      <th>2012</th>\n      <th>2013</th>\n    </tr>\n  </thead>\n  <tbody>\n    <tr>\n      <th>혼인 건수</th>\n      <td>308598</td>\n      <td>314304</td>\n      <td>330634</td>\n      <td>343559</td>\n      <td>327715</td>\n      <td>309759</td>\n      <td>326104</td>\n      <td>329087</td>\n      <td>327073</td>\n      <td>322807</td>\n    </tr>\n    <tr>\n      <th>이혼 건수</th>\n      <td>138932</td>\n      <td>128035</td>\n      <td>124524</td>\n      <td>124072</td>\n      <td>116535</td>\n      <td>123999</td>\n      <td>116858</td>\n      <td>114284</td>\n      <td>114316</td>\n      <td>115292</td>\n    </tr>\n  </tbody>\n</table>\n</div>"
     },
     "execution_count": 433,
     "metadata": {},
     "output_type": "execute_result"
    }
   ],
   "source": [
    "YEAR = [i for i in range(2004, 2014)]\n",
    "marrage = list(map(int, \"308598 314304 330634 343559 327715 309759 326104 329087 327073 322807\".split(\" \")))\n",
    "divorsed = list(map(int, \"138932 128035 124524 124072 116535 123999 116858 114284 114316 115292\".split(\" \")))\n",
    "\n",
    "A = pd.DataFrame([YEAR , marrage , divorsed])\n",
    "A.index = ['연도' , '혼인 건수' , '이혼 건수']\n",
    "A = A.transpose()\n",
    "A.set_index('연도' , inplace=True)\n",
    "A = A.transpose()\n",
    "A\n"
   ],
   "metadata": {
    "collapsed": false,
    "pycharm": {
     "name": "#%%\n"
    }
   }
  },
  {
   "cell_type": "code",
   "execution_count": 434,
   "outputs": [
    {
     "data": {
      "text/plain": "       혼인 건수   이혼 건수\n연도                  \n2004  308598  138932\n2005  314304  128035\n2006  330634  124524\n2007  343559  124072\n2008  327715  116535\n2009  309759  123999\n2010  326104  116858\n2011  329087  114284\n2012  327073  114316\n2013  322807  115292",
      "text/html": "<div>\n<style scoped>\n    .dataframe tbody tr th:only-of-type {\n        vertical-align: middle;\n    }\n\n    .dataframe tbody tr th {\n        vertical-align: top;\n    }\n\n    .dataframe thead th {\n        text-align: right;\n    }\n</style>\n<table border=\"1\" class=\"dataframe\">\n  <thead>\n    <tr style=\"text-align: right;\">\n      <th></th>\n      <th>혼인 건수</th>\n      <th>이혼 건수</th>\n    </tr>\n    <tr>\n      <th>연도</th>\n      <th></th>\n      <th></th>\n    </tr>\n  </thead>\n  <tbody>\n    <tr>\n      <th>2004</th>\n      <td>308598</td>\n      <td>138932</td>\n    </tr>\n    <tr>\n      <th>2005</th>\n      <td>314304</td>\n      <td>128035</td>\n    </tr>\n    <tr>\n      <th>2006</th>\n      <td>330634</td>\n      <td>124524</td>\n    </tr>\n    <tr>\n      <th>2007</th>\n      <td>343559</td>\n      <td>124072</td>\n    </tr>\n    <tr>\n      <th>2008</th>\n      <td>327715</td>\n      <td>116535</td>\n    </tr>\n    <tr>\n      <th>2009</th>\n      <td>309759</td>\n      <td>123999</td>\n    </tr>\n    <tr>\n      <th>2010</th>\n      <td>326104</td>\n      <td>116858</td>\n    </tr>\n    <tr>\n      <th>2011</th>\n      <td>329087</td>\n      <td>114284</td>\n    </tr>\n    <tr>\n      <th>2012</th>\n      <td>327073</td>\n      <td>114316</td>\n    </tr>\n    <tr>\n      <th>2013</th>\n      <td>322807</td>\n      <td>115292</td>\n    </tr>\n  </tbody>\n</table>\n</div>"
     },
     "execution_count": 434,
     "metadata": {},
     "output_type": "execute_result"
    }
   ],
   "source": [
    "B = A.transpose()\n",
    "B"
   ],
   "metadata": {
    "collapsed": false,
    "pycharm": {
     "name": "#%%\n"
    }
   }
  },
  {
   "cell_type": "code",
   "execution_count": 435,
   "outputs": [
    {
     "name": "stdout",
     "output_type": "stream",
     "text": [
      "[308598, 314304, 330634, 343559, 327715, 309759, 326104, 329087, 327073, 322807]\n"
     ]
    },
    {
     "data": {
      "text/plain": "연도       2004    2005    2006    2007    2008    2009    2010    2011    2012  \\\n혼인 건수  308598  314304  330634  343559  327715  309759  326104  329087  327073   \n이혼 건수  138932  128035  124524  124072  116535  123999  116858  114284  114316   \n\n연도       2013        평균  \n혼인 건수  322807  323964.0  \n이혼 건수  115292  121684.7  ",
      "text/html": "<div>\n<style scoped>\n    .dataframe tbody tr th:only-of-type {\n        vertical-align: middle;\n    }\n\n    .dataframe tbody tr th {\n        vertical-align: top;\n    }\n\n    .dataframe thead th {\n        text-align: right;\n    }\n</style>\n<table border=\"1\" class=\"dataframe\">\n  <thead>\n    <tr style=\"text-align: right;\">\n      <th>연도</th>\n      <th>2004</th>\n      <th>2005</th>\n      <th>2006</th>\n      <th>2007</th>\n      <th>2008</th>\n      <th>2009</th>\n      <th>2010</th>\n      <th>2011</th>\n      <th>2012</th>\n      <th>2013</th>\n      <th>평균</th>\n    </tr>\n  </thead>\n  <tbody>\n    <tr>\n      <th>혼인 건수</th>\n      <td>308598</td>\n      <td>314304</td>\n      <td>330634</td>\n      <td>343559</td>\n      <td>327715</td>\n      <td>309759</td>\n      <td>326104</td>\n      <td>329087</td>\n      <td>327073</td>\n      <td>322807</td>\n      <td>323964.0</td>\n    </tr>\n    <tr>\n      <th>이혼 건수</th>\n      <td>138932</td>\n      <td>128035</td>\n      <td>124524</td>\n      <td>124072</td>\n      <td>116535</td>\n      <td>123999</td>\n      <td>116858</td>\n      <td>114284</td>\n      <td>114316</td>\n      <td>115292</td>\n      <td>121684.7</td>\n    </tr>\n  </tbody>\n</table>\n</div>"
     },
     "execution_count": 435,
     "metadata": {},
     "output_type": "execute_result"
    }
   ],
   "source": [
    "print(marrage)\n",
    "means = [np.mean(marrage) , np.mean(divorsed)]\n",
    "\n",
    "# print(a1)\n",
    "A['평균'] = means\n",
    "A"
   ],
   "metadata": {
    "collapsed": false,
    "pycharm": {
     "name": "#%%\n"
    }
   }
  },
  {
   "cell_type": "code",
   "execution_count": 436,
   "outputs": [
    {
     "name": "stdout",
     "output_type": "stream",
     "text": [
      "202279.3\n"
     ]
    }
   ],
   "source": [
    "print(means[0] - means[1])"
   ],
   "metadata": {
    "collapsed": false,
    "pycharm": {
     "name": "#%%\n"
    }
   }
  },
  {
   "cell_type": "code",
   "execution_count": 437,
   "outputs": [
    {
     "data": {
      "text/plain": "[-2.100,\n 0.700,\n 6.600,\n 10.300,\n 17.800,\n 22.600,\n 26.300,\n 27.300,\n 21.200,\n 15.400,\n 7.100,\n 1.500]"
     },
     "execution_count": 437,
     "metadata": {},
     "output_type": "execute_result"
    }
   ],
   "source": [
    "month = [\"{0:02d}\".format(i) for i in range(1,13)]\n",
    "average_temp = list(map(float, \"-2.1 0.7 6.6 10.3 17.8 22.6 26.3 27.3 21.2 15.4 7.1 1.5\".split(\" \")))\n",
    "raine = list(map(float , \"28.5 50.4 59.7 75.5 129.0 101.1 302.4 164.0 120.8 52.9 57.5 21.0\".split(\" \")))\n",
    "\n",
    "average_temp"
   ],
   "metadata": {
    "collapsed": false,
    "pycharm": {
     "name": "#%%\n"
    }
   }
  },
  {
   "cell_type": "code",
   "execution_count": 438,
   "outputs": [
    {
     "data": {
      "text/plain": "구분           01    02    03    04     05     06     07     08     09    10  \\\n평균 기온(ºC)  -2.1   0.7   6.6  10.3   17.8   22.6   26.3   27.3   21.2  15.4   \n강수량(mm)    28.5  50.4  59.7  75.5  129.0  101.1  302.4  164.0  120.8  52.9   \n\n구분           11    12  \n평균 기온(ºC)   7.1   1.5  \n강수량(mm)    57.5  21.0  ",
      "text/html": "<div>\n<style scoped>\n    .dataframe tbody tr th:only-of-type {\n        vertical-align: middle;\n    }\n\n    .dataframe tbody tr th {\n        vertical-align: top;\n    }\n\n    .dataframe thead th {\n        text-align: right;\n    }\n</style>\n<table border=\"1\" class=\"dataframe\">\n  <thead>\n    <tr style=\"text-align: right;\">\n      <th>구분</th>\n      <th>01</th>\n      <th>02</th>\n      <th>03</th>\n      <th>04</th>\n      <th>05</th>\n      <th>06</th>\n      <th>07</th>\n      <th>08</th>\n      <th>09</th>\n      <th>10</th>\n      <th>11</th>\n      <th>12</th>\n    </tr>\n  </thead>\n  <tbody>\n    <tr>\n      <th>평균 기온(ºC)</th>\n      <td>-2.1</td>\n      <td>0.7</td>\n      <td>6.6</td>\n      <td>10.3</td>\n      <td>17.8</td>\n      <td>22.6</td>\n      <td>26.3</td>\n      <td>27.3</td>\n      <td>21.2</td>\n      <td>15.4</td>\n      <td>7.1</td>\n      <td>1.5</td>\n    </tr>\n    <tr>\n      <th>강수량(mm)</th>\n      <td>28.5</td>\n      <td>50.4</td>\n      <td>59.7</td>\n      <td>75.5</td>\n      <td>129.0</td>\n      <td>101.1</td>\n      <td>302.4</td>\n      <td>164.0</td>\n      <td>120.8</td>\n      <td>52.9</td>\n      <td>57.5</td>\n      <td>21.0</td>\n    </tr>\n  </tbody>\n</table>\n</div>"
     },
     "execution_count": 438,
     "metadata": {},
     "output_type": "execute_result"
    }
   ],
   "source": [
    "A = pd.DataFrame({\"구분\" : month , \"평균 기온(ºC)\" : average_temp , \"강수량(mm)\" : raine})\n",
    "A.set_index('구분' , inplace = True)\n",
    "A = A.T\n",
    "A"
   ],
   "metadata": {
    "collapsed": false,
    "pycharm": {
     "name": "#%%\n"
    }
   }
  },
  {
   "cell_type": "code",
   "execution_count": 439,
   "outputs": [
    {
     "data": {
      "text/plain": "구분           01    02    03    04     05     06     07     08     09    10  \\\n평균 기온(ºC)  -2.1   0.7   6.6  10.3   17.8   22.6   26.3   27.3   21.2  15.4   \n강수량(mm)    28.5  50.4  59.7  75.5  129.0  101.1  302.4  164.0  120.8  52.9   \n\n구분           11    12         평균  \n평균 기온(ºC)   7.1   1.5  12.891667  \n강수량(mm)    57.5  21.0  96.900000  ",
      "text/html": "<div>\n<style scoped>\n    .dataframe tbody tr th:only-of-type {\n        vertical-align: middle;\n    }\n\n    .dataframe tbody tr th {\n        vertical-align: top;\n    }\n\n    .dataframe thead th {\n        text-align: right;\n    }\n</style>\n<table border=\"1\" class=\"dataframe\">\n  <thead>\n    <tr style=\"text-align: right;\">\n      <th>구분</th>\n      <th>01</th>\n      <th>02</th>\n      <th>03</th>\n      <th>04</th>\n      <th>05</th>\n      <th>06</th>\n      <th>07</th>\n      <th>08</th>\n      <th>09</th>\n      <th>10</th>\n      <th>11</th>\n      <th>12</th>\n      <th>평균</th>\n    </tr>\n  </thead>\n  <tbody>\n    <tr>\n      <th>평균 기온(ºC)</th>\n      <td>-2.1</td>\n      <td>0.7</td>\n      <td>6.6</td>\n      <td>10.3</td>\n      <td>17.8</td>\n      <td>22.6</td>\n      <td>26.3</td>\n      <td>27.3</td>\n      <td>21.2</td>\n      <td>15.4</td>\n      <td>7.1</td>\n      <td>1.5</td>\n      <td>12.891667</td>\n    </tr>\n    <tr>\n      <th>강수량(mm)</th>\n      <td>28.5</td>\n      <td>50.4</td>\n      <td>59.7</td>\n      <td>75.5</td>\n      <td>129.0</td>\n      <td>101.1</td>\n      <td>302.4</td>\n      <td>164.0</td>\n      <td>120.8</td>\n      <td>52.9</td>\n      <td>57.5</td>\n      <td>21.0</td>\n      <td>96.900000</td>\n    </tr>\n  </tbody>\n</table>\n</div>"
     },
     "execution_count": 439,
     "metadata": {},
     "output_type": "execute_result"
    }
   ],
   "source": [
    "A['평균'] = [np.mean(average_temp) , np.mean(raine)]\n",
    "A"
   ],
   "metadata": {
    "collapsed": false,
    "pycharm": {
     "name": "#%%\n"
    }
   }
  },
  {
   "cell_type": "code",
   "execution_count": 440,
   "outputs": [
    {
     "data": {
      "text/plain": "구분           01    02    03    04     05     06     07     08     09    10  \\\n평균 기온(ºC)  -2.1   0.7   6.6  10.3   17.8   22.6   26.3   27.3   21.2  15.4   \n강수량(mm)    28.5  50.4  59.7  75.5  129.0  101.1  302.4  164.0  120.8  52.9   \n\n구분           11    12         평균  10%-절사평균    중위수  \n평균 기온(ºC)   7.1   1.5  12.891667     12.95  12.85  \n강수량(mm)    57.5  21.0  96.900000     83.94  67.60  ",
      "text/html": "<div>\n<style scoped>\n    .dataframe tbody tr th:only-of-type {\n        vertical-align: middle;\n    }\n\n    .dataframe tbody tr th {\n        vertical-align: top;\n    }\n\n    .dataframe thead th {\n        text-align: right;\n    }\n</style>\n<table border=\"1\" class=\"dataframe\">\n  <thead>\n    <tr style=\"text-align: right;\">\n      <th>구분</th>\n      <th>01</th>\n      <th>02</th>\n      <th>03</th>\n      <th>04</th>\n      <th>05</th>\n      <th>06</th>\n      <th>07</th>\n      <th>08</th>\n      <th>09</th>\n      <th>10</th>\n      <th>11</th>\n      <th>12</th>\n      <th>평균</th>\n      <th>10%-절사평균</th>\n      <th>중위수</th>\n    </tr>\n  </thead>\n  <tbody>\n    <tr>\n      <th>평균 기온(ºC)</th>\n      <td>-2.1</td>\n      <td>0.7</td>\n      <td>6.6</td>\n      <td>10.3</td>\n      <td>17.8</td>\n      <td>22.6</td>\n      <td>26.3</td>\n      <td>27.3</td>\n      <td>21.2</td>\n      <td>15.4</td>\n      <td>7.1</td>\n      <td>1.5</td>\n      <td>12.891667</td>\n      <td>12.95</td>\n      <td>12.85</td>\n    </tr>\n    <tr>\n      <th>강수량(mm)</th>\n      <td>28.5</td>\n      <td>50.4</td>\n      <td>59.7</td>\n      <td>75.5</td>\n      <td>129.0</td>\n      <td>101.1</td>\n      <td>302.4</td>\n      <td>164.0</td>\n      <td>120.8</td>\n      <td>52.9</td>\n      <td>57.5</td>\n      <td>21.0</td>\n      <td>96.900000</td>\n      <td>83.94</td>\n      <td>67.60</td>\n    </tr>\n  </tbody>\n</table>\n</div>"
     },
     "execution_count": 440,
     "metadata": {},
     "output_type": "execute_result"
    }
   ],
   "source": [
    "average_temp = sorted(average_temp)\n",
    "raine = sorted(raine)\n",
    "x = [average_temp,raine]\n",
    "# i = int(len(average_temp) *0.1)\n",
    "# j = int(len(average_temp) - i)\n",
    "zulsa = []\n",
    "medians = []\n",
    "for i in x:\n",
    "    medians.append(np.median(i))\n",
    "    k = int(len(i) *0.1)\n",
    "    j = int(len(i) - k)\n",
    "    zulsa.append( np.mean(i[k:j]))\n",
    "A['10%-절사평균'] = zulsa\n",
    "A['중위수'] = medians\n",
    "\n",
    "A\n"
   ],
   "metadata": {
    "collapsed": false,
    "pycharm": {
     "name": "#%%\n"
    }
   }
  },
  {
   "cell_type": "code",
   "execution_count": 441,
   "outputs": [
    {
     "data": {
      "text/plain": "[2.300,\n 1.300,\n 1.500,\n 2.400,\n 1.500,\n 1.900,\n 1.100,\n 1.700,\n 1.200,\n 1.600,\n 1.100,\n 2.500,\n 2.200,\n 1.400,\n 1.300,\n 1.500,\n 1.800,\n 2.600,\n 2.300,\n 1.800,\n 2.400,\n 2.300,\n 1.200,\n 1.600,\n 1.900,\n 2.800,\n 2.300,\n 2.600,\n 1.300,\n 1.800]"
     },
     "execution_count": 441,
     "metadata": {},
     "output_type": "execute_result"
    }
   ],
   "source": [
    "A = list(map(float , \"2.3 1.3 1.5 2.4 1.5 1.9 1.1 1.7 1.2 1.6 1.1 2.5 2.2 1.4 1.3 1.5 1.8 2.6 2.3 1.8 2.4 2.3 1.2 1.6 1.9 2.8 2.3 2.6 1.3 1.8\".split(\" \")))\n",
    "A"
   ],
   "metadata": {
    "collapsed": false,
    "pycharm": {
     "name": "#%%\n"
    }
   }
  },
  {
   "cell_type": "code",
   "execution_count": 442,
   "outputs": [
    {
     "name": "stdout",
     "output_type": "stream",
     "text": [
      "평균 : 1.84 , 중위수 : 1.8 , 최빈값 : 2.3 \n"
     ]
    }
   ],
   "source": [
    "means = np.mean(A)\n",
    "medians = np.median(A)\n",
    "many = collections.Counter(A).most_common()\n",
    "\n",
    "i = 0\n",
    "res = []\n",
    "while True:\n",
    "    if many[i][1] == many[0][1] and i != len(many)-1:\n",
    "        res.append(many[i][0])\n",
    "        i+=1\n",
    "    else:\n",
    "        break\n",
    "res\n",
    "\n",
    "print(\"평균 : {} , 중위수 : {} , 최빈값 : {} \".format(round(means,2), medians , \" \".join(map(str, res))))\n",
    "A = pd.DataFrame(A)"
   ],
   "metadata": {
    "collapsed": false,
    "pycharm": {
     "name": "#%%\n"
    }
   }
  },
  {
   "cell_type": "code",
   "execution_count": 443,
   "outputs": [
    {
     "name": "stdout",
     "output_type": "stream",
     "text": [
      "Q1 : 1.42 , Q3 : 2.3\n",
      "40-백분위수 : 1.6\n"
     ]
    }
   ],
   "source": [
    "Q1 = A.quantile(.25)\n",
    "Q3 = A.quantile(.75)\n",
    "print(\"Q1 : {} , Q3 : {}\".format(round(Q1[0],2) , Q3[0]))\n",
    "\n",
    "ratio_40 = A.quantile(.4)\n",
    "print(\"40-백분위수 : {}\".format(ratio_40[0]))\n",
    "\n",
    "#Q1 =  (25 * len(A)) / 100\n",
    "#IQR = Q3 - Q1"
   ],
   "metadata": {
    "collapsed": false,
    "pycharm": {
     "name": "#%%\n"
    }
   }
  },
  {
   "cell_type": "code",
   "execution_count": 444,
   "outputs": [
    {
     "name": "stdout",
     "output_type": "stream",
     "text": [
      "평균 : 30.58 , 중위수 : 31.5 , 최빈값 : 5 4\n",
      "Q1 : 25.25 , Q3 : 35.0 , 30-백분위수 : 26.7\n"
     ]
    }
   ],
   "source": [
    "A= list(map(int, \"25 28 22 34 26 21 38 21 22 26 30 28 40 28 22 39 35 22 29 38 40 23 39 23 29 35 31 34 33 23 33 36 23 35 27 38 32 32 32 38 38 31 33 39 35 25 31 33 32 22\".split(\" \")))\n",
    "\n",
    "means = np.mean(A)\n",
    "medians = np.median(A)\n",
    "many = collections.Counter(A).most_common()\n",
    "res =[]\n",
    "i =0\n",
    "while True:\n",
    "    if many[i][1] == many[0][1] and i!= len(a)-1:\n",
    "        i+=1\n",
    "        res.append(many[i][1])\n",
    "    else:\n",
    "        break\n",
    "print(\"평균 : {} , 중위수 : {} , 최빈값 : {}\".format(means, medians, \" \".join(map(str, res))))\n",
    "A = pd.DataFrame(A)\n",
    "Q1 = A.quantile(.25)\n",
    "Q3 = A.quantile(.75)\n",
    "ratio_30 = A.quantile(.3)\n",
    "print(\"Q1 : {} , Q3 : {} , 30-백분위수 : {}\".format(Q1[0], Q3[0] , ratio_30[0]))"
   ],
   "metadata": {
    "collapsed": false,
    "pycharm": {
     "name": "#%%\n"
    }
   }
  },
  {
   "cell_type": "code",
   "execution_count": 445,
   "outputs": [
    {
     "name": "stdout",
     "output_type": "stream",
     "text": [
      "평균 : 12.063999999999998 , 중위수 : 12.149999999999999 , 최빈값 : 10.4\n",
      "5%-절사평균 : 12.14782608695652\n",
      "Q1 : 10.6 Q3 : 13.5 30-백분위수 : 10.81\n"
     ]
    }
   ],
   "source": [
    "A = list(map(float , \"11.1 10.6 10.4 10.5 10.2 12.4 14.6 12.0 6.2 13.7 14.7 14.0 11.2 11.2 10.6 10.2 12.1 12.5 14.4 9.7 12.2 9.8 12.3 12.8 14.9 13.5 14.7 11.5 13.6 11.5 14.5 9.5 13.1 13.1 10.6 10.4 9.6 13.5 12.7 14.3 13.6 14.8 13.2 13.4 11.8 10.3 9.8 13.2 10.9 11.8\".split(\" \")))\n",
    "\n",
    "means= np.mean(A)\n",
    "medians = np.median(A)\n",
    "many = collections.Counter(A).most_common()\n",
    "i =0\n",
    "res = []\n",
    "while True:\n",
    "    if many[i][1] == many[0][1] and i!= len(many)-1:\n",
    "        i+=1\n",
    "        res.append(many[i][0])\n",
    "    else:\n",
    "        break\n",
    "print(\"평균 : {} , 중위수 : {} , 최빈값 : {}\".format(means, medians, \" \".join(map(str, res))))\n",
    "\n",
    "i = int(len(A) *0.05)\n",
    "j = int(len(A) - i)\n",
    "Zulsa = np.mean(A[i:j])\n",
    "print(\"5%-절사평균 : {}\".format(Zulsa))\n",
    "A = pd.DataFrame(A)\n",
    "Q1 = A.quantile(.25)[0]\n",
    "Q3 = A.quantile(.75)[0]\n",
    "ratio_30 = A.quantile(.3)[0]\n",
    "print(\"Q1 : {} Q3 : {} 30-백분위수 : {}\".format(Q1 , Q3 , ratio_30))"
   ],
   "metadata": {
    "collapsed": false,
    "pycharm": {
     "name": "#%%\n"
    }
   }
  },
  {
   "cell_type": "code",
   "execution_count": 446,
   "outputs": [
    {
     "data": {
      "text/plain": "[10,\n 10,\n 11,\n 14,\n 15,\n 17,\n 20,\n 21,\n 21,\n 23,\n 25,\n 25,\n 25,\n 27,\n 28,\n 28,\n 31,\n 33,\n 33,\n 35,\n 36,\n 36,\n 36,\n 37,\n 38,\n 38,\n 39,\n 39,\n 39,\n 40,\n 41,\n 41,\n 42,\n 42,\n 43,\n 43,\n 43,\n 44,\n 44,\n 45,\n 47,\n 47,\n 47,\n 49,\n 53,\n 54,\n 55,\n 56,\n 58,\n 59]"
     },
     "execution_count": 446,
     "metadata": {},
     "output_type": "execute_result"
    }
   ],
   "source": [
    "a = [\"0 0 1 4 5 7\" , \"0 1 1 3 5 5 5 7 8 8\" , \"1 3 3 5 6 6 6 7 8 8 9 9 9\", \"0 1 1 2 2 3 3 3 4 4 5 7 7 7 9\", \"3 4 5 6 8 9\"]\n",
    "b = []\n",
    "for i in range(len(a)):\n",
    "    a[i] = (list(map(int, a[i].split(\" \"))))\n",
    "    a[i] = list(map(lambda x : x+(i+1)*10, a[i])) #기억하자\n",
    "    #a[i] = b(a[i])\n",
    "    b.append(a[i])\n",
    "a = list(itertools.chain.from_iterable(b)) #기억하자!!\n",
    "a\n",
    "#print(list(itertools.chain.from_iterable(b)))"
   ],
   "metadata": {
    "collapsed": false,
    "pycharm": {
     "name": "#%%\n"
    }
   }
  },
  {
   "cell_type": "code",
   "execution_count": 447,
   "outputs": [
    {
     "name": "stdout",
     "output_type": "stream",
     "text": [
      "평균 : 35.66 , 중위값 : 38.0\n",
      "[(25, 3), (36, 3), (39, 3), (43, 3), (47, 3), (10, 2), (21, 2), (28, 2), (33, 2), (38, 2), (41, 2), (42, 2), (44, 2), (11, 1), (14, 1), (15, 1), (17, 1), (20, 1), (23, 1), (27, 1), (31, 1), (35, 1), (37, 1), (40, 1), (45, 1), (49, 1), (53, 1), (54, 1), (55, 1), (56, 1), (58, 1), (59, 1)]\n",
      "5\n",
      "최빈값 :25 36 39 43 47 \n",
      "Q1 : 25.5 , Q3 : 43.75\n"
     ]
    }
   ],
   "source": [
    "means = np.mean(a)\n",
    "medians = np.median(a)\n",
    "print('평균 : {} , 중위값 : {}'.format(means , medians))\n",
    "many = collections.Counter(a).most_common()\n",
    "print(many)\n",
    "\n",
    "most = len(list(filter(lambda i: i[1] == many[0][1],many)))\n",
    "print(most)\n",
    "print(\"최빈값 :\" , end = '')\n",
    "for x,y in many[:most]:\n",
    "     print('{}'.format(x) , end = ' ')\n",
    "a = pd.DataFrame(a)\n",
    "Q1 = a.quantile(.25)[0]\n",
    "Q3 = a.quantile(.75)[0]\n",
    "print('\\nQ1 : {} , Q3 : {}'.format(Q1, Q3))"
   ],
   "metadata": {
    "collapsed": false,
    "pycharm": {
     "name": "#%%\n"
    }
   }
  },
  {
   "cell_type": "code",
   "execution_count": 448,
   "outputs": [
    {
     "name": "stdout",
     "output_type": "stream",
     "text": [
      "여자 평균 공부시간 : 144.67\n",
      "여자 공부시간의 표준편차 : 31.46\n",
      "여자의 120분에 대한 z-점수 : -0.78\n",
      "남자 평균 공부시간 : 128.17\n",
      "남자 공부시간의 표준편차 : 41.72\n",
      "남자의 120분에 대한 z-점수 : -0.2\n"
     ]
    }
   ],
   "source": [
    "girl = list(map(int,\"120 120 150 100 210 110 150 180 135 180 100 190 180 150 160 120 160 170 155 120 150 180 120 100 110 180 150 120 170 100\".split(\" \")))\n",
    "man = list(map(int, \"100 120 180 150 120 160 180 150 140 110 100 0 120 140 120 155 180 120 60 100 115 140 120 130 100 180 180 200 100 75\".split(\" \")))\n",
    "freshman_nm = [\"여자\" , \"남자\"]\n",
    "freshman = [girl , man]\n",
    "for i in range(2):\n",
    "    print(\"{} 평균 공부시간 : {}\".format(freshman_nm[i] , round(np.mean(freshman[i]),2)))\n",
    "    print(\"{} 공부시간의 표준편차 : {}\" .format(freshman_nm[i] , round(np.std(freshman[i] , ddof=1) ,2)))\n",
    "    print(\"{}의 120분에 대한 z-점수 : {}\".format(freshman_nm[i] , round((120-np.mean(freshman[i]))/ np.std(freshman[i] , ddof=1) ,2)     ))"
   ],
   "metadata": {
    "collapsed": false,
    "pycharm": {
     "name": "#%%\n"
    }
   }
  },
  {
   "cell_type": "code",
   "execution_count": 454,
   "outputs": [
    {
     "name": "stdout",
     "output_type": "stream",
     "text": [
      "남자의 나이 평균 : 32.0 , 중위값 : 32.0 , 최빈값 : 32 \n",
      "범위 : 15 , 평균편차 : 2.67\n",
      "표준편차 : 3.41\n",
      "여자의 나이 평균 : 29.07 , 중위값 : 29.0 , 최빈값 : 27 25 29 31 \n",
      "범위 : 12 , 평균편차 : 2.4\n",
      "표준편차 : 3.04\n"
     ]
    },
    {
     "data": {
      "text/plain": "     0\n0   27\n1   32\n2   25\n3   29\n4   25\n5   36\n6   29\n7   29\n8   27\n9   31\n10  25\n11  29\n12  25\n13  25\n14  29\n15  30\n16  30\n17  32\n18  27\n19  27\n20  30\n21  35\n22  27\n23  31\n24  24\n25  31\n26  31\n27  33\n28  30\n29  31",
      "text/html": "<div>\n<style scoped>\n    .dataframe tbody tr th:only-of-type {\n        vertical-align: middle;\n    }\n\n    .dataframe tbody tr th {\n        vertical-align: top;\n    }\n\n    .dataframe thead th {\n        text-align: right;\n    }\n</style>\n<table border=\"1\" class=\"dataframe\">\n  <thead>\n    <tr style=\"text-align: right;\">\n      <th></th>\n      <th>0</th>\n    </tr>\n  </thead>\n  <tbody>\n    <tr>\n      <th>0</th>\n      <td>27</td>\n    </tr>\n    <tr>\n      <th>1</th>\n      <td>32</td>\n    </tr>\n    <tr>\n      <th>2</th>\n      <td>25</td>\n    </tr>\n    <tr>\n      <th>3</th>\n      <td>29</td>\n    </tr>\n    <tr>\n      <th>4</th>\n      <td>25</td>\n    </tr>\n    <tr>\n      <th>5</th>\n      <td>36</td>\n    </tr>\n    <tr>\n      <th>6</th>\n      <td>29</td>\n    </tr>\n    <tr>\n      <th>7</th>\n      <td>29</td>\n    </tr>\n    <tr>\n      <th>8</th>\n      <td>27</td>\n    </tr>\n    <tr>\n      <th>9</th>\n      <td>31</td>\n    </tr>\n    <tr>\n      <th>10</th>\n      <td>25</td>\n    </tr>\n    <tr>\n      <th>11</th>\n      <td>29</td>\n    </tr>\n    <tr>\n      <th>12</th>\n      <td>25</td>\n    </tr>\n    <tr>\n      <th>13</th>\n      <td>25</td>\n    </tr>\n    <tr>\n      <th>14</th>\n      <td>29</td>\n    </tr>\n    <tr>\n      <th>15</th>\n      <td>30</td>\n    </tr>\n    <tr>\n      <th>16</th>\n      <td>30</td>\n    </tr>\n    <tr>\n      <th>17</th>\n      <td>32</td>\n    </tr>\n    <tr>\n      <th>18</th>\n      <td>27</td>\n    </tr>\n    <tr>\n      <th>19</th>\n      <td>27</td>\n    </tr>\n    <tr>\n      <th>20</th>\n      <td>30</td>\n    </tr>\n    <tr>\n      <th>21</th>\n      <td>35</td>\n    </tr>\n    <tr>\n      <th>22</th>\n      <td>27</td>\n    </tr>\n    <tr>\n      <th>23</th>\n      <td>31</td>\n    </tr>\n    <tr>\n      <th>24</th>\n      <td>24</td>\n    </tr>\n    <tr>\n      <th>25</th>\n      <td>31</td>\n    </tr>\n    <tr>\n      <th>26</th>\n      <td>31</td>\n    </tr>\n    <tr>\n      <th>27</th>\n      <td>33</td>\n    </tr>\n    <tr>\n      <th>28</th>\n      <td>30</td>\n    </tr>\n    <tr>\n      <th>29</th>\n      <td>31</td>\n    </tr>\n  </tbody>\n</table>\n</div>"
     },
     "execution_count": 454,
     "metadata": {},
     "output_type": "execute_result"
    }
   ],
   "source": [
    "man = list(map(int , \"32 35 30 30 30 40 30 33 31 35 25 32 28 27 32 29 35 31 29 27 34 37 32 35 29 34 34 38 32 34\".split(\" \")))\n",
    "girl = list(map(int, \"27 32 25 29 25 36 29 29 27 31 25 29 25 25 29 30 30 32 27 27 30 35 27 31 24 31 31 33 30 31\".split(\" \")))\n",
    "\n",
    "marrage_nm = [\"남자\" , \"여자\"]\n",
    "marrage = [man , girl]\n",
    "marrage_2 = pd.DataFrame({'남자' : man, '여자' : girl})\n",
    "for i in range(2):\n",
    "    means = round(np.mean(marrage[i]),2)\n",
    "    medians = round(np.median(marrage[i]),2)\n",
    "    print(\"{}의 나이 평균 : {} , 중위값 : {} , 최빈값 : \".format(marrage_nm[i],means , medians) , end = '')\n",
    "    many = collections.Counter(marrage[i]).most_common()\n",
    "    # print(many)\n",
    "    most = len(list(filter(lambda x : x[1] ==  many[0][1] , many)))\n",
    "    # print(most)\n",
    "    for x,y in many[:most]:\n",
    "        print(\"{}\".format(x) , end = \" \")\n",
    "\n",
    "    print()\n",
    "    scope = max(marrage[i]) - min(marrage[i])\n",
    "\n",
    "\n",
    "    M = pd.DataFrame(marrage[i])\n",
    "    N = pd.concat([M])\n",
    "\n",
    "    M['평균편차'] = abs(M.iloc[: ,0] - means)\n",
    "    Mean_division = round(float((M.iloc[:,[1]].sum(axis=0))/ len(marrage[i])),2)\n",
    "    #print(Mean_division)\n",
    "    print('범위 : {} , 평균편차 : {}'.format(scope,Mean_division))\n",
    "\n",
    "    stds = round(np.std(marrage[i] , ddof=1),2)\n",
    "    print('표준편차 : {}'.format(stds))\n",
    "    #z-점수 : (x - |x) / s\n",
    "N\n"
   ],
   "metadata": {
    "collapsed": false,
    "pycharm": {
     "name": "#%%\n"
    }
   }
  },
  {
   "cell_type": "code",
   "execution_count": 450,
   "outputs": [
    {
     "data": {
      "text/plain": "    남자  여자\n0   32  27\n1   35  32\n2   30  25\n3   30  29\n4   30  25\n5   40  36\n6   30  29\n7   33  29\n8   31  27\n9   35  31\n10  25  25\n11  32  29\n12  28  25\n13  27  25\n14  32  29\n15  29  30\n16  35  30\n17  31  32\n18  29  27\n19  27  27\n20  34  30\n21  37  35\n22  32  27\n23  35  31\n24  29  24\n25  34  31\n26  34  31\n27  38  33\n28  32  30\n29  34  31",
      "text/html": "<div>\n<style scoped>\n    .dataframe tbody tr th:only-of-type {\n        vertical-align: middle;\n    }\n\n    .dataframe tbody tr th {\n        vertical-align: top;\n    }\n\n    .dataframe thead th {\n        text-align: right;\n    }\n</style>\n<table border=\"1\" class=\"dataframe\">\n  <thead>\n    <tr style=\"text-align: right;\">\n      <th></th>\n      <th>남자</th>\n      <th>여자</th>\n    </tr>\n  </thead>\n  <tbody>\n    <tr>\n      <th>0</th>\n      <td>32</td>\n      <td>27</td>\n    </tr>\n    <tr>\n      <th>1</th>\n      <td>35</td>\n      <td>32</td>\n    </tr>\n    <tr>\n      <th>2</th>\n      <td>30</td>\n      <td>25</td>\n    </tr>\n    <tr>\n      <th>3</th>\n      <td>30</td>\n      <td>29</td>\n    </tr>\n    <tr>\n      <th>4</th>\n      <td>30</td>\n      <td>25</td>\n    </tr>\n    <tr>\n      <th>5</th>\n      <td>40</td>\n      <td>36</td>\n    </tr>\n    <tr>\n      <th>6</th>\n      <td>30</td>\n      <td>29</td>\n    </tr>\n    <tr>\n      <th>7</th>\n      <td>33</td>\n      <td>29</td>\n    </tr>\n    <tr>\n      <th>8</th>\n      <td>31</td>\n      <td>27</td>\n    </tr>\n    <tr>\n      <th>9</th>\n      <td>35</td>\n      <td>31</td>\n    </tr>\n    <tr>\n      <th>10</th>\n      <td>25</td>\n      <td>25</td>\n    </tr>\n    <tr>\n      <th>11</th>\n      <td>32</td>\n      <td>29</td>\n    </tr>\n    <tr>\n      <th>12</th>\n      <td>28</td>\n      <td>25</td>\n    </tr>\n    <tr>\n      <th>13</th>\n      <td>27</td>\n      <td>25</td>\n    </tr>\n    <tr>\n      <th>14</th>\n      <td>32</td>\n      <td>29</td>\n    </tr>\n    <tr>\n      <th>15</th>\n      <td>29</td>\n      <td>30</td>\n    </tr>\n    <tr>\n      <th>16</th>\n      <td>35</td>\n      <td>30</td>\n    </tr>\n    <tr>\n      <th>17</th>\n      <td>31</td>\n      <td>32</td>\n    </tr>\n    <tr>\n      <th>18</th>\n      <td>29</td>\n      <td>27</td>\n    </tr>\n    <tr>\n      <th>19</th>\n      <td>27</td>\n      <td>27</td>\n    </tr>\n    <tr>\n      <th>20</th>\n      <td>34</td>\n      <td>30</td>\n    </tr>\n    <tr>\n      <th>21</th>\n      <td>37</td>\n      <td>35</td>\n    </tr>\n    <tr>\n      <th>22</th>\n      <td>32</td>\n      <td>27</td>\n    </tr>\n    <tr>\n      <th>23</th>\n      <td>35</td>\n      <td>31</td>\n    </tr>\n    <tr>\n      <th>24</th>\n      <td>29</td>\n      <td>24</td>\n    </tr>\n    <tr>\n      <th>25</th>\n      <td>34</td>\n      <td>31</td>\n    </tr>\n    <tr>\n      <th>26</th>\n      <td>34</td>\n      <td>31</td>\n    </tr>\n    <tr>\n      <th>27</th>\n      <td>38</td>\n      <td>33</td>\n    </tr>\n    <tr>\n      <th>28</th>\n      <td>32</td>\n      <td>30</td>\n    </tr>\n    <tr>\n      <th>29</th>\n      <td>34</td>\n      <td>31</td>\n    </tr>\n  </tbody>\n</table>\n</div>"
     },
     "execution_count": 450,
     "metadata": {},
     "output_type": "execute_result"
    }
   ],
   "source": [
    "marrage_2"
   ],
   "metadata": {
    "collapsed": false,
    "pycharm": {
     "name": "#%%\n"
    }
   }
  },
  {
   "cell_type": "code",
   "execution_count": 451,
   "outputs": [
    {
     "data": {
      "text/plain": "    남자  여자  z-점수_남자  z-점수_여자\n0   32  27   0.0000  -0.6800\n1   35  32   0.8787   0.9652\n2   30  25  -0.5858  -1.3381\n3   30  29  -0.5858  -0.0219\n4   30  25  -0.5858  -1.3381\n5   40  36   2.3433   2.2813\n6   30  29  -0.5858  -0.0219\n7   33  29   0.2929  -0.0219\n8   31  27  -0.2929  -0.6800\n9   35  31   0.8787   0.6361\n10  25  25  -2.0504  -1.3381\n11  32  29   0.0000  -0.0219\n12  28  25  -1.1717  -1.3381\n13  27  25  -1.4646  -1.3381\n14  32  29   0.0000  -0.0219\n15  29  30  -0.8787   0.3071\n16  35  30   0.8787   0.3071\n17  31  32  -0.2929   0.9652\n18  29  27  -0.8787  -0.6800\n19  27  27  -1.4646  -0.6800\n20  34  30   0.5858   0.3071\n21  37  35   1.4646   1.9523\n22  32  27   0.0000  -0.6800\n23  35  31   0.8787   0.6361\n24  29  24  -0.8787  -1.6671\n25  34  31   0.5858   0.6361\n26  34  31   0.5858   0.6361\n27  38  33   1.7575   1.2942\n28  32  30   0.0000   0.3071\n29  34  31   0.5858   0.6361",
      "text/html": "<div>\n<style scoped>\n    .dataframe tbody tr th:only-of-type {\n        vertical-align: middle;\n    }\n\n    .dataframe tbody tr th {\n        vertical-align: top;\n    }\n\n    .dataframe thead th {\n        text-align: right;\n    }\n</style>\n<table border=\"1\" class=\"dataframe\">\n  <thead>\n    <tr style=\"text-align: right;\">\n      <th></th>\n      <th>남자</th>\n      <th>여자</th>\n      <th>z-점수_남자</th>\n      <th>z-점수_여자</th>\n    </tr>\n  </thead>\n  <tbody>\n    <tr>\n      <th>0</th>\n      <td>32</td>\n      <td>27</td>\n      <td>0.0000</td>\n      <td>-0.6800</td>\n    </tr>\n    <tr>\n      <th>1</th>\n      <td>35</td>\n      <td>32</td>\n      <td>0.8787</td>\n      <td>0.9652</td>\n    </tr>\n    <tr>\n      <th>2</th>\n      <td>30</td>\n      <td>25</td>\n      <td>-0.5858</td>\n      <td>-1.3381</td>\n    </tr>\n    <tr>\n      <th>3</th>\n      <td>30</td>\n      <td>29</td>\n      <td>-0.5858</td>\n      <td>-0.0219</td>\n    </tr>\n    <tr>\n      <th>4</th>\n      <td>30</td>\n      <td>25</td>\n      <td>-0.5858</td>\n      <td>-1.3381</td>\n    </tr>\n    <tr>\n      <th>5</th>\n      <td>40</td>\n      <td>36</td>\n      <td>2.3433</td>\n      <td>2.2813</td>\n    </tr>\n    <tr>\n      <th>6</th>\n      <td>30</td>\n      <td>29</td>\n      <td>-0.5858</td>\n      <td>-0.0219</td>\n    </tr>\n    <tr>\n      <th>7</th>\n      <td>33</td>\n      <td>29</td>\n      <td>0.2929</td>\n      <td>-0.0219</td>\n    </tr>\n    <tr>\n      <th>8</th>\n      <td>31</td>\n      <td>27</td>\n      <td>-0.2929</td>\n      <td>-0.6800</td>\n    </tr>\n    <tr>\n      <th>9</th>\n      <td>35</td>\n      <td>31</td>\n      <td>0.8787</td>\n      <td>0.6361</td>\n    </tr>\n    <tr>\n      <th>10</th>\n      <td>25</td>\n      <td>25</td>\n      <td>-2.0504</td>\n      <td>-1.3381</td>\n    </tr>\n    <tr>\n      <th>11</th>\n      <td>32</td>\n      <td>29</td>\n      <td>0.0000</td>\n      <td>-0.0219</td>\n    </tr>\n    <tr>\n      <th>12</th>\n      <td>28</td>\n      <td>25</td>\n      <td>-1.1717</td>\n      <td>-1.3381</td>\n    </tr>\n    <tr>\n      <th>13</th>\n      <td>27</td>\n      <td>25</td>\n      <td>-1.4646</td>\n      <td>-1.3381</td>\n    </tr>\n    <tr>\n      <th>14</th>\n      <td>32</td>\n      <td>29</td>\n      <td>0.0000</td>\n      <td>-0.0219</td>\n    </tr>\n    <tr>\n      <th>15</th>\n      <td>29</td>\n      <td>30</td>\n      <td>-0.8787</td>\n      <td>0.3071</td>\n    </tr>\n    <tr>\n      <th>16</th>\n      <td>35</td>\n      <td>30</td>\n      <td>0.8787</td>\n      <td>0.3071</td>\n    </tr>\n    <tr>\n      <th>17</th>\n      <td>31</td>\n      <td>32</td>\n      <td>-0.2929</td>\n      <td>0.9652</td>\n    </tr>\n    <tr>\n      <th>18</th>\n      <td>29</td>\n      <td>27</td>\n      <td>-0.8787</td>\n      <td>-0.6800</td>\n    </tr>\n    <tr>\n      <th>19</th>\n      <td>27</td>\n      <td>27</td>\n      <td>-1.4646</td>\n      <td>-0.6800</td>\n    </tr>\n    <tr>\n      <th>20</th>\n      <td>34</td>\n      <td>30</td>\n      <td>0.5858</td>\n      <td>0.3071</td>\n    </tr>\n    <tr>\n      <th>21</th>\n      <td>37</td>\n      <td>35</td>\n      <td>1.4646</td>\n      <td>1.9523</td>\n    </tr>\n    <tr>\n      <th>22</th>\n      <td>32</td>\n      <td>27</td>\n      <td>0.0000</td>\n      <td>-0.6800</td>\n    </tr>\n    <tr>\n      <th>23</th>\n      <td>35</td>\n      <td>31</td>\n      <td>0.8787</td>\n      <td>0.6361</td>\n    </tr>\n    <tr>\n      <th>24</th>\n      <td>29</td>\n      <td>24</td>\n      <td>-0.8787</td>\n      <td>-1.6671</td>\n    </tr>\n    <tr>\n      <th>25</th>\n      <td>34</td>\n      <td>31</td>\n      <td>0.5858</td>\n      <td>0.6361</td>\n    </tr>\n    <tr>\n      <th>26</th>\n      <td>34</td>\n      <td>31</td>\n      <td>0.5858</td>\n      <td>0.6361</td>\n    </tr>\n    <tr>\n      <th>27</th>\n      <td>38</td>\n      <td>33</td>\n      <td>1.7575</td>\n      <td>1.2942</td>\n    </tr>\n    <tr>\n      <th>28</th>\n      <td>32</td>\n      <td>30</td>\n      <td>0.0000</td>\n      <td>0.3071</td>\n    </tr>\n    <tr>\n      <th>29</th>\n      <td>34</td>\n      <td>31</td>\n      <td>0.5858</td>\n      <td>0.6361</td>\n    </tr>\n  </tbody>\n</table>\n</div>"
     },
     "execution_count": 451,
     "metadata": {},
     "output_type": "execute_result"
    }
   ],
   "source": [
    "marrage_2['z-점수_남자'] = round( (marrage_2['남자'] - np.mean(man)) / np.std(man , ddof=1),4)\n",
    "marrage_2['z-점수_여자'] = round( (marrage_2['여자'] - np.mean(girl)) / np.std(girl , ddof=1),4)\n",
    "marrage_2"
   ],
   "metadata": {
    "collapsed": false,
    "pycharm": {
     "name": "#%%\n"
    }
   }
  },
  {
   "cell_type": "code",
   "execution_count": 452,
   "outputs": [
    {
     "data": {
      "text/plain": "<matplotlib.legend.Legend at 0x1cdb99f1520>"
     },
     "execution_count": 452,
     "metadata": {},
     "output_type": "execute_result"
    },
    {
     "data": {
      "text/plain": "<Figure size 1080x576 with 1 Axes>",
      "image/png": "[encoded data removed]"
     },
     "metadata": {
      "needs_background": "light"
     },
     "output_type": "display_data"
    }
   ],
   "source": [
    "fig = plt.figure(figsize=(15,8))\n",
    "\n",
    "plt.scatter(x = [i for i in range(len(marrage_2))] , y = marrage_2['z-점수_남자'])\n",
    "\n",
    "plt.scatter(x = [i for i in range(len(marrage_2))] , y =marrage_2['z-점수_여자'] )\n",
    "plt.legend(['남자' , '여자'])\n",
    "#ax = sns.scatterplot(x='z-점수_남자' , y='z=점수_여자' , data= marrage_2)"
   ],
   "metadata": {
    "collapsed": false,
    "pycharm": {
     "name": "#%%\n"
    }
   }
  },
  {
   "cell_type": "code",
   "execution_count": 452,
   "outputs": [],
   "source": [
    "#공분산 : 독립변수의 평균편차와 응답변수의 평균편차의 곱을 모두 더한 뒤 N-1로 나눈 값"
   ],
   "metadata": {
    "collapsed": false,
    "pycharm": {
     "name": "#%%\n"
    }
   }
  },
  {
   "cell_type": "code",
   "execution_count": 452,
   "outputs": [],
   "source": [],
   "metadata": {
    "collapsed": false,
    "pycharm": {
     "name": "#%%\n"
    }
   }
  }
 ],
 "metadata": {
  "kernelspec": {
   "display_name": "Python 3",
   "language": "python",
   "name": "python3"
  },
  "language_info": {
   "codemirror_mode": {
    "name": "ipython",
    "version": 2
   },
   "file_extension": ".py",
   "mimetype": "text/x-python",
   "name": "python",
   "nbconvert_exporter": "python",
   "pygments_lexer": "ipython2",
   "version": "2.7.6"
  }
 },
 "nbformat": 4,
 "nbformat_minor": 0
}