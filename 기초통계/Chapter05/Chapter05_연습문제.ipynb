{
 "cells": [
  {
   "cell_type": "code",
   "execution_count": 1,
   "metadata": {
    "collapsed": true,
    "pycharm": {
     "name": "#%%\n"
    }
   },
   "outputs": [],
   "source": [
    "import itertools\n",
    "import platform\n",
    "import matplotlib\n",
    "import pandas as pd\n",
    "import matplotlib.pyplot as plt\n",
    "from matplotlib import font_manager, rc\n",
    "import seaborn as sns\n",
    "%precision 3\n",
    "from matplotlib import pyplot as plt\n",
    "%matplotlib inline\n",
    "#그래프를 주피터 놋북에 그리기 위해\n",
    "import numpy as np\n",
    "import copy\n",
    "from matplotlib import ticker\n",
    "from scipy.stats import probplot\n",
    "from scipy import stats\n",
    "import collections\n",
    "import itertools\n",
    "import math\n",
    "#from varname import nameof\n",
    "import sys\n",
    "#히스토그램 그리기\n",
    "# Window\n",
    "if platform.system() == 'Windows':\n",
    "    matplotlib.rc('font', family='Malgun Gothic')\n",
    "elif platform.system() == 'Darwin': # Mac\n",
    "    matplotlib.rc('font', family='AppleGothic')\n",
    "else: #linux\n",
    "    matplotlib.rc('font', family='NanumGothic')\n",
    "\n",
    "# 그래프에 마이너스 표시가 되도록 변경\n",
    "matplotlib.rcParams['axes.unicode_minus'] = False\n",
    "\n",
    "# 한글 폰트 설정\n",
    "font_location = 'C:/Windows/Fonts/MALGUNSL.TTF' #맑은고딕\n",
    "font_name = font_manager.FontProperties(fname=font_location).get_name()\n",
    "rc('font',family=font_name)"
   ]
  },
  {
   "cell_type": "code",
   "execution_count": 2,
   "outputs": [
    {
     "data": {
      "text/plain": "X           -2    -1  0     1    2\nP(X = x)  0.15  0.25  -  0.25  0.3",
      "text/html": "<div>\n<style scoped>\n    .dataframe tbody tr th:only-of-type {\n        vertical-align: middle;\n    }\n\n    .dataframe tbody tr th {\n        vertical-align: top;\n    }\n\n    .dataframe thead th {\n        text-align: right;\n    }\n</style>\n<table border=\"1\" class=\"dataframe\">\n  <thead>\n    <tr style=\"text-align: right;\">\n      <th>X</th>\n      <th>-2</th>\n      <th>-1</th>\n      <th>0</th>\n      <th>1</th>\n      <th>2</th>\n    </tr>\n  </thead>\n  <tbody>\n    <tr>\n      <th>P(X = x)</th>\n      <td>0.15</td>\n      <td>0.25</td>\n      <td>-</td>\n      <td>0.25</td>\n      <td>0.3</td>\n    </tr>\n  </tbody>\n</table>\n</div>"
     },
     "execution_count": 2,
     "metadata": {},
     "output_type": "execute_result"
    }
   ],
   "source": [
    "X = np.arange(-2,3)\n",
    "p_x = [0.15 , 0.25 , '-' , 0.25 , 0.3]\n",
    "\n",
    "A = pd.DataFrame([p_x] , columns = X)\n",
    "A.index = ['P(X = x)']\n",
    "A.columns.names = ['X']\n",
    "A"
   ],
   "metadata": {
    "collapsed": false,
    "pycharm": {
     "name": "#%%\n"
    }
   }
  },
  {
   "cell_type": "code",
   "execution_count": 3,
   "outputs": [
    {
     "data": {
      "text/plain": "P(X = x)    0.05\ndtype: float64"
     },
     "execution_count": 3,
     "metadata": {},
     "output_type": "execute_result"
    }
   ],
   "source": [
    "# A.loc[0, 0] =  (A.iloc[0, [-2,-1,1,2]])\n",
    "# A\n",
    "\n",
    "B =  (1-  A.iloc[ [0], [0,1,3,4]].sum(axis=1))\n",
    "B"
   ],
   "metadata": {
    "collapsed": false,
    "pycharm": {
     "name": "#%%\n"
    }
   }
  },
  {
   "cell_type": "code",
   "execution_count": 4,
   "outputs": [
    {
     "data": {
      "text/plain": "X           -2    -1     0     1    2\nP(X = x)  0.15  0.25  0.05  0.25  0.3",
      "text/html": "<div>\n<style scoped>\n    .dataframe tbody tr th:only-of-type {\n        vertical-align: middle;\n    }\n\n    .dataframe tbody tr th {\n        vertical-align: top;\n    }\n\n    .dataframe thead th {\n        text-align: right;\n    }\n</style>\n<table border=\"1\" class=\"dataframe\">\n  <thead>\n    <tr style=\"text-align: right;\">\n      <th>X</th>\n      <th>-2</th>\n      <th>-1</th>\n      <th>0</th>\n      <th>1</th>\n      <th>2</th>\n    </tr>\n  </thead>\n  <tbody>\n    <tr>\n      <th>P(X = x)</th>\n      <td>0.15</td>\n      <td>0.25</td>\n      <td>0.05</td>\n      <td>0.25</td>\n      <td>0.3</td>\n    </tr>\n  </tbody>\n</table>\n</div>"
     },
     "execution_count": 4,
     "metadata": {},
     "output_type": "execute_result"
    }
   ],
   "source": [
    "A.loc['P(X = x)' , 0] = (1-  A.iloc[ [0], [0,1,3,4]].sum(axis=1))[0]\n",
    "A\n"
   ],
   "metadata": {
    "collapsed": false,
    "pycharm": {
     "name": "#%%\n"
    }
   }
  },
  {
   "cell_type": "code",
   "execution_count": 5,
   "outputs": [
    {
     "name": "stdout",
     "output_type": "stream",
     "text": [
      "[0.15, 0.25, 0.050000000000000044, 0.25, 0.3]\n",
      "[-2 -1  0  1  2]\n",
      "0.3\n",
      "(4.0, 0.15, 0.6)\n",
      "(1.0, 0.25, 0.25)\n",
      "(0.0, 0.050000000000000044, 0.0)\n",
      "(1.0, 0.25, 0.25)\n",
      "(4.0, 0.3, 1.2)\n",
      "vars : 2.21\n",
      "2.21\n",
      "1.4866068747318506\n"
     ]
    }
   ],
   "source": [
    "b = A.iloc[0,:].tolist()\n",
    "print(b)\n",
    "print(X)\n",
    "mean = 0\n",
    "vars , vars2 =0 , 0\n",
    "for i in range(len(X)):\n",
    "    mean += (X[i]*b[i])\n",
    "mean = round(mean,2)\n",
    "print(mean)\n",
    "for i in range(len(X)):\n",
    "    vars += (math.pow(X[i] , 2) * b[i])\n",
    "    print((math.pow(X[i] , 2)  , b[i]  , math.pow(X[i] , 2) * b[i]))\n",
    "vars = vars - math.pow(mean,2)\n",
    "print(\"vars : {}\".format(vars))\n",
    "print(round(vars,2))\n",
    "print(math.sqrt(vars))"
   ],
   "metadata": {
    "collapsed": false,
    "pycharm": {
     "name": "#%%\n"
    }
   }
  },
  {
   "cell_type": "code",
   "execution_count": 6,
   "outputs": [
    {
     "name": "stdout",
     "output_type": "stream",
     "text": [
      "0.26266297148437506\n"
     ]
    }
   ],
   "source": [
    "print(len(list(itertools.combinations(np.arange(8) , 4))) * math.pow(0.45 , 4) * math.pow(0.55 , 4)     )"
   ],
   "metadata": {
    "collapsed": false,
    "pycharm": {
     "name": "#%%\n"
    }
   }
  },
  {
   "cell_type": "code",
   "execution_count": 7,
   "outputs": [
    {
     "name": "stdout",
     "output_type": "stream",
     "text": [
      "0.7431739834374999\n"
     ]
    }
   ],
   "source": [
    "print(1- len(list(itertools.combinations(np.arange(8) , 3))) * math.pow(0.45 , 3) * math.pow(0.55 , 5)     )"
   ],
   "metadata": {
    "collapsed": false,
    "pycharm": {
     "name": "#%%\n"
    }
   }
  },
  {
   "cell_type": "code",
   "execution_count": 8,
   "outputs": [
    {
     "name": "stdout",
     "output_type": "stream",
     "text": [
      "1.9800000000000002\n",
      "1.407124727947029\n"
     ]
    }
   ],
   "source": [
    "var = 8*0.45 * 0.55\n",
    "std = math.sqrt(var)\n",
    "print(var)\n",
    "print(std)\n"
   ],
   "metadata": {
    "collapsed": false,
    "pycharm": {
     "name": "#%%\n"
    }
   }
  },
  {
   "cell_type": "code",
   "execution_count": 9,
   "outputs": [
    {
     "name": "stdout",
     "output_type": "stream",
     "text": [
      "2.193\n",
      "5.007\n",
      "0.6914\n"
     ]
    }
   ],
   "source": [
    "print(3.6 - 1.407)\n",
    "print(3.6 + 1.407)\n",
    "print(1-0.2201 -0.0885)"
   ],
   "metadata": {
    "collapsed": false,
    "pycharm": {
     "name": "#%%\n"
    }
   }
  },
  {
   "cell_type": "code",
   "execution_count": 10,
   "outputs": [
    {
     "name": "stdout",
     "output_type": "stream",
     "text": [
      "0.786\n",
      "6.414\n",
      "0.9735\n"
     ]
    }
   ],
   "source": [
    "print(3.6 - 1.407*2)\n",
    "print(3.6 + 1.407*2)\n",
    "print(0.9819 - 0.0084)"
   ],
   "metadata": {
    "collapsed": false,
    "pycharm": {
     "name": "#%%\n"
    }
   }
  },
  {
   "cell_type": "code",
   "execution_count": 11,
   "outputs": [
    {
     "name": "stdout",
     "output_type": "stream",
     "text": [
      "0.667\n"
     ]
    }
   ],
   "source": [
    "print(0.932 - 0.265)"
   ],
   "metadata": {
    "collapsed": false,
    "pycharm": {
     "name": "#%%\n"
    }
   }
  },
  {
   "cell_type": "code",
   "execution_count": 12,
   "outputs": [
    {
     "name": "stdout",
     "output_type": "stream",
     "text": [
      "0.03840000000000001\n"
     ]
    }
   ],
   "source": [
    "print(0.6 * (0.4 ** 3))"
   ],
   "metadata": {
    "collapsed": false,
    "pycharm": {
     "name": "#%%\n"
    }
   }
  },
  {
   "cell_type": "code",
   "execution_count": 13,
   "outputs": [
    {
     "name": "stdout",
     "output_type": "stream",
     "text": [
      "0.47619047619047616\n"
     ]
    }
   ],
   "source": [
    "b = len(list(itertools.combinations(np.arange(6) , 3))) * len(list(itertools.combinations(np.arange(4) , 2))) / len(list(itertools.combinations(np.arange(10) , 5)))\n",
    "print(b)"
   ],
   "metadata": {
    "collapsed": false,
    "pycharm": {
     "name": "#%%\n"
    }
   }
  },
  {
   "cell_type": "code",
   "execution_count": 14,
   "outputs": [
    {
     "name": "stdout",
     "output_type": "stream",
     "text": [
      "0.23809523809523808\n"
     ]
    }
   ],
   "source": [
    "b = len(list(itertools.combinations(np.arange(6) , 4))) * len(list(itertools.combinations(np.arange(4) , 1))) / len(list(itertools.combinations(np.arange(10) , 5)))\n",
    "print(b)"
   ],
   "metadata": {
    "collapsed": false,
    "pycharm": {
     "name": "#%%\n"
    }
   }
  },
  {
   "cell_type": "code",
   "execution_count": 15,
   "outputs": [
    {
     "name": "stdout",
     "output_type": "stream",
     "text": [
      "0\n",
      "0.0\n",
      "1\n",
      "0.023809523809523808\n",
      "2\n",
      "0.23809523809523808\n",
      "3\n",
      "0.47619047619047616\n",
      "4\n",
      "0.23809523809523808\n",
      "0.976190476190476\n"
     ]
    }
   ],
   "source": [
    "b= 0\n",
    "\n",
    "for x in range(5):\n",
    "    print(x)\n",
    "\n",
    "    c = len(list(itertools.combinations(np.arange(6) , x))) * len(list(itertools.combinations(np.arange(4) , 5-x))) / len(list(itertools.combinations(np.arange(10) , 5)))\n",
    "    print(c)\n",
    "    b+=c\n",
    "print(b)"
   ],
   "metadata": {
    "collapsed": false,
    "pycharm": {
     "name": "#%%\n"
    }
   }
  },
  {
   "cell_type": "code",
   "execution_count": 16,
   "outputs": [
    {
     "name": "stdout",
     "output_type": "stream",
     "text": [
      "0\n",
      "0.0\n",
      "1\n",
      "0.023809523809523808\n",
      "2\n",
      "0.23809523809523808\n",
      "3\n",
      "0.47619047619047616\n",
      "0.261904761904762\n"
     ]
    }
   ],
   "source": [
    "b= 0\n",
    "\n",
    "for x in range(4):\n",
    "    print(x)\n",
    "\n",
    "    c = len(list(itertools.combinations(np.arange(6) , x))) * len(list(itertools.combinations(np.arange(4) , 5-x))) / len(list(itertools.combinations(np.arange(10) , 5)))\n",
    "    print(c)\n",
    "    b+=c\n",
    "print(1-b)"
   ],
   "metadata": {
    "collapsed": false,
    "pycharm": {
     "name": "#%%\n"
    }
   }
  },
  {
   "cell_type": "code",
   "execution_count": 17,
   "outputs": [
    {
     "name": "stdout",
     "output_type": "stream",
     "text": [
      "0.09600000000000002\n"
     ]
    }
   ],
   "source": [
    "print(0.6 *(0.4) **2)"
   ],
   "metadata": {
    "collapsed": false,
    "pycharm": {
     "name": "#%%\n"
    }
   }
  },
  {
   "cell_type": "code",
   "execution_count": 18,
   "outputs": [
    {
     "name": "stdout",
     "output_type": "stream",
     "text": [
      "1\n",
      "0.6\n",
      "2\n",
      "0.24\n",
      "3\n",
      "0.09600000000000002\n",
      "4\n",
      "0.03840000000000001\n",
      "0.9743999999999999\n"
     ]
    }
   ],
   "source": [
    "b= 0\n",
    "\n",
    "for x in range(1,5):\n",
    "    print(x)\n",
    "\n",
    "    c = 0.6 * (0.4 ** (x-1))\n",
    "    print(c)\n",
    "    b+=c\n",
    "print(b)"
   ],
   "metadata": {
    "collapsed": false,
    "pycharm": {
     "name": "#%%\n"
    }
   }
  },
  {
   "cell_type": "code",
   "execution_count": 19,
   "outputs": [
    {
     "name": "stdout",
     "output_type": "stream",
     "text": [
      "4\n",
      "0.03840000000000001\n",
      "5\n",
      "0.015360000000000002\n",
      "6\n",
      "0.006144000000000001\n",
      "7\n",
      "0.0024576000000000008\n",
      "8\n",
      "0.0009830400000000003\n",
      "0.06334464000000002\n"
     ]
    }
   ],
   "source": [
    "b= 0\n",
    "\n",
    "for x in range(4 , 9):\n",
    "    print(x)\n",
    "\n",
    "    c = 0.6 * (0.4 ** (x-1))\n",
    "    print(c)\n",
    "    b+=c\n",
    "print(b)"
   ],
   "metadata": {
    "collapsed": false,
    "pycharm": {
     "name": "#%%\n"
    }
   }
  },
  {
   "cell_type": "code",
   "execution_count": 20,
   "outputs": [
    {
     "name": "stdout",
     "output_type": "stream",
     "text": [
      "1\n",
      "0.6\n",
      "0.6\n",
      "2\n",
      "0.24\n",
      "0.84\n",
      "3\n",
      "0.09600000000000002\n",
      "0.9359999999999999\n",
      "4\n",
      "0.03840000000000001\n",
      "0.9743999999999999\n",
      "5\n",
      "0.015360000000000002\n",
      "0.98976\n",
      "6\n",
      "0.006144000000000001\n",
      "0.995904\n",
      "7\n",
      "0.0024576000000000008\n",
      "0.9983616\n",
      "8\n",
      "0.0009830400000000003\n",
      "0.99934464\n",
      "9\n",
      "0.0003932160000000002\n",
      "0.999737856\n",
      "0.0002621440000000197\n"
     ]
    }
   ],
   "source": [
    "b= 0\n",
    "\n",
    "for x in range(1,10):\n",
    "    print(x)\n",
    "\n",
    "    c = 0.6 * (0.4 ** (x-1))\n",
    "    print(c)\n",
    "    b+=c\n",
    "    print(b)\n",
    "print(1-b)"
   ],
   "metadata": {
    "collapsed": false,
    "pycharm": {
     "name": "#%%\n"
    }
   }
  },
  {
   "cell_type": "code",
   "execution_count": 21,
   "outputs": [
    {
     "data": {
      "text/plain": "등급(스타)    1   2   3   4   5\n자동차 수(대)  6  11  18  49  16",
      "text/html": "<div>\n<style scoped>\n    .dataframe tbody tr th:only-of-type {\n        vertical-align: middle;\n    }\n\n    .dataframe tbody tr th {\n        vertical-align: top;\n    }\n\n    .dataframe thead th {\n        text-align: right;\n    }\n</style>\n<table border=\"1\" class=\"dataframe\">\n  <thead>\n    <tr style=\"text-align: right;\">\n      <th>등급(스타)</th>\n      <th>1</th>\n      <th>2</th>\n      <th>3</th>\n      <th>4</th>\n      <th>5</th>\n    </tr>\n  </thead>\n  <tbody>\n    <tr>\n      <th>자동차 수(대)</th>\n      <td>6</td>\n      <td>11</td>\n      <td>18</td>\n      <td>49</td>\n      <td>16</td>\n    </tr>\n  </tbody>\n</table>\n</div>"
     },
     "execution_count": 21,
     "metadata": {},
     "output_type": "execute_result"
    }
   ],
   "source": [
    "x = np.arange(1,6)\n",
    "cars = [6 , 11 ,18 ,49 ,16]\n",
    "\n",
    "A = pd.DataFrame([cars] , columns = x)\n",
    "A.index =['자동차 수(대)']\n",
    "A.columns.names = ['등급(스타)']\n",
    "A"
   ],
   "metadata": {
    "collapsed": false,
    "pycharm": {
     "name": "#%%\n"
    }
   }
  },
  {
   "cell_type": "code",
   "execution_count": 22,
   "outputs": [
    {
     "data": {
      "text/plain": "등급(스타)       1     2     3     4     5\n자동차 수(대)  0.06  0.11  0.18  0.49  0.16",
      "text/html": "<div>\n<style scoped>\n    .dataframe tbody tr th:only-of-type {\n        vertical-align: middle;\n    }\n\n    .dataframe tbody tr th {\n        vertical-align: top;\n    }\n\n    .dataframe thead th {\n        text-align: right;\n    }\n</style>\n<table border=\"1\" class=\"dataframe\">\n  <thead>\n    <tr style=\"text-align: right;\">\n      <th>등급(스타)</th>\n      <th>1</th>\n      <th>2</th>\n      <th>3</th>\n      <th>4</th>\n      <th>5</th>\n    </tr>\n  </thead>\n  <tbody>\n    <tr>\n      <th>자동차 수(대)</th>\n      <td>0.06</td>\n      <td>0.11</td>\n      <td>0.18</td>\n      <td>0.49</td>\n      <td>0.16</td>\n    </tr>\n  </tbody>\n</table>\n</div>"
     },
     "execution_count": 22,
     "metadata": {},
     "output_type": "execute_result"
    }
   ],
   "source": [
    "A.loc['자동차 수(대)'] = A.loc['자동차 수(대)'] /A.loc['자동차 수(대)'].sum(axis=0)\n",
    "A"
   ],
   "metadata": {
    "collapsed": false,
    "pycharm": {
     "name": "#%%\n"
    }
   }
  },
  {
   "cell_type": "code",
   "execution_count": 23,
   "outputs": [
    {
     "data": {
      "text/plain": "0.83"
     },
     "execution_count": 23,
     "metadata": {},
     "output_type": "execute_result"
    }
   ],
   "source": [
    "b= A.iloc[0, [2,3,4]].sum(axis=0)\n",
    "b"
   ],
   "metadata": {
    "collapsed": false,
    "pycharm": {
     "name": "#%%\n"
    }
   }
  },
  {
   "cell_type": "code",
   "execution_count": 24,
   "outputs": [
    {
     "name": "stdout",
     "output_type": "stream",
     "text": [
      "0.06\n",
      "0.22\n",
      "0.54\n",
      "1.96\n",
      "0.8\n",
      "3.58\n"
     ]
    }
   ],
   "source": [
    "e_x = 0\n",
    "for i in range(len(x)):\n",
    "    a = x[i]*A.iloc[0, i]\n",
    "    print(a)\n",
    "    e_x +=a\n",
    "print(e_x)"
   ],
   "metadata": {
    "collapsed": false,
    "pycharm": {
     "name": "#%%\n"
    }
   }
  },
  {
   "cell_type": "code",
   "execution_count": 25,
   "outputs": [
    {
     "data": {
      "text/plain": "  파 3홀       파 4홀       파 5홀      \n     x  p(x)    x  p(x)    x  p(x)\n0    2  0.11    3  0.15    4  0.06\n1    3  0.78    4  0.78    5  0.78\n2    4  0.07    5  0.04    6  0.10\n3    5  0.04    6  0.03    7  0.06",
      "text/html": "<div>\n<style scoped>\n    .dataframe tbody tr th:only-of-type {\n        vertical-align: middle;\n    }\n\n    .dataframe tbody tr th {\n        vertical-align: top;\n    }\n\n    .dataframe thead tr th {\n        text-align: left;\n    }\n</style>\n<table border=\"1\" class=\"dataframe\">\n  <thead>\n    <tr>\n      <th></th>\n      <th colspan=\"2\" halign=\"left\">파 3홀</th>\n      <th colspan=\"2\" halign=\"left\">파 4홀</th>\n      <th colspan=\"2\" halign=\"left\">파 5홀</th>\n    </tr>\n    <tr>\n      <th></th>\n      <th>x</th>\n      <th>p(x)</th>\n      <th>x</th>\n      <th>p(x)</th>\n      <th>x</th>\n      <th>p(x)</th>\n    </tr>\n  </thead>\n  <tbody>\n    <tr>\n      <th>0</th>\n      <td>2</td>\n      <td>0.11</td>\n      <td>3</td>\n      <td>0.15</td>\n      <td>4</td>\n      <td>0.06</td>\n    </tr>\n    <tr>\n      <th>1</th>\n      <td>3</td>\n      <td>0.78</td>\n      <td>4</td>\n      <td>0.78</td>\n      <td>5</td>\n      <td>0.78</td>\n    </tr>\n    <tr>\n      <th>2</th>\n      <td>4</td>\n      <td>0.07</td>\n      <td>5</td>\n      <td>0.04</td>\n      <td>6</td>\n      <td>0.10</td>\n    </tr>\n    <tr>\n      <th>3</th>\n      <td>5</td>\n      <td>0.04</td>\n      <td>6</td>\n      <td>0.03</td>\n      <td>7</td>\n      <td>0.06</td>\n    </tr>\n  </tbody>\n</table>\n</div>"
     },
     "execution_count": 25,
     "metadata": {},
     "output_type": "execute_result"
    }
   ],
   "source": [
    "par_3 =np.arange(2,6)\n",
    "par_4 = np.arange(3,7)\n",
    "par_5 = np.arange(4,8)\n",
    "p_x = [[0.11 , 0.78 , 0.07 , 0.04] , [0.15 , 0.78 , 0.04 , 0.03] , [0.06 ,0.78 , 0.10 , 0.06]]\n",
    "\n",
    "A = pd.DataFrame([par_3 , par_4 , par_5 , *p_x] )\n",
    "A = A.T\n",
    "A = A.iloc[: , [0,3,1,4,2,5]]\n",
    "A = A.astype({0 : 'int64' , 2 : 'int64' ,1 : 'int64' })\n",
    "\n",
    "A.columns = [['파 3홀','파 3홀','파 4홀','파 4홀' , '파 5홀' , '파 5홀'], ['x','p(x)','x','p(x)' , 'x','p(x)']]\n",
    "A"
   ],
   "metadata": {
    "collapsed": false,
    "pycharm": {
     "name": "#%%\n"
    }
   }
  },
  {
   "cell_type": "code",
   "execution_count": 26,
   "outputs": [
    {
     "name": "stdout",
     "output_type": "stream",
     "text": [
      "0.22\n",
      "2.34\n",
      "0.28\n",
      "0.2\n",
      "0.44999999999999996\n",
      "3.12\n",
      "0.2\n",
      "0.18\n",
      "0.24\n",
      "3.9000000000000004\n",
      "0.6000000000000001\n",
      "0.42\n"
     ]
    },
    {
     "data": {
      "text/plain": "[3.04, 3.9500000000000006, 5.16]"
     },
     "execution_count": 26,
     "metadata": {},
     "output_type": "execute_result"
    }
   ],
   "source": [
    "hole= []\n",
    "\n",
    "for k in range(3):\n",
    "    a  ,b = 0 , 0\n",
    "    for i in range(len(par_3)):\n",
    "        a = A.iloc[i, k*2] * A.iloc[i, (k*2)+1]\n",
    "        print(a)\n",
    "        b += a\n",
    "    hole.append(b)\n",
    "hole"
   ],
   "metadata": {
    "collapsed": false,
    "pycharm": {
     "name": "#%%\n"
    }
   }
  },
  {
   "cell_type": "code",
   "execution_count": 27,
   "outputs": [
    {
     "name": "stdout",
     "output_type": "stream",
     "text": [
      "0.995347326264377\n"
     ]
    }
   ],
   "source": [
    "print( 1- (len(list(itertools.combinations(np.arange(20) , 1))) * math.pow(0.32 , 1) * math.pow(0.68 , 19) ) - ( len(list(itertools.combinations(np.arange(20) , 0))) * math.pow(0.32 , 0) * math.pow(0.68 , 20) ) )"
   ],
   "metadata": {
    "collapsed": false,
    "pycharm": {
     "name": "#%%\n"
    }
   }
  },
  {
   "cell_type": "code",
   "execution_count": 28,
   "outputs": [
    {
     "name": "stdout",
     "output_type": "stream",
     "text": [
      "6.4\n"
     ]
    }
   ],
   "source": [
    "print(20 * 0.32)"
   ],
   "metadata": {
    "collapsed": false,
    "pycharm": {
     "name": "#%%\n"
    }
   }
  },
  {
   "cell_type": "code",
   "execution_count": 29,
   "outputs": [
    {
     "name": "stdout",
     "output_type": "stream",
     "text": [
      "0.911\n"
     ]
    }
   ],
   "source": [
    "print(1 - 0.089)"
   ],
   "metadata": {
    "collapsed": false,
    "pycharm": {
     "name": "#%%\n"
    }
   }
  },
  {
   "cell_type": "code",
   "execution_count": 30,
   "outputs": [],
   "source": [
    "def fact(n):\n",
    "    if n== 0 or n==1:\n",
    "        return 1\n",
    "    else:\n",
    "        return n*fact(n-1)\n"
   ],
   "metadata": {
    "collapsed": false,
    "pycharm": {
     "name": "#%%\n"
    }
   }
  },
  {
   "cell_type": "code",
   "execution_count": 31,
   "outputs": [
    {
     "name": "stdout",
     "output_type": "stream",
     "text": [
      "0.9114715517393105\n"
     ]
    }
   ],
   "source": [
    "F_X = 0\n",
    "for x in range(0,6):\n",
    "    F_X += 9.5 ** x * math.exp(-9.5) / fact(x)\n",
    "\n",
    "print(1- F_X)"
   ],
   "metadata": {
    "collapsed": false,
    "pycharm": {
     "name": "#%%\n"
    }
   }
  },
  {
   "cell_type": "code",
   "execution_count": 32,
   "outputs": [
    {
     "name": "stdout",
     "output_type": "stream",
     "text": [
      "0.8941\n",
      "0.9999999967699843\n",
      "0.98941\n"
     ]
    }
   ],
   "source": [
    "F_X = 0\n",
    "m = (1 - 0.01059 * 10)\n",
    "print(m)\n",
    "for x in range(0,11):\n",
    "    F_X += (m ** x) * math.exp(-m) / fact(x)\n",
    "\n",
    "print(F_X)\n",
    "\n",
    "print(1 - 0.01059)"
   ],
   "metadata": {
    "collapsed": false,
    "pycharm": {
     "name": "#%%\n"
    }
   }
  },
  {
   "cell_type": "code",
   "execution_count": 33,
   "outputs": [
    {
     "name": "stdout",
     "output_type": "stream",
     "text": [
      "0.9999954059083884\n",
      "9894.1\n"
     ]
    }
   ],
   "source": [
    "F_X = 0\n",
    "for x in range(0,8):\n",
    "    F_X += (m ** x) * math.exp(-m) / fact(x)\n",
    "\n",
    "print(F_X)\n",
    "\n",
    "print(10000 * (1- 0.01059))"
   ],
   "metadata": {
    "collapsed": false,
    "pycharm": {
     "name": "#%%\n"
    }
   }
  },
  {
   "cell_type": "code",
   "execution_count": 34,
   "outputs": [
    {
     "name": "stdout",
     "output_type": "stream",
     "text": [
      "0.9999363101685547\n"
     ]
    }
   ],
   "source": [
    "F_X = 0\n",
    "for x in range(6):\n",
    "    F_X += len(list(itertools.combinations(np.arange(10) , x))) * (0.95 ** x) * (0.05 ** (10-x))\n",
    "print(1 - F_X)"
   ],
   "metadata": {
    "collapsed": false,
    "pycharm": {
     "name": "#%%\n"
    }
   }
  },
  {
   "cell_type": "code",
   "execution_count": 35,
   "outputs": [
    {
     "name": "stdout",
     "output_type": "stream",
     "text": [
      "0.40126306076162094\n"
     ]
    }
   ],
   "source": [
    "F_X = 0\n",
    "for x in range(10):\n",
    "    F_X += len(list(itertools.combinations(np.arange(10) , x))) * (0.95 ** x) * (0.05 ** (10-x))\n",
    "print(F_X)"
   ],
   "metadata": {
    "collapsed": false,
    "pycharm": {
     "name": "#%%\n"
    }
   }
  },
  {
   "cell_type": "code",
   "execution_count": 36,
   "outputs": [
    {
     "data": {
      "text/plain": "X          1     2      3       4        5         6         7         8   \\\nP(X = x)  0.6  0.24  0.096  0.0384  0.01536  0.006144  0.002458  0.000983   \n\nX               9         10  \nP(X = x)  0.000393  0.000157  ",
      "text/html": "<div>\n<style scoped>\n    .dataframe tbody tr th:only-of-type {\n        vertical-align: middle;\n    }\n\n    .dataframe tbody tr th {\n        vertical-align: top;\n    }\n\n    .dataframe thead th {\n        text-align: right;\n    }\n</style>\n<table border=\"1\" class=\"dataframe\">\n  <thead>\n    <tr style=\"text-align: right;\">\n      <th>X</th>\n      <th>1</th>\n      <th>2</th>\n      <th>3</th>\n      <th>4</th>\n      <th>5</th>\n      <th>6</th>\n      <th>7</th>\n      <th>8</th>\n      <th>9</th>\n      <th>10</th>\n    </tr>\n  </thead>\n  <tbody>\n    <tr>\n      <th>P(X = x)</th>\n      <td>0.6</td>\n      <td>0.24</td>\n      <td>0.096</td>\n      <td>0.0384</td>\n      <td>0.01536</td>\n      <td>0.006144</td>\n      <td>0.002458</td>\n      <td>0.000983</td>\n      <td>0.000393</td>\n      <td>0.000157</td>\n    </tr>\n  </tbody>\n</table>\n</div>"
     },
     "execution_count": 36,
     "metadata": {},
     "output_type": "execute_result"
    }
   ],
   "source": [
    "x = np.arange(1,11)\n",
    "a =[]\n",
    "for t in range(len(x)):\n",
    "    a.append( (0.6) * (0.4 ** (x[t]-1) )  )\n",
    "A = pd.DataFrame([a] , columns = x)\n",
    "A.index = ['P(X = x)']\n",
    "A.columns.names = ['X']\n",
    "A"
   ],
   "metadata": {
    "collapsed": false,
    "pycharm": {
     "name": "#%%\n"
    }
   }
  },
  {
   "cell_type": "code",
   "execution_count": 37,
   "outputs": [
    {
     "name": "stdout",
     "output_type": "stream",
     "text": [
      "0.010616832000000005\n"
     ]
    }
   ],
   "source": [
    "F_X = 0\n",
    "for x in range(2,3):\n",
    "    F_X += len(list(itertools.combinations(np.arange(10) , x))) * (0.6 ** x) * (0.4 ** (10-x))\n",
    "print(F_X)"
   ],
   "metadata": {
    "collapsed": false,
    "pycharm": {
     "name": "#%%\n"
    }
   }
  },
  {
   "cell_type": "code",
   "execution_count": 38,
   "outputs": [
    {
     "name": "stdout",
     "output_type": "stream",
     "text": [
      "0.9452381183999999\n"
     ]
    }
   ],
   "source": [
    "F_X = 0\n",
    "for x in range(0,4):\n",
    "    F_X += len(list(itertools.combinations(np.arange(10) , x))) * (0.6 ** x) * (0.4 ** (10-x))\n",
    "print(1  - F_X)"
   ],
   "metadata": {
    "collapsed": false,
    "pycharm": {
     "name": "#%%\n"
    }
   }
  },
  {
   "cell_type": "code",
   "execution_count": 39,
   "outputs": [
    {
     "name": "stdout",
     "output_type": "stream",
     "text": [
      "28.8\n",
      "0.6348065847416836\n",
      "0.3651934152583164\n"
     ]
    }
   ],
   "source": [
    "F_X = 0\n",
    "m = 32 * 0.9\n",
    "print(m)\n",
    "for x in range(0,31):\n",
    "    F_X += math.pow(m, x) * math.exp(-m) / fact(x)\n",
    "print(F_X)\n",
    "print(1  - F_X)"
   ],
   "metadata": {
    "collapsed": false,
    "pycharm": {
     "name": "#%%\n"
    }
   }
  },
  {
   "cell_type": "code",
   "execution_count": 40,
   "outputs": [
    {
     "name": "stdout",
     "output_type": "stream",
     "text": [
      "0.1712012567091381\n"
     ]
    }
   ],
   "source": [
    "F_X , F_X_2 = 0, 0\n",
    "m = 32 * 0.1\n",
    "for x in range(0,2):\n",
    "    F_X += (m ** x) * math.exp(-m) / fact(x)\n",
    "\n",
    "print(F_X)\n"
   ],
   "metadata": {
    "collapsed": false,
    "pycharm": {
     "name": "#%%\n"
    }
   }
  },
  {
   "cell_type": "code",
   "execution_count": 41,
   "outputs": [
    {
     "name": "stdout",
     "output_type": "stream",
     "text": [
      "0.12508864090596927\n"
     ]
    }
   ],
   "source": [
    "F_X  ,F_X_2 = 0 , 0\n",
    "m = 32 * 0.9\n",
    "for x in range(0,33):\n",
    "    F_X += (m ** x) * math.exp(-m) / fact(x)\n",
    "\n",
    "    if x<=30:\n",
    "        F_X_2 += (m ** x) * math.exp(-m) / fact(x)\n",
    "print(F_X - F_X_2)"
   ],
   "metadata": {
    "collapsed": false,
    "pycharm": {
     "name": "#%%\n"
    }
   }
  },
  {
   "cell_type": "code",
   "execution_count": 42,
   "outputs": [
    {
     "name": "stdout",
     "output_type": "stream",
     "text": [
      "0.15642337403554793\n"
     ]
    }
   ],
   "source": [
    "F_X = 0\n",
    "for x in range(0,2):\n",
    "    F_X += len(list(itertools.combinations(np.arange(32) , x))) * (0.1 ** x) * (0.9 ** (32-x))\n",
    "print(F_X)"
   ],
   "metadata": {
    "collapsed": false,
    "pycharm": {
     "name": "#%%\n"
    }
   }
  },
  {
   "cell_type": "code",
   "execution_count": 43,
   "outputs": [
    {
     "name": "stdout",
     "output_type": "stream",
     "text": [
      "0.3955078125\n"
     ]
    }
   ],
   "source": [
    "x = 1\n",
    "p_x = len(list(itertools.combinations(np.arange(5) , 1))) * (0.25 ** x) * (0.75 ** (5-x))\n",
    "print(p_x)"
   ],
   "metadata": {
    "collapsed": false,
    "pycharm": {
     "name": "#%%\n"
    }
   }
  },
  {
   "cell_type": "code",
   "execution_count": 44,
   "outputs": [
    {
     "name": "stdout",
     "output_type": "stream",
     "text": [
      "1.25\n"
     ]
    }
   ],
   "source": [
    "print(5 * 0.25)"
   ],
   "metadata": {
    "collapsed": false,
    "pycharm": {
     "name": "#%%\n"
    }
   }
  },
  {
   "cell_type": "code",
   "execution_count": 45,
   "outputs": [
    {
     "name": "stdout",
     "output_type": "stream",
     "text": [
      "0.05032843750000002\n"
     ]
    }
   ],
   "source": [
    "x = 5\n",
    "p_x = len(list(itertools.combinations(np.arange(5) , x))) * (0.55 ** x) * (0.45 ** (5-x))\n",
    "print(p_x)"
   ],
   "metadata": {
    "collapsed": false,
    "pycharm": {
     "name": "#%%\n"
    }
   }
  },
  {
   "cell_type": "code",
   "execution_count": 46,
   "outputs": [
    {
     "name": "stdout",
     "output_type": "stream",
     "text": [
      "0.3369093750000001\n"
     ]
    }
   ],
   "source": [
    "x = 3\n",
    "p_x = len(list(itertools.combinations(np.arange(5) , x))) * (0.55 ** x) * (0.45 ** (5-x))\n",
    "print(p_x)"
   ],
   "metadata": {
    "collapsed": false,
    "pycharm": {
     "name": "#%%\n"
    }
   }
  },
  {
   "cell_type": "code",
   "execution_count": 47,
   "outputs": [
    {
     "name": "stdout",
     "output_type": "stream",
     "text": [
      "0.9815471875\n"
     ]
    }
   ],
   "source": [
    "x = 0\n",
    "p_x = len(list(itertools.combinations(np.arange(5) , x))) * (0.55 ** x) * (0.45 ** (5-x))\n",
    "print(1  - p_x)"
   ],
   "metadata": {
    "collapsed": false,
    "pycharm": {
     "name": "#%%\n"
    }
   }
  },
  {
   "cell_type": "code",
   "execution_count": 48,
   "outputs": [
    {
     "name": "stdout",
     "output_type": "stream",
     "text": [
      "0.0024787521766663585\n",
      "0.014872513059998151\n",
      "0.9826487347633355\n"
     ]
    }
   ],
   "source": [
    "F_X = 0\n",
    "m = 6\n",
    "for x in range(0,2):\n",
    "    a = (m ** x) * math.exp(-m) / fact(x)\n",
    "\n",
    "    print(a)\n",
    "    F_X += a\n",
    "\n",
    "\n",
    "print(1 - F_X )"
   ],
   "metadata": {
    "collapsed": false,
    "pycharm": {
     "name": "#%%\n"
    }
   }
  },
  {
   "cell_type": "code",
   "execution_count": 49,
   "outputs": [
    {
     "name": "stdout",
     "output_type": "stream",
     "text": [
      "240.0\n"
     ]
    }
   ],
   "source": [
    "print(1000 * 0.6 * 0.4)"
   ],
   "metadata": {
    "collapsed": false,
    "pycharm": {
     "name": "#%%\n"
    }
   }
  },
  {
   "cell_type": "code",
   "execution_count": 50,
   "outputs": [
    {
     "name": "stdout",
     "output_type": "stream",
     "text": [
      "0.42807307615334067\n",
      "0.5719269238466593\n",
      "244.82651762595685\n"
     ]
    }
   ],
   "source": [
    "F_X = 0\n",
    "m = 0.6\n",
    "for x in range(1,3):\n",
    "    a = (m ** x) * math.exp(-m) / fact(x)\n",
    "\n",
    "    #print(a)\n",
    "    F_X += a\n",
    "\n",
    "\n",
    "print(F_X )\n",
    "print(1- F_X)\n",
    "print(F_X * (1- F_X) * 1000)"
   ],
   "metadata": {
    "collapsed": false,
    "pycharm": {
     "name": "#%%\n"
    }
   }
  },
  {
   "cell_type": "code",
   "execution_count": 51,
   "outputs": [
    {
     "name": "stdout",
     "output_type": "stream",
     "text": [
      "6e-06\n"
     ]
    }
   ],
   "source": [
    "print( round(6000 / math.pow(10,9),8))"
   ],
   "metadata": {
    "collapsed": false,
    "pycharm": {
     "name": "#%%\n"
    }
   }
  },
  {
   "cell_type": "code",
   "execution_count": 52,
   "outputs": [
    {
     "name": "stdout",
     "output_type": "stream",
     "text": [
      "2.333084323840973\n"
     ]
    }
   ],
   "source": [
    "print(math.log(6*math.exp(1)-6))"
   ],
   "metadata": {
    "collapsed": false,
    "pycharm": {
     "name": "#%%\n"
    }
   }
  },
  {
   "cell_type": "code",
   "execution_count": 53,
   "outputs": [
    {
     "name": "stdout",
     "output_type": "stream",
     "text": [
      "0.044617539179994455\n"
     ]
    }
   ],
   "source": [
    "p = 6\n",
    "n = 1\n",
    "f_x = 0\n",
    "for x in range(2,3):\n",
    "    a= math.pow(p,x) * math.exp(-p) / fact(x)\n",
    "    f_x +=a\n",
    "print(f_x)"
   ],
   "metadata": {
    "collapsed": false,
    "pycharm": {
     "name": "#%%\n"
    }
   }
  },
  {
   "cell_type": "code",
   "execution_count": null,
   "outputs": [],
   "source": [
    "xx = np.arange(0,3).tolist()\n",
    "m = 0.6\n",
    "p_x = []\n",
    "for x in range(3):\n",
    "    a = (m ** x) * math.exp(-m) / fact(x)\n",
    "    if x ==2:\n",
    "        p_x.append(1- 0.5488 - 0.329)\n",
    "    else:\n",
    "    # print(1- 0.5488 - 0.329)\n",
    "        p_x.append(a)\n",
    "\n",
    "\n",
    "A = pd.DataFrame([p_x] , columns = xx)\n",
    "A.index = ['P(X = x)']\n",
    "A.columns.names= ['X']\n",
    "for i in range(1,3):\n",
    "    A.iloc[0, i] = A.iloc[0 , i]\n",
    "print(A.iloc[0,1] + A.iloc[0,2])\n",
    "# print(A[:].sum(axis=1) - A.iloc[0,0])\n",
    "A"
   ],
   "metadata": {
    "collapsed": false,
    "pycharm": {
     "name": "#%%\n"
    }
   }
  },
  {
   "cell_type": "code",
   "execution_count": null,
   "outputs": [],
   "source": [
    "x_1 = A.iloc[0 , :].tolist()\n",
    "x_1\n",
    "P_x = [0 , 1000 , 2000]\n",
    "\n",
    "B =pd.DataFrame([x_1] , columns = P_x)\n",
    "B.index = ['P(X = x)']\n",
    "B.columns.names = ['X']\n",
    "B"
   ],
   "metadata": {
    "collapsed": false,
    "pycharm": {
     "name": "#%%\n"
    }
   }
  },
  {
   "cell_type": "code",
   "execution_count": null,
   "outputs": [],
   "source": [
    "vars = 0\n",
    "means = 0\n",
    "print(P_x)\n",
    "for i in range(len(x_1)):\n",
    "    means += (x_1[i] * P_x[i])\n",
    "    vars += (x_1[i] * math.pow(P_x[i],2))\n",
    "print(vars)\n",
    "print(means)\n",
    "vars = math.sqrt(vars - math.pow(means, 2) )\n",
    "vars"
   ],
   "metadata": {
    "collapsed": false,
    "pycharm": {
     "name": "#%%\n"
    }
   }
  },
  {
   "cell_type": "code",
   "execution_count": null,
   "outputs": [],
   "source": [
    "# xx = np.arange(0,3).tolist()\n",
    "m = 6\n",
    "p_x = 0\n",
    "for x in range(3):\n",
    "    a = (m ** x) * math.exp(-m) / fact(x)\n",
    "    p_x += a\n",
    "\n",
    "print(p_x)"
   ],
   "metadata": {
    "collapsed": false,
    "pycharm": {
     "name": "#%%\n"
    }
   }
  },
  {
   "cell_type": "code",
   "execution_count": null,
   "outputs": [],
   "source": [
    "m = 8\n",
    "p_x =0\n",
    "for x in range(4):\n",
    "    a = math.pow(m , x) * math.exp(-m) / fact(x)\n",
    "    p_x += a\n",
    "print(p_x)"
   ],
   "metadata": {
    "collapsed": false,
    "pycharm": {
     "name": "#%%\n"
    }
   }
  },
  {
   "cell_type": "code",
   "execution_count": null,
   "outputs": [],
   "source": [
    "print(0.6 * math.pow(0.4,2))"
   ],
   "metadata": {
    "collapsed": false,
    "pycharm": {
     "name": "#%%\n"
    }
   }
  },
  {
   "cell_type": "code",
   "execution_count": null,
   "outputs": [],
   "source": [
    "print( (0.2) * (0.8 **  ( 10-1 )))"
   ],
   "metadata": {
    "collapsed": false,
    "pycharm": {
     "name": "#%%\n"
    }
   }
  },
  {
   "cell_type": "code",
   "execution_count": null,
   "outputs": [],
   "source": [
    "print( (2/3) * ((1/3) **4) )"
   ],
   "metadata": {
    "collapsed": false,
    "pycharm": {
     "name": "#%%\n"
    }
   }
  },
  {
   "cell_type": "code",
   "execution_count": null,
   "outputs": [],
   "source": [
    "p = 0.05\n",
    "p_x = 0\n",
    "for i in range(1,10):\n",
    "    a = p *  ((1-p) **(i-1) )\n",
    "    p_x += a\n",
    "\n",
    "print(1- p_x)"
   ],
   "metadata": {
    "collapsed": false,
    "pycharm": {
     "name": "#%%\n"
    }
   }
  },
  {
   "cell_type": "code",
   "execution_count": null,
   "outputs": [],
   "source": [
    "a = len(list(itertools.combinations(np.arange(10) , 2))) * math.pow(1/6 , 2) * math.pow(5/6 , 8)\n",
    "print(a)"
   ],
   "metadata": {
    "collapsed": false,
    "pycharm": {
     "name": "#%%\n"
    }
   }
  },
  {
   "cell_type": "code",
   "execution_count": null,
   "outputs": [],
   "source": [
    "a = len(list(itertools.combinations(np.arange(10), 2))) * len(list(itertools.combinations(np.arange(70) ,3))) / len(list(itertools.combinations(np.arange(80) , 5)))\n",
    "\n",
    "print(a)"
   ],
   "metadata": {
    "collapsed": false,
    "pycharm": {
     "name": "#%%\n"
    }
   }
  },
  {
   "cell_type": "code",
   "execution_count": null,
   "outputs": [],
   "source": [
    "p_X = 0\n",
    "for x in range(3):\n",
    "    a = len(list(itertools.combinations(np.arange(10) , x))) * (math.pow(0.1 ,x)) * (math.pow(0.9 , 10-x))\n",
    "    p_X += a\n",
    "\n",
    "print(p_X)"
   ],
   "metadata": {
    "collapsed": false,
    "pycharm": {
     "name": "#%%\n"
    }
   }
  },
  {
   "cell_type": "code",
   "execution_count": null,
   "outputs": [],
   "source": [
    "p_x =0\n",
    "for x in range(3):\n",
    "    a = len(list(itertools.combinations(np.arange(5), x))) * len(list(itertools.combinations(np.arange(45) ,10-x))) / (fact(50) / (fact(10) * fact(40)))\n",
    "    p_x += a\n",
    "\n",
    "print(a)"
   ],
   "metadata": {
    "collapsed": false,
    "pycharm": {
     "name": "#%%\n"
    }
   }
  },
  {
   "cell_type": "code",
   "execution_count": null,
   "outputs": [],
   "source": [
    "# xx = np.arange(0,3).tolist()\n",
    "m = 6\n",
    "p_x = 0\n",
    "for x in range(3):\n",
    "    a = (m ** x) * math.exp(-m) / fact(x)\n",
    "    p_x += a\n",
    "\n",
    "print(p_x)"
   ],
   "metadata": {
    "collapsed": false,
    "pycharm": {
     "name": "#%%\n"
    }
   }
  },
  {
   "cell_type": "code",
   "execution_count": null,
   "outputs": [],
   "source": [
    "m = 8\n",
    "p_x =0\n",
    "for x in range(4):\n",
    "    a = math.pow(m , x) * math.exp(-m) / fact(x)\n",
    "    p_x += a\n",
    "print(p_x)"
   ],
   "metadata": {
    "collapsed": false,
    "pycharm": {
     "name": "#%%\n"
    }
   }
  },
  {
   "cell_type": "code",
   "execution_count": null,
   "outputs": [],
   "source": [
    "print(0.6 * math.pow(0.4,2))"
   ],
   "metadata": {
    "collapsed": false,
    "pycharm": {
     "name": "#%%\n"
    }
   }
  },
  {
   "cell_type": "code",
   "execution_count": null,
   "outputs": [],
   "source": [
    "print( (0.2) * (0.8 **  ( 10-1 )))"
   ],
   "metadata": {
    "collapsed": false,
    "pycharm": {
     "name": "#%%\n"
    }
   }
  },
  {
   "cell_type": "code",
   "execution_count": null,
   "outputs": [],
   "source": [
    "print( (2/3) * ((1/3) **4) )"
   ],
   "metadata": {
    "collapsed": false,
    "pycharm": {
     "name": "#%%\n"
    }
   }
  },
  {
   "cell_type": "code",
   "execution_count": null,
   "outputs": [],
   "source": [
    "p = 0.05\n",
    "p_x = 0\n",
    "for i in range(1,10):\n",
    "    a = p *  ((1-p) **(i-1) )\n",
    "    p_x += a\n",
    "\n",
    "print(1- p_x)"
   ],
   "metadata": {
    "collapsed": false,
    "pycharm": {
     "name": "#%%\n"
    }
   }
  },
  {
   "cell_type": "code",
   "execution_count": null,
   "outputs": [],
   "source": [
    "a = len(list(itertools.combinations(np.arange(10) , 2))) * math.pow(1/6 , 2) * math.pow(5/6 , 8)\n",
    "print(a)"
   ],
   "metadata": {
    "collapsed": false,
    "pycharm": {
     "name": "#%%\n"
    }
   }
  },
  {
   "cell_type": "code",
   "execution_count": null,
   "outputs": [],
   "source": [
    "a = len(list(itertools.combinations(np.arange(10), 2))) * len(list(itertools.combinations(np.arange(70) ,3))) / len(list(itertools.combinations(np.arange(80) , 5)))\n",
    "\n",
    "print(a)"
   ],
   "metadata": {
    "collapsed": false,
    "pycharm": {
     "name": "#%%\n"
    }
   }
  },
  {
   "cell_type": "code",
   "execution_count": null,
   "outputs": [],
   "source": [
    "p_X = 0\n",
    "for x in range(3):\n",
    "    a = len(list(itertools.combinations(np.arange(10) , x))) * (math.pow(0.1 ,x)) * (math.pow(0.9 , 10-x))\n",
    "    p_X += a\n",
    "\n",
    "print(p_X)"
   ],
   "metadata": {
    "collapsed": false,
    "pycharm": {
     "name": "#%%\n"
    }
   }
  },
  {
   "cell_type": "code",
   "execution_count": null,
   "outputs": [],
   "source": [
    "p_x =0\n",
    "for x in range(3):\n",
    "    a = len(list(itertools.combinations(np.arange(5), x))) * len(list(itertools.combinations(np.arange(45) ,10-x))) / (fact(50) / (fact(10) * fact(40)))\n",
    "    p_x += a\n",
    "\n",
    "print(a)"
   ],
   "metadata": {
    "collapsed": false,
    "pycharm": {
     "name": "#%%\n"
    }
   }
  },
  {
   "cell_type": "code",
   "execution_count": null,
   "outputs": [],
   "source": [],
   "metadata": {
    "collapsed": false,
    "pycharm": {
     "name": "#%%\n"
    }
   }
  },
  {
   "cell_type": "code",
   "execution_count": 58,
   "outputs": [
    {
     "name": "stdout",
     "output_type": "stream",
     "text": [
      "0.042380111991684\n"
     ]
    }
   ],
   "source": [
    "m = 8\n",
    "p_x =0\n",
    "for x in range(4):\n",
    "    a = math.pow(m , x) * math.exp(-m) / fact(x)\n",
    "    p_x += a\n",
    "print(p_x)"
   ],
   "metadata": {
    "collapsed": false,
    "pycharm": {
     "name": "#%%\n"
    }
   }
  },
  {
   "cell_type": "code",
   "execution_count": 59,
   "outputs": [
    {
     "name": "stdout",
     "output_type": "stream",
     "text": [
      "0.09600000000000002\n"
     ]
    }
   ],
   "source": [
    "print(0.6 * math.pow(0.4,2))"
   ],
   "metadata": {
    "collapsed": false,
    "pycharm": {
     "name": "#%%\n"
    }
   }
  },
  {
   "cell_type": "code",
   "execution_count": 60,
   "outputs": [
    {
     "name": "stdout",
     "output_type": "stream",
     "text": [
      "0.026843545600000015\n"
     ]
    }
   ],
   "source": [
    "print( (0.2) * (0.8 **  ( 10-1 )))"
   ],
   "metadata": {
    "collapsed": false,
    "pycharm": {
     "name": "#%%\n"
    }
   }
  },
  {
   "cell_type": "code",
   "execution_count": 61,
   "outputs": [
    {
     "name": "stdout",
     "output_type": "stream",
     "text": [
      "0.008230452674897117\n"
     ]
    }
   ],
   "source": [
    "print( (2/3) * ((1/3) **4) )"
   ],
   "metadata": {
    "collapsed": false,
    "pycharm": {
     "name": "#%%\n"
    }
   }
  },
  {
   "cell_type": "code",
   "execution_count": 62,
   "outputs": [
    {
     "name": "stdout",
     "output_type": "stream",
     "text": [
      "0.6302494097246094\n"
     ]
    }
   ],
   "source": [
    "p = 0.05\n",
    "p_x = 0\n",
    "for i in range(1,10):\n",
    "    a = p *  ((1-p) **(i-1) )\n",
    "    p_x += a\n",
    "\n",
    "print(1- p_x)"
   ],
   "metadata": {
    "collapsed": false,
    "pycharm": {
     "name": "#%%\n"
    }
   }
  },
  {
   "cell_type": "code",
   "execution_count": 63,
   "outputs": [
    {
     "name": "stdout",
     "output_type": "stream",
     "text": [
      "0.2907100492017224\n"
     ]
    }
   ],
   "source": [
    "a = len(list(itertools.combinations(np.arange(10) , 2))) * math.pow(1/6 , 2) * math.pow(5/6 , 8)\n",
    "print(a)"
   ],
   "metadata": {
    "collapsed": false,
    "pycharm": {
     "name": "#%%\n"
    }
   }
  },
  {
   "cell_type": "code",
   "execution_count": 65,
   "outputs": [
    {
     "name": "stdout",
     "output_type": "stream",
     "text": [
      "0.10246665393234347\n"
     ]
    }
   ],
   "source": [
    "a = len(list(itertools.combinations(np.arange(10), 2))) * len(list(itertools.combinations(np.arange(70) ,3))) / len(list(itertools.combinations(np.arange(80) , 5)))\n",
    "\n",
    "print(a)"
   ],
   "metadata": {
    "collapsed": false,
    "pycharm": {
     "name": "#%%\n"
    }
   }
  },
  {
   "cell_type": "code",
   "execution_count": 66,
   "outputs": [
    {
     "name": "stdout",
     "output_type": "stream",
     "text": [
      "0.9298091736000003\n"
     ]
    }
   ],
   "source": [
    "p_X = 0\n",
    "for x in range(3):\n",
    "    a = len(list(itertools.combinations(np.arange(10) , x))) * (math.pow(0.1 ,x)) * (math.pow(0.9 , 10-x))\n",
    "    p_X += a\n",
    "\n",
    "print(p_X)"
   ],
   "metadata": {
    "collapsed": false,
    "pycharm": {
     "name": "#%%\n"
    }
   }
  },
  {
   "cell_type": "code",
   "execution_count": 68,
   "outputs": [
    {
     "ename": "MemoryError",
     "evalue": "",
     "output_type": "error",
     "traceback": [
      "\u001B[1;31m---------------------------------------------------------------------------\u001B[0m",
      "\u001B[1;31mMemoryError\u001B[0m                               Traceback (most recent call last)",
      "\u001B[1;32m<ipython-input-68-ea7c1e43ffea>\u001B[0m in \u001B[0;36m<module>\u001B[1;34m\u001B[0m\n\u001B[0;32m      1\u001B[0m \u001B[0mp_x\u001B[0m \u001B[1;33m=\u001B[0m\u001B[1;36m0\u001B[0m\u001B[1;33m\u001B[0m\u001B[1;33m\u001B[0m\u001B[0m\n\u001B[0;32m      2\u001B[0m \u001B[1;32mfor\u001B[0m \u001B[0mx\u001B[0m \u001B[1;32min\u001B[0m \u001B[0mrange\u001B[0m\u001B[1;33m(\u001B[0m\u001B[1;36m3\u001B[0m\u001B[1;33m)\u001B[0m\u001B[1;33m:\u001B[0m\u001B[1;33m\u001B[0m\u001B[1;33m\u001B[0m\u001B[0m\n\u001B[1;32m----> 3\u001B[1;33m     \u001B[0ma\u001B[0m \u001B[1;33m=\u001B[0m \u001B[0mlen\u001B[0m\u001B[1;33m(\u001B[0m\u001B[0mlist\u001B[0m\u001B[1;33m(\u001B[0m\u001B[0mitertools\u001B[0m\u001B[1;33m.\u001B[0m\u001B[0mcombinations\u001B[0m\u001B[1;33m(\u001B[0m\u001B[0mnp\u001B[0m\u001B[1;33m.\u001B[0m\u001B[0marange\u001B[0m\u001B[1;33m(\u001B[0m\u001B[1;36m5\u001B[0m\u001B[1;33m)\u001B[0m\u001B[1;33m,\u001B[0m \u001B[0mx\u001B[0m\u001B[1;33m)\u001B[0m\u001B[1;33m)\u001B[0m\u001B[1;33m)\u001B[0m \u001B[1;33m*\u001B[0m \u001B[0mlen\u001B[0m\u001B[1;33m(\u001B[0m\u001B[0mlist\u001B[0m\u001B[1;33m(\u001B[0m\u001B[0mitertools\u001B[0m\u001B[1;33m.\u001B[0m\u001B[0mcombinations\u001B[0m\u001B[1;33m(\u001B[0m\u001B[0mnp\u001B[0m\u001B[1;33m.\u001B[0m\u001B[0marange\u001B[0m\u001B[1;33m(\u001B[0m\u001B[1;36m45\u001B[0m\u001B[1;33m)\u001B[0m \u001B[1;33m,\u001B[0m\u001B[1;36m10\u001B[0m\u001B[1;33m-\u001B[0m\u001B[0mx\u001B[0m\u001B[1;33m)\u001B[0m\u001B[1;33m)\u001B[0m\u001B[1;33m)\u001B[0m \u001B[1;33m/\u001B[0m \u001B[1;33m(\u001B[0m\u001B[0mfact\u001B[0m\u001B[1;33m(\u001B[0m\u001B[1;36m50\u001B[0m\u001B[1;33m)\u001B[0m \u001B[1;33m/\u001B[0m \u001B[1;33m(\u001B[0m\u001B[0mfact\u001B[0m\u001B[1;33m(\u001B[0m\u001B[1;36m10\u001B[0m\u001B[1;33m)\u001B[0m \u001B[1;33m*\u001B[0m \u001B[0mfact\u001B[0m\u001B[1;33m(\u001B[0m\u001B[1;36m40\u001B[0m\u001B[1;33m)\u001B[0m\u001B[1;33m)\u001B[0m\u001B[1;33m)\u001B[0m\u001B[1;33m\u001B[0m\u001B[1;33m\u001B[0m\u001B[0m\n\u001B[0m\u001B[0;32m      4\u001B[0m     \u001B[0mp_x\u001B[0m \u001B[1;33m+=\u001B[0m \u001B[0ma\u001B[0m\u001B[1;33m\u001B[0m\u001B[1;33m\u001B[0m\u001B[0m\n\u001B[0;32m      5\u001B[0m \u001B[1;33m\u001B[0m\u001B[0m\n",
      "\u001B[1;31mMemoryError\u001B[0m: "
     ]
    }
   ],
   "source": [
    "p_x =0\n",
    "for x in range(3):\n",
    "    a = len(list(itertools.combinations(np.arange(5), x))) * len(list(itertools.combinations(np.arange(45) ,10-x))) / (fact(50) / (fact(10) * fact(40)))\n",
    "    p_x += a\n",
    "\n",
    "print(a)"
   ],
   "metadata": {
    "collapsed": false,
    "pycharm": {
     "name": "#%%\n"
    }
   }
  },
  {
   "cell_type": "code",
   "execution_count": null,
   "outputs": [],
   "source": [],
   "metadata": {
    "collapsed": false,
    "pycharm": {
     "name": "#%%\n"
    }
   }
  }
 ],
 "metadata": {
  "kernelspec": {
   "display_name": "Python 3",
   "language": "python",
   "name": "python3"
  },
  "language_info": {
   "codemirror_mode": {
    "name": "ipython",
    "version": 2
   },
   "file_extension": ".py",
   "mimetype": "text/x-python",
   "name": "python",
   "nbconvert_exporter": "python",
   "pygments_lexer": "ipython2",
   "version": "2.7.6"
  }
 },
 "nbformat": 4,
 "nbformat_minor": 0
}