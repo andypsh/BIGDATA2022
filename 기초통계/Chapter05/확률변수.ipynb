{
 "cells": [
  {
   "cell_type": "code",
   "execution_count": 395,
   "metadata": {
    "collapsed": true,
    "pycharm": {
     "name": "#%%\n"
    }
   },
   "outputs": [],
   "source": [
    "import itertools\n",
    "import platform\n",
    "import matplotlib\n",
    "import pandas as pd\n",
    "import matplotlib.pyplot as plt\n",
    "from matplotlib import font_manager, rc\n",
    "import seaborn as sns\n",
    "%precision 3\n",
    "from matplotlib import pyplot as plt\n",
    "%matplotlib inline\n",
    "#그래프를 주피터 놋북에 그리기 위해\n",
    "import numpy as np\n",
    "import copy\n",
    "from matplotlib import ticker\n",
    "from scipy.stats import probplot\n",
    "from scipy import stats\n",
    "import collections\n",
    "import itertools\n",
    "import math\n",
    "#from varname import nameof\n",
    "import sys\n",
    "#히스토그램 그리기\n",
    "# Window\n",
    "if platform.system() == 'Windows':\n",
    "    matplotlib.rc('font', family='Malgun Gothic')\n",
    "elif platform.system() == 'Darwin': # Mac\n",
    "    matplotlib.rc('font', family='AppleGothic')\n",
    "else: #linux\n",
    "    matplotlib.rc('font', family='NanumGothic')\n",
    "\n",
    "# 그래프에 마이너스 표시가 되도록 변경\n",
    "matplotlib.rcParams['axes.unicode_minus'] = False\n",
    "\n",
    "# 한글 폰트 설정\n",
    "font_location = 'C:/Windows/Fonts/MALGUNSL.TTF' #맑은고딕\n",
    "font_name = font_manager.FontProperties(fname=font_location).get_name()\n",
    "rc('font',family=font_name)"
   ]
  },
  {
   "cell_type": "markdown",
   "source": [],
   "metadata": {
    "collapsed": false,
    "pycharm": {
     "name": "#%% md\n"
    }
   }
  },
  {
   "cell_type": "code",
   "execution_count": 396,
   "outputs": [
    {
     "name": "stdout",
     "output_type": "stream",
     "text": [
      "{0: 1, 1: 3, 2: 3, 3: 1}\n",
      "0\n",
      "1\n",
      "1\n",
      "3\n",
      "2\n",
      "3\n",
      "3\n",
      "1\n"
     ]
    },
    {
     "data": {
      "text/plain": "X             0      1      2      3   합계\nP(X = x)  0.125  0.375  0.375  0.125  1.0",
      "text/html": "<div>\n<style scoped>\n    .dataframe tbody tr th:only-of-type {\n        vertical-align: middle;\n    }\n\n    .dataframe tbody tr th {\n        vertical-align: top;\n    }\n\n    .dataframe thead th {\n        text-align: right;\n    }\n</style>\n<table border=\"1\" class=\"dataframe\">\n  <thead>\n    <tr style=\"text-align: right;\">\n      <th>X</th>\n      <th>0</th>\n      <th>1</th>\n      <th>2</th>\n      <th>3</th>\n      <th>합계</th>\n    </tr>\n  </thead>\n  <tbody>\n    <tr>\n      <th>P(X = x)</th>\n      <td>0.125</td>\n      <td>0.375</td>\n      <td>0.375</td>\n      <td>0.125</td>\n      <td>1.0</td>\n    </tr>\n  </tbody>\n</table>\n</div>"
     },
     "execution_count": 396,
     "metadata": {},
     "output_type": "execute_result"
    }
   ],
   "source": [
    "coin = itertools.product(np.arange(2) , repeat=3)\n",
    "# 확률변수 x는 앞면(1)\n",
    "b = []\n",
    "for i in coin:\n",
    "    a = sorted(collections.Counter(i).most_common() , reverse=True)\n",
    "\n",
    "    if a[0][0] !=1:\n",
    "        b.append(0)\n",
    "    else:\n",
    "        b.append(a[0][1])\n",
    "d = collections.Counter(b)\n",
    "d = dict(sorted(d.items()))\n",
    "print(d)\n",
    "ky , val = [] , []\n",
    "ky = list(d.keys())\n",
    "val = list(d.values())\n",
    "for k,v in d.items():\n",
    "    print(k)\n",
    "    print(v)\n",
    "\n",
    "A = pd.DataFrame([val] , columns = ky , index = ['P(X = x)'])\n",
    "A.columns.names = ['X']\n",
    "A = A.T\n",
    "A['P(X = x)']  = A['P(X = x)'] / 8\n",
    "A.loc['합계'] = A[:].sum(axis=0) #행 추가\n",
    "A = A.T\n",
    "A\n"
   ],
   "metadata": {
    "collapsed": false,
    "pycharm": {
     "name": "#%%\n"
    }
   }
  },
  {
   "cell_type": "code",
   "execution_count": 397,
   "outputs": [
    {
     "name": "stdout",
     "output_type": "stream",
     "text": [
      "[(0, 0, 0), (0, 0, 1), (0, 1, 0), (0, 1, 1), (1, 0, 0), (1, 0, 1), (1, 1, 0), (1, 1, 1)]\n",
      "[]\n",
      "0.0\n"
     ]
    }
   ],
   "source": [
    "a = np.arange(2)\n",
    "b = itertools.product(a,  repeat= 3)\n",
    "print(list(b))\n",
    "e = list(filter(lambda x : collections.Counter(x).most_common()[0][0] ==1  and collections.Counter(x).most_common()[0][1] ==2 and x[1] == 1, b))\n",
    "\n",
    "print(e)\n",
    "print( len(e) * (1/5)*(4/5))"
   ],
   "metadata": {
    "collapsed": false,
    "pycharm": {
     "name": "#%%\n"
    }
   }
  },
  {
   "cell_type": "code",
   "execution_count": 398,
   "outputs": [
    {
     "data": {
      "text/plain": "X             0      1      2      3\nP(X = x)  0.125  0.375  0.375  0.125",
      "text/html": "<div>\n<style scoped>\n    .dataframe tbody tr th:only-of-type {\n        vertical-align: middle;\n    }\n\n    .dataframe tbody tr th {\n        vertical-align: top;\n    }\n\n    .dataframe thead th {\n        text-align: right;\n    }\n</style>\n<table border=\"1\" class=\"dataframe\">\n  <thead>\n    <tr style=\"text-align: right;\">\n      <th>X</th>\n      <th>0</th>\n      <th>1</th>\n      <th>2</th>\n      <th>3</th>\n    </tr>\n  </thead>\n  <tbody>\n    <tr>\n      <th>P(X = x)</th>\n      <td>0.125</td>\n      <td>0.375</td>\n      <td>0.375</td>\n      <td>0.125</td>\n    </tr>\n  </tbody>\n</table>\n</div>"
     },
     "execution_count": 398,
     "metadata": {},
     "output_type": "execute_result"
    }
   ],
   "source": [
    "A = A.iloc[: , :-1]\n",
    "A"
   ],
   "metadata": {
    "collapsed": false,
    "pycharm": {
     "name": "#%%\n"
    }
   }
  },
  {
   "cell_type": "code",
   "execution_count": 399,
   "outputs": [
    {
     "data": {
      "text/plain": "<Figure size 1080x1080 with 1 Axes>",
      "image/png": "[encoded data removed]"
     },
     "metadata": {},
     "output_type": "display_data"
    }
   ],
   "source": [
    "fig = plt.figure(figsize=(15,15))\n",
    "fig.set_facecolor('white')\n",
    "\n",
    "ax = sns.barplot(x= ky , y =A.loc['P(X = x)'])\n",
    "plt.show()\n",
    "#ax.bar.set_width([1])"
   ],
   "metadata": {
    "collapsed": false,
    "pycharm": {
     "name": "#%%\n"
    }
   }
  },
  {
   "cell_type": "code",
   "execution_count": 400,
   "outputs": [
    {
     "data": {
      "text/plain": "   X  P(X = x)\n0  0     0.125\n1  1     0.375\n2  2     0.375\n3  3     0.125",
      "text/html": "<div>\n<style scoped>\n    .dataframe tbody tr th:only-of-type {\n        vertical-align: middle;\n    }\n\n    .dataframe tbody tr th {\n        vertical-align: top;\n    }\n\n    .dataframe thead th {\n        text-align: right;\n    }\n</style>\n<table border=\"1\" class=\"dataframe\">\n  <thead>\n    <tr style=\"text-align: right;\">\n      <th></th>\n      <th>X</th>\n      <th>P(X = x)</th>\n    </tr>\n  </thead>\n  <tbody>\n    <tr>\n      <th>0</th>\n      <td>0</td>\n      <td>0.125</td>\n    </tr>\n    <tr>\n      <th>1</th>\n      <td>1</td>\n      <td>0.375</td>\n    </tr>\n    <tr>\n      <th>2</th>\n      <td>2</td>\n      <td>0.375</td>\n    </tr>\n    <tr>\n      <th>3</th>\n      <td>3</td>\n      <td>0.125</td>\n    </tr>\n  </tbody>\n</table>\n</div>"
     },
     "execution_count": 400,
     "metadata": {},
     "output_type": "execute_result"
    }
   ],
   "source": [
    "#B= A.iloc[: , :-1]\n",
    "# B = B.T\n",
    "B = A.T\n",
    "B = B.reset_index()\n",
    "\n",
    "B"
   ],
   "metadata": {
    "collapsed": false,
    "pycharm": {
     "name": "#%%\n"
    }
   }
  },
  {
   "cell_type": "code",
   "execution_count": 401,
   "outputs": [
    {
     "data": {
      "text/plain": "   P(X = x)\nX          \n0     0.125\n1     0.375\n2     0.375\n3     0.125",
      "text/html": "<div>\n<style scoped>\n    .dataframe tbody tr th:only-of-type {\n        vertical-align: middle;\n    }\n\n    .dataframe tbody tr th {\n        vertical-align: top;\n    }\n\n    .dataframe thead th {\n        text-align: right;\n    }\n</style>\n<table border=\"1\" class=\"dataframe\">\n  <thead>\n    <tr style=\"text-align: right;\">\n      <th></th>\n      <th>P(X = x)</th>\n    </tr>\n    <tr>\n      <th>X</th>\n      <th></th>\n    </tr>\n  </thead>\n  <tbody>\n    <tr>\n      <th>0</th>\n      <td>0.125</td>\n    </tr>\n    <tr>\n      <th>1</th>\n      <td>0.375</td>\n    </tr>\n    <tr>\n      <th>2</th>\n      <td>0.375</td>\n    </tr>\n    <tr>\n      <th>3</th>\n      <td>0.125</td>\n    </tr>\n  </tbody>\n</table>\n</div>"
     },
     "execution_count": 401,
     "metadata": {},
     "output_type": "execute_result"
    }
   ],
   "source": [
    "A = A.T\n",
    "A"
   ],
   "metadata": {
    "collapsed": false,
    "pycharm": {
     "name": "#%%\n"
    }
   }
  },
  {
   "cell_type": "code",
   "execution_count": 402,
   "outputs": [
    {
     "data": {
      "text/plain": "[0, 1, 2, 3]"
     },
     "execution_count": 402,
     "metadata": {},
     "output_type": "execute_result"
    }
   ],
   "source": [
    "ky"
   ],
   "metadata": {
    "collapsed": false,
    "pycharm": {
     "name": "#%%\n"
    }
   }
  },
  {
   "cell_type": "code",
   "execution_count": 403,
   "outputs": [
    {
     "name": "stderr",
     "output_type": "stream",
     "text": [
      "C:\\Users\\user\\anaconda3\\lib\\site-packages\\seaborn\\distributions.py:2557: FutureWarning: `distplot` is a deprecated function and will be removed in a future version. Please adapt your code to use either `displot` (a figure-level function with similar flexibility) or `histplot` (an axes-level function for histograms).\n",
      "  warnings.warn(msg, FutureWarning)\n"
     ]
    },
    {
     "data": {
      "text/plain": "<Figure size 1080x576 with 1 Axes>",
      "image/png": "[encoded data removed]"
     },
     "metadata": {
      "needs_background": "light"
     },
     "output_type": "display_data"
    }
   ],
   "source": [
    "fig , ax1 = plt.subplots(figsize= (15,8))\n",
    "\n",
    "ax1 = sns.distplot(A['P(X = x)'],bins = 4 , kde=False)\n",
    "ax1.set_xlim([ky[0] , ky[-1]])\n",
    "# ax1.xaxis.set_major_locator(ticker.MultipleLocator(1)) #x축 간격을 0.5로 설정\n",
    "plt.show()"
   ],
   "metadata": {
    "collapsed": false,
    "pycharm": {
     "name": "#%%\n"
    }
   }
  },
  {
   "cell_type": "code",
   "execution_count": 404,
   "outputs": [
    {
     "name": "stdout",
     "output_type": "stream",
     "text": [
      "[1, 2, 3, 4, 5, 6]\n"
     ]
    },
    {
     "data": {
      "text/plain": "{2: 0.125,\n 3: 0.250,\n 4: 0.375,\n 5: 0.500,\n 6: 0.625,\n 7: 0.750,\n 8: 0.625,\n 9: 0.500,\n 10: 0.375,\n 11: 0.250,\n 12: 0.125}"
     },
     "execution_count": 404,
     "metadata": {},
     "output_type": "execute_result"
    }
   ],
   "source": [
    "a = np.arange(1,7).tolist()\n",
    "print(a)\n",
    "\n",
    "ratio = list(itertools.product(a, repeat = 2))\n",
    "ratio2 = list(map(lambda x : x[0]+x[1] , ratio)) # lambda 할 때 map, filter, reduce ,apply 생각!\n",
    "ratio2 = collections.Counter(ratio2)\n",
    "ratio2 = dict(sorted(ratio2.items()))\n",
    "for k, v in ratio2.items():\n",
    "    v = v/8\n",
    "    ratio2[k] = v\n",
    "ratio2\n",
    "\n"
   ],
   "metadata": {
    "collapsed": false,
    "pycharm": {
     "name": "#%%\n"
    }
   }
  },
  {
   "cell_type": "code",
   "execution_count": 405,
   "outputs": [
    {
     "data": {
      "text/plain": "X            2     3      4    5      6     7      8    9      10    11     12\nP(X = x)  0.125  0.25  0.375  0.5  0.625  0.75  0.625  0.5  0.375  0.25  0.125",
      "text/html": "<div>\n<style scoped>\n    .dataframe tbody tr th:only-of-type {\n        vertical-align: middle;\n    }\n\n    .dataframe tbody tr th {\n        vertical-align: top;\n    }\n\n    .dataframe thead th {\n        text-align: right;\n    }\n</style>\n<table border=\"1\" class=\"dataframe\">\n  <thead>\n    <tr style=\"text-align: right;\">\n      <th>X</th>\n      <th>2</th>\n      <th>3</th>\n      <th>4</th>\n      <th>5</th>\n      <th>6</th>\n      <th>7</th>\n      <th>8</th>\n      <th>9</th>\n      <th>10</th>\n      <th>11</th>\n      <th>12</th>\n    </tr>\n  </thead>\n  <tbody>\n    <tr>\n      <th>P(X = x)</th>\n      <td>0.125</td>\n      <td>0.25</td>\n      <td>0.375</td>\n      <td>0.5</td>\n      <td>0.625</td>\n      <td>0.75</td>\n      <td>0.625</td>\n      <td>0.5</td>\n      <td>0.375</td>\n      <td>0.25</td>\n      <td>0.125</td>\n    </tr>\n  </tbody>\n</table>\n</div>"
     },
     "execution_count": 405,
     "metadata": {},
     "output_type": "execute_result"
    }
   ],
   "source": [
    "val = ratio2.values()\n",
    "ky = ratio2.keys()\n",
    "\n",
    "A = pd.DataFrame(val , index = ky )\n",
    "A= A.T\n",
    "A.index = ['P(X = x)']\n",
    "A.columns.names = ['X']\n",
    "A\n"
   ],
   "metadata": {
    "collapsed": false,
    "pycharm": {
     "name": "#%%\n"
    }
   }
  },
  {
   "cell_type": "code",
   "execution_count": 406,
   "outputs": [
    {
     "data": {
      "text/plain": "    P(X = x)\nX           \n2      0.125\n3      0.250\n4      0.375\n5      0.500\n6      0.625\n7      0.750\n8      0.625\n9      0.500\n10     0.375\n11     0.250\n12     0.125",
      "text/html": "<div>\n<style scoped>\n    .dataframe tbody tr th:only-of-type {\n        vertical-align: middle;\n    }\n\n    .dataframe tbody tr th {\n        vertical-align: top;\n    }\n\n    .dataframe thead th {\n        text-align: right;\n    }\n</style>\n<table border=\"1\" class=\"dataframe\">\n  <thead>\n    <tr style=\"text-align: right;\">\n      <th></th>\n      <th>P(X = x)</th>\n    </tr>\n    <tr>\n      <th>X</th>\n      <th></th>\n    </tr>\n  </thead>\n  <tbody>\n    <tr>\n      <th>2</th>\n      <td>0.125</td>\n    </tr>\n    <tr>\n      <th>3</th>\n      <td>0.250</td>\n    </tr>\n    <tr>\n      <th>4</th>\n      <td>0.375</td>\n    </tr>\n    <tr>\n      <th>5</th>\n      <td>0.500</td>\n    </tr>\n    <tr>\n      <th>6</th>\n      <td>0.625</td>\n    </tr>\n    <tr>\n      <th>7</th>\n      <td>0.750</td>\n    </tr>\n    <tr>\n      <th>8</th>\n      <td>0.625</td>\n    </tr>\n    <tr>\n      <th>9</th>\n      <td>0.500</td>\n    </tr>\n    <tr>\n      <th>10</th>\n      <td>0.375</td>\n    </tr>\n    <tr>\n      <th>11</th>\n      <td>0.250</td>\n    </tr>\n    <tr>\n      <th>12</th>\n      <td>0.125</td>\n    </tr>\n  </tbody>\n</table>\n</div>"
     },
     "execution_count": 406,
     "metadata": {},
     "output_type": "execute_result"
    }
   ],
   "source": [
    "B = A.T\n",
    "B"
   ],
   "metadata": {
    "collapsed": false,
    "pycharm": {
     "name": "#%%\n"
    }
   }
  },
  {
   "cell_type": "code",
   "execution_count": 407,
   "outputs": [
    {
     "data": {
      "text/plain": "P(X = x)\n0.125    2\n0.250    2\n0.375    2\n0.500    2\n0.625    2\n0.750    1\ndtype: int64"
     },
     "execution_count": 407,
     "metadata": {},
     "output_type": "execute_result"
    }
   ],
   "source": [
    "c  = B.groupby('P(X = x)')\n",
    "c.size()"
   ],
   "metadata": {
    "collapsed": false,
    "pycharm": {
     "name": "#%%\n"
    }
   }
  },
  {
   "cell_type": "code",
   "execution_count": 408,
   "outputs": [
    {
     "data": {
      "text/plain": "[('여자', '여자', '여자'),\n ('여자', '여자', '남자'),\n ('여자', '남자', '여자'),\n ('여자', '남자', '남자'),\n ('남자', '여자', '여자'),\n ('남자', '여자', '남자'),\n ('남자', '남자', '여자'),\n ('남자', '남자', '남자')]"
     },
     "execution_count": 408,
     "metadata": {},
     "output_type": "execute_result"
    }
   ],
   "source": [
    "child = ['여자' ,'남자']\n",
    "#0이 여자 1이 남자\n",
    "\n",
    "S_x = list(itertools.product(child , repeat = 3))\n",
    "S_x"
   ],
   "metadata": {
    "collapsed": false,
    "pycharm": {
     "name": "#%%\n"
    }
   }
  },
  {
   "cell_type": "code",
   "execution_count": 409,
   "outputs": [
    {
     "name": "stdout",
     "output_type": "stream",
     "text": [
      "[3, 2, 2, 1, 2, 1, 1, 0]\n"
     ]
    }
   ],
   "source": [
    "#확률 변수 X는 여자\n",
    "res = []\n",
    "for girls in S_x:\n",
    "\n",
    "    girl = sorted(list(collections.Counter(girls).most_common()) , reverse=True)\n",
    "    if girl[0][0] != '여자':\n",
    "        res.append(0)\n",
    "    else:\n",
    "        res.append(girl[0][1])\n",
    "    # girl =list(map(lambda x : x if sorted(collections.Counter(girls).most_common(), reverse=True)[0][0]=='여자' else 0 , girls))\n",
    "\n",
    "print(res)\n",
    "\n",
    "res2 = collections.Counter(res)\n",
    "\n",
    "res2 = dict(sorted(res2.items()))"
   ],
   "metadata": {
    "collapsed": false,
    "pycharm": {
     "name": "#%%\n"
    }
   }
  },
  {
   "cell_type": "code",
   "execution_count": 410,
   "outputs": [
    {
     "data": {
      "text/plain": "{0: 1, 1: 3, 2: 3, 3: 1}"
     },
     "execution_count": 410,
     "metadata": {},
     "output_type": "execute_result"
    }
   ],
   "source": [
    "res2"
   ],
   "metadata": {
    "collapsed": false,
    "pycharm": {
     "name": "#%%\n"
    }
   }
  },
  {
   "cell_type": "code",
   "execution_count": 411,
   "outputs": [
    {
     "data": {
      "text/plain": "X         0  1  2  3\nP(X = x)  1  3  3  1",
      "text/html": "<div>\n<style scoped>\n    .dataframe tbody tr th:only-of-type {\n        vertical-align: middle;\n    }\n\n    .dataframe tbody tr th {\n        vertical-align: top;\n    }\n\n    .dataframe thead th {\n        text-align: right;\n    }\n</style>\n<table border=\"1\" class=\"dataframe\">\n  <thead>\n    <tr style=\"text-align: right;\">\n      <th>X</th>\n      <th>0</th>\n      <th>1</th>\n      <th>2</th>\n      <th>3</th>\n    </tr>\n  </thead>\n  <tbody>\n    <tr>\n      <th>P(X = x)</th>\n      <td>1</td>\n      <td>3</td>\n      <td>3</td>\n      <td>1</td>\n    </tr>\n  </tbody>\n</table>\n</div>"
     },
     "execution_count": 411,
     "metadata": {},
     "output_type": "execute_result"
    }
   ],
   "source": [
    "ky = res2.keys()\n",
    "val = res2.values()\n",
    "\n",
    "A = pd.DataFrame([val] , columns = ky)\n",
    "A.index = ['P(X = x)']\n",
    "A.columns.names = ['X']\n",
    "A"
   ],
   "metadata": {
    "collapsed": false,
    "pycharm": {
     "name": "#%%\n"
    }
   }
  },
  {
   "cell_type": "code",
   "execution_count": 412,
   "outputs": [
    {
     "data": {
      "text/plain": "X             0      1      2      3\nP(X = x)  0.125  0.375  0.375  0.125",
      "text/html": "<div>\n<style scoped>\n    .dataframe tbody tr th:only-of-type {\n        vertical-align: middle;\n    }\n\n    .dataframe tbody tr th {\n        vertical-align: top;\n    }\n\n    .dataframe thead th {\n        text-align: right;\n    }\n</style>\n<table border=\"1\" class=\"dataframe\">\n  <thead>\n    <tr style=\"text-align: right;\">\n      <th>X</th>\n      <th>0</th>\n      <th>1</th>\n      <th>2</th>\n      <th>3</th>\n    </tr>\n  </thead>\n  <tbody>\n    <tr>\n      <th>P(X = x)</th>\n      <td>0.125</td>\n      <td>0.375</td>\n      <td>0.375</td>\n      <td>0.125</td>\n    </tr>\n  </tbody>\n</table>\n</div>"
     },
     "execution_count": 412,
     "metadata": {},
     "output_type": "execute_result"
    }
   ],
   "source": [
    "A.loc['P(X = x)'] = A.loc['P(X = x)'] /8\n",
    "A"
   ],
   "metadata": {
    "collapsed": false,
    "pycharm": {
     "name": "#%%\n"
    }
   }
  },
  {
   "cell_type": "code",
   "execution_count": 413,
   "outputs": [],
   "source": [
    "# A.iloc[0 ,:].mean()"
   ],
   "metadata": {
    "collapsed": false,
    "pycharm": {
     "name": "#%%\n"
    }
   }
  },
  {
   "cell_type": "code",
   "execution_count": 414,
   "outputs": [
    {
     "name": "stdout",
     "output_type": "stream",
     "text": [
      "0.1875\n"
     ]
    }
   ],
   "source": [
    "print((0.375 + 0.375 * 2 + 0.125*3) / 8)"
   ],
   "metadata": {
    "collapsed": false,
    "pycharm": {
     "name": "#%%\n"
    }
   }
  },
  {
   "cell_type": "code",
   "execution_count": 415,
   "outputs": [
    {
     "name": "stdout",
     "output_type": "stream",
     "text": [
      "1.5\n"
     ]
    }
   ],
   "source": [
    "print((0.375 + 0.375 * 2 + 0.125*3))"
   ],
   "metadata": {
    "collapsed": false,
    "pycharm": {
     "name": "#%%\n"
    }
   }
  },
  {
   "cell_type": "code",
   "execution_count": 416,
   "outputs": [
    {
     "name": "stdout",
     "output_type": "stream",
     "text": [
      "6\n",
      "6\n"
     ]
    },
    {
     "data": {
      "text/plain": "             도수(f_i) 계급값(x_i)  f_i_x_i\n계급 간격                                 \n9.5 ~ 19.5       9.0     14.5    130.5\n19.5 ~ 29.5      9.0     24.5    220.5\n29.5 ~ 39.5      9.0     34.5    310.5\n39.5 ~ 49.5     10.0     44.5    445.0\n49.5 ~ 59.5      2.0     54.5    109.0\n59.5 ~ 69.5      1.0     64.5     64.5\n합계              40.0        -   1280.0",
      "text/html": "<div>\n<style scoped>\n    .dataframe tbody tr th:only-of-type {\n        vertical-align: middle;\n    }\n\n    .dataframe tbody tr th {\n        vertical-align: top;\n    }\n\n    .dataframe thead th {\n        text-align: right;\n    }\n</style>\n<table border=\"1\" class=\"dataframe\">\n  <thead>\n    <tr style=\"text-align: right;\">\n      <th></th>\n      <th>도수(f_i)</th>\n      <th>계급값(x_i)</th>\n      <th>f_i_x_i</th>\n    </tr>\n    <tr>\n      <th>계급 간격</th>\n      <th></th>\n      <th></th>\n      <th></th>\n    </tr>\n  </thead>\n  <tbody>\n    <tr>\n      <th>9.5 ~ 19.5</th>\n      <td>9.0</td>\n      <td>14.5</td>\n      <td>130.5</td>\n    </tr>\n    <tr>\n      <th>19.5 ~ 29.5</th>\n      <td>9.0</td>\n      <td>24.5</td>\n      <td>220.5</td>\n    </tr>\n    <tr>\n      <th>29.5 ~ 39.5</th>\n      <td>9.0</td>\n      <td>34.5</td>\n      <td>310.5</td>\n    </tr>\n    <tr>\n      <th>39.5 ~ 49.5</th>\n      <td>10.0</td>\n      <td>44.5</td>\n      <td>445.0</td>\n    </tr>\n    <tr>\n      <th>49.5 ~ 59.5</th>\n      <td>2.0</td>\n      <td>54.5</td>\n      <td>109.0</td>\n    </tr>\n    <tr>\n      <th>59.5 ~ 69.5</th>\n      <td>1.0</td>\n      <td>64.5</td>\n      <td>64.5</td>\n    </tr>\n    <tr>\n      <th>합계</th>\n      <td>40.0</td>\n      <td>-</td>\n      <td>1280.0</td>\n    </tr>\n  </tbody>\n</table>\n</div>"
     },
     "execution_count": 416,
     "metadata": {},
     "output_type": "execute_result"
    }
   ],
   "source": [
    "width = ['{} ~ {}'.format(i+0.5 , i+10.5) for i in range(9,68 , 10)]\n",
    "x_i = [ round((i+0.5 - 5),1) for i in range(19, 70, 10)]\n",
    "dosu = [9,9,9,10,2,1]\n",
    "print(len(dosu))\n",
    "print(len(x_i))\n",
    "\n",
    "A = pd.DataFrame([dosu , x_i] , columns = width , index = ['도수(f_i)' , '계급값(x_i)']  )\n",
    "A = A.T\n",
    "A.index.names = ['계급 간격']\n",
    "A['f_i_x_i'] = A['도수(f_i)'] * A['계급값(x_i)']\n",
    "A.loc['합계'] = A[:].sum(axis=0)\n",
    "A.iloc[-1,1] = '-'\n",
    "A\n",
    "# , columns=[['도수(f_i)' , '계급값(x_i)']], index = [width]"
   ],
   "metadata": {
    "collapsed": false,
    "pycharm": {
     "name": "#%%\n"
    }
   }
  },
  {
   "cell_type": "code",
   "execution_count": 417,
   "outputs": [
    {
     "data": {
      "text/plain": "           14.5   24.5   34.5  44.5  54.5   64.5\nP(X = x)  0.225  0.225  0.225  0.25  0.05  0.025",
      "text/html": "<div>\n<style scoped>\n    .dataframe tbody tr th:only-of-type {\n        vertical-align: middle;\n    }\n\n    .dataframe tbody tr th {\n        vertical-align: top;\n    }\n\n    .dataframe thead th {\n        text-align: right;\n    }\n</style>\n<table border=\"1\" class=\"dataframe\">\n  <thead>\n    <tr style=\"text-align: right;\">\n      <th></th>\n      <th>14.5</th>\n      <th>24.5</th>\n      <th>34.5</th>\n      <th>44.5</th>\n      <th>54.5</th>\n      <th>64.5</th>\n    </tr>\n  </thead>\n  <tbody>\n    <tr>\n      <th>P(X = x)</th>\n      <td>0.225</td>\n      <td>0.225</td>\n      <td>0.225</td>\n      <td>0.25</td>\n      <td>0.05</td>\n      <td>0.025</td>\n    </tr>\n  </tbody>\n</table>\n</div>"
     },
     "execution_count": 417,
     "metadata": {},
     "output_type": "execute_result"
    }
   ],
   "source": [
    "B = pd.DataFrame([dosu] , columns = x_i)\n",
    "B.index = ['P(X = x)']\n",
    "B.loc['P(X = x)'] = B.loc['P(X = x)'] / 40\n",
    "B"
   ],
   "metadata": {
    "collapsed": false,
    "pycharm": {
     "name": "#%%\n"
    }
   }
  },
  {
   "cell_type": "code",
   "execution_count": 418,
   "outputs": [
    {
     "data": {
      "text/plain": "   index  P(X = x)\n0   14.5     0.225\n1   24.5     0.225\n2   34.5     0.225\n3   44.5     0.250\n4   54.5     0.050\n5   64.5     0.025",
      "text/html": "<div>\n<style scoped>\n    .dataframe tbody tr th:only-of-type {\n        vertical-align: middle;\n    }\n\n    .dataframe tbody tr th {\n        vertical-align: top;\n    }\n\n    .dataframe thead th {\n        text-align: right;\n    }\n</style>\n<table border=\"1\" class=\"dataframe\">\n  <thead>\n    <tr style=\"text-align: right;\">\n      <th></th>\n      <th>index</th>\n      <th>P(X = x)</th>\n    </tr>\n  </thead>\n  <tbody>\n    <tr>\n      <th>0</th>\n      <td>14.5</td>\n      <td>0.225</td>\n    </tr>\n    <tr>\n      <th>1</th>\n      <td>24.5</td>\n      <td>0.225</td>\n    </tr>\n    <tr>\n      <th>2</th>\n      <td>34.5</td>\n      <td>0.225</td>\n    </tr>\n    <tr>\n      <th>3</th>\n      <td>44.5</td>\n      <td>0.250</td>\n    </tr>\n    <tr>\n      <th>4</th>\n      <td>54.5</td>\n      <td>0.050</td>\n    </tr>\n    <tr>\n      <th>5</th>\n      <td>64.5</td>\n      <td>0.025</td>\n    </tr>\n  </tbody>\n</table>\n</div>"
     },
     "execution_count": 418,
     "metadata": {},
     "output_type": "execute_result"
    }
   ],
   "source": [
    "B = B.T\n",
    "B = B.reset_index()\n",
    "B"
   ],
   "metadata": {
    "collapsed": false,
    "pycharm": {
     "name": "#%%\n"
    }
   }
  },
  {
   "cell_type": "code",
   "execution_count": 419,
   "outputs": [
    {
     "data": {
      "text/plain": "    index  P(X = x)  x * p(x)  x**2 * p(x)\n0    14.5     0.225    3.2625     47.30625\n1    24.5     0.225    5.5125    135.05625\n2    34.5     0.225    7.7625    267.80625\n3    44.5     0.250   11.1250    495.06250\n4    54.5     0.050    2.7250    148.51250\n5    64.5     0.025    1.6125    104.00625\n합계  237.0     1.000   32.0000   1197.75000",
      "text/html": "<div>\n<style scoped>\n    .dataframe tbody tr th:only-of-type {\n        vertical-align: middle;\n    }\n\n    .dataframe tbody tr th {\n        vertical-align: top;\n    }\n\n    .dataframe thead th {\n        text-align: right;\n    }\n</style>\n<table border=\"1\" class=\"dataframe\">\n  <thead>\n    <tr style=\"text-align: right;\">\n      <th></th>\n      <th>index</th>\n      <th>P(X = x)</th>\n      <th>x * p(x)</th>\n      <th>x**2 * p(x)</th>\n    </tr>\n  </thead>\n  <tbody>\n    <tr>\n      <th>0</th>\n      <td>14.5</td>\n      <td>0.225</td>\n      <td>3.2625</td>\n      <td>47.30625</td>\n    </tr>\n    <tr>\n      <th>1</th>\n      <td>24.5</td>\n      <td>0.225</td>\n      <td>5.5125</td>\n      <td>135.05625</td>\n    </tr>\n    <tr>\n      <th>2</th>\n      <td>34.5</td>\n      <td>0.225</td>\n      <td>7.7625</td>\n      <td>267.80625</td>\n    </tr>\n    <tr>\n      <th>3</th>\n      <td>44.5</td>\n      <td>0.250</td>\n      <td>11.1250</td>\n      <td>495.06250</td>\n    </tr>\n    <tr>\n      <th>4</th>\n      <td>54.5</td>\n      <td>0.050</td>\n      <td>2.7250</td>\n      <td>148.51250</td>\n    </tr>\n    <tr>\n      <th>5</th>\n      <td>64.5</td>\n      <td>0.025</td>\n      <td>1.6125</td>\n      <td>104.00625</td>\n    </tr>\n    <tr>\n      <th>합계</th>\n      <td>237.0</td>\n      <td>1.000</td>\n      <td>32.0000</td>\n      <td>1197.75000</td>\n    </tr>\n  </tbody>\n</table>\n</div>"
     },
     "execution_count": 419,
     "metadata": {},
     "output_type": "execute_result"
    }
   ],
   "source": [
    "B['x * p(x)'] = (B.loc[: , 'P(X = x)']) * B.loc[:, 'index']\n",
    "B['x**2 * p(x)'] = (B.loc[: , 'P(X = x)']) * (B.loc[:, 'index']**2)\n",
    "B.loc['합계']= B[:].sum(axis=0)\n",
    "# B.iloc[-1,1] = '-'\n",
    "avg = B.iloc[-1, -2]\n",
    "B"
   ],
   "metadata": {
    "collapsed": false,
    "pycharm": {
     "name": "#%%\n"
    }
   }
  },
  {
   "cell_type": "code",
   "execution_count": 420,
   "outputs": [
    {
     "data": {
      "text/plain": "173.75"
     },
     "execution_count": 420,
     "metadata": {},
     "output_type": "execute_result"
    }
   ],
   "source": [
    "var = B.iloc[-1,-1] - avg**2\n",
    "var"
   ],
   "metadata": {
    "collapsed": false,
    "pycharm": {
     "name": "#%%\n"
    }
   }
  },
  {
   "cell_type": "code",
   "execution_count": 421,
   "outputs": [
    {
     "data": {
      "text/plain": "[(1, 1, 1),\n (1, 1, 2),\n (1, 1, 3),\n (1, 1, 4),\n (1, 1, 5),\n (1, 1, 6),\n (1, 2, 1),\n (1, 2, 2),\n (1, 2, 3),\n (1, 2, 4),\n (1, 2, 5),\n (1, 2, 6),\n (1, 3, 1),\n (1, 3, 2),\n (1, 3, 3),\n (1, 3, 4),\n (1, 3, 5),\n (1, 3, 6),\n (1, 4, 1),\n (1, 4, 2),\n (1, 4, 3),\n (1, 4, 4),\n (1, 4, 5),\n (1, 4, 6),\n (1, 5, 1),\n (1, 5, 2),\n (1, 5, 3),\n (1, 5, 4),\n (1, 5, 5),\n (1, 5, 6),\n (1, 6, 1),\n (1, 6, 2),\n (1, 6, 3),\n (1, 6, 4),\n (1, 6, 5),\n (1, 6, 6),\n (2, 1, 1),\n (2, 1, 2),\n (2, 1, 3),\n (2, 1, 4),\n (2, 1, 5),\n (2, 1, 6),\n (2, 2, 1),\n (2, 3, 1),\n (2, 4, 1),\n (2, 5, 1),\n (2, 6, 1),\n (3, 1, 1),\n (3, 1, 2),\n (3, 1, 3),\n (3, 1, 4),\n (3, 1, 5),\n (3, 1, 6),\n (3, 2, 1),\n (3, 3, 1),\n (3, 4, 1),\n (3, 5, 1),\n (3, 6, 1),\n (4, 1, 1),\n (4, 1, 2),\n (4, 1, 3),\n (4, 1, 4),\n (4, 1, 5),\n (4, 1, 6),\n (4, 2, 1),\n (4, 3, 1),\n (4, 4, 1),\n (4, 5, 1),\n (4, 6, 1),\n (5, 1, 1),\n (5, 1, 2),\n (5, 1, 3),\n (5, 1, 4),\n (5, 1, 5),\n (5, 1, 6),\n (5, 2, 1),\n (5, 3, 1),\n (5, 4, 1),\n (5, 5, 1),\n (5, 6, 1),\n (6, 1, 1),\n (6, 1, 2),\n (6, 1, 3),\n (6, 1, 4),\n (6, 1, 5),\n (6, 1, 6),\n (6, 2, 1),\n (6, 3, 1),\n (6, 4, 1),\n (6, 5, 1),\n (6, 6, 1)]"
     },
     "execution_count": 421,
     "metadata": {},
     "output_type": "execute_result"
    }
   ],
   "source": [
    "a = np.arange(1,7)\n",
    "\n",
    "b = list(itertools.product(a, repeat= 3))\n",
    "c = list(filter(lambda x : sorted(collections.Counter(x).most_common())[0][0]== 1 or (len(collections.Counter(x).most_common()) >1 and sorted(collections.Counter(x).most_common() , reverse=True)[1][0] == 1) , b))\n",
    "\n",
    "c"
   ],
   "metadata": {
    "collapsed": false,
    "pycharm": {
     "name": "#%%\n"
    }
   }
  },
  {
   "cell_type": "code",
   "execution_count": 422,
   "outputs": [
    {
     "data": {
      "text/plain": "Counter({3: 1, 2: 15, 1: 75})"
     },
     "execution_count": 422,
     "metadata": {},
     "output_type": "execute_result"
    }
   ],
   "source": [
    "res = []\n",
    "for i in c:\n",
    "    a = collections.Counter(i)\n",
    "    # print(a)\n",
    "    # print(a[1])\n",
    "    res.append(a[1])\n",
    "res = collections.Counter(res)\n",
    "res"
   ],
   "metadata": {
    "collapsed": false,
    "pycharm": {
     "name": "#%%\n"
    }
   }
  },
  {
   "cell_type": "code",
   "execution_count": 423,
   "outputs": [
    {
     "name": "stdout",
     "output_type": "stream",
     "text": [
      "Counter({1: 2, 4: 1})\n",
      "2\n"
     ]
    }
   ],
   "source": [
    "a = collections.Counter(c[3])\n",
    "print(a)\n",
    "print(a[1])"
   ],
   "metadata": {
    "collapsed": false,
    "pycharm": {
     "name": "#%%\n"
    }
   }
  },
  {
   "cell_type": "code",
   "execution_count": 424,
   "outputs": [
    {
     "name": "stdout",
     "output_type": "stream",
     "text": [
      "0.3019898880000002\n"
     ]
    }
   ],
   "source": [
    "b = len(list(itertools.combinations(np.arange(10) , 2)))*(math.pow(0.2 , 2)) *(math.pow(0.8 , 8))\n",
    "print(b)"
   ],
   "metadata": {
    "collapsed": false,
    "pycharm": {
     "name": "#%%\n"
    }
   }
  },
  {
   "cell_type": "code",
   "execution_count": 425,
   "outputs": [
    {
     "name": "stdout",
     "output_type": "stream",
     "text": [
      "0.8926258175999999\n"
     ]
    }
   ],
   "source": [
    "b = 1- len(list(itertools.combinations(np.arange(10) , 0)))*(math.pow(0.2 , 0)) *(math.pow(0.8 , 10)) #n은 전체 갯수 , x는 맞춘 갯수\n",
    "print(b)"
   ],
   "metadata": {
    "collapsed": false,
    "pycharm": {
     "name": "#%%\n"
    }
   }
  },
  {
   "cell_type": "code",
   "execution_count": 426,
   "outputs": [
    {
     "name": "stdout",
     "output_type": "stream",
     "text": [
      "0.2646\n"
     ]
    }
   ],
   "source": [
    "b = len(list(itertools.combinations(np.arange(4) , 2)))*(math.pow(0.3 , 2)) *(math.pow(0.7 , 2))\n",
    "print(b)"
   ],
   "metadata": {
    "collapsed": false,
    "pycharm": {
     "name": "#%%\n"
    }
   }
  },
  {
   "cell_type": "code",
   "execution_count": 427,
   "outputs": [
    {
     "name": "stdout",
     "output_type": "stream",
     "text": [
      "0.1503\n"
     ]
    }
   ],
   "source": [
    "print(1 - 0.8497)"
   ],
   "metadata": {
    "collapsed": false,
    "pycharm": {
     "name": "#%%\n"
    }
   }
  },
  {
   "cell_type": "code",
   "execution_count": 428,
   "outputs": [
    {
     "name": "stdout",
     "output_type": "stream",
     "text": [
      "0.11764899999999996\n"
     ]
    }
   ],
   "source": [
    "b = len(list(itertools.combinations(np.arange(6) , 0)))*(math.pow(0.3 , 0)) *(math.pow(0.7 , 6))\n",
    "print(b)"
   ],
   "metadata": {
    "collapsed": false,
    "pycharm": {
     "name": "#%%\n"
    }
   }
  },
  {
   "cell_type": "code",
   "execution_count": 429,
   "outputs": [
    {
     "name": "stdout",
     "output_type": "stream",
     "text": [
      "0.07351381799999998\n"
     ]
    }
   ],
   "source": [
    "b = len(list(itertools.combinations(np.arange(9) , 5)))*(math.pow(0.3 , 5)) *(math.pow(0.7 , 4))\n",
    "print(b)"
   ],
   "metadata": {
    "collapsed": false,
    "pycharm": {
     "name": "#%%\n"
    }
   }
  },
  {
   "cell_type": "code",
   "execution_count": 430,
   "outputs": [
    {
     "name": "stdout",
     "output_type": "stream",
     "text": [
      "P(x = 0 , y = 5) , s : 0.008648827173881995\n",
      "P(x = 1 , y = 4) , s : 0.05189296304329196\n",
      "P(x = 2 , y = 3) , s : 0.08648827173881993\n",
      "P(x = 3 , y = 2) , s : 0.04942186956503996\n",
      "P(x = 4 , y = 1) , s : 0.009266600543444992\n",
      "P(x = 5 , y = 0) , s : 0.0004118489130419996\n",
      "0.20613038097752084\n"
     ]
    }
   ],
   "source": [
    "sume = 0\n",
    "for x in range(6):\n",
    "    a = len(list(itertools.combinations(np.arange(6) , x)))*(math.pow(0.3 , x)) *(math.pow(0.7 , 6-x))\n",
    "    b = len(list(itertools.combinations(np.arange(9) , 5-x)))*(math.pow(0.3 , 5-x)) *(math.pow(0.7 , 9-(5-x)))\n",
    "    # print('a : {}'.format(a))\n",
    "    # print('b : {}'.format(b))\n",
    "    s = a*b\n",
    "    sume += s\n",
    "    print('P(x = {} , y = {}) , s : {}'.format(x , 5-x , s))\n",
    "print(sume)"
   ],
   "metadata": {
    "collapsed": false,
    "pycharm": {
     "name": "#%%\n"
    }
   }
  },
  {
   "cell_type": "code",
   "execution_count": 446,
   "outputs": [
    {
     "name": "stdout",
     "output_type": "stream",
     "text": [
      "P(x = 0 , y = 1) , s : 0.060530410499999965\n",
      "P(x = 1 , y = 0) , s : 0.060530410499999965\n",
      "0.12106082099999993\n",
      "0.9717524751000001\n"
     ]
    }
   ],
   "source": [
    "sume = 0\n",
    "for x in range(2):\n",
    "    a = len(list(itertools.combinations(np.arange(5) , x)))*(math.pow(0.3 , x)) *(math.pow(0.7 , 5-x))\n",
    "    b = len(list(itertools.combinations(np.arange(5) , 1-x)))*(math.pow(0.3 , 1-x)) *(math.pow(0.7 , 5-(1-x)))\n",
    "\n",
    "    s = a*b\n",
    "    sume += s\n",
    "    print('P(x = {} , y = {}) , s : {}'.format(x , 1-x , s))\n",
    "print(sume)\n",
    "\n",
    "\n",
    "print(1- len(list(itertools.combinations(np.arange(5) , 0)))*(math.pow(0.3 , 0)) *(math.pow(0.7 , 5))**2)"
   ],
   "metadata": {
    "collapsed": false,
    "pycharm": {
     "name": "#%%\n"
    }
   }
  },
  {
   "cell_type": "code",
   "execution_count": 451,
   "outputs": [
    {
     "name": "stdout",
     "output_type": "stream",
     "text": [
      "0.5\n",
      "0.689202437604511\n"
     ]
    }
   ],
   "source": [
    "print(10 * 0.05)\n",
    "print(math.sqrt(0.5 * 0.95))"
   ],
   "metadata": {
    "collapsed": false,
    "pycharm": {
     "name": "#%%\n"
    }
   }
  },
  {
   "cell_type": "code",
   "execution_count": 453,
   "outputs": [
    {
     "name": "stdout",
     "output_type": "stream",
     "text": [
      "0.271\n"
     ]
    }
   ],
   "source": [
    "print(0.406 - 0.135)"
   ],
   "metadata": {
    "collapsed": false,
    "pycharm": {
     "name": "#%%\n"
    }
   }
  },
  {
   "cell_type": "code",
   "execution_count": null,
   "outputs": [],
   "source": [],
   "metadata": {
    "collapsed": false,
    "pycharm": {
     "name": "#%%\n"
    }
   }
  }
 ],
 "metadata": {
  "kernelspec": {
   "display_name": "Python 3",
   "language": "python",
   "name": "python3"
  },
  "language_info": {
   "codemirror_mode": {
    "name": "ipython",
    "version": 2
   },
   "file_extension": ".py",
   "mimetype": "text/x-python",
   "name": "python",
   "nbconvert_exporter": "python",
   "pygments_lexer": "ipython2",
   "version": "2.7.6"
  }
 },
 "nbformat": 4,
 "nbformat_minor": 0
}